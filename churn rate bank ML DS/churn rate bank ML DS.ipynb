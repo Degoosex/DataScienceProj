{
 "cells": [
  {
   "cell_type": "markdown",
   "metadata": {
    "toc": true
   },
   "source": [
    "<h1>Содержание<span class=\"tocSkip\"></span></h1>\n",
    "<div class=\"toc\"><ul class=\"toc-item\"><li><span><a href=\"#Подготовка-данных\" data-toc-modified-id=\"Подготовка-данных-1\"><span class=\"toc-item-num\">1&nbsp;&nbsp;</span>Подготовка данных</a></span></li><li><span><a href=\"#Исследование-задачи\" data-toc-modified-id=\"Исследование-задачи-2\"><span class=\"toc-item-num\">2&nbsp;&nbsp;</span>Исследование задачи</a></span></li><li><span><a href=\"#Борьба-с-дисбалансом\" data-toc-modified-id=\"Борьба-с-дисбалансом-3\"><span class=\"toc-item-num\">3&nbsp;&nbsp;</span>Борьба с дисбалансом</a></span></li><li><span><a href=\"#Тестирование-модели\" data-toc-modified-id=\"Тестирование-модели-4\"><span class=\"toc-item-num\">4&nbsp;&nbsp;</span>Тестирование модели</a></span></li><li><span><a href=\"#Метрика-AUC-ROC\" data-toc-modified-id=\"Метрика-AUC-ROC-5\"><span class=\"toc-item-num\">5&nbsp;&nbsp;</span>Метрика AUC-ROC</a></span></li><li><span><a href=\"#Общий-вывод\" data-toc-modified-id=\"Общий-вывод-6\"><span class=\"toc-item-num\">6&nbsp;&nbsp;</span>Общий вывод</a></span></li><li><span><a href=\"#Чек-лист-готовности-проекта\" data-toc-modified-id=\"Чек-лист-готовности-проекта-7\"><span class=\"toc-item-num\">7&nbsp;&nbsp;</span>Чек-лист готовности проекта</a></span></li></ul></div>"
   ]
  },
  {
   "cell_type": "markdown",
   "metadata": {},
   "source": [
    "# Отток клиентов"
   ]
  },
  {
   "cell_type": "markdown",
   "metadata": {},
   "source": [
    "Из «Бета-Банка» стали уходить клиенты. Каждый месяц. Немного, но заметно. Банковские маркетологи посчитали: сохранять текущих клиентов дешевле, чем привлекать новых.\n",
    "\n",
    "Нужно спрогнозировать, уйдёт клиент из банка в ближайшее время или нет. Вам предоставлены исторические данные о поведении клиентов и расторжении договоров с банком. \n",
    "\n",
    "Постройте модель с предельно большим значением *F1*-меры. Чтобы сдать проект успешно, нужно довести метрику до 0.59. Проверьте *F1*-меру на тестовой выборке самостоятельно.\n",
    "\n",
    "Дополнительно измеряйте *AUC-ROC*, сравнивайте её значение с *F1*-мерой.\n",
    "\n",
    "Источник данных: [https://www.kaggle.com/barelydedicated/bank-customer-churn-modeling](https://www.kaggle.com/barelydedicated/bank-customer-churn-modeling)"
   ]
  },
  {
   "cell_type": "markdown",
   "metadata": {},
   "source": [
    "# Описание данных\n",
    "\n",
    "<b>Признаки</b>\\\n",
    "RowNumber — индекс строки в данных\\\n",
    "CustomerId — уникальный идентификатор клиента\\\n",
    "Surname — фамилия\\\n",
    "CreditScore — кредитный рейтинг\\\n",
    "Geography — страна проживания\\\n",
    "Gender — пол\\\n",
    "Age — возраст\\\n",
    "Tenure — сколько лет человек является клиентом банка\\\n",
    "Balance — баланс на счёте\\\n",
    "NumOfProducts — количество продуктов банка, используемых клиентом\\\n",
    "HasCrCard — наличие кредитной карты\\\n",
    "IsActiveMember — активность клиента\\\n",
    "EstimatedSalary — предполагаемая зарплата\n",
    "\n",
    "<b>Целевой признак</b>\\\n",
    "Exited — факт ухода клиента"
   ]
  },
  {
   "cell_type": "markdown",
   "metadata": {},
   "source": [
    "## Подготовка данных"
   ]
  },
  {
   "cell_type": "markdown",
   "metadata": {},
   "source": [
    "Загрузите и подготовьте данные. Поясните порядок действий."
   ]
  },
  {
   "cell_type": "code",
   "execution_count": 1,
   "metadata": {},
   "outputs": [],
   "source": [
    "import pandas as pd\n",
    "import seaborn as sns\n",
    "import numpy as np\n",
    "import matplotlib.pyplot as plt\n",
    "from sklearn.model_selection import train_test_split, GridSearchCV\n",
    "from sklearn.metrics import accuracy_score, recall_score, precision_score, confusion_matrix, f1_score, roc_curve, roc_auc_score\n",
    "from sklearn.ensemble import RandomForestClassifier\n",
    "from sklearn.tree import DecisionTreeClassifier\n",
    "from sklearn.linear_model import LogisticRegression\n",
    "from sklearn.preprocessing import StandardScaler\n",
    "from sklearn.utils import shuffle\n",
    "pd.options.display.float_format = '{:,.2f}'.format"
   ]
  },
  {
   "cell_type": "code",
   "execution_count": 2,
   "metadata": {},
   "outputs": [],
   "source": [
    "data = pd.read_csv('/datasets/Churn.csv')"
   ]
  },
  {
   "cell_type": "code",
   "execution_count": 3,
   "metadata": {},
   "outputs": [
    {
     "data": {
      "text/html": [
       "<div>\n",
       "<style scoped>\n",
       "    .dataframe tbody tr th:only-of-type {\n",
       "        vertical-align: middle;\n",
       "    }\n",
       "\n",
       "    .dataframe tbody tr th {\n",
       "        vertical-align: top;\n",
       "    }\n",
       "\n",
       "    .dataframe thead th {\n",
       "        text-align: right;\n",
       "    }\n",
       "</style>\n",
       "<table border=\"1\" class=\"dataframe\">\n",
       "  <thead>\n",
       "    <tr style=\"text-align: right;\">\n",
       "      <th></th>\n",
       "      <th>RowNumber</th>\n",
       "      <th>CustomerId</th>\n",
       "      <th>Surname</th>\n",
       "      <th>CreditScore</th>\n",
       "      <th>Geography</th>\n",
       "      <th>Gender</th>\n",
       "      <th>Age</th>\n",
       "      <th>Tenure</th>\n",
       "      <th>Balance</th>\n",
       "      <th>NumOfProducts</th>\n",
       "      <th>HasCrCard</th>\n",
       "      <th>IsActiveMember</th>\n",
       "      <th>EstimatedSalary</th>\n",
       "      <th>Exited</th>\n",
       "    </tr>\n",
       "  </thead>\n",
       "  <tbody>\n",
       "    <tr>\n",
       "      <th>0</th>\n",
       "      <td>1</td>\n",
       "      <td>15634602</td>\n",
       "      <td>Hargrave</td>\n",
       "      <td>619</td>\n",
       "      <td>France</td>\n",
       "      <td>Female</td>\n",
       "      <td>42</td>\n",
       "      <td>2.00</td>\n",
       "      <td>0.00</td>\n",
       "      <td>1</td>\n",
       "      <td>1</td>\n",
       "      <td>1</td>\n",
       "      <td>101,348.88</td>\n",
       "      <td>1</td>\n",
       "    </tr>\n",
       "    <tr>\n",
       "      <th>1</th>\n",
       "      <td>2</td>\n",
       "      <td>15647311</td>\n",
       "      <td>Hill</td>\n",
       "      <td>608</td>\n",
       "      <td>Spain</td>\n",
       "      <td>Female</td>\n",
       "      <td>41</td>\n",
       "      <td>1.00</td>\n",
       "      <td>83,807.86</td>\n",
       "      <td>1</td>\n",
       "      <td>0</td>\n",
       "      <td>1</td>\n",
       "      <td>112,542.58</td>\n",
       "      <td>0</td>\n",
       "    </tr>\n",
       "    <tr>\n",
       "      <th>2</th>\n",
       "      <td>3</td>\n",
       "      <td>15619304</td>\n",
       "      <td>Onio</td>\n",
       "      <td>502</td>\n",
       "      <td>France</td>\n",
       "      <td>Female</td>\n",
       "      <td>42</td>\n",
       "      <td>8.00</td>\n",
       "      <td>159,660.80</td>\n",
       "      <td>3</td>\n",
       "      <td>1</td>\n",
       "      <td>0</td>\n",
       "      <td>113,931.57</td>\n",
       "      <td>1</td>\n",
       "    </tr>\n",
       "    <tr>\n",
       "      <th>3</th>\n",
       "      <td>4</td>\n",
       "      <td>15701354</td>\n",
       "      <td>Boni</td>\n",
       "      <td>699</td>\n",
       "      <td>France</td>\n",
       "      <td>Female</td>\n",
       "      <td>39</td>\n",
       "      <td>1.00</td>\n",
       "      <td>0.00</td>\n",
       "      <td>2</td>\n",
       "      <td>0</td>\n",
       "      <td>0</td>\n",
       "      <td>93,826.63</td>\n",
       "      <td>0</td>\n",
       "    </tr>\n",
       "    <tr>\n",
       "      <th>4</th>\n",
       "      <td>5</td>\n",
       "      <td>15737888</td>\n",
       "      <td>Mitchell</td>\n",
       "      <td>850</td>\n",
       "      <td>Spain</td>\n",
       "      <td>Female</td>\n",
       "      <td>43</td>\n",
       "      <td>2.00</td>\n",
       "      <td>125,510.82</td>\n",
       "      <td>1</td>\n",
       "      <td>1</td>\n",
       "      <td>1</td>\n",
       "      <td>79,084.10</td>\n",
       "      <td>0</td>\n",
       "    </tr>\n",
       "  </tbody>\n",
       "</table>\n",
       "</div>"
      ],
      "text/plain": [
       "   RowNumber  CustomerId   Surname  CreditScore Geography  Gender  Age  \\\n",
       "0          1    15634602  Hargrave          619    France  Female   42   \n",
       "1          2    15647311      Hill          608     Spain  Female   41   \n",
       "2          3    15619304      Onio          502    France  Female   42   \n",
       "3          4    15701354      Boni          699    France  Female   39   \n",
       "4          5    15737888  Mitchell          850     Spain  Female   43   \n",
       "\n",
       "   Tenure    Balance  NumOfProducts  HasCrCard  IsActiveMember  \\\n",
       "0    2.00       0.00              1          1               1   \n",
       "1    1.00  83,807.86              1          0               1   \n",
       "2    8.00 159,660.80              3          1               0   \n",
       "3    1.00       0.00              2          0               0   \n",
       "4    2.00 125,510.82              1          1               1   \n",
       "\n",
       "   EstimatedSalary  Exited  \n",
       "0       101,348.88       1  \n",
       "1       112,542.58       0  \n",
       "2       113,931.57       1  \n",
       "3        93,826.63       0  \n",
       "4        79,084.10       0  "
      ]
     },
     "execution_count": 3,
     "metadata": {},
     "output_type": "execute_result"
    }
   ],
   "source": [
    "data.head() # смотрим "
   ]
  },
  {
   "cell_type": "code",
   "execution_count": 4,
   "metadata": {},
   "outputs": [
    {
     "name": "stdout",
     "output_type": "stream",
     "text": [
      "<class 'pandas.core.frame.DataFrame'>\n",
      "RangeIndex: 10000 entries, 0 to 9999\n",
      "Data columns (total 14 columns):\n",
      " #   Column           Non-Null Count  Dtype  \n",
      "---  ------           --------------  -----  \n",
      " 0   RowNumber        10000 non-null  int64  \n",
      " 1   CustomerId       10000 non-null  int64  \n",
      " 2   Surname          10000 non-null  object \n",
      " 3   CreditScore      10000 non-null  int64  \n",
      " 4   Geography        10000 non-null  object \n",
      " 5   Gender           10000 non-null  object \n",
      " 6   Age              10000 non-null  int64  \n",
      " 7   Tenure           9091 non-null   float64\n",
      " 8   Balance          10000 non-null  float64\n",
      " 9   NumOfProducts    10000 non-null  int64  \n",
      " 10  HasCrCard        10000 non-null  int64  \n",
      " 11  IsActiveMember   10000 non-null  int64  \n",
      " 12  EstimatedSalary  10000 non-null  float64\n",
      " 13  Exited           10000 non-null  int64  \n",
      "dtypes: float64(3), int64(8), object(3)\n",
      "memory usage: 1.1+ MB\n"
     ]
    }
   ],
   "source": [
    "data.info() # информация о файле"
   ]
  },
  {
   "cell_type": "markdown",
   "metadata": {},
   "source": [
    "Сразу видим присутствие пропусков в столбце Tenure, заголовки некрасиво написаны, есть ненужные столбцы, которые в нашей модели не пригодятся: 'RowNumber', 'CustomerId', 'Surname'. Попробуем дальше проверить данные на дубликаты, обработаем пропуски, удалим столбцы. Так же посмотрим на столбец Exited, сколько людей покинуло банк."
   ]
  },
  {
   "cell_type": "code",
   "execution_count": 5,
   "metadata": {},
   "outputs": [
    {
     "data": {
      "image/png": "[encoded data removed]",
      "text/plain": [
       "<Figure size 1296x288 with 1 Axes>"
      ]
     },
     "metadata": {
      "needs_background": "light"
     },
     "output_type": "display_data"
    }
   ],
   "source": [
    "data['Exited'].value_counts().plot(kind='bar',grid=True,figsize=(18,4));"
   ]
  },
  {
   "cell_type": "markdown",
   "metadata": {},
   "source": [
    "Почти четверть покинула банк в наших данных может указывать на явный дисбаланс в данных. Оставим на будущее этот момент."
   ]
  },
  {
   "cell_type": "code",
   "execution_count": 6,
   "metadata": {},
   "outputs": [
    {
     "data": {
      "text/plain": [
       "0"
      ]
     },
     "execution_count": 6,
     "metadata": {},
     "output_type": "execute_result"
    }
   ],
   "source": [
    "data.duplicated().sum() # проверим на явные дубликаты"
   ]
  },
  {
   "cell_type": "code",
   "execution_count": 7,
   "metadata": {},
   "outputs": [],
   "source": [
    "data = data.drop(['RowNumber', 'CustomerId', 'Surname'], axis = 1) # удалим ненужные стобцы"
   ]
  },
  {
   "cell_type": "code",
   "execution_count": 8,
   "metadata": {},
   "outputs": [],
   "source": [
    "data.columns = data.columns.str.lower() # изменим регистр заголовков на нижний"
   ]
  },
  {
   "cell_type": "code",
   "execution_count": 9,
   "metadata": {},
   "outputs": [],
   "source": [
    "# переименуем оставшиеся столбцы \n",
    "data = data.rename(\n",
    "    columns={\n",
    "        'creditscore':'credit_score', \n",
    "        'numofproducts':'num_of_products',        \n",
    "        'hascrcard':'has_cr_card',\n",
    "        'isactivemember':'is_active_member',\n",
    "        'estimatedsalary':'estimated_salary',\n",
    "    } \n",
    ")"
   ]
  },
  {
   "cell_type": "code",
   "execution_count": 10,
   "metadata": {},
   "outputs": [
    {
     "data": {
      "text/plain": [
       "Index(['credit_score', 'geography', 'gender', 'age', 'tenure', 'balance',\n",
       "       'num_of_products', 'has_cr_card', 'is_active_member',\n",
       "       'estimated_salary', 'exited'],\n",
       "      dtype='object')"
      ]
     },
     "execution_count": 10,
     "metadata": {},
     "output_type": "execute_result"
    }
   ],
   "source": [
    "data.columns # смотрим результат"
   ]
  },
  {
   "cell_type": "markdown",
   "metadata": {},
   "source": [
    "Пропусков в данных примерно 10%, поэтому удалить мы их не можем. Разумным решением будет их замена на медиану."
   ]
  },
  {
   "cell_type": "code",
   "execution_count": 11,
   "metadata": {},
   "outputs": [],
   "source": [
    "data['tenure'] = data['tenure'].fillna(data['tenure'].median()) # замена на медиану"
   ]
  },
  {
   "cell_type": "code",
   "execution_count": 12,
   "metadata": {},
   "outputs": [
    {
     "data": {
      "text/plain": [
       "credit_score        0\n",
       "geography           0\n",
       "gender              0\n",
       "age                 0\n",
       "tenure              0\n",
       "balance             0\n",
       "num_of_products     0\n",
       "has_cr_card         0\n",
       "is_active_member    0\n",
       "estimated_salary    0\n",
       "exited              0\n",
       "dtype: int64"
      ]
     },
     "execution_count": 12,
     "metadata": {},
     "output_type": "execute_result"
    }
   ],
   "source": [
    "data.isna().sum() # проверка"
   ]
  },
  {
   "cell_type": "markdown",
   "metadata": {},
   "source": [
    "Первичная предобработка готова, но для использования в модели нам необходимо избавиться от категоральных признаков. Используем pd.get_dummies."
   ]
  },
  {
   "cell_type": "code",
   "execution_count": 13,
   "metadata": {},
   "outputs": [],
   "source": [
    "data = pd.get_dummies(data, drop_first=True) # заменяем столбцы для модели"
   ]
  },
  {
   "cell_type": "code",
   "execution_count": 14,
   "metadata": {},
   "outputs": [
    {
     "data": {
      "text/html": [
       "<div>\n",
       "<style scoped>\n",
       "    .dataframe tbody tr th:only-of-type {\n",
       "        vertical-align: middle;\n",
       "    }\n",
       "\n",
       "    .dataframe tbody tr th {\n",
       "        vertical-align: top;\n",
       "    }\n",
       "\n",
       "    .dataframe thead th {\n",
       "        text-align: right;\n",
       "    }\n",
       "</style>\n",
       "<table border=\"1\" class=\"dataframe\">\n",
       "  <thead>\n",
       "    <tr style=\"text-align: right;\">\n",
       "      <th></th>\n",
       "      <th>credit_score</th>\n",
       "      <th>age</th>\n",
       "      <th>tenure</th>\n",
       "      <th>balance</th>\n",
       "      <th>num_of_products</th>\n",
       "      <th>has_cr_card</th>\n",
       "      <th>is_active_member</th>\n",
       "      <th>estimated_salary</th>\n",
       "      <th>exited</th>\n",
       "      <th>geography_Germany</th>\n",
       "      <th>geography_Spain</th>\n",
       "      <th>gender_Male</th>\n",
       "    </tr>\n",
       "  </thead>\n",
       "  <tbody>\n",
       "    <tr>\n",
       "      <th>0</th>\n",
       "      <td>619</td>\n",
       "      <td>42</td>\n",
       "      <td>2.00</td>\n",
       "      <td>0.00</td>\n",
       "      <td>1</td>\n",
       "      <td>1</td>\n",
       "      <td>1</td>\n",
       "      <td>101,348.88</td>\n",
       "      <td>1</td>\n",
       "      <td>0</td>\n",
       "      <td>0</td>\n",
       "      <td>0</td>\n",
       "    </tr>\n",
       "    <tr>\n",
       "      <th>1</th>\n",
       "      <td>608</td>\n",
       "      <td>41</td>\n",
       "      <td>1.00</td>\n",
       "      <td>83,807.86</td>\n",
       "      <td>1</td>\n",
       "      <td>0</td>\n",
       "      <td>1</td>\n",
       "      <td>112,542.58</td>\n",
       "      <td>0</td>\n",
       "      <td>0</td>\n",
       "      <td>1</td>\n",
       "      <td>0</td>\n",
       "    </tr>\n",
       "    <tr>\n",
       "      <th>2</th>\n",
       "      <td>502</td>\n",
       "      <td>42</td>\n",
       "      <td>8.00</td>\n",
       "      <td>159,660.80</td>\n",
       "      <td>3</td>\n",
       "      <td>1</td>\n",
       "      <td>0</td>\n",
       "      <td>113,931.57</td>\n",
       "      <td>1</td>\n",
       "      <td>0</td>\n",
       "      <td>0</td>\n",
       "      <td>0</td>\n",
       "    </tr>\n",
       "    <tr>\n",
       "      <th>3</th>\n",
       "      <td>699</td>\n",
       "      <td>39</td>\n",
       "      <td>1.00</td>\n",
       "      <td>0.00</td>\n",
       "      <td>2</td>\n",
       "      <td>0</td>\n",
       "      <td>0</td>\n",
       "      <td>93,826.63</td>\n",
       "      <td>0</td>\n",
       "      <td>0</td>\n",
       "      <td>0</td>\n",
       "      <td>0</td>\n",
       "    </tr>\n",
       "    <tr>\n",
       "      <th>4</th>\n",
       "      <td>850</td>\n",
       "      <td>43</td>\n",
       "      <td>2.00</td>\n",
       "      <td>125,510.82</td>\n",
       "      <td>1</td>\n",
       "      <td>1</td>\n",
       "      <td>1</td>\n",
       "      <td>79,084.10</td>\n",
       "      <td>0</td>\n",
       "      <td>0</td>\n",
       "      <td>1</td>\n",
       "      <td>0</td>\n",
       "    </tr>\n",
       "  </tbody>\n",
       "</table>\n",
       "</div>"
      ],
      "text/plain": [
       "   credit_score  age  tenure    balance  num_of_products  has_cr_card  \\\n",
       "0           619   42    2.00       0.00                1            1   \n",
       "1           608   41    1.00  83,807.86                1            0   \n",
       "2           502   42    8.00 159,660.80                3            1   \n",
       "3           699   39    1.00       0.00                2            0   \n",
       "4           850   43    2.00 125,510.82                1            1   \n",
       "\n",
       "   is_active_member  estimated_salary  exited  geography_Germany  \\\n",
       "0                 1        101,348.88       1                  0   \n",
       "1                 1        112,542.58       0                  0   \n",
       "2                 0        113,931.57       1                  0   \n",
       "3                 0         93,826.63       0                  0   \n",
       "4                 1         79,084.10       0                  0   \n",
       "\n",
       "   geography_Spain  gender_Male  \n",
       "0                0            0  \n",
       "1                1            0  \n",
       "2                0            0  \n",
       "3                0            0  \n",
       "4                1            0  "
      ]
     },
     "execution_count": 14,
     "metadata": {},
     "output_type": "execute_result"
    }
   ],
   "source": [
    "data.head() # проверка "
   ]
  },
  {
   "cell_type": "markdown",
   "metadata": {},
   "source": [
    "Готово. Теперь разделим выборку на учебную, валидационную и тестовую по правилу 60-20-20."
   ]
  },
  {
   "cell_type": "code",
   "execution_count": 15,
   "metadata": {},
   "outputs": [],
   "source": [
    "features = data.drop(['exited'], axis=1) # параметры\n",
    "target = data['exited'] # целевой параметр"
   ]
  },
  {
   "cell_type": "code",
   "execution_count": 16,
   "metadata": {},
   "outputs": [],
   "source": [
    "features_train, features_valid_test, target_train, target_valid_test = train_test_split(\n",
    "    features, target, test_size=0.6, random_state=12345) # разделение на тренировочную"
   ]
  },
  {
   "cell_type": "code",
   "execution_count": 17,
   "metadata": {},
   "outputs": [],
   "source": [
    "features_valid, features_test, target_valid, target_test = train_test_split(\n",
    "    features_valid_test, target_valid_test, test_size=0.2, random_state=12345) # разделение на тестовую и валидационную"
   ]
  },
  {
   "cell_type": "markdown",
   "metadata": {},
   "source": [
    "Мы разделили выборки и теперь можем переходить к следующему шагу."
   ]
  },
  {
   "cell_type": "markdown",
   "metadata": {},
   "source": [
    "## Исследование задачи"
   ]
  },
  {
   "cell_type": "markdown",
   "metadata": {},
   "source": [
    "Для исследования модели без учета дисбаланса классов сначала стандартизируем данные с помощью StandardScaler и настроим его на тренировочных данных, после этого преобразуем тренировочную и валидационную выборки."
   ]
  },
  {
   "cell_type": "code",
   "execution_count": 18,
   "metadata": {},
   "outputs": [],
   "source": [
    "pd.options.mode.chained_assignment = None\n",
    "numeric = ['credit_score', 'age', 'tenure', 'balance', 'num_of_products', 'estimated_salary'] # столбцы с нужными для преобр. данными\n",
    " \n",
    "scaler = StandardScaler() \n",
    "scaler.fit(features_train[numeric]) # настройка \n",
    "features_train[numeric] = scaler.transform(features_train[numeric]) #изменяем тренировочные и валидационные данные и тестовые\n",
    "features_valid[numeric] = scaler.transform(features_valid[numeric])\n",
    "features_test[numeric] = scaler.transform(features_test[numeric])"
   ]
  },
  {
   "cell_type": "markdown",
   "metadata": {},
   "source": [
    "Теперь обучим логистическую модель согласно новым взвешеным данным и вычислим accuracy, recall, precision и F1 меру."
   ]
  },
  {
   "cell_type": "code",
   "execution_count": 19,
   "metadata": {},
   "outputs": [],
   "source": [
    "def model_lr(feature, target):\n",
    "    model_lr = LogisticRegression(random_state=12345, solver='liblinear')\n",
    "    model_lr.fit(feature, target)\n",
    "    predicted_valid = model_lr.predict(features_valid)\n",
    "    print(' Accuracy', accuracy_score(target_valid, predicted_valid), '\\n', \n",
    "      \"F1:\", f1_score(target_valid, predicted_valid), '\\n', \n",
    "      'Recall:', recall_score(target_valid, predicted_valid),'\\n', \n",
    "      'Presicion:', precision_score(target_valid, predicted_valid))"
   ]
  },
  {
   "cell_type": "code",
   "execution_count": 20,
   "metadata": {},
   "outputs": [
    {
     "name": "stdout",
     "output_type": "stream",
     "text": [
      " Accuracy 0.811875 \n",
      " F1: 0.32561613144137413 \n",
      " Recall: 0.23191489361702128 \n",
      " Presicion: 0.5463659147869674\n"
     ]
    }
   ],
   "source": [
    "model_lr = LogisticRegression(random_state=12345, solver='liblinear')\n",
    "model_lr.fit(features_train, target_train)\n",
    "predicted_valid = model_lr.predict(features_valid)\n",
    "print(' Accuracy', accuracy_score(target_valid, predicted_valid), '\\n', \n",
    "      \"F1:\", f1_score(target_valid, predicted_valid), '\\n', \n",
    "      'Recall:', recall_score(target_valid, predicted_valid),'\\n', \n",
    "      'Presicion:', precision_score(target_valid, predicted_valid))"
   ]
  },
  {
   "cell_type": "markdown",
   "metadata": {},
   "source": [
    "Сразу обучим случайный лес и дерево решений, найдя лучшие гиперпараметры с помощью GridSearchCV и распечатаем результаты."
   ]
  },
  {
   "cell_type": "code",
   "execution_count": 21,
   "metadata": {},
   "outputs": [
    {
     "name": "stdout",
     "output_type": "stream",
     "text": [
      " Accuracy 0.8545833333333334 \n",
      " F1: 0.556543837357052 \n",
      " Recall: 0.46595744680851064 \n",
      " Presicion: 0.6908517350157729\n",
      "CPU times: user 4.26 s, sys: 11.7 ms, total: 4.28 s\n",
      "Wall time: 4.28 s\n"
     ]
    }
   ],
   "source": [
    "%%time\n",
    "max_depth = [int(x) for x in np.linspace(1,50)] # дерево решений от 1 до 50\n",
    "rf_grid = {'max_depth': max_depth}\n",
    "model_dtc = GridSearchCV(DecisionTreeClassifier(random_state=12345), rf_grid, scoring = 'f1', cv = 5)\n",
    "model_dtc.fit(features_train, target_train)\n",
    "predicted_valid = model_dtc.predict(features_valid)\n",
    "result = model_dtc.score(features_valid, target_valid)\n",
    "print(' Accuracy', accuracy_score(target_valid, predicted_valid), '\\n', \n",
    "      \"F1:\", f1_score(target_valid, predicted_valid), '\\n', \n",
    "      'Recall:', recall_score(target_valid, predicted_valid),'\\n', \n",
    "      'Presicion:', precision_score(target_valid, predicted_valid))\n"
   ]
  },
  {
   "cell_type": "code",
   "execution_count": 22,
   "metadata": {
    "scrolled": true
   },
   "outputs": [
    {
     "name": "stdout",
     "output_type": "stream",
     "text": [
      " Accuracy 0.8545833333333334 \n",
      " F1: 0.541994750656168 \n",
      " Recall: 0.43936170212765957 \n",
      " Presicion: 0.7071917808219178\n",
      "CPU times: user 1min 2s, sys: 386 ms, total: 1min 3s\n",
      "Wall time: 1min 3s\n"
     ]
    }
   ],
   "source": [
    "%%time\n",
    "n_estimators = [int(x) for x in np.linspace(start = 1, stop = 51, num = 10)] # случайный лес от 1 до 50\n",
    "max_depth = [int(x) for x in np.linspace(1, 16, num = 15)]\n",
    "rf_grid = {'n_estimators': n_estimators, 'max_depth': max_depth}\n",
    "model_rfc = GridSearchCV(RandomForestClassifier(random_state=12345), rf_grid, scoring = 'f1')\n",
    "model_rfc.fit(features_train, target_train)\n",
    "predicted_valid = model_rfc.predict(features_valid)\n",
    "result = model_rfc.score(features_valid, target_valid)\n",
    "print(' Accuracy', accuracy_score(target_valid, predicted_valid), '\\n', \n",
    "      \"F1:\", f1_score(target_valid, predicted_valid), '\\n', \n",
    "      'Recall:', recall_score(target_valid, predicted_valid),'\\n', \n",
    "      'Presicion:', precision_score(target_valid, predicted_valid))"
   ]
  },
  {
   "cell_type": "markdown",
   "metadata": {},
   "source": [
    "После испытания трех алгоритмов лучший результат показало дерево решений, где F1 равна 0,55. У случайного дерева очень близко значение равное 0,54, а у логистической регрессии  хуже всего - 0,32. Дальше попробуем разобраться с дисбалансом и посмотрим на результаты."
   ]
  },
  {
   "cell_type": "code",
   "execution_count": 23,
   "metadata": {},
   "outputs": [
    {
     "data": {
      "text/plain": [
       "0.7547175063388821"
      ]
     },
     "execution_count": 23,
     "metadata": {},
     "output_type": "execute_result"
    }
   ],
   "source": [
    "probabilities_lr=model_lr.predict_proba(features_valid) # рассчеты для логистической регрессии\n",
    "probabilities_one_valid_lr=probabilities_lr[:,1]\n",
    "auc_roc_lr=roc_auc_score(target_valid,probabilities_one_valid_lr) #рассчет площади\n",
    "auc_roc_lr"
   ]
  },
  {
   "cell_type": "code",
   "execution_count": 24,
   "metadata": {},
   "outputs": [
    {
     "data": {
      "text/plain": [
       "0.8415516481093595"
      ]
     },
     "execution_count": 24,
     "metadata": {},
     "output_type": "execute_result"
    }
   ],
   "source": [
    "probabilities_dtc=model_dtc.predict_proba(features_valid) # рассчеты для дерева решений\n",
    "probabilities_one_valid_dtc=probabilities_dtc[:,1]\n",
    "auc_roc_dtc=roc_auc_score(target_valid,probabilities_one_valid_dtc) #рассчет площади\n",
    "auc_roc_dtc"
   ]
  },
  {
   "cell_type": "code",
   "execution_count": 25,
   "metadata": {},
   "outputs": [
    {
     "data": {
      "text/plain": [
       "0.8279439973542057"
      ]
     },
     "execution_count": 25,
     "metadata": {},
     "output_type": "execute_result"
    }
   ],
   "source": [
    "probabilities_rfc=model_rfc.predict_proba(features_valid) # рассчеты для случайного леса\n",
    "probabilities_one_valid_rfc=probabilities_rfc[:,1]\n",
    "auc_roc_rfc=roc_auc_score(target_valid,probabilities_one_valid_rfc) #рассчет площади\n",
    "auc_roc_rfc"
   ]
  },
  {
   "cell_type": "markdown",
   "metadata": {},
   "source": [
    "При оценке моделей auc-roc получили следующие значения:\n",
    "- у линейной регрессии 0,754\n",
    "- у дерева решений 0,841\n",
    "- у случайного леса 0,827"
   ]
  },
  {
   "cell_type": "markdown",
   "metadata": {},
   "source": [
    "## Борьба с дисбалансом"
   ]
  },
  {
   "cell_type": "markdown",
   "metadata": {},
   "source": [
    "\n",
    "В начале указано, что тех, кто ушли из банка клиентов меньше в 4 раза. Попробуем произвести upsampling, увеличив долю ушедших в 4 раза, не забыв перемешать, чтобы данные были рандомизироваными. Создадим функцию:"
   ]
  },
  {
   "cell_type": "code",
   "execution_count": 26,
   "metadata": {},
   "outputs": [],
   "source": [
    "# функция upsampling\n",
    "def upsample(features, target, repeat):\n",
    "    features_zeros = features[target == 0]\n",
    "    features_ones = features[target == 1]\n",
    "    target_zeros = target[target == 0]\n",
    "    target_ones = target[target == 1]\n",
    "\n",
    "    features_upsampled = pd.concat([features_zeros] + [features_ones] * repeat)\n",
    "    target_upsampled = pd.concat([target_zeros] + [target_ones] * repeat)\n",
    "    \n",
    "    features_upsampled, target_upsampled = shuffle(\n",
    "        features_upsampled, target_upsampled, random_state=12345)\n",
    "    \n",
    "    return features_upsampled, target_upsampled"
   ]
  },
  {
   "cell_type": "code",
   "execution_count": 27,
   "metadata": {},
   "outputs": [],
   "source": [
    "features_upsampled, target_upsampled = upsample(features_train, target_train, 4) # увеличиваем "
   ]
  },
  {
   "cell_type": "markdown",
   "metadata": {},
   "source": [
    "Теперь попробуем обучить модель на увеличенной выборке и посмотрим результат"
   ]
  },
  {
   "cell_type": "code",
   "execution_count": 28,
   "metadata": {},
   "outputs": [
    {
     "name": "stdout",
     "output_type": "stream",
     "text": [
      " Accuracy 0.6979166666666666 \n",
      " F1: 0.4708029197080292 \n",
      " Recall: 0.6861702127659575 \n",
      " Presicion: 0.35833333333333334\n"
     ]
    }
   ],
   "source": [
    "model_lr = LogisticRegression(random_state=12345, solver='liblinear', class_weight='balanced')\n",
    "model_lr.fit(features_upsampled, target_upsampled)\n",
    "predicted_valid = model_lr.predict(features_valid)\n",
    "print(' Accuracy', accuracy_score(target_valid, predicted_valid), '\\n', \n",
    "      \"F1:\", f1_score(target_valid, predicted_valid), '\\n', \n",
    "      'Recall:', recall_score(target_valid, predicted_valid),'\\n', \n",
    "      'Presicion:', precision_score(target_valid, predicted_valid))"
   ]
  },
  {
   "cell_type": "code",
   "execution_count": 29,
   "metadata": {},
   "outputs": [
    {
     "name": "stdout",
     "output_type": "stream",
     "text": [
      " Accuracy 0.7866666666666666 \n",
      " F1: 0.47914547304170907 \n",
      " Recall: 0.5010638297872341 \n",
      " Presicion: 0.4590643274853801\n",
      "CPU times: user 5.82 s, sys: 4.02 ms, total: 5.82 s\n",
      "Wall time: 5.83 s\n"
     ]
    }
   ],
   "source": [
    "%%time\n",
    "max_depth = [int(x) for x in np.linspace(1, 51, num = 50)] # дерево решений от 1 до 50\n",
    "rf_grid = {'max_depth': max_depth}\n",
    "model_dtc = GridSearchCV(DecisionTreeClassifier(random_state=12345, class_weight='balanced'), rf_grid, scoring = 'f1', cv = 5)\n",
    "model_dtc.fit(features_upsampled, target_upsampled)\n",
    "predicted_valid = model_dtc.predict(features_valid)\n",
    "result = model_dtc.score(features_valid, target_valid)\n",
    "print(' Accuracy', accuracy_score(target_valid, predicted_valid), '\\n', \n",
    "      \"F1:\", f1_score(target_valid, predicted_valid), '\\n', \n",
    "      'Recall:', recall_score(target_valid, predicted_valid),'\\n', \n",
    "      'Presicion:', precision_score(target_valid, predicted_valid))\n"
   ]
  },
  {
   "cell_type": "code",
   "execution_count": 30,
   "metadata": {},
   "outputs": [
    {
     "name": "stdout",
     "output_type": "stream",
     "text": [
      " Accuracy 0.84875 \n",
      " F1: 0.5774155995343423 \n",
      " Recall: 0.5276595744680851 \n",
      " Presicion: 0.6375321336760925\n",
      "CPU times: user 30.7 s, sys: 208 ms, total: 30.9 s\n",
      "Wall time: 30.9 s\n"
     ]
    }
   ],
   "source": [
    "%%time\n",
    "n_estimators = [int(x) for x in np.linspace(start = 1, stop = 51, num = 10)] # случайный лес от 1 до 50\n",
    "max_depth = [int(x) for x in np.linspace(1, 26, num = 5)]\n",
    "rf_grid = {'n_estimators': n_estimators, 'max_depth': max_depth}\n",
    "model_rfc = GridSearchCV(RandomForestClassifier(random_state=12345, class_weight='balanced'), rf_grid, scoring = 'f1')\n",
    "model_rfc.fit(features_upsampled, target_upsampled)\n",
    "predicted_valid = model_rfc.predict(features_valid)\n",
    "result = model_rfc.score(features_valid, target_valid)\n",
    "print(' Accuracy', accuracy_score(target_valid, predicted_valid), '\\n', \n",
    "      \"F1:\", f1_score(target_valid, predicted_valid), '\\n', \n",
    "      'Recall:', recall_score(target_valid, predicted_valid),'\\n', \n",
    "      'Presicion:', precision_score(target_valid, predicted_valid))"
   ]
  },
  {
   "cell_type": "code",
   "execution_count": 31,
   "metadata": {},
   "outputs": [
    {
     "data": {
      "text/plain": [
       "0.7586638738838055"
      ]
     },
     "execution_count": 31,
     "metadata": {},
     "output_type": "execute_result"
    }
   ],
   "source": [
    "probabilities_lr=model_lr.predict_proba(features_valid) # рассчеты для логистической регрессии\n",
    "probabilities_one_valid_lr=probabilities_lr[:,1]\n",
    "auc_roc_lr=roc_auc_score(target_valid,probabilities_one_valid_lr) #рассчет площади\n",
    "auc_roc_lr"
   ]
  },
  {
   "cell_type": "code",
   "execution_count": 32,
   "metadata": {},
   "outputs": [
    {
     "data": {
      "text/plain": [
       "0.6786407231837724"
      ]
     },
     "execution_count": 32,
     "metadata": {},
     "output_type": "execute_result"
    }
   ],
   "source": [
    "probabilities_dtc=model_dtc.predict_proba(features_valid) # рассчеты для дерева решений\n",
    "probabilities_one_valid_dtc=probabilities_dtc[:,1]\n",
    "auc_roc_dtc=roc_auc_score(target_valid,probabilities_one_valid_dtc) #рассчет площади\n",
    "auc_roc_dtc"
   ]
  },
  {
   "cell_type": "code",
   "execution_count": 33,
   "metadata": {},
   "outputs": [
    {
     "data": {
      "text/plain": [
       "0.8313971723073531"
      ]
     },
     "execution_count": 33,
     "metadata": {},
     "output_type": "execute_result"
    }
   ],
   "source": [
    "probabilities_rfc=model_rfc.predict_proba(features_valid) # рассчеты для случайного леса\n",
    "probabilities_one_valid_rfc=probabilities_rfc[:,1]\n",
    "auc_roc_rfc=roc_auc_score(target_valid,probabilities_one_valid_rfc) #рассчет площади\n",
    "auc_roc_rfc"
   ]
  },
  {
   "cell_type": "markdown",
   "metadata": {},
   "source": [
    "Как мы видим после upsampling и изменения баланса классов у моделей увеличились accuracy и F1, кроме дерева решений, у него метрики упали. \n",
    "\n",
    "При оценке моделей мерой auc-roc после исправления дисбаланса в классах и использования upsample получили следующие значения:\n",
    "- у линейной регрессии 0,758 (значение немного увеличилось)\n",
    "- у дерева решений 0,67 (сильно упало)\n",
    "- у случайного леса 0,83 (значение немного увеличилось)\n",
    "\n",
    "Изменения зеркально отображатся и на F1, и на auc-roc. Где было повышение мера увеличилсь, у дерева решений было уменьшение, здесь оно упало, но сильнее.\n",
    "\n",
    "\n",
    "Попробуем произвести downsampling и сравним. Алгоритм применим такой же: создадим функцию, применим её к тренировочной выборке и попробуем научить модель по ним. В данном случае попробуем уменьшить до 0.4"
   ]
  },
  {
   "cell_type": "code",
   "execution_count": 34,
   "metadata": {},
   "outputs": [],
   "source": [
    "def downsample(features, target, fraction):\n",
    "    features_zeros = features[target == 0]\n",
    "    features_ones = features[target == 1]\n",
    "    target_zeros = target[target == 0]\n",
    "    target_ones = target[target == 1]\n",
    "\n",
    "    features_downsampled = pd.concat(\n",
    "        [features_zeros.sample(frac=fraction, random_state=12345)] + [features_ones])\n",
    "    target_downsampled = pd.concat(\n",
    "        [target_zeros.sample(frac=fraction, random_state=12345)] + [target_ones])\n",
    "    \n",
    "    features_downsampled, target_downsampled = shuffle(\n",
    "        features_downsampled, target_downsampled, random_state=12345)\n",
    "    \n",
    "    return features_downsampled, target_downsampled"
   ]
  },
  {
   "cell_type": "code",
   "execution_count": 35,
   "metadata": {},
   "outputs": [],
   "source": [
    "features_downsampled, target_downsampled = downsample(features_train, target_train, 0.4)"
   ]
  },
  {
   "cell_type": "code",
   "execution_count": 36,
   "metadata": {},
   "outputs": [
    {
     "name": "stdout",
     "output_type": "stream",
     "text": [
      " Accuracy 0.700625 \n",
      " F1: 0.46797482413920777 \n",
      " Recall: 0.6723404255319149 \n",
      " Presicion: 0.3588869960249858\n"
     ]
    }
   ],
   "source": [
    "model_lr = LogisticRegression(random_state=12345, solver='liblinear', class_weight='balanced')\n",
    "model_lr.fit(features_downsampled, target_downsampled)\n",
    "predicted_valid = model_lr.predict(features_valid)\n",
    "print(' Accuracy', accuracy_score(target_valid, predicted_valid), '\\n', \n",
    "      \"F1:\", f1_score(target_valid, predicted_valid), '\\n', \n",
    "      'Recall:', recall_score(target_valid, predicted_valid),'\\n', \n",
    "      'Presicion:', precision_score(target_valid, predicted_valid))"
   ]
  },
  {
   "cell_type": "code",
   "execution_count": 37,
   "metadata": {},
   "outputs": [
    {
     "name": "stdout",
     "output_type": "stream",
     "text": [
      " Accuracy 0.7725 \n",
      " F1: 0.5659777424483307 \n",
      " Recall: 0.7574468085106383 \n",
      " Presicion: 0.4517766497461929\n",
      "CPU times: user 2.85 s, sys: 24.2 ms, total: 2.87 s\n",
      "Wall time: 2.94 s\n"
     ]
    }
   ],
   "source": [
    "%%time\n",
    "max_depth = [int(x) for x in np.linspace(1, 51, num = 50)] # дерево решений от 1 до 50\n",
    "rf_grid = {'max_depth': max_depth}\n",
    "model_dtc = GridSearchCV(DecisionTreeClassifier(random_state=12345, class_weight='balanced'), rf_grid, scoring = 'f1', cv = 5)\n",
    "model_dtc.fit(features_downsampled, target_downsampled)\n",
    "predicted_valid = model_dtc.predict(features_valid)\n",
    "result = model_dtc.score(features_valid, target_valid)\n",
    "print(' Accuracy', accuracy_score(target_valid, predicted_valid), '\\n', \n",
    "      \"F1:\", f1_score(target_valid, predicted_valid), '\\n', \n",
    "      'Recall:', recall_score(target_valid, predicted_valid),'\\n', \n",
    "      'Presicion:', precision_score(target_valid, predicted_valid))\n"
   ]
  },
  {
   "cell_type": "code",
   "execution_count": 38,
   "metadata": {},
   "outputs": [
    {
     "name": "stdout",
     "output_type": "stream",
     "text": [
      " Accuracy 0.8072916666666666 \n",
      " F1: 0.5923314235345968 \n",
      " Recall: 0.7148936170212766 \n",
      " Presicion: 0.5056433408577878\n",
      "CPU times: user 16.3 s, sys: 104 ms, total: 16.4 s\n",
      "Wall time: 16.7 s\n"
     ]
    }
   ],
   "source": [
    "%%time\n",
    "n_estimators = [int(x) for x in np.linspace(start = 1, stop = 51, num = 10)] # случайный лес от 1 до 50\n",
    "max_depth = [int(x) for x in np.linspace(1, 26, num = 5)]\n",
    "rf_grid = {'n_estimators': n_estimators, 'max_depth': max_depth}\n",
    "model_rfc = GridSearchCV(RandomForestClassifier(random_state=12345, class_weight='balanced'), rf_grid, scoring = 'f1')\n",
    "model_rfc.fit(features_downsampled, target_downsampled)\n",
    "predicted_valid = model_rfc.predict(features_valid)\n",
    "result = model_rfc.score(features_valid, target_valid)\n",
    "print(' Accuracy', accuracy_score(target_valid, predicted_valid), '\\n', \n",
    "      \"F1:\", f1_score(target_valid, predicted_valid), '\\n', \n",
    "      'Recall:', recall_score(target_valid, predicted_valid),'\\n', \n",
    "      'Presicion:', precision_score(target_valid, predicted_valid))"
   ]
  },
  {
   "cell_type": "markdown",
   "metadata": {},
   "source": [
    "Логистическая регрессия показала результат 0,467, дерево решений 0,565, а случайное дерево показало лучший результат 0,592. Попробуем повторить такой же результат на тестовой выборке."
   ]
  },
  {
   "cell_type": "markdown",
   "metadata": {},
   "source": [
    "## Тестирование модели"
   ]
  },
  {
   "cell_type": "markdown",
   "metadata": {},
   "source": [
    "Протестируем получившиеся модели на тестовой выборке."
   ]
  },
  {
   "cell_type": "code",
   "execution_count": 39,
   "metadata": {},
   "outputs": [
    {
     "name": "stdout",
     "output_type": "stream",
     "text": [
      " Accuracy 0.7091666666666666 \n",
      " F1: 0.49493487698986977 \n",
      " Recall: 0.6758893280632411 \n",
      " Presicion: 0.3904109589041096\n"
     ]
    }
   ],
   "source": [
    "predicted_test = model_lr.predict(features_test) # логистическая регрессия\n",
    "print(' Accuracy', accuracy_score(target_test, predicted_test), '\\n', \n",
    "      \"F1:\", f1_score(target_test, predicted_test), '\\n', \n",
    "      'Recall:', recall_score(target_test, predicted_test),'\\n', \n",
    "      'Presicion:', precision_score(target_test, predicted_test))"
   ]
  },
  {
   "cell_type": "code",
   "execution_count": 40,
   "metadata": {},
   "outputs": [
    {
     "name": "stdout",
     "output_type": "stream",
     "text": [
      " Accuracy 0.7616666666666667 \n",
      " F1: 0.5781710914454278 \n",
      " Recall: 0.7747035573122529 \n",
      " Presicion: 0.4611764705882353\n"
     ]
    }
   ],
   "source": [
    "predicted_test = model_dtc.predict(features_test) # дерево решений\n",
    "result = model_dtc.score(features_test, target_test)\n",
    "print(' Accuracy', accuracy_score(target_test, predicted_test), '\\n', \n",
    "      \"F1:\", f1_score(target_test, predicted_test), '\\n', \n",
    "      'Recall:', recall_score(target_test, predicted_test),'\\n', \n",
    "      'Presicion:', precision_score(target_test, predicted_test))\n"
   ]
  },
  {
   "cell_type": "code",
   "execution_count": 41,
   "metadata": {},
   "outputs": [
    {
     "name": "stdout",
     "output_type": "stream",
     "text": [
      " Accuracy 0.8183333333333334 \n",
      " F1: 0.6390728476821191 \n",
      " Recall: 0.7628458498023716 \n",
      " Presicion: 0.5498575498575499\n"
     ]
    }
   ],
   "source": [
    "predicted_test = model_rfc.predict(features_test) # случайный лес\n",
    "result = model_rfc.score(features_test, target_test)\n",
    "print(' Accuracy', accuracy_score(target_test, predicted_test), '\\n', \n",
    "      \"F1:\", f1_score(target_test, predicted_test), '\\n', \n",
    "      'Recall:', recall_score(target_test, predicted_test),'\\n', \n",
    "      'Presicion:', precision_score(target_test, predicted_test))"
   ]
  },
  {
   "cell_type": "markdown",
   "metadata": {},
   "source": [
    "Видим, что дерево решений и логистическая регрессия в нашем случае показали 0.57 и 0.49 соотв., а случайный лес оказался лучшим с f1 = 0,63"
   ]
  },
  {
   "cell_type": "markdown",
   "metadata": {},
   "source": [
    "## Метрика AUC-ROC"
   ]
  },
  {
   "cell_type": "markdown",
   "metadata": {},
   "source": [
    "Для того чтобы построить roc-кривую нам необходимо для каждой модели расситать три значения: FPR, TPR и рассчет порогов. Затем посчитаем площадь и нарисуем кривую."
   ]
  },
  {
   "cell_type": "code",
   "execution_count": 42,
   "metadata": {},
   "outputs": [],
   "source": [
    "probabilities_lr=model_lr.predict_proba(features_valid) # рассчеты для логистической регрессии\n",
    "probabilities_one_valid_lr=probabilities_lr[:,1]\n",
    "fpr_lr,tpr_lr,thresholds=roc_curve(target_valid,probabilities_one_valid_lr)"
   ]
  },
  {
   "cell_type": "code",
   "execution_count": 43,
   "metadata": {},
   "outputs": [],
   "source": [
    "auc_roc_lr=roc_auc_score(target_valid,probabilities_one_valid_lr) #рассчет площади"
   ]
  },
  {
   "cell_type": "code",
   "execution_count": 44,
   "metadata": {},
   "outputs": [
    {
     "data": {
      "text/plain": [
       "0.7587278139124682"
      ]
     },
     "execution_count": 44,
     "metadata": {},
     "output_type": "execute_result"
    }
   ],
   "source": [
    "auc_roc_lr"
   ]
  },
  {
   "cell_type": "code",
   "execution_count": 45,
   "metadata": {},
   "outputs": [],
   "source": [
    "probabilities_dtc=model_dtc.predict_proba(features_valid) # рассчеты для дерева решений\n",
    "probabilities_one_valid_dtc=probabilities_dtc[:,1]\n",
    "fpr_dtc,tpr_dtc,thresholds=roc_curve(target_valid,probabilities_one_valid_dtc)"
   ]
  },
  {
   "cell_type": "code",
   "execution_count": 46,
   "metadata": {},
   "outputs": [],
   "source": [
    "auc_roc_dtc=roc_auc_score(target_valid,probabilities_one_valid_dtc) #рассчет площади"
   ]
  },
  {
   "cell_type": "code",
   "execution_count": 47,
   "metadata": {},
   "outputs": [
    {
     "data": {
      "text/plain": [
       "0.8307393065814134"
      ]
     },
     "execution_count": 47,
     "metadata": {},
     "output_type": "execute_result"
    }
   ],
   "source": [
    "auc_roc_dtc"
   ]
  },
  {
   "cell_type": "code",
   "execution_count": 48,
   "metadata": {},
   "outputs": [],
   "source": [
    "probabilities_rfc=model_rfc.predict_proba(features_valid) # рассчеты для случайного леса\n",
    "probabilities_one_valid_rfc=probabilities_rfc[:,1]\n",
    "fpr_rfc,tpr_rfc,thresholds=roc_curve(target_valid,probabilities_one_valid_rfc)"
   ]
  },
  {
   "cell_type": "code",
   "execution_count": 49,
   "metadata": {},
   "outputs": [],
   "source": [
    "auc_roc_rfc=roc_auc_score(target_valid,probabilities_one_valid_rfc) #рассчет площади"
   ]
  },
  {
   "cell_type": "code",
   "execution_count": 50,
   "metadata": {},
   "outputs": [
    {
     "data": {
      "text/plain": [
       "0.8541154503362363"
      ]
     },
     "execution_count": 50,
     "metadata": {},
     "output_type": "execute_result"
    }
   ],
   "source": [
    "auc_roc_rfc"
   ]
  },
  {
   "cell_type": "code",
   "execution_count": 51,
   "metadata": {
    "scrolled": false
   },
   "outputs": [
    {
     "data": {
      "text/plain": [
       "<Figure size 432x288 with 0 Axes>"
      ]
     },
     "metadata": {},
     "output_type": "display_data"
    },
    {
     "data": {
      "image/png": "[encoded data removed]",
      "text/plain": [
       "<Figure size 1296x576 with 1 Axes>"
      ]
     },
     "metadata": {
      "needs_background": "light"
     },
     "output_type": "display_data"
    }
   ],
   "source": [
    "plt.figure() # построик roc-кривую\n",
    "\n",
    "plt.figure(figsize=(18,8))\n",
    "plt.plot([0, 1], [0, 1], linestyle='--')\n",
    "plt.xlim([0.0, 1.0])\n",
    "plt.ylim([0.0, 1.0])\n",
    "plt.plot(fpr_lr,tpr_lr)\n",
    "plt.plot(fpr_dtc,tpr_dtc)\n",
    "plt.plot(fpr_rfc,tpr_rfc)\n",
    "plt.xlabel('False Positive Rate')\n",
    "plt.ylabel('True Positive Rate')\n",
    "plt.title('ROC-кривая')\n",
    "plt.legend(('Случайная модель','Логистическая регрессия','Дерево решений','Случайный лес'),\n",
    "           loc= 'upper left') \n",
    "plt.show()"
   ]
  },
  {
   "cell_type": "markdown",
   "metadata": {},
   "source": [
    "При оценке моделей мерой auc-roc после исправления дисбаланса в классах и использования downsample получили следующие значения:\n",
    "- у линейной регрессии 0,758 (значение немного увеличилось)\n",
    "- у дерева решений 0,83 (значение немного упало)\n",
    "- у случайного леса 0,854 (значение увеличилось больше остальных)\n",
    "\n",
    "По сравнению с изменением F1 меры, у случайного леса обе характеристики повысились, у линейной регрессии F1 резко увеличилась, но auc-roc не сильно изменилась, хоть и в лучшую сторону, а у дерева решенийнесмотря на маленькое увеличение F1, auc-roc наоборот немного упал, но совсем незначительно."
   ]
  },
  {
   "cell_type": "markdown",
   "metadata": {},
   "source": [
    "## Общий вывод"
   ]
  },
  {
   "cell_type": "markdown",
   "metadata": {},
   "source": [
    "В данном исследовании мы сначала попробовали обучить модель с учетом дисбаланса:\n",
    "- у дерева решений F1 - 0,55,\n",
    "- у случайного леса F1 - 0,54,\n",
    "- у логистической регрессии F1 - 0,32.\n",
    "\n",
    "При оценке моделей auc-roc получили следующие значения:\n",
    "\n",
    "- у линейной регрессии 0,754\n",
    "- у дерева решений 0,841\n",
    "- у случайного леса 0,827\n",
    "\n",
    "После обучения без учета дисбаланса и применив несколько способов борьбы с ним мы получили такие результаты:\n",
    "- регрессия - 0.46,\n",
    "- дерево - 0,56,\n",
    "- лес - 0,59.\n",
    "\n",
    "Затем мы проверили наши модели на тестовой выборке, результаты следующие:\n",
    "- регрессия - 0,49,\n",
    "- дерево - 0,49,\n",
    "- лес - 0,63.\n",
    "\n",
    "Видим, что после последовательных улучшений у модели повысились качественные метрики. Далее мы нарисовали roc-кривую и рассчитали auc_roc метрику:\n",
    "- регрессия - 0,75,\n",
    "- дерево - 0,83,\n",
    "- лес - 0,85."
   ]
  }
 ],
 "metadata": {
  "ExecuteTimeLog": [
   {
    "duration": 1439,
    "start_time": "2022-05-22T14:04:13.776Z"
   },
   {
    "duration": 56,
    "start_time": "2022-05-22T14:04:15.897Z"
   },
   {
    "duration": 120,
    "start_time": "2022-05-22T14:04:41.948Z"
   },
   {
    "duration": 15,
    "start_time": "2022-05-22T14:04:53.231Z"
   },
   {
    "duration": 13,
    "start_time": "2022-05-22T14:04:53.673Z"
   },
   {
    "duration": 56613,
    "start_time": "2022-05-22T14:06:46.554Z"
   },
   {
    "duration": 11,
    "start_time": "2022-05-22T14:17:40.506Z"
   },
   {
    "duration": 4,
    "start_time": "2022-05-22T14:17:46.651Z"
   },
   {
    "duration": 12,
    "start_time": "2022-05-22T14:17:47.242Z"
   },
   {
    "duration": 18,
    "start_time": "2022-05-22T14:18:19.644Z"
   },
   {
    "duration": 4,
    "start_time": "2022-05-22T14:18:40.427Z"
   },
   {
    "duration": 5,
    "start_time": "2022-05-22T14:18:47.548Z"
   },
   {
    "duration": 4,
    "start_time": "2022-05-22T14:18:49.784Z"
   },
   {
    "duration": 3,
    "start_time": "2022-05-22T14:19:36.775Z"
   },
   {
    "duration": 5,
    "start_time": "2022-05-22T14:19:38.741Z"
   },
   {
    "duration": 5,
    "start_time": "2022-05-22T14:21:13.945Z"
   },
   {
    "duration": 4,
    "start_time": "2022-05-22T14:21:14.716Z"
   },
   {
    "duration": 3,
    "start_time": "2022-05-22T14:23:03.986Z"
   },
   {
    "duration": 11,
    "start_time": "2022-05-22T14:23:41.498Z"
   },
   {
    "duration": 10,
    "start_time": "2022-05-22T14:25:57.875Z"
   },
   {
    "duration": 19,
    "start_time": "2022-05-22T14:26:04.704Z"
   },
   {
    "duration": 1237,
    "start_time": "2022-05-22T14:26:10.460Z"
   },
   {
    "duration": 28,
    "start_time": "2022-05-22T14:26:11.699Z"
   },
   {
    "duration": 14,
    "start_time": "2022-05-22T14:26:11.729Z"
   },
   {
    "duration": 23,
    "start_time": "2022-05-22T14:26:11.745Z"
   },
   {
    "duration": 20,
    "start_time": "2022-05-22T14:26:11.770Z"
   },
   {
    "duration": 4,
    "start_time": "2022-05-22T14:26:11.792Z"
   },
   {
    "duration": 6,
    "start_time": "2022-05-22T14:26:11.797Z"
   },
   {
    "duration": 20,
    "start_time": "2022-05-22T14:26:11.805Z"
   },
   {
    "duration": 9,
    "start_time": "2022-05-22T14:26:11.826Z"
   },
   {
    "duration": 121,
    "start_time": "2022-05-22T14:26:11.838Z"
   },
   {
    "duration": 4,
    "start_time": "2022-05-22T14:26:24.093Z"
   },
   {
    "duration": 4,
    "start_time": "2022-05-22T14:26:29.149Z"
   },
   {
    "duration": 4,
    "start_time": "2022-05-22T14:26:29.881Z"
   },
   {
    "duration": 5,
    "start_time": "2022-05-22T15:05:43.428Z"
   },
   {
    "duration": 6,
    "start_time": "2022-05-22T15:05:58.442Z"
   },
   {
    "duration": 10,
    "start_time": "2022-05-22T15:06:15.200Z"
   },
   {
    "duration": 7,
    "start_time": "2022-05-22T15:06:30.747Z"
   },
   {
    "duration": 18,
    "start_time": "2022-05-22T15:06:41.021Z"
   },
   {
    "duration": 9,
    "start_time": "2022-05-22T15:06:47.173Z"
   },
   {
    "duration": 7,
    "start_time": "2022-05-22T15:06:53.500Z"
   },
   {
    "duration": 5,
    "start_time": "2022-05-22T15:07:18.346Z"
   },
   {
    "duration": 8,
    "start_time": "2022-05-22T15:07:19.017Z"
   },
   {
    "duration": 8,
    "start_time": "2022-05-22T15:07:25.056Z"
   },
   {
    "duration": 7,
    "start_time": "2022-05-22T15:07:39.667Z"
   },
   {
    "duration": 11,
    "start_time": "2022-05-22T15:10:33.088Z"
   },
   {
    "duration": 10,
    "start_time": "2022-05-22T15:10:40.472Z"
   },
   {
    "duration": 8,
    "start_time": "2022-05-22T15:12:34.706Z"
   },
   {
    "duration": 10,
    "start_time": "2022-05-22T15:12:35.209Z"
   },
   {
    "duration": 6,
    "start_time": "2022-05-22T15:36:35.337Z"
   },
   {
    "duration": 6,
    "start_time": "2022-05-22T15:36:48.793Z"
   },
   {
    "duration": 5,
    "start_time": "2022-05-22T15:36:50.154Z"
   },
   {
    "duration": 7,
    "start_time": "2022-05-22T15:37:54.751Z"
   },
   {
    "duration": 4,
    "start_time": "2022-05-22T15:38:25.270Z"
   },
   {
    "duration": 23,
    "start_time": "2022-05-22T15:45:30.852Z"
   },
   {
    "duration": 4,
    "start_time": "2022-05-22T16:46:37.628Z"
   },
   {
    "duration": 26,
    "start_time": "2022-05-22T16:47:22.869Z"
   },
   {
    "duration": 27,
    "start_time": "2022-05-22T16:47:52.140Z"
   },
   {
    "duration": 29,
    "start_time": "2022-05-22T16:48:33.007Z"
   },
   {
    "duration": 4,
    "start_time": "2022-05-22T16:48:44.742Z"
   },
   {
    "duration": 4,
    "start_time": "2022-05-22T16:49:00.919Z"
   },
   {
    "duration": 3,
    "start_time": "2022-05-22T16:49:14.544Z"
   },
   {
    "duration": 19,
    "start_time": "2022-05-22T16:49:26.389Z"
   },
   {
    "duration": 14,
    "start_time": "2022-05-22T16:51:13.437Z"
   },
   {
    "duration": 4,
    "start_time": "2022-05-22T17:02:40.838Z"
   },
   {
    "duration": 53,
    "start_time": "2022-05-22T17:03:57.318Z"
   },
   {
    "duration": 106,
    "start_time": "2022-05-22T17:04:07.118Z"
   },
   {
    "duration": 48,
    "start_time": "2022-05-22T17:04:13.269Z"
   },
   {
    "duration": 51,
    "start_time": "2022-05-22T17:04:19.431Z"
   },
   {
    "duration": 196,
    "start_time": "2022-05-22T17:04:24.628Z"
   },
   {
    "duration": 29,
    "start_time": "2022-05-22T17:04:39.968Z"
   },
   {
    "duration": 106,
    "start_time": "2022-05-22T17:04:45.219Z"
   },
   {
    "duration": 51,
    "start_time": "2022-05-22T17:04:53.078Z"
   },
   {
    "duration": 20,
    "start_time": "2022-05-22T17:06:50.205Z"
   },
   {
    "duration": 4,
    "start_time": "2022-05-22T17:10:16.226Z"
   },
   {
    "duration": 1388,
    "start_time": "2022-05-22T17:10:21.764Z"
   },
   {
    "duration": 44,
    "start_time": "2022-05-22T17:10:23.154Z"
   },
   {
    "duration": 16,
    "start_time": "2022-05-22T17:10:23.200Z"
   },
   {
    "duration": 16,
    "start_time": "2022-05-22T17:10:23.218Z"
   },
   {
    "duration": 20,
    "start_time": "2022-05-22T17:10:23.236Z"
   },
   {
    "duration": 4,
    "start_time": "2022-05-22T17:10:23.258Z"
   },
   {
    "duration": 6,
    "start_time": "2022-05-22T17:10:23.263Z"
   },
   {
    "duration": 6,
    "start_time": "2022-05-22T17:10:23.271Z"
   },
   {
    "duration": 8,
    "start_time": "2022-05-22T17:10:23.278Z"
   },
   {
    "duration": 7,
    "start_time": "2022-05-22T17:10:23.288Z"
   },
   {
    "duration": 8,
    "start_time": "2022-05-22T17:10:23.322Z"
   },
   {
    "duration": 12,
    "start_time": "2022-05-22T17:10:23.331Z"
   },
   {
    "duration": 9,
    "start_time": "2022-05-22T17:10:23.345Z"
   },
   {
    "duration": 7,
    "start_time": "2022-05-22T17:10:23.356Z"
   },
   {
    "duration": 6,
    "start_time": "2022-05-22T17:10:23.365Z"
   },
   {
    "duration": 5,
    "start_time": "2022-05-22T17:10:23.373Z"
   },
   {
    "duration": 62,
    "start_time": "2022-05-22T17:10:23.379Z"
   },
   {
    "duration": 87,
    "start_time": "2022-05-22T17:10:23.444Z"
   },
   {
    "duration": 57,
    "start_time": "2022-05-22T17:11:35.437Z"
   },
   {
    "duration": 28,
    "start_time": "2022-05-22T17:11:40.387Z"
   },
   {
    "duration": 1409,
    "start_time": "2022-05-22T17:11:52.221Z"
   },
   {
    "duration": 29,
    "start_time": "2022-05-22T17:11:53.632Z"
   },
   {
    "duration": 15,
    "start_time": "2022-05-22T17:11:53.663Z"
   },
   {
    "duration": 135,
    "start_time": "2022-05-22T17:11:53.680Z"
   },
   {
    "duration": 15,
    "start_time": "2022-05-22T17:11:53.816Z"
   },
   {
    "duration": 12,
    "start_time": "2022-05-22T17:11:53.833Z"
   },
   {
    "duration": 3,
    "start_time": "2022-05-22T17:11:53.847Z"
   },
   {
    "duration": 6,
    "start_time": "2022-05-22T17:11:53.852Z"
   },
   {
    "duration": 7,
    "start_time": "2022-05-22T17:11:53.859Z"
   },
   {
    "duration": 5,
    "start_time": "2022-05-22T17:11:53.868Z"
   },
   {
    "duration": 7,
    "start_time": "2022-05-22T17:11:53.875Z"
   },
   {
    "duration": 8,
    "start_time": "2022-05-22T17:11:53.883Z"
   },
   {
    "duration": 12,
    "start_time": "2022-05-22T17:11:53.923Z"
   },
   {
    "duration": 14,
    "start_time": "2022-05-22T17:11:53.936Z"
   },
   {
    "duration": 7,
    "start_time": "2022-05-22T17:11:53.951Z"
   },
   {
    "duration": 11,
    "start_time": "2022-05-22T17:11:53.960Z"
   },
   {
    "duration": 21,
    "start_time": "2022-05-22T17:11:53.972Z"
   },
   {
    "duration": 27,
    "start_time": "2022-05-22T17:11:53.995Z"
   },
   {
    "duration": 199,
    "start_time": "2022-05-22T17:11:54.023Z"
   },
   {
    "duration": 4180,
    "start_time": "2022-05-22T17:17:11.202Z"
   },
   {
    "duration": 17858,
    "start_time": "2022-05-22T17:17:15.384Z"
   },
   {
    "duration": 47,
    "start_time": "2022-05-22T17:19:08.778Z"
   },
   {
    "duration": 74,
    "start_time": "2022-05-22T17:19:45.154Z"
   },
   {
    "duration": 83,
    "start_time": "2022-05-22T17:19:48.843Z"
   },
   {
    "duration": 69,
    "start_time": "2022-05-22T17:19:51.656Z"
   },
   {
    "duration": 4005,
    "start_time": "2022-05-22T17:20:36.656Z"
   },
   {
    "duration": 18021,
    "start_time": "2022-05-22T17:20:47.768Z"
   },
   {
    "duration": 3943,
    "start_time": "2022-05-22T17:21:24.591Z"
   },
   {
    "duration": 1338,
    "start_time": "2022-05-22T17:26:15.732Z"
   },
   {
    "duration": 34,
    "start_time": "2022-05-22T17:26:17.073Z"
   },
   {
    "duration": 15,
    "start_time": "2022-05-22T17:26:17.109Z"
   },
   {
    "duration": 13,
    "start_time": "2022-05-22T17:26:17.126Z"
   },
   {
    "duration": 157,
    "start_time": "2022-05-22T17:26:17.141Z"
   },
   {
    "duration": 23,
    "start_time": "2022-05-22T17:26:17.300Z"
   },
   {
    "duration": 4,
    "start_time": "2022-05-22T17:26:17.325Z"
   },
   {
    "duration": 5,
    "start_time": "2022-05-22T17:26:17.331Z"
   },
   {
    "duration": 7,
    "start_time": "2022-05-22T17:26:17.338Z"
   },
   {
    "duration": 4,
    "start_time": "2022-05-22T17:26:17.348Z"
   },
   {
    "duration": 6,
    "start_time": "2022-05-22T17:26:17.354Z"
   },
   {
    "duration": 9,
    "start_time": "2022-05-22T17:26:17.362Z"
   },
   {
    "duration": 11,
    "start_time": "2022-05-22T17:26:17.373Z"
   },
   {
    "duration": 45,
    "start_time": "2022-05-22T17:26:17.387Z"
   },
   {
    "duration": 7,
    "start_time": "2022-05-22T17:26:17.433Z"
   },
   {
    "duration": 7,
    "start_time": "2022-05-22T17:26:17.442Z"
   },
   {
    "duration": 6,
    "start_time": "2022-05-22T17:26:17.451Z"
   },
   {
    "duration": 25,
    "start_time": "2022-05-22T17:26:17.459Z"
   },
   {
    "duration": 140,
    "start_time": "2022-05-22T17:26:17.485Z"
   },
   {
    "duration": 4892,
    "start_time": "2022-05-22T17:26:17.626Z"
   },
   {
    "duration": 17677,
    "start_time": "2022-05-22T17:26:22.524Z"
   },
   {
    "duration": 1349,
    "start_time": "2022-05-22T17:26:59.711Z"
   },
   {
    "duration": 35,
    "start_time": "2022-05-22T17:27:01.062Z"
   },
   {
    "duration": 28,
    "start_time": "2022-05-22T17:27:01.099Z"
   },
   {
    "duration": 14,
    "start_time": "2022-05-22T17:27:01.129Z"
   },
   {
    "duration": 307,
    "start_time": "2022-05-22T17:27:01.145Z"
   },
   {
    "duration": 68,
    "start_time": "2022-05-22T17:27:01.455Z"
   },
   {
    "duration": 5,
    "start_time": "2022-05-22T17:27:01.525Z"
   },
   {
    "duration": 8,
    "start_time": "2022-05-22T17:27:01.531Z"
   },
   {
    "duration": 12,
    "start_time": "2022-05-22T17:27:01.541Z"
   },
   {
    "duration": 6,
    "start_time": "2022-05-22T17:27:01.555Z"
   },
   {
    "duration": 12,
    "start_time": "2022-05-22T17:27:01.562Z"
   },
   {
    "duration": 53,
    "start_time": "2022-05-22T17:27:01.576Z"
   },
   {
    "duration": 16,
    "start_time": "2022-05-22T17:27:01.631Z"
   },
   {
    "duration": 11,
    "start_time": "2022-05-22T17:27:01.649Z"
   },
   {
    "duration": 9,
    "start_time": "2022-05-22T17:27:01.661Z"
   },
   {
    "duration": 8,
    "start_time": "2022-05-22T17:27:01.723Z"
   },
   {
    "duration": 6,
    "start_time": "2022-05-22T17:27:01.732Z"
   },
   {
    "duration": 25,
    "start_time": "2022-05-22T17:27:01.739Z"
   },
   {
    "duration": 4827,
    "start_time": "2022-05-22T17:27:01.765Z"
   },
   {
    "duration": 67,
    "start_time": "2022-05-22T17:27:53.462Z"
   },
   {
    "duration": 4044,
    "start_time": "2022-05-22T17:27:55.247Z"
   },
   {
    "duration": 18392,
    "start_time": "2022-05-22T17:27:59.293Z"
   },
   {
    "duration": 17921,
    "start_time": "2022-05-22T17:31:15.635Z"
   },
   {
    "duration": 584200,
    "start_time": "2022-05-22T17:31:36.272Z"
   },
   {
    "duration": 1307,
    "start_time": "2022-05-22T17:42:59.939Z"
   },
   {
    "duration": 31,
    "start_time": "2022-05-22T17:43:01.248Z"
   },
   {
    "duration": 17,
    "start_time": "2022-05-22T17:43:01.281Z"
   },
   {
    "duration": 13,
    "start_time": "2022-05-22T17:43:01.300Z"
   },
   {
    "duration": 140,
    "start_time": "2022-05-22T17:43:01.322Z"
   },
   {
    "duration": 12,
    "start_time": "2022-05-22T17:43:01.463Z"
   },
   {
    "duration": 35,
    "start_time": "2022-05-22T17:43:01.476Z"
   },
   {
    "duration": 16,
    "start_time": "2022-05-22T17:43:01.513Z"
   },
   {
    "duration": 14,
    "start_time": "2022-05-22T17:43:01.531Z"
   },
   {
    "duration": 11,
    "start_time": "2022-05-22T17:43:01.548Z"
   },
   {
    "duration": 8,
    "start_time": "2022-05-22T17:43:01.560Z"
   },
   {
    "duration": 9,
    "start_time": "2022-05-22T17:43:01.570Z"
   },
   {
    "duration": 15,
    "start_time": "2022-05-22T17:43:01.580Z"
   },
   {
    "duration": 12,
    "start_time": "2022-05-22T17:43:01.596Z"
   },
   {
    "duration": 15,
    "start_time": "2022-05-22T17:43:01.610Z"
   },
   {
    "duration": 7,
    "start_time": "2022-05-22T17:43:01.627Z"
   },
   {
    "duration": 8,
    "start_time": "2022-05-22T17:43:01.636Z"
   },
   {
    "duration": 33,
    "start_time": "2022-05-22T17:43:01.646Z"
   },
   {
    "duration": 242,
    "start_time": "2022-05-22T17:43:01.681Z"
   },
   {
    "duration": 5147,
    "start_time": "2022-05-22T17:43:01.925Z"
   },
   {
    "duration": 1308,
    "start_time": "2022-05-22T17:43:54.764Z"
   },
   {
    "duration": 29,
    "start_time": "2022-05-22T17:43:56.074Z"
   },
   {
    "duration": 15,
    "start_time": "2022-05-22T17:43:56.105Z"
   },
   {
    "duration": 12,
    "start_time": "2022-05-22T17:43:56.124Z"
   },
   {
    "duration": 154,
    "start_time": "2022-05-22T17:43:56.137Z"
   },
   {
    "duration": 11,
    "start_time": "2022-05-22T17:43:56.293Z"
   },
   {
    "duration": 17,
    "start_time": "2022-05-22T17:43:56.306Z"
   },
   {
    "duration": 7,
    "start_time": "2022-05-22T17:43:56.324Z"
   },
   {
    "duration": 8,
    "start_time": "2022-05-22T17:43:56.333Z"
   },
   {
    "duration": 11,
    "start_time": "2022-05-22T17:43:56.343Z"
   },
   {
    "duration": 6,
    "start_time": "2022-05-22T17:43:56.356Z"
   },
   {
    "duration": 11,
    "start_time": "2022-05-22T17:43:56.363Z"
   },
   {
    "duration": 12,
    "start_time": "2022-05-22T17:43:56.375Z"
   },
   {
    "duration": 34,
    "start_time": "2022-05-22T17:43:56.389Z"
   },
   {
    "duration": 5,
    "start_time": "2022-05-22T17:43:56.424Z"
   },
   {
    "duration": 6,
    "start_time": "2022-05-22T17:43:56.430Z"
   },
   {
    "duration": 4,
    "start_time": "2022-05-22T17:43:56.438Z"
   },
   {
    "duration": 24,
    "start_time": "2022-05-22T17:43:56.443Z"
   },
   {
    "duration": 155,
    "start_time": "2022-05-22T17:43:56.469Z"
   },
   {
    "duration": 3966,
    "start_time": "2022-05-22T17:43:56.626Z"
   },
   {
    "duration": 18205,
    "start_time": "2022-05-22T17:44:00.593Z"
   },
   {
    "duration": 62725,
    "start_time": "2022-05-22T17:44:18.799Z"
   },
   {
    "duration": 98,
    "start_time": "2022-05-22T18:55:02.430Z"
   },
   {
    "duration": 174,
    "start_time": "2022-05-22T18:55:33.967Z"
   },
   {
    "duration": 29,
    "start_time": "2022-05-22T18:55:38.661Z"
   },
   {
    "duration": 54,
    "start_time": "2022-05-22T18:55:45.772Z"
   },
   {
    "duration": 121,
    "start_time": "2022-05-22T18:56:20.105Z"
   },
   {
    "duration": 4527,
    "start_time": "2022-05-22T18:56:22.352Z"
   },
   {
    "duration": 68818,
    "start_time": "2022-05-22T18:56:29.386Z"
   },
   {
    "duration": 98,
    "start_time": "2022-05-22T19:04:21.027Z"
   },
   {
    "duration": 4,
    "start_time": "2022-05-22T19:07:26.299Z"
   },
   {
    "duration": 4,
    "start_time": "2022-05-22T19:08:06.184Z"
   },
   {
    "duration": 202,
    "start_time": "2022-05-22T19:08:07.688Z"
   },
   {
    "duration": 4,
    "start_time": "2022-05-22T19:16:14.662Z"
   },
   {
    "duration": 12,
    "start_time": "2022-05-22T19:16:29.028Z"
   },
   {
    "duration": 9,
    "start_time": "2022-05-22T19:16:34.894Z"
   },
   {
    "duration": 118,
    "start_time": "2022-05-22T19:17:57.107Z"
   },
   {
    "duration": 5520,
    "start_time": "2022-05-22T19:18:01.408Z"
   },
   {
    "duration": 83289,
    "start_time": "2022-05-22T19:18:13.598Z"
   },
   {
    "duration": 1414,
    "start_time": "2022-05-22T19:20:01.496Z"
   },
   {
    "duration": 30,
    "start_time": "2022-05-22T19:20:02.912Z"
   },
   {
    "duration": 15,
    "start_time": "2022-05-22T19:20:02.944Z"
   },
   {
    "duration": 14,
    "start_time": "2022-05-22T19:20:02.961Z"
   },
   {
    "duration": 173,
    "start_time": "2022-05-22T19:20:02.976Z"
   },
   {
    "duration": 12,
    "start_time": "2022-05-22T19:20:03.151Z"
   },
   {
    "duration": 4,
    "start_time": "2022-05-22T19:20:03.165Z"
   },
   {
    "duration": 13,
    "start_time": "2022-05-22T19:20:03.171Z"
   },
   {
    "duration": 12,
    "start_time": "2022-05-22T19:20:03.186Z"
   },
   {
    "duration": 11,
    "start_time": "2022-05-22T19:20:03.201Z"
   },
   {
    "duration": 24,
    "start_time": "2022-05-22T19:20:03.213Z"
   },
   {
    "duration": 11,
    "start_time": "2022-05-22T19:20:03.239Z"
   },
   {
    "duration": 11,
    "start_time": "2022-05-22T19:20:03.251Z"
   },
   {
    "duration": 9,
    "start_time": "2022-05-22T19:20:03.264Z"
   },
   {
    "duration": 6,
    "start_time": "2022-05-22T19:20:03.275Z"
   },
   {
    "duration": 9,
    "start_time": "2022-05-22T19:20:03.283Z"
   },
   {
    "duration": 7,
    "start_time": "2022-05-22T19:20:03.293Z"
   },
   {
    "duration": 42,
    "start_time": "2022-05-22T19:20:03.301Z"
   },
   {
    "duration": 80,
    "start_time": "2022-05-22T19:20:03.345Z"
   },
   {
    "duration": 4240,
    "start_time": "2022-05-22T19:20:03.427Z"
   },
   {
    "duration": 64225,
    "start_time": "2022-05-22T19:20:07.669Z"
   },
   {
    "duration": 4,
    "start_time": "2022-05-22T19:21:11.896Z"
   },
   {
    "duration": 22,
    "start_time": "2022-05-22T19:21:11.901Z"
   },
   {
    "duration": 103,
    "start_time": "2022-05-22T19:21:11.924Z"
   },
   {
    "duration": 4813,
    "start_time": "2022-05-22T19:21:12.029Z"
   },
   {
    "duration": 72093,
    "start_time": "2022-05-22T19:21:16.844Z"
   },
   {
    "duration": 1313,
    "start_time": "2022-05-22T19:28:24.522Z"
   },
   {
    "duration": 33,
    "start_time": "2022-05-22T19:28:25.837Z"
   },
   {
    "duration": 15,
    "start_time": "2022-05-22T19:28:25.872Z"
   },
   {
    "duration": 14,
    "start_time": "2022-05-22T19:28:25.889Z"
   },
   {
    "duration": 172,
    "start_time": "2022-05-22T19:28:25.905Z"
   },
   {
    "duration": 11,
    "start_time": "2022-05-22T19:28:26.079Z"
   },
   {
    "duration": 4,
    "start_time": "2022-05-22T19:28:26.092Z"
   },
   {
    "duration": 6,
    "start_time": "2022-05-22T19:28:26.097Z"
   },
   {
    "duration": 30,
    "start_time": "2022-05-22T19:28:26.105Z"
   },
   {
    "duration": 16,
    "start_time": "2022-05-22T19:28:26.138Z"
   },
   {
    "duration": 12,
    "start_time": "2022-05-22T19:28:26.156Z"
   },
   {
    "duration": 19,
    "start_time": "2022-05-22T19:28:26.169Z"
   },
   {
    "duration": 12,
    "start_time": "2022-05-22T19:28:26.189Z"
   },
   {
    "duration": 9,
    "start_time": "2022-05-22T19:28:26.203Z"
   },
   {
    "duration": 8,
    "start_time": "2022-05-22T19:28:26.214Z"
   },
   {
    "duration": 10,
    "start_time": "2022-05-22T19:28:26.223Z"
   },
   {
    "duration": 6,
    "start_time": "2022-05-22T19:28:26.235Z"
   },
   {
    "duration": 24,
    "start_time": "2022-05-22T19:28:26.243Z"
   },
   {
    "duration": 156,
    "start_time": "2022-05-22T19:28:26.269Z"
   },
   {
    "duration": 4417,
    "start_time": "2022-05-22T19:28:26.426Z"
   },
   {
    "duration": 66127,
    "start_time": "2022-05-22T19:28:30.844Z"
   },
   {
    "duration": 5,
    "start_time": "2022-05-22T19:29:36.973Z"
   },
   {
    "duration": 20,
    "start_time": "2022-05-22T19:29:36.980Z"
   },
   {
    "duration": 127,
    "start_time": "2022-05-22T19:29:37.001Z"
   },
   {
    "duration": 4992,
    "start_time": "2022-05-22T19:29:37.130Z"
   },
   {
    "duration": 74296,
    "start_time": "2022-05-22T19:29:42.124Z"
   },
   {
    "duration": 5,
    "start_time": "2022-05-22T19:32:51.863Z"
   },
   {
    "duration": 10,
    "start_time": "2022-05-22T19:32:53.875Z"
   },
   {
    "duration": 4,
    "start_time": "2022-05-22T19:35:08.837Z"
   },
   {
    "duration": 11,
    "start_time": "2022-05-22T19:35:09.189Z"
   },
   {
    "duration": 1414,
    "start_time": "2022-05-22T19:35:31.280Z"
   },
   {
    "duration": 34,
    "start_time": "2022-05-22T19:35:32.696Z"
   },
   {
    "duration": 21,
    "start_time": "2022-05-22T19:35:32.732Z"
   },
   {
    "duration": 18,
    "start_time": "2022-05-22T19:35:32.758Z"
   },
   {
    "duration": 158,
    "start_time": "2022-05-22T19:35:32.779Z"
   },
   {
    "duration": 11,
    "start_time": "2022-05-22T19:35:32.939Z"
   },
   {
    "duration": 5,
    "start_time": "2022-05-22T19:35:32.952Z"
   },
   {
    "duration": 8,
    "start_time": "2022-05-22T19:35:32.958Z"
   },
   {
    "duration": 11,
    "start_time": "2022-05-22T19:35:32.967Z"
   },
   {
    "duration": 8,
    "start_time": "2022-05-22T19:35:32.980Z"
   },
   {
    "duration": 8,
    "start_time": "2022-05-22T19:35:32.990Z"
   },
   {
    "duration": 30,
    "start_time": "2022-05-22T19:35:32.999Z"
   },
   {
    "duration": 11,
    "start_time": "2022-05-22T19:35:33.031Z"
   },
   {
    "duration": 12,
    "start_time": "2022-05-22T19:35:33.044Z"
   },
   {
    "duration": 11,
    "start_time": "2022-05-22T19:35:33.058Z"
   },
   {
    "duration": 8,
    "start_time": "2022-05-22T19:35:33.071Z"
   },
   {
    "duration": 7,
    "start_time": "2022-05-22T19:35:33.081Z"
   },
   {
    "duration": 49,
    "start_time": "2022-05-22T19:35:33.089Z"
   },
   {
    "duration": 86,
    "start_time": "2022-05-22T19:35:33.139Z"
   },
   {
    "duration": 4320,
    "start_time": "2022-05-22T19:35:33.227Z"
   },
   {
    "duration": 65662,
    "start_time": "2022-05-22T19:35:37.549Z"
   },
   {
    "duration": 5,
    "start_time": "2022-05-22T19:36:43.213Z"
   },
   {
    "duration": 13,
    "start_time": "2022-05-22T19:36:43.223Z"
   },
   {
    "duration": 86,
    "start_time": "2022-05-22T19:36:43.237Z"
   },
   {
    "duration": 4864,
    "start_time": "2022-05-22T19:36:43.327Z"
   },
   {
    "duration": 74344,
    "start_time": "2022-05-22T19:36:48.192Z"
   },
   {
    "duration": 6,
    "start_time": "2022-05-22T19:38:02.538Z"
   },
   {
    "duration": 18,
    "start_time": "2022-05-22T19:38:02.545Z"
   },
   {
    "duration": 63,
    "start_time": "2022-05-22T19:38:02.566Z"
   },
   {
    "duration": 2547,
    "start_time": "2022-05-22T19:38:02.631Z"
   },
   {
    "duration": 44914,
    "start_time": "2022-05-22T19:38:05.180Z"
   },
   {
    "duration": 4,
    "start_time": "2022-05-22T19:49:11.082Z"
   },
   {
    "duration": 10,
    "start_time": "2022-05-22T19:49:11.602Z"
   },
   {
    "duration": 48,
    "start_time": "2022-05-22T19:49:13.177Z"
   },
   {
    "duration": 3079,
    "start_time": "2022-05-22T19:49:17.292Z"
   },
   {
    "duration": 11,
    "start_time": "2022-05-22T19:49:32.142Z"
   },
   {
    "duration": 79,
    "start_time": "2022-05-22T19:49:34.845Z"
   },
   {
    "duration": 3172,
    "start_time": "2022-05-22T19:49:37.759Z"
   },
   {
    "duration": 11,
    "start_time": "2022-05-22T19:50:05.627Z"
   },
   {
    "duration": 114,
    "start_time": "2022-05-22T19:50:07.811Z"
   },
   {
    "duration": 2337,
    "start_time": "2022-05-22T19:50:10.517Z"
   },
   {
    "duration": 43390,
    "start_time": "2022-05-22T19:50:22.526Z"
   },
   {
    "duration": 10,
    "start_time": "2022-05-22T20:02:45.257Z"
   },
   {
    "duration": 100,
    "start_time": "2022-05-22T20:02:46.830Z"
   },
   {
    "duration": 2829,
    "start_time": "2022-05-22T20:02:49.372Z"
   },
   {
    "duration": 49210,
    "start_time": "2022-05-22T20:02:53.251Z"
   },
   {
    "duration": 34,
    "start_time": "2022-05-22T20:05:05.492Z"
   },
   {
    "duration": 2834,
    "start_time": "2022-05-22T20:05:12.333Z"
   },
   {
    "duration": 49108,
    "start_time": "2022-05-22T20:05:22.864Z"
   },
   {
    "duration": 108,
    "start_time": "2022-05-22T20:12:07.620Z"
   },
   {
    "duration": 10,
    "start_time": "2022-05-22T20:12:10.543Z"
   },
   {
    "duration": 41,
    "start_time": "2022-05-22T20:12:12.287Z"
   },
   {
    "duration": 5897,
    "start_time": "2022-05-22T20:12:16.072Z"
   },
   {
    "duration": 5465,
    "start_time": "2022-05-22T20:12:26.372Z"
   },
   {
    "duration": 84428,
    "start_time": "2022-05-22T20:12:45.920Z"
   },
   {
    "duration": 138,
    "start_time": "2022-05-22T20:31:46.492Z"
   },
   {
    "duration": 154,
    "start_time": "2022-05-22T20:32:01.793Z"
   },
   {
    "duration": 174,
    "start_time": "2022-05-22T20:32:51.358Z"
   },
   {
    "duration": 16827,
    "start_time": "2022-05-22T20:33:52.818Z"
   },
   {
    "duration": 1354,
    "start_time": "2022-05-22T20:35:06.402Z"
   },
   {
    "duration": 32,
    "start_time": "2022-05-22T20:35:07.758Z"
   },
   {
    "duration": 15,
    "start_time": "2022-05-22T20:35:07.791Z"
   },
   {
    "duration": 16,
    "start_time": "2022-05-22T20:35:07.808Z"
   },
   {
    "duration": 147,
    "start_time": "2022-05-22T20:35:07.826Z"
   },
   {
    "duration": 12,
    "start_time": "2022-05-22T20:35:07.975Z"
   },
   {
    "duration": 5,
    "start_time": "2022-05-22T20:35:07.988Z"
   },
   {
    "duration": 8,
    "start_time": "2022-05-22T20:35:07.995Z"
   },
   {
    "duration": 5,
    "start_time": "2022-05-22T20:35:08.022Z"
   },
   {
    "duration": 22,
    "start_time": "2022-05-22T20:35:08.030Z"
   },
   {
    "duration": 18,
    "start_time": "2022-05-22T20:35:08.054Z"
   },
   {
    "duration": 16,
    "start_time": "2022-05-22T20:35:08.074Z"
   },
   {
    "duration": 17,
    "start_time": "2022-05-22T20:35:08.092Z"
   },
   {
    "duration": 18,
    "start_time": "2022-05-22T20:35:08.111Z"
   },
   {
    "duration": 15,
    "start_time": "2022-05-22T20:35:08.131Z"
   },
   {
    "duration": 18,
    "start_time": "2022-05-22T20:35:08.148Z"
   },
   {
    "duration": 5,
    "start_time": "2022-05-22T20:35:08.168Z"
   },
   {
    "duration": 25,
    "start_time": "2022-05-22T20:35:08.175Z"
   },
   {
    "duration": 28,
    "start_time": "2022-05-22T20:35:08.202Z"
   },
   {
    "duration": 4368,
    "start_time": "2022-05-22T20:35:08.325Z"
   },
   {
    "duration": 22759,
    "start_time": "2022-05-22T20:35:12.695Z"
   },
   {
    "duration": 4,
    "start_time": "2022-05-22T20:35:35.456Z"
   },
   {
    "duration": 18,
    "start_time": "2022-05-22T20:35:35.462Z"
   },
   {
    "duration": 50,
    "start_time": "2022-05-22T20:35:35.482Z"
   },
   {
    "duration": 5571,
    "start_time": "2022-05-22T20:35:35.624Z"
   },
   {
    "duration": 30460,
    "start_time": "2022-05-22T20:35:41.196Z"
   },
   {
    "duration": 4,
    "start_time": "2022-05-22T20:36:11.658Z"
   },
   {
    "duration": 8,
    "start_time": "2022-05-22T20:36:11.665Z"
   },
   {
    "duration": 148,
    "start_time": "2022-05-22T20:36:11.675Z"
   },
   {
    "duration": 2776,
    "start_time": "2022-05-22T20:36:11.825Z"
   },
   {
    "duration": 16793,
    "start_time": "2022-05-22T20:36:14.603Z"
   },
   {
    "duration": 10,
    "start_time": "2022-05-22T20:37:57.132Z"
   },
   {
    "duration": 95,
    "start_time": "2022-05-22T20:38:00.030Z"
   },
   {
    "duration": 2427,
    "start_time": "2022-05-22T20:38:05.464Z"
   },
   {
    "duration": 34,
    "start_time": "2022-05-22T20:38:32.091Z"
   },
   {
    "duration": 1339,
    "start_time": "2022-05-22T20:39:02.399Z"
   },
   {
    "duration": 31,
    "start_time": "2022-05-22T20:39:03.740Z"
   },
   {
    "duration": 17,
    "start_time": "2022-05-22T20:39:03.773Z"
   },
   {
    "duration": 12,
    "start_time": "2022-05-22T20:39:03.792Z"
   },
   {
    "duration": 141,
    "start_time": "2022-05-22T20:39:03.806Z"
   },
   {
    "duration": 13,
    "start_time": "2022-05-22T20:39:03.949Z"
   },
   {
    "duration": 4,
    "start_time": "2022-05-22T20:39:03.964Z"
   },
   {
    "duration": 10,
    "start_time": "2022-05-22T20:39:03.970Z"
   },
   {
    "duration": 10,
    "start_time": "2022-05-22T20:39:03.982Z"
   },
   {
    "duration": 7,
    "start_time": "2022-05-22T20:39:03.995Z"
   },
   {
    "duration": 21,
    "start_time": "2022-05-22T20:39:04.004Z"
   },
   {
    "duration": 11,
    "start_time": "2022-05-22T20:39:04.026Z"
   },
   {
    "duration": 13,
    "start_time": "2022-05-22T20:39:04.039Z"
   },
   {
    "duration": 9,
    "start_time": "2022-05-22T20:39:04.054Z"
   },
   {
    "duration": 6,
    "start_time": "2022-05-22T20:39:04.064Z"
   },
   {
    "duration": 13,
    "start_time": "2022-05-22T20:39:04.072Z"
   },
   {
    "duration": 12,
    "start_time": "2022-05-22T20:39:04.086Z"
   },
   {
    "duration": 37,
    "start_time": "2022-05-22T20:39:04.099Z"
   },
   {
    "duration": 88,
    "start_time": "2022-05-22T20:39:04.138Z"
   },
   {
    "duration": 4659,
    "start_time": "2022-05-22T20:39:04.230Z"
   },
   {
    "duration": 22969,
    "start_time": "2022-05-22T20:39:08.890Z"
   },
   {
    "duration": 5,
    "start_time": "2022-05-22T20:39:31.861Z"
   },
   {
    "duration": 18,
    "start_time": "2022-05-22T20:39:31.868Z"
   },
   {
    "duration": 40,
    "start_time": "2022-05-22T20:39:31.888Z"
   },
   {
    "duration": 5967,
    "start_time": "2022-05-22T20:39:31.930Z"
   },
   {
    "duration": 31244,
    "start_time": "2022-05-22T20:39:37.899Z"
   },
   {
    "duration": 4,
    "start_time": "2022-05-22T20:40:09.144Z"
   },
   {
    "duration": 13,
    "start_time": "2022-05-22T20:40:09.151Z"
   },
   {
    "duration": 66,
    "start_time": "2022-05-22T20:40:09.165Z"
   },
   {
    "duration": 2582,
    "start_time": "2022-05-22T20:40:09.233Z"
   },
   {
    "duration": 15255,
    "start_time": "2022-05-22T20:40:11.817Z"
   },
   {
    "duration": 14918,
    "start_time": "2022-05-22T20:40:56.009Z"
   },
   {
    "duration": 88194,
    "start_time": "2022-05-22T20:43:46.705Z"
   },
   {
    "duration": 65010,
    "start_time": "2022-05-22T20:45:21.537Z"
   },
   {
    "duration": 31377,
    "start_time": "2022-05-22T20:47:00.559Z"
   },
   {
    "duration": 1315,
    "start_time": "2022-05-22T20:48:03.346Z"
   },
   {
    "duration": 32,
    "start_time": "2022-05-22T20:48:04.663Z"
   },
   {
    "duration": 17,
    "start_time": "2022-05-22T20:48:04.698Z"
   },
   {
    "duration": 13,
    "start_time": "2022-05-22T20:48:04.724Z"
   },
   {
    "duration": 160,
    "start_time": "2022-05-22T20:48:04.738Z"
   },
   {
    "duration": 25,
    "start_time": "2022-05-22T20:48:04.900Z"
   },
   {
    "duration": 5,
    "start_time": "2022-05-22T20:48:04.926Z"
   },
   {
    "duration": 15,
    "start_time": "2022-05-22T20:48:04.933Z"
   },
   {
    "duration": 8,
    "start_time": "2022-05-22T20:48:04.949Z"
   },
   {
    "duration": 10,
    "start_time": "2022-05-22T20:48:04.960Z"
   },
   {
    "duration": 16,
    "start_time": "2022-05-22T20:48:04.971Z"
   },
   {
    "duration": 11,
    "start_time": "2022-05-22T20:48:04.988Z"
   },
   {
    "duration": 16,
    "start_time": "2022-05-22T20:48:05.001Z"
   },
   {
    "duration": 11,
    "start_time": "2022-05-22T20:48:05.022Z"
   },
   {
    "duration": 11,
    "start_time": "2022-05-22T20:48:05.034Z"
   },
   {
    "duration": 12,
    "start_time": "2022-05-22T20:48:05.047Z"
   },
   {
    "duration": 8,
    "start_time": "2022-05-22T20:48:05.060Z"
   },
   {
    "duration": 30,
    "start_time": "2022-05-22T20:48:05.070Z"
   },
   {
    "duration": 121,
    "start_time": "2022-05-22T20:48:05.103Z"
   },
   {
    "duration": 4473,
    "start_time": "2022-05-22T20:48:05.233Z"
   },
   {
    "duration": 22951,
    "start_time": "2022-05-22T20:48:09.708Z"
   },
   {
    "duration": 4,
    "start_time": "2022-05-22T20:48:32.661Z"
   },
   {
    "duration": 16,
    "start_time": "2022-05-22T20:48:32.668Z"
   },
   {
    "duration": 139,
    "start_time": "2022-05-22T20:48:32.686Z"
   },
   {
    "duration": 5814,
    "start_time": "2022-05-22T20:48:32.827Z"
   },
   {
    "duration": 31458,
    "start_time": "2022-05-22T20:48:38.643Z"
   },
   {
    "duration": 4,
    "start_time": "2022-05-22T20:49:10.103Z"
   },
   {
    "duration": 17,
    "start_time": "2022-05-22T20:49:10.109Z"
   },
   {
    "duration": 96,
    "start_time": "2022-05-22T20:49:10.128Z"
   },
   {
    "duration": 2616,
    "start_time": "2022-05-22T20:49:10.228Z"
   },
   {
    "duration": 15127,
    "start_time": "2022-05-22T20:49:12.846Z"
   },
   {
    "duration": 9,
    "start_time": "2022-05-22T20:50:58.698Z"
   },
   {
    "duration": 104,
    "start_time": "2022-05-22T20:50:59.521Z"
   },
   {
    "duration": 5025,
    "start_time": "2022-05-22T20:51:02.880Z"
   },
   {
    "duration": 9,
    "start_time": "2022-05-22T20:51:27.826Z"
   },
   {
    "duration": 190,
    "start_time": "2022-05-22T20:51:29.535Z"
   },
   {
    "duration": 2921,
    "start_time": "2022-05-22T20:51:32.713Z"
   },
   {
    "duration": 17198,
    "start_time": "2022-05-22T20:51:39.487Z"
   },
   {
    "duration": 69,
    "start_time": "2022-05-22T20:59:01.058Z"
   },
   {
    "duration": 4204,
    "start_time": "2022-05-22T20:59:03.294Z"
   },
   {
    "duration": 23033,
    "start_time": "2022-05-22T20:59:07.499Z"
   },
   {
    "duration": 4,
    "start_time": "2022-05-22T21:00:23.351Z"
   },
   {
    "duration": 10,
    "start_time": "2022-05-22T21:00:26.796Z"
   },
   {
    "duration": 103,
    "start_time": "2022-05-22T21:00:27.622Z"
   },
   {
    "duration": 5970,
    "start_time": "2022-05-22T21:00:29.859Z"
   },
   {
    "duration": 31387,
    "start_time": "2022-05-22T21:00:35.831Z"
   },
   {
    "duration": 5,
    "start_time": "2022-05-22T21:01:50.853Z"
   },
   {
    "duration": 11,
    "start_time": "2022-05-22T21:01:51.130Z"
   },
   {
    "duration": 181,
    "start_time": "2022-05-22T21:01:52.544Z"
   },
   {
    "duration": 2931,
    "start_time": "2022-05-22T21:01:52.837Z"
   },
   {
    "duration": 17055,
    "start_time": "2022-05-22T21:01:55.770Z"
   },
   {
    "duration": 319,
    "start_time": "2022-05-22T21:05:21.116Z"
   },
   {
    "duration": 112,
    "start_time": "2022-05-22T21:05:36.914Z"
   },
   {
    "duration": 13,
    "start_time": "2022-05-22T21:05:44.217Z"
   },
   {
    "duration": 14,
    "start_time": "2022-05-22T21:06:41.811Z"
   },
   {
    "duration": 30,
    "start_time": "2022-05-22T21:07:24.386Z"
   },
   {
    "duration": 69,
    "start_time": "2022-05-22T21:08:49.003Z"
   },
   {
    "duration": 1381,
    "start_time": "2022-05-22T21:09:05.542Z"
   },
   {
    "duration": 708,
    "start_time": "2022-05-22T21:09:28.043Z"
   },
   {
    "duration": 1054,
    "start_time": "2022-05-22T21:09:39.739Z"
   },
   {
    "duration": 32702,
    "start_time": "2022-05-22T21:09:59.034Z"
   },
   {
    "duration": 64764,
    "start_time": "2022-05-22T21:10:46.254Z"
   },
   {
    "duration": 102,
    "start_time": "2022-05-22T21:11:51.024Z"
   },
   {
    "duration": 1481,
    "start_time": "2022-05-23T18:41:20.527Z"
   },
   {
    "duration": 79,
    "start_time": "2022-05-23T18:41:22.010Z"
   },
   {
    "duration": 18,
    "start_time": "2022-05-23T18:41:22.091Z"
   },
   {
    "duration": 13,
    "start_time": "2022-05-23T18:41:22.111Z"
   },
   {
    "duration": 162,
    "start_time": "2022-05-23T18:41:22.126Z"
   },
   {
    "duration": 14,
    "start_time": "2022-05-23T18:41:22.290Z"
   },
   {
    "duration": 4,
    "start_time": "2022-05-23T18:41:22.306Z"
   },
   {
    "duration": 13,
    "start_time": "2022-05-23T18:41:22.312Z"
   },
   {
    "duration": 7,
    "start_time": "2022-05-23T18:41:22.327Z"
   },
   {
    "duration": 6,
    "start_time": "2022-05-23T18:41:22.337Z"
   },
   {
    "duration": 26,
    "start_time": "2022-05-23T18:41:22.344Z"
   },
   {
    "duration": 11,
    "start_time": "2022-05-23T18:41:22.372Z"
   },
   {
    "duration": 13,
    "start_time": "2022-05-23T18:41:22.384Z"
   },
   {
    "duration": 11,
    "start_time": "2022-05-23T18:41:22.399Z"
   },
   {
    "duration": 14,
    "start_time": "2022-05-23T18:41:22.412Z"
   },
   {
    "duration": 8,
    "start_time": "2022-05-23T18:41:22.428Z"
   },
   {
    "duration": 12,
    "start_time": "2022-05-23T18:41:22.438Z"
   },
   {
    "duration": 37,
    "start_time": "2022-05-23T18:41:22.452Z"
   },
   {
    "duration": 72,
    "start_time": "2022-05-23T18:41:22.491Z"
   },
   {
    "duration": 1111,
    "start_time": "2022-05-23T18:41:22.565Z"
   },
   {
    "duration": 61887,
    "start_time": "2022-05-23T18:41:23.677Z"
   },
   {
    "duration": 4,
    "start_time": "2022-05-23T18:42:25.566Z"
   },
   {
    "duration": 162,
    "start_time": "2022-05-23T18:42:25.571Z"
   },
   {
    "duration": 32,
    "start_time": "2022-05-23T18:42:25.735Z"
   },
   {
    "duration": 5808,
    "start_time": "2022-05-23T18:42:25.770Z"
   },
   {
    "duration": 29684,
    "start_time": "2022-05-23T18:42:31.580Z"
   },
   {
    "duration": 5,
    "start_time": "2022-05-23T18:43:01.266Z"
   },
   {
    "duration": 32,
    "start_time": "2022-05-23T18:43:01.273Z"
   },
   {
    "duration": 151,
    "start_time": "2022-05-23T18:43:01.307Z"
   },
   {
    "duration": 2938,
    "start_time": "2022-05-23T18:43:01.461Z"
   },
   {
    "duration": 16506,
    "start_time": "2022-05-23T18:43:04.401Z"
   },
   {
    "duration": 55,
    "start_time": "2022-05-23T18:43:20.909Z"
   },
   {
    "duration": 107,
    "start_time": "2022-05-23T18:43:20.967Z"
   },
   {
    "duration": 29,
    "start_time": "2022-05-23T18:43:21.076Z"
   },
   {
    "duration": 129,
    "start_time": "2022-05-23T18:44:32.861Z"
   },
   {
    "duration": 220,
    "start_time": "2022-05-23T18:45:16.090Z"
   },
   {
    "duration": 239,
    "start_time": "2022-05-23T18:45:55.488Z"
   },
   {
    "duration": 166,
    "start_time": "2022-05-23T18:47:58.898Z"
   },
   {
    "duration": 180,
    "start_time": "2022-05-23T18:48:07.920Z"
   },
   {
    "duration": 169,
    "start_time": "2022-05-23T18:49:25.358Z"
   },
   {
    "duration": 253,
    "start_time": "2022-05-23T18:50:06.855Z"
   },
   {
    "duration": 453,
    "start_time": "2022-05-23T18:50:18.368Z"
   },
   {
    "duration": 529,
    "start_time": "2022-05-23T18:50:21.407Z"
   },
   {
    "duration": 468,
    "start_time": "2022-05-23T18:50:25.399Z"
   },
   {
    "duration": 3515,
    "start_time": "2022-05-23T18:50:31.811Z"
   },
   {
    "duration": 4118,
    "start_time": "2022-05-23T18:50:51.247Z"
   },
   {
    "duration": 3817,
    "start_time": "2022-05-23T18:51:01.488Z"
   },
   {
    "duration": 4022,
    "start_time": "2022-05-23T18:51:12.681Z"
   },
   {
    "duration": 25,
    "start_time": "2022-05-23T18:53:53.377Z"
   },
   {
    "duration": 1214,
    "start_time": "2022-05-23T18:54:23.309Z"
   },
   {
    "duration": 39,
    "start_time": "2022-05-23T18:54:24.525Z"
   },
   {
    "duration": 14,
    "start_time": "2022-05-23T18:54:24.565Z"
   },
   {
    "duration": 13,
    "start_time": "2022-05-23T18:54:24.581Z"
   },
   {
    "duration": 157,
    "start_time": "2022-05-23T18:54:24.595Z"
   },
   {
    "duration": 13,
    "start_time": "2022-05-23T18:54:24.754Z"
   },
   {
    "duration": 4,
    "start_time": "2022-05-23T18:54:24.769Z"
   },
   {
    "duration": 6,
    "start_time": "2022-05-23T18:54:24.774Z"
   },
   {
    "duration": 6,
    "start_time": "2022-05-23T18:54:24.781Z"
   },
   {
    "duration": 7,
    "start_time": "2022-05-23T18:54:24.790Z"
   },
   {
    "duration": 8,
    "start_time": "2022-05-23T18:54:24.798Z"
   },
   {
    "duration": 9,
    "start_time": "2022-05-23T18:54:24.807Z"
   },
   {
    "duration": 47,
    "start_time": "2022-05-23T18:54:24.818Z"
   },
   {
    "duration": 8,
    "start_time": "2022-05-23T18:54:24.867Z"
   },
   {
    "duration": 6,
    "start_time": "2022-05-23T18:54:24.876Z"
   },
   {
    "duration": 6,
    "start_time": "2022-05-23T18:54:24.884Z"
   },
   {
    "duration": 8,
    "start_time": "2022-05-23T18:54:24.892Z"
   },
   {
    "duration": 25,
    "start_time": "2022-05-23T18:54:24.901Z"
   },
   {
    "duration": 61,
    "start_time": "2022-05-23T18:54:24.928Z"
   },
   {
    "duration": 4316,
    "start_time": "2022-05-23T18:54:24.990Z"
   },
   {
    "duration": 61341,
    "start_time": "2022-05-23T18:54:29.308Z"
   },
   {
    "duration": 8,
    "start_time": "2022-05-23T18:55:30.651Z"
   },
   {
    "duration": 175,
    "start_time": "2022-05-23T18:55:30.661Z"
   },
   {
    "duration": 121,
    "start_time": "2022-05-23T18:55:30.838Z"
   },
   {
    "duration": 5619,
    "start_time": "2022-05-23T18:55:30.961Z"
   },
   {
    "duration": 29699,
    "start_time": "2022-05-23T18:55:36.581Z"
   },
   {
    "duration": 5,
    "start_time": "2022-05-23T18:56:06.281Z"
   },
   {
    "duration": 15,
    "start_time": "2022-05-23T18:56:06.290Z"
   },
   {
    "duration": 59,
    "start_time": "2022-05-23T18:56:06.307Z"
   },
   {
    "duration": 3226,
    "start_time": "2022-05-23T18:56:06.368Z"
   },
   {
    "duration": 16629,
    "start_time": "2022-05-23T18:56:09.595Z"
   },
   {
    "duration": 40,
    "start_time": "2022-05-23T18:56:26.225Z"
   },
   {
    "duration": 102,
    "start_time": "2022-05-23T18:56:26.268Z"
   },
   {
    "duration": 31,
    "start_time": "2022-05-23T18:56:26.372Z"
   },
   {
    "duration": 31,
    "start_time": "2022-05-23T19:01:23.185Z"
   },
   {
    "duration": 11,
    "start_time": "2022-05-23T19:21:02.995Z"
   },
   {
    "duration": 7,
    "start_time": "2022-05-23T19:21:17.657Z"
   },
   {
    "duration": 4,
    "start_time": "2022-05-23T19:21:21.381Z"
   },
   {
    "duration": 11,
    "start_time": "2022-05-23T19:22:18.486Z"
   },
   {
    "duration": 7,
    "start_time": "2022-05-23T19:22:18.861Z"
   },
   {
    "duration": 4,
    "start_time": "2022-05-23T19:22:19.185Z"
   },
   {
    "duration": 121,
    "start_time": "2022-05-23T19:23:09.700Z"
   },
   {
    "duration": 7,
    "start_time": "2022-05-23T19:23:19.367Z"
   },
   {
    "duration": 5,
    "start_time": "2022-05-23T19:23:33.352Z"
   },
   {
    "duration": 4,
    "start_time": "2022-05-23T19:23:36.619Z"
   },
   {
    "duration": 31,
    "start_time": "2022-05-23T19:25:28.362Z"
   },
   {
    "duration": 7,
    "start_time": "2022-05-23T19:25:28.757Z"
   },
   {
    "duration": 4,
    "start_time": "2022-05-23T19:25:29.053Z"
   },
   {
    "duration": 10,
    "start_time": "2022-05-23T19:25:29.891Z"
   },
   {
    "duration": 11,
    "start_time": "2022-05-23T19:26:50.889Z"
   },
   {
    "duration": 5,
    "start_time": "2022-05-23T19:27:17.180Z"
   },
   {
    "duration": 177,
    "start_time": "2022-05-23T19:27:21.298Z"
   },
   {
    "duration": 183,
    "start_time": "2022-05-23T19:27:25.255Z"
   },
   {
    "duration": 180,
    "start_time": "2022-05-23T19:27:28.461Z"
   },
   {
    "duration": 185,
    "start_time": "2022-05-23T19:27:30.376Z"
   },
   {
    "duration": 228,
    "start_time": "2022-05-23T19:27:37.960Z"
   },
   {
    "duration": 1341,
    "start_time": "2022-05-23T20:07:09.395Z"
   },
   {
    "duration": 40,
    "start_time": "2022-05-23T20:07:10.739Z"
   },
   {
    "duration": 14,
    "start_time": "2022-05-23T20:07:10.781Z"
   },
   {
    "duration": 21,
    "start_time": "2022-05-23T20:07:10.797Z"
   },
   {
    "duration": 139,
    "start_time": "2022-05-23T20:07:10.819Z"
   },
   {
    "duration": 12,
    "start_time": "2022-05-23T20:07:10.960Z"
   },
   {
    "duration": 4,
    "start_time": "2022-05-23T20:07:10.974Z"
   },
   {
    "duration": 9,
    "start_time": "2022-05-23T20:07:10.980Z"
   },
   {
    "duration": 20,
    "start_time": "2022-05-23T20:07:10.991Z"
   },
   {
    "duration": 7,
    "start_time": "2022-05-23T20:07:11.015Z"
   },
   {
    "duration": 8,
    "start_time": "2022-05-23T20:07:11.024Z"
   },
   {
    "duration": 25,
    "start_time": "2022-05-23T20:07:11.034Z"
   },
   {
    "duration": 10,
    "start_time": "2022-05-23T20:07:11.062Z"
   },
   {
    "duration": 14,
    "start_time": "2022-05-23T20:07:11.074Z"
   },
   {
    "duration": 9,
    "start_time": "2022-05-23T20:07:11.090Z"
   },
   {
    "duration": 9,
    "start_time": "2022-05-23T20:07:11.100Z"
   },
   {
    "duration": 7,
    "start_time": "2022-05-23T20:07:11.111Z"
   },
   {
    "duration": 50,
    "start_time": "2022-05-23T20:07:11.120Z"
   },
   {
    "duration": 88,
    "start_time": "2022-05-23T20:07:11.172Z"
   },
   {
    "duration": 4529,
    "start_time": "2022-05-23T20:07:11.261Z"
   },
   {
    "duration": 66544,
    "start_time": "2022-05-23T20:07:15.792Z"
   },
   {
    "duration": 4,
    "start_time": "2022-05-23T20:08:22.338Z"
   },
   {
    "duration": 186,
    "start_time": "2022-05-23T20:08:22.344Z"
   },
   {
    "duration": 128,
    "start_time": "2022-05-23T20:08:22.532Z"
   },
   {
    "duration": 5953,
    "start_time": "2022-05-23T20:08:22.663Z"
   },
   {
    "duration": 31329,
    "start_time": "2022-05-23T20:08:28.618Z"
   },
   {
    "duration": 14,
    "start_time": "2022-05-23T20:08:59.949Z"
   },
   {
    "duration": 11,
    "start_time": "2022-05-23T20:08:59.966Z"
   },
   {
    "duration": 186,
    "start_time": "2022-05-23T20:08:59.979Z"
   },
   {
    "duration": 3181,
    "start_time": "2022-05-23T20:09:00.167Z"
   },
   {
    "duration": 17004,
    "start_time": "2022-05-23T20:09:03.350Z"
   },
   {
    "duration": 103,
    "start_time": "2022-05-23T20:09:20.360Z"
   },
   {
    "duration": 100,
    "start_time": "2022-05-23T20:09:20.466Z"
   },
   {
    "duration": 31,
    "start_time": "2022-05-23T20:09:20.568Z"
   },
   {
    "duration": 262,
    "start_time": "2022-05-23T20:09:20.601Z"
   },
   {
    "duration": 0,
    "start_time": "2022-05-23T20:09:20.864Z"
   },
   {
    "duration": 0,
    "start_time": "2022-05-23T20:09:20.865Z"
   },
   {
    "duration": 0,
    "start_time": "2022-05-23T20:09:20.867Z"
   },
   {
    "duration": 0,
    "start_time": "2022-05-23T20:09:20.868Z"
   },
   {
    "duration": 0,
    "start_time": "2022-05-23T20:09:20.869Z"
   },
   {
    "duration": 0,
    "start_time": "2022-05-23T20:09:20.870Z"
   },
   {
    "duration": 0,
    "start_time": "2022-05-23T20:09:20.872Z"
   },
   {
    "duration": 0,
    "start_time": "2022-05-23T20:09:20.873Z"
   },
   {
    "duration": 0,
    "start_time": "2022-05-23T20:09:20.874Z"
   },
   {
    "duration": 1289,
    "start_time": "2022-05-23T20:17:05.889Z"
   },
   {
    "duration": 51,
    "start_time": "2022-05-23T20:17:07.180Z"
   },
   {
    "duration": 21,
    "start_time": "2022-05-23T20:17:07.233Z"
   },
   {
    "duration": 29,
    "start_time": "2022-05-23T20:17:07.257Z"
   },
   {
    "duration": 189,
    "start_time": "2022-05-23T20:17:07.288Z"
   },
   {
    "duration": 12,
    "start_time": "2022-05-23T20:17:07.480Z"
   },
   {
    "duration": 14,
    "start_time": "2022-05-23T20:17:07.494Z"
   },
   {
    "duration": 22,
    "start_time": "2022-05-23T20:17:07.512Z"
   },
   {
    "duration": 7,
    "start_time": "2022-05-23T20:17:07.536Z"
   },
   {
    "duration": 27,
    "start_time": "2022-05-23T20:17:07.545Z"
   },
   {
    "duration": 12,
    "start_time": "2022-05-23T20:17:07.574Z"
   },
   {
    "duration": 11,
    "start_time": "2022-05-23T20:17:07.588Z"
   },
   {
    "duration": 34,
    "start_time": "2022-05-23T20:17:07.601Z"
   },
   {
    "duration": 16,
    "start_time": "2022-05-23T20:17:07.637Z"
   },
   {
    "duration": 14,
    "start_time": "2022-05-23T20:17:07.655Z"
   },
   {
    "duration": 22,
    "start_time": "2022-05-23T20:17:07.671Z"
   },
   {
    "duration": 16,
    "start_time": "2022-05-23T20:17:07.694Z"
   },
   {
    "duration": 40,
    "start_time": "2022-05-23T20:17:07.712Z"
   },
   {
    "duration": 105,
    "start_time": "2022-05-23T20:17:07.753Z"
   },
   {
    "duration": 5255,
    "start_time": "2022-05-23T20:17:07.861Z"
   },
   {
    "duration": 62127,
    "start_time": "2022-05-23T20:17:13.118Z"
   },
   {
    "duration": 13,
    "start_time": "2022-05-23T20:18:15.246Z"
   },
   {
    "duration": 16,
    "start_time": "2022-05-23T20:18:15.261Z"
   },
   {
    "duration": 83,
    "start_time": "2022-05-23T20:18:15.279Z"
   },
   {
    "duration": 5696,
    "start_time": "2022-05-23T20:18:15.364Z"
   },
   {
    "duration": 32519,
    "start_time": "2022-05-23T20:18:21.062Z"
   },
   {
    "duration": 4,
    "start_time": "2022-05-23T20:18:53.582Z"
   },
   {
    "duration": 15,
    "start_time": "2022-05-23T20:18:53.589Z"
   },
   {
    "duration": 164,
    "start_time": "2022-05-23T20:18:53.605Z"
   },
   {
    "duration": 3088,
    "start_time": "2022-05-23T20:18:53.771Z"
   },
   {
    "duration": 18005,
    "start_time": "2022-05-23T20:18:56.861Z"
   },
   {
    "duration": 107,
    "start_time": "2022-05-23T20:19:14.870Z"
   },
   {
    "duration": 104,
    "start_time": "2022-05-23T20:19:14.982Z"
   },
   {
    "duration": 32,
    "start_time": "2022-05-23T20:19:15.088Z"
   },
   {
    "duration": 295,
    "start_time": "2022-05-23T20:19:15.121Z"
   },
   {
    "duration": 0,
    "start_time": "2022-05-23T20:19:15.417Z"
   },
   {
    "duration": 0,
    "start_time": "2022-05-23T20:19:15.419Z"
   },
   {
    "duration": 0,
    "start_time": "2022-05-23T20:19:15.420Z"
   },
   {
    "duration": 0,
    "start_time": "2022-05-23T20:19:15.420Z"
   },
   {
    "duration": 0,
    "start_time": "2022-05-23T20:19:15.422Z"
   },
   {
    "duration": 0,
    "start_time": "2022-05-23T20:19:15.422Z"
   },
   {
    "duration": 0,
    "start_time": "2022-05-23T20:19:15.424Z"
   },
   {
    "duration": 0,
    "start_time": "2022-05-23T20:19:15.425Z"
   },
   {
    "duration": 0,
    "start_time": "2022-05-23T20:19:15.426Z"
   },
   {
    "duration": 17,
    "start_time": "2022-05-23T20:20:18.141Z"
   },
   {
    "duration": 41,
    "start_time": "2022-05-23T20:20:34.372Z"
   },
   {
    "duration": 24,
    "start_time": "2022-05-23T20:20:40.075Z"
   },
   {
    "duration": 12,
    "start_time": "2022-05-23T20:20:50.215Z"
   },
   {
    "duration": 10,
    "start_time": "2022-05-23T20:20:51.903Z"
   },
   {
    "duration": 10,
    "start_time": "2022-05-23T20:20:53.749Z"
   },
   {
    "duration": 1297,
    "start_time": "2022-05-23T20:21:39.596Z"
   },
   {
    "duration": 39,
    "start_time": "2022-05-23T20:21:40.895Z"
   },
   {
    "duration": 15,
    "start_time": "2022-05-23T20:21:40.939Z"
   },
   {
    "duration": 29,
    "start_time": "2022-05-23T20:21:40.956Z"
   },
   {
    "duration": 146,
    "start_time": "2022-05-23T20:21:40.987Z"
   },
   {
    "duration": 11,
    "start_time": "2022-05-23T20:21:41.134Z"
   },
   {
    "duration": 19,
    "start_time": "2022-05-23T20:21:41.159Z"
   },
   {
    "duration": 19,
    "start_time": "2022-05-23T20:21:41.180Z"
   },
   {
    "duration": 25,
    "start_time": "2022-05-23T20:21:41.203Z"
   },
   {
    "duration": 10,
    "start_time": "2022-05-23T20:21:41.230Z"
   },
   {
    "duration": 10,
    "start_time": "2022-05-23T20:21:41.242Z"
   },
   {
    "duration": 22,
    "start_time": "2022-05-23T20:21:41.255Z"
   },
   {
    "duration": 14,
    "start_time": "2022-05-23T20:21:41.279Z"
   },
   {
    "duration": 9,
    "start_time": "2022-05-23T20:21:41.294Z"
   },
   {
    "duration": 5,
    "start_time": "2022-05-23T20:21:41.305Z"
   },
   {
    "duration": 6,
    "start_time": "2022-05-23T20:21:41.312Z"
   },
   {
    "duration": 5,
    "start_time": "2022-05-23T20:21:41.319Z"
   },
   {
    "duration": 50,
    "start_time": "2022-05-23T20:21:41.326Z"
   },
   {
    "duration": 90,
    "start_time": "2022-05-23T20:21:41.378Z"
   },
   {
    "duration": 4325,
    "start_time": "2022-05-23T20:21:41.470Z"
   },
   {
    "duration": 64269,
    "start_time": "2022-05-23T20:21:45.797Z"
   },
   {
    "duration": 6,
    "start_time": "2022-05-23T20:22:50.068Z"
   },
   {
    "duration": 16,
    "start_time": "2022-05-23T20:22:50.078Z"
   },
   {
    "duration": 162,
    "start_time": "2022-05-23T20:22:50.096Z"
   },
   {
    "duration": 5930,
    "start_time": "2022-05-23T20:22:50.261Z"
   },
   {
    "duration": 32815,
    "start_time": "2022-05-23T20:22:56.193Z"
   },
   {
    "duration": 4,
    "start_time": "2022-05-23T20:23:29.013Z"
   },
   {
    "duration": 18,
    "start_time": "2022-05-23T20:23:29.019Z"
   },
   {
    "duration": 47,
    "start_time": "2022-05-23T20:23:29.039Z"
   },
   {
    "duration": 3246,
    "start_time": "2022-05-23T20:23:29.088Z"
   },
   {
    "duration": 17039,
    "start_time": "2022-05-23T20:23:32.336Z"
   },
   {
    "duration": 86,
    "start_time": "2022-05-23T20:23:49.377Z"
   },
   {
    "duration": 122,
    "start_time": "2022-05-23T20:23:49.465Z"
   },
   {
    "duration": 33,
    "start_time": "2022-05-23T20:23:49.588Z"
   },
   {
    "duration": 45,
    "start_time": "2022-05-23T20:23:49.623Z"
   },
   {
    "duration": 115,
    "start_time": "2022-05-23T20:23:49.670Z"
   },
   {
    "duration": 4,
    "start_time": "2022-05-23T20:23:49.787Z"
   },
   {
    "duration": 8,
    "start_time": "2022-05-23T20:23:49.793Z"
   },
   {
    "duration": 8,
    "start_time": "2022-05-23T20:23:49.802Z"
   },
   {
    "duration": 5,
    "start_time": "2022-05-23T20:23:49.811Z"
   },
   {
    "duration": 30,
    "start_time": "2022-05-23T20:23:49.818Z"
   },
   {
    "duration": 13,
    "start_time": "2022-05-23T20:23:49.849Z"
   },
   {
    "duration": 11,
    "start_time": "2022-05-23T20:23:49.863Z"
   },
   {
    "duration": 248,
    "start_time": "2022-05-23T20:23:49.876Z"
   },
   {
    "duration": 1194,
    "start_time": "2022-05-24T10:24:49.443Z"
   },
   {
    "duration": 37,
    "start_time": "2022-05-24T10:24:50.640Z"
   },
   {
    "duration": 14,
    "start_time": "2022-05-24T10:24:50.685Z"
   },
   {
    "duration": 14,
    "start_time": "2022-05-24T10:24:50.700Z"
   },
   {
    "duration": 129,
    "start_time": "2022-05-24T10:24:50.716Z"
   },
   {
    "duration": 11,
    "start_time": "2022-05-24T10:24:50.847Z"
   },
   {
    "duration": 19,
    "start_time": "2022-05-24T10:24:50.859Z"
   },
   {
    "duration": 21,
    "start_time": "2022-05-24T10:24:50.880Z"
   },
   {
    "duration": 9,
    "start_time": "2022-05-24T10:24:50.902Z"
   },
   {
    "duration": 13,
    "start_time": "2022-05-24T10:24:50.913Z"
   },
   {
    "duration": 12,
    "start_time": "2022-05-24T10:24:50.927Z"
   },
   {
    "duration": 13,
    "start_time": "2022-05-24T10:24:50.940Z"
   },
   {
    "duration": 9,
    "start_time": "2022-05-24T10:24:50.954Z"
   },
   {
    "duration": 17,
    "start_time": "2022-05-24T10:24:50.966Z"
   },
   {
    "duration": 5,
    "start_time": "2022-05-24T10:24:50.984Z"
   },
   {
    "duration": 13,
    "start_time": "2022-05-24T10:24:50.990Z"
   },
   {
    "duration": 6,
    "start_time": "2022-05-24T10:24:51.004Z"
   },
   {
    "duration": 28,
    "start_time": "2022-05-24T10:24:51.011Z"
   },
   {
    "duration": 51,
    "start_time": "2022-05-24T10:24:51.040Z"
   },
   {
    "duration": 4253,
    "start_time": "2022-05-24T10:24:51.095Z"
   },
   {
    "duration": 63031,
    "start_time": "2022-05-24T10:24:55.350Z"
   },
   {
    "duration": 6,
    "start_time": "2022-05-24T10:25:58.383Z"
   },
   {
    "duration": 146,
    "start_time": "2022-05-24T10:25:58.390Z"
   },
   {
    "duration": 24,
    "start_time": "2022-05-24T10:25:58.537Z"
   },
   {
    "duration": 5661,
    "start_time": "2022-05-24T10:25:58.582Z"
   },
   {
    "duration": 30037,
    "start_time": "2022-05-24T10:26:04.245Z"
   },
   {
    "duration": 5,
    "start_time": "2022-05-24T10:26:34.287Z"
   },
   {
    "duration": 16,
    "start_time": "2022-05-24T10:26:34.293Z"
   },
   {
    "duration": 73,
    "start_time": "2022-05-24T10:26:34.310Z"
   },
   {
    "duration": 2839,
    "start_time": "2022-05-24T10:26:34.399Z"
   },
   {
    "duration": 16921,
    "start_time": "2022-05-24T10:26:37.239Z"
   },
   {
    "duration": 21,
    "start_time": "2022-05-24T10:26:54.161Z"
   },
   {
    "duration": 190,
    "start_time": "2022-05-24T10:26:54.186Z"
   },
   {
    "duration": 39,
    "start_time": "2022-05-24T10:26:54.378Z"
   },
   {
    "duration": 12,
    "start_time": "2022-05-24T10:26:54.418Z"
   },
   {
    "duration": 98,
    "start_time": "2022-05-24T10:26:54.483Z"
   },
   {
    "duration": 10,
    "start_time": "2022-05-24T10:26:54.589Z"
   },
   {
    "duration": 14,
    "start_time": "2022-05-24T10:26:54.600Z"
   },
   {
    "duration": 6,
    "start_time": "2022-05-24T10:26:54.615Z"
   },
   {
    "duration": 7,
    "start_time": "2022-05-24T10:26:54.622Z"
   },
   {
    "duration": 29,
    "start_time": "2022-05-24T10:26:54.632Z"
   },
   {
    "duration": 5,
    "start_time": "2022-05-24T10:26:54.663Z"
   },
   {
    "duration": 6,
    "start_time": "2022-05-24T10:26:54.669Z"
   },
   {
    "duration": 224,
    "start_time": "2022-05-24T10:26:54.677Z"
   },
   {
    "duration": 16,
    "start_time": "2022-05-24T11:01:15.102Z"
   },
   {
    "duration": 19,
    "start_time": "2022-05-24T11:03:38.343Z"
   },
   {
    "duration": 15,
    "start_time": "2022-05-24T11:03:43.052Z"
   },
   {
    "duration": 1438,
    "start_time": "2022-05-24T14:36:40.725Z"
   },
   {
    "duration": 144,
    "start_time": "2022-05-24T14:36:42.165Z"
   },
   {
    "duration": 14,
    "start_time": "2022-05-24T14:36:42.311Z"
   },
   {
    "duration": 13,
    "start_time": "2022-05-24T14:36:42.327Z"
   },
   {
    "duration": 148,
    "start_time": "2022-05-24T14:36:42.341Z"
   },
   {
    "duration": 12,
    "start_time": "2022-05-24T14:36:42.491Z"
   },
   {
    "duration": 4,
    "start_time": "2022-05-24T14:36:42.504Z"
   },
   {
    "duration": 3,
    "start_time": "2022-05-24T14:36:42.527Z"
   },
   {
    "duration": 5,
    "start_time": "2022-05-24T14:36:42.532Z"
   },
   {
    "duration": 4,
    "start_time": "2022-05-24T14:36:42.539Z"
   },
   {
    "duration": 6,
    "start_time": "2022-05-24T14:36:42.545Z"
   },
   {
    "duration": 6,
    "start_time": "2022-05-24T14:36:42.552Z"
   },
   {
    "duration": 9,
    "start_time": "2022-05-24T14:36:42.560Z"
   },
   {
    "duration": 9,
    "start_time": "2022-05-24T14:36:42.570Z"
   },
   {
    "duration": 46,
    "start_time": "2022-05-24T14:36:42.581Z"
   },
   {
    "duration": 6,
    "start_time": "2022-05-24T14:36:42.629Z"
   },
   {
    "duration": 8,
    "start_time": "2022-05-24T14:36:42.637Z"
   },
   {
    "duration": 25,
    "start_time": "2022-05-24T14:36:42.647Z"
   },
   {
    "duration": 57,
    "start_time": "2022-05-24T14:36:42.674Z"
   },
   {
    "duration": 4152,
    "start_time": "2022-05-24T14:36:42.733Z"
   },
   {
    "duration": 60252,
    "start_time": "2022-05-24T14:36:46.887Z"
   },
   {
    "duration": 4,
    "start_time": "2022-05-24T14:37:47.140Z"
   },
   {
    "duration": 17,
    "start_time": "2022-05-24T14:37:47.145Z"
   },
   {
    "duration": 65,
    "start_time": "2022-05-24T14:37:47.164Z"
   },
   {
    "duration": 5681,
    "start_time": "2022-05-24T14:37:47.231Z"
   },
   {
    "duration": 29730,
    "start_time": "2022-05-24T14:37:52.914Z"
   },
   {
    "duration": 3,
    "start_time": "2022-05-24T14:38:22.646Z"
   },
   {
    "duration": 9,
    "start_time": "2022-05-24T14:38:22.652Z"
   },
   {
    "duration": 72,
    "start_time": "2022-05-24T14:38:22.663Z"
   },
   {
    "duration": 2804,
    "start_time": "2022-05-24T14:38:22.737Z"
   },
   {
    "duration": 15508,
    "start_time": "2022-05-24T14:38:25.542Z"
   },
   {
    "duration": 78,
    "start_time": "2022-05-24T14:38:41.051Z"
   },
   {
    "duration": 104,
    "start_time": "2022-05-24T14:38:41.132Z"
   },
   {
    "duration": 31,
    "start_time": "2022-05-24T14:38:41.237Z"
   },
   {
    "duration": 62,
    "start_time": "2022-05-24T14:38:41.269Z"
   },
   {
    "duration": 7,
    "start_time": "2022-05-24T14:38:41.333Z"
   },
   {
    "duration": 4,
    "start_time": "2022-05-24T14:38:41.428Z"
   },
   {
    "duration": 8,
    "start_time": "2022-05-24T14:38:41.434Z"
   },
   {
    "duration": 6,
    "start_time": "2022-05-24T14:38:41.444Z"
   },
   {
    "duration": 3,
    "start_time": "2022-05-24T14:38:41.452Z"
   },
   {
    "duration": 80,
    "start_time": "2022-05-24T14:38:41.457Z"
   },
   {
    "duration": 5,
    "start_time": "2022-05-24T14:38:41.539Z"
   },
   {
    "duration": 4,
    "start_time": "2022-05-24T14:38:41.546Z"
   },
   {
    "duration": 242,
    "start_time": "2022-05-24T14:38:41.551Z"
   },
   {
    "duration": 1274,
    "start_time": "2022-05-24T14:50:19.388Z"
   },
   {
    "duration": 40,
    "start_time": "2022-05-24T14:50:20.664Z"
   },
   {
    "duration": 15,
    "start_time": "2022-05-24T14:50:20.706Z"
   },
   {
    "duration": 13,
    "start_time": "2022-05-24T14:50:20.723Z"
   },
   {
    "duration": 144,
    "start_time": "2022-05-24T14:50:20.739Z"
   },
   {
    "duration": 12,
    "start_time": "2022-05-24T14:50:20.885Z"
   },
   {
    "duration": 4,
    "start_time": "2022-05-24T14:50:20.898Z"
   },
   {
    "duration": 14,
    "start_time": "2022-05-24T14:50:20.904Z"
   },
   {
    "duration": 5,
    "start_time": "2022-05-24T14:50:20.927Z"
   },
   {
    "duration": 8,
    "start_time": "2022-05-24T14:50:20.933Z"
   },
   {
    "duration": 12,
    "start_time": "2022-05-24T14:50:20.943Z"
   },
   {
    "duration": 9,
    "start_time": "2022-05-24T14:50:20.956Z"
   },
   {
    "duration": 18,
    "start_time": "2022-05-24T14:50:20.967Z"
   },
   {
    "duration": 11,
    "start_time": "2022-05-24T14:50:20.988Z"
   },
   {
    "duration": 9,
    "start_time": "2022-05-24T14:50:21.000Z"
   },
   {
    "duration": 7,
    "start_time": "2022-05-24T14:50:21.027Z"
   },
   {
    "duration": 8,
    "start_time": "2022-05-24T14:50:21.035Z"
   },
   {
    "duration": 27,
    "start_time": "2022-05-24T14:50:21.044Z"
   },
   {
    "duration": 60,
    "start_time": "2022-05-24T14:50:21.072Z"
   },
   {
    "duration": 5012,
    "start_time": "2022-05-24T14:50:21.134Z"
   },
   {
    "duration": 60914,
    "start_time": "2022-05-24T14:50:26.147Z"
   },
   {
    "duration": 10,
    "start_time": "2022-05-24T14:51:27.062Z"
   },
   {
    "duration": 62,
    "start_time": "2022-05-24T14:51:27.074Z"
   },
   {
    "duration": 9,
    "start_time": "2022-05-24T14:51:27.228Z"
   },
   {
    "duration": 11,
    "start_time": "2022-05-24T14:51:27.239Z"
   },
   {
    "duration": 9,
    "start_time": "2022-05-24T14:51:27.251Z"
   },
   {
    "duration": 4,
    "start_time": "2022-05-24T14:51:27.261Z"
   },
   {
    "duration": 20,
    "start_time": "2022-05-24T14:51:27.267Z"
   },
   {
    "duration": 5,
    "start_time": "2022-05-24T14:51:27.289Z"
   },
   {
    "duration": 31,
    "start_time": "2022-05-24T14:51:27.296Z"
   },
   {
    "duration": 4,
    "start_time": "2022-05-24T14:51:27.329Z"
   },
   {
    "duration": 13,
    "start_time": "2022-05-24T14:51:27.334Z"
   },
   {
    "duration": 86,
    "start_time": "2022-05-24T14:51:27.348Z"
   },
   {
    "duration": 5725,
    "start_time": "2022-05-24T14:51:27.436Z"
   },
   {
    "duration": 29802,
    "start_time": "2022-05-24T14:51:33.162Z"
   },
   {
    "duration": 4,
    "start_time": "2022-05-24T14:52:02.965Z"
   },
   {
    "duration": 15,
    "start_time": "2022-05-24T14:52:02.971Z"
   },
   {
    "duration": 140,
    "start_time": "2022-05-24T14:52:02.988Z"
   },
   {
    "duration": 2828,
    "start_time": "2022-05-24T14:52:03.130Z"
   },
   {
    "duration": 16449,
    "start_time": "2022-05-24T14:52:05.960Z"
   },
   {
    "duration": 113,
    "start_time": "2022-05-24T14:52:22.413Z"
   },
   {
    "duration": 109,
    "start_time": "2022-05-24T14:52:22.530Z"
   },
   {
    "duration": 41,
    "start_time": "2022-05-24T14:52:22.640Z"
   },
   {
    "duration": 48,
    "start_time": "2022-05-24T14:52:22.683Z"
   },
   {
    "duration": 95,
    "start_time": "2022-05-24T14:52:22.734Z"
   },
   {
    "duration": 8,
    "start_time": "2022-05-24T14:52:22.831Z"
   },
   {
    "duration": 10,
    "start_time": "2022-05-24T14:52:22.841Z"
   },
   {
    "duration": 8,
    "start_time": "2022-05-24T14:52:22.927Z"
   },
   {
    "duration": 7,
    "start_time": "2022-05-24T14:52:22.936Z"
   },
   {
    "duration": 33,
    "start_time": "2022-05-24T14:52:22.944Z"
   },
   {
    "duration": 7,
    "start_time": "2022-05-24T14:52:22.978Z"
   },
   {
    "duration": 4,
    "start_time": "2022-05-24T14:52:22.986Z"
   },
   {
    "duration": 282,
    "start_time": "2022-05-24T14:52:22.991Z"
   },
   {
    "duration": 1304,
    "start_time": "2022-05-24T16:21:07.918Z"
   },
   {
    "duration": 44,
    "start_time": "2022-05-24T16:21:09.223Z"
   },
   {
    "duration": 14,
    "start_time": "2022-05-24T16:21:09.269Z"
   },
   {
    "duration": 12,
    "start_time": "2022-05-24T16:21:09.285Z"
   },
   {
    "duration": 132,
    "start_time": "2022-05-24T16:21:09.299Z"
   },
   {
    "duration": 11,
    "start_time": "2022-05-24T16:21:09.432Z"
   },
   {
    "duration": 4,
    "start_time": "2022-05-24T16:21:09.444Z"
   },
   {
    "duration": 5,
    "start_time": "2022-05-24T16:21:09.449Z"
   },
   {
    "duration": 6,
    "start_time": "2022-05-24T16:21:09.455Z"
   },
   {
    "duration": 6,
    "start_time": "2022-05-24T16:21:09.463Z"
   },
   {
    "duration": 8,
    "start_time": "2022-05-24T16:21:09.470Z"
   },
   {
    "duration": 7,
    "start_time": "2022-05-24T16:21:09.480Z"
   },
   {
    "duration": 38,
    "start_time": "2022-05-24T16:21:09.489Z"
   },
   {
    "duration": 9,
    "start_time": "2022-05-24T16:21:09.529Z"
   },
   {
    "duration": 11,
    "start_time": "2022-05-24T16:21:09.539Z"
   },
   {
    "duration": 6,
    "start_time": "2022-05-24T16:21:09.552Z"
   },
   {
    "duration": 8,
    "start_time": "2022-05-24T16:21:09.559Z"
   },
   {
    "duration": 29,
    "start_time": "2022-05-24T16:21:09.568Z"
   },
   {
    "duration": 130,
    "start_time": "2022-05-24T16:21:09.599Z"
   },
   {
    "duration": 4198,
    "start_time": "2022-05-24T16:21:09.730Z"
   },
   {
    "duration": 60449,
    "start_time": "2022-05-24T16:21:13.930Z"
   },
   {
    "duration": 52,
    "start_time": "2022-05-24T16:22:14.380Z"
   },
   {
    "duration": 96,
    "start_time": "2022-05-24T16:22:14.437Z"
   },
   {
    "duration": 27,
    "start_time": "2022-05-24T16:22:14.535Z"
   },
   {
    "duration": 4,
    "start_time": "2022-05-24T16:22:14.563Z"
   },
   {
    "duration": 131,
    "start_time": "2022-05-24T16:22:14.569Z"
   },
   {
    "duration": 32,
    "start_time": "2022-05-24T16:22:14.702Z"
   },
   {
    "duration": 5747,
    "start_time": "2022-05-24T16:22:14.826Z"
   },
   {
    "duration": 29185,
    "start_time": "2022-05-24T16:22:20.575Z"
   },
   {
    "duration": 4,
    "start_time": "2022-05-24T16:22:49.761Z"
   },
   {
    "duration": 15,
    "start_time": "2022-05-24T16:22:49.766Z"
   },
   {
    "duration": 146,
    "start_time": "2022-05-24T16:22:49.783Z"
   },
   {
    "duration": 2758,
    "start_time": "2022-05-24T16:22:49.931Z"
   },
   {
    "duration": 15821,
    "start_time": "2022-05-24T16:22:52.691Z"
   },
   {
    "duration": 18,
    "start_time": "2022-05-24T16:23:08.514Z"
   },
   {
    "duration": 100,
    "start_time": "2022-05-24T16:23:08.534Z"
   },
   {
    "duration": 118,
    "start_time": "2022-05-24T16:23:08.636Z"
   },
   {
    "duration": 75,
    "start_time": "2022-05-24T16:23:08.755Z"
   },
   {
    "duration": 97,
    "start_time": "2022-05-24T16:23:08.833Z"
   },
   {
    "duration": 32,
    "start_time": "2022-05-24T16:23:08.931Z"
   },
   {
    "duration": 7,
    "start_time": "2022-05-24T16:23:08.964Z"
   },
   {
    "duration": 61,
    "start_time": "2022-05-24T16:23:08.973Z"
   },
   {
    "duration": 95,
    "start_time": "2022-05-24T16:23:09.036Z"
   },
   {
    "duration": 9,
    "start_time": "2022-05-24T16:23:09.132Z"
   },
   {
    "duration": 6,
    "start_time": "2022-05-24T16:23:09.143Z"
   },
   {
    "duration": 3,
    "start_time": "2022-05-24T16:23:09.150Z"
   },
   {
    "duration": 31,
    "start_time": "2022-05-24T16:23:09.154Z"
   },
   {
    "duration": 5,
    "start_time": "2022-05-24T16:23:09.187Z"
   },
   {
    "duration": 4,
    "start_time": "2022-05-24T16:23:09.193Z"
   },
   {
    "duration": 247,
    "start_time": "2022-05-24T16:23:09.198Z"
   },
   {
    "duration": 117,
    "start_time": "2022-05-24T16:29:06.067Z"
   },
   {
    "duration": 4,
    "start_time": "2022-05-24T16:29:13.801Z"
   },
   {
    "duration": 31,
    "start_time": "2022-05-24T16:29:34.097Z"
   },
   {
    "duration": 41,
    "start_time": "2022-05-24T16:29:36.488Z"
   },
   {
    "duration": 37,
    "start_time": "2022-05-24T16:43:06.445Z"
   },
   {
    "duration": 1264,
    "start_time": "2022-05-24T16:43:49.855Z"
   },
   {
    "duration": 41,
    "start_time": "2022-05-24T16:43:51.122Z"
   },
   {
    "duration": 14,
    "start_time": "2022-05-24T16:43:51.165Z"
   },
   {
    "duration": 13,
    "start_time": "2022-05-24T16:43:51.181Z"
   },
   {
    "duration": 139,
    "start_time": "2022-05-24T16:43:51.195Z"
   },
   {
    "duration": 14,
    "start_time": "2022-05-24T16:43:51.336Z"
   },
   {
    "duration": 4,
    "start_time": "2022-05-24T16:43:51.352Z"
   },
   {
    "duration": 6,
    "start_time": "2022-05-24T16:43:51.358Z"
   },
   {
    "duration": 7,
    "start_time": "2022-05-24T16:43:51.366Z"
   },
   {
    "duration": 7,
    "start_time": "2022-05-24T16:43:51.376Z"
   },
   {
    "duration": 6,
    "start_time": "2022-05-24T16:43:51.385Z"
   },
   {
    "duration": 35,
    "start_time": "2022-05-24T16:43:51.393Z"
   },
   {
    "duration": 9,
    "start_time": "2022-05-24T16:43:51.430Z"
   },
   {
    "duration": 8,
    "start_time": "2022-05-24T16:43:51.441Z"
   },
   {
    "duration": 5,
    "start_time": "2022-05-24T16:43:51.451Z"
   },
   {
    "duration": 6,
    "start_time": "2022-05-24T16:43:51.457Z"
   },
   {
    "duration": 6,
    "start_time": "2022-05-24T16:43:51.465Z"
   },
   {
    "duration": 26,
    "start_time": "2022-05-24T16:43:51.472Z"
   },
   {
    "duration": 27,
    "start_time": "2022-05-24T16:43:51.500Z"
   },
   {
    "duration": 105,
    "start_time": "2022-05-24T16:43:51.529Z"
   },
   {
    "duration": 4822,
    "start_time": "2022-05-24T16:43:51.635Z"
   },
   {
    "duration": 60158,
    "start_time": "2022-05-24T16:43:56.458Z"
   },
   {
    "duration": 18,
    "start_time": "2022-05-24T16:44:56.618Z"
   },
   {
    "duration": 189,
    "start_time": "2022-05-24T16:44:56.638Z"
   },
   {
    "duration": 22,
    "start_time": "2022-05-24T16:44:56.829Z"
   },
   {
    "duration": 3,
    "start_time": "2022-05-24T16:44:56.853Z"
   },
   {
    "duration": 120,
    "start_time": "2022-05-24T16:44:56.858Z"
   },
   {
    "duration": 55,
    "start_time": "2022-05-24T16:44:56.981Z"
   },
   {
    "duration": 5543,
    "start_time": "2022-05-24T16:44:57.128Z"
   },
   {
    "duration": 29356,
    "start_time": "2022-05-24T16:45:02.672Z"
   },
   {
    "duration": 12,
    "start_time": "2022-05-24T16:45:32.030Z"
   },
   {
    "duration": 185,
    "start_time": "2022-05-24T16:45:32.044Z"
   },
   {
    "duration": 36,
    "start_time": "2022-05-24T16:45:32.231Z"
   },
   {
    "duration": 3,
    "start_time": "2022-05-24T16:45:32.269Z"
   },
   {
    "duration": 11,
    "start_time": "2022-05-24T16:45:32.273Z"
   },
   {
    "duration": 141,
    "start_time": "2022-05-24T16:45:32.286Z"
   },
   {
    "duration": 2665,
    "start_time": "2022-05-24T16:45:32.429Z"
   },
   {
    "duration": 15475,
    "start_time": "2022-05-24T16:45:35.097Z"
   },
   {
    "duration": 57,
    "start_time": "2022-05-24T16:45:50.574Z"
   },
   {
    "duration": 107,
    "start_time": "2022-05-24T16:45:50.635Z"
   },
   {
    "duration": 35,
    "start_time": "2022-05-24T16:45:50.743Z"
   },
   {
    "duration": 48,
    "start_time": "2022-05-24T16:45:50.780Z"
   },
   {
    "duration": 102,
    "start_time": "2022-05-24T16:45:50.831Z"
   },
   {
    "duration": 11,
    "start_time": "2022-05-24T16:45:50.934Z"
   },
   {
    "duration": 24,
    "start_time": "2022-05-24T16:45:50.947Z"
   },
   {
    "duration": 8,
    "start_time": "2022-05-24T16:45:50.972Z"
   },
   {
    "duration": 6,
    "start_time": "2022-05-24T16:45:50.982Z"
   },
   {
    "duration": 32,
    "start_time": "2022-05-24T16:45:50.989Z"
   },
   {
    "duration": 5,
    "start_time": "2022-05-24T16:45:51.023Z"
   },
   {
    "duration": 6,
    "start_time": "2022-05-24T16:45:51.029Z"
   },
   {
    "duration": 233,
    "start_time": "2022-05-24T16:45:51.036Z"
   },
   {
    "duration": 1231,
    "start_time": "2022-05-24T16:58:51.968Z"
   },
   {
    "duration": 42,
    "start_time": "2022-05-24T16:58:53.201Z"
   },
   {
    "duration": 13,
    "start_time": "2022-05-24T16:58:53.245Z"
   },
   {
    "duration": 11,
    "start_time": "2022-05-24T16:58:53.260Z"
   },
   {
    "duration": 137,
    "start_time": "2022-05-24T16:58:53.272Z"
   },
   {
    "duration": 17,
    "start_time": "2022-05-24T16:58:53.411Z"
   },
   {
    "duration": 4,
    "start_time": "2022-05-24T16:58:53.429Z"
   },
   {
    "duration": 6,
    "start_time": "2022-05-24T16:58:53.434Z"
   },
   {
    "duration": 6,
    "start_time": "2022-05-24T16:58:53.442Z"
   },
   {
    "duration": 5,
    "start_time": "2022-05-24T16:58:53.450Z"
   },
   {
    "duration": 6,
    "start_time": "2022-05-24T16:58:53.456Z"
   },
   {
    "duration": 9,
    "start_time": "2022-05-24T16:58:53.464Z"
   },
   {
    "duration": 10,
    "start_time": "2022-05-24T16:58:53.474Z"
   },
   {
    "duration": 9,
    "start_time": "2022-05-24T16:58:53.486Z"
   },
   {
    "duration": 30,
    "start_time": "2022-05-24T16:58:53.497Z"
   },
   {
    "duration": 8,
    "start_time": "2022-05-24T16:58:53.529Z"
   },
   {
    "duration": 7,
    "start_time": "2022-05-24T16:58:53.538Z"
   },
   {
    "duration": 26,
    "start_time": "2022-05-24T16:58:53.546Z"
   },
   {
    "duration": 4,
    "start_time": "2022-05-24T16:58:53.573Z"
   },
   {
    "duration": 52,
    "start_time": "2022-05-24T16:58:53.578Z"
   },
   {
    "duration": 3979,
    "start_time": "2022-05-24T16:58:53.632Z"
   },
   {
    "duration": 58873,
    "start_time": "2022-05-24T16:58:57.613Z"
   },
   {
    "duration": 40,
    "start_time": "2022-05-24T16:59:56.488Z"
   },
   {
    "duration": 13,
    "start_time": "2022-05-24T16:59:56.531Z"
   },
   {
    "duration": 101,
    "start_time": "2022-05-24T16:59:56.545Z"
   },
   {
    "duration": 4,
    "start_time": "2022-05-24T16:59:56.648Z"
   },
   {
    "duration": 14,
    "start_time": "2022-05-24T16:59:56.653Z"
   },
   {
    "duration": 58,
    "start_time": "2022-05-24T16:59:56.670Z"
   },
   {
    "duration": 5781,
    "start_time": "2022-05-24T16:59:56.730Z"
   },
   {
    "duration": 29609,
    "start_time": "2022-05-24T17:00:02.513Z"
   },
   {
    "duration": 17,
    "start_time": "2022-05-24T17:00:32.123Z"
   },
   {
    "duration": 107,
    "start_time": "2022-05-24T17:00:32.229Z"
   },
   {
    "duration": 35,
    "start_time": "2022-05-24T17:00:32.338Z"
   },
   {
    "duration": 4,
    "start_time": "2022-05-24T17:00:32.375Z"
   },
   {
    "duration": 13,
    "start_time": "2022-05-24T17:00:32.380Z"
   },
   {
    "duration": 41,
    "start_time": "2022-05-24T17:00:32.394Z"
   },
   {
    "duration": 2797,
    "start_time": "2022-05-24T17:00:32.437Z"
   },
   {
    "duration": 16013,
    "start_time": "2022-05-24T17:00:35.236Z"
   },
   {
    "duration": 77,
    "start_time": "2022-05-24T17:00:51.251Z"
   },
   {
    "duration": 102,
    "start_time": "2022-05-24T17:00:51.330Z"
   },
   {
    "duration": 35,
    "start_time": "2022-05-24T17:00:51.434Z"
   },
   {
    "duration": 56,
    "start_time": "2022-05-24T17:00:51.471Z"
   },
   {
    "duration": 96,
    "start_time": "2022-05-24T17:00:51.533Z"
   },
   {
    "duration": 4,
    "start_time": "2022-05-24T17:00:51.630Z"
   },
   {
    "duration": 8,
    "start_time": "2022-05-24T17:00:51.636Z"
   },
   {
    "duration": 6,
    "start_time": "2022-05-24T17:00:51.645Z"
   },
   {
    "duration": 8,
    "start_time": "2022-05-24T17:00:51.652Z"
   },
   {
    "duration": 34,
    "start_time": "2022-05-24T17:00:51.661Z"
   },
   {
    "duration": 32,
    "start_time": "2022-05-24T17:00:51.696Z"
   },
   {
    "duration": 3,
    "start_time": "2022-05-24T17:00:51.730Z"
   },
   {
    "duration": 254,
    "start_time": "2022-05-24T17:00:51.735Z"
   },
   {
    "duration": 1622,
    "start_time": "2022-05-25T09:09:08.851Z"
   },
   {
    "duration": 99,
    "start_time": "2022-05-25T09:09:10.475Z"
   },
   {
    "duration": 17,
    "start_time": "2022-05-25T09:09:10.576Z"
   },
   {
    "duration": 17,
    "start_time": "2022-05-25T09:09:10.595Z"
   },
   {
    "duration": 166,
    "start_time": "2022-05-25T09:09:10.615Z"
   },
   {
    "duration": 13,
    "start_time": "2022-05-25T09:09:10.783Z"
   },
   {
    "duration": 5,
    "start_time": "2022-05-25T09:09:10.797Z"
   },
   {
    "duration": 20,
    "start_time": "2022-05-25T09:09:10.803Z"
   },
   {
    "duration": 19,
    "start_time": "2022-05-25T09:09:10.825Z"
   },
   {
    "duration": 17,
    "start_time": "2022-05-25T09:09:10.846Z"
   },
   {
    "duration": 23,
    "start_time": "2022-05-25T09:09:10.865Z"
   },
   {
    "duration": 12,
    "start_time": "2022-05-25T09:09:10.889Z"
   },
   {
    "duration": 13,
    "start_time": "2022-05-25T09:09:10.903Z"
   },
   {
    "duration": 11,
    "start_time": "2022-05-25T09:09:10.917Z"
   },
   {
    "duration": 32,
    "start_time": "2022-05-25T09:09:10.929Z"
   },
   {
    "duration": 28,
    "start_time": "2022-05-25T09:09:10.963Z"
   },
   {
    "duration": 19,
    "start_time": "2022-05-25T09:09:10.993Z"
   },
   {
    "duration": 37,
    "start_time": "2022-05-25T09:09:11.013Z"
   },
   {
    "duration": 5,
    "start_time": "2022-05-25T09:09:11.051Z"
   },
   {
    "duration": 110,
    "start_time": "2022-05-25T09:09:11.057Z"
   },
   {
    "duration": 4288,
    "start_time": "2022-05-25T09:09:11.258Z"
   },
   {
    "duration": 63410,
    "start_time": "2022-05-25T09:09:15.548Z"
   },
   {
    "duration": 14,
    "start_time": "2022-05-25T09:10:18.960Z"
   },
   {
    "duration": 200,
    "start_time": "2022-05-25T09:10:18.976Z"
   },
   {
    "duration": 51,
    "start_time": "2022-05-25T09:10:19.178Z"
   },
   {
    "duration": 4,
    "start_time": "2022-05-25T09:10:19.231Z"
   },
   {
    "duration": 30,
    "start_time": "2022-05-25T09:10:19.237Z"
   },
   {
    "duration": 189,
    "start_time": "2022-05-25T09:10:19.270Z"
   },
   {
    "duration": 5840,
    "start_time": "2022-05-25T09:10:19.461Z"
   },
   {
    "duration": 30926,
    "start_time": "2022-05-25T09:10:25.303Z"
   },
   {
    "duration": 31,
    "start_time": "2022-05-25T09:10:56.231Z"
   },
   {
    "duration": 98,
    "start_time": "2022-05-25T09:10:56.265Z"
   },
   {
    "duration": 36,
    "start_time": "2022-05-25T09:10:56.365Z"
   },
   {
    "duration": 4,
    "start_time": "2022-05-25T09:10:56.403Z"
   },
   {
    "duration": 54,
    "start_time": "2022-05-25T09:10:56.408Z"
   },
   {
    "duration": 97,
    "start_time": "2022-05-25T09:10:56.464Z"
   },
   {
    "duration": 2943,
    "start_time": "2022-05-25T09:10:56.563Z"
   },
   {
    "duration": 16671,
    "start_time": "2022-05-25T09:10:59.507Z"
   },
   {
    "duration": 79,
    "start_time": "2022-05-25T09:11:16.180Z"
   },
   {
    "duration": 105,
    "start_time": "2022-05-25T09:11:16.262Z"
   },
   {
    "duration": 29,
    "start_time": "2022-05-25T09:11:16.369Z"
   },
   {
    "duration": 6,
    "start_time": "2022-05-25T09:11:16.400Z"
   },
   {
    "duration": 154,
    "start_time": "2022-05-25T09:11:16.408Z"
   },
   {
    "duration": 4,
    "start_time": "2022-05-25T09:11:16.564Z"
   },
   {
    "duration": 8,
    "start_time": "2022-05-25T09:11:16.569Z"
   },
   {
    "duration": 11,
    "start_time": "2022-05-25T09:11:16.579Z"
   },
   {
    "duration": 8,
    "start_time": "2022-05-25T09:11:16.591Z"
   },
   {
    "duration": 32,
    "start_time": "2022-05-25T09:11:16.601Z"
   },
   {
    "duration": 25,
    "start_time": "2022-05-25T09:11:16.634Z"
   },
   {
    "duration": 4,
    "start_time": "2022-05-25T09:11:16.661Z"
   },
   {
    "duration": 253,
    "start_time": "2022-05-25T09:11:16.667Z"
   }
  ],
  "kernelspec": {
   "display_name": "Python 3 (ipykernel)",
   "language": "python",
   "name": "python3"
  },
  "language_info": {
   "codemirror_mode": {
    "name": "ipython",
    "version": 3
   },
   "file_extension": ".py",
   "mimetype": "text/x-python",
   "name": "python",
   "nbconvert_exporter": "python",
   "pygments_lexer": "ipython3",
   "version": "3.9.13"
  },
  "toc": {
   "base_numbering": 1,
   "nav_menu": {},
   "number_sections": true,
   "sideBar": true,
   "skip_h1_title": true,
   "title_cell": "Содержание",
   "title_sidebar": "Contents",
   "toc_cell": true,
   "toc_position": {},
   "toc_section_display": true,
   "toc_window_display": true
  }
 },
 "nbformat": 4,
 "nbformat_minor": 2
}
