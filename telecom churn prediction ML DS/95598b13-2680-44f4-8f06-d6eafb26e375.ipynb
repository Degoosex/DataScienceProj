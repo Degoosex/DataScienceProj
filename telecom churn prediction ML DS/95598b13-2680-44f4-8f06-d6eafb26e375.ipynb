{
 "cells": [
  {
   "cell_type": "markdown",
   "metadata": {},
   "source": [
    "#  Прогнозирование заказов такси"
   ]
  },
  {
   "cell_type": "markdown",
   "metadata": {},
   "source": [
    "Компания такси собрала исторические данные о заказах в аэропортах. Чтобы привлекать больше водителей в период пиковой нагрузки, нужно спрогнозировать количество заказов такси на следующий час. Постройте модель для такого предсказания.\n",
    "\n",
    "Значение метрики *RMSE* на тестовой выборке должно быть не больше 48.\n",
    "\n",
    "План работ:\n",
    "\n",
    "1. Загрузить данные и выполнить их ресемплирование по одному часу.\n",
    "2. Проанализировать данные.\n",
    "3. Обучить разные модели с различными гиперпараметрами. Сделать тестовую выборку размером 10% от исходных данных.\n",
    "4. Проверить данные на тестовой выборке и сделать выводы.\n",
    "\n"
   ]
  },
  {
   "cell_type": "markdown",
   "metadata": {},
   "source": [
    "## Подготовка"
   ]
  },
  {
   "cell_type": "code",
   "execution_count": 1,
   "metadata": {},
   "outputs": [],
   "source": [
    "# импортируем нужные библиотеки\n",
    "import pandas as pd\n",
    "import numpy as np\n",
    "import matplotlib.pyplot as plt\n",
    "pd.options.display.float_format = '{:,.2f}'.format\n",
    "from sklearn.linear_model import LinearRegression\n",
    "from sklearn.model_selection import train_test_split, cross_val_score, RandomizedSearchCV, TimeSeriesSplit\n",
    "from sklearn.ensemble import RandomForestRegressor\n",
    "from sklearn.metrics import mean_absolute_error, mean_squared_error\n",
    "pd.options.mode.chained_assignment = None\n",
    "from statsmodels.tsa.seasonal import seasonal_decompose\n",
    "from catboost import CatBoostRegressor"
   ]
  },
  {
   "cell_type": "markdown",
   "metadata": {},
   "source": [
    "Сперва откроем и посмотрим на данные."
   ]
  },
  {
   "cell_type": "code",
   "execution_count": 2,
   "metadata": {},
   "outputs": [],
   "source": [
    "data = pd.read_csv('/datasets/taxi.csv', parse_dates=[0], index_col=[0]) "
   ]
  },
  {
   "cell_type": "code",
   "execution_count": 3,
   "metadata": {},
   "outputs": [
    {
     "data": {
      "text/html": [
       "<div>\n",
       "<style scoped>\n",
       "    .dataframe tbody tr th:only-of-type {\n",
       "        vertical-align: middle;\n",
       "    }\n",
       "\n",
       "    .dataframe tbody tr th {\n",
       "        vertical-align: top;\n",
       "    }\n",
       "\n",
       "    .dataframe thead th {\n",
       "        text-align: right;\n",
       "    }\n",
       "</style>\n",
       "<table border=\"1\" class=\"dataframe\">\n",
       "  <thead>\n",
       "    <tr style=\"text-align: right;\">\n",
       "      <th></th>\n",
       "      <th>num_orders</th>\n",
       "    </tr>\n",
       "    <tr>\n",
       "      <th>datetime</th>\n",
       "      <th></th>\n",
       "    </tr>\n",
       "  </thead>\n",
       "  <tbody>\n",
       "    <tr>\n",
       "      <th>2018-03-01 00:00:00</th>\n",
       "      <td>9</td>\n",
       "    </tr>\n",
       "    <tr>\n",
       "      <th>2018-03-01 00:10:00</th>\n",
       "      <td>14</td>\n",
       "    </tr>\n",
       "    <tr>\n",
       "      <th>2018-03-01 00:20:00</th>\n",
       "      <td>28</td>\n",
       "    </tr>\n",
       "    <tr>\n",
       "      <th>2018-03-01 00:30:00</th>\n",
       "      <td>20</td>\n",
       "    </tr>\n",
       "    <tr>\n",
       "      <th>2018-03-01 00:40:00</th>\n",
       "      <td>32</td>\n",
       "    </tr>\n",
       "  </tbody>\n",
       "</table>\n",
       "</div>"
      ],
      "text/plain": [
       "                     num_orders\n",
       "datetime                       \n",
       "2018-03-01 00:00:00           9\n",
       "2018-03-01 00:10:00          14\n",
       "2018-03-01 00:20:00          28\n",
       "2018-03-01 00:30:00          20\n",
       "2018-03-01 00:40:00          32"
      ]
     },
     "execution_count": 3,
     "metadata": {},
     "output_type": "execute_result"
    }
   ],
   "source": [
    "data.head()"
   ]
  },
  {
   "cell_type": "code",
   "execution_count": 4,
   "metadata": {
    "scrolled": false
   },
   "outputs": [
    {
     "data": {
      "text/plain": [
       "True"
      ]
     },
     "execution_count": 4,
     "metadata": {},
     "output_type": "execute_result"
    }
   ],
   "source": [
    "data.index.is_monotonic"
   ]
  },
  {
   "cell_type": "markdown",
   "metadata": {},
   "source": [
    "У нас всего 2 столбца с количеством заказов и датами. Данные идут через каждые 10 минут. Ресемплируем по одному часу и отсортируем."
   ]
  },
  {
   "cell_type": "code",
   "execution_count": 5,
   "metadata": {
    "scrolled": true
   },
   "outputs": [],
   "source": [
    "data.sort_index(inplace=True)\n",
    "data = data.resample('1H').sum()"
   ]
  },
  {
   "cell_type": "code",
   "execution_count": 6,
   "metadata": {},
   "outputs": [
    {
     "data": {
      "text/html": [
       "<div>\n",
       "<style scoped>\n",
       "    .dataframe tbody tr th:only-of-type {\n",
       "        vertical-align: middle;\n",
       "    }\n",
       "\n",
       "    .dataframe tbody tr th {\n",
       "        vertical-align: top;\n",
       "    }\n",
       "\n",
       "    .dataframe thead th {\n",
       "        text-align: right;\n",
       "    }\n",
       "</style>\n",
       "<table border=\"1\" class=\"dataframe\">\n",
       "  <thead>\n",
       "    <tr style=\"text-align: right;\">\n",
       "      <th></th>\n",
       "      <th>num_orders</th>\n",
       "    </tr>\n",
       "    <tr>\n",
       "      <th>datetime</th>\n",
       "      <th></th>\n",
       "    </tr>\n",
       "  </thead>\n",
       "  <tbody>\n",
       "    <tr>\n",
       "      <th>2018-08-31 19:00:00</th>\n",
       "      <td>136</td>\n",
       "    </tr>\n",
       "    <tr>\n",
       "      <th>2018-08-31 20:00:00</th>\n",
       "      <td>154</td>\n",
       "    </tr>\n",
       "    <tr>\n",
       "      <th>2018-08-31 21:00:00</th>\n",
       "      <td>159</td>\n",
       "    </tr>\n",
       "    <tr>\n",
       "      <th>2018-08-31 22:00:00</th>\n",
       "      <td>223</td>\n",
       "    </tr>\n",
       "    <tr>\n",
       "      <th>2018-08-31 23:00:00</th>\n",
       "      <td>205</td>\n",
       "    </tr>\n",
       "  </tbody>\n",
       "</table>\n",
       "</div>"
      ],
      "text/plain": [
       "                     num_orders\n",
       "datetime                       \n",
       "2018-08-31 19:00:00         136\n",
       "2018-08-31 20:00:00         154\n",
       "2018-08-31 21:00:00         159\n",
       "2018-08-31 22:00:00         223\n",
       "2018-08-31 23:00:00         205"
      ]
     },
     "execution_count": 6,
     "metadata": {},
     "output_type": "execute_result"
    }
   ],
   "source": [
    "data.tail()"
   ]
  },
  {
   "cell_type": "code",
   "execution_count": 7,
   "metadata": {},
   "outputs": [
    {
     "name": "stdout",
     "output_type": "stream",
     "text": [
      "<class 'pandas.core.frame.DataFrame'>\n",
      "DatetimeIndex: 4416 entries, 2018-03-01 00:00:00 to 2018-08-31 23:00:00\n",
      "Freq: H\n",
      "Data columns (total 1 columns):\n",
      " #   Column      Non-Null Count  Dtype\n",
      "---  ------      --------------  -----\n",
      " 0   num_orders  4416 non-null   int64\n",
      "dtypes: int64(1)\n",
      "memory usage: 69.0 KB\n"
     ]
    }
   ],
   "source": [
    "data.info()"
   ]
  },
  {
   "cell_type": "markdown",
   "metadata": {},
   "source": [
    "## Анализ"
   ]
  },
  {
   "cell_type": "markdown",
   "metadata": {},
   "source": [
    "У нас имеются данные с 03 марта 2018 года по 31 августа 2018. Для анализа построим график со скользящим средним и изучим тренд и сезонность."
   ]
  },
  {
   "cell_type": "code",
   "execution_count": 8,
   "metadata": {
    "scrolled": true
   },
   "outputs": [
    {
     "data": {
      "image/png": "[encoded data removed]",
      "text/plain": [
       "<Figure size 1296x288 with 1 Axes>"
      ]
     },
     "metadata": {
      "needs_background": "light"
     },
     "output_type": "display_data"
    }
   ],
   "source": [
    "data.rolling(100).mean().plot(figsize=(18,4)); # скользящее среднее"
   ]
  },
  {
   "cell_type": "code",
   "execution_count": 9,
   "metadata": {
    "scrolled": true
   },
   "outputs": [
    {
     "data": {
      "image/png": "[encoded data removed]",
      "text/plain": [
       "<Figure size 1296x288 with 1 Axes>"
      ]
     },
     "metadata": {
      "needs_background": "light"
     },
     "output_type": "display_data"
    }
   ],
   "source": [
    "decomposed = seasonal_decompose(data)\n",
    "decomposed.trend.plot(figsize=(18,4)); # график тренда"
   ]
  },
  {
   "cell_type": "code",
   "execution_count": 10,
   "metadata": {},
   "outputs": [
    {
     "data": {
      "image/png": "[encoded data removed]",
      "text/plain": [
       "<Figure size 1296x288 with 1 Axes>"
      ]
     },
     "metadata": {
      "needs_background": "light"
     },
     "output_type": "display_data"
    }
   ],
   "source": [
    "decomposed.seasonal['2018-07-01':'2018-07-05'].plot(figsize=(18,4)); # график сезонности летом"
   ]
  },
  {
   "cell_type": "markdown",
   "metadata": {},
   "source": [
    "По графику скользящей средней видим, что перед нами нестационарный временной ряд. С течением времени средняя у графика увеличивается. По графику тренда тоже заметно, что к лету среднее количество заказов такси значительно растет. По графику сезонности можем увидеть, как распределение меняяется в течение суток. Основной пик по заказам приходится на вечер и достигает нижней точки только ночью."
   ]
  },
  {
   "cell_type": "markdown",
   "metadata": {},
   "source": [
    "## Обучение"
   ]
  },
  {
   "cell_type": "markdown",
   "metadata": {},
   "source": [
    "Разделим модель на тренировочную, валидацинную и тестовую выборки. Дальше добавим несколько признаков и попробуем подобрать лучшую модель по RMSE."
   ]
  },
  {
   "cell_type": "code",
   "execution_count": 11,
   "metadata": {},
   "outputs": [],
   "source": [
    "def make_features(data, max_lag, rolling_mean_size):\n",
    "    data['year'] = data.index.year\n",
    "    data['month'] = data.index.month\n",
    "    data['day'] = data.index.day\n",
    "    data['dayofweek'] = data.index.dayofweek\n",
    "    \n",
    "    for lag in range(1, max_lag + 1):\n",
    "        data['lag_{}'.format(lag)] = data['num_orders'].shift(lag)\n",
    "\n",
    "    data['rolling_mean'] = data['num_orders'].shift().rolling(rolling_mean_size).mean()"
   ]
  },
  {
   "cell_type": "code",
   "execution_count": 12,
   "metadata": {},
   "outputs": [],
   "source": [
    "make_features(data, 27, 15)"
   ]
  },
  {
   "cell_type": "code",
   "execution_count": 13,
   "metadata": {},
   "outputs": [],
   "source": [
    "train, te = train_test_split(data, shuffle=False, test_size=0.2)\n",
    "valid, test = train_test_split(te, shuffle=False, test_size=0.5)\n",
    "train = train.dropna()\n",
    "valid = valid.dropna()\n",
    "test = test.dropna()\n",
    "\n",
    "target_train = train['num_orders']\n",
    "features_train = train.drop(['num_orders'],axis=1)\n",
    "target_valid = valid['num_orders']\n",
    "features_valid = valid.drop(['num_orders'], axis=1)\n",
    "target_test = test['num_orders']\n",
    "features_test = test.drop(['num_orders'], axis=1)"
   ]
  },
  {
   "cell_type": "code",
   "execution_count": 14,
   "metadata": {
    "scrolled": false
   },
   "outputs": [
    {
     "data": {
      "text/plain": [
       "(884, 33)"
      ]
     },
     "execution_count": 14,
     "metadata": {},
     "output_type": "execute_result"
    }
   ],
   "source": [
    "te.shape"
   ]
  },
  {
   "cell_type": "code",
   "execution_count": 15,
   "metadata": {},
   "outputs": [
    {
     "data": {
      "text/plain": [
       "(3505, 33)"
      ]
     },
     "execution_count": 15,
     "metadata": {},
     "output_type": "execute_result"
    }
   ],
   "source": [
    "train.shape"
   ]
  },
  {
   "cell_type": "code",
   "execution_count": 16,
   "metadata": {
    "scrolled": true
   },
   "outputs": [
    {
     "data": {
      "text/plain": [
       "LinearRegression()"
      ]
     },
     "execution_count": 16,
     "metadata": {},
     "output_type": "execute_result"
    }
   ],
   "source": [
    "model = LinearRegression()\n",
    "model.fit(features_train, target_train)"
   ]
  },
  {
   "cell_type": "code",
   "execution_count": 17,
   "metadata": {
    "scrolled": true
   },
   "outputs": [
    {
     "name": "stdout",
     "output_type": "stream",
     "text": [
      "RMSE валидационной выборки:  34.005785782495956\n"
     ]
    }
   ],
   "source": [
    "#RMSE линейная регрессия\n",
    "prediction_valid = model.predict(features_valid)\n",
    "print(\"RMSE валидационной выборки: \", mean_squared_error(target_valid, prediction_valid)**0.5)"
   ]
  },
  {
   "cell_type": "code",
   "execution_count": 18,
   "metadata": {},
   "outputs": [
    {
     "name": "stdout",
     "output_type": "stream",
     "text": [
      "Learning rate set to 0.324519\n",
      "0:\tlearn: 31.2580873\ttotal: 55.8ms\tremaining: 5.53s\n",
      "10:\tlearn: 22.1124943\ttotal: 122ms\tremaining: 988ms\n",
      "20:\tlearn: 20.3226174\ttotal: 209ms\tremaining: 787ms\n",
      "30:\tlearn: 19.0890062\ttotal: 304ms\tremaining: 676ms\n",
      "40:\tlearn: 17.9268902\ttotal: 371ms\tremaining: 534ms\n",
      "50:\tlearn: 16.7329350\ttotal: 443ms\tremaining: 425ms\n",
      "60:\tlearn: 15.6604137\ttotal: 504ms\tremaining: 322ms\n",
      "70:\tlearn: 14.9079482\ttotal: 565ms\tremaining: 231ms\n",
      "80:\tlearn: 14.3394364\ttotal: 624ms\tremaining: 146ms\n",
      "90:\tlearn: 13.7061166\ttotal: 687ms\tremaining: 68ms\n",
      "99:\tlearn: 13.2375770\ttotal: 748ms\tremaining: 0us\n"
     ]
    }
   ],
   "source": [
    "# CatBoost\n",
    "tss = TimeSeriesSplit()\n",
    "catboost_model = CatBoostRegressor(iterations=100, loss_function='RMSE')\n",
    "catboost_model.fit(features_train, target_train, verbose=10)\n",
    "catboost_predictions = catboost_model.predict(features_valid)"
   ]
  },
  {
   "cell_type": "code",
   "execution_count": 19,
   "metadata": {},
   "outputs": [
    {
     "name": "stdout",
     "output_type": "stream",
     "text": [
      "RMSE валидационной выборки:  33.14531484376472\n"
     ]
    }
   ],
   "source": [
    "#RMSE CatBoost\n",
    "print(\"RMSE валидационной выборки: \", mean_squared_error(catboost_predictions, target_valid)**0.5)"
   ]
  },
  {
   "cell_type": "code",
   "execution_count": 20,
   "metadata": {},
   "outputs": [
    {
     "name": "stdout",
     "output_type": "stream",
     "text": [
      "CPU times: user 22.6 s, sys: 57.2 ms, total: 22.7 s\n",
      "Wall time: 22.7 s\n"
     ]
    }
   ],
   "source": [
    "%%time\n",
    "#RandomizedSearchCV рандомного леса\n",
    "n_estimators = [int(x) for x in np.linspace(start = 1, stop = 50)]\n",
    "max_depth = [int(x) for x in np.linspace(1, 20)]\n",
    "rfr_grid = {'n_estimators': n_estimators, 'max_depth': max_depth}\n",
    "model_rfr = RandomizedSearchCV(estimator = RandomForestRegressor(), param_distributions = rfr_grid, cv = tss, scoring = 'neg_root_mean_squared_error')\n",
    "model_rfr.fit(features_train, target_train)\n",
    "forest_predictions = model_rfr.predict(features_valid)"
   ]
  },
  {
   "cell_type": "code",
   "execution_count": 21,
   "metadata": {},
   "outputs": [
    {
     "name": "stdout",
     "output_type": "stream",
     "text": [
      "RMSE валидационной выборки:  33.41459671178789\n"
     ]
    }
   ],
   "source": [
    "#RMSE Лес\n",
    "print(\"RMSE валидационной выборки: \", mean_squared_error(forest_predictions, target_valid)**0.5)"
   ]
  },
  {
   "cell_type": "markdown",
   "metadata": {},
   "source": [
    "Мы попробовали подобрать модель с разными переменными, у линейной регрессии rmse получился 33.0, у catboost 33.14, у рандомного леса 33.167"
   ]
  },
  {
   "cell_type": "code",
   "execution_count": 23,
   "metadata": {},
   "outputs": [
    {
     "name": "stdout",
     "output_type": "stream",
     "text": [
      "Learning rate set to 0.177519\n",
      "0:\tlearn: 41.0120429\ttotal: 245us\tremaining: 24.3ms\n",
      "1:\tlearn: 38.2672062\ttotal: 605us\tremaining: 29.7ms\n",
      "2:\tlearn: 36.0251269\ttotal: 915us\tremaining: 29.6ms\n",
      "3:\tlearn: 34.2772243\ttotal: 1.11ms\tremaining: 26.6ms\n",
      "4:\tlearn: 32.3687249\ttotal: 1.41ms\tremaining: 26.7ms\n",
      "5:\tlearn: 31.2341052\ttotal: 1.7ms\tremaining: 26.7ms\n",
      "6:\tlearn: 30.2662790\ttotal: 1.96ms\tremaining: 26ms\n",
      "7:\tlearn: 29.4395935\ttotal: 2.39ms\tremaining: 27.5ms\n",
      "8:\tlearn: 28.5453974\ttotal: 2.6ms\tremaining: 26.3ms\n",
      "9:\tlearn: 28.0621070\ttotal: 2.75ms\tremaining: 24.7ms\n",
      "10:\tlearn: 27.6555709\ttotal: 2.92ms\tremaining: 23.6ms\n",
      "11:\tlearn: 27.3804491\ttotal: 3.06ms\tremaining: 22.5ms\n",
      "12:\tlearn: 27.0360126\ttotal: 3.2ms\tremaining: 21.4ms\n",
      "13:\tlearn: 26.7728041\ttotal: 3.36ms\tremaining: 20.7ms\n",
      "14:\tlearn: 26.4093808\ttotal: 3.52ms\tremaining: 20ms\n",
      "15:\tlearn: 26.1287041\ttotal: 3.68ms\tremaining: 19.3ms\n",
      "16:\tlearn: 25.9650096\ttotal: 3.77ms\tremaining: 18.4ms\n",
      "17:\tlearn: 25.8085471\ttotal: 3.92ms\tremaining: 17.9ms\n",
      "18:\tlearn: 25.6921747\ttotal: 4.08ms\tremaining: 17.4ms\n",
      "19:\tlearn: 25.5717618\ttotal: 4.27ms\tremaining: 17.1ms\n",
      "20:\tlearn: 25.4543370\ttotal: 4.45ms\tremaining: 16.8ms\n",
      "21:\tlearn: 25.4188693\ttotal: 4.61ms\tremaining: 16.3ms\n",
      "22:\tlearn: 25.0634320\ttotal: 4.77ms\tremaining: 16ms\n",
      "23:\tlearn: 24.9026709\ttotal: 4.95ms\tremaining: 15.7ms\n",
      "24:\tlearn: 24.8184297\ttotal: 5.12ms\tremaining: 15.4ms\n",
      "25:\tlearn: 24.6313813\ttotal: 5.29ms\tremaining: 15.1ms\n",
      "26:\tlearn: 24.5065080\ttotal: 5.43ms\tremaining: 14.7ms\n",
      "27:\tlearn: 24.2365920\ttotal: 5.6ms\tremaining: 14.4ms\n",
      "28:\tlearn: 24.0112473\ttotal: 5.77ms\tremaining: 14.1ms\n",
      "29:\tlearn: 23.6903534\ttotal: 5.91ms\tremaining: 13.8ms\n",
      "30:\tlearn: 23.5227648\ttotal: 6.09ms\tremaining: 13.6ms\n",
      "31:\tlearn: 23.4336867\ttotal: 6.25ms\tremaining: 13.3ms\n",
      "32:\tlearn: 23.2166815\ttotal: 6.48ms\tremaining: 13.1ms\n",
      "33:\tlearn: 23.0945355\ttotal: 6.64ms\tremaining: 12.9ms\n",
      "34:\tlearn: 22.6639159\ttotal: 6.8ms\tremaining: 12.6ms\n",
      "35:\tlearn: 22.4623701\ttotal: 6.95ms\tremaining: 12.4ms\n",
      "36:\tlearn: 22.1417789\ttotal: 7.11ms\tremaining: 12.1ms\n",
      "37:\tlearn: 21.8850704\ttotal: 7.28ms\tremaining: 11.9ms\n",
      "38:\tlearn: 21.6805384\ttotal: 7.44ms\tremaining: 11.6ms\n",
      "39:\tlearn: 21.4751695\ttotal: 7.6ms\tremaining: 11.4ms\n",
      "40:\tlearn: 21.4281844\ttotal: 7.76ms\tremaining: 11.2ms\n",
      "41:\tlearn: 21.3889579\ttotal: 7.91ms\tremaining: 10.9ms\n",
      "42:\tlearn: 21.1126106\ttotal: 8.04ms\tremaining: 10.7ms\n",
      "43:\tlearn: 21.0021880\ttotal: 8.17ms\tremaining: 10.4ms\n",
      "44:\tlearn: 20.9678015\ttotal: 8.3ms\tremaining: 10.1ms\n",
      "45:\tlearn: 20.9319725\ttotal: 8.41ms\tremaining: 9.88ms\n",
      "46:\tlearn: 20.8429532\ttotal: 8.56ms\tremaining: 9.66ms\n",
      "47:\tlearn: 20.6811391\ttotal: 8.75ms\tremaining: 9.48ms\n",
      "48:\tlearn: 20.3730461\ttotal: 8.93ms\tremaining: 9.3ms\n",
      "49:\tlearn: 20.1274351\ttotal: 9.24ms\tremaining: 9.24ms\n",
      "50:\tlearn: 19.9428504\ttotal: 9.51ms\tremaining: 9.14ms\n",
      "51:\tlearn: 19.7334523\ttotal: 9.7ms\tremaining: 8.96ms\n",
      "52:\tlearn: 19.5161468\ttotal: 9.86ms\tremaining: 8.74ms\n",
      "53:\tlearn: 19.3041738\ttotal: 10ms\tremaining: 8.56ms\n",
      "54:\tlearn: 19.2753166\ttotal: 10.3ms\tremaining: 8.39ms\n",
      "55:\tlearn: 19.2490064\ttotal: 10.6ms\tremaining: 8.29ms\n",
      "56:\tlearn: 19.0154943\ttotal: 10.8ms\tremaining: 8.16ms\n",
      "57:\tlearn: 18.9914432\ttotal: 11ms\tremaining: 7.99ms\n",
      "58:\tlearn: 18.9318745\ttotal: 11.2ms\tremaining: 7.81ms\n",
      "59:\tlearn: 18.9099192\ttotal: 11.5ms\tremaining: 7.65ms\n",
      "60:\tlearn: 18.8562991\ttotal: 11.7ms\tremaining: 7.48ms\n",
      "61:\tlearn: 18.6643947\ttotal: 12ms\tremaining: 7.33ms\n",
      "62:\tlearn: 18.5037978\ttotal: 12.2ms\tremaining: 7.16ms\n",
      "63:\tlearn: 18.4543731\ttotal: 12.4ms\tremaining: 7ms\n",
      "64:\tlearn: 18.4342394\ttotal: 12.7ms\tremaining: 6.83ms\n",
      "65:\tlearn: 18.3890883\ttotal: 13.3ms\tremaining: 6.85ms\n",
      "66:\tlearn: 18.1762929\ttotal: 13.7ms\tremaining: 6.75ms\n",
      "67:\tlearn: 18.1353676\ttotal: 13.9ms\tremaining: 6.55ms\n",
      "68:\tlearn: 18.0986766\ttotal: 14.1ms\tremaining: 6.35ms\n",
      "69:\tlearn: 18.0792898\ttotal: 14.3ms\tremaining: 6.13ms\n",
      "70:\tlearn: 18.0078346\ttotal: 14.5ms\tremaining: 5.93ms\n",
      "71:\tlearn: 17.9899660\ttotal: 14.7ms\tremaining: 5.71ms\n",
      "72:\tlearn: 17.8607378\ttotal: 14.8ms\tremaining: 5.48ms\n",
      "73:\tlearn: 17.8455609\ttotal: 15ms\tremaining: 5.26ms\n",
      "74:\tlearn: 17.8129056\ttotal: 15.1ms\tremaining: 5.04ms\n",
      "75:\tlearn: 17.7991018\ttotal: 15.3ms\tremaining: 4.85ms\n",
      "76:\tlearn: 17.6347933\ttotal: 15.5ms\tremaining: 4.63ms\n",
      "77:\tlearn: 17.5171386\ttotal: 15.7ms\tremaining: 4.43ms\n",
      "78:\tlearn: 17.3248405\ttotal: 15.8ms\tremaining: 4.21ms\n",
      "79:\tlearn: 17.1906761\ttotal: 16ms\tremaining: 4ms\n",
      "80:\tlearn: 17.0193460\ttotal: 16.2ms\tremaining: 3.79ms\n",
      "81:\tlearn: 16.9138470\ttotal: 16.3ms\tremaining: 3.59ms\n",
      "82:\tlearn: 16.8878665\ttotal: 16.5ms\tremaining: 3.38ms\n",
      "83:\tlearn: 16.7941486\ttotal: 16.7ms\tremaining: 3.17ms\n",
      "84:\tlearn: 16.7109311\ttotal: 16.8ms\tremaining: 2.96ms\n",
      "85:\tlearn: 16.6983290\ttotal: 16.9ms\tremaining: 2.76ms\n",
      "86:\tlearn: 16.6714623\ttotal: 17.1ms\tremaining: 2.56ms\n",
      "87:\tlearn: 16.5725833\ttotal: 17.3ms\tremaining: 2.36ms\n",
      "88:\tlearn: 16.5587746\ttotal: 17.6ms\tremaining: 2.17ms\n",
      "89:\tlearn: 16.5441695\ttotal: 17.8ms\tremaining: 1.98ms\n",
      "90:\tlearn: 16.4755106\ttotal: 18ms\tremaining: 1.78ms\n",
      "91:\tlearn: 16.4621429\ttotal: 18.1ms\tremaining: 1.58ms\n",
      "92:\tlearn: 16.3771985\ttotal: 18.3ms\tremaining: 1.37ms\n",
      "93:\tlearn: 16.3649203\ttotal: 18.4ms\tremaining: 1.18ms\n",
      "94:\tlearn: 16.1897257\ttotal: 18.6ms\tremaining: 977us\n",
      "95:\tlearn: 16.0412201\ttotal: 18.8ms\tremaining: 782us\n",
      "96:\tlearn: 15.9034890\ttotal: 19ms\tremaining: 587us\n",
      "97:\tlearn: 15.8822293\ttotal: 19.2ms\tremaining: 392us\n",
      "98:\tlearn: 15.7573286\ttotal: 19.5ms\tremaining: 196us\n",
      "99:\tlearn: 15.7339741\ttotal: 19.6ms\tremaining: 0us\n"
     ]
    },
    {
     "name": "stderr",
     "output_type": "stream",
     "text": [
      "/opt/conda/lib/python3.9/site-packages/sklearn/model_selection/_validation.py:683: UserWarning: Scoring failed. The score on this train-test partition for these parameters will be set to nan. Details: \n",
      "Traceback (most recent call last):\n",
      "  File \"/opt/conda/lib/python3.9/site-packages/sklearn/model_selection/_validation.py\", line 674, in _score\n",
      "    scores = scorer(estimator, X_test, y_test)\n",
      "  File \"/opt/conda/lib/python3.9/site-packages/sklearn/metrics/_scorer.py\", line 87, in __call__\n",
      "    score = scorer._score(cached_call, estimator,\n",
      "  File \"/opt/conda/lib/python3.9/site-packages/sklearn/metrics/_scorer.py\", line 242, in _score\n",
      "    return self._sign * self._score_func(y_true, y_pred,\n",
      "  File \"/opt/conda/lib/python3.9/site-packages/sklearn/utils/validation.py\", line 63, in inner_f\n",
      "    return f(*args, **kwargs)\n",
      "  File \"/opt/conda/lib/python3.9/site-packages/sklearn/metrics/_regression.py\", line 335, in mean_squared_error\n",
      "    y_type, y_true, y_pred, multioutput = _check_reg_targets(\n",
      "  File \"/opt/conda/lib/python3.9/site-packages/sklearn/metrics/_regression.py\", line 88, in _check_reg_targets\n",
      "    check_consistent_length(y_true, y_pred)\n",
      "  File \"/opt/conda/lib/python3.9/site-packages/sklearn/utils/validation.py\", line 259, in check_consistent_length\n",
      "    lengths = [_num_samples(X) for X in arrays if X is not None]\n",
      "  File \"/opt/conda/lib/python3.9/site-packages/sklearn/utils/validation.py\", line 259, in <listcomp>\n",
      "    lengths = [_num_samples(X) for X in arrays if X is not None]\n",
      "  File \"/opt/conda/lib/python3.9/site-packages/sklearn/utils/validation.py\", line 202, in _num_samples\n",
      "    raise TypeError(\"Singleton array %r cannot be considered\"\n",
      "TypeError: Singleton array 83.26645288935592 cannot be considered a valid collection.\n",
      "\n",
      "  warnings.warn(\n"
     ]
    },
    {
     "name": "stdout",
     "output_type": "stream",
     "text": [
      "Learning rate set to 0.197243\n",
      "0:\tlearn: 38.3686114\ttotal: 342us\tremaining: 33.9ms\n",
      "1:\tlearn: 35.3620426\ttotal: 705us\tremaining: 34.6ms\n",
      "2:\tlearn: 33.3250672\ttotal: 952us\tremaining: 30.8ms\n",
      "3:\tlearn: 31.5234253\ttotal: 1.17ms\tremaining: 28.2ms\n",
      "4:\tlearn: 30.0482783\ttotal: 1.39ms\tremaining: 26.4ms\n",
      "5:\tlearn: 29.0140443\ttotal: 1.67ms\tremaining: 26.1ms\n",
      "6:\tlearn: 28.1836506\ttotal: 1.88ms\tremaining: 25ms\n",
      "7:\tlearn: 27.6279434\ttotal: 2.08ms\tremaining: 23.9ms\n",
      "8:\tlearn: 27.3074364\ttotal: 2.29ms\tremaining: 23.2ms\n",
      "9:\tlearn: 26.9645055\ttotal: 2.49ms\tremaining: 22.4ms\n",
      "10:\tlearn: 26.6739043\ttotal: 2.72ms\tremaining: 22ms\n",
      "11:\tlearn: 26.4804782\ttotal: 2.91ms\tremaining: 21.3ms\n",
      "12:\tlearn: 26.2599998\ttotal: 3.09ms\tremaining: 20.7ms\n",
      "13:\tlearn: 26.1177916\ttotal: 3.38ms\tremaining: 20.8ms\n",
      "14:\tlearn: 25.9927172\ttotal: 3.7ms\tremaining: 21ms\n",
      "15:\tlearn: 25.9267271\ttotal: 3.96ms\tremaining: 20.8ms\n",
      "16:\tlearn: 25.8809839\ttotal: 4.08ms\tremaining: 19.9ms\n",
      "17:\tlearn: 25.7680686\ttotal: 4.27ms\tremaining: 19.5ms\n",
      "18:\tlearn: 25.7083607\ttotal: 4.46ms\tremaining: 19ms\n",
      "19:\tlearn: 25.6153231\ttotal: 4.66ms\tremaining: 18.7ms\n",
      "20:\tlearn: 25.3428575\ttotal: 4.93ms\tremaining: 18.5ms\n",
      "21:\tlearn: 25.2558213\ttotal: 5.15ms\tremaining: 18.3ms\n",
      "22:\tlearn: 25.2190170\ttotal: 5.34ms\tremaining: 17.9ms\n",
      "23:\tlearn: 25.1940928\ttotal: 5.54ms\tremaining: 17.6ms\n",
      "24:\tlearn: 25.1030632\ttotal: 5.75ms\tremaining: 17.3ms\n",
      "25:\tlearn: 25.0395226\ttotal: 5.96ms\tremaining: 17ms\n",
      "26:\tlearn: 24.8640930\ttotal: 6.15ms\tremaining: 16.6ms\n",
      "27:\tlearn: 24.7789648\ttotal: 6.35ms\tremaining: 16.3ms\n",
      "28:\tlearn: 24.6661520\ttotal: 6.56ms\tremaining: 16.1ms\n",
      "29:\tlearn: 24.5693817\ttotal: 6.75ms\tremaining: 15.8ms\n",
      "30:\tlearn: 24.4164400\ttotal: 7.04ms\tremaining: 15.7ms\n",
      "31:\tlearn: 24.2808183\ttotal: 7.27ms\tremaining: 15.5ms\n",
      "32:\tlearn: 24.2359779\ttotal: 7.49ms\tremaining: 15.2ms\n",
      "33:\tlearn: 24.1204859\ttotal: 7.72ms\tremaining: 15ms\n",
      "34:\tlearn: 24.0207602\ttotal: 7.94ms\tremaining: 14.7ms\n",
      "35:\tlearn: 23.9415829\ttotal: 8.19ms\tremaining: 14.6ms\n",
      "36:\tlearn: 23.8466075\ttotal: 8.5ms\tremaining: 14.5ms\n",
      "37:\tlearn: 23.7829079\ttotal: 8.73ms\tremaining: 14.2ms\n",
      "38:\tlearn: 23.7313921\ttotal: 9.01ms\tremaining: 14.1ms\n",
      "39:\tlearn: 23.6947745\ttotal: 9.27ms\tremaining: 13.9ms\n",
      "40:\tlearn: 23.6373696\ttotal: 9.52ms\tremaining: 13.7ms\n",
      "41:\tlearn: 23.5687554\ttotal: 9.77ms\tremaining: 13.5ms\n",
      "42:\tlearn: 23.5183916\ttotal: 10ms\tremaining: 13.3ms\n",
      "43:\tlearn: 23.4754082\ttotal: 10.2ms\tremaining: 13ms\n",
      "44:\tlearn: 23.3096292\ttotal: 10.4ms\tremaining: 12.7ms\n",
      "45:\tlearn: 23.2460367\ttotal: 10.7ms\tremaining: 12.5ms\n",
      "46:\tlearn: 23.1543359\ttotal: 10.9ms\tremaining: 12.2ms\n",
      "47:\tlearn: 23.1011021\ttotal: 11.1ms\tremaining: 12ms\n",
      "48:\tlearn: 23.0212866\ttotal: 11.3ms\tremaining: 11.8ms\n",
      "49:\tlearn: 22.8772589\ttotal: 11.6ms\tremaining: 11.6ms\n",
      "50:\tlearn: 22.8127219\ttotal: 11.8ms\tremaining: 11.3ms\n",
      "51:\tlearn: 22.7369034\ttotal: 12.1ms\tremaining: 11.2ms\n",
      "52:\tlearn: 22.6741965\ttotal: 12.4ms\tremaining: 11ms\n",
      "53:\tlearn: 22.6394268\ttotal: 12.6ms\tremaining: 10.7ms\n",
      "54:\tlearn: 22.6063293\ttotal: 12.8ms\tremaining: 10.5ms\n",
      "55:\tlearn: 22.4701892\ttotal: 13ms\tremaining: 10.2ms\n",
      "56:\tlearn: 22.3298291\ttotal: 13.2ms\tremaining: 9.98ms\n",
      "57:\tlearn: 22.3148878\ttotal: 13.5ms\tremaining: 9.74ms\n",
      "58:\tlearn: 22.2721094\ttotal: 13.6ms\tremaining: 9.48ms\n",
      "59:\tlearn: 22.2299993\ttotal: 13.8ms\tremaining: 9.21ms\n",
      "60:\tlearn: 22.2147500\ttotal: 14ms\tremaining: 8.97ms\n",
      "61:\tlearn: 22.1170842\ttotal: 14.3ms\tremaining: 8.74ms\n",
      "62:\tlearn: 22.0277171\ttotal: 14.5ms\tremaining: 8.51ms\n",
      "63:\tlearn: 21.9388335\ttotal: 14.7ms\tremaining: 8.25ms\n",
      "64:\tlearn: 21.9277156\ttotal: 14.9ms\tremaining: 8.03ms\n",
      "65:\tlearn: 21.9059167\ttotal: 15.1ms\tremaining: 7.8ms\n",
      "66:\tlearn: 21.8636825\ttotal: 15.4ms\tremaining: 7.59ms\n",
      "67:\tlearn: 21.8439127\ttotal: 15.6ms\tremaining: 7.36ms\n",
      "68:\tlearn: 21.8272228\ttotal: 15.9ms\tremaining: 7.13ms\n",
      "69:\tlearn: 21.7920828\ttotal: 16.1ms\tremaining: 6.9ms\n",
      "70:\tlearn: 21.7686389\ttotal: 16.3ms\tremaining: 6.68ms\n",
      "71:\tlearn: 21.6982166\ttotal: 16.6ms\tremaining: 6.44ms\n",
      "72:\tlearn: 21.5919432\ttotal: 16.9ms\tremaining: 6.23ms\n",
      "73:\tlearn: 21.5805206\ttotal: 17.1ms\tremaining: 6ms\n",
      "74:\tlearn: 21.5447295\ttotal: 17.3ms\tremaining: 5.76ms\n",
      "75:\tlearn: 21.5105563\ttotal: 17.5ms\tremaining: 5.53ms\n",
      "76:\tlearn: 21.4672854\ttotal: 17.7ms\tremaining: 5.3ms\n",
      "77:\tlearn: 21.4242797\ttotal: 18ms\tremaining: 5.07ms\n",
      "78:\tlearn: 21.3525478\ttotal: 18.2ms\tremaining: 4.84ms\n",
      "79:\tlearn: 21.3039385\ttotal: 18.4ms\tremaining: 4.61ms\n",
      "80:\tlearn: 21.1185003\ttotal: 18.7ms\tremaining: 4.38ms\n",
      "81:\tlearn: 21.0977950\ttotal: 19.4ms\tremaining: 4.25ms\n",
      "82:\tlearn: 21.0779281\ttotal: 19.7ms\tremaining: 4.03ms\n",
      "83:\tlearn: 20.9905780\ttotal: 19.9ms\tremaining: 3.79ms\n",
      "84:\tlearn: 20.9493916\ttotal: 20.1ms\tremaining: 3.55ms\n",
      "85:\tlearn: 20.9397849\ttotal: 20.4ms\tremaining: 3.31ms\n",
      "86:\tlearn: 20.9309425\ttotal: 20.6ms\tremaining: 3.08ms\n",
      "87:\tlearn: 20.8277315\ttotal: 20.9ms\tremaining: 2.85ms\n",
      "88:\tlearn: 20.8137921\ttotal: 21.1ms\tremaining: 2.61ms\n",
      "89:\tlearn: 20.7573779\ttotal: 21.3ms\tremaining: 2.37ms\n",
      "90:\tlearn: 20.6774996\ttotal: 21.6ms\tremaining: 2.13ms\n",
      "91:\tlearn: 20.6664324\ttotal: 21.8ms\tremaining: 1.9ms\n",
      "92:\tlearn: 20.5159765\ttotal: 22ms\tremaining: 1.66ms\n",
      "93:\tlearn: 20.3823475\ttotal: 22.3ms\tremaining: 1.42ms\n",
      "94:\tlearn: 20.3762520\ttotal: 22.5ms\tremaining: 1.18ms\n",
      "95:\tlearn: 20.3593187\ttotal: 22.7ms\tremaining: 946us\n",
      "96:\tlearn: 20.3237003\ttotal: 23ms\tremaining: 710us\n",
      "97:\tlearn: 20.2125079\ttotal: 23.2ms\tremaining: 473us\n",
      "98:\tlearn: 20.2018468\ttotal: 23.4ms\tremaining: 236us\n",
      "99:\tlearn: 20.1870357\ttotal: 23.6ms\tremaining: 0us\n"
     ]
    },
    {
     "name": "stderr",
     "output_type": "stream",
     "text": [
      "/opt/conda/lib/python3.9/site-packages/sklearn/model_selection/_validation.py:683: UserWarning: Scoring failed. The score on this train-test partition for these parameters will be set to nan. Details: \n",
      "Traceback (most recent call last):\n",
      "  File \"/opt/conda/lib/python3.9/site-packages/sklearn/model_selection/_validation.py\", line 674, in _score\n",
      "    scores = scorer(estimator, X_test, y_test)\n",
      "  File \"/opt/conda/lib/python3.9/site-packages/sklearn/metrics/_scorer.py\", line 87, in __call__\n",
      "    score = scorer._score(cached_call, estimator,\n",
      "  File \"/opt/conda/lib/python3.9/site-packages/sklearn/metrics/_scorer.py\", line 242, in _score\n",
      "    return self._sign * self._score_func(y_true, y_pred,\n",
      "  File \"/opt/conda/lib/python3.9/site-packages/sklearn/utils/validation.py\", line 63, in inner_f\n",
      "    return f(*args, **kwargs)\n",
      "  File \"/opt/conda/lib/python3.9/site-packages/sklearn/metrics/_regression.py\", line 335, in mean_squared_error\n",
      "    y_type, y_true, y_pred, multioutput = _check_reg_targets(\n",
      "  File \"/opt/conda/lib/python3.9/site-packages/sklearn/metrics/_regression.py\", line 88, in _check_reg_targets\n",
      "    check_consistent_length(y_true, y_pred)\n",
      "  File \"/opt/conda/lib/python3.9/site-packages/sklearn/utils/validation.py\", line 259, in check_consistent_length\n",
      "    lengths = [_num_samples(X) for X in arrays if X is not None]\n",
      "  File \"/opt/conda/lib/python3.9/site-packages/sklearn/utils/validation.py\", line 259, in <listcomp>\n",
      "    lengths = [_num_samples(X) for X in arrays if X is not None]\n",
      "  File \"/opt/conda/lib/python3.9/site-packages/sklearn/utils/validation.py\", line 202, in _num_samples\n",
      "    raise TypeError(\"Singleton array %r cannot be considered\"\n",
      "TypeError: Singleton array 123.34219522096922 cannot be considered a valid collection.\n",
      "\n",
      "  warnings.warn(\n"
     ]
    },
    {
     "name": "stdout",
     "output_type": "stream",
     "text": [
      "Learning rate set to 0.209996\n",
      "0:\tlearn: 38.0023212\ttotal: 453us\tremaining: 44.9ms\n",
      "1:\tlearn: 35.1654657\ttotal: 880us\tremaining: 43.1ms\n",
      "2:\tlearn: 32.8092696\ttotal: 1.29ms\tremaining: 41.8ms\n",
      "3:\tlearn: 31.3395615\ttotal: 1.63ms\tremaining: 39.2ms\n",
      "4:\tlearn: 30.0558079\ttotal: 1.99ms\tremaining: 37.8ms\n",
      "5:\tlearn: 29.3298105\ttotal: 2.28ms\tremaining: 35.7ms\n",
      "6:\tlearn: 28.6853804\ttotal: 2.58ms\tremaining: 34.3ms\n",
      "7:\tlearn: 28.2072953\ttotal: 2.92ms\tremaining: 33.5ms\n",
      "8:\tlearn: 27.8880349\ttotal: 3.17ms\tremaining: 32.1ms\n",
      "9:\tlearn: 27.6049759\ttotal: 3.47ms\tremaining: 31.2ms\n",
      "10:\tlearn: 27.3905393\ttotal: 3.75ms\tremaining: 30.4ms\n",
      "11:\tlearn: 27.2479909\ttotal: 4.11ms\tremaining: 30.2ms\n",
      "12:\tlearn: 27.0766650\ttotal: 4.4ms\tremaining: 29.4ms\n",
      "13:\tlearn: 26.9714603\ttotal: 4.68ms\tremaining: 28.8ms\n",
      "14:\tlearn: 26.9197408\ttotal: 4.98ms\tremaining: 28.2ms\n",
      "15:\tlearn: 26.8283971\ttotal: 5.31ms\tremaining: 27.9ms\n",
      "16:\tlearn: 26.7381248\ttotal: 5.61ms\tremaining: 27.4ms\n",
      "17:\tlearn: 26.7155496\ttotal: 5.92ms\tremaining: 27ms\n",
      "18:\tlearn: 26.6868937\ttotal: 6.28ms\tremaining: 26.8ms\n",
      "19:\tlearn: 26.6214756\ttotal: 6.63ms\tremaining: 26.5ms\n",
      "20:\tlearn: 26.5520650\ttotal: 7.03ms\tremaining: 26.5ms\n",
      "21:\tlearn: 26.5182685\ttotal: 7.34ms\tremaining: 26ms\n",
      "22:\tlearn: 26.4965289\ttotal: 7.7ms\tremaining: 25.8ms\n",
      "23:\tlearn: 26.4483788\ttotal: 8ms\tremaining: 25.3ms\n",
      "24:\tlearn: 26.3722827\ttotal: 8.35ms\tremaining: 25.1ms\n",
      "25:\tlearn: 26.3447720\ttotal: 8.68ms\tremaining: 24.7ms\n",
      "26:\tlearn: 26.2792263\ttotal: 8.97ms\tremaining: 24.3ms\n",
      "27:\tlearn: 26.2132205\ttotal: 9.32ms\tremaining: 24ms\n",
      "28:\tlearn: 26.1558352\ttotal: 9.6ms\tremaining: 23.5ms\n",
      "29:\tlearn: 26.1018352\ttotal: 9.9ms\tremaining: 23.1ms\n",
      "30:\tlearn: 26.0532268\ttotal: 10.2ms\tremaining: 22.6ms\n",
      "31:\tlearn: 26.0134186\ttotal: 10.5ms\tremaining: 22.2ms\n",
      "32:\tlearn: 25.9215049\ttotal: 10.8ms\tremaining: 21.8ms\n",
      "33:\tlearn: 25.8578378\ttotal: 11ms\tremaining: 21.4ms\n",
      "34:\tlearn: 25.7674859\ttotal: 11.3ms\tremaining: 21ms\n",
      "35:\tlearn: 25.6681351\ttotal: 11.6ms\tremaining: 20.7ms\n",
      "36:\tlearn: 25.5871950\ttotal: 12ms\tremaining: 20.4ms\n",
      "37:\tlearn: 25.5303074\ttotal: 12.3ms\tremaining: 20ms\n",
      "38:\tlearn: 25.5086893\ttotal: 12.6ms\tremaining: 19.6ms\n",
      "39:\tlearn: 25.4506572\ttotal: 12.9ms\tremaining: 19.4ms\n",
      "40:\tlearn: 25.3765347\ttotal: 13.2ms\tremaining: 19.1ms\n",
      "41:\tlearn: 25.3154949\ttotal: 13.5ms\tremaining: 18.7ms\n",
      "42:\tlearn: 25.2148166\ttotal: 13.8ms\tremaining: 18.3ms\n",
      "43:\tlearn: 25.1961297\ttotal: 14.1ms\tremaining: 17.9ms\n",
      "44:\tlearn: 25.0807884\ttotal: 14.4ms\tremaining: 17.6ms\n",
      "45:\tlearn: 25.0376085\ttotal: 14.7ms\tremaining: 17.2ms\n",
      "46:\tlearn: 25.0008130\ttotal: 14.9ms\tremaining: 16.9ms\n",
      "47:\tlearn: 24.9138479\ttotal: 15.2ms\tremaining: 16.5ms\n",
      "48:\tlearn: 24.8841514\ttotal: 15.5ms\tremaining: 16.2ms\n",
      "49:\tlearn: 24.7476133\ttotal: 15.8ms\tremaining: 15.8ms\n",
      "50:\tlearn: 24.6667604\ttotal: 16.1ms\tremaining: 15.4ms\n",
      "51:\tlearn: 24.5333052\ttotal: 16.3ms\tremaining: 15.1ms\n",
      "52:\tlearn: 24.5077549\ttotal: 16.6ms\tremaining: 14.7ms\n",
      "53:\tlearn: 24.4842295\ttotal: 17ms\tremaining: 14.5ms\n",
      "54:\tlearn: 24.4634821\ttotal: 17.3ms\tremaining: 14.2ms\n",
      "55:\tlearn: 24.4274549\ttotal: 17.7ms\tremaining: 13.9ms\n",
      "56:\tlearn: 24.3628351\ttotal: 18ms\tremaining: 13.6ms\n",
      "57:\tlearn: 24.3463950\ttotal: 18.3ms\tremaining: 13.2ms\n",
      "58:\tlearn: 24.2261578\ttotal: 18.5ms\tremaining: 12.9ms\n",
      "59:\tlearn: 24.2142367\ttotal: 18.8ms\tremaining: 12.5ms\n",
      "60:\tlearn: 24.1570518\ttotal: 19.1ms\tremaining: 12.2ms\n",
      "61:\tlearn: 24.0950274\ttotal: 19.3ms\tremaining: 11.9ms\n",
      "62:\tlearn: 24.0407354\ttotal: 19.6ms\tremaining: 11.5ms\n",
      "63:\tlearn: 23.9613373\ttotal: 19.9ms\tremaining: 11.2ms\n",
      "64:\tlearn: 23.9223791\ttotal: 20.2ms\tremaining: 10.9ms\n",
      "65:\tlearn: 23.8713006\ttotal: 20.5ms\tremaining: 10.5ms\n",
      "66:\tlearn: 23.8236720\ttotal: 20.7ms\tremaining: 10.2ms\n",
      "67:\tlearn: 23.7771123\ttotal: 21ms\tremaining: 9.88ms\n",
      "68:\tlearn: 23.7630704\ttotal: 21.2ms\tremaining: 9.54ms\n",
      "69:\tlearn: 23.6820053\ttotal: 21.5ms\tremaining: 9.22ms\n",
      "70:\tlearn: 23.6347502\ttotal: 21.8ms\tremaining: 8.9ms\n",
      "71:\tlearn: 23.4669191\ttotal: 22.1ms\tremaining: 8.6ms\n",
      "72:\tlearn: 23.4558244\ttotal: 22.4ms\tremaining: 8.28ms\n",
      "73:\tlearn: 23.3058539\ttotal: 23.1ms\tremaining: 8.11ms\n",
      "74:\tlearn: 23.2550275\ttotal: 23.7ms\tremaining: 7.9ms\n",
      "75:\tlearn: 23.2254452\ttotal: 24.2ms\tremaining: 7.65ms\n",
      "76:\tlearn: 23.1352870\ttotal: 24.6ms\tremaining: 7.33ms\n",
      "77:\tlearn: 23.0787126\ttotal: 24.8ms\tremaining: 7ms\n",
      "78:\tlearn: 23.0350907\ttotal: 25.1ms\tremaining: 6.67ms\n",
      "79:\tlearn: 22.9952297\ttotal: 25.4ms\tremaining: 6.34ms\n",
      "80:\tlearn: 22.9561235\ttotal: 25.6ms\tremaining: 6.01ms\n",
      "81:\tlearn: 22.8945798\ttotal: 25.9ms\tremaining: 5.68ms\n",
      "82:\tlearn: 22.8663511\ttotal: 26.3ms\tremaining: 5.4ms\n",
      "83:\tlearn: 22.7823942\ttotal: 26.6ms\tremaining: 5.07ms\n",
      "84:\tlearn: 22.7710435\ttotal: 26.9ms\tremaining: 4.75ms\n",
      "85:\tlearn: 22.6541990\ttotal: 27.2ms\tremaining: 4.43ms\n",
      "86:\tlearn: 22.5482417\ttotal: 27.6ms\tremaining: 4.12ms\n",
      "87:\tlearn: 22.4721991\ttotal: 27.9ms\tremaining: 3.8ms\n",
      "88:\tlearn: 22.4430574\ttotal: 28.1ms\tremaining: 3.48ms\n",
      "89:\tlearn: 22.4115157\ttotal: 28.4ms\tremaining: 3.16ms\n",
      "90:\tlearn: 22.3771326\ttotal: 28.7ms\tremaining: 2.84ms\n",
      "91:\tlearn: 22.2790509\ttotal: 29ms\tremaining: 2.52ms\n",
      "92:\tlearn: 22.1913205\ttotal: 29.2ms\tremaining: 2.2ms\n",
      "93:\tlearn: 22.1512619\ttotal: 29.6ms\tremaining: 1.89ms\n",
      "94:\tlearn: 22.0870870\ttotal: 29.9ms\tremaining: 1.57ms\n",
      "95:\tlearn: 22.0634815\ttotal: 30.1ms\tremaining: 1.25ms\n",
      "96:\tlearn: 21.9738200\ttotal: 30.5ms\tremaining: 942us\n",
      "97:\tlearn: 21.9461698\ttotal: 30.7ms\tremaining: 627us\n",
      "98:\tlearn: 21.9059691\ttotal: 31ms\tremaining: 313us\n",
      "99:\tlearn: 21.8800691\ttotal: 31.3ms\tremaining: 0us\n"
     ]
    },
    {
     "name": "stderr",
     "output_type": "stream",
     "text": [
      "/opt/conda/lib/python3.9/site-packages/sklearn/model_selection/_validation.py:683: UserWarning: Scoring failed. The score on this train-test partition for these parameters will be set to nan. Details: \n",
      "Traceback (most recent call last):\n",
      "  File \"/opt/conda/lib/python3.9/site-packages/sklearn/model_selection/_validation.py\", line 674, in _score\n",
      "    scores = scorer(estimator, X_test, y_test)\n",
      "  File \"/opt/conda/lib/python3.9/site-packages/sklearn/metrics/_scorer.py\", line 87, in __call__\n",
      "    score = scorer._score(cached_call, estimator,\n",
      "  File \"/opt/conda/lib/python3.9/site-packages/sklearn/metrics/_scorer.py\", line 242, in _score\n",
      "    return self._sign * self._score_func(y_true, y_pred,\n",
      "  File \"/opt/conda/lib/python3.9/site-packages/sklearn/utils/validation.py\", line 63, in inner_f\n",
      "    return f(*args, **kwargs)\n",
      "  File \"/opt/conda/lib/python3.9/site-packages/sklearn/metrics/_regression.py\", line 335, in mean_squared_error\n",
      "    y_type, y_true, y_pred, multioutput = _check_reg_targets(\n",
      "  File \"/opt/conda/lib/python3.9/site-packages/sklearn/metrics/_regression.py\", line 88, in _check_reg_targets\n",
      "    check_consistent_length(y_true, y_pred)\n",
      "  File \"/opt/conda/lib/python3.9/site-packages/sklearn/utils/validation.py\", line 259, in check_consistent_length\n",
      "    lengths = [_num_samples(X) for X in arrays if X is not None]\n",
      "  File \"/opt/conda/lib/python3.9/site-packages/sklearn/utils/validation.py\", line 259, in <listcomp>\n",
      "    lengths = [_num_samples(X) for X in arrays if X is not None]\n",
      "  File \"/opt/conda/lib/python3.9/site-packages/sklearn/utils/validation.py\", line 202, in _num_samples\n",
      "    raise TypeError(\"Singleton array %r cannot be considered\"\n",
      "TypeError: Singleton array 113.6074906011496 cannot be considered a valid collection.\n",
      "\n",
      "  warnings.warn(\n"
     ]
    },
    {
     "name": "stdout",
     "output_type": "stream",
     "text": [
      "Learning rate set to 0.219606\n",
      "0:\tlearn: 37.4108982\ttotal: 421us\tremaining: 41.7ms\n",
      "1:\tlearn: 34.0850152\ttotal: 907us\tremaining: 44.5ms\n",
      "2:\tlearn: 31.7970588\ttotal: 1.29ms\tremaining: 41.9ms\n",
      "3:\tlearn: 30.2146163\ttotal: 1.63ms\tremaining: 39.2ms\n",
      "4:\tlearn: 29.0208137\ttotal: 1.95ms\tremaining: 37ms\n",
      "5:\tlearn: 28.1805193\ttotal: 2.28ms\tremaining: 35.8ms\n",
      "6:\tlearn: 27.6136348\ttotal: 2.64ms\tremaining: 35.1ms\n",
      "7:\tlearn: 27.2535001\ttotal: 2.96ms\tremaining: 34ms\n",
      "8:\tlearn: 26.8996750\ttotal: 3.29ms\tremaining: 33.2ms\n",
      "9:\tlearn: 26.6318333\ttotal: 3.6ms\tremaining: 32.4ms\n",
      "10:\tlearn: 26.5086511\ttotal: 3.95ms\tremaining: 31.9ms\n",
      "11:\tlearn: 26.3951311\ttotal: 4.28ms\tremaining: 31.4ms\n",
      "12:\tlearn: 26.2365400\ttotal: 4.6ms\tremaining: 30.8ms\n",
      "13:\tlearn: 26.1396143\ttotal: 4.94ms\tremaining: 30.3ms\n",
      "14:\tlearn: 26.0596234\ttotal: 5.4ms\tremaining: 30.6ms\n",
      "15:\tlearn: 25.9435159\ttotal: 5.81ms\tremaining: 30.5ms\n",
      "16:\tlearn: 25.9077575\ttotal: 6.05ms\tremaining: 29.5ms\n",
      "17:\tlearn: 25.8314655\ttotal: 6.39ms\tremaining: 29.1ms\n",
      "18:\tlearn: 25.7829453\ttotal: 6.72ms\tremaining: 28.7ms\n",
      "19:\tlearn: 25.7437802\ttotal: 7.05ms\tremaining: 28.2ms\n",
      "20:\tlearn: 25.6603087\ttotal: 7.39ms\tremaining: 27.8ms\n",
      "21:\tlearn: 25.5849560\ttotal: 7.76ms\tremaining: 27.5ms\n",
      "22:\tlearn: 25.4649819\ttotal: 8.07ms\tremaining: 27ms\n",
      "23:\tlearn: 25.4002381\ttotal: 8.41ms\tremaining: 26.6ms\n",
      "24:\tlearn: 25.3867077\ttotal: 8.76ms\tremaining: 26.3ms\n",
      "25:\tlearn: 25.3678998\ttotal: 9.09ms\tremaining: 25.9ms\n",
      "26:\tlearn: 25.3000059\ttotal: 9.42ms\tremaining: 25.5ms\n",
      "27:\tlearn: 25.2786486\ttotal: 9.76ms\tremaining: 25.1ms\n",
      "28:\tlearn: 25.2071832\ttotal: 10.1ms\tremaining: 24.8ms\n",
      "29:\tlearn: 25.1480935\ttotal: 10.5ms\tremaining: 24.4ms\n",
      "30:\tlearn: 25.0632888\ttotal: 10.8ms\tremaining: 24ms\n",
      "31:\tlearn: 25.0244457\ttotal: 11.2ms\tremaining: 23.7ms\n",
      "32:\tlearn: 24.9705358\ttotal: 11.5ms\tremaining: 23.4ms\n",
      "33:\tlearn: 24.9149940\ttotal: 11.9ms\tremaining: 23.1ms\n",
      "34:\tlearn: 24.8725182\ttotal: 12.3ms\tremaining: 22.8ms\n",
      "35:\tlearn: 24.7970391\ttotal: 12.6ms\tremaining: 22.4ms\n",
      "36:\tlearn: 24.7558060\ttotal: 13ms\tremaining: 22.1ms\n",
      "37:\tlearn: 24.6814355\ttotal: 13.3ms\tremaining: 21.7ms\n",
      "38:\tlearn: 24.5576478\ttotal: 13.6ms\tremaining: 21.3ms\n",
      "39:\tlearn: 24.5310962\ttotal: 13.9ms\tremaining: 20.9ms\n",
      "40:\tlearn: 24.4751846\ttotal: 14.2ms\tremaining: 20.5ms\n",
      "41:\tlearn: 24.4280128\ttotal: 14.5ms\tremaining: 20.1ms\n",
      "42:\tlearn: 24.3828720\ttotal: 14.9ms\tremaining: 19.7ms\n",
      "43:\tlearn: 24.2975003\ttotal: 15.2ms\tremaining: 19.4ms\n",
      "44:\tlearn: 24.2352439\ttotal: 15.5ms\tremaining: 19ms\n",
      "45:\tlearn: 24.2091152\ttotal: 15.9ms\tremaining: 18.6ms\n",
      "46:\tlearn: 24.0787759\ttotal: 16.3ms\tremaining: 18.3ms\n",
      "47:\tlearn: 24.0474049\ttotal: 16.6ms\tremaining: 18ms\n",
      "48:\tlearn: 23.9058718\ttotal: 16.9ms\tremaining: 17.6ms\n",
      "49:\tlearn: 23.7773940\ttotal: 17.3ms\tremaining: 17.3ms\n",
      "50:\tlearn: 23.7529241\ttotal: 17.6ms\tremaining: 16.9ms\n",
      "51:\tlearn: 23.6711684\ttotal: 17.9ms\tremaining: 16.5ms\n",
      "52:\tlearn: 23.6117141\ttotal: 18.3ms\tremaining: 16.2ms\n",
      "53:\tlearn: 23.5011107\ttotal: 18.6ms\tremaining: 15.8ms\n",
      "54:\tlearn: 23.4477059\ttotal: 19ms\tremaining: 15.5ms\n",
      "55:\tlearn: 23.4221541\ttotal: 19.8ms\tremaining: 15.6ms\n",
      "56:\tlearn: 23.3596577\ttotal: 20.4ms\tremaining: 15.4ms\n",
      "57:\tlearn: 23.3358707\ttotal: 20.9ms\tremaining: 15.1ms\n",
      "58:\tlearn: 23.2751738\ttotal: 21.3ms\tremaining: 14.8ms\n",
      "59:\tlearn: 23.2138603\ttotal: 21.6ms\tremaining: 14.4ms\n",
      "60:\tlearn: 23.1923274\ttotal: 21.9ms\tremaining: 14ms\n",
      "61:\tlearn: 23.1726391\ttotal: 22.2ms\tremaining: 13.6ms\n",
      "62:\tlearn: 23.1127271\ttotal: 22.6ms\tremaining: 13.2ms\n",
      "63:\tlearn: 23.0150409\ttotal: 22.9ms\tremaining: 12.9ms\n",
      "64:\tlearn: 22.9401244\ttotal: 23.3ms\tremaining: 12.5ms\n",
      "65:\tlearn: 22.9223722\ttotal: 23.6ms\tremaining: 12.2ms\n",
      "66:\tlearn: 22.9011900\ttotal: 23.9ms\tremaining: 11.8ms\n",
      "67:\tlearn: 22.8605055\ttotal: 24.3ms\tremaining: 11.4ms\n",
      "68:\tlearn: 22.7710989\ttotal: 24.6ms\tremaining: 11ms\n",
      "69:\tlearn: 22.7202327\ttotal: 24.9ms\tremaining: 10.7ms\n",
      "70:\tlearn: 22.6711582\ttotal: 25.2ms\tremaining: 10.3ms\n",
      "71:\tlearn: 22.6454001\ttotal: 25.7ms\tremaining: 9.98ms\n",
      "72:\tlearn: 22.6289966\ttotal: 26ms\tremaining: 9.61ms\n",
      "73:\tlearn: 22.5974492\ttotal: 26.3ms\tremaining: 9.24ms\n",
      "74:\tlearn: 22.5302095\ttotal: 26.7ms\tremaining: 8.89ms\n",
      "75:\tlearn: 22.5130054\ttotal: 27ms\tremaining: 8.53ms\n",
      "76:\tlearn: 22.3937294\ttotal: 27.3ms\tremaining: 8.16ms\n",
      "77:\tlearn: 22.3029174\ttotal: 27.6ms\tremaining: 7.79ms\n",
      "78:\tlearn: 22.2702559\ttotal: 28ms\tremaining: 7.43ms\n",
      "79:\tlearn: 22.2478370\ttotal: 28.3ms\tremaining: 7.08ms\n",
      "80:\tlearn: 22.2288917\ttotal: 28.7ms\tremaining: 6.73ms\n",
      "81:\tlearn: 22.2015373\ttotal: 29ms\tremaining: 6.37ms\n",
      "82:\tlearn: 22.1034844\ttotal: 29.4ms\tremaining: 6.02ms\n",
      "83:\tlearn: 22.0189194\ttotal: 29.7ms\tremaining: 5.66ms\n",
      "84:\tlearn: 21.9623321\ttotal: 30.2ms\tremaining: 5.33ms\n",
      "85:\tlearn: 21.8815442\ttotal: 30.6ms\tremaining: 4.97ms\n",
      "86:\tlearn: 21.8486315\ttotal: 30.9ms\tremaining: 4.61ms\n",
      "87:\tlearn: 21.8032773\ttotal: 31.3ms\tremaining: 4.26ms\n",
      "88:\tlearn: 21.7301958\ttotal: 31.6ms\tremaining: 3.9ms\n",
      "89:\tlearn: 21.6087214\ttotal: 31.9ms\tremaining: 3.54ms\n",
      "90:\tlearn: 21.5666903\ttotal: 32.2ms\tremaining: 3.18ms\n",
      "91:\tlearn: 21.5172511\ttotal: 32.5ms\tremaining: 2.83ms\n",
      "92:\tlearn: 21.4709966\ttotal: 32.9ms\tremaining: 2.47ms\n",
      "93:\tlearn: 21.4528520\ttotal: 33.2ms\tremaining: 2.12ms\n",
      "94:\tlearn: 21.4371500\ttotal: 33.5ms\tremaining: 1.76ms\n",
      "95:\tlearn: 21.3958281\ttotal: 33.9ms\tremaining: 1.41ms\n",
      "96:\tlearn: 21.3805724\ttotal: 34.2ms\tremaining: 1.06ms\n",
      "97:\tlearn: 21.3594581\ttotal: 34.5ms\tremaining: 704us\n",
      "98:\tlearn: 21.2975102\ttotal: 34.9ms\tremaining: 352us\n",
      "99:\tlearn: 21.2439773\ttotal: 35.3ms\tremaining: 0us\n"
     ]
    },
    {
     "name": "stderr",
     "output_type": "stream",
     "text": [
      "/opt/conda/lib/python3.9/site-packages/sklearn/model_selection/_validation.py:683: UserWarning: Scoring failed. The score on this train-test partition for these parameters will be set to nan. Details: \n",
      "Traceback (most recent call last):\n",
      "  File \"/opt/conda/lib/python3.9/site-packages/sklearn/model_selection/_validation.py\", line 674, in _score\n",
      "    scores = scorer(estimator, X_test, y_test)\n",
      "  File \"/opt/conda/lib/python3.9/site-packages/sklearn/metrics/_scorer.py\", line 87, in __call__\n",
      "    score = scorer._score(cached_call, estimator,\n",
      "  File \"/opt/conda/lib/python3.9/site-packages/sklearn/metrics/_scorer.py\", line 242, in _score\n",
      "    return self._sign * self._score_func(y_true, y_pred,\n",
      "  File \"/opt/conda/lib/python3.9/site-packages/sklearn/utils/validation.py\", line 63, in inner_f\n",
      "    return f(*args, **kwargs)\n",
      "  File \"/opt/conda/lib/python3.9/site-packages/sklearn/metrics/_regression.py\", line 335, in mean_squared_error\n",
      "    y_type, y_true, y_pred, multioutput = _check_reg_targets(\n",
      "  File \"/opt/conda/lib/python3.9/site-packages/sklearn/metrics/_regression.py\", line 88, in _check_reg_targets\n",
      "    check_consistent_length(y_true, y_pred)\n",
      "  File \"/opt/conda/lib/python3.9/site-packages/sklearn/utils/validation.py\", line 259, in check_consistent_length\n",
      "    lengths = [_num_samples(X) for X in arrays if X is not None]\n",
      "  File \"/opt/conda/lib/python3.9/site-packages/sklearn/utils/validation.py\", line 259, in <listcomp>\n",
      "    lengths = [_num_samples(X) for X in arrays if X is not None]\n",
      "  File \"/opt/conda/lib/python3.9/site-packages/sklearn/utils/validation.py\", line 202, in _num_samples\n",
      "    raise TypeError(\"Singleton array %r cannot be considered\"\n",
      "TypeError: Singleton array 74.41814718533384 cannot be considered a valid collection.\n",
      "\n",
      "  warnings.warn(\n"
     ]
    },
    {
     "name": "stdout",
     "output_type": "stream",
     "text": [
      "Learning rate set to 0.227389\n",
      "0:\tlearn: 37.6270200\ttotal: 474us\tremaining: 47ms\n",
      "1:\tlearn: 34.1694237\ttotal: 861us\tremaining: 42.2ms\n",
      "2:\tlearn: 31.7297173\ttotal: 1.37ms\tremaining: 44.4ms\n",
      "3:\tlearn: 29.9844894\ttotal: 1.74ms\tremaining: 41.7ms\n",
      "4:\tlearn: 28.9336095\ttotal: 2.13ms\tremaining: 40.6ms\n",
      "5:\tlearn: 28.0931691\ttotal: 2.46ms\tremaining: 38.6ms\n",
      "6:\tlearn: 27.6036401\ttotal: 2.86ms\tremaining: 38ms\n",
      "7:\tlearn: 27.3494890\ttotal: 3.31ms\tremaining: 38.1ms\n",
      "8:\tlearn: 27.0201554\ttotal: 3.71ms\tremaining: 37.5ms\n",
      "9:\tlearn: 26.8232389\ttotal: 4.14ms\tremaining: 37.3ms\n",
      "10:\tlearn: 26.6861527\ttotal: 4.55ms\tremaining: 36.8ms\n",
      "11:\tlearn: 26.6122108\ttotal: 4.93ms\tremaining: 36.2ms\n",
      "12:\tlearn: 26.5279372\ttotal: 5.28ms\tremaining: 35.3ms\n",
      "13:\tlearn: 26.4750879\ttotal: 5.71ms\tremaining: 35.1ms\n",
      "14:\tlearn: 26.4202087\ttotal: 6.04ms\tremaining: 34.2ms\n",
      "15:\tlearn: 26.3724382\ttotal: 6.41ms\tremaining: 33.7ms\n",
      "16:\tlearn: 26.3250859\ttotal: 6.61ms\tremaining: 32.3ms\n",
      "17:\tlearn: 26.2513139\ttotal: 6.98ms\tremaining: 31.8ms\n",
      "18:\tlearn: 26.1716624\ttotal: 7.33ms\tremaining: 31.2ms\n",
      "19:\tlearn: 26.1108752\ttotal: 7.65ms\tremaining: 30.6ms\n",
      "20:\tlearn: 26.0621407\ttotal: 8.03ms\tremaining: 30.2ms\n",
      "21:\tlearn: 25.9969503\ttotal: 8.38ms\tremaining: 29.7ms\n",
      "22:\tlearn: 25.8955332\ttotal: 8.71ms\tremaining: 29.2ms\n",
      "23:\tlearn: 25.8185120\ttotal: 9.08ms\tremaining: 28.8ms\n",
      "24:\tlearn: 25.7955541\ttotal: 9.42ms\tremaining: 28.3ms\n",
      "25:\tlearn: 25.7546009\ttotal: 9.81ms\tremaining: 27.9ms\n",
      "26:\tlearn: 25.7122949\ttotal: 10.2ms\tremaining: 27.5ms\n",
      "27:\tlearn: 25.6327835\ttotal: 10.6ms\tremaining: 27.2ms\n",
      "28:\tlearn: 25.5209636\ttotal: 10.9ms\tremaining: 26.7ms\n",
      "29:\tlearn: 25.4223592\ttotal: 11.2ms\tremaining: 26.2ms\n",
      "30:\tlearn: 25.3389563\ttotal: 11.6ms\tremaining: 25.8ms\n",
      "31:\tlearn: 25.2550645\ttotal: 12ms\tremaining: 25.4ms\n",
      "32:\tlearn: 25.1868514\ttotal: 12.3ms\tremaining: 25ms\n",
      "33:\tlearn: 25.1360998\ttotal: 12.7ms\tremaining: 24.6ms\n",
      "34:\tlearn: 25.0832321\ttotal: 13.1ms\tremaining: 24.2ms\n",
      "35:\tlearn: 25.0328755\ttotal: 13.4ms\tremaining: 23.9ms\n",
      "36:\tlearn: 24.9674948\ttotal: 13.8ms\tremaining: 23.4ms\n",
      "37:\tlearn: 24.9202881\ttotal: 14.1ms\tremaining: 23ms\n",
      "38:\tlearn: 24.9037064\ttotal: 14.4ms\tremaining: 22.6ms\n",
      "39:\tlearn: 24.8503606\ttotal: 14.8ms\tremaining: 22.2ms\n",
      "40:\tlearn: 24.8289600\ttotal: 15.2ms\tremaining: 21.8ms\n",
      "41:\tlearn: 24.7987572\ttotal: 15.6ms\tremaining: 21.5ms\n",
      "42:\tlearn: 24.7329985\ttotal: 15.9ms\tremaining: 21.1ms\n",
      "43:\tlearn: 24.6317934\ttotal: 16.3ms\tremaining: 20.8ms\n",
      "44:\tlearn: 24.5235322\ttotal: 16.6ms\tremaining: 20.3ms\n",
      "45:\tlearn: 24.4187500\ttotal: 16.9ms\tremaining: 19.9ms\n",
      "46:\tlearn: 24.3466968\ttotal: 17.3ms\tremaining: 19.5ms\n",
      "47:\tlearn: 24.3253501\ttotal: 17.7ms\tremaining: 19.2ms\n",
      "48:\tlearn: 24.2476544\ttotal: 18.1ms\tremaining: 18.9ms\n",
      "49:\tlearn: 24.1999339\ttotal: 18.5ms\tremaining: 18.5ms\n",
      "50:\tlearn: 24.1741359\ttotal: 18.9ms\tremaining: 18.2ms\n",
      "51:\tlearn: 24.0677388\ttotal: 19.3ms\tremaining: 17.8ms\n",
      "52:\tlearn: 24.0031727\ttotal: 19.6ms\tremaining: 17.4ms\n",
      "53:\tlearn: 23.9197313\ttotal: 20.1ms\tremaining: 17.1ms\n",
      "54:\tlearn: 23.9010935\ttotal: 20.4ms\tremaining: 16.7ms\n",
      "55:\tlearn: 23.8516679\ttotal: 20.8ms\tremaining: 16.4ms\n",
      "56:\tlearn: 23.8167398\ttotal: 21.2ms\tremaining: 16ms\n",
      "57:\tlearn: 23.7767526\ttotal: 21.6ms\tremaining: 15.6ms\n",
      "58:\tlearn: 23.7596190\ttotal: 22.3ms\tremaining: 15.5ms\n",
      "59:\tlearn: 23.7339392\ttotal: 22.8ms\tremaining: 15.2ms\n",
      "60:\tlearn: 23.6695861\ttotal: 23.3ms\tremaining: 14.9ms\n",
      "61:\tlearn: 23.6257118\ttotal: 23.7ms\tremaining: 14.5ms\n",
      "62:\tlearn: 23.5359435\ttotal: 24.1ms\tremaining: 14.2ms\n",
      "63:\tlearn: 23.4796339\ttotal: 24.5ms\tremaining: 13.8ms\n",
      "64:\tlearn: 23.4145002\ttotal: 24.9ms\tremaining: 13.4ms\n",
      "65:\tlearn: 23.3933750\ttotal: 25.3ms\tremaining: 13ms\n",
      "66:\tlearn: 23.3513622\ttotal: 25.6ms\tremaining: 12.6ms\n",
      "67:\tlearn: 23.2381220\ttotal: 26ms\tremaining: 12.2ms\n",
      "68:\tlearn: 23.2080935\ttotal: 26.4ms\tremaining: 11.9ms\n",
      "69:\tlearn: 23.1957982\ttotal: 26.8ms\tremaining: 11.5ms\n",
      "70:\tlearn: 23.1708770\ttotal: 27.2ms\tremaining: 11.1ms\n",
      "71:\tlearn: 23.1051729\ttotal: 27.6ms\tremaining: 10.7ms\n",
      "72:\tlearn: 23.0820423\ttotal: 27.9ms\tremaining: 10.3ms\n",
      "73:\tlearn: 23.0093609\ttotal: 28.2ms\tremaining: 9.91ms\n",
      "74:\tlearn: 22.9367788\ttotal: 28.5ms\tremaining: 9.51ms\n",
      "75:\tlearn: 22.9093668\ttotal: 28.9ms\tremaining: 9.12ms\n",
      "76:\tlearn: 22.8713492\ttotal: 29.2ms\tremaining: 8.72ms\n",
      "77:\tlearn: 22.8493937\ttotal: 29.6ms\tremaining: 8.34ms\n",
      "78:\tlearn: 22.8221095\ttotal: 29.9ms\tremaining: 7.96ms\n",
      "79:\tlearn: 22.7882777\ttotal: 30.3ms\tremaining: 7.57ms\n",
      "80:\tlearn: 22.7742309\ttotal: 30.7ms\tremaining: 7.19ms\n",
      "81:\tlearn: 22.7176524\ttotal: 31.1ms\tremaining: 6.82ms\n",
      "82:\tlearn: 22.6460250\ttotal: 31.4ms\tremaining: 6.44ms\n",
      "83:\tlearn: 22.6341373\ttotal: 31.8ms\tremaining: 6.05ms\n",
      "84:\tlearn: 22.6100005\ttotal: 32.1ms\tremaining: 5.67ms\n",
      "85:\tlearn: 22.5543941\ttotal: 32.5ms\tremaining: 5.29ms\n",
      "86:\tlearn: 22.5388998\ttotal: 32.8ms\tremaining: 4.91ms\n",
      "87:\tlearn: 22.4914441\ttotal: 33.2ms\tremaining: 4.53ms\n",
      "88:\tlearn: 22.4155515\ttotal: 33.5ms\tremaining: 4.14ms\n",
      "89:\tlearn: 22.3959307\ttotal: 33.9ms\tremaining: 3.76ms\n",
      "90:\tlearn: 22.3722742\ttotal: 34.2ms\tremaining: 3.38ms\n",
      "91:\tlearn: 22.3611725\ttotal: 34.5ms\tremaining: 3ms\n",
      "92:\tlearn: 22.3508177\ttotal: 34.9ms\tremaining: 2.63ms\n",
      "93:\tlearn: 22.3033823\ttotal: 35.2ms\tremaining: 2.25ms\n",
      "94:\tlearn: 22.2504022\ttotal: 35.5ms\tremaining: 1.87ms\n",
      "95:\tlearn: 22.2004214\ttotal: 35.9ms\tremaining: 1.49ms\n",
      "96:\tlearn: 22.1787986\ttotal: 36.2ms\tremaining: 1.12ms\n",
      "97:\tlearn: 22.1705780\ttotal: 36.6ms\tremaining: 746us\n",
      "98:\tlearn: 22.1343479\ttotal: 36.9ms\tremaining: 372us\n",
      "99:\tlearn: 22.0868068\ttotal: 37.3ms\tremaining: 0us\n"
     ]
    },
    {
     "name": "stderr",
     "output_type": "stream",
     "text": [
      "/opt/conda/lib/python3.9/site-packages/sklearn/model_selection/_validation.py:683: UserWarning: Scoring failed. The score on this train-test partition for these parameters will be set to nan. Details: \n",
      "Traceback (most recent call last):\n",
      "  File \"/opt/conda/lib/python3.9/site-packages/sklearn/model_selection/_validation.py\", line 674, in _score\n",
      "    scores = scorer(estimator, X_test, y_test)\n",
      "  File \"/opt/conda/lib/python3.9/site-packages/sklearn/metrics/_scorer.py\", line 87, in __call__\n",
      "    score = scorer._score(cached_call, estimator,\n",
      "  File \"/opt/conda/lib/python3.9/site-packages/sklearn/metrics/_scorer.py\", line 242, in _score\n",
      "    return self._sign * self._score_func(y_true, y_pred,\n",
      "  File \"/opt/conda/lib/python3.9/site-packages/sklearn/utils/validation.py\", line 63, in inner_f\n",
      "    return f(*args, **kwargs)\n",
      "  File \"/opt/conda/lib/python3.9/site-packages/sklearn/metrics/_regression.py\", line 335, in mean_squared_error\n",
      "    y_type, y_true, y_pred, multioutput = _check_reg_targets(\n",
      "  File \"/opt/conda/lib/python3.9/site-packages/sklearn/metrics/_regression.py\", line 88, in _check_reg_targets\n",
      "    check_consistent_length(y_true, y_pred)\n",
      "  File \"/opt/conda/lib/python3.9/site-packages/sklearn/utils/validation.py\", line 259, in check_consistent_length\n",
      "    lengths = [_num_samples(X) for X in arrays if X is not None]\n",
      "  File \"/opt/conda/lib/python3.9/site-packages/sklearn/utils/validation.py\", line 259, in <listcomp>\n",
      "    lengths = [_num_samples(X) for X in arrays if X is not None]\n",
      "  File \"/opt/conda/lib/python3.9/site-packages/sklearn/utils/validation.py\", line 202, in _num_samples\n",
      "    raise TypeError(\"Singleton array %r cannot be considered\"\n",
      "TypeError: Singleton array 105.3949846135919 cannot be considered a valid collection.\n",
      "\n",
      "  warnings.warn(\n"
     ]
    },
    {
     "data": {
      "text/plain": [
       "array([nan, nan, nan, nan, nan])"
      ]
     },
     "execution_count": 23,
     "metadata": {},
     "output_type": "execute_result"
    }
   ],
   "source": [
    "cross_val_score(catboost_model, catboost_predictions, target_valid, cv=tss, scoring = 'neg_root_mean_squared_error')"
   ]
  },
  {
   "cell_type": "markdown",
   "metadata": {},
   "source": [
    "## Тестирование"
   ]
  },
  {
   "cell_type": "markdown",
   "metadata": {},
   "source": [
    "Попробуем модель рандомного леса на тестовой выборке."
   ]
  },
  {
   "cell_type": "code",
   "execution_count": 24,
   "metadata": {},
   "outputs": [
    {
     "name": "stdout",
     "output_type": "stream",
     "text": [
      "RMSE тестовой выборки:  46.96464763549852\n"
     ]
    }
   ],
   "source": [
    "prediction_test_linear = model.predict(features_test)\n",
    "print(\"RMSE тестовой выборки: \", mean_squared_error(prediction_test_linear, target_test)**0.5)"
   ]
  },
  {
   "cell_type": "code",
   "execution_count": 25,
   "metadata": {},
   "outputs": [
    {
     "name": "stdout",
     "output_type": "stream",
     "text": [
      "RMSE тестовой выборки:  55.73579595813513\n"
     ]
    }
   ],
   "source": [
    "prediction_test_cat = catboost_model.predict(features_test)\n",
    "print(\"RMSE тестовой выборки: \", mean_squared_error(prediction_test_cat, target_test)**0.5)"
   ]
  },
  {
   "cell_type": "code",
   "execution_count": 26,
   "metadata": {},
   "outputs": [
    {
     "name": "stdout",
     "output_type": "stream",
     "text": [
      "RMSE тестовой выборки:  50.08538430156338\n"
     ]
    }
   ],
   "source": [
    "prediction_test_rfr = model_rfr.predict(features_test)\n",
    "print(\"RMSE тестовой выборки: \", mean_squared_error(prediction_test_rfr, target_test)**0.5)"
   ]
  },
  {
   "cell_type": "code",
   "execution_count": 27,
   "metadata": {},
   "outputs": [
    {
     "data": {
      "image/png": "[encoded data removed]",
      "text/plain": [
       "<Figure size 1296x288 with 1 Axes>"
      ]
     },
     "metadata": {
      "needs_background": "light"
     },
     "output_type": "display_data"
    }
   ],
   "source": [
    "# исходный ряд\n",
    "target_test.plot(figsize=(18,4));"
   ]
  },
  {
   "cell_type": "code",
   "execution_count": 28,
   "metadata": {
    "scrolled": true
   },
   "outputs": [
    {
     "data": {
      "image/png": "[encoded data removed]",
      "text/plain": [
       "<Figure size 1296x288 with 1 Axes>"
      ]
     },
     "metadata": {
      "needs_background": "light"
     },
     "output_type": "display_data"
    }
   ],
   "source": [
    "# прогнозируемый ряд\n",
    "prediction_test_linear = pd.DataFrame(prediction_test_linear)\n",
    "prediction_test_linear.plot(figsize=(18,4));"
   ]
  },
  {
   "cell_type": "code",
   "execution_count": 29,
   "metadata": {},
   "outputs": [],
   "source": [
    "prediction_test_linear = prediction_test_linear.reset_index()\n",
    "target_test = target_test.reset_index()"
   ]
  },
  {
   "cell_type": "code",
   "execution_count": 30,
   "metadata": {},
   "outputs": [
    {
     "data": {
      "image/png": "[encoded data removed]",
      "text/plain": [
       "<Figure size 1296x288 with 1 Axes>"
      ]
     },
     "metadata": {
      "needs_background": "light"
     },
     "output_type": "display_data"
    }
   ],
   "source": [
    "# не получалось сначала, потом после ресета индекса сработало. Убрал сглаживание.\n",
    "prediction_test_linear[0].plot(figsize=(18,4));\n",
    "target_test['num_orders'].plot(figsize=(18,4));"
   ]
  }
 ],
 "metadata": {
  "ExecuteTimeLog": [
   {
    "duration": 1088,
    "start_time": "2022-07-25T20:42:55.178Z"
   },
   {
    "duration": 121,
    "start_time": "2022-07-25T20:43:11.703Z"
   },
   {
    "duration": 18,
    "start_time": "2022-07-25T20:43:18.581Z"
   },
   {
    "duration": 11,
    "start_time": "2022-07-25T20:43:22.992Z"
   },
   {
    "duration": 41,
    "start_time": "2022-07-25T20:44:13.634Z"
   },
   {
    "duration": 6,
    "start_time": "2022-07-25T20:44:14.146Z"
   },
   {
    "duration": 11,
    "start_time": "2022-07-25T20:44:14.848Z"
   },
   {
    "duration": 43,
    "start_time": "2022-07-25T20:44:30.074Z"
   },
   {
    "duration": 7,
    "start_time": "2022-07-25T20:44:30.397Z"
   },
   {
    "duration": 10,
    "start_time": "2022-07-25T20:44:30.704Z"
   },
   {
    "duration": 52,
    "start_time": "2022-07-25T20:44:55.840Z"
   },
   {
    "duration": 4,
    "start_time": "2022-07-25T20:45:07.057Z"
   },
   {
    "duration": 9,
    "start_time": "2022-07-25T20:45:07.362Z"
   },
   {
    "duration": 4,
    "start_time": "2022-07-25T20:45:10.055Z"
   },
   {
    "duration": 12,
    "start_time": "2022-07-25T20:46:27.607Z"
   },
   {
    "duration": 10,
    "start_time": "2022-07-25T20:46:28.458Z"
   },
   {
    "duration": 7,
    "start_time": "2022-07-25T20:46:29.955Z"
   },
   {
    "duration": 6,
    "start_time": "2022-07-25T20:46:47.163Z"
   },
   {
    "duration": 8,
    "start_time": "2022-07-25T20:47:01.557Z"
   },
   {
    "duration": 6,
    "start_time": "2022-07-25T20:47:06.544Z"
   },
   {
    "duration": 621,
    "start_time": "2022-07-25T20:47:32.718Z"
   },
   {
    "duration": 199,
    "start_time": "2022-07-25T20:48:06.246Z"
   },
   {
    "duration": 202,
    "start_time": "2022-07-25T20:48:09.561Z"
   },
   {
    "duration": 251,
    "start_time": "2022-07-25T20:48:13.143Z"
   },
   {
    "duration": 190,
    "start_time": "2022-07-25T20:48:16.962Z"
   },
   {
    "duration": 201,
    "start_time": "2022-07-25T20:48:21.658Z"
   },
   {
    "duration": 171,
    "start_time": "2022-07-25T20:48:26.390Z"
   },
   {
    "duration": 217,
    "start_time": "2022-07-25T20:48:29.101Z"
   },
   {
    "duration": 7,
    "start_time": "2022-07-25T20:48:49.378Z"
   },
   {
    "duration": 91,
    "start_time": "2022-07-25T20:50:59.689Z"
   },
   {
    "duration": 8,
    "start_time": "2022-07-25T20:50:59.957Z"
   },
   {
    "duration": 58,
    "start_time": "2022-07-25T20:51:05.110Z"
   },
   {
    "duration": 275,
    "start_time": "2022-07-25T20:51:06.936Z"
   },
   {
    "duration": 198,
    "start_time": "2022-07-25T20:51:07.337Z"
   },
   {
    "duration": 202,
    "start_time": "2022-07-25T20:51:29.609Z"
   },
   {
    "duration": 197,
    "start_time": "2022-07-25T20:51:29.894Z"
   },
   {
    "duration": 20,
    "start_time": "2022-07-25T20:51:44.560Z"
   },
   {
    "duration": 10,
    "start_time": "2022-07-25T20:51:48.803Z"
   },
   {
    "duration": 7,
    "start_time": "2022-07-25T20:51:51.673Z"
   },
   {
    "duration": 172,
    "start_time": "2022-07-25T20:51:54.275Z"
   },
   {
    "duration": 325,
    "start_time": "2022-07-25T20:54:20.227Z"
   },
   {
    "duration": 5,
    "start_time": "2022-07-25T20:54:50.358Z"
   },
   {
    "duration": 273,
    "start_time": "2022-07-25T20:55:01.785Z"
   },
   {
    "duration": 1016,
    "start_time": "2022-07-25T20:55:24.809Z"
   },
   {
    "duration": 44,
    "start_time": "2022-07-25T20:55:25.827Z"
   },
   {
    "duration": 13,
    "start_time": "2022-07-25T20:55:25.872Z"
   },
   {
    "duration": 4,
    "start_time": "2022-07-25T20:55:25.887Z"
   },
   {
    "duration": 11,
    "start_time": "2022-07-25T20:55:25.892Z"
   },
   {
    "duration": 6,
    "start_time": "2022-07-25T20:55:25.904Z"
   },
   {
    "duration": 12,
    "start_time": "2022-07-25T20:55:25.912Z"
   },
   {
    "duration": 477,
    "start_time": "2022-07-25T20:55:25.925Z"
   },
   {
    "duration": 180,
    "start_time": "2022-07-25T20:55:26.403Z"
   },
   {
    "duration": 199,
    "start_time": "2022-07-25T20:55:26.586Z"
   },
   {
    "duration": 970,
    "start_time": "2022-07-26T08:39:41.989Z"
   },
   {
    "duration": 147,
    "start_time": "2022-07-26T08:39:42.960Z"
   },
   {
    "duration": 11,
    "start_time": "2022-07-26T08:39:43.108Z"
   },
   {
    "duration": 3,
    "start_time": "2022-07-26T08:39:43.121Z"
   },
   {
    "duration": 17,
    "start_time": "2022-07-26T08:39:43.125Z"
   },
   {
    "duration": 8,
    "start_time": "2022-07-26T08:39:43.147Z"
   },
   {
    "duration": 11,
    "start_time": "2022-07-26T08:39:43.157Z"
   },
   {
    "duration": 611,
    "start_time": "2022-07-26T08:39:43.169Z"
   },
   {
    "duration": 198,
    "start_time": "2022-07-26T08:39:43.782Z"
   },
   {
    "duration": 271,
    "start_time": "2022-07-26T08:39:43.982Z"
   },
   {
    "duration": 978,
    "start_time": "2022-07-31T17:49:38.736Z"
   },
   {
    "duration": 133,
    "start_time": "2022-07-31T17:49:39.716Z"
   },
   {
    "duration": 11,
    "start_time": "2022-07-31T17:49:40.568Z"
   },
   {
    "duration": 3,
    "start_time": "2022-07-31T17:49:41.720Z"
   },
   {
    "duration": 8,
    "start_time": "2022-07-31T17:49:42.776Z"
   },
   {
    "duration": 6,
    "start_time": "2022-07-31T17:49:43.880Z"
   },
   {
    "duration": 9,
    "start_time": "2022-07-31T17:49:45.088Z"
   },
   {
    "duration": 1177,
    "start_time": "2022-07-31T17:50:05.703Z"
   },
   {
    "duration": 8,
    "start_time": "2022-07-31T17:50:13.768Z"
   },
   {
    "duration": 8,
    "start_time": "2022-07-31T17:59:35.624Z"
   },
   {
    "duration": 565,
    "start_time": "2022-07-31T17:59:37.986Z"
   },
   {
    "duration": 174,
    "start_time": "2022-07-31T17:59:39.116Z"
   },
   {
    "duration": 269,
    "start_time": "2022-07-31T17:59:39.757Z"
   },
   {
    "duration": 192,
    "start_time": "2022-07-31T17:59:40.921Z"
   },
   {
    "duration": 152,
    "start_time": "2022-07-31T18:00:11.290Z"
   },
   {
    "duration": 178,
    "start_time": "2022-07-31T18:02:14.699Z"
   },
   {
    "duration": 188,
    "start_time": "2022-07-31T18:02:17.807Z"
   },
   {
    "duration": 124,
    "start_time": "2022-07-31T18:02:30.163Z"
   },
   {
    "duration": 118,
    "start_time": "2022-07-31T18:02:36.562Z"
   },
   {
    "duration": 134,
    "start_time": "2022-07-31T18:02:40.716Z"
   },
   {
    "duration": 117,
    "start_time": "2022-07-31T18:02:42.677Z"
   },
   {
    "duration": 125,
    "start_time": "2022-07-31T18:02:50.650Z"
   },
   {
    "duration": 218,
    "start_time": "2022-07-31T18:02:57.593Z"
   },
   {
    "duration": 125,
    "start_time": "2022-07-31T18:03:15.647Z"
   },
   {
    "duration": 131,
    "start_time": "2022-07-31T18:03:26.328Z"
   },
   {
    "duration": 148,
    "start_time": "2022-07-31T18:03:40.421Z"
   },
   {
    "duration": 193,
    "start_time": "2022-07-31T18:03:47.457Z"
   },
   {
    "duration": 191,
    "start_time": "2022-07-31T18:03:50.791Z"
   },
   {
    "duration": 200,
    "start_time": "2022-07-31T18:03:58.341Z"
   },
   {
    "duration": 281,
    "start_time": "2022-07-31T18:04:02.169Z"
   },
   {
    "duration": 212,
    "start_time": "2022-07-31T18:04:21.446Z"
   },
   {
    "duration": 137,
    "start_time": "2022-07-31T18:04:28.349Z"
   },
   {
    "duration": 126,
    "start_time": "2022-07-31T18:04:33.593Z"
   },
   {
    "duration": 157,
    "start_time": "2022-07-31T18:04:36.335Z"
   },
   {
    "duration": 127,
    "start_time": "2022-07-31T18:04:54.050Z"
   },
   {
    "duration": 128,
    "start_time": "2022-07-31T18:12:49.362Z"
   },
   {
    "duration": 4,
    "start_time": "2022-07-31T18:28:53.651Z"
   },
   {
    "duration": 4,
    "start_time": "2022-07-31T18:40:12.361Z"
   },
   {
    "duration": 5042,
    "start_time": "2022-07-31T18:40:13.321Z"
   },
   {
    "duration": 4,
    "start_time": "2022-07-31T18:40:40.801Z"
   },
   {
    "duration": 11,
    "start_time": "2022-07-31T18:40:41.366Z"
   },
   {
    "duration": 15,
    "start_time": "2022-07-31T18:42:15.282Z"
   },
   {
    "duration": 10,
    "start_time": "2022-07-31T18:42:35.203Z"
   },
   {
    "duration": 47,
    "start_time": "2022-07-31T18:42:35.802Z"
   },
   {
    "duration": 89,
    "start_time": "2022-07-31T18:43:39.250Z"
   },
   {
    "duration": 3,
    "start_time": "2022-07-31T18:43:44.278Z"
   },
   {
    "duration": 15,
    "start_time": "2022-07-31T18:43:47.069Z"
   },
   {
    "duration": 9,
    "start_time": "2022-07-31T18:44:00.447Z"
   },
   {
    "duration": 1231,
    "start_time": "2022-07-31T21:27:00.553Z"
   },
   {
    "duration": 162,
    "start_time": "2022-07-31T21:27:01.787Z"
   },
   {
    "duration": 13,
    "start_time": "2022-07-31T21:27:01.951Z"
   },
   {
    "duration": 19,
    "start_time": "2022-07-31T21:27:01.966Z"
   },
   {
    "duration": 23,
    "start_time": "2022-07-31T21:27:01.989Z"
   },
   {
    "duration": 53,
    "start_time": "2022-07-31T21:27:02.014Z"
   },
   {
    "duration": 18,
    "start_time": "2022-07-31T21:27:02.069Z"
   },
   {
    "duration": 771,
    "start_time": "2022-07-31T21:27:02.089Z"
   },
   {
    "duration": 268,
    "start_time": "2022-07-31T21:27:02.863Z"
   },
   {
    "duration": 164,
    "start_time": "2022-07-31T21:27:03.143Z"
   },
   {
    "duration": 3,
    "start_time": "2022-07-31T21:27:03.309Z"
   },
   {
    "duration": 33,
    "start_time": "2022-07-31T21:27:03.314Z"
   },
   {
    "duration": 104,
    "start_time": "2022-07-31T21:27:03.350Z"
   },
   {
    "duration": 10,
    "start_time": "2022-07-31T21:27:03.464Z"
   },
   {
    "duration": 173,
    "start_time": "2022-07-31T21:27:03.476Z"
   },
   {
    "duration": 10,
    "start_time": "2022-07-31T21:28:22.568Z"
   },
   {
    "duration": 7,
    "start_time": "2022-07-31T21:28:22.988Z"
   },
   {
    "duration": 52,
    "start_time": "2022-07-31T21:28:23.380Z"
   },
   {
    "duration": 11,
    "start_time": "2022-07-31T21:28:39.059Z"
   },
   {
    "duration": 12,
    "start_time": "2022-07-31T21:30:52.560Z"
   },
   {
    "duration": 8,
    "start_time": "2022-07-31T21:30:53.647Z"
   },
   {
    "duration": 348,
    "start_time": "2022-07-31T21:30:54.217Z"
   },
   {
    "duration": 12,
    "start_time": "2022-07-31T21:31:07.769Z"
   },
   {
    "duration": 8,
    "start_time": "2022-07-31T21:31:09.490Z"
   },
   {
    "duration": 8,
    "start_time": "2022-07-31T21:31:36.172Z"
   },
   {
    "duration": 7,
    "start_time": "2022-07-31T21:31:45.264Z"
   },
   {
    "duration": 14,
    "start_time": "2022-07-31T21:31:46.848Z"
   },
   {
    "duration": 8,
    "start_time": "2022-07-31T21:31:47.868Z"
   },
   {
    "duration": 11,
    "start_time": "2022-07-31T21:31:56.789Z"
   },
   {
    "duration": 12,
    "start_time": "2022-07-31T21:31:57.742Z"
   },
   {
    "duration": 11,
    "start_time": "2022-07-31T21:32:07.062Z"
   },
   {
    "duration": 10,
    "start_time": "2022-07-31T21:32:07.446Z"
   },
   {
    "duration": 11,
    "start_time": "2022-07-31T21:32:07.799Z"
   },
   {
    "duration": 9,
    "start_time": "2022-07-31T21:32:08.519Z"
   },
   {
    "duration": 4,
    "start_time": "2022-07-31T21:32:26.371Z"
   },
   {
    "duration": 4,
    "start_time": "2022-07-31T21:32:32.102Z"
   },
   {
    "duration": 10,
    "start_time": "2022-07-31T21:32:37.804Z"
   },
   {
    "duration": 21,
    "start_time": "2022-07-31T21:32:39.917Z"
   },
   {
    "duration": 10,
    "start_time": "2022-07-31T21:32:44.062Z"
   },
   {
    "duration": 7,
    "start_time": "2022-07-31T21:33:31.198Z"
   },
   {
    "duration": 15,
    "start_time": "2022-07-31T21:33:32.854Z"
   },
   {
    "duration": 8,
    "start_time": "2022-07-31T21:33:33.690Z"
   },
   {
    "duration": 1146,
    "start_time": "2022-07-31T21:33:39.805Z"
   },
   {
    "duration": 45,
    "start_time": "2022-07-31T21:33:40.953Z"
   },
   {
    "duration": 13,
    "start_time": "2022-07-31T21:33:41.000Z"
   },
   {
    "duration": 7,
    "start_time": "2022-07-31T21:33:41.015Z"
   },
   {
    "duration": 29,
    "start_time": "2022-07-31T21:33:41.025Z"
   },
   {
    "duration": 8,
    "start_time": "2022-07-31T21:33:41.056Z"
   },
   {
    "duration": 18,
    "start_time": "2022-07-31T21:33:41.068Z"
   },
   {
    "duration": 543,
    "start_time": "2022-07-31T21:33:41.088Z"
   },
   {
    "duration": 257,
    "start_time": "2022-07-31T21:33:41.634Z"
   },
   {
    "duration": 176,
    "start_time": "2022-07-31T21:33:41.894Z"
   },
   {
    "duration": 4,
    "start_time": "2022-07-31T21:33:42.072Z"
   },
   {
    "duration": 15,
    "start_time": "2022-07-31T21:33:42.077Z"
   },
   {
    "duration": 11,
    "start_time": "2022-07-31T21:33:42.094Z"
   },
   {
    "duration": 12,
    "start_time": "2022-07-31T21:33:42.125Z"
   },
   {
    "duration": 93,
    "start_time": "2022-07-31T21:33:42.139Z"
   },
   {
    "duration": 108,
    "start_time": "2022-07-31T21:33:42.234Z"
   },
   {
    "duration": 4,
    "start_time": "2022-07-31T21:34:02.463Z"
   },
   {
    "duration": 13,
    "start_time": "2022-07-31T21:34:18.372Z"
   },
   {
    "duration": 3,
    "start_time": "2022-07-31T21:34:18.771Z"
   },
   {
    "duration": 9,
    "start_time": "2022-07-31T21:34:21.980Z"
   },
   {
    "duration": 249,
    "start_time": "2022-07-31T21:34:22.394Z"
   },
   {
    "duration": 17,
    "start_time": "2022-07-31T21:34:25.341Z"
   },
   {
    "duration": 11,
    "start_time": "2022-07-31T21:34:33.578Z"
   },
   {
    "duration": 22,
    "start_time": "2022-07-31T21:34:34.733Z"
   },
   {
    "duration": 122,
    "start_time": "2022-07-31T21:34:35.324Z"
   },
   {
    "duration": 20,
    "start_time": "2022-07-31T21:35:09.140Z"
   },
   {
    "duration": 8,
    "start_time": "2022-07-31T21:35:09.601Z"
   },
   {
    "duration": 99,
    "start_time": "2022-07-31T21:35:10.044Z"
   },
   {
    "duration": 4,
    "start_time": "2022-07-31T21:35:33.554Z"
   },
   {
    "duration": 21,
    "start_time": "2022-07-31T21:35:41.422Z"
   },
   {
    "duration": 12,
    "start_time": "2022-07-31T21:35:45.345Z"
   },
   {
    "duration": 17,
    "start_time": "2022-07-31T21:35:49.668Z"
   },
   {
    "duration": 7,
    "start_time": "2022-07-31T21:35:53.703Z"
   },
   {
    "duration": 1118,
    "start_time": "2022-07-31T21:36:03.392Z"
   },
   {
    "duration": 73,
    "start_time": "2022-07-31T21:36:04.513Z"
   },
   {
    "duration": 16,
    "start_time": "2022-07-31T21:36:04.588Z"
   },
   {
    "duration": 48,
    "start_time": "2022-07-31T21:36:04.607Z"
   },
   {
    "duration": 17,
    "start_time": "2022-07-31T21:36:04.657Z"
   },
   {
    "duration": 16,
    "start_time": "2022-07-31T21:36:04.676Z"
   },
   {
    "duration": 14,
    "start_time": "2022-07-31T21:36:04.694Z"
   },
   {
    "duration": 587,
    "start_time": "2022-07-31T21:36:04.710Z"
   },
   {
    "duration": 282,
    "start_time": "2022-07-31T21:36:05.299Z"
   },
   {
    "duration": 179,
    "start_time": "2022-07-31T21:36:05.584Z"
   },
   {
    "duration": 4,
    "start_time": "2022-07-31T21:36:05.766Z"
   },
   {
    "duration": 17,
    "start_time": "2022-07-31T21:36:05.772Z"
   },
   {
    "duration": 20,
    "start_time": "2022-07-31T21:36:05.790Z"
   },
   {
    "duration": 35,
    "start_time": "2022-07-31T21:36:05.812Z"
   },
   {
    "duration": 305,
    "start_time": "2022-07-31T21:36:05.849Z"
   },
   {
    "duration": 0,
    "start_time": "2022-07-31T21:36:06.155Z"
   },
   {
    "duration": 20,
    "start_time": "2022-07-31T21:36:20.650Z"
   },
   {
    "duration": 1107,
    "start_time": "2022-08-02T07:22:12.028Z"
   },
   {
    "duration": 135,
    "start_time": "2022-08-02T07:22:13.137Z"
   },
   {
    "duration": 12,
    "start_time": "2022-08-02T07:22:13.273Z"
   },
   {
    "duration": 3,
    "start_time": "2022-08-02T07:22:13.287Z"
   },
   {
    "duration": 9,
    "start_time": "2022-08-02T07:22:13.292Z"
   },
   {
    "duration": 6,
    "start_time": "2022-08-02T07:22:13.302Z"
   },
   {
    "duration": 9,
    "start_time": "2022-08-02T07:22:13.310Z"
   },
   {
    "duration": 611,
    "start_time": "2022-08-02T07:22:13.321Z"
   },
   {
    "duration": 221,
    "start_time": "2022-08-02T07:22:13.934Z"
   },
   {
    "duration": 142,
    "start_time": "2022-08-02T07:22:14.156Z"
   },
   {
    "duration": 3,
    "start_time": "2022-08-02T07:22:14.300Z"
   },
   {
    "duration": 16,
    "start_time": "2022-08-02T07:22:14.305Z"
   },
   {
    "duration": 95,
    "start_time": "2022-08-02T07:22:14.322Z"
   },
   {
    "duration": 8,
    "start_time": "2022-08-02T07:22:14.419Z"
   },
   {
    "duration": 425,
    "start_time": "2022-08-02T07:22:14.429Z"
   },
   {
    "duration": 0,
    "start_time": "2022-08-02T07:22:14.856Z"
   },
   {
    "duration": 1016,
    "start_time": "2022-08-02T07:22:50.432Z"
   },
   {
    "duration": 46,
    "start_time": "2022-08-02T07:22:51.450Z"
   },
   {
    "duration": 13,
    "start_time": "2022-08-02T07:22:51.497Z"
   },
   {
    "duration": 5,
    "start_time": "2022-08-02T07:22:51.512Z"
   },
   {
    "duration": 11,
    "start_time": "2022-08-02T07:22:51.520Z"
   },
   {
    "duration": 7,
    "start_time": "2022-08-02T07:22:51.533Z"
   },
   {
    "duration": 19,
    "start_time": "2022-08-02T07:22:51.541Z"
   },
   {
    "duration": 451,
    "start_time": "2022-08-02T07:22:51.562Z"
   },
   {
    "duration": 218,
    "start_time": "2022-08-02T07:22:52.015Z"
   },
   {
    "duration": 141,
    "start_time": "2022-08-02T07:22:52.235Z"
   },
   {
    "duration": 4,
    "start_time": "2022-08-02T07:22:52.378Z"
   },
   {
    "duration": 15,
    "start_time": "2022-08-02T07:22:52.383Z"
   },
   {
    "duration": 12,
    "start_time": "2022-08-02T07:22:52.399Z"
   },
   {
    "duration": 9,
    "start_time": "2022-08-02T07:22:52.415Z"
   },
   {
    "duration": 283,
    "start_time": "2022-08-02T07:22:52.453Z"
   },
   {
    "duration": 0,
    "start_time": "2022-08-02T07:22:52.738Z"
   },
   {
    "duration": 1102,
    "start_time": "2022-08-06T11:31:00.932Z"
   },
   {
    "duration": 147,
    "start_time": "2022-08-06T11:31:02.037Z"
   },
   {
    "duration": 13,
    "start_time": "2022-08-06T11:31:02.188Z"
   },
   {
    "duration": 11,
    "start_time": "2022-08-06T11:31:02.202Z"
   },
   {
    "duration": 14,
    "start_time": "2022-08-06T11:31:02.215Z"
   },
   {
    "duration": 6,
    "start_time": "2022-08-06T11:31:02.231Z"
   },
   {
    "duration": 14,
    "start_time": "2022-08-06T11:31:02.238Z"
   },
   {
    "duration": 596,
    "start_time": "2022-08-06T11:31:02.253Z"
   },
   {
    "duration": 221,
    "start_time": "2022-08-06T11:31:02.852Z"
   },
   {
    "duration": 147,
    "start_time": "2022-08-06T11:31:03.074Z"
   },
   {
    "duration": 3,
    "start_time": "2022-08-06T11:31:03.223Z"
   },
   {
    "duration": 31,
    "start_time": "2022-08-06T11:31:03.228Z"
   },
   {
    "duration": 104,
    "start_time": "2022-08-06T11:31:03.260Z"
   },
   {
    "duration": 44,
    "start_time": "2022-08-06T11:31:03.366Z"
   },
   {
    "duration": 387,
    "start_time": "2022-08-06T11:31:03.412Z"
   },
   {
    "duration": 0,
    "start_time": "2022-08-06T11:31:03.800Z"
   },
   {
    "duration": 14,
    "start_time": "2022-08-06T11:31:36.227Z"
   },
   {
    "duration": 13,
    "start_time": "2022-08-06T11:31:59.904Z"
   },
   {
    "duration": 8,
    "start_time": "2022-08-06T11:32:01.595Z"
   },
   {
    "duration": 14,
    "start_time": "2022-08-06T11:32:02.190Z"
   },
   {
    "duration": 14,
    "start_time": "2022-08-06T12:15:28.160Z"
   },
   {
    "duration": 5,
    "start_time": "2022-08-06T12:15:38.861Z"
   },
   {
    "duration": 16,
    "start_time": "2022-08-06T12:15:39.660Z"
   },
   {
    "duration": 6,
    "start_time": "2022-08-06T12:15:51.350Z"
   },
   {
    "duration": 17,
    "start_time": "2022-08-06T12:15:51.754Z"
   },
   {
    "duration": 5,
    "start_time": "2022-08-06T12:16:00.331Z"
   },
   {
    "duration": 15,
    "start_time": "2022-08-06T12:16:00.759Z"
   },
   {
    "duration": 14,
    "start_time": "2022-08-06T12:16:02.775Z"
   },
   {
    "duration": 9,
    "start_time": "2022-08-06T12:16:03.000Z"
   },
   {
    "duration": 18,
    "start_time": "2022-08-06T12:16:03.436Z"
   },
   {
    "duration": 13,
    "start_time": "2022-08-06T12:16:12.873Z"
   },
   {
    "duration": 5,
    "start_time": "2022-08-06T12:16:13.114Z"
   },
   {
    "duration": 8,
    "start_time": "2022-08-06T12:16:13.326Z"
   },
   {
    "duration": 13,
    "start_time": "2022-08-06T12:16:13.776Z"
   },
   {
    "duration": 18,
    "start_time": "2022-08-06T12:16:17.999Z"
   },
   {
    "duration": 1144,
    "start_time": "2022-08-07T12:29:37.914Z"
   },
   {
    "duration": 127,
    "start_time": "2022-08-07T12:29:39.060Z"
   },
   {
    "duration": 27,
    "start_time": "2022-08-07T12:29:39.189Z"
   },
   {
    "duration": 7,
    "start_time": "2022-08-07T12:29:39.218Z"
   },
   {
    "duration": 13,
    "start_time": "2022-08-07T12:29:39.227Z"
   },
   {
    "duration": 8,
    "start_time": "2022-08-07T12:29:39.242Z"
   },
   {
    "duration": 24,
    "start_time": "2022-08-07T12:29:39.252Z"
   },
   {
    "duration": 695,
    "start_time": "2022-08-07T12:29:39.277Z"
   },
   {
    "duration": 247,
    "start_time": "2022-08-07T12:29:39.973Z"
   },
   {
    "duration": 156,
    "start_time": "2022-08-07T12:29:40.222Z"
   },
   {
    "duration": 5,
    "start_time": "2022-08-07T12:29:40.380Z"
   },
   {
    "duration": 25,
    "start_time": "2022-08-07T12:29:40.387Z"
   },
   {
    "duration": 74,
    "start_time": "2022-08-07T12:29:40.416Z"
   },
   {
    "duration": 22,
    "start_time": "2022-08-07T12:29:40.499Z"
   },
   {
    "duration": 323,
    "start_time": "2022-08-07T12:29:40.597Z"
   },
   {
    "duration": 0,
    "start_time": "2022-08-07T12:29:40.922Z"
   },
   {
    "duration": 19,
    "start_time": "2022-08-07T12:29:57.218Z"
   },
   {
    "duration": 1093,
    "start_time": "2022-08-07T12:30:18.746Z"
   },
   {
    "duration": 72,
    "start_time": "2022-08-07T12:30:19.841Z"
   },
   {
    "duration": 18,
    "start_time": "2022-08-07T12:30:19.915Z"
   },
   {
    "duration": 5,
    "start_time": "2022-08-07T12:30:19.935Z"
   },
   {
    "duration": 16,
    "start_time": "2022-08-07T12:30:19.942Z"
   },
   {
    "duration": 14,
    "start_time": "2022-08-07T12:30:19.961Z"
   },
   {
    "duration": 33,
    "start_time": "2022-08-07T12:30:19.976Z"
   },
   {
    "duration": 502,
    "start_time": "2022-08-07T12:30:20.010Z"
   },
   {
    "duration": 240,
    "start_time": "2022-08-07T12:30:20.514Z"
   },
   {
    "duration": 171,
    "start_time": "2022-08-07T12:30:20.757Z"
   },
   {
    "duration": 5,
    "start_time": "2022-08-07T12:30:20.931Z"
   },
   {
    "duration": 20,
    "start_time": "2022-08-07T12:30:20.938Z"
   },
   {
    "duration": 12,
    "start_time": "2022-08-07T12:30:20.960Z"
   },
   {
    "duration": 14,
    "start_time": "2022-08-07T12:30:20.973Z"
   },
   {
    "duration": 22,
    "start_time": "2022-08-07T12:30:20.998Z"
   },
   {
    "duration": 9,
    "start_time": "2022-08-07T12:30:21.022Z"
   },
   {
    "duration": 257,
    "start_time": "2022-08-07T12:30:21.033Z"
   },
   {
    "duration": 21,
    "start_time": "2022-08-07T12:30:33.911Z"
   },
   {
    "duration": 15,
    "start_time": "2022-08-07T12:30:51.355Z"
   },
   {
    "duration": 17,
    "start_time": "2022-08-07T12:30:51.691Z"
   },
   {
    "duration": 7,
    "start_time": "2022-08-07T12:30:52.010Z"
   },
   {
    "duration": 15,
    "start_time": "2022-08-07T12:30:53.395Z"
   },
   {
    "duration": 1154,
    "start_time": "2022-08-07T12:34:06.893Z"
   },
   {
    "duration": 56,
    "start_time": "2022-08-07T12:34:08.048Z"
   },
   {
    "duration": 12,
    "start_time": "2022-08-07T12:34:08.111Z"
   },
   {
    "duration": 4,
    "start_time": "2022-08-07T12:34:08.125Z"
   },
   {
    "duration": 10,
    "start_time": "2022-08-07T12:34:08.131Z"
   },
   {
    "duration": 7,
    "start_time": "2022-08-07T12:34:08.142Z"
   },
   {
    "duration": 12,
    "start_time": "2022-08-07T12:34:08.150Z"
   },
   {
    "duration": 524,
    "start_time": "2022-08-07T12:34:08.164Z"
   },
   {
    "duration": 238,
    "start_time": "2022-08-07T12:34:08.691Z"
   },
   {
    "duration": 159,
    "start_time": "2022-08-07T12:34:08.931Z"
   },
   {
    "duration": 10,
    "start_time": "2022-08-07T12:34:09.091Z"
   },
   {
    "duration": 12,
    "start_time": "2022-08-07T12:34:09.103Z"
   },
   {
    "duration": 16,
    "start_time": "2022-08-07T12:34:09.117Z"
   },
   {
    "duration": 8,
    "start_time": "2022-08-07T12:34:09.135Z"
   },
   {
    "duration": 7,
    "start_time": "2022-08-07T12:34:09.144Z"
   },
   {
    "duration": 77,
    "start_time": "2022-08-07T12:34:09.152Z"
   },
   {
    "duration": 14,
    "start_time": "2022-08-07T12:34:09.231Z"
   },
   {
    "duration": 87,
    "start_time": "2022-08-07T12:34:09.246Z"
   },
   {
    "duration": 9,
    "start_time": "2022-08-07T12:34:09.335Z"
   },
   {
    "duration": 59,
    "start_time": "2022-08-07T12:34:09.346Z"
   },
   {
    "duration": 18,
    "start_time": "2022-08-07T12:34:31.152Z"
   },
   {
    "duration": 10,
    "start_time": "2022-08-07T12:34:31.513Z"
   },
   {
    "duration": 22,
    "start_time": "2022-08-07T12:34:38.921Z"
   },
   {
    "duration": 17,
    "start_time": "2022-08-07T12:34:39.454Z"
   },
   {
    "duration": 25,
    "start_time": "2022-08-07T12:34:44.691Z"
   },
   {
    "duration": 10,
    "start_time": "2022-08-07T12:34:45.046Z"
   },
   {
    "duration": 18,
    "start_time": "2022-08-07T12:34:48.426Z"
   },
   {
    "duration": 9,
    "start_time": "2022-08-07T12:34:48.791Z"
   },
   {
    "duration": 20,
    "start_time": "2022-08-07T12:34:51.450Z"
   },
   {
    "duration": 11,
    "start_time": "2022-08-07T12:34:51.775Z"
   },
   {
    "duration": 26,
    "start_time": "2022-08-07T12:34:56.097Z"
   },
   {
    "duration": 10,
    "start_time": "2022-08-07T12:34:58.342Z"
   },
   {
    "duration": 34,
    "start_time": "2022-08-07T12:35:05.885Z"
   },
   {
    "duration": 72,
    "start_time": "2022-08-07T12:35:07.137Z"
   },
   {
    "duration": 9,
    "start_time": "2022-08-07T12:35:09.554Z"
   },
   {
    "duration": 19,
    "start_time": "2022-08-07T12:35:16.112Z"
   },
   {
    "duration": 33,
    "start_time": "2022-08-07T12:35:16.464Z"
   },
   {
    "duration": 6,
    "start_time": "2022-08-07T12:35:17.390Z"
   },
   {
    "duration": 23,
    "start_time": "2022-08-07T12:35:25.419Z"
   },
   {
    "duration": 99,
    "start_time": "2022-08-07T12:35:25.711Z"
   },
   {
    "duration": 14,
    "start_time": "2022-08-07T12:35:27.446Z"
   },
   {
    "duration": 25,
    "start_time": "2022-08-07T12:35:28.862Z"
   },
   {
    "duration": 87,
    "start_time": "2022-08-07T12:35:29.217Z"
   },
   {
    "duration": 7,
    "start_time": "2022-08-07T12:35:30.036Z"
   },
   {
    "duration": 1200,
    "start_time": "2022-08-07T12:35:33.683Z"
   },
   {
    "duration": 65,
    "start_time": "2022-08-07T12:35:34.885Z"
   },
   {
    "duration": 12,
    "start_time": "2022-08-07T12:35:34.953Z"
   },
   {
    "duration": 5,
    "start_time": "2022-08-07T12:35:34.967Z"
   },
   {
    "duration": 11,
    "start_time": "2022-08-07T12:35:34.974Z"
   },
   {
    "duration": 6,
    "start_time": "2022-08-07T12:35:34.986Z"
   },
   {
    "duration": 17,
    "start_time": "2022-08-07T12:35:34.993Z"
   },
   {
    "duration": 502,
    "start_time": "2022-08-07T12:35:35.012Z"
   },
   {
    "duration": 233,
    "start_time": "2022-08-07T12:35:35.517Z"
   },
   {
    "duration": 159,
    "start_time": "2022-08-07T12:35:35.753Z"
   },
   {
    "duration": 4,
    "start_time": "2022-08-07T12:35:35.914Z"
   },
   {
    "duration": 15,
    "start_time": "2022-08-07T12:35:35.920Z"
   },
   {
    "duration": 14,
    "start_time": "2022-08-07T12:35:35.937Z"
   },
   {
    "duration": 9,
    "start_time": "2022-08-07T12:35:35.953Z"
   },
   {
    "duration": 50,
    "start_time": "2022-08-07T12:35:35.963Z"
   },
   {
    "duration": 21,
    "start_time": "2022-08-07T12:35:36.015Z"
   },
   {
    "duration": 70,
    "start_time": "2022-08-07T12:35:36.038Z"
   },
   {
    "duration": 101,
    "start_time": "2022-08-07T12:35:36.110Z"
   },
   {
    "duration": 96,
    "start_time": "2022-08-07T12:35:36.213Z"
   },
   {
    "duration": 104,
    "start_time": "2022-08-07T12:35:36.313Z"
   },
   {
    "duration": 1090,
    "start_time": "2022-08-07T12:35:48.365Z"
   },
   {
    "duration": 53,
    "start_time": "2022-08-07T12:35:49.457Z"
   },
   {
    "duration": 13,
    "start_time": "2022-08-07T12:35:49.512Z"
   },
   {
    "duration": 4,
    "start_time": "2022-08-07T12:35:49.526Z"
   },
   {
    "duration": 13,
    "start_time": "2022-08-07T12:35:49.531Z"
   },
   {
    "duration": 7,
    "start_time": "2022-08-07T12:35:49.545Z"
   },
   {
    "duration": 11,
    "start_time": "2022-08-07T12:35:49.553Z"
   },
   {
    "duration": 524,
    "start_time": "2022-08-07T12:35:49.565Z"
   },
   {
    "duration": 231,
    "start_time": "2022-08-07T12:35:50.090Z"
   },
   {
    "duration": 160,
    "start_time": "2022-08-07T12:35:50.323Z"
   },
   {
    "duration": 4,
    "start_time": "2022-08-07T12:35:50.484Z"
   },
   {
    "duration": 20,
    "start_time": "2022-08-07T12:35:50.489Z"
   },
   {
    "duration": 17,
    "start_time": "2022-08-07T12:35:50.511Z"
   },
   {
    "duration": 8,
    "start_time": "2022-08-07T12:35:50.529Z"
   },
   {
    "duration": 6,
    "start_time": "2022-08-07T12:35:50.538Z"
   },
   {
    "duration": 72,
    "start_time": "2022-08-07T12:35:50.545Z"
   },
   {
    "duration": 9,
    "start_time": "2022-08-07T12:35:50.619Z"
   },
   {
    "duration": 90,
    "start_time": "2022-08-07T12:35:50.630Z"
   },
   {
    "duration": 10,
    "start_time": "2022-08-07T12:35:50.722Z"
   },
   {
    "duration": 100,
    "start_time": "2022-08-07T12:35:50.798Z"
   },
   {
    "duration": 1036,
    "start_time": "2022-08-07T12:36:05.758Z"
   },
   {
    "duration": 63,
    "start_time": "2022-08-07T12:36:06.796Z"
   },
   {
    "duration": 13,
    "start_time": "2022-08-07T12:36:06.860Z"
   },
   {
    "duration": 4,
    "start_time": "2022-08-07T12:36:06.875Z"
   },
   {
    "duration": 10,
    "start_time": "2022-08-07T12:36:06.881Z"
   },
   {
    "duration": 17,
    "start_time": "2022-08-07T12:36:06.892Z"
   },
   {
    "duration": 13,
    "start_time": "2022-08-07T12:36:06.911Z"
   },
   {
    "duration": 483,
    "start_time": "2022-08-07T12:36:06.929Z"
   },
   {
    "duration": 234,
    "start_time": "2022-08-07T12:36:07.414Z"
   },
   {
    "duration": 172,
    "start_time": "2022-08-07T12:36:07.650Z"
   },
   {
    "duration": 4,
    "start_time": "2022-08-07T12:36:07.823Z"
   },
   {
    "duration": 17,
    "start_time": "2022-08-07T12:36:07.828Z"
   },
   {
    "duration": 13,
    "start_time": "2022-08-07T12:36:07.847Z"
   },
   {
    "duration": 7,
    "start_time": "2022-08-07T12:36:07.861Z"
   },
   {
    "duration": 42,
    "start_time": "2022-08-07T12:36:07.869Z"
   },
   {
    "duration": 32,
    "start_time": "2022-08-07T12:36:07.913Z"
   },
   {
    "duration": 70,
    "start_time": "2022-08-07T12:36:07.946Z"
   },
   {
    "duration": 103,
    "start_time": "2022-08-07T12:36:08.018Z"
   },
   {
    "duration": 286,
    "start_time": "2022-08-07T12:36:08.123Z"
   },
   {
    "duration": 8,
    "start_time": "2022-08-07T12:36:08.411Z"
   },
   {
    "duration": 23,
    "start_time": "2022-08-07T12:37:19.048Z"
   },
   {
    "duration": 159,
    "start_time": "2022-08-07T12:37:19.642Z"
   },
   {
    "duration": 18,
    "start_time": "2022-08-07T12:37:33.678Z"
   },
   {
    "duration": 183,
    "start_time": "2022-08-07T12:37:33.924Z"
   },
   {
    "duration": 1095,
    "start_time": "2022-08-07T12:37:38.689Z"
   },
   {
    "duration": 60,
    "start_time": "2022-08-07T12:37:39.786Z"
   },
   {
    "duration": 11,
    "start_time": "2022-08-07T12:37:39.848Z"
   },
   {
    "duration": 8,
    "start_time": "2022-08-07T12:37:39.861Z"
   },
   {
    "duration": 13,
    "start_time": "2022-08-07T12:37:39.871Z"
   },
   {
    "duration": 7,
    "start_time": "2022-08-07T12:37:39.885Z"
   },
   {
    "duration": 17,
    "start_time": "2022-08-07T12:37:39.893Z"
   },
   {
    "duration": 507,
    "start_time": "2022-08-07T12:37:39.911Z"
   },
   {
    "duration": 246,
    "start_time": "2022-08-07T12:37:40.421Z"
   },
   {
    "duration": 167,
    "start_time": "2022-08-07T12:37:40.670Z"
   },
   {
    "duration": 4,
    "start_time": "2022-08-07T12:37:40.839Z"
   },
   {
    "duration": 12,
    "start_time": "2022-08-07T12:37:40.845Z"
   },
   {
    "duration": 16,
    "start_time": "2022-08-07T12:37:40.859Z"
   },
   {
    "duration": 31,
    "start_time": "2022-08-07T12:37:40.876Z"
   },
   {
    "duration": 7,
    "start_time": "2022-08-07T12:37:40.911Z"
   },
   {
    "duration": 25,
    "start_time": "2022-08-07T12:37:40.920Z"
   },
   {
    "duration": 14,
    "start_time": "2022-08-07T12:37:41.004Z"
   },
   {
    "duration": 188,
    "start_time": "2022-08-07T12:37:41.020Z"
   },
   {
    "duration": 104,
    "start_time": "2022-08-07T12:37:41.210Z"
   },
   {
    "duration": 100,
    "start_time": "2022-08-07T12:37:41.315Z"
   },
   {
    "duration": 43,
    "start_time": "2022-08-07T18:34:22.621Z"
   },
   {
    "duration": 1125,
    "start_time": "2022-08-07T18:34:31.175Z"
   },
   {
    "duration": 110,
    "start_time": "2022-08-07T18:34:32.302Z"
   },
   {
    "duration": 13,
    "start_time": "2022-08-07T18:34:32.414Z"
   },
   {
    "duration": 6,
    "start_time": "2022-08-07T18:34:32.430Z"
   },
   {
    "duration": 16,
    "start_time": "2022-08-07T18:34:32.438Z"
   },
   {
    "duration": 9,
    "start_time": "2022-08-07T18:34:32.456Z"
   },
   {
    "duration": 26,
    "start_time": "2022-08-07T18:34:32.467Z"
   },
   {
    "duration": 629,
    "start_time": "2022-08-07T18:34:32.495Z"
   },
   {
    "duration": 219,
    "start_time": "2022-08-07T18:34:33.126Z"
   },
   {
    "duration": 137,
    "start_time": "2022-08-07T18:34:33.347Z"
   },
   {
    "duration": 4,
    "start_time": "2022-08-07T18:34:33.486Z"
   },
   {
    "duration": 9,
    "start_time": "2022-08-07T18:34:33.499Z"
   },
   {
    "duration": 110,
    "start_time": "2022-08-07T18:34:33.509Z"
   },
   {
    "duration": 9,
    "start_time": "2022-08-07T18:34:33.621Z"
   },
   {
    "duration": 83,
    "start_time": "2022-08-07T18:34:33.631Z"
   },
   {
    "duration": 24,
    "start_time": "2022-08-07T18:34:33.801Z"
   },
   {
    "duration": 9,
    "start_time": "2022-08-07T18:34:33.827Z"
   },
   {
    "duration": 171,
    "start_time": "2022-08-07T18:34:33.837Z"
   },
   {
    "duration": 193,
    "start_time": "2022-08-07T18:34:34.010Z"
   },
   {
    "duration": 8,
    "start_time": "2022-08-07T18:34:34.206Z"
   },
   {
    "duration": 31,
    "start_time": "2022-08-07T18:34:39.723Z"
   },
   {
    "duration": 141,
    "start_time": "2022-08-07T18:37:04.532Z"
   },
   {
    "duration": 1083,
    "start_time": "2022-08-08T17:44:59.823Z"
   },
   {
    "duration": 145,
    "start_time": "2022-08-08T17:45:00.909Z"
   },
   {
    "duration": 12,
    "start_time": "2022-08-08T17:45:01.056Z"
   },
   {
    "duration": 4,
    "start_time": "2022-08-08T17:45:01.070Z"
   },
   {
    "duration": 14,
    "start_time": "2022-08-08T17:45:01.075Z"
   },
   {
    "duration": 7,
    "start_time": "2022-08-08T17:45:01.090Z"
   },
   {
    "duration": 13,
    "start_time": "2022-08-08T17:45:01.098Z"
   },
   {
    "duration": 614,
    "start_time": "2022-08-08T17:45:01.112Z"
   },
   {
    "duration": 214,
    "start_time": "2022-08-08T17:45:01.729Z"
   },
   {
    "duration": 157,
    "start_time": "2022-08-08T17:45:01.946Z"
   },
   {
    "duration": 5,
    "start_time": "2022-08-08T17:45:02.105Z"
   },
   {
    "duration": 13,
    "start_time": "2022-08-08T17:45:02.111Z"
   },
   {
    "duration": 97,
    "start_time": "2022-08-08T17:45:02.125Z"
   },
   {
    "duration": 9,
    "start_time": "2022-08-08T17:45:02.224Z"
   },
   {
    "duration": 77,
    "start_time": "2022-08-08T17:45:02.235Z"
   },
   {
    "duration": 120,
    "start_time": "2022-08-08T17:45:02.317Z"
   },
   {
    "duration": 11,
    "start_time": "2022-08-08T17:45:02.438Z"
   },
   {
    "duration": 158,
    "start_time": "2022-08-08T17:45:02.451Z"
   },
   {
    "duration": 295,
    "start_time": "2022-08-08T17:45:02.611Z"
   },
   {
    "duration": 10,
    "start_time": "2022-08-08T17:45:02.909Z"
   },
   {
    "duration": 18,
    "start_time": "2022-08-08T17:45:36.129Z"
   },
   {
    "duration": 22,
    "start_time": "2022-08-08T17:45:36.935Z"
   },
   {
    "duration": 47,
    "start_time": "2022-08-08T17:45:37.362Z"
   },
   {
    "duration": 13,
    "start_time": "2022-08-08T17:45:38.254Z"
   },
   {
    "duration": 12,
    "start_time": "2022-08-08T17:45:47.502Z"
   },
   {
    "duration": 17,
    "start_time": "2022-08-08T17:45:47.943Z"
   },
   {
    "duration": 17,
    "start_time": "2022-08-08T17:45:48.378Z"
   },
   {
    "duration": 8,
    "start_time": "2022-08-08T17:45:49.187Z"
   },
   {
    "duration": 11,
    "start_time": "2022-08-08T17:45:56.374Z"
   },
   {
    "duration": 16,
    "start_time": "2022-08-08T17:45:56.864Z"
   },
   {
    "duration": 15,
    "start_time": "2022-08-08T17:45:57.425Z"
   },
   {
    "duration": 6,
    "start_time": "2022-08-08T17:45:59.409Z"
   },
   {
    "duration": 7,
    "start_time": "2022-08-08T17:46:05.009Z"
   },
   {
    "duration": 1035,
    "start_time": "2022-08-08T17:46:10.809Z"
   },
   {
    "duration": 45,
    "start_time": "2022-08-08T17:46:11.846Z"
   },
   {
    "duration": 12,
    "start_time": "2022-08-08T17:46:11.894Z"
   },
   {
    "duration": 4,
    "start_time": "2022-08-08T17:46:11.907Z"
   },
   {
    "duration": 12,
    "start_time": "2022-08-08T17:46:11.912Z"
   },
   {
    "duration": 7,
    "start_time": "2022-08-08T17:46:11.925Z"
   },
   {
    "duration": 15,
    "start_time": "2022-08-08T17:46:11.933Z"
   },
   {
    "duration": 480,
    "start_time": "2022-08-08T17:46:11.950Z"
   },
   {
    "duration": 211,
    "start_time": "2022-08-08T17:46:12.433Z"
   },
   {
    "duration": 145,
    "start_time": "2022-08-08T17:46:12.646Z"
   },
   {
    "duration": 4,
    "start_time": "2022-08-08T17:46:12.793Z"
   },
   {
    "duration": 27,
    "start_time": "2022-08-08T17:46:12.798Z"
   },
   {
    "duration": 15,
    "start_time": "2022-08-08T17:46:12.826Z"
   },
   {
    "duration": 11,
    "start_time": "2022-08-08T17:46:12.842Z"
   },
   {
    "duration": 97,
    "start_time": "2022-08-08T17:46:12.908Z"
   },
   {
    "duration": 105,
    "start_time": "2022-08-08T17:46:13.007Z"
   },
   {
    "duration": 95,
    "start_time": "2022-08-08T17:55:03.369Z"
   },
   {
    "duration": 46,
    "start_time": "2022-08-08T17:55:09.608Z"
   },
   {
    "duration": 967,
    "start_time": "2022-08-08T17:55:13.756Z"
   },
   {
    "duration": 4,
    "start_time": "2022-08-08T17:56:15.194Z"
   },
   {
    "duration": 128,
    "start_time": "2022-08-08T17:58:49.004Z"
   },
   {
    "duration": 26,
    "start_time": "2022-08-08T17:59:16.718Z"
   },
   {
    "duration": 88,
    "start_time": "2022-08-08T17:59:22.786Z"
   },
   {
    "duration": 7383,
    "start_time": "2022-08-08T17:59:34.189Z"
   },
   {
    "duration": 9091,
    "start_time": "2022-08-08T18:00:34.709Z"
   },
   {
    "duration": 8,
    "start_time": "2022-08-08T18:00:43.802Z"
   },
   {
    "duration": 6770,
    "start_time": "2022-08-08T18:00:51.843Z"
   },
   {
    "duration": 8,
    "start_time": "2022-08-08T18:00:58.615Z"
   },
   {
    "duration": 1114,
    "start_time": "2022-08-08T18:13:58.549Z"
   },
   {
    "duration": 55,
    "start_time": "2022-08-08T18:13:59.665Z"
   },
   {
    "duration": 13,
    "start_time": "2022-08-08T18:13:59.722Z"
   },
   {
    "duration": 6,
    "start_time": "2022-08-08T18:13:59.736Z"
   },
   {
    "duration": 12,
    "start_time": "2022-08-08T18:13:59.744Z"
   },
   {
    "duration": 6,
    "start_time": "2022-08-08T18:13:59.758Z"
   },
   {
    "duration": 16,
    "start_time": "2022-08-08T18:13:59.765Z"
   },
   {
    "duration": 553,
    "start_time": "2022-08-08T18:13:59.782Z"
   },
   {
    "duration": 227,
    "start_time": "2022-08-08T18:14:00.337Z"
   },
   {
    "duration": 210,
    "start_time": "2022-08-08T18:14:00.566Z"
   },
   {
    "duration": 4,
    "start_time": "2022-08-08T18:14:00.777Z"
   },
   {
    "duration": 39,
    "start_time": "2022-08-08T18:14:00.783Z"
   },
   {
    "duration": 15,
    "start_time": "2022-08-08T18:14:00.824Z"
   },
   {
    "duration": 12,
    "start_time": "2022-08-08T18:14:00.840Z"
   },
   {
    "duration": 10,
    "start_time": "2022-08-08T18:14:00.910Z"
   },
   {
    "duration": 1336,
    "start_time": "2022-08-08T18:14:00.921Z"
   },
   {
    "duration": 4,
    "start_time": "2022-08-08T18:14:02.259Z"
   },
   {
    "duration": 7319,
    "start_time": "2022-08-08T18:14:02.264Z"
   },
   {
    "duration": 4,
    "start_time": "2022-08-08T18:14:09.584Z"
   },
   {
    "duration": 29,
    "start_time": "2022-08-08T18:14:09.589Z"
   },
   {
    "duration": 8,
    "start_time": "2022-08-08T18:14:39.005Z"
   },
   {
    "duration": 25253,
    "start_time": "2022-08-08T18:15:01.865Z"
   },
   {
    "duration": 4,
    "start_time": "2022-08-08T18:15:27.120Z"
   },
   {
    "duration": 1075,
    "start_time": "2022-08-08T18:15:38.617Z"
   },
   {
    "duration": 54,
    "start_time": "2022-08-08T18:15:39.694Z"
   },
   {
    "duration": 14,
    "start_time": "2022-08-08T18:15:39.749Z"
   },
   {
    "duration": 4,
    "start_time": "2022-08-08T18:15:39.766Z"
   },
   {
    "duration": 10,
    "start_time": "2022-08-08T18:15:39.771Z"
   },
   {
    "duration": 5,
    "start_time": "2022-08-08T18:15:39.783Z"
   },
   {
    "duration": 14,
    "start_time": "2022-08-08T18:15:39.789Z"
   },
   {
    "duration": 530,
    "start_time": "2022-08-08T18:15:39.806Z"
   },
   {
    "duration": 231,
    "start_time": "2022-08-08T18:15:40.338Z"
   },
   {
    "duration": 211,
    "start_time": "2022-08-08T18:15:40.572Z"
   },
   {
    "duration": 5,
    "start_time": "2022-08-08T18:15:40.784Z"
   },
   {
    "duration": 36,
    "start_time": "2022-08-08T18:15:40.791Z"
   },
   {
    "duration": 14,
    "start_time": "2022-08-08T18:15:40.829Z"
   },
   {
    "duration": 12,
    "start_time": "2022-08-08T18:15:40.844Z"
   },
   {
    "duration": 106,
    "start_time": "2022-08-08T18:15:40.912Z"
   },
   {
    "duration": 1038,
    "start_time": "2022-08-08T18:15:41.022Z"
   },
   {
    "duration": 7,
    "start_time": "2022-08-08T18:15:42.062Z"
   },
   {
    "duration": 37502,
    "start_time": "2022-08-08T18:15:42.071Z"
   },
   {
    "duration": 4,
    "start_time": "2022-08-08T18:16:19.574Z"
   },
   {
    "duration": 10,
    "start_time": "2022-08-08T18:16:19.579Z"
   },
   {
    "duration": 14,
    "start_time": "2022-08-08T18:17:29.477Z"
   },
   {
    "duration": 43,
    "start_time": "2022-08-09T07:37:08.022Z"
   },
   {
    "duration": 1058,
    "start_time": "2022-08-09T07:38:02.861Z"
   },
   {
    "duration": 276,
    "start_time": "2022-08-09T07:38:03.920Z"
   },
   {
    "duration": 12,
    "start_time": "2022-08-09T07:38:04.197Z"
   },
   {
    "duration": 3,
    "start_time": "2022-08-09T07:38:04.211Z"
   },
   {
    "duration": 10,
    "start_time": "2022-08-09T07:38:04.214Z"
   },
   {
    "duration": 5,
    "start_time": "2022-08-09T07:38:04.226Z"
   },
   {
    "duration": 10,
    "start_time": "2022-08-09T07:38:04.232Z"
   },
   {
    "duration": 581,
    "start_time": "2022-08-09T07:38:04.243Z"
   },
   {
    "duration": 272,
    "start_time": "2022-08-09T07:38:04.826Z"
   },
   {
    "duration": 133,
    "start_time": "2022-08-09T07:38:05.100Z"
   },
   {
    "duration": 3,
    "start_time": "2022-08-09T07:38:05.235Z"
   },
   {
    "duration": 30,
    "start_time": "2022-08-09T07:38:05.240Z"
   },
   {
    "duration": 14,
    "start_time": "2022-08-09T07:38:05.271Z"
   },
   {
    "duration": 10,
    "start_time": "2022-08-09T07:38:05.287Z"
   },
   {
    "duration": 164,
    "start_time": "2022-08-09T07:38:05.298Z"
   },
   {
    "duration": 1086,
    "start_time": "2022-08-09T07:38:05.466Z"
   },
   {
    "duration": 3,
    "start_time": "2022-08-09T07:38:06.553Z"
   },
   {
    "duration": 27792,
    "start_time": "2022-08-09T07:38:06.558Z"
   },
   {
    "duration": 3,
    "start_time": "2022-08-09T07:38:34.354Z"
   },
   {
    "duration": 16,
    "start_time": "2022-08-09T07:38:34.359Z"
   },
   {
    "duration": 1175,
    "start_time": "2022-08-09T07:40:59.923Z"
   },
   {
    "duration": 270,
    "start_time": "2022-08-09T07:41:27.476Z"
   },
   {
    "duration": 6,
    "start_time": "2022-08-09T07:41:55.092Z"
   },
   {
    "duration": 125,
    "start_time": "2022-08-09T07:42:17.255Z"
   },
   {
    "duration": 9,
    "start_time": "2022-08-09T07:43:16.283Z"
   },
   {
    "duration": 125,
    "start_time": "2022-08-09T07:43:25.957Z"
   },
   {
    "duration": 135,
    "start_time": "2022-08-09T07:43:56.923Z"
   },
   {
    "duration": 127,
    "start_time": "2022-08-09T07:45:01.024Z"
   },
   {
    "duration": 155,
    "start_time": "2022-08-09T07:45:06.482Z"
   },
   {
    "duration": 122,
    "start_time": "2022-08-09T07:45:10.625Z"
   },
   {
    "duration": 9,
    "start_time": "2022-08-09T07:45:36.324Z"
   },
   {
    "duration": 179,
    "start_time": "2022-08-09T07:45:44.299Z"
   },
   {
    "duration": 185,
    "start_time": "2022-08-09T07:46:10.376Z"
   },
   {
    "duration": 124,
    "start_time": "2022-08-09T07:46:18.095Z"
   },
   {
    "duration": 4,
    "start_time": "2022-08-09T07:48:23.347Z"
   },
   {
    "duration": 1035,
    "start_time": "2022-08-09T07:48:27.268Z"
   },
   {
    "duration": 44,
    "start_time": "2022-08-09T07:48:28.305Z"
   },
   {
    "duration": 13,
    "start_time": "2022-08-09T07:48:28.351Z"
   },
   {
    "duration": 32,
    "start_time": "2022-08-09T07:48:28.366Z"
   },
   {
    "duration": 10,
    "start_time": "2022-08-09T07:48:28.400Z"
   },
   {
    "duration": 34,
    "start_time": "2022-08-09T07:48:28.412Z"
   },
   {
    "duration": 11,
    "start_time": "2022-08-09T07:48:28.448Z"
   },
   {
    "duration": 481,
    "start_time": "2022-08-09T07:48:28.461Z"
   },
   {
    "duration": 233,
    "start_time": "2022-08-09T07:48:28.944Z"
   },
   {
    "duration": 232,
    "start_time": "2022-08-09T07:48:29.179Z"
   },
   {
    "duration": 4,
    "start_time": "2022-08-09T07:48:29.413Z"
   },
   {
    "duration": 37,
    "start_time": "2022-08-09T07:48:29.418Z"
   },
   {
    "duration": 16,
    "start_time": "2022-08-09T07:48:29.456Z"
   },
   {
    "duration": 12,
    "start_time": "2022-08-09T07:48:29.474Z"
   },
   {
    "duration": 102,
    "start_time": "2022-08-09T07:48:29.555Z"
   },
   {
    "duration": 1088,
    "start_time": "2022-08-09T07:48:29.659Z"
   },
   {
    "duration": 3,
    "start_time": "2022-08-09T07:48:30.749Z"
   },
   {
    "duration": 16593,
    "start_time": "2022-08-09T07:48:30.754Z"
   },
   {
    "duration": 7,
    "start_time": "2022-08-09T07:48:47.349Z"
   },
   {
    "duration": 16,
    "start_time": "2022-08-09T07:48:47.358Z"
   },
   {
    "duration": 229,
    "start_time": "2022-08-09T07:48:47.376Z"
   },
   {
    "duration": 139,
    "start_time": "2022-08-09T07:48:47.607Z"
   },
   {
    "duration": 2,
    "start_time": "2022-08-09T07:49:05.032Z"
   },
   {
    "duration": 1047,
    "start_time": "2022-08-09T07:52:17.341Z"
   },
   {
    "duration": 101,
    "start_time": "2022-08-09T07:52:26.468Z"
   },
   {
    "duration": 906,
    "start_time": "2022-08-09T07:52:32.326Z"
   },
   {
    "duration": 17868,
    "start_time": "2022-08-09T07:52:38.258Z"
   },
   {
    "duration": 147,
    "start_time": "2022-08-09T07:53:42.560Z"
   },
   {
    "duration": 85,
    "start_time": "2022-08-09T07:53:48.323Z"
   },
   {
    "duration": 17975,
    "start_time": "2022-08-09T07:53:51.831Z"
   },
   {
    "duration": 57,
    "start_time": "2022-08-09T07:54:26.624Z"
   },
   {
    "duration": 18624,
    "start_time": "2022-08-09T07:54:31.507Z"
   },
   {
    "duration": 5,
    "start_time": "2022-08-09T07:55:18.190Z"
   },
   {
    "duration": 21898,
    "start_time": "2022-08-09T07:55:26.324Z"
   },
   {
    "duration": 3,
    "start_time": "2022-08-09T07:55:51.914Z"
   },
   {
    "duration": 1127,
    "start_time": "2022-08-09T07:57:37.887Z"
   },
   {
    "duration": 44,
    "start_time": "2022-08-09T07:57:39.017Z"
   },
   {
    "duration": 13,
    "start_time": "2022-08-09T07:57:39.062Z"
   },
   {
    "duration": 4,
    "start_time": "2022-08-09T07:57:39.077Z"
   },
   {
    "duration": 11,
    "start_time": "2022-08-09T07:57:39.083Z"
   },
   {
    "duration": 7,
    "start_time": "2022-08-09T07:57:39.096Z"
   },
   {
    "duration": 11,
    "start_time": "2022-08-09T07:57:39.104Z"
   },
   {
    "duration": 473,
    "start_time": "2022-08-09T07:57:39.116Z"
   },
   {
    "duration": 214,
    "start_time": "2022-08-09T07:57:39.590Z"
   },
   {
    "duration": 203,
    "start_time": "2022-08-09T07:57:39.806Z"
   },
   {
    "duration": 5,
    "start_time": "2022-08-09T07:57:40.011Z"
   },
   {
    "duration": 30,
    "start_time": "2022-08-09T07:57:40.017Z"
   },
   {
    "duration": 19,
    "start_time": "2022-08-09T07:57:40.048Z"
   },
   {
    "duration": 16,
    "start_time": "2022-08-09T07:57:40.069Z"
   },
   {
    "duration": 173,
    "start_time": "2022-08-09T07:57:40.086Z"
   },
   {
    "duration": 1230,
    "start_time": "2022-08-09T07:57:40.261Z"
   },
   {
    "duration": 4,
    "start_time": "2022-08-09T07:57:41.492Z"
   },
   {
    "duration": 19122,
    "start_time": "2022-08-09T07:57:41.497Z"
   },
   {
    "duration": 3,
    "start_time": "2022-08-09T07:58:00.621Z"
   },
   {
    "duration": 15,
    "start_time": "2022-08-09T07:58:00.626Z"
   },
   {
    "duration": 204,
    "start_time": "2022-08-09T07:58:00.643Z"
   },
   {
    "duration": 141,
    "start_time": "2022-08-09T07:58:00.855Z"
   },
   {
    "duration": 27967,
    "start_time": "2022-08-09T07:58:44.552Z"
   },
   {
    "duration": 3,
    "start_time": "2022-08-09T07:59:12.521Z"
   },
   {
    "duration": 13,
    "start_time": "2022-08-09T07:59:24.109Z"
   },
   {
    "duration": 1132,
    "start_time": "2022-08-09T07:59:31.561Z"
   },
   {
    "duration": 44,
    "start_time": "2022-08-09T07:59:32.695Z"
   },
   {
    "duration": 12,
    "start_time": "2022-08-09T07:59:32.740Z"
   },
   {
    "duration": 7,
    "start_time": "2022-08-09T07:59:32.754Z"
   },
   {
    "duration": 9,
    "start_time": "2022-08-09T07:59:32.762Z"
   },
   {
    "duration": 7,
    "start_time": "2022-08-09T07:59:32.772Z"
   },
   {
    "duration": 10,
    "start_time": "2022-08-09T07:59:32.780Z"
   },
   {
    "duration": 463,
    "start_time": "2022-08-09T07:59:32.792Z"
   },
   {
    "duration": 202,
    "start_time": "2022-08-09T07:59:33.257Z"
   },
   {
    "duration": 216,
    "start_time": "2022-08-09T07:59:33.462Z"
   },
   {
    "duration": 4,
    "start_time": "2022-08-09T07:59:33.679Z"
   },
   {
    "duration": 32,
    "start_time": "2022-08-09T07:59:33.685Z"
   },
   {
    "duration": 15,
    "start_time": "2022-08-09T07:59:33.718Z"
   },
   {
    "duration": 25,
    "start_time": "2022-08-09T07:59:33.735Z"
   },
   {
    "duration": 98,
    "start_time": "2022-08-09T07:59:33.762Z"
   },
   {
    "duration": 1123,
    "start_time": "2022-08-09T07:59:33.955Z"
   },
   {
    "duration": 3,
    "start_time": "2022-08-09T07:59:35.080Z"
   },
   {
    "duration": 15894,
    "start_time": "2022-08-09T07:59:35.085Z"
   },
   {
    "duration": 5,
    "start_time": "2022-08-09T07:59:50.981Z"
   },
   {
    "duration": 20,
    "start_time": "2022-08-09T07:59:50.988Z"
   },
   {
    "duration": 208,
    "start_time": "2022-08-09T07:59:51.010Z"
   },
   {
    "duration": 148,
    "start_time": "2022-08-09T07:59:51.219Z"
   },
   {
    "duration": 107,
    "start_time": "2022-08-09T08:04:15.986Z"
   },
   {
    "duration": 2873,
    "start_time": "2022-08-09T08:05:04.252Z"
   },
   {
    "duration": 3225,
    "start_time": "2022-08-09T08:05:33.031Z"
   },
   {
    "duration": 3217,
    "start_time": "2022-08-09T08:05:46.187Z"
   },
   {
    "duration": 2620,
    "start_time": "2022-08-09T08:06:36.162Z"
   },
   {
    "duration": 2984,
    "start_time": "2022-08-09T08:06:49.043Z"
   },
   {
    "duration": 491,
    "start_time": "2022-08-09T08:07:35.045Z"
   },
   {
    "duration": 3514,
    "start_time": "2022-08-09T08:07:48.878Z"
   },
   {
    "duration": 23,
    "start_time": "2022-08-09T08:09:36.760Z"
   },
   {
    "duration": 19,
    "start_time": "2022-08-09T08:10:44.600Z"
   },
   {
    "duration": 10,
    "start_time": "2022-08-09T08:10:59.793Z"
   },
   {
    "duration": 13,
    "start_time": "2022-08-09T08:14:26.048Z"
   },
   {
    "duration": 96,
    "start_time": "2022-08-09T08:14:26.264Z"
   },
   {
    "duration": 13,
    "start_time": "2022-08-09T08:14:26.705Z"
   },
   {
    "duration": 13,
    "start_time": "2022-08-09T08:19:10.103Z"
   },
   {
    "duration": 17,
    "start_time": "2022-08-09T08:19:13.863Z"
   },
   {
    "duration": 13,
    "start_time": "2022-08-09T08:19:14.386Z"
   },
   {
    "duration": 3378,
    "start_time": "2022-08-09T08:19:36.591Z"
   },
   {
    "duration": 7,
    "start_time": "2022-08-09T08:21:26.265Z"
   },
   {
    "duration": 7405,
    "start_time": "2022-08-09T08:35:51.744Z"
   },
   {
    "duration": 1044,
    "start_time": "2022-08-09T08:39:42.985Z"
   },
   {
    "duration": 43,
    "start_time": "2022-08-09T08:39:44.031Z"
   },
   {
    "duration": 12,
    "start_time": "2022-08-09T08:39:44.075Z"
   },
   {
    "duration": 4,
    "start_time": "2022-08-09T08:39:44.089Z"
   },
   {
    "duration": 8,
    "start_time": "2022-08-09T08:39:44.095Z"
   },
   {
    "duration": 9,
    "start_time": "2022-08-09T08:39:44.105Z"
   },
   {
    "duration": 10,
    "start_time": "2022-08-09T08:39:44.115Z"
   },
   {
    "duration": 485,
    "start_time": "2022-08-09T08:39:44.126Z"
   },
   {
    "duration": 201,
    "start_time": "2022-08-09T08:39:44.613Z"
   },
   {
    "duration": 206,
    "start_time": "2022-08-09T08:39:44.817Z"
   },
   {
    "duration": 4,
    "start_time": "2022-08-09T08:39:45.025Z"
   },
   {
    "duration": 46,
    "start_time": "2022-08-09T08:39:45.030Z"
   },
   {
    "duration": 15,
    "start_time": "2022-08-09T08:39:45.078Z"
   },
   {
    "duration": 10,
    "start_time": "2022-08-09T08:39:45.095Z"
   },
   {
    "duration": 151,
    "start_time": "2022-08-09T08:39:45.107Z"
   },
   {
    "duration": 1490,
    "start_time": "2022-08-09T08:39:45.259Z"
   },
   {
    "duration": 4,
    "start_time": "2022-08-09T08:39:46.751Z"
   },
   {
    "duration": 18848,
    "start_time": "2022-08-09T08:39:46.756Z"
   },
   {
    "duration": 4,
    "start_time": "2022-08-09T08:40:05.605Z"
   },
   {
    "duration": 18,
    "start_time": "2022-08-09T08:40:05.610Z"
   },
   {
    "duration": 196,
    "start_time": "2022-08-09T08:40:05.630Z"
   },
   {
    "duration": 137,
    "start_time": "2022-08-09T08:40:05.827Z"
   },
   {
    "duration": 4,
    "start_time": "2022-08-09T08:40:52.847Z"
   },
   {
    "duration": 12,
    "start_time": "2022-08-09T08:40:54.438Z"
   },
   {
    "duration": 1103,
    "start_time": "2022-08-10T07:37:58.253Z"
   },
   {
    "duration": 131,
    "start_time": "2022-08-10T07:37:59.358Z"
   },
   {
    "duration": 15,
    "start_time": "2022-08-10T07:37:59.490Z"
   },
   {
    "duration": 4,
    "start_time": "2022-08-10T07:37:59.507Z"
   },
   {
    "duration": 9,
    "start_time": "2022-08-10T07:37:59.513Z"
   },
   {
    "duration": 7,
    "start_time": "2022-08-10T07:37:59.523Z"
   },
   {
    "duration": 13,
    "start_time": "2022-08-10T07:37:59.532Z"
   },
   {
    "duration": 755,
    "start_time": "2022-08-10T07:37:59.546Z"
   },
   {
    "duration": 286,
    "start_time": "2022-08-10T07:38:00.303Z"
   },
   {
    "duration": 164,
    "start_time": "2022-08-10T07:38:00.593Z"
   },
   {
    "duration": 5,
    "start_time": "2022-08-10T07:38:00.759Z"
   },
   {
    "duration": 30,
    "start_time": "2022-08-10T07:38:00.766Z"
   },
   {
    "duration": 27,
    "start_time": "2022-08-10T07:38:00.798Z"
   },
   {
    "duration": 11,
    "start_time": "2022-08-10T07:38:00.827Z"
   },
   {
    "duration": 72,
    "start_time": "2022-08-10T07:38:00.840Z"
   },
   {
    "duration": 112,
    "start_time": "2022-08-10T07:38:00.914Z"
   },
   {
    "duration": 1102,
    "start_time": "2022-08-10T07:38:01.031Z"
   },
   {
    "duration": 4,
    "start_time": "2022-08-10T07:38:02.134Z"
   },
   {
    "duration": 21883,
    "start_time": "2022-08-10T07:38:02.140Z"
   },
   {
    "duration": 3,
    "start_time": "2022-08-10T07:38:24.025Z"
   },
   {
    "duration": 13,
    "start_time": "2022-08-10T07:38:24.030Z"
   },
   {
    "duration": 208,
    "start_time": "2022-08-10T07:38:24.045Z"
   },
   {
    "duration": 146,
    "start_time": "2022-08-10T07:38:24.255Z"
   },
   {
    "duration": 3,
    "start_time": "2022-08-10T07:38:24.410Z"
   },
   {
    "duration": 239,
    "start_time": "2022-08-10T07:45:12.540Z"
   },
   {
    "duration": 192,
    "start_time": "2022-08-10T07:45:18.523Z"
   },
   {
    "duration": 4,
    "start_time": "2022-08-10T07:47:01.802Z"
   },
   {
    "duration": 216,
    "start_time": "2022-08-10T07:47:25.755Z"
   },
   {
    "duration": 199,
    "start_time": "2022-08-10T07:47:37.104Z"
   },
   {
    "duration": 134,
    "start_time": "2022-08-10T07:47:57.189Z"
   },
   {
    "duration": 93,
    "start_time": "2022-08-10T07:48:06.206Z"
   },
   {
    "duration": 129,
    "start_time": "2022-08-10T07:48:14.437Z"
   },
   {
    "duration": 165,
    "start_time": "2022-08-10T07:48:51.116Z"
   },
   {
    "duration": 4,
    "start_time": "2022-08-10T07:50:23.869Z"
   },
   {
    "duration": 4,
    "start_time": "2022-08-10T07:50:35.166Z"
   },
   {
    "duration": 15,
    "start_time": "2022-08-10T07:50:43.318Z"
   },
   {
    "duration": 380,
    "start_time": "2022-08-10T07:50:50.580Z"
   },
   {
    "duration": 1388,
    "start_time": "2022-08-10T07:51:12.431Z"
   },
   {
    "duration": 50,
    "start_time": "2022-08-10T07:51:13.821Z"
   },
   {
    "duration": 10,
    "start_time": "2022-08-10T07:51:13.874Z"
   },
   {
    "duration": 4,
    "start_time": "2022-08-10T07:51:13.886Z"
   },
   {
    "duration": 9,
    "start_time": "2022-08-10T07:51:13.892Z"
   },
   {
    "duration": 7,
    "start_time": "2022-08-10T07:51:13.903Z"
   },
   {
    "duration": 14,
    "start_time": "2022-08-10T07:51:13.912Z"
   },
   {
    "duration": 234,
    "start_time": "2022-08-10T07:51:13.928Z"
   },
   {
    "duration": 291,
    "start_time": "2022-08-10T07:51:14.164Z"
   },
   {
    "duration": 149,
    "start_time": "2022-08-10T07:51:14.457Z"
   },
   {
    "duration": 5,
    "start_time": "2022-08-10T07:51:14.607Z"
   },
   {
    "duration": 26,
    "start_time": "2022-08-10T07:51:14.613Z"
   },
   {
    "duration": 16,
    "start_time": "2022-08-10T07:51:14.640Z"
   },
   {
    "duration": 4,
    "start_time": "2022-08-10T07:51:14.658Z"
   },
   {
    "duration": 11,
    "start_time": "2022-08-10T07:51:14.663Z"
   },
   {
    "duration": 38,
    "start_time": "2022-08-10T07:51:14.675Z"
   },
   {
    "duration": 98,
    "start_time": "2022-08-10T07:51:14.715Z"
   },
   {
    "duration": 1041,
    "start_time": "2022-08-10T07:51:14.814Z"
   },
   {
    "duration": 4,
    "start_time": "2022-08-10T07:51:15.857Z"
   },
   {
    "duration": 12939,
    "start_time": "2022-08-10T07:51:15.862Z"
   },
   {
    "duration": 9,
    "start_time": "2022-08-10T07:51:28.802Z"
   },
   {
    "duration": 9,
    "start_time": "2022-08-10T07:51:28.812Z"
   },
   {
    "duration": 240,
    "start_time": "2022-08-10T07:51:28.823Z"
   },
   {
    "duration": 160,
    "start_time": "2022-08-10T07:51:29.064Z"
   },
   {
    "duration": 4,
    "start_time": "2022-08-10T07:51:29.225Z"
   },
   {
    "duration": 420,
    "start_time": "2022-08-10T07:51:29.231Z"
   },
   {
    "duration": 1309,
    "start_time": "2022-08-10T07:52:58.497Z"
   },
   {
    "duration": 159,
    "start_time": "2022-08-10T07:53:06.020Z"
   },
   {
    "duration": 12,
    "start_time": "2022-08-10T07:53:24.009Z"
   },
   {
    "duration": 822,
    "start_time": "2022-08-10T07:53:32.658Z"
   },
   {
    "duration": 1026,
    "start_time": "2022-08-10T07:53:51.095Z"
   },
   {
    "duration": 803,
    "start_time": "2022-08-10T07:53:59.014Z"
   },
   {
    "duration": 756,
    "start_time": "2022-08-10T07:54:07.606Z"
   },
   {
    "duration": 8,
    "start_time": "2022-08-10T07:54:26.231Z"
   },
   {
    "duration": 12,
    "start_time": "2022-08-10T07:54:30.785Z"
   },
   {
    "duration": 7,
    "start_time": "2022-08-10T07:55:58.171Z"
   },
   {
    "duration": 12,
    "start_time": "2022-08-10T07:56:02.252Z"
   },
   {
    "duration": 165,
    "start_time": "2022-08-10T07:56:17.258Z"
   },
   {
    "duration": 1388,
    "start_time": "2022-08-10T07:56:27.937Z"
   },
   {
    "duration": 46,
    "start_time": "2022-08-10T07:56:29.327Z"
   },
   {
    "duration": 10,
    "start_time": "2022-08-10T07:56:29.375Z"
   },
   {
    "duration": 9,
    "start_time": "2022-08-10T07:56:29.386Z"
   },
   {
    "duration": 8,
    "start_time": "2022-08-10T07:56:29.397Z"
   },
   {
    "duration": 8,
    "start_time": "2022-08-10T07:56:29.407Z"
   },
   {
    "duration": 22,
    "start_time": "2022-08-10T07:56:29.417Z"
   },
   {
    "duration": 229,
    "start_time": "2022-08-10T07:56:29.441Z"
   },
   {
    "duration": 318,
    "start_time": "2022-08-10T07:56:29.672Z"
   },
   {
    "duration": 163,
    "start_time": "2022-08-10T07:56:29.994Z"
   },
   {
    "duration": 4,
    "start_time": "2022-08-10T07:56:30.159Z"
   },
   {
    "duration": 25,
    "start_time": "2022-08-10T07:56:30.165Z"
   },
   {
    "duration": 23,
    "start_time": "2022-08-10T07:56:30.192Z"
   },
   {
    "duration": 4,
    "start_time": "2022-08-10T07:56:30.217Z"
   },
   {
    "duration": 10,
    "start_time": "2022-08-10T07:56:30.222Z"
   },
   {
    "duration": 52,
    "start_time": "2022-08-10T07:56:30.233Z"
   },
   {
    "duration": 128,
    "start_time": "2022-08-10T07:56:30.287Z"
   },
   {
    "duration": 1125,
    "start_time": "2022-08-10T07:56:30.416Z"
   },
   {
    "duration": 3,
    "start_time": "2022-08-10T07:56:31.543Z"
   },
   {
    "duration": 22599,
    "start_time": "2022-08-10T07:56:31.548Z"
   },
   {
    "duration": 4,
    "start_time": "2022-08-10T07:56:54.148Z"
   },
   {
    "duration": 15,
    "start_time": "2022-08-10T07:56:54.154Z"
   },
   {
    "duration": 232,
    "start_time": "2022-08-10T07:56:54.171Z"
   },
   {
    "duration": 146,
    "start_time": "2022-08-10T07:56:54.405Z"
   },
   {
    "duration": 1400,
    "start_time": "2022-08-10T07:56:54.553Z"
   },
   {
    "duration": 1287,
    "start_time": "2022-08-10T07:57:05.268Z"
   },
   {
    "duration": 5,
    "start_time": "2022-08-10T07:57:10.660Z"
   },
   {
    "duration": 155,
    "start_time": "2022-08-10T07:57:11.064Z"
   },
   {
    "duration": 157,
    "start_time": "2022-08-10T07:57:31.823Z"
   },
   {
    "duration": 151,
    "start_time": "2022-08-10T07:57:41.789Z"
   },
   {
    "duration": 15,
    "start_time": "2022-08-10T07:58:54.549Z"
   },
   {
    "duration": 4,
    "start_time": "2022-08-10T07:58:55.483Z"
   },
   {
    "duration": 4,
    "start_time": "2022-08-10T07:58:56.061Z"
   },
   {
    "duration": 1325,
    "start_time": "2022-08-10T07:59:12.731Z"
   },
   {
    "duration": 47,
    "start_time": "2022-08-10T07:59:14.058Z"
   },
   {
    "duration": 10,
    "start_time": "2022-08-10T07:59:14.106Z"
   },
   {
    "duration": 10,
    "start_time": "2022-08-10T07:59:14.125Z"
   },
   {
    "duration": 14,
    "start_time": "2022-08-10T07:59:14.136Z"
   },
   {
    "duration": 14,
    "start_time": "2022-08-10T07:59:14.151Z"
   },
   {
    "duration": 19,
    "start_time": "2022-08-10T07:59:14.166Z"
   },
   {
    "duration": 237,
    "start_time": "2022-08-10T07:59:14.187Z"
   },
   {
    "duration": 280,
    "start_time": "2022-08-10T07:59:14.426Z"
   },
   {
    "duration": 141,
    "start_time": "2022-08-10T07:59:14.709Z"
   },
   {
    "duration": 4,
    "start_time": "2022-08-10T07:59:14.851Z"
   },
   {
    "duration": 26,
    "start_time": "2022-08-10T07:59:14.856Z"
   },
   {
    "duration": 32,
    "start_time": "2022-08-10T07:59:14.884Z"
   },
   {
    "duration": 5,
    "start_time": "2022-08-10T07:59:14.917Z"
   },
   {
    "duration": 9,
    "start_time": "2022-08-10T07:59:14.924Z"
   },
   {
    "duration": 76,
    "start_time": "2022-08-10T07:59:14.935Z"
   },
   {
    "duration": 101,
    "start_time": "2022-08-10T07:59:15.013Z"
   },
   {
    "duration": 894,
    "start_time": "2022-08-10T07:59:15.116Z"
   },
   {
    "duration": 4,
    "start_time": "2022-08-10T07:59:16.012Z"
   },
   {
    "duration": 24691,
    "start_time": "2022-08-10T07:59:16.017Z"
   },
   {
    "duration": 5,
    "start_time": "2022-08-10T07:59:40.709Z"
   },
   {
    "duration": 17,
    "start_time": "2022-08-10T07:59:40.716Z"
   },
   {
    "duration": 245,
    "start_time": "2022-08-10T07:59:40.734Z"
   },
   {
    "duration": 157,
    "start_time": "2022-08-10T07:59:40.981Z"
   },
   {
    "duration": 6,
    "start_time": "2022-08-10T07:59:41.141Z"
   },
   {
    "duration": 154,
    "start_time": "2022-08-10T07:59:41.149Z"
   },
   {
    "duration": 198,
    "start_time": "2022-08-10T08:01:33.067Z"
   },
   {
    "duration": 99,
    "start_time": "2022-08-10T08:02:10.037Z"
   },
   {
    "duration": 151,
    "start_time": "2022-08-10T08:02:12.734Z"
   },
   {
    "duration": 1409,
    "start_time": "2022-08-10T08:02:37.929Z"
   },
   {
    "duration": 48,
    "start_time": "2022-08-10T08:02:39.340Z"
   },
   {
    "duration": 12,
    "start_time": "2022-08-10T08:02:39.390Z"
   },
   {
    "duration": 6,
    "start_time": "2022-08-10T08:02:39.404Z"
   },
   {
    "duration": 27,
    "start_time": "2022-08-10T08:02:39.412Z"
   },
   {
    "duration": 23,
    "start_time": "2022-08-10T08:02:39.441Z"
   },
   {
    "duration": 24,
    "start_time": "2022-08-10T08:02:39.465Z"
   },
   {
    "duration": 246,
    "start_time": "2022-08-10T08:02:39.491Z"
   },
   {
    "duration": 299,
    "start_time": "2022-08-10T08:02:39.739Z"
   },
   {
    "duration": 154,
    "start_time": "2022-08-10T08:02:40.042Z"
   },
   {
    "duration": 5,
    "start_time": "2022-08-10T08:02:40.197Z"
   },
   {
    "duration": 19,
    "start_time": "2022-08-10T08:02:40.211Z"
   },
   {
    "duration": 16,
    "start_time": "2022-08-10T08:02:40.232Z"
   },
   {
    "duration": 7,
    "start_time": "2022-08-10T08:02:40.250Z"
   },
   {
    "duration": 12,
    "start_time": "2022-08-10T08:02:40.259Z"
   },
   {
    "duration": 47,
    "start_time": "2022-08-10T08:02:40.272Z"
   },
   {
    "duration": 207,
    "start_time": "2022-08-10T08:02:40.322Z"
   },
   {
    "duration": 1366,
    "start_time": "2022-08-10T08:02:40.532Z"
   },
   {
    "duration": 4,
    "start_time": "2022-08-10T08:02:41.900Z"
   },
   {
    "duration": 26223,
    "start_time": "2022-08-10T08:02:41.906Z"
   },
   {
    "duration": 3,
    "start_time": "2022-08-10T08:03:08.131Z"
   },
   {
    "duration": 18,
    "start_time": "2022-08-10T08:03:08.135Z"
   },
   {
    "duration": 5,
    "start_time": "2022-08-10T08:03:08.155Z"
   },
   {
    "duration": 225,
    "start_time": "2022-08-10T08:03:08.162Z"
   },
   {
    "duration": 150,
    "start_time": "2022-08-10T08:03:08.388Z"
   },
   {
    "duration": 3436,
    "start_time": "2022-08-10T08:04:52.073Z"
   },
   {
    "duration": 4,
    "start_time": "2022-08-10T08:04:55.512Z"
   },
   {
    "duration": 4,
    "start_time": "2022-08-10T08:05:01.837Z"
   },
   {
    "duration": 5,
    "start_time": "2022-08-10T08:05:10.094Z"
   },
   {
    "duration": 5,
    "start_time": "2022-08-10T08:05:15.794Z"
   },
   {
    "duration": 14,
    "start_time": "2022-08-10T08:05:17.125Z"
   },
   {
    "duration": 853,
    "start_time": "2022-08-10T08:05:23.119Z"
   },
   {
    "duration": 54,
    "start_time": "2022-08-10T08:05:52.763Z"
   },
   {
    "duration": 1368,
    "start_time": "2022-08-10T08:06:06.660Z"
   },
   {
    "duration": 47,
    "start_time": "2022-08-10T08:06:08.030Z"
   },
   {
    "duration": 12,
    "start_time": "2022-08-10T08:06:08.078Z"
   },
   {
    "duration": 5,
    "start_time": "2022-08-10T08:06:08.092Z"
   },
   {
    "duration": 16,
    "start_time": "2022-08-10T08:06:08.098Z"
   },
   {
    "duration": 6,
    "start_time": "2022-08-10T08:06:08.116Z"
   },
   {
    "duration": 20,
    "start_time": "2022-08-10T08:06:08.123Z"
   },
   {
    "duration": 227,
    "start_time": "2022-08-10T08:06:08.145Z"
   },
   {
    "duration": 285,
    "start_time": "2022-08-10T08:06:08.373Z"
   },
   {
    "duration": 151,
    "start_time": "2022-08-10T08:06:08.660Z"
   },
   {
    "duration": 4,
    "start_time": "2022-08-10T08:06:08.812Z"
   },
   {
    "duration": 33,
    "start_time": "2022-08-10T08:06:08.818Z"
   },
   {
    "duration": 14,
    "start_time": "2022-08-10T08:06:08.853Z"
   },
   {
    "duration": 29,
    "start_time": "2022-08-10T08:06:08.869Z"
   },
   {
    "duration": 22,
    "start_time": "2022-08-10T08:06:08.899Z"
   },
   {
    "duration": 32,
    "start_time": "2022-08-10T08:06:08.923Z"
   },
   {
    "duration": 161,
    "start_time": "2022-08-10T08:06:08.957Z"
   },
   {
    "duration": 895,
    "start_time": "2022-08-10T08:06:09.120Z"
   },
   {
    "duration": 5,
    "start_time": "2022-08-10T08:06:10.016Z"
   },
   {
    "duration": 29492,
    "start_time": "2022-08-10T08:06:10.022Z"
   },
   {
    "duration": 4,
    "start_time": "2022-08-10T08:06:39.515Z"
   },
   {
    "duration": 15,
    "start_time": "2022-08-10T08:06:39.521Z"
   },
   {
    "duration": 184,
    "start_time": "2022-08-10T08:06:39.537Z"
   },
   {
    "duration": 8,
    "start_time": "2022-08-10T08:06:39.723Z"
   },
   {
    "duration": 230,
    "start_time": "2022-08-10T08:06:39.733Z"
   },
   {
    "duration": 159,
    "start_time": "2022-08-10T08:06:39.965Z"
   },
   {
    "duration": 1711,
    "start_time": "2022-08-10T17:50:17.390Z"
   },
   {
    "duration": 148,
    "start_time": "2022-08-10T17:50:19.103Z"
   },
   {
    "duration": 12,
    "start_time": "2022-08-10T17:50:19.253Z"
   },
   {
    "duration": 4,
    "start_time": "2022-08-10T17:50:19.267Z"
   },
   {
    "duration": 12,
    "start_time": "2022-08-10T17:50:19.272Z"
   },
   {
    "duration": 7,
    "start_time": "2022-08-10T17:50:19.286Z"
   },
   {
    "duration": 24,
    "start_time": "2022-08-10T17:50:19.295Z"
   },
   {
    "duration": 276,
    "start_time": "2022-08-10T17:50:19.321Z"
   },
   {
    "duration": 314,
    "start_time": "2022-08-10T17:50:19.599Z"
   },
   {
    "duration": 171,
    "start_time": "2022-08-10T17:50:19.916Z"
   },
   {
    "duration": 5,
    "start_time": "2022-08-10T17:50:20.089Z"
   },
   {
    "duration": 25,
    "start_time": "2022-08-10T17:50:20.096Z"
   },
   {
    "duration": 18,
    "start_time": "2022-08-10T17:50:20.123Z"
   },
   {
    "duration": 4,
    "start_time": "2022-08-10T17:50:20.142Z"
   },
   {
    "duration": 7,
    "start_time": "2022-08-10T17:50:20.147Z"
   },
   {
    "duration": 43,
    "start_time": "2022-08-10T17:50:20.156Z"
   },
   {
    "duration": 195,
    "start_time": "2022-08-10T17:50:20.201Z"
   },
   {
    "duration": 1508,
    "start_time": "2022-08-10T17:50:20.399Z"
   },
   {
    "duration": 5,
    "start_time": "2022-08-10T17:50:21.909Z"
   },
   {
    "duration": 29312,
    "start_time": "2022-08-10T17:50:21.917Z"
   },
   {
    "duration": 3,
    "start_time": "2022-08-10T17:50:51.231Z"
   },
   {
    "duration": 17,
    "start_time": "2022-08-10T17:50:51.236Z"
   },
   {
    "duration": 103,
    "start_time": "2022-08-10T17:50:51.293Z"
   },
   {
    "duration": 22,
    "start_time": "2022-08-10T17:50:51.398Z"
   },
   {
    "duration": 237,
    "start_time": "2022-08-10T17:50:51.422Z"
   },
   {
    "duration": 185,
    "start_time": "2022-08-10T17:50:51.661Z"
   },
   {
    "duration": 1503,
    "start_time": "2022-08-10T17:52:28.418Z"
   },
   {
    "duration": 52,
    "start_time": "2022-08-10T17:52:29.923Z"
   },
   {
    "duration": 13,
    "start_time": "2022-08-10T17:52:29.977Z"
   },
   {
    "duration": 4,
    "start_time": "2022-08-10T17:52:29.992Z"
   },
   {
    "duration": 11,
    "start_time": "2022-08-10T17:52:29.998Z"
   },
   {
    "duration": 7,
    "start_time": "2022-08-10T17:52:30.011Z"
   },
   {
    "duration": 18,
    "start_time": "2022-08-10T17:52:30.020Z"
   },
   {
    "duration": 289,
    "start_time": "2022-08-10T17:52:30.040Z"
   },
   {
    "duration": 336,
    "start_time": "2022-08-10T17:52:30.330Z"
   },
   {
    "duration": 170,
    "start_time": "2022-08-10T17:52:30.669Z"
   },
   {
    "duration": 5,
    "start_time": "2022-08-10T17:52:30.841Z"
   },
   {
    "duration": 217,
    "start_time": "2022-08-10T17:52:30.847Z"
   },
   {
    "duration": 24,
    "start_time": "2022-08-10T17:52:31.066Z"
   },
   {
    "duration": 46,
    "start_time": "2022-08-10T17:52:31.093Z"
   },
   {
    "duration": 106,
    "start_time": "2022-08-10T17:52:31.140Z"
   },
   {
    "duration": 98,
    "start_time": "2022-08-10T17:52:31.248Z"
   },
   {
    "duration": 199,
    "start_time": "2022-08-10T17:52:31.347Z"
   },
   {
    "duration": 1133,
    "start_time": "2022-08-10T17:52:31.549Z"
   },
   {
    "duration": 5,
    "start_time": "2022-08-10T17:52:32.683Z"
   },
   {
    "duration": 39404,
    "start_time": "2022-08-10T17:52:32.690Z"
   },
   {
    "duration": 5,
    "start_time": "2022-08-10T17:53:12.096Z"
   },
   {
    "duration": 9,
    "start_time": "2022-08-10T17:53:12.103Z"
   },
   {
    "duration": 183,
    "start_time": "2022-08-10T17:53:12.114Z"
   },
   {
    "duration": 18,
    "start_time": "2022-08-10T17:53:12.299Z"
   },
   {
    "duration": 256,
    "start_time": "2022-08-10T17:53:12.319Z"
   },
   {
    "duration": 164,
    "start_time": "2022-08-10T17:53:12.577Z"
   },
   {
    "duration": 11,
    "start_time": "2022-08-10T17:54:17.013Z"
   },
   {
    "duration": 18,
    "start_time": "2022-08-10T17:54:17.605Z"
   },
   {
    "duration": 4,
    "start_time": "2022-08-10T17:54:17.920Z"
   },
   {
    "duration": 4,
    "start_time": "2022-08-10T17:54:18.350Z"
   },
   {
    "duration": 23,
    "start_time": "2022-08-10T17:54:19.792Z"
   },
   {
    "duration": 59,
    "start_time": "2022-08-10T17:54:20.334Z"
   },
   {
    "duration": 44981,
    "start_time": "2022-08-10T17:54:21.837Z"
   },
   {
    "duration": 4,
    "start_time": "2022-08-10T17:55:14.762Z"
   },
   {
    "duration": 9,
    "start_time": "2022-08-10T17:55:19.290Z"
   },
   {
    "duration": 44851,
    "start_time": "2022-08-10T17:55:28.773Z"
   },
   {
    "duration": 4,
    "start_time": "2022-08-10T17:56:17.805Z"
   },
   {
    "duration": 22689,
    "start_time": "2022-08-10T17:56:21.330Z"
   },
   {
    "duration": 5,
    "start_time": "2022-08-10T17:56:44.021Z"
   },
   {
    "duration": 64,
    "start_time": "2022-08-10T17:56:44.028Z"
   },
   {
    "duration": 103,
    "start_time": "2022-08-10T17:56:44.095Z"
   },
   {
    "duration": 94,
    "start_time": "2022-08-10T17:56:44.202Z"
   },
   {
    "duration": 101,
    "start_time": "2022-08-10T17:56:44.299Z"
   },
   {
    "duration": 98,
    "start_time": "2022-08-10T17:56:44.402Z"
   },
   {
    "duration": 1525,
    "start_time": "2022-08-10T17:56:57.391Z"
   },
   {
    "duration": 52,
    "start_time": "2022-08-10T17:56:58.918Z"
   },
   {
    "duration": 13,
    "start_time": "2022-08-10T17:56:58.972Z"
   },
   {
    "duration": 4,
    "start_time": "2022-08-10T17:56:58.988Z"
   },
   {
    "duration": 12,
    "start_time": "2022-08-10T17:56:58.993Z"
   },
   {
    "duration": 11,
    "start_time": "2022-08-10T17:56:59.007Z"
   },
   {
    "duration": 18,
    "start_time": "2022-08-10T17:56:59.020Z"
   },
   {
    "duration": 272,
    "start_time": "2022-08-10T17:56:59.040Z"
   },
   {
    "duration": 339,
    "start_time": "2022-08-10T17:56:59.314Z"
   },
   {
    "duration": 163,
    "start_time": "2022-08-10T17:56:59.656Z"
   },
   {
    "duration": 5,
    "start_time": "2022-08-10T17:56:59.820Z"
   },
   {
    "duration": 40,
    "start_time": "2022-08-10T17:56:59.827Z"
   },
   {
    "duration": 23,
    "start_time": "2022-08-10T17:56:59.869Z"
   },
   {
    "duration": 4,
    "start_time": "2022-08-10T17:56:59.894Z"
   },
   {
    "duration": 7,
    "start_time": "2022-08-10T17:56:59.900Z"
   },
   {
    "duration": 35,
    "start_time": "2022-08-10T17:56:59.908Z"
   },
   {
    "duration": 102,
    "start_time": "2022-08-10T17:56:59.993Z"
   },
   {
    "duration": 10807,
    "start_time": "2022-08-10T17:57:00.098Z"
   },
   {
    "duration": 4,
    "start_time": "2022-08-10T17:57:10.907Z"
   },
   {
    "duration": 22572,
    "start_time": "2022-08-10T17:57:10.913Z"
   },
   {
    "duration": 6,
    "start_time": "2022-08-10T17:57:33.487Z"
   },
   {
    "duration": 16,
    "start_time": "2022-08-10T17:57:33.495Z"
   },
   {
    "duration": 185,
    "start_time": "2022-08-10T17:57:33.514Z"
   },
   {
    "duration": 18,
    "start_time": "2022-08-10T17:57:33.701Z"
   },
   {
    "duration": 258,
    "start_time": "2022-08-10T17:57:33.721Z"
   },
   {
    "duration": 176,
    "start_time": "2022-08-10T17:57:33.982Z"
   },
   {
    "duration": 1639,
    "start_time": "2022-08-10T17:58:00.964Z"
   },
   {
    "duration": 52,
    "start_time": "2022-08-10T17:58:02.605Z"
   },
   {
    "duration": 11,
    "start_time": "2022-08-10T17:58:02.659Z"
   },
   {
    "duration": 4,
    "start_time": "2022-08-10T17:58:02.672Z"
   },
   {
    "duration": 16,
    "start_time": "2022-08-10T17:58:02.678Z"
   },
   {
    "duration": 10,
    "start_time": "2022-08-10T17:58:02.696Z"
   },
   {
    "duration": 15,
    "start_time": "2022-08-10T17:58:02.707Z"
   },
   {
    "duration": 279,
    "start_time": "2022-08-10T17:58:02.723Z"
   },
   {
    "duration": 343,
    "start_time": "2022-08-10T17:58:03.004Z"
   },
   {
    "duration": 178,
    "start_time": "2022-08-10T17:58:03.350Z"
   },
   {
    "duration": 5,
    "start_time": "2022-08-10T17:58:03.530Z"
   },
   {
    "duration": 28,
    "start_time": "2022-08-10T17:58:03.536Z"
   },
   {
    "duration": 35,
    "start_time": "2022-08-10T17:58:03.566Z"
   },
   {
    "duration": 3,
    "start_time": "2022-08-10T17:58:03.603Z"
   },
   {
    "duration": 6,
    "start_time": "2022-08-10T17:58:03.608Z"
   },
   {
    "duration": 78,
    "start_time": "2022-08-10T17:58:03.616Z"
   },
   {
    "duration": 100,
    "start_time": "2022-08-10T17:58:03.695Z"
   },
   {
    "duration": 12025,
    "start_time": "2022-08-10T17:58:03.797Z"
   },
   {
    "duration": 5,
    "start_time": "2022-08-10T17:58:15.823Z"
   },
   {
    "duration": 30859,
    "start_time": "2022-08-10T17:58:15.830Z"
   },
   {
    "duration": 4,
    "start_time": "2022-08-10T17:58:46.691Z"
   },
   {
    "duration": 12,
    "start_time": "2022-08-10T17:58:46.697Z"
   },
   {
    "duration": 89,
    "start_time": "2022-08-10T17:58:46.711Z"
   },
   {
    "duration": 27,
    "start_time": "2022-08-10T17:58:46.891Z"
   },
   {
    "duration": 263,
    "start_time": "2022-08-10T17:58:46.920Z"
   },
   {
    "duration": 163,
    "start_time": "2022-08-10T17:58:47.185Z"
   },
   {
    "duration": 1250,
    "start_time": "2022-08-10T18:00:20.589Z"
   },
   {
    "duration": 5,
    "start_time": "2022-08-10T18:00:21.842Z"
   },
   {
    "duration": 5,
    "start_time": "2022-08-10T18:00:26.851Z"
   },
   {
    "duration": 1716,
    "start_time": "2022-08-10T18:14:36.076Z"
   },
   {
    "duration": 58,
    "start_time": "2022-08-10T18:14:37.794Z"
   },
   {
    "duration": 12,
    "start_time": "2022-08-10T18:14:37.854Z"
   },
   {
    "duration": 7,
    "start_time": "2022-08-10T18:14:37.868Z"
   },
   {
    "duration": 17,
    "start_time": "2022-08-10T18:14:37.877Z"
   },
   {
    "duration": 13,
    "start_time": "2022-08-10T18:14:37.895Z"
   },
   {
    "duration": 13,
    "start_time": "2022-08-10T18:14:37.910Z"
   },
   {
    "duration": 273,
    "start_time": "2022-08-10T18:14:37.925Z"
   },
   {
    "duration": 329,
    "start_time": "2022-08-10T18:14:38.200Z"
   },
   {
    "duration": 194,
    "start_time": "2022-08-10T18:14:38.532Z"
   },
   {
    "duration": 4,
    "start_time": "2022-08-10T18:14:38.728Z"
   },
   {
    "duration": 29,
    "start_time": "2022-08-10T18:14:38.734Z"
   },
   {
    "duration": 17,
    "start_time": "2022-08-10T18:14:38.765Z"
   },
   {
    "duration": 9,
    "start_time": "2022-08-10T18:14:38.784Z"
   },
   {
    "duration": 7,
    "start_time": "2022-08-10T18:14:38.795Z"
   },
   {
    "duration": 93,
    "start_time": "2022-08-10T18:14:38.803Z"
   },
   {
    "duration": 101,
    "start_time": "2022-08-10T18:14:38.898Z"
   },
   {
    "duration": 1998,
    "start_time": "2022-08-10T18:14:39.002Z"
   },
   {
    "duration": 5,
    "start_time": "2022-08-10T18:14:41.001Z"
   },
   {
    "duration": 23198,
    "start_time": "2022-08-10T18:14:41.008Z"
   },
   {
    "duration": 5,
    "start_time": "2022-08-10T18:15:04.208Z"
   },
   {
    "duration": 321,
    "start_time": "2022-08-10T18:15:04.215Z"
   },
   {
    "duration": 0,
    "start_time": "2022-08-10T18:15:04.538Z"
   },
   {
    "duration": 0,
    "start_time": "2022-08-10T18:15:04.539Z"
   },
   {
    "duration": 0,
    "start_time": "2022-08-10T18:15:04.540Z"
   },
   {
    "duration": 0,
    "start_time": "2022-08-10T18:15:04.541Z"
   },
   {
    "duration": 0,
    "start_time": "2022-08-10T18:15:04.542Z"
   },
   {
    "duration": 0,
    "start_time": "2022-08-10T18:15:04.543Z"
   },
   {
    "duration": 1607,
    "start_time": "2022-08-10T18:15:34.092Z"
   },
   {
    "duration": 51,
    "start_time": "2022-08-10T18:15:35.702Z"
   },
   {
    "duration": 12,
    "start_time": "2022-08-10T18:15:35.755Z"
   },
   {
    "duration": 36,
    "start_time": "2022-08-10T18:15:35.770Z"
   },
   {
    "duration": 35,
    "start_time": "2022-08-10T18:15:35.808Z"
   },
   {
    "duration": 14,
    "start_time": "2022-08-10T18:15:35.845Z"
   },
   {
    "duration": 40,
    "start_time": "2022-08-10T18:15:35.861Z"
   },
   {
    "duration": 283,
    "start_time": "2022-08-10T18:15:35.903Z"
   },
   {
    "duration": 316,
    "start_time": "2022-08-10T18:15:36.188Z"
   },
   {
    "duration": 166,
    "start_time": "2022-08-10T18:15:36.507Z"
   },
   {
    "duration": 4,
    "start_time": "2022-08-10T18:15:36.675Z"
   },
   {
    "duration": 61,
    "start_time": "2022-08-10T18:15:36.681Z"
   },
   {
    "duration": 17,
    "start_time": "2022-08-10T18:15:36.744Z"
   },
   {
    "duration": 17,
    "start_time": "2022-08-10T18:15:36.762Z"
   },
   {
    "duration": 22,
    "start_time": "2022-08-10T18:15:36.780Z"
   },
   {
    "duration": 91,
    "start_time": "2022-08-10T18:15:36.803Z"
   },
   {
    "duration": 102,
    "start_time": "2022-08-10T18:15:36.898Z"
   },
   {
    "duration": 1799,
    "start_time": "2022-08-10T18:15:37.002Z"
   },
   {
    "duration": 4,
    "start_time": "2022-08-10T18:15:38.803Z"
   },
   {
    "duration": 27234,
    "start_time": "2022-08-10T18:15:38.809Z"
   },
   {
    "duration": 4,
    "start_time": "2022-08-10T18:16:06.045Z"
   },
   {
    "duration": 43,
    "start_time": "2022-08-10T18:16:06.050Z"
   },
   {
    "duration": 105,
    "start_time": "2022-08-10T18:16:06.096Z"
   },
   {
    "duration": 19,
    "start_time": "2022-08-10T18:16:06.203Z"
   },
   {
    "duration": 319,
    "start_time": "2022-08-10T18:16:06.224Z"
   },
   {
    "duration": 119,
    "start_time": "2022-08-10T18:16:06.545Z"
   },
   {
    "duration": 0,
    "start_time": "2022-08-10T18:16:06.665Z"
   },
   {
    "duration": 0,
    "start_time": "2022-08-10T18:16:06.667Z"
   },
   {
    "duration": 11,
    "start_time": "2022-08-10T18:16:33.601Z"
   },
   {
    "duration": 11,
    "start_time": "2022-08-10T18:16:40.764Z"
   },
   {
    "duration": 5412,
    "start_time": "2022-08-10T18:16:54.133Z"
   },
   {
    "duration": 5,
    "start_time": "2022-08-10T18:17:23.588Z"
   },
   {
    "duration": 156,
    "start_time": "2022-08-10T18:17:25.033Z"
   },
   {
    "duration": 178,
    "start_time": "2022-08-10T18:17:45.906Z"
   },
   {
    "duration": 1719,
    "start_time": "2022-08-10T18:17:55.944Z"
   },
   {
    "duration": 53,
    "start_time": "2022-08-10T18:17:57.665Z"
   },
   {
    "duration": 13,
    "start_time": "2022-08-10T18:17:57.720Z"
   },
   {
    "duration": 4,
    "start_time": "2022-08-10T18:17:57.736Z"
   },
   {
    "duration": 11,
    "start_time": "2022-08-10T18:17:57.742Z"
   },
   {
    "duration": 7,
    "start_time": "2022-08-10T18:17:57.755Z"
   },
   {
    "duration": 35,
    "start_time": "2022-08-10T18:17:57.764Z"
   },
   {
    "duration": 287,
    "start_time": "2022-08-10T18:17:57.801Z"
   },
   {
    "duration": 331,
    "start_time": "2022-08-10T18:17:58.091Z"
   },
   {
    "duration": 169,
    "start_time": "2022-08-10T18:17:58.425Z"
   },
   {
    "duration": 5,
    "start_time": "2022-08-10T18:17:58.595Z"
   },
   {
    "duration": 27,
    "start_time": "2022-08-10T18:17:58.601Z"
   },
   {
    "duration": 17,
    "start_time": "2022-08-10T18:17:58.630Z"
   },
   {
    "duration": 4,
    "start_time": "2022-08-10T18:17:58.649Z"
   },
   {
    "duration": 5,
    "start_time": "2022-08-10T18:17:58.654Z"
   },
   {
    "duration": 46,
    "start_time": "2022-08-10T18:17:58.661Z"
   },
   {
    "duration": 101,
    "start_time": "2022-08-10T18:17:58.797Z"
   },
   {
    "duration": 2382,
    "start_time": "2022-08-10T18:17:58.901Z"
   },
   {
    "duration": 5,
    "start_time": "2022-08-10T18:18:01.285Z"
   },
   {
    "duration": 31775,
    "start_time": "2022-08-10T18:18:01.292Z"
   },
   {
    "duration": 4,
    "start_time": "2022-08-10T18:18:33.068Z"
   },
   {
    "duration": 21,
    "start_time": "2022-08-10T18:18:33.074Z"
   },
   {
    "duration": 198,
    "start_time": "2022-08-10T18:18:33.097Z"
   },
   {
    "duration": 16,
    "start_time": "2022-08-10T18:18:33.297Z"
   },
   {
    "duration": 260,
    "start_time": "2022-08-10T18:18:33.315Z"
   },
   {
    "duration": 160,
    "start_time": "2022-08-10T18:18:33.578Z"
   },
   {
    "duration": 6,
    "start_time": "2022-08-10T18:18:33.739Z"
   },
   {
    "duration": 174,
    "start_time": "2022-08-10T18:18:33.748Z"
   },
   {
    "duration": 26,
    "start_time": "2022-08-10T18:20:46.523Z"
   },
   {
    "duration": 3081,
    "start_time": "2022-08-10T18:21:30.502Z"
   },
   {
    "duration": 21,
    "start_time": "2022-08-10T18:22:00.099Z"
   },
   {
    "duration": 22,
    "start_time": "2022-08-10T18:22:09.526Z"
   },
   {
    "duration": 26,
    "start_time": "2022-08-10T18:22:13.096Z"
   },
   {
    "duration": 15,
    "start_time": "2022-08-10T18:22:34.033Z"
   },
   {
    "duration": 2917,
    "start_time": "2022-08-10T18:22:55.239Z"
   },
   {
    "duration": 15,
    "start_time": "2022-08-10T18:24:03.869Z"
   },
   {
    "duration": 2811,
    "start_time": "2022-08-10T18:24:04.497Z"
   },
   {
    "duration": 1449,
    "start_time": "2022-08-10T18:24:51.945Z"
   },
   {
    "duration": 53,
    "start_time": "2022-08-10T18:24:53.396Z"
   },
   {
    "duration": 11,
    "start_time": "2022-08-10T18:24:53.451Z"
   },
   {
    "duration": 8,
    "start_time": "2022-08-10T18:24:53.464Z"
   },
   {
    "duration": 14,
    "start_time": "2022-08-10T18:24:53.473Z"
   },
   {
    "duration": 7,
    "start_time": "2022-08-10T18:24:53.488Z"
   },
   {
    "duration": 13,
    "start_time": "2022-08-10T18:24:53.497Z"
   },
   {
    "duration": 300,
    "start_time": "2022-08-10T18:24:53.512Z"
   },
   {
    "duration": 377,
    "start_time": "2022-08-10T18:24:53.813Z"
   },
   {
    "duration": 164,
    "start_time": "2022-08-10T18:24:54.193Z"
   },
   {
    "duration": 5,
    "start_time": "2022-08-10T18:24:54.358Z"
   },
   {
    "duration": 37,
    "start_time": "2022-08-10T18:24:54.364Z"
   },
   {
    "duration": 17,
    "start_time": "2022-08-10T18:24:54.403Z"
   },
   {
    "duration": 4,
    "start_time": "2022-08-10T18:24:54.421Z"
   },
   {
    "duration": 4,
    "start_time": "2022-08-10T18:24:54.427Z"
   },
   {
    "duration": 65,
    "start_time": "2022-08-10T18:24:54.433Z"
   },
   {
    "duration": 100,
    "start_time": "2022-08-10T18:24:54.499Z"
   },
   {
    "duration": 1673,
    "start_time": "2022-08-10T18:24:54.601Z"
   },
   {
    "duration": 4,
    "start_time": "2022-08-10T18:24:56.276Z"
   },
   {
    "duration": 22709,
    "start_time": "2022-08-10T18:24:56.281Z"
   },
   {
    "duration": 4,
    "start_time": "2022-08-10T18:25:18.992Z"
   },
   {
    "duration": 22,
    "start_time": "2022-08-10T18:25:18.998Z"
   },
   {
    "duration": 2805,
    "start_time": "2022-08-10T18:25:19.021Z"
   },
   {
    "duration": 15,
    "start_time": "2022-08-10T18:25:21.828Z"
   },
   {
    "duration": 129,
    "start_time": "2022-08-10T18:25:21.891Z"
   },
   {
    "duration": 53,
    "start_time": "2022-08-10T18:25:22.022Z"
   },
   {
    "duration": 278,
    "start_time": "2022-08-10T18:25:22.077Z"
   },
   {
    "duration": 150,
    "start_time": "2022-08-10T18:25:22.359Z"
   },
   {
    "duration": 5,
    "start_time": "2022-08-10T18:25:22.511Z"
   },
   {
    "duration": 163,
    "start_time": "2022-08-10T18:25:22.518Z"
   },
   {
    "duration": 16,
    "start_time": "2022-08-10T18:26:08.070Z"
   }
  ],
  "kernelspec": {
   "display_name": "Python 3 (ipykernel)",
   "language": "python",
   "name": "python3"
  },
  "language_info": {
   "codemirror_mode": {
    "name": "ipython",
    "version": 3
   },
   "file_extension": ".py",
   "mimetype": "text/x-python",
   "name": "python",
   "nbconvert_exporter": "python",
   "pygments_lexer": "ipython3",
   "version": "3.9.13"
  },
  "toc": {
   "base_numbering": 1,
   "nav_menu": {},
   "number_sections": true,
   "sideBar": true,
   "skip_h1_title": true,
   "title_cell": "Содержание",
   "title_sidebar": "Contents",
   "toc_cell": true,
   "toc_position": {},
   "toc_section_display": true,
   "toc_window_display": false
  }
 },
 "nbformat": 4,
 "nbformat_minor": 2
}
