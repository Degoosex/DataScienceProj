{
 "cells": [
  {
   "cell_type": "markdown",
   "metadata": {},
   "source": [
    "# ПРОЕКТ ТЕЛЕКОМ"
   ]
  },
  {
   "cell_type": "markdown",
   "metadata": {},
   "source": [
    "# Описание проекта\n",
    "Оператор связи хочет научиться прогнозировать отток клиентов. Если выяснится, что пользователь планирует уйти, ему будут предложены промокоды и специальные условия. Команда оператора собрала персональные данные о некоторых клиентах, информацию об их тарифах и договорах."
   ]
  },
  {
   "cell_type": "markdown",
   "metadata": {},
   "source": [
    "# Описание услуг\n",
    "\n",
    "Оператор предоставляет два основных типа услуг: \n",
    "\n",
    "1. Стационарную телефонную связь. Возможно подключение телефонного аппарата к нескольким линиям одновременно.\n",
    "2. Интернет. Подключение может быть двух типов: через телефонную линию (DSL*,* от англ. *digital subscriber line*, «цифровая абонентская линия») или оптоволоконный кабель (*Fiber optic*).  \n",
    "\n",
    "Также доступны такие услуги:\n",
    "\n",
    "- Интернет-безопасность: антивирус (*DeviceProtection*) и блокировка небезопасных сайтов (*OnlineSecurity*);\n",
    "- Выделенная линия технической поддержки (*TechSupport*);\n",
    "- Облачное хранилище файлов для резервного копирования данных (*OnlineBackup*);\n",
    "- Стриминговое телевидение (*StreamingTV*) и каталог фильмов (*StreamingMovies*).\n",
    "\n",
    "За услуги клиенты могут платить каждый месяц или заключить договор на 1–2 года. Доступны различные способы расчёта и возможность получения электронного чека."
   ]
  },
  {
   "cell_type": "markdown",
   "metadata": {},
   "source": [
    "# Описание данных\n",
    "\n",
    "Данные состоят из файлов, полученных из разных источников:\n",
    "\n",
    "- `contract.csv` — информация о договоре;\n",
    "- `personal.csv` — персональные данные клиента;\n",
    "- `internet.csv` — информация об интернет-услугах;\n",
    "- `phone.csv` — информация об услугах телефонии.\n",
    "\n",
    "Во всех файлах столбец `customerID` содержит код клиента.\n",
    "\n",
    "Информация о договорах актуальна на 1 февраля 2020."
   ]
  },
  {
   "cell_type": "markdown",
   "metadata": {},
   "source": [
    "# План работ\n",
    "1. Исследовательский анализ данных (в данном этапе проведем анализ, выделим целевой признак, выведем релевантный график и отчет)\n",
    "2. Объединение таблиц и проверка данных (заджойним таблицы и посмотрим пропуски или другую информацю, которая вылезет в последствии, исправим и сделаем анализ корреляции признаков)\n",
    "3. Обучение моделей LightGBM и Random Forest (энкодинг категоральных признаков, разделение на выборки, обучение моделей и тюнинг параметров по метрике AUC-ROC)\n",
    "4. Проверка лучшей модели на тестовой выборке \n",
    "5. Вывод\n"
   ]
  },
  {
   "cell_type": "markdown",
   "metadata": {},
   "source": [
    "## Исследовательский анализ данных\n",
    "Сперва импортируем необходимые библиотеки"
   ]
  },
  {
   "cell_type": "code",
   "execution_count": 1,
   "metadata": {
    "scrolled": true
   },
   "outputs": [],
   "source": [
    "import pandas as pd\n",
    "import numpy as np\n",
    "import matplotlib.pyplot as plt\n",
    "import seaborn as sns\n",
    "pd.options.display.float_format = '{:,.2f}'.format\n",
    "pd.options.mode.chained_assignment = None\n",
    "from sklearn.model_selection import train_test_split, RandomizedSearchCV\n",
    "from sklearn.metrics import accuracy_score, roc_curve, roc_auc_score\n",
    "from sklearn.ensemble import RandomForestClassifier\n",
    "from sklearn.preprocessing import StandardScaler, OrdinalEncoder\n",
    "from sklearn.utils import shuffle\n",
    "import lightgbm as lgb"
   ]
  },
  {
   "cell_type": "code",
   "execution_count": 2,
   "metadata": {},
   "outputs": [
    {
     "name": "stdout",
     "output_type": "stream",
     "text": [
      "Requirement already satisfied: phik in /opt/conda/lib/python3.9/site-packages (0.12.2)\n",
      "Requirement already satisfied: pandas>=0.25.1 in /opt/conda/lib/python3.9/site-packages (from phik) (1.2.4)\n",
      "Requirement already satisfied: joblib>=0.14.1 in /opt/conda/lib/python3.9/site-packages (from phik) (1.1.0)\n",
      "Requirement already satisfied: scipy>=1.5.2 in /opt/conda/lib/python3.9/site-packages (from phik) (1.9.1)\n",
      "Requirement already satisfied: numpy>=1.18.0 in /opt/conda/lib/python3.9/site-packages (from phik) (1.21.1)\n",
      "Requirement already satisfied: matplotlib>=2.2.3 in /opt/conda/lib/python3.9/site-packages (from phik) (3.3.4)\n",
      "Requirement already satisfied: cycler>=0.10 in /opt/conda/lib/python3.9/site-packages (from matplotlib>=2.2.3->phik) (0.11.0)\n",
      "Requirement already satisfied: pillow>=6.2.0 in /opt/conda/lib/python3.9/site-packages (from matplotlib>=2.2.3->phik) (8.4.0)\n",
      "Requirement already satisfied: pyparsing!=2.0.4,!=2.1.2,!=2.1.6,>=2.0.3 in /opt/conda/lib/python3.9/site-packages (from matplotlib>=2.2.3->phik) (2.4.7)\n",
      "Requirement already satisfied: kiwisolver>=1.0.1 in /opt/conda/lib/python3.9/site-packages (from matplotlib>=2.2.3->phik) (1.4.4)\n",
      "Requirement already satisfied: python-dateutil>=2.1 in /opt/conda/lib/python3.9/site-packages (from matplotlib>=2.2.3->phik) (2.8.1)\n",
      "Requirement already satisfied: pytz>=2017.3 in /opt/conda/lib/python3.9/site-packages (from pandas>=0.25.1->phik) (2021.1)\n",
      "Requirement already satisfied: six>=1.5 in /opt/conda/lib/python3.9/site-packages (from python-dateutil>=2.1->matplotlib>=2.2.3->phik) (1.16.0)\n",
      "Note: you may need to restart the kernel to use updated packages.\n"
     ]
    }
   ],
   "source": [
    "pip install phik"
   ]
  },
  {
   "cell_type": "code",
   "execution_count": 3,
   "metadata": {},
   "outputs": [],
   "source": [
    "import phik\n",
    "from phik.report import plot_correlation_matrix\n",
    "from phik import report"
   ]
  },
  {
   "cell_type": "markdown",
   "metadata": {},
   "source": [
    "Наш датасет состоит из четырех таблиц. Сначала осмотрим каждую отдельно. "
   ]
  },
  {
   "cell_type": "code",
   "execution_count": 4,
   "metadata": {},
   "outputs": [
    {
     "data": {
      "text/html": [
       "<div>\n",
       "<style scoped>\n",
       "    .dataframe tbody tr th:only-of-type {\n",
       "        vertical-align: middle;\n",
       "    }\n",
       "\n",
       "    .dataframe tbody tr th {\n",
       "        vertical-align: top;\n",
       "    }\n",
       "\n",
       "    .dataframe thead th {\n",
       "        text-align: right;\n",
       "    }\n",
       "</style>\n",
       "<table border=\"1\" class=\"dataframe\">\n",
       "  <thead>\n",
       "    <tr style=\"text-align: right;\">\n",
       "      <th></th>\n",
       "      <th>customerID</th>\n",
       "      <th>BeginDate</th>\n",
       "      <th>EndDate</th>\n",
       "      <th>Type</th>\n",
       "      <th>PaperlessBilling</th>\n",
       "      <th>PaymentMethod</th>\n",
       "      <th>MonthlyCharges</th>\n",
       "      <th>TotalCharges</th>\n",
       "    </tr>\n",
       "  </thead>\n",
       "  <tbody>\n",
       "    <tr>\n",
       "      <th>0</th>\n",
       "      <td>7590-VHVEG</td>\n",
       "      <td>2020-01-01</td>\n",
       "      <td>No</td>\n",
       "      <td>Month-to-month</td>\n",
       "      <td>Yes</td>\n",
       "      <td>Electronic check</td>\n",
       "      <td>29.85</td>\n",
       "      <td>29.85</td>\n",
       "    </tr>\n",
       "    <tr>\n",
       "      <th>1</th>\n",
       "      <td>5575-GNVDE</td>\n",
       "      <td>2017-04-01</td>\n",
       "      <td>No</td>\n",
       "      <td>One year</td>\n",
       "      <td>No</td>\n",
       "      <td>Mailed check</td>\n",
       "      <td>56.95</td>\n",
       "      <td>1889.5</td>\n",
       "    </tr>\n",
       "    <tr>\n",
       "      <th>2</th>\n",
       "      <td>3668-QPYBK</td>\n",
       "      <td>2019-10-01</td>\n",
       "      <td>2019-12-01 00:00:00</td>\n",
       "      <td>Month-to-month</td>\n",
       "      <td>Yes</td>\n",
       "      <td>Mailed check</td>\n",
       "      <td>53.85</td>\n",
       "      <td>108.15</td>\n",
       "    </tr>\n",
       "    <tr>\n",
       "      <th>3</th>\n",
       "      <td>7795-CFOCW</td>\n",
       "      <td>2016-05-01</td>\n",
       "      <td>No</td>\n",
       "      <td>One year</td>\n",
       "      <td>No</td>\n",
       "      <td>Bank transfer (automatic)</td>\n",
       "      <td>42.30</td>\n",
       "      <td>1840.75</td>\n",
       "    </tr>\n",
       "    <tr>\n",
       "      <th>4</th>\n",
       "      <td>9237-HQITU</td>\n",
       "      <td>2019-09-01</td>\n",
       "      <td>2019-11-01 00:00:00</td>\n",
       "      <td>Month-to-month</td>\n",
       "      <td>Yes</td>\n",
       "      <td>Electronic check</td>\n",
       "      <td>70.70</td>\n",
       "      <td>151.65</td>\n",
       "    </tr>\n",
       "  </tbody>\n",
       "</table>\n",
       "</div>"
      ],
      "text/plain": [
       "   customerID   BeginDate              EndDate            Type  \\\n",
       "0  7590-VHVEG  2020-01-01                   No  Month-to-month   \n",
       "1  5575-GNVDE  2017-04-01                   No        One year   \n",
       "2  3668-QPYBK  2019-10-01  2019-12-01 00:00:00  Month-to-month   \n",
       "3  7795-CFOCW  2016-05-01                   No        One year   \n",
       "4  9237-HQITU  2019-09-01  2019-11-01 00:00:00  Month-to-month   \n",
       "\n",
       "  PaperlessBilling              PaymentMethod  MonthlyCharges TotalCharges  \n",
       "0              Yes           Electronic check           29.85        29.85  \n",
       "1               No               Mailed check           56.95       1889.5  \n",
       "2              Yes               Mailed check           53.85       108.15  \n",
       "3               No  Bank transfer (automatic)           42.30      1840.75  \n",
       "4              Yes           Electronic check           70.70       151.65  "
      ]
     },
     "execution_count": 4,
     "metadata": {},
     "output_type": "execute_result"
    }
   ],
   "source": [
    "contract = pd.read_csv('/datasets/final_provider/contract.csv')\n",
    "contract.head() # 5 верхних строк"
   ]
  },
  {
   "cell_type": "code",
   "execution_count": 5,
   "metadata": {},
   "outputs": [
    {
     "name": "stdout",
     "output_type": "stream",
     "text": [
      "<class 'pandas.core.frame.DataFrame'>\n",
      "RangeIndex: 7043 entries, 0 to 7042\n",
      "Data columns (total 8 columns):\n",
      " #   Column            Non-Null Count  Dtype  \n",
      "---  ------            --------------  -----  \n",
      " 0   customerID        7043 non-null   object \n",
      " 1   BeginDate         7043 non-null   object \n",
      " 2   EndDate           7043 non-null   object \n",
      " 3   Type              7043 non-null   object \n",
      " 4   PaperlessBilling  7043 non-null   object \n",
      " 5   PaymentMethod     7043 non-null   object \n",
      " 6   MonthlyCharges    7043 non-null   float64\n",
      " 7   TotalCharges      7043 non-null   object \n",
      "dtypes: float64(1), object(7)\n",
      "memory usage: 440.3+ KB\n"
     ]
    }
   ],
   "source": [
    "contract.info() # информация о файле"
   ]
  },
  {
   "cell_type": "markdown",
   "metadata": {},
   "source": [
    "В первой таблице присутствует основная информация о клиентах  Нам нужно определить целевой признак, но его здесь нет. Сделаем его сами. Сперва нужно изменить тип данных у столбцов, чтобы он совпадал с хранящейся там информацией, затем по столбцуц EndDate выведем целевой признак. Если даты окончания договора нет, то клиента обозначим цифрой 1 (является абонентом), если будет дата - обозначим 0 (ушел). Паралельно изменим типы данных у других столбцов для анализа.  "
   ]
  },
  {
   "cell_type": "code",
   "execution_count": 6,
   "metadata": {},
   "outputs": [],
   "source": [
    "contract['BeginDate'] = pd.to_datetime(contract['BeginDate'], format = '%Y-%m-%d')\n",
    "contract['EndDate'].loc[contract['EndDate'] == 'No'] = '2020-02-01'\n",
    "contract['EndDate'] = pd.to_datetime(contract['EndDate'], format = '%Y-%m-%d')\n",
    "contract['still_here'] = 0\n",
    "contract['still_here'].loc[contract['EndDate'] == '2020-02-01'] = 1"
   ]
  },
  {
   "cell_type": "code",
   "execution_count": 7,
   "metadata": {},
   "outputs": [
    {
     "data": {
      "text/plain": [
       "1    5174\n",
       "0    1869\n",
       "Name: still_here, dtype: int64"
      ]
     },
     "execution_count": 7,
     "metadata": {},
     "output_type": "execute_result"
    }
   ],
   "source": [
    "x = contract['still_here'].value_counts()\n",
    "x"
   ]
  },
  {
   "cell_type": "code",
   "execution_count": 8,
   "metadata": {},
   "outputs": [
    {
     "data": {
      "image/png": "[encoded data removed]",
      "text/plain": [
       "<Figure size 432x432 with 1 Axes>"
      ]
     },
     "metadata": {},
     "output_type": "display_data"
    }
   ],
   "source": [
    "fig = plt.figure()\n",
    "fig.set_figwidth(6)\n",
    "fig.set_figheight(6)\n",
    "plt.pie(x, labels=['Клиент', 'Ушел'])\n",
    "plt.title('Распределение текущих абонентов в датасете')\n",
    "plt.show()"
   ]
  },
  {
   "cell_type": "markdown",
   "metadata": {},
   "source": [
    "По графику видим, что в данных присутствует дисбаланс. В целевом признаке четверть данных о клиентах, которые ушли, а 3/4 являются абонентами. \\\n",
    "Добавим еще один признак: кол-во дней, в течение которого клиент являлся абонентом. Нарисуем гистограмму и рассмотрим поближе. "
   ]
  },
  {
   "cell_type": "code",
   "execution_count": 9,
   "metadata": {},
   "outputs": [
    {
     "data": {
      "image/png": "[encoded data removed]",
      "text/plain": [
       "<Figure size 1008x288 with 1 Axes>"
      ]
     },
     "metadata": {
      "needs_background": "light"
     },
     "output_type": "display_data"
    }
   ],
   "source": [
    "contract['loyalty'] = contract['EndDate'] - contract['BeginDate']\n",
    "contract['loyalty'].astype(int)\n",
    "contract['loyalty'] = contract['loyalty'] / np.timedelta64(1, 'D')\n",
    "contract['loyalty'].hist(figsize=(14,4), bins=100);"
   ]
  },
  {
   "cell_type": "code",
   "execution_count": 10,
   "metadata": {},
   "outputs": [
    {
     "data": {
      "text/plain": [
       "count   7,043.00\n",
       "mean      986.00\n",
       "std       747.59\n",
       "min         0.00\n",
       "25%       273.00\n",
       "50%       883.00\n",
       "75%     1,676.00\n",
       "max     2,191.00\n",
       "Name: loyalty, dtype: float64"
      ]
     },
     "execution_count": 10,
     "metadata": {},
     "output_type": "execute_result"
    }
   ],
   "source": [
    "contract['loyalty'].describe()"
   ]
  },
  {
   "cell_type": "markdown",
   "metadata": {},
   "source": [
    "На графике видим два пика: первый пик в самом начале показывает тех, кто долго не пробыл абонентом, второй пик в самом конце гистрограммы показывает текущих клиентов. Между двумя пиками видим что отток клиентов примерно одинаковый независимо от кол-ва дней. Проверим данные на аномалии. "
   ]
  },
  {
   "cell_type": "code",
   "execution_count": 11,
   "metadata": {},
   "outputs": [
    {
     "data": {
      "text/html": [
       "<div>\n",
       "<style scoped>\n",
       "    .dataframe tbody tr th:only-of-type {\n",
       "        vertical-align: middle;\n",
       "    }\n",
       "\n",
       "    .dataframe tbody tr th {\n",
       "        vertical-align: top;\n",
       "    }\n",
       "\n",
       "    .dataframe thead th {\n",
       "        text-align: right;\n",
       "    }\n",
       "</style>\n",
       "<table border=\"1\" class=\"dataframe\">\n",
       "  <thead>\n",
       "    <tr style=\"text-align: right;\">\n",
       "      <th></th>\n",
       "      <th>customerID</th>\n",
       "      <th>BeginDate</th>\n",
       "      <th>EndDate</th>\n",
       "      <th>Type</th>\n",
       "      <th>PaperlessBilling</th>\n",
       "      <th>PaymentMethod</th>\n",
       "      <th>MonthlyCharges</th>\n",
       "      <th>TotalCharges</th>\n",
       "      <th>still_here</th>\n",
       "      <th>loyalty</th>\n",
       "    </tr>\n",
       "  </thead>\n",
       "  <tbody>\n",
       "    <tr>\n",
       "      <th>488</th>\n",
       "      <td>4472-LVYGI</td>\n",
       "      <td>2020-02-01</td>\n",
       "      <td>2020-02-01</td>\n",
       "      <td>Two year</td>\n",
       "      <td>Yes</td>\n",
       "      <td>Bank transfer (automatic)</td>\n",
       "      <td>52.55</td>\n",
       "      <td></td>\n",
       "      <td>1</td>\n",
       "      <td>0.00</td>\n",
       "    </tr>\n",
       "    <tr>\n",
       "      <th>753</th>\n",
       "      <td>3115-CZMZD</td>\n",
       "      <td>2020-02-01</td>\n",
       "      <td>2020-02-01</td>\n",
       "      <td>Two year</td>\n",
       "      <td>No</td>\n",
       "      <td>Mailed check</td>\n",
       "      <td>20.25</td>\n",
       "      <td></td>\n",
       "      <td>1</td>\n",
       "      <td>0.00</td>\n",
       "    </tr>\n",
       "    <tr>\n",
       "      <th>936</th>\n",
       "      <td>5709-LVOEQ</td>\n",
       "      <td>2020-02-01</td>\n",
       "      <td>2020-02-01</td>\n",
       "      <td>Two year</td>\n",
       "      <td>No</td>\n",
       "      <td>Mailed check</td>\n",
       "      <td>80.85</td>\n",
       "      <td></td>\n",
       "      <td>1</td>\n",
       "      <td>0.00</td>\n",
       "    </tr>\n",
       "    <tr>\n",
       "      <th>1082</th>\n",
       "      <td>4367-NUYAO</td>\n",
       "      <td>2020-02-01</td>\n",
       "      <td>2020-02-01</td>\n",
       "      <td>Two year</td>\n",
       "      <td>No</td>\n",
       "      <td>Mailed check</td>\n",
       "      <td>25.75</td>\n",
       "      <td></td>\n",
       "      <td>1</td>\n",
       "      <td>0.00</td>\n",
       "    </tr>\n",
       "    <tr>\n",
       "      <th>1340</th>\n",
       "      <td>1371-DWPAZ</td>\n",
       "      <td>2020-02-01</td>\n",
       "      <td>2020-02-01</td>\n",
       "      <td>Two year</td>\n",
       "      <td>No</td>\n",
       "      <td>Credit card (automatic)</td>\n",
       "      <td>56.05</td>\n",
       "      <td></td>\n",
       "      <td>1</td>\n",
       "      <td>0.00</td>\n",
       "    </tr>\n",
       "    <tr>\n",
       "      <th>3331</th>\n",
       "      <td>7644-OMVMY</td>\n",
       "      <td>2020-02-01</td>\n",
       "      <td>2020-02-01</td>\n",
       "      <td>Two year</td>\n",
       "      <td>No</td>\n",
       "      <td>Mailed check</td>\n",
       "      <td>19.85</td>\n",
       "      <td></td>\n",
       "      <td>1</td>\n",
       "      <td>0.00</td>\n",
       "    </tr>\n",
       "    <tr>\n",
       "      <th>3826</th>\n",
       "      <td>3213-VVOLG</td>\n",
       "      <td>2020-02-01</td>\n",
       "      <td>2020-02-01</td>\n",
       "      <td>Two year</td>\n",
       "      <td>No</td>\n",
       "      <td>Mailed check</td>\n",
       "      <td>25.35</td>\n",
       "      <td></td>\n",
       "      <td>1</td>\n",
       "      <td>0.00</td>\n",
       "    </tr>\n",
       "    <tr>\n",
       "      <th>4380</th>\n",
       "      <td>2520-SGTTA</td>\n",
       "      <td>2020-02-01</td>\n",
       "      <td>2020-02-01</td>\n",
       "      <td>Two year</td>\n",
       "      <td>No</td>\n",
       "      <td>Mailed check</td>\n",
       "      <td>20.00</td>\n",
       "      <td></td>\n",
       "      <td>1</td>\n",
       "      <td>0.00</td>\n",
       "    </tr>\n",
       "    <tr>\n",
       "      <th>5218</th>\n",
       "      <td>2923-ARZLG</td>\n",
       "      <td>2020-02-01</td>\n",
       "      <td>2020-02-01</td>\n",
       "      <td>One year</td>\n",
       "      <td>Yes</td>\n",
       "      <td>Mailed check</td>\n",
       "      <td>19.70</td>\n",
       "      <td></td>\n",
       "      <td>1</td>\n",
       "      <td>0.00</td>\n",
       "    </tr>\n",
       "    <tr>\n",
       "      <th>6670</th>\n",
       "      <td>4075-WKNIU</td>\n",
       "      <td>2020-02-01</td>\n",
       "      <td>2020-02-01</td>\n",
       "      <td>Two year</td>\n",
       "      <td>No</td>\n",
       "      <td>Mailed check</td>\n",
       "      <td>73.35</td>\n",
       "      <td></td>\n",
       "      <td>1</td>\n",
       "      <td>0.00</td>\n",
       "    </tr>\n",
       "    <tr>\n",
       "      <th>6754</th>\n",
       "      <td>2775-SEFEE</td>\n",
       "      <td>2020-02-01</td>\n",
       "      <td>2020-02-01</td>\n",
       "      <td>Two year</td>\n",
       "      <td>Yes</td>\n",
       "      <td>Bank transfer (automatic)</td>\n",
       "      <td>61.90</td>\n",
       "      <td></td>\n",
       "      <td>1</td>\n",
       "      <td>0.00</td>\n",
       "    </tr>\n",
       "  </tbody>\n",
       "</table>\n",
       "</div>"
      ],
      "text/plain": [
       "      customerID  BeginDate    EndDate      Type PaperlessBilling  \\\n",
       "488   4472-LVYGI 2020-02-01 2020-02-01  Two year              Yes   \n",
       "753   3115-CZMZD 2020-02-01 2020-02-01  Two year               No   \n",
       "936   5709-LVOEQ 2020-02-01 2020-02-01  Two year               No   \n",
       "1082  4367-NUYAO 2020-02-01 2020-02-01  Two year               No   \n",
       "1340  1371-DWPAZ 2020-02-01 2020-02-01  Two year               No   \n",
       "3331  7644-OMVMY 2020-02-01 2020-02-01  Two year               No   \n",
       "3826  3213-VVOLG 2020-02-01 2020-02-01  Two year               No   \n",
       "4380  2520-SGTTA 2020-02-01 2020-02-01  Two year               No   \n",
       "5218  2923-ARZLG 2020-02-01 2020-02-01  One year              Yes   \n",
       "6670  4075-WKNIU 2020-02-01 2020-02-01  Two year               No   \n",
       "6754  2775-SEFEE 2020-02-01 2020-02-01  Two year              Yes   \n",
       "\n",
       "                  PaymentMethod  MonthlyCharges TotalCharges  still_here  \\\n",
       "488   Bank transfer (automatic)           52.55                        1   \n",
       "753                Mailed check           20.25                        1   \n",
       "936                Mailed check           80.85                        1   \n",
       "1082               Mailed check           25.75                        1   \n",
       "1340    Credit card (automatic)           56.05                        1   \n",
       "3331               Mailed check           19.85                        1   \n",
       "3826               Mailed check           25.35                        1   \n",
       "4380               Mailed check           20.00                        1   \n",
       "5218               Mailed check           19.70                        1   \n",
       "6670               Mailed check           73.35                        1   \n",
       "6754  Bank transfer (automatic)           61.90                        1   \n",
       "\n",
       "      loyalty  \n",
       "488      0.00  \n",
       "753      0.00  \n",
       "936      0.00  \n",
       "1082     0.00  \n",
       "1340     0.00  \n",
       "3331     0.00  \n",
       "3826     0.00  \n",
       "4380     0.00  \n",
       "5218     0.00  \n",
       "6670     0.00  \n",
       "6754     0.00  "
      ]
     },
     "execution_count": 11,
     "metadata": {},
     "output_type": "execute_result"
    }
   ],
   "source": [
    "contract[contract['loyalty'] == 0]"
   ]
  },
  {
   "cell_type": "code",
   "execution_count": 12,
   "metadata": {},
   "outputs": [
    {
     "data": {
      "text/html": [
       "<div>\n",
       "<style scoped>\n",
       "    .dataframe tbody tr th:only-of-type {\n",
       "        vertical-align: middle;\n",
       "    }\n",
       "\n",
       "    .dataframe tbody tr th {\n",
       "        vertical-align: top;\n",
       "    }\n",
       "\n",
       "    .dataframe thead th {\n",
       "        text-align: right;\n",
       "    }\n",
       "</style>\n",
       "<table border=\"1\" class=\"dataframe\">\n",
       "  <thead>\n",
       "    <tr style=\"text-align: right;\">\n",
       "      <th></th>\n",
       "      <th>customerID</th>\n",
       "      <th>BeginDate</th>\n",
       "      <th>EndDate</th>\n",
       "      <th>Type</th>\n",
       "      <th>PaperlessBilling</th>\n",
       "      <th>PaymentMethod</th>\n",
       "      <th>MonthlyCharges</th>\n",
       "      <th>TotalCharges</th>\n",
       "      <th>still_here</th>\n",
       "      <th>loyalty</th>\n",
       "    </tr>\n",
       "  </thead>\n",
       "  <tbody>\n",
       "  </tbody>\n",
       "</table>\n",
       "</div>"
      ],
      "text/plain": [
       "Empty DataFrame\n",
       "Columns: [customerID, BeginDate, EndDate, Type, PaperlessBilling, PaymentMethod, MonthlyCharges, TotalCharges, still_here, loyalty]\n",
       "Index: []"
      ]
     },
     "execution_count": 12,
     "metadata": {},
     "output_type": "execute_result"
    }
   ],
   "source": [
    "contract.loc[contract['TotalCharges'] == '']"
   ]
  },
  {
   "cell_type": "markdown",
   "metadata": {},
   "source": [
    "В данных есть 11 клиентов со странными датами начала и окончания (в один день) и пустой суммой по счетам. Так как их всего 11, эти аномалии мы удалим и поменяем тип данных у колонки TotalCharges."
   ]
  },
  {
   "cell_type": "code",
   "execution_count": 13,
   "metadata": {},
   "outputs": [
    {
     "name": "stdout",
     "output_type": "stream",
     "text": [
      "<class 'pandas.core.frame.DataFrame'>\n",
      "RangeIndex: 7043 entries, 0 to 7042\n",
      "Data columns (total 10 columns):\n",
      " #   Column            Non-Null Count  Dtype         \n",
      "---  ------            --------------  -----         \n",
      " 0   customerID        7032 non-null   object        \n",
      " 1   BeginDate         7032 non-null   datetime64[ns]\n",
      " 2   EndDate           7032 non-null   datetime64[ns]\n",
      " 3   Type              7032 non-null   object        \n",
      " 4   PaperlessBilling  7032 non-null   object        \n",
      " 5   PaymentMethod     7032 non-null   object        \n",
      " 6   MonthlyCharges    7032 non-null   float64       \n",
      " 7   TotalCharges      7032 non-null   float64       \n",
      " 8   still_here        7032 non-null   float64       \n",
      " 9   loyalty           7032 non-null   float64       \n",
      "dtypes: datetime64[ns](2), float64(4), object(4)\n",
      "memory usage: 550.4+ KB\n"
     ]
    }
   ],
   "source": [
    "contract.loc[contract['TotalCharges'] == ' '] = None\n",
    "contract['TotalCharges'] = contract['TotalCharges'].dropna()\n",
    "contract['TotalCharges'] = pd.to_numeric(contract['TotalCharges'])\n",
    "contract.info()"
   ]
  },
  {
   "cell_type": "markdown",
   "metadata": {},
   "source": [
    "Видим что значения в таблице исправлены, перейдем к следующим. "
   ]
  },
  {
   "cell_type": "code",
   "execution_count": 14,
   "metadata": {},
   "outputs": [
    {
     "data": {
      "text/html": [
       "<div>\n",
       "<style scoped>\n",
       "    .dataframe tbody tr th:only-of-type {\n",
       "        vertical-align: middle;\n",
       "    }\n",
       "\n",
       "    .dataframe tbody tr th {\n",
       "        vertical-align: top;\n",
       "    }\n",
       "\n",
       "    .dataframe thead th {\n",
       "        text-align: right;\n",
       "    }\n",
       "</style>\n",
       "<table border=\"1\" class=\"dataframe\">\n",
       "  <thead>\n",
       "    <tr style=\"text-align: right;\">\n",
       "      <th></th>\n",
       "      <th>customerID</th>\n",
       "      <th>gender</th>\n",
       "      <th>SeniorCitizen</th>\n",
       "      <th>Partner</th>\n",
       "      <th>Dependents</th>\n",
       "    </tr>\n",
       "  </thead>\n",
       "  <tbody>\n",
       "    <tr>\n",
       "      <th>0</th>\n",
       "      <td>7590-VHVEG</td>\n",
       "      <td>Female</td>\n",
       "      <td>0</td>\n",
       "      <td>Yes</td>\n",
       "      <td>No</td>\n",
       "    </tr>\n",
       "    <tr>\n",
       "      <th>1</th>\n",
       "      <td>5575-GNVDE</td>\n",
       "      <td>Male</td>\n",
       "      <td>0</td>\n",
       "      <td>No</td>\n",
       "      <td>No</td>\n",
       "    </tr>\n",
       "    <tr>\n",
       "      <th>2</th>\n",
       "      <td>3668-QPYBK</td>\n",
       "      <td>Male</td>\n",
       "      <td>0</td>\n",
       "      <td>No</td>\n",
       "      <td>No</td>\n",
       "    </tr>\n",
       "    <tr>\n",
       "      <th>3</th>\n",
       "      <td>7795-CFOCW</td>\n",
       "      <td>Male</td>\n",
       "      <td>0</td>\n",
       "      <td>No</td>\n",
       "      <td>No</td>\n",
       "    </tr>\n",
       "    <tr>\n",
       "      <th>4</th>\n",
       "      <td>9237-HQITU</td>\n",
       "      <td>Female</td>\n",
       "      <td>0</td>\n",
       "      <td>No</td>\n",
       "      <td>No</td>\n",
       "    </tr>\n",
       "  </tbody>\n",
       "</table>\n",
       "</div>"
      ],
      "text/plain": [
       "   customerID  gender  SeniorCitizen Partner Dependents\n",
       "0  7590-VHVEG  Female              0     Yes         No\n",
       "1  5575-GNVDE    Male              0      No         No\n",
       "2  3668-QPYBK    Male              0      No         No\n",
       "3  7795-CFOCW    Male              0      No         No\n",
       "4  9237-HQITU  Female              0      No         No"
      ]
     },
     "execution_count": 14,
     "metadata": {},
     "output_type": "execute_result"
    }
   ],
   "source": [
    "personal = pd.read_csv('/datasets/final_provider/personal.csv')\n",
    "personal.head() # 5 верхних строк"
   ]
  },
  {
   "cell_type": "code",
   "execution_count": 15,
   "metadata": {},
   "outputs": [
    {
     "name": "stdout",
     "output_type": "stream",
     "text": [
      "<class 'pandas.core.frame.DataFrame'>\n",
      "RangeIndex: 7043 entries, 0 to 7042\n",
      "Data columns (total 5 columns):\n",
      " #   Column         Non-Null Count  Dtype \n",
      "---  ------         --------------  ----- \n",
      " 0   customerID     7043 non-null   object\n",
      " 1   gender         7043 non-null   object\n",
      " 2   SeniorCitizen  7043 non-null   int64 \n",
      " 3   Partner        7043 non-null   object\n",
      " 4   Dependents     7043 non-null   object\n",
      "dtypes: int64(1), object(4)\n",
      "memory usage: 275.2+ KB\n"
     ]
    }
   ],
   "source": [
    "personal.info() # информация о файле"
   ]
  },
  {
   "cell_type": "code",
   "execution_count": 16,
   "metadata": {},
   "outputs": [
    {
     "data": {
      "text/html": [
       "<div>\n",
       "<style scoped>\n",
       "    .dataframe tbody tr th:only-of-type {\n",
       "        vertical-align: middle;\n",
       "    }\n",
       "\n",
       "    .dataframe tbody tr th {\n",
       "        vertical-align: top;\n",
       "    }\n",
       "\n",
       "    .dataframe thead th {\n",
       "        text-align: right;\n",
       "    }\n",
       "</style>\n",
       "<table border=\"1\" class=\"dataframe\">\n",
       "  <thead>\n",
       "    <tr style=\"text-align: right;\">\n",
       "      <th></th>\n",
       "      <th>customerID</th>\n",
       "      <th>InternetService</th>\n",
       "      <th>OnlineSecurity</th>\n",
       "      <th>OnlineBackup</th>\n",
       "      <th>DeviceProtection</th>\n",
       "      <th>TechSupport</th>\n",
       "      <th>StreamingTV</th>\n",
       "      <th>StreamingMovies</th>\n",
       "    </tr>\n",
       "  </thead>\n",
       "  <tbody>\n",
       "    <tr>\n",
       "      <th>0</th>\n",
       "      <td>7590-VHVEG</td>\n",
       "      <td>DSL</td>\n",
       "      <td>No</td>\n",
       "      <td>Yes</td>\n",
       "      <td>No</td>\n",
       "      <td>No</td>\n",
       "      <td>No</td>\n",
       "      <td>No</td>\n",
       "    </tr>\n",
       "    <tr>\n",
       "      <th>1</th>\n",
       "      <td>5575-GNVDE</td>\n",
       "      <td>DSL</td>\n",
       "      <td>Yes</td>\n",
       "      <td>No</td>\n",
       "      <td>Yes</td>\n",
       "      <td>No</td>\n",
       "      <td>No</td>\n",
       "      <td>No</td>\n",
       "    </tr>\n",
       "    <tr>\n",
       "      <th>2</th>\n",
       "      <td>3668-QPYBK</td>\n",
       "      <td>DSL</td>\n",
       "      <td>Yes</td>\n",
       "      <td>Yes</td>\n",
       "      <td>No</td>\n",
       "      <td>No</td>\n",
       "      <td>No</td>\n",
       "      <td>No</td>\n",
       "    </tr>\n",
       "    <tr>\n",
       "      <th>3</th>\n",
       "      <td>7795-CFOCW</td>\n",
       "      <td>DSL</td>\n",
       "      <td>Yes</td>\n",
       "      <td>No</td>\n",
       "      <td>Yes</td>\n",
       "      <td>Yes</td>\n",
       "      <td>No</td>\n",
       "      <td>No</td>\n",
       "    </tr>\n",
       "    <tr>\n",
       "      <th>4</th>\n",
       "      <td>9237-HQITU</td>\n",
       "      <td>Fiber optic</td>\n",
       "      <td>No</td>\n",
       "      <td>No</td>\n",
       "      <td>No</td>\n",
       "      <td>No</td>\n",
       "      <td>No</td>\n",
       "      <td>No</td>\n",
       "    </tr>\n",
       "  </tbody>\n",
       "</table>\n",
       "</div>"
      ],
      "text/plain": [
       "   customerID InternetService OnlineSecurity OnlineBackup DeviceProtection  \\\n",
       "0  7590-VHVEG             DSL             No          Yes               No   \n",
       "1  5575-GNVDE             DSL            Yes           No              Yes   \n",
       "2  3668-QPYBK             DSL            Yes          Yes               No   \n",
       "3  7795-CFOCW             DSL            Yes           No              Yes   \n",
       "4  9237-HQITU     Fiber optic             No           No               No   \n",
       "\n",
       "  TechSupport StreamingTV StreamingMovies  \n",
       "0          No          No              No  \n",
       "1          No          No              No  \n",
       "2          No          No              No  \n",
       "3         Yes          No              No  \n",
       "4          No          No              No  "
      ]
     },
     "execution_count": 16,
     "metadata": {},
     "output_type": "execute_result"
    }
   ],
   "source": [
    "internet = pd.read_csv('/datasets/final_provider/internet.csv')\n",
    "internet.head() # 5 верхних строк"
   ]
  },
  {
   "cell_type": "code",
   "execution_count": 17,
   "metadata": {},
   "outputs": [
    {
     "name": "stdout",
     "output_type": "stream",
     "text": [
      "<class 'pandas.core.frame.DataFrame'>\n",
      "RangeIndex: 5517 entries, 0 to 5516\n",
      "Data columns (total 8 columns):\n",
      " #   Column            Non-Null Count  Dtype \n",
      "---  ------            --------------  ----- \n",
      " 0   customerID        5517 non-null   object\n",
      " 1   InternetService   5517 non-null   object\n",
      " 2   OnlineSecurity    5517 non-null   object\n",
      " 3   OnlineBackup      5517 non-null   object\n",
      " 4   DeviceProtection  5517 non-null   object\n",
      " 5   TechSupport       5517 non-null   object\n",
      " 6   StreamingTV       5517 non-null   object\n",
      " 7   StreamingMovies   5517 non-null   object\n",
      "dtypes: object(8)\n",
      "memory usage: 344.9+ KB\n"
     ]
    }
   ],
   "source": [
    "internet.info() # информация о файле"
   ]
  },
  {
   "cell_type": "code",
   "execution_count": 18,
   "metadata": {},
   "outputs": [
    {
     "data": {
      "text/html": [
       "<div>\n",
       "<style scoped>\n",
       "    .dataframe tbody tr th:only-of-type {\n",
       "        vertical-align: middle;\n",
       "    }\n",
       "\n",
       "    .dataframe tbody tr th {\n",
       "        vertical-align: top;\n",
       "    }\n",
       "\n",
       "    .dataframe thead th {\n",
       "        text-align: right;\n",
       "    }\n",
       "</style>\n",
       "<table border=\"1\" class=\"dataframe\">\n",
       "  <thead>\n",
       "    <tr style=\"text-align: right;\">\n",
       "      <th></th>\n",
       "      <th>customerID</th>\n",
       "      <th>MultipleLines</th>\n",
       "    </tr>\n",
       "  </thead>\n",
       "  <tbody>\n",
       "    <tr>\n",
       "      <th>0</th>\n",
       "      <td>5575-GNVDE</td>\n",
       "      <td>No</td>\n",
       "    </tr>\n",
       "    <tr>\n",
       "      <th>1</th>\n",
       "      <td>3668-QPYBK</td>\n",
       "      <td>No</td>\n",
       "    </tr>\n",
       "    <tr>\n",
       "      <th>2</th>\n",
       "      <td>9237-HQITU</td>\n",
       "      <td>No</td>\n",
       "    </tr>\n",
       "    <tr>\n",
       "      <th>3</th>\n",
       "      <td>9305-CDSKC</td>\n",
       "      <td>Yes</td>\n",
       "    </tr>\n",
       "    <tr>\n",
       "      <th>4</th>\n",
       "      <td>1452-KIOVK</td>\n",
       "      <td>Yes</td>\n",
       "    </tr>\n",
       "  </tbody>\n",
       "</table>\n",
       "</div>"
      ],
      "text/plain": [
       "   customerID MultipleLines\n",
       "0  5575-GNVDE            No\n",
       "1  3668-QPYBK            No\n",
       "2  9237-HQITU            No\n",
       "3  9305-CDSKC           Yes\n",
       "4  1452-KIOVK           Yes"
      ]
     },
     "execution_count": 18,
     "metadata": {},
     "output_type": "execute_result"
    }
   ],
   "source": [
    "phone = pd.read_csv('/datasets/final_provider/phone.csv')\n",
    "phone.head() # 5 верхних строк"
   ]
  },
  {
   "cell_type": "code",
   "execution_count": 19,
   "metadata": {},
   "outputs": [
    {
     "name": "stdout",
     "output_type": "stream",
     "text": [
      "<class 'pandas.core.frame.DataFrame'>\n",
      "RangeIndex: 6361 entries, 0 to 6360\n",
      "Data columns (total 2 columns):\n",
      " #   Column         Non-Null Count  Dtype \n",
      "---  ------         --------------  ----- \n",
      " 0   customerID     6361 non-null   object\n",
      " 1   MultipleLines  6361 non-null   object\n",
      "dtypes: object(2)\n",
      "memory usage: 99.5+ KB\n"
     ]
    }
   ],
   "source": [
    "phone.info() # информация о файле"
   ]
  },
  {
   "cell_type": "markdown",
   "metadata": {},
   "source": [
    "В таблицах пропусик отсутствуют, в них содержатся только категоральные значения. Для обучения модели необходимо будет кодировать эти значения. Теперь можем перейти к следующему этапу: обьединению таблиц и анализу корреляции. "
   ]
  },
  {
   "cell_type": "markdown",
   "metadata": {},
   "source": [
    "## Обьединение таблиц и анализ кореляции"
   ]
  },
  {
   "cell_type": "markdown",
   "metadata": {},
   "source": [
    "Сперва объединим таблицы и проверим, не появилось ли проблем"
   ]
  },
  {
   "cell_type": "code",
   "execution_count": 20,
   "metadata": {},
   "outputs": [
    {
     "name": "stdout",
     "output_type": "stream",
     "text": [
      "<class 'pandas.core.frame.DataFrame'>\n",
      "Int64Index: 7054 entries, 0 to 7053\n",
      "Data columns (total 22 columns):\n",
      " #   Column            Non-Null Count  Dtype         \n",
      "---  ------            --------------  -----         \n",
      " 0   customerID        7043 non-null   object        \n",
      " 1   BeginDate         7032 non-null   datetime64[ns]\n",
      " 2   EndDate           7032 non-null   datetime64[ns]\n",
      " 3   Type              7032 non-null   object        \n",
      " 4   PaperlessBilling  7032 non-null   object        \n",
      " 5   PaymentMethod     7032 non-null   object        \n",
      " 6   MonthlyCharges    7032 non-null   float64       \n",
      " 7   TotalCharges      7032 non-null   float64       \n",
      " 8   still_here        7032 non-null   float64       \n",
      " 9   loyalty           7032 non-null   float64       \n",
      " 10  gender            7043 non-null   object        \n",
      " 11  SeniorCitizen     7043 non-null   float64       \n",
      " 12  Partner           7043 non-null   object        \n",
      " 13  Dependents        7043 non-null   object        \n",
      " 14  InternetService   5517 non-null   object        \n",
      " 15  OnlineSecurity    5517 non-null   object        \n",
      " 16  OnlineBackup      5517 non-null   object        \n",
      " 17  DeviceProtection  5517 non-null   object        \n",
      " 18  TechSupport       5517 non-null   object        \n",
      " 19  StreamingTV       5517 non-null   object        \n",
      " 20  StreamingMovies   5517 non-null   object        \n",
      " 21  MultipleLines     6361 non-null   object        \n",
      "dtypes: datetime64[ns](2), float64(5), object(15)\n",
      "memory usage: 1.2+ MB\n"
     ]
    }
   ],
   "source": [
    "data = contract.merge(personal, how='outer')\n",
    "data = data.merge(internet, how='outer')\n",
    "data = data.merge(phone, how='outer')\n",
    "data.info()"
   ]
  },
  {
   "cell_type": "markdown",
   "metadata": {},
   "source": [
    "После объединения видим, что прибавились иные пользователи, и те, которых мы могли удалить в предыдущей части. Так как у данных строк у нас нет возможноси выявить целевой признак и их всего 22, можем их удалить.\\\n",
    "Для правильного обучения удалим ненужные признаки: даты и имена клиентов, они нам не нужны.\\\n",
    "После удаления еще возникает вопрос с последними присоединенными таблицами: internet и phone. По ним видим, что не все пользователи испольщуют интернет услуги или телефонные услуги, поэтому информация об этом в таблице отсутствует. Заменим данные в таблице на новую категорию."
   ]
  },
  {
   "cell_type": "code",
   "execution_count": 21,
   "metadata": {},
   "outputs": [
    {
     "name": "stdout",
     "output_type": "stream",
     "text": [
      "<class 'pandas.core.frame.DataFrame'>\n",
      "Int64Index: 7032 entries, 0 to 7042\n",
      "Data columns (total 19 columns):\n",
      " #   Column            Non-Null Count  Dtype  \n",
      "---  ------            --------------  -----  \n",
      " 0   Type              7032 non-null   object \n",
      " 1   PaperlessBilling  7032 non-null   object \n",
      " 2   PaymentMethod     7032 non-null   object \n",
      " 3   MonthlyCharges    7032 non-null   float64\n",
      " 4   TotalCharges      7032 non-null   float64\n",
      " 5   still_here        7032 non-null   float64\n",
      " 6   loyalty           7032 non-null   float64\n",
      " 7   gender            7032 non-null   object \n",
      " 8   SeniorCitizen     7032 non-null   float64\n",
      " 9   Partner           7032 non-null   object \n",
      " 10  Dependents        7032 non-null   object \n",
      " 11  InternetService   7032 non-null   object \n",
      " 12  OnlineSecurity    7032 non-null   object \n",
      " 13  OnlineBackup      7032 non-null   object \n",
      " 14  DeviceProtection  7032 non-null   object \n",
      " 15  TechSupport       7032 non-null   object \n",
      " 16  StreamingTV       7032 non-null   object \n",
      " 17  StreamingMovies   7032 non-null   object \n",
      " 18  MultipleLines     7032 non-null   object \n",
      "dtypes: float64(5), object(14)\n",
      "memory usage: 1.1+ MB\n"
     ]
    }
   ],
   "source": [
    "data = data.dropna(subset=['still_here'])\n",
    "no_list = ['InternetService', 'OnlineSecurity', 'OnlineBackup', 'DeviceProtection', 'TechSupport', 'StreamingTV', 'StreamingMovies']\n",
    "data[no_list] = data[no_list].fillna('No')\n",
    "data = data.fillna('no info')\n",
    "data = data.drop(labels=['customerID', 'BeginDate', 'EndDate'], axis=1)\n",
    "data.info()"
   ]
  },
  {
   "cell_type": "code",
   "execution_count": 22,
   "metadata": {
    "scrolled": true
   },
   "outputs": [
    {
     "data": {
      "text/html": [
       "<div>\n",
       "<style scoped>\n",
       "    .dataframe tbody tr th:only-of-type {\n",
       "        vertical-align: middle;\n",
       "    }\n",
       "\n",
       "    .dataframe tbody tr th {\n",
       "        vertical-align: top;\n",
       "    }\n",
       "\n",
       "    .dataframe thead th {\n",
       "        text-align: right;\n",
       "    }\n",
       "</style>\n",
       "<table border=\"1\" class=\"dataframe\">\n",
       "  <thead>\n",
       "    <tr style=\"text-align: right;\">\n",
       "      <th></th>\n",
       "      <th>Type</th>\n",
       "      <th>PaperlessBilling</th>\n",
       "      <th>PaymentMethod</th>\n",
       "      <th>MonthlyCharges</th>\n",
       "      <th>TotalCharges</th>\n",
       "      <th>still_here</th>\n",
       "      <th>loyalty</th>\n",
       "      <th>gender</th>\n",
       "      <th>SeniorCitizen</th>\n",
       "      <th>Partner</th>\n",
       "      <th>Dependents</th>\n",
       "      <th>InternetService</th>\n",
       "      <th>OnlineSecurity</th>\n",
       "      <th>OnlineBackup</th>\n",
       "      <th>DeviceProtection</th>\n",
       "      <th>TechSupport</th>\n",
       "      <th>StreamingTV</th>\n",
       "      <th>StreamingMovies</th>\n",
       "      <th>MultipleLines</th>\n",
       "    </tr>\n",
       "  </thead>\n",
       "  <tbody>\n",
       "    <tr>\n",
       "      <th>0</th>\n",
       "      <td>Month-to-month</td>\n",
       "      <td>Yes</td>\n",
       "      <td>Electronic check</td>\n",
       "      <td>29.85</td>\n",
       "      <td>29.85</td>\n",
       "      <td>1.00</td>\n",
       "      <td>31.00</td>\n",
       "      <td>Female</td>\n",
       "      <td>0.00</td>\n",
       "      <td>Yes</td>\n",
       "      <td>No</td>\n",
       "      <td>DSL</td>\n",
       "      <td>No</td>\n",
       "      <td>Yes</td>\n",
       "      <td>No</td>\n",
       "      <td>No</td>\n",
       "      <td>No</td>\n",
       "      <td>No</td>\n",
       "      <td>no info</td>\n",
       "    </tr>\n",
       "    <tr>\n",
       "      <th>1</th>\n",
       "      <td>One year</td>\n",
       "      <td>No</td>\n",
       "      <td>Mailed check</td>\n",
       "      <td>56.95</td>\n",
       "      <td>1,889.50</td>\n",
       "      <td>1.00</td>\n",
       "      <td>1,036.00</td>\n",
       "      <td>Male</td>\n",
       "      <td>0.00</td>\n",
       "      <td>No</td>\n",
       "      <td>No</td>\n",
       "      <td>DSL</td>\n",
       "      <td>Yes</td>\n",
       "      <td>No</td>\n",
       "      <td>Yes</td>\n",
       "      <td>No</td>\n",
       "      <td>No</td>\n",
       "      <td>No</td>\n",
       "      <td>No</td>\n",
       "    </tr>\n",
       "    <tr>\n",
       "      <th>2</th>\n",
       "      <td>Month-to-month</td>\n",
       "      <td>Yes</td>\n",
       "      <td>Mailed check</td>\n",
       "      <td>53.85</td>\n",
       "      <td>108.15</td>\n",
       "      <td>0.00</td>\n",
       "      <td>61.00</td>\n",
       "      <td>Male</td>\n",
       "      <td>0.00</td>\n",
       "      <td>No</td>\n",
       "      <td>No</td>\n",
       "      <td>DSL</td>\n",
       "      <td>Yes</td>\n",
       "      <td>Yes</td>\n",
       "      <td>No</td>\n",
       "      <td>No</td>\n",
       "      <td>No</td>\n",
       "      <td>No</td>\n",
       "      <td>No</td>\n",
       "    </tr>\n",
       "    <tr>\n",
       "      <th>3</th>\n",
       "      <td>One year</td>\n",
       "      <td>No</td>\n",
       "      <td>Bank transfer (automatic)</td>\n",
       "      <td>42.30</td>\n",
       "      <td>1,840.75</td>\n",
       "      <td>1.00</td>\n",
       "      <td>1,371.00</td>\n",
       "      <td>Male</td>\n",
       "      <td>0.00</td>\n",
       "      <td>No</td>\n",
       "      <td>No</td>\n",
       "      <td>DSL</td>\n",
       "      <td>Yes</td>\n",
       "      <td>No</td>\n",
       "      <td>Yes</td>\n",
       "      <td>Yes</td>\n",
       "      <td>No</td>\n",
       "      <td>No</td>\n",
       "      <td>no info</td>\n",
       "    </tr>\n",
       "    <tr>\n",
       "      <th>4</th>\n",
       "      <td>Month-to-month</td>\n",
       "      <td>Yes</td>\n",
       "      <td>Electronic check</td>\n",
       "      <td>70.70</td>\n",
       "      <td>151.65</td>\n",
       "      <td>0.00</td>\n",
       "      <td>61.00</td>\n",
       "      <td>Female</td>\n",
       "      <td>0.00</td>\n",
       "      <td>No</td>\n",
       "      <td>No</td>\n",
       "      <td>Fiber optic</td>\n",
       "      <td>No</td>\n",
       "      <td>No</td>\n",
       "      <td>No</td>\n",
       "      <td>No</td>\n",
       "      <td>No</td>\n",
       "      <td>No</td>\n",
       "      <td>No</td>\n",
       "    </tr>\n",
       "    <tr>\n",
       "      <th>...</th>\n",
       "      <td>...</td>\n",
       "      <td>...</td>\n",
       "      <td>...</td>\n",
       "      <td>...</td>\n",
       "      <td>...</td>\n",
       "      <td>...</td>\n",
       "      <td>...</td>\n",
       "      <td>...</td>\n",
       "      <td>...</td>\n",
       "      <td>...</td>\n",
       "      <td>...</td>\n",
       "      <td>...</td>\n",
       "      <td>...</td>\n",
       "      <td>...</td>\n",
       "      <td>...</td>\n",
       "      <td>...</td>\n",
       "      <td>...</td>\n",
       "      <td>...</td>\n",
       "      <td>...</td>\n",
       "    </tr>\n",
       "    <tr>\n",
       "      <th>7038</th>\n",
       "      <td>One year</td>\n",
       "      <td>Yes</td>\n",
       "      <td>Mailed check</td>\n",
       "      <td>84.80</td>\n",
       "      <td>1,990.50</td>\n",
       "      <td>1.00</td>\n",
       "      <td>730.00</td>\n",
       "      <td>Male</td>\n",
       "      <td>0.00</td>\n",
       "      <td>Yes</td>\n",
       "      <td>Yes</td>\n",
       "      <td>DSL</td>\n",
       "      <td>Yes</td>\n",
       "      <td>No</td>\n",
       "      <td>Yes</td>\n",
       "      <td>Yes</td>\n",
       "      <td>Yes</td>\n",
       "      <td>Yes</td>\n",
       "      <td>Yes</td>\n",
       "    </tr>\n",
       "    <tr>\n",
       "      <th>7039</th>\n",
       "      <td>One year</td>\n",
       "      <td>Yes</td>\n",
       "      <td>Credit card (automatic)</td>\n",
       "      <td>103.20</td>\n",
       "      <td>7,362.90</td>\n",
       "      <td>1.00</td>\n",
       "      <td>2,191.00</td>\n",
       "      <td>Female</td>\n",
       "      <td>0.00</td>\n",
       "      <td>Yes</td>\n",
       "      <td>Yes</td>\n",
       "      <td>Fiber optic</td>\n",
       "      <td>No</td>\n",
       "      <td>Yes</td>\n",
       "      <td>Yes</td>\n",
       "      <td>No</td>\n",
       "      <td>Yes</td>\n",
       "      <td>Yes</td>\n",
       "      <td>Yes</td>\n",
       "    </tr>\n",
       "    <tr>\n",
       "      <th>7040</th>\n",
       "      <td>Month-to-month</td>\n",
       "      <td>Yes</td>\n",
       "      <td>Electronic check</td>\n",
       "      <td>29.60</td>\n",
       "      <td>346.45</td>\n",
       "      <td>1.00</td>\n",
       "      <td>337.00</td>\n",
       "      <td>Female</td>\n",
       "      <td>0.00</td>\n",
       "      <td>Yes</td>\n",
       "      <td>Yes</td>\n",
       "      <td>DSL</td>\n",
       "      <td>Yes</td>\n",
       "      <td>No</td>\n",
       "      <td>No</td>\n",
       "      <td>No</td>\n",
       "      <td>No</td>\n",
       "      <td>No</td>\n",
       "      <td>no info</td>\n",
       "    </tr>\n",
       "    <tr>\n",
       "      <th>7041</th>\n",
       "      <td>Month-to-month</td>\n",
       "      <td>Yes</td>\n",
       "      <td>Mailed check</td>\n",
       "      <td>74.40</td>\n",
       "      <td>306.60</td>\n",
       "      <td>0.00</td>\n",
       "      <td>123.00</td>\n",
       "      <td>Male</td>\n",
       "      <td>1.00</td>\n",
       "      <td>Yes</td>\n",
       "      <td>No</td>\n",
       "      <td>Fiber optic</td>\n",
       "      <td>No</td>\n",
       "      <td>No</td>\n",
       "      <td>No</td>\n",
       "      <td>No</td>\n",
       "      <td>No</td>\n",
       "      <td>No</td>\n",
       "      <td>Yes</td>\n",
       "    </tr>\n",
       "    <tr>\n",
       "      <th>7042</th>\n",
       "      <td>Two year</td>\n",
       "      <td>Yes</td>\n",
       "      <td>Bank transfer (automatic)</td>\n",
       "      <td>105.65</td>\n",
       "      <td>6,844.50</td>\n",
       "      <td>1.00</td>\n",
       "      <td>2,010.00</td>\n",
       "      <td>Male</td>\n",
       "      <td>0.00</td>\n",
       "      <td>No</td>\n",
       "      <td>No</td>\n",
       "      <td>Fiber optic</td>\n",
       "      <td>Yes</td>\n",
       "      <td>No</td>\n",
       "      <td>Yes</td>\n",
       "      <td>Yes</td>\n",
       "      <td>Yes</td>\n",
       "      <td>Yes</td>\n",
       "      <td>No</td>\n",
       "    </tr>\n",
       "  </tbody>\n",
       "</table>\n",
       "<p>7032 rows × 19 columns</p>\n",
       "</div>"
      ],
      "text/plain": [
       "                Type PaperlessBilling              PaymentMethod  \\\n",
       "0     Month-to-month              Yes           Electronic check   \n",
       "1           One year               No               Mailed check   \n",
       "2     Month-to-month              Yes               Mailed check   \n",
       "3           One year               No  Bank transfer (automatic)   \n",
       "4     Month-to-month              Yes           Electronic check   \n",
       "...              ...              ...                        ...   \n",
       "7038        One year              Yes               Mailed check   \n",
       "7039        One year              Yes    Credit card (automatic)   \n",
       "7040  Month-to-month              Yes           Electronic check   \n",
       "7041  Month-to-month              Yes               Mailed check   \n",
       "7042        Two year              Yes  Bank transfer (automatic)   \n",
       "\n",
       "      MonthlyCharges  TotalCharges  still_here  loyalty  gender  \\\n",
       "0              29.85         29.85        1.00    31.00  Female   \n",
       "1              56.95      1,889.50        1.00 1,036.00    Male   \n",
       "2              53.85        108.15        0.00    61.00    Male   \n",
       "3              42.30      1,840.75        1.00 1,371.00    Male   \n",
       "4              70.70        151.65        0.00    61.00  Female   \n",
       "...              ...           ...         ...      ...     ...   \n",
       "7038           84.80      1,990.50        1.00   730.00    Male   \n",
       "7039          103.20      7,362.90        1.00 2,191.00  Female   \n",
       "7040           29.60        346.45        1.00   337.00  Female   \n",
       "7041           74.40        306.60        0.00   123.00    Male   \n",
       "7042          105.65      6,844.50        1.00 2,010.00    Male   \n",
       "\n",
       "      SeniorCitizen Partner Dependents InternetService OnlineSecurity  \\\n",
       "0              0.00     Yes         No             DSL             No   \n",
       "1              0.00      No         No             DSL            Yes   \n",
       "2              0.00      No         No             DSL            Yes   \n",
       "3              0.00      No         No             DSL            Yes   \n",
       "4              0.00      No         No     Fiber optic             No   \n",
       "...             ...     ...        ...             ...            ...   \n",
       "7038           0.00     Yes        Yes             DSL            Yes   \n",
       "7039           0.00     Yes        Yes     Fiber optic             No   \n",
       "7040           0.00     Yes        Yes             DSL            Yes   \n",
       "7041           1.00     Yes         No     Fiber optic             No   \n",
       "7042           0.00      No         No     Fiber optic            Yes   \n",
       "\n",
       "     OnlineBackup DeviceProtection TechSupport StreamingTV StreamingMovies  \\\n",
       "0             Yes               No          No          No              No   \n",
       "1              No              Yes          No          No              No   \n",
       "2             Yes               No          No          No              No   \n",
       "3              No              Yes         Yes          No              No   \n",
       "4              No               No          No          No              No   \n",
       "...           ...              ...         ...         ...             ...   \n",
       "7038           No              Yes         Yes         Yes             Yes   \n",
       "7039          Yes              Yes          No         Yes             Yes   \n",
       "7040           No               No          No          No              No   \n",
       "7041           No               No          No          No              No   \n",
       "7042           No              Yes         Yes         Yes             Yes   \n",
       "\n",
       "     MultipleLines  \n",
       "0          no info  \n",
       "1               No  \n",
       "2               No  \n",
       "3          no info  \n",
       "4               No  \n",
       "...            ...  \n",
       "7038           Yes  \n",
       "7039           Yes  \n",
       "7040       no info  \n",
       "7041           Yes  \n",
       "7042            No  \n",
       "\n",
       "[7032 rows x 19 columns]"
      ]
     },
     "execution_count": 22,
     "metadata": {},
     "output_type": "execute_result"
    }
   ],
   "source": [
    "data"
   ]
  },
  {
   "cell_type": "markdown",
   "metadata": {},
   "source": [
    "Убрав пропуски приступим к анализу корреляции. Используем фи-корреляцию для анализа. "
   ]
  },
  {
   "cell_type": "code",
   "execution_count": 23,
   "metadata": {},
   "outputs": [
    {
     "data": {
      "image/png": "[encoded data removed]",
      "text/plain": [
       "<Figure size 1296x576 with 2 Axes>"
      ]
     },
     "metadata": {
      "needs_background": "light"
     },
     "output_type": "display_data"
    }
   ],
   "source": [
    "inter_col = ['MonthlyCharges', 'TotalCharges', 'still_here', 'loyalty']\n",
    "phik_matrix = data.phik_matrix(interval_cols=inter_col)\n",
    "plot_correlation_matrix(phik_matrix.values, \n",
    "                        x_labels=phik_matrix.columns, \n",
    "                        y_labels=phik_matrix.index, \n",
    "                        vmin=0, vmax=1, color_map=\"Greens\", \n",
    "                        title=r\"корреляция $\\phi_K$\", \n",
    "                        fontsize_factor=1.5, \n",
    "                        figsize=(18, 8))\n",
    "plt.tight_layout()"
   ]
  },
  {
   "cell_type": "markdown",
   "metadata": {},
   "source": [
    "В нашем датафрейме видим, что сильную корреляцию имеют признаки, связанные с суммой платежей (monthly и total), так же признаки по интернету и телефону видно коррелируют друг с другом. В первом случае логично, чем больше услуг подключено, тем больше платит абонент. Во втором корреляцию можно связать с тем, что при покупки одной функции, человек скорее легче готов приобретать еще сверху, либо они продаются комплектами.\\\n",
    "Нам важно рассмотреть, как другие признаки взаимодействуют с целевым признаком. Видимая корреляция для признака still_here с paymentMethod, monthlyCharges и loyalty. Остальные признаки слабо коррелируют с ним.\\\n",
    "С числовми признаками тоже видим сильную корреляцию между ещемесячными платежами и всего. Очевидно, что чем больше ежемесячные траты, тем выше общий чек. Так же сильная связь между loyalty и totalCharges. данную связь тоже легко обьясняется тем, что со временем средний чек увеличивается."
   ]
  },
  {
   "cell_type": "code",
   "execution_count": 44,
   "metadata": {},
   "outputs": [
    {
     "data": {
      "image/png": "[encoded data removed]",
      "text/plain": [
       "<Figure size 1440x720 with 2 Axes>"
      ]
     },
     "metadata": {
      "needs_background": "light"
     },
     "output_type": "display_data"
    }
   ],
   "source": [
    "significance_overview = data.significance_matrix(interval_cols=inter_col)\n",
    "plot_correlation_matrix(significance_overview.fillna(0).values,\n",
    "                        x_labels=significance_overview.columns, \n",
    "                        y_labels=significance_overview.index, \n",
    "                        vmin=-5, vmax=5,\n",
    "                        title=\"Анализ значимости признаков\", \n",
    "                        usetex=False, fontsize_factor=1.5, figsize=(20, 10))\n",
    "plt.tight_layout()"
   ]
  },
  {
   "cell_type": "markdown",
   "metadata": {},
   "source": [
    "\"Плохие\" признаки - 'gender', 'Dependents', 'PaperlessBilling', 'Partner', 'SeniorSitizen'"
   ]
  },
  {
   "cell_type": "markdown",
   "metadata": {},
   "source": [
    "Далее перейдем к делению на выборки и кодированию. Деление будет на тренировочную и тестовую в пропорции 75:25"
   ]
  },
  {
   "cell_type": "code",
   "execution_count": 29,
   "metadata": {
    "scrolled": true
   },
   "outputs": [
    {
     "name": "stdout",
     "output_type": "stream",
     "text": [
      "(5274, 18) (1758, 18)\n"
     ]
    }
   ],
   "source": [
    "data_train, data_test = train_test_split(data, \n",
    "                                         test_size=0.25, \n",
    "                                         random_state=171022)\n",
    "features_train = data_train.drop(['still_here'], axis=1)\n",
    "target_train = data_train['still_here']\n",
    "features_test = data_test.drop(['still_here'], axis=1)\n",
    "target_test = data_test['still_here']\n",
    "print(features_train.shape, features_test.shape)"
   ]
  },
  {
   "cell_type": "markdown",
   "metadata": {},
   "source": [
    "Видим что признаки разделились правильно.  Закодируем категоральные признаки и посмотрим на результат. Так как в нашем проекте не будут использоваться линейные модели, воспользуемся OrdinalEncoder"
   ]
  },
  {
   "cell_type": "code",
   "execution_count": 30,
   "metadata": {},
   "outputs": [],
   "source": [
    "categorical_columns = ['Type', 'PaperlessBilling', 'PaymentMethod', \n",
    "                       'gender', 'SeniorCitizen','Partner', 'Dependents', \n",
    "                       'InternetService', 'OnlineSecurity','OnlineBackup', \n",
    "                       'DeviceProtection', 'TechSupport', 'StreamingTV',\n",
    "                       'StreamingMovies', 'MultipleLines']"
   ]
  },
  {
   "cell_type": "code",
   "execution_count": 31,
   "metadata": {
    "scrolled": true
   },
   "outputs": [
    {
     "data": {
      "text/plain": [
       "OrdinalEncoder()"
      ]
     },
     "execution_count": 31,
     "metadata": {},
     "output_type": "execute_result"
    }
   ],
   "source": [
    "enc = OrdinalEncoder()\n",
    "enc.fit(features_train[categorical_columns])"
   ]
  },
  {
   "cell_type": "code",
   "execution_count": 32,
   "metadata": {},
   "outputs": [],
   "source": [
    "features_train[categorical_columns] = enc.transform(features_train[categorical_columns])\n",
    "features_test[categorical_columns] = enc.transform(features_test[categorical_columns])"
   ]
  },
  {
   "cell_type": "markdown",
   "metadata": {},
   "source": [
    "Признаки закодированы, выборки готовы, можно переходить к следующему этапу проекта. "
   ]
  },
  {
   "cell_type": "markdown",
   "metadata": {},
   "source": [
    "## Обучение моделей"
   ]
  },
  {
   "cell_type": "markdown",
   "metadata": {},
   "source": [
    "Начнем с обучения моделей. Нашей основной метрикой будет AUC-ROC. По ней будем определять лучшуу модель при помощи кросс-валидации. Первая водеть будет случайный лес. Признаки для модели будем подбирать с помощью RandomizedSearchCV."
   ]
  },
  {
   "cell_type": "code",
   "execution_count": 33,
   "metadata": {
    "scrolled": true
   },
   "outputs": [
    {
     "name": "stdout",
     "output_type": "stream",
     "text": [
      "CPU times: user 20.7 s, sys: 68 ms, total: 20.8 s\n",
      "Wall time: 20.8 s\n"
     ]
    },
    {
     "data": {
      "text/plain": [
       "RandomizedSearchCV(cv=5,\n",
       "                   estimator=RandomForestClassifier(class_weight='balanced',\n",
       "                                                    random_state=171022),\n",
       "                   param_distributions={'max_depth': [1, 1, 1, 1, 1, 1, 2, 2, 2,\n",
       "                                                      2, 2, 3, 3, 3, 3, 3, 3, 4,\n",
       "                                                      4, 4, 4, 4, 5, 5, 5, 5, 5,\n",
       "                                                      5, 6, 6, ...],\n",
       "                                        'n_estimators': [100, 103, 106, 109,\n",
       "                                                         112, 115, 118, 121,\n",
       "                                                         124, 127, 130, 133,\n",
       "                                                         136, 139, 142, 145,\n",
       "                                                         148, 152, 155, 158,\n",
       "                                                         161, 164, 167, 170,\n",
       "                                                         173, 176, 179, 182,\n",
       "                                                         185, 188, ...]},\n",
       "                   scoring='roc_auc')"
      ]
     },
     "execution_count": 33,
     "metadata": {},
     "output_type": "execute_result"
    }
   ],
   "source": [
    "%%time\n",
    "n_estimators = [int(x) for x in np.linspace(start = 100, stop = 250)] \n",
    "max_depth = [int(x) for x in np.linspace(1, 10)]\n",
    "rf_grid = {'n_estimators': n_estimators, 'max_depth': max_depth}\n",
    "model_rfc = RandomizedSearchCV(RandomForestClassifier(random_state=171022, class_weight='balanced'), \n",
    "                               rf_grid, scoring = 'roc_auc', \n",
    "                               cv=5)\n",
    "model_rfc.fit(features_train, target_train)"
   ]
  },
  {
   "cell_type": "code",
   "execution_count": 34,
   "metadata": {
    "scrolled": true
   },
   "outputs": [
    {
     "data": {
      "text/plain": [
       "{'n_estimators': 121, 'max_depth': 9}"
      ]
     },
     "execution_count": 34,
     "metadata": {},
     "output_type": "execute_result"
    }
   ],
   "source": [
    "model_rfc.best_params_"
   ]
  },
  {
   "cell_type": "code",
   "execution_count": 35,
   "metadata": {
    "scrolled": true
   },
   "outputs": [
    {
     "data": {
      "text/plain": [
       "0.8628704324657678"
      ]
     },
     "execution_count": 35,
     "metadata": {},
     "output_type": "execute_result"
    }
   ],
   "source": [
    "model_rfc.best_score_"
   ]
  },
  {
   "cell_type": "markdown",
   "metadata": {},
   "source": [
    "При кросс-валидации получили auc-roc 0.85. Попробуем теперь LightGBM"
   ]
  },
  {
   "cell_type": "code",
   "execution_count": 36,
   "metadata": {
    "scrolled": true
   },
   "outputs": [
    {
     "name": "stdout",
     "output_type": "stream",
     "text": [
      "CPU times: user 57.1 s, sys: 486 ms, total: 57.6 s\n",
      "Wall time: 58.2 s\n"
     ]
    },
    {
     "data": {
      "text/plain": [
       "RandomizedSearchCV(cv=5,\n",
       "                   estimator=LGBMClassifier(class_weight='balanced',\n",
       "                                            random_state=171022),\n",
       "                   param_distributions={'n_estimators': [100, 101, 102, 103,\n",
       "                                                         104, 105, 106, 107,\n",
       "                                                         108, 109, 110, 111,\n",
       "                                                         112, 113, 114, 115,\n",
       "                                                         116, 117, 118, 119,\n",
       "                                                         120, 121, 122, 123,\n",
       "                                                         124, 125, 126, 127,\n",
       "                                                         128, 129, ...],\n",
       "                                        'num_leaves': [1, 1, 2, 3, 4, 4, 5, 6,\n",
       "                                                       7, 8, 8, 9, 10, 11, 12,\n",
       "                                                       12, 13, 14, 15, 16, 16,\n",
       "                                                       17, 18, 19, 20, 20, 21,\n",
       "                                                       22, 23, 24, ...]},\n",
       "                   scoring='roc_auc')"
      ]
     },
     "execution_count": 36,
     "metadata": {},
     "output_type": "execute_result"
    }
   ],
   "source": [
    "%%time\n",
    "n_estimators = [int(x) for x in np.linspace(start = 100, stop = 150)]\n",
    "num_leaves = [int(x) for x in np.linspace(start = 1, stop = 40)]\n",
    "lgb_grid = {'n_estimators': n_estimators,\n",
    "           'num_leaves':num_leaves}\n",
    "lgb_rs_model = RandomizedSearchCV(estimator = lgb.LGBMClassifier(random_state=171022, class_weight='balanced'),\n",
    "                                  param_distributions = lgb_grid, cv = 5, scoring = 'roc_auc')\n",
    "lgb_rs_model.fit(features_train, target_train)"
   ]
  },
  {
   "cell_type": "code",
   "execution_count": 37,
   "metadata": {
    "scrolled": true
   },
   "outputs": [
    {
     "data": {
      "text/plain": [
       "{'num_leaves': 36, 'n_estimators': 128}"
      ]
     },
     "execution_count": 37,
     "metadata": {},
     "output_type": "execute_result"
    }
   ],
   "source": [
    "lgb_rs_model.best_params_"
   ]
  },
  {
   "cell_type": "code",
   "execution_count": 38,
   "metadata": {
    "scrolled": true
   },
   "outputs": [
    {
     "data": {
      "text/plain": [
       "0.8939302036871698"
      ]
     },
     "execution_count": 38,
     "metadata": {},
     "output_type": "execute_result"
    }
   ],
   "source": [
    "lgb_rs_model.best_score_"
   ]
  },
  {
   "cell_type": "markdown",
   "metadata": {},
   "source": [
    "При кросс-валидации получили auc-roc 0.89. Нас такой результат вполне устраивает. Теперь можем на тестовой выборке проверить как показывает себя модель. "
   ]
  },
  {
   "cell_type": "markdown",
   "metadata": {},
   "source": [
    "## Тестовая выборка"
   ]
  },
  {
   "cell_type": "markdown",
   "metadata": {},
   "source": [
    "Рассчитаем auc-roc для тестовой выборки и построит roc кривую. Дополнительно рассчитаем метрику accuracy."
   ]
  },
  {
   "cell_type": "code",
   "execution_count": 39,
   "metadata": {},
   "outputs": [],
   "source": [
    "probabilities_lgb=lgb_rs_model.predict_proba(features_test) \n",
    "probabilities_one_lgb=probabilities_lgb[:,1]\n",
    "fpr_lgb,tpr_lgb,thresholds=roc_curve(target_test,probabilities_one_lgb)"
   ]
  },
  {
   "cell_type": "code",
   "execution_count": 40,
   "metadata": {},
   "outputs": [],
   "source": [
    "auc_roc_lgb = roc_auc_score(target_test, probabilities_one_lgb) #рассчет площади"
   ]
  },
  {
   "cell_type": "code",
   "execution_count": 41,
   "metadata": {},
   "outputs": [
    {
     "data": {
      "text/plain": [
       "0.8933064997018486"
      ]
     },
     "execution_count": 41,
     "metadata": {},
     "output_type": "execute_result"
    }
   ],
   "source": [
    "auc_roc_lgb"
   ]
  },
  {
   "cell_type": "code",
   "execution_count": 42,
   "metadata": {},
   "outputs": [
    {
     "data": {
      "text/plain": [
       "0.8316268486916951"
      ]
     },
     "execution_count": 42,
     "metadata": {},
     "output_type": "execute_result"
    }
   ],
   "source": [
    "pred_lgb = lgb_rs_model.predict(features_test)\n",
    "accuracy_score(target_test, pred_lgb)"
   ]
  },
  {
   "cell_type": "code",
   "execution_count": 43,
   "metadata": {
    "scrolled": false
   },
   "outputs": [
    {
     "data": {
      "text/plain": [
       "<Figure size 432x288 with 0 Axes>"
      ]
     },
     "metadata": {},
     "output_type": "display_data"
    },
    {
     "data": {
      "image/png": "[encoded data removed]",
      "text/plain": [
       "<Figure size 1296x360 with 1 Axes>"
      ]
     },
     "metadata": {
      "needs_background": "light"
     },
     "output_type": "display_data"
    }
   ],
   "source": [
    "plt.figure() # построик roc-кривую\n",
    "\n",
    "plt.figure(figsize=(18,5))\n",
    "plt.plot([0, 1], [0, 1], linestyle='--')\n",
    "plt.xlim([0.0, 1.0])\n",
    "plt.ylim([0.0, 1.0])\n",
    "plt.plot(fpr_lgb,tpr_lgb)\n",
    "plt.xlabel('False Positive Rate')\n",
    "plt.ylabel('True Positive Rate')\n",
    "plt.title('ROC-кривая')\n",
    "plt.legend(('Случайная модель','LightGBM'),\n",
    "           loc= 'upper left') \n",
    "plt.show()"
   ]
  },
  {
   "cell_type": "markdown",
   "metadata": {},
   "source": [
    "На тестовой выборке auc-roc результат получился 0.89"
   ]
  },
  {
   "cell_type": "markdown",
   "metadata": {},
   "source": [
    "## Вывод"
   ]
  },
  {
   "cell_type": "markdown",
   "metadata": {},
   "source": [
    "При выполнении проекта был проведен исследовательский анализ данных, в котором мы выделели целевой признак, узнали что в датасете 1/4 абонентов ушла, а 3/4 осталась. Добавили новый целевой признак - кол-во дней в роли абонента. \\\n",
    "Во второй части проекта мы объединили все 4 таблицы, удалили лишних пользователей и обработали пропуски. После этого проанализировали корреляцию между признаками и целевым признаком. Сильной корреляции между признаками и целевым признаком не выявили, но больше всего связаны с ним - paymentMethod, monthlyCharges и loyalty. Следом закодировали все категоральные признаки.\\\n",
    "В третьей части обучили две модели: Случайный лес и LightGBM. При кросс-валидации из двух моделей лучший результат показала модель градиентного бустинга. \\\n",
    "В итоговой части мы использовали лучшую модель с тестовым набором и достигли результата auc-roc 0.89, а показатель accuracy - 0.84."
   ]
  },
  {
   "cell_type": "markdown",
   "metadata": {},
   "source": [
    "## Модифицированная модель "
   ]
  },
  {
   "cell_type": "markdown",
   "metadata": {},
   "source": [
    "Из анализа значимости корреляции признаков мы определили, что у некоторых признаков зависимость слабая, попробуем обучить модель без них и посмотрим результат. "
   ]
  },
  {
   "cell_type": "code",
   "execution_count": 53,
   "metadata": {},
   "outputs": [],
   "source": [
    "signif_params_list = ['gender', 'Dependents', 'PaperlessBilling', 'Partner', 'SeniorCitizen']"
   ]
  },
  {
   "cell_type": "code",
   "execution_count": 54,
   "metadata": {},
   "outputs": [],
   "source": [
    "datax = data.copy()\n",
    "datax = datax.drop(labels=signif_params_list, axis=1)"
   ]
  },
  {
   "cell_type": "code",
   "execution_count": 55,
   "metadata": {},
   "outputs": [
    {
     "data": {
      "text/html": [
       "<div>\n",
       "<style scoped>\n",
       "    .dataframe tbody tr th:only-of-type {\n",
       "        vertical-align: middle;\n",
       "    }\n",
       "\n",
       "    .dataframe tbody tr th {\n",
       "        vertical-align: top;\n",
       "    }\n",
       "\n",
       "    .dataframe thead th {\n",
       "        text-align: right;\n",
       "    }\n",
       "</style>\n",
       "<table border=\"1\" class=\"dataframe\">\n",
       "  <thead>\n",
       "    <tr style=\"text-align: right;\">\n",
       "      <th></th>\n",
       "      <th>Type</th>\n",
       "      <th>PaymentMethod</th>\n",
       "      <th>MonthlyCharges</th>\n",
       "      <th>TotalCharges</th>\n",
       "      <th>still_here</th>\n",
       "      <th>loyalty</th>\n",
       "      <th>InternetService</th>\n",
       "      <th>OnlineSecurity</th>\n",
       "      <th>OnlineBackup</th>\n",
       "      <th>DeviceProtection</th>\n",
       "      <th>TechSupport</th>\n",
       "      <th>StreamingTV</th>\n",
       "      <th>StreamingMovies</th>\n",
       "      <th>MultipleLines</th>\n",
       "    </tr>\n",
       "  </thead>\n",
       "  <tbody>\n",
       "    <tr>\n",
       "      <th>0</th>\n",
       "      <td>Month-to-month</td>\n",
       "      <td>Electronic check</td>\n",
       "      <td>29.85</td>\n",
       "      <td>29.85</td>\n",
       "      <td>1.00</td>\n",
       "      <td>31.00</td>\n",
       "      <td>DSL</td>\n",
       "      <td>No</td>\n",
       "      <td>Yes</td>\n",
       "      <td>No</td>\n",
       "      <td>No</td>\n",
       "      <td>No</td>\n",
       "      <td>No</td>\n",
       "      <td>no info</td>\n",
       "    </tr>\n",
       "    <tr>\n",
       "      <th>1</th>\n",
       "      <td>One year</td>\n",
       "      <td>Mailed check</td>\n",
       "      <td>56.95</td>\n",
       "      <td>1,889.50</td>\n",
       "      <td>1.00</td>\n",
       "      <td>1,036.00</td>\n",
       "      <td>DSL</td>\n",
       "      <td>Yes</td>\n",
       "      <td>No</td>\n",
       "      <td>Yes</td>\n",
       "      <td>No</td>\n",
       "      <td>No</td>\n",
       "      <td>No</td>\n",
       "      <td>No</td>\n",
       "    </tr>\n",
       "    <tr>\n",
       "      <th>2</th>\n",
       "      <td>Month-to-month</td>\n",
       "      <td>Mailed check</td>\n",
       "      <td>53.85</td>\n",
       "      <td>108.15</td>\n",
       "      <td>0.00</td>\n",
       "      <td>61.00</td>\n",
       "      <td>DSL</td>\n",
       "      <td>Yes</td>\n",
       "      <td>Yes</td>\n",
       "      <td>No</td>\n",
       "      <td>No</td>\n",
       "      <td>No</td>\n",
       "      <td>No</td>\n",
       "      <td>No</td>\n",
       "    </tr>\n",
       "    <tr>\n",
       "      <th>3</th>\n",
       "      <td>One year</td>\n",
       "      <td>Bank transfer (automatic)</td>\n",
       "      <td>42.30</td>\n",
       "      <td>1,840.75</td>\n",
       "      <td>1.00</td>\n",
       "      <td>1,371.00</td>\n",
       "      <td>DSL</td>\n",
       "      <td>Yes</td>\n",
       "      <td>No</td>\n",
       "      <td>Yes</td>\n",
       "      <td>Yes</td>\n",
       "      <td>No</td>\n",
       "      <td>No</td>\n",
       "      <td>no info</td>\n",
       "    </tr>\n",
       "    <tr>\n",
       "      <th>4</th>\n",
       "      <td>Month-to-month</td>\n",
       "      <td>Electronic check</td>\n",
       "      <td>70.70</td>\n",
       "      <td>151.65</td>\n",
       "      <td>0.00</td>\n",
       "      <td>61.00</td>\n",
       "      <td>Fiber optic</td>\n",
       "      <td>No</td>\n",
       "      <td>No</td>\n",
       "      <td>No</td>\n",
       "      <td>No</td>\n",
       "      <td>No</td>\n",
       "      <td>No</td>\n",
       "      <td>No</td>\n",
       "    </tr>\n",
       "    <tr>\n",
       "      <th>...</th>\n",
       "      <td>...</td>\n",
       "      <td>...</td>\n",
       "      <td>...</td>\n",
       "      <td>...</td>\n",
       "      <td>...</td>\n",
       "      <td>...</td>\n",
       "      <td>...</td>\n",
       "      <td>...</td>\n",
       "      <td>...</td>\n",
       "      <td>...</td>\n",
       "      <td>...</td>\n",
       "      <td>...</td>\n",
       "      <td>...</td>\n",
       "      <td>...</td>\n",
       "    </tr>\n",
       "    <tr>\n",
       "      <th>7038</th>\n",
       "      <td>One year</td>\n",
       "      <td>Mailed check</td>\n",
       "      <td>84.80</td>\n",
       "      <td>1,990.50</td>\n",
       "      <td>1.00</td>\n",
       "      <td>730.00</td>\n",
       "      <td>DSL</td>\n",
       "      <td>Yes</td>\n",
       "      <td>No</td>\n",
       "      <td>Yes</td>\n",
       "      <td>Yes</td>\n",
       "      <td>Yes</td>\n",
       "      <td>Yes</td>\n",
       "      <td>Yes</td>\n",
       "    </tr>\n",
       "    <tr>\n",
       "      <th>7039</th>\n",
       "      <td>One year</td>\n",
       "      <td>Credit card (automatic)</td>\n",
       "      <td>103.20</td>\n",
       "      <td>7,362.90</td>\n",
       "      <td>1.00</td>\n",
       "      <td>2,191.00</td>\n",
       "      <td>Fiber optic</td>\n",
       "      <td>No</td>\n",
       "      <td>Yes</td>\n",
       "      <td>Yes</td>\n",
       "      <td>No</td>\n",
       "      <td>Yes</td>\n",
       "      <td>Yes</td>\n",
       "      <td>Yes</td>\n",
       "    </tr>\n",
       "    <tr>\n",
       "      <th>7040</th>\n",
       "      <td>Month-to-month</td>\n",
       "      <td>Electronic check</td>\n",
       "      <td>29.60</td>\n",
       "      <td>346.45</td>\n",
       "      <td>1.00</td>\n",
       "      <td>337.00</td>\n",
       "      <td>DSL</td>\n",
       "      <td>Yes</td>\n",
       "      <td>No</td>\n",
       "      <td>No</td>\n",
       "      <td>No</td>\n",
       "      <td>No</td>\n",
       "      <td>No</td>\n",
       "      <td>no info</td>\n",
       "    </tr>\n",
       "    <tr>\n",
       "      <th>7041</th>\n",
       "      <td>Month-to-month</td>\n",
       "      <td>Mailed check</td>\n",
       "      <td>74.40</td>\n",
       "      <td>306.60</td>\n",
       "      <td>0.00</td>\n",
       "      <td>123.00</td>\n",
       "      <td>Fiber optic</td>\n",
       "      <td>No</td>\n",
       "      <td>No</td>\n",
       "      <td>No</td>\n",
       "      <td>No</td>\n",
       "      <td>No</td>\n",
       "      <td>No</td>\n",
       "      <td>Yes</td>\n",
       "    </tr>\n",
       "    <tr>\n",
       "      <th>7042</th>\n",
       "      <td>Two year</td>\n",
       "      <td>Bank transfer (automatic)</td>\n",
       "      <td>105.65</td>\n",
       "      <td>6,844.50</td>\n",
       "      <td>1.00</td>\n",
       "      <td>2,010.00</td>\n",
       "      <td>Fiber optic</td>\n",
       "      <td>Yes</td>\n",
       "      <td>No</td>\n",
       "      <td>Yes</td>\n",
       "      <td>Yes</td>\n",
       "      <td>Yes</td>\n",
       "      <td>Yes</td>\n",
       "      <td>No</td>\n",
       "    </tr>\n",
       "  </tbody>\n",
       "</table>\n",
       "<p>7032 rows × 14 columns</p>\n",
       "</div>"
      ],
      "text/plain": [
       "                Type              PaymentMethod  MonthlyCharges  TotalCharges  \\\n",
       "0     Month-to-month           Electronic check           29.85         29.85   \n",
       "1           One year               Mailed check           56.95      1,889.50   \n",
       "2     Month-to-month               Mailed check           53.85        108.15   \n",
       "3           One year  Bank transfer (automatic)           42.30      1,840.75   \n",
       "4     Month-to-month           Electronic check           70.70        151.65   \n",
       "...              ...                        ...             ...           ...   \n",
       "7038        One year               Mailed check           84.80      1,990.50   \n",
       "7039        One year    Credit card (automatic)          103.20      7,362.90   \n",
       "7040  Month-to-month           Electronic check           29.60        346.45   \n",
       "7041  Month-to-month               Mailed check           74.40        306.60   \n",
       "7042        Two year  Bank transfer (automatic)          105.65      6,844.50   \n",
       "\n",
       "      still_here  loyalty InternetService OnlineSecurity OnlineBackup  \\\n",
       "0           1.00    31.00             DSL             No          Yes   \n",
       "1           1.00 1,036.00             DSL            Yes           No   \n",
       "2           0.00    61.00             DSL            Yes          Yes   \n",
       "3           1.00 1,371.00             DSL            Yes           No   \n",
       "4           0.00    61.00     Fiber optic             No           No   \n",
       "...          ...      ...             ...            ...          ...   \n",
       "7038        1.00   730.00             DSL            Yes           No   \n",
       "7039        1.00 2,191.00     Fiber optic             No          Yes   \n",
       "7040        1.00   337.00             DSL            Yes           No   \n",
       "7041        0.00   123.00     Fiber optic             No           No   \n",
       "7042        1.00 2,010.00     Fiber optic            Yes           No   \n",
       "\n",
       "     DeviceProtection TechSupport StreamingTV StreamingMovies MultipleLines  \n",
       "0                  No          No          No              No       no info  \n",
       "1                 Yes          No          No              No            No  \n",
       "2                  No          No          No              No            No  \n",
       "3                 Yes         Yes          No              No       no info  \n",
       "4                  No          No          No              No            No  \n",
       "...               ...         ...         ...             ...           ...  \n",
       "7038              Yes         Yes         Yes             Yes           Yes  \n",
       "7039              Yes          No         Yes             Yes           Yes  \n",
       "7040               No          No          No              No       no info  \n",
       "7041               No          No          No              No           Yes  \n",
       "7042              Yes         Yes         Yes             Yes            No  \n",
       "\n",
       "[7032 rows x 14 columns]"
      ]
     },
     "execution_count": 55,
     "metadata": {},
     "output_type": "execute_result"
    }
   ],
   "source": [
    "datax"
   ]
  },
  {
   "cell_type": "code",
   "execution_count": 56,
   "metadata": {
    "scrolled": true
   },
   "outputs": [
    {
     "name": "stdout",
     "output_type": "stream",
     "text": [
      "(5274, 13) (1758, 13)\n"
     ]
    }
   ],
   "source": [
    "datax_train, datax_test = train_test_split(datax, \n",
    "                                         test_size=0.25, \n",
    "                                         random_state=171022)\n",
    "features_train = datax_train.drop(['still_here'], axis=1)\n",
    "target_train = datax_train['still_here']\n",
    "features_test = datax_test.drop(['still_here'], axis=1)\n",
    "target_test = datax_test['still_here']\n",
    "print(features_train.shape, features_test.shape)"
   ]
  },
  {
   "cell_type": "code",
   "execution_count": 59,
   "metadata": {},
   "outputs": [],
   "source": [
    "categorical_columns = ['Type', 'PaymentMethod', \n",
    "                       'InternetService', 'OnlineSecurity','OnlineBackup', \n",
    "                       'DeviceProtection', 'TechSupport', 'StreamingTV',\n",
    "                       'StreamingMovies', 'MultipleLines']"
   ]
  },
  {
   "cell_type": "code",
   "execution_count": 60,
   "metadata": {
    "scrolled": true
   },
   "outputs": [
    {
     "data": {
      "text/plain": [
       "OrdinalEncoder()"
      ]
     },
     "execution_count": 60,
     "metadata": {},
     "output_type": "execute_result"
    }
   ],
   "source": [
    "enc = OrdinalEncoder()\n",
    "enc.fit(features_train[categorical_columns])"
   ]
  },
  {
   "cell_type": "code",
   "execution_count": 61,
   "metadata": {},
   "outputs": [],
   "source": [
    "features_train[categorical_columns] = enc.transform(features_train[categorical_columns])\n",
    "features_test[categorical_columns] = enc.transform(features_test[categorical_columns])"
   ]
  },
  {
   "cell_type": "code",
   "execution_count": 63,
   "metadata": {
    "scrolled": true
   },
   "outputs": [
    {
     "name": "stdout",
     "output_type": "stream",
     "text": [
      "CPU times: user 53 s, sys: 462 ms, total: 53.5 s\n",
      "Wall time: 54 s\n"
     ]
    },
    {
     "data": {
      "text/plain": [
       "RandomizedSearchCV(cv=5,\n",
       "                   estimator=LGBMClassifier(class_weight='balanced',\n",
       "                                            random_state=171022),\n",
       "                   param_distributions={'n_estimators': [100, 101, 102, 103,\n",
       "                                                         104, 105, 106, 107,\n",
       "                                                         108, 109, 110, 111,\n",
       "                                                         112, 113, 114, 115,\n",
       "                                                         116, 117, 118, 119,\n",
       "                                                         120, 121, 122, 123,\n",
       "                                                         124, 125, 126, 127,\n",
       "                                                         128, 129, ...],\n",
       "                                        'num_leaves': [1, 1, 2, 3, 4, 4, 5, 6,\n",
       "                                                       7, 8, 8, 9, 10, 11, 12,\n",
       "                                                       12, 13, 14, 15, 16, 16,\n",
       "                                                       17, 18, 19, 20, 20, 21,\n",
       "                                                       22, 23, 24, ...]},\n",
       "                   scoring='roc_auc')"
      ]
     },
     "execution_count": 63,
     "metadata": {},
     "output_type": "execute_result"
    }
   ],
   "source": [
    "%%time\n",
    "n_estimators = [int(x) for x in np.linspace(start = 100, stop = 150)]\n",
    "num_leaves = [int(x) for x in np.linspace(start = 1, stop = 40)]\n",
    "lgb_grid = {'n_estimators': n_estimators,\n",
    "           'num_leaves':num_leaves}\n",
    "lgb_rs_model = RandomizedSearchCV(estimator = lgb.LGBMClassifier(random_state=171022, class_weight='balanced'),\n",
    "                                  param_distributions = lgb_grid, cv = 5, scoring = 'roc_auc')\n",
    "lgb_rs_model.fit(features_train, target_train)"
   ]
  },
  {
   "cell_type": "code",
   "execution_count": 64,
   "metadata": {
    "scrolled": true
   },
   "outputs": [
    {
     "data": {
      "text/plain": [
       "{'num_leaves': 34, 'n_estimators': 124}"
      ]
     },
     "execution_count": 64,
     "metadata": {},
     "output_type": "execute_result"
    }
   ],
   "source": [
    "lgb_rs_model.best_params_"
   ]
  },
  {
   "cell_type": "code",
   "execution_count": 65,
   "metadata": {
    "scrolled": true
   },
   "outputs": [
    {
     "data": {
      "text/plain": [
       "0.8946346589401122"
      ]
     },
     "execution_count": 65,
     "metadata": {},
     "output_type": "execute_result"
    }
   ],
   "source": [
    "lgb_rs_model.best_score_"
   ]
  },
  {
   "cell_type": "code",
   "execution_count": 66,
   "metadata": {},
   "outputs": [],
   "source": [
    "probabilities_lgb=lgb_rs_model.predict_proba(features_test) \n",
    "probabilities_one_lgb=probabilities_lgb[:,1]\n",
    "fpr_lgb,tpr_lgb,thresholds=roc_curve(target_test,probabilities_one_lgb)"
   ]
  },
  {
   "cell_type": "code",
   "execution_count": 67,
   "metadata": {},
   "outputs": [],
   "source": [
    "auc_roc_lgb = roc_auc_score(target_test, probabilities_one_lgb) #рассчет площади"
   ]
  },
  {
   "cell_type": "code",
   "execution_count": 71,
   "metadata": {},
   "outputs": [
    {
     "data": {
      "text/plain": [
       "0.9012812230835487"
      ]
     },
     "execution_count": 71,
     "metadata": {},
     "output_type": "execute_result"
    }
   ],
   "source": [
    "auc_roc_lgb # На тестовой выборке рехультат "
   ]
  },
  {
   "cell_type": "code",
   "execution_count": 70,
   "metadata": {},
   "outputs": [
    {
     "data": {
      "text/plain": [
       "0.8378839590443686"
      ]
     },
     "execution_count": 70,
     "metadata": {},
     "output_type": "execute_result"
    }
   ],
   "source": [
    "pred_lgb = lgb_rs_model.predict(features_test) \n",
    "accuracy_score(target_test, pred_lgb) # На тестовой выборке рехультат "
   ]
  },
  {
   "cell_type": "markdown",
   "metadata": {},
   "source": [
    "## Отчет по проекту\n"
   ]
  },
  {
   "cell_type": "markdown",
   "metadata": {},
   "source": [
    "При выполнения проекта в начале был поставлен план, из которого получилось выполнить все пункты. \n",
    "\n",
    "В первой главе сперва посмотрели все датасеты, увидели, что недостает целевого признака, а так же даты не подходили нам в роли признаков для обучения модели, поэтому вывели категоральный целевой признак still_here, который показывает остался абонент или нет. Опредилили его по тому, прерывалось ли действие договора или нет. Потом добавили вместо даты другой признак - loyalty - сколько дней человек является абонентом компании. Затем изучили распределние нового признака и осмотрели баланс между целевым признаком. Так же обнаружились пропуски в столбце TotalCharges, но так как их было мало, мы их удалили. \n",
    "\n",
    "Во второй главе объединили все таблицы в одну, нашли аномалии (их тоже было мало, удалили), появились прпоуски. Так как много прпоусков появилось у столбцов с услугами(['InternetService', 'OnlineSecurity', 'OnlineBackup', 'DeviceProtection', 'TechSupport', 'StreamingTV', 'StreamingMovies']), то у них заменили пропуски уже имеющейся категорией No. Оставшиеся несколько столбцов добавили новую категорию no info. Удалили признак с датой. Далее провели анализ корреляции признаков и значимости корреляции. Так как никогда не пользовался инструментом philk, пришлось научиться использовать строить heatmap с помощью него и анализировать категоральные и числовые признаки вместе. После этого поделили выборки на тренировочную и тестовую 75:25 и закодировали категоральные признаки с помощью OrdinalEncoder.\n",
    "\n",
    "В третьей главе обучили две модели: Случайный лес и LightGBM, признаки подбирали с помощью RandomizerSearchCV. При кросс-валидации из двух моделей лучший результат показала модель градиентного бустинга. Сперва планировалось использовать Catboost, но так как механизм подбора признаков у него другой, не получилось достигнуть хорошего результата, а модель LightGBM дала лучшие результаты и имплементация не сильно отличалась от случайного леса. \n",
    "В итоговой главе мы использовали лучшую модель с тестовым набором и достигли результата auc-roc 0.89, а показатель accuracy - 0.84. Так же была построена кривая AUC-ROC.\n",
    "\n",
    "В плане все пункты были ключевыми и без них не получилось бы дстигнуть данных результатов. Я не испытал особых трудностей в проекте. \n",
    "\n",
    "Список признаков для обучения модели: Type, PaperlessBilling, PaymentMethod, MonthlyCharges, TotalCharges, loyalty, gender, SeniorCitizen, Partner, Dependents, InternetService, OnlineSecurity, OnlineBackup, DeviceProtectio, TechSupport, StreamingTV, StreamingMovies, MultipleLines.\\\n",
    "Целевой признак -  still_here\\\n",
    "Итоговая модель - LightGBM с гиперпараметрами num_leaves: 36, n_estimators: 128\n"
   ]
  },
  {
   "cell_type": "code",
   "execution_count": null,
   "metadata": {},
   "outputs": [],
   "source": []
  }
 ],
 "metadata": {
  "ExecuteTimeLog": [
   {
    "duration": 1575,
    "start_time": "2022-10-24T16:48:10.995Z"
   },
   {
    "duration": 143,
    "start_time": "2022-10-24T16:48:12.573Z"
   },
   {
    "duration": 24,
    "start_time": "2022-10-24T16:48:12.718Z"
   },
   {
    "duration": 18,
    "start_time": "2022-10-24T16:48:12.743Z"
   },
   {
    "duration": 46,
    "start_time": "2022-10-24T16:48:12.763Z"
   },
   {
    "duration": 0,
    "start_time": "2022-10-24T16:48:12.810Z"
   },
   {
    "duration": 0,
    "start_time": "2022-10-24T16:48:12.811Z"
   },
   {
    "duration": 0,
    "start_time": "2022-10-24T16:48:12.812Z"
   },
   {
    "duration": 0,
    "start_time": "2022-10-24T16:48:12.813Z"
   },
   {
    "duration": 0,
    "start_time": "2022-10-24T16:48:12.814Z"
   },
   {
    "duration": 0,
    "start_time": "2022-10-24T16:48:12.815Z"
   },
   {
    "duration": 0,
    "start_time": "2022-10-24T16:48:12.816Z"
   },
   {
    "duration": 0,
    "start_time": "2022-10-24T16:48:12.817Z"
   },
   {
    "duration": 0,
    "start_time": "2022-10-24T16:48:12.818Z"
   },
   {
    "duration": 0,
    "start_time": "2022-10-24T16:48:12.819Z"
   },
   {
    "duration": 0,
    "start_time": "2022-10-24T16:48:12.820Z"
   },
   {
    "duration": 0,
    "start_time": "2022-10-24T16:48:12.821Z"
   },
   {
    "duration": 1401,
    "start_time": "2022-10-24T16:48:30.097Z"
   },
   {
    "duration": 58,
    "start_time": "2022-10-24T16:48:31.500Z"
   },
   {
    "duration": 11,
    "start_time": "2022-10-24T16:48:31.560Z"
   },
   {
    "duration": 19,
    "start_time": "2022-10-24T16:48:31.573Z"
   },
   {
    "duration": 35,
    "start_time": "2022-10-24T16:48:31.594Z"
   },
   {
    "duration": 106,
    "start_time": "2022-10-24T16:48:31.631Z"
   },
   {
    "duration": 228,
    "start_time": "2022-10-24T16:48:31.738Z"
   },
   {
    "duration": 14,
    "start_time": "2022-10-24T16:48:31.968Z"
   },
   {
    "duration": 31,
    "start_time": "2022-10-24T16:48:31.984Z"
   },
   {
    "duration": 36,
    "start_time": "2022-10-24T16:48:32.017Z"
   },
   {
    "duration": 182,
    "start_time": "2022-10-24T16:48:32.055Z"
   },
   {
    "duration": 70,
    "start_time": "2022-10-24T16:48:32.238Z"
   },
   {
    "duration": 79,
    "start_time": "2022-10-24T16:48:32.310Z"
   },
   {
    "duration": 15,
    "start_time": "2022-10-24T16:48:32.393Z"
   },
   {
    "duration": 116,
    "start_time": "2022-10-24T16:48:32.410Z"
   },
   {
    "duration": 12,
    "start_time": "2022-10-24T16:48:32.528Z"
   },
   {
    "duration": 12,
    "start_time": "2022-10-24T16:53:10.058Z"
   },
   {
    "duration": 29,
    "start_time": "2022-10-24T16:53:14.171Z"
   },
   {
    "duration": 11,
    "start_time": "2022-10-24T16:54:17.843Z"
   },
   {
    "duration": 40,
    "start_time": "2022-10-24T16:54:21.596Z"
   },
   {
    "duration": 35,
    "start_time": "2022-10-24T16:54:42.309Z"
   },
   {
    "duration": 1320,
    "start_time": "2022-10-24T16:55:40.452Z"
   },
   {
    "duration": 60,
    "start_time": "2022-10-24T16:55:41.774Z"
   },
   {
    "duration": 12,
    "start_time": "2022-10-24T16:55:41.835Z"
   },
   {
    "duration": 14,
    "start_time": "2022-10-24T16:55:41.849Z"
   },
   {
    "duration": 6,
    "start_time": "2022-10-24T16:55:41.865Z"
   },
   {
    "duration": 84,
    "start_time": "2022-10-24T16:55:41.873Z"
   },
   {
    "duration": 232,
    "start_time": "2022-10-24T16:55:41.959Z"
   },
   {
    "duration": 14,
    "start_time": "2022-10-24T16:55:42.193Z"
   },
   {
    "duration": 18,
    "start_time": "2022-10-24T16:55:42.209Z"
   },
   {
    "duration": 19,
    "start_time": "2022-10-24T16:55:42.229Z"
   },
   {
    "duration": 26,
    "start_time": "2022-10-24T16:55:42.250Z"
   },
   {
    "duration": 82,
    "start_time": "2022-10-24T16:55:42.278Z"
   },
   {
    "duration": 33,
    "start_time": "2022-10-24T16:55:42.362Z"
   },
   {
    "duration": 11,
    "start_time": "2022-10-24T16:55:42.396Z"
   },
   {
    "duration": 27,
    "start_time": "2022-10-24T16:55:42.408Z"
   },
   {
    "duration": 9,
    "start_time": "2022-10-24T16:55:42.437Z"
   },
   {
    "duration": 56,
    "start_time": "2022-10-24T16:55:42.447Z"
   },
   {
    "duration": 15,
    "start_time": "2022-10-24T16:55:55.500Z"
   },
   {
    "duration": 914,
    "start_time": "2022-10-24T17:41:04.205Z"
   },
   {
    "duration": 1302,
    "start_time": "2022-10-24T17:41:09.932Z"
   },
   {
    "duration": 58,
    "start_time": "2022-10-24T17:41:11.235Z"
   },
   {
    "duration": 11,
    "start_time": "2022-10-24T17:41:11.295Z"
   },
   {
    "duration": 17,
    "start_time": "2022-10-24T17:41:11.309Z"
   },
   {
    "duration": 4,
    "start_time": "2022-10-24T17:41:11.328Z"
   },
   {
    "duration": 77,
    "start_time": "2022-10-24T17:41:11.334Z"
   },
   {
    "duration": 239,
    "start_time": "2022-10-24T17:41:11.422Z"
   },
   {
    "duration": 16,
    "start_time": "2022-10-24T17:41:11.663Z"
   },
   {
    "duration": 8,
    "start_time": "2022-10-24T17:41:11.680Z"
   },
   {
    "duration": 39,
    "start_time": "2022-10-24T17:41:11.691Z"
   },
   {
    "duration": 31,
    "start_time": "2022-10-24T17:41:11.732Z"
   },
   {
    "duration": 78,
    "start_time": "2022-10-24T17:41:11.765Z"
   },
   {
    "duration": 31,
    "start_time": "2022-10-24T17:41:11.845Z"
   },
   {
    "duration": 12,
    "start_time": "2022-10-24T17:41:11.877Z"
   },
   {
    "duration": 29,
    "start_time": "2022-10-24T17:41:11.891Z"
   },
   {
    "duration": 11,
    "start_time": "2022-10-24T17:41:11.921Z"
   },
   {
    "duration": 55,
    "start_time": "2022-10-24T17:41:11.934Z"
   },
   {
    "duration": 34,
    "start_time": "2022-10-24T17:41:11.991Z"
   },
   {
    "duration": 1137,
    "start_time": "2022-10-24T17:41:12.027Z"
   },
   {
    "duration": 6,
    "start_time": "2022-10-24T17:41:23.238Z"
   },
   {
    "duration": 6,
    "start_time": "2022-10-24T17:41:49.987Z"
   },
   {
    "duration": 6,
    "start_time": "2022-10-24T17:43:24.249Z"
   },
   {
    "duration": 4,
    "start_time": "2022-10-24T17:43:28.778Z"
   },
   {
    "duration": 4,
    "start_time": "2022-10-24T17:43:36.295Z"
   },
   {
    "duration": 28,
    "start_time": "2022-10-24T17:45:30.555Z"
   },
   {
    "duration": 6,
    "start_time": "2022-10-24T17:45:46.555Z"
   },
   {
    "duration": 3,
    "start_time": "2022-10-24T17:46:01.534Z"
   },
   {
    "duration": 483,
    "start_time": "2022-10-24T17:46:04.299Z"
   },
   {
    "duration": 1288,
    "start_time": "2022-10-24T17:46:18.954Z"
   },
   {
    "duration": 60,
    "start_time": "2022-10-24T17:46:20.244Z"
   },
   {
    "duration": 12,
    "start_time": "2022-10-24T17:46:20.306Z"
   },
   {
    "duration": 17,
    "start_time": "2022-10-24T17:46:20.320Z"
   },
   {
    "duration": 5,
    "start_time": "2022-10-24T17:46:20.340Z"
   },
   {
    "duration": 83,
    "start_time": "2022-10-24T17:46:20.346Z"
   },
   {
    "duration": 223,
    "start_time": "2022-10-24T17:46:20.430Z"
   },
   {
    "duration": 14,
    "start_time": "2022-10-24T17:46:20.655Z"
   },
   {
    "duration": 23,
    "start_time": "2022-10-24T17:46:20.670Z"
   },
   {
    "duration": 31,
    "start_time": "2022-10-24T17:46:20.694Z"
   },
   {
    "duration": 26,
    "start_time": "2022-10-24T17:46:20.727Z"
   },
   {
    "duration": 80,
    "start_time": "2022-10-24T17:46:20.754Z"
   },
   {
    "duration": 42,
    "start_time": "2022-10-24T17:46:20.836Z"
   },
   {
    "duration": 11,
    "start_time": "2022-10-24T17:46:20.880Z"
   },
   {
    "duration": 44,
    "start_time": "2022-10-24T17:46:20.892Z"
   },
   {
    "duration": 9,
    "start_time": "2022-10-24T17:46:20.938Z"
   },
   {
    "duration": 68,
    "start_time": "2022-10-24T17:46:20.948Z"
   },
   {
    "duration": 14,
    "start_time": "2022-10-24T17:46:21.017Z"
   },
   {
    "duration": 29,
    "start_time": "2022-10-24T17:48:16.049Z"
   },
   {
    "duration": 11,
    "start_time": "2022-10-24T17:48:20.488Z"
   },
   {
    "duration": 53,
    "start_time": "2022-10-24T19:50:33.429Z"
   },
   {
    "duration": 2146,
    "start_time": "2022-10-24T19:50:53.833Z"
   },
   {
    "duration": 215,
    "start_time": "2022-10-24T19:50:55.982Z"
   },
   {
    "duration": 20,
    "start_time": "2022-10-24T19:50:56.200Z"
   },
   {
    "duration": 56,
    "start_time": "2022-10-24T19:50:56.222Z"
   },
   {
    "duration": 48,
    "start_time": "2022-10-24T19:50:56.281Z"
   },
   {
    "duration": 149,
    "start_time": "2022-10-24T19:50:56.332Z"
   },
   {
    "duration": 365,
    "start_time": "2022-10-24T19:50:56.484Z"
   },
   {
    "duration": 23,
    "start_time": "2022-10-24T19:50:56.851Z"
   },
   {
    "duration": 11,
    "start_time": "2022-10-24T19:50:56.876Z"
   },
   {
    "duration": 54,
    "start_time": "2022-10-24T19:50:56.889Z"
   },
   {
    "duration": 114,
    "start_time": "2022-10-24T19:50:56.945Z"
   },
   {
    "duration": 111,
    "start_time": "2022-10-24T19:50:57.061Z"
   },
   {
    "duration": 90,
    "start_time": "2022-10-24T19:50:57.174Z"
   },
   {
    "duration": 16,
    "start_time": "2022-10-24T19:50:57.267Z"
   },
   {
    "duration": 62,
    "start_time": "2022-10-24T19:50:57.285Z"
   },
   {
    "duration": 16,
    "start_time": "2022-10-24T19:50:57.349Z"
   },
   {
    "duration": 76,
    "start_time": "2022-10-24T19:50:57.368Z"
   },
   {
    "duration": 18,
    "start_time": "2022-10-24T19:50:57.447Z"
   },
   {
    "duration": 28,
    "start_time": "2022-10-24T19:50:57.467Z"
   },
   {
    "duration": 12,
    "start_time": "2022-10-24T19:59:32.024Z"
   },
   {
    "duration": 47,
    "start_time": "2022-10-24T19:59:47.497Z"
   },
   {
    "duration": 29,
    "start_time": "2022-10-24T20:00:33.643Z"
   },
   {
    "duration": 124,
    "start_time": "2022-10-24T20:08:43.473Z"
   },
   {
    "duration": 9,
    "start_time": "2022-10-24T20:08:49.500Z"
   },
   {
    "duration": 29,
    "start_time": "2022-10-24T20:08:58.942Z"
   },
   {
    "duration": 25,
    "start_time": "2022-10-24T20:09:07.876Z"
   },
   {
    "duration": 36,
    "start_time": "2022-10-24T20:21:31.982Z"
   },
   {
    "duration": 50,
    "start_time": "2022-10-24T20:21:37.910Z"
   },
   {
    "duration": 44,
    "start_time": "2022-10-24T20:29:15.269Z"
   },
   {
    "duration": 12,
    "start_time": "2022-10-24T20:29:33.101Z"
   },
   {
    "duration": 10,
    "start_time": "2022-10-24T20:29:57.038Z"
   },
   {
    "duration": 1523,
    "start_time": "2022-10-24T20:37:27.923Z"
   },
   {
    "duration": 73,
    "start_time": "2022-10-24T20:37:29.447Z"
   },
   {
    "duration": 12,
    "start_time": "2022-10-24T20:37:29.522Z"
   },
   {
    "duration": 16,
    "start_time": "2022-10-24T20:37:29.536Z"
   },
   {
    "duration": 5,
    "start_time": "2022-10-24T20:37:29.553Z"
   },
   {
    "duration": 130,
    "start_time": "2022-10-24T20:37:29.560Z"
   },
   {
    "duration": 294,
    "start_time": "2022-10-24T20:37:29.692Z"
   },
   {
    "duration": 20,
    "start_time": "2022-10-24T20:37:29.988Z"
   },
   {
    "duration": 24,
    "start_time": "2022-10-24T20:37:30.009Z"
   },
   {
    "duration": 20,
    "start_time": "2022-10-24T20:37:30.036Z"
   },
   {
    "duration": 27,
    "start_time": "2022-10-24T20:37:30.058Z"
   },
   {
    "duration": 98,
    "start_time": "2022-10-24T20:37:30.087Z"
   },
   {
    "duration": 45,
    "start_time": "2022-10-24T20:37:30.187Z"
   },
   {
    "duration": 12,
    "start_time": "2022-10-24T20:37:30.234Z"
   },
   {
    "duration": 34,
    "start_time": "2022-10-24T20:37:30.247Z"
   },
   {
    "duration": 10,
    "start_time": "2022-10-24T20:37:30.283Z"
   },
   {
    "duration": 70,
    "start_time": "2022-10-24T20:37:30.295Z"
   },
   {
    "duration": 13,
    "start_time": "2022-10-24T20:37:30.367Z"
   },
   {
    "duration": 146,
    "start_time": "2022-10-24T20:37:30.382Z"
   },
   {
    "duration": 10,
    "start_time": "2022-10-24T20:37:51.029Z"
   },
   {
    "duration": 1353,
    "start_time": "2022-10-24T20:38:04.244Z"
   },
   {
    "duration": 61,
    "start_time": "2022-10-24T20:38:05.599Z"
   },
   {
    "duration": 14,
    "start_time": "2022-10-24T20:38:05.662Z"
   },
   {
    "duration": 12,
    "start_time": "2022-10-24T20:38:05.679Z"
   },
   {
    "duration": 9,
    "start_time": "2022-10-24T20:38:05.693Z"
   },
   {
    "duration": 82,
    "start_time": "2022-10-24T20:38:05.704Z"
   },
   {
    "duration": 304,
    "start_time": "2022-10-24T20:38:05.787Z"
   },
   {
    "duration": 16,
    "start_time": "2022-10-24T20:38:06.093Z"
   },
   {
    "duration": 22,
    "start_time": "2022-10-24T20:38:06.111Z"
   },
   {
    "duration": 29,
    "start_time": "2022-10-24T20:38:06.135Z"
   },
   {
    "duration": 32,
    "start_time": "2022-10-24T20:38:06.166Z"
   },
   {
    "duration": 102,
    "start_time": "2022-10-24T20:38:06.200Z"
   },
   {
    "duration": 51,
    "start_time": "2022-10-24T20:38:06.304Z"
   },
   {
    "duration": 16,
    "start_time": "2022-10-24T20:38:06.357Z"
   },
   {
    "duration": 34,
    "start_time": "2022-10-24T20:38:06.375Z"
   },
   {
    "duration": 17,
    "start_time": "2022-10-24T20:38:06.411Z"
   },
   {
    "duration": 50,
    "start_time": "2022-10-24T20:38:06.430Z"
   },
   {
    "duration": 12,
    "start_time": "2022-10-24T20:38:06.482Z"
   },
   {
    "duration": 118,
    "start_time": "2022-10-24T20:38:06.495Z"
   },
   {
    "duration": 15,
    "start_time": "2022-10-24T20:38:29.679Z"
   },
   {
    "duration": 9,
    "start_time": "2022-10-24T20:39:15.855Z"
   },
   {
    "duration": 1352,
    "start_time": "2022-10-24T20:41:50.430Z"
   },
   {
    "duration": 66,
    "start_time": "2022-10-24T20:41:51.784Z"
   },
   {
    "duration": 13,
    "start_time": "2022-10-24T20:41:51.852Z"
   },
   {
    "duration": 12,
    "start_time": "2022-10-24T20:41:51.868Z"
   },
   {
    "duration": 6,
    "start_time": "2022-10-24T20:41:51.881Z"
   },
   {
    "duration": 106,
    "start_time": "2022-10-24T20:41:51.888Z"
   },
   {
    "duration": 269,
    "start_time": "2022-10-24T20:41:51.996Z"
   },
   {
    "duration": 15,
    "start_time": "2022-10-24T20:41:52.267Z"
   },
   {
    "duration": 8,
    "start_time": "2022-10-24T20:41:52.283Z"
   },
   {
    "duration": 40,
    "start_time": "2022-10-24T20:41:52.294Z"
   },
   {
    "duration": 101,
    "start_time": "2022-10-24T20:41:52.336Z"
   },
   {
    "duration": 12,
    "start_time": "2022-10-24T20:41:52.439Z"
   },
   {
    "duration": 37,
    "start_time": "2022-10-24T20:41:52.453Z"
   },
   {
    "duration": 12,
    "start_time": "2022-10-24T20:41:52.492Z"
   },
   {
    "duration": 22,
    "start_time": "2022-10-24T20:41:52.506Z"
   },
   {
    "duration": 12,
    "start_time": "2022-10-24T20:41:52.529Z"
   },
   {
    "duration": 44,
    "start_time": "2022-10-24T20:41:52.542Z"
   },
   {
    "duration": 46,
    "start_time": "2022-10-24T20:41:52.587Z"
   },
   {
    "duration": 10,
    "start_time": "2022-10-24T20:41:52.636Z"
   },
   {
    "duration": 47,
    "start_time": "2022-10-24T20:41:52.648Z"
   },
   {
    "duration": 71,
    "start_time": "2022-10-24T20:42:02.262Z"
   },
   {
    "duration": 73,
    "start_time": "2022-10-24T20:42:18.756Z"
   },
   {
    "duration": 39,
    "start_time": "2022-10-24T20:42:29.447Z"
   },
   {
    "duration": 40,
    "start_time": "2022-10-24T20:44:00.152Z"
   },
   {
    "duration": 9,
    "start_time": "2022-10-24T20:44:18.720Z"
   },
   {
    "duration": 40,
    "start_time": "2022-10-24T20:44:20.523Z"
   },
   {
    "duration": 51,
    "start_time": "2022-10-24T20:45:09.952Z"
   },
   {
    "duration": 18,
    "start_time": "2022-10-24T20:45:22.222Z"
   },
   {
    "duration": 10,
    "start_time": "2022-10-24T20:45:59.663Z"
   },
   {
    "duration": 27,
    "start_time": "2022-10-24T20:48:36.458Z"
   },
   {
    "duration": 116,
    "start_time": "2022-10-24T20:53:08.198Z"
   },
   {
    "duration": 4,
    "start_time": "2022-10-24T20:53:19.201Z"
   },
   {
    "duration": 4,
    "start_time": "2022-10-24T20:53:21.567Z"
   },
   {
    "duration": 9,
    "start_time": "2022-10-24T20:53:25.718Z"
   },
   {
    "duration": 11,
    "start_time": "2022-10-24T20:53:35.085Z"
   },
   {
    "duration": 12,
    "start_time": "2022-10-24T20:54:49.082Z"
   },
   {
    "duration": 10,
    "start_time": "2022-10-24T20:54:55.022Z"
   },
   {
    "duration": 10,
    "start_time": "2022-10-24T20:55:25.909Z"
   },
   {
    "duration": 14,
    "start_time": "2022-10-24T20:55:30.632Z"
   },
   {
    "duration": 4,
    "start_time": "2022-10-24T20:55:33.612Z"
   },
   {
    "duration": 3,
    "start_time": "2022-10-24T20:58:57.974Z"
   },
   {
    "duration": 66,
    "start_time": "2022-10-24T21:02:33.133Z"
   },
   {
    "duration": 1413,
    "start_time": "2022-10-24T21:03:11.763Z"
   },
   {
    "duration": 61,
    "start_time": "2022-10-24T21:03:13.178Z"
   },
   {
    "duration": 13,
    "start_time": "2022-10-24T21:03:13.241Z"
   },
   {
    "duration": 15,
    "start_time": "2022-10-24T21:03:13.256Z"
   },
   {
    "duration": 5,
    "start_time": "2022-10-24T21:03:13.273Z"
   },
   {
    "duration": 98,
    "start_time": "2022-10-24T21:03:13.280Z"
   },
   {
    "duration": 248,
    "start_time": "2022-10-24T21:03:13.380Z"
   },
   {
    "duration": 16,
    "start_time": "2022-10-24T21:03:13.632Z"
   },
   {
    "duration": 7,
    "start_time": "2022-10-24T21:03:13.650Z"
   },
   {
    "duration": 104,
    "start_time": "2022-10-24T21:03:13.659Z"
   },
   {
    "duration": 26,
    "start_time": "2022-10-24T21:03:13.765Z"
   },
   {
    "duration": 11,
    "start_time": "2022-10-24T21:03:13.793Z"
   },
   {
    "duration": 36,
    "start_time": "2022-10-24T21:03:13.806Z"
   },
   {
    "duration": 11,
    "start_time": "2022-10-24T21:03:13.844Z"
   },
   {
    "duration": 26,
    "start_time": "2022-10-24T21:03:13.856Z"
   },
   {
    "duration": 9,
    "start_time": "2022-10-24T21:03:13.883Z"
   },
   {
    "duration": 47,
    "start_time": "2022-10-24T21:03:13.894Z"
   },
   {
    "duration": 26,
    "start_time": "2022-10-24T21:03:13.943Z"
   },
   {
    "duration": 20,
    "start_time": "2022-10-24T21:03:13.971Z"
   },
   {
    "duration": 11,
    "start_time": "2022-10-24T21:03:13.992Z"
   },
   {
    "duration": 28,
    "start_time": "2022-10-24T21:03:14.005Z"
   },
   {
    "duration": 13,
    "start_time": "2022-10-24T21:03:14.035Z"
   },
   {
    "duration": 135,
    "start_time": "2022-10-24T21:03:14.050Z"
   },
   {
    "duration": 0,
    "start_time": "2022-10-24T21:03:14.187Z"
   },
   {
    "duration": 16,
    "start_time": "2022-10-24T21:03:49.963Z"
   },
   {
    "duration": 24,
    "start_time": "2022-10-24T21:04:10.638Z"
   },
   {
    "duration": 12,
    "start_time": "2022-10-24T21:04:29.654Z"
   },
   {
    "duration": 16,
    "start_time": "2022-10-24T21:04:31.825Z"
   },
   {
    "duration": 17,
    "start_time": "2022-10-24T21:04:46.663Z"
   },
   {
    "duration": 17,
    "start_time": "2022-10-24T21:05:05.624Z"
   },
   {
    "duration": 1340,
    "start_time": "2022-10-24T21:07:33.984Z"
   },
   {
    "duration": 61,
    "start_time": "2022-10-24T21:07:35.326Z"
   },
   {
    "duration": 14,
    "start_time": "2022-10-24T21:07:35.388Z"
   },
   {
    "duration": 30,
    "start_time": "2022-10-24T21:07:35.404Z"
   },
   {
    "duration": 18,
    "start_time": "2022-10-24T21:07:35.436Z"
   },
   {
    "duration": 91,
    "start_time": "2022-10-24T21:07:35.456Z"
   },
   {
    "duration": 246,
    "start_time": "2022-10-24T21:07:35.548Z"
   },
   {
    "duration": 20,
    "start_time": "2022-10-24T21:07:35.796Z"
   },
   {
    "duration": 21,
    "start_time": "2022-10-24T21:07:35.818Z"
   },
   {
    "duration": 103,
    "start_time": "2022-10-24T21:07:35.841Z"
   },
   {
    "duration": 26,
    "start_time": "2022-10-24T21:07:35.945Z"
   },
   {
    "duration": 11,
    "start_time": "2022-10-24T21:07:35.973Z"
   },
   {
    "duration": 43,
    "start_time": "2022-10-24T21:07:35.985Z"
   },
   {
    "duration": 9,
    "start_time": "2022-10-24T21:07:36.030Z"
   },
   {
    "duration": 43,
    "start_time": "2022-10-24T21:07:36.041Z"
   },
   {
    "duration": 9,
    "start_time": "2022-10-24T21:07:36.086Z"
   },
   {
    "duration": 61,
    "start_time": "2022-10-24T21:07:36.097Z"
   },
   {
    "duration": 27,
    "start_time": "2022-10-24T21:07:36.161Z"
   },
   {
    "duration": 20,
    "start_time": "2022-10-24T21:07:36.190Z"
   },
   {
    "duration": 32,
    "start_time": "2022-10-24T21:07:36.211Z"
   },
   {
    "duration": 24,
    "start_time": "2022-10-24T21:07:36.244Z"
   },
   {
    "duration": 39,
    "start_time": "2022-10-24T21:07:36.270Z"
   },
   {
    "duration": 116,
    "start_time": "2022-10-24T21:07:55.433Z"
   },
   {
    "duration": 1359,
    "start_time": "2022-10-24T21:08:27.451Z"
   },
   {
    "duration": 59,
    "start_time": "2022-10-24T21:08:28.812Z"
   },
   {
    "duration": 13,
    "start_time": "2022-10-24T21:08:28.873Z"
   },
   {
    "duration": 14,
    "start_time": "2022-10-24T21:08:28.887Z"
   },
   {
    "duration": 5,
    "start_time": "2022-10-24T21:08:28.903Z"
   },
   {
    "duration": 79,
    "start_time": "2022-10-24T21:08:28.910Z"
   },
   {
    "duration": 233,
    "start_time": "2022-10-24T21:08:28.991Z"
   },
   {
    "duration": 19,
    "start_time": "2022-10-24T21:08:29.226Z"
   },
   {
    "duration": 8,
    "start_time": "2022-10-24T21:08:29.247Z"
   },
   {
    "duration": 19,
    "start_time": "2022-10-24T21:08:29.257Z"
   },
   {
    "duration": 27,
    "start_time": "2022-10-24T21:08:29.277Z"
   },
   {
    "duration": 96,
    "start_time": "2022-10-24T21:08:29.305Z"
   },
   {
    "duration": 32,
    "start_time": "2022-10-24T21:08:29.403Z"
   },
   {
    "duration": 10,
    "start_time": "2022-10-24T21:08:29.438Z"
   },
   {
    "duration": 25,
    "start_time": "2022-10-24T21:08:29.450Z"
   },
   {
    "duration": 9,
    "start_time": "2022-10-24T21:08:29.476Z"
   },
   {
    "duration": 47,
    "start_time": "2022-10-24T21:08:29.487Z"
   },
   {
    "duration": 28,
    "start_time": "2022-10-24T21:08:29.536Z"
   },
   {
    "duration": 20,
    "start_time": "2022-10-24T21:08:29.566Z"
   },
   {
    "duration": 12,
    "start_time": "2022-10-24T21:08:29.587Z"
   },
   {
    "duration": 4,
    "start_time": "2022-10-24T21:08:29.600Z"
   },
   {
    "duration": 39,
    "start_time": "2022-10-24T21:08:29.605Z"
   },
   {
    "duration": 62,
    "start_time": "2022-10-24T21:08:29.645Z"
   },
   {
    "duration": 34,
    "start_time": "2022-10-24T21:09:05.229Z"
   },
   {
    "duration": 134,
    "start_time": "2022-10-24T21:09:46.383Z"
   },
   {
    "duration": 1509,
    "start_time": "2022-10-24T21:10:00.412Z"
   },
   {
    "duration": 62,
    "start_time": "2022-10-24T21:10:01.923Z"
   },
   {
    "duration": 12,
    "start_time": "2022-10-24T21:10:01.987Z"
   },
   {
    "duration": 17,
    "start_time": "2022-10-24T21:10:02.001Z"
   },
   {
    "duration": 13,
    "start_time": "2022-10-24T21:10:02.020Z"
   },
   {
    "duration": 91,
    "start_time": "2022-10-24T21:10:02.035Z"
   },
   {
    "duration": 235,
    "start_time": "2022-10-24T21:10:02.127Z"
   },
   {
    "duration": 14,
    "start_time": "2022-10-24T21:10:02.364Z"
   },
   {
    "duration": 32,
    "start_time": "2022-10-24T21:10:02.380Z"
   },
   {
    "duration": 56,
    "start_time": "2022-10-24T21:10:02.414Z"
   },
   {
    "duration": 27,
    "start_time": "2022-10-24T21:10:02.472Z"
   },
   {
    "duration": 88,
    "start_time": "2022-10-24T21:10:02.501Z"
   },
   {
    "duration": 73,
    "start_time": "2022-10-24T21:10:02.591Z"
   },
   {
    "duration": 11,
    "start_time": "2022-10-24T21:10:02.667Z"
   },
   {
    "duration": 30,
    "start_time": "2022-10-24T21:10:02.680Z"
   },
   {
    "duration": 9,
    "start_time": "2022-10-24T21:10:02.712Z"
   },
   {
    "duration": 46,
    "start_time": "2022-10-24T21:10:02.723Z"
   },
   {
    "duration": 26,
    "start_time": "2022-10-24T21:10:02.771Z"
   },
   {
    "duration": 29,
    "start_time": "2022-10-24T21:10:02.799Z"
   },
   {
    "duration": 9,
    "start_time": "2022-10-24T21:10:02.832Z"
   },
   {
    "duration": 6,
    "start_time": "2022-10-24T21:10:02.843Z"
   },
   {
    "duration": 14,
    "start_time": "2022-10-24T21:10:02.850Z"
   },
   {
    "duration": 69,
    "start_time": "2022-10-24T21:10:02.865Z"
   },
   {
    "duration": 32,
    "start_time": "2022-10-24T21:10:02.936Z"
   },
   {
    "duration": 1655,
    "start_time": "2022-10-25T15:41:12.128Z"
   },
   {
    "duration": 0,
    "start_time": "2022-10-25T15:41:13.785Z"
   },
   {
    "duration": 0,
    "start_time": "2022-10-25T15:41:13.786Z"
   },
   {
    "duration": 0,
    "start_time": "2022-10-25T15:41:13.788Z"
   },
   {
    "duration": 0,
    "start_time": "2022-10-25T15:41:13.788Z"
   },
   {
    "duration": 0,
    "start_time": "2022-10-25T15:41:13.791Z"
   },
   {
    "duration": 0,
    "start_time": "2022-10-25T15:41:13.792Z"
   },
   {
    "duration": 0,
    "start_time": "2022-10-25T15:41:13.793Z"
   },
   {
    "duration": 0,
    "start_time": "2022-10-25T15:41:13.795Z"
   },
   {
    "duration": 0,
    "start_time": "2022-10-25T15:41:13.796Z"
   },
   {
    "duration": 0,
    "start_time": "2022-10-25T15:41:13.797Z"
   },
   {
    "duration": 0,
    "start_time": "2022-10-25T15:41:13.798Z"
   },
   {
    "duration": 0,
    "start_time": "2022-10-25T15:41:13.799Z"
   },
   {
    "duration": 0,
    "start_time": "2022-10-25T15:41:13.802Z"
   },
   {
    "duration": 0,
    "start_time": "2022-10-25T15:41:13.803Z"
   },
   {
    "duration": 1,
    "start_time": "2022-10-25T15:41:13.804Z"
   },
   {
    "duration": 0,
    "start_time": "2022-10-25T15:41:13.805Z"
   },
   {
    "duration": 1,
    "start_time": "2022-10-25T15:41:13.806Z"
   },
   {
    "duration": 0,
    "start_time": "2022-10-25T15:41:13.808Z"
   },
   {
    "duration": 0,
    "start_time": "2022-10-25T15:41:13.809Z"
   },
   {
    "duration": 0,
    "start_time": "2022-10-25T15:41:13.810Z"
   },
   {
    "duration": 0,
    "start_time": "2022-10-25T15:41:13.811Z"
   },
   {
    "duration": 0,
    "start_time": "2022-10-25T15:41:13.812Z"
   },
   {
    "duration": 0,
    "start_time": "2022-10-25T15:41:13.813Z"
   },
   {
    "duration": 0,
    "start_time": "2022-10-25T15:41:13.814Z"
   },
   {
    "duration": 91,
    "start_time": "2022-10-25T15:41:56.844Z"
   },
   {
    "duration": 71,
    "start_time": "2022-10-25T15:42:01.505Z"
   },
   {
    "duration": 72,
    "start_time": "2022-10-25T15:42:04.824Z"
   },
   {
    "duration": 72,
    "start_time": "2022-10-25T15:42:26.038Z"
   },
   {
    "duration": 23,
    "start_time": "2022-10-25T15:52:07.270Z"
   },
   {
    "duration": 10,
    "start_time": "2022-10-25T15:52:27.997Z"
   },
   {
    "duration": 4,
    "start_time": "2022-10-25T16:01:48.024Z"
   },
   {
    "duration": 10,
    "start_time": "2022-10-25T16:01:49.548Z"
   },
   {
    "duration": 2317,
    "start_time": "2022-10-25T16:02:18.203Z"
   },
   {
    "duration": 2832,
    "start_time": "2022-10-25T16:02:30.499Z"
   },
   {
    "duration": 17,
    "start_time": "2022-10-25T16:02:41.862Z"
   },
   {
    "duration": 1481,
    "start_time": "2022-10-25T16:03:10.782Z"
   },
   {
    "duration": 12,
    "start_time": "2022-10-25T16:03:12.265Z"
   },
   {
    "duration": 157,
    "start_time": "2022-10-25T16:03:12.278Z"
   },
   {
    "duration": 14,
    "start_time": "2022-10-25T16:03:12.437Z"
   },
   {
    "duration": 15,
    "start_time": "2022-10-25T16:03:12.453Z"
   },
   {
    "duration": 6,
    "start_time": "2022-10-25T16:03:12.470Z"
   },
   {
    "duration": 87,
    "start_time": "2022-10-25T16:03:12.478Z"
   },
   {
    "duration": 251,
    "start_time": "2022-10-25T16:03:12.567Z"
   },
   {
    "duration": 16,
    "start_time": "2022-10-25T16:03:12.820Z"
   },
   {
    "duration": 11,
    "start_time": "2022-10-25T16:03:12.838Z"
   },
   {
    "duration": 41,
    "start_time": "2022-10-25T16:03:12.851Z"
   },
   {
    "duration": 52,
    "start_time": "2022-10-25T16:03:12.893Z"
   },
   {
    "duration": 89,
    "start_time": "2022-10-25T16:03:12.947Z"
   },
   {
    "duration": 108,
    "start_time": "2022-10-25T16:03:13.039Z"
   },
   {
    "duration": 12,
    "start_time": "2022-10-25T16:03:13.148Z"
   },
   {
    "duration": 55,
    "start_time": "2022-10-25T16:03:13.161Z"
   },
   {
    "duration": 10,
    "start_time": "2022-10-25T16:03:13.218Z"
   },
   {
    "duration": 48,
    "start_time": "2022-10-25T16:03:13.230Z"
   },
   {
    "duration": 31,
    "start_time": "2022-10-25T16:03:13.280Z"
   },
   {
    "duration": 22,
    "start_time": "2022-10-25T16:03:13.312Z"
   },
   {
    "duration": 10,
    "start_time": "2022-10-25T16:03:13.335Z"
   },
   {
    "duration": 3,
    "start_time": "2022-10-25T16:03:13.347Z"
   },
   {
    "duration": 12,
    "start_time": "2022-10-25T16:03:13.352Z"
   },
   {
    "duration": 56,
    "start_time": "2022-10-25T16:03:13.390Z"
   },
   {
    "duration": 48,
    "start_time": "2022-10-25T16:03:13.448Z"
   },
   {
    "duration": 116,
    "start_time": "2022-10-25T16:03:13.497Z"
   },
   {
    "duration": 902,
    "start_time": "2022-10-25T16:03:35.055Z"
   },
   {
    "duration": 1099,
    "start_time": "2022-10-25T16:03:44.468Z"
   },
   {
    "duration": 11,
    "start_time": "2022-10-25T16:21:43.696Z"
   },
   {
    "duration": 1204,
    "start_time": "2022-10-25T16:21:58.196Z"
   },
   {
    "duration": 4746,
    "start_time": "2022-10-25T16:23:36.430Z"
   },
   {
    "duration": 4625,
    "start_time": "2022-10-25T16:23:52.596Z"
   },
   {
    "duration": 32681,
    "start_time": "2022-10-25T16:32:58.361Z"
   },
   {
    "duration": 25584,
    "start_time": "2022-10-25T16:55:21.500Z"
   },
   {
    "duration": 26,
    "start_time": "2022-10-25T16:58:03.485Z"
   },
   {
    "duration": 1477,
    "start_time": "2022-10-25T16:58:26.397Z"
   },
   {
    "duration": 16,
    "start_time": "2022-10-25T16:58:27.877Z"
   },
   {
    "duration": 61,
    "start_time": "2022-10-25T16:58:27.894Z"
   },
   {
    "duration": 15,
    "start_time": "2022-10-25T16:58:27.958Z"
   },
   {
    "duration": 14,
    "start_time": "2022-10-25T16:58:27.975Z"
   },
   {
    "duration": 5,
    "start_time": "2022-10-25T16:58:27.990Z"
   },
   {
    "duration": 96,
    "start_time": "2022-10-25T16:58:27.997Z"
   },
   {
    "duration": 257,
    "start_time": "2022-10-25T16:58:28.095Z"
   },
   {
    "duration": 15,
    "start_time": "2022-10-25T16:58:28.354Z"
   },
   {
    "duration": 21,
    "start_time": "2022-10-25T16:58:28.371Z"
   },
   {
    "duration": 116,
    "start_time": "2022-10-25T16:58:28.394Z"
   },
   {
    "duration": 27,
    "start_time": "2022-10-25T16:58:28.512Z"
   },
   {
    "duration": 13,
    "start_time": "2022-10-25T16:58:28.540Z"
   },
   {
    "duration": 40,
    "start_time": "2022-10-25T16:58:28.554Z"
   },
   {
    "duration": 12,
    "start_time": "2022-10-25T16:58:28.596Z"
   },
   {
    "duration": 37,
    "start_time": "2022-10-25T16:58:28.609Z"
   },
   {
    "duration": 12,
    "start_time": "2022-10-25T16:58:28.648Z"
   },
   {
    "duration": 66,
    "start_time": "2022-10-25T16:58:28.662Z"
   },
   {
    "duration": 30,
    "start_time": "2022-10-25T16:58:28.731Z"
   },
   {
    "duration": 39,
    "start_time": "2022-10-25T16:58:28.763Z"
   },
   {
    "duration": 18,
    "start_time": "2022-10-25T16:58:28.804Z"
   },
   {
    "duration": 6,
    "start_time": "2022-10-25T16:58:28.824Z"
   },
   {
    "duration": 29,
    "start_time": "2022-10-25T16:58:28.833Z"
   },
   {
    "duration": 90,
    "start_time": "2022-10-25T16:58:28.864Z"
   },
   {
    "duration": 4424,
    "start_time": "2022-10-25T16:58:28.956Z"
   },
   {
    "duration": 3,
    "start_time": "2022-10-25T17:00:26.261Z"
   },
   {
    "duration": 543,
    "start_time": "2022-10-25T17:29:07.704Z"
   },
   {
    "duration": 506,
    "start_time": "2022-10-25T17:30:18.876Z"
   },
   {
    "duration": 634,
    "start_time": "2022-10-25T17:30:54.285Z"
   },
   {
    "duration": 576,
    "start_time": "2022-10-25T17:32:03.099Z"
   },
   {
    "duration": 6,
    "start_time": "2022-10-25T17:32:06.570Z"
   },
   {
    "duration": 197,
    "start_time": "2022-10-25T17:33:32.384Z"
   },
   {
    "duration": 24528,
    "start_time": "2022-10-25T17:33:49.154Z"
   },
   {
    "duration": 128,
    "start_time": "2022-10-25T17:35:32.347Z"
   },
   {
    "duration": 31731,
    "start_time": "2022-10-25T17:35:46.507Z"
   },
   {
    "duration": 92,
    "start_time": "2022-10-25T17:37:25.921Z"
   },
   {
    "duration": 87,
    "start_time": "2022-10-25T17:37:39.072Z"
   },
   {
    "duration": 21,
    "start_time": "2022-10-25T17:38:02.789Z"
   },
   {
    "duration": 17,
    "start_time": "2022-10-25T17:38:40.717Z"
   },
   {
    "duration": 180,
    "start_time": "2022-10-25T17:38:54.013Z"
   },
   {
    "duration": 99,
    "start_time": "2022-10-25T17:39:07.596Z"
   },
   {
    "duration": 89,
    "start_time": "2022-10-25T17:39:13.562Z"
   },
   {
    "duration": 25,
    "start_time": "2022-10-25T17:39:29.980Z"
   },
   {
    "duration": 14,
    "start_time": "2022-10-25T17:42:04.382Z"
   },
   {
    "duration": 90,
    "start_time": "2022-10-25T17:42:38.728Z"
   },
   {
    "duration": 6,
    "start_time": "2022-10-25T17:42:58.887Z"
   },
   {
    "duration": 4,
    "start_time": "2022-10-25T17:43:00.463Z"
   },
   {
    "duration": 230,
    "start_time": "2022-10-25T17:43:13.598Z"
   },
   {
    "duration": 7,
    "start_time": "2022-10-25T17:52:33.215Z"
   },
   {
    "duration": 3,
    "start_time": "2022-10-25T17:53:03.807Z"
   },
   {
    "duration": 4,
    "start_time": "2022-10-25T17:53:32.880Z"
   },
   {
    "duration": 4,
    "start_time": "2022-10-25T17:53:38.950Z"
   },
   {
    "duration": 101,
    "start_time": "2022-10-25T18:14:05.410Z"
   },
   {
    "duration": 23,
    "start_time": "2022-10-25T18:14:49.841Z"
   },
   {
    "duration": 101,
    "start_time": "2022-10-25T18:14:54.767Z"
   },
   {
    "duration": 265381,
    "start_time": "2022-10-25T18:16:19.162Z"
   },
   {
    "duration": 10,
    "start_time": "2022-10-25T18:20:44.546Z"
   },
   {
    "duration": 0,
    "start_time": "2022-10-25T18:20:44.557Z"
   },
   {
    "duration": 320432,
    "start_time": "2022-10-25T18:20:53.676Z"
   },
   {
    "duration": 10,
    "start_time": "2022-10-25T18:26:14.111Z"
   },
   {
    "duration": 1,
    "start_time": "2022-10-25T18:26:14.122Z"
   },
   {
    "duration": 76,
    "start_time": "2022-10-25T18:28:31.010Z"
   },
   {
    "duration": 41,
    "start_time": "2022-10-25T18:29:58.376Z"
   },
   {
    "duration": 98,
    "start_time": "2022-10-25T18:30:01.217Z"
   },
   {
    "duration": 690,
    "start_time": "2022-10-25T18:30:19.955Z"
   },
   {
    "duration": 1491,
    "start_time": "2022-10-25T18:30:32.886Z"
   },
   {
    "duration": 698,
    "start_time": "2022-10-25T18:30:46.438Z"
   },
   {
    "duration": 5,
    "start_time": "2022-10-25T18:31:31.143Z"
   },
   {
    "duration": 4,
    "start_time": "2022-10-25T18:32:22.465Z"
   },
   {
    "duration": 7,
    "start_time": "2022-10-25T18:32:41.925Z"
   },
   {
    "duration": 12,
    "start_time": "2022-10-25T18:36:27.008Z"
   },
   {
    "duration": 3,
    "start_time": "2022-10-25T18:36:41.225Z"
   },
   {
    "duration": 1961,
    "start_time": "2022-10-25T18:36:49.812Z"
   },
   {
    "duration": 2013,
    "start_time": "2022-10-25T18:37:41.181Z"
   },
   {
    "duration": 6,
    "start_time": "2022-10-25T18:41:05.755Z"
   },
   {
    "duration": 6,
    "start_time": "2022-10-25T18:41:36.916Z"
   },
   {
    "duration": 782,
    "start_time": "2022-10-25T18:42:30.764Z"
   },
   {
    "duration": 5,
    "start_time": "2022-10-25T18:42:33.537Z"
   },
   {
    "duration": 1672,
    "start_time": "2022-10-25T18:42:40.156Z"
   },
   {
    "duration": 7,
    "start_time": "2022-10-25T18:42:44.100Z"
   },
   {
    "duration": 5,
    "start_time": "2022-10-25T18:43:21.826Z"
   },
   {
    "duration": 5,
    "start_time": "2022-10-25T18:43:23.612Z"
   },
   {
    "duration": 611,
    "start_time": "2022-10-25T18:43:30.921Z"
   },
   {
    "duration": 3,
    "start_time": "2022-10-25T18:43:34.170Z"
   },
   {
    "duration": 6,
    "start_time": "2022-10-25T18:43:35.415Z"
   },
   {
    "duration": 1226,
    "start_time": "2022-10-25T18:43:40.509Z"
   },
   {
    "duration": 4,
    "start_time": "2022-10-25T18:43:43.014Z"
   },
   {
    "duration": 6,
    "start_time": "2022-10-25T18:43:43.650Z"
   },
   {
    "duration": 681,
    "start_time": "2022-10-25T18:43:48.999Z"
   },
   {
    "duration": 4,
    "start_time": "2022-10-25T18:43:49.682Z"
   },
   {
    "duration": 13,
    "start_time": "2022-10-25T18:43:49.688Z"
   },
   {
    "duration": 663,
    "start_time": "2022-10-25T18:43:58.916Z"
   },
   {
    "duration": 4,
    "start_time": "2022-10-25T18:43:59.581Z"
   },
   {
    "duration": 8,
    "start_time": "2022-10-25T18:43:59.587Z"
   },
   {
    "duration": 699,
    "start_time": "2022-10-25T18:44:05.151Z"
   },
   {
    "duration": 4,
    "start_time": "2022-10-25T18:44:05.852Z"
   },
   {
    "duration": 11,
    "start_time": "2022-10-25T18:44:05.858Z"
   },
   {
    "duration": 686,
    "start_time": "2022-10-25T18:44:10.294Z"
   },
   {
    "duration": 4,
    "start_time": "2022-10-25T18:44:10.982Z"
   },
   {
    "duration": 11,
    "start_time": "2022-10-25T18:44:10.987Z"
   },
   {
    "duration": 675,
    "start_time": "2022-10-25T18:44:14.162Z"
   },
   {
    "duration": 3,
    "start_time": "2022-10-25T18:44:14.839Z"
   },
   {
    "duration": 7,
    "start_time": "2022-10-25T18:44:14.844Z"
   },
   {
    "duration": 670,
    "start_time": "2022-10-25T18:44:19.275Z"
   },
   {
    "duration": 4,
    "start_time": "2022-10-25T18:44:19.947Z"
   },
   {
    "duration": 8,
    "start_time": "2022-10-25T18:44:19.952Z"
   },
   {
    "duration": 707,
    "start_time": "2022-10-25T18:44:23.620Z"
   },
   {
    "duration": 3,
    "start_time": "2022-10-25T18:44:24.330Z"
   },
   {
    "duration": 7,
    "start_time": "2022-10-25T18:44:24.335Z"
   },
   {
    "duration": 5,
    "start_time": "2022-10-25T18:45:55.491Z"
   },
   {
    "duration": 7,
    "start_time": "2022-10-25T18:46:01.887Z"
   },
   {
    "duration": 1384,
    "start_time": "2022-10-25T18:50:12.138Z"
   },
   {
    "duration": 29,
    "start_time": "2022-10-25T18:50:13.524Z"
   },
   {
    "duration": 70,
    "start_time": "2022-10-25T18:50:13.554Z"
   },
   {
    "duration": 13,
    "start_time": "2022-10-25T18:50:13.626Z"
   },
   {
    "duration": 12,
    "start_time": "2022-10-25T18:50:13.641Z"
   },
   {
    "duration": 5,
    "start_time": "2022-10-25T18:50:13.654Z"
   },
   {
    "duration": 104,
    "start_time": "2022-10-25T18:50:13.661Z"
   },
   {
    "duration": 330,
    "start_time": "2022-10-25T18:50:13.766Z"
   },
   {
    "duration": 18,
    "start_time": "2022-10-25T18:50:14.098Z"
   },
   {
    "duration": 9,
    "start_time": "2022-10-25T18:50:14.118Z"
   },
   {
    "duration": 21,
    "start_time": "2022-10-25T18:50:14.128Z"
   },
   {
    "duration": 27,
    "start_time": "2022-10-25T18:50:14.151Z"
   },
   {
    "duration": 122,
    "start_time": "2022-10-25T18:50:14.179Z"
   },
   {
    "duration": 33,
    "start_time": "2022-10-25T18:50:14.304Z"
   },
   {
    "duration": 11,
    "start_time": "2022-10-25T18:50:14.339Z"
   },
   {
    "duration": 28,
    "start_time": "2022-10-25T18:50:14.352Z"
   },
   {
    "duration": 15,
    "start_time": "2022-10-25T18:50:14.382Z"
   },
   {
    "duration": 51,
    "start_time": "2022-10-25T18:50:14.399Z"
   },
   {
    "duration": 53,
    "start_time": "2022-10-25T18:50:14.451Z"
   },
   {
    "duration": 26,
    "start_time": "2022-10-25T18:50:14.505Z"
   },
   {
    "duration": 4377,
    "start_time": "2022-10-25T18:50:14.532Z"
   },
   {
    "duration": 13,
    "start_time": "2022-10-25T18:50:18.910Z"
   },
   {
    "duration": 3,
    "start_time": "2022-10-25T18:50:18.925Z"
   },
   {
    "duration": 11,
    "start_time": "2022-10-25T18:50:18.930Z"
   },
   {
    "duration": 92,
    "start_time": "2022-10-25T18:50:18.943Z"
   },
   {
    "duration": 46469,
    "start_time": "2022-10-25T18:50:19.036Z"
   },
   {
    "duration": 5,
    "start_time": "2022-10-25T18:51:05.507Z"
   },
   {
    "duration": 15,
    "start_time": "2022-10-25T18:51:05.514Z"
   },
   {
    "duration": 219,
    "start_time": "2022-10-25T18:51:05.531Z"
   },
   {
    "duration": 0,
    "start_time": "2022-10-25T18:51:05.752Z"
   },
   {
    "duration": 0,
    "start_time": "2022-10-25T18:51:05.753Z"
   },
   {
    "duration": 0,
    "start_time": "2022-10-25T18:51:05.755Z"
   },
   {
    "duration": 88,
    "start_time": "2022-10-25T18:56:05.337Z"
   },
   {
    "duration": 90,
    "start_time": "2022-10-25T18:56:46.180Z"
   },
   {
    "duration": 86,
    "start_time": "2022-10-25T18:57:01.685Z"
   },
   {
    "duration": 6,
    "start_time": "2022-10-25T18:57:40.108Z"
   },
   {
    "duration": 3,
    "start_time": "2022-10-25T18:57:40.395Z"
   },
   {
    "duration": 181,
    "start_time": "2022-10-25T18:57:40.633Z"
   },
   {
    "duration": 31466,
    "start_time": "2022-10-25T18:58:19.718Z"
   },
   {
    "duration": 4,
    "start_time": "2022-10-25T18:59:03.524Z"
   },
   {
    "duration": 4,
    "start_time": "2022-10-25T18:59:04.738Z"
   },
   {
    "duration": 101,
    "start_time": "2022-10-25T18:59:08.544Z"
   },
   {
    "duration": 5,
    "start_time": "2022-10-25T18:59:09.073Z"
   },
   {
    "duration": 4,
    "start_time": "2022-10-25T18:59:09.541Z"
   },
   {
    "duration": 62524,
    "start_time": "2022-10-25T19:01:42.016Z"
   },
   {
    "duration": 4,
    "start_time": "2022-10-25T19:02:44.542Z"
   },
   {
    "duration": 7,
    "start_time": "2022-10-25T19:02:44.547Z"
   },
   {
    "duration": 90,
    "start_time": "2022-10-25T19:02:44.556Z"
   },
   {
    "duration": 4,
    "start_time": "2022-10-25T19:02:44.648Z"
   },
   {
    "duration": 3,
    "start_time": "2022-10-25T19:02:44.654Z"
   },
   {
    "duration": 180,
    "start_time": "2022-10-25T19:02:44.659Z"
   },
   {
    "duration": 25250,
    "start_time": "2022-10-25T19:03:12.367Z"
   },
   {
    "duration": 4,
    "start_time": "2022-10-25T19:03:37.619Z"
   },
   {
    "duration": 11,
    "start_time": "2022-10-25T19:03:37.625Z"
   },
   {
    "duration": 94,
    "start_time": "2022-10-25T19:03:37.638Z"
   },
   {
    "duration": 5,
    "start_time": "2022-10-25T19:03:37.734Z"
   },
   {
    "duration": 4,
    "start_time": "2022-10-25T19:03:37.740Z"
   },
   {
    "duration": 271,
    "start_time": "2022-10-25T19:03:37.745Z"
   },
   {
    "duration": 40906,
    "start_time": "2022-10-25T19:10:12.877Z"
   },
   {
    "duration": 9,
    "start_time": "2022-10-25T19:10:53.785Z"
   },
   {
    "duration": 0,
    "start_time": "2022-10-25T19:10:53.795Z"
   },
   {
    "duration": 68497,
    "start_time": "2022-10-25T19:12:01.003Z"
   },
   {
    "duration": 3,
    "start_time": "2022-10-25T19:13:09.502Z"
   },
   {
    "duration": 6,
    "start_time": "2022-10-25T19:13:09.507Z"
   },
   {
    "duration": 91807,
    "start_time": "2022-10-25T19:18:02.198Z"
   },
   {
    "duration": 5,
    "start_time": "2022-10-25T19:19:34.090Z"
   },
   {
    "duration": 5,
    "start_time": "2022-10-25T19:19:34.096Z"
   },
   {
    "duration": 59093,
    "start_time": "2022-10-25T19:24:41.104Z"
   },
   {
    "duration": 4,
    "start_time": "2022-10-25T19:25:40.198Z"
   },
   {
    "duration": 4,
    "start_time": "2022-10-25T19:25:40.204Z"
   },
   {
    "duration": 10,
    "start_time": "2022-10-25T19:28:33.741Z"
   },
   {
    "duration": 1415,
    "start_time": "2022-10-25T20:01:48.959Z"
   },
   {
    "duration": 29,
    "start_time": "2022-10-25T20:01:50.376Z"
   },
   {
    "duration": 64,
    "start_time": "2022-10-25T20:01:50.407Z"
   },
   {
    "duration": 13,
    "start_time": "2022-10-25T20:01:50.472Z"
   },
   {
    "duration": 12,
    "start_time": "2022-10-25T20:01:50.487Z"
   },
   {
    "duration": 5,
    "start_time": "2022-10-25T20:01:50.500Z"
   },
   {
    "duration": 87,
    "start_time": "2022-10-25T20:01:50.506Z"
   },
   {
    "duration": 245,
    "start_time": "2022-10-25T20:01:50.594Z"
   },
   {
    "duration": 15,
    "start_time": "2022-10-25T20:01:50.841Z"
   },
   {
    "duration": 8,
    "start_time": "2022-10-25T20:01:50.858Z"
   },
   {
    "duration": 24,
    "start_time": "2022-10-25T20:01:50.867Z"
   },
   {
    "duration": 25,
    "start_time": "2022-10-25T20:01:50.892Z"
   },
   {
    "duration": 78,
    "start_time": "2022-10-25T20:01:50.918Z"
   },
   {
    "duration": 28,
    "start_time": "2022-10-25T20:01:50.999Z"
   },
   {
    "duration": 11,
    "start_time": "2022-10-25T20:01:51.028Z"
   },
   {
    "duration": 25,
    "start_time": "2022-10-25T20:01:51.041Z"
   },
   {
    "duration": 10,
    "start_time": "2022-10-25T20:01:51.067Z"
   },
   {
    "duration": 39,
    "start_time": "2022-10-25T20:01:51.079Z"
   },
   {
    "duration": 26,
    "start_time": "2022-10-25T20:01:51.120Z"
   },
   {
    "duration": 51,
    "start_time": "2022-10-25T20:01:51.147Z"
   },
   {
    "duration": 4168,
    "start_time": "2022-10-25T20:01:51.200Z"
   },
   {
    "duration": 22,
    "start_time": "2022-10-25T20:01:55.369Z"
   },
   {
    "duration": 3,
    "start_time": "2022-10-25T20:01:55.392Z"
   },
   {
    "duration": 13,
    "start_time": "2022-10-25T20:01:55.396Z"
   },
   {
    "duration": 46,
    "start_time": "2022-10-25T20:01:55.410Z"
   },
   {
    "duration": 23256,
    "start_time": "2022-10-25T20:01:55.457Z"
   },
   {
    "duration": 4,
    "start_time": "2022-10-25T20:02:18.714Z"
   },
   {
    "duration": 6,
    "start_time": "2022-10-25T20:02:18.719Z"
   },
   {
    "duration": 108584,
    "start_time": "2022-10-25T20:02:18.726Z"
   },
   {
    "duration": 3,
    "start_time": "2022-10-25T20:04:07.392Z"
   },
   {
    "duration": 6,
    "start_time": "2022-10-25T20:04:07.396Z"
   },
   {
    "duration": 10,
    "start_time": "2022-10-25T20:04:07.403Z"
   },
   {
    "duration": 4,
    "start_time": "2022-10-25T20:04:07.415Z"
   },
   {
    "duration": 3,
    "start_time": "2022-10-25T20:04:07.421Z"
   },
   {
    "duration": 104,
    "start_time": "2022-10-25T20:04:07.426Z"
   },
   {
    "duration": 4,
    "start_time": "2022-10-25T20:04:07.532Z"
   },
   {
    "duration": 4,
    "start_time": "2022-10-25T20:04:07.538Z"
   },
   {
    "duration": 188,
    "start_time": "2022-10-25T20:04:07.543Z"
   },
   {
    "duration": 173,
    "start_time": "2022-10-25T20:16:04.512Z"
   },
   {
    "duration": 178,
    "start_time": "2022-10-25T20:16:28.051Z"
   },
   {
    "duration": 1365,
    "start_time": "2022-10-25T20:27:48.864Z"
   },
   {
    "duration": 27,
    "start_time": "2022-10-25T20:27:50.231Z"
   },
   {
    "duration": 59,
    "start_time": "2022-10-25T20:27:50.260Z"
   },
   {
    "duration": 11,
    "start_time": "2022-10-25T20:27:50.320Z"
   },
   {
    "duration": 12,
    "start_time": "2022-10-25T20:27:50.333Z"
   },
   {
    "duration": 6,
    "start_time": "2022-10-25T20:27:50.346Z"
   },
   {
    "duration": 94,
    "start_time": "2022-10-25T20:27:50.353Z"
   },
   {
    "duration": 260,
    "start_time": "2022-10-25T20:27:50.448Z"
   },
   {
    "duration": 15,
    "start_time": "2022-10-25T20:27:50.709Z"
   },
   {
    "duration": 7,
    "start_time": "2022-10-25T20:27:50.727Z"
   },
   {
    "duration": 98,
    "start_time": "2022-10-25T20:27:50.735Z"
   },
   {
    "duration": 26,
    "start_time": "2022-10-25T20:27:50.834Z"
   },
   {
    "duration": 10,
    "start_time": "2022-10-25T20:27:50.862Z"
   },
   {
    "duration": 29,
    "start_time": "2022-10-25T20:27:50.891Z"
   },
   {
    "duration": 12,
    "start_time": "2022-10-25T20:27:50.921Z"
   },
   {
    "duration": 33,
    "start_time": "2022-10-25T20:27:50.934Z"
   },
   {
    "duration": 10,
    "start_time": "2022-10-25T20:27:50.990Z"
   },
   {
    "duration": 50,
    "start_time": "2022-10-25T20:27:51.002Z"
   },
   {
    "duration": 44,
    "start_time": "2022-10-25T20:27:51.053Z"
   },
   {
    "duration": 21,
    "start_time": "2022-10-25T20:27:51.099Z"
   },
   {
    "duration": 3992,
    "start_time": "2022-10-25T20:27:51.121Z"
   },
   {
    "duration": 10,
    "start_time": "2022-10-25T20:27:55.114Z"
   },
   {
    "duration": 3,
    "start_time": "2022-10-25T20:27:55.125Z"
   },
   {
    "duration": 12,
    "start_time": "2022-10-25T20:27:55.129Z"
   },
   {
    "duration": 76,
    "start_time": "2022-10-25T20:27:55.143Z"
   },
   {
    "duration": 21070,
    "start_time": "2022-10-25T20:27:55.221Z"
   },
   {
    "duration": 4,
    "start_time": "2022-10-25T20:28:16.293Z"
   },
   {
    "duration": 22,
    "start_time": "2022-10-25T20:28:16.299Z"
   },
   {
    "duration": 57487,
    "start_time": "2022-10-25T20:28:16.323Z"
   },
   {
    "duration": 4,
    "start_time": "2022-10-25T20:29:13.892Z"
   },
   {
    "duration": 5,
    "start_time": "2022-10-25T20:29:13.897Z"
   },
   {
    "duration": 12,
    "start_time": "2022-10-25T20:29:13.903Z"
   },
   {
    "duration": 5,
    "start_time": "2022-10-25T20:29:13.916Z"
   },
   {
    "duration": 4,
    "start_time": "2022-10-25T20:29:13.922Z"
   },
   {
    "duration": 232,
    "start_time": "2022-10-25T20:29:13.927Z"
   },
   {
    "duration": 1728,
    "start_time": "2022-10-26T15:39:43.802Z"
   },
   {
    "duration": 0,
    "start_time": "2022-10-26T15:39:45.533Z"
   },
   {
    "duration": 0,
    "start_time": "2022-10-26T15:39:45.534Z"
   },
   {
    "duration": 0,
    "start_time": "2022-10-26T15:39:45.535Z"
   },
   {
    "duration": 0,
    "start_time": "2022-10-26T15:39:45.536Z"
   },
   {
    "duration": 0,
    "start_time": "2022-10-26T15:39:45.537Z"
   },
   {
    "duration": 0,
    "start_time": "2022-10-26T15:39:45.539Z"
   },
   {
    "duration": 0,
    "start_time": "2022-10-26T15:39:45.539Z"
   },
   {
    "duration": 0,
    "start_time": "2022-10-26T15:39:45.540Z"
   },
   {
    "duration": 0,
    "start_time": "2022-10-26T15:39:45.542Z"
   },
   {
    "duration": 0,
    "start_time": "2022-10-26T15:39:45.542Z"
   },
   {
    "duration": 0,
    "start_time": "2022-10-26T15:39:45.544Z"
   },
   {
    "duration": 0,
    "start_time": "2022-10-26T15:39:45.544Z"
   },
   {
    "duration": 0,
    "start_time": "2022-10-26T15:39:45.545Z"
   },
   {
    "duration": 0,
    "start_time": "2022-10-26T15:39:45.546Z"
   },
   {
    "duration": 0,
    "start_time": "2022-10-26T15:39:45.547Z"
   },
   {
    "duration": 0,
    "start_time": "2022-10-26T15:39:45.548Z"
   },
   {
    "duration": 0,
    "start_time": "2022-10-26T15:39:45.549Z"
   },
   {
    "duration": 0,
    "start_time": "2022-10-26T15:39:45.550Z"
   },
   {
    "duration": 0,
    "start_time": "2022-10-26T15:39:45.551Z"
   },
   {
    "duration": 0,
    "start_time": "2022-10-26T15:39:45.553Z"
   },
   {
    "duration": 0,
    "start_time": "2022-10-26T15:39:45.554Z"
   },
   {
    "duration": 0,
    "start_time": "2022-10-26T15:39:45.556Z"
   },
   {
    "duration": 0,
    "start_time": "2022-10-26T15:39:45.557Z"
   },
   {
    "duration": 0,
    "start_time": "2022-10-26T15:39:45.558Z"
   },
   {
    "duration": 0,
    "start_time": "2022-10-26T15:39:45.560Z"
   },
   {
    "duration": 0,
    "start_time": "2022-10-26T15:39:45.561Z"
   },
   {
    "duration": 0,
    "start_time": "2022-10-26T15:39:45.563Z"
   },
   {
    "duration": 1,
    "start_time": "2022-10-26T15:39:45.563Z"
   },
   {
    "duration": 0,
    "start_time": "2022-10-26T15:39:45.564Z"
   },
   {
    "duration": 0,
    "start_time": "2022-10-26T15:39:45.565Z"
   },
   {
    "duration": 0,
    "start_time": "2022-10-26T15:39:45.566Z"
   },
   {
    "duration": 0,
    "start_time": "2022-10-26T15:39:45.567Z"
   },
   {
    "duration": 0,
    "start_time": "2022-10-26T15:39:45.568Z"
   },
   {
    "duration": 250,
    "start_time": "2022-10-26T15:40:11.440Z"
   },
   {
    "duration": 3334,
    "start_time": "2022-10-26T15:40:47.316Z"
   },
   {
    "duration": 1581,
    "start_time": "2022-10-26T15:41:10.399Z"
   },
   {
    "duration": 79,
    "start_time": "2022-10-26T15:41:11.982Z"
   },
   {
    "duration": 0,
    "start_time": "2022-10-26T15:41:12.063Z"
   },
   {
    "duration": 0,
    "start_time": "2022-10-26T15:41:12.064Z"
   },
   {
    "duration": 0,
    "start_time": "2022-10-26T15:41:12.065Z"
   },
   {
    "duration": 0,
    "start_time": "2022-10-26T15:41:12.066Z"
   },
   {
    "duration": 0,
    "start_time": "2022-10-26T15:41:12.067Z"
   },
   {
    "duration": 0,
    "start_time": "2022-10-26T15:41:12.068Z"
   },
   {
    "duration": 0,
    "start_time": "2022-10-26T15:41:12.069Z"
   },
   {
    "duration": 0,
    "start_time": "2022-10-26T15:41:12.070Z"
   },
   {
    "duration": 0,
    "start_time": "2022-10-26T15:41:12.071Z"
   },
   {
    "duration": 0,
    "start_time": "2022-10-26T15:41:12.072Z"
   },
   {
    "duration": 0,
    "start_time": "2022-10-26T15:41:12.072Z"
   },
   {
    "duration": 0,
    "start_time": "2022-10-26T15:41:12.073Z"
   },
   {
    "duration": 0,
    "start_time": "2022-10-26T15:41:12.074Z"
   },
   {
    "duration": 0,
    "start_time": "2022-10-26T15:41:12.075Z"
   },
   {
    "duration": 0,
    "start_time": "2022-10-26T15:41:12.076Z"
   },
   {
    "duration": 0,
    "start_time": "2022-10-26T15:41:12.076Z"
   },
   {
    "duration": 0,
    "start_time": "2022-10-26T15:41:12.077Z"
   },
   {
    "duration": 0,
    "start_time": "2022-10-26T15:41:12.078Z"
   },
   {
    "duration": 0,
    "start_time": "2022-10-26T15:41:12.079Z"
   },
   {
    "duration": 0,
    "start_time": "2022-10-26T15:41:12.081Z"
   },
   {
    "duration": 0,
    "start_time": "2022-10-26T15:41:12.082Z"
   },
   {
    "duration": 0,
    "start_time": "2022-10-26T15:41:12.083Z"
   },
   {
    "duration": 0,
    "start_time": "2022-10-26T15:41:12.084Z"
   },
   {
    "duration": 0,
    "start_time": "2022-10-26T15:41:12.085Z"
   },
   {
    "duration": 0,
    "start_time": "2022-10-26T15:41:12.086Z"
   },
   {
    "duration": 0,
    "start_time": "2022-10-26T15:41:12.087Z"
   },
   {
    "duration": 0,
    "start_time": "2022-10-26T15:41:12.088Z"
   },
   {
    "duration": 0,
    "start_time": "2022-10-26T15:41:12.088Z"
   },
   {
    "duration": 0,
    "start_time": "2022-10-26T15:41:12.089Z"
   },
   {
    "duration": 0,
    "start_time": "2022-10-26T15:41:12.091Z"
   },
   {
    "duration": 0,
    "start_time": "2022-10-26T15:41:12.092Z"
   },
   {
    "duration": 0,
    "start_time": "2022-10-26T15:41:12.093Z"
   },
   {
    "duration": 0,
    "start_time": "2022-10-26T15:41:12.094Z"
   },
   {
    "duration": 2286,
    "start_time": "2022-10-26T15:41:28.212Z"
   },
   {
    "duration": 1448,
    "start_time": "2022-10-26T15:41:35.489Z"
   },
   {
    "duration": 3078,
    "start_time": "2022-10-26T15:41:36.939Z"
   },
   {
    "duration": 19,
    "start_time": "2022-10-26T15:41:40.019Z"
   },
   {
    "duration": 178,
    "start_time": "2022-10-26T15:41:40.040Z"
   },
   {
    "duration": 15,
    "start_time": "2022-10-26T15:41:40.220Z"
   },
   {
    "duration": 30,
    "start_time": "2022-10-26T15:41:40.237Z"
   },
   {
    "duration": 27,
    "start_time": "2022-10-26T15:41:40.269Z"
   },
   {
    "duration": 94,
    "start_time": "2022-10-26T15:41:40.298Z"
   },
   {
    "duration": 246,
    "start_time": "2022-10-26T15:41:40.394Z"
   },
   {
    "duration": 15,
    "start_time": "2022-10-26T15:41:40.643Z"
   },
   {
    "duration": 9,
    "start_time": "2022-10-26T15:41:40.660Z"
   },
   {
    "duration": 124,
    "start_time": "2022-10-26T15:41:40.670Z"
   },
   {
    "duration": 61,
    "start_time": "2022-10-26T15:41:40.796Z"
   },
   {
    "duration": 12,
    "start_time": "2022-10-26T15:41:40.860Z"
   },
   {
    "duration": 132,
    "start_time": "2022-10-26T15:41:40.873Z"
   },
   {
    "duration": 13,
    "start_time": "2022-10-26T15:41:41.006Z"
   },
   {
    "duration": 50,
    "start_time": "2022-10-26T15:41:41.020Z"
   },
   {
    "duration": 12,
    "start_time": "2022-10-26T15:41:41.072Z"
   },
   {
    "duration": 49,
    "start_time": "2022-10-26T15:41:41.086Z"
   },
   {
    "duration": 35,
    "start_time": "2022-10-26T15:41:41.136Z"
   },
   {
    "duration": 22,
    "start_time": "2022-10-26T15:41:41.173Z"
   },
   {
    "duration": 4408,
    "start_time": "2022-10-26T15:41:41.196Z"
   },
   {
    "duration": 10,
    "start_time": "2022-10-26T15:41:45.605Z"
   },
   {
    "duration": 18,
    "start_time": "2022-10-26T15:41:45.616Z"
   },
   {
    "duration": 41,
    "start_time": "2022-10-26T15:41:45.637Z"
   },
   {
    "duration": 67,
    "start_time": "2022-10-26T15:41:45.680Z"
   },
   {
    "duration": 22539,
    "start_time": "2022-10-26T15:41:45.749Z"
   },
   {
    "duration": 5,
    "start_time": "2022-10-26T15:42:08.291Z"
   },
   {
    "duration": 6,
    "start_time": "2022-10-26T15:42:08.297Z"
   },
   {
    "duration": 62729,
    "start_time": "2022-10-26T15:42:08.305Z"
   },
   {
    "duration": 3,
    "start_time": "2022-10-26T15:43:11.036Z"
   },
   {
    "duration": 6,
    "start_time": "2022-10-26T15:43:11.041Z"
   },
   {
    "duration": 79,
    "start_time": "2022-10-26T15:43:11.049Z"
   },
   {
    "duration": 5,
    "start_time": "2022-10-26T15:43:11.130Z"
   },
   {
    "duration": 5,
    "start_time": "2022-10-26T15:43:11.136Z"
   },
   {
    "duration": 257,
    "start_time": "2022-10-26T15:43:11.143Z"
   },
   {
    "duration": 117,
    "start_time": "2022-10-26T16:11:10.416Z"
   },
   {
    "duration": 22,
    "start_time": "2022-10-26T16:11:28.026Z"
   },
   {
    "duration": 10,
    "start_time": "2022-10-26T16:15:07.946Z"
   },
   {
    "duration": 13,
    "start_time": "2022-10-26T16:15:56.636Z"
   },
   {
    "duration": 179,
    "start_time": "2022-10-26T16:16:43.200Z"
   },
   {
    "duration": 81503,
    "start_time": "2022-10-26T16:20:13.851Z"
   },
   {
    "duration": 1527,
    "start_time": "2022-10-26T16:21:48.307Z"
   },
   {
    "duration": 2197,
    "start_time": "2022-10-26T16:21:49.836Z"
   },
   {
    "duration": 20,
    "start_time": "2022-10-26T16:21:52.035Z"
   },
   {
    "duration": 86,
    "start_time": "2022-10-26T16:21:52.057Z"
   },
   {
    "duration": 14,
    "start_time": "2022-10-26T16:21:52.145Z"
   },
   {
    "duration": 26,
    "start_time": "2022-10-26T16:21:52.160Z"
   },
   {
    "duration": 19,
    "start_time": "2022-10-26T16:21:52.188Z"
   },
   {
    "duration": 100,
    "start_time": "2022-10-26T16:21:52.209Z"
   },
   {
    "duration": 257,
    "start_time": "2022-10-26T16:21:52.311Z"
   },
   {
    "duration": 8,
    "start_time": "2022-10-26T16:21:52.570Z"
   },
   {
    "duration": 43,
    "start_time": "2022-10-26T16:21:52.579Z"
   },
   {
    "duration": 9,
    "start_time": "2022-10-26T16:21:52.624Z"
   },
   {
    "duration": 125,
    "start_time": "2022-10-26T16:21:52.634Z"
   },
   {
    "duration": 29,
    "start_time": "2022-10-26T16:21:52.761Z"
   },
   {
    "duration": 13,
    "start_time": "2022-10-26T16:21:52.791Z"
   },
   {
    "duration": 48,
    "start_time": "2022-10-26T16:21:52.805Z"
   },
   {
    "duration": 13,
    "start_time": "2022-10-26T16:21:54.430Z"
   },
   {
    "duration": 51,
    "start_time": "2022-10-26T16:21:54.445Z"
   },
   {
    "duration": 10,
    "start_time": "2022-10-26T16:21:54.498Z"
   },
   {
    "duration": 73,
    "start_time": "2022-10-26T16:21:54.510Z"
   },
   {
    "duration": 40,
    "start_time": "2022-10-26T16:21:54.586Z"
   },
   {
    "duration": 21,
    "start_time": "2022-10-26T16:21:54.627Z"
   },
   {
    "duration": 4306,
    "start_time": "2022-10-26T16:21:54.650Z"
   },
   {
    "duration": 81504,
    "start_time": "2022-10-26T16:21:58.958Z"
   },
   {
    "duration": 0,
    "start_time": "2022-10-26T16:23:20.463Z"
   },
   {
    "duration": 0,
    "start_time": "2022-10-26T16:23:20.465Z"
   },
   {
    "duration": 0,
    "start_time": "2022-10-26T16:23:20.466Z"
   },
   {
    "duration": 0,
    "start_time": "2022-10-26T16:23:20.467Z"
   },
   {
    "duration": 0,
    "start_time": "2022-10-26T16:23:20.468Z"
   },
   {
    "duration": 0,
    "start_time": "2022-10-26T16:23:20.469Z"
   },
   {
    "duration": 0,
    "start_time": "2022-10-26T16:23:20.470Z"
   },
   {
    "duration": 0,
    "start_time": "2022-10-26T16:23:20.471Z"
   },
   {
    "duration": 0,
    "start_time": "2022-10-26T16:23:20.473Z"
   },
   {
    "duration": 0,
    "start_time": "2022-10-26T16:23:20.474Z"
   },
   {
    "duration": 0,
    "start_time": "2022-10-26T16:23:20.475Z"
   },
   {
    "duration": 0,
    "start_time": "2022-10-26T16:23:20.476Z"
   },
   {
    "duration": 0,
    "start_time": "2022-10-26T16:23:20.477Z"
   },
   {
    "duration": 0,
    "start_time": "2022-10-26T16:23:20.478Z"
   },
   {
    "duration": 0,
    "start_time": "2022-10-26T16:23:20.479Z"
   },
   {
    "duration": 91,
    "start_time": "2022-10-26T16:28:54.190Z"
   },
   {
    "duration": 80819,
    "start_time": "2022-10-26T16:29:04.758Z"
   },
   {
    "duration": 80,
    "start_time": "2022-10-26T17:15:00.368Z"
   },
   {
    "duration": 84563,
    "start_time": "2022-10-26T17:15:40.195Z"
   },
   {
    "duration": 11,
    "start_time": "2022-10-26T17:17:04.761Z"
   },
   {
    "duration": 2,
    "start_time": "2022-10-26T17:17:04.774Z"
   },
   {
    "duration": 45,
    "start_time": "2022-10-26T17:17:04.779Z"
   },
   {
    "duration": 58,
    "start_time": "2022-10-26T17:17:04.826Z"
   },
   {
    "duration": 20841,
    "start_time": "2022-10-26T17:17:04.885Z"
   },
   {
    "duration": 4,
    "start_time": "2022-10-26T17:17:25.727Z"
   },
   {
    "duration": 7,
    "start_time": "2022-10-26T17:17:25.732Z"
   },
   {
    "duration": 58192,
    "start_time": "2022-10-26T17:17:25.740Z"
   },
   {
    "duration": 4,
    "start_time": "2022-10-26T17:18:23.934Z"
   },
   {
    "duration": 7,
    "start_time": "2022-10-26T17:18:23.939Z"
   },
   {
    "duration": 81,
    "start_time": "2022-10-26T17:18:23.947Z"
   },
   {
    "duration": 6,
    "start_time": "2022-10-26T17:18:24.031Z"
   },
   {
    "duration": 5,
    "start_time": "2022-10-26T17:18:24.039Z"
   },
   {
    "duration": 80,
    "start_time": "2022-10-26T17:18:24.045Z"
   },
   {
    "duration": 173,
    "start_time": "2022-10-26T17:18:24.126Z"
   },
   {
    "duration": 86653,
    "start_time": "2022-10-26T17:18:50.762Z"
   },
   {
    "duration": 3,
    "start_time": "2022-10-26T17:39:02.971Z"
   },
   {
    "duration": 4,
    "start_time": "2022-10-26T17:39:41.048Z"
   },
   {
    "duration": 9,
    "start_time": "2022-10-26T17:43:27.912Z"
   },
   {
    "duration": 20,
    "start_time": "2022-10-26T17:43:55.915Z"
   },
   {
    "duration": 25,
    "start_time": "2022-10-26T17:44:06.842Z"
   },
   {
    "duration": 23,
    "start_time": "2022-10-26T17:44:45.570Z"
   },
   {
    "duration": 14,
    "start_time": "2022-10-26T17:46:25.686Z"
   },
   {
    "duration": 22,
    "start_time": "2022-10-26T17:46:28.221Z"
   },
   {
    "duration": 2,
    "start_time": "2022-10-26T17:46:47.687Z"
   },
   {
    "duration": 5,
    "start_time": "2022-10-26T17:46:48.165Z"
   },
   {
    "duration": 18,
    "start_time": "2022-10-26T17:46:49.694Z"
   },
   {
    "duration": 10,
    "start_time": "2022-10-26T17:46:53.577Z"
   },
   {
    "duration": 3,
    "start_time": "2022-10-26T17:46:54.343Z"
   },
   {
    "duration": 13,
    "start_time": "2022-10-26T17:46:56.368Z"
   },
   {
    "duration": 3,
    "start_time": "2022-10-26T17:48:20.779Z"
   },
   {
    "duration": 9,
    "start_time": "2022-10-26T17:48:21.392Z"
   },
   {
    "duration": 40,
    "start_time": "2022-10-26T17:48:31.633Z"
   },
   {
    "duration": 15,
    "start_time": "2022-10-26T17:49:07.900Z"
   },
   {
    "duration": 53959,
    "start_time": "2022-10-26T17:49:54.077Z"
   },
   {
    "duration": 4,
    "start_time": "2022-10-26T17:50:48.038Z"
   },
   {
    "duration": 8,
    "start_time": "2022-10-26T17:50:48.043Z"
   },
   {
    "duration": 21,
    "start_time": "2022-10-26T17:50:54.623Z"
   },
   {
    "duration": 5,
    "start_time": "2022-10-26T17:50:54.869Z"
   },
   {
    "duration": 4,
    "start_time": "2022-10-26T17:50:55.118Z"
   },
   {
    "duration": 30,
    "start_time": "2022-10-26T17:50:55.424Z"
   },
   {
    "duration": 18,
    "start_time": "2022-10-26T17:54:59.578Z"
   },
   {
    "duration": 3,
    "start_time": "2022-10-26T17:55:00.861Z"
   }
  ],
  "kernelspec": {
   "display_name": "Python 3 (ipykernel)",
   "language": "python",
   "name": "python3"
  },
  "language_info": {
   "codemirror_mode": {
    "name": "ipython",
    "version": 3
   },
   "file_extension": ".py",
   "mimetype": "text/x-python",
   "name": "python",
   "nbconvert_exporter": "python",
   "pygments_lexer": "ipython3",
   "version": "3.9.13"
  },
  "toc": {
   "base_numbering": 1,
   "nav_menu": {},
   "number_sections": true,
   "sideBar": true,
   "skip_h1_title": true,
   "title_cell": "Table of Contents",
   "title_sidebar": "Contents",
   "toc_cell": false,
   "toc_position": {
    "height": "calc(100% - 180px)",
    "left": "10px",
    "top": "150px",
    "width": "198.958px"
   },
   "toc_section_display": true,
   "toc_window_display": true
  }
 },
 "nbformat": 4,
 "nbformat_minor": 2
}
