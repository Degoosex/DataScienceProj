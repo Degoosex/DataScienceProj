{
 "cells": [
  {
   "cell_type": "markdown",
   "metadata": {
    "toc": true
   },
   "source": [
    "<h1>Содержание<span class=\"tocSkip\"></span></h1>\n",
    "<div class=\"toc\"><ul class=\"toc-item\"><li><span><a href=\"#Подготовка-данных\" data-toc-modified-id=\"Подготовка-данных-1\"><span class=\"toc-item-num\">1&nbsp;&nbsp;</span>Подготовка данных</a></span><ul class=\"toc-item\"><li><span><a href=\"#-Комментарий-ревьюера-v1\" data-toc-modified-id=\"-Комментарий-ревьюера-v1-1.1\"><span class=\"toc-item-num\">1.1&nbsp;&nbsp;</span> Комментарий ревьюера v1</a></span></li><li><span><a href=\"#Проверка-эффективности-обогащения\" data-toc-modified-id=\"Проверка-эффективности-обогащения-1.2\"><span class=\"toc-item-num\">1.2&nbsp;&nbsp;</span>Проверка эффективности обогащения</a></span></li><li><span><a href=\"#-Комментарий-ревьюера-v1\" data-toc-modified-id=\"-Комментарий-ревьюера-v1-1.3\"><span class=\"toc-item-num\">1.3&nbsp;&nbsp;</span> Комментарий ревьюера v1</a></span></li><li><span><a href=\"#Предобработка-данных\" data-toc-modified-id=\"Предобработка-данных-1.4\"><span class=\"toc-item-num\">1.4&nbsp;&nbsp;</span>Предобработка данных</a></span></li><li><span><a href=\"#-Комментарий-ревьюера-v1\" data-toc-modified-id=\"-Комментарий-ревьюера-v1-1.5\"><span class=\"toc-item-num\">1.5&nbsp;&nbsp;</span> Комментарий ревьюера v1</a></span></li><li><span><a href=\"#-Комментарий-ревьюера-v2\" data-toc-modified-id=\"-Комментарий-ревьюера-v2-1.6\"><span class=\"toc-item-num\">1.6&nbsp;&nbsp;</span> Комментарий ревьюера v2</a></span></li></ul></li><li><span><a href=\"#Анализ-данных\" data-toc-modified-id=\"Анализ-данных-2\"><span class=\"toc-item-num\">2&nbsp;&nbsp;</span>Анализ данных</a></span><ul class=\"toc-item\"><li><span><a href=\"#Концентрация-металлов-(Au,-Ag,-Pb)\" data-toc-modified-id=\"Концентрация-металлов-(Au,-Ag,-Pb)-2.1\"><span class=\"toc-item-num\">2.1&nbsp;&nbsp;</span>Концентрация металлов (Au, Ag, Pb)</a></span></li><li><span><a href=\"#Распределения-размеров-гранул-сырья\" data-toc-modified-id=\"Распределения-размеров-гранул-сырья-2.2\"><span class=\"toc-item-num\">2.2&nbsp;&nbsp;</span>Распределения размеров гранул сырья</a></span></li><li><span><a href=\"#-Комментарий-ревьюера-v1\" data-toc-modified-id=\"-Комментарий-ревьюера-v1-2.3\"><span class=\"toc-item-num\">2.3&nbsp;&nbsp;</span> Комментарий ревьюера v1</a></span></li><li><span><a href=\"#Исследуйем-суммарную-концентрацию-веществ\" data-toc-modified-id=\"Исследуйем-суммарную-концентрацию-веществ-2.4\"><span class=\"toc-item-num\">2.4&nbsp;&nbsp;</span>Исследуйем суммарную концентрацию веществ</a></span></li><li><span><a href=\"#-Комментарий-ревьюера-v1\" data-toc-modified-id=\"-Комментарий-ревьюера-v1-2.5\"><span class=\"toc-item-num\">2.5&nbsp;&nbsp;</span> Комментарий ревьюера v1</a></span></li><li><span><a href=\"#-Комментарий-ревьюера-v3\" data-toc-modified-id=\"-Комментарий-ревьюера-v3-2.6\"><span class=\"toc-item-num\">2.6&nbsp;&nbsp;</span> Комментарий ревьюера v3</a></span></li></ul></li><li><span><a href=\"#Модель\" data-toc-modified-id=\"Модель-3\"><span class=\"toc-item-num\">3&nbsp;&nbsp;</span>Модель</a></span><ul class=\"toc-item\"><li><span><a href=\"#-Комментарий-ревьюера-v1\" data-toc-modified-id=\"-Комментарий-ревьюера-v1-3.1\"><span class=\"toc-item-num\">3.1&nbsp;&nbsp;</span> Комментарий ревьюера v1</a></span></li><li><span><a href=\"#-Комментарий-ревьюера-v2\" data-toc-modified-id=\"-Комментарий-ревьюера-v2-3.2\"><span class=\"toc-item-num\">3.2&nbsp;&nbsp;</span> Комментарий ревьюера v2</a></span></li><li><span><a href=\"#-Комментарий-ревьюера-v3\" data-toc-modified-id=\"-Комментарий-ревьюера-v3-3.3\"><span class=\"toc-item-num\">3.3&nbsp;&nbsp;</span> Комментарий ревьюера v3</a></span></li><li><span><a href=\"#Линейная-регрессия\" data-toc-modified-id=\"Линейная-регрессия-3.4\"><span class=\"toc-item-num\">3.4&nbsp;&nbsp;</span>Линейная регрессия</a></span></li><li><span><a href=\"#-Комментарий-ревьюера-v1\" data-toc-modified-id=\"-Комментарий-ревьюера-v1-3.5\"><span class=\"toc-item-num\">3.5&nbsp;&nbsp;</span> Комментарий ревьюера v1</a></span></li><li><span><a href=\"#Дерево-регрессии\" data-toc-modified-id=\"Дерево-регрессии-3.6\"><span class=\"toc-item-num\">3.6&nbsp;&nbsp;</span>Дерево регрессии</a></span></li><li><span><a href=\"#-Комментарий-ревьюера-v1\" data-toc-modified-id=\"-Комментарий-ревьюера-v1-3.7\"><span class=\"toc-item-num\">3.7&nbsp;&nbsp;</span> Комментарий ревьюера v1</a></span></li><li><span><a href=\"#Случайный-лес\" data-toc-modified-id=\"Случайный-лес-3.8\"><span class=\"toc-item-num\">3.8&nbsp;&nbsp;</span>Случайный лес</a></span></li><li><span><a href=\"#-Комментарий-ревьюера-v1\" data-toc-modified-id=\"-Комментарий-ревьюера-v1-3.9\"><span class=\"toc-item-num\">3.9&nbsp;&nbsp;</span> Комментарий ревьюера v1</a></span></li><li><span><a href=\"#-Комментарий-ревьюера-v2\" data-toc-modified-id=\"-Комментарий-ревьюера-v2-3.10\"><span class=\"toc-item-num\">3.10&nbsp;&nbsp;</span> Комментарий ревьюера v2</a></span></li></ul></li><li><span><a href=\"#Общий-вывод\" data-toc-modified-id=\"Общий-вывод-4\"><span class=\"toc-item-num\">4&nbsp;&nbsp;</span>Общий вывод</a></span><ul class=\"toc-item\"><li><span><a href=\"#-Комментарий-ревьюера-v1\" data-toc-modified-id=\"-Комментарий-ревьюера-v1-4.1\"><span class=\"toc-item-num\">4.1&nbsp;&nbsp;</span> Комментарий ревьюера v1</a></span></li></ul></li><li><span><a href=\"#Чек-лист-готовности-проекта\" data-toc-modified-id=\"Чек-лист-готовности-проекта-5\"><span class=\"toc-item-num\">5&nbsp;&nbsp;</span>Чек-лист готовности проекта</a></span><ul class=\"toc-item\"><li><span><a href=\"#-Итоговый-комментарий\" data-toc-modified-id=\"-Итоговый-комментарий-5.1\"><span class=\"toc-item-num\">5.1&nbsp;&nbsp;</span> Итоговый комментарий</a></span></li></ul></li></ul></div>"
   ]
  },
  {
   "cell_type": "markdown",
   "metadata": {},
   "source": [
    "# Восстановление золота из руды"
   ]
  },
  {
   "cell_type": "markdown",
   "metadata": {},
   "source": [
    "Подготовьте прототип модели машинного обучения. Компания разрабатывает решения для эффективной работы промышленных предприятий.\n",
    "\n",
    "Модель должна предсказать коэффициент восстановления золота из золотосодержащей руды. Используйте данные с параметрами добычи и очистки. \n",
    "\n",
    "Модель поможет оптимизировать производство, чтобы не запускать предприятие с убыточными характеристиками.\n",
    "\n",
    "Вам нужно:\n",
    "\n",
    "1. Подготовить данные;\n",
    "2. Провести исследовательский анализ данных;\n",
    "3. Построить и обучить модель.\n"
   ]
  },
  {
   "cell_type": "markdown",
   "metadata": {},
   "source": [
    "**Описание данных**\n",
    "Данные находятся в трёх файлах:\\\n",
    "gold_recovery_train_new.csv — обучающая выборка;\\\n",
    "gold_recovery_test_new.csv — тестовая выборка;\\\n",
    "gold_recovery_full_new.csv — исходные данные.\\\n",
    "Данные индексируются датой и временем получения информации (признак date). Соседние по времени параметры часто похожи.\\\n",
    "Некоторые параметры недоступны, потому что замеряются и/или рассчитываются значительно позже. Из-за этого в тестовой выборке отсутствуют некоторые признаки, которые могут быть в обучающей. Также в тестовом наборе нет целевых признаков.\\\n",
    "Исходный датасет содержит обучающую и тестовую выборки со всеми признаками.\\\n",
    "\n",
    "**План проекта:**\n",
    "1. Подготовка данных\\\n",
    "    1.1. Изучение файлов\\\n",
    "    1.2. Проверить, что эффективность обогащения рассчитана правильно. Вычисление её на обучающей выборке для признака rougher.output.recovery. Найти MAE между расчётами и значением признака\\\n",
    "    1.3. Анализ признаков\\\n",
    "    1.4. Предобработка данных.\n",
    "2. Анализ данных\\\n",
    "    2.1. Как меняется концентрация металлов (Au, Ag, Pb) на различных этапах очистки\\\n",
    "    2.2. Сравнить распределения размеров гранул сырья на обучающей и тестовой выборках\\\n",
    "    2.3. Исследовать суммарную концентрацию всех веществ на разных стадиях: в сырье, в черновом и финальном концентратах.\n",
    "3. Построение модели\\\n",
    "    3.1. Написание функции для расчета sMAPE.\\\n",
    "    3.2. Обучение нескольких моделей и расчет метрик на тестовой выборке\\"
   ]
  },
  {
   "cell_type": "markdown",
   "metadata": {},
   "source": [
    "## Подготовка данных"
   ]
  },
  {
   "cell_type": "markdown",
   "metadata": {},
   "source": [
    "Сперва импортируем необходимые библиотеки, загрузим файлы и просмотрим."
   ]
  },
  {
   "cell_type": "code",
   "execution_count": 1,
   "metadata": {},
   "outputs": [],
   "source": [
    "import pandas as pd\n",
    "import numpy as np\n",
    "import matplotlib.pyplot as plt\n",
    "import math\n",
    "%matplotlib inline\n",
    "from scipy import stats as st\n",
    "from numpy.random import RandomState\n",
    "pd.options.display.float_format = '{:,.2f}'.format\n",
    "from sklearn.linear_model import LinearRegression\n",
    "from sklearn.ensemble import RandomForestRegressor\n",
    "from sklearn.tree import DecisionTreeRegressor\n",
    "from sklearn.model_selection import train_test_split, RandomizedSearchCV, cross_val_score\n",
    "from sklearn.preprocessing import StandardScaler\n",
    "from sklearn.metrics import mean_absolute_error, make_scorer\n",
    "from sklearn.dummy import DummyRegressor\n",
    "pd.options.mode.chained_assignment = None"
   ]
  },
  {
   "cell_type": "code",
   "execution_count": 2,
   "metadata": {},
   "outputs": [],
   "source": [
    "data_train = pd.read_csv('/datasets/gold_recovery_train_new.csv') \n",
    "data_test = pd.read_csv('/datasets/gold_recovery_test_new.csv') \n",
    "data_full = pd.read_csv('/datasets/gold_recovery_full_new.csv') "
   ]
  },
  {
   "cell_type": "code",
   "execution_count": 3,
   "metadata": {
    "scrolled": true
   },
   "outputs": [
    {
     "data": {
      "text/html": [
       "<div>\n",
       "<style scoped>\n",
       "    .dataframe tbody tr th:only-of-type {\n",
       "        vertical-align: middle;\n",
       "    }\n",
       "\n",
       "    .dataframe tbody tr th {\n",
       "        vertical-align: top;\n",
       "    }\n",
       "\n",
       "    .dataframe thead th {\n",
       "        text-align: right;\n",
       "    }\n",
       "</style>\n",
       "<table border=\"1\" class=\"dataframe\">\n",
       "  <thead>\n",
       "    <tr style=\"text-align: right;\">\n",
       "      <th></th>\n",
       "      <th>date</th>\n",
       "      <th>final.output.concentrate_ag</th>\n",
       "      <th>final.output.concentrate_pb</th>\n",
       "      <th>final.output.concentrate_sol</th>\n",
       "      <th>final.output.concentrate_au</th>\n",
       "      <th>final.output.recovery</th>\n",
       "      <th>final.output.tail_ag</th>\n",
       "      <th>final.output.tail_pb</th>\n",
       "      <th>final.output.tail_sol</th>\n",
       "      <th>final.output.tail_au</th>\n",
       "      <th>...</th>\n",
       "      <th>secondary_cleaner.state.floatbank4_a_air</th>\n",
       "      <th>secondary_cleaner.state.floatbank4_a_level</th>\n",
       "      <th>secondary_cleaner.state.floatbank4_b_air</th>\n",
       "      <th>secondary_cleaner.state.floatbank4_b_level</th>\n",
       "      <th>secondary_cleaner.state.floatbank5_a_air</th>\n",
       "      <th>secondary_cleaner.state.floatbank5_a_level</th>\n",
       "      <th>secondary_cleaner.state.floatbank5_b_air</th>\n",
       "      <th>secondary_cleaner.state.floatbank5_b_level</th>\n",
       "      <th>secondary_cleaner.state.floatbank6_a_air</th>\n",
       "      <th>secondary_cleaner.state.floatbank6_a_level</th>\n",
       "    </tr>\n",
       "  </thead>\n",
       "  <tbody>\n",
       "    <tr>\n",
       "      <th>0</th>\n",
       "      <td>2016-01-15 00:00:00</td>\n",
       "      <td>6.06</td>\n",
       "      <td>9.89</td>\n",
       "      <td>5.51</td>\n",
       "      <td>42.19</td>\n",
       "      <td>70.54</td>\n",
       "      <td>10.41</td>\n",
       "      <td>0.90</td>\n",
       "      <td>16.90</td>\n",
       "      <td>2.14</td>\n",
       "      <td>...</td>\n",
       "      <td>14.02</td>\n",
       "      <td>-502.49</td>\n",
       "      <td>12.10</td>\n",
       "      <td>-504.72</td>\n",
       "      <td>9.93</td>\n",
       "      <td>-498.31</td>\n",
       "      <td>8.08</td>\n",
       "      <td>-500.47</td>\n",
       "      <td>14.15</td>\n",
       "      <td>-605.84</td>\n",
       "    </tr>\n",
       "    <tr>\n",
       "      <th>1</th>\n",
       "      <td>2016-01-15 01:00:00</td>\n",
       "      <td>6.03</td>\n",
       "      <td>9.97</td>\n",
       "      <td>5.26</td>\n",
       "      <td>42.70</td>\n",
       "      <td>69.27</td>\n",
       "      <td>10.46</td>\n",
       "      <td>0.93</td>\n",
       "      <td>16.63</td>\n",
       "      <td>2.22</td>\n",
       "      <td>...</td>\n",
       "      <td>13.99</td>\n",
       "      <td>-505.50</td>\n",
       "      <td>11.95</td>\n",
       "      <td>-501.33</td>\n",
       "      <td>10.04</td>\n",
       "      <td>-500.17</td>\n",
       "      <td>7.98</td>\n",
       "      <td>-500.58</td>\n",
       "      <td>14.00</td>\n",
       "      <td>-599.79</td>\n",
       "    </tr>\n",
       "    <tr>\n",
       "      <th>2</th>\n",
       "      <td>2016-01-15 02:00:00</td>\n",
       "      <td>6.06</td>\n",
       "      <td>10.21</td>\n",
       "      <td>5.38</td>\n",
       "      <td>42.66</td>\n",
       "      <td>68.12</td>\n",
       "      <td>10.51</td>\n",
       "      <td>0.95</td>\n",
       "      <td>16.21</td>\n",
       "      <td>2.26</td>\n",
       "      <td>...</td>\n",
       "      <td>14.02</td>\n",
       "      <td>-502.52</td>\n",
       "      <td>11.91</td>\n",
       "      <td>-501.13</td>\n",
       "      <td>10.07</td>\n",
       "      <td>-500.13</td>\n",
       "      <td>8.01</td>\n",
       "      <td>-500.52</td>\n",
       "      <td>14.03</td>\n",
       "      <td>-601.43</td>\n",
       "    </tr>\n",
       "    <tr>\n",
       "      <th>3</th>\n",
       "      <td>2016-01-15 03:00:00</td>\n",
       "      <td>6.05</td>\n",
       "      <td>9.98</td>\n",
       "      <td>4.86</td>\n",
       "      <td>42.69</td>\n",
       "      <td>68.35</td>\n",
       "      <td>10.42</td>\n",
       "      <td>0.88</td>\n",
       "      <td>16.53</td>\n",
       "      <td>2.15</td>\n",
       "      <td>...</td>\n",
       "      <td>14.04</td>\n",
       "      <td>-500.86</td>\n",
       "      <td>12.00</td>\n",
       "      <td>-501.19</td>\n",
       "      <td>9.97</td>\n",
       "      <td>-499.20</td>\n",
       "      <td>7.98</td>\n",
       "      <td>-500.26</td>\n",
       "      <td>14.01</td>\n",
       "      <td>-600.00</td>\n",
       "    </tr>\n",
       "    <tr>\n",
       "      <th>4</th>\n",
       "      <td>2016-01-15 04:00:00</td>\n",
       "      <td>6.15</td>\n",
       "      <td>10.14</td>\n",
       "      <td>4.94</td>\n",
       "      <td>42.77</td>\n",
       "      <td>66.93</td>\n",
       "      <td>10.36</td>\n",
       "      <td>0.79</td>\n",
       "      <td>16.53</td>\n",
       "      <td>2.06</td>\n",
       "      <td>...</td>\n",
       "      <td>14.03</td>\n",
       "      <td>-499.84</td>\n",
       "      <td>11.95</td>\n",
       "      <td>-501.05</td>\n",
       "      <td>9.93</td>\n",
       "      <td>-501.69</td>\n",
       "      <td>7.89</td>\n",
       "      <td>-500.36</td>\n",
       "      <td>14.00</td>\n",
       "      <td>-601.50</td>\n",
       "    </tr>\n",
       "  </tbody>\n",
       "</table>\n",
       "<p>5 rows × 87 columns</p>\n",
       "</div>"
      ],
      "text/plain": [
       "                  date  final.output.concentrate_ag  \\\n",
       "0  2016-01-15 00:00:00                         6.06   \n",
       "1  2016-01-15 01:00:00                         6.03   \n",
       "2  2016-01-15 02:00:00                         6.06   \n",
       "3  2016-01-15 03:00:00                         6.05   \n",
       "4  2016-01-15 04:00:00                         6.15   \n",
       "\n",
       "   final.output.concentrate_pb  final.output.concentrate_sol  \\\n",
       "0                         9.89                          5.51   \n",
       "1                         9.97                          5.26   \n",
       "2                        10.21                          5.38   \n",
       "3                         9.98                          4.86   \n",
       "4                        10.14                          4.94   \n",
       "\n",
       "   final.output.concentrate_au  final.output.recovery  final.output.tail_ag  \\\n",
       "0                        42.19                  70.54                 10.41   \n",
       "1                        42.70                  69.27                 10.46   \n",
       "2                        42.66                  68.12                 10.51   \n",
       "3                        42.69                  68.35                 10.42   \n",
       "4                        42.77                  66.93                 10.36   \n",
       "\n",
       "   final.output.tail_pb  final.output.tail_sol  final.output.tail_au  ...  \\\n",
       "0                  0.90                  16.90                  2.14  ...   \n",
       "1                  0.93                  16.63                  2.22  ...   \n",
       "2                  0.95                  16.21                  2.26  ...   \n",
       "3                  0.88                  16.53                  2.15  ...   \n",
       "4                  0.79                  16.53                  2.06  ...   \n",
       "\n",
       "   secondary_cleaner.state.floatbank4_a_air  \\\n",
       "0                                     14.02   \n",
       "1                                     13.99   \n",
       "2                                     14.02   \n",
       "3                                     14.04   \n",
       "4                                     14.03   \n",
       "\n",
       "   secondary_cleaner.state.floatbank4_a_level  \\\n",
       "0                                     -502.49   \n",
       "1                                     -505.50   \n",
       "2                                     -502.52   \n",
       "3                                     -500.86   \n",
       "4                                     -499.84   \n",
       "\n",
       "   secondary_cleaner.state.floatbank4_b_air  \\\n",
       "0                                     12.10   \n",
       "1                                     11.95   \n",
       "2                                     11.91   \n",
       "3                                     12.00   \n",
       "4                                     11.95   \n",
       "\n",
       "   secondary_cleaner.state.floatbank4_b_level  \\\n",
       "0                                     -504.72   \n",
       "1                                     -501.33   \n",
       "2                                     -501.13   \n",
       "3                                     -501.19   \n",
       "4                                     -501.05   \n",
       "\n",
       "   secondary_cleaner.state.floatbank5_a_air  \\\n",
       "0                                      9.93   \n",
       "1                                     10.04   \n",
       "2                                     10.07   \n",
       "3                                      9.97   \n",
       "4                                      9.93   \n",
       "\n",
       "   secondary_cleaner.state.floatbank5_a_level  \\\n",
       "0                                     -498.31   \n",
       "1                                     -500.17   \n",
       "2                                     -500.13   \n",
       "3                                     -499.20   \n",
       "4                                     -501.69   \n",
       "\n",
       "   secondary_cleaner.state.floatbank5_b_air  \\\n",
       "0                                      8.08   \n",
       "1                                      7.98   \n",
       "2                                      8.01   \n",
       "3                                      7.98   \n",
       "4                                      7.89   \n",
       "\n",
       "   secondary_cleaner.state.floatbank5_b_level  \\\n",
       "0                                     -500.47   \n",
       "1                                     -500.58   \n",
       "2                                     -500.52   \n",
       "3                                     -500.26   \n",
       "4                                     -500.36   \n",
       "\n",
       "   secondary_cleaner.state.floatbank6_a_air  \\\n",
       "0                                     14.15   \n",
       "1                                     14.00   \n",
       "2                                     14.03   \n",
       "3                                     14.01   \n",
       "4                                     14.00   \n",
       "\n",
       "   secondary_cleaner.state.floatbank6_a_level  \n",
       "0                                     -605.84  \n",
       "1                                     -599.79  \n",
       "2                                     -601.43  \n",
       "3                                     -600.00  \n",
       "4                                     -601.50  \n",
       "\n",
       "[5 rows x 87 columns]"
      ]
     },
     "execution_count": 3,
     "metadata": {},
     "output_type": "execute_result"
    }
   ],
   "source": [
    "data_train.head() # выведем первые 5 строк"
   ]
  },
  {
   "cell_type": "code",
   "execution_count": 4,
   "metadata": {
    "scrolled": true
   },
   "outputs": [
    {
     "name": "stdout",
     "output_type": "stream",
     "text": [
      "<class 'pandas.core.frame.DataFrame'>\n",
      "RangeIndex: 14149 entries, 0 to 14148\n",
      "Data columns (total 87 columns):\n",
      " #   Column                                              Non-Null Count  Dtype  \n",
      "---  ------                                              --------------  -----  \n",
      " 0   date                                                14149 non-null  object \n",
      " 1   final.output.concentrate_ag                         14148 non-null  float64\n",
      " 2   final.output.concentrate_pb                         14148 non-null  float64\n",
      " 3   final.output.concentrate_sol                        13938 non-null  float64\n",
      " 4   final.output.concentrate_au                         14149 non-null  float64\n",
      " 5   final.output.recovery                               14149 non-null  float64\n",
      " 6   final.output.tail_ag                                14149 non-null  float64\n",
      " 7   final.output.tail_pb                                14049 non-null  float64\n",
      " 8   final.output.tail_sol                               14144 non-null  float64\n",
      " 9   final.output.tail_au                                14149 non-null  float64\n",
      " 10  primary_cleaner.input.sulfate                       14129 non-null  float64\n",
      " 11  primary_cleaner.input.depressant                    14117 non-null  float64\n",
      " 12  primary_cleaner.input.feed_size                     14149 non-null  float64\n",
      " 13  primary_cleaner.input.xanthate                      14049 non-null  float64\n",
      " 14  primary_cleaner.output.concentrate_ag               14149 non-null  float64\n",
      " 15  primary_cleaner.output.concentrate_pb               14063 non-null  float64\n",
      " 16  primary_cleaner.output.concentrate_sol              13863 non-null  float64\n",
      " 17  primary_cleaner.output.concentrate_au               14149 non-null  float64\n",
      " 18  primary_cleaner.output.tail_ag                      14148 non-null  float64\n",
      " 19  primary_cleaner.output.tail_pb                      14134 non-null  float64\n",
      " 20  primary_cleaner.output.tail_sol                     14103 non-null  float64\n",
      " 21  primary_cleaner.output.tail_au                      14149 non-null  float64\n",
      " 22  primary_cleaner.state.floatbank8_a_air              14145 non-null  float64\n",
      " 23  primary_cleaner.state.floatbank8_a_level            14148 non-null  float64\n",
      " 24  primary_cleaner.state.floatbank8_b_air              14145 non-null  float64\n",
      " 25  primary_cleaner.state.floatbank8_b_level            14148 non-null  float64\n",
      " 26  primary_cleaner.state.floatbank8_c_air              14147 non-null  float64\n",
      " 27  primary_cleaner.state.floatbank8_c_level            14148 non-null  float64\n",
      " 28  primary_cleaner.state.floatbank8_d_air              14146 non-null  float64\n",
      " 29  primary_cleaner.state.floatbank8_d_level            14148 non-null  float64\n",
      " 30  rougher.calculation.sulfate_to_au_concentrate       14148 non-null  float64\n",
      " 31  rougher.calculation.floatbank10_sulfate_to_au_feed  14148 non-null  float64\n",
      " 32  rougher.calculation.floatbank11_sulfate_to_au_feed  14148 non-null  float64\n",
      " 33  rougher.calculation.au_pb_ratio                     14149 non-null  float64\n",
      " 34  rougher.input.feed_ag                               14149 non-null  float64\n",
      " 35  rougher.input.feed_pb                               14049 non-null  float64\n",
      " 36  rougher.input.feed_rate                             14141 non-null  float64\n",
      " 37  rougher.input.feed_size                             14005 non-null  float64\n",
      " 38  rougher.input.feed_sol                              14071 non-null  float64\n",
      " 39  rougher.input.feed_au                               14149 non-null  float64\n",
      " 40  rougher.input.floatbank10_sulfate                   14120 non-null  float64\n",
      " 41  rougher.input.floatbank10_xanthate                  14141 non-null  float64\n",
      " 42  rougher.input.floatbank11_sulfate                   14113 non-null  float64\n",
      " 43  rougher.input.floatbank11_xanthate                  13721 non-null  float64\n",
      " 44  rougher.output.concentrate_ag                       14149 non-null  float64\n",
      " 45  rougher.output.concentrate_pb                       14149 non-null  float64\n",
      " 46  rougher.output.concentrate_sol                      14127 non-null  float64\n",
      " 47  rougher.output.concentrate_au                       14149 non-null  float64\n",
      " 48  rougher.output.recovery                             14149 non-null  float64\n",
      " 49  rougher.output.tail_ag                              14148 non-null  float64\n",
      " 50  rougher.output.tail_pb                              14149 non-null  float64\n",
      " 51  rougher.output.tail_sol                             14149 non-null  float64\n",
      " 52  rougher.output.tail_au                              14149 non-null  float64\n",
      " 53  rougher.state.floatbank10_a_air                     14148 non-null  float64\n",
      " 54  rougher.state.floatbank10_a_level                   14148 non-null  float64\n",
      " 55  rougher.state.floatbank10_b_air                     14148 non-null  float64\n",
      " 56  rougher.state.floatbank10_b_level                   14148 non-null  float64\n",
      " 57  rougher.state.floatbank10_c_air                     14148 non-null  float64\n",
      " 58  rougher.state.floatbank10_c_level                   14148 non-null  float64\n",
      " 59  rougher.state.floatbank10_d_air                     14149 non-null  float64\n",
      " 60  rougher.state.floatbank10_d_level                   14149 non-null  float64\n",
      " 61  rougher.state.floatbank10_e_air                     13713 non-null  float64\n",
      " 62  rougher.state.floatbank10_e_level                   14149 non-null  float64\n",
      " 63  rougher.state.floatbank10_f_air                     14149 non-null  float64\n",
      " 64  rougher.state.floatbank10_f_level                   14149 non-null  float64\n",
      " 65  secondary_cleaner.output.tail_ag                    14147 non-null  float64\n",
      " 66  secondary_cleaner.output.tail_pb                    14139 non-null  float64\n",
      " 67  secondary_cleaner.output.tail_sol                   12544 non-null  float64\n",
      " 68  secondary_cleaner.output.tail_au                    14149 non-null  float64\n",
      " 69  secondary_cleaner.state.floatbank2_a_air            13932 non-null  float64\n",
      " 70  secondary_cleaner.state.floatbank2_a_level          14148 non-null  float64\n",
      " 71  secondary_cleaner.state.floatbank2_b_air            14128 non-null  float64\n",
      " 72  secondary_cleaner.state.floatbank2_b_level          14148 non-null  float64\n",
      " 73  secondary_cleaner.state.floatbank3_a_air            14145 non-null  float64\n",
      " 74  secondary_cleaner.state.floatbank3_a_level          14148 non-null  float64\n",
      " 75  secondary_cleaner.state.floatbank3_b_air            14148 non-null  float64\n",
      " 76  secondary_cleaner.state.floatbank3_b_level          14148 non-null  float64\n",
      " 77  secondary_cleaner.state.floatbank4_a_air            14143 non-null  float64\n",
      " 78  secondary_cleaner.state.floatbank4_a_level          14148 non-null  float64\n",
      " 79  secondary_cleaner.state.floatbank4_b_air            14148 non-null  float64\n",
      " 80  secondary_cleaner.state.floatbank4_b_level          14148 non-null  float64\n",
      " 81  secondary_cleaner.state.floatbank5_a_air            14148 non-null  float64\n",
      " 82  secondary_cleaner.state.floatbank5_a_level          14148 non-null  float64\n",
      " 83  secondary_cleaner.state.floatbank5_b_air            14148 non-null  float64\n",
      " 84  secondary_cleaner.state.floatbank5_b_level          14148 non-null  float64\n",
      " 85  secondary_cleaner.state.floatbank6_a_air            14147 non-null  float64\n",
      " 86  secondary_cleaner.state.floatbank6_a_level          14148 non-null  float64\n",
      "dtypes: float64(86), object(1)\n",
      "memory usage: 9.4+ MB\n"
     ]
    }
   ],
   "source": [
    "data_train.info() # выводим информацию о датасете"
   ]
  },
  {
   "cell_type": "code",
   "execution_count": 5,
   "metadata": {},
   "outputs": [
    {
     "data": {
      "text/plain": [
       "0"
      ]
     },
     "execution_count": 5,
     "metadata": {},
     "output_type": "execute_result"
    }
   ],
   "source": [
    "data_train.duplicated().sum() # проверка на дубликаты"
   ]
  },
  {
   "cell_type": "code",
   "execution_count": 6,
   "metadata": {},
   "outputs": [
    {
     "data": {
      "text/html": [
       "<div>\n",
       "<style scoped>\n",
       "    .dataframe tbody tr th:only-of-type {\n",
       "        vertical-align: middle;\n",
       "    }\n",
       "\n",
       "    .dataframe tbody tr th {\n",
       "        vertical-align: top;\n",
       "    }\n",
       "\n",
       "    .dataframe thead th {\n",
       "        text-align: right;\n",
       "    }\n",
       "</style>\n",
       "<table border=\"1\" class=\"dataframe\">\n",
       "  <thead>\n",
       "    <tr style=\"text-align: right;\">\n",
       "      <th></th>\n",
       "      <th>date</th>\n",
       "      <th>primary_cleaner.input.sulfate</th>\n",
       "      <th>primary_cleaner.input.depressant</th>\n",
       "      <th>primary_cleaner.input.feed_size</th>\n",
       "      <th>primary_cleaner.input.xanthate</th>\n",
       "      <th>primary_cleaner.state.floatbank8_a_air</th>\n",
       "      <th>primary_cleaner.state.floatbank8_a_level</th>\n",
       "      <th>primary_cleaner.state.floatbank8_b_air</th>\n",
       "      <th>primary_cleaner.state.floatbank8_b_level</th>\n",
       "      <th>primary_cleaner.state.floatbank8_c_air</th>\n",
       "      <th>...</th>\n",
       "      <th>secondary_cleaner.state.floatbank4_a_air</th>\n",
       "      <th>secondary_cleaner.state.floatbank4_a_level</th>\n",
       "      <th>secondary_cleaner.state.floatbank4_b_air</th>\n",
       "      <th>secondary_cleaner.state.floatbank4_b_level</th>\n",
       "      <th>secondary_cleaner.state.floatbank5_a_air</th>\n",
       "      <th>secondary_cleaner.state.floatbank5_a_level</th>\n",
       "      <th>secondary_cleaner.state.floatbank5_b_air</th>\n",
       "      <th>secondary_cleaner.state.floatbank5_b_level</th>\n",
       "      <th>secondary_cleaner.state.floatbank6_a_air</th>\n",
       "      <th>secondary_cleaner.state.floatbank6_a_level</th>\n",
       "    </tr>\n",
       "  </thead>\n",
       "  <tbody>\n",
       "    <tr>\n",
       "      <th>0</th>\n",
       "      <td>2016-09-01 00:59:59</td>\n",
       "      <td>210.80</td>\n",
       "      <td>14.99</td>\n",
       "      <td>8.08</td>\n",
       "      <td>1.01</td>\n",
       "      <td>1,398.98</td>\n",
       "      <td>-500.23</td>\n",
       "      <td>1,399.14</td>\n",
       "      <td>-499.92</td>\n",
       "      <td>1,400.10</td>\n",
       "      <td>...</td>\n",
       "      <td>12.02</td>\n",
       "      <td>-497.80</td>\n",
       "      <td>8.02</td>\n",
       "      <td>-501.29</td>\n",
       "      <td>7.95</td>\n",
       "      <td>-432.32</td>\n",
       "      <td>4.87</td>\n",
       "      <td>-500.04</td>\n",
       "      <td>26.71</td>\n",
       "      <td>-499.71</td>\n",
       "    </tr>\n",
       "    <tr>\n",
       "      <th>1</th>\n",
       "      <td>2016-09-01 01:59:59</td>\n",
       "      <td>215.39</td>\n",
       "      <td>14.99</td>\n",
       "      <td>8.08</td>\n",
       "      <td>0.99</td>\n",
       "      <td>1,398.78</td>\n",
       "      <td>-500.06</td>\n",
       "      <td>1,398.06</td>\n",
       "      <td>-499.78</td>\n",
       "      <td>1,396.15</td>\n",
       "      <td>...</td>\n",
       "      <td>12.06</td>\n",
       "      <td>-498.70</td>\n",
       "      <td>8.13</td>\n",
       "      <td>-499.63</td>\n",
       "      <td>7.96</td>\n",
       "      <td>-525.84</td>\n",
       "      <td>4.88</td>\n",
       "      <td>-500.16</td>\n",
       "      <td>25.02</td>\n",
       "      <td>-499.82</td>\n",
       "    </tr>\n",
       "    <tr>\n",
       "      <th>2</th>\n",
       "      <td>2016-09-01 02:59:59</td>\n",
       "      <td>215.26</td>\n",
       "      <td>12.88</td>\n",
       "      <td>7.79</td>\n",
       "      <td>1.00</td>\n",
       "      <td>1,398.49</td>\n",
       "      <td>-500.87</td>\n",
       "      <td>1,398.86</td>\n",
       "      <td>-499.76</td>\n",
       "      <td>1,398.08</td>\n",
       "      <td>...</td>\n",
       "      <td>11.96</td>\n",
       "      <td>-498.77</td>\n",
       "      <td>8.10</td>\n",
       "      <td>-500.83</td>\n",
       "      <td>8.07</td>\n",
       "      <td>-500.80</td>\n",
       "      <td>4.91</td>\n",
       "      <td>-499.83</td>\n",
       "      <td>24.99</td>\n",
       "      <td>-500.62</td>\n",
       "    </tr>\n",
       "    <tr>\n",
       "      <th>3</th>\n",
       "      <td>2016-09-01 03:59:59</td>\n",
       "      <td>215.34</td>\n",
       "      <td>12.01</td>\n",
       "      <td>7.64</td>\n",
       "      <td>0.86</td>\n",
       "      <td>1,399.62</td>\n",
       "      <td>-498.86</td>\n",
       "      <td>1,397.44</td>\n",
       "      <td>-499.21</td>\n",
       "      <td>1,400.13</td>\n",
       "      <td>...</td>\n",
       "      <td>12.03</td>\n",
       "      <td>-498.35</td>\n",
       "      <td>8.07</td>\n",
       "      <td>-499.47</td>\n",
       "      <td>7.90</td>\n",
       "      <td>-500.87</td>\n",
       "      <td>4.93</td>\n",
       "      <td>-499.96</td>\n",
       "      <td>24.95</td>\n",
       "      <td>-498.71</td>\n",
       "    </tr>\n",
       "    <tr>\n",
       "      <th>4</th>\n",
       "      <td>2016-09-01 04:59:59</td>\n",
       "      <td>199.10</td>\n",
       "      <td>10.68</td>\n",
       "      <td>7.53</td>\n",
       "      <td>0.81</td>\n",
       "      <td>1,401.27</td>\n",
       "      <td>-500.81</td>\n",
       "      <td>1,398.13</td>\n",
       "      <td>-499.50</td>\n",
       "      <td>1,402.17</td>\n",
       "      <td>...</td>\n",
       "      <td>12.03</td>\n",
       "      <td>-500.79</td>\n",
       "      <td>8.05</td>\n",
       "      <td>-500.40</td>\n",
       "      <td>8.11</td>\n",
       "      <td>-509.53</td>\n",
       "      <td>4.96</td>\n",
       "      <td>-500.36</td>\n",
       "      <td>25.00</td>\n",
       "      <td>-500.86</td>\n",
       "    </tr>\n",
       "  </tbody>\n",
       "</table>\n",
       "<p>5 rows × 53 columns</p>\n",
       "</div>"
      ],
      "text/plain": [
       "                  date  primary_cleaner.input.sulfate  \\\n",
       "0  2016-09-01 00:59:59                         210.80   \n",
       "1  2016-09-01 01:59:59                         215.39   \n",
       "2  2016-09-01 02:59:59                         215.26   \n",
       "3  2016-09-01 03:59:59                         215.34   \n",
       "4  2016-09-01 04:59:59                         199.10   \n",
       "\n",
       "   primary_cleaner.input.depressant  primary_cleaner.input.feed_size  \\\n",
       "0                             14.99                             8.08   \n",
       "1                             14.99                             8.08   \n",
       "2                             12.88                             7.79   \n",
       "3                             12.01                             7.64   \n",
       "4                             10.68                             7.53   \n",
       "\n",
       "   primary_cleaner.input.xanthate  primary_cleaner.state.floatbank8_a_air  \\\n",
       "0                            1.01                                1,398.98   \n",
       "1                            0.99                                1,398.78   \n",
       "2                            1.00                                1,398.49   \n",
       "3                            0.86                                1,399.62   \n",
       "4                            0.81                                1,401.27   \n",
       "\n",
       "   primary_cleaner.state.floatbank8_a_level  \\\n",
       "0                                   -500.23   \n",
       "1                                   -500.06   \n",
       "2                                   -500.87   \n",
       "3                                   -498.86   \n",
       "4                                   -500.81   \n",
       "\n",
       "   primary_cleaner.state.floatbank8_b_air  \\\n",
       "0                                1,399.14   \n",
       "1                                1,398.06   \n",
       "2                                1,398.86   \n",
       "3                                1,397.44   \n",
       "4                                1,398.13   \n",
       "\n",
       "   primary_cleaner.state.floatbank8_b_level  \\\n",
       "0                                   -499.92   \n",
       "1                                   -499.78   \n",
       "2                                   -499.76   \n",
       "3                                   -499.21   \n",
       "4                                   -499.50   \n",
       "\n",
       "   primary_cleaner.state.floatbank8_c_air  ...  \\\n",
       "0                                1,400.10  ...   \n",
       "1                                1,396.15  ...   \n",
       "2                                1,398.08  ...   \n",
       "3                                1,400.13  ...   \n",
       "4                                1,402.17  ...   \n",
       "\n",
       "   secondary_cleaner.state.floatbank4_a_air  \\\n",
       "0                                     12.02   \n",
       "1                                     12.06   \n",
       "2                                     11.96   \n",
       "3                                     12.03   \n",
       "4                                     12.03   \n",
       "\n",
       "   secondary_cleaner.state.floatbank4_a_level  \\\n",
       "0                                     -497.80   \n",
       "1                                     -498.70   \n",
       "2                                     -498.77   \n",
       "3                                     -498.35   \n",
       "4                                     -500.79   \n",
       "\n",
       "   secondary_cleaner.state.floatbank4_b_air  \\\n",
       "0                                      8.02   \n",
       "1                                      8.13   \n",
       "2                                      8.10   \n",
       "3                                      8.07   \n",
       "4                                      8.05   \n",
       "\n",
       "   secondary_cleaner.state.floatbank4_b_level  \\\n",
       "0                                     -501.29   \n",
       "1                                     -499.63   \n",
       "2                                     -500.83   \n",
       "3                                     -499.47   \n",
       "4                                     -500.40   \n",
       "\n",
       "   secondary_cleaner.state.floatbank5_a_air  \\\n",
       "0                                      7.95   \n",
       "1                                      7.96   \n",
       "2                                      8.07   \n",
       "3                                      7.90   \n",
       "4                                      8.11   \n",
       "\n",
       "   secondary_cleaner.state.floatbank5_a_level  \\\n",
       "0                                     -432.32   \n",
       "1                                     -525.84   \n",
       "2                                     -500.80   \n",
       "3                                     -500.87   \n",
       "4                                     -509.53   \n",
       "\n",
       "   secondary_cleaner.state.floatbank5_b_air  \\\n",
       "0                                      4.87   \n",
       "1                                      4.88   \n",
       "2                                      4.91   \n",
       "3                                      4.93   \n",
       "4                                      4.96   \n",
       "\n",
       "   secondary_cleaner.state.floatbank5_b_level  \\\n",
       "0                                     -500.04   \n",
       "1                                     -500.16   \n",
       "2                                     -499.83   \n",
       "3                                     -499.96   \n",
       "4                                     -500.36   \n",
       "\n",
       "   secondary_cleaner.state.floatbank6_a_air  \\\n",
       "0                                     26.71   \n",
       "1                                     25.02   \n",
       "2                                     24.99   \n",
       "3                                     24.95   \n",
       "4                                     25.00   \n",
       "\n",
       "   secondary_cleaner.state.floatbank6_a_level  \n",
       "0                                     -499.71  \n",
       "1                                     -499.82  \n",
       "2                                     -500.62  \n",
       "3                                     -498.71  \n",
       "4                                     -500.86  \n",
       "\n",
       "[5 rows x 53 columns]"
      ]
     },
     "execution_count": 6,
     "metadata": {},
     "output_type": "execute_result"
    }
   ],
   "source": [
    "data_test.head() # выведем первые 5 строк"
   ]
  },
  {
   "cell_type": "code",
   "execution_count": 7,
   "metadata": {
    "scrolled": true
   },
   "outputs": [
    {
     "name": "stdout",
     "output_type": "stream",
     "text": [
      "<class 'pandas.core.frame.DataFrame'>\n",
      "RangeIndex: 5290 entries, 0 to 5289\n",
      "Data columns (total 53 columns):\n",
      " #   Column                                      Non-Null Count  Dtype  \n",
      "---  ------                                      --------------  -----  \n",
      " 0   date                                        5290 non-null   object \n",
      " 1   primary_cleaner.input.sulfate               5286 non-null   float64\n",
      " 2   primary_cleaner.input.depressant            5285 non-null   float64\n",
      " 3   primary_cleaner.input.feed_size             5290 non-null   float64\n",
      " 4   primary_cleaner.input.xanthate              5286 non-null   float64\n",
      " 5   primary_cleaner.state.floatbank8_a_air      5290 non-null   float64\n",
      " 6   primary_cleaner.state.floatbank8_a_level    5290 non-null   float64\n",
      " 7   primary_cleaner.state.floatbank8_b_air      5290 non-null   float64\n",
      " 8   primary_cleaner.state.floatbank8_b_level    5290 non-null   float64\n",
      " 9   primary_cleaner.state.floatbank8_c_air      5290 non-null   float64\n",
      " 10  primary_cleaner.state.floatbank8_c_level    5290 non-null   float64\n",
      " 11  primary_cleaner.state.floatbank8_d_air      5290 non-null   float64\n",
      " 12  primary_cleaner.state.floatbank8_d_level    5290 non-null   float64\n",
      " 13  rougher.input.feed_ag                       5290 non-null   float64\n",
      " 14  rougher.input.feed_pb                       5290 non-null   float64\n",
      " 15  rougher.input.feed_rate                     5287 non-null   float64\n",
      " 16  rougher.input.feed_size                     5289 non-null   float64\n",
      " 17  rougher.input.feed_sol                      5269 non-null   float64\n",
      " 18  rougher.input.feed_au                       5290 non-null   float64\n",
      " 19  rougher.input.floatbank10_sulfate           5285 non-null   float64\n",
      " 20  rougher.input.floatbank10_xanthate          5290 non-null   float64\n",
      " 21  rougher.input.floatbank11_sulfate           5282 non-null   float64\n",
      " 22  rougher.input.floatbank11_xanthate          5265 non-null   float64\n",
      " 23  rougher.state.floatbank10_a_air             5290 non-null   float64\n",
      " 24  rougher.state.floatbank10_a_level           5290 non-null   float64\n",
      " 25  rougher.state.floatbank10_b_air             5290 non-null   float64\n",
      " 26  rougher.state.floatbank10_b_level           5290 non-null   float64\n",
      " 27  rougher.state.floatbank10_c_air             5290 non-null   float64\n",
      " 28  rougher.state.floatbank10_c_level           5290 non-null   float64\n",
      " 29  rougher.state.floatbank10_d_air             5290 non-null   float64\n",
      " 30  rougher.state.floatbank10_d_level           5290 non-null   float64\n",
      " 31  rougher.state.floatbank10_e_air             5290 non-null   float64\n",
      " 32  rougher.state.floatbank10_e_level           5290 non-null   float64\n",
      " 33  rougher.state.floatbank10_f_air             5290 non-null   float64\n",
      " 34  rougher.state.floatbank10_f_level           5290 non-null   float64\n",
      " 35  secondary_cleaner.state.floatbank2_a_air    5287 non-null   float64\n",
      " 36  secondary_cleaner.state.floatbank2_a_level  5290 non-null   float64\n",
      " 37  secondary_cleaner.state.floatbank2_b_air    5288 non-null   float64\n",
      " 38  secondary_cleaner.state.floatbank2_b_level  5290 non-null   float64\n",
      " 39  secondary_cleaner.state.floatbank3_a_air    5281 non-null   float64\n",
      " 40  secondary_cleaner.state.floatbank3_a_level  5290 non-null   float64\n",
      " 41  secondary_cleaner.state.floatbank3_b_air    5290 non-null   float64\n",
      " 42  secondary_cleaner.state.floatbank3_b_level  5290 non-null   float64\n",
      " 43  secondary_cleaner.state.floatbank4_a_air    5290 non-null   float64\n",
      " 44  secondary_cleaner.state.floatbank4_a_level  5290 non-null   float64\n",
      " 45  secondary_cleaner.state.floatbank4_b_air    5290 non-null   float64\n",
      " 46  secondary_cleaner.state.floatbank4_b_level  5290 non-null   float64\n",
      " 47  secondary_cleaner.state.floatbank5_a_air    5290 non-null   float64\n",
      " 48  secondary_cleaner.state.floatbank5_a_level  5290 non-null   float64\n",
      " 49  secondary_cleaner.state.floatbank5_b_air    5290 non-null   float64\n",
      " 50  secondary_cleaner.state.floatbank5_b_level  5290 non-null   float64\n",
      " 51  secondary_cleaner.state.floatbank6_a_air    5290 non-null   float64\n",
      " 52  secondary_cleaner.state.floatbank6_a_level  5290 non-null   float64\n",
      "dtypes: float64(52), object(1)\n",
      "memory usage: 2.1+ MB\n"
     ]
    }
   ],
   "source": [
    "data_test.info() # выводим информацию о датасете"
   ]
  },
  {
   "cell_type": "code",
   "execution_count": 8,
   "metadata": {},
   "outputs": [
    {
     "data": {
      "text/plain": [
       "0"
      ]
     },
     "execution_count": 8,
     "metadata": {},
     "output_type": "execute_result"
    }
   ],
   "source": [
    "data_test.duplicated().sum() # проверка на дубликаты"
   ]
  },
  {
   "cell_type": "code",
   "execution_count": 9,
   "metadata": {
    "scrolled": true
   },
   "outputs": [
    {
     "data": {
      "text/html": [
       "<div>\n",
       "<style scoped>\n",
       "    .dataframe tbody tr th:only-of-type {\n",
       "        vertical-align: middle;\n",
       "    }\n",
       "\n",
       "    .dataframe tbody tr th {\n",
       "        vertical-align: top;\n",
       "    }\n",
       "\n",
       "    .dataframe thead th {\n",
       "        text-align: right;\n",
       "    }\n",
       "</style>\n",
       "<table border=\"1\" class=\"dataframe\">\n",
       "  <thead>\n",
       "    <tr style=\"text-align: right;\">\n",
       "      <th></th>\n",
       "      <th>date</th>\n",
       "      <th>final.output.concentrate_ag</th>\n",
       "      <th>final.output.concentrate_pb</th>\n",
       "      <th>final.output.concentrate_sol</th>\n",
       "      <th>final.output.concentrate_au</th>\n",
       "      <th>final.output.recovery</th>\n",
       "      <th>final.output.tail_ag</th>\n",
       "      <th>final.output.tail_pb</th>\n",
       "      <th>final.output.tail_sol</th>\n",
       "      <th>final.output.tail_au</th>\n",
       "      <th>...</th>\n",
       "      <th>secondary_cleaner.state.floatbank4_a_air</th>\n",
       "      <th>secondary_cleaner.state.floatbank4_a_level</th>\n",
       "      <th>secondary_cleaner.state.floatbank4_b_air</th>\n",
       "      <th>secondary_cleaner.state.floatbank4_b_level</th>\n",
       "      <th>secondary_cleaner.state.floatbank5_a_air</th>\n",
       "      <th>secondary_cleaner.state.floatbank5_a_level</th>\n",
       "      <th>secondary_cleaner.state.floatbank5_b_air</th>\n",
       "      <th>secondary_cleaner.state.floatbank5_b_level</th>\n",
       "      <th>secondary_cleaner.state.floatbank6_a_air</th>\n",
       "      <th>secondary_cleaner.state.floatbank6_a_level</th>\n",
       "    </tr>\n",
       "  </thead>\n",
       "  <tbody>\n",
       "    <tr>\n",
       "      <th>0</th>\n",
       "      <td>2016-01-15 00:00:00</td>\n",
       "      <td>6.06</td>\n",
       "      <td>9.89</td>\n",
       "      <td>5.51</td>\n",
       "      <td>42.19</td>\n",
       "      <td>70.54</td>\n",
       "      <td>10.41</td>\n",
       "      <td>0.90</td>\n",
       "      <td>16.90</td>\n",
       "      <td>2.14</td>\n",
       "      <td>...</td>\n",
       "      <td>14.02</td>\n",
       "      <td>-502.49</td>\n",
       "      <td>12.10</td>\n",
       "      <td>-504.72</td>\n",
       "      <td>9.93</td>\n",
       "      <td>-498.31</td>\n",
       "      <td>8.08</td>\n",
       "      <td>-500.47</td>\n",
       "      <td>14.15</td>\n",
       "      <td>-605.84</td>\n",
       "    </tr>\n",
       "    <tr>\n",
       "      <th>1</th>\n",
       "      <td>2016-01-15 01:00:00</td>\n",
       "      <td>6.03</td>\n",
       "      <td>9.97</td>\n",
       "      <td>5.26</td>\n",
       "      <td>42.70</td>\n",
       "      <td>69.27</td>\n",
       "      <td>10.46</td>\n",
       "      <td>0.93</td>\n",
       "      <td>16.63</td>\n",
       "      <td>2.22</td>\n",
       "      <td>...</td>\n",
       "      <td>13.99</td>\n",
       "      <td>-505.50</td>\n",
       "      <td>11.95</td>\n",
       "      <td>-501.33</td>\n",
       "      <td>10.04</td>\n",
       "      <td>-500.17</td>\n",
       "      <td>7.98</td>\n",
       "      <td>-500.58</td>\n",
       "      <td>14.00</td>\n",
       "      <td>-599.79</td>\n",
       "    </tr>\n",
       "    <tr>\n",
       "      <th>2</th>\n",
       "      <td>2016-01-15 02:00:00</td>\n",
       "      <td>6.06</td>\n",
       "      <td>10.21</td>\n",
       "      <td>5.38</td>\n",
       "      <td>42.66</td>\n",
       "      <td>68.12</td>\n",
       "      <td>10.51</td>\n",
       "      <td>0.95</td>\n",
       "      <td>16.21</td>\n",
       "      <td>2.26</td>\n",
       "      <td>...</td>\n",
       "      <td>14.02</td>\n",
       "      <td>-502.52</td>\n",
       "      <td>11.91</td>\n",
       "      <td>-501.13</td>\n",
       "      <td>10.07</td>\n",
       "      <td>-500.13</td>\n",
       "      <td>8.01</td>\n",
       "      <td>-500.52</td>\n",
       "      <td>14.03</td>\n",
       "      <td>-601.43</td>\n",
       "    </tr>\n",
       "    <tr>\n",
       "      <th>3</th>\n",
       "      <td>2016-01-15 03:00:00</td>\n",
       "      <td>6.05</td>\n",
       "      <td>9.98</td>\n",
       "      <td>4.86</td>\n",
       "      <td>42.69</td>\n",
       "      <td>68.35</td>\n",
       "      <td>10.42</td>\n",
       "      <td>0.88</td>\n",
       "      <td>16.53</td>\n",
       "      <td>2.15</td>\n",
       "      <td>...</td>\n",
       "      <td>14.04</td>\n",
       "      <td>-500.86</td>\n",
       "      <td>12.00</td>\n",
       "      <td>-501.19</td>\n",
       "      <td>9.97</td>\n",
       "      <td>-499.20</td>\n",
       "      <td>7.98</td>\n",
       "      <td>-500.26</td>\n",
       "      <td>14.01</td>\n",
       "      <td>-600.00</td>\n",
       "    </tr>\n",
       "    <tr>\n",
       "      <th>4</th>\n",
       "      <td>2016-01-15 04:00:00</td>\n",
       "      <td>6.15</td>\n",
       "      <td>10.14</td>\n",
       "      <td>4.94</td>\n",
       "      <td>42.77</td>\n",
       "      <td>66.93</td>\n",
       "      <td>10.36</td>\n",
       "      <td>0.79</td>\n",
       "      <td>16.53</td>\n",
       "      <td>2.06</td>\n",
       "      <td>...</td>\n",
       "      <td>14.03</td>\n",
       "      <td>-499.84</td>\n",
       "      <td>11.95</td>\n",
       "      <td>-501.05</td>\n",
       "      <td>9.93</td>\n",
       "      <td>-501.69</td>\n",
       "      <td>7.89</td>\n",
       "      <td>-500.36</td>\n",
       "      <td>14.00</td>\n",
       "      <td>-601.50</td>\n",
       "    </tr>\n",
       "  </tbody>\n",
       "</table>\n",
       "<p>5 rows × 87 columns</p>\n",
       "</div>"
      ],
      "text/plain": [
       "                  date  final.output.concentrate_ag  \\\n",
       "0  2016-01-15 00:00:00                         6.06   \n",
       "1  2016-01-15 01:00:00                         6.03   \n",
       "2  2016-01-15 02:00:00                         6.06   \n",
       "3  2016-01-15 03:00:00                         6.05   \n",
       "4  2016-01-15 04:00:00                         6.15   \n",
       "\n",
       "   final.output.concentrate_pb  final.output.concentrate_sol  \\\n",
       "0                         9.89                          5.51   \n",
       "1                         9.97                          5.26   \n",
       "2                        10.21                          5.38   \n",
       "3                         9.98                          4.86   \n",
       "4                        10.14                          4.94   \n",
       "\n",
       "   final.output.concentrate_au  final.output.recovery  final.output.tail_ag  \\\n",
       "0                        42.19                  70.54                 10.41   \n",
       "1                        42.70                  69.27                 10.46   \n",
       "2                        42.66                  68.12                 10.51   \n",
       "3                        42.69                  68.35                 10.42   \n",
       "4                        42.77                  66.93                 10.36   \n",
       "\n",
       "   final.output.tail_pb  final.output.tail_sol  final.output.tail_au  ...  \\\n",
       "0                  0.90                  16.90                  2.14  ...   \n",
       "1                  0.93                  16.63                  2.22  ...   \n",
       "2                  0.95                  16.21                  2.26  ...   \n",
       "3                  0.88                  16.53                  2.15  ...   \n",
       "4                  0.79                  16.53                  2.06  ...   \n",
       "\n",
       "   secondary_cleaner.state.floatbank4_a_air  \\\n",
       "0                                     14.02   \n",
       "1                                     13.99   \n",
       "2                                     14.02   \n",
       "3                                     14.04   \n",
       "4                                     14.03   \n",
       "\n",
       "   secondary_cleaner.state.floatbank4_a_level  \\\n",
       "0                                     -502.49   \n",
       "1                                     -505.50   \n",
       "2                                     -502.52   \n",
       "3                                     -500.86   \n",
       "4                                     -499.84   \n",
       "\n",
       "   secondary_cleaner.state.floatbank4_b_air  \\\n",
       "0                                     12.10   \n",
       "1                                     11.95   \n",
       "2                                     11.91   \n",
       "3                                     12.00   \n",
       "4                                     11.95   \n",
       "\n",
       "   secondary_cleaner.state.floatbank4_b_level  \\\n",
       "0                                     -504.72   \n",
       "1                                     -501.33   \n",
       "2                                     -501.13   \n",
       "3                                     -501.19   \n",
       "4                                     -501.05   \n",
       "\n",
       "   secondary_cleaner.state.floatbank5_a_air  \\\n",
       "0                                      9.93   \n",
       "1                                     10.04   \n",
       "2                                     10.07   \n",
       "3                                      9.97   \n",
       "4                                      9.93   \n",
       "\n",
       "   secondary_cleaner.state.floatbank5_a_level  \\\n",
       "0                                     -498.31   \n",
       "1                                     -500.17   \n",
       "2                                     -500.13   \n",
       "3                                     -499.20   \n",
       "4                                     -501.69   \n",
       "\n",
       "   secondary_cleaner.state.floatbank5_b_air  \\\n",
       "0                                      8.08   \n",
       "1                                      7.98   \n",
       "2                                      8.01   \n",
       "3                                      7.98   \n",
       "4                                      7.89   \n",
       "\n",
       "   secondary_cleaner.state.floatbank5_b_level  \\\n",
       "0                                     -500.47   \n",
       "1                                     -500.58   \n",
       "2                                     -500.52   \n",
       "3                                     -500.26   \n",
       "4                                     -500.36   \n",
       "\n",
       "   secondary_cleaner.state.floatbank6_a_air  \\\n",
       "0                                     14.15   \n",
       "1                                     14.00   \n",
       "2                                     14.03   \n",
       "3                                     14.01   \n",
       "4                                     14.00   \n",
       "\n",
       "   secondary_cleaner.state.floatbank6_a_level  \n",
       "0                                     -605.84  \n",
       "1                                     -599.79  \n",
       "2                                     -601.43  \n",
       "3                                     -600.00  \n",
       "4                                     -601.50  \n",
       "\n",
       "[5 rows x 87 columns]"
      ]
     },
     "execution_count": 9,
     "metadata": {},
     "output_type": "execute_result"
    }
   ],
   "source": [
    "data_full.head() # выведем первые 5 строк"
   ]
  },
  {
   "cell_type": "code",
   "execution_count": 10,
   "metadata": {
    "scrolled": true
   },
   "outputs": [
    {
     "name": "stdout",
     "output_type": "stream",
     "text": [
      "<class 'pandas.core.frame.DataFrame'>\n",
      "RangeIndex: 19439 entries, 0 to 19438\n",
      "Data columns (total 87 columns):\n",
      " #   Column                                              Non-Null Count  Dtype  \n",
      "---  ------                                              --------------  -----  \n",
      " 0   date                                                19439 non-null  object \n",
      " 1   final.output.concentrate_ag                         19438 non-null  float64\n",
      " 2   final.output.concentrate_pb                         19438 non-null  float64\n",
      " 3   final.output.concentrate_sol                        19228 non-null  float64\n",
      " 4   final.output.concentrate_au                         19439 non-null  float64\n",
      " 5   final.output.recovery                               19439 non-null  float64\n",
      " 6   final.output.tail_ag                                19438 non-null  float64\n",
      " 7   final.output.tail_pb                                19338 non-null  float64\n",
      " 8   final.output.tail_sol                               19433 non-null  float64\n",
      " 9   final.output.tail_au                                19439 non-null  float64\n",
      " 10  primary_cleaner.input.sulfate                       19415 non-null  float64\n",
      " 11  primary_cleaner.input.depressant                    19402 non-null  float64\n",
      " 12  primary_cleaner.input.feed_size                     19439 non-null  float64\n",
      " 13  primary_cleaner.input.xanthate                      19335 non-null  float64\n",
      " 14  primary_cleaner.output.concentrate_ag               19439 non-null  float64\n",
      " 15  primary_cleaner.output.concentrate_pb               19323 non-null  float64\n",
      " 16  primary_cleaner.output.concentrate_sol              19069 non-null  float64\n",
      " 17  primary_cleaner.output.concentrate_au               19439 non-null  float64\n",
      " 18  primary_cleaner.output.tail_ag                      19435 non-null  float64\n",
      " 19  primary_cleaner.output.tail_pb                      19418 non-null  float64\n",
      " 20  primary_cleaner.output.tail_sol                     19377 non-null  float64\n",
      " 21  primary_cleaner.output.tail_au                      19439 non-null  float64\n",
      " 22  primary_cleaner.state.floatbank8_a_air              19435 non-null  float64\n",
      " 23  primary_cleaner.state.floatbank8_a_level            19438 non-null  float64\n",
      " 24  primary_cleaner.state.floatbank8_b_air              19435 non-null  float64\n",
      " 25  primary_cleaner.state.floatbank8_b_level            19438 non-null  float64\n",
      " 26  primary_cleaner.state.floatbank8_c_air              19437 non-null  float64\n",
      " 27  primary_cleaner.state.floatbank8_c_level            19438 non-null  float64\n",
      " 28  primary_cleaner.state.floatbank8_d_air              19436 non-null  float64\n",
      " 29  primary_cleaner.state.floatbank8_d_level            19438 non-null  float64\n",
      " 30  rougher.calculation.sulfate_to_au_concentrate       19437 non-null  float64\n",
      " 31  rougher.calculation.floatbank10_sulfate_to_au_feed  19437 non-null  float64\n",
      " 32  rougher.calculation.floatbank11_sulfate_to_au_feed  19437 non-null  float64\n",
      " 33  rougher.calculation.au_pb_ratio                     19439 non-null  float64\n",
      " 34  rougher.input.feed_ag                               19439 non-null  float64\n",
      " 35  rougher.input.feed_pb                               19339 non-null  float64\n",
      " 36  rougher.input.feed_rate                             19428 non-null  float64\n",
      " 37  rougher.input.feed_size                             19294 non-null  float64\n",
      " 38  rougher.input.feed_sol                              19340 non-null  float64\n",
      " 39  rougher.input.feed_au                               19439 non-null  float64\n",
      " 40  rougher.input.floatbank10_sulfate                   19405 non-null  float64\n",
      " 41  rougher.input.floatbank10_xanthate                  19431 non-null  float64\n",
      " 42  rougher.input.floatbank11_sulfate                   19395 non-null  float64\n",
      " 43  rougher.input.floatbank11_xanthate                  18986 non-null  float64\n",
      " 44  rougher.output.concentrate_ag                       19439 non-null  float64\n",
      " 45  rougher.output.concentrate_pb                       19439 non-null  float64\n",
      " 46  rougher.output.concentrate_sol                      19416 non-null  float64\n",
      " 47  rougher.output.concentrate_au                       19439 non-null  float64\n",
      " 48  rougher.output.recovery                             19439 non-null  float64\n",
      " 49  rougher.output.tail_ag                              19438 non-null  float64\n",
      " 50  rougher.output.tail_pb                              19439 non-null  float64\n",
      " 51  rougher.output.tail_sol                             19439 non-null  float64\n",
      " 52  rougher.output.tail_au                              19439 non-null  float64\n",
      " 53  rougher.state.floatbank10_a_air                     19438 non-null  float64\n",
      " 54  rougher.state.floatbank10_a_level                   19438 non-null  float64\n",
      " 55  rougher.state.floatbank10_b_air                     19438 non-null  float64\n",
      " 56  rougher.state.floatbank10_b_level                   19438 non-null  float64\n",
      " 57  rougher.state.floatbank10_c_air                     19438 non-null  float64\n",
      " 58  rougher.state.floatbank10_c_level                   19438 non-null  float64\n",
      " 59  rougher.state.floatbank10_d_air                     19439 non-null  float64\n",
      " 60  rougher.state.floatbank10_d_level                   19439 non-null  float64\n",
      " 61  rougher.state.floatbank10_e_air                     19003 non-null  float64\n",
      " 62  rougher.state.floatbank10_e_level                   19439 non-null  float64\n",
      " 63  rougher.state.floatbank10_f_air                     19439 non-null  float64\n",
      " 64  rougher.state.floatbank10_f_level                   19439 non-null  float64\n",
      " 65  secondary_cleaner.output.tail_ag                    19437 non-null  float64\n",
      " 66  secondary_cleaner.output.tail_pb                    19427 non-null  float64\n",
      " 67  secondary_cleaner.output.tail_sol                   17691 non-null  float64\n",
      " 68  secondary_cleaner.output.tail_au                    19439 non-null  float64\n",
      " 69  secondary_cleaner.state.floatbank2_a_air            19219 non-null  float64\n",
      " 70  secondary_cleaner.state.floatbank2_a_level          19438 non-null  float64\n",
      " 71  secondary_cleaner.state.floatbank2_b_air            19416 non-null  float64\n",
      " 72  secondary_cleaner.state.floatbank2_b_level          19438 non-null  float64\n",
      " 73  secondary_cleaner.state.floatbank3_a_air            19426 non-null  float64\n",
      " 74  secondary_cleaner.state.floatbank3_a_level          19438 non-null  float64\n",
      " 75  secondary_cleaner.state.floatbank3_b_air            19438 non-null  float64\n",
      " 76  secondary_cleaner.state.floatbank3_b_level          19438 non-null  float64\n",
      " 77  secondary_cleaner.state.floatbank4_a_air            19433 non-null  float64\n",
      " 78  secondary_cleaner.state.floatbank4_a_level          19438 non-null  float64\n",
      " 79  secondary_cleaner.state.floatbank4_b_air            19438 non-null  float64\n",
      " 80  secondary_cleaner.state.floatbank4_b_level          19438 non-null  float64\n",
      " 81  secondary_cleaner.state.floatbank5_a_air            19438 non-null  float64\n",
      " 82  secondary_cleaner.state.floatbank5_a_level          19438 non-null  float64\n",
      " 83  secondary_cleaner.state.floatbank5_b_air            19438 non-null  float64\n",
      " 84  secondary_cleaner.state.floatbank5_b_level          19438 non-null  float64\n",
      " 85  secondary_cleaner.state.floatbank6_a_air            19437 non-null  float64\n",
      " 86  secondary_cleaner.state.floatbank6_a_level          19438 non-null  float64\n",
      "dtypes: float64(86), object(1)\n",
      "memory usage: 12.9+ MB\n"
     ]
    }
   ],
   "source": [
    "data_full.info() # выводим информацию о датасете"
   ]
  },
  {
   "cell_type": "code",
   "execution_count": 11,
   "metadata": {
    "scrolled": true
   },
   "outputs": [
    {
     "data": {
      "text/plain": [
       "0"
      ]
     },
     "execution_count": 11,
     "metadata": {},
     "output_type": "execute_result"
    }
   ],
   "source": [
    "data_full.duplicated().sum() # проверка на дубликаты"
   ]
  },
  {
   "cell_type": "markdown",
   "metadata": {},
   "source": [
    "Сразу можем заметить что в данных есть пропуски. Проверка на дубликаты показала, что дубликатов нет. Тип данных у первого столбца время имеет неправильный тип данных. По форме заметно, что тестовая выборка отличается количеством столбцов от обучающей и полной. В тестовой недостаёт данных о расчетах, промежуточных и финальных результатов. Можно дополнить тестовую таблицу из полных данных, но целевые признаки доббавлять не будем."
   ]
  },
  {
   "cell_type": "markdown",
   "metadata": {},
   "source": [
    "### Проверка эффективности обогащения"
   ]
  },
  {
   "cell_type": "markdown",
   "metadata": {},
   "source": [
    "Оценим с помощью MAE насколько правильно рассчитан показатель recovery. Посчитаем recovery самостоятельно, после этого рассчитаем MAE."
   ]
  },
  {
   "cell_type": "code",
   "execution_count": 12,
   "metadata": {},
   "outputs": [],
   "source": [
    "recovery = pd.DataFrame() # рассчет recovery\n",
    "recovery = (data_train['rougher.output.concentrate_au'] * (data_train['rougher.input.feed_au'] - data_train['rougher.output.tail_au'])) / (data_train['rougher.input.feed_au'] * (data_train['rougher.output.concentrate_au'] - data_train['rougher.output.tail_au'])) * 100"
   ]
  },
  {
   "cell_type": "code",
   "execution_count": 13,
   "metadata": {
    "scrolled": true
   },
   "outputs": [
    {
     "data": {
      "text/plain": [
       "(14149,)"
      ]
     },
     "execution_count": 13,
     "metadata": {},
     "output_type": "execute_result"
    }
   ],
   "source": [
    "recovery.shape # промеряем"
   ]
  },
  {
   "cell_type": "code",
   "execution_count": 14,
   "metadata": {
    "scrolled": false
   },
   "outputs": [
    {
     "data": {
      "text/plain": [
       "(14149,)"
      ]
     },
     "execution_count": 14,
     "metadata": {},
     "output_type": "execute_result"
    }
   ],
   "source": [
    "data_train['rougher.output.recovery'].shape # проверяем"
   ]
  },
  {
   "cell_type": "code",
   "execution_count": 15,
   "metadata": {
    "scrolled": true
   },
   "outputs": [
    {
     "data": {
      "text/plain": [
       "9.73512347450521e-15"
      ]
     },
     "execution_count": 15,
     "metadata": {},
     "output_type": "execute_result"
    }
   ],
   "source": [
    "mean_absolute_error(recovery, data_train['rougher.output.recovery']) # рассчитываем MAE"
   ]
  },
  {
   "cell_type": "code",
   "execution_count": 16,
   "metadata": {},
   "outputs": [
    {
     "data": {
      "text/plain": [
       "9.73512347450521e-15"
      ]
     },
     "execution_count": 16,
     "metadata": {},
     "output_type": "execute_result"
    }
   ],
   "source": [
    "mean_absolute_error(recovery, data_train['rougher.output.recovery'])"
   ]
  },
  {
   "cell_type": "markdown",
   "metadata": {},
   "source": [
    "MAE показывает незначительный процент ошибки, поэтому делаем вывод, что эффективность обогащения рассчитана верно."
   ]
  },
  {
   "cell_type": "markdown",
   "metadata": {},
   "source": [
    "### Предобработка данных"
   ]
  },
  {
   "cell_type": "markdown",
   "metadata": {},
   "source": [
    "Заменим пропуски в целой таблице методом ffill и сразу поменяем тип данных."
   ]
  },
  {
   "cell_type": "code",
   "execution_count": 17,
   "metadata": {},
   "outputs": [],
   "source": [
    "data_full = data_full.ffill() # замена пропусков"
   ]
  },
  {
   "cell_type": "code",
   "execution_count": 18,
   "metadata": {},
   "outputs": [],
   "source": [
    "data_full['date'] = pd.to_datetime(data_full['date'], format = '%Y-%m-%d %H:%M:%S') # замена типа данных\n",
    "data_train['date'] = pd.to_datetime(data_train['date'], format = '%Y-%m-%d %H:%M:%S')\n",
    "data_test['date'] = pd.to_datetime(data_test['date'], format = '%Y-%m-%d %H:%M:%S')"
   ]
  },
  {
   "cell_type": "code",
   "execution_count": 19,
   "metadata": {
    "scrolled": true
   },
   "outputs": [
    {
     "name": "stdout",
     "output_type": "stream",
     "text": [
      "<class 'pandas.core.frame.DataFrame'>\n",
      "RangeIndex: 19439 entries, 0 to 19438\n",
      "Data columns (total 87 columns):\n",
      " #   Column                                              Non-Null Count  Dtype         \n",
      "---  ------                                              --------------  -----         \n",
      " 0   date                                                19439 non-null  datetime64[ns]\n",
      " 1   final.output.concentrate_ag                         19439 non-null  float64       \n",
      " 2   final.output.concentrate_pb                         19439 non-null  float64       \n",
      " 3   final.output.concentrate_sol                        19439 non-null  float64       \n",
      " 4   final.output.concentrate_au                         19439 non-null  float64       \n",
      " 5   final.output.recovery                               19439 non-null  float64       \n",
      " 6   final.output.tail_ag                                19439 non-null  float64       \n",
      " 7   final.output.tail_pb                                19439 non-null  float64       \n",
      " 8   final.output.tail_sol                               19439 non-null  float64       \n",
      " 9   final.output.tail_au                                19439 non-null  float64       \n",
      " 10  primary_cleaner.input.sulfate                       19439 non-null  float64       \n",
      " 11  primary_cleaner.input.depressant                    19439 non-null  float64       \n",
      " 12  primary_cleaner.input.feed_size                     19439 non-null  float64       \n",
      " 13  primary_cleaner.input.xanthate                      19439 non-null  float64       \n",
      " 14  primary_cleaner.output.concentrate_ag               19439 non-null  float64       \n",
      " 15  primary_cleaner.output.concentrate_pb               19439 non-null  float64       \n",
      " 16  primary_cleaner.output.concentrate_sol              19439 non-null  float64       \n",
      " 17  primary_cleaner.output.concentrate_au               19439 non-null  float64       \n",
      " 18  primary_cleaner.output.tail_ag                      19439 non-null  float64       \n",
      " 19  primary_cleaner.output.tail_pb                      19439 non-null  float64       \n",
      " 20  primary_cleaner.output.tail_sol                     19439 non-null  float64       \n",
      " 21  primary_cleaner.output.tail_au                      19439 non-null  float64       \n",
      " 22  primary_cleaner.state.floatbank8_a_air              19439 non-null  float64       \n",
      " 23  primary_cleaner.state.floatbank8_a_level            19439 non-null  float64       \n",
      " 24  primary_cleaner.state.floatbank8_b_air              19439 non-null  float64       \n",
      " 25  primary_cleaner.state.floatbank8_b_level            19439 non-null  float64       \n",
      " 26  primary_cleaner.state.floatbank8_c_air              19439 non-null  float64       \n",
      " 27  primary_cleaner.state.floatbank8_c_level            19439 non-null  float64       \n",
      " 28  primary_cleaner.state.floatbank8_d_air              19439 non-null  float64       \n",
      " 29  primary_cleaner.state.floatbank8_d_level            19439 non-null  float64       \n",
      " 30  rougher.calculation.sulfate_to_au_concentrate       19439 non-null  float64       \n",
      " 31  rougher.calculation.floatbank10_sulfate_to_au_feed  19439 non-null  float64       \n",
      " 32  rougher.calculation.floatbank11_sulfate_to_au_feed  19439 non-null  float64       \n",
      " 33  rougher.calculation.au_pb_ratio                     19439 non-null  float64       \n",
      " 34  rougher.input.feed_ag                               19439 non-null  float64       \n",
      " 35  rougher.input.feed_pb                               19439 non-null  float64       \n",
      " 36  rougher.input.feed_rate                             19439 non-null  float64       \n",
      " 37  rougher.input.feed_size                             19439 non-null  float64       \n",
      " 38  rougher.input.feed_sol                              19439 non-null  float64       \n",
      " 39  rougher.input.feed_au                               19439 non-null  float64       \n",
      " 40  rougher.input.floatbank10_sulfate                   19439 non-null  float64       \n",
      " 41  rougher.input.floatbank10_xanthate                  19439 non-null  float64       \n",
      " 42  rougher.input.floatbank11_sulfate                   19439 non-null  float64       \n",
      " 43  rougher.input.floatbank11_xanthate                  19439 non-null  float64       \n",
      " 44  rougher.output.concentrate_ag                       19439 non-null  float64       \n",
      " 45  rougher.output.concentrate_pb                       19439 non-null  float64       \n",
      " 46  rougher.output.concentrate_sol                      19439 non-null  float64       \n",
      " 47  rougher.output.concentrate_au                       19439 non-null  float64       \n",
      " 48  rougher.output.recovery                             19439 non-null  float64       \n",
      " 49  rougher.output.tail_ag                              19439 non-null  float64       \n",
      " 50  rougher.output.tail_pb                              19439 non-null  float64       \n",
      " 51  rougher.output.tail_sol                             19439 non-null  float64       \n",
      " 52  rougher.output.tail_au                              19439 non-null  float64       \n",
      " 53  rougher.state.floatbank10_a_air                     19439 non-null  float64       \n",
      " 54  rougher.state.floatbank10_a_level                   19439 non-null  float64       \n",
      " 55  rougher.state.floatbank10_b_air                     19439 non-null  float64       \n",
      " 56  rougher.state.floatbank10_b_level                   19439 non-null  float64       \n",
      " 57  rougher.state.floatbank10_c_air                     19439 non-null  float64       \n",
      " 58  rougher.state.floatbank10_c_level                   19439 non-null  float64       \n",
      " 59  rougher.state.floatbank10_d_air                     19439 non-null  float64       \n",
      " 60  rougher.state.floatbank10_d_level                   19439 non-null  float64       \n",
      " 61  rougher.state.floatbank10_e_air                     19439 non-null  float64       \n",
      " 62  rougher.state.floatbank10_e_level                   19439 non-null  float64       \n",
      " 63  rougher.state.floatbank10_f_air                     19439 non-null  float64       \n",
      " 64  rougher.state.floatbank10_f_level                   19439 non-null  float64       \n",
      " 65  secondary_cleaner.output.tail_ag                    19439 non-null  float64       \n",
      " 66  secondary_cleaner.output.tail_pb                    19439 non-null  float64       \n",
      " 67  secondary_cleaner.output.tail_sol                   19439 non-null  float64       \n",
      " 68  secondary_cleaner.output.tail_au                    19439 non-null  float64       \n",
      " 69  secondary_cleaner.state.floatbank2_a_air            19439 non-null  float64       \n",
      " 70  secondary_cleaner.state.floatbank2_a_level          19439 non-null  float64       \n",
      " 71  secondary_cleaner.state.floatbank2_b_air            19439 non-null  float64       \n",
      " 72  secondary_cleaner.state.floatbank2_b_level          19439 non-null  float64       \n",
      " 73  secondary_cleaner.state.floatbank3_a_air            19439 non-null  float64       \n",
      " 74  secondary_cleaner.state.floatbank3_a_level          19439 non-null  float64       \n",
      " 75  secondary_cleaner.state.floatbank3_b_air            19439 non-null  float64       \n",
      " 76  secondary_cleaner.state.floatbank3_b_level          19439 non-null  float64       \n",
      " 77  secondary_cleaner.state.floatbank4_a_air            19439 non-null  float64       \n",
      " 78  secondary_cleaner.state.floatbank4_a_level          19439 non-null  float64       \n",
      " 79  secondary_cleaner.state.floatbank4_b_air            19439 non-null  float64       \n",
      " 80  secondary_cleaner.state.floatbank4_b_level          19439 non-null  float64       \n",
      " 81  secondary_cleaner.state.floatbank5_a_air            19439 non-null  float64       \n",
      " 82  secondary_cleaner.state.floatbank5_a_level          19439 non-null  float64       \n",
      " 83  secondary_cleaner.state.floatbank5_b_air            19439 non-null  float64       \n",
      " 84  secondary_cleaner.state.floatbank5_b_level          19439 non-null  float64       \n",
      " 85  secondary_cleaner.state.floatbank6_a_air            19439 non-null  float64       \n",
      " 86  secondary_cleaner.state.floatbank6_a_level          19439 non-null  float64       \n",
      "dtypes: datetime64[ns](1), float64(86)\n",
      "memory usage: 12.9 MB\n"
     ]
    }
   ],
   "source": [
    "data_full.info() # проверка "
   ]
  },
  {
   "cell_type": "markdown",
   "metadata": {},
   "source": [
    "Далее добавим недостающие данные в таблицы тренировочной и тестовой выборки. Для этого позьмем все недостающие строки из полной таблицы. "
   ]
  },
  {
   "cell_type": "code",
   "execution_count": 20,
   "metadata": {},
   "outputs": [],
   "source": [
    "data_train = data_train.set_index('date')\n",
    "data_full = data_full.set_index('date')\n",
    "data_test = data_test.set_index('date')"
   ]
  },
  {
   "cell_type": "code",
   "execution_count": 21,
   "metadata": {},
   "outputs": [
    {
     "data": {
      "text/plain": [
       "(14149, 86)"
      ]
     },
     "execution_count": 21,
     "metadata": {},
     "output_type": "execute_result"
    }
   ],
   "source": [
    "data_train = data_full.loc[data_train.index]\n",
    "data_train.shape # проверяем все ли строки и столбцы попали в тренировочную выбокру"
   ]
  },
  {
   "cell_type": "code",
   "execution_count": 22,
   "metadata": {
    "scrolled": true
   },
   "outputs": [
    {
     "name": "stdout",
     "output_type": "stream",
     "text": [
      "<class 'pandas.core.frame.DataFrame'>\n",
      "DatetimeIndex: 5290 entries, 2016-09-01 00:59:59 to 2017-12-31 23:59:59\n",
      "Data columns (total 52 columns):\n",
      " #   Column                                      Non-Null Count  Dtype  \n",
      "---  ------                                      --------------  -----  \n",
      " 0   primary_cleaner.input.sulfate               5290 non-null   float64\n",
      " 1   primary_cleaner.input.depressant            5290 non-null   float64\n",
      " 2   primary_cleaner.input.feed_size             5290 non-null   float64\n",
      " 3   primary_cleaner.input.xanthate              5290 non-null   float64\n",
      " 4   primary_cleaner.state.floatbank8_a_air      5290 non-null   float64\n",
      " 5   primary_cleaner.state.floatbank8_a_level    5290 non-null   float64\n",
      " 6   primary_cleaner.state.floatbank8_b_air      5290 non-null   float64\n",
      " 7   primary_cleaner.state.floatbank8_b_level    5290 non-null   float64\n",
      " 8   primary_cleaner.state.floatbank8_c_air      5290 non-null   float64\n",
      " 9   primary_cleaner.state.floatbank8_c_level    5290 non-null   float64\n",
      " 10  primary_cleaner.state.floatbank8_d_air      5290 non-null   float64\n",
      " 11  primary_cleaner.state.floatbank8_d_level    5290 non-null   float64\n",
      " 12  rougher.input.feed_ag                       5290 non-null   float64\n",
      " 13  rougher.input.feed_pb                       5290 non-null   float64\n",
      " 14  rougher.input.feed_rate                     5290 non-null   float64\n",
      " 15  rougher.input.feed_size                     5290 non-null   float64\n",
      " 16  rougher.input.feed_sol                      5290 non-null   float64\n",
      " 17  rougher.input.feed_au                       5290 non-null   float64\n",
      " 18  rougher.input.floatbank10_sulfate           5290 non-null   float64\n",
      " 19  rougher.input.floatbank10_xanthate          5290 non-null   float64\n",
      " 20  rougher.input.floatbank11_sulfate           5290 non-null   float64\n",
      " 21  rougher.input.floatbank11_xanthate          5290 non-null   float64\n",
      " 22  rougher.state.floatbank10_a_air             5290 non-null   float64\n",
      " 23  rougher.state.floatbank10_a_level           5290 non-null   float64\n",
      " 24  rougher.state.floatbank10_b_air             5290 non-null   float64\n",
      " 25  rougher.state.floatbank10_b_level           5290 non-null   float64\n",
      " 26  rougher.state.floatbank10_c_air             5290 non-null   float64\n",
      " 27  rougher.state.floatbank10_c_level           5290 non-null   float64\n",
      " 28  rougher.state.floatbank10_d_air             5290 non-null   float64\n",
      " 29  rougher.state.floatbank10_d_level           5290 non-null   float64\n",
      " 30  rougher.state.floatbank10_e_air             5290 non-null   float64\n",
      " 31  rougher.state.floatbank10_e_level           5290 non-null   float64\n",
      " 32  rougher.state.floatbank10_f_air             5290 non-null   float64\n",
      " 33  rougher.state.floatbank10_f_level           5290 non-null   float64\n",
      " 34  secondary_cleaner.state.floatbank2_a_air    5290 non-null   float64\n",
      " 35  secondary_cleaner.state.floatbank2_a_level  5290 non-null   float64\n",
      " 36  secondary_cleaner.state.floatbank2_b_air    5290 non-null   float64\n",
      " 37  secondary_cleaner.state.floatbank2_b_level  5290 non-null   float64\n",
      " 38  secondary_cleaner.state.floatbank3_a_air    5290 non-null   float64\n",
      " 39  secondary_cleaner.state.floatbank3_a_level  5290 non-null   float64\n",
      " 40  secondary_cleaner.state.floatbank3_b_air    5290 non-null   float64\n",
      " 41  secondary_cleaner.state.floatbank3_b_level  5290 non-null   float64\n",
      " 42  secondary_cleaner.state.floatbank4_a_air    5290 non-null   float64\n",
      " 43  secondary_cleaner.state.floatbank4_a_level  5290 non-null   float64\n",
      " 44  secondary_cleaner.state.floatbank4_b_air    5290 non-null   float64\n",
      " 45  secondary_cleaner.state.floatbank4_b_level  5290 non-null   float64\n",
      " 46  secondary_cleaner.state.floatbank5_a_air    5290 non-null   float64\n",
      " 47  secondary_cleaner.state.floatbank5_a_level  5290 non-null   float64\n",
      " 48  secondary_cleaner.state.floatbank5_b_air    5290 non-null   float64\n",
      " 49  secondary_cleaner.state.floatbank5_b_level  5290 non-null   float64\n",
      " 50  secondary_cleaner.state.floatbank6_a_air    5290 non-null   float64\n",
      " 51  secondary_cleaner.state.floatbank6_a_level  5290 non-null   float64\n",
      "dtypes: float64(52)\n",
      "memory usage: 2.1 MB\n"
     ]
    }
   ],
   "source": [
    "#data_test = data_full.loc[data_test.index] забыл закоментировать код, где добавлял недостающие столбцы, должно всё работать\n",
    "data_test = data_test.ffill()\n",
    "data_test.info()"
   ]
  },
  {
   "cell_type": "markdown",
   "metadata": {},
   "source": [
    "Заполнив все пропуски и дополнив тестовую выборку недостающими столбцами можем провести анализ данных."
   ]
  },
  {
   "cell_type": "markdown",
   "metadata": {},
   "source": [
    "## Анализ данных"
   ]
  },
  {
   "cell_type": "markdown",
   "metadata": {},
   "source": [
    "###  Концентрация металлов (Au, Ag, Pb)"
   ]
  },
  {
   "cell_type": "markdown",
   "metadata": {},
   "source": [
    "Проверим, как меняется концентрация металлов на различных этапах очистки. Нарисуем гистрограммы для каждого металла и опишем."
   ]
  },
  {
   "cell_type": "code",
   "execution_count": 23,
   "metadata": {},
   "outputs": [],
   "source": [
    "# функция для графика\n",
    "def multiple_hist(data):\n",
    "    fig, ax = plt.subplots()\n",
    "    fig = plt.gcf()\n",
    "    fig.set_size_inches(15,3)\n",
    "    for i in data:\n",
    "        plt.hist(data_full[i], label=i,alpha=0.7)\n",
    "    plt.legend(loc =\"upper right\")\n",
    "    plt.show() "
   ]
  },
  {
   "cell_type": "code",
   "execution_count": 24,
   "metadata": {},
   "outputs": [],
   "source": [
    "ag_concentrate = ['final.output.concentrate_ag', \n",
    "                  'primary_cleaner.output.concentrate_ag', \n",
    "                  'rougher.output.concentrate_ag', \n",
    "                  'rougher.input.feed_ag']\n",
    "au_concentrate = ['final.output.concentrate_au', \n",
    "                  'primary_cleaner.output.concentrate_au', \n",
    "                  'rougher.output.concentrate_au', \n",
    "                  'rougher.input.feed_au']\n",
    "pb_concentrate = ['final.output.concentrate_pb', \n",
    "                  'primary_cleaner.output.concentrate_pb', \n",
    "                  'rougher.output.concentrate_pb', \n",
    "                  'rougher.input.feed_pb']"
   ]
  },
  {
   "cell_type": "code",
   "execution_count": 25,
   "metadata": {
    "scrolled": true
   },
   "outputs": [
    {
     "data": {
      "image/png": "[encoded data removed]",
      "text/plain": [
       "<Figure size 1080x216 with 1 Axes>"
      ]
     },
     "metadata": {
      "needs_background": "light"
     },
     "output_type": "display_data"
    }
   ],
   "source": [
    "multiple_hist(ag_concentrate) # концентрация Ag"
   ]
  },
  {
   "cell_type": "markdown",
   "metadata": {},
   "source": [
    "Видим что концентрация Ag снижается. После флотации концентрация практически не меняется, но после первого этапа очистки она значительно возрастает. После второго этапа в финальном результате Ag сильно уменьшилось даже по сравнению с периодом до флотации."
   ]
  },
  {
   "cell_type": "code",
   "execution_count": 26,
   "metadata": {
    "scrolled": true
   },
   "outputs": [
    {
     "data": {
      "image/png": "[encoded data removed]",
      "text/plain": [
       "<Figure size 1080x216 with 1 Axes>"
      ]
     },
     "metadata": {
      "needs_background": "light"
     },
     "output_type": "display_data"
    }
   ],
   "source": [
    "multiple_hist(au_concentrate) # концентрация Au"
   ]
  },
  {
   "cell_type": "markdown",
   "metadata": {},
   "source": [
    "Так как процесс настроен на добычу золота, то по графику видно, что концентрация Au увеличивается после каждого этапа примерно по 10%. Первоначально в сырье до флотации концентрация самая маленькая, а после финального этапа концентрация увеличилась почти в 4 раза."
   ]
  },
  {
   "cell_type": "code",
   "execution_count": 27,
   "metadata": {
    "scrolled": true
   },
   "outputs": [
    {
     "data": {
      "image/png": "[encoded data removed]",
      "text/plain": [
       "<Figure size 1080x216 with 1 Axes>"
      ]
     },
     "metadata": {
      "needs_background": "light"
     },
     "output_type": "display_data"
    }
   ],
   "source": [
    "multiple_hist(pb_concentrate) # концентрация Pb"
   ]
  },
  {
   "cell_type": "markdown",
   "metadata": {},
   "source": [
    "После флотации Pb увеличивается примерно в 3 раза, после первой и второй очистки концентрация уже не так сильно возрастает. Между первой и последней очисткой между концентрацией разница очень маленькая."
   ]
  },
  {
   "cell_type": "markdown",
   "metadata": {},
   "source": [
    "### Распределения размеров гранул сырья"
   ]
  },
  {
   "cell_type": "markdown",
   "metadata": {},
   "source": [
    "Нарисуем гистрограмму распределения размеров гранул сырья."
   ]
  },
  {
   "cell_type": "code",
   "execution_count": 28,
   "metadata": {},
   "outputs": [
    {
     "data": {
      "image/png": "[encoded data removed]",
      "text/plain": [
       "<Figure size 1080x216 with 1 Axes>"
      ]
     },
     "metadata": {
      "needs_background": "light"
     },
     "output_type": "display_data"
    }
   ],
   "source": [
    "fig, ax = plt.subplots()\n",
    "fig = plt.gcf()\n",
    "fig.set_size_inches(15,3)\n",
    "plt.xlim(right=200)\n",
    "plt.hist(data_train['rougher.input.feed_size'], label = 'size_train', alpha=0.7, bins=50, density=True)\n",
    "plt.hist(data_test['rougher.input.feed_size'], label = 'size_test', alpha=0.7, bins=50, density=True)\n",
    "plt.legend(loc =\"upper right\")\n",
    "plt.show() "
   ]
  },
  {
   "cell_type": "code",
   "execution_count": 29,
   "metadata": {},
   "outputs": [
    {
     "data": {
      "text/plain": [
       "60.23985599255732"
      ]
     },
     "execution_count": 29,
     "metadata": {},
     "output_type": "execute_result"
    }
   ],
   "source": [
    "data_train['rougher.input.feed_size'].mean() # среднее тренировочной выборки"
   ]
  },
  {
   "cell_type": "code",
   "execution_count": 30,
   "metadata": {},
   "outputs": [
    {
     "data": {
      "text/plain": [
       "55.952754028895136"
      ]
     },
     "execution_count": 30,
     "metadata": {},
     "output_type": "execute_result"
    }
   ],
   "source": [
    "data_test['rougher.input.feed_size'].mean() # среднее тестовой выборки"
   ]
  },
  {
   "cell_type": "markdown",
   "metadata": {},
   "source": [
    "Так как у нас присутствует разница в выборках, у распределения тоже имеются некоторые сдвиги. В тренировочной выборке среднее немного больше, чем у тестовой, но не сильно, при этом распределение близко повторяются."
   ]
  },
  {
   "cell_type": "markdown",
   "metadata": {},
   "source": [
    "### Исследуйем суммарную концентрацию веществ"
   ]
  },
  {
   "cell_type": "markdown",
   "metadata": {},
   "source": [
    "Просуммируем концентрацию всех веществ на 4х этапах и постром гистограмму."
   ]
  },
  {
   "cell_type": "code",
   "execution_count": 31,
   "metadata": {},
   "outputs": [],
   "source": [
    "# перед флотацией\n",
    "rougher_input = ['rougher.input.feed_au',\n",
    "                 'rougher.input.feed_ag',\n",
    "                 'rougher.input.feed_pb',\n",
    "                 'rougher.input.feed_sol']\n",
    "df_rougher_input = data_full[rougher_input].sum(1)"
   ]
  },
  {
   "cell_type": "code",
   "execution_count": 32,
   "metadata": {},
   "outputs": [],
   "source": [
    "# после флотации\n",
    "rougher_output = ['rougher.output.concentrate_au',\n",
    "                 'rougher.output.concentrate_ag',\n",
    "                 'rougher.output.concentrate_pb',\n",
    "                 'rougher.output.concentrate_sol']\n",
    "df_rougher_output = data_full[rougher_output].sum(1)"
   ]
  },
  {
   "cell_type": "code",
   "execution_count": 33,
   "metadata": {},
   "outputs": [],
   "source": [
    "# после первой очистки\n",
    "primary_output = ['primary_cleaner.output.concentrate_sol', \n",
    "                    'primary_cleaner.output.concentrate_ag', \n",
    "                    'primary_cleaner.output.concentrate_pb', \n",
    "                    'primary_cleaner.output.concentrate_au']\n",
    "df_primary_output = data_full[primary_output].sum(1)"
   ]
  },
  {
   "cell_type": "code",
   "execution_count": 34,
   "metadata": {},
   "outputs": [],
   "source": [
    "# финальный результат\n",
    "final_concentrate = ['final.output.concentrate_sol', \n",
    "                    'final.output.concentrate_ag', \n",
    "                    'final.output.concentrate_pb', \n",
    "                    'final.output.concentrate_au']\n",
    "df_final_concentrate = data_full[final_concentrate].sum(1)"
   ]
  },
  {
   "cell_type": "code",
   "execution_count": 35,
   "metadata": {},
   "outputs": [
    {
     "data": {
      "image/png": "[encoded data removed]",
      "text/plain": [
       "<Figure size 1080x216 with 1 Axes>"
      ]
     },
     "metadata": {
      "needs_background": "light"
     },
     "output_type": "display_data"
    }
   ],
   "source": [
    "# строим гистограмму\n",
    "fig, ax = plt.subplots()\n",
    "fig = plt.gcf()\n",
    "fig.set_size_inches(15,3)\n",
    "plt.xlim(right=200)\n",
    "plt.hist(df_rougher_input, label = 'rougher_input', alpha=0.5, bins=50)\n",
    "plt.hist(df_rougher_output, label = 'rougher_output', alpha=0.5, bins=50)\n",
    "plt.hist(df_primary_output, label = 'primary_output', alpha=0.5, bins=50)\n",
    "plt.hist(df_final_concentrate, label = 'final_concentrate', alpha=0.5, bins=50)\n",
    "plt.xlim(right=90)\n",
    "plt.legend(loc =\"upper right\")\n",
    "plt.show() "
   ]
  },
  {
   "cell_type": "markdown",
   "metadata": {},
   "source": [
    "По графику видим, что концентрация веществ растет после каждого этапа обработки, кроме первой очистки. Перед флотацией наблюдается самая низкая концентрация веществ, когда как на финальной стадии концентрация самая высокая. Так же а данных мы можен наблюдать аномалии, где концентрация близка нулю. Их необходимо удалить, чтобы модель работала как положено."
   ]
  },
  {
   "cell_type": "code",
   "execution_count": 36,
   "metadata": {},
   "outputs": [
    {
     "data": {
      "text/plain": [
       "(13599, 86)"
      ]
     },
     "execution_count": 36,
     "metadata": {},
     "output_type": "execute_result"
    }
   ],
   "source": [
    "data_train = data_train[data_train[rougher_input].sum(1) > 1]\n",
    "data_train = data_train[data_train[rougher_output].sum(1) > 1]\n",
    "data_train = data_train[data_train[primary_output].sum(1) > 1]\n",
    "data_train = data_train[data_train[final_concentrate].sum(1) > 1]\n",
    "data_train.shape"
   ]
  },
  {
   "cell_type": "code",
   "execution_count": 37,
   "metadata": {
    "scrolled": true
   },
   "outputs": [
    {
     "data": {
      "text/plain": [
       "(5290, 52)"
      ]
     },
     "execution_count": 37,
     "metadata": {},
     "output_type": "execute_result"
    }
   ],
   "source": [
    "data_test = data_test[data_test[rougher_input].sum(1) > 1]\n",
    "data_test.shape"
   ]
  },
  {
   "cell_type": "markdown",
   "metadata": {},
   "source": [
    "После удаления аномалий можем переходить к построению модели."
   ]
  },
  {
   "cell_type": "markdown",
   "metadata": {},
   "source": [
    "## Модель"
   ]
  },
  {
   "cell_type": "markdown",
   "metadata": {},
   "source": [
    "Постройте модель\\\n",
    "3.1. Напишите функцию для вычисления итоговой sMAPE.\\\n",
    "3.2. Обучите разные модели и оцените их качество кросс-валидацией. Выберите лучшую модель и проверьте её на тестовой выборке.\\\n",
    "Опишите выводы.\\\n",
    "Вам пригодятся формулы метрик качества"
   ]
  },
  {
   "cell_type": "markdown",
   "metadata": {},
   "source": [
    "Напишем функцию для вычисления итоговой sMAPE."
   ]
  },
  {
   "cell_type": "code",
   "execution_count": 38,
   "metadata": {},
   "outputs": [],
   "source": [
    "# функция для sMAPE\n",
    "def smape(true, predict):\n",
    "    true=np.array(true)\n",
    "    predict=np.array(predict)\n",
    "    total = 0\n",
    "    for i in range(len(true)):\n",
    "        total += abs(true[i] - predict[i]) / ((abs(true[i]) + abs(predict[i]))/2)\n",
    "    return total*100 / len(true)\n",
    "\n",
    "\n",
    "def total_smape(rougher_smape, final_smape):\n",
    "    return 0.25 * rougher_smape + 0.75 * final_smape\n",
    "\n",
    "\n",
    "smape_scorer = make_scorer(smape, greater_is_better=False)"
   ]
  },
  {
   "cell_type": "markdown",
   "metadata": {},
   "source": [
    "Обучим разные модели и оценим их качество кросс-валидацией. Разделим выборки на две части: валидационную и тренировочную. Сделаем разные целевые признаки и признаки для предсказания recovery последней стадии и после флотации."
   ]
  },
  {
   "cell_type": "code",
   "execution_count": 39,
   "metadata": {},
   "outputs": [
    {
     "data": {
      "text/plain": [
       "(13599, 54)"
      ]
     },
     "execution_count": 39,
     "metadata": {},
     "output_type": "execute_result"
    }
   ],
   "source": [
    "split_data_train = data_full.loc[data_train.index, data_test.columns]\n",
    "split_data_train['final.output.recovery'] = data_train['final.output.recovery']\n",
    "split_data_train['rougher.output.recovery'] = data_train['rougher.output.recovery']\n",
    "split_data_train.shape"
   ]
  },
  {
   "cell_type": "code",
   "execution_count": 40,
   "metadata": {},
   "outputs": [],
   "source": [
    "# делим выборку для обучения и валидации для rougher\n",
    "data_valid_rougher, data_train_rougher = train_test_split(split_data_train, test_size=0.75, random_state=12345)\n",
    "features_train_rougher = data_train_rougher.drop(['final.output.recovery', 'rougher.output.recovery'], axis=1)\n",
    "target_train_rougher = data_train_rougher['rougher.output.recovery']\n",
    "features_valid_rougher = data_valid_rougher.drop(['final.output.recovery', 'rougher.output.recovery'], axis=1)\n",
    "target_valid_rougher = data_valid_rougher['rougher.output.recovery']"
   ]
  },
  {
   "cell_type": "code",
   "execution_count": 41,
   "metadata": {},
   "outputs": [],
   "source": [
    "# деленение выборки для обучения и валидации для final\n",
    "features_train_final = data_train_rougher.drop(['final.output.recovery', 'rougher.output.recovery'], axis=1)\n",
    "target_train_final = data_train_rougher['final.output.recovery']\n",
    "features_valid_final = data_valid_rougher.drop(['final.output.recovery', 'rougher.output.recovery'], axis=1)\n",
    "target_valid_final = data_valid_rougher['final.output.recovery']"
   ]
  },
  {
   "cell_type": "code",
   "execution_count": 42,
   "metadata": {},
   "outputs": [],
   "source": [
    "# деление выборки для теста final и rougher\n",
    "split_data_test = data_full.loc[data_test.index]\n",
    "features_test_rougher = data_test\n",
    "target_test_rougher = split_data_test['rougher.output.recovery']\n",
    "features_test_final = data_test\n",
    "target_test_final = split_data_test['final.output.recovery']"
   ]
  },
  {
   "cell_type": "markdown",
   "metadata": {},
   "source": [
    "Взвесим признаки и обучим модели. Сначала попробуем регрессию, затем дерево решений, потом случайный лес. После обучения сразу возьмем предсказания по валидационной выборке и сравним score у каждой модели."
   ]
  },
  {
   "cell_type": "code",
   "execution_count": 43,
   "metadata": {},
   "outputs": [],
   "source": [
    "# балансируем признаки для rougher\n",
    "scaler = StandardScaler() \n",
    "scaler.fit(features_train_rougher)\n",
    "features_train_rougher = scaler.transform(features_train_rougher) \n",
    "features_valid_rougher = scaler.transform(features_valid_rougher)\n",
    "features_test_rougher = scaler.transform(features_test_rougher)"
   ]
  },
  {
   "cell_type": "code",
   "execution_count": 44,
   "metadata": {},
   "outputs": [],
   "source": [
    "# балансируем для final\n",
    "scaler.fit(features_train_final)\n",
    "features_train_final = scaler.transform(features_train_final) \n",
    "features_valid_final = scaler.transform(features_valid_final)\n",
    "features_test_final = scaler.transform(features_test_final) "
   ]
  },
  {
   "cell_type": "markdown",
   "metadata": {},
   "source": [
    "### Линейная регрессия"
   ]
  },
  {
   "cell_type": "markdown",
   "metadata": {},
   "source": [
    "Обучим две модели линейной регрессии для предсказания двух разных целевых признака: recovery после флотации и после финальной очистки. Рассчитаем MAE и sMAPE."
   ]
  },
  {
   "cell_type": "code",
   "execution_count": 45,
   "metadata": {},
   "outputs": [],
   "source": [
    "# лин регрессия для recovery rougher\n",
    "linear_model_rougher = LinearRegression() \n",
    "linear_model_rougher.fit(features_train_rougher, target_train_rougher) \n",
    "linear_predictions_valid_rougher = linear_model_rougher.predict(features_valid_rougher)"
   ]
  },
  {
   "cell_type": "code",
   "execution_count": 46,
   "metadata": {},
   "outputs": [
    {
     "data": {
      "text/plain": [
       "0.5085812094564002"
      ]
     },
     "execution_count": 46,
     "metadata": {},
     "output_type": "execute_result"
    }
   ],
   "source": [
    "# результаты r2 после кросс-валидации rougher\n",
    "cross_val_score(linear_model_rougher, features_valid_rougher, target_valid_rougher, cv=5).mean()"
   ]
  },
  {
   "cell_type": "code",
   "execution_count": 47,
   "metadata": {},
   "outputs": [
    {
     "data": {
      "text/plain": [
       "-4.804394752138437"
      ]
     },
     "execution_count": 47,
     "metadata": {},
     "output_type": "execute_result"
    }
   ],
   "source": [
    "# результаты sMAPE после кросс-валидации rougher (тест)\n",
    "cross_val_score(linear_model_rougher, features_valid_rougher, target_valid_rougher, scoring=smape_scorer, cv=5).mean()"
   ]
  },
  {
   "cell_type": "code",
   "execution_count": 48,
   "metadata": {},
   "outputs": [
    {
     "data": {
      "text/plain": [
       "4.763821864220964"
      ]
     },
     "execution_count": 48,
     "metadata": {},
     "output_type": "execute_result"
    }
   ],
   "source": [
    "smape(target_valid_rougher, linear_predictions_valid_rougher)"
   ]
  },
  {
   "cell_type": "code",
   "execution_count": 49,
   "metadata": {},
   "outputs": [],
   "source": [
    "# лин регрессия для recovery final\n",
    "linear_model_final = LinearRegression() \n",
    "linear_model_final.fit(np.array(features_train_final), np.array(target_train_final)) \n",
    "linear_predictions_valid_final = linear_model_final.predict(features_valid_final)"
   ]
  },
  {
   "cell_type": "code",
   "execution_count": 50,
   "metadata": {
    "scrolled": false
   },
   "outputs": [
    {
     "data": {
      "text/plain": [
       "0.37973877391056493"
      ]
     },
     "execution_count": 50,
     "metadata": {},
     "output_type": "execute_result"
    }
   ],
   "source": [
    "# результаты r2 после кросс-валидации final\n",
    "cross_val_score(linear_model_final, features_valid_final, target_valid_final, cv=5).mean()"
   ]
  },
  {
   "cell_type": "code",
   "execution_count": 51,
   "metadata": {
    "scrolled": true
   },
   "outputs": [],
   "source": [
    "# предсказания по тестовой выборке\n",
    "linear_predictions_test_rougher = linear_model_rougher.predict(features_test_rougher)\n",
    "linear_predictions_test_final = linear_model_final.predict(features_test_final)"
   ]
  },
  {
   "cell_type": "code",
   "execution_count": 52,
   "metadata": {},
   "outputs": [
    {
     "data": {
      "text/plain": [
       "5.583282145922414"
      ]
     },
     "execution_count": 52,
     "metadata": {},
     "output_type": "execute_result"
    }
   ],
   "source": [
    "mean_absolute_error(target_test_rougher, linear_predictions_test_rougher) # рассчитываем MAE на тестовой для rougher"
   ]
  },
  {
   "cell_type": "code",
   "execution_count": 53,
   "metadata": {
    "scrolled": false
   },
   "outputs": [
    {
     "data": {
      "text/plain": [
       "5.936304811649096"
      ]
     },
     "execution_count": 53,
     "metadata": {},
     "output_type": "execute_result"
    }
   ],
   "source": [
    "mean_absolute_error(target_test_final, linear_predictions_test_final) # рассчитываем MAE на тестовой для final"
   ]
  },
  {
   "cell_type": "code",
   "execution_count": 54,
   "metadata": {},
   "outputs": [
    {
     "data": {
      "text/plain": [
       "7.101225533147807"
      ]
     },
     "execution_count": 54,
     "metadata": {},
     "output_type": "execute_result"
    }
   ],
   "source": [
    "# sMAPE для модели линейной регрессии на тестовой\n",
    "total_smape(smape(target_valid_rougher, linear_predictions_valid_rougher), smape(target_valid_final, linear_predictions_valid_final))"
   ]
  },
  {
   "cell_type": "code",
   "execution_count": 55,
   "metadata": {
    "scrolled": false
   },
   "outputs": [
    {
     "data": {
      "text/plain": [
       "9.347129585491063"
      ]
     },
     "execution_count": 55,
     "metadata": {},
     "output_type": "execute_result"
    }
   ],
   "source": [
    "# sMAPE для модели линейной регрессии на тестовой\n",
    "total_smape(smape(target_test_rougher, linear_predictions_test_rougher), smape(target_test_final, linear_predictions_test_final))"
   ]
  },
  {
   "cell_type": "markdown",
   "metadata": {},
   "source": [
    "### Дерево регрессии"
   ]
  },
  {
   "cell_type": "markdown",
   "metadata": {},
   "source": [
    "Найдем лучшие гиперпараметры для модели с помощью randomizedsearchCV и обучим так же две модели.  Расчитаем MAE и sMAPE. "
   ]
  },
  {
   "cell_type": "code",
   "execution_count": 56,
   "metadata": {},
   "outputs": [
    {
     "name": "stdout",
     "output_type": "stream",
     "text": [
      "0.5188638856544386\n",
      "CPU times: user 20.3 s, sys: 101 ms, total: 20.4 s\n",
      "Wall time: 20.6 s\n"
     ]
    }
   ],
   "source": [
    "%%time\n",
    "max_depth = [int(x) for x in np.linspace(1,50)]\n",
    "dtr_grid = {'max_depth': max_depth}\n",
    "model_dtr_rougher = RandomizedSearchCV(DecisionTreeRegressor(random_state=12345), dtr_grid, cv = 5)\n",
    "model_dtr_rougher.fit(features_train_rougher, target_train_rougher)\n",
    "dtr_predicted_valid_rougher = model_dtr_rougher.predict(features_valid_rougher)\n",
    "result = model_dtr_rougher.score(features_valid_rougher, target_valid_rougher)\n",
    "print(result)"
   ]
  },
  {
   "cell_type": "code",
   "execution_count": 57,
   "metadata": {
    "scrolled": false
   },
   "outputs": [
    {
     "data": {
      "text/plain": [
       "2.9631670450911467"
      ]
     },
     "execution_count": 57,
     "metadata": {},
     "output_type": "execute_result"
    }
   ],
   "source": [
    "mean_absolute_error(target_valid_rougher, dtr_predicted_valid_rougher) # рассчитываем MAE на тестовой для rougher"
   ]
  },
  {
   "cell_type": "code",
   "execution_count": 58,
   "metadata": {},
   "outputs": [
    {
     "name": "stdout",
     "output_type": "stream",
     "text": [
      "0.3850573028371752\n",
      "CPU times: user 21.8 s, sys: 53.1 ms, total: 21.8 s\n",
      "Wall time: 21.8 s\n"
     ]
    }
   ],
   "source": [
    "%%time\n",
    "max_depth = [int(x) for x in np.linspace(1,50)]\n",
    "dtr_grid = {'max_depth': max_depth}\n",
    "model_dtr_final = RandomizedSearchCV(DecisionTreeRegressor(random_state=12345), dtr_grid, cv = 5)\n",
    "model_dtr_final.fit(features_train_final, target_train_final)\n",
    "dtr_predicted_valid_final = model_dtr_final.predict(features_valid_final)\n",
    "result = model_dtr_final.score(features_valid_final, target_valid_final)\n",
    "print(result)"
   ]
  },
  {
   "cell_type": "code",
   "execution_count": 59,
   "metadata": {},
   "outputs": [
    {
     "data": {
      "text/plain": [
       "4.915411356488842"
      ]
     },
     "execution_count": 59,
     "metadata": {},
     "output_type": "execute_result"
    }
   ],
   "source": [
    "mean_absolute_error(target_valid_final, dtr_predicted_valid_final) # рассчитываем MAE на тестовой для final"
   ]
  },
  {
   "cell_type": "code",
   "execution_count": 60,
   "metadata": {
    "scrolled": true
   },
   "outputs": [],
   "source": [
    "# предсказания по тестовой выборке\n",
    "dtr_predictions_test_rougher = model_dtr_rougher.predict(features_test_rougher)\n",
    "dtr_predictions_test_final = model_dtr_final.predict(features_test_final)"
   ]
  },
  {
   "cell_type": "code",
   "execution_count": 61,
   "metadata": {
    "scrolled": false
   },
   "outputs": [
    {
     "data": {
      "text/plain": [
       "6.217214650564686"
      ]
     },
     "execution_count": 61,
     "metadata": {},
     "output_type": "execute_result"
    }
   ],
   "source": [
    "mean_absolute_error(target_test_rougher, dtr_predictions_test_rougher) # рассчитываем MAE на тестовой для rougher"
   ]
  },
  {
   "cell_type": "code",
   "execution_count": 62,
   "metadata": {
    "scrolled": true
   },
   "outputs": [
    {
     "data": {
      "text/plain": [
       "6.399200905645901"
      ]
     },
     "execution_count": 62,
     "metadata": {},
     "output_type": "execute_result"
    }
   ],
   "source": [
    "mean_absolute_error(target_test_final, dtr_predictions_test_final) # рассчитываем MAE на тестовой для final"
   ]
  },
  {
   "cell_type": "code",
   "execution_count": 63,
   "metadata": {},
   "outputs": [
    {
     "data": {
      "text/plain": [
       "6.868457286769463"
      ]
     },
     "execution_count": 63,
     "metadata": {},
     "output_type": "execute_result"
    }
   ],
   "source": [
    "# sMAPE для модели дерева регрессии по валидационной\n",
    "total_smape(smape(target_valid_rougher, dtr_predicted_valid_rougher), smape(target_valid_final, dtr_predicted_valid_final))"
   ]
  },
  {
   "cell_type": "code",
   "execution_count": 64,
   "metadata": {
    "scrolled": true
   },
   "outputs": [
    {
     "data": {
      "text/plain": [
       "10.147756843304126"
      ]
     },
     "execution_count": 64,
     "metadata": {},
     "output_type": "execute_result"
    }
   ],
   "source": [
    "# sMAPE для модели дерева регрессии по тестовой\n",
    "total_smape(smape(target_test_rougher, dtr_predictions_test_rougher), smape(target_test_final, dtr_predictions_test_final))"
   ]
  },
  {
   "cell_type": "markdown",
   "metadata": {},
   "source": [
    "### Случайный лес"
   ]
  },
  {
   "cell_type": "markdown",
   "metadata": {},
   "source": [
    "Как и с деревом решений, подберем гиперпараметры, рассчитаем метрики и сравним. "
   ]
  },
  {
   "cell_type": "code",
   "execution_count": 75,
   "metadata": {},
   "outputs": [
    {
     "name": "stdout",
     "output_type": "stream",
     "text": [
      "0.7142401590386178\n",
      "CPU times: user 33.2 s, sys: 21 ms, total: 33.2 s\n",
      "Wall time: 33.3 s\n"
     ]
    }
   ],
   "source": [
    "%%time\n",
    "n_estimators = [int(x) for x in np.linspace(start = 1, stop = 10)]\n",
    "max_depth = [int(x) for x in np.linspace(1, 20)]\n",
    "rfr_grid = {'n_estimators': n_estimators, 'max_depth': max_depth}\n",
    "model_rfr_rougher = RandomizedSearchCV(estimator = RandomForestRegressor(), param_distributions = rfr_grid, cv = 5)\n",
    "model_rfr_rougher.fit(features_train_rougher, target_train_rougher)\n",
    "rfr_predicted_valid_rougher = model_rfr_rougher.predict(features_valid_rougher)\n",
    "result = model_rfr_rougher.score(features_valid_rougher, target_valid_rougher)\n",
    "print(result)\n"
   ]
  },
  {
   "cell_type": "code",
   "execution_count": 76,
   "metadata": {},
   "outputs": [
    {
     "name": "stdout",
     "output_type": "stream",
     "text": [
      "0.5537467304452497\n",
      "CPU times: user 50.7 s, sys: 25.3 ms, total: 50.7 s\n",
      "Wall time: 50.8 s\n"
     ]
    }
   ],
   "source": [
    "%%time\n",
    "n_estimators = [int(x) for x in np.linspace(start = 1, stop = 10)]\n",
    "max_depth = [int(x) for x in np.linspace(1, 20)]\n",
    "rfr_grid = {'n_estimators': n_estimators, 'max_depth': max_depth}\n",
    "model_rfr_final = RandomizedSearchCV(estimator = RandomForestRegressor(), param_distributions = rfr_grid, cv = 5)\n",
    "model_rfr_final.fit(features_train_final, target_train_final)\n",
    "rfr_predicted_valid_final = model_rfr_final.predict(features_valid_final)\n",
    "result = model_rfr_final.score(features_valid_final, target_valid_final)\n",
    "print(result)\n"
   ]
  },
  {
   "cell_type": "code",
   "execution_count": 77,
   "metadata": {},
   "outputs": [],
   "source": [
    "# предсказания по тестовой выборке\n",
    "rfr_predictions_test_rougher = model_rfr_rougher.predict(features_test_rougher)\n",
    "rfr_predictions_test_final = model_rfr_final.predict(features_test_final)"
   ]
  },
  {
   "cell_type": "code",
   "execution_count": 78,
   "metadata": {
    "scrolled": false
   },
   "outputs": [
    {
     "data": {
      "text/plain": [
       "5.059883492372084"
      ]
     },
     "execution_count": 78,
     "metadata": {},
     "output_type": "execute_result"
    }
   ],
   "source": [
    "mean_absolute_error(target_test_rougher, rfr_predictions_test_rougher) # рассчитываем MAE на тестовой для rougher"
   ]
  },
  {
   "cell_type": "code",
   "execution_count": 79,
   "metadata": {
    "scrolled": true
   },
   "outputs": [
    {
     "data": {
      "text/plain": [
       "5.933659035656761"
      ]
     },
     "execution_count": 79,
     "metadata": {},
     "output_type": "execute_result"
    }
   ],
   "source": [
    "mean_absolute_error(target_test_final, rfr_predictions_test_final) # рассчитываем MAE на тестовой для final"
   ]
  },
  {
   "cell_type": "code",
   "execution_count": 80,
   "metadata": {},
   "outputs": [
    {
     "data": {
      "text/plain": [
       "5.458875741080838"
      ]
     },
     "execution_count": 80,
     "metadata": {},
     "output_type": "execute_result"
    }
   ],
   "source": [
    "# sMAPE для модели случайный лес на валидационной\n",
    "total_smape(smape(target_valid_rougher, rfr_predicted_valid_rougher), smape(target_valid_final, rfr_predicted_valid_final))"
   ]
  },
  {
   "cell_type": "code",
   "execution_count": 81,
   "metadata": {
    "scrolled": true
   },
   "outputs": [
    {
     "data": {
      "text/plain": [
       "9.284422873324917"
      ]
     },
     "execution_count": 81,
     "metadata": {},
     "output_type": "execute_result"
    }
   ],
   "source": [
    "# sMAPE для модели случайный лес на тестовой\n",
    "total_smape(smape(target_test_rougher, rfr_predictions_test_rougher), smape(target_test_final, rfr_predictions_test_final))"
   ]
  },
  {
   "cell_type": "markdown",
   "metadata": {},
   "source": [
    "После расчета sMAPE у всех моделей видим, что лучший результат получился у случайного леса. Далее проверим модель на адекватность."
   ]
  },
  {
   "cell_type": "markdown",
   "metadata": {},
   "source": [
    "# Проверка на адекватность"
   ]
  },
  {
   "cell_type": "code",
   "execution_count": 72,
   "metadata": {},
   "outputs": [
    {
     "data": {
      "text/plain": [
       "-0.0014480938931531462"
      ]
     },
     "execution_count": 72,
     "metadata": {},
     "output_type": "execute_result"
    }
   ],
   "source": [
    "dummy_regr = DummyRegressor(strategy=\"mean\")\n",
    "dummy_regr.fit(features_train_rougher, target_train_rougher)\n",
    "sanity_check_pr_rougher = dummy_regr.predict(features_test_rougher)\n",
    "dummy_regr.score(features_test_rougher, target_test_rougher)"
   ]
  },
  {
   "cell_type": "code",
   "execution_count": 73,
   "metadata": {},
   "outputs": [
    {
     "data": {
      "text/plain": [
       "-0.03052935241101995"
      ]
     },
     "execution_count": 73,
     "metadata": {},
     "output_type": "execute_result"
    }
   ],
   "source": [
    "dummy_regr = DummyRegressor(strategy=\"mean\")\n",
    "dummy_regr.fit(features_train_final, target_train_final)\n",
    "sanity_check_pr_final = dummy_regr.predict(features_test_final)\n",
    "dummy_regr.score(features_test_final, target_test_final)"
   ]
  },
  {
   "cell_type": "code",
   "execution_count": 74,
   "metadata": {
    "scrolled": true
   },
   "outputs": [
    {
     "data": {
      "text/plain": [
       "9.832214886695617"
      ]
     },
     "execution_count": 74,
     "metadata": {},
     "output_type": "execute_result"
    }
   ],
   "source": [
    "# sMAPE для проверки модели\n",
    "total_smape(smape(target_test_rougher, sanity_check_pr_rougher), smape(target_test_final, sanity_check_pr_final))"
   ]
  },
  {
   "cell_type": "markdown",
   "metadata": {},
   "source": [
    "sMAPE показала результат хуже, чем у модели случайного леса."
   ]
  },
  {
   "cell_type": "markdown",
   "metadata": {},
   "source": [
    "## Общий вывод"
   ]
  },
  {
   "cell_type": "markdown",
   "metadata": {},
   "source": [
    "В первой части мы провели предобработку данных: дополнили таблицы недостающими данными, поменяли тип данных у столбца date, добавили недостающие столбцы в тестовую выборку.\n",
    "\n",
    "Во второй части мы проанализировали данные:\n",
    "- исследуя концентрацию металлов мы заметили, что Au с каждым этапом увеличивалась, Pb незначительно увеличилось, а Ag сильно упало\n",
    "- при исследовании размера гранул сырья мы заметили, что разспределение у тестовой и обучающей выбоки повторяется, но среднее отличается\n",
    "- при исследовании суммарной концентрации веществ видно, как после каждого этапа очистки суммарная концентрация увеличивается, так же были обнаружены аномалии, которые из обоих выборок были удалены.\n",
    "\n",
    "В третьей части мы построили модели и рассчитали у каждой sMAPE. Между моделями линейной регрессии, дерева регрессии и случайного леса по метрике победила модель случайного леса. На тестовой выборке метрика sMAPE была равно 9.2. "
   ]
  }
 ],
 "metadata": {
  "ExecuteTimeLog": [
   {
    "duration": 1491,
    "start_time": "2022-05-31T20:46:00.986Z"
   },
   {
    "duration": 2834,
    "start_time": "2022-05-31T20:46:02.478Z"
   },
   {
    "duration": 18,
    "start_time": "2022-05-31T20:52:54.331Z"
   },
   {
    "duration": 16,
    "start_time": "2022-05-31T20:52:54.550Z"
   },
   {
    "duration": 107,
    "start_time": "2022-05-31T20:52:54.766Z"
   },
   {
    "duration": 15,
    "start_time": "2022-05-31T20:52:54.994Z"
   },
   {
    "duration": 11,
    "start_time": "2022-05-31T20:52:55.220Z"
   },
   {
    "duration": 19,
    "start_time": "2022-05-31T20:52:55.447Z"
   },
   {
    "duration": 24,
    "start_time": "2022-05-31T20:52:55.999Z"
   },
   {
    "duration": 16,
    "start_time": "2022-05-31T20:52:56.360Z"
   },
   {
    "duration": 84,
    "start_time": "2022-05-31T20:52:56.933Z"
   },
   {
    "duration": 100,
    "start_time": "2022-05-31T20:55:05.259Z"
   },
   {
    "duration": 1104,
    "start_time": "2022-05-31T20:55:11.049Z"
   },
   {
    "duration": 651,
    "start_time": "2022-05-31T20:55:12.154Z"
   },
   {
    "duration": 18,
    "start_time": "2022-05-31T20:55:12.807Z"
   },
   {
    "duration": 14,
    "start_time": "2022-05-31T20:55:12.826Z"
   },
   {
    "duration": 6,
    "start_time": "2022-05-31T20:55:12.842Z"
   },
   {
    "duration": 125,
    "start_time": "2022-05-31T20:55:12.850Z"
   },
   {
    "duration": 14,
    "start_time": "2022-05-31T20:55:12.977Z"
   },
   {
    "duration": 14,
    "start_time": "2022-05-31T20:55:12.992Z"
   },
   {
    "duration": 18,
    "start_time": "2022-05-31T20:55:13.007Z"
   },
   {
    "duration": 14,
    "start_time": "2022-05-31T20:55:13.026Z"
   },
   {
    "duration": 42,
    "start_time": "2022-05-31T20:55:13.041Z"
   },
   {
    "duration": 91,
    "start_time": "2022-05-31T20:55:13.084Z"
   },
   {
    "duration": 1660,
    "start_time": "2022-06-04T16:52:20.495Z"
   },
   {
    "duration": 4302,
    "start_time": "2022-06-04T16:52:22.157Z"
   },
   {
    "duration": 38,
    "start_time": "2022-06-04T16:52:26.462Z"
   },
   {
    "duration": 29,
    "start_time": "2022-06-04T16:52:26.503Z"
   },
   {
    "duration": 23,
    "start_time": "2022-06-04T16:52:26.536Z"
   },
   {
    "duration": 140,
    "start_time": "2022-06-04T16:52:26.561Z"
   },
   {
    "duration": 15,
    "start_time": "2022-06-04T16:52:26.703Z"
   },
   {
    "duration": 44,
    "start_time": "2022-06-04T16:52:26.720Z"
   },
   {
    "duration": 20,
    "start_time": "2022-06-04T16:52:26.766Z"
   },
   {
    "duration": 17,
    "start_time": "2022-06-04T16:52:26.788Z"
   },
   {
    "duration": 27,
    "start_time": "2022-06-04T16:52:26.806Z"
   },
   {
    "duration": 99,
    "start_time": "2022-06-04T16:52:26.834Z"
   },
   {
    "duration": 16,
    "start_time": "2022-06-04T16:55:58.286Z"
   },
   {
    "duration": 17,
    "start_time": "2022-06-04T16:56:12.326Z"
   },
   {
    "duration": 25,
    "start_time": "2022-06-04T16:56:19.535Z"
   },
   {
    "duration": 101,
    "start_time": "2022-06-04T16:59:49.697Z"
   },
   {
    "duration": 6,
    "start_time": "2022-06-04T16:59:57.700Z"
   },
   {
    "duration": 31,
    "start_time": "2022-06-04T18:47:34.992Z"
   },
   {
    "duration": 25,
    "start_time": "2022-06-04T18:48:33.842Z"
   },
   {
    "duration": 1221,
    "start_time": "2022-06-04T18:49:00.225Z"
   },
   {
    "duration": 2996,
    "start_time": "2022-06-04T18:49:01.449Z"
   },
   {
    "duration": 20,
    "start_time": "2022-06-04T18:49:04.452Z"
   },
   {
    "duration": 34,
    "start_time": "2022-06-04T18:49:04.474Z"
   },
   {
    "duration": 162,
    "start_time": "2022-06-04T18:49:04.510Z"
   },
   {
    "duration": 16,
    "start_time": "2022-06-04T18:49:04.674Z"
   },
   {
    "duration": 43,
    "start_time": "2022-06-04T18:49:04.692Z"
   },
   {
    "duration": 41,
    "start_time": "2022-06-04T18:49:04.737Z"
   },
   {
    "duration": 34,
    "start_time": "2022-06-04T18:49:04.780Z"
   },
   {
    "duration": 49,
    "start_time": "2022-06-04T18:49:04.816Z"
   },
   {
    "duration": 127,
    "start_time": "2022-06-04T18:49:04.868Z"
   },
   {
    "duration": 9,
    "start_time": "2022-06-04T18:49:04.997Z"
   },
   {
    "duration": 0,
    "start_time": "2022-06-04T18:49:05.008Z"
   },
   {
    "duration": 0,
    "start_time": "2022-06-04T18:49:05.010Z"
   },
   {
    "duration": 5,
    "start_time": "2022-06-04T18:49:25.974Z"
   },
   {
    "duration": 5,
    "start_time": "2022-06-04T18:49:55.853Z"
   },
   {
    "duration": 6,
    "start_time": "2022-06-04T18:50:02.294Z"
   },
   {
    "duration": 31,
    "start_time": "2022-06-04T18:50:39.283Z"
   },
   {
    "duration": 59,
    "start_time": "2022-06-04T18:50:46.692Z"
   },
   {
    "duration": 5,
    "start_time": "2022-06-04T18:51:51.754Z"
   },
   {
    "duration": 7,
    "start_time": "2022-06-04T18:51:54.839Z"
   },
   {
    "duration": 150,
    "start_time": "2022-06-04T18:52:43.951Z"
   },
   {
    "duration": 4,
    "start_time": "2022-06-04T18:52:47.991Z"
   },
   {
    "duration": 5,
    "start_time": "2022-06-04T18:52:52.748Z"
   },
   {
    "duration": 4,
    "start_time": "2022-06-04T18:52:56.621Z"
   },
   {
    "duration": 6,
    "start_time": "2022-06-04T18:53:44.555Z"
   },
   {
    "duration": 7,
    "start_time": "2022-06-04T19:13:04.155Z"
   },
   {
    "duration": 3,
    "start_time": "2022-06-04T19:15:22.951Z"
   },
   {
    "duration": 9,
    "start_time": "2022-06-04T19:15:33.457Z"
   },
   {
    "duration": 8,
    "start_time": "2022-06-04T19:15:36.455Z"
   },
   {
    "duration": 8,
    "start_time": "2022-06-04T19:15:42.141Z"
   },
   {
    "duration": 9,
    "start_time": "2022-06-04T19:15:42.884Z"
   },
   {
    "duration": 1165,
    "start_time": "2022-06-04T19:15:49.112Z"
   },
   {
    "duration": 688,
    "start_time": "2022-06-04T19:15:50.278Z"
   },
   {
    "duration": 17,
    "start_time": "2022-06-04T19:15:50.968Z"
   },
   {
    "duration": 17,
    "start_time": "2022-06-04T19:15:50.987Z"
   },
   {
    "duration": 138,
    "start_time": "2022-06-04T19:15:51.006Z"
   },
   {
    "duration": 14,
    "start_time": "2022-06-04T19:15:51.146Z"
   },
   {
    "duration": 15,
    "start_time": "2022-06-04T19:15:51.161Z"
   },
   {
    "duration": 19,
    "start_time": "2022-06-04T19:15:51.177Z"
   },
   {
    "duration": 31,
    "start_time": "2022-06-04T19:15:51.197Z"
   },
   {
    "duration": 65,
    "start_time": "2022-06-04T19:15:51.231Z"
   },
   {
    "duration": 118,
    "start_time": "2022-06-04T19:15:51.298Z"
   },
   {
    "duration": 11,
    "start_time": "2022-06-04T19:15:51.417Z"
   },
   {
    "duration": 4,
    "start_time": "2022-06-04T19:15:51.429Z"
   },
   {
    "duration": 6,
    "start_time": "2022-06-04T19:15:51.434Z"
   },
   {
    "duration": 8,
    "start_time": "2022-06-04T19:15:51.441Z"
   },
   {
    "duration": 16,
    "start_time": "2022-06-04T19:15:51.450Z"
   },
   {
    "duration": 14,
    "start_time": "2022-06-04T19:15:51.467Z"
   },
   {
    "duration": 15,
    "start_time": "2022-06-04T19:15:58.857Z"
   },
   {
    "duration": 58,
    "start_time": "2022-06-05T17:19:04.317Z"
   },
   {
    "duration": 1496,
    "start_time": "2022-06-05T17:20:57.789Z"
   },
   {
    "duration": 3374,
    "start_time": "2022-06-05T17:20:59.287Z"
   },
   {
    "duration": 18,
    "start_time": "2022-06-05T17:21:02.662Z"
   },
   {
    "duration": 17,
    "start_time": "2022-06-05T17:21:02.682Z"
   },
   {
    "duration": 122,
    "start_time": "2022-06-05T17:21:02.700Z"
   },
   {
    "duration": 14,
    "start_time": "2022-06-05T17:21:02.824Z"
   },
   {
    "duration": 18,
    "start_time": "2022-06-05T17:21:02.839Z"
   },
   {
    "duration": 18,
    "start_time": "2022-06-05T17:21:02.858Z"
   },
   {
    "duration": 28,
    "start_time": "2022-06-05T17:21:02.877Z"
   },
   {
    "duration": 17,
    "start_time": "2022-06-05T17:21:02.908Z"
   },
   {
    "duration": 108,
    "start_time": "2022-06-05T17:21:02.926Z"
   },
   {
    "duration": 6,
    "start_time": "2022-06-05T17:21:03.036Z"
   },
   {
    "duration": 10,
    "start_time": "2022-06-05T17:21:03.043Z"
   },
   {
    "duration": 8,
    "start_time": "2022-06-05T17:21:03.054Z"
   },
   {
    "duration": 13,
    "start_time": "2022-06-05T17:21:03.063Z"
   },
   {
    "duration": 29,
    "start_time": "2022-06-05T17:21:03.077Z"
   },
   {
    "duration": 17,
    "start_time": "2022-06-05T17:21:03.107Z"
   },
   {
    "duration": 3,
    "start_time": "2022-06-05T17:21:03.126Z"
   },
   {
    "duration": 1216,
    "start_time": "2022-06-05T17:24:01.111Z"
   },
   {
    "duration": 710,
    "start_time": "2022-06-05T17:24:02.329Z"
   },
   {
    "duration": 19,
    "start_time": "2022-06-05T17:24:03.041Z"
   },
   {
    "duration": 17,
    "start_time": "2022-06-05T17:24:03.062Z"
   },
   {
    "duration": 128,
    "start_time": "2022-06-05T17:24:03.093Z"
   },
   {
    "duration": 16,
    "start_time": "2022-06-05T17:24:03.223Z"
   },
   {
    "duration": 15,
    "start_time": "2022-06-05T17:24:03.240Z"
   },
   {
    "duration": 45,
    "start_time": "2022-06-05T17:24:03.256Z"
   },
   {
    "duration": 15,
    "start_time": "2022-06-05T17:24:03.302Z"
   },
   {
    "duration": 21,
    "start_time": "2022-06-05T17:24:03.319Z"
   },
   {
    "duration": 119,
    "start_time": "2022-06-05T17:24:03.342Z"
   },
   {
    "duration": 6,
    "start_time": "2022-06-05T17:24:03.463Z"
   },
   {
    "duration": 12,
    "start_time": "2022-06-05T17:24:03.471Z"
   },
   {
    "duration": 11,
    "start_time": "2022-06-05T17:24:03.485Z"
   },
   {
    "duration": 11,
    "start_time": "2022-06-05T17:24:03.498Z"
   },
   {
    "duration": 19,
    "start_time": "2022-06-05T17:24:03.511Z"
   },
   {
    "duration": 18,
    "start_time": "2022-06-05T17:24:03.532Z"
   },
   {
    "duration": 7,
    "start_time": "2022-06-05T17:24:03.552Z"
   },
   {
    "duration": 18,
    "start_time": "2022-06-05T17:24:15.932Z"
   },
   {
    "duration": 11,
    "start_time": "2022-06-05T17:54:43.205Z"
   },
   {
    "duration": 20,
    "start_time": "2022-06-05T17:54:45.761Z"
   },
   {
    "duration": 16,
    "start_time": "2022-06-05T17:54:56.341Z"
   },
   {
    "duration": 11,
    "start_time": "2022-06-05T17:55:57.188Z"
   },
   {
    "duration": 17,
    "start_time": "2022-06-05T17:56:04.962Z"
   },
   {
    "duration": 430,
    "start_time": "2022-06-05T18:00:13.039Z"
   },
   {
    "duration": 16,
    "start_time": "2022-06-05T18:01:27.866Z"
   },
   {
    "duration": 17,
    "start_time": "2022-06-05T18:01:30.894Z"
   },
   {
    "duration": 10,
    "start_time": "2022-06-05T18:02:47.086Z"
   },
   {
    "duration": 10,
    "start_time": "2022-06-05T18:02:55.943Z"
   },
   {
    "duration": 3,
    "start_time": "2022-06-05T18:03:07.191Z"
   },
   {
    "duration": 4,
    "start_time": "2022-06-05T18:03:52.622Z"
   },
   {
    "duration": 10,
    "start_time": "2022-06-05T18:06:04.571Z"
   },
   {
    "duration": 4,
    "start_time": "2022-06-05T18:06:07.169Z"
   },
   {
    "duration": 8,
    "start_time": "2022-06-05T18:09:11.717Z"
   },
   {
    "duration": 12,
    "start_time": "2022-06-05T18:12:33.673Z"
   },
   {
    "duration": 1258,
    "start_time": "2022-06-05T18:13:03.868Z"
   },
   {
    "duration": 698,
    "start_time": "2022-06-05T18:13:05.128Z"
   },
   {
    "duration": 18,
    "start_time": "2022-06-05T18:13:05.828Z"
   },
   {
    "duration": 23,
    "start_time": "2022-06-05T18:13:05.848Z"
   },
   {
    "duration": 133,
    "start_time": "2022-06-05T18:13:05.873Z"
   },
   {
    "duration": 14,
    "start_time": "2022-06-05T18:13:06.008Z"
   },
   {
    "duration": 14,
    "start_time": "2022-06-05T18:13:06.024Z"
   },
   {
    "duration": 22,
    "start_time": "2022-06-05T18:13:06.040Z"
   },
   {
    "duration": 37,
    "start_time": "2022-06-05T18:13:06.064Z"
   },
   {
    "duration": 16,
    "start_time": "2022-06-05T18:13:06.102Z"
   },
   {
    "duration": 116,
    "start_time": "2022-06-05T18:13:06.120Z"
   },
   {
    "duration": 7,
    "start_time": "2022-06-05T18:13:06.238Z"
   },
   {
    "duration": 5,
    "start_time": "2022-06-05T18:13:06.246Z"
   },
   {
    "duration": 5,
    "start_time": "2022-06-05T18:13:06.253Z"
   },
   {
    "duration": 14,
    "start_time": "2022-06-05T18:13:06.260Z"
   },
   {
    "duration": 29,
    "start_time": "2022-06-05T18:13:06.275Z"
   },
   {
    "duration": 11,
    "start_time": "2022-06-05T18:13:06.306Z"
   },
   {
    "duration": 18,
    "start_time": "2022-06-05T18:13:06.319Z"
   },
   {
    "duration": 17,
    "start_time": "2022-06-05T18:13:06.338Z"
   },
   {
    "duration": 18,
    "start_time": "2022-06-05T18:23:31.891Z"
   },
   {
    "duration": 123,
    "start_time": "2022-06-05T18:25:12.786Z"
   },
   {
    "duration": 9,
    "start_time": "2022-06-05T18:25:32.589Z"
   },
   {
    "duration": 9,
    "start_time": "2022-06-05T18:25:37.488Z"
   },
   {
    "duration": 632,
    "start_time": "2022-06-05T18:26:21.910Z"
   },
   {
    "duration": 266,
    "start_time": "2022-06-05T18:26:55.129Z"
   },
   {
    "duration": 12,
    "start_time": "2022-06-05T18:35:25.735Z"
   },
   {
    "duration": 14,
    "start_time": "2022-06-05T18:35:34.390Z"
   },
   {
    "duration": 14,
    "start_time": "2022-06-05T18:35:53.804Z"
   },
   {
    "duration": 284,
    "start_time": "2022-06-05T18:36:29.559Z"
   },
   {
    "duration": 1250,
    "start_time": "2022-06-05T18:36:54.989Z"
   },
   {
    "duration": 1290,
    "start_time": "2022-06-05T18:36:56.241Z"
   },
   {
    "duration": 71,
    "start_time": "2022-06-05T18:36:57.533Z"
   },
   {
    "duration": 17,
    "start_time": "2022-06-05T18:36:57.605Z"
   },
   {
    "duration": 273,
    "start_time": "2022-06-05T18:36:57.625Z"
   },
   {
    "duration": 17,
    "start_time": "2022-06-05T18:36:57.900Z"
   },
   {
    "duration": 14,
    "start_time": "2022-06-05T18:36:57.918Z"
   },
   {
    "duration": 75,
    "start_time": "2022-06-05T18:36:57.934Z"
   },
   {
    "duration": 16,
    "start_time": "2022-06-05T18:36:58.010Z"
   },
   {
    "duration": 68,
    "start_time": "2022-06-05T18:36:58.028Z"
   },
   {
    "duration": 100,
    "start_time": "2022-06-05T18:36:58.097Z"
   },
   {
    "duration": 6,
    "start_time": "2022-06-05T18:36:58.199Z"
   },
   {
    "duration": 8,
    "start_time": "2022-06-05T18:36:58.206Z"
   },
   {
    "duration": 5,
    "start_time": "2022-06-05T18:36:58.216Z"
   },
   {
    "duration": 9,
    "start_time": "2022-06-05T18:36:58.223Z"
   },
   {
    "duration": 17,
    "start_time": "2022-06-05T18:36:58.234Z"
   },
   {
    "duration": 13,
    "start_time": "2022-06-05T18:36:58.253Z"
   },
   {
    "duration": 17,
    "start_time": "2022-06-05T18:36:58.294Z"
   },
   {
    "duration": 311,
    "start_time": "2022-06-05T18:36:58.313Z"
   },
   {
    "duration": 607,
    "start_time": "2022-06-05T18:39:43.887Z"
   },
   {
    "duration": 108,
    "start_time": "2022-06-05T18:41:23.456Z"
   },
   {
    "duration": 19,
    "start_time": "2022-06-05T18:45:33.129Z"
   },
   {
    "duration": 44,
    "start_time": "2022-06-05T18:46:00.464Z"
   },
   {
    "duration": 13,
    "start_time": "2022-06-05T18:46:21.250Z"
   },
   {
    "duration": 17,
    "start_time": "2022-06-05T18:46:49.557Z"
   },
   {
    "duration": 23,
    "start_time": "2022-06-05T18:46:53.417Z"
   },
   {
    "duration": 22,
    "start_time": "2022-06-05T18:47:11.617Z"
   },
   {
    "duration": 1435,
    "start_time": "2022-06-05T18:48:05.779Z"
   },
   {
    "duration": 1350,
    "start_time": "2022-06-05T18:48:07.216Z"
   },
   {
    "duration": 28,
    "start_time": "2022-06-05T18:48:08.567Z"
   },
   {
    "duration": 16,
    "start_time": "2022-06-05T18:48:08.597Z"
   },
   {
    "duration": 135,
    "start_time": "2022-06-05T18:48:08.616Z"
   },
   {
    "duration": 17,
    "start_time": "2022-06-05T18:48:08.752Z"
   },
   {
    "duration": 27,
    "start_time": "2022-06-05T18:48:08.771Z"
   },
   {
    "duration": 19,
    "start_time": "2022-06-05T18:48:08.800Z"
   },
   {
    "duration": 13,
    "start_time": "2022-06-05T18:48:08.821Z"
   },
   {
    "duration": 21,
    "start_time": "2022-06-05T18:48:08.836Z"
   },
   {
    "duration": 131,
    "start_time": "2022-06-05T18:48:08.858Z"
   },
   {
    "duration": 9,
    "start_time": "2022-06-05T18:48:08.991Z"
   },
   {
    "duration": 10,
    "start_time": "2022-06-05T18:48:09.002Z"
   },
   {
    "duration": 9,
    "start_time": "2022-06-05T18:48:09.016Z"
   },
   {
    "duration": 13,
    "start_time": "2022-06-05T18:48:09.027Z"
   },
   {
    "duration": 19,
    "start_time": "2022-06-05T18:48:09.042Z"
   },
   {
    "duration": 35,
    "start_time": "2022-06-05T18:48:09.063Z"
   },
   {
    "duration": 24,
    "start_time": "2022-06-05T18:48:09.100Z"
   },
   {
    "duration": 18,
    "start_time": "2022-06-05T18:48:09.126Z"
   },
   {
    "duration": 21,
    "start_time": "2022-06-05T18:48:09.193Z"
   },
   {
    "duration": 22,
    "start_time": "2022-06-05T18:48:09.215Z"
   },
   {
    "duration": 30,
    "start_time": "2022-06-05T18:48:50.293Z"
   },
   {
    "duration": 27,
    "start_time": "2022-06-05T18:48:58.954Z"
   },
   {
    "duration": 17,
    "start_time": "2022-06-05T18:49:09.957Z"
   },
   {
    "duration": 5,
    "start_time": "2022-06-05T18:49:37.346Z"
   },
   {
    "duration": 21,
    "start_time": "2022-06-05T18:49:46.227Z"
   },
   {
    "duration": 15,
    "start_time": "2022-06-05T18:49:53.914Z"
   },
   {
    "duration": 21,
    "start_time": "2022-06-05T18:50:05.597Z"
   },
   {
    "duration": 106,
    "start_time": "2022-06-05T18:50:10.427Z"
   },
   {
    "duration": 1194,
    "start_time": "2022-06-05T18:50:17.331Z"
   },
   {
    "duration": 744,
    "start_time": "2022-06-05T18:50:18.527Z"
   },
   {
    "duration": 32,
    "start_time": "2022-06-05T18:50:19.273Z"
   },
   {
    "duration": 22,
    "start_time": "2022-06-05T18:50:19.307Z"
   },
   {
    "duration": 142,
    "start_time": "2022-06-05T18:50:19.332Z"
   },
   {
    "duration": 22,
    "start_time": "2022-06-05T18:50:19.476Z"
   },
   {
    "duration": 17,
    "start_time": "2022-06-05T18:50:19.499Z"
   },
   {
    "duration": 21,
    "start_time": "2022-06-05T18:50:19.517Z"
   },
   {
    "duration": 15,
    "start_time": "2022-06-05T18:50:19.539Z"
   },
   {
    "duration": 42,
    "start_time": "2022-06-05T18:50:19.556Z"
   },
   {
    "duration": 114,
    "start_time": "2022-06-05T18:50:19.599Z"
   },
   {
    "duration": 5,
    "start_time": "2022-06-05T18:50:19.715Z"
   },
   {
    "duration": 5,
    "start_time": "2022-06-05T18:50:19.722Z"
   },
   {
    "duration": 6,
    "start_time": "2022-06-05T18:50:19.729Z"
   },
   {
    "duration": 7,
    "start_time": "2022-06-05T18:50:19.736Z"
   },
   {
    "duration": 25,
    "start_time": "2022-06-05T18:50:19.745Z"
   },
   {
    "duration": 34,
    "start_time": "2022-06-05T18:50:19.772Z"
   },
   {
    "duration": 26,
    "start_time": "2022-06-05T18:50:19.808Z"
   },
   {
    "duration": 17,
    "start_time": "2022-06-05T18:50:19.835Z"
   },
   {
    "duration": 6,
    "start_time": "2022-06-05T18:50:19.854Z"
   },
   {
    "duration": 12,
    "start_time": "2022-06-05T18:50:19.862Z"
   },
   {
    "duration": 6,
    "start_time": "2022-06-05T18:50:40.280Z"
   },
   {
    "duration": 10,
    "start_time": "2022-06-05T18:50:46.723Z"
   },
   {
    "duration": 2123,
    "start_time": "2022-06-07T12:10:56.809Z"
   },
   {
    "duration": 3271,
    "start_time": "2022-06-07T12:10:58.934Z"
   },
   {
    "duration": 18,
    "start_time": "2022-06-07T12:11:02.207Z"
   },
   {
    "duration": 26,
    "start_time": "2022-06-07T12:11:02.227Z"
   },
   {
    "duration": 125,
    "start_time": "2022-06-07T12:11:02.255Z"
   },
   {
    "duration": 16,
    "start_time": "2022-06-07T12:11:02.382Z"
   },
   {
    "duration": 32,
    "start_time": "2022-06-07T12:11:02.399Z"
   },
   {
    "duration": 25,
    "start_time": "2022-06-07T12:11:02.433Z"
   },
   {
    "duration": 15,
    "start_time": "2022-06-07T12:11:02.460Z"
   },
   {
    "duration": 54,
    "start_time": "2022-06-07T12:11:02.476Z"
   },
   {
    "duration": 110,
    "start_time": "2022-06-07T12:11:02.531Z"
   },
   {
    "duration": 6,
    "start_time": "2022-06-07T12:11:02.642Z"
   },
   {
    "duration": 33,
    "start_time": "2022-06-07T12:11:02.649Z"
   },
   {
    "duration": 34,
    "start_time": "2022-06-07T12:11:02.684Z"
   },
   {
    "duration": 49,
    "start_time": "2022-06-07T12:11:02.720Z"
   },
   {
    "duration": 48,
    "start_time": "2022-06-07T12:11:02.771Z"
   },
   {
    "duration": 18,
    "start_time": "2022-06-07T12:11:02.820Z"
   },
   {
    "duration": 57,
    "start_time": "2022-06-07T12:11:02.840Z"
   },
   {
    "duration": 17,
    "start_time": "2022-06-07T12:11:02.899Z"
   },
   {
    "duration": 20,
    "start_time": "2022-06-07T12:11:02.918Z"
   },
   {
    "duration": 16,
    "start_time": "2022-06-07T12:11:02.940Z"
   },
   {
    "duration": 494,
    "start_time": "2022-06-07T12:53:12.119Z"
   },
   {
    "duration": 337,
    "start_time": "2022-06-07T12:54:27.947Z"
   },
   {
    "duration": 385,
    "start_time": "2022-06-07T12:54:31.278Z"
   },
   {
    "duration": 244,
    "start_time": "2022-06-07T14:13:37.708Z"
   },
   {
    "duration": 152,
    "start_time": "2022-06-07T14:29:45.544Z"
   },
   {
    "duration": 151,
    "start_time": "2022-06-07T14:29:50.234Z"
   },
   {
    "duration": 0,
    "start_time": "2022-06-07T14:35:33.229Z"
   },
   {
    "duration": 1161,
    "start_time": "2022-06-07T14:35:38.181Z"
   },
   {
    "duration": 707,
    "start_time": "2022-06-07T14:35:39.344Z"
   },
   {
    "duration": 19,
    "start_time": "2022-06-07T14:35:40.053Z"
   },
   {
    "duration": 18,
    "start_time": "2022-06-07T14:35:40.074Z"
   },
   {
    "duration": 146,
    "start_time": "2022-06-07T14:35:40.094Z"
   },
   {
    "duration": 17,
    "start_time": "2022-06-07T14:35:40.241Z"
   },
   {
    "duration": 24,
    "start_time": "2022-06-07T14:35:40.260Z"
   },
   {
    "duration": 20,
    "start_time": "2022-06-07T14:35:40.286Z"
   },
   {
    "duration": 31,
    "start_time": "2022-06-07T14:35:40.307Z"
   },
   {
    "duration": 22,
    "start_time": "2022-06-07T14:35:40.339Z"
   },
   {
    "duration": 104,
    "start_time": "2022-06-07T14:35:40.363Z"
   },
   {
    "duration": 6,
    "start_time": "2022-06-07T14:35:40.469Z"
   },
   {
    "duration": 8,
    "start_time": "2022-06-07T14:35:40.476Z"
   },
   {
    "duration": 4,
    "start_time": "2022-06-07T14:35:40.487Z"
   },
   {
    "duration": 6,
    "start_time": "2022-06-07T14:35:40.493Z"
   },
   {
    "duration": 33,
    "start_time": "2022-06-07T14:35:40.501Z"
   },
   {
    "duration": 13,
    "start_time": "2022-06-07T14:35:40.536Z"
   },
   {
    "duration": 18,
    "start_time": "2022-06-07T14:35:40.551Z"
   },
   {
    "duration": 16,
    "start_time": "2022-06-07T14:35:40.571Z"
   },
   {
    "duration": 8,
    "start_time": "2022-06-07T14:35:40.588Z"
   },
   {
    "duration": 11,
    "start_time": "2022-06-07T14:35:40.627Z"
   },
   {
    "duration": 176,
    "start_time": "2022-06-07T14:35:40.639Z"
   },
   {
    "duration": 1222,
    "start_time": "2022-06-07T14:36:32.609Z"
   },
   {
    "duration": 664,
    "start_time": "2022-06-07T14:36:33.833Z"
   },
   {
    "duration": 18,
    "start_time": "2022-06-07T14:36:34.498Z"
   },
   {
    "duration": 15,
    "start_time": "2022-06-07T14:36:34.526Z"
   },
   {
    "duration": 125,
    "start_time": "2022-06-07T14:36:34.543Z"
   },
   {
    "duration": 15,
    "start_time": "2022-06-07T14:36:34.669Z"
   },
   {
    "duration": 22,
    "start_time": "2022-06-07T14:36:34.686Z"
   },
   {
    "duration": 40,
    "start_time": "2022-06-07T14:36:34.710Z"
   },
   {
    "duration": 27,
    "start_time": "2022-06-07T14:36:34.752Z"
   },
   {
    "duration": 39,
    "start_time": "2022-06-07T14:36:34.781Z"
   },
   {
    "duration": 93,
    "start_time": "2022-06-07T14:36:34.821Z"
   },
   {
    "duration": 6,
    "start_time": "2022-06-07T14:36:34.915Z"
   },
   {
    "duration": 27,
    "start_time": "2022-06-07T14:36:34.922Z"
   },
   {
    "duration": 25,
    "start_time": "2022-06-07T14:36:34.951Z"
   },
   {
    "duration": 24,
    "start_time": "2022-06-07T14:36:34.977Z"
   },
   {
    "duration": 31,
    "start_time": "2022-06-07T14:36:35.003Z"
   },
   {
    "duration": 29,
    "start_time": "2022-06-07T14:36:35.036Z"
   },
   {
    "duration": 42,
    "start_time": "2022-06-07T14:36:35.067Z"
   },
   {
    "duration": 35,
    "start_time": "2022-06-07T14:36:35.111Z"
   },
   {
    "duration": 6,
    "start_time": "2022-06-07T14:36:35.148Z"
   },
   {
    "duration": 17,
    "start_time": "2022-06-07T14:36:35.156Z"
   },
   {
    "duration": 176,
    "start_time": "2022-06-07T14:36:35.174Z"
   },
   {
    "duration": 1154,
    "start_time": "2022-06-07T14:36:51.377Z"
   },
   {
    "duration": 669,
    "start_time": "2022-06-07T14:36:52.533Z"
   },
   {
    "duration": 26,
    "start_time": "2022-06-07T14:36:53.204Z"
   },
   {
    "duration": 16,
    "start_time": "2022-06-07T14:36:53.232Z"
   },
   {
    "duration": 125,
    "start_time": "2022-06-07T14:36:53.250Z"
   },
   {
    "duration": 14,
    "start_time": "2022-06-07T14:36:53.376Z"
   },
   {
    "duration": 26,
    "start_time": "2022-06-07T14:36:53.391Z"
   },
   {
    "duration": 40,
    "start_time": "2022-06-07T14:36:53.418Z"
   },
   {
    "duration": 15,
    "start_time": "2022-06-07T14:36:53.459Z"
   },
   {
    "duration": 25,
    "start_time": "2022-06-07T14:36:53.475Z"
   },
   {
    "duration": 90,
    "start_time": "2022-06-07T14:36:53.501Z"
   },
   {
    "duration": 6,
    "start_time": "2022-06-07T14:36:53.593Z"
   },
   {
    "duration": 5,
    "start_time": "2022-06-07T14:36:53.600Z"
   },
   {
    "duration": 7,
    "start_time": "2022-06-07T14:36:53.607Z"
   },
   {
    "duration": 19,
    "start_time": "2022-06-07T14:36:53.615Z"
   },
   {
    "duration": 24,
    "start_time": "2022-06-07T14:36:53.635Z"
   },
   {
    "duration": 12,
    "start_time": "2022-06-07T14:36:53.661Z"
   },
   {
    "duration": 22,
    "start_time": "2022-06-07T14:36:53.674Z"
   },
   {
    "duration": 15,
    "start_time": "2022-06-07T14:36:53.697Z"
   },
   {
    "duration": 17,
    "start_time": "2022-06-07T14:36:53.714Z"
   },
   {
    "duration": 9,
    "start_time": "2022-06-07T14:36:53.732Z"
   },
   {
    "duration": 159,
    "start_time": "2022-06-07T14:36:53.743Z"
   },
   {
    "duration": 206,
    "start_time": "2022-06-07T14:36:53.904Z"
   },
   {
    "duration": 212,
    "start_time": "2022-06-07T14:37:59.090Z"
   },
   {
    "duration": 205,
    "start_time": "2022-06-07T14:38:16.182Z"
   },
   {
    "duration": 102,
    "start_time": "2022-06-07T14:38:21.293Z"
   },
   {
    "duration": 216,
    "start_time": "2022-06-07T14:38:24.794Z"
   },
   {
    "duration": 152,
    "start_time": "2022-06-07T14:39:51.711Z"
   },
   {
    "duration": 153,
    "start_time": "2022-06-07T14:39:59.338Z"
   },
   {
    "duration": 165,
    "start_time": "2022-06-07T14:40:32.209Z"
   },
   {
    "duration": 206,
    "start_time": "2022-06-07T14:41:04.978Z"
   },
   {
    "duration": 341,
    "start_time": "2022-06-07T14:41:18.708Z"
   },
   {
    "duration": 260,
    "start_time": "2022-06-07T14:41:28.589Z"
   },
   {
    "duration": 253,
    "start_time": "2022-06-07T14:41:47.013Z"
   },
   {
    "duration": 262,
    "start_time": "2022-06-07T14:42:21.886Z"
   },
   {
    "duration": 349,
    "start_time": "2022-06-07T14:42:56.920Z"
   },
   {
    "duration": 476,
    "start_time": "2022-06-07T14:44:08.395Z"
   },
   {
    "duration": 347,
    "start_time": "2022-06-07T14:44:26.445Z"
   },
   {
    "duration": 231,
    "start_time": "2022-06-07T14:44:59.479Z"
   },
   {
    "duration": 255,
    "start_time": "2022-06-07T14:45:18.310Z"
   },
   {
    "duration": 236,
    "start_time": "2022-06-07T14:45:36.234Z"
   },
   {
    "duration": 249,
    "start_time": "2022-06-07T14:45:39.113Z"
   },
   {
    "duration": 273,
    "start_time": "2022-06-07T14:45:41.323Z"
   },
   {
    "duration": 185,
    "start_time": "2022-06-07T14:45:59.609Z"
   },
   {
    "duration": 164,
    "start_time": "2022-06-07T14:46:08.807Z"
   },
   {
    "duration": 210,
    "start_time": "2022-06-07T14:46:21.972Z"
   },
   {
    "duration": 250,
    "start_time": "2022-06-07T14:46:26.845Z"
   },
   {
    "duration": 156,
    "start_time": "2022-06-07T14:46:57.177Z"
   },
   {
    "duration": 200,
    "start_time": "2022-06-07T14:47:15.044Z"
   },
   {
    "duration": 158,
    "start_time": "2022-06-07T14:47:36.195Z"
   },
   {
    "duration": 196,
    "start_time": "2022-06-07T14:47:36.697Z"
   },
   {
    "duration": 172,
    "start_time": "2022-06-07T14:47:37.118Z"
   },
   {
    "duration": 180,
    "start_time": "2022-06-07T14:49:24.258Z"
   },
   {
    "duration": 186,
    "start_time": "2022-06-07T14:49:37.005Z"
   },
   {
    "duration": 1256,
    "start_time": "2022-06-07T14:50:19.439Z"
   },
   {
    "duration": 723,
    "start_time": "2022-06-07T14:50:20.697Z"
   },
   {
    "duration": 28,
    "start_time": "2022-06-07T14:50:21.422Z"
   },
   {
    "duration": 28,
    "start_time": "2022-06-07T14:50:21.453Z"
   },
   {
    "duration": 160,
    "start_time": "2022-06-07T14:50:21.483Z"
   },
   {
    "duration": 23,
    "start_time": "2022-06-07T14:50:21.645Z"
   },
   {
    "duration": 34,
    "start_time": "2022-06-07T14:50:21.670Z"
   },
   {
    "duration": 36,
    "start_time": "2022-06-07T14:50:21.706Z"
   },
   {
    "duration": 24,
    "start_time": "2022-06-07T14:50:21.744Z"
   },
   {
    "duration": 42,
    "start_time": "2022-06-07T14:50:21.772Z"
   },
   {
    "duration": 102,
    "start_time": "2022-06-07T14:50:21.816Z"
   },
   {
    "duration": 9,
    "start_time": "2022-06-07T14:50:21.920Z"
   },
   {
    "duration": 13,
    "start_time": "2022-06-07T14:50:21.931Z"
   },
   {
    "duration": 6,
    "start_time": "2022-06-07T14:50:21.946Z"
   },
   {
    "duration": 7,
    "start_time": "2022-06-07T14:50:21.953Z"
   },
   {
    "duration": 18,
    "start_time": "2022-06-07T14:50:21.962Z"
   },
   {
    "duration": 12,
    "start_time": "2022-06-07T14:50:21.982Z"
   },
   {
    "duration": 38,
    "start_time": "2022-06-07T14:50:21.996Z"
   },
   {
    "duration": 16,
    "start_time": "2022-06-07T14:50:22.036Z"
   },
   {
    "duration": 10,
    "start_time": "2022-06-07T14:50:22.054Z"
   },
   {
    "duration": 28,
    "start_time": "2022-06-07T14:50:22.066Z"
   },
   {
    "duration": 208,
    "start_time": "2022-06-07T14:50:22.096Z"
   },
   {
    "duration": 426,
    "start_time": "2022-06-07T14:50:22.305Z"
   },
   {
    "duration": 404,
    "start_time": "2022-06-07T14:50:22.732Z"
   },
   {
    "duration": 3,
    "start_time": "2022-06-07T14:57:57.797Z"
   },
   {
    "duration": 33,
    "start_time": "2022-06-07T14:58:03.443Z"
   },
   {
    "duration": 28,
    "start_time": "2022-06-07T14:58:15.284Z"
   },
   {
    "duration": 112,
    "start_time": "2022-06-07T14:58:22.676Z"
   },
   {
    "duration": 18,
    "start_time": "2022-06-07T14:58:32.780Z"
   },
   {
    "duration": 4,
    "start_time": "2022-06-07T14:58:47.230Z"
   },
   {
    "duration": 8,
    "start_time": "2022-06-07T14:58:52.006Z"
   },
   {
    "duration": 158,
    "start_time": "2022-06-07T15:00:32.916Z"
   },
   {
    "duration": 6,
    "start_time": "2022-06-07T15:00:52.912Z"
   },
   {
    "duration": 6,
    "start_time": "2022-06-07T15:01:00.239Z"
   },
   {
    "duration": 5,
    "start_time": "2022-06-07T15:01:20.084Z"
   },
   {
    "duration": 5,
    "start_time": "2022-06-07T15:01:24.289Z"
   },
   {
    "duration": 6,
    "start_time": "2022-06-07T15:01:27.680Z"
   },
   {
    "duration": 5,
    "start_time": "2022-06-07T15:01:32.240Z"
   },
   {
    "duration": 1166,
    "start_time": "2022-06-07T19:10:16.088Z"
   },
   {
    "duration": 722,
    "start_time": "2022-06-07T19:10:17.255Z"
   },
   {
    "duration": 20,
    "start_time": "2022-06-07T19:10:17.978Z"
   },
   {
    "duration": 31,
    "start_time": "2022-06-07T19:10:18.000Z"
   },
   {
    "duration": 127,
    "start_time": "2022-06-07T19:10:18.033Z"
   },
   {
    "duration": 16,
    "start_time": "2022-06-07T19:10:18.161Z"
   },
   {
    "duration": 24,
    "start_time": "2022-06-07T19:10:18.178Z"
   },
   {
    "duration": 32,
    "start_time": "2022-06-07T19:10:18.203Z"
   },
   {
    "duration": 15,
    "start_time": "2022-06-07T19:10:18.236Z"
   },
   {
    "duration": 29,
    "start_time": "2022-06-07T19:10:18.253Z"
   },
   {
    "duration": 105,
    "start_time": "2022-06-07T19:10:18.284Z"
   },
   {
    "duration": 7,
    "start_time": "2022-06-07T19:10:18.390Z"
   },
   {
    "duration": 8,
    "start_time": "2022-06-07T19:10:18.399Z"
   },
   {
    "duration": 19,
    "start_time": "2022-06-07T19:10:18.408Z"
   },
   {
    "duration": 9,
    "start_time": "2022-06-07T19:10:18.429Z"
   },
   {
    "duration": 22,
    "start_time": "2022-06-07T19:10:18.440Z"
   },
   {
    "duration": 13,
    "start_time": "2022-06-07T19:10:18.463Z"
   },
   {
    "duration": 23,
    "start_time": "2022-06-07T19:10:18.478Z"
   },
   {
    "duration": 31,
    "start_time": "2022-06-07T19:10:18.503Z"
   },
   {
    "duration": 9,
    "start_time": "2022-06-07T19:10:18.536Z"
   },
   {
    "duration": 10,
    "start_time": "2022-06-07T19:10:18.546Z"
   },
   {
    "duration": 225,
    "start_time": "2022-06-07T19:10:18.558Z"
   },
   {
    "duration": 189,
    "start_time": "2022-06-07T19:10:18.785Z"
   },
   {
    "duration": 193,
    "start_time": "2022-06-07T19:10:18.976Z"
   },
   {
    "duration": 8,
    "start_time": "2022-06-07T19:10:19.170Z"
   },
   {
    "duration": 4,
    "start_time": "2022-06-07T19:10:19.180Z"
   },
   {
    "duration": 6,
    "start_time": "2022-06-07T19:10:50.767Z"
   },
   {
    "duration": 6,
    "start_time": "2022-06-07T19:10:53.393Z"
   },
   {
    "duration": 6,
    "start_time": "2022-06-07T19:10:55.302Z"
   },
   {
    "duration": 6,
    "start_time": "2022-06-07T19:10:58.722Z"
   },
   {
    "duration": 6,
    "start_time": "2022-06-07T19:11:02.501Z"
   },
   {
    "duration": 5,
    "start_time": "2022-06-07T19:11:04.720Z"
   },
   {
    "duration": 5,
    "start_time": "2022-06-07T19:11:05.370Z"
   },
   {
    "duration": 5,
    "start_time": "2022-06-07T19:59:05.981Z"
   },
   {
    "duration": 5,
    "start_time": "2022-06-07T19:59:20.047Z"
   },
   {
    "duration": 158,
    "start_time": "2022-06-07T20:00:03.783Z"
   },
   {
    "duration": 33,
    "start_time": "2022-06-07T20:00:15.391Z"
   },
   {
    "duration": 21,
    "start_time": "2022-06-07T20:00:17.649Z"
   },
   {
    "duration": 27,
    "start_time": "2022-06-07T20:00:27.949Z"
   },
   {
    "duration": 160,
    "start_time": "2022-06-07T20:00:36.113Z"
   },
   {
    "duration": 160,
    "start_time": "2022-06-07T20:00:48.724Z"
   },
   {
    "duration": 333,
    "start_time": "2022-06-07T20:00:58.248Z"
   },
   {
    "duration": 1493,
    "start_time": "2022-06-07T20:02:31.297Z"
   },
   {
    "duration": 766,
    "start_time": "2022-06-07T20:02:32.792Z"
   },
   {
    "duration": 22,
    "start_time": "2022-06-07T20:02:33.560Z"
   },
   {
    "duration": 18,
    "start_time": "2022-06-07T20:02:33.584Z"
   },
   {
    "duration": 154,
    "start_time": "2022-06-07T20:02:33.604Z"
   },
   {
    "duration": 16,
    "start_time": "2022-06-07T20:02:33.759Z"
   },
   {
    "duration": 12,
    "start_time": "2022-06-07T20:02:33.776Z"
   },
   {
    "duration": 51,
    "start_time": "2022-06-07T20:02:33.790Z"
   },
   {
    "duration": 15,
    "start_time": "2022-06-07T20:02:33.843Z"
   },
   {
    "duration": 19,
    "start_time": "2022-06-07T20:02:33.860Z"
   },
   {
    "duration": 121,
    "start_time": "2022-06-07T20:02:33.881Z"
   },
   {
    "duration": 6,
    "start_time": "2022-06-07T20:02:34.003Z"
   },
   {
    "duration": 17,
    "start_time": "2022-06-07T20:02:34.011Z"
   },
   {
    "duration": 5,
    "start_time": "2022-06-07T20:02:34.029Z"
   },
   {
    "duration": 13,
    "start_time": "2022-06-07T20:02:34.037Z"
   },
   {
    "duration": 16,
    "start_time": "2022-06-07T20:02:34.051Z"
   },
   {
    "duration": 13,
    "start_time": "2022-06-07T20:02:34.069Z"
   },
   {
    "duration": 21,
    "start_time": "2022-06-07T20:02:34.084Z"
   },
   {
    "duration": 23,
    "start_time": "2022-06-07T20:02:34.127Z"
   },
   {
    "duration": 7,
    "start_time": "2022-06-07T20:02:34.152Z"
   },
   {
    "duration": 11,
    "start_time": "2022-06-07T20:02:34.160Z"
   },
   {
    "duration": 243,
    "start_time": "2022-06-07T20:02:34.173Z"
   },
   {
    "duration": 232,
    "start_time": "2022-06-07T20:02:34.417Z"
   },
   {
    "duration": 221,
    "start_time": "2022-06-07T20:02:34.651Z"
   },
   {
    "duration": 5,
    "start_time": "2022-06-07T20:02:34.873Z"
   },
   {
    "duration": 297,
    "start_time": "2022-06-07T20:02:34.879Z"
   },
   {
    "duration": 6,
    "start_time": "2022-06-07T20:02:35.178Z"
   },
   {
    "duration": 157,
    "start_time": "2022-06-07T20:02:35.188Z"
   },
   {
    "duration": 3,
    "start_time": "2022-06-07T20:03:09.690Z"
   },
   {
    "duration": 226,
    "start_time": "2022-06-07T20:03:18.890Z"
   },
   {
    "duration": 235,
    "start_time": "2022-06-07T20:03:33.069Z"
   },
   {
    "duration": 1214,
    "start_time": "2022-06-07T20:03:57.352Z"
   },
   {
    "duration": 711,
    "start_time": "2022-06-07T20:03:58.569Z"
   },
   {
    "duration": 19,
    "start_time": "2022-06-07T20:03:59.282Z"
   },
   {
    "duration": 27,
    "start_time": "2022-06-07T20:03:59.303Z"
   },
   {
    "duration": 127,
    "start_time": "2022-06-07T20:03:59.333Z"
   },
   {
    "duration": 17,
    "start_time": "2022-06-07T20:03:59.462Z"
   },
   {
    "duration": 24,
    "start_time": "2022-06-07T20:03:59.481Z"
   },
   {
    "duration": 41,
    "start_time": "2022-06-07T20:03:59.506Z"
   },
   {
    "duration": 23,
    "start_time": "2022-06-07T20:03:59.549Z"
   },
   {
    "duration": 18,
    "start_time": "2022-06-07T20:03:59.574Z"
   },
   {
    "duration": 120,
    "start_time": "2022-06-07T20:03:59.594Z"
   },
   {
    "duration": 15,
    "start_time": "2022-06-07T20:03:59.716Z"
   },
   {
    "duration": 5,
    "start_time": "2022-06-07T20:03:59.733Z"
   },
   {
    "duration": 12,
    "start_time": "2022-06-07T20:03:59.740Z"
   },
   {
    "duration": 15,
    "start_time": "2022-06-07T20:03:59.754Z"
   },
   {
    "duration": 15,
    "start_time": "2022-06-07T20:03:59.770Z"
   },
   {
    "duration": 12,
    "start_time": "2022-06-07T20:03:59.786Z"
   },
   {
    "duration": 31,
    "start_time": "2022-06-07T20:03:59.800Z"
   },
   {
    "duration": 16,
    "start_time": "2022-06-07T20:03:59.833Z"
   },
   {
    "duration": 7,
    "start_time": "2022-06-07T20:03:59.850Z"
   },
   {
    "duration": 9,
    "start_time": "2022-06-07T20:03:59.859Z"
   },
   {
    "duration": 233,
    "start_time": "2022-06-07T20:03:59.870Z"
   },
   {
    "duration": 199,
    "start_time": "2022-06-07T20:04:00.105Z"
   },
   {
    "duration": 200,
    "start_time": "2022-06-07T20:04:00.306Z"
   },
   {
    "duration": 5,
    "start_time": "2022-06-07T20:04:00.508Z"
   },
   {
    "duration": 256,
    "start_time": "2022-06-07T20:04:00.515Z"
   },
   {
    "duration": 6,
    "start_time": "2022-06-07T20:04:00.772Z"
   },
   {
    "duration": 270,
    "start_time": "2022-06-07T20:04:00.780Z"
   },
   {
    "duration": 266,
    "start_time": "2022-06-07T20:04:01.052Z"
   },
   {
    "duration": 6,
    "start_time": "2022-06-07T20:04:15.971Z"
   },
   {
    "duration": 244,
    "start_time": "2022-06-07T20:05:20.017Z"
   },
   {
    "duration": 142,
    "start_time": "2022-06-07T20:06:13.507Z"
   },
   {
    "duration": 258,
    "start_time": "2022-06-07T20:06:17.786Z"
   },
   {
    "duration": 241,
    "start_time": "2022-06-07T20:08:33.419Z"
   },
   {
    "duration": 238,
    "start_time": "2022-06-07T20:08:43.398Z"
   },
   {
    "duration": 321,
    "start_time": "2022-06-07T20:09:01.391Z"
   },
   {
    "duration": 1583,
    "start_time": "2022-06-08T18:10:10.977Z"
   },
   {
    "duration": 3452,
    "start_time": "2022-06-08T18:10:12.562Z"
   },
   {
    "duration": 21,
    "start_time": "2022-06-08T18:10:16.016Z"
   },
   {
    "duration": 18,
    "start_time": "2022-06-08T18:10:16.039Z"
   },
   {
    "duration": 130,
    "start_time": "2022-06-08T18:10:16.058Z"
   },
   {
    "duration": 16,
    "start_time": "2022-06-08T18:10:16.190Z"
   },
   {
    "duration": 24,
    "start_time": "2022-06-08T18:10:16.207Z"
   },
   {
    "duration": 21,
    "start_time": "2022-06-08T18:10:16.232Z"
   },
   {
    "duration": 15,
    "start_time": "2022-06-08T18:10:16.254Z"
   },
   {
    "duration": 21,
    "start_time": "2022-06-08T18:10:16.273Z"
   },
   {
    "duration": 116,
    "start_time": "2022-06-08T18:10:16.295Z"
   },
   {
    "duration": 17,
    "start_time": "2022-06-08T18:10:16.414Z"
   },
   {
    "duration": 26,
    "start_time": "2022-06-08T18:10:16.433Z"
   },
   {
    "duration": 17,
    "start_time": "2022-06-08T18:10:16.460Z"
   },
   {
    "duration": 10,
    "start_time": "2022-06-08T18:10:16.479Z"
   },
   {
    "duration": 22,
    "start_time": "2022-06-08T18:10:16.491Z"
   },
   {
    "duration": 13,
    "start_time": "2022-06-08T18:10:16.515Z"
   },
   {
    "duration": 22,
    "start_time": "2022-06-08T18:10:16.530Z"
   },
   {
    "duration": 15,
    "start_time": "2022-06-08T18:10:16.554Z"
   },
   {
    "duration": 6,
    "start_time": "2022-06-08T18:10:16.571Z"
   },
   {
    "duration": 11,
    "start_time": "2022-06-08T18:10:16.579Z"
   },
   {
    "duration": 259,
    "start_time": "2022-06-08T18:10:16.591Z"
   },
   {
    "duration": 206,
    "start_time": "2022-06-08T18:10:16.852Z"
   },
   {
    "duration": 207,
    "start_time": "2022-06-08T18:10:17.060Z"
   },
   {
    "duration": 333,
    "start_time": "2022-06-08T18:10:17.270Z"
   },
   {
    "duration": 5,
    "start_time": "2022-06-08T18:10:17.605Z"
   },
   {
    "duration": 22,
    "start_time": "2022-06-08T18:10:17.612Z"
   },
   {
    "duration": 5,
    "start_time": "2022-06-08T18:10:17.637Z"
   },
   {
    "duration": 20,
    "start_time": "2022-06-08T18:10:17.644Z"
   },
   {
    "duration": 268,
    "start_time": "2022-06-08T18:10:17.666Z"
   },
   {
    "duration": 6,
    "start_time": "2022-06-08T18:12:22.743Z"
   },
   {
    "duration": 4,
    "start_time": "2022-06-08T18:12:43.055Z"
   },
   {
    "duration": 6,
    "start_time": "2022-06-08T18:12:55.836Z"
   },
   {
    "duration": 5,
    "start_time": "2022-06-08T18:13:39.359Z"
   },
   {
    "duration": 6,
    "start_time": "2022-06-08T18:14:44.042Z"
   },
   {
    "duration": 5,
    "start_time": "2022-06-08T18:14:52.420Z"
   },
   {
    "duration": 6,
    "start_time": "2022-06-08T18:14:55.478Z"
   },
   {
    "duration": 5,
    "start_time": "2022-06-08T18:14:58.787Z"
   },
   {
    "duration": 7,
    "start_time": "2022-06-08T18:15:00.692Z"
   },
   {
    "duration": 6,
    "start_time": "2022-06-08T18:15:02.662Z"
   },
   {
    "duration": 5,
    "start_time": "2022-06-08T18:15:04.776Z"
   },
   {
    "duration": 6,
    "start_time": "2022-06-08T18:15:07.160Z"
   },
   {
    "duration": 6,
    "start_time": "2022-06-08T18:15:08.913Z"
   },
   {
    "duration": 5,
    "start_time": "2022-06-08T18:15:17.375Z"
   },
   {
    "duration": 178,
    "start_time": "2022-06-08T18:19:07.120Z"
   },
   {
    "duration": 539,
    "start_time": "2022-06-08T18:19:38.989Z"
   },
   {
    "duration": 214,
    "start_time": "2022-06-08T18:19:52.583Z"
   },
   {
    "duration": 3,
    "start_time": "2022-06-08T18:24:00.619Z"
   },
   {
    "duration": 4,
    "start_time": "2022-06-08T18:24:01.161Z"
   },
   {
    "duration": 153,
    "start_time": "2022-06-08T18:24:14.290Z"
   },
   {
    "duration": 3,
    "start_time": "2022-06-08T18:24:21.254Z"
   },
   {
    "duration": 151,
    "start_time": "2022-06-08T18:24:22.712Z"
   },
   {
    "duration": 4,
    "start_time": "2022-06-08T18:24:42.853Z"
   },
   {
    "duration": 140,
    "start_time": "2022-06-08T18:24:44.802Z"
   },
   {
    "duration": 4,
    "start_time": "2022-06-08T18:26:01.963Z"
   },
   {
    "duration": 162,
    "start_time": "2022-06-08T18:26:03.271Z"
   },
   {
    "duration": 3,
    "start_time": "2022-06-08T18:26:12.342Z"
   },
   {
    "duration": 195,
    "start_time": "2022-06-08T18:26:13.392Z"
   },
   {
    "duration": 3,
    "start_time": "2022-06-08T18:26:50.663Z"
   },
   {
    "duration": 284,
    "start_time": "2022-06-08T18:26:51.603Z"
   },
   {
    "duration": 3,
    "start_time": "2022-06-08T18:27:49.521Z"
   },
   {
    "duration": 5,
    "start_time": "2022-06-08T18:27:54.166Z"
   },
   {
    "duration": 3,
    "start_time": "2022-06-08T18:27:54.577Z"
   },
   {
    "duration": 194,
    "start_time": "2022-06-08T18:27:55.247Z"
   },
   {
    "duration": 199,
    "start_time": "2022-06-08T18:28:19.596Z"
   },
   {
    "duration": 9,
    "start_time": "2022-06-08T18:28:20.283Z"
   },
   {
    "duration": 190,
    "start_time": "2022-06-08T18:28:28.071Z"
   },
   {
    "duration": 5,
    "start_time": "2022-06-08T18:40:38.050Z"
   },
   {
    "duration": 5,
    "start_time": "2022-06-08T18:40:45.729Z"
   },
   {
    "duration": 4,
    "start_time": "2022-06-08T18:40:49.151Z"
   },
   {
    "duration": 4,
    "start_time": "2022-06-08T18:40:50.750Z"
   },
   {
    "duration": 6,
    "start_time": "2022-06-08T18:59:34.827Z"
   },
   {
    "duration": 255,
    "start_time": "2022-06-08T18:59:40.527Z"
   },
   {
    "duration": 5,
    "start_time": "2022-06-08T19:04:55.906Z"
   },
   {
    "duration": 12,
    "start_time": "2022-06-08T19:04:56.203Z"
   },
   {
    "duration": 5,
    "start_time": "2022-06-08T19:04:56.470Z"
   },
   {
    "duration": 5,
    "start_time": "2022-06-08T19:04:57.097Z"
   },
   {
    "duration": 5,
    "start_time": "2022-06-08T19:05:47.610Z"
   },
   {
    "duration": 9,
    "start_time": "2022-06-08T19:09:40.385Z"
   },
   {
    "duration": 2,
    "start_time": "2022-06-08T19:09:55.718Z"
   },
   {
    "duration": 492,
    "start_time": "2022-06-08T19:10:10.762Z"
   },
   {
    "duration": 267,
    "start_time": "2022-06-08T19:10:57.216Z"
   },
   {
    "duration": 340,
    "start_time": "2022-06-08T19:11:22.404Z"
   },
   {
    "duration": 362,
    "start_time": "2022-06-08T19:11:43.310Z"
   },
   {
    "duration": 516,
    "start_time": "2022-06-08T19:12:40.734Z"
   },
   {
    "duration": 308,
    "start_time": "2022-06-08T19:12:45.963Z"
   },
   {
    "duration": 407,
    "start_time": "2022-06-08T19:12:49.362Z"
   },
   {
    "duration": 371,
    "start_time": "2022-06-08T19:13:25.331Z"
   },
   {
    "duration": 10,
    "start_time": "2022-06-08T19:13:39.262Z"
   },
   {
    "duration": 7,
    "start_time": "2022-06-08T19:14:02.158Z"
   },
   {
    "duration": 381,
    "start_time": "2022-06-08T19:14:12.789Z"
   },
   {
    "duration": 134,
    "start_time": "2022-06-08T19:14:51.983Z"
   },
   {
    "duration": 184,
    "start_time": "2022-06-08T19:15:04.596Z"
   },
   {
    "duration": 291,
    "start_time": "2022-06-08T19:15:23.937Z"
   },
   {
    "duration": 401,
    "start_time": "2022-06-08T19:15:31.862Z"
   },
   {
    "duration": 242,
    "start_time": "2022-06-08T19:15:42.276Z"
   },
   {
    "duration": 386,
    "start_time": "2022-06-08T19:15:46.754Z"
   },
   {
    "duration": 482,
    "start_time": "2022-06-08T19:15:57.013Z"
   },
   {
    "duration": 405,
    "start_time": "2022-06-08T19:16:03.074Z"
   },
   {
    "duration": 390,
    "start_time": "2022-06-08T19:16:18.163Z"
   },
   {
    "duration": 371,
    "start_time": "2022-06-08T19:16:26.981Z"
   },
   {
    "duration": 236,
    "start_time": "2022-06-08T19:17:40.215Z"
   },
   {
    "duration": 5,
    "start_time": "2022-06-08T19:17:43.923Z"
   },
   {
    "duration": 5,
    "start_time": "2022-06-08T19:17:44.951Z"
   },
   {
    "duration": 475,
    "start_time": "2022-06-08T19:17:46.170Z"
   },
   {
    "duration": 359,
    "start_time": "2022-06-08T19:18:50.192Z"
   },
   {
    "duration": 372,
    "start_time": "2022-06-08T19:19:15.330Z"
   },
   {
    "duration": 475,
    "start_time": "2022-06-08T19:19:23.480Z"
   },
   {
    "duration": 9,
    "start_time": "2022-06-08T19:39:13.455Z"
   },
   {
    "duration": 24,
    "start_time": "2022-06-08T19:39:20.555Z"
   },
   {
    "duration": 9,
    "start_time": "2022-06-08T19:39:24.570Z"
   },
   {
    "duration": 23,
    "start_time": "2022-06-08T19:40:35.410Z"
   },
   {
    "duration": 22,
    "start_time": "2022-06-08T19:40:43.134Z"
   },
   {
    "duration": 1311,
    "start_time": "2022-06-08T21:11:02.760Z"
   },
   {
    "duration": 3140,
    "start_time": "2022-06-08T21:11:04.073Z"
   },
   {
    "duration": 18,
    "start_time": "2022-06-08T21:11:07.215Z"
   },
   {
    "duration": 16,
    "start_time": "2022-06-08T21:11:07.235Z"
   },
   {
    "duration": 120,
    "start_time": "2022-06-08T21:11:07.252Z"
   },
   {
    "duration": 17,
    "start_time": "2022-06-08T21:11:07.374Z"
   },
   {
    "duration": 17,
    "start_time": "2022-06-08T21:11:07.392Z"
   },
   {
    "duration": 35,
    "start_time": "2022-06-08T21:11:07.411Z"
   },
   {
    "duration": 16,
    "start_time": "2022-06-08T21:11:07.448Z"
   },
   {
    "duration": 19,
    "start_time": "2022-06-08T21:11:07.467Z"
   },
   {
    "duration": 123,
    "start_time": "2022-06-08T21:11:07.488Z"
   },
   {
    "duration": 17,
    "start_time": "2022-06-08T21:11:07.613Z"
   },
   {
    "duration": 4,
    "start_time": "2022-06-08T21:11:07.632Z"
   },
   {
    "duration": 8,
    "start_time": "2022-06-08T21:11:07.637Z"
   },
   {
    "duration": 7,
    "start_time": "2022-06-08T21:11:07.646Z"
   },
   {
    "duration": 15,
    "start_time": "2022-06-08T21:11:07.655Z"
   },
   {
    "duration": 20,
    "start_time": "2022-06-08T21:11:07.672Z"
   },
   {
    "duration": 13,
    "start_time": "2022-06-08T21:11:07.694Z"
   },
   {
    "duration": 34,
    "start_time": "2022-06-08T21:11:07.708Z"
   },
   {
    "duration": 17,
    "start_time": "2022-06-08T21:11:07.744Z"
   },
   {
    "duration": 7,
    "start_time": "2022-06-08T21:11:07.762Z"
   },
   {
    "duration": 15,
    "start_time": "2022-06-08T21:11:07.770Z"
   },
   {
    "duration": 4,
    "start_time": "2022-06-08T21:11:07.786Z"
   },
   {
    "duration": 6,
    "start_time": "2022-06-08T21:11:07.791Z"
   },
   {
    "duration": 250,
    "start_time": "2022-06-08T21:11:07.798Z"
   },
   {
    "duration": 249,
    "start_time": "2022-06-08T21:11:08.049Z"
   },
   {
    "duration": 209,
    "start_time": "2022-06-08T21:11:08.299Z"
   },
   {
    "duration": 336,
    "start_time": "2022-06-08T21:11:08.511Z"
   },
   {
    "duration": 5,
    "start_time": "2022-06-08T21:11:08.849Z"
   },
   {
    "duration": 9,
    "start_time": "2022-06-08T21:11:08.856Z"
   },
   {
    "duration": 8,
    "start_time": "2022-06-08T21:11:08.867Z"
   },
   {
    "duration": 9,
    "start_time": "2022-06-08T21:11:08.877Z"
   },
   {
    "duration": 9,
    "start_time": "2022-06-08T21:11:08.888Z"
   },
   {
    "duration": 12,
    "start_time": "2022-06-08T21:11:08.899Z"
   },
   {
    "duration": 379,
    "start_time": "2022-06-08T21:11:08.912Z"
   },
   {
    "duration": 23,
    "start_time": "2022-06-08T21:11:09.293Z"
   },
   {
    "duration": 14,
    "start_time": "2022-06-08T21:11:09.326Z"
   },
   {
    "duration": 1292,
    "start_time": "2022-06-09T18:59:37.741Z"
   },
   {
    "duration": 1686,
    "start_time": "2022-06-09T18:59:39.035Z"
   },
   {
    "duration": 17,
    "start_time": "2022-06-09T18:59:40.723Z"
   },
   {
    "duration": 17,
    "start_time": "2022-06-09T18:59:40.741Z"
   },
   {
    "duration": 121,
    "start_time": "2022-06-09T18:59:40.759Z"
   },
   {
    "duration": 13,
    "start_time": "2022-06-09T18:59:40.882Z"
   },
   {
    "duration": 16,
    "start_time": "2022-06-09T18:59:40.896Z"
   },
   {
    "duration": 28,
    "start_time": "2022-06-09T18:59:40.913Z"
   },
   {
    "duration": 15,
    "start_time": "2022-06-09T18:59:40.943Z"
   },
   {
    "duration": 25,
    "start_time": "2022-06-09T18:59:40.961Z"
   },
   {
    "duration": 92,
    "start_time": "2022-06-09T18:59:40.988Z"
   },
   {
    "duration": 5,
    "start_time": "2022-06-09T18:59:41.082Z"
   },
   {
    "duration": 4,
    "start_time": "2022-06-09T18:59:41.089Z"
   },
   {
    "duration": 6,
    "start_time": "2022-06-09T18:59:41.095Z"
   },
   {
    "duration": 10,
    "start_time": "2022-06-09T18:59:41.102Z"
   },
   {
    "duration": 5,
    "start_time": "2022-06-09T18:59:41.125Z"
   },
   {
    "duration": 16,
    "start_time": "2022-06-09T18:59:41.131Z"
   },
   {
    "duration": 14,
    "start_time": "2022-06-09T18:59:41.149Z"
   },
   {
    "duration": 20,
    "start_time": "2022-06-09T18:59:41.165Z"
   },
   {
    "duration": 15,
    "start_time": "2022-06-09T18:59:41.186Z"
   },
   {
    "duration": 24,
    "start_time": "2022-06-09T18:59:41.203Z"
   },
   {
    "duration": 8,
    "start_time": "2022-06-09T18:59:41.228Z"
   },
   {
    "duration": 3,
    "start_time": "2022-06-09T18:59:41.237Z"
   },
   {
    "duration": 4,
    "start_time": "2022-06-09T18:59:41.241Z"
   },
   {
    "duration": 191,
    "start_time": "2022-06-09T18:59:41.246Z"
   },
   {
    "duration": 198,
    "start_time": "2022-06-09T18:59:41.438Z"
   },
   {
    "duration": 181,
    "start_time": "2022-06-09T18:59:41.637Z"
   },
   {
    "duration": 296,
    "start_time": "2022-06-09T18:59:41.820Z"
   },
   {
    "duration": 8,
    "start_time": "2022-06-09T18:59:42.118Z"
   },
   {
    "duration": 6,
    "start_time": "2022-06-09T18:59:42.127Z"
   },
   {
    "duration": 5,
    "start_time": "2022-06-09T18:59:42.135Z"
   },
   {
    "duration": 5,
    "start_time": "2022-06-09T18:59:42.141Z"
   },
   {
    "duration": 5,
    "start_time": "2022-06-09T18:59:42.147Z"
   },
   {
    "duration": 6,
    "start_time": "2022-06-09T18:59:42.153Z"
   },
   {
    "duration": 369,
    "start_time": "2022-06-09T18:59:42.161Z"
   },
   {
    "duration": 21,
    "start_time": "2022-06-09T18:59:42.531Z"
   },
   {
    "duration": 12,
    "start_time": "2022-06-09T18:59:42.553Z"
   },
   {
    "duration": 3,
    "start_time": "2022-06-09T19:08:45.756Z"
   },
   {
    "duration": 105,
    "start_time": "2022-06-09T19:32:55.221Z"
   },
   {
    "duration": 22,
    "start_time": "2022-06-09T19:33:20.941Z"
   },
   {
    "duration": 19,
    "start_time": "2022-06-09T19:33:24.003Z"
   },
   {
    "duration": 20,
    "start_time": "2022-06-09T19:33:32.415Z"
   },
   {
    "duration": 14,
    "start_time": "2022-06-09T19:33:58.214Z"
   },
   {
    "duration": 14,
    "start_time": "2022-06-09T19:33:59.446Z"
   },
   {
    "duration": 17,
    "start_time": "2022-06-09T19:33:59.789Z"
   },
   {
    "duration": 12,
    "start_time": "2022-06-09T19:40:31.089Z"
   },
   {
    "duration": 18,
    "start_time": "2022-06-09T19:40:51.929Z"
   },
   {
    "duration": 7,
    "start_time": "2022-06-09T19:41:27.540Z"
   },
   {
    "duration": 14,
    "start_time": "2022-06-09T19:41:28.621Z"
   },
   {
    "duration": 6,
    "start_time": "2022-06-09T19:41:28.977Z"
   },
   {
    "duration": 19,
    "start_time": "2022-06-09T19:46:41.738Z"
   },
   {
    "duration": 19,
    "start_time": "2022-06-09T19:47:05.343Z"
   },
   {
    "duration": 10,
    "start_time": "2022-06-09T19:48:03.208Z"
   },
   {
    "duration": 10,
    "start_time": "2022-06-09T19:48:12.135Z"
   },
   {
    "duration": 8,
    "start_time": "2022-06-09T19:48:16.927Z"
   },
   {
    "duration": 123,
    "start_time": "2022-06-09T19:48:20.606Z"
   },
   {
    "duration": 4,
    "start_time": "2022-06-09T19:48:31.222Z"
   },
   {
    "duration": 7,
    "start_time": "2022-06-09T19:48:49.837Z"
   },
   {
    "duration": 25,
    "start_time": "2022-06-09T19:49:36.802Z"
   },
   {
    "duration": 6,
    "start_time": "2022-06-09T19:49:37.175Z"
   },
   {
    "duration": 6,
    "start_time": "2022-06-09T19:51:22.933Z"
   },
   {
    "duration": 6,
    "start_time": "2022-06-09T19:52:35.303Z"
   },
   {
    "duration": 15,
    "start_time": "2022-06-09T19:53:09.234Z"
   },
   {
    "duration": 8,
    "start_time": "2022-06-09T19:53:13.479Z"
   },
   {
    "duration": 8,
    "start_time": "2022-06-09T19:54:12.677Z"
   },
   {
    "duration": 10,
    "start_time": "2022-06-09T19:54:13.416Z"
   },
   {
    "duration": 4,
    "start_time": "2022-06-09T19:54:26.107Z"
   },
   {
    "duration": 1420,
    "start_time": "2022-06-11T13:22:04.884Z"
   },
   {
    "duration": 6,
    "start_time": "2022-06-11T13:22:15.464Z"
   },
   {
    "duration": 14,
    "start_time": "2022-06-11T13:25:37.264Z"
   },
   {
    "duration": 6,
    "start_time": "2022-06-11T13:26:07.233Z"
   },
   {
    "duration": 1152,
    "start_time": "2022-06-11T13:26:13.296Z"
   },
   {
    "duration": 2912,
    "start_time": "2022-06-11T13:26:14.450Z"
   },
   {
    "duration": 32,
    "start_time": "2022-06-11T13:26:17.364Z"
   },
   {
    "duration": 20,
    "start_time": "2022-06-11T13:26:17.399Z"
   },
   {
    "duration": 151,
    "start_time": "2022-06-11T13:26:17.421Z"
   },
   {
    "duration": 20,
    "start_time": "2022-06-11T13:26:17.574Z"
   },
   {
    "duration": 16,
    "start_time": "2022-06-11T13:26:17.596Z"
   },
   {
    "duration": 20,
    "start_time": "2022-06-11T13:26:17.613Z"
   },
   {
    "duration": 16,
    "start_time": "2022-06-11T13:26:17.659Z"
   },
   {
    "duration": 21,
    "start_time": "2022-06-11T13:26:17.678Z"
   },
   {
    "duration": 108,
    "start_time": "2022-06-11T13:26:17.701Z"
   },
   {
    "duration": 6,
    "start_time": "2022-06-11T13:26:17.811Z"
   },
   {
    "duration": 6,
    "start_time": "2022-06-11T13:26:17.818Z"
   },
   {
    "duration": 8,
    "start_time": "2022-06-11T13:26:17.826Z"
   },
   {
    "duration": 10,
    "start_time": "2022-06-11T13:26:17.836Z"
   },
   {
    "duration": 5,
    "start_time": "2022-06-11T13:26:17.859Z"
   },
   {
    "duration": 16,
    "start_time": "2022-06-11T13:26:17.865Z"
   },
   {
    "duration": 13,
    "start_time": "2022-06-11T13:26:17.882Z"
   },
   {
    "duration": 24,
    "start_time": "2022-06-11T13:26:17.898Z"
   },
   {
    "duration": 41,
    "start_time": "2022-06-11T13:26:17.924Z"
   },
   {
    "duration": 7,
    "start_time": "2022-06-11T13:26:17.967Z"
   },
   {
    "duration": 9,
    "start_time": "2022-06-11T13:26:17.976Z"
   },
   {
    "duration": 3,
    "start_time": "2022-06-11T13:26:17.987Z"
   },
   {
    "duration": 13,
    "start_time": "2022-06-11T13:26:17.991Z"
   },
   {
    "duration": 221,
    "start_time": "2022-06-11T13:26:18.005Z"
   },
   {
    "duration": 199,
    "start_time": "2022-06-11T13:26:18.228Z"
   },
   {
    "duration": 205,
    "start_time": "2022-06-11T13:26:18.429Z"
   },
   {
    "duration": 308,
    "start_time": "2022-06-11T13:26:18.637Z"
   },
   {
    "duration": 12,
    "start_time": "2022-06-11T13:26:18.947Z"
   },
   {
    "duration": 4,
    "start_time": "2022-06-11T13:26:18.961Z"
   },
   {
    "duration": 10,
    "start_time": "2022-06-11T13:26:18.966Z"
   },
   {
    "duration": 7,
    "start_time": "2022-06-11T13:26:18.977Z"
   },
   {
    "duration": 6,
    "start_time": "2022-06-11T13:26:18.986Z"
   },
   {
    "duration": 10,
    "start_time": "2022-06-11T13:26:18.994Z"
   },
   {
    "duration": 369,
    "start_time": "2022-06-11T13:26:19.005Z"
   },
   {
    "duration": 21,
    "start_time": "2022-06-11T13:26:19.375Z"
   },
   {
    "duration": 13,
    "start_time": "2022-06-11T13:26:19.397Z"
   },
   {
    "duration": 118,
    "start_time": "2022-06-11T13:26:19.412Z"
   },
   {
    "duration": 0,
    "start_time": "2022-06-11T13:26:19.532Z"
   },
   {
    "duration": 0,
    "start_time": "2022-06-11T13:26:19.533Z"
   },
   {
    "duration": 0,
    "start_time": "2022-06-11T13:26:19.534Z"
   },
   {
    "duration": 0,
    "start_time": "2022-06-11T13:26:19.535Z"
   },
   {
    "duration": 0,
    "start_time": "2022-06-11T13:26:19.536Z"
   },
   {
    "duration": 0,
    "start_time": "2022-06-11T13:26:19.538Z"
   },
   {
    "duration": 0,
    "start_time": "2022-06-11T13:26:19.539Z"
   },
   {
    "duration": 0,
    "start_time": "2022-06-11T13:26:19.540Z"
   },
   {
    "duration": 5,
    "start_time": "2022-06-11T13:26:52.409Z"
   },
   {
    "duration": 1143,
    "start_time": "2022-06-11T13:33:34.811Z"
   },
   {
    "duration": 617,
    "start_time": "2022-06-11T13:33:35.956Z"
   },
   {
    "duration": 18,
    "start_time": "2022-06-11T13:33:36.577Z"
   },
   {
    "duration": 39,
    "start_time": "2022-06-11T13:33:36.596Z"
   },
   {
    "duration": 117,
    "start_time": "2022-06-11T13:33:36.636Z"
   },
   {
    "duration": 14,
    "start_time": "2022-06-11T13:33:36.755Z"
   },
   {
    "duration": 45,
    "start_time": "2022-06-11T13:33:36.771Z"
   },
   {
    "duration": 35,
    "start_time": "2022-06-11T13:33:36.818Z"
   },
   {
    "duration": 21,
    "start_time": "2022-06-11T13:33:36.856Z"
   },
   {
    "duration": 30,
    "start_time": "2022-06-11T13:33:36.879Z"
   },
   {
    "duration": 93,
    "start_time": "2022-06-11T13:33:36.911Z"
   },
   {
    "duration": 7,
    "start_time": "2022-06-11T13:33:37.006Z"
   },
   {
    "duration": 11,
    "start_time": "2022-06-11T13:33:37.014Z"
   },
   {
    "duration": 8,
    "start_time": "2022-06-11T13:33:37.026Z"
   },
   {
    "duration": 12,
    "start_time": "2022-06-11T13:33:37.035Z"
   },
   {
    "duration": 11,
    "start_time": "2022-06-11T13:33:37.048Z"
   },
   {
    "duration": 14,
    "start_time": "2022-06-11T13:33:37.060Z"
   },
   {
    "duration": 13,
    "start_time": "2022-06-11T13:33:37.075Z"
   },
   {
    "duration": 19,
    "start_time": "2022-06-11T13:33:37.089Z"
   },
   {
    "duration": 18,
    "start_time": "2022-06-11T13:33:37.110Z"
   },
   {
    "duration": 32,
    "start_time": "2022-06-11T13:33:37.130Z"
   },
   {
    "duration": 13,
    "start_time": "2022-06-11T13:33:37.164Z"
   },
   {
    "duration": 14,
    "start_time": "2022-06-11T13:33:37.179Z"
   },
   {
    "duration": 9,
    "start_time": "2022-06-11T13:33:37.195Z"
   },
   {
    "duration": 234,
    "start_time": "2022-06-11T13:33:37.205Z"
   },
   {
    "duration": 197,
    "start_time": "2022-06-11T13:33:37.441Z"
   },
   {
    "duration": 188,
    "start_time": "2022-06-11T13:33:37.641Z"
   },
   {
    "duration": 306,
    "start_time": "2022-06-11T13:33:37.831Z"
   },
   {
    "duration": 5,
    "start_time": "2022-06-11T13:33:38.139Z"
   },
   {
    "duration": 13,
    "start_time": "2022-06-11T13:33:38.146Z"
   },
   {
    "duration": 7,
    "start_time": "2022-06-11T13:33:38.161Z"
   },
   {
    "duration": 9,
    "start_time": "2022-06-11T13:33:38.169Z"
   },
   {
    "duration": 9,
    "start_time": "2022-06-11T13:33:38.179Z"
   },
   {
    "duration": 7,
    "start_time": "2022-06-11T13:33:38.190Z"
   },
   {
    "duration": 382,
    "start_time": "2022-06-11T13:33:38.199Z"
   },
   {
    "duration": 21,
    "start_time": "2022-06-11T13:33:38.582Z"
   },
   {
    "duration": 22,
    "start_time": "2022-06-11T13:33:38.605Z"
   },
   {
    "duration": 4,
    "start_time": "2022-06-11T13:33:38.629Z"
   },
   {
    "duration": 29,
    "start_time": "2022-06-11T13:33:38.634Z"
   },
   {
    "duration": 127,
    "start_time": "2022-06-11T13:33:38.664Z"
   },
   {
    "duration": 0,
    "start_time": "2022-06-11T13:33:38.792Z"
   },
   {
    "duration": 0,
    "start_time": "2022-06-11T13:33:38.794Z"
   },
   {
    "duration": 0,
    "start_time": "2022-06-11T13:33:38.795Z"
   },
   {
    "duration": 0,
    "start_time": "2022-06-11T13:33:38.797Z"
   },
   {
    "duration": 0,
    "start_time": "2022-06-11T13:33:38.798Z"
   },
   {
    "duration": 0,
    "start_time": "2022-06-11T13:33:38.799Z"
   },
   {
    "duration": 1170,
    "start_time": "2022-06-11T13:40:21.287Z"
   },
   {
    "duration": 668,
    "start_time": "2022-06-11T13:40:22.459Z"
   },
   {
    "duration": 19,
    "start_time": "2022-06-11T13:40:23.128Z"
   },
   {
    "duration": 16,
    "start_time": "2022-06-11T13:40:23.159Z"
   },
   {
    "duration": 140,
    "start_time": "2022-06-11T13:40:23.178Z"
   },
   {
    "duration": 14,
    "start_time": "2022-06-11T13:40:23.320Z"
   },
   {
    "duration": 25,
    "start_time": "2022-06-11T13:40:23.336Z"
   },
   {
    "duration": 19,
    "start_time": "2022-06-11T13:40:23.363Z"
   },
   {
    "duration": 23,
    "start_time": "2022-06-11T13:40:23.384Z"
   },
   {
    "duration": 20,
    "start_time": "2022-06-11T13:40:23.409Z"
   },
   {
    "duration": 104,
    "start_time": "2022-06-11T13:40:23.459Z"
   },
   {
    "duration": 8,
    "start_time": "2022-06-11T13:40:23.568Z"
   },
   {
    "duration": 4,
    "start_time": "2022-06-11T13:40:23.578Z"
   },
   {
    "duration": 7,
    "start_time": "2022-06-11T13:40:23.585Z"
   },
   {
    "duration": 5,
    "start_time": "2022-06-11T13:40:23.594Z"
   },
   {
    "duration": 4,
    "start_time": "2022-06-11T13:40:23.601Z"
   },
   {
    "duration": 15,
    "start_time": "2022-06-11T13:40:23.607Z"
   },
   {
    "duration": 45,
    "start_time": "2022-06-11T13:40:23.623Z"
   },
   {
    "duration": 17,
    "start_time": "2022-06-11T13:40:23.669Z"
   },
   {
    "duration": 16,
    "start_time": "2022-06-11T13:40:23.688Z"
   },
   {
    "duration": 12,
    "start_time": "2022-06-11T13:40:23.706Z"
   },
   {
    "duration": 40,
    "start_time": "2022-06-11T13:40:23.722Z"
   },
   {
    "duration": 4,
    "start_time": "2022-06-11T13:40:23.763Z"
   },
   {
    "duration": 9,
    "start_time": "2022-06-11T13:40:23.769Z"
   },
   {
    "duration": 222,
    "start_time": "2022-06-11T13:40:23.779Z"
   },
   {
    "duration": 202,
    "start_time": "2022-06-11T13:40:24.003Z"
   },
   {
    "duration": 204,
    "start_time": "2022-06-11T13:40:24.206Z"
   },
   {
    "duration": 314,
    "start_time": "2022-06-11T13:40:24.411Z"
   },
   {
    "duration": 6,
    "start_time": "2022-06-11T13:40:24.728Z"
   },
   {
    "duration": 25,
    "start_time": "2022-06-11T13:40:24.735Z"
   },
   {
    "duration": 6,
    "start_time": "2022-06-11T13:40:24.762Z"
   },
   {
    "duration": 24,
    "start_time": "2022-06-11T13:40:24.770Z"
   },
   {
    "duration": 6,
    "start_time": "2022-06-11T13:40:24.795Z"
   },
   {
    "duration": 7,
    "start_time": "2022-06-11T13:40:24.803Z"
   },
   {
    "duration": 391,
    "start_time": "2022-06-11T13:40:24.811Z"
   },
   {
    "duration": 23,
    "start_time": "2022-06-11T13:40:25.203Z"
   },
   {
    "duration": 15,
    "start_time": "2022-06-11T13:40:25.227Z"
   },
   {
    "duration": 4,
    "start_time": "2022-06-11T13:40:25.259Z"
   },
   {
    "duration": 23,
    "start_time": "2022-06-11T13:40:25.264Z"
   },
   {
    "duration": 11,
    "start_time": "2022-06-11T13:40:25.288Z"
   },
   {
    "duration": 17,
    "start_time": "2022-06-11T13:40:25.303Z"
   },
   {
    "duration": 46,
    "start_time": "2022-06-11T13:40:25.321Z"
   },
   {
    "duration": 20,
    "start_time": "2022-06-11T13:40:25.369Z"
   },
   {
    "duration": 370,
    "start_time": "2022-06-11T13:40:25.390Z"
   },
   {
    "duration": 97,
    "start_time": "2022-06-11T13:40:25.762Z"
   },
   {
    "duration": 100,
    "start_time": "2022-06-11T13:40:25.862Z"
   },
   {
    "duration": 1366,
    "start_time": "2022-06-12T07:55:24.480Z"
   },
   {
    "duration": 3380,
    "start_time": "2022-06-12T07:55:25.848Z"
   },
   {
    "duration": 29,
    "start_time": "2022-06-12T07:55:29.234Z"
   },
   {
    "duration": 18,
    "start_time": "2022-06-12T07:55:29.265Z"
   },
   {
    "duration": 134,
    "start_time": "2022-06-12T07:55:29.285Z"
   },
   {
    "duration": 26,
    "start_time": "2022-06-12T07:55:29.430Z"
   },
   {
    "duration": 20,
    "start_time": "2022-06-12T07:55:29.458Z"
   },
   {
    "duration": 31,
    "start_time": "2022-06-12T07:55:29.479Z"
   },
   {
    "duration": 26,
    "start_time": "2022-06-12T07:55:29.529Z"
   },
   {
    "duration": 19,
    "start_time": "2022-06-12T07:55:29.557Z"
   },
   {
    "duration": 108,
    "start_time": "2022-06-12T07:55:29.578Z"
   },
   {
    "duration": 7,
    "start_time": "2022-06-12T07:55:29.687Z"
   },
   {
    "duration": 8,
    "start_time": "2022-06-12T07:55:29.696Z"
   },
   {
    "duration": 33,
    "start_time": "2022-06-12T07:55:29.707Z"
   },
   {
    "duration": 23,
    "start_time": "2022-06-12T07:55:29.742Z"
   },
   {
    "duration": 9,
    "start_time": "2022-06-12T07:55:29.767Z"
   },
   {
    "duration": 21,
    "start_time": "2022-06-12T07:55:29.778Z"
   },
   {
    "duration": 19,
    "start_time": "2022-06-12T07:55:29.801Z"
   },
   {
    "duration": 34,
    "start_time": "2022-06-12T07:55:29.822Z"
   },
   {
    "duration": 23,
    "start_time": "2022-06-12T07:55:29.858Z"
   },
   {
    "duration": 6,
    "start_time": "2022-06-12T07:55:29.882Z"
   },
   {
    "duration": 12,
    "start_time": "2022-06-12T07:55:29.889Z"
   },
   {
    "duration": 4,
    "start_time": "2022-06-12T07:55:29.902Z"
   },
   {
    "duration": 32,
    "start_time": "2022-06-12T07:55:29.908Z"
   },
   {
    "duration": 254,
    "start_time": "2022-06-12T07:55:29.946Z"
   },
   {
    "duration": 246,
    "start_time": "2022-06-12T07:55:30.201Z"
   },
   {
    "duration": 256,
    "start_time": "2022-06-12T07:55:30.451Z"
   },
   {
    "duration": 336,
    "start_time": "2022-06-12T07:55:30.709Z"
   },
   {
    "duration": 4,
    "start_time": "2022-06-12T07:55:31.047Z"
   },
   {
    "duration": 30,
    "start_time": "2022-06-12T07:55:31.053Z"
   },
   {
    "duration": 15,
    "start_time": "2022-06-12T07:55:31.085Z"
   },
   {
    "duration": 7,
    "start_time": "2022-06-12T07:55:31.101Z"
   },
   {
    "duration": 9,
    "start_time": "2022-06-12T07:55:31.110Z"
   },
   {
    "duration": 8,
    "start_time": "2022-06-12T07:55:31.121Z"
   },
   {
    "duration": 384,
    "start_time": "2022-06-12T07:55:31.138Z"
   },
   {
    "duration": 26,
    "start_time": "2022-06-12T07:55:31.526Z"
   },
   {
    "duration": 21,
    "start_time": "2022-06-12T07:55:31.554Z"
   },
   {
    "duration": 10,
    "start_time": "2022-06-12T07:55:31.577Z"
   },
   {
    "duration": 30,
    "start_time": "2022-06-12T07:55:31.588Z"
   },
   {
    "duration": 19,
    "start_time": "2022-06-12T07:55:31.620Z"
   },
   {
    "duration": 15,
    "start_time": "2022-06-12T07:55:31.642Z"
   },
   {
    "duration": 32,
    "start_time": "2022-06-12T07:55:31.659Z"
   },
   {
    "duration": 19,
    "start_time": "2022-06-12T07:55:31.693Z"
   },
   {
    "duration": 924,
    "start_time": "2022-06-12T07:55:31.714Z"
   },
   {
    "duration": 94,
    "start_time": "2022-06-12T07:55:32.641Z"
   },
   {
    "duration": 9,
    "start_time": "2022-06-12T07:55:32.741Z"
   },
   {
    "duration": 146,
    "start_time": "2022-06-12T07:57:50.485Z"
   },
   {
    "duration": 8,
    "start_time": "2022-06-12T07:58:05.322Z"
   },
   {
    "duration": 1261,
    "start_time": "2022-06-12T07:58:09.379Z"
   },
   {
    "duration": 723,
    "start_time": "2022-06-12T07:58:10.642Z"
   },
   {
    "duration": 19,
    "start_time": "2022-06-12T07:58:11.367Z"
   },
   {
    "duration": 16,
    "start_time": "2022-06-12T07:58:11.388Z"
   },
   {
    "duration": 159,
    "start_time": "2022-06-12T07:58:11.406Z"
   },
   {
    "duration": 15,
    "start_time": "2022-06-12T07:58:11.567Z"
   },
   {
    "duration": 18,
    "start_time": "2022-06-12T07:58:11.583Z"
   },
   {
    "duration": 41,
    "start_time": "2022-06-12T07:58:11.602Z"
   },
   {
    "duration": 18,
    "start_time": "2022-06-12T07:58:11.644Z"
   },
   {
    "duration": 16,
    "start_time": "2022-06-12T07:58:11.665Z"
   },
   {
    "duration": 129,
    "start_time": "2022-06-12T07:58:11.683Z"
   },
   {
    "duration": 20,
    "start_time": "2022-06-12T07:58:11.815Z"
   },
   {
    "duration": 7,
    "start_time": "2022-06-12T07:58:11.841Z"
   },
   {
    "duration": 9,
    "start_time": "2022-06-12T07:58:11.850Z"
   },
   {
    "duration": 8,
    "start_time": "2022-06-12T07:58:11.861Z"
   },
   {
    "duration": 8,
    "start_time": "2022-06-12T07:58:11.871Z"
   },
   {
    "duration": 14,
    "start_time": "2022-06-12T07:58:11.881Z"
   },
   {
    "duration": 13,
    "start_time": "2022-06-12T07:58:11.897Z"
   },
   {
    "duration": 27,
    "start_time": "2022-06-12T07:58:11.911Z"
   },
   {
    "duration": 24,
    "start_time": "2022-06-12T07:58:11.942Z"
   },
   {
    "duration": 7,
    "start_time": "2022-06-12T07:58:11.968Z"
   },
   {
    "duration": 10,
    "start_time": "2022-06-12T07:58:11.977Z"
   },
   {
    "duration": 4,
    "start_time": "2022-06-12T07:58:11.988Z"
   },
   {
    "duration": 10,
    "start_time": "2022-06-12T07:58:11.993Z"
   },
   {
    "duration": 245,
    "start_time": "2022-06-12T07:58:12.004Z"
   },
   {
    "duration": 219,
    "start_time": "2022-06-12T07:58:12.251Z"
   },
   {
    "duration": 208,
    "start_time": "2022-06-12T07:58:12.471Z"
   },
   {
    "duration": 336,
    "start_time": "2022-06-12T07:58:12.682Z"
   },
   {
    "duration": 7,
    "start_time": "2022-06-12T07:58:13.020Z"
   },
   {
    "duration": 21,
    "start_time": "2022-06-12T07:58:13.030Z"
   },
   {
    "duration": 7,
    "start_time": "2022-06-12T07:58:13.052Z"
   },
   {
    "duration": 8,
    "start_time": "2022-06-12T07:58:13.061Z"
   },
   {
    "duration": 8,
    "start_time": "2022-06-12T07:58:13.070Z"
   },
   {
    "duration": 7,
    "start_time": "2022-06-12T07:58:13.080Z"
   },
   {
    "duration": 405,
    "start_time": "2022-06-12T07:58:13.089Z"
   },
   {
    "duration": 37,
    "start_time": "2022-06-12T07:58:13.495Z"
   },
   {
    "duration": 16,
    "start_time": "2022-06-12T07:58:13.538Z"
   },
   {
    "duration": 5,
    "start_time": "2022-06-12T07:58:13.556Z"
   },
   {
    "duration": 24,
    "start_time": "2022-06-12T07:58:13.562Z"
   },
   {
    "duration": 10,
    "start_time": "2022-06-12T07:58:13.588Z"
   },
   {
    "duration": 12,
    "start_time": "2022-06-12T07:58:13.599Z"
   },
   {
    "duration": 52,
    "start_time": "2022-06-12T07:58:13.613Z"
   },
   {
    "duration": 18,
    "start_time": "2022-06-12T07:58:13.667Z"
   },
   {
    "duration": 845,
    "start_time": "2022-06-12T07:58:13.687Z"
   },
   {
    "duration": 19,
    "start_time": "2022-06-12T07:58:14.543Z"
   },
   {
    "duration": 118,
    "start_time": "2022-06-12T07:58:14.636Z"
   },
   {
    "duration": 143,
    "start_time": "2022-06-12T08:06:13.798Z"
   },
   {
    "duration": 544,
    "start_time": "2022-06-12T08:07:22.599Z"
   },
   {
    "duration": 5,
    "start_time": "2022-06-12T08:07:23.599Z"
   },
   {
    "duration": 2168,
    "start_time": "2022-06-12T08:07:23.968Z"
   },
   {
    "duration": 1283,
    "start_time": "2022-06-12T08:07:31.586Z"
   },
   {
    "duration": 742,
    "start_time": "2022-06-12T08:07:32.871Z"
   },
   {
    "duration": 26,
    "start_time": "2022-06-12T08:07:33.614Z"
   },
   {
    "duration": 20,
    "start_time": "2022-06-12T08:07:33.644Z"
   },
   {
    "duration": 136,
    "start_time": "2022-06-12T08:07:33.667Z"
   },
   {
    "duration": 30,
    "start_time": "2022-06-12T08:07:33.806Z"
   },
   {
    "duration": 25,
    "start_time": "2022-06-12T08:07:33.838Z"
   },
   {
    "duration": 21,
    "start_time": "2022-06-12T08:07:33.864Z"
   },
   {
    "duration": 19,
    "start_time": "2022-06-12T08:07:33.888Z"
   },
   {
    "duration": 20,
    "start_time": "2022-06-12T08:07:33.934Z"
   },
   {
    "duration": 102,
    "start_time": "2022-06-12T08:07:33.956Z"
   },
   {
    "duration": 6,
    "start_time": "2022-06-12T08:07:34.060Z"
   },
   {
    "duration": 9,
    "start_time": "2022-06-12T08:07:34.067Z"
   },
   {
    "duration": 8,
    "start_time": "2022-06-12T08:07:34.077Z"
   },
   {
    "duration": 18,
    "start_time": "2022-06-12T08:07:34.086Z"
   },
   {
    "duration": 11,
    "start_time": "2022-06-12T08:07:34.106Z"
   },
   {
    "duration": 18,
    "start_time": "2022-06-12T08:07:34.126Z"
   },
   {
    "duration": 16,
    "start_time": "2022-06-12T08:07:34.146Z"
   },
   {
    "duration": 22,
    "start_time": "2022-06-12T08:07:34.164Z"
   },
   {
    "duration": 17,
    "start_time": "2022-06-12T08:07:34.187Z"
   },
   {
    "duration": 34,
    "start_time": "2022-06-12T08:07:34.206Z"
   },
   {
    "duration": 14,
    "start_time": "2022-06-12T08:07:34.242Z"
   },
   {
    "duration": 9,
    "start_time": "2022-06-12T08:07:34.257Z"
   },
   {
    "duration": 5,
    "start_time": "2022-06-12T08:07:34.268Z"
   },
   {
    "duration": 217,
    "start_time": "2022-06-12T08:07:34.275Z"
   },
   {
    "duration": 224,
    "start_time": "2022-06-12T08:07:34.494Z"
   },
   {
    "duration": 248,
    "start_time": "2022-06-12T08:07:34.720Z"
   },
   {
    "duration": 369,
    "start_time": "2022-06-12T08:07:34.972Z"
   },
   {
    "duration": 4,
    "start_time": "2022-06-12T08:07:35.343Z"
   },
   {
    "duration": 11,
    "start_time": "2022-06-12T08:07:35.349Z"
   },
   {
    "duration": 7,
    "start_time": "2022-06-12T08:07:35.362Z"
   },
   {
    "duration": 9,
    "start_time": "2022-06-12T08:07:35.370Z"
   },
   {
    "duration": 7,
    "start_time": "2022-06-12T08:07:35.381Z"
   },
   {
    "duration": 14,
    "start_time": "2022-06-12T08:07:35.390Z"
   },
   {
    "duration": 406,
    "start_time": "2022-06-12T08:07:35.405Z"
   },
   {
    "duration": 33,
    "start_time": "2022-06-12T08:07:35.813Z"
   },
   {
    "duration": 15,
    "start_time": "2022-06-12T08:07:35.848Z"
   },
   {
    "duration": 4,
    "start_time": "2022-06-12T08:07:35.864Z"
   },
   {
    "duration": 21,
    "start_time": "2022-06-12T08:07:35.869Z"
   },
   {
    "duration": 10,
    "start_time": "2022-06-12T08:07:35.892Z"
   },
   {
    "duration": 38,
    "start_time": "2022-06-12T08:07:35.904Z"
   },
   {
    "duration": 29,
    "start_time": "2022-06-12T08:07:35.943Z"
   },
   {
    "duration": 22,
    "start_time": "2022-06-12T08:07:35.973Z"
   },
   {
    "duration": 834,
    "start_time": "2022-06-12T08:07:35.996Z"
   },
   {
    "duration": 10,
    "start_time": "2022-06-12T08:07:36.838Z"
   },
   {
    "duration": 1682,
    "start_time": "2022-06-12T08:07:36.850Z"
   },
   {
    "duration": 818,
    "start_time": "2022-06-12T08:07:38.534Z"
   },
   {
    "duration": 7,
    "start_time": "2022-06-12T08:07:39.357Z"
   },
   {
    "duration": 1962,
    "start_time": "2022-06-12T08:07:39.367Z"
   },
   {
    "duration": 123,
    "start_time": "2022-06-12T08:11:15.738Z"
   },
   {
    "duration": 14,
    "start_time": "2022-06-12T08:12:40.521Z"
   },
   {
    "duration": 10,
    "start_time": "2022-06-12T08:12:43.716Z"
   },
   {
    "duration": 8,
    "start_time": "2022-06-12T08:12:58.261Z"
   },
   {
    "duration": 26,
    "start_time": "2022-06-12T08:12:59.629Z"
   },
   {
    "duration": 5,
    "start_time": "2022-06-12T08:14:07.805Z"
   },
   {
    "duration": 5,
    "start_time": "2022-06-12T08:14:08.461Z"
   },
   {
    "duration": 17,
    "start_time": "2022-06-12T08:14:24.612Z"
   },
   {
    "duration": 78,
    "start_time": "2022-06-12T08:16:14.854Z"
   },
   {
    "duration": 24,
    "start_time": "2022-06-12T08:17:29.955Z"
   },
   {
    "duration": 22,
    "start_time": "2022-06-12T08:17:30.297Z"
   },
   {
    "duration": 1282,
    "start_time": "2022-06-12T08:17:33.772Z"
   },
   {
    "duration": 712,
    "start_time": "2022-06-12T08:17:35.056Z"
   },
   {
    "duration": 19,
    "start_time": "2022-06-12T08:17:35.772Z"
   },
   {
    "duration": 46,
    "start_time": "2022-06-12T08:17:35.792Z"
   },
   {
    "duration": 127,
    "start_time": "2022-06-12T08:17:35.839Z"
   },
   {
    "duration": 15,
    "start_time": "2022-06-12T08:17:35.967Z"
   },
   {
    "duration": 55,
    "start_time": "2022-06-12T08:17:35.984Z"
   },
   {
    "duration": 44,
    "start_time": "2022-06-12T08:17:36.040Z"
   },
   {
    "duration": 22,
    "start_time": "2022-06-12T08:17:36.087Z"
   },
   {
    "duration": 42,
    "start_time": "2022-06-12T08:17:36.110Z"
   },
   {
    "duration": 148,
    "start_time": "2022-06-12T08:17:36.153Z"
   },
   {
    "duration": 8,
    "start_time": "2022-06-12T08:17:36.303Z"
   },
   {
    "duration": 42,
    "start_time": "2022-06-12T08:17:36.313Z"
   },
   {
    "duration": 22,
    "start_time": "2022-06-12T08:17:36.358Z"
   },
   {
    "duration": 25,
    "start_time": "2022-06-12T08:17:36.382Z"
   },
   {
    "duration": 17,
    "start_time": "2022-06-12T08:17:36.409Z"
   },
   {
    "duration": 37,
    "start_time": "2022-06-12T08:17:36.441Z"
   },
   {
    "duration": 40,
    "start_time": "2022-06-12T08:17:36.480Z"
   },
   {
    "duration": 57,
    "start_time": "2022-06-12T08:17:36.522Z"
   },
   {
    "duration": 34,
    "start_time": "2022-06-12T08:17:36.581Z"
   },
   {
    "duration": 6,
    "start_time": "2022-06-12T08:17:36.617Z"
   },
   {
    "duration": 27,
    "start_time": "2022-06-12T08:17:36.625Z"
   },
   {
    "duration": 6,
    "start_time": "2022-06-12T08:17:36.653Z"
   },
   {
    "duration": 14,
    "start_time": "2022-06-12T08:17:36.661Z"
   },
   {
    "duration": 251,
    "start_time": "2022-06-12T08:17:36.676Z"
   },
   {
    "duration": 252,
    "start_time": "2022-06-12T08:17:36.929Z"
   },
   {
    "duration": 213,
    "start_time": "2022-06-12T08:17:37.185Z"
   },
   {
    "duration": 368,
    "start_time": "2022-06-12T08:17:37.399Z"
   },
   {
    "duration": 4,
    "start_time": "2022-06-12T08:17:37.770Z"
   },
   {
    "duration": 17,
    "start_time": "2022-06-12T08:17:37.776Z"
   },
   {
    "duration": 8,
    "start_time": "2022-06-12T08:17:37.795Z"
   },
   {
    "duration": 13,
    "start_time": "2022-06-12T08:17:37.805Z"
   },
   {
    "duration": 24,
    "start_time": "2022-06-12T08:17:37.820Z"
   },
   {
    "duration": 20,
    "start_time": "2022-06-12T08:17:37.845Z"
   },
   {
    "duration": 401,
    "start_time": "2022-06-12T08:17:37.866Z"
   },
   {
    "duration": 31,
    "start_time": "2022-06-12T08:17:38.269Z"
   },
   {
    "duration": 41,
    "start_time": "2022-06-12T08:17:38.302Z"
   },
   {
    "duration": 4,
    "start_time": "2022-06-12T08:17:38.345Z"
   },
   {
    "duration": 22,
    "start_time": "2022-06-12T08:17:38.350Z"
   },
   {
    "duration": 9,
    "start_time": "2022-06-12T08:17:38.374Z"
   },
   {
    "duration": 14,
    "start_time": "2022-06-12T08:17:38.384Z"
   },
   {
    "duration": 42,
    "start_time": "2022-06-12T08:17:38.400Z"
   },
   {
    "duration": 35,
    "start_time": "2022-06-12T08:17:38.444Z"
   },
   {
    "duration": 763,
    "start_time": "2022-06-12T08:17:38.481Z"
   },
   {
    "duration": 1497,
    "start_time": "2022-06-12T08:17:39.246Z"
   },
   {
    "duration": 296,
    "start_time": "2022-06-12T08:17:40.745Z"
   },
   {
    "duration": 1488,
    "start_time": "2022-06-12T08:17:41.043Z"
   },
   {
    "duration": 12,
    "start_time": "2022-06-12T08:17:42.538Z"
   },
   {
    "duration": 83,
    "start_time": "2022-06-12T08:17:42.552Z"
   },
   {
    "duration": 198,
    "start_time": "2022-06-12T08:17:42.636Z"
   },
   {
    "duration": 21,
    "start_time": "2022-06-12T08:17:42.836Z"
   },
   {
    "duration": 28,
    "start_time": "2022-06-12T08:20:14.781Z"
   },
   {
    "duration": 12,
    "start_time": "2022-06-12T08:20:25.880Z"
   },
   {
    "duration": 4,
    "start_time": "2022-06-12T08:25:30.943Z"
   },
   {
    "duration": 1966,
    "start_time": "2022-06-12T08:28:44.065Z"
   },
   {
    "duration": 1924,
    "start_time": "2022-06-12T08:29:07.616Z"
   },
   {
    "duration": 103,
    "start_time": "2022-06-12T08:30:47.000Z"
   },
   {
    "duration": 1987,
    "start_time": "2022-06-12T08:31:05.643Z"
   },
   {
    "duration": 1698,
    "start_time": "2022-06-12T08:31:11.047Z"
   },
   {
    "duration": 6,
    "start_time": "2022-06-12T08:31:59.446Z"
   },
   {
    "duration": 4044,
    "start_time": "2022-06-12T08:32:09.197Z"
   },
   {
    "duration": 2265,
    "start_time": "2022-06-12T08:33:38.773Z"
   },
   {
    "duration": 1660,
    "start_time": "2022-06-12T08:33:42.281Z"
   },
   {
    "duration": 19,
    "start_time": "2022-06-12T08:34:47.902Z"
   },
   {
    "duration": 40,
    "start_time": "2022-06-12T09:02:12.070Z"
   },
   {
    "duration": 33,
    "start_time": "2022-06-12T09:03:07.872Z"
   },
   {
    "duration": 32070,
    "start_time": "2022-06-12T09:03:22.446Z"
   },
   {
    "duration": 32973,
    "start_time": "2022-06-12T09:04:08.955Z"
   },
   {
    "duration": 10334,
    "start_time": "2022-06-12T09:08:17.309Z"
   },
   {
    "duration": 1474,
    "start_time": "2022-06-12T09:08:29.792Z"
   },
   {
    "duration": 1372,
    "start_time": "2022-06-12T09:08:31.268Z"
   },
   {
    "duration": 17,
    "start_time": "2022-06-12T09:08:32.642Z"
   },
   {
    "duration": 17,
    "start_time": "2022-06-12T09:08:32.661Z"
   },
   {
    "duration": 131,
    "start_time": "2022-06-12T09:08:32.680Z"
   },
   {
    "duration": 17,
    "start_time": "2022-06-12T09:08:32.813Z"
   },
   {
    "duration": 19,
    "start_time": "2022-06-12T09:08:32.835Z"
   },
   {
    "duration": 20,
    "start_time": "2022-06-12T09:08:32.856Z"
   },
   {
    "duration": 14,
    "start_time": "2022-06-12T09:08:32.878Z"
   },
   {
    "duration": 43,
    "start_time": "2022-06-12T09:08:32.896Z"
   },
   {
    "duration": 98,
    "start_time": "2022-06-12T09:08:32.940Z"
   },
   {
    "duration": 7,
    "start_time": "2022-06-12T09:08:33.040Z"
   },
   {
    "duration": 4,
    "start_time": "2022-06-12T09:08:33.049Z"
   },
   {
    "duration": 5,
    "start_time": "2022-06-12T09:08:33.055Z"
   },
   {
    "duration": 6,
    "start_time": "2022-06-12T09:08:33.062Z"
   },
   {
    "duration": 5,
    "start_time": "2022-06-12T09:08:33.070Z"
   },
   {
    "duration": 18,
    "start_time": "2022-06-12T09:08:33.076Z"
   },
   {
    "duration": 43,
    "start_time": "2022-06-12T09:08:33.096Z"
   },
   {
    "duration": 15,
    "start_time": "2022-06-12T09:08:33.141Z"
   },
   {
    "duration": 16,
    "start_time": "2022-06-12T09:08:33.158Z"
   },
   {
    "duration": 7,
    "start_time": "2022-06-12T09:08:33.175Z"
   },
   {
    "duration": 14,
    "start_time": "2022-06-12T09:08:33.183Z"
   },
   {
    "duration": 3,
    "start_time": "2022-06-12T09:08:33.198Z"
   },
   {
    "duration": 24,
    "start_time": "2022-06-12T09:08:33.203Z"
   },
   {
    "duration": 212,
    "start_time": "2022-06-12T09:08:33.231Z"
   },
   {
    "duration": 192,
    "start_time": "2022-06-12T09:08:33.445Z"
   },
   {
    "duration": 194,
    "start_time": "2022-06-12T09:08:33.638Z"
   },
   {
    "duration": 316,
    "start_time": "2022-06-12T09:08:33.840Z"
   },
   {
    "duration": 4,
    "start_time": "2022-06-12T09:08:34.157Z"
   },
   {
    "duration": 9,
    "start_time": "2022-06-12T09:08:34.162Z"
   },
   {
    "duration": 6,
    "start_time": "2022-06-12T09:08:34.172Z"
   },
   {
    "duration": 8,
    "start_time": "2022-06-12T09:08:34.179Z"
   },
   {
    "duration": 7,
    "start_time": "2022-06-12T09:08:34.189Z"
   },
   {
    "duration": 6,
    "start_time": "2022-06-12T09:08:34.198Z"
   },
   {
    "duration": 383,
    "start_time": "2022-06-12T09:08:34.205Z"
   },
   {
    "duration": 21,
    "start_time": "2022-06-12T09:08:34.589Z"
   },
   {
    "duration": 30,
    "start_time": "2022-06-12T09:08:34.612Z"
   },
   {
    "duration": 7,
    "start_time": "2022-06-12T09:08:34.643Z"
   },
   {
    "duration": 17,
    "start_time": "2022-06-12T09:08:34.652Z"
   },
   {
    "duration": 20,
    "start_time": "2022-06-12T09:08:34.671Z"
   },
   {
    "duration": 12,
    "start_time": "2022-06-12T09:08:34.692Z"
   },
   {
    "duration": 37,
    "start_time": "2022-06-12T09:08:34.706Z"
   },
   {
    "duration": 24,
    "start_time": "2022-06-12T09:08:34.745Z"
   },
   {
    "duration": 971,
    "start_time": "2022-06-12T09:08:34.771Z"
   },
   {
    "duration": 2791,
    "start_time": "2022-06-12T09:08:35.744Z"
   },
   {
    "duration": 1598,
    "start_time": "2022-06-12T09:08:38.540Z"
   },
   {
    "duration": 1796,
    "start_time": "2022-06-12T09:08:40.149Z"
   },
   {
    "duration": 79,
    "start_time": "2022-06-12T09:08:41.947Z"
   },
   {
    "duration": 9,
    "start_time": "2022-06-12T09:08:42.028Z"
   },
   {
    "duration": 121,
    "start_time": "2022-06-12T09:08:42.040Z"
   },
   {
    "duration": 33,
    "start_time": "2022-06-12T09:08:42.162Z"
   },
   {
    "duration": 27826,
    "start_time": "2022-06-12T09:08:42.196Z"
   },
   {
    "duration": 38552,
    "start_time": "2022-06-12T09:09:10.023Z"
   },
   {
    "duration": 4,
    "start_time": "2022-06-12T09:09:48.577Z"
   },
   {
    "duration": 36078,
    "start_time": "2022-06-12T09:10:44.081Z"
   },
   {
    "duration": 114,
    "start_time": "2022-06-12T09:12:21.228Z"
   },
   {
    "duration": 8,
    "start_time": "2022-06-12T09:13:12.519Z"
   },
   {
    "duration": 12,
    "start_time": "2022-06-12T09:13:13.188Z"
   },
   {
    "duration": 5,
    "start_time": "2022-06-12T09:13:38.253Z"
   },
   {
    "duration": 12,
    "start_time": "2022-06-12T09:13:38.730Z"
   },
   {
    "duration": 9,
    "start_time": "2022-06-12T09:14:08.302Z"
   },
   {
    "duration": 5,
    "start_time": "2022-06-12T09:14:11.584Z"
   },
   {
    "duration": 16,
    "start_time": "2022-06-12T09:15:01.502Z"
   },
   {
    "duration": 5,
    "start_time": "2022-06-12T09:15:10.979Z"
   },
   {
    "duration": 5,
    "start_time": "2022-06-12T09:15:16.968Z"
   },
   {
    "duration": 11,
    "start_time": "2022-06-12T09:15:21.801Z"
   },
   {
    "duration": 1192,
    "start_time": "2022-06-12T09:16:11.744Z"
   },
   {
    "duration": 685,
    "start_time": "2022-06-12T09:16:12.938Z"
   },
   {
    "duration": 19,
    "start_time": "2022-06-12T09:16:13.624Z"
   },
   {
    "duration": 16,
    "start_time": "2022-06-12T09:16:13.646Z"
   },
   {
    "duration": 130,
    "start_time": "2022-06-12T09:16:13.664Z"
   },
   {
    "duration": 15,
    "start_time": "2022-06-12T09:16:13.796Z"
   },
   {
    "duration": 16,
    "start_time": "2022-06-12T09:16:13.826Z"
   },
   {
    "duration": 20,
    "start_time": "2022-06-12T09:16:13.843Z"
   },
   {
    "duration": 15,
    "start_time": "2022-06-12T09:16:13.864Z"
   },
   {
    "duration": 26,
    "start_time": "2022-06-12T09:16:13.881Z"
   },
   {
    "duration": 91,
    "start_time": "2022-06-12T09:16:13.927Z"
   },
   {
    "duration": 11,
    "start_time": "2022-06-12T09:16:14.019Z"
   },
   {
    "duration": 6,
    "start_time": "2022-06-12T09:16:14.031Z"
   },
   {
    "duration": 7,
    "start_time": "2022-06-12T09:16:14.039Z"
   },
   {
    "duration": 6,
    "start_time": "2022-06-12T09:16:14.047Z"
   },
   {
    "duration": 8,
    "start_time": "2022-06-12T09:16:14.054Z"
   },
   {
    "duration": 17,
    "start_time": "2022-06-12T09:16:14.063Z"
   },
   {
    "duration": 13,
    "start_time": "2022-06-12T09:16:14.082Z"
   },
   {
    "duration": 40,
    "start_time": "2022-06-12T09:16:14.097Z"
   },
   {
    "duration": 17,
    "start_time": "2022-06-12T09:16:14.139Z"
   },
   {
    "duration": 8,
    "start_time": "2022-06-12T09:16:14.157Z"
   },
   {
    "duration": 10,
    "start_time": "2022-06-12T09:16:14.166Z"
   },
   {
    "duration": 3,
    "start_time": "2022-06-12T09:16:14.178Z"
   },
   {
    "duration": 7,
    "start_time": "2022-06-12T09:16:14.182Z"
   },
   {
    "duration": 220,
    "start_time": "2022-06-12T09:16:14.190Z"
   },
   {
    "duration": 196,
    "start_time": "2022-06-12T09:16:14.412Z"
   },
   {
    "duration": 189,
    "start_time": "2022-06-12T09:16:14.610Z"
   },
   {
    "duration": 326,
    "start_time": "2022-06-12T09:16:14.805Z"
   },
   {
    "duration": 4,
    "start_time": "2022-06-12T09:16:15.133Z"
   },
   {
    "duration": 9,
    "start_time": "2022-06-12T09:16:15.138Z"
   },
   {
    "duration": 6,
    "start_time": "2022-06-12T09:16:15.149Z"
   },
   {
    "duration": 6,
    "start_time": "2022-06-12T09:16:15.156Z"
   },
   {
    "duration": 6,
    "start_time": "2022-06-12T09:16:15.163Z"
   },
   {
    "duration": 5,
    "start_time": "2022-06-12T09:16:15.171Z"
   },
   {
    "duration": 390,
    "start_time": "2022-06-12T09:16:15.177Z"
   },
   {
    "duration": 22,
    "start_time": "2022-06-12T09:16:15.569Z"
   },
   {
    "duration": 13,
    "start_time": "2022-06-12T09:16:15.592Z"
   },
   {
    "duration": 20,
    "start_time": "2022-06-12T09:16:15.607Z"
   },
   {
    "duration": 18,
    "start_time": "2022-06-12T09:16:15.629Z"
   },
   {
    "duration": 10,
    "start_time": "2022-06-12T09:16:15.649Z"
   },
   {
    "duration": 15,
    "start_time": "2022-06-12T09:16:15.660Z"
   },
   {
    "duration": 30,
    "start_time": "2022-06-12T09:16:15.676Z"
   },
   {
    "duration": 40,
    "start_time": "2022-06-12T09:16:15.707Z"
   },
   {
    "duration": 183,
    "start_time": "2022-06-12T09:16:15.752Z"
   },
   {
    "duration": 1003,
    "start_time": "2022-06-12T09:16:16.026Z"
   },
   {
    "duration": 308,
    "start_time": "2022-06-12T09:16:17.031Z"
   },
   {
    "duration": 1288,
    "start_time": "2022-06-12T09:16:17.342Z"
   },
   {
    "duration": 205,
    "start_time": "2022-06-12T09:16:18.632Z"
   },
   {
    "duration": 0,
    "start_time": "2022-06-12T09:16:18.839Z"
   },
   {
    "duration": 0,
    "start_time": "2022-06-12T09:16:18.840Z"
   },
   {
    "duration": 0,
    "start_time": "2022-06-12T09:16:18.841Z"
   },
   {
    "duration": 0,
    "start_time": "2022-06-12T09:16:18.842Z"
   },
   {
    "duration": 0,
    "start_time": "2022-06-12T09:16:18.842Z"
   },
   {
    "duration": 0,
    "start_time": "2022-06-12T09:16:18.843Z"
   },
   {
    "duration": 0,
    "start_time": "2022-06-12T09:16:18.844Z"
   },
   {
    "duration": 0,
    "start_time": "2022-06-12T09:16:18.845Z"
   },
   {
    "duration": 0,
    "start_time": "2022-06-12T09:16:18.846Z"
   },
   {
    "duration": 0,
    "start_time": "2022-06-12T09:16:18.847Z"
   },
   {
    "duration": 43,
    "start_time": "2022-06-12T09:17:44.487Z"
   },
   {
    "duration": 145,
    "start_time": "2022-06-12T09:17:51.387Z"
   },
   {
    "duration": 1070,
    "start_time": "2022-06-12T09:17:51.762Z"
   },
   {
    "duration": 296,
    "start_time": "2022-06-12T09:17:52.834Z"
   },
   {
    "duration": 1036,
    "start_time": "2022-06-12T09:17:53.492Z"
   },
   {
    "duration": 8,
    "start_time": "2022-06-12T09:17:54.530Z"
   },
   {
    "duration": 8,
    "start_time": "2022-06-12T09:18:03.080Z"
   },
   {
    "duration": 11,
    "start_time": "2022-06-12T09:18:16.157Z"
   },
   {
    "duration": 9,
    "start_time": "2022-06-12T09:18:16.491Z"
   },
   {
    "duration": 4,
    "start_time": "2022-06-12T09:18:17.931Z"
   },
   {
    "duration": 4,
    "start_time": "2022-06-12T09:18:22.966Z"
   },
   {
    "duration": 4,
    "start_time": "2022-06-12T09:18:23.609Z"
   },
   {
    "duration": 13,
    "start_time": "2022-06-12T09:18:24.102Z"
   },
   {
    "duration": 1202,
    "start_time": "2022-06-12T09:18:27.533Z"
   },
   {
    "duration": 663,
    "start_time": "2022-06-12T09:18:28.737Z"
   },
   {
    "duration": 17,
    "start_time": "2022-06-12T09:18:29.401Z"
   },
   {
    "duration": 20,
    "start_time": "2022-06-12T09:18:29.420Z"
   },
   {
    "duration": 119,
    "start_time": "2022-06-12T09:18:29.441Z"
   },
   {
    "duration": 13,
    "start_time": "2022-06-12T09:18:29.562Z"
   },
   {
    "duration": 16,
    "start_time": "2022-06-12T09:18:29.577Z"
   },
   {
    "duration": 34,
    "start_time": "2022-06-12T09:18:29.594Z"
   },
   {
    "duration": 14,
    "start_time": "2022-06-12T09:18:29.629Z"
   },
   {
    "duration": 20,
    "start_time": "2022-06-12T09:18:29.645Z"
   },
   {
    "duration": 107,
    "start_time": "2022-06-12T09:18:29.666Z"
   },
   {
    "duration": 5,
    "start_time": "2022-06-12T09:18:29.775Z"
   },
   {
    "duration": 7,
    "start_time": "2022-06-12T09:18:29.782Z"
   },
   {
    "duration": 6,
    "start_time": "2022-06-12T09:18:29.790Z"
   },
   {
    "duration": 6,
    "start_time": "2022-06-12T09:18:29.797Z"
   },
   {
    "duration": 22,
    "start_time": "2022-06-12T09:18:29.805Z"
   },
   {
    "duration": 13,
    "start_time": "2022-06-12T09:18:29.829Z"
   },
   {
    "duration": 11,
    "start_time": "2022-06-12T09:18:29.844Z"
   },
   {
    "duration": 17,
    "start_time": "2022-06-12T09:18:29.856Z"
   },
   {
    "duration": 14,
    "start_time": "2022-06-12T09:18:29.874Z"
   },
   {
    "duration": 6,
    "start_time": "2022-06-12T09:18:29.890Z"
   },
   {
    "duration": 35,
    "start_time": "2022-06-12T09:18:29.897Z"
   },
   {
    "duration": 3,
    "start_time": "2022-06-12T09:18:29.934Z"
   },
   {
    "duration": 9,
    "start_time": "2022-06-12T09:18:29.938Z"
   },
   {
    "duration": 199,
    "start_time": "2022-06-12T09:18:29.948Z"
   },
   {
    "duration": 197,
    "start_time": "2022-06-12T09:18:30.148Z"
   },
   {
    "duration": 206,
    "start_time": "2022-06-12T09:18:30.346Z"
   },
   {
    "duration": 319,
    "start_time": "2022-06-12T09:18:30.555Z"
   },
   {
    "duration": 4,
    "start_time": "2022-06-12T09:18:30.876Z"
   },
   {
    "duration": 17,
    "start_time": "2022-06-12T09:18:30.882Z"
   },
   {
    "duration": 14,
    "start_time": "2022-06-12T09:18:30.900Z"
   },
   {
    "duration": 14,
    "start_time": "2022-06-12T09:18:30.916Z"
   },
   {
    "duration": 16,
    "start_time": "2022-06-12T09:18:30.932Z"
   },
   {
    "duration": 14,
    "start_time": "2022-06-12T09:18:30.950Z"
   },
   {
    "duration": 371,
    "start_time": "2022-06-12T09:18:30.966Z"
   },
   {
    "duration": 22,
    "start_time": "2022-06-12T09:18:31.338Z"
   },
   {
    "duration": 14,
    "start_time": "2022-06-12T09:18:31.361Z"
   },
   {
    "duration": 7,
    "start_time": "2022-06-12T09:18:31.376Z"
   },
   {
    "duration": 24,
    "start_time": "2022-06-12T09:18:31.384Z"
   },
   {
    "duration": 22,
    "start_time": "2022-06-12T09:18:31.409Z"
   },
   {
    "duration": 18,
    "start_time": "2022-06-12T09:18:31.432Z"
   },
   {
    "duration": 45,
    "start_time": "2022-06-12T09:18:31.452Z"
   },
   {
    "duration": 25,
    "start_time": "2022-06-12T09:18:31.499Z"
   },
   {
    "duration": 111,
    "start_time": "2022-06-12T09:18:31.525Z"
   },
   {
    "duration": 1593,
    "start_time": "2022-06-12T09:18:31.637Z"
   },
   {
    "duration": 396,
    "start_time": "2022-06-12T09:18:33.232Z"
   },
   {
    "duration": 1001,
    "start_time": "2022-06-12T09:18:33.630Z"
   },
   {
    "duration": 97,
    "start_time": "2022-06-12T09:18:34.633Z"
   },
   {
    "duration": 206,
    "start_time": "2022-06-12T09:18:34.732Z"
   },
   {
    "duration": 14,
    "start_time": "2022-06-12T09:18:34.940Z"
   },
   {
    "duration": 27,
    "start_time": "2022-06-12T09:18:34.955Z"
   },
   {
    "duration": 26832,
    "start_time": "2022-06-12T09:18:34.984Z"
   },
   {
    "duration": 10,
    "start_time": "2022-06-12T09:19:01.817Z"
   },
   {
    "duration": 35912,
    "start_time": "2022-06-12T09:19:01.829Z"
   },
   {
    "duration": 4,
    "start_time": "2022-06-12T09:19:37.743Z"
   },
   {
    "duration": 8,
    "start_time": "2022-06-12T09:19:37.749Z"
   },
   {
    "duration": 115,
    "start_time": "2022-06-12T09:19:37.826Z"
   },
   {
    "duration": 1199,
    "start_time": "2022-06-12T09:20:53.084Z"
   },
   {
    "duration": 975,
    "start_time": "2022-06-12T09:20:54.286Z"
   },
   {
    "duration": 70,
    "start_time": "2022-06-12T09:20:55.263Z"
   },
   {
    "duration": 15,
    "start_time": "2022-06-12T09:20:55.335Z"
   },
   {
    "duration": 211,
    "start_time": "2022-06-12T09:20:55.351Z"
   },
   {
    "duration": 64,
    "start_time": "2022-06-12T09:20:55.564Z"
   },
   {
    "duration": 14,
    "start_time": "2022-06-12T09:20:55.630Z"
   },
   {
    "duration": 19,
    "start_time": "2022-06-12T09:20:55.645Z"
   },
   {
    "duration": 72,
    "start_time": "2022-06-12T09:20:55.666Z"
   },
   {
    "duration": 31,
    "start_time": "2022-06-12T09:20:55.742Z"
   },
   {
    "duration": 257,
    "start_time": "2022-06-12T09:20:55.774Z"
   },
   {
    "duration": 6,
    "start_time": "2022-06-12T09:20:56.032Z"
   },
   {
    "duration": 23,
    "start_time": "2022-06-12T09:20:56.040Z"
   },
   {
    "duration": 10,
    "start_time": "2022-06-12T09:20:56.065Z"
   },
   {
    "duration": 7,
    "start_time": "2022-06-12T09:20:56.077Z"
   },
   {
    "duration": 45,
    "start_time": "2022-06-12T09:20:56.086Z"
   },
   {
    "duration": 17,
    "start_time": "2022-06-12T09:20:56.132Z"
   },
   {
    "duration": 12,
    "start_time": "2022-06-12T09:20:56.151Z"
   },
   {
    "duration": 70,
    "start_time": "2022-06-12T09:20:56.164Z"
   },
   {
    "duration": 17,
    "start_time": "2022-06-12T09:20:56.236Z"
   },
   {
    "duration": 7,
    "start_time": "2022-06-12T09:20:56.255Z"
   },
   {
    "duration": 67,
    "start_time": "2022-06-12T09:20:56.264Z"
   },
   {
    "duration": 5,
    "start_time": "2022-06-12T09:20:56.333Z"
   },
   {
    "duration": 10,
    "start_time": "2022-06-12T09:20:56.340Z"
   },
   {
    "duration": 303,
    "start_time": "2022-06-12T09:20:56.351Z"
   },
   {
    "duration": 205,
    "start_time": "2022-06-12T09:20:56.655Z"
   },
   {
    "duration": 204,
    "start_time": "2022-06-12T09:20:56.862Z"
   },
   {
    "duration": 306,
    "start_time": "2022-06-12T09:20:57.069Z"
   },
   {
    "duration": 3,
    "start_time": "2022-06-12T09:20:57.377Z"
   },
   {
    "duration": 20,
    "start_time": "2022-06-12T09:20:57.381Z"
   },
   {
    "duration": 6,
    "start_time": "2022-06-12T09:20:57.402Z"
   },
   {
    "duration": 9,
    "start_time": "2022-06-12T09:20:57.410Z"
   },
   {
    "duration": 7,
    "start_time": "2022-06-12T09:20:57.420Z"
   },
   {
    "duration": 10,
    "start_time": "2022-06-12T09:20:57.428Z"
   },
   {
    "duration": 342,
    "start_time": "2022-06-12T09:20:57.440Z"
   },
   {
    "duration": 24,
    "start_time": "2022-06-12T09:20:57.784Z"
   },
   {
    "duration": 22,
    "start_time": "2022-06-12T09:20:57.810Z"
   },
   {
    "duration": 4,
    "start_time": "2022-06-12T09:20:57.834Z"
   },
   {
    "duration": 20,
    "start_time": "2022-06-12T09:20:57.839Z"
   },
   {
    "duration": 8,
    "start_time": "2022-06-12T09:20:57.861Z"
   },
   {
    "duration": 12,
    "start_time": "2022-06-12T09:20:57.871Z"
   },
   {
    "duration": 43,
    "start_time": "2022-06-12T09:20:57.884Z"
   },
   {
    "duration": 25,
    "start_time": "2022-06-12T09:20:57.928Z"
   },
   {
    "duration": 173,
    "start_time": "2022-06-12T09:20:57.955Z"
   },
   {
    "duration": 1105,
    "start_time": "2022-06-12T09:20:58.130Z"
   },
   {
    "duration": 290,
    "start_time": "2022-06-12T09:20:59.237Z"
   },
   {
    "duration": 1304,
    "start_time": "2022-06-12T09:20:59.530Z"
   },
   {
    "duration": 93,
    "start_time": "2022-06-12T09:21:00.837Z"
   },
   {
    "duration": 9,
    "start_time": "2022-06-12T09:21:00.931Z"
   },
   {
    "duration": 91,
    "start_time": "2022-06-12T09:21:00.942Z"
   },
   {
    "duration": 30181,
    "start_time": "2022-06-12T09:21:01.035Z"
   },
   {
    "duration": 5,
    "start_time": "2022-06-12T09:21:31.218Z"
   },
   {
    "duration": 32866,
    "start_time": "2022-06-12T09:21:31.227Z"
   },
   {
    "duration": 5,
    "start_time": "2022-06-12T09:22:04.096Z"
   },
   {
    "duration": 30,
    "start_time": "2022-06-12T09:22:04.102Z"
   },
   {
    "duration": 194,
    "start_time": "2022-06-12T09:22:04.134Z"
   },
   {
    "duration": 107712,
    "start_time": "2022-06-12T09:22:04.332Z"
   },
   {
    "duration": 3,
    "start_time": "2022-06-12T09:23:52.047Z"
   },
   {
    "duration": 9,
    "start_time": "2022-06-12T09:25:48.630Z"
   },
   {
    "duration": 5,
    "start_time": "2022-06-12T09:25:52.261Z"
   },
   {
    "duration": 5,
    "start_time": "2022-06-12T09:25:54.474Z"
   },
   {
    "duration": 385649,
    "start_time": "2022-06-12T09:26:56.603Z"
   },
   {
    "duration": 7,
    "start_time": "2022-06-12T09:36:58.616Z"
   },
   {
    "duration": 5,
    "start_time": "2022-06-12T09:37:15.216Z"
   },
   {
    "duration": 1549,
    "start_time": "2022-06-12T09:37:33.879Z"
   },
   {
    "duration": 1170,
    "start_time": "2022-06-12T09:37:43.461Z"
   },
   {
    "duration": 1272,
    "start_time": "2022-06-12T09:41:08.582Z"
   },
   {
    "duration": 719,
    "start_time": "2022-06-12T09:41:09.856Z"
   },
   {
    "duration": 21,
    "start_time": "2022-06-12T09:41:10.576Z"
   },
   {
    "duration": 30,
    "start_time": "2022-06-12T09:41:10.600Z"
   },
   {
    "duration": 129,
    "start_time": "2022-06-12T09:41:10.633Z"
   },
   {
    "duration": 15,
    "start_time": "2022-06-12T09:41:10.764Z"
   },
   {
    "duration": 18,
    "start_time": "2022-06-12T09:41:10.781Z"
   },
   {
    "duration": 44,
    "start_time": "2022-06-12T09:41:10.801Z"
   },
   {
    "duration": 16,
    "start_time": "2022-06-12T09:41:10.846Z"
   },
   {
    "duration": 31,
    "start_time": "2022-06-12T09:41:10.865Z"
   },
   {
    "duration": 104,
    "start_time": "2022-06-12T09:41:10.898Z"
   },
   {
    "duration": 8,
    "start_time": "2022-06-12T09:41:11.003Z"
   },
   {
    "duration": 4,
    "start_time": "2022-06-12T09:41:11.013Z"
   },
   {
    "duration": 4,
    "start_time": "2022-06-12T09:41:11.028Z"
   },
   {
    "duration": 9,
    "start_time": "2022-06-12T09:41:11.034Z"
   },
   {
    "duration": 8,
    "start_time": "2022-06-12T09:41:11.044Z"
   },
   {
    "duration": 17,
    "start_time": "2022-06-12T09:41:11.053Z"
   },
   {
    "duration": 13,
    "start_time": "2022-06-12T09:41:11.071Z"
   },
   {
    "duration": 48,
    "start_time": "2022-06-12T09:41:11.086Z"
   },
   {
    "duration": 16,
    "start_time": "2022-06-12T09:41:11.136Z"
   },
   {
    "duration": 7,
    "start_time": "2022-06-12T09:41:11.154Z"
   },
   {
    "duration": 10,
    "start_time": "2022-06-12T09:41:11.162Z"
   },
   {
    "duration": 3,
    "start_time": "2022-06-12T09:41:11.174Z"
   },
   {
    "duration": 5,
    "start_time": "2022-06-12T09:41:11.179Z"
   },
   {
    "duration": 223,
    "start_time": "2022-06-12T09:41:11.185Z"
   },
   {
    "duration": 194,
    "start_time": "2022-06-12T09:41:11.410Z"
   },
   {
    "duration": 198,
    "start_time": "2022-06-12T09:41:11.605Z"
   },
   {
    "duration": 341,
    "start_time": "2022-06-12T09:41:11.806Z"
   },
   {
    "duration": 6,
    "start_time": "2022-06-12T09:41:12.149Z"
   },
   {
    "duration": 12,
    "start_time": "2022-06-12T09:41:12.156Z"
   },
   {
    "duration": 8,
    "start_time": "2022-06-12T09:41:12.170Z"
   },
   {
    "duration": 8,
    "start_time": "2022-06-12T09:41:12.179Z"
   },
   {
    "duration": 6,
    "start_time": "2022-06-12T09:41:12.188Z"
   },
   {
    "duration": 8,
    "start_time": "2022-06-12T09:41:12.195Z"
   },
   {
    "duration": 408,
    "start_time": "2022-06-12T09:41:12.204Z"
   },
   {
    "duration": 29,
    "start_time": "2022-06-12T09:41:12.614Z"
   },
   {
    "duration": 15,
    "start_time": "2022-06-12T09:41:12.645Z"
   },
   {
    "duration": 4,
    "start_time": "2022-06-12T09:41:12.662Z"
   },
   {
    "duration": 21,
    "start_time": "2022-06-12T09:41:12.668Z"
   },
   {
    "duration": 9,
    "start_time": "2022-06-12T09:41:12.691Z"
   },
   {
    "duration": 33,
    "start_time": "2022-06-12T09:41:12.702Z"
   },
   {
    "duration": 32,
    "start_time": "2022-06-12T09:41:12.737Z"
   },
   {
    "duration": 28,
    "start_time": "2022-06-12T09:41:12.771Z"
   },
   {
    "duration": 327,
    "start_time": "2022-06-12T09:41:12.801Z"
   },
   {
    "duration": 1305,
    "start_time": "2022-06-12T09:41:13.131Z"
   },
   {
    "duration": 110,
    "start_time": "2022-06-12T09:41:14.526Z"
   },
   {
    "duration": 1400,
    "start_time": "2022-06-12T09:41:14.728Z"
   },
   {
    "duration": 6,
    "start_time": "2022-06-12T09:41:16.130Z"
   },
   {
    "duration": 197,
    "start_time": "2022-06-12T09:41:16.138Z"
   },
   {
    "duration": 31,
    "start_time": "2022-06-12T09:41:16.338Z"
   },
   {
    "duration": 31877,
    "start_time": "2022-06-12T09:41:16.371Z"
   },
   {
    "duration": 5,
    "start_time": "2022-06-12T09:41:48.249Z"
   },
   {
    "duration": 38748,
    "start_time": "2022-06-12T09:41:48.255Z"
   },
   {
    "duration": 34,
    "start_time": "2022-06-12T09:42:27.004Z"
   },
   {
    "duration": 10,
    "start_time": "2022-06-12T09:42:27.127Z"
   },
   {
    "duration": 100224,
    "start_time": "2022-06-12T09:42:27.227Z"
   },
   {
    "duration": 204305,
    "start_time": "2022-06-12T09:44:07.452Z"
   },
   {
    "duration": 32,
    "start_time": "2022-06-12T09:47:31.759Z"
   },
   {
    "duration": 48319,
    "start_time": "2022-06-12T09:48:18.689Z"
   },
   {
    "duration": 79258,
    "start_time": "2022-06-12T09:49:07.010Z"
   },
   {
    "duration": 1240,
    "start_time": "2022-06-13T10:48:42.059Z"
   },
   {
    "duration": 2002,
    "start_time": "2022-06-13T10:48:43.305Z"
   },
   {
    "duration": 18,
    "start_time": "2022-06-13T10:48:45.309Z"
   },
   {
    "duration": 15,
    "start_time": "2022-06-13T10:48:45.328Z"
   },
   {
    "duration": 104,
    "start_time": "2022-06-13T10:48:45.344Z"
   },
   {
    "duration": 13,
    "start_time": "2022-06-13T10:48:45.450Z"
   },
   {
    "duration": 13,
    "start_time": "2022-06-13T10:48:45.464Z"
   },
   {
    "duration": 39,
    "start_time": "2022-06-13T10:48:45.478Z"
   },
   {
    "duration": 14,
    "start_time": "2022-06-13T10:48:45.519Z"
   },
   {
    "duration": 16,
    "start_time": "2022-06-13T10:48:45.535Z"
   },
   {
    "duration": 98,
    "start_time": "2022-06-13T10:48:45.553Z"
   },
   {
    "duration": 6,
    "start_time": "2022-06-13T10:48:45.652Z"
   },
   {
    "duration": 5,
    "start_time": "2022-06-13T10:48:45.659Z"
   },
   {
    "duration": 6,
    "start_time": "2022-06-13T10:48:45.665Z"
   },
   {
    "duration": 23,
    "start_time": "2022-06-13T10:48:45.672Z"
   },
   {
    "duration": 21,
    "start_time": "2022-06-13T10:48:45.697Z"
   },
   {
    "duration": 19,
    "start_time": "2022-06-13T10:48:45.720Z"
   },
   {
    "duration": 11,
    "start_time": "2022-06-13T10:48:45.740Z"
   },
   {
    "duration": 17,
    "start_time": "2022-06-13T10:48:45.753Z"
   },
   {
    "duration": 15,
    "start_time": "2022-06-13T10:48:45.771Z"
   },
   {
    "duration": 4,
    "start_time": "2022-06-13T10:48:45.787Z"
   },
   {
    "duration": 11,
    "start_time": "2022-06-13T10:48:45.794Z"
   },
   {
    "duration": 7,
    "start_time": "2022-06-13T10:48:45.806Z"
   },
   {
    "duration": 5,
    "start_time": "2022-06-13T10:48:45.814Z"
   },
   {
    "duration": 195,
    "start_time": "2022-06-13T10:48:45.820Z"
   },
   {
    "duration": 196,
    "start_time": "2022-06-13T10:48:46.016Z"
   },
   {
    "duration": 172,
    "start_time": "2022-06-13T10:48:46.213Z"
   },
   {
    "duration": 307,
    "start_time": "2022-06-13T10:48:46.403Z"
   },
   {
    "duration": 4,
    "start_time": "2022-06-13T10:48:46.711Z"
   },
   {
    "duration": 5,
    "start_time": "2022-06-13T10:48:46.717Z"
   },
   {
    "duration": 6,
    "start_time": "2022-06-13T10:48:46.723Z"
   },
   {
    "duration": 6,
    "start_time": "2022-06-13T10:48:46.731Z"
   },
   {
    "duration": 5,
    "start_time": "2022-06-13T10:48:46.738Z"
   },
   {
    "duration": 5,
    "start_time": "2022-06-13T10:48:46.744Z"
   },
   {
    "duration": 367,
    "start_time": "2022-06-13T10:48:46.750Z"
   },
   {
    "duration": 22,
    "start_time": "2022-06-13T10:48:47.118Z"
   },
   {
    "duration": 18,
    "start_time": "2022-06-13T10:48:47.142Z"
   },
   {
    "duration": 7,
    "start_time": "2022-06-13T10:48:47.161Z"
   },
   {
    "duration": 33,
    "start_time": "2022-06-13T10:48:47.170Z"
   },
   {
    "duration": 9,
    "start_time": "2022-06-13T10:48:47.206Z"
   },
   {
    "duration": 11,
    "start_time": "2022-06-13T10:48:47.217Z"
   },
   {
    "duration": 27,
    "start_time": "2022-06-13T10:48:47.230Z"
   },
   {
    "duration": 36,
    "start_time": "2022-06-13T10:48:47.259Z"
   },
   {
    "duration": 414,
    "start_time": "2022-06-13T10:48:47.296Z"
   },
   {
    "duration": 1385,
    "start_time": "2022-06-13T10:48:47.712Z"
   },
   {
    "duration": 630,
    "start_time": "2022-06-13T10:48:49.102Z"
   },
   {
    "duration": 1602,
    "start_time": "2022-06-13T10:48:49.795Z"
   },
   {
    "duration": 12,
    "start_time": "2022-06-13T10:48:51.403Z"
   },
   {
    "duration": 193,
    "start_time": "2022-06-13T10:48:51.417Z"
   },
   {
    "duration": 6,
    "start_time": "2022-06-13T10:48:51.611Z"
   },
   {
    "duration": 26558,
    "start_time": "2022-06-13T10:48:51.619Z"
   },
   {
    "duration": 5,
    "start_time": "2022-06-13T10:49:18.178Z"
   },
   {
    "duration": 27670,
    "start_time": "2022-06-13T10:49:18.200Z"
   },
   {
    "duration": 35,
    "start_time": "2022-06-13T10:49:45.872Z"
   },
   {
    "duration": 5,
    "start_time": "2022-06-13T10:49:45.908Z"
   },
   {
    "duration": 36765,
    "start_time": "2022-06-13T10:49:45.914Z"
   },
   {
    "duration": 77859,
    "start_time": "2022-06-13T10:50:22.681Z"
   },
   {
    "duration": 20,
    "start_time": "2022-06-13T10:51:40.542Z"
   },
   {
    "duration": 12,
    "start_time": "2022-06-13T16:18:14.345Z"
   },
   {
    "duration": 1156,
    "start_time": "2022-06-13T16:19:53.257Z"
   },
   {
    "duration": 683,
    "start_time": "2022-06-13T16:19:54.414Z"
   },
   {
    "duration": 23,
    "start_time": "2022-06-13T16:19:55.099Z"
   },
   {
    "duration": 20,
    "start_time": "2022-06-13T16:19:55.124Z"
   },
   {
    "duration": 117,
    "start_time": "2022-06-13T16:19:55.146Z"
   },
   {
    "duration": 14,
    "start_time": "2022-06-13T16:19:55.264Z"
   },
   {
    "duration": 25,
    "start_time": "2022-06-13T16:19:55.280Z"
   },
   {
    "duration": 25,
    "start_time": "2022-06-13T16:19:55.306Z"
   },
   {
    "duration": 13,
    "start_time": "2022-06-13T16:19:55.332Z"
   },
   {
    "duration": 21,
    "start_time": "2022-06-13T16:19:55.346Z"
   },
   {
    "duration": 106,
    "start_time": "2022-06-13T16:19:55.369Z"
   },
   {
    "duration": 7,
    "start_time": "2022-06-13T16:19:55.476Z"
   },
   {
    "duration": 11,
    "start_time": "2022-06-13T16:19:55.484Z"
   },
   {
    "duration": 4,
    "start_time": "2022-06-13T16:19:55.498Z"
   },
   {
    "duration": 14,
    "start_time": "2022-06-13T16:19:55.504Z"
   },
   {
    "duration": 11,
    "start_time": "2022-06-13T16:19:55.520Z"
   },
   {
    "duration": 14,
    "start_time": "2022-06-13T16:19:55.533Z"
   },
   {
    "duration": 12,
    "start_time": "2022-06-13T16:19:55.549Z"
   },
   {
    "duration": 34,
    "start_time": "2022-06-13T16:19:55.562Z"
   },
   {
    "duration": 16,
    "start_time": "2022-06-13T16:19:55.597Z"
   },
   {
    "duration": 7,
    "start_time": "2022-06-13T16:19:55.615Z"
   },
   {
    "duration": 10,
    "start_time": "2022-06-13T16:19:55.623Z"
   },
   {
    "duration": 3,
    "start_time": "2022-06-13T16:19:55.635Z"
   },
   {
    "duration": 4,
    "start_time": "2022-06-13T16:19:55.640Z"
   },
   {
    "duration": 223,
    "start_time": "2022-06-13T16:19:55.646Z"
   },
   {
    "duration": 203,
    "start_time": "2022-06-13T16:19:55.871Z"
   },
   {
    "duration": 195,
    "start_time": "2022-06-13T16:19:56.076Z"
   },
   {
    "duration": 315,
    "start_time": "2022-06-13T16:19:56.273Z"
   },
   {
    "duration": 6,
    "start_time": "2022-06-13T16:19:56.594Z"
   },
   {
    "duration": 21,
    "start_time": "2022-06-13T16:19:56.601Z"
   },
   {
    "duration": 7,
    "start_time": "2022-06-13T16:19:56.623Z"
   },
   {
    "duration": 9,
    "start_time": "2022-06-13T16:19:56.631Z"
   },
   {
    "duration": 6,
    "start_time": "2022-06-13T16:19:56.641Z"
   },
   {
    "duration": 6,
    "start_time": "2022-06-13T16:19:56.648Z"
   },
   {
    "duration": 385,
    "start_time": "2022-06-13T16:19:56.655Z"
   },
   {
    "duration": 24,
    "start_time": "2022-06-13T16:19:57.041Z"
   },
   {
    "duration": 32,
    "start_time": "2022-06-13T16:19:57.066Z"
   },
   {
    "duration": 5,
    "start_time": "2022-06-13T16:19:57.100Z"
   },
   {
    "duration": 23,
    "start_time": "2022-06-13T16:19:57.106Z"
   },
   {
    "duration": 9,
    "start_time": "2022-06-13T16:19:57.130Z"
   },
   {
    "duration": 12,
    "start_time": "2022-06-13T16:19:57.143Z"
   },
   {
    "duration": 43,
    "start_time": "2022-06-13T16:19:57.157Z"
   },
   {
    "duration": 26,
    "start_time": "2022-06-13T16:19:57.202Z"
   },
   {
    "duration": 364,
    "start_time": "2022-06-13T16:19:57.229Z"
   },
   {
    "duration": 1302,
    "start_time": "2022-06-13T16:19:57.599Z"
   },
   {
    "duration": 293,
    "start_time": "2022-06-13T16:19:58.905Z"
   },
   {
    "duration": 1113,
    "start_time": "2022-06-13T16:19:59.202Z"
   },
   {
    "duration": 7,
    "start_time": "2022-06-13T16:20:00.317Z"
   },
   {
    "duration": 73,
    "start_time": "2022-06-13T16:20:00.326Z"
   },
   {
    "duration": 97,
    "start_time": "2022-06-13T16:20:00.401Z"
   },
   {
    "duration": 30,
    "start_time": "2022-06-13T16:20:00.500Z"
   },
   {
    "duration": 29903,
    "start_time": "2022-06-13T16:20:00.532Z"
   },
   {
    "duration": 4,
    "start_time": "2022-06-13T16:20:30.437Z"
   },
   {
    "duration": 30416,
    "start_time": "2022-06-13T16:20:30.443Z"
   },
   {
    "duration": 51,
    "start_time": "2022-06-13T16:21:00.861Z"
   },
   {
    "duration": 85,
    "start_time": "2022-06-13T16:21:00.915Z"
   },
   {
    "duration": 95102,
    "start_time": "2022-06-13T16:21:01.002Z"
   },
   {
    "duration": 102990,
    "start_time": "2022-06-13T16:22:36.106Z"
   },
   {
    "duration": 23,
    "start_time": "2022-06-13T16:24:19.097Z"
   },
   {
    "duration": 4,
    "start_time": "2022-06-13T16:39:25.085Z"
   },
   {
    "duration": 4,
    "start_time": "2022-06-13T16:40:33.334Z"
   },
   {
    "duration": 31,
    "start_time": "2022-06-13T16:40:55.423Z"
   },
   {
    "duration": 1595,
    "start_time": "2022-06-13T16:41:08.805Z"
   },
   {
    "duration": 11,
    "start_time": "2022-06-13T16:41:36.928Z"
   },
   {
    "duration": 5,
    "start_time": "2022-06-13T16:43:29.950Z"
   },
   {
    "duration": 5,
    "start_time": "2022-06-13T16:43:30.753Z"
   },
   {
    "duration": 4,
    "start_time": "2022-06-13T16:44:48.868Z"
   },
   {
    "duration": 5,
    "start_time": "2022-06-13T16:44:49.379Z"
   },
   {
    "duration": 12,
    "start_time": "2022-06-13T16:48:49.436Z"
   },
   {
    "duration": 13,
    "start_time": "2022-06-13T16:49:22.634Z"
   },
   {
    "duration": 12,
    "start_time": "2022-06-13T16:50:45.754Z"
   },
   {
    "duration": 6,
    "start_time": "2022-06-13T17:10:45.447Z"
   },
   {
    "duration": 6,
    "start_time": "2022-06-13T17:19:50.905Z"
   },
   {
    "duration": 6,
    "start_time": "2022-06-13T17:29:43.797Z"
   },
   {
    "duration": 6,
    "start_time": "2022-06-13T17:29:48.816Z"
   },
   {
    "duration": 6,
    "start_time": "2022-06-13T17:30:28.507Z"
   },
   {
    "duration": 6,
    "start_time": "2022-06-13T17:32:24.229Z"
   },
   {
    "duration": 6,
    "start_time": "2022-06-13T17:32:35.560Z"
   },
   {
    "duration": 6,
    "start_time": "2022-06-13T17:32:54.287Z"
   },
   {
    "duration": 7,
    "start_time": "2022-06-13T17:32:56.477Z"
   },
   {
    "duration": 11,
    "start_time": "2022-06-13T17:33:56.849Z"
   },
   {
    "duration": 4,
    "start_time": "2022-06-13T17:48:14.166Z"
   },
   {
    "duration": 6,
    "start_time": "2022-06-13T17:49:25.110Z"
   },
   {
    "duration": 1509,
    "start_time": "2022-06-13T20:51:27.112Z"
   },
   {
    "duration": 2977,
    "start_time": "2022-06-13T20:51:28.623Z"
   },
   {
    "duration": 18,
    "start_time": "2022-06-13T20:51:31.602Z"
   },
   {
    "duration": 33,
    "start_time": "2022-06-13T20:51:31.622Z"
   },
   {
    "duration": 127,
    "start_time": "2022-06-13T20:51:31.656Z"
   },
   {
    "duration": 16,
    "start_time": "2022-06-13T20:51:31.785Z"
   },
   {
    "duration": 31,
    "start_time": "2022-06-13T20:51:31.803Z"
   },
   {
    "duration": 27,
    "start_time": "2022-06-13T20:51:31.835Z"
   },
   {
    "duration": 40,
    "start_time": "2022-06-13T20:51:31.864Z"
   },
   {
    "duration": 50,
    "start_time": "2022-06-13T20:51:31.907Z"
   },
   {
    "duration": 124,
    "start_time": "2022-06-13T20:51:31.959Z"
   },
   {
    "duration": 7,
    "start_time": "2022-06-13T20:51:32.085Z"
   },
   {
    "duration": 24,
    "start_time": "2022-06-13T20:51:32.094Z"
   },
   {
    "duration": 20,
    "start_time": "2022-06-13T20:51:32.120Z"
   },
   {
    "duration": 50,
    "start_time": "2022-06-13T20:51:32.142Z"
   },
   {
    "duration": 29,
    "start_time": "2022-06-13T20:51:32.194Z"
   },
   {
    "duration": 44,
    "start_time": "2022-06-13T20:51:32.225Z"
   },
   {
    "duration": 13,
    "start_time": "2022-06-13T20:51:32.271Z"
   },
   {
    "duration": 39,
    "start_time": "2022-06-13T20:51:32.286Z"
   },
   {
    "duration": 34,
    "start_time": "2022-06-13T20:51:32.326Z"
   },
   {
    "duration": 8,
    "start_time": "2022-06-13T20:51:32.362Z"
   },
   {
    "duration": 31,
    "start_time": "2022-06-13T20:51:32.372Z"
   },
   {
    "duration": 16,
    "start_time": "2022-06-13T20:51:32.405Z"
   },
   {
    "duration": 32,
    "start_time": "2022-06-13T20:51:32.422Z"
   },
   {
    "duration": 197,
    "start_time": "2022-06-13T20:51:32.456Z"
   },
   {
    "duration": 202,
    "start_time": "2022-06-13T20:51:32.655Z"
   },
   {
    "duration": 213,
    "start_time": "2022-06-13T20:51:32.859Z"
   },
   {
    "duration": 554,
    "start_time": "2022-06-13T20:51:33.076Z"
   },
   {
    "duration": 5,
    "start_time": "2022-06-13T20:51:33.631Z"
   },
   {
    "duration": 36,
    "start_time": "2022-06-13T20:51:33.637Z"
   },
   {
    "duration": 57,
    "start_time": "2022-06-13T20:51:33.674Z"
   },
   {
    "duration": 22,
    "start_time": "2022-06-13T20:51:33.733Z"
   },
   {
    "duration": 29,
    "start_time": "2022-06-13T20:51:33.757Z"
   },
   {
    "duration": 47,
    "start_time": "2022-06-13T20:51:33.788Z"
   },
   {
    "duration": 831,
    "start_time": "2022-06-13T20:51:33.837Z"
   },
   {
    "duration": 80,
    "start_time": "2022-06-13T20:51:34.670Z"
   },
   {
    "duration": 76,
    "start_time": "2022-06-13T20:51:34.752Z"
   },
   {
    "duration": 5,
    "start_time": "2022-06-13T20:51:34.830Z"
   },
   {
    "duration": 45,
    "start_time": "2022-06-13T20:51:34.836Z"
   },
   {
    "duration": 48,
    "start_time": "2022-06-13T20:51:34.883Z"
   },
   {
    "duration": 51,
    "start_time": "2022-06-13T20:51:34.932Z"
   },
   {
    "duration": 64,
    "start_time": "2022-06-13T20:51:34.985Z"
   },
   {
    "duration": 29,
    "start_time": "2022-06-13T20:51:35.051Z"
   },
   {
    "duration": 546,
    "start_time": "2022-06-13T20:51:35.082Z"
   },
   {
    "duration": 1210,
    "start_time": "2022-06-13T20:51:35.631Z"
   },
   {
    "duration": 1799,
    "start_time": "2022-06-13T20:51:36.931Z"
   },
   {
    "duration": 8,
    "start_time": "2022-06-13T20:51:38.731Z"
   },
   {
    "duration": 788,
    "start_time": "2022-06-13T20:51:38.740Z"
   },
   {
    "duration": 1497,
    "start_time": "2022-06-13T20:51:39.533Z"
   },
   {
    "duration": 100,
    "start_time": "2022-06-13T20:51:41.033Z"
   },
   {
    "duration": 105,
    "start_time": "2022-06-13T20:51:41.136Z"
   },
   {
    "duration": 8,
    "start_time": "2022-06-13T20:51:41.328Z"
   },
   {
    "duration": 21,
    "start_time": "2022-06-13T20:51:41.338Z"
   },
   {
    "duration": 1317,
    "start_time": "2022-06-13T20:51:44.539Z"
   },
   {
    "duration": 1075,
    "start_time": "2022-06-13T20:51:45.859Z"
   },
   {
    "duration": 24,
    "start_time": "2022-06-13T20:51:46.936Z"
   },
   {
    "duration": 76,
    "start_time": "2022-06-13T20:51:46.962Z"
   },
   {
    "duration": 230,
    "start_time": "2022-06-13T20:51:47.040Z"
   },
   {
    "duration": 65,
    "start_time": "2022-06-13T20:51:47.273Z"
   },
   {
    "duration": 16,
    "start_time": "2022-06-13T20:51:47.340Z"
   },
   {
    "duration": 75,
    "start_time": "2022-06-13T20:51:47.358Z"
   },
   {
    "duration": 15,
    "start_time": "2022-06-13T20:51:47.435Z"
   },
   {
    "duration": 25,
    "start_time": "2022-06-13T20:51:47.452Z"
   },
   {
    "duration": 223,
    "start_time": "2022-06-13T20:51:47.527Z"
   },
   {
    "duration": 8,
    "start_time": "2022-06-13T20:51:47.752Z"
   },
   {
    "duration": 11,
    "start_time": "2022-06-13T20:51:47.761Z"
   },
   {
    "duration": 54,
    "start_time": "2022-06-13T20:51:47.774Z"
   },
   {
    "duration": 6,
    "start_time": "2022-06-13T20:51:47.829Z"
   },
   {
    "duration": 13,
    "start_time": "2022-06-13T20:51:47.836Z"
   },
   {
    "duration": 31,
    "start_time": "2022-06-13T20:51:47.850Z"
   },
   {
    "duration": 61,
    "start_time": "2022-06-13T20:51:47.883Z"
   },
   {
    "duration": 23,
    "start_time": "2022-06-13T20:51:47.946Z"
   },
   {
    "duration": 20,
    "start_time": "2022-06-13T20:51:48.027Z"
   },
   {
    "duration": 13,
    "start_time": "2022-06-13T20:51:48.049Z"
   },
   {
    "duration": 70,
    "start_time": "2022-06-13T20:51:48.063Z"
   },
   {
    "duration": 3,
    "start_time": "2022-06-13T20:51:48.135Z"
   },
   {
    "duration": 19,
    "start_time": "2022-06-13T20:51:48.140Z"
   },
   {
    "duration": 496,
    "start_time": "2022-06-13T20:51:48.161Z"
   },
   {
    "duration": 210,
    "start_time": "2022-06-13T20:51:48.658Z"
   },
   {
    "duration": 208,
    "start_time": "2022-06-13T20:51:48.870Z"
   },
   {
    "duration": 335,
    "start_time": "2022-06-13T20:51:49.082Z"
   },
   {
    "duration": 10,
    "start_time": "2022-06-13T20:51:49.418Z"
   },
   {
    "duration": 4,
    "start_time": "2022-06-13T20:51:49.429Z"
   },
   {
    "duration": 9,
    "start_time": "2022-06-13T20:51:49.434Z"
   },
   {
    "duration": 9,
    "start_time": "2022-06-13T20:51:49.445Z"
   },
   {
    "duration": 12,
    "start_time": "2022-06-13T20:51:49.455Z"
   },
   {
    "duration": 10,
    "start_time": "2022-06-13T20:51:49.468Z"
   },
   {
    "duration": 385,
    "start_time": "2022-06-13T20:51:49.479Z"
   },
   {
    "duration": 23,
    "start_time": "2022-06-13T20:51:49.865Z"
   },
   {
    "duration": 15,
    "start_time": "2022-06-13T20:51:49.889Z"
   },
   {
    "duration": 21,
    "start_time": "2022-06-13T20:51:49.906Z"
   },
   {
    "duration": 16,
    "start_time": "2022-06-13T20:51:49.929Z"
   },
   {
    "duration": 10,
    "start_time": "2022-06-13T20:51:49.947Z"
   },
   {
    "duration": 22,
    "start_time": "2022-06-13T20:51:49.958Z"
   },
   {
    "duration": 36,
    "start_time": "2022-06-13T20:51:49.981Z"
   },
   {
    "duration": 29,
    "start_time": "2022-06-13T20:51:50.026Z"
   },
   {
    "duration": 171,
    "start_time": "2022-06-13T20:51:50.057Z"
   },
   {
    "duration": 1401,
    "start_time": "2022-06-13T20:51:50.230Z"
   },
   {
    "duration": 1399,
    "start_time": "2022-06-13T20:51:51.634Z"
   },
   {
    "duration": 11,
    "start_time": "2022-06-13T20:51:53.036Z"
   },
   {
    "duration": 384,
    "start_time": "2022-06-13T20:51:53.049Z"
   },
   {
    "duration": 1193,
    "start_time": "2022-06-13T20:51:53.435Z"
   },
   {
    "duration": 6,
    "start_time": "2022-06-13T20:51:54.630Z"
   },
   {
    "duration": 102,
    "start_time": "2022-06-13T20:51:54.727Z"
   },
   {
    "duration": 8,
    "start_time": "2022-06-13T20:51:54.831Z"
   },
   {
    "duration": 18,
    "start_time": "2022-06-13T20:51:54.841Z"
   },
   {
    "duration": 37723,
    "start_time": "2022-06-13T20:51:54.861Z"
   },
   {
    "duration": 4,
    "start_time": "2022-06-13T20:52:32.586Z"
   },
   {
    "duration": 35786,
    "start_time": "2022-06-13T20:52:32.592Z"
   },
   {
    "duration": 4,
    "start_time": "2022-06-13T20:53:08.380Z"
   },
   {
    "duration": 54,
    "start_time": "2022-06-13T20:53:08.385Z"
   },
   {
    "duration": 198,
    "start_time": "2022-06-13T20:53:08.441Z"
   },
   {
    "duration": 9,
    "start_time": "2022-06-13T20:53:08.640Z"
   },
   {
    "duration": 18,
    "start_time": "2022-06-13T20:53:08.650Z"
   },
   {
    "duration": 68319,
    "start_time": "2022-06-13T20:53:08.670Z"
   },
   {
    "duration": 99190,
    "start_time": "2022-06-13T20:54:16.991Z"
   },
   {
    "duration": 24,
    "start_time": "2022-06-13T20:55:56.182Z"
   },
   {
    "duration": 6,
    "start_time": "2022-06-13T20:55:56.208Z"
   },
   {
    "duration": 13,
    "start_time": "2022-06-13T20:55:56.227Z"
   },
   {
    "duration": 28,
    "start_time": "2022-06-13T20:55:56.241Z"
   },
   {
    "duration": 50,
    "start_time": "2022-06-13T20:55:56.271Z"
   },
   {
    "duration": 28,
    "start_time": "2022-06-13T20:55:56.323Z"
   },
   {
    "duration": 33,
    "start_time": "2022-06-13T20:55:56.353Z"
   },
   {
    "duration": 61,
    "start_time": "2022-06-14T08:00:34.303Z"
   },
   {
    "duration": 1561,
    "start_time": "2022-06-14T08:00:38.089Z"
   },
   {
    "duration": 2193,
    "start_time": "2022-06-14T08:00:39.653Z"
   },
   {
    "duration": 26,
    "start_time": "2022-06-14T08:00:41.848Z"
   },
   {
    "duration": 21,
    "start_time": "2022-06-14T08:00:41.876Z"
   },
   {
    "duration": 161,
    "start_time": "2022-06-14T08:00:41.899Z"
   },
   {
    "duration": 21,
    "start_time": "2022-06-14T08:00:42.062Z"
   },
   {
    "duration": 14,
    "start_time": "2022-06-14T08:00:42.085Z"
   },
   {
    "duration": 28,
    "start_time": "2022-06-14T08:00:42.127Z"
   },
   {
    "duration": 21,
    "start_time": "2022-06-14T08:00:42.157Z"
   },
   {
    "duration": 29,
    "start_time": "2022-06-14T08:00:42.181Z"
   },
   {
    "duration": 140,
    "start_time": "2022-06-14T08:00:42.212Z"
   },
   {
    "duration": 8,
    "start_time": "2022-06-14T08:00:42.354Z"
   },
   {
    "duration": 11,
    "start_time": "2022-06-14T08:00:42.364Z"
   },
   {
    "duration": 10,
    "start_time": "2022-06-14T08:00:42.378Z"
   },
   {
    "duration": 11,
    "start_time": "2022-06-14T08:00:42.390Z"
   },
   {
    "duration": 29,
    "start_time": "2022-06-14T08:00:42.403Z"
   },
   {
    "duration": 16,
    "start_time": "2022-06-14T08:00:42.439Z"
   },
   {
    "duration": 13,
    "start_time": "2022-06-14T08:00:42.458Z"
   },
   {
    "duration": 26,
    "start_time": "2022-06-14T08:00:42.473Z"
   },
   {
    "duration": 29,
    "start_time": "2022-06-14T08:00:42.502Z"
   },
   {
    "duration": 13,
    "start_time": "2022-06-14T08:00:42.542Z"
   },
   {
    "duration": 19,
    "start_time": "2022-06-14T08:00:42.557Z"
   },
   {
    "duration": 3,
    "start_time": "2022-06-14T08:00:42.578Z"
   },
   {
    "duration": 5,
    "start_time": "2022-06-14T08:00:42.583Z"
   },
   {
    "duration": 249,
    "start_time": "2022-06-14T08:00:42.590Z"
   },
   {
    "duration": 231,
    "start_time": "2022-06-14T08:00:42.842Z"
   },
   {
    "duration": 226,
    "start_time": "2022-06-14T08:00:43.075Z"
   },
   {
    "duration": 364,
    "start_time": "2022-06-14T08:00:43.306Z"
   },
   {
    "duration": 4,
    "start_time": "2022-06-14T08:00:43.672Z"
   },
   {
    "duration": 6,
    "start_time": "2022-06-14T08:00:43.678Z"
   },
   {
    "duration": 11,
    "start_time": "2022-06-14T08:00:43.686Z"
   },
   {
    "duration": 38,
    "start_time": "2022-06-14T08:00:43.698Z"
   },
   {
    "duration": 9,
    "start_time": "2022-06-14T08:00:43.740Z"
   },
   {
    "duration": 8,
    "start_time": "2022-06-14T08:00:43.751Z"
   },
   {
    "duration": 457,
    "start_time": "2022-06-14T08:00:43.761Z"
   },
   {
    "duration": 39,
    "start_time": "2022-06-14T08:00:44.221Z"
   },
   {
    "duration": 131,
    "start_time": "2022-06-14T08:00:44.262Z"
   },
   {
    "duration": 0,
    "start_time": "2022-06-14T08:00:44.395Z"
   },
   {
    "duration": 0,
    "start_time": "2022-06-14T08:00:44.396Z"
   },
   {
    "duration": 0,
    "start_time": "2022-06-14T08:00:44.397Z"
   },
   {
    "duration": 0,
    "start_time": "2022-06-14T08:00:44.398Z"
   },
   {
    "duration": 0,
    "start_time": "2022-06-14T08:00:44.400Z"
   },
   {
    "duration": 0,
    "start_time": "2022-06-14T08:00:44.401Z"
   },
   {
    "duration": 1,
    "start_time": "2022-06-14T08:00:44.402Z"
   },
   {
    "duration": 0,
    "start_time": "2022-06-14T08:00:44.404Z"
   },
   {
    "duration": 0,
    "start_time": "2022-06-14T08:00:44.405Z"
   },
   {
    "duration": 0,
    "start_time": "2022-06-14T08:00:44.407Z"
   },
   {
    "duration": 0,
    "start_time": "2022-06-14T08:00:44.408Z"
   },
   {
    "duration": 0,
    "start_time": "2022-06-14T08:00:44.409Z"
   },
   {
    "duration": 0,
    "start_time": "2022-06-14T08:00:44.426Z"
   },
   {
    "duration": 0,
    "start_time": "2022-06-14T08:00:44.428Z"
   },
   {
    "duration": 0,
    "start_time": "2022-06-14T08:00:44.441Z"
   },
   {
    "duration": 0,
    "start_time": "2022-06-14T08:00:44.445Z"
   },
   {
    "duration": 0,
    "start_time": "2022-06-14T08:00:44.448Z"
   },
   {
    "duration": 0,
    "start_time": "2022-06-14T08:00:44.449Z"
   },
   {
    "duration": 0,
    "start_time": "2022-06-14T08:00:44.450Z"
   },
   {
    "duration": 0,
    "start_time": "2022-06-14T08:00:44.451Z"
   },
   {
    "duration": 0,
    "start_time": "2022-06-14T08:00:44.453Z"
   },
   {
    "duration": 0,
    "start_time": "2022-06-14T08:00:44.454Z"
   },
   {
    "duration": 0,
    "start_time": "2022-06-14T08:00:44.454Z"
   },
   {
    "duration": 0,
    "start_time": "2022-06-14T08:00:44.455Z"
   },
   {
    "duration": 0,
    "start_time": "2022-06-14T08:00:44.456Z"
   },
   {
    "duration": 0,
    "start_time": "2022-06-14T08:00:44.457Z"
   },
   {
    "duration": 0,
    "start_time": "2022-06-14T08:00:44.461Z"
   },
   {
    "duration": 0,
    "start_time": "2022-06-14T08:00:44.462Z"
   },
   {
    "duration": 0,
    "start_time": "2022-06-14T08:00:44.475Z"
   },
   {
    "duration": 0,
    "start_time": "2022-06-14T08:00:44.476Z"
   },
   {
    "duration": 0,
    "start_time": "2022-06-14T08:00:44.478Z"
   },
   {
    "duration": 0,
    "start_time": "2022-06-14T08:00:44.479Z"
   },
   {
    "duration": 0,
    "start_time": "2022-06-14T08:00:44.481Z"
   },
   {
    "duration": 14,
    "start_time": "2022-06-14T08:03:47.476Z"
   },
   {
    "duration": 7,
    "start_time": "2022-06-14T08:04:49.857Z"
   },
   {
    "duration": 1276,
    "start_time": "2022-06-14T08:04:55.792Z"
   },
   {
    "duration": 692,
    "start_time": "2022-06-14T08:04:57.070Z"
   },
   {
    "duration": 20,
    "start_time": "2022-06-14T08:04:57.763Z"
   },
   {
    "duration": 16,
    "start_time": "2022-06-14T08:04:57.785Z"
   },
   {
    "duration": 150,
    "start_time": "2022-06-14T08:04:57.803Z"
   },
   {
    "duration": 25,
    "start_time": "2022-06-14T08:04:57.955Z"
   },
   {
    "duration": 12,
    "start_time": "2022-06-14T08:04:57.982Z"
   },
   {
    "duration": 43,
    "start_time": "2022-06-14T08:04:57.995Z"
   },
   {
    "duration": 17,
    "start_time": "2022-06-14T08:04:58.045Z"
   },
   {
    "duration": 17,
    "start_time": "2022-06-14T08:04:58.065Z"
   },
   {
    "duration": 105,
    "start_time": "2022-06-14T08:04:58.083Z"
   },
   {
    "duration": 8,
    "start_time": "2022-06-14T08:04:58.190Z"
   },
   {
    "duration": 5,
    "start_time": "2022-06-14T08:04:58.199Z"
   },
   {
    "duration": 21,
    "start_time": "2022-06-14T08:04:58.206Z"
   },
   {
    "duration": 27,
    "start_time": "2022-06-14T08:04:58.228Z"
   },
   {
    "duration": 9,
    "start_time": "2022-06-14T08:04:58.256Z"
   },
   {
    "duration": 17,
    "start_time": "2022-06-14T08:04:58.267Z"
   },
   {
    "duration": 18,
    "start_time": "2022-06-14T08:04:58.286Z"
   },
   {
    "duration": 30,
    "start_time": "2022-06-14T08:04:58.306Z"
   },
   {
    "duration": 20,
    "start_time": "2022-06-14T08:04:58.338Z"
   },
   {
    "duration": 13,
    "start_time": "2022-06-14T08:04:58.360Z"
   },
   {
    "duration": 13,
    "start_time": "2022-06-14T08:04:58.375Z"
   },
   {
    "duration": 3,
    "start_time": "2022-06-14T08:04:58.390Z"
   },
   {
    "duration": 32,
    "start_time": "2022-06-14T08:04:58.395Z"
   },
   {
    "duration": 231,
    "start_time": "2022-06-14T08:04:58.430Z"
   },
   {
    "duration": 246,
    "start_time": "2022-06-14T08:04:58.662Z"
   },
   {
    "duration": 229,
    "start_time": "2022-06-14T08:04:58.910Z"
   },
   {
    "duration": 325,
    "start_time": "2022-06-14T08:04:59.148Z"
   },
   {
    "duration": 4,
    "start_time": "2022-06-14T08:04:59.475Z"
   },
   {
    "duration": 7,
    "start_time": "2022-06-14T08:04:59.480Z"
   },
   {
    "duration": 10,
    "start_time": "2022-06-14T08:04:59.489Z"
   },
   {
    "duration": 9,
    "start_time": "2022-06-14T08:04:59.500Z"
   },
   {
    "duration": 24,
    "start_time": "2022-06-14T08:04:59.510Z"
   },
   {
    "duration": 7,
    "start_time": "2022-06-14T08:04:59.542Z"
   },
   {
    "duration": 449,
    "start_time": "2022-06-14T08:04:59.553Z"
   },
   {
    "duration": 39,
    "start_time": "2022-06-14T08:05:00.004Z"
   },
   {
    "duration": 13,
    "start_time": "2022-06-14T08:05:00.051Z"
   },
   {
    "duration": 28,
    "start_time": "2022-06-14T08:05:00.066Z"
   },
   {
    "duration": 35,
    "start_time": "2022-06-14T08:05:00.096Z"
   },
   {
    "duration": 25,
    "start_time": "2022-06-14T08:05:00.137Z"
   },
   {
    "duration": 136,
    "start_time": "2022-06-14T08:05:00.163Z"
   },
   {
    "duration": 0,
    "start_time": "2022-06-14T08:05:00.300Z"
   },
   {
    "duration": 0,
    "start_time": "2022-06-14T08:05:00.302Z"
   },
   {
    "duration": 0,
    "start_time": "2022-06-14T08:05:00.303Z"
   },
   {
    "duration": 0,
    "start_time": "2022-06-14T08:05:00.304Z"
   },
   {
    "duration": 0,
    "start_time": "2022-06-14T08:05:00.305Z"
   },
   {
    "duration": 0,
    "start_time": "2022-06-14T08:05:00.306Z"
   },
   {
    "duration": 1,
    "start_time": "2022-06-14T08:05:00.306Z"
   },
   {
    "duration": 0,
    "start_time": "2022-06-14T08:05:00.308Z"
   },
   {
    "duration": 0,
    "start_time": "2022-06-14T08:05:00.309Z"
   },
   {
    "duration": 1,
    "start_time": "2022-06-14T08:05:00.328Z"
   },
   {
    "duration": 0,
    "start_time": "2022-06-14T08:05:00.329Z"
   },
   {
    "duration": 0,
    "start_time": "2022-06-14T08:05:00.330Z"
   },
   {
    "duration": 0,
    "start_time": "2022-06-14T08:05:00.330Z"
   },
   {
    "duration": 0,
    "start_time": "2022-06-14T08:05:00.331Z"
   },
   {
    "duration": 0,
    "start_time": "2022-06-14T08:05:00.331Z"
   },
   {
    "duration": 0,
    "start_time": "2022-06-14T08:05:00.332Z"
   },
   {
    "duration": 0,
    "start_time": "2022-06-14T08:05:00.333Z"
   },
   {
    "duration": 0,
    "start_time": "2022-06-14T08:05:00.333Z"
   },
   {
    "duration": 0,
    "start_time": "2022-06-14T08:05:00.334Z"
   },
   {
    "duration": 0,
    "start_time": "2022-06-14T08:05:00.334Z"
   },
   {
    "duration": 0,
    "start_time": "2022-06-14T08:05:00.335Z"
   },
   {
    "duration": 0,
    "start_time": "2022-06-14T08:05:00.336Z"
   },
   {
    "duration": 0,
    "start_time": "2022-06-14T08:05:00.344Z"
   },
   {
    "duration": 0,
    "start_time": "2022-06-14T08:05:00.352Z"
   },
   {
    "duration": 0,
    "start_time": "2022-06-14T08:05:00.353Z"
   },
   {
    "duration": 0,
    "start_time": "2022-06-14T08:05:00.354Z"
   },
   {
    "duration": 0,
    "start_time": "2022-06-14T08:05:00.355Z"
   },
   {
    "duration": 1,
    "start_time": "2022-06-14T08:05:00.356Z"
   },
   {
    "duration": 0,
    "start_time": "2022-06-14T08:05:00.358Z"
   },
   {
    "duration": 10,
    "start_time": "2022-06-14T08:13:02.958Z"
   },
   {
    "duration": 1279,
    "start_time": "2022-06-14T08:13:06.690Z"
   },
   {
    "duration": 1762,
    "start_time": "2022-06-14T08:13:07.970Z"
   },
   {
    "duration": 25,
    "start_time": "2022-06-14T08:13:09.734Z"
   },
   {
    "duration": 72,
    "start_time": "2022-06-14T08:13:09.761Z"
   },
   {
    "duration": 244,
    "start_time": "2022-06-14T08:13:09.840Z"
   },
   {
    "duration": 26,
    "start_time": "2022-06-14T08:13:10.136Z"
   },
   {
    "duration": 14,
    "start_time": "2022-06-14T08:13:10.164Z"
   },
   {
    "duration": 21,
    "start_time": "2022-06-14T08:13:10.180Z"
   },
   {
    "duration": 50,
    "start_time": "2022-06-14T08:13:10.202Z"
   },
   {
    "duration": 49,
    "start_time": "2022-06-14T08:13:10.255Z"
   },
   {
    "duration": 114,
    "start_time": "2022-06-14T08:13:10.306Z"
   },
   {
    "duration": 8,
    "start_time": "2022-06-14T08:13:10.422Z"
   },
   {
    "duration": 29,
    "start_time": "2022-06-14T08:13:10.432Z"
   },
   {
    "duration": 11,
    "start_time": "2022-06-14T08:13:10.464Z"
   },
   {
    "duration": 7,
    "start_time": "2022-06-14T08:13:10.477Z"
   },
   {
    "duration": 7,
    "start_time": "2022-06-14T08:13:10.486Z"
   },
   {
    "duration": 17,
    "start_time": "2022-06-14T08:13:10.495Z"
   },
   {
    "duration": 29,
    "start_time": "2022-06-14T08:13:10.514Z"
   },
   {
    "duration": 37,
    "start_time": "2022-06-14T08:13:10.544Z"
   },
   {
    "duration": 18,
    "start_time": "2022-06-14T08:13:10.583Z"
   },
   {
    "duration": 10,
    "start_time": "2022-06-14T08:13:10.603Z"
   },
   {
    "duration": 22,
    "start_time": "2022-06-14T08:13:10.615Z"
   },
   {
    "duration": 6,
    "start_time": "2022-06-14T08:13:10.650Z"
   },
   {
    "duration": 11,
    "start_time": "2022-06-14T08:13:10.659Z"
   },
   {
    "duration": 242,
    "start_time": "2022-06-14T08:13:10.671Z"
   },
   {
    "duration": 245,
    "start_time": "2022-06-14T08:13:10.915Z"
   },
   {
    "duration": 239,
    "start_time": "2022-06-14T08:13:11.161Z"
   },
   {
    "duration": 369,
    "start_time": "2022-06-14T08:13:11.404Z"
   },
   {
    "duration": 4,
    "start_time": "2022-06-14T08:13:11.775Z"
   },
   {
    "duration": 11,
    "start_time": "2022-06-14T08:13:11.781Z"
   },
   {
    "duration": 7,
    "start_time": "2022-06-14T08:13:11.794Z"
   },
   {
    "duration": 6,
    "start_time": "2022-06-14T08:13:11.802Z"
   },
   {
    "duration": 22,
    "start_time": "2022-06-14T08:13:11.809Z"
   },
   {
    "duration": 28,
    "start_time": "2022-06-14T08:13:11.833Z"
   },
   {
    "duration": 453,
    "start_time": "2022-06-14T08:13:11.864Z"
   },
   {
    "duration": 46,
    "start_time": "2022-06-14T08:13:12.319Z"
   },
   {
    "duration": 13,
    "start_time": "2022-06-14T08:13:12.367Z"
   },
   {
    "duration": 11,
    "start_time": "2022-06-14T08:13:12.382Z"
   },
   {
    "duration": 34,
    "start_time": "2022-06-14T08:13:12.395Z"
   },
   {
    "duration": 47,
    "start_time": "2022-06-14T08:13:12.431Z"
   },
   {
    "duration": 25,
    "start_time": "2022-06-14T08:13:12.480Z"
   },
   {
    "duration": 176,
    "start_time": "2022-06-14T08:13:12.507Z"
   },
   {
    "duration": 0,
    "start_time": "2022-06-14T08:13:12.685Z"
   },
   {
    "duration": 0,
    "start_time": "2022-06-14T08:13:12.687Z"
   },
   {
    "duration": 0,
    "start_time": "2022-06-14T08:13:12.688Z"
   },
   {
    "duration": 0,
    "start_time": "2022-06-14T08:13:12.689Z"
   },
   {
    "duration": 0,
    "start_time": "2022-06-14T08:13:12.690Z"
   },
   {
    "duration": 0,
    "start_time": "2022-06-14T08:13:12.692Z"
   },
   {
    "duration": 0,
    "start_time": "2022-06-14T08:13:12.693Z"
   },
   {
    "duration": 0,
    "start_time": "2022-06-14T08:13:12.694Z"
   },
   {
    "duration": 0,
    "start_time": "2022-06-14T08:13:12.695Z"
   },
   {
    "duration": 0,
    "start_time": "2022-06-14T08:13:12.696Z"
   },
   {
    "duration": 0,
    "start_time": "2022-06-14T08:13:12.697Z"
   },
   {
    "duration": 0,
    "start_time": "2022-06-14T08:13:12.698Z"
   },
   {
    "duration": 0,
    "start_time": "2022-06-14T08:13:12.699Z"
   },
   {
    "duration": 0,
    "start_time": "2022-06-14T08:13:12.700Z"
   },
   {
    "duration": 0,
    "start_time": "2022-06-14T08:13:12.701Z"
   },
   {
    "duration": 0,
    "start_time": "2022-06-14T08:13:12.702Z"
   },
   {
    "duration": 0,
    "start_time": "2022-06-14T08:13:12.703Z"
   },
   {
    "duration": 0,
    "start_time": "2022-06-14T08:13:12.704Z"
   },
   {
    "duration": 0,
    "start_time": "2022-06-14T08:13:12.705Z"
   },
   {
    "duration": 0,
    "start_time": "2022-06-14T08:13:12.729Z"
   },
   {
    "duration": 0,
    "start_time": "2022-06-14T08:13:12.730Z"
   },
   {
    "duration": 0,
    "start_time": "2022-06-14T08:13:12.730Z"
   },
   {
    "duration": 0,
    "start_time": "2022-06-14T08:13:12.731Z"
   },
   {
    "duration": 0,
    "start_time": "2022-06-14T08:13:12.732Z"
   },
   {
    "duration": 0,
    "start_time": "2022-06-14T08:13:12.737Z"
   },
   {
    "duration": 0,
    "start_time": "2022-06-14T08:13:12.737Z"
   },
   {
    "duration": 0,
    "start_time": "2022-06-14T08:13:12.738Z"
   },
   {
    "duration": 0,
    "start_time": "2022-06-14T08:13:12.739Z"
   },
   {
    "duration": 1457,
    "start_time": "2022-06-14T08:13:43.109Z"
   },
   {
    "duration": 749,
    "start_time": "2022-06-14T08:13:44.570Z"
   },
   {
    "duration": 34,
    "start_time": "2022-06-14T08:13:45.320Z"
   },
   {
    "duration": 26,
    "start_time": "2022-06-14T08:13:45.359Z"
   },
   {
    "duration": 120,
    "start_time": "2022-06-14T08:13:45.387Z"
   },
   {
    "duration": 36,
    "start_time": "2022-06-14T08:13:45.509Z"
   },
   {
    "duration": 15,
    "start_time": "2022-06-14T08:13:45.546Z"
   },
   {
    "duration": 19,
    "start_time": "2022-06-14T08:13:45.563Z"
   },
   {
    "duration": 14,
    "start_time": "2022-06-14T08:13:45.584Z"
   },
   {
    "duration": 38,
    "start_time": "2022-06-14T08:13:45.602Z"
   },
   {
    "duration": 98,
    "start_time": "2022-06-14T08:13:45.641Z"
   },
   {
    "duration": 18,
    "start_time": "2022-06-14T08:13:45.740Z"
   },
   {
    "duration": 7,
    "start_time": "2022-06-14T08:13:45.760Z"
   },
   {
    "duration": 8,
    "start_time": "2022-06-14T08:13:45.768Z"
   },
   {
    "duration": 7,
    "start_time": "2022-06-14T08:13:45.777Z"
   },
   {
    "duration": 9,
    "start_time": "2022-06-14T08:13:45.785Z"
   },
   {
    "duration": 15,
    "start_time": "2022-06-14T08:13:45.795Z"
   },
   {
    "duration": 31,
    "start_time": "2022-06-14T08:13:45.812Z"
   },
   {
    "duration": 29,
    "start_time": "2022-06-14T08:13:45.848Z"
   },
   {
    "duration": 15,
    "start_time": "2022-06-14T08:13:45.879Z"
   },
   {
    "duration": 8,
    "start_time": "2022-06-14T08:13:45.896Z"
   },
   {
    "duration": 28,
    "start_time": "2022-06-14T08:13:45.906Z"
   },
   {
    "duration": 7,
    "start_time": "2022-06-14T08:13:45.938Z"
   },
   {
    "duration": 19,
    "start_time": "2022-06-14T08:13:45.947Z"
   },
   {
    "duration": 214,
    "start_time": "2022-06-14T08:13:45.968Z"
   },
   {
    "duration": 220,
    "start_time": "2022-06-14T08:13:46.184Z"
   },
   {
    "duration": 269,
    "start_time": "2022-06-14T08:13:46.406Z"
   },
   {
    "duration": 412,
    "start_time": "2022-06-14T08:13:46.681Z"
   },
   {
    "duration": 6,
    "start_time": "2022-06-14T08:13:47.096Z"
   },
   {
    "duration": 6,
    "start_time": "2022-06-14T08:13:47.104Z"
   },
   {
    "duration": 35,
    "start_time": "2022-06-14T08:13:47.132Z"
   },
   {
    "duration": 7,
    "start_time": "2022-06-14T08:13:47.169Z"
   },
   {
    "duration": 6,
    "start_time": "2022-06-14T08:13:47.178Z"
   },
   {
    "duration": 9,
    "start_time": "2022-06-14T08:13:47.185Z"
   },
   {
    "duration": 405,
    "start_time": "2022-06-14T08:13:47.196Z"
   },
   {
    "duration": 30,
    "start_time": "2022-06-14T08:13:47.603Z"
   },
   {
    "duration": 8,
    "start_time": "2022-06-14T08:13:47.634Z"
   },
   {
    "duration": 26,
    "start_time": "2022-06-14T08:13:47.644Z"
   },
   {
    "duration": 20,
    "start_time": "2022-06-14T08:13:47.672Z"
   },
   {
    "duration": 10,
    "start_time": "2022-06-14T08:13:47.693Z"
   },
   {
    "duration": 8,
    "start_time": "2022-06-14T08:13:47.704Z"
   },
   {
    "duration": 27,
    "start_time": "2022-06-14T08:13:47.714Z"
   },
   {
    "duration": 142,
    "start_time": "2022-06-14T08:13:47.743Z"
   },
   {
    "duration": 0,
    "start_time": "2022-06-14T08:13:47.887Z"
   },
   {
    "duration": 0,
    "start_time": "2022-06-14T08:13:47.889Z"
   },
   {
    "duration": 0,
    "start_time": "2022-06-14T08:13:47.890Z"
   },
   {
    "duration": 1,
    "start_time": "2022-06-14T08:13:47.891Z"
   },
   {
    "duration": 0,
    "start_time": "2022-06-14T08:13:47.893Z"
   },
   {
    "duration": 0,
    "start_time": "2022-06-14T08:13:47.894Z"
   },
   {
    "duration": 0,
    "start_time": "2022-06-14T08:13:47.895Z"
   },
   {
    "duration": 0,
    "start_time": "2022-06-14T08:13:47.897Z"
   },
   {
    "duration": 0,
    "start_time": "2022-06-14T08:13:47.898Z"
   },
   {
    "duration": 0,
    "start_time": "2022-06-14T08:13:47.899Z"
   },
   {
    "duration": 0,
    "start_time": "2022-06-14T08:13:47.900Z"
   },
   {
    "duration": 0,
    "start_time": "2022-06-14T08:13:47.902Z"
   },
   {
    "duration": 0,
    "start_time": "2022-06-14T08:13:47.925Z"
   },
   {
    "duration": 0,
    "start_time": "2022-06-14T08:13:47.926Z"
   },
   {
    "duration": 0,
    "start_time": "2022-06-14T08:13:47.931Z"
   },
   {
    "duration": 0,
    "start_time": "2022-06-14T08:13:47.931Z"
   },
   {
    "duration": 0,
    "start_time": "2022-06-14T08:13:47.932Z"
   },
   {
    "duration": 0,
    "start_time": "2022-06-14T08:13:47.932Z"
   },
   {
    "duration": 0,
    "start_time": "2022-06-14T08:13:47.933Z"
   },
   {
    "duration": 0,
    "start_time": "2022-06-14T08:13:47.934Z"
   },
   {
    "duration": 0,
    "start_time": "2022-06-14T08:13:47.934Z"
   },
   {
    "duration": 0,
    "start_time": "2022-06-14T08:13:47.935Z"
   },
   {
    "duration": 0,
    "start_time": "2022-06-14T08:13:47.935Z"
   },
   {
    "duration": 0,
    "start_time": "2022-06-14T08:13:47.936Z"
   },
   {
    "duration": 0,
    "start_time": "2022-06-14T08:13:47.937Z"
   },
   {
    "duration": 0,
    "start_time": "2022-06-14T08:13:47.943Z"
   },
   {
    "duration": 0,
    "start_time": "2022-06-14T08:13:47.943Z"
   },
   {
    "duration": 1287,
    "start_time": "2022-06-14T08:14:16.008Z"
   },
   {
    "duration": 1551,
    "start_time": "2022-06-14T08:14:17.297Z"
   },
   {
    "duration": 23,
    "start_time": "2022-06-14T08:14:18.850Z"
   },
   {
    "duration": 75,
    "start_time": "2022-06-14T08:14:18.875Z"
   },
   {
    "duration": 271,
    "start_time": "2022-06-14T08:14:18.959Z"
   },
   {
    "duration": 24,
    "start_time": "2022-06-14T08:14:19.234Z"
   },
   {
    "duration": 79,
    "start_time": "2022-06-14T08:14:19.263Z"
   },
   {
    "duration": 27,
    "start_time": "2022-06-14T08:14:19.344Z"
   },
   {
    "duration": 15,
    "start_time": "2022-06-14T08:14:19.372Z"
   },
   {
    "duration": 24,
    "start_time": "2022-06-14T08:14:19.389Z"
   },
   {
    "duration": 99,
    "start_time": "2022-06-14T08:14:19.414Z"
   },
   {
    "duration": 30,
    "start_time": "2022-06-14T08:14:19.515Z"
   },
   {
    "duration": 16,
    "start_time": "2022-06-14T08:14:19.546Z"
   },
   {
    "duration": 8,
    "start_time": "2022-06-14T08:14:19.563Z"
   },
   {
    "duration": 10,
    "start_time": "2022-06-14T08:14:19.573Z"
   },
   {
    "duration": 17,
    "start_time": "2022-06-14T08:14:19.586Z"
   },
   {
    "duration": 18,
    "start_time": "2022-06-14T08:14:19.604Z"
   },
   {
    "duration": 18,
    "start_time": "2022-06-14T08:14:19.624Z"
   },
   {
    "duration": 38,
    "start_time": "2022-06-14T08:14:19.644Z"
   },
   {
    "duration": 17,
    "start_time": "2022-06-14T08:14:19.683Z"
   },
   {
    "duration": 9,
    "start_time": "2022-06-14T08:14:19.702Z"
   },
   {
    "duration": 24,
    "start_time": "2022-06-14T08:14:19.712Z"
   },
   {
    "duration": 5,
    "start_time": "2022-06-14T08:14:19.737Z"
   },
   {
    "duration": 5,
    "start_time": "2022-06-14T08:14:19.743Z"
   },
   {
    "duration": 225,
    "start_time": "2022-06-14T08:14:19.750Z"
   },
   {
    "duration": 218,
    "start_time": "2022-06-14T08:14:19.977Z"
   },
   {
    "duration": 220,
    "start_time": "2022-06-14T08:14:20.196Z"
   },
   {
    "duration": 365,
    "start_time": "2022-06-14T08:14:20.419Z"
   },
   {
    "duration": 5,
    "start_time": "2022-06-14T08:14:20.786Z"
   },
   {
    "duration": 13,
    "start_time": "2022-06-14T08:14:20.794Z"
   },
   {
    "duration": 17,
    "start_time": "2022-06-14T08:14:20.809Z"
   },
   {
    "duration": 27,
    "start_time": "2022-06-14T08:14:20.833Z"
   },
   {
    "duration": 12,
    "start_time": "2022-06-14T08:14:20.862Z"
   },
   {
    "duration": 10,
    "start_time": "2022-06-14T08:14:20.876Z"
   },
   {
    "duration": 413,
    "start_time": "2022-06-14T08:14:20.888Z"
   },
   {
    "duration": 45,
    "start_time": "2022-06-14T08:14:21.302Z"
   },
   {
    "duration": 9,
    "start_time": "2022-06-14T08:14:21.348Z"
   },
   {
    "duration": 23,
    "start_time": "2022-06-14T08:14:21.358Z"
   },
   {
    "duration": 23,
    "start_time": "2022-06-14T08:14:21.383Z"
   },
   {
    "duration": 10,
    "start_time": "2022-06-14T08:14:21.408Z"
   },
   {
    "duration": 61,
    "start_time": "2022-06-14T08:14:21.419Z"
   },
   {
    "duration": 32,
    "start_time": "2022-06-14T08:14:21.482Z"
   },
   {
    "duration": 33,
    "start_time": "2022-06-14T08:14:21.516Z"
   },
   {
    "duration": 1675,
    "start_time": "2022-06-14T08:14:21.553Z"
   },
   {
    "duration": 3131,
    "start_time": "2022-06-14T08:14:23.230Z"
   },
   {
    "duration": 1994,
    "start_time": "2022-06-14T08:14:26.362Z"
   },
   {
    "duration": 9,
    "start_time": "2022-06-14T08:14:28.358Z"
   },
   {
    "duration": 386,
    "start_time": "2022-06-14T08:14:28.369Z"
   },
   {
    "duration": 2895,
    "start_time": "2022-06-14T08:14:28.757Z"
   },
   {
    "duration": 256,
    "start_time": "2022-06-14T08:14:31.659Z"
   },
   {
    "duration": 0,
    "start_time": "2022-06-14T08:14:31.917Z"
   },
   {
    "duration": 0,
    "start_time": "2022-06-14T08:14:31.918Z"
   },
   {
    "duration": 0,
    "start_time": "2022-06-14T08:14:31.919Z"
   },
   {
    "duration": 0,
    "start_time": "2022-06-14T08:14:31.920Z"
   },
   {
    "duration": 0,
    "start_time": "2022-06-14T08:14:31.926Z"
   },
   {
    "duration": 0,
    "start_time": "2022-06-14T08:14:31.927Z"
   },
   {
    "duration": 0,
    "start_time": "2022-06-14T08:14:31.928Z"
   },
   {
    "duration": 0,
    "start_time": "2022-06-14T08:14:31.929Z"
   },
   {
    "duration": 0,
    "start_time": "2022-06-14T08:14:31.934Z"
   },
   {
    "duration": 0,
    "start_time": "2022-06-14T08:14:31.934Z"
   },
   {
    "duration": 0,
    "start_time": "2022-06-14T08:14:31.935Z"
   },
   {
    "duration": 0,
    "start_time": "2022-06-14T08:14:31.936Z"
   },
   {
    "duration": 0,
    "start_time": "2022-06-14T08:14:31.938Z"
   },
   {
    "duration": 0,
    "start_time": "2022-06-14T08:14:31.939Z"
   },
   {
    "duration": 0,
    "start_time": "2022-06-14T08:14:31.939Z"
   },
   {
    "duration": 0,
    "start_time": "2022-06-14T08:14:31.941Z"
   },
   {
    "duration": 0,
    "start_time": "2022-06-14T08:14:31.943Z"
   },
   {
    "duration": 0,
    "start_time": "2022-06-14T08:14:31.943Z"
   },
   {
    "duration": 0,
    "start_time": "2022-06-14T08:14:31.944Z"
   },
   {
    "duration": 0,
    "start_time": "2022-06-14T08:14:31.944Z"
   },
   {
    "duration": 27,
    "start_time": "2022-06-14T08:19:28.928Z"
   },
   {
    "duration": 36,
    "start_time": "2022-06-14T08:20:09.026Z"
   },
   {
    "duration": 8,
    "start_time": "2022-06-14T08:50:44.162Z"
   },
   {
    "duration": 4,
    "start_time": "2022-06-14T08:50:50.305Z"
   },
   {
    "duration": 112,
    "start_time": "2022-06-14T08:51:48.460Z"
   },
   {
    "duration": 6,
    "start_time": "2022-06-14T08:53:02.159Z"
   },
   {
    "duration": 34,
    "start_time": "2022-06-14T08:53:13.466Z"
   },
   {
    "duration": 39,
    "start_time": "2022-06-14T08:53:31.632Z"
   },
   {
    "duration": 8,
    "start_time": "2022-06-14T08:55:38.775Z"
   },
   {
    "duration": 8,
    "start_time": "2022-06-14T08:56:52.891Z"
   },
   {
    "duration": 16,
    "start_time": "2022-06-14T08:59:11.529Z"
   },
   {
    "duration": 14,
    "start_time": "2022-06-14T08:59:22.377Z"
   },
   {
    "duration": 12,
    "start_time": "2022-06-14T09:02:21.505Z"
   },
   {
    "duration": 1307,
    "start_time": "2022-06-14T09:02:53.909Z"
   },
   {
    "duration": 649,
    "start_time": "2022-06-14T09:02:55.218Z"
   },
   {
    "duration": 19,
    "start_time": "2022-06-14T09:02:55.869Z"
   },
   {
    "duration": 17,
    "start_time": "2022-06-14T09:02:55.890Z"
   },
   {
    "duration": 131,
    "start_time": "2022-06-14T09:02:55.913Z"
   },
   {
    "duration": 16,
    "start_time": "2022-06-14T09:02:56.045Z"
   },
   {
    "duration": 24,
    "start_time": "2022-06-14T09:02:56.063Z"
   },
   {
    "duration": 48,
    "start_time": "2022-06-14T09:02:56.089Z"
   },
   {
    "duration": 15,
    "start_time": "2022-06-14T09:02:56.139Z"
   },
   {
    "duration": 18,
    "start_time": "2022-06-14T09:02:56.158Z"
   },
   {
    "duration": 106,
    "start_time": "2022-06-14T09:02:56.178Z"
   },
   {
    "duration": 6,
    "start_time": "2022-06-14T09:02:56.286Z"
   },
   {
    "duration": 7,
    "start_time": "2022-06-14T09:02:56.294Z"
   },
   {
    "duration": 10,
    "start_time": "2022-06-14T09:02:56.302Z"
   },
   {
    "duration": 35,
    "start_time": "2022-06-14T09:02:56.314Z"
   },
   {
    "duration": 15,
    "start_time": "2022-06-14T09:02:56.351Z"
   },
   {
    "duration": 20,
    "start_time": "2022-06-14T09:02:56.368Z"
   },
   {
    "duration": 13,
    "start_time": "2022-06-14T09:02:56.390Z"
   },
   {
    "duration": 21,
    "start_time": "2022-06-14T09:02:56.405Z"
   },
   {
    "duration": 20,
    "start_time": "2022-06-14T09:02:56.430Z"
   },
   {
    "duration": 17,
    "start_time": "2022-06-14T09:02:56.452Z"
   },
   {
    "duration": 21,
    "start_time": "2022-06-14T09:02:56.471Z"
   },
   {
    "duration": 4,
    "start_time": "2022-06-14T09:02:56.495Z"
   },
   {
    "duration": 29,
    "start_time": "2022-06-14T09:02:56.501Z"
   },
   {
    "duration": 282,
    "start_time": "2022-06-14T09:02:56.533Z"
   },
   {
    "duration": 231,
    "start_time": "2022-06-14T09:02:56.817Z"
   },
   {
    "duration": 219,
    "start_time": "2022-06-14T09:02:57.050Z"
   },
   {
    "duration": 339,
    "start_time": "2022-06-14T09:02:57.274Z"
   },
   {
    "duration": 12,
    "start_time": "2022-06-14T09:02:57.614Z"
   },
   {
    "duration": 18,
    "start_time": "2022-06-14T09:02:57.630Z"
   },
   {
    "duration": 8,
    "start_time": "2022-06-14T09:02:57.650Z"
   },
   {
    "duration": 12,
    "start_time": "2022-06-14T09:02:57.660Z"
   },
   {
    "duration": 8,
    "start_time": "2022-06-14T09:02:57.673Z"
   },
   {
    "duration": 7,
    "start_time": "2022-06-14T09:02:57.682Z"
   },
   {
    "duration": 408,
    "start_time": "2022-06-14T09:02:57.690Z"
   },
   {
    "duration": 40,
    "start_time": "2022-06-14T09:02:58.100Z"
   },
   {
    "duration": 7,
    "start_time": "2022-06-14T09:02:58.141Z"
   },
   {
    "duration": 8,
    "start_time": "2022-06-14T09:02:58.150Z"
   },
   {
    "duration": 17,
    "start_time": "2022-06-14T09:02:58.160Z"
   },
   {
    "duration": 15,
    "start_time": "2022-06-14T09:02:58.179Z"
   },
   {
    "duration": 7,
    "start_time": "2022-06-14T09:02:58.195Z"
   },
   {
    "duration": 15,
    "start_time": "2022-06-14T09:02:58.226Z"
   },
   {
    "duration": 26,
    "start_time": "2022-06-14T09:02:58.243Z"
   },
   {
    "duration": 17,
    "start_time": "2022-06-14T09:02:58.272Z"
   },
   {
    "duration": 645,
    "start_time": "2022-06-14T09:02:58.291Z"
   },
   {
    "duration": 1395,
    "start_time": "2022-06-14T09:02:58.940Z"
   },
   {
    "duration": 704,
    "start_time": "2022-06-14T09:03:00.342Z"
   },
   {
    "duration": 88,
    "start_time": "2022-06-14T09:03:01.048Z"
   },
   {
    "duration": 390,
    "start_time": "2022-06-14T09:03:01.138Z"
   },
   {
    "duration": 1296,
    "start_time": "2022-06-14T09:03:01.534Z"
   },
   {
    "duration": 305,
    "start_time": "2022-06-14T09:03:02.835Z"
   },
   {
    "duration": 0,
    "start_time": "2022-06-14T09:03:03.142Z"
   },
   {
    "duration": 0,
    "start_time": "2022-06-14T09:03:03.144Z"
   },
   {
    "duration": 0,
    "start_time": "2022-06-14T09:03:03.145Z"
   },
   {
    "duration": 0,
    "start_time": "2022-06-14T09:03:03.146Z"
   },
   {
    "duration": 0,
    "start_time": "2022-06-14T09:03:03.147Z"
   },
   {
    "duration": 0,
    "start_time": "2022-06-14T09:03:03.148Z"
   },
   {
    "duration": 0,
    "start_time": "2022-06-14T09:03:03.150Z"
   },
   {
    "duration": 0,
    "start_time": "2022-06-14T09:03:03.150Z"
   },
   {
    "duration": 0,
    "start_time": "2022-06-14T09:03:03.152Z"
   },
   {
    "duration": 0,
    "start_time": "2022-06-14T09:03:03.153Z"
   },
   {
    "duration": 0,
    "start_time": "2022-06-14T09:03:03.154Z"
   },
   {
    "duration": 1,
    "start_time": "2022-06-14T09:03:03.155Z"
   },
   {
    "duration": 0,
    "start_time": "2022-06-14T09:03:03.157Z"
   },
   {
    "duration": 0,
    "start_time": "2022-06-14T09:03:03.158Z"
   },
   {
    "duration": 0,
    "start_time": "2022-06-14T09:03:03.159Z"
   },
   {
    "duration": 0,
    "start_time": "2022-06-14T09:03:03.160Z"
   },
   {
    "duration": 0,
    "start_time": "2022-06-14T09:03:03.161Z"
   },
   {
    "duration": 0,
    "start_time": "2022-06-14T09:03:03.162Z"
   },
   {
    "duration": 0,
    "start_time": "2022-06-14T09:03:03.163Z"
   },
   {
    "duration": 0,
    "start_time": "2022-06-14T09:03:03.164Z"
   },
   {
    "duration": 36,
    "start_time": "2022-06-14T09:03:51.415Z"
   },
   {
    "duration": 17,
    "start_time": "2022-06-14T09:04:35.660Z"
   },
   {
    "duration": 1432,
    "start_time": "2022-06-14T09:04:43.504Z"
   },
   {
    "duration": 696,
    "start_time": "2022-06-14T09:04:44.938Z"
   },
   {
    "duration": 23,
    "start_time": "2022-06-14T09:04:45.636Z"
   },
   {
    "duration": 18,
    "start_time": "2022-06-14T09:04:45.661Z"
   },
   {
    "duration": 138,
    "start_time": "2022-06-14T09:04:45.680Z"
   },
   {
    "duration": 28,
    "start_time": "2022-06-14T09:04:45.819Z"
   },
   {
    "duration": 18,
    "start_time": "2022-06-14T09:04:45.849Z"
   },
   {
    "duration": 24,
    "start_time": "2022-06-14T09:04:45.870Z"
   },
   {
    "duration": 46,
    "start_time": "2022-06-14T09:04:45.896Z"
   },
   {
    "duration": 18,
    "start_time": "2022-06-14T09:04:45.945Z"
   },
   {
    "duration": 102,
    "start_time": "2022-06-14T09:04:45.965Z"
   },
   {
    "duration": 8,
    "start_time": "2022-06-14T09:04:46.068Z"
   },
   {
    "duration": 6,
    "start_time": "2022-06-14T09:04:46.078Z"
   },
   {
    "duration": 7,
    "start_time": "2022-06-14T09:04:46.086Z"
   },
   {
    "duration": 10,
    "start_time": "2022-06-14T09:04:46.095Z"
   },
   {
    "duration": 18,
    "start_time": "2022-06-14T09:04:46.130Z"
   },
   {
    "duration": 18,
    "start_time": "2022-06-14T09:04:46.150Z"
   },
   {
    "duration": 13,
    "start_time": "2022-06-14T09:04:46.170Z"
   },
   {
    "duration": 19,
    "start_time": "2022-06-14T09:04:46.184Z"
   },
   {
    "duration": 32,
    "start_time": "2022-06-14T09:04:46.205Z"
   },
   {
    "duration": 14,
    "start_time": "2022-06-14T09:04:46.243Z"
   },
   {
    "duration": 15,
    "start_time": "2022-06-14T09:04:46.258Z"
   },
   {
    "duration": 3,
    "start_time": "2022-06-14T09:04:46.275Z"
   },
   {
    "duration": 6,
    "start_time": "2022-06-14T09:04:46.280Z"
   },
   {
    "duration": 270,
    "start_time": "2022-06-14T09:04:46.287Z"
   },
   {
    "duration": 307,
    "start_time": "2022-06-14T09:04:46.559Z"
   },
   {
    "duration": 331,
    "start_time": "2022-06-14T09:04:46.868Z"
   },
   {
    "duration": 379,
    "start_time": "2022-06-14T09:04:47.205Z"
   },
   {
    "duration": 8,
    "start_time": "2022-06-14T09:04:47.586Z"
   },
   {
    "duration": 5,
    "start_time": "2022-06-14T09:04:47.597Z"
   },
   {
    "duration": 30,
    "start_time": "2022-06-14T09:04:47.604Z"
   },
   {
    "duration": 19,
    "start_time": "2022-06-14T09:04:47.637Z"
   },
   {
    "duration": 8,
    "start_time": "2022-06-14T09:04:47.658Z"
   },
   {
    "duration": 11,
    "start_time": "2022-06-14T09:04:47.668Z"
   },
   {
    "duration": 417,
    "start_time": "2022-06-14T09:04:47.681Z"
   },
   {
    "duration": 46,
    "start_time": "2022-06-14T09:04:48.099Z"
   },
   {
    "duration": 8,
    "start_time": "2022-06-14T09:04:48.147Z"
   },
   {
    "duration": 10,
    "start_time": "2022-06-14T09:04:48.157Z"
   },
   {
    "duration": 16,
    "start_time": "2022-06-14T09:04:48.168Z"
   },
   {
    "duration": 14,
    "start_time": "2022-06-14T09:04:48.186Z"
   },
   {
    "duration": 29,
    "start_time": "2022-06-14T09:04:48.202Z"
   },
   {
    "duration": 9,
    "start_time": "2022-06-14T09:04:48.233Z"
   },
   {
    "duration": 26,
    "start_time": "2022-06-14T09:04:48.244Z"
   },
   {
    "duration": 16,
    "start_time": "2022-06-14T09:04:48.271Z"
   },
   {
    "duration": 440,
    "start_time": "2022-06-14T09:04:48.289Z"
   },
   {
    "duration": 1394,
    "start_time": "2022-06-14T09:04:48.735Z"
   },
   {
    "duration": 1512,
    "start_time": "2022-06-14T09:04:50.131Z"
   },
   {
    "duration": 98,
    "start_time": "2022-06-14T09:04:51.645Z"
   },
   {
    "duration": 282,
    "start_time": "2022-06-14T09:04:51.745Z"
   },
   {
    "duration": 1219,
    "start_time": "2022-06-14T09:04:52.030Z"
   },
   {
    "duration": 23,
    "start_time": "2022-06-14T09:04:53.326Z"
   },
   {
    "duration": 81,
    "start_time": "2022-06-14T09:04:53.351Z"
   },
   {
    "duration": 5,
    "start_time": "2022-06-14T09:04:53.437Z"
   },
   {
    "duration": 110,
    "start_time": "2022-06-14T09:04:53.444Z"
   },
   {
    "duration": 20994,
    "start_time": "2022-06-14T09:04:53.556Z"
   },
   {
    "duration": 5,
    "start_time": "2022-06-14T09:05:14.552Z"
   },
   {
    "duration": 19587,
    "start_time": "2022-06-14T09:05:14.559Z"
   },
   {
    "duration": 5,
    "start_time": "2022-06-14T09:05:34.147Z"
   },
   {
    "duration": 79,
    "start_time": "2022-06-14T09:05:34.154Z"
   },
   {
    "duration": 93,
    "start_time": "2022-06-14T09:05:34.235Z"
   },
   {
    "duration": 38,
    "start_time": "2022-06-14T09:05:34.330Z"
   },
   {
    "duration": 43,
    "start_time": "2022-06-14T09:05:34.425Z"
   },
   {
    "duration": 35388,
    "start_time": "2022-06-14T09:05:34.470Z"
   },
   {
    "duration": 44702,
    "start_time": "2022-06-14T09:06:09.860Z"
   },
   {
    "duration": 10,
    "start_time": "2022-06-14T09:06:54.563Z"
   },
   {
    "duration": 14,
    "start_time": "2022-06-14T09:06:54.575Z"
   },
   {
    "duration": 8,
    "start_time": "2022-06-14T09:06:54.590Z"
   },
   {
    "duration": 27,
    "start_time": "2022-06-14T09:06:54.599Z"
   },
   {
    "duration": 8,
    "start_time": "2022-06-14T09:06:54.631Z"
   },
   {
    "duration": 18,
    "start_time": "2022-06-14T09:06:54.641Z"
   },
   {
    "duration": 19,
    "start_time": "2022-06-14T09:06:54.661Z"
   },
   {
    "duration": 20,
    "start_time": "2022-06-14T09:07:11.338Z"
   },
   {
    "duration": 19,
    "start_time": "2022-06-14T09:07:11.842Z"
   },
   {
    "duration": 1349,
    "start_time": "2022-06-14T09:07:16.225Z"
   },
   {
    "duration": 672,
    "start_time": "2022-06-14T09:07:17.576Z"
   },
   {
    "duration": 20,
    "start_time": "2022-06-14T09:07:18.249Z"
   },
   {
    "duration": 21,
    "start_time": "2022-06-14T09:07:18.271Z"
   },
   {
    "duration": 138,
    "start_time": "2022-06-14T09:07:18.294Z"
   },
   {
    "duration": 21,
    "start_time": "2022-06-14T09:07:18.433Z"
   },
   {
    "duration": 18,
    "start_time": "2022-06-14T09:07:18.456Z"
   },
   {
    "duration": 30,
    "start_time": "2022-06-14T09:07:18.476Z"
   },
   {
    "duration": 35,
    "start_time": "2022-06-14T09:07:18.508Z"
   },
   {
    "duration": 34,
    "start_time": "2022-06-14T09:07:18.547Z"
   },
   {
    "duration": 100,
    "start_time": "2022-06-14T09:07:18.584Z"
   },
   {
    "duration": 7,
    "start_time": "2022-06-14T09:07:18.687Z"
   },
   {
    "duration": 19,
    "start_time": "2022-06-14T09:07:18.695Z"
   },
   {
    "duration": 28,
    "start_time": "2022-06-14T09:07:18.716Z"
   },
   {
    "duration": 36,
    "start_time": "2022-06-14T09:07:18.746Z"
   },
   {
    "duration": 22,
    "start_time": "2022-06-14T09:07:18.783Z"
   },
   {
    "duration": 29,
    "start_time": "2022-06-14T09:07:18.806Z"
   },
   {
    "duration": 22,
    "start_time": "2022-06-14T09:07:18.837Z"
   },
   {
    "duration": 43,
    "start_time": "2022-06-14T09:07:18.860Z"
   },
   {
    "duration": 17,
    "start_time": "2022-06-14T09:07:18.906Z"
   },
   {
    "duration": 35,
    "start_time": "2022-06-14T09:07:18.925Z"
   },
   {
    "duration": 30,
    "start_time": "2022-06-14T09:07:18.961Z"
   },
   {
    "duration": 17,
    "start_time": "2022-06-14T09:07:18.992Z"
   },
   {
    "duration": 37,
    "start_time": "2022-06-14T09:07:19.010Z"
   },
   {
    "duration": 401,
    "start_time": "2022-06-14T09:07:19.049Z"
   },
   {
    "duration": 405,
    "start_time": "2022-06-14T09:07:19.452Z"
   },
   {
    "duration": 400,
    "start_time": "2022-06-14T09:07:19.859Z"
   },
   {
    "duration": 405,
    "start_time": "2022-06-14T09:07:20.264Z"
   },
   {
    "duration": 5,
    "start_time": "2022-06-14T09:07:20.672Z"
   },
   {
    "duration": 29,
    "start_time": "2022-06-14T09:07:20.679Z"
   },
   {
    "duration": 39,
    "start_time": "2022-06-14T09:07:20.710Z"
   },
   {
    "duration": 24,
    "start_time": "2022-06-14T09:07:20.751Z"
   },
   {
    "duration": 15,
    "start_time": "2022-06-14T09:07:20.778Z"
   },
   {
    "duration": 24,
    "start_time": "2022-06-14T09:07:20.795Z"
   },
   {
    "duration": 455,
    "start_time": "2022-06-14T09:07:20.821Z"
   },
   {
    "duration": 25,
    "start_time": "2022-06-14T09:07:21.277Z"
   },
   {
    "duration": 16,
    "start_time": "2022-06-14T09:07:21.303Z"
   },
   {
    "duration": 20,
    "start_time": "2022-06-14T09:07:21.329Z"
   },
   {
    "duration": 29,
    "start_time": "2022-06-14T09:07:21.351Z"
   },
   {
    "duration": 40,
    "start_time": "2022-06-14T09:07:21.382Z"
   },
   {
    "duration": 27,
    "start_time": "2022-06-14T09:07:21.424Z"
   },
   {
    "duration": 24,
    "start_time": "2022-06-14T09:07:21.453Z"
   },
   {
    "duration": 25,
    "start_time": "2022-06-14T09:07:21.479Z"
   },
   {
    "duration": 26,
    "start_time": "2022-06-14T09:07:21.506Z"
   },
   {
    "duration": 294,
    "start_time": "2022-06-14T09:07:21.534Z"
   },
   {
    "duration": 1413,
    "start_time": "2022-06-14T09:07:21.831Z"
   },
   {
    "duration": 1581,
    "start_time": "2022-06-14T09:07:23.250Z"
   },
   {
    "duration": 104,
    "start_time": "2022-06-14T09:07:24.834Z"
   },
   {
    "duration": 95,
    "start_time": "2022-06-14T09:07:24.940Z"
   },
   {
    "duration": 1083,
    "start_time": "2022-06-14T09:07:25.043Z"
   },
   {
    "duration": 9,
    "start_time": "2022-06-14T09:07:26.130Z"
   },
   {
    "duration": 9,
    "start_time": "2022-06-14T09:07:26.144Z"
   },
   {
    "duration": 92,
    "start_time": "2022-06-14T09:07:26.236Z"
   },
   {
    "duration": 17,
    "start_time": "2022-06-14T09:07:26.330Z"
   },
   {
    "duration": 20992,
    "start_time": "2022-06-14T09:07:26.349Z"
   },
   {
    "duration": 6,
    "start_time": "2022-06-14T09:07:47.343Z"
   },
   {
    "duration": 19162,
    "start_time": "2022-06-14T09:07:47.350Z"
   },
   {
    "duration": 17,
    "start_time": "2022-06-14T09:08:06.514Z"
   },
   {
    "duration": 21,
    "start_time": "2022-06-14T09:08:06.540Z"
   },
   {
    "duration": 183,
    "start_time": "2022-06-14T09:08:06.563Z"
   },
   {
    "duration": 13,
    "start_time": "2022-06-14T09:08:06.748Z"
   },
   {
    "duration": 30,
    "start_time": "2022-06-14T09:08:06.763Z"
   },
   {
    "duration": 66300,
    "start_time": "2022-06-14T09:08:06.795Z"
   },
   {
    "duration": 52977,
    "start_time": "2022-06-14T09:09:13.097Z"
   },
   {
    "duration": 15,
    "start_time": "2022-06-14T09:10:06.075Z"
   },
   {
    "duration": 5,
    "start_time": "2022-06-14T09:10:06.092Z"
   },
   {
    "duration": 9,
    "start_time": "2022-06-14T09:10:06.099Z"
   },
   {
    "duration": 20,
    "start_time": "2022-06-14T09:10:06.125Z"
   },
   {
    "duration": 7,
    "start_time": "2022-06-14T09:10:06.147Z"
   },
   {
    "duration": 9,
    "start_time": "2022-06-14T09:10:06.156Z"
   },
   {
    "duration": 16,
    "start_time": "2022-06-14T09:10:06.166Z"
   },
   {
    "duration": 5,
    "start_time": "2022-06-14T09:13:48.703Z"
   },
   {
    "duration": 9,
    "start_time": "2022-06-14T09:13:53.849Z"
   },
   {
    "duration": 7,
    "start_time": "2022-06-14T09:14:03.950Z"
   },
   {
    "duration": 7,
    "start_time": "2022-06-14T09:21:14.851Z"
   },
   {
    "duration": 5,
    "start_time": "2022-06-14T09:21:30.201Z"
   },
   {
    "duration": 109,
    "start_time": "2022-06-14T09:29:59.236Z"
   },
   {
    "duration": 10,
    "start_time": "2022-06-14T09:30:11.476Z"
   },
   {
    "duration": 9,
    "start_time": "2022-06-14T09:30:25.744Z"
   },
   {
    "duration": 7,
    "start_time": "2022-06-14T09:31:22.716Z"
   },
   {
    "duration": 5,
    "start_time": "2022-06-14T09:31:23.105Z"
   },
   {
    "duration": 9,
    "start_time": "2022-06-14T09:31:23.542Z"
   },
   {
    "duration": 8,
    "start_time": "2022-06-14T09:31:24.115Z"
   },
   {
    "duration": 12,
    "start_time": "2022-06-14T09:31:24.656Z"
   },
   {
    "duration": 13,
    "start_time": "2022-06-14T09:32:12.078Z"
   },
   {
    "duration": 9,
    "start_time": "2022-06-14T09:33:00.989Z"
   },
   {
    "duration": 13,
    "start_time": "2022-06-14T09:33:01.565Z"
   },
   {
    "duration": 8,
    "start_time": "2022-06-14T09:34:52.390Z"
   },
   {
    "duration": 14,
    "start_time": "2022-06-14T09:34:53.953Z"
   },
   {
    "duration": 17,
    "start_time": "2022-06-14T09:35:51.244Z"
   },
   {
    "duration": 1241,
    "start_time": "2022-06-14T09:36:04.711Z"
   },
   {
    "duration": 746,
    "start_time": "2022-06-14T09:36:05.954Z"
   },
   {
    "duration": 36,
    "start_time": "2022-06-14T09:36:06.703Z"
   },
   {
    "duration": 23,
    "start_time": "2022-06-14T09:36:06.742Z"
   },
   {
    "duration": 140,
    "start_time": "2022-06-14T09:36:06.767Z"
   },
   {
    "duration": 14,
    "start_time": "2022-06-14T09:36:06.908Z"
   },
   {
    "duration": 41,
    "start_time": "2022-06-14T09:36:06.927Z"
   },
   {
    "duration": 20,
    "start_time": "2022-06-14T09:36:06.969Z"
   },
   {
    "duration": 14,
    "start_time": "2022-06-14T09:36:06.990Z"
   },
   {
    "duration": 20,
    "start_time": "2022-06-14T09:36:07.006Z"
   },
   {
    "duration": 94,
    "start_time": "2022-06-14T09:36:07.034Z"
   },
   {
    "duration": 11,
    "start_time": "2022-06-14T09:36:07.130Z"
   },
   {
    "duration": 12,
    "start_time": "2022-06-14T09:36:07.148Z"
   },
   {
    "duration": 12,
    "start_time": "2022-06-14T09:36:07.161Z"
   },
   {
    "duration": 8,
    "start_time": "2022-06-14T09:36:07.174Z"
   },
   {
    "duration": 7,
    "start_time": "2022-06-14T09:36:07.183Z"
   },
   {
    "duration": 18,
    "start_time": "2022-06-14T09:36:07.192Z"
   },
   {
    "duration": 27,
    "start_time": "2022-06-14T09:36:07.212Z"
   },
   {
    "duration": 34,
    "start_time": "2022-06-14T09:36:07.245Z"
   },
   {
    "duration": 15,
    "start_time": "2022-06-14T09:36:07.281Z"
   },
   {
    "duration": 12,
    "start_time": "2022-06-14T09:36:07.298Z"
   },
   {
    "duration": 13,
    "start_time": "2022-06-14T09:36:07.312Z"
   },
   {
    "duration": 30,
    "start_time": "2022-06-14T09:36:07.328Z"
   },
   {
    "duration": 6,
    "start_time": "2022-06-14T09:36:07.359Z"
   },
   {
    "duration": 207,
    "start_time": "2022-06-14T09:36:07.367Z"
   },
   {
    "duration": 205,
    "start_time": "2022-06-14T09:36:07.575Z"
   },
   {
    "duration": 208,
    "start_time": "2022-06-14T09:36:07.782Z"
   },
   {
    "duration": 332,
    "start_time": "2022-06-14T09:36:07.993Z"
   },
   {
    "duration": 10,
    "start_time": "2022-06-14T09:36:08.326Z"
   },
   {
    "duration": 17,
    "start_time": "2022-06-14T09:36:08.338Z"
   },
   {
    "duration": 5,
    "start_time": "2022-06-14T09:36:08.357Z"
   },
   {
    "duration": 7,
    "start_time": "2022-06-14T09:36:08.363Z"
   },
   {
    "duration": 7,
    "start_time": "2022-06-14T09:36:08.371Z"
   },
   {
    "duration": 8,
    "start_time": "2022-06-14T09:36:08.380Z"
   },
   {
    "duration": 408,
    "start_time": "2022-06-14T09:36:08.389Z"
   },
   {
    "duration": 38,
    "start_time": "2022-06-14T09:36:08.799Z"
   },
   {
    "duration": 12,
    "start_time": "2022-06-14T09:36:08.840Z"
   },
   {
    "duration": 9,
    "start_time": "2022-06-14T09:36:08.854Z"
   },
   {
    "duration": 19,
    "start_time": "2022-06-14T09:36:08.866Z"
   },
   {
    "duration": 15,
    "start_time": "2022-06-14T09:36:08.887Z"
   },
   {
    "duration": 6,
    "start_time": "2022-06-14T09:36:08.903Z"
   },
   {
    "duration": 30,
    "start_time": "2022-06-14T09:36:08.911Z"
   },
   {
    "duration": 24,
    "start_time": "2022-06-14T09:36:08.948Z"
   },
   {
    "duration": 22,
    "start_time": "2022-06-14T09:36:08.974Z"
   },
   {
    "duration": 639,
    "start_time": "2022-06-14T09:36:08.998Z"
   },
   {
    "duration": 1789,
    "start_time": "2022-06-14T09:36:09.641Z"
   },
   {
    "duration": 1115,
    "start_time": "2022-06-14T09:36:11.440Z"
   },
   {
    "duration": 8,
    "start_time": "2022-06-14T09:36:12.556Z"
   },
   {
    "duration": 688,
    "start_time": "2022-06-14T09:36:12.566Z"
   },
   {
    "duration": 1387,
    "start_time": "2022-06-14T09:36:13.257Z"
   },
   {
    "duration": 8,
    "start_time": "2022-06-14T09:36:14.650Z"
   },
   {
    "duration": 7,
    "start_time": "2022-06-14T09:36:14.731Z"
   },
   {
    "duration": 116,
    "start_time": "2022-06-14T09:36:14.742Z"
   },
   {
    "duration": 12,
    "start_time": "2022-06-14T09:36:14.860Z"
   },
   {
    "duration": 14,
    "start_time": "2022-06-14T09:36:14.874Z"
   },
   {
    "duration": 23277,
    "start_time": "2022-06-14T09:36:14.889Z"
   },
   {
    "duration": 4,
    "start_time": "2022-06-14T09:36:38.168Z"
   },
   {
    "duration": 22023,
    "start_time": "2022-06-14T09:36:38.174Z"
   },
   {
    "duration": 4,
    "start_time": "2022-06-14T09:37:00.199Z"
   },
   {
    "duration": 27,
    "start_time": "2022-06-14T09:37:00.205Z"
   },
   {
    "duration": 26,
    "start_time": "2022-06-14T09:37:00.239Z"
   },
   {
    "duration": 5,
    "start_time": "2022-06-14T09:37:00.267Z"
   },
   {
    "duration": 19,
    "start_time": "2022-06-14T09:37:00.274Z"
   },
   {
    "duration": 29,
    "start_time": "2022-06-14T09:37:00.294Z"
   },
   {
    "duration": 94564,
    "start_time": "2022-06-14T09:37:00.324Z"
   },
   {
    "duration": 75386,
    "start_time": "2022-06-14T09:38:34.890Z"
   },
   {
    "duration": 23,
    "start_time": "2022-06-14T09:39:50.278Z"
   },
   {
    "duration": 5,
    "start_time": "2022-06-14T09:39:50.302Z"
   },
   {
    "duration": 28,
    "start_time": "2022-06-14T09:39:50.309Z"
   },
   {
    "duration": 27,
    "start_time": "2022-06-14T09:39:50.341Z"
   },
   {
    "duration": 21,
    "start_time": "2022-06-14T09:39:50.370Z"
   },
   {
    "duration": 5,
    "start_time": "2022-06-14T09:39:50.393Z"
   },
   {
    "duration": 6,
    "start_time": "2022-06-14T09:39:50.399Z"
   },
   {
    "duration": 12,
    "start_time": "2022-06-14T09:39:50.406Z"
   },
   {
    "duration": 26,
    "start_time": "2022-06-14T09:42:16.461Z"
   },
   {
    "duration": 4,
    "start_time": "2022-06-14T09:42:18.077Z"
   },
   {
    "duration": 10,
    "start_time": "2022-06-14T09:42:18.442Z"
   },
   {
    "duration": 20,
    "start_time": "2022-06-14T09:42:18.829Z"
   },
   {
    "duration": 18,
    "start_time": "2022-06-14T09:42:20.440Z"
   },
   {
    "duration": 35,
    "start_time": "2022-06-14T09:43:38.495Z"
   },
   {
    "duration": 1453,
    "start_time": "2022-06-14T09:43:39.379Z"
   },
   {
    "duration": 8,
    "start_time": "2022-06-14T09:43:46.719Z"
   },
   {
    "duration": 4,
    "start_time": "2022-06-14T09:43:48.978Z"
   },
   {
    "duration": 4,
    "start_time": "2022-06-14T09:43:50.251Z"
   },
   {
    "duration": 10,
    "start_time": "2022-06-14T09:43:51.147Z"
   },
   {
    "duration": 16,
    "start_time": "2022-06-14T09:43:51.741Z"
   },
   {
    "duration": 1154,
    "start_time": "2022-06-14T09:47:28.007Z"
   },
   {
    "duration": 693,
    "start_time": "2022-06-14T09:47:29.163Z"
   },
   {
    "duration": 17,
    "start_time": "2022-06-14T09:47:29.857Z"
   },
   {
    "duration": 14,
    "start_time": "2022-06-14T09:47:29.875Z"
   },
   {
    "duration": 130,
    "start_time": "2022-06-14T09:47:29.891Z"
   },
   {
    "duration": 23,
    "start_time": "2022-06-14T09:47:30.023Z"
   },
   {
    "duration": 33,
    "start_time": "2022-06-14T09:47:30.048Z"
   },
   {
    "duration": 19,
    "start_time": "2022-06-14T09:47:30.083Z"
   },
   {
    "duration": 15,
    "start_time": "2022-06-14T09:47:30.103Z"
   },
   {
    "duration": 56,
    "start_time": "2022-06-14T09:47:30.120Z"
   },
   {
    "duration": 95,
    "start_time": "2022-06-14T09:47:30.178Z"
   },
   {
    "duration": 5,
    "start_time": "2022-06-14T09:47:30.275Z"
   },
   {
    "duration": 14,
    "start_time": "2022-06-14T09:47:30.281Z"
   },
   {
    "duration": 13,
    "start_time": "2022-06-14T09:47:30.296Z"
   },
   {
    "duration": 11,
    "start_time": "2022-06-14T09:47:30.310Z"
   },
   {
    "duration": 49,
    "start_time": "2022-06-14T09:47:30.322Z"
   },
   {
    "duration": 32,
    "start_time": "2022-06-14T09:47:30.372Z"
   },
   {
    "duration": 12,
    "start_time": "2022-06-14T09:47:30.406Z"
   },
   {
    "duration": 32,
    "start_time": "2022-06-14T09:47:30.419Z"
   },
   {
    "duration": 21,
    "start_time": "2022-06-14T09:47:30.454Z"
   },
   {
    "duration": 10,
    "start_time": "2022-06-14T09:47:30.477Z"
   },
   {
    "duration": 14,
    "start_time": "2022-06-14T09:47:30.488Z"
   },
   {
    "duration": 4,
    "start_time": "2022-06-14T09:47:30.504Z"
   },
   {
    "duration": 47,
    "start_time": "2022-06-14T09:47:30.510Z"
   },
   {
    "duration": 214,
    "start_time": "2022-06-14T09:47:30.559Z"
   },
   {
    "duration": 205,
    "start_time": "2022-06-14T09:47:30.775Z"
   },
   {
    "duration": 189,
    "start_time": "2022-06-14T09:47:30.982Z"
   },
   {
    "duration": 302,
    "start_time": "2022-06-14T09:47:31.175Z"
   },
   {
    "duration": 4,
    "start_time": "2022-06-14T09:47:31.479Z"
   },
   {
    "duration": 20,
    "start_time": "2022-06-14T09:47:31.484Z"
   },
   {
    "duration": 48,
    "start_time": "2022-06-14T09:47:31.505Z"
   },
   {
    "duration": 46,
    "start_time": "2022-06-14T09:47:31.554Z"
   },
   {
    "duration": 36,
    "start_time": "2022-06-14T09:47:31.601Z"
   },
   {
    "duration": 24,
    "start_time": "2022-06-14T09:47:31.638Z"
   },
   {
    "duration": 385,
    "start_time": "2022-06-14T09:47:31.663Z"
   },
   {
    "duration": 27,
    "start_time": "2022-06-14T09:47:32.049Z"
   },
   {
    "duration": 14,
    "start_time": "2022-06-14T09:47:32.078Z"
   },
   {
    "duration": 14,
    "start_time": "2022-06-14T09:47:32.093Z"
   },
   {
    "duration": 23,
    "start_time": "2022-06-14T09:47:32.108Z"
   },
   {
    "duration": 40,
    "start_time": "2022-06-14T09:47:32.135Z"
   },
   {
    "duration": 13,
    "start_time": "2022-06-14T09:47:32.177Z"
   },
   {
    "duration": 30,
    "start_time": "2022-06-14T09:47:32.191Z"
   },
   {
    "duration": 55,
    "start_time": "2022-06-14T09:47:32.223Z"
   },
   {
    "duration": 26,
    "start_time": "2022-06-14T09:47:32.280Z"
   },
   {
    "duration": 139,
    "start_time": "2022-06-14T09:47:32.307Z"
   },
   {
    "duration": 1395,
    "start_time": "2022-06-14T09:47:32.453Z"
   },
   {
    "duration": 1303,
    "start_time": "2022-06-14T09:47:33.849Z"
   },
   {
    "duration": 80,
    "start_time": "2022-06-14T09:47:35.160Z"
   },
   {
    "duration": 621,
    "start_time": "2022-06-14T09:47:35.244Z"
   },
   {
    "duration": 2173,
    "start_time": "2022-06-14T09:47:35.867Z"
   },
   {
    "duration": 92,
    "start_time": "2022-06-14T09:47:38.044Z"
   },
   {
    "duration": 98,
    "start_time": "2022-06-14T09:47:38.141Z"
   },
   {
    "duration": 22,
    "start_time": "2022-06-14T09:47:38.243Z"
   },
   {
    "duration": 11,
    "start_time": "2022-06-14T09:47:38.266Z"
   },
   {
    "duration": 59,
    "start_time": "2022-06-14T09:47:38.279Z"
   },
   {
    "duration": 22818,
    "start_time": "2022-06-14T09:47:38.343Z"
   },
   {
    "duration": 5,
    "start_time": "2022-06-14T09:48:01.163Z"
   },
   {
    "duration": 28305,
    "start_time": "2022-06-14T09:48:01.170Z"
   },
   {
    "duration": 5,
    "start_time": "2022-06-14T09:48:29.476Z"
   },
   {
    "duration": 9,
    "start_time": "2022-06-14T09:48:29.482Z"
   },
   {
    "duration": 4,
    "start_time": "2022-06-14T09:48:29.492Z"
   },
   {
    "duration": 4,
    "start_time": "2022-06-14T09:48:29.497Z"
   },
   {
    "duration": 30,
    "start_time": "2022-06-14T09:48:29.503Z"
   },
   {
    "duration": 32,
    "start_time": "2022-06-14T09:48:29.534Z"
   },
   {
    "duration": 93514,
    "start_time": "2022-06-14T09:48:29.567Z"
   },
   {
    "duration": 93452,
    "start_time": "2022-06-14T09:50:03.082Z"
   },
   {
    "duration": 22,
    "start_time": "2022-06-14T09:51:36.536Z"
   },
   {
    "duration": 10,
    "start_time": "2022-06-14T09:51:36.559Z"
   },
   {
    "duration": 14,
    "start_time": "2022-06-14T09:51:36.571Z"
   },
   {
    "duration": 11,
    "start_time": "2022-06-14T09:51:36.587Z"
   },
   {
    "duration": 15,
    "start_time": "2022-06-14T09:51:36.600Z"
   },
   {
    "duration": 30,
    "start_time": "2022-06-14T09:51:36.616Z"
   },
   {
    "duration": 15,
    "start_time": "2022-06-14T09:51:36.648Z"
   },
   {
    "duration": 14,
    "start_time": "2022-06-14T09:51:36.665Z"
   },
   {
    "duration": 24503,
    "start_time": "2022-06-14T09:52:51.185Z"
   },
   {
    "duration": 26381,
    "start_time": "2022-06-14T09:53:15.690Z"
   },
   {
    "duration": 9,
    "start_time": "2022-06-14T09:53:42.072Z"
   },
   {
    "duration": 5,
    "start_time": "2022-06-14T09:53:42.083Z"
   },
   {
    "duration": 16,
    "start_time": "2022-06-14T09:53:42.090Z"
   },
   {
    "duration": 10,
    "start_time": "2022-06-14T09:53:42.107Z"
   },
   {
    "duration": 40,
    "start_time": "2022-06-14T09:53:42.125Z"
   },
   {
    "duration": 50860,
    "start_time": "2022-06-14T09:54:13.984Z"
   },
   {
    "duration": 47430,
    "start_time": "2022-06-14T09:55:04.850Z"
   },
   {
    "duration": 12,
    "start_time": "2022-06-14T09:55:52.281Z"
   },
   {
    "duration": 4,
    "start_time": "2022-06-14T09:55:52.294Z"
   },
   {
    "duration": 7,
    "start_time": "2022-06-14T09:55:52.300Z"
   },
   {
    "duration": 39,
    "start_time": "2022-06-14T09:55:52.309Z"
   },
   {
    "duration": 15,
    "start_time": "2022-06-14T09:55:52.350Z"
   },
   {
    "duration": 1263,
    "start_time": "2022-06-14T09:56:29.111Z"
   },
   {
    "duration": 696,
    "start_time": "2022-06-14T09:56:30.376Z"
   },
   {
    "duration": 17,
    "start_time": "2022-06-14T09:56:31.076Z"
   },
   {
    "duration": 35,
    "start_time": "2022-06-14T09:56:31.095Z"
   },
   {
    "duration": 116,
    "start_time": "2022-06-14T09:56:31.137Z"
   },
   {
    "duration": 16,
    "start_time": "2022-06-14T09:56:31.254Z"
   },
   {
    "duration": 17,
    "start_time": "2022-06-14T09:56:31.271Z"
   },
   {
    "duration": 18,
    "start_time": "2022-06-14T09:56:31.289Z"
   },
   {
    "duration": 37,
    "start_time": "2022-06-14T09:56:31.309Z"
   },
   {
    "duration": 21,
    "start_time": "2022-06-14T09:56:31.347Z"
   },
   {
    "duration": 92,
    "start_time": "2022-06-14T09:56:31.369Z"
   },
   {
    "duration": 5,
    "start_time": "2022-06-14T09:56:31.463Z"
   },
   {
    "duration": 12,
    "start_time": "2022-06-14T09:56:31.470Z"
   },
   {
    "duration": 20,
    "start_time": "2022-06-14T09:56:31.483Z"
   },
   {
    "duration": 13,
    "start_time": "2022-06-14T09:56:31.505Z"
   },
   {
    "duration": 36,
    "start_time": "2022-06-14T09:56:31.519Z"
   },
   {
    "duration": 15,
    "start_time": "2022-06-14T09:56:31.557Z"
   },
   {
    "duration": 12,
    "start_time": "2022-06-14T09:56:31.574Z"
   },
   {
    "duration": 18,
    "start_time": "2022-06-14T09:56:31.587Z"
   },
   {
    "duration": 16,
    "start_time": "2022-06-14T09:56:31.606Z"
   },
   {
    "duration": 14,
    "start_time": "2022-06-14T09:56:31.623Z"
   },
   {
    "duration": 26,
    "start_time": "2022-06-14T09:56:31.640Z"
   },
   {
    "duration": 3,
    "start_time": "2022-06-14T09:56:31.667Z"
   },
   {
    "duration": 5,
    "start_time": "2022-06-14T09:56:31.672Z"
   },
   {
    "duration": 201,
    "start_time": "2022-06-14T09:56:31.678Z"
   },
   {
    "duration": 216,
    "start_time": "2022-06-14T09:56:31.882Z"
   },
   {
    "duration": 196,
    "start_time": "2022-06-14T09:56:32.102Z"
   },
   {
    "duration": 321,
    "start_time": "2022-06-14T09:56:32.299Z"
   },
   {
    "duration": 10,
    "start_time": "2022-06-14T09:56:32.622Z"
   },
   {
    "duration": 25,
    "start_time": "2022-06-14T09:56:32.633Z"
   },
   {
    "duration": 6,
    "start_time": "2022-06-14T09:56:32.659Z"
   },
   {
    "duration": 5,
    "start_time": "2022-06-14T09:56:32.666Z"
   },
   {
    "duration": 6,
    "start_time": "2022-06-14T09:56:32.672Z"
   },
   {
    "duration": 8,
    "start_time": "2022-06-14T09:56:32.679Z"
   },
   {
    "duration": 367,
    "start_time": "2022-06-14T09:56:32.688Z"
   },
   {
    "duration": 23,
    "start_time": "2022-06-14T09:56:33.057Z"
   },
   {
    "duration": 7,
    "start_time": "2022-06-14T09:56:33.082Z"
   },
   {
    "duration": 5,
    "start_time": "2022-06-14T09:56:33.090Z"
   },
   {
    "duration": 20,
    "start_time": "2022-06-14T09:56:33.096Z"
   },
   {
    "duration": 18,
    "start_time": "2022-06-14T09:56:33.129Z"
   },
   {
    "duration": 10,
    "start_time": "2022-06-14T09:56:33.150Z"
   },
   {
    "duration": 9,
    "start_time": "2022-06-14T09:56:33.161Z"
   },
   {
    "duration": 20,
    "start_time": "2022-06-14T09:56:33.171Z"
   },
   {
    "duration": 19,
    "start_time": "2022-06-14T09:56:33.192Z"
   },
   {
    "duration": 421,
    "start_time": "2022-06-14T09:56:33.212Z"
   },
   {
    "duration": 2297,
    "start_time": "2022-06-14T09:56:33.635Z"
   },
   {
    "duration": 2801,
    "start_time": "2022-06-14T09:56:35.934Z"
   },
   {
    "duration": 15,
    "start_time": "2022-06-14T09:56:38.738Z"
   },
   {
    "duration": 476,
    "start_time": "2022-06-14T09:56:38.757Z"
   },
   {
    "duration": 1506,
    "start_time": "2022-06-14T09:56:39.237Z"
   },
   {
    "duration": 12,
    "start_time": "2022-06-14T09:56:40.747Z"
   },
   {
    "duration": 75,
    "start_time": "2022-06-14T09:56:40.762Z"
   },
   {
    "duration": 118,
    "start_time": "2022-06-14T09:56:40.841Z"
   },
   {
    "duration": 10,
    "start_time": "2022-06-14T09:56:40.960Z"
   },
   {
    "duration": 14,
    "start_time": "2022-06-14T09:56:40.971Z"
   },
   {
    "duration": 20582,
    "start_time": "2022-06-14T09:56:40.987Z"
   },
   {
    "duration": 5,
    "start_time": "2022-06-14T09:57:01.571Z"
   },
   {
    "duration": 21860,
    "start_time": "2022-06-14T09:57:01.577Z"
   },
   {
    "duration": 15,
    "start_time": "2022-06-14T09:57:23.439Z"
   },
   {
    "duration": 8,
    "start_time": "2022-06-14T09:57:23.455Z"
   },
   {
    "duration": 7,
    "start_time": "2022-06-14T09:57:23.464Z"
   },
   {
    "duration": 5,
    "start_time": "2022-06-14T09:57:23.473Z"
   },
   {
    "duration": 12,
    "start_time": "2022-06-14T09:57:23.479Z"
   },
   {
    "duration": 15,
    "start_time": "2022-06-14T09:57:23.492Z"
   },
   {
    "duration": 108811,
    "start_time": "2022-06-14T09:57:23.508Z"
   },
   {
    "duration": 63278,
    "start_time": "2022-06-14T09:59:12.321Z"
   },
   {
    "duration": 26,
    "start_time": "2022-06-14T10:00:15.600Z"
   },
   {
    "duration": 4,
    "start_time": "2022-06-14T10:00:15.629Z"
   },
   {
    "duration": 32,
    "start_time": "2022-06-14T10:00:15.635Z"
   },
   {
    "duration": 10,
    "start_time": "2022-06-14T10:00:15.669Z"
   },
   {
    "duration": 13,
    "start_time": "2022-06-14T10:00:15.680Z"
   },
   {
    "duration": 9,
    "start_time": "2022-06-14T10:00:15.695Z"
   },
   {
    "duration": 5,
    "start_time": "2022-06-14T10:00:15.706Z"
   },
   {
    "duration": 14,
    "start_time": "2022-06-14T10:00:15.713Z"
   },
   {
    "duration": 33276,
    "start_time": "2022-06-14T10:01:23.103Z"
   },
   {
    "duration": 50771,
    "start_time": "2022-06-14T10:01:56.381Z"
   },
   {
    "duration": 13,
    "start_time": "2022-06-14T10:02:47.154Z"
   },
   {
    "duration": 4,
    "start_time": "2022-06-14T10:02:47.168Z"
   },
   {
    "duration": 13,
    "start_time": "2022-06-14T10:02:47.174Z"
   },
   {
    "duration": 24,
    "start_time": "2022-06-14T10:02:47.189Z"
   },
   {
    "duration": 62,
    "start_time": "2022-06-14T10:02:47.214Z"
   }
  ],
  "kernelspec": {
   "display_name": "Python 3 (ipykernel)",
   "language": "python",
   "name": "python3"
  },
  "language_info": {
   "codemirror_mode": {
    "name": "ipython",
    "version": 3
   },
   "file_extension": ".py",
   "mimetype": "text/x-python",
   "name": "python",
   "nbconvert_exporter": "python",
   "pygments_lexer": "ipython3",
   "version": "3.9.13"
  },
  "toc": {
   "base_numbering": 1,
   "nav_menu": {},
   "number_sections": true,
   "sideBar": true,
   "skip_h1_title": true,
   "title_cell": "Содержание",
   "title_sidebar": "Contents",
   "toc_cell": true,
   "toc_position": {
    "height": "calc(100% - 180px)",
    "left": "10px",
    "top": "150px",
    "width": "275.868px"
   },
   "toc_section_display": true,
   "toc_window_display": true
  }
 },
 "nbformat": 4,
 "nbformat_minor": 2
}
