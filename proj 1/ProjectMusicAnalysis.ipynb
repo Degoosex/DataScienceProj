{
 "cells": [
  {
   "cell_type": "markdown",
   "metadata": {
    "id": "E0vqbgi9ay0H"
   },
   "source": [
    "# Музыка городов"
   ]
  },
  {
   "cell_type": "markdown",
   "metadata": {
    "id": "VUC88oWjTJw2"
   },
   "source": [
    "Сравнение Москвы и Петербурга окружено мифами. Например:\n",
    " * Москва — мегаполис, подчинённый жёсткому ритму рабочей недели;\n",
    " * Петербург — культурная столица, со своими вкусами.\n",
    "\n",
    "На данных сервиса стриминга музыки вы сравните поведение пользователей двух столиц.\n",
    "\n",
    "**Цель исследования** — проверьте три гипотезы:\n",
    "1. Активность пользователей зависит от дня недели. Причём в Москве и Петербурге это проявляется по-разному.\n",
    "2. В понедельник утром в Москве преобладают одни жанры, а в Петербурге — другие. Так же и вечером пятницы преобладают разные жанры — в зависимости от города. \n",
    "3. Москва и Петербург предпочитают разные жанры музыки. В Москве чаще слушают поп-музыку, в Петербурге — русский рэп.\n",
    "\n",
    "**Ход исследования**\n",
    "\n",
    "Исследование пройдёт в три этапа:\n",
    " 1. Обзор данных.\n",
    " 2. Предобработка данных.\n",
    " 3. Проверка гипотез.\n",
    "\n",
    "**Описание данных**\n",
    "\n",
    "- userID — идентификатор пользователя;\n",
    "- Track — название трека;\n",
    "- artist — имя исполнителя;\n",
    "- genre — название жанра;\n",
    "- City — город пользователя;\n",
    "- time — время начала прослушивания;\n",
    "- Day — день недели.\n"
   ]
  },
  {
   "cell_type": "markdown",
   "metadata": {
    "id": "Ml1hmfXC_Zcs"
   },
   "source": [
    "## Обзор данных\n",
    "\n",
    "Составим первое представление о данных \n",
    "\n",
    "\n"
   ]
  },
  {
   "cell_type": "code",
   "execution_count": 1,
   "metadata": {
    "id": "AXN7PHPN_Zcs"
   },
   "outputs": [],
   "source": [
    "# импорт библиотеки pandas\n",
    "import pandas as pd"
   ]
  },
  {
   "cell_type": "markdown",
   "metadata": {
    "id": "SG23P8tt_Zcs"
   },
   "source": [
    "Прочитаем файл и сохраним его в переменной `df`:"
   ]
  },
  {
   "cell_type": "code",
   "execution_count": 2,
   "metadata": {
    "id": "fFVu7vqh_Zct"
   },
   "outputs": [],
   "source": [
    "# чтение файла с данными и сохранение в df\n",
    "df = pd.read_csv('/datasets/music_project.csv')"
   ]
  },
  {
   "cell_type": "markdown",
   "metadata": {},
   "source": [
    "<font color='blue'><b>Комментарий ревьюера: </b></font> ✔️\\\n",
    "<font color='green'>Указан правильный путь к файлу. Слэш в начале пути очень важен, так как указывает, что нужно искать файл в корневой папке."
   ]
  },
  {
   "cell_type": "markdown",
   "metadata": {
    "id": "rDoOMd3uTqnZ"
   },
   "source": [
    "Выведите на экран первые десять строк таблицы:"
   ]
  },
  {
   "cell_type": "code",
   "execution_count": 3,
   "metadata": {
    "id": "oWTVX3gW_Zct"
   },
   "outputs": [
    {
     "data": {
      "text/html": [
       "<div>\n",
       "<style scoped>\n",
       "    .dataframe tbody tr th:only-of-type {\n",
       "        vertical-align: middle;\n",
       "    }\n",
       "\n",
       "    .dataframe tbody tr th {\n",
       "        vertical-align: top;\n",
       "    }\n",
       "\n",
       "    .dataframe thead th {\n",
       "        text-align: right;\n",
       "    }\n",
       "</style>\n",
       "<table border=\"1\" class=\"dataframe\">\n",
       "  <thead>\n",
       "    <tr style=\"text-align: right;\">\n",
       "      <th></th>\n",
       "      <th>userID</th>\n",
       "      <th>Track</th>\n",
       "      <th>artist</th>\n",
       "      <th>genre</th>\n",
       "      <th>City</th>\n",
       "      <th>time</th>\n",
       "      <th>Day</th>\n",
       "    </tr>\n",
       "  </thead>\n",
       "  <tbody>\n",
       "    <tr>\n",
       "      <th>0</th>\n",
       "      <td>FFB692EC</td>\n",
       "      <td>Kamigata To Boots</td>\n",
       "      <td>The Mass Missile</td>\n",
       "      <td>rock</td>\n",
       "      <td>Saint-Petersburg</td>\n",
       "      <td>20:28:33</td>\n",
       "      <td>Wednesday</td>\n",
       "    </tr>\n",
       "    <tr>\n",
       "      <th>1</th>\n",
       "      <td>55204538</td>\n",
       "      <td>Delayed Because of Accident</td>\n",
       "      <td>Andreas Rönnberg</td>\n",
       "      <td>rock</td>\n",
       "      <td>Moscow</td>\n",
       "      <td>14:07:09</td>\n",
       "      <td>Friday</td>\n",
       "    </tr>\n",
       "    <tr>\n",
       "      <th>2</th>\n",
       "      <td>20EC38</td>\n",
       "      <td>Funiculì funiculà</td>\n",
       "      <td>Mario Lanza</td>\n",
       "      <td>pop</td>\n",
       "      <td>Saint-Petersburg</td>\n",
       "      <td>20:58:07</td>\n",
       "      <td>Wednesday</td>\n",
       "    </tr>\n",
       "    <tr>\n",
       "      <th>3</th>\n",
       "      <td>A3DD03C9</td>\n",
       "      <td>Dragons in the Sunset</td>\n",
       "      <td>Fire + Ice</td>\n",
       "      <td>folk</td>\n",
       "      <td>Saint-Petersburg</td>\n",
       "      <td>08:37:09</td>\n",
       "      <td>Monday</td>\n",
       "    </tr>\n",
       "    <tr>\n",
       "      <th>4</th>\n",
       "      <td>E2DC1FAE</td>\n",
       "      <td>Soul People</td>\n",
       "      <td>Space Echo</td>\n",
       "      <td>dance</td>\n",
       "      <td>Moscow</td>\n",
       "      <td>08:34:34</td>\n",
       "      <td>Monday</td>\n",
       "    </tr>\n",
       "    <tr>\n",
       "      <th>5</th>\n",
       "      <td>842029A1</td>\n",
       "      <td>Преданная</td>\n",
       "      <td>IMPERVTOR</td>\n",
       "      <td>rusrap</td>\n",
       "      <td>Saint-Petersburg</td>\n",
       "      <td>13:09:41</td>\n",
       "      <td>Friday</td>\n",
       "    </tr>\n",
       "    <tr>\n",
       "      <th>6</th>\n",
       "      <td>4CB90AA5</td>\n",
       "      <td>True</td>\n",
       "      <td>Roman Messer</td>\n",
       "      <td>dance</td>\n",
       "      <td>Moscow</td>\n",
       "      <td>13:00:07</td>\n",
       "      <td>Wednesday</td>\n",
       "    </tr>\n",
       "    <tr>\n",
       "      <th>7</th>\n",
       "      <td>F03E1C1F</td>\n",
       "      <td>Feeling This Way</td>\n",
       "      <td>Polina Griffith</td>\n",
       "      <td>dance</td>\n",
       "      <td>Moscow</td>\n",
       "      <td>20:47:49</td>\n",
       "      <td>Wednesday</td>\n",
       "    </tr>\n",
       "    <tr>\n",
       "      <th>8</th>\n",
       "      <td>8FA1D3BE</td>\n",
       "      <td>И вновь продолжается бой</td>\n",
       "      <td>NaN</td>\n",
       "      <td>ruspop</td>\n",
       "      <td>Moscow</td>\n",
       "      <td>09:17:40</td>\n",
       "      <td>Friday</td>\n",
       "    </tr>\n",
       "    <tr>\n",
       "      <th>9</th>\n",
       "      <td>E772D5C0</td>\n",
       "      <td>Pessimist</td>\n",
       "      <td>NaN</td>\n",
       "      <td>dance</td>\n",
       "      <td>Saint-Petersburg</td>\n",
       "      <td>21:20:49</td>\n",
       "      <td>Wednesday</td>\n",
       "    </tr>\n",
       "  </tbody>\n",
       "</table>\n",
       "</div>"
      ],
      "text/plain": [
       "     userID                        Track            artist   genre  \\\n",
       "0  FFB692EC            Kamigata To Boots  The Mass Missile    rock   \n",
       "1  55204538  Delayed Because of Accident  Andreas Rönnberg    rock   \n",
       "2    20EC38            Funiculì funiculà       Mario Lanza     pop   \n",
       "3  A3DD03C9        Dragons in the Sunset        Fire + Ice    folk   \n",
       "4  E2DC1FAE                  Soul People        Space Echo   dance   \n",
       "5  842029A1                    Преданная         IMPERVTOR  rusrap   \n",
       "6  4CB90AA5                         True      Roman Messer   dance   \n",
       "7  F03E1C1F             Feeling This Way   Polina Griffith   dance   \n",
       "8  8FA1D3BE     И вновь продолжается бой               NaN  ruspop   \n",
       "9  E772D5C0                    Pessimist               NaN   dance   \n",
       "\n",
       "             City        time        Day  \n",
       "0  Saint-Petersburg  20:28:33  Wednesday  \n",
       "1            Moscow  14:07:09     Friday  \n",
       "2  Saint-Petersburg  20:58:07  Wednesday  \n",
       "3  Saint-Petersburg  08:37:09     Monday  \n",
       "4            Moscow  08:34:34     Monday  \n",
       "5  Saint-Petersburg  13:09:41     Friday  \n",
       "6            Moscow  13:00:07  Wednesday  \n",
       "7            Moscow  20:47:49  Wednesday  \n",
       "8            Moscow  09:17:40     Friday  \n",
       "9  Saint-Petersburg  21:20:49  Wednesday  "
      ]
     },
     "metadata": {},
     "output_type": "display_data"
    }
   ],
   "source": [
    "# получение первых 10 строк таблицы df\n",
    "df.head(10)"
   ]
  },
  {
   "cell_type": "code",
   "execution_count": 4,
   "metadata": {
    "id": "DSf2kIb-_Zct"
   },
   "outputs": [
    {
     "name": "stdout",
     "output_type": "stream",
     "text": [
      "<class 'pandas.core.frame.DataFrame'>\n",
      "RangeIndex: 65079 entries, 0 to 65078\n",
      "Data columns (total 7 columns):\n",
      " #   Column    Non-Null Count  Dtype \n",
      "---  ------    --------------  ----- \n",
      " 0     userID  65079 non-null  object\n",
      " 1   Track     63848 non-null  object\n",
      " 2   artist    57876 non-null  object\n",
      " 3   genre     63881 non-null  object\n",
      " 4     City    65079 non-null  object\n",
      " 5   time      65079 non-null  object\n",
      " 6   Day       65079 non-null  object\n",
      "dtypes: object(7)\n",
      "memory usage: 3.5+ MB\n"
     ]
    }
   ],
   "source": [
    "# получение общей информации о данных в таблице df\n",
    "df.info()"
   ]
  },
  {
   "cell_type": "markdown",
   "metadata": {
    "id": "TaQ2Iwbr_Zct"
   },
   "source": [
    "Итак, в таблице семь столбцов. Тип данных во всех столбцах — `object`.\n",
    "\n",
    "Согласно документации к данным:\n",
    "* `userID` — идентификатор пользователя;\n",
    "* `Track` — название трека;  \n",
    "* `artist` — имя исполнителя;\n",
    "* `genre` — название жанра;\n",
    "* `City` — город пользователя;\n",
    "* `time` — время начала прослушивания;\n",
    "* `Day` — день недели.\n",
    "\n",
    "В названиях колонок видны три нарушения стиля:\n",
    "1. Строчные буквы сочетаются с прописными.\n",
    "2. Встречаются пробелы.\n",
    "3. Между несколькими словами нет нижнего прочерка. \n",
    "\n",
    "\n",
    "\n",
    "Количество значений в столбцах различается. Значит, в данных есть пропущенные значения.\n"
   ]
  },
  {
   "cell_type": "markdown",
   "metadata": {
    "id": "MCB6-dXG_Zct"
   },
   "source": [
    "**Выводы**\n",
    "\n",
    "В каждой строке таблицы — данные о прослушанном треке. Часть колонок описывает саму композицию: название, исполнителя и жанр. Остальные данные рассказывают о пользователе: из какого он города, когда он слушал музыку. \n",
    "\n",
    "Предварительно можно утверждать, что, данных достаточно для проверки гипотез. Но встречаются пропуски в данных, а в названиях колонок — расхождения с хорошим стилем.\n",
    "\n",
    "Чтобы двигаться дальше, нужно устранить проблемы в данных."
   ]
  },
  {
   "cell_type": "markdown",
   "metadata": {
    "id": "SjYF6Ub9_Zct"
   },
   "source": [
    "## Предобработка данных\n",
    "Исправьте стиль в заголовках столбцов, исключите пропуски. Затем проверьте данные на дубликаты."
   ]
  },
  {
   "cell_type": "markdown",
   "metadata": {
    "id": "dIaKXr29_Zct"
   },
   "source": [
    "### Стиль заголовков\n",
    "Выведите на экран названия столбцов:"
   ]
  },
  {
   "cell_type": "code",
   "execution_count": 5,
   "metadata": {
    "id": "oKOTdF_Q_Zct"
   },
   "outputs": [
    {
     "data": {
      "text/plain": [
       "Index(['  userID', 'Track', 'artist', 'genre', '  City  ', 'time', 'Day'], dtype='object')"
      ]
     },
     "execution_count": 5,
     "metadata": {},
     "output_type": "execute_result"
    }
   ],
   "source": [
    "# перечень названий столбцов таблицы df\n",
    "df.columns"
   ]
  },
  {
   "cell_type": "markdown",
   "metadata": {
    "id": "zj5534cv_Zct"
   },
   "source": [
    "Приведем названия в соответствие с хорошим стилем:\n",
    "* несколько слов в названии запишите в «змеином_регистре»,\n",
    "* все символы сделайте строчными,\n",
    "* устраните пробелы.\n",
    "\n",
    "Для этого переименуем колонки так:\n",
    "* `'  userID'` → `'user_id'`;\n",
    "* `'Track'` → `'track'`;\n",
    "* `'  City  '` → `'city'`;\n",
    "* `'Day'` → `'day'`."
   ]
  },
  {
   "cell_type": "code",
   "execution_count": 6,
   "metadata": {
    "id": "ISlFqs5y_Zct"
   },
   "outputs": [],
   "source": [
    "# переименование столбцов\n",
    "df = df.rename( \n",
    "    columns={\n",
    "'  userID': 'user_id',\n",
    "'Track': 'track',\n",
    "'  City  ': 'city',\n",
    "'Day': 'day',\n",
    "    }\n",
    ")"
   ]
  },
  {
   "cell_type": "markdown",
   "metadata": {
    "id": "1dqbh00J_Zct"
   },
   "source": [
    "Проверим результат. Для этого ещё раз выведим на экран названия столбцов:"
   ]
  },
  {
   "cell_type": "code",
   "execution_count": 7,
   "metadata": {
    "id": "d4NOAmTW_Zct"
   },
   "outputs": [
    {
     "name": "stdout",
     "output_type": "stream",
     "text": [
      "Index(['user_id', 'track', 'artist', 'genre', 'city', 'time', 'day'], dtype='object')\n"
     ]
    }
   ],
   "source": [
    "# проверка результатов - перечень названий столбцов\n",
    "print(df.columns)"
   ]
  },
  {
   "cell_type": "markdown",
   "metadata": {
    "id": "5ISfbcfY_Zct"
   },
   "source": [
    "### Пропуски значений\n",
    "Сначала посчитаем, сколько в таблице пропущенных значений. Для этого достаточно двух методов `pandas`:"
   ]
  },
  {
   "cell_type": "code",
   "execution_count": 8,
   "metadata": {
    "id": "RskX29qr_Zct",
    "scrolled": true
   },
   "outputs": [
    {
     "name": "stdout",
     "output_type": "stream",
     "text": [
      "user_id       0\n",
      "track      1231\n",
      "artist     7203\n",
      "genre      1198\n",
      "city          0\n",
      "time          0\n",
      "day           0\n",
      "dtype: int64\n"
     ]
    }
   ],
   "source": [
    "# подсчёт пропусков\n",
    "df.isna().sum()"
   ]
  },
  {
   "cell_type": "markdown",
   "metadata": {
    "id": "qubhgnlO_Zct"
   },
   "source": [
    "Не все пропущенные значения влияют на исследование. Так в `track` и `artist` пропуски не важны для работы. Достаточно заменить их явными обозначениями.\n",
    "\n",
    "Но пропуски в `genre` могут помешать сравнению музыкальных вкусов в Москве и Санкт-Петербурге. На практике было бы правильно установить причину пропусков и восстановить данные. Такой возможности у нас нет. Придётся:\n",
    "* заполнить и эти пропуски явными обозначениями,\n",
    "* оценить, насколько они повредят расчётам. "
   ]
  },
  {
   "cell_type": "markdown",
   "metadata": {
    "id": "fSv2laPA_Zct"
   },
   "source": [
    "Заменить пропущенные значения в столбцах `track`, `artist` и `genre` на строку `'unknown'`. Для этого создадим список `columns_to_replace` и методом `fillna` обработаем пропуски. "
   ]
  },
  {
   "cell_type": "code",
   "execution_count": 9,
   "metadata": {
    "id": "KplB5qWs_Zct"
   },
   "outputs": [],
   "source": [
    "# перебор названий столбцов в цикле и замена пропущенных значений на 'unknown'\n",
    "columns_to_replace = ['track', 'artist', 'genre']\n",
    "df[columns_to_replace] = df[columns_to_replace].fillna('unknown')"
   ]
  },
  {
   "cell_type": "markdown",
   "metadata": {
    "id": "Ilsm-MZo_Zct"
   },
   "source": [
    "Убедимся, что в таблице не осталось пропусков. Для этого ещё раз посчитайте пропущенные значения."
   ]
  },
  {
   "cell_type": "code",
   "execution_count": 10,
   "metadata": {
    "id": "Tq4nYRX4_Zct"
   },
   "outputs": [
    {
     "name": "stdout",
     "output_type": "stream",
     "text": [
      "user_id    0\n",
      "track      0\n",
      "artist     0\n",
      "genre      0\n",
      "city       0\n",
      "time       0\n",
      "day        0\n",
      "dtype: int64\n"
     ]
    }
   ],
   "source": [
    "# подсчёт пропусков\n",
    "df.isna().sum()"
   ]
  },
  {
   "cell_type": "markdown",
   "metadata": {
    "id": "BWKRtBJ3_Zct"
   },
   "source": [
    "### Дубликаты\n",
    "Посчитаем явные дубликаты в таблице:"
   ]
  },
  {
   "cell_type": "code",
   "execution_count": 1,
   "metadata": {
    "id": "36eES_S0_Zct"
   },
   "outputs": [
    {
     "ename": "NameError",
     "evalue": "name 'df' is not defined",
     "output_type": "error",
     "traceback": [
      "\u001b[0;31m---------------------------------------------------------------------------\u001b[0m",
      "\u001b[0;31mNameError\u001b[0m                                 Traceback (most recent call last)",
      "Cell \u001b[0;32mIn [1], line 2\u001b[0m\n\u001b[1;32m      1\u001b[0m \u001b[38;5;66;03m# подсчёт явных дубликатов\u001b[39;00m\n\u001b[0;32m----> 2\u001b[0m \u001b[43mdf\u001b[49m\u001b[38;5;241m.\u001b[39mduplicated()\u001b[38;5;241m.\u001b[39msum()\n",
      "\u001b[0;31mNameError\u001b[0m: name 'df' is not defined"
     ]
    }
   ],
   "source": [
    "# подсчёт явных дубликатов\n",
    "df.duplicated().sum()"
   ]
  },
  {
   "cell_type": "markdown",
   "metadata": {
    "id": "Ot25h6XR_Zct"
   },
   "source": [
    "Вызовем специальный метод `pandas`, чтобы удалить явные дубликаты:"
   ]
  },
  {
   "cell_type": "code",
   "execution_count": 12,
   "metadata": {
    "id": "exFHq6tt_Zct"
   },
   "outputs": [],
   "source": [
    "# удаление явных дубликатов (с удалением старых индексов и формированием новых)\n",
    "df = df.drop_duplicates().reset_index(drop=True)"
   ]
  },
  {
   "cell_type": "markdown",
   "metadata": {
    "id": "Im2YwBEG_Zct"
   },
   "source": [
    "Ещё раз посчитайте явные дубликаты в таблице — убедитесь, что полностью от них избавились:"
   ]
  },
  {
   "cell_type": "code",
   "execution_count": 13,
   "metadata": {
    "id": "-8PuNWQ0_Zct"
   },
   "outputs": [
    {
     "name": "stdout",
     "output_type": "stream",
     "text": [
      "0\n"
     ]
    }
   ],
   "source": [
    "# проверка на отсутствие дубликатов\n",
    "df.duplicated().sum()"
   ]
  },
  {
   "cell_type": "markdown",
   "metadata": {
    "id": "QlFBsxAr_Zct"
   },
   "source": [
    "Теперь избавимся от неявных дубликатов в колонке `genre`"
   ]
  },
  {
   "cell_type": "markdown",
   "metadata": {
    "id": "eSjWwsOh_Zct"
   },
   "source": [
    "Выведем на экран список уникальных названий жанров, отсортированный в алфавитном порядке. Для этого:\n",
    "* извлечем нужный столбец датафрейма, \n",
    "* применим к нему метод сортировки,\n",
    "* для отсортированного столбца вызовем метод, который вернёт уникальные значения из столбца."
   ]
  },
  {
   "cell_type": "code",
   "execution_count": 14,
   "metadata": {
    "id": "JIUcqzZN_Zct"
   },
   "outputs": [
    {
     "name": "stdout",
     "output_type": "stream",
     "text": [
      "['rock' 'pop' 'folk' 'dance' 'rusrap' 'ruspop' 'world' 'electronic'\n",
      " 'unknown' 'alternative' 'children' 'rnb' 'hip' 'jazz' 'postrock' 'latin'\n",
      " 'classical' 'metal' 'reggae' 'tatar' 'blues' 'instrumental' 'rusrock'\n",
      " 'dnb' 'türk' 'post' 'country' 'psychedelic' 'conjazz' 'indie'\n",
      " 'posthardcore' 'local' 'avantgarde' 'punk' 'videogame' 'techno' 'house'\n",
      " 'christmas' 'melodic' 'caucasian' 'reggaeton' 'soundtrack' 'singer' 'ska'\n",
      " 'shanson' 'ambient' 'film' 'western' 'rap' 'beats' \"hard'n'heavy\"\n",
      " 'progmetal' 'minimal' 'contemporary' 'new' 'soul' 'holiday' 'german'\n",
      " 'tropical' 'fairytail' 'spiritual' 'urban' 'gospel' 'nujazz' 'folkmetal'\n",
      " 'trance' 'miscellaneous' 'anime' 'hardcore' 'progressive' 'chanson'\n",
      " 'numetal' 'vocal' 'estrada' 'russian' 'classicmetal' 'dubstep' 'club'\n",
      " 'deep' 'southern' 'black' 'folkrock' 'fitness' 'french' 'disco'\n",
      " 'religious' 'hiphop' 'drum' 'extrememetal' 'türkçe' 'experimental' 'easy'\n",
      " 'metalcore' 'modern' 'argentinetango' 'old' 'breaks' 'eurofolk'\n",
      " 'stonerrock' 'industrial' 'funk' 'jpop' 'middle' 'variété' 'other'\n",
      " 'adult' 'christian' 'gothic' 'international' 'muslim' 'relax' 'schlager'\n",
      " 'caribbean' 'ukrrock' 'nu' 'breakbeat' 'comedy' 'chill' 'newage'\n",
      " 'specialty' 'uzbek' 'k-pop' 'balkan' 'chinese' 'meditative' 'dub' 'power'\n",
      " 'death' 'grime' 'arabesk' 'romance' 'flamenco' 'leftfield' 'european'\n",
      " 'tech' 'newwave' 'dancehall' 'mpb' 'piano' 'top' 'bigroom' 'opera'\n",
      " 'celtic' 'tradjazz' 'acoustic' 'epicmetal' 'hip-hop' 'historisch'\n",
      " 'downbeat' 'downtempo' 'africa' 'audiobook' 'jewish' 'sängerportrait'\n",
      " 'deutschrock' 'eastern' 'action' 'future' 'electropop' 'folklore'\n",
      " 'bollywood' 'marschmusik' 'rnr' 'karaoke' 'indian' 'rancheras'\n",
      " 'электроника' 'afrikaans' 'tango' 'rhythm' 'sound' 'deutschspr' 'trip'\n",
      " 'lovers' 'choral' 'dancepop' 'podcasts' 'retro' 'smooth' 'mexican'\n",
      " 'brazilian' 'ïîï' 'mood' 'surf' 'author' 'gangsta' 'triphop'\n",
      " 'inspirational' 'idm' 'ethnic' 'bluegrass' 'broadway' 'animated'\n",
      " 'americana' 'karadeniz' 'rockabilly' 'colombian' 'self' 'hop' 'synthrock'\n",
      " 'sertanejo' 'japanese' 'canzone' 'swing' 'lounge' 'sport' 'korean'\n",
      " 'ragga' 'traditional' 'gitarre' 'frankreich' 'alternativepunk' 'emo'\n",
      " 'laiko' 'cantopop' 'glitch' 'documentary' 'rockalternative' 'thrash'\n",
      " 'hymn' 'oceania' 'rockother' 'popeurodance' 'dark' 'vi' 'grunge'\n",
      " 'hardstyle' 'samba' 'garage' 'soft' 'art' 'folktronica' 'entehno'\n",
      " 'mediterranean' 'chamber' 'cuban' 'taraftar' 'rockindie' 'gypsy'\n",
      " 'hardtechno' 'shoegazing' 'skarock' 'bossa' 'salsa' 'latino' 'worldbeat'\n",
      " 'malaysian' 'baile' 'ghazal' 'loungeelectronic' 'arabic' 'popelectronic'\n",
      " 'acid' 'kayokyoku' 'neoklassik' 'tribal' 'tanzorchester' 'native'\n",
      " 'independent' 'cantautori' 'handsup' 'poprussian' 'punjabi' 'synthpop'\n",
      " 'rave' 'französisch' 'quebecois' 'speech' 'soulful' 'teen' 'jam' 'ram'\n",
      " 'horror' 'scenic' 'orchestral' 'neue' 'roots' 'slow' 'jungle' 'indipop'\n",
      " 'axé' 'fado' 'showtunes' 'arena' 'irish' 'mandopop' 'forró' 'popdance'\n",
      " 'dirty' 'regional']\n"
     ]
    }
   ],
   "source": [
    "# Просмотр уникальных названий жанров\n",
    "df['genre'].unique()"
   ]
  },
  {
   "cell_type": "markdown",
   "metadata": {
    "id": "qej-Qmuo_Zct"
   },
   "source": [
    "Видим, что у жанра `hiphop` есть неявные дубликаты - названия с ошибками или альтернативные названия того же жанра:\n",
    "* *hip*,\n",
    "* *hop*,\n",
    "* *hip-hop*.\n",
    "\n",
    "Напишите функцию `replace_wrong_genres()` с двумя параметрами: \n",
    "* `wrong_genres` — список дубликатов,\n",
    "* `correct_genre` — строка с правильным значением."
   ]
  },
  {
   "cell_type": "code",
   "execution_count": 15,
   "metadata": {
    "id": "ErNDkmns_Zct"
   },
   "outputs": [],
   "source": [
    "# Функция для замены неявных дубликатов\n",
    "def replace_wrong_genres(wrong_genres, correct_genre):\n",
    "    df['genre'] = df['genre'].replace(wrong_genres, correct_genre)\n",
    "    "
   ]
  },
  {
   "cell_type": "code",
   "execution_count": 16,
   "metadata": {
    "id": "YN5i2hpmSo09"
   },
   "outputs": [],
   "source": [
    "# Устранение неявных дубликатов\n",
    "replace_wrong_genres(['hip', 'hop', 'hip-hop'] , 'hiphop')"
   ]
  },
  {
   "cell_type": "markdown",
   "metadata": {
    "id": "zQKF16_RG15m"
   },
   "source": [
    "Проверим, что неправильные названия заменились:\n",
    "\n",
    "*   hip\n",
    "*   hop\n",
    "*   hip-hop\n",
    "\n",
    "Выведим отсортированный список уникальных значений столбца `genre`:"
   ]
  },
  {
   "cell_type": "code",
   "execution_count": 17,
   "metadata": {
    "id": "wvixALnFG15m"
   },
   "outputs": [
    {
     "name": "stdout",
     "output_type": "stream",
     "text": [
      "['acid' 'acoustic' 'action' 'adult' 'africa' 'afrikaans' 'alternative'\n",
      " 'alternativepunk' 'ambient' 'americana' 'animated' 'anime' 'arabesk'\n",
      " 'arabic' 'arena' 'argentinetango' 'art' 'audiobook' 'author' 'avantgarde'\n",
      " 'axé' 'baile' 'balkan' 'beats' 'bigroom' 'black' 'bluegrass' 'blues'\n",
      " 'bollywood' 'bossa' 'brazilian' 'breakbeat' 'breaks' 'broadway'\n",
      " 'cantautori' 'cantopop' 'canzone' 'caribbean' 'caucasian' 'celtic'\n",
      " 'chamber' 'chanson' 'children' 'chill' 'chinese' 'choral' 'christian'\n",
      " 'christmas' 'classical' 'classicmetal' 'club' 'colombian' 'comedy'\n",
      " 'conjazz' 'contemporary' 'country' 'cuban' 'dance' 'dancehall' 'dancepop'\n",
      " 'dark' 'death' 'deep' 'deutschrock' 'deutschspr' 'dirty' 'disco' 'dnb'\n",
      " 'documentary' 'downbeat' 'downtempo' 'drum' 'dub' 'dubstep' 'eastern'\n",
      " 'easy' 'electronic' 'electropop' 'emo' 'entehno' 'epicmetal' 'estrada'\n",
      " 'ethnic' 'eurofolk' 'european' 'experimental' 'extrememetal' 'fado'\n",
      " 'fairytail' 'film' 'fitness' 'flamenco' 'folk' 'folklore' 'folkmetal'\n",
      " 'folkrock' 'folktronica' 'forró' 'frankreich' 'französisch' 'french'\n",
      " 'funk' 'future' 'gangsta' 'garage' 'german' 'ghazal' 'gitarre' 'glitch'\n",
      " 'gospel' 'gothic' 'grime' 'grunge' 'gypsy' 'handsup' \"hard'n'heavy\"\n",
      " 'hardcore' 'hardstyle' 'hardtechno' 'hiphop' 'historisch' 'holiday'\n",
      " 'horror' 'house' 'hymn' 'idm' 'independent' 'indian' 'indie' 'indipop'\n",
      " 'industrial' 'inspirational' 'instrumental' 'international' 'irish' 'jam'\n",
      " 'japanese' 'jazz' 'jewish' 'jpop' 'jungle' 'k-pop' 'karadeniz' 'karaoke'\n",
      " 'kayokyoku' 'korean' 'laiko' 'latin' 'latino' 'leftfield' 'local'\n",
      " 'lounge' 'loungeelectronic' 'lovers' 'malaysian' 'mandopop' 'marschmusik'\n",
      " 'meditative' 'mediterranean' 'melodic' 'metal' 'metalcore' 'mexican'\n",
      " 'middle' 'minimal' 'miscellaneous' 'modern' 'mood' 'mpb' 'muslim'\n",
      " 'native' 'neoklassik' 'neue' 'new' 'newage' 'newwave' 'nu' 'nujazz'\n",
      " 'numetal' 'oceania' 'old' 'opera' 'orchestral' 'other' 'piano' 'podcasts'\n",
      " 'pop' 'popdance' 'popelectronic' 'popeurodance' 'poprussian' 'post'\n",
      " 'posthardcore' 'postrock' 'power' 'progmetal' 'progressive' 'psychedelic'\n",
      " 'punjabi' 'punk' 'quebecois' 'ragga' 'ram' 'rancheras' 'rap' 'rave'\n",
      " 'reggae' 'reggaeton' 'regional' 'relax' 'religious' 'retro' 'rhythm'\n",
      " 'rnb' 'rnr' 'rock' 'rockabilly' 'rockalternative' 'rockindie' 'rockother'\n",
      " 'romance' 'roots' 'ruspop' 'rusrap' 'rusrock' 'russian' 'salsa' 'samba'\n",
      " 'scenic' 'schlager' 'self' 'sertanejo' 'shanson' 'shoegazing' 'showtunes'\n",
      " 'singer' 'ska' 'skarock' 'slow' 'smooth' 'soft' 'soul' 'soulful' 'sound'\n",
      " 'soundtrack' 'southern' 'specialty' 'speech' 'spiritual' 'sport'\n",
      " 'stonerrock' 'surf' 'swing' 'synthpop' 'synthrock' 'sängerportrait'\n",
      " 'tango' 'tanzorchester' 'taraftar' 'tatar' 'tech' 'techno' 'teen'\n",
      " 'thrash' 'top' 'traditional' 'tradjazz' 'trance' 'tribal' 'trip'\n",
      " 'triphop' 'tropical' 'türk' 'türkçe' 'ukrrock' 'unknown' 'urban' 'uzbek'\n",
      " 'variété' 'vi' 'videogame' 'vocal' 'western' 'world' 'worldbeat' 'ïîï'\n",
      " 'электроника']\n"
     ]
    }
   ],
   "source": [
    "# Проверка на неявные дубликаты\n",
    "print(df['genre'].sort_values().unique())"
   ]
  },
  {
   "cell_type": "markdown",
   "metadata": {
    "id": "jz6a9-7HQUDd"
   },
   "source": [
    "**Выводы**\n",
    "\n",
    "Предобработка обнаружила три проблемы в данных:\n",
    "\n",
    "- нарушения в стиле заголовков,\n",
    "- пропущенные значения,\n",
    "- дубликаты — явные и неявные.\n",
    "\n",
    "Исправлены заголовки, чтобы упростить работу с таблицей. Без дубликатов исследование станет более точным.\n",
    "\n",
    "Пропущенные значения заменили на `'unknown'`. Ещё предстоит увидеть, не повредят ли исследованию пропуски в колонке `genre`.\n",
    "\n",
    "Теперь можно перейти к проверке гипотез. "
   ]
  },
  {
   "cell_type": "markdown",
   "metadata": {
    "id": "WttZHXH0SqKk"
   },
   "source": [
    "## Проверка гипотез"
   ]
  },
  {
   "cell_type": "markdown",
   "metadata": {
    "id": "Im936VVi_Zcu"
   },
   "source": [
    "### Сравнение поведения пользователей двух столиц"
   ]
  },
  {
   "cell_type": "markdown",
   "metadata": {
    "id": "nwt_MuaL_Zcu"
   },
   "source": [
    "Первая гипотеза утверждает, что пользователи по-разному слушают музыку в Москве и Санкт-Петербурге. Проверим это предположение по данным о трёх днях недели — понедельнике, среде и пятнице. Для этого:\n",
    "\n",
    "* Разделим пользователей Москвы и Санкт-Петербурга\n",
    "* Сравним, сколько треков послушала каждая группа пользователей в понедельник, среду и пятницу."
   ]
  },
  {
   "cell_type": "code",
   "execution_count": 18,
   "metadata": {
    "id": "0_Qs96oh_Zcu"
   },
   "outputs": [
    {
     "data": {
      "text/plain": [
       "city\n",
       "Moscow              42741\n",
       "Saint-Petersburg    18512\n",
       "Name: genre, dtype: int64"
      ]
     },
     "execution_count": 18,
     "metadata": {},
     "output_type": "execute_result"
    }
   ],
   "source": [
    "# Подсчёт прослушиваний в каждом городе\n",
    "df.groupby('city')['genre'].count()"
   ]
  },
  {
   "cell_type": "markdown",
   "metadata": {
    "id": "dzli3w8o_Zcu"
   },
   "source": [
    "В Москве прослушиваний больше, чем в Петербурге. Из этого не следует, что московские пользователи чаще слушают музыку. Просто самих пользователей в Москве больше."
   ]
  },
  {
   "cell_type": "code",
   "execution_count": 19,
   "metadata": {
    "id": "uZMKjiJz_Zcu"
   },
   "outputs": [
    {
     "data": {
      "text/plain": [
       "day\n",
       "Friday       21840\n",
       "Monday       21354\n",
       "Wednesday    18059\n",
       "Name: city, dtype: int64"
      ]
     },
     "metadata": {},
     "output_type": "display_data"
    }
   ],
   "source": [
    "# Подсчёт прослушиваний в каждый из трёх дней\n",
    "day_listeners_count = df.groupby('day')['city'].count()\n",
    "display(day_listeners_count)\n"
   ]
  },
  {
   "cell_type": "markdown",
   "metadata": {
    "id": "cC2tNrlL_Zcu"
   },
   "source": [
    "В среднем пользователи из двух городов менее активны по средам. Но картина может измениться, если рассмотреть каждый город в отдельности."
   ]
  },
  {
   "cell_type": "markdown",
   "metadata": {
    "id": "POzs8bGa_Zcu"
   },
   "source": [
    "Создадим функцию `number_tracks()`, которая посчитает прослушивания для заданного дня и города. "
   ]
  },
  {
   "cell_type": "code",
   "execution_count": 20,
   "metadata": {
    "id": "Nz3GdQB1_Zcu"
   },
   "outputs": [],
   "source": [
    "def number_tracks(day, city):\n",
    "    track_list = df[(df['day'] == day) & (df['city'] == city)]\n",
    "    track_list_count = track_list['user_id'].count()\n",
    "    return track_list_count"
   ]
  },
  {
   "cell_type": "code",
   "execution_count": 21,
   "metadata": {
    "id": "rJcRATNQ_Zcu"
   },
   "outputs": [
    {
     "data": {
      "text/plain": [
       "15740"
      ]
     },
     "execution_count": 21,
     "metadata": {},
     "output_type": "execute_result"
    }
   ],
   "source": [
    "# количество прослушиваний в Москве по понедельникам\n",
    "number_tracks('Monday', 'Moscow')"
   ]
  },
  {
   "cell_type": "code",
   "execution_count": 22,
   "metadata": {
    "id": "hq_ncZ5T_Zcu"
   },
   "outputs": [
    {
     "data": {
      "text/plain": [
       "5614"
      ]
     },
     "execution_count": 22,
     "metadata": {},
     "output_type": "execute_result"
    }
   ],
   "source": [
    "# количество прослушиваний в Санкт-Петербурге по понедельникам\n",
    "number_tracks('Monday', 'Saint-Petersburg')"
   ]
  },
  {
   "cell_type": "code",
   "execution_count": 23,
   "metadata": {
    "id": "_NTy2VPU_Zcu"
   },
   "outputs": [
    {
     "data": {
      "text/plain": [
       "11056"
      ]
     },
     "execution_count": 23,
     "metadata": {},
     "output_type": "execute_result"
    }
   ],
   "source": [
    "# количество прослушиваний в Москве по средам\n",
    "number_tracks('Wednesday', 'Moscow')"
   ]
  },
  {
   "cell_type": "code",
   "execution_count": 24,
   "metadata": {
    "id": "j2y3TAwo_Zcu"
   },
   "outputs": [
    {
     "data": {
      "text/plain": [
       "7003"
      ]
     },
     "execution_count": 24,
     "metadata": {},
     "output_type": "execute_result"
    }
   ],
   "source": [
    "# количество прослушиваний в Санкт-Петербурге по средам\n",
    "number_tracks('Wednesday', 'Saint-Petersburg')"
   ]
  },
  {
   "cell_type": "code",
   "execution_count": 25,
   "metadata": {
    "id": "vYDw5u_K_Zcu"
   },
   "outputs": [
    {
     "data": {
      "text/plain": [
       "15945"
      ]
     },
     "execution_count": 25,
     "metadata": {},
     "output_type": "execute_result"
    }
   ],
   "source": [
    "# количество прослушиваний в Москве по пятницам\n",
    "number_tracks('Friday', 'Moscow')"
   ]
  },
  {
   "cell_type": "code",
   "execution_count": 26,
   "metadata": {
    "id": "8_yzFtW3_Zcu"
   },
   "outputs": [
    {
     "data": {
      "text/plain": [
       "5895"
      ]
     },
     "execution_count": 26,
     "metadata": {},
     "output_type": "execute_result"
    }
   ],
   "source": [
    "# количество прослушиваний в Санкт-Петербурге по пятницам\n",
    "number_tracks('Friday', 'Saint-Petersburg')"
   ]
  },
  {
   "cell_type": "markdown",
   "metadata": {
    "id": "7QXffbO-_Zcu"
   },
   "source": [
    "Создайте сводную таблицу"
   ]
  },
  {
   "cell_type": "code",
   "execution_count": 27,
   "metadata": {
    "id": "APAcLpOr_Zcu"
   },
   "outputs": [
    {
     "data": {
      "text/html": [
       "<div>\n",
       "<style scoped>\n",
       "    .dataframe tbody tr th:only-of-type {\n",
       "        vertical-align: middle;\n",
       "    }\n",
       "\n",
       "    .dataframe tbody tr th {\n",
       "        vertical-align: top;\n",
       "    }\n",
       "\n",
       "    .dataframe thead th {\n",
       "        text-align: right;\n",
       "    }\n",
       "</style>\n",
       "<table border=\"1\" class=\"dataframe\">\n",
       "  <thead>\n",
       "    <tr style=\"text-align: right;\">\n",
       "      <th></th>\n",
       "      <th>city</th>\n",
       "      <th>monday</th>\n",
       "      <th>wednesday</th>\n",
       "      <th>friday</th>\n",
       "    </tr>\n",
       "  </thead>\n",
       "  <tbody>\n",
       "    <tr>\n",
       "      <th>0</th>\n",
       "      <td>Moscow</td>\n",
       "      <td>15347</td>\n",
       "      <td>10865</td>\n",
       "      <td>15680</td>\n",
       "    </tr>\n",
       "    <tr>\n",
       "      <th>1</th>\n",
       "      <td>Saint-Petersburg</td>\n",
       "      <td>5519</td>\n",
       "      <td>6913</td>\n",
       "      <td>5802</td>\n",
       "    </tr>\n",
       "  </tbody>\n",
       "</table>\n",
       "</div>"
      ],
      "text/plain": [
       "               city  monday  wednesday  friday\n",
       "0            Moscow   15347      10865   15680\n",
       "1  Saint-Petersburg    5519       6913    5802"
      ]
     },
     "execution_count": 27,
     "metadata": {},
     "output_type": "execute_result"
    }
   ],
   "source": [
    "# Таблица с результатами\n",
    "data = [\n",
    "    ['Moscow', 15347, 10865, 15680],\n",
    "    ['Saint-Petersburg', 5519, 6913, 5802]\n",
    "]\n",
    "columns = ['city', 'monday', 'wednesday', 'friday']\n",
    "pd.DataFrame(data=data, columns=columns)"
   ]
  },
  {
   "cell_type": "markdown",
   "metadata": {
    "id": "-EgPIHYu_Zcu"
   },
   "source": [
    "**Выводы**\n",
    "\n",
    "Данные показывают разницу поведения пользователей:\n",
    "\n",
    "- В Москве пик прослушиваний приходится на понедельник и пятницу, а в среду заметен спад.\n",
    "- В Петербурге, наоборот, больше слушают музыку по средам. Активность в понедельник и пятницу здесь почти в равной мере уступает среде.\n",
    "\n",
    "Значит, данные говорят в пользу первой гипотезы."
   ]
  },
  {
   "cell_type": "markdown",
   "metadata": {
    "id": "atZAxtq4_Zcu"
   },
   "source": [
    "### Музыка в начале и в конце недели"
   ]
  },
  {
   "cell_type": "markdown",
   "metadata": {
    "id": "eXrQqXFH_Zcu"
   },
   "source": [
    "Согласно второй гипотезе, утром в понедельник в Москве преобладают одни жанры, а в Петербурге — другие. Так же и вечером пятницы преобладают разные жанры — в зависимости от города."
   ]
  },
  {
   "cell_type": "code",
   "execution_count": 28,
   "metadata": {
    "id": "qeaFfM_P_Zcu"
   },
   "outputs": [],
   "source": [
    "moscow_general = df[df['city'] == 'Moscow']"
   ]
  },
  {
   "cell_type": "code",
   "execution_count": 29,
   "metadata": {
    "id": "ORaVRKto_Zcu"
   },
   "outputs": [],
   "source": [
    "spb_general = df[df['city'] == 'Saint-Petersburg']"
   ]
  },
  {
   "cell_type": "markdown",
   "metadata": {
    "id": "MEJV-CX2_Zcu"
   },
   "source": [
    "Создадим функцию `genre_weekday()` с четырьмя параметрами:\n",
    "* таблица (датафрейм) с данными,\n",
    "* день недели,\n",
    "* начальная временная метка в формате 'hh:mm', \n",
    "* последняя временная метка в формате 'hh:mm'.\n",
    "\n",
    "Функция должна вернуть информацию о топ-10 жанров тех треков, которые прослушивали в указанный день, в промежутке между двумя отметками времени."
   ]
  },
  {
   "cell_type": "code",
   "execution_count": 30,
   "metadata": {
    "id": "laJT9BYl_Zcu"
   },
   "outputs": [],
   "source": [
    "def genre_weekday(table, day, time1, time2):\n",
    "    genre_df = table[(table['day'] == day) & (table['time'] >= time1) & (table['time'] <= time2)]\n",
    "    genre_df_count = genre_df.groupby('genre')['genre'].count()\n",
    "    genre_df_sorted = genre_df_count.sort_values(ascending=False)\n",
    "    return genre_df_sorted.head(10)"
   ]
  },
  {
   "cell_type": "markdown",
   "metadata": {
    "id": "la2s2_PF_Zcu"
   },
   "source": [
    "Cравним результаты функции `genre_weekday()` для Москвы и Санкт-Петербурга в понедельник утром (с 7:00 до 11:00) и в пятницу вечером (с 17:00 до 23:00):"
   ]
  },
  {
   "cell_type": "code",
   "execution_count": 31,
   "metadata": {
    "id": "yz7itPUQ_Zcu"
   },
   "outputs": [
    {
     "data": {
      "text/plain": [
       "genre\n",
       "pop            781\n",
       "dance          549\n",
       "electronic     480\n",
       "rock           474\n",
       "hiphop         286\n",
       "ruspop         186\n",
       "world          181\n",
       "rusrap         175\n",
       "alternative    164\n",
       "unknown        161\n",
       "Name: genre, dtype: int64"
      ]
     },
     "execution_count": 31,
     "metadata": {},
     "output_type": "execute_result"
    }
   ],
   "source": [
    "genre_weekday(moscow_general, 'Monday', '07:00', '11:00')"
   ]
  },
  {
   "cell_type": "code",
   "execution_count": 32,
   "metadata": {
    "id": "kwUcHPdy_Zcu"
   },
   "outputs": [
    {
     "data": {
      "text/plain": [
       "genre\n",
       "pop            218\n",
       "dance          182\n",
       "rock           162\n",
       "electronic     147\n",
       "hiphop          80\n",
       "ruspop          64\n",
       "alternative     58\n",
       "rusrap          55\n",
       "jazz            44\n",
       "classical       40\n",
       "Name: genre, dtype: int64"
      ]
     },
     "execution_count": 32,
     "metadata": {},
     "output_type": "execute_result"
    }
   ],
   "source": [
    "genre_weekday(spb_general, 'Monday', '07:00', '11:00')"
   ]
  },
  {
   "cell_type": "code",
   "execution_count": 33,
   "metadata": {
    "id": "EzXVRE1o_Zcu"
   },
   "outputs": [
    {
     "data": {
      "text/plain": [
       "genre\n",
       "pop            713\n",
       "rock           517\n",
       "dance          495\n",
       "electronic     482\n",
       "hiphop         273\n",
       "world          208\n",
       "ruspop         170\n",
       "alternative    163\n",
       "classical      163\n",
       "rusrap         142\n",
       "Name: genre, dtype: int64"
      ]
     },
     "execution_count": 33,
     "metadata": {},
     "output_type": "execute_result"
    }
   ],
   "source": [
    "# вызов функции для вечера пятницы в Москве\n",
    "genre_weekday(moscow_general, 'Friday', '17:00', '23:00')"
   ]
  },
  {
   "cell_type": "code",
   "execution_count": 34,
   "metadata": {
    "id": "JZaEKu5v_Zcu"
   },
   "outputs": [
    {
     "data": {
      "text/plain": [
       "genre\n",
       "pop            256\n",
       "electronic     216\n",
       "rock           216\n",
       "dance          210\n",
       "hiphop          97\n",
       "alternative     63\n",
       "jazz            61\n",
       "classical       60\n",
       "rusrap          59\n",
       "world           54\n",
       "Name: genre, dtype: int64"
      ]
     },
     "execution_count": 34,
     "metadata": {},
     "output_type": "execute_result"
    }
   ],
   "source": [
    "# вызов функции для вечера пятницы в Петербурге\n",
    "genre_weekday(spb_general, 'Friday', '17:00', '23:00')"
   ]
  },
  {
   "cell_type": "markdown",
   "metadata": {
    "id": "wrCe4MNX_Zcu"
   },
   "source": [
    "**Выводы**\n",
    "\n",
    "Если сравнить топ-10 жанров в понедельник утром, можно сделать такие выводы:\n",
    "\n",
    "1. В Москве и Петербурге слушают похожую музыку. Единственное отличие — в московский рейтинг вошёл жанр “world”, а в петербургский — джаз и классика.\n",
    "\n",
    "2. В Москве пропущенных значений оказалось так много, что значение `'unknown'` заняло десятое место среди самых популярных жанров. Значит, пропущенные значения занимают существенную долю в данных и угрожают достоверности исследования.\n",
    "\n",
    "Вечер пятницы не меняет эту картину. Некоторые жанры поднимаются немного выше, другие спускаются, но в целом топ-10 остаётся тем же самым.\n",
    "\n",
    "Таким образом, вторая гипотеза подтвердилась лишь частично:\n",
    "* Пользователи слушают похожую музыку в начале недели и в конце.\n",
    "* Разница между Москвой и Петербургом не слишком выражена. В Москве чаще слушают русскую популярную музыку, в Петербурге — джаз.\n",
    "\n",
    "Однако пропуски в данных ставят под сомнение этот результат. В Москве их так много, что рейтинг топ-10 мог бы выглядеть иначе, если бы не утерянные  данные о жанрах."
   ]
  },
  {
   "cell_type": "markdown",
   "metadata": {
    "id": "JolODAqr_Zcu"
   },
   "source": [
    "### Жанровые предпочтения в Москве и Петербурге\n",
    "\n",
    "Гипотеза: Петербург — столица рэпа, музыку этого жанра там слушают чаще, чем в Москве.  А Москва — город контрастов, в котором, тем не менее, преобладает поп-музыка."
   ]
  },
  {
   "cell_type": "code",
   "execution_count": 35,
   "metadata": {
    "id": "r19lIPke_Zcu"
   },
   "outputs": [],
   "source": [
    "moscow_genres = moscow_general.groupby('genre')['genre'].count().sort_values(ascending=False)"
   ]
  },
  {
   "cell_type": "code",
   "execution_count": 36,
   "metadata": {
    "id": "WhCSooF8_Zcv"
   },
   "outputs": [
    {
     "data": {
      "text/plain": [
       "genre\n",
       "pop            5892\n",
       "dance          4435\n",
       "rock           3965\n",
       "electronic     3786\n",
       "hiphop         2096\n",
       "classical      1616\n",
       "world          1432\n",
       "alternative    1379\n",
       "ruspop         1372\n",
       "rusrap         1161\n",
       "Name: genre, dtype: int64"
      ]
     },
     "execution_count": 36,
     "metadata": {},
     "output_type": "execute_result"
    }
   ],
   "source": [
    "# просмотр первых 10 строк moscow_genres\n",
    "moscow_genres.head(10)"
   ]
  },
  {
   "cell_type": "code",
   "execution_count": 37,
   "metadata": {
    "id": "gluLIpE7_Zcv"
   },
   "outputs": [],
   "source": [
    "spb_genres = spb_general.groupby('genre')['genre'].count().sort_values(ascending=False)"
   ]
  },
  {
   "cell_type": "code",
   "execution_count": 38,
   "metadata": {
    "id": "uaGJHjVU_Zcv"
   },
   "outputs": [
    {
     "data": {
      "text/plain": [
       "genre\n",
       "pop            2431\n",
       "dance          1932\n",
       "rock           1879\n",
       "electronic     1736\n",
       "hiphop          960\n",
       "alternative     649\n",
       "classical       646\n",
       "rusrap          564\n",
       "ruspop          538\n",
       "world           515\n",
       "Name: genre, dtype: int64"
      ]
     },
     "execution_count": 38,
     "metadata": {},
     "output_type": "execute_result"
    }
   ],
   "source": [
    "# просмотр первых 10 строк spb_genres\n",
    "spb_genres.head(10)"
   ]
  },
  {
   "cell_type": "markdown",
   "metadata": {
    "id": "RY51YJYu_Zcv"
   },
   "source": [
    "**Выводы**"
   ]
  },
  {
   "cell_type": "markdown",
   "metadata": {
    "id": "nVhnJEm__Zcv"
   },
   "source": [
    "Гипотеза частично подтвердилась:\n",
    "* Поп-музыка — самый популярный жанр в Москве, как и предполагала гипотеза. Более того, в топ-10 жанров встречается близкий жанр — русская популярная музыка.\n",
    "* Вопреки ожиданиям, рэп одинаково популярен в Москве и Петербурге. \n"
   ]
  },
  {
   "cell_type": "markdown",
   "metadata": {
    "id": "ykKQ0N65_Zcv"
   },
   "source": [
    "## Итоги исследования"
   ]
  },
  {
   "cell_type": "markdown",
   "metadata": {
    "id": "tjUwbHb3_Zcv"
   },
   "source": [
    "Мы проверили три гипотезы и установили:\n",
    "\n",
    "1. День недели по-разному влияет на активность пользователей в Москве и Петербурге. \n",
    "\n",
    "Первая гипотеза полностью подтвердилась.\n",
    "\n",
    "2. Музыкальные предпочтения не сильно меняются в течение недели — будь то Москва или Петербург. Небольшие различия заметны в начале недели, по понедельникам:\n",
    "* в Москве слушают музыку жанра “world”,\n",
    "* в Петербурге — джаз и классику.\n",
    "\n",
    "Таким образом, вторая гипотеза подтвердилась лишь отчасти. Этот результат мог оказаться иным, если бы не пропуски в данных.\n",
    "\n",
    "3. Во вкусах пользователей Москвы и Петербурга больше общего чем различий. Вопреки ожиданиям, предпочтения жанров в Петербурге напоминают московские.\n",
    "\n",
    "Третья гипотеза не подтвердилась. Если различия в предпочтениях и существуют, на основной массе пользователей они незаметны."
   ]
  }
 ],
 "metadata": {
  "ExecuteTimeLog": [
   {
    "duration": 539,
    "start_time": "2022-02-14T18:46:11.711Z"
   },
   {
    "duration": 150,
    "start_time": "2022-02-14T18:46:36.467Z"
   },
   {
    "duration": 101,
    "start_time": "2022-02-14T18:49:02.300Z"
   },
   {
    "duration": 121,
    "start_time": "2022-02-14T18:49:16.807Z"
   },
   {
    "duration": 15,
    "start_time": "2022-02-14T18:49:35.350Z"
   },
   {
    "duration": 10,
    "start_time": "2022-02-14T18:49:39.817Z"
   },
   {
    "duration": 23,
    "start_time": "2022-02-14T18:49:51.922Z"
   },
   {
    "duration": 3,
    "start_time": "2022-02-14T18:51:42.432Z"
   },
   {
    "duration": 18,
    "start_time": "2022-02-14T18:54:39.412Z"
   },
   {
    "duration": 3,
    "start_time": "2022-02-14T18:54:52.377Z"
   },
   {
    "duration": 21,
    "start_time": "2022-02-14T18:55:33.736Z"
   },
   {
    "duration": 19,
    "start_time": "2022-02-14T18:57:31.503Z"
   },
   {
    "duration": 3668,
    "start_time": "2022-02-14T19:10:05.179Z"
   },
   {
    "duration": 3944,
    "start_time": "2022-02-14T19:10:16.600Z"
   },
   {
    "duration": 550,
    "start_time": "2022-02-14T19:11:04.228Z"
   },
   {
    "duration": 133,
    "start_time": "2022-02-14T19:11:04.780Z"
   },
   {
    "duration": 16,
    "start_time": "2022-02-14T19:11:04.915Z"
   },
   {
    "duration": 23,
    "start_time": "2022-02-14T19:11:04.933Z"
   },
   {
    "duration": 15,
    "start_time": "2022-02-14T19:11:04.958Z"
   },
   {
    "duration": 21,
    "start_time": "2022-02-14T19:11:04.975Z"
   },
   {
    "duration": 4,
    "start_time": "2022-02-14T19:11:04.997Z"
   },
   {
    "duration": 21,
    "start_time": "2022-02-14T19:11:05.003Z"
   },
   {
    "duration": 45,
    "start_time": "2022-02-14T19:11:05.026Z"
   },
   {
    "duration": 3,
    "start_time": "2022-02-14T19:11:05.073Z"
   },
   {
    "duration": 5,
    "start_time": "2022-02-14T19:11:05.078Z"
   },
   {
    "duration": 5,
    "start_time": "2022-02-14T19:11:05.084Z"
   },
   {
    "duration": 6,
    "start_time": "2022-02-14T19:11:05.090Z"
   },
   {
    "duration": 8,
    "start_time": "2022-02-14T19:11:05.098Z"
   },
   {
    "duration": 6,
    "start_time": "2022-02-14T19:11:05.108Z"
   },
   {
    "duration": 8,
    "start_time": "2022-02-14T19:11:05.116Z"
   },
   {
    "duration": 8,
    "start_time": "2022-02-14T19:11:05.126Z"
   },
   {
    "duration": 8,
    "start_time": "2022-02-14T19:11:05.135Z"
   },
   {
    "duration": 8,
    "start_time": "2022-02-14T19:11:05.145Z"
   },
   {
    "duration": 7,
    "start_time": "2022-02-14T19:11:05.155Z"
   },
   {
    "duration": 10,
    "start_time": "2022-02-14T19:11:05.164Z"
   },
   {
    "duration": 10,
    "start_time": "2022-02-14T19:11:05.175Z"
   },
   {
    "duration": 6,
    "start_time": "2022-02-14T19:11:05.188Z"
   },
   {
    "duration": 8,
    "start_time": "2022-02-14T19:11:05.195Z"
   },
   {
    "duration": 8,
    "start_time": "2022-02-14T19:11:05.204Z"
   },
   {
    "duration": 13,
    "start_time": "2022-02-14T19:11:05.213Z"
   },
   {
    "duration": 7,
    "start_time": "2022-02-14T19:11:05.228Z"
   },
   {
    "duration": 8,
    "start_time": "2022-02-14T19:11:05.237Z"
   },
   {
    "duration": 8,
    "start_time": "2022-02-14T19:11:05.246Z"
   },
   {
    "duration": 9,
    "start_time": "2022-02-14T19:11:05.256Z"
   },
   {
    "duration": 11,
    "start_time": "2022-02-14T19:11:05.267Z"
   },
   {
    "duration": 10,
    "start_time": "2022-02-14T19:11:05.280Z"
   },
   {
    "duration": 11,
    "start_time": "2022-02-14T19:11:05.291Z"
   },
   {
    "duration": 8,
    "start_time": "2022-02-14T19:11:05.303Z"
   },
   {
    "duration": 9,
    "start_time": "2022-02-14T19:11:05.313Z"
   },
   {
    "duration": 8,
    "start_time": "2022-02-14T19:11:05.323Z"
   },
   {
    "duration": 8,
    "start_time": "2022-02-14T19:11:05.333Z"
   },
   {
    "duration": 8,
    "start_time": "2022-02-14T19:11:05.342Z"
   },
   {
    "duration": 16,
    "start_time": "2022-02-14T19:11:18.579Z"
   },
   {
    "duration": 3838,
    "start_time": "2022-02-14T19:11:25.652Z"
   },
   {
    "duration": 4110,
    "start_time": "2022-02-14T19:11:34.263Z"
   },
   {
    "duration": 532,
    "start_time": "2022-02-14T19:11:42.811Z"
   },
   {
    "duration": 116,
    "start_time": "2022-02-14T19:11:43.345Z"
   },
   {
    "duration": 14,
    "start_time": "2022-02-14T19:11:43.463Z"
   },
   {
    "duration": 20,
    "start_time": "2022-02-14T19:11:43.479Z"
   },
   {
    "duration": 4,
    "start_time": "2022-02-14T19:11:43.501Z"
   },
   {
    "duration": 19,
    "start_time": "2022-02-14T19:11:43.506Z"
   },
   {
    "duration": 5,
    "start_time": "2022-02-14T19:11:43.526Z"
   },
   {
    "duration": 40,
    "start_time": "2022-02-14T19:11:43.533Z"
   },
   {
    "duration": 14,
    "start_time": "2022-02-14T19:11:43.575Z"
   },
   {
    "duration": 2,
    "start_time": "2022-02-14T19:11:43.591Z"
   },
   {
    "duration": 4,
    "start_time": "2022-02-14T19:11:43.594Z"
   },
   {
    "duration": 8,
    "start_time": "2022-02-14T19:11:43.600Z"
   },
   {
    "duration": 8,
    "start_time": "2022-02-14T19:11:43.610Z"
   },
   {
    "duration": 10,
    "start_time": "2022-02-14T19:11:43.620Z"
   },
   {
    "duration": 9,
    "start_time": "2022-02-14T19:11:43.632Z"
   },
   {
    "duration": 7,
    "start_time": "2022-02-14T19:11:43.642Z"
   },
   {
    "duration": 9,
    "start_time": "2022-02-14T19:11:43.650Z"
   },
   {
    "duration": 10,
    "start_time": "2022-02-14T19:11:43.660Z"
   },
   {
    "duration": 9,
    "start_time": "2022-02-14T19:11:43.671Z"
   },
   {
    "duration": 9,
    "start_time": "2022-02-14T19:11:43.681Z"
   },
   {
    "duration": 14,
    "start_time": "2022-02-14T19:11:43.691Z"
   },
   {
    "duration": 8,
    "start_time": "2022-02-14T19:11:43.706Z"
   },
   {
    "duration": 6,
    "start_time": "2022-02-14T19:11:43.717Z"
   },
   {
    "duration": 8,
    "start_time": "2022-02-14T19:11:43.724Z"
   },
   {
    "duration": 9,
    "start_time": "2022-02-14T19:11:43.734Z"
   },
   {
    "duration": 12,
    "start_time": "2022-02-14T19:11:43.744Z"
   },
   {
    "duration": 9,
    "start_time": "2022-02-14T19:11:43.757Z"
   },
   {
    "duration": 8,
    "start_time": "2022-02-14T19:11:43.768Z"
   },
   {
    "duration": 8,
    "start_time": "2022-02-14T19:11:43.777Z"
   },
   {
    "duration": 8,
    "start_time": "2022-02-14T19:11:43.787Z"
   },
   {
    "duration": 10,
    "start_time": "2022-02-14T19:11:43.797Z"
   },
   {
    "duration": 7,
    "start_time": "2022-02-14T19:11:43.809Z"
   },
   {
    "duration": 11,
    "start_time": "2022-02-14T19:11:43.818Z"
   },
   {
    "duration": 7,
    "start_time": "2022-02-14T19:11:43.831Z"
   },
   {
    "duration": 7,
    "start_time": "2022-02-14T19:11:43.840Z"
   },
   {
    "duration": 9,
    "start_time": "2022-02-14T19:11:43.849Z"
   },
   {
    "duration": 9,
    "start_time": "2022-02-14T19:11:43.859Z"
   },
   {
    "duration": 8,
    "start_time": "2022-02-14T19:11:43.870Z"
   },
   {
    "duration": 22,
    "start_time": "2022-02-14T19:12:18.857Z"
   },
   {
    "duration": 51,
    "start_time": "2022-02-14T19:14:55.115Z"
   },
   {
    "duration": 60,
    "start_time": "2022-02-14T19:15:58.896Z"
   },
   {
    "duration": 47,
    "start_time": "2022-02-14T19:16:00.062Z"
   },
   {
    "duration": 6,
    "start_time": "2022-02-14T19:16:27.420Z"
   },
   {
    "duration": 3,
    "start_time": "2022-02-14T19:24:58.676Z"
   },
   {
    "duration": 6,
    "start_time": "2022-02-14T19:25:43.455Z"
   },
   {
    "duration": 6,
    "start_time": "2022-02-14T19:25:57.208Z"
   },
   {
    "duration": 595,
    "start_time": "2022-02-14T19:26:22.767Z"
   },
   {
    "duration": 120,
    "start_time": "2022-02-14T19:26:23.364Z"
   },
   {
    "duration": 16,
    "start_time": "2022-02-14T19:26:23.486Z"
   },
   {
    "duration": 42,
    "start_time": "2022-02-14T19:26:23.503Z"
   },
   {
    "duration": 22,
    "start_time": "2022-02-14T19:26:23.547Z"
   },
   {
    "duration": 34,
    "start_time": "2022-02-14T19:26:23.571Z"
   },
   {
    "duration": 12,
    "start_time": "2022-02-14T19:26:23.607Z"
   },
   {
    "duration": 49,
    "start_time": "2022-02-14T19:26:23.621Z"
   },
   {
    "duration": 35,
    "start_time": "2022-02-14T19:26:23.672Z"
   },
   {
    "duration": 34,
    "start_time": "2022-02-14T19:26:23.709Z"
   },
   {
    "duration": 82,
    "start_time": "2022-02-14T19:26:23.745Z"
   },
   {
    "duration": 74,
    "start_time": "2022-02-14T19:26:23.829Z"
   },
   {
    "duration": 67,
    "start_time": "2022-02-14T19:26:23.905Z"
   },
   {
    "duration": 5,
    "start_time": "2022-02-14T19:26:23.974Z"
   },
   {
    "duration": 11,
    "start_time": "2022-02-14T19:26:23.980Z"
   },
   {
    "duration": 35,
    "start_time": "2022-02-14T19:26:23.992Z"
   },
   {
    "duration": 25,
    "start_time": "2022-02-14T19:26:24.029Z"
   },
   {
    "duration": 17,
    "start_time": "2022-02-14T19:26:24.055Z"
   },
   {
    "duration": 17,
    "start_time": "2022-02-14T19:26:24.074Z"
   },
   {
    "duration": 23,
    "start_time": "2022-02-14T19:26:24.092Z"
   },
   {
    "duration": 32,
    "start_time": "2022-02-14T19:26:24.117Z"
   },
   {
    "duration": 8,
    "start_time": "2022-02-14T19:26:24.151Z"
   },
   {
    "duration": 22,
    "start_time": "2022-02-14T19:26:24.162Z"
   },
   {
    "duration": 21,
    "start_time": "2022-02-14T19:26:24.186Z"
   },
   {
    "duration": 17,
    "start_time": "2022-02-14T19:26:24.209Z"
   },
   {
    "duration": 41,
    "start_time": "2022-02-14T19:26:24.227Z"
   },
   {
    "duration": 24,
    "start_time": "2022-02-14T19:26:24.270Z"
   },
   {
    "duration": 14,
    "start_time": "2022-02-14T19:26:24.296Z"
   },
   {
    "duration": 18,
    "start_time": "2022-02-14T19:26:24.312Z"
   },
   {
    "duration": 14,
    "start_time": "2022-02-14T19:26:24.332Z"
   },
   {
    "duration": 23,
    "start_time": "2022-02-14T19:26:24.347Z"
   },
   {
    "duration": 19,
    "start_time": "2022-02-14T19:26:24.371Z"
   },
   {
    "duration": 35,
    "start_time": "2022-02-14T19:26:24.392Z"
   },
   {
    "duration": 17,
    "start_time": "2022-02-14T19:26:24.429Z"
   },
   {
    "duration": 22,
    "start_time": "2022-02-14T19:26:24.447Z"
   },
   {
    "duration": 21,
    "start_time": "2022-02-14T19:26:24.470Z"
   },
   {
    "duration": 19,
    "start_time": "2022-02-14T19:26:24.492Z"
   },
   {
    "duration": 34,
    "start_time": "2022-02-14T19:26:24.513Z"
   },
   {
    "duration": 589,
    "start_time": "2022-02-14T19:26:50.371Z"
   },
   {
    "duration": 134,
    "start_time": "2022-02-14T19:26:50.962Z"
   },
   {
    "duration": 16,
    "start_time": "2022-02-14T19:26:51.098Z"
   },
   {
    "duration": 31,
    "start_time": "2022-02-14T19:26:51.116Z"
   },
   {
    "duration": 3,
    "start_time": "2022-02-14T19:26:51.149Z"
   },
   {
    "duration": 34,
    "start_time": "2022-02-14T19:26:51.154Z"
   },
   {
    "duration": 3,
    "start_time": "2022-02-14T19:26:51.190Z"
   },
   {
    "duration": 20,
    "start_time": "2022-02-14T19:26:51.196Z"
   },
   {
    "duration": 16,
    "start_time": "2022-02-14T19:26:51.218Z"
   },
   {
    "duration": 49,
    "start_time": "2022-02-14T19:26:51.236Z"
   },
   {
    "duration": 53,
    "start_time": "2022-02-14T19:26:51.287Z"
   },
   {
    "duration": 82,
    "start_time": "2022-02-14T19:26:51.342Z"
   },
   {
    "duration": 54,
    "start_time": "2022-02-14T19:26:51.426Z"
   },
   {
    "duration": 355,
    "start_time": "2022-02-14T19:26:51.481Z"
   },
   {
    "duration": 4476448,
    "start_time": "2022-02-14T18:12:15.390Z"
   },
   {
    "duration": 4476445,
    "start_time": "2022-02-14T18:12:15.394Z"
   },
   {
    "duration": 4476443,
    "start_time": "2022-02-14T18:12:15.397Z"
   },
   {
    "duration": 4476441,
    "start_time": "2022-02-14T18:12:15.400Z"
   },
   {
    "duration": 4476440,
    "start_time": "2022-02-14T18:12:15.402Z"
   },
   {
    "duration": 4476437,
    "start_time": "2022-02-14T18:12:15.406Z"
   },
   {
    "duration": 4476434,
    "start_time": "2022-02-14T18:12:15.410Z"
   },
   {
    "duration": 4476430,
    "start_time": "2022-02-14T18:12:15.415Z"
   },
   {
    "duration": 4476428,
    "start_time": "2022-02-14T18:12:15.418Z"
   },
   {
    "duration": 4476425,
    "start_time": "2022-02-14T18:12:15.422Z"
   },
   {
    "duration": 4476422,
    "start_time": "2022-02-14T18:12:15.425Z"
   },
   {
    "duration": 4476418,
    "start_time": "2022-02-14T18:12:15.430Z"
   },
   {
    "duration": 4476414,
    "start_time": "2022-02-14T18:12:15.435Z"
   },
   {
    "duration": 4476411,
    "start_time": "2022-02-14T18:12:15.438Z"
   },
   {
    "duration": 4476409,
    "start_time": "2022-02-14T18:12:15.441Z"
   },
   {
    "duration": 4476406,
    "start_time": "2022-02-14T18:12:15.445Z"
   },
   {
    "duration": 4476405,
    "start_time": "2022-02-14T18:12:15.447Z"
   },
   {
    "duration": 4476403,
    "start_time": "2022-02-14T18:12:15.450Z"
   },
   {
    "duration": 4476400,
    "start_time": "2022-02-14T18:12:15.454Z"
   },
   {
    "duration": 4476398,
    "start_time": "2022-02-14T18:12:15.457Z"
   },
   {
    "duration": 4476396,
    "start_time": "2022-02-14T18:12:15.459Z"
   },
   {
    "duration": 4476394,
    "start_time": "2022-02-14T18:12:15.462Z"
   },
   {
    "duration": 4476390,
    "start_time": "2022-02-14T18:12:15.467Z"
   },
   {
    "duration": 4476389,
    "start_time": "2022-02-14T18:12:15.470Z"
   },
   {
    "duration": 542,
    "start_time": "2022-02-14T19:27:22.525Z"
   },
   {
    "duration": 125,
    "start_time": "2022-02-14T19:27:23.069Z"
   },
   {
    "duration": 17,
    "start_time": "2022-02-14T19:27:23.197Z"
   },
   {
    "duration": 23,
    "start_time": "2022-02-14T19:27:23.215Z"
   },
   {
    "duration": 4,
    "start_time": "2022-02-14T19:27:23.240Z"
   },
   {
    "duration": 43,
    "start_time": "2022-02-14T19:27:23.245Z"
   },
   {
    "duration": 5,
    "start_time": "2022-02-14T19:27:23.290Z"
   },
   {
    "duration": 25,
    "start_time": "2022-02-14T19:27:23.296Z"
   },
   {
    "duration": 28,
    "start_time": "2022-02-14T19:27:23.323Z"
   },
   {
    "duration": 26,
    "start_time": "2022-02-14T19:27:23.352Z"
   },
   {
    "duration": 55,
    "start_time": "2022-02-14T19:27:23.379Z"
   },
   {
    "duration": 69,
    "start_time": "2022-02-14T19:27:23.436Z"
   },
   {
    "duration": 46,
    "start_time": "2022-02-14T19:27:23.506Z"
   },
   {
    "duration": 19,
    "start_time": "2022-02-14T19:27:23.553Z"
   },
   {
    "duration": 3,
    "start_time": "2022-02-14T19:27:23.574Z"
   },
   {
    "duration": 8,
    "start_time": "2022-02-14T19:27:23.579Z"
   },
   {
    "duration": 6,
    "start_time": "2022-02-14T19:27:23.589Z"
   },
   {
    "duration": 2,
    "start_time": "2022-02-14T19:27:23.597Z"
   },
   {
    "duration": 7,
    "start_time": "2022-02-14T19:27:23.601Z"
   },
   {
    "duration": 5,
    "start_time": "2022-02-14T19:27:23.609Z"
   },
   {
    "duration": 10,
    "start_time": "2022-02-14T19:27:23.615Z"
   },
   {
    "duration": 8,
    "start_time": "2022-02-14T19:27:23.627Z"
   },
   {
    "duration": 9,
    "start_time": "2022-02-14T19:27:23.636Z"
   },
   {
    "duration": 9,
    "start_time": "2022-02-14T19:27:23.646Z"
   },
   {
    "duration": 16,
    "start_time": "2022-02-14T19:27:23.656Z"
   },
   {
    "duration": 10,
    "start_time": "2022-02-14T19:27:23.673Z"
   },
   {
    "duration": 8,
    "start_time": "2022-02-14T19:27:23.684Z"
   },
   {
    "duration": 10,
    "start_time": "2022-02-14T19:27:23.694Z"
   },
   {
    "duration": 6,
    "start_time": "2022-02-14T19:27:23.706Z"
   },
   {
    "duration": 9,
    "start_time": "2022-02-14T19:27:23.714Z"
   },
   {
    "duration": 11,
    "start_time": "2022-02-14T19:27:23.724Z"
   },
   {
    "duration": 8,
    "start_time": "2022-02-14T19:27:23.737Z"
   },
   {
    "duration": 10,
    "start_time": "2022-02-14T19:27:23.746Z"
   },
   {
    "duration": 6,
    "start_time": "2022-02-14T19:27:23.758Z"
   },
   {
    "duration": 9,
    "start_time": "2022-02-14T19:27:23.766Z"
   },
   {
    "duration": 8,
    "start_time": "2022-02-14T19:27:23.776Z"
   },
   {
    "duration": 8,
    "start_time": "2022-02-14T19:27:23.785Z"
   },
   {
    "duration": 8,
    "start_time": "2022-02-14T19:27:23.795Z"
   },
   {
    "duration": 3,
    "start_time": "2022-02-14T19:37:08.165Z"
   },
   {
    "duration": 13,
    "start_time": "2022-02-14T19:37:11.241Z"
   },
   {
    "duration": 6,
    "start_time": "2022-02-14T19:37:13.910Z"
   },
   {
    "duration": 547,
    "start_time": "2022-02-14T19:38:28.401Z"
   },
   {
    "duration": 130,
    "start_time": "2022-02-14T19:38:28.949Z"
   },
   {
    "duration": 16,
    "start_time": "2022-02-14T19:38:29.081Z"
   },
   {
    "duration": 22,
    "start_time": "2022-02-14T19:38:29.099Z"
   },
   {
    "duration": 3,
    "start_time": "2022-02-14T19:38:29.123Z"
   },
   {
    "duration": 49,
    "start_time": "2022-02-14T19:38:29.128Z"
   },
   {
    "duration": 3,
    "start_time": "2022-02-14T19:38:29.179Z"
   },
   {
    "duration": 21,
    "start_time": "2022-02-14T19:38:29.184Z"
   },
   {
    "duration": 15,
    "start_time": "2022-02-14T19:38:29.207Z"
   },
   {
    "duration": 18,
    "start_time": "2022-02-14T19:38:29.224Z"
   },
   {
    "duration": 72,
    "start_time": "2022-02-14T19:38:29.244Z"
   },
   {
    "duration": 69,
    "start_time": "2022-02-14T19:38:29.318Z"
   },
   {
    "duration": 47,
    "start_time": "2022-02-14T19:38:29.388Z"
   },
   {
    "duration": 6,
    "start_time": "2022-02-14T19:38:29.437Z"
   },
   {
    "duration": 3,
    "start_time": "2022-02-14T19:38:29.445Z"
   },
   {
    "duration": 31,
    "start_time": "2022-02-14T19:38:29.450Z"
   },
   {
    "duration": 6,
    "start_time": "2022-02-14T19:38:29.483Z"
   },
   {
    "duration": 2,
    "start_time": "2022-02-14T19:38:29.491Z"
   },
   {
    "duration": 4,
    "start_time": "2022-02-14T19:38:29.494Z"
   },
   {
    "duration": 6,
    "start_time": "2022-02-14T19:38:29.500Z"
   },
   {
    "duration": 7,
    "start_time": "2022-02-14T19:38:29.507Z"
   },
   {
    "duration": 9,
    "start_time": "2022-02-14T19:38:29.516Z"
   },
   {
    "duration": 14,
    "start_time": "2022-02-14T19:38:29.529Z"
   },
   {
    "duration": 19,
    "start_time": "2022-02-14T19:38:29.545Z"
   },
   {
    "duration": 21,
    "start_time": "2022-02-14T19:38:29.565Z"
   },
   {
    "duration": 9,
    "start_time": "2022-02-14T19:38:29.588Z"
   },
   {
    "duration": 19,
    "start_time": "2022-02-14T19:38:29.598Z"
   },
   {
    "duration": 17,
    "start_time": "2022-02-14T19:38:29.619Z"
   },
   {
    "duration": 20,
    "start_time": "2022-02-14T19:38:29.638Z"
   },
   {
    "duration": 11,
    "start_time": "2022-02-14T19:38:29.660Z"
   },
   {
    "duration": 20,
    "start_time": "2022-02-14T19:38:29.672Z"
   },
   {
    "duration": 15,
    "start_time": "2022-02-14T19:38:29.693Z"
   },
   {
    "duration": 23,
    "start_time": "2022-02-14T19:38:29.710Z"
   },
   {
    "duration": 13,
    "start_time": "2022-02-14T19:38:29.734Z"
   },
   {
    "duration": 11,
    "start_time": "2022-02-14T19:38:29.748Z"
   },
   {
    "duration": 21,
    "start_time": "2022-02-14T19:38:29.760Z"
   },
   {
    "duration": 19,
    "start_time": "2022-02-14T19:38:29.783Z"
   },
   {
    "duration": 16,
    "start_time": "2022-02-14T19:38:29.804Z"
   },
   {
    "duration": 661,
    "start_time": "2022-02-14T19:41:08.060Z"
   },
   {
    "duration": 116,
    "start_time": "2022-02-14T19:41:08.723Z"
   },
   {
    "duration": 15,
    "start_time": "2022-02-14T19:41:08.843Z"
   },
   {
    "duration": 22,
    "start_time": "2022-02-14T19:41:08.872Z"
   },
   {
    "duration": 3,
    "start_time": "2022-02-14T19:41:08.896Z"
   },
   {
    "duration": 18,
    "start_time": "2022-02-14T19:41:08.900Z"
   },
   {
    "duration": 3,
    "start_time": "2022-02-14T19:41:08.921Z"
   },
   {
    "duration": 19,
    "start_time": "2022-02-14T19:41:08.926Z"
   },
   {
    "duration": 14,
    "start_time": "2022-02-14T19:41:08.972Z"
   },
   {
    "duration": 18,
    "start_time": "2022-02-14T19:41:08.988Z"
   },
   {
    "duration": 65,
    "start_time": "2022-02-14T19:41:09.008Z"
   },
   {
    "duration": 52,
    "start_time": "2022-02-14T19:41:09.074Z"
   },
   {
    "duration": 56,
    "start_time": "2022-02-14T19:41:09.128Z"
   },
   {
    "duration": 7448,
    "start_time": "2022-02-14T19:41:09.185Z"
   },
   {
    "duration": 4476415,
    "start_time": "2022-02-14T18:26:40.221Z"
   },
   {
    "duration": 4476413,
    "start_time": "2022-02-14T18:26:40.224Z"
   },
   {
    "duration": 4476411,
    "start_time": "2022-02-14T18:26:40.227Z"
   },
   {
    "duration": 4476410,
    "start_time": "2022-02-14T18:26:40.229Z"
   },
   {
    "duration": 4476408,
    "start_time": "2022-02-14T18:26:40.232Z"
   },
   {
    "duration": 4476406,
    "start_time": "2022-02-14T18:26:40.235Z"
   },
   {
    "duration": 4476405,
    "start_time": "2022-02-14T18:26:40.237Z"
   },
   {
    "duration": 4476404,
    "start_time": "2022-02-14T18:26:40.239Z"
   },
   {
    "duration": 4476402,
    "start_time": "2022-02-14T18:26:40.242Z"
   },
   {
    "duration": 4476401,
    "start_time": "2022-02-14T18:26:40.244Z"
   },
   {
    "duration": 4476399,
    "start_time": "2022-02-14T18:26:40.247Z"
   },
   {
    "duration": 4476397,
    "start_time": "2022-02-14T18:26:40.249Z"
   },
   {
    "duration": 4476396,
    "start_time": "2022-02-14T18:26:40.251Z"
   },
   {
    "duration": 4476394,
    "start_time": "2022-02-14T18:26:40.254Z"
   },
   {
    "duration": 4476392,
    "start_time": "2022-02-14T18:26:40.256Z"
   },
   {
    "duration": 4476391,
    "start_time": "2022-02-14T18:26:40.259Z"
   },
   {
    "duration": 4476384,
    "start_time": "2022-02-14T18:26:40.266Z"
   },
   {
    "duration": 4476383,
    "start_time": "2022-02-14T18:26:40.268Z"
   },
   {
    "duration": 4476382,
    "start_time": "2022-02-14T18:26:40.270Z"
   },
   {
    "duration": 4476382,
    "start_time": "2022-02-14T18:26:40.271Z"
   },
   {
    "duration": 4476380,
    "start_time": "2022-02-14T18:26:40.273Z"
   },
   {
    "duration": 4476379,
    "start_time": "2022-02-14T18:26:40.275Z"
   },
   {
    "duration": 4476379,
    "start_time": "2022-02-14T18:26:40.276Z"
   },
   {
    "duration": 4476377,
    "start_time": "2022-02-14T18:26:40.278Z"
   },
   {
    "duration": 11,
    "start_time": "2022-02-14T19:41:38.410Z"
   },
   {
    "duration": 593,
    "start_time": "2022-02-14T19:41:45.679Z"
   },
   {
    "duration": 135,
    "start_time": "2022-02-14T19:41:46.274Z"
   },
   {
    "duration": 15,
    "start_time": "2022-02-14T19:41:46.411Z"
   },
   {
    "duration": 23,
    "start_time": "2022-02-14T19:41:46.427Z"
   },
   {
    "duration": 21,
    "start_time": "2022-02-14T19:41:46.452Z"
   },
   {
    "duration": 23,
    "start_time": "2022-02-14T19:41:46.475Z"
   },
   {
    "duration": 3,
    "start_time": "2022-02-14T19:41:46.500Z"
   },
   {
    "duration": 21,
    "start_time": "2022-02-14T19:41:46.505Z"
   },
   {
    "duration": 16,
    "start_time": "2022-02-14T19:41:46.528Z"
   },
   {
    "duration": 49,
    "start_time": "2022-02-14T19:41:46.546Z"
   },
   {
    "duration": 54,
    "start_time": "2022-02-14T19:41:46.597Z"
   },
   {
    "duration": 74,
    "start_time": "2022-02-14T19:41:46.653Z"
   },
   {
    "duration": 55,
    "start_time": "2022-02-14T19:41:46.729Z"
   },
   {
    "duration": 11,
    "start_time": "2022-02-14T19:41:46.786Z"
   },
   {
    "duration": 3,
    "start_time": "2022-02-14T19:41:46.798Z"
   },
   {
    "duration": 17,
    "start_time": "2022-02-14T19:41:46.803Z"
   },
   {
    "duration": 7717,
    "start_time": "2022-02-14T19:41:46.821Z"
   },
   {
    "duration": 4476439,
    "start_time": "2022-02-14T18:27:18.102Z"
   },
   {
    "duration": 4476437,
    "start_time": "2022-02-14T18:27:18.105Z"
   },
   {
    "duration": 4476435,
    "start_time": "2022-02-14T18:27:18.108Z"
   },
   {
    "duration": 4476432,
    "start_time": "2022-02-14T18:27:18.112Z"
   },
   {
    "duration": 4476430,
    "start_time": "2022-02-14T18:27:18.115Z"
   },
   {
    "duration": 4476428,
    "start_time": "2022-02-14T18:27:18.118Z"
   },
   {
    "duration": 4476427,
    "start_time": "2022-02-14T18:27:18.120Z"
   },
   {
    "duration": 4476426,
    "start_time": "2022-02-14T18:27:18.122Z"
   },
   {
    "duration": 4476425,
    "start_time": "2022-02-14T18:27:18.124Z"
   },
   {
    "duration": 4476424,
    "start_time": "2022-02-14T18:27:18.126Z"
   },
   {
    "duration": 4476424,
    "start_time": "2022-02-14T18:27:18.127Z"
   },
   {
    "duration": 4476423,
    "start_time": "2022-02-14T18:27:18.129Z"
   },
   {
    "duration": 4476422,
    "start_time": "2022-02-14T18:27:18.131Z"
   },
   {
    "duration": 4476422,
    "start_time": "2022-02-14T18:27:18.132Z"
   },
   {
    "duration": 4476422,
    "start_time": "2022-02-14T18:27:18.134Z"
   },
   {
    "duration": 4476421,
    "start_time": "2022-02-14T18:27:18.136Z"
   },
   {
    "duration": 4476420,
    "start_time": "2022-02-14T18:27:18.138Z"
   },
   {
    "duration": 4476412,
    "start_time": "2022-02-14T18:27:18.147Z"
   },
   {
    "duration": 4476410,
    "start_time": "2022-02-14T18:27:18.150Z"
   },
   {
    "duration": 4476409,
    "start_time": "2022-02-14T18:27:18.152Z"
   },
   {
    "duration": 4476409,
    "start_time": "2022-02-14T18:27:18.153Z"
   },
   {
    "duration": 574,
    "start_time": "2022-02-14T19:42:04.158Z"
   },
   {
    "duration": 133,
    "start_time": "2022-02-14T19:42:04.734Z"
   },
   {
    "duration": 18,
    "start_time": "2022-02-14T19:42:04.871Z"
   },
   {
    "duration": 26,
    "start_time": "2022-02-14T19:42:04.891Z"
   },
   {
    "duration": 3,
    "start_time": "2022-02-14T19:42:04.919Z"
   },
   {
    "duration": 49,
    "start_time": "2022-02-14T19:42:04.924Z"
   },
   {
    "duration": 4,
    "start_time": "2022-02-14T19:42:04.976Z"
   },
   {
    "duration": 22,
    "start_time": "2022-02-14T19:42:04.982Z"
   },
   {
    "duration": 16,
    "start_time": "2022-02-14T19:42:05.007Z"
   },
   {
    "duration": 21,
    "start_time": "2022-02-14T19:42:05.024Z"
   },
   {
    "duration": 54,
    "start_time": "2022-02-14T19:42:05.071Z"
   },
   {
    "duration": 69,
    "start_time": "2022-02-14T19:42:05.127Z"
   },
   {
    "duration": 44,
    "start_time": "2022-02-14T19:42:05.198Z"
   },
   {
    "duration": 12,
    "start_time": "2022-02-14T19:42:05.245Z"
   },
   {
    "duration": 3,
    "start_time": "2022-02-14T19:42:05.272Z"
   },
   {
    "duration": 15,
    "start_time": "2022-02-14T19:42:05.277Z"
   },
   {
    "duration": 12,
    "start_time": "2022-02-14T19:42:05.294Z"
   },
   {
    "duration": 3,
    "start_time": "2022-02-14T19:42:05.308Z"
   },
   {
    "duration": 4,
    "start_time": "2022-02-14T19:42:05.312Z"
   },
   {
    "duration": 4,
    "start_time": "2022-02-14T19:42:05.318Z"
   },
   {
    "duration": 5,
    "start_time": "2022-02-14T19:42:05.324Z"
   },
   {
    "duration": 40,
    "start_time": "2022-02-14T19:42:05.332Z"
   },
   {
    "duration": 5,
    "start_time": "2022-02-14T19:42:05.375Z"
   },
   {
    "duration": 4,
    "start_time": "2022-02-14T19:42:05.382Z"
   },
   {
    "duration": 8,
    "start_time": "2022-02-14T19:42:05.388Z"
   },
   {
    "duration": 10,
    "start_time": "2022-02-14T19:42:05.398Z"
   },
   {
    "duration": 8,
    "start_time": "2022-02-14T19:42:05.410Z"
   },
   {
    "duration": 8,
    "start_time": "2022-02-14T19:42:05.420Z"
   },
   {
    "duration": 7,
    "start_time": "2022-02-14T19:42:05.429Z"
   },
   {
    "duration": 9,
    "start_time": "2022-02-14T19:42:05.438Z"
   },
   {
    "duration": 10,
    "start_time": "2022-02-14T19:42:05.448Z"
   },
   {
    "duration": 6,
    "start_time": "2022-02-14T19:42:05.460Z"
   },
   {
    "duration": 13,
    "start_time": "2022-02-14T19:42:05.467Z"
   },
   {
    "duration": 7,
    "start_time": "2022-02-14T19:42:05.482Z"
   },
   {
    "duration": 6,
    "start_time": "2022-02-14T19:42:05.492Z"
   },
   {
    "duration": 7,
    "start_time": "2022-02-14T19:42:05.500Z"
   },
   {
    "duration": 8,
    "start_time": "2022-02-14T19:42:05.508Z"
   },
   {
    "duration": 8,
    "start_time": "2022-02-14T19:42:05.517Z"
   },
   {
    "duration": 565,
    "start_time": "2022-02-14T19:43:39.087Z"
   },
   {
    "duration": 160,
    "start_time": "2022-02-14T19:43:39.654Z"
   },
   {
    "duration": 16,
    "start_time": "2022-02-14T19:43:39.819Z"
   },
   {
    "duration": 36,
    "start_time": "2022-02-14T19:43:39.837Z"
   },
   {
    "duration": 3,
    "start_time": "2022-02-14T19:43:39.875Z"
   },
   {
    "duration": 20,
    "start_time": "2022-02-14T19:43:39.879Z"
   },
   {
    "duration": 3,
    "start_time": "2022-02-14T19:43:39.901Z"
   },
   {
    "duration": 21,
    "start_time": "2022-02-14T19:43:39.906Z"
   },
   {
    "duration": 15,
    "start_time": "2022-02-14T19:43:39.937Z"
   },
   {
    "duration": 35,
    "start_time": "2022-02-14T19:43:39.953Z"
   },
   {
    "duration": 50,
    "start_time": "2022-02-14T19:43:39.990Z"
   },
   {
    "duration": 65,
    "start_time": "2022-02-14T19:43:40.041Z"
   },
   {
    "duration": 45,
    "start_time": "2022-02-14T19:43:40.108Z"
   },
   {
    "duration": 32,
    "start_time": "2022-02-14T19:43:40.154Z"
   },
   {
    "duration": 3,
    "start_time": "2022-02-14T19:43:40.187Z"
   },
   {
    "duration": 8,
    "start_time": "2022-02-14T19:43:40.191Z"
   },
   {
    "duration": 22,
    "start_time": "2022-02-14T19:43:40.200Z"
   },
   {
    "duration": 2,
    "start_time": "2022-02-14T19:43:40.223Z"
   },
   {
    "duration": 3,
    "start_time": "2022-02-14T19:43:40.227Z"
   },
   {
    "duration": 5,
    "start_time": "2022-02-14T19:43:40.232Z"
   },
   {
    "duration": 33,
    "start_time": "2022-02-14T19:43:40.239Z"
   },
   {
    "duration": 2,
    "start_time": "2022-02-14T19:43:40.276Z"
   },
   {
    "duration": 5,
    "start_time": "2022-02-14T19:43:40.281Z"
   },
   {
    "duration": 7,
    "start_time": "2022-02-14T19:43:40.288Z"
   },
   {
    "duration": 12,
    "start_time": "2022-02-14T19:43:40.296Z"
   },
   {
    "duration": 8,
    "start_time": "2022-02-14T19:43:40.309Z"
   },
   {
    "duration": 9,
    "start_time": "2022-02-14T19:43:40.318Z"
   },
   {
    "duration": 8,
    "start_time": "2022-02-14T19:43:40.328Z"
   },
   {
    "duration": 8,
    "start_time": "2022-02-14T19:43:40.337Z"
   },
   {
    "duration": 9,
    "start_time": "2022-02-14T19:43:40.346Z"
   },
   {
    "duration": 11,
    "start_time": "2022-02-14T19:43:40.356Z"
   },
   {
    "duration": 8,
    "start_time": "2022-02-14T19:43:40.368Z"
   },
   {
    "duration": 12,
    "start_time": "2022-02-14T19:43:40.377Z"
   },
   {
    "duration": 8,
    "start_time": "2022-02-14T19:43:40.390Z"
   },
   {
    "duration": 8,
    "start_time": "2022-02-14T19:43:40.400Z"
   },
   {
    "duration": 7,
    "start_time": "2022-02-14T19:43:40.410Z"
   },
   {
    "duration": 8,
    "start_time": "2022-02-14T19:43:40.419Z"
   },
   {
    "duration": 8,
    "start_time": "2022-02-14T19:43:40.428Z"
   },
   {
    "duration": 693,
    "start_time": "2022-02-14T19:44:47.372Z"
   },
   {
    "duration": 119,
    "start_time": "2022-02-14T19:44:48.067Z"
   },
   {
    "duration": 17,
    "start_time": "2022-02-14T19:44:48.189Z"
   },
   {
    "duration": 24,
    "start_time": "2022-02-14T19:44:48.208Z"
   },
   {
    "duration": 3,
    "start_time": "2022-02-14T19:44:48.234Z"
   },
   {
    "duration": 51,
    "start_time": "2022-02-14T19:44:48.238Z"
   },
   {
    "duration": 4,
    "start_time": "2022-02-14T19:44:48.291Z"
   },
   {
    "duration": 31,
    "start_time": "2022-02-14T19:44:48.298Z"
   },
   {
    "duration": 16,
    "start_time": "2022-02-14T19:44:48.331Z"
   },
   {
    "duration": 51,
    "start_time": "2022-02-14T19:44:48.348Z"
   },
   {
    "duration": 76,
    "start_time": "2022-02-14T19:44:48.401Z"
   },
   {
    "duration": 78,
    "start_time": "2022-02-14T19:44:48.479Z"
   },
   {
    "duration": 66,
    "start_time": "2022-02-14T19:44:48.559Z"
   },
   {
    "duration": 28,
    "start_time": "2022-02-14T19:44:48.628Z"
   },
   {
    "duration": 3,
    "start_time": "2022-02-14T19:44:48.672Z"
   },
   {
    "duration": 8,
    "start_time": "2022-02-14T19:44:48.676Z"
   },
   {
    "duration": 24,
    "start_time": "2022-02-14T19:44:48.685Z"
   },
   {
    "duration": 3,
    "start_time": "2022-02-14T19:44:48.710Z"
   },
   {
    "duration": 6,
    "start_time": "2022-02-14T19:44:48.714Z"
   },
   {
    "duration": 3,
    "start_time": "2022-02-14T19:44:48.722Z"
   },
   {
    "duration": 5,
    "start_time": "2022-02-14T19:44:48.727Z"
   },
   {
    "duration": 10,
    "start_time": "2022-02-14T19:44:48.733Z"
   },
   {
    "duration": 26,
    "start_time": "2022-02-14T19:44:48.746Z"
   },
   {
    "duration": 7,
    "start_time": "2022-02-14T19:44:48.774Z"
   },
   {
    "duration": 9,
    "start_time": "2022-02-14T19:44:48.782Z"
   },
   {
    "duration": 9,
    "start_time": "2022-02-14T19:44:48.793Z"
   },
   {
    "duration": 8,
    "start_time": "2022-02-14T19:44:48.803Z"
   },
   {
    "duration": 8,
    "start_time": "2022-02-14T19:44:48.812Z"
   },
   {
    "duration": 8,
    "start_time": "2022-02-14T19:44:48.821Z"
   },
   {
    "duration": 8,
    "start_time": "2022-02-14T19:44:48.831Z"
   },
   {
    "duration": 13,
    "start_time": "2022-02-14T19:44:48.840Z"
   },
   {
    "duration": 7,
    "start_time": "2022-02-14T19:44:48.854Z"
   },
   {
    "duration": 10,
    "start_time": "2022-02-14T19:44:48.863Z"
   },
   {
    "duration": 8,
    "start_time": "2022-02-14T19:44:48.875Z"
   },
   {
    "duration": 8,
    "start_time": "2022-02-14T19:44:48.885Z"
   },
   {
    "duration": 8,
    "start_time": "2022-02-14T19:44:48.895Z"
   },
   {
    "duration": 9,
    "start_time": "2022-02-14T19:44:48.905Z"
   },
   {
    "duration": 8,
    "start_time": "2022-02-14T19:44:48.915Z"
   },
   {
    "duration": 619,
    "start_time": "2022-02-14T19:46:16.823Z"
   },
   {
    "duration": 150,
    "start_time": "2022-02-14T19:46:17.444Z"
   },
   {
    "duration": 19,
    "start_time": "2022-02-14T19:46:17.597Z"
   },
   {
    "duration": 30,
    "start_time": "2022-02-14T19:46:17.618Z"
   },
   {
    "duration": 4,
    "start_time": "2022-02-14T19:46:17.650Z"
   },
   {
    "duration": 24,
    "start_time": "2022-02-14T19:46:17.672Z"
   },
   {
    "duration": 5,
    "start_time": "2022-02-14T19:46:17.697Z"
   },
   {
    "duration": 28,
    "start_time": "2022-02-14T19:46:17.705Z"
   },
   {
    "duration": 41,
    "start_time": "2022-02-14T19:46:17.736Z"
   },
   {
    "duration": 28,
    "start_time": "2022-02-14T19:46:17.778Z"
   },
   {
    "duration": 50,
    "start_time": "2022-02-14T19:46:17.808Z"
   },
   {
    "duration": 63,
    "start_time": "2022-02-14T19:46:17.872Z"
   },
   {
    "duration": 56,
    "start_time": "2022-02-14T19:46:17.937Z"
   },
   {
    "duration": 23,
    "start_time": "2022-02-14T19:46:17.994Z"
   },
   {
    "duration": 3,
    "start_time": "2022-02-14T19:46:18.018Z"
   },
   {
    "duration": 21,
    "start_time": "2022-02-14T19:46:18.022Z"
   },
   {
    "duration": 28,
    "start_time": "2022-02-14T19:46:18.045Z"
   },
   {
    "duration": 3,
    "start_time": "2022-02-14T19:46:18.074Z"
   },
   {
    "duration": 6,
    "start_time": "2022-02-14T19:46:18.079Z"
   },
   {
    "duration": 4,
    "start_time": "2022-02-14T19:46:18.086Z"
   },
   {
    "duration": 8,
    "start_time": "2022-02-14T19:46:18.092Z"
   },
   {
    "duration": 5,
    "start_time": "2022-02-14T19:46:18.101Z"
   },
   {
    "duration": 6,
    "start_time": "2022-02-14T19:46:18.109Z"
   },
   {
    "duration": 15,
    "start_time": "2022-02-14T19:46:18.117Z"
   },
   {
    "duration": 8,
    "start_time": "2022-02-14T19:46:18.134Z"
   },
   {
    "duration": 9,
    "start_time": "2022-02-14T19:46:18.143Z"
   },
   {
    "duration": 10,
    "start_time": "2022-02-14T19:46:18.154Z"
   },
   {
    "duration": 9,
    "start_time": "2022-02-14T19:46:18.166Z"
   },
   {
    "duration": 8,
    "start_time": "2022-02-14T19:46:18.177Z"
   },
   {
    "duration": 7,
    "start_time": "2022-02-14T19:46:18.187Z"
   },
   {
    "duration": 13,
    "start_time": "2022-02-14T19:46:18.196Z"
   },
   {
    "duration": 7,
    "start_time": "2022-02-14T19:46:18.211Z"
   },
   {
    "duration": 11,
    "start_time": "2022-02-14T19:46:18.220Z"
   },
   {
    "duration": 7,
    "start_time": "2022-02-14T19:46:18.233Z"
   },
   {
    "duration": 7,
    "start_time": "2022-02-14T19:46:18.241Z"
   },
   {
    "duration": 8,
    "start_time": "2022-02-14T19:46:18.250Z"
   },
   {
    "duration": 8,
    "start_time": "2022-02-14T19:46:18.259Z"
   },
   {
    "duration": 8,
    "start_time": "2022-02-14T19:46:18.269Z"
   },
   {
    "duration": 630,
    "start_time": "2022-02-14T19:47:46.787Z"
   },
   {
    "duration": 157,
    "start_time": "2022-02-14T19:47:47.419Z"
   },
   {
    "duration": 18,
    "start_time": "2022-02-14T19:47:47.581Z"
   },
   {
    "duration": 24,
    "start_time": "2022-02-14T19:47:47.601Z"
   },
   {
    "duration": 3,
    "start_time": "2022-02-14T19:47:47.627Z"
   },
   {
    "duration": 46,
    "start_time": "2022-02-14T19:47:47.632Z"
   },
   {
    "duration": 3,
    "start_time": "2022-02-14T19:47:47.681Z"
   },
   {
    "duration": 35,
    "start_time": "2022-02-14T19:47:47.686Z"
   },
   {
    "duration": 14,
    "start_time": "2022-02-14T19:47:47.723Z"
   },
   {
    "duration": 46,
    "start_time": "2022-02-14T19:47:47.739Z"
   },
   {
    "duration": 51,
    "start_time": "2022-02-14T19:47:47.787Z"
   },
   {
    "duration": 81,
    "start_time": "2022-02-14T19:47:47.840Z"
   },
   {
    "duration": 63,
    "start_time": "2022-02-14T19:47:47.922Z"
   },
   {
    "duration": 23,
    "start_time": "2022-02-14T19:47:47.986Z"
   },
   {
    "duration": 4,
    "start_time": "2022-02-14T19:47:48.011Z"
   },
   {
    "duration": 10,
    "start_time": "2022-02-14T19:47:48.017Z"
   },
   {
    "duration": 44,
    "start_time": "2022-02-14T19:47:48.029Z"
   },
   {
    "duration": 3,
    "start_time": "2022-02-14T19:47:48.075Z"
   },
   {
    "duration": 7,
    "start_time": "2022-02-14T19:47:48.079Z"
   },
   {
    "duration": 7,
    "start_time": "2022-02-14T19:47:48.087Z"
   },
   {
    "duration": 9,
    "start_time": "2022-02-14T19:47:48.095Z"
   },
   {
    "duration": 6,
    "start_time": "2022-02-14T19:47:48.107Z"
   },
   {
    "duration": 8,
    "start_time": "2022-02-14T19:47:48.115Z"
   },
   {
    "duration": 12,
    "start_time": "2022-02-14T19:47:48.124Z"
   },
   {
    "duration": 14,
    "start_time": "2022-02-14T19:47:48.138Z"
   },
   {
    "duration": 13,
    "start_time": "2022-02-14T19:47:48.154Z"
   },
   {
    "duration": 8,
    "start_time": "2022-02-14T19:47:48.168Z"
   },
   {
    "duration": 9,
    "start_time": "2022-02-14T19:47:48.178Z"
   },
   {
    "duration": 7,
    "start_time": "2022-02-14T19:47:48.189Z"
   },
   {
    "duration": 5,
    "start_time": "2022-02-14T19:47:48.198Z"
   },
   {
    "duration": 11,
    "start_time": "2022-02-14T19:47:48.205Z"
   },
   {
    "duration": 7,
    "start_time": "2022-02-14T19:47:48.218Z"
   },
   {
    "duration": 11,
    "start_time": "2022-02-14T19:47:48.227Z"
   },
   {
    "duration": 8,
    "start_time": "2022-02-14T19:47:48.240Z"
   },
   {
    "duration": 8,
    "start_time": "2022-02-14T19:47:48.249Z"
   },
   {
    "duration": 8,
    "start_time": "2022-02-14T19:47:48.259Z"
   },
   {
    "duration": 11,
    "start_time": "2022-02-14T19:47:48.269Z"
   },
   {
    "duration": 7,
    "start_time": "2022-02-14T19:47:48.281Z"
   },
   {
    "duration": 612,
    "start_time": "2022-02-14T19:48:52.682Z"
   },
   {
    "duration": 118,
    "start_time": "2022-02-14T19:48:53.295Z"
   },
   {
    "duration": 14,
    "start_time": "2022-02-14T19:48:53.417Z"
   },
   {
    "duration": 23,
    "start_time": "2022-02-14T19:48:53.433Z"
   },
   {
    "duration": 15,
    "start_time": "2022-02-14T19:48:53.457Z"
   },
   {
    "duration": 21,
    "start_time": "2022-02-14T19:48:53.474Z"
   },
   {
    "duration": 3,
    "start_time": "2022-02-14T19:48:53.497Z"
   },
   {
    "duration": 23,
    "start_time": "2022-02-14T19:48:53.502Z"
   },
   {
    "duration": 16,
    "start_time": "2022-02-14T19:48:53.526Z"
   },
   {
    "duration": 41,
    "start_time": "2022-02-14T19:48:53.543Z"
   },
   {
    "duration": 51,
    "start_time": "2022-02-14T19:48:53.586Z"
   },
   {
    "duration": 79,
    "start_time": "2022-02-14T19:48:53.639Z"
   },
   {
    "duration": 57,
    "start_time": "2022-02-14T19:48:53.720Z"
   },
   {
    "duration": 23,
    "start_time": "2022-02-14T19:48:53.779Z"
   },
   {
    "duration": 3,
    "start_time": "2022-02-14T19:48:53.803Z"
   },
   {
    "duration": 8,
    "start_time": "2022-02-14T19:48:53.807Z"
   },
   {
    "duration": 22,
    "start_time": "2022-02-14T19:48:53.816Z"
   },
   {
    "duration": 32,
    "start_time": "2022-02-14T19:48:53.839Z"
   },
   {
    "duration": 2,
    "start_time": "2022-02-14T19:48:53.873Z"
   },
   {
    "duration": 9,
    "start_time": "2022-02-14T19:48:53.876Z"
   },
   {
    "duration": 6,
    "start_time": "2022-02-14T19:48:53.887Z"
   },
   {
    "duration": 6,
    "start_time": "2022-02-14T19:48:53.896Z"
   },
   {
    "duration": 8,
    "start_time": "2022-02-14T19:48:53.904Z"
   },
   {
    "duration": 8,
    "start_time": "2022-02-14T19:48:53.913Z"
   },
   {
    "duration": 13,
    "start_time": "2022-02-14T19:48:53.923Z"
   },
   {
    "duration": 8,
    "start_time": "2022-02-14T19:48:53.937Z"
   },
   {
    "duration": 8,
    "start_time": "2022-02-14T19:48:53.947Z"
   },
   {
    "duration": 7,
    "start_time": "2022-02-14T19:48:53.957Z"
   },
   {
    "duration": 8,
    "start_time": "2022-02-14T19:48:53.966Z"
   },
   {
    "duration": 8,
    "start_time": "2022-02-14T19:48:53.975Z"
   },
   {
    "duration": 11,
    "start_time": "2022-02-14T19:48:53.985Z"
   },
   {
    "duration": 8,
    "start_time": "2022-02-14T19:48:53.998Z"
   },
   {
    "duration": 13,
    "start_time": "2022-02-14T19:48:54.008Z"
   },
   {
    "duration": 9,
    "start_time": "2022-02-14T19:48:54.022Z"
   },
   {
    "duration": 8,
    "start_time": "2022-02-14T19:48:54.033Z"
   },
   {
    "duration": 9,
    "start_time": "2022-02-14T19:48:54.042Z"
   },
   {
    "duration": 7,
    "start_time": "2022-02-14T19:48:54.052Z"
   },
   {
    "duration": 8,
    "start_time": "2022-02-14T19:48:54.061Z"
   },
   {
    "duration": 546,
    "start_time": "2022-02-14T19:50:08.693Z"
   },
   {
    "duration": 122,
    "start_time": "2022-02-14T19:50:09.241Z"
   },
   {
    "duration": 15,
    "start_time": "2022-02-14T19:50:09.365Z"
   },
   {
    "duration": 22,
    "start_time": "2022-02-14T19:50:09.382Z"
   },
   {
    "duration": 3,
    "start_time": "2022-02-14T19:50:09.406Z"
   },
   {
    "duration": 21,
    "start_time": "2022-02-14T19:50:09.411Z"
   },
   {
    "duration": 37,
    "start_time": "2022-02-14T19:50:09.434Z"
   },
   {
    "duration": 20,
    "start_time": "2022-02-14T19:50:09.473Z"
   },
   {
    "duration": 15,
    "start_time": "2022-02-14T19:50:09.495Z"
   },
   {
    "duration": 19,
    "start_time": "2022-02-14T19:50:09.512Z"
   },
   {
    "duration": 87,
    "start_time": "2022-02-14T19:50:09.533Z"
   },
   {
    "duration": 62,
    "start_time": "2022-02-14T19:50:09.622Z"
   },
   {
    "duration": 45,
    "start_time": "2022-02-14T19:50:09.686Z"
   },
   {
    "duration": 5,
    "start_time": "2022-02-14T19:50:09.733Z"
   },
   {
    "duration": 3,
    "start_time": "2022-02-14T19:50:09.740Z"
   },
   {
    "duration": 27,
    "start_time": "2022-02-14T19:50:09.745Z"
   },
   {
    "duration": 7,
    "start_time": "2022-02-14T19:50:09.774Z"
   },
   {
    "duration": 3,
    "start_time": "2022-02-14T19:50:09.783Z"
   },
   {
    "duration": 3,
    "start_time": "2022-02-14T19:50:09.788Z"
   },
   {
    "duration": 4,
    "start_time": "2022-02-14T19:50:09.792Z"
   },
   {
    "duration": 10,
    "start_time": "2022-02-14T19:50:09.798Z"
   },
   {
    "duration": 8,
    "start_time": "2022-02-14T19:50:09.811Z"
   },
   {
    "duration": 8,
    "start_time": "2022-02-14T19:50:09.821Z"
   },
   {
    "duration": 11,
    "start_time": "2022-02-14T19:50:09.830Z"
   },
   {
    "duration": 10,
    "start_time": "2022-02-14T19:50:09.842Z"
   },
   {
    "duration": 14,
    "start_time": "2022-02-14T19:50:09.854Z"
   },
   {
    "duration": 6,
    "start_time": "2022-02-14T19:50:09.872Z"
   },
   {
    "duration": 11,
    "start_time": "2022-02-14T19:50:09.880Z"
   },
   {
    "duration": 7,
    "start_time": "2022-02-14T19:50:09.893Z"
   },
   {
    "duration": 6,
    "start_time": "2022-02-14T19:50:09.903Z"
   },
   {
    "duration": 12,
    "start_time": "2022-02-14T19:50:09.911Z"
   },
   {
    "duration": 7,
    "start_time": "2022-02-14T19:50:09.925Z"
   },
   {
    "duration": 12,
    "start_time": "2022-02-14T19:50:09.934Z"
   },
   {
    "duration": 8,
    "start_time": "2022-02-14T19:50:09.948Z"
   },
   {
    "duration": 8,
    "start_time": "2022-02-14T19:50:09.958Z"
   },
   {
    "duration": 7,
    "start_time": "2022-02-14T19:50:09.968Z"
   },
   {
    "duration": 7,
    "start_time": "2022-02-14T19:50:09.977Z"
   },
   {
    "duration": 10,
    "start_time": "2022-02-14T19:50:09.986Z"
   },
   {
    "duration": 9,
    "start_time": "2022-02-14T19:55:11.390Z"
   },
   {
    "duration": 11,
    "start_time": "2022-02-14T19:55:21.452Z"
   },
   {
    "duration": 15,
    "start_time": "2022-02-14T19:55:44.229Z"
   },
   {
    "duration": 552,
    "start_time": "2022-02-14T19:56:47.695Z"
   },
   {
    "duration": 256,
    "start_time": "2022-02-14T19:57:06.641Z"
   },
   {
    "duration": 11,
    "start_time": "2022-02-14T19:57:12.288Z"
   },
   {
    "duration": 311,
    "start_time": "2022-02-14T20:04:33.588Z"
   },
   {
    "duration": 11,
    "start_time": "2022-02-14T20:04:44.329Z"
   },
   {
    "duration": 5,
    "start_time": "2022-02-14T20:04:54.145Z"
   },
   {
    "duration": 539,
    "start_time": "2022-02-14T20:05:01.221Z"
   },
   {
    "duration": 131,
    "start_time": "2022-02-14T20:05:01.762Z"
   },
   {
    "duration": 17,
    "start_time": "2022-02-14T20:05:01.895Z"
   },
   {
    "duration": 25,
    "start_time": "2022-02-14T20:05:01.914Z"
   },
   {
    "duration": 5,
    "start_time": "2022-02-14T20:05:01.940Z"
   },
   {
    "duration": 40,
    "start_time": "2022-02-14T20:05:01.947Z"
   },
   {
    "duration": 6,
    "start_time": "2022-02-14T20:05:01.988Z"
   },
   {
    "duration": 26,
    "start_time": "2022-02-14T20:05:01.997Z"
   },
   {
    "duration": 17,
    "start_time": "2022-02-14T20:05:02.026Z"
   },
   {
    "duration": 34,
    "start_time": "2022-02-14T20:05:02.045Z"
   },
   {
    "duration": 53,
    "start_time": "2022-02-14T20:05:02.081Z"
   },
   {
    "duration": 77,
    "start_time": "2022-02-14T20:05:02.135Z"
   },
   {
    "duration": 62,
    "start_time": "2022-02-14T20:05:02.214Z"
   },
   {
    "duration": 8,
    "start_time": "2022-02-14T20:05:02.278Z"
   },
   {
    "duration": 3,
    "start_time": "2022-02-14T20:05:02.287Z"
   },
   {
    "duration": 9,
    "start_time": "2022-02-14T20:05:02.292Z"
   },
   {
    "duration": 6,
    "start_time": "2022-02-14T20:05:02.303Z"
   },
   {
    "duration": 350,
    "start_time": "2022-02-14T20:05:02.310Z"
   },
   {
    "duration": 4476476,
    "start_time": "2022-02-14T18:50:26.187Z"
   },
   {
    "duration": 4476475,
    "start_time": "2022-02-14T18:50:26.189Z"
   },
   {
    "duration": 4476474,
    "start_time": "2022-02-14T18:50:26.191Z"
   },
   {
    "duration": 4476472,
    "start_time": "2022-02-14T18:50:26.194Z"
   },
   {
    "duration": 4476470,
    "start_time": "2022-02-14T18:50:26.196Z"
   },
   {
    "duration": 4476469,
    "start_time": "2022-02-14T18:50:26.198Z"
   },
   {
    "duration": 4476460,
    "start_time": "2022-02-14T18:50:26.208Z"
   },
   {
    "duration": 4476458,
    "start_time": "2022-02-14T18:50:26.211Z"
   },
   {
    "duration": 4476455,
    "start_time": "2022-02-14T18:50:26.215Z"
   },
   {
    "duration": 4476454,
    "start_time": "2022-02-14T18:50:26.217Z"
   },
   {
    "duration": 4476453,
    "start_time": "2022-02-14T18:50:26.219Z"
   },
   {
    "duration": 4476450,
    "start_time": "2022-02-14T18:50:26.222Z"
   },
   {
    "duration": 4476448,
    "start_time": "2022-02-14T18:50:26.225Z"
   },
   {
    "duration": 4476446,
    "start_time": "2022-02-14T18:50:26.228Z"
   },
   {
    "duration": 4476446,
    "start_time": "2022-02-14T18:50:26.230Z"
   },
   {
    "duration": 4476445,
    "start_time": "2022-02-14T18:50:26.232Z"
   },
   {
    "duration": 4476444,
    "start_time": "2022-02-14T18:50:26.234Z"
   },
   {
    "duration": 4476443,
    "start_time": "2022-02-14T18:50:26.236Z"
   },
   {
    "duration": 4476437,
    "start_time": "2022-02-14T18:50:26.243Z"
   },
   {
    "duration": 4476435,
    "start_time": "2022-02-14T18:50:26.246Z"
   },
   {
    "duration": 588,
    "start_time": "2022-02-14T20:05:17.538Z"
   },
   {
    "duration": 130,
    "start_time": "2022-02-14T20:05:18.128Z"
   },
   {
    "duration": 18,
    "start_time": "2022-02-14T20:05:18.260Z"
   },
   {
    "duration": 22,
    "start_time": "2022-02-14T20:05:18.280Z"
   },
   {
    "duration": 4,
    "start_time": "2022-02-14T20:05:18.304Z"
   },
   {
    "duration": 20,
    "start_time": "2022-02-14T20:05:18.309Z"
   },
   {
    "duration": 3,
    "start_time": "2022-02-14T20:05:18.331Z"
   },
   {
    "duration": 54,
    "start_time": "2022-02-14T20:05:18.337Z"
   },
   {
    "duration": 15,
    "start_time": "2022-02-14T20:05:18.393Z"
   },
   {
    "duration": 19,
    "start_time": "2022-02-14T20:05:18.409Z"
   },
   {
    "duration": 73,
    "start_time": "2022-02-14T20:05:18.430Z"
   },
   {
    "duration": 76,
    "start_time": "2022-02-14T20:05:18.505Z"
   },
   {
    "duration": 48,
    "start_time": "2022-02-14T20:05:18.582Z"
   },
   {
    "duration": 6,
    "start_time": "2022-02-14T20:05:18.632Z"
   },
   {
    "duration": 3,
    "start_time": "2022-02-14T20:05:18.640Z"
   },
   {
    "duration": 30,
    "start_time": "2022-02-14T20:05:18.644Z"
   },
   {
    "duration": 6,
    "start_time": "2022-02-14T20:05:18.676Z"
   },
   {
    "duration": 9,
    "start_time": "2022-02-14T20:05:18.683Z"
   },
   {
    "duration": 103,
    "start_time": "2022-02-14T20:05:18.694Z"
   },
   {
    "duration": 4476450,
    "start_time": "2022-02-14T18:50:42.349Z"
   },
   {
    "duration": 4476449,
    "start_time": "2022-02-14T18:50:42.351Z"
   },
   {
    "duration": 4476448,
    "start_time": "2022-02-14T18:50:42.353Z"
   },
   {
    "duration": 4476447,
    "start_time": "2022-02-14T18:50:42.355Z"
   },
   {
    "duration": 4476446,
    "start_time": "2022-02-14T18:50:42.357Z"
   },
   {
    "duration": 4476445,
    "start_time": "2022-02-14T18:50:42.359Z"
   },
   {
    "duration": 4476444,
    "start_time": "2022-02-14T18:50:42.361Z"
   },
   {
    "duration": 4476443,
    "start_time": "2022-02-14T18:50:42.363Z"
   },
   {
    "duration": 4476443,
    "start_time": "2022-02-14T18:50:42.364Z"
   },
   {
    "duration": 4476442,
    "start_time": "2022-02-14T18:50:42.366Z"
   },
   {
    "duration": 4476441,
    "start_time": "2022-02-14T18:50:42.368Z"
   },
   {
    "duration": 4476436,
    "start_time": "2022-02-14T18:50:42.374Z"
   },
   {
    "duration": 4476435,
    "start_time": "2022-02-14T18:50:42.376Z"
   },
   {
    "duration": 4476436,
    "start_time": "2022-02-14T18:50:42.377Z"
   },
   {
    "duration": 4476434,
    "start_time": "2022-02-14T18:50:42.379Z"
   },
   {
    "duration": 4476433,
    "start_time": "2022-02-14T18:50:42.381Z"
   },
   {
    "duration": 4476432,
    "start_time": "2022-02-14T18:50:42.383Z"
   },
   {
    "duration": 4476431,
    "start_time": "2022-02-14T18:50:42.385Z"
   },
   {
    "duration": 4476431,
    "start_time": "2022-02-14T18:50:42.386Z"
   },
   {
    "duration": 10,
    "start_time": "2022-02-14T20:05:45.169Z"
   },
   {
    "duration": 102,
    "start_time": "2022-02-14T20:07:05.891Z"
   },
   {
    "duration": 99,
    "start_time": "2022-02-14T20:07:48.957Z"
   },
   {
    "duration": 103,
    "start_time": "2022-02-14T20:09:22.687Z"
   },
   {
    "duration": 374,
    "start_time": "2022-02-14T20:11:05.559Z"
   },
   {
    "duration": 10,
    "start_time": "2022-02-14T20:11:17.605Z"
   },
   {
    "duration": 322,
    "start_time": "2022-02-14T20:11:18.953Z"
   },
   {
    "duration": 556,
    "start_time": "2022-02-14T20:11:26.336Z"
   },
   {
    "duration": 124,
    "start_time": "2022-02-14T20:11:26.894Z"
   },
   {
    "duration": 15,
    "start_time": "2022-02-14T20:11:27.020Z"
   },
   {
    "duration": 29,
    "start_time": "2022-02-14T20:11:27.037Z"
   },
   {
    "duration": 3,
    "start_time": "2022-02-14T20:11:27.071Z"
   },
   {
    "duration": 22,
    "start_time": "2022-02-14T20:11:27.076Z"
   },
   {
    "duration": 4,
    "start_time": "2022-02-14T20:11:27.100Z"
   },
   {
    "duration": 21,
    "start_time": "2022-02-14T20:11:27.107Z"
   },
   {
    "duration": 15,
    "start_time": "2022-02-14T20:11:27.130Z"
   },
   {
    "duration": 44,
    "start_time": "2022-02-14T20:11:27.146Z"
   },
   {
    "duration": 69,
    "start_time": "2022-02-14T20:11:27.192Z"
   },
   {
    "duration": 60,
    "start_time": "2022-02-14T20:11:27.263Z"
   },
   {
    "duration": 53,
    "start_time": "2022-02-14T20:11:27.325Z"
   },
   {
    "duration": 5,
    "start_time": "2022-02-14T20:11:27.380Z"
   },
   {
    "duration": 3,
    "start_time": "2022-02-14T20:11:27.387Z"
   },
   {
    "duration": 8,
    "start_time": "2022-02-14T20:11:27.391Z"
   },
   {
    "duration": 7,
    "start_time": "2022-02-14T20:11:27.400Z"
   },
   {
    "duration": 9,
    "start_time": "2022-02-14T20:11:27.409Z"
   },
   {
    "duration": 358,
    "start_time": "2022-02-14T20:11:27.419Z"
   },
   {
    "duration": 4476470,
    "start_time": "2022-02-14T18:56:51.309Z"
   },
   {
    "duration": 4476466,
    "start_time": "2022-02-14T18:56:51.314Z"
   },
   {
    "duration": 4476465,
    "start_time": "2022-02-14T18:56:51.316Z"
   },
   {
    "duration": 4476463,
    "start_time": "2022-02-14T18:56:51.319Z"
   },
   {
    "duration": 4476462,
    "start_time": "2022-02-14T18:56:51.321Z"
   },
   {
    "duration": 4476459,
    "start_time": "2022-02-14T18:56:51.324Z"
   },
   {
    "duration": 4476459,
    "start_time": "2022-02-14T18:56:51.325Z"
   },
   {
    "duration": 4476458,
    "start_time": "2022-02-14T18:56:51.327Z"
   },
   {
    "duration": 4476457,
    "start_time": "2022-02-14T18:56:51.329Z"
   },
   {
    "duration": 4476449,
    "start_time": "2022-02-14T18:56:51.338Z"
   },
   {
    "duration": 4476448,
    "start_time": "2022-02-14T18:56:51.340Z"
   },
   {
    "duration": 4476447,
    "start_time": "2022-02-14T18:56:51.343Z"
   },
   {
    "duration": 4476447,
    "start_time": "2022-02-14T18:56:51.344Z"
   },
   {
    "duration": 4476445,
    "start_time": "2022-02-14T18:56:51.347Z"
   },
   {
    "duration": 4476444,
    "start_time": "2022-02-14T18:56:51.349Z"
   },
   {
    "duration": 4476442,
    "start_time": "2022-02-14T18:56:51.352Z"
   },
   {
    "duration": 4476441,
    "start_time": "2022-02-14T18:56:51.354Z"
   },
   {
    "duration": 4476441,
    "start_time": "2022-02-14T18:56:51.356Z"
   },
   {
    "duration": 4476441,
    "start_time": "2022-02-14T18:56:51.357Z"
   },
   {
    "duration": 604,
    "start_time": "2022-02-14T20:11:51.995Z"
   },
   {
    "duration": 118,
    "start_time": "2022-02-14T20:11:52.600Z"
   },
   {
    "duration": 16,
    "start_time": "2022-02-14T20:11:52.720Z"
   },
   {
    "duration": 28,
    "start_time": "2022-02-14T20:11:52.738Z"
   },
   {
    "duration": 7,
    "start_time": "2022-02-14T20:11:52.768Z"
   },
   {
    "duration": 29,
    "start_time": "2022-02-14T20:11:52.777Z"
   },
   {
    "duration": 5,
    "start_time": "2022-02-14T20:11:52.808Z"
   },
   {
    "duration": 28,
    "start_time": "2022-02-14T20:11:52.815Z"
   },
   {
    "duration": 23,
    "start_time": "2022-02-14T20:11:52.845Z"
   },
   {
    "duration": 32,
    "start_time": "2022-02-14T20:11:52.869Z"
   },
   {
    "duration": 63,
    "start_time": "2022-02-14T20:11:52.903Z"
   },
   {
    "duration": 64,
    "start_time": "2022-02-14T20:11:52.967Z"
   },
   {
    "duration": 49,
    "start_time": "2022-02-14T20:11:53.033Z"
   },
   {
    "duration": 6,
    "start_time": "2022-02-14T20:11:53.084Z"
   },
   {
    "duration": 7,
    "start_time": "2022-02-14T20:11:53.092Z"
   },
   {
    "duration": 15,
    "start_time": "2022-02-14T20:11:53.101Z"
   },
   {
    "duration": 18,
    "start_time": "2022-02-14T20:11:53.117Z"
   },
   {
    "duration": 21,
    "start_time": "2022-02-14T20:11:53.136Z"
   },
   {
    "duration": 367,
    "start_time": "2022-02-14T20:11:53.158Z"
   },
   {
    "duration": 4476470,
    "start_time": "2022-02-14T18:57:17.058Z"
   },
   {
    "duration": 4476467,
    "start_time": "2022-02-14T18:57:17.062Z"
   },
   {
    "duration": 4476466,
    "start_time": "2022-02-14T18:57:17.064Z"
   },
   {
    "duration": 4476465,
    "start_time": "2022-02-14T18:57:17.066Z"
   },
   {
    "duration": 4476463,
    "start_time": "2022-02-14T18:57:17.069Z"
   },
   {
    "duration": 4476460,
    "start_time": "2022-02-14T18:57:17.072Z"
   },
   {
    "duration": 4476460,
    "start_time": "2022-02-14T18:57:17.074Z"
   },
   {
    "duration": 4476452,
    "start_time": "2022-02-14T18:57:17.083Z"
   },
   {
    "duration": 4476451,
    "start_time": "2022-02-14T18:57:17.085Z"
   },
   {
    "duration": 4476449,
    "start_time": "2022-02-14T18:57:17.087Z"
   },
   {
    "duration": 4476448,
    "start_time": "2022-02-14T18:57:17.089Z"
   },
   {
    "duration": 4476447,
    "start_time": "2022-02-14T18:57:17.091Z"
   },
   {
    "duration": 4476446,
    "start_time": "2022-02-14T18:57:17.093Z"
   },
   {
    "duration": 4476445,
    "start_time": "2022-02-14T18:57:17.095Z"
   },
   {
    "duration": 4476444,
    "start_time": "2022-02-14T18:57:17.097Z"
   },
   {
    "duration": 4476443,
    "start_time": "2022-02-14T18:57:17.099Z"
   },
   {
    "duration": 4476442,
    "start_time": "2022-02-14T18:57:17.101Z"
   },
   {
    "duration": 4476441,
    "start_time": "2022-02-14T18:57:17.103Z"
   },
   {
    "duration": 4476439,
    "start_time": "2022-02-14T18:57:17.106Z"
   },
   {
    "duration": 647,
    "start_time": "2022-02-14T20:13:10.332Z"
   },
   {
    "duration": 164,
    "start_time": "2022-02-14T20:13:10.981Z"
   },
   {
    "duration": 25,
    "start_time": "2022-02-14T20:13:11.147Z"
   },
   {
    "duration": 32,
    "start_time": "2022-02-14T20:13:11.174Z"
   },
   {
    "duration": 3,
    "start_time": "2022-02-14T20:13:11.207Z"
   },
   {
    "duration": 23,
    "start_time": "2022-02-14T20:13:11.212Z"
   },
   {
    "duration": 3,
    "start_time": "2022-02-14T20:13:11.237Z"
   },
   {
    "duration": 54,
    "start_time": "2022-02-14T20:13:11.242Z"
   },
   {
    "duration": 17,
    "start_time": "2022-02-14T20:13:11.298Z"
   },
   {
    "duration": 18,
    "start_time": "2022-02-14T20:13:11.316Z"
   },
   {
    "duration": 71,
    "start_time": "2022-02-14T20:13:11.336Z"
   },
   {
    "duration": 72,
    "start_time": "2022-02-14T20:13:11.408Z"
   },
   {
    "duration": 47,
    "start_time": "2022-02-14T20:13:11.481Z"
   },
   {
    "duration": 7,
    "start_time": "2022-02-14T20:13:11.530Z"
   },
   {
    "duration": 3,
    "start_time": "2022-02-14T20:13:11.539Z"
   },
   {
    "duration": 30,
    "start_time": "2022-02-14T20:13:11.544Z"
   },
   {
    "duration": 7,
    "start_time": "2022-02-14T20:13:11.576Z"
   },
   {
    "duration": 11,
    "start_time": "2022-02-14T20:13:11.584Z"
   },
   {
    "duration": 107,
    "start_time": "2022-02-14T20:13:11.597Z"
   },
   {
    "duration": 4476461,
    "start_time": "2022-02-14T18:58:35.246Z"
   },
   {
    "duration": 4476460,
    "start_time": "2022-02-14T18:58:35.248Z"
   },
   {
    "duration": 4476459,
    "start_time": "2022-02-14T18:58:35.250Z"
   },
   {
    "duration": 4476458,
    "start_time": "2022-02-14T18:58:35.252Z"
   },
   {
    "duration": 4476458,
    "start_time": "2022-02-14T18:58:35.254Z"
   },
   {
    "duration": 4476458,
    "start_time": "2022-02-14T18:58:35.255Z"
   },
   {
    "duration": 4476457,
    "start_time": "2022-02-14T18:58:35.257Z"
   },
   {
    "duration": 4476456,
    "start_time": "2022-02-14T18:58:35.259Z"
   },
   {
    "duration": 4476450,
    "start_time": "2022-02-14T18:58:35.267Z"
   },
   {
    "duration": 4476449,
    "start_time": "2022-02-14T18:58:35.269Z"
   },
   {
    "duration": 4476448,
    "start_time": "2022-02-14T18:58:35.271Z"
   },
   {
    "duration": 4476448,
    "start_time": "2022-02-14T18:58:35.273Z"
   },
   {
    "duration": 4476448,
    "start_time": "2022-02-14T18:58:35.274Z"
   },
   {
    "duration": 4476447,
    "start_time": "2022-02-14T18:58:35.276Z"
   },
   {
    "duration": 4476445,
    "start_time": "2022-02-14T18:58:35.278Z"
   },
   {
    "duration": 4476444,
    "start_time": "2022-02-14T18:58:35.280Z"
   },
   {
    "duration": 4476443,
    "start_time": "2022-02-14T18:58:35.282Z"
   },
   {
    "duration": 4476441,
    "start_time": "2022-02-14T18:58:35.285Z"
   },
   {
    "duration": 4476440,
    "start_time": "2022-02-14T18:58:35.286Z"
   },
   {
    "duration": 655,
    "start_time": "2022-02-14T20:14:12.747Z"
   },
   {
    "duration": 148,
    "start_time": "2022-02-14T20:14:13.404Z"
   },
   {
    "duration": 23,
    "start_time": "2022-02-14T20:14:13.554Z"
   },
   {
    "duration": 49,
    "start_time": "2022-02-14T20:14:13.579Z"
   },
   {
    "duration": 11,
    "start_time": "2022-02-14T20:14:13.629Z"
   },
   {
    "duration": 38,
    "start_time": "2022-02-14T20:14:13.642Z"
   },
   {
    "duration": 3,
    "start_time": "2022-02-14T20:14:13.682Z"
   },
   {
    "duration": 28,
    "start_time": "2022-02-14T20:14:13.687Z"
   },
   {
    "duration": 20,
    "start_time": "2022-02-14T20:14:13.718Z"
   },
   {
    "duration": 50,
    "start_time": "2022-02-14T20:14:13.740Z"
   },
   {
    "duration": 65,
    "start_time": "2022-02-14T20:14:13.792Z"
   },
   {
    "duration": 87,
    "start_time": "2022-02-14T20:14:13.858Z"
   },
   {
    "duration": 75,
    "start_time": "2022-02-14T20:14:13.947Z"
   },
   {
    "duration": 5,
    "start_time": "2022-02-14T20:14:14.023Z"
   },
   {
    "duration": 3,
    "start_time": "2022-02-14T20:14:14.030Z"
   },
   {
    "duration": 8,
    "start_time": "2022-02-14T20:14:14.034Z"
   },
   {
    "duration": 27,
    "start_time": "2022-02-14T20:14:14.044Z"
   },
   {
    "duration": 10,
    "start_time": "2022-02-14T20:14:14.072Z"
   },
   {
    "duration": 99,
    "start_time": "2022-02-14T20:14:14.084Z"
   },
   {
    "duration": 8076462,
    "start_time": "2022-02-14T17:59:37.723Z"
   },
   {
    "duration": 8076460,
    "start_time": "2022-02-14T17:59:37.726Z"
   },
   {
    "duration": 8076460,
    "start_time": "2022-02-14T17:59:37.727Z"
   },
   {
    "duration": 8076458,
    "start_time": "2022-02-14T17:59:37.730Z"
   },
   {
    "duration": 8076458,
    "start_time": "2022-02-14T17:59:37.731Z"
   },
   {
    "duration": 8076452,
    "start_time": "2022-02-14T17:59:37.737Z"
   },
   {
    "duration": 8076451,
    "start_time": "2022-02-14T17:59:37.739Z"
   },
   {
    "duration": 8076450,
    "start_time": "2022-02-14T17:59:37.741Z"
   },
   {
    "duration": 8076449,
    "start_time": "2022-02-14T17:59:37.743Z"
   },
   {
    "duration": 8076448,
    "start_time": "2022-02-14T17:59:37.744Z"
   },
   {
    "duration": 8076447,
    "start_time": "2022-02-14T17:59:37.746Z"
   },
   {
    "duration": 8076446,
    "start_time": "2022-02-14T17:59:37.748Z"
   },
   {
    "duration": 8076441,
    "start_time": "2022-02-14T17:59:37.754Z"
   },
   {
    "duration": 8076440,
    "start_time": "2022-02-14T17:59:37.756Z"
   },
   {
    "duration": 8076437,
    "start_time": "2022-02-14T17:59:37.759Z"
   },
   {
    "duration": 8076436,
    "start_time": "2022-02-14T17:59:37.761Z"
   },
   {
    "duration": 8076436,
    "start_time": "2022-02-14T17:59:37.762Z"
   },
   {
    "duration": 8076434,
    "start_time": "2022-02-14T17:59:37.764Z"
   },
   {
    "duration": 8076429,
    "start_time": "2022-02-14T17:59:37.770Z"
   },
   {
    "duration": 593,
    "start_time": "2022-02-14T20:14:49.951Z"
   },
   {
    "duration": 120,
    "start_time": "2022-02-14T20:14:50.546Z"
   },
   {
    "duration": 15,
    "start_time": "2022-02-14T20:14:50.668Z"
   },
   {
    "duration": 24,
    "start_time": "2022-02-14T20:14:50.684Z"
   },
   {
    "duration": 4,
    "start_time": "2022-02-14T20:14:50.710Z"
   },
   {
    "duration": 19,
    "start_time": "2022-02-14T20:14:50.716Z"
   },
   {
    "duration": 4,
    "start_time": "2022-02-14T20:14:50.737Z"
   },
   {
    "duration": 49,
    "start_time": "2022-02-14T20:14:50.744Z"
   },
   {
    "duration": 17,
    "start_time": "2022-02-14T20:14:50.796Z"
   },
   {
    "duration": 21,
    "start_time": "2022-02-14T20:14:50.815Z"
   },
   {
    "duration": 78,
    "start_time": "2022-02-14T20:14:50.837Z"
   },
   {
    "duration": 68,
    "start_time": "2022-02-14T20:14:50.917Z"
   },
   {
    "duration": 63,
    "start_time": "2022-02-14T20:14:50.987Z"
   },
   {
    "duration": 6,
    "start_time": "2022-02-14T20:14:51.052Z"
   },
   {
    "duration": 13,
    "start_time": "2022-02-14T20:14:51.059Z"
   },
   {
    "duration": 9,
    "start_time": "2022-02-14T20:14:51.073Z"
   },
   {
    "duration": 6,
    "start_time": "2022-02-14T20:14:51.084Z"
   },
   {
    "duration": 9,
    "start_time": "2022-02-14T20:14:51.092Z"
   },
   {
    "duration": 16,
    "start_time": "2022-02-14T20:14:51.102Z"
   },
   {
    "duration": 3,
    "start_time": "2022-02-14T20:14:51.119Z"
   },
   {
    "duration": 7,
    "start_time": "2022-02-14T20:14:51.123Z"
   },
   {
    "duration": 9,
    "start_time": "2022-02-14T20:14:51.131Z"
   },
   {
    "duration": 33,
    "start_time": "2022-02-14T20:14:51.142Z"
   },
   {
    "duration": 6,
    "start_time": "2022-02-14T20:14:51.177Z"
   },
   {
    "duration": 14,
    "start_time": "2022-02-14T20:14:51.185Z"
   },
   {
    "duration": 14,
    "start_time": "2022-02-14T20:14:51.201Z"
   },
   {
    "duration": 7,
    "start_time": "2022-02-14T20:14:51.217Z"
   },
   {
    "duration": 7,
    "start_time": "2022-02-14T20:14:51.226Z"
   },
   {
    "duration": 6,
    "start_time": "2022-02-14T20:14:51.235Z"
   },
   {
    "duration": 8,
    "start_time": "2022-02-14T20:14:51.243Z"
   },
   {
    "duration": 16,
    "start_time": "2022-02-14T20:14:51.252Z"
   },
   {
    "duration": 8,
    "start_time": "2022-02-14T20:14:51.269Z"
   },
   {
    "duration": 12,
    "start_time": "2022-02-14T20:14:51.279Z"
   },
   {
    "duration": 8,
    "start_time": "2022-02-14T20:14:51.292Z"
   },
   {
    "duration": 7,
    "start_time": "2022-02-14T20:14:51.302Z"
   },
   {
    "duration": 8,
    "start_time": "2022-02-14T20:14:51.311Z"
   },
   {
    "duration": 9,
    "start_time": "2022-02-14T20:14:51.321Z"
   },
   {
    "duration": 9,
    "start_time": "2022-02-14T20:14:51.332Z"
   },
   {
    "duration": 20,
    "start_time": "2022-02-14T20:15:00.173Z"
   },
   {
    "duration": 575,
    "start_time": "2022-02-14T20:15:31.078Z"
   },
   {
    "duration": 126,
    "start_time": "2022-02-14T20:15:31.655Z"
   },
   {
    "duration": 15,
    "start_time": "2022-02-14T20:15:31.783Z"
   },
   {
    "duration": 31,
    "start_time": "2022-02-14T20:15:31.800Z"
   },
   {
    "duration": 2,
    "start_time": "2022-02-14T20:15:31.833Z"
   },
   {
    "duration": 44,
    "start_time": "2022-02-14T20:15:31.837Z"
   },
   {
    "duration": 4,
    "start_time": "2022-02-14T20:15:31.882Z"
   },
   {
    "duration": 23,
    "start_time": "2022-02-14T20:15:31.888Z"
   },
   {
    "duration": 15,
    "start_time": "2022-02-14T20:15:31.913Z"
   },
   {
    "duration": 19,
    "start_time": "2022-02-14T20:15:31.930Z"
   },
   {
    "duration": 60,
    "start_time": "2022-02-14T20:15:31.971Z"
   },
   {
    "duration": 78,
    "start_time": "2022-02-14T20:15:32.033Z"
   },
   {
    "duration": 46,
    "start_time": "2022-02-14T20:15:32.112Z"
   },
   {
    "duration": 6,
    "start_time": "2022-02-14T20:15:32.171Z"
   },
   {
    "duration": 20,
    "start_time": "2022-02-14T20:15:32.178Z"
   },
   {
    "duration": 19,
    "start_time": "2022-02-14T20:15:32.200Z"
   },
   {
    "duration": 12,
    "start_time": "2022-02-14T20:15:32.221Z"
   },
   {
    "duration": 19,
    "start_time": "2022-02-14T20:15:32.235Z"
   },
   {
    "duration": 41,
    "start_time": "2022-02-14T20:15:32.256Z"
   },
   {
    "duration": 2,
    "start_time": "2022-02-14T20:15:32.299Z"
   },
   {
    "duration": 6,
    "start_time": "2022-02-14T20:15:32.302Z"
   },
   {
    "duration": 5,
    "start_time": "2022-02-14T20:15:32.310Z"
   },
   {
    "duration": 7,
    "start_time": "2022-02-14T20:15:32.319Z"
   },
   {
    "duration": 10,
    "start_time": "2022-02-14T20:15:32.328Z"
   },
   {
    "duration": 7,
    "start_time": "2022-02-14T20:15:32.340Z"
   },
   {
    "duration": 13,
    "start_time": "2022-02-14T20:15:32.349Z"
   },
   {
    "duration": 8,
    "start_time": "2022-02-14T20:15:32.364Z"
   },
   {
    "duration": 9,
    "start_time": "2022-02-14T20:15:32.373Z"
   },
   {
    "duration": 7,
    "start_time": "2022-02-14T20:15:32.384Z"
   },
   {
    "duration": 11,
    "start_time": "2022-02-14T20:15:32.393Z"
   },
   {
    "duration": 12,
    "start_time": "2022-02-14T20:15:32.406Z"
   },
   {
    "duration": 8,
    "start_time": "2022-02-14T20:15:32.420Z"
   },
   {
    "duration": 20,
    "start_time": "2022-02-14T20:15:32.429Z"
   },
   {
    "duration": 7,
    "start_time": "2022-02-14T20:15:32.451Z"
   },
   {
    "duration": 11,
    "start_time": "2022-02-14T20:15:32.459Z"
   },
   {
    "duration": 10,
    "start_time": "2022-02-14T20:15:32.471Z"
   },
   {
    "duration": 9,
    "start_time": "2022-02-14T20:15:32.483Z"
   },
   {
    "duration": 8,
    "start_time": "2022-02-14T20:15:32.494Z"
   },
   {
    "duration": 11,
    "start_time": "2022-02-14T20:18:03.366Z"
   },
   {
    "duration": 544,
    "start_time": "2022-02-14T20:18:07.604Z"
   },
   {
    "duration": 128,
    "start_time": "2022-02-14T20:18:08.150Z"
   },
   {
    "duration": 15,
    "start_time": "2022-02-14T20:18:08.280Z"
   },
   {
    "duration": 22,
    "start_time": "2022-02-14T20:18:08.297Z"
   },
   {
    "duration": 3,
    "start_time": "2022-02-14T20:18:08.321Z"
   },
   {
    "duration": 19,
    "start_time": "2022-02-14T20:18:08.325Z"
   },
   {
    "duration": 27,
    "start_time": "2022-02-14T20:18:08.345Z"
   },
   {
    "duration": 19,
    "start_time": "2022-02-14T20:18:08.374Z"
   },
   {
    "duration": 15,
    "start_time": "2022-02-14T20:18:08.396Z"
   },
   {
    "duration": 20,
    "start_time": "2022-02-14T20:18:08.412Z"
   },
   {
    "duration": 80,
    "start_time": "2022-02-14T20:18:08.433Z"
   },
   {
    "duration": 65,
    "start_time": "2022-02-14T20:18:08.514Z"
   },
   {
    "duration": 44,
    "start_time": "2022-02-14T20:18:08.581Z"
   },
   {
    "duration": 6,
    "start_time": "2022-02-14T20:18:08.626Z"
   },
   {
    "duration": 3,
    "start_time": "2022-02-14T20:18:08.633Z"
   },
   {
    "duration": 35,
    "start_time": "2022-02-14T20:18:08.637Z"
   },
   {
    "duration": 8,
    "start_time": "2022-02-14T20:18:08.673Z"
   },
   {
    "duration": 10,
    "start_time": "2022-02-14T20:18:08.682Z"
   },
   {
    "duration": 36,
    "start_time": "2022-02-14T20:18:08.693Z"
   },
   {
    "duration": 2,
    "start_time": "2022-02-14T20:18:08.730Z"
   },
   {
    "duration": 7,
    "start_time": "2022-02-14T20:18:08.733Z"
   },
   {
    "duration": 11,
    "start_time": "2022-02-14T20:18:08.741Z"
   },
   {
    "duration": 2,
    "start_time": "2022-02-14T20:18:08.773Z"
   },
   {
    "duration": 5,
    "start_time": "2022-02-14T20:18:08.777Z"
   },
   {
    "duration": 9,
    "start_time": "2022-02-14T20:18:08.784Z"
   },
   {
    "duration": 11,
    "start_time": "2022-02-14T20:18:08.795Z"
   },
   {
    "duration": 7,
    "start_time": "2022-02-14T20:18:08.808Z"
   },
   {
    "duration": 9,
    "start_time": "2022-02-14T20:18:08.817Z"
   },
   {
    "duration": 7,
    "start_time": "2022-02-14T20:18:08.828Z"
   },
   {
    "duration": 7,
    "start_time": "2022-02-14T20:18:08.836Z"
   },
   {
    "duration": 12,
    "start_time": "2022-02-14T20:18:08.845Z"
   },
   {
    "duration": 8,
    "start_time": "2022-02-14T20:18:08.859Z"
   },
   {
    "duration": 14,
    "start_time": "2022-02-14T20:18:08.868Z"
   },
   {
    "duration": 9,
    "start_time": "2022-02-14T20:18:08.884Z"
   },
   {
    "duration": 7,
    "start_time": "2022-02-14T20:18:08.895Z"
   },
   {
    "duration": 7,
    "start_time": "2022-02-14T20:18:08.904Z"
   },
   {
    "duration": 7,
    "start_time": "2022-02-14T20:18:08.913Z"
   },
   {
    "duration": 7,
    "start_time": "2022-02-14T20:18:08.922Z"
   },
   {
    "duration": 13,
    "start_time": "2022-02-14T20:18:32.672Z"
   },
   {
    "duration": 583,
    "start_time": "2022-02-14T20:19:33.855Z"
   },
   {
    "duration": 118,
    "start_time": "2022-02-14T20:19:34.440Z"
   },
   {
    "duration": 15,
    "start_time": "2022-02-14T20:19:34.560Z"
   },
   {
    "duration": 22,
    "start_time": "2022-02-14T20:19:34.577Z"
   },
   {
    "duration": 3,
    "start_time": "2022-02-14T20:19:34.600Z"
   },
   {
    "duration": 18,
    "start_time": "2022-02-14T20:19:34.605Z"
   },
   {
    "duration": 3,
    "start_time": "2022-02-14T20:19:34.625Z"
   },
   {
    "duration": 44,
    "start_time": "2022-02-14T20:19:34.630Z"
   },
   {
    "duration": 14,
    "start_time": "2022-02-14T20:19:34.676Z"
   },
   {
    "duration": 21,
    "start_time": "2022-02-14T20:19:34.692Z"
   },
   {
    "duration": 70,
    "start_time": "2022-02-14T20:19:34.715Z"
   },
   {
    "duration": 63,
    "start_time": "2022-02-14T20:19:34.787Z"
   },
   {
    "duration": 59,
    "start_time": "2022-02-14T20:19:34.852Z"
   },
   {
    "duration": 6,
    "start_time": "2022-02-14T20:19:34.912Z"
   },
   {
    "duration": 3,
    "start_time": "2022-02-14T20:19:34.919Z"
   },
   {
    "duration": 9,
    "start_time": "2022-02-14T20:19:34.923Z"
   },
   {
    "duration": 7,
    "start_time": "2022-02-14T20:19:34.933Z"
   },
   {
    "duration": 56,
    "start_time": "2022-02-14T20:19:34.943Z"
   },
   {
    "duration": 37,
    "start_time": "2022-02-14T20:19:35.001Z"
   },
   {
    "duration": 3,
    "start_time": "2022-02-14T20:19:35.039Z"
   },
   {
    "duration": 7,
    "start_time": "2022-02-14T20:19:35.043Z"
   },
   {
    "duration": 4,
    "start_time": "2022-02-14T20:19:35.051Z"
   },
   {
    "duration": 4,
    "start_time": "2022-02-14T20:19:35.072Z"
   },
   {
    "duration": 6,
    "start_time": "2022-02-14T20:19:35.077Z"
   },
   {
    "duration": 8,
    "start_time": "2022-02-14T20:19:35.085Z"
   },
   {
    "duration": 12,
    "start_time": "2022-02-14T20:19:35.094Z"
   },
   {
    "duration": 7,
    "start_time": "2022-02-14T20:19:35.108Z"
   },
   {
    "duration": 8,
    "start_time": "2022-02-14T20:19:35.117Z"
   },
   {
    "duration": 8,
    "start_time": "2022-02-14T20:19:35.126Z"
   },
   {
    "duration": 8,
    "start_time": "2022-02-14T20:19:35.136Z"
   },
   {
    "duration": 10,
    "start_time": "2022-02-14T20:19:35.145Z"
   },
   {
    "duration": 7,
    "start_time": "2022-02-14T20:19:35.157Z"
   },
   {
    "duration": 12,
    "start_time": "2022-02-14T20:19:35.166Z"
   },
   {
    "duration": 12,
    "start_time": "2022-02-14T20:19:35.180Z"
   },
   {
    "duration": 7,
    "start_time": "2022-02-14T20:19:35.194Z"
   },
   {
    "duration": 9,
    "start_time": "2022-02-14T20:19:35.202Z"
   },
   {
    "duration": 9,
    "start_time": "2022-02-14T20:19:35.212Z"
   },
   {
    "duration": 9,
    "start_time": "2022-02-14T20:19:35.222Z"
   },
   {
    "duration": 731,
    "start_time": "2022-02-14T20:20:02.569Z"
   },
   {
    "duration": 122,
    "start_time": "2022-02-14T20:20:03.302Z"
   },
   {
    "duration": 15,
    "start_time": "2022-02-14T20:20:03.426Z"
   },
   {
    "duration": 34,
    "start_time": "2022-02-14T20:20:03.443Z"
   },
   {
    "duration": 3,
    "start_time": "2022-02-14T20:20:03.479Z"
   },
   {
    "duration": 19,
    "start_time": "2022-02-14T20:20:03.483Z"
   },
   {
    "duration": 3,
    "start_time": "2022-02-14T20:20:03.506Z"
   },
   {
    "duration": 20,
    "start_time": "2022-02-14T20:20:03.511Z"
   },
   {
    "duration": 40,
    "start_time": "2022-02-14T20:20:03.533Z"
   },
   {
    "duration": 20,
    "start_time": "2022-02-14T20:20:03.575Z"
   },
   {
    "duration": 52,
    "start_time": "2022-02-14T20:20:03.597Z"
   },
   {
    "duration": 82,
    "start_time": "2022-02-14T20:20:03.650Z"
   },
   {
    "duration": 56,
    "start_time": "2022-02-14T20:20:03.734Z"
   },
   {
    "duration": 6,
    "start_time": "2022-02-14T20:20:03.792Z"
   },
   {
    "duration": 3,
    "start_time": "2022-02-14T20:20:03.800Z"
   },
   {
    "duration": 10,
    "start_time": "2022-02-14T20:20:03.805Z"
   },
   {
    "duration": 7,
    "start_time": "2022-02-14T20:20:03.817Z"
   },
   {
    "duration": 9,
    "start_time": "2022-02-14T20:20:03.826Z"
   },
   {
    "duration": 68,
    "start_time": "2022-02-14T20:20:03.837Z"
   },
   {
    "duration": 3,
    "start_time": "2022-02-14T20:20:03.907Z"
   },
   {
    "duration": 5,
    "start_time": "2022-02-14T20:20:03.912Z"
   },
   {
    "duration": 13,
    "start_time": "2022-02-14T20:20:03.919Z"
   },
   {
    "duration": 4,
    "start_time": "2022-02-14T20:20:03.936Z"
   },
   {
    "duration": 9,
    "start_time": "2022-02-14T20:20:03.942Z"
   },
   {
    "duration": 19,
    "start_time": "2022-02-14T20:20:03.953Z"
   },
   {
    "duration": 8,
    "start_time": "2022-02-14T20:20:03.975Z"
   },
   {
    "duration": 9,
    "start_time": "2022-02-14T20:20:03.985Z"
   },
   {
    "duration": 9,
    "start_time": "2022-02-14T20:20:03.996Z"
   },
   {
    "duration": 6,
    "start_time": "2022-02-14T20:20:04.007Z"
   },
   {
    "duration": 8,
    "start_time": "2022-02-14T20:20:04.015Z"
   },
   {
    "duration": 12,
    "start_time": "2022-02-14T20:20:04.025Z"
   },
   {
    "duration": 6,
    "start_time": "2022-02-14T20:20:04.039Z"
   },
   {
    "duration": 14,
    "start_time": "2022-02-14T20:20:04.047Z"
   },
   {
    "duration": 12,
    "start_time": "2022-02-14T20:20:04.063Z"
   },
   {
    "duration": 7,
    "start_time": "2022-02-14T20:20:04.077Z"
   },
   {
    "duration": 7,
    "start_time": "2022-02-14T20:20:04.085Z"
   },
   {
    "duration": 8,
    "start_time": "2022-02-14T20:20:04.093Z"
   },
   {
    "duration": 9,
    "start_time": "2022-02-14T20:20:04.103Z"
   },
   {
    "duration": 9,
    "start_time": "2022-02-14T20:24:22.763Z"
   },
   {
    "duration": 15,
    "start_time": "2022-02-14T20:24:42.730Z"
   },
   {
    "duration": 10,
    "start_time": "2022-02-14T20:26:06.697Z"
   },
   {
    "duration": 745,
    "start_time": "2022-02-14T20:26:11.337Z"
   },
   {
    "duration": 188,
    "start_time": "2022-02-14T20:26:12.084Z"
   },
   {
    "duration": 23,
    "start_time": "2022-02-14T20:26:12.275Z"
   },
   {
    "duration": 44,
    "start_time": "2022-02-14T20:26:12.300Z"
   },
   {
    "duration": 10,
    "start_time": "2022-02-14T20:26:12.346Z"
   },
   {
    "duration": 33,
    "start_time": "2022-02-14T20:26:12.358Z"
   },
   {
    "duration": 4,
    "start_time": "2022-02-14T20:26:12.393Z"
   },
   {
    "duration": 38,
    "start_time": "2022-02-14T20:26:12.400Z"
   },
   {
    "duration": 33,
    "start_time": "2022-02-14T20:26:12.440Z"
   },
   {
    "duration": 33,
    "start_time": "2022-02-14T20:26:12.475Z"
   },
   {
    "duration": 90,
    "start_time": "2022-02-14T20:26:12.510Z"
   },
   {
    "duration": 101,
    "start_time": "2022-02-14T20:26:12.602Z"
   },
   {
    "duration": 73,
    "start_time": "2022-02-14T20:26:12.705Z"
   },
   {
    "duration": 7,
    "start_time": "2022-02-14T20:26:12.780Z"
   },
   {
    "duration": 4,
    "start_time": "2022-02-14T20:26:12.789Z"
   },
   {
    "duration": 21,
    "start_time": "2022-02-14T20:26:12.795Z"
   },
   {
    "duration": 9,
    "start_time": "2022-02-14T20:26:12.818Z"
   },
   {
    "duration": 20,
    "start_time": "2022-02-14T20:26:12.828Z"
   },
   {
    "duration": 18,
    "start_time": "2022-02-14T20:26:12.850Z"
   },
   {
    "duration": 22,
    "start_time": "2022-02-14T20:26:12.870Z"
   },
   {
    "duration": 17,
    "start_time": "2022-02-14T20:26:12.893Z"
   },
   {
    "duration": 19,
    "start_time": "2022-02-14T20:26:12.912Z"
   },
   {
    "duration": 10,
    "start_time": "2022-02-14T20:26:12.935Z"
   },
   {
    "duration": 12,
    "start_time": "2022-02-14T20:26:12.947Z"
   },
   {
    "duration": 16,
    "start_time": "2022-02-14T20:26:12.960Z"
   },
   {
    "duration": 10,
    "start_time": "2022-02-14T20:26:12.977Z"
   },
   {
    "duration": 10,
    "start_time": "2022-02-14T20:26:12.989Z"
   },
   {
    "duration": 13,
    "start_time": "2022-02-14T20:26:13.000Z"
   },
   {
    "duration": 11,
    "start_time": "2022-02-14T20:26:13.015Z"
   },
   {
    "duration": 10,
    "start_time": "2022-02-14T20:26:13.027Z"
   },
   {
    "duration": 21,
    "start_time": "2022-02-14T20:26:13.039Z"
   },
   {
    "duration": 15,
    "start_time": "2022-02-14T20:26:13.061Z"
   },
   {
    "duration": 28,
    "start_time": "2022-02-14T20:26:13.078Z"
   },
   {
    "duration": 18,
    "start_time": "2022-02-14T20:26:13.108Z"
   },
   {
    "duration": 12,
    "start_time": "2022-02-14T20:26:13.128Z"
   },
   {
    "duration": 10,
    "start_time": "2022-02-14T20:26:13.142Z"
   },
   {
    "duration": 12,
    "start_time": "2022-02-14T20:26:13.153Z"
   },
   {
    "duration": 14,
    "start_time": "2022-02-14T20:26:13.166Z"
   },
   {
    "duration": 1035,
    "start_time": "2022-02-14T20:35:59.130Z"
   },
   {
    "duration": 133,
    "start_time": "2022-02-14T20:36:00.167Z"
   },
   {
    "duration": 15,
    "start_time": "2022-02-14T20:36:00.303Z"
   },
   {
    "duration": 26,
    "start_time": "2022-02-14T20:36:00.320Z"
   },
   {
    "duration": 3,
    "start_time": "2022-02-14T20:36:00.347Z"
   },
   {
    "duration": 36,
    "start_time": "2022-02-14T20:36:00.352Z"
   },
   {
    "duration": 3,
    "start_time": "2022-02-14T20:36:00.390Z"
   },
   {
    "duration": 21,
    "start_time": "2022-02-14T20:36:00.395Z"
   },
   {
    "duration": 16,
    "start_time": "2022-02-14T20:36:00.418Z"
   },
   {
    "duration": 39,
    "start_time": "2022-02-14T20:36:00.435Z"
   },
   {
    "duration": 53,
    "start_time": "2022-02-14T20:36:00.476Z"
   },
   {
    "duration": 80,
    "start_time": "2022-02-14T20:36:00.530Z"
   },
   {
    "duration": 44,
    "start_time": "2022-02-14T20:36:00.612Z"
   },
   {
    "duration": 14,
    "start_time": "2022-02-14T20:36:00.658Z"
   },
   {
    "duration": 7,
    "start_time": "2022-02-14T20:36:00.674Z"
   },
   {
    "duration": 16,
    "start_time": "2022-02-14T20:36:00.683Z"
   },
   {
    "duration": 7,
    "start_time": "2022-02-14T20:36:00.701Z"
   },
   {
    "duration": 15,
    "start_time": "2022-02-14T20:36:00.710Z"
   },
   {
    "duration": 13,
    "start_time": "2022-02-14T20:36:00.727Z"
   },
   {
    "duration": 4,
    "start_time": "2022-02-14T20:36:00.742Z"
   },
   {
    "duration": 6,
    "start_time": "2022-02-14T20:36:00.748Z"
   },
   {
    "duration": 15,
    "start_time": "2022-02-14T20:36:00.756Z"
   },
   {
    "duration": 2,
    "start_time": "2022-02-14T20:36:00.775Z"
   },
   {
    "duration": 11,
    "start_time": "2022-02-14T20:36:00.779Z"
   },
   {
    "duration": 11,
    "start_time": "2022-02-14T20:36:00.792Z"
   },
   {
    "duration": 7,
    "start_time": "2022-02-14T20:36:00.805Z"
   },
   {
    "duration": 14,
    "start_time": "2022-02-14T20:36:00.814Z"
   },
   {
    "duration": 10,
    "start_time": "2022-02-14T20:36:00.830Z"
   },
   {
    "duration": 11,
    "start_time": "2022-02-14T20:36:00.842Z"
   },
   {
    "duration": 13,
    "start_time": "2022-02-14T20:36:00.855Z"
   },
   {
    "duration": 12,
    "start_time": "2022-02-14T20:36:00.870Z"
   },
   {
    "duration": 12,
    "start_time": "2022-02-14T20:36:00.884Z"
   },
   {
    "duration": 12,
    "start_time": "2022-02-14T20:36:00.898Z"
   },
   {
    "duration": 11,
    "start_time": "2022-02-14T20:36:00.911Z"
   },
   {
    "duration": 8,
    "start_time": "2022-02-14T20:36:00.924Z"
   },
   {
    "duration": 9,
    "start_time": "2022-02-14T20:36:00.933Z"
   },
   {
    "duration": 8,
    "start_time": "2022-02-14T20:36:00.943Z"
   },
   {
    "duration": 15,
    "start_time": "2022-02-14T20:36:00.953Z"
   },
   {
    "duration": 120,
    "start_time": "2022-02-14T20:36:26.367Z"
   },
   {
    "duration": 566,
    "start_time": "2022-02-14T20:36:37.792Z"
   },
   {
    "duration": 124,
    "start_time": "2022-02-14T20:36:38.360Z"
   },
   {
    "duration": 15,
    "start_time": "2022-02-14T20:36:38.486Z"
   },
   {
    "duration": 23,
    "start_time": "2022-02-14T20:36:38.503Z"
   },
   {
    "duration": 2,
    "start_time": "2022-02-14T20:36:38.528Z"
   },
   {
    "duration": 19,
    "start_time": "2022-02-14T20:36:38.532Z"
   },
   {
    "duration": 20,
    "start_time": "2022-02-14T20:36:38.553Z"
   },
   {
    "duration": 22,
    "start_time": "2022-02-14T20:36:38.576Z"
   },
   {
    "duration": 16,
    "start_time": "2022-02-14T20:36:38.600Z"
   },
   {
    "duration": 19,
    "start_time": "2022-02-14T20:36:38.617Z"
   },
   {
    "duration": 77,
    "start_time": "2022-02-14T20:36:38.638Z"
   },
   {
    "duration": 65,
    "start_time": "2022-02-14T20:36:38.717Z"
   },
   {
    "duration": 46,
    "start_time": "2022-02-14T20:36:38.784Z"
   },
   {
    "duration": 5,
    "start_time": "2022-02-14T20:36:38.831Z"
   },
   {
    "duration": 3,
    "start_time": "2022-02-14T20:36:38.838Z"
   },
   {
    "duration": 32,
    "start_time": "2022-02-14T20:36:38.842Z"
   },
   {
    "duration": 7,
    "start_time": "2022-02-14T20:36:38.876Z"
   },
   {
    "duration": 12,
    "start_time": "2022-02-14T20:36:38.886Z"
   },
   {
    "duration": 9,
    "start_time": "2022-02-14T20:36:38.899Z"
   },
   {
    "duration": 3,
    "start_time": "2022-02-14T20:36:38.910Z"
   },
   {
    "duration": 104,
    "start_time": "2022-02-14T20:36:38.914Z"
   },
   {
    "duration": 8076465,
    "start_time": "2022-02-14T18:22:02.555Z"
   },
   {
    "duration": 8076464,
    "start_time": "2022-02-14T18:22:02.557Z"
   },
   {
    "duration": 8076462,
    "start_time": "2022-02-14T18:22:02.559Z"
   },
   {
    "duration": 8076461,
    "start_time": "2022-02-14T18:22:02.561Z"
   },
   {
    "duration": 8076460,
    "start_time": "2022-02-14T18:22:02.563Z"
   },
   {
    "duration": 8076459,
    "start_time": "2022-02-14T18:22:02.565Z"
   },
   {
    "duration": 8076458,
    "start_time": "2022-02-14T18:22:02.567Z"
   },
   {
    "duration": 8076457,
    "start_time": "2022-02-14T18:22:02.568Z"
   },
   {
    "duration": 8076456,
    "start_time": "2022-02-14T18:22:02.570Z"
   },
   {
    "duration": 8076455,
    "start_time": "2022-02-14T18:22:02.572Z"
   },
   {
    "duration": 8076454,
    "start_time": "2022-02-14T18:22:02.574Z"
   },
   {
    "duration": 8076452,
    "start_time": "2022-02-14T18:22:02.576Z"
   },
   {
    "duration": 8076451,
    "start_time": "2022-02-14T18:22:02.578Z"
   },
   {
    "duration": 8076451,
    "start_time": "2022-02-14T18:22:02.579Z"
   },
   {
    "duration": 8076450,
    "start_time": "2022-02-14T18:22:02.581Z"
   },
   {
    "duration": 8076447,
    "start_time": "2022-02-14T18:22:02.584Z"
   },
   {
    "duration": 8076446,
    "start_time": "2022-02-14T18:22:02.586Z"
   },
   {
    "duration": 627,
    "start_time": "2022-02-14T20:36:54.383Z"
   },
   {
    "duration": 123,
    "start_time": "2022-02-14T20:36:55.011Z"
   },
   {
    "duration": 15,
    "start_time": "2022-02-14T20:36:55.136Z"
   },
   {
    "duration": 26,
    "start_time": "2022-02-14T20:36:55.153Z"
   },
   {
    "duration": 3,
    "start_time": "2022-02-14T20:36:55.181Z"
   },
   {
    "duration": 19,
    "start_time": "2022-02-14T20:36:55.186Z"
   },
   {
    "duration": 2,
    "start_time": "2022-02-14T20:36:55.207Z"
   },
   {
    "duration": 19,
    "start_time": "2022-02-14T20:36:55.212Z"
   },
   {
    "duration": 43,
    "start_time": "2022-02-14T20:36:55.233Z"
   },
   {
    "duration": 20,
    "start_time": "2022-02-14T20:36:55.277Z"
   },
   {
    "duration": 52,
    "start_time": "2022-02-14T20:36:55.299Z"
   },
   {
    "duration": 78,
    "start_time": "2022-02-14T20:36:55.353Z"
   },
   {
    "duration": 53,
    "start_time": "2022-02-14T20:36:55.433Z"
   },
   {
    "duration": 6,
    "start_time": "2022-02-14T20:36:55.487Z"
   },
   {
    "duration": 3,
    "start_time": "2022-02-14T20:36:55.494Z"
   },
   {
    "duration": 7,
    "start_time": "2022-02-14T20:36:55.499Z"
   },
   {
    "duration": 8,
    "start_time": "2022-02-14T20:36:55.508Z"
   },
   {
    "duration": 9,
    "start_time": "2022-02-14T20:36:55.518Z"
   },
   {
    "duration": 8,
    "start_time": "2022-02-14T20:36:55.529Z"
   },
   {
    "duration": 3,
    "start_time": "2022-02-14T20:36:55.538Z"
   },
   {
    "duration": 345,
    "start_time": "2022-02-14T20:36:55.543Z"
   },
   {
    "duration": 8076474,
    "start_time": "2022-02-14T18:22:19.416Z"
   },
   {
    "duration": 8076462,
    "start_time": "2022-02-14T18:22:19.430Z"
   },
   {
    "duration": 8076459,
    "start_time": "2022-02-14T18:22:19.433Z"
   },
   {
    "duration": 8076451,
    "start_time": "2022-02-14T18:22:19.442Z"
   },
   {
    "duration": 8076450,
    "start_time": "2022-02-14T18:22:19.444Z"
   },
   {
    "duration": 8076449,
    "start_time": "2022-02-14T18:22:19.446Z"
   },
   {
    "duration": 8076448,
    "start_time": "2022-02-14T18:22:19.448Z"
   },
   {
    "duration": 8076445,
    "start_time": "2022-02-14T18:22:19.452Z"
   },
   {
    "duration": 8076444,
    "start_time": "2022-02-14T18:22:19.455Z"
   },
   {
    "duration": 8076442,
    "start_time": "2022-02-14T18:22:19.458Z"
   },
   {
    "duration": 8076434,
    "start_time": "2022-02-14T18:22:19.467Z"
   },
   {
    "duration": 8076431,
    "start_time": "2022-02-14T18:22:19.471Z"
   },
   {
    "duration": 8076429,
    "start_time": "2022-02-14T18:22:19.474Z"
   },
   {
    "duration": 8076427,
    "start_time": "2022-02-14T18:22:19.477Z"
   },
   {
    "duration": 8076426,
    "start_time": "2022-02-14T18:22:19.479Z"
   },
   {
    "duration": 8076424,
    "start_time": "2022-02-14T18:22:19.482Z"
   },
   {
    "duration": 8076422,
    "start_time": "2022-02-14T18:22:19.485Z"
   },
   {
    "duration": 686,
    "start_time": "2022-02-14T20:37:08.344Z"
   },
   {
    "duration": 3,
    "start_time": "2022-02-14T20:37:39.531Z"
   },
   {
    "duration": 568,
    "start_time": "2022-02-14T20:37:41.683Z"
   },
   {
    "duration": 607,
    "start_time": "2022-02-14T20:37:46.043Z"
   },
   {
    "duration": 120,
    "start_time": "2022-02-14T20:37:46.652Z"
   },
   {
    "duration": 15,
    "start_time": "2022-02-14T20:37:46.776Z"
   },
   {
    "duration": 23,
    "start_time": "2022-02-14T20:37:46.793Z"
   },
   {
    "duration": 3,
    "start_time": "2022-02-14T20:37:46.817Z"
   },
   {
    "duration": 20,
    "start_time": "2022-02-14T20:37:46.822Z"
   },
   {
    "duration": 27,
    "start_time": "2022-02-14T20:37:46.845Z"
   },
   {
    "duration": 27,
    "start_time": "2022-02-14T20:37:46.874Z"
   },
   {
    "duration": 16,
    "start_time": "2022-02-14T20:37:46.903Z"
   },
   {
    "duration": 20,
    "start_time": "2022-02-14T20:37:46.920Z"
   },
   {
    "duration": 75,
    "start_time": "2022-02-14T20:37:46.942Z"
   },
   {
    "duration": 90,
    "start_time": "2022-02-14T20:37:47.019Z"
   },
   {
    "duration": 48,
    "start_time": "2022-02-14T20:37:47.111Z"
   },
   {
    "duration": 15,
    "start_time": "2022-02-14T20:37:47.160Z"
   },
   {
    "duration": 3,
    "start_time": "2022-02-14T20:37:47.176Z"
   },
   {
    "duration": 8,
    "start_time": "2022-02-14T20:37:47.181Z"
   },
   {
    "duration": 5,
    "start_time": "2022-02-14T20:37:47.191Z"
   },
   {
    "duration": 11,
    "start_time": "2022-02-14T20:37:47.198Z"
   },
   {
    "duration": 9,
    "start_time": "2022-02-14T20:37:47.210Z"
   },
   {
    "duration": 3,
    "start_time": "2022-02-14T20:37:47.220Z"
   },
   {
    "duration": 647,
    "start_time": "2022-02-14T20:37:47.225Z"
   },
   {
    "duration": 8076468,
    "start_time": "2022-02-14T18:23:11.406Z"
   },
   {
    "duration": 8076466,
    "start_time": "2022-02-14T18:23:11.409Z"
   },
   {
    "duration": 8076466,
    "start_time": "2022-02-14T18:23:11.410Z"
   },
   {
    "duration": 8076465,
    "start_time": "2022-02-14T18:23:11.412Z"
   },
   {
    "duration": 8076464,
    "start_time": "2022-02-14T18:23:11.414Z"
   },
   {
    "duration": 8076463,
    "start_time": "2022-02-14T18:23:11.416Z"
   },
   {
    "duration": 8076462,
    "start_time": "2022-02-14T18:23:11.418Z"
   },
   {
    "duration": 8076461,
    "start_time": "2022-02-14T18:23:11.420Z"
   },
   {
    "duration": 8076460,
    "start_time": "2022-02-14T18:23:11.422Z"
   },
   {
    "duration": 8076459,
    "start_time": "2022-02-14T18:23:11.424Z"
   },
   {
    "duration": 8076458,
    "start_time": "2022-02-14T18:23:11.426Z"
   },
   {
    "duration": 8076450,
    "start_time": "2022-02-14T18:23:11.435Z"
   },
   {
    "duration": 8076449,
    "start_time": "2022-02-14T18:23:11.437Z"
   },
   {
    "duration": 8076448,
    "start_time": "2022-02-14T18:23:11.439Z"
   },
   {
    "duration": 8076446,
    "start_time": "2022-02-14T18:23:11.442Z"
   },
   {
    "duration": 8076444,
    "start_time": "2022-02-14T18:23:11.444Z"
   },
   {
    "duration": 8076443,
    "start_time": "2022-02-14T18:23:11.446Z"
   },
   {
    "duration": 3,
    "start_time": "2022-02-14T20:38:09.844Z"
   },
   {
    "duration": 15,
    "start_time": "2022-02-14T20:38:13.414Z"
   },
   {
    "duration": 598,
    "start_time": "2022-02-14T20:39:40.739Z"
   },
   {
    "duration": 120,
    "start_time": "2022-02-14T20:39:41.338Z"
   },
   {
    "duration": 15,
    "start_time": "2022-02-14T20:39:41.460Z"
   },
   {
    "duration": 22,
    "start_time": "2022-02-14T20:39:41.477Z"
   },
   {
    "duration": 3,
    "start_time": "2022-02-14T20:39:41.501Z"
   },
   {
    "duration": 19,
    "start_time": "2022-02-14T20:39:41.506Z"
   },
   {
    "duration": 3,
    "start_time": "2022-02-14T20:39:41.527Z"
   },
   {
    "duration": 40,
    "start_time": "2022-02-14T20:39:41.532Z"
   },
   {
    "duration": 16,
    "start_time": "2022-02-14T20:39:41.574Z"
   },
   {
    "duration": 20,
    "start_time": "2022-02-14T20:39:41.592Z"
   },
   {
    "duration": 75,
    "start_time": "2022-02-14T20:39:41.613Z"
   },
   {
    "duration": 64,
    "start_time": "2022-02-14T20:39:41.690Z"
   },
   {
    "duration": 55,
    "start_time": "2022-02-14T20:39:41.755Z"
   },
   {
    "duration": 5,
    "start_time": "2022-02-14T20:39:41.812Z"
   },
   {
    "duration": 2,
    "start_time": "2022-02-14T20:39:41.819Z"
   },
   {
    "duration": 8,
    "start_time": "2022-02-14T20:39:41.823Z"
   },
   {
    "duration": 7,
    "start_time": "2022-02-14T20:39:41.832Z"
   },
   {
    "duration": 38,
    "start_time": "2022-02-14T20:39:41.841Z"
   },
   {
    "duration": 10,
    "start_time": "2022-02-14T20:39:41.880Z"
   },
   {
    "duration": 3,
    "start_time": "2022-02-14T20:39:41.892Z"
   },
   {
    "duration": 21,
    "start_time": "2022-02-14T20:39:41.897Z"
   },
   {
    "duration": 12,
    "start_time": "2022-02-14T20:39:41.920Z"
   },
   {
    "duration": 38,
    "start_time": "2022-02-14T20:39:41.934Z"
   },
   {
    "duration": 13,
    "start_time": "2022-02-14T20:39:41.974Z"
   },
   {
    "duration": 15,
    "start_time": "2022-02-14T20:39:41.989Z"
   },
   {
    "duration": 13,
    "start_time": "2022-02-14T20:39:42.006Z"
   },
   {
    "duration": 3,
    "start_time": "2022-02-14T20:39:42.020Z"
   },
   {
    "duration": 8,
    "start_time": "2022-02-14T20:39:42.024Z"
   },
   {
    "duration": 8,
    "start_time": "2022-02-14T20:39:42.033Z"
   },
   {
    "duration": 8,
    "start_time": "2022-02-14T20:39:42.043Z"
   },
   {
    "duration": 2,
    "start_time": "2022-02-14T20:39:42.072Z"
   },
   {
    "duration": 9,
    "start_time": "2022-02-14T20:39:42.075Z"
   },
   {
    "duration": 12,
    "start_time": "2022-02-14T20:39:42.085Z"
   },
   {
    "duration": 8,
    "start_time": "2022-02-14T20:39:42.098Z"
   },
   {
    "duration": 11,
    "start_time": "2022-02-14T20:39:42.107Z"
   },
   {
    "duration": 8,
    "start_time": "2022-02-14T20:39:42.120Z"
   },
   {
    "duration": 8,
    "start_time": "2022-02-14T20:39:42.129Z"
   },
   {
    "duration": 8,
    "start_time": "2022-02-14T20:39:42.139Z"
   },
   {
    "duration": 371,
    "start_time": "2022-02-14T20:40:59.441Z"
   },
   {
    "duration": 608,
    "start_time": "2022-02-14T20:41:21.344Z"
   },
   {
    "duration": 125,
    "start_time": "2022-02-14T20:41:21.954Z"
   },
   {
    "duration": 16,
    "start_time": "2022-02-14T20:41:22.081Z"
   },
   {
    "duration": 24,
    "start_time": "2022-02-14T20:41:22.099Z"
   },
   {
    "duration": 4,
    "start_time": "2022-02-14T20:41:22.124Z"
   },
   {
    "duration": 42,
    "start_time": "2022-02-14T20:41:22.130Z"
   },
   {
    "duration": 3,
    "start_time": "2022-02-14T20:41:22.173Z"
   },
   {
    "duration": 22,
    "start_time": "2022-02-14T20:41:22.178Z"
   },
   {
    "duration": 14,
    "start_time": "2022-02-14T20:41:22.202Z"
   },
   {
    "duration": 18,
    "start_time": "2022-02-14T20:41:22.217Z"
   },
   {
    "duration": 75,
    "start_time": "2022-02-14T20:41:22.236Z"
   },
   {
    "duration": 64,
    "start_time": "2022-02-14T20:41:22.313Z"
   },
   {
    "duration": 46,
    "start_time": "2022-02-14T20:41:22.379Z"
   },
   {
    "duration": 6,
    "start_time": "2022-02-14T20:41:22.427Z"
   },
   {
    "duration": 3,
    "start_time": "2022-02-14T20:41:22.434Z"
   },
   {
    "duration": 35,
    "start_time": "2022-02-14T20:41:22.439Z"
   },
   {
    "duration": 7,
    "start_time": "2022-02-14T20:41:22.476Z"
   },
   {
    "duration": 9,
    "start_time": "2022-02-14T20:41:22.485Z"
   },
   {
    "duration": 9,
    "start_time": "2022-02-14T20:41:22.495Z"
   },
   {
    "duration": 3,
    "start_time": "2022-02-14T20:41:22.506Z"
   },
   {
    "duration": 17,
    "start_time": "2022-02-14T20:41:22.510Z"
   },
   {
    "duration": 12,
    "start_time": "2022-02-14T20:41:22.528Z"
   },
   {
    "duration": 13,
    "start_time": "2022-02-14T20:41:22.573Z"
   },
   {
    "duration": 11,
    "start_time": "2022-02-14T20:41:22.588Z"
   },
   {
    "duration": 13,
    "start_time": "2022-02-14T20:41:22.600Z"
   },
   {
    "duration": 12,
    "start_time": "2022-02-14T20:41:22.614Z"
   },
   {
    "duration": 365,
    "start_time": "2022-02-14T20:41:22.628Z"
   },
   {
    "duration": 8076476,
    "start_time": "2022-02-14T18:26:46.519Z"
   },
   {
    "duration": 8076457,
    "start_time": "2022-02-14T18:26:46.539Z"
   },
   {
    "duration": 8076455,
    "start_time": "2022-02-14T18:26:46.542Z"
   },
   {
    "duration": 8076452,
    "start_time": "2022-02-14T18:26:46.545Z"
   },
   {
    "duration": 8076450,
    "start_time": "2022-02-14T18:26:46.548Z"
   },
   {
    "duration": 8076448,
    "start_time": "2022-02-14T18:26:46.551Z"
   },
   {
    "duration": 8076445,
    "start_time": "2022-02-14T18:26:46.554Z"
   },
   {
    "duration": 8076443,
    "start_time": "2022-02-14T18:26:46.557Z"
   },
   {
    "duration": 8076438,
    "start_time": "2022-02-14T18:26:46.563Z"
   },
   {
    "duration": 8076436,
    "start_time": "2022-02-14T18:26:46.566Z"
   },
   {
    "duration": 8076434,
    "start_time": "2022-02-14T18:26:46.568Z"
   },
   {
    "duration": 587,
    "start_time": "2022-02-14T20:43:21.269Z"
   },
   {
    "duration": 127,
    "start_time": "2022-02-14T20:43:21.858Z"
   },
   {
    "duration": 15,
    "start_time": "2022-02-14T20:43:21.987Z"
   },
   {
    "duration": 23,
    "start_time": "2022-02-14T20:43:22.004Z"
   },
   {
    "duration": 3,
    "start_time": "2022-02-14T20:43:22.029Z"
   },
   {
    "duration": 45,
    "start_time": "2022-02-14T20:43:22.034Z"
   },
   {
    "duration": 3,
    "start_time": "2022-02-14T20:43:22.081Z"
   },
   {
    "duration": 20,
    "start_time": "2022-02-14T20:43:22.087Z"
   },
   {
    "duration": 15,
    "start_time": "2022-02-14T20:43:22.109Z"
   },
   {
    "duration": 19,
    "start_time": "2022-02-14T20:43:22.125Z"
   },
   {
    "duration": 76,
    "start_time": "2022-02-14T20:43:22.146Z"
   },
   {
    "duration": 80,
    "start_time": "2022-02-14T20:43:22.224Z"
   },
   {
    "duration": 46,
    "start_time": "2022-02-14T20:43:22.306Z"
   },
   {
    "duration": 18,
    "start_time": "2022-02-14T20:43:22.354Z"
   },
   {
    "duration": 3,
    "start_time": "2022-02-14T20:43:22.374Z"
   },
   {
    "duration": 12,
    "start_time": "2022-02-14T20:43:22.379Z"
   },
   {
    "duration": 7,
    "start_time": "2022-02-14T20:43:22.392Z"
   },
   {
    "duration": 11,
    "start_time": "2022-02-14T20:43:22.401Z"
   },
   {
    "duration": 10,
    "start_time": "2022-02-14T20:43:22.413Z"
   },
   {
    "duration": 3,
    "start_time": "2022-02-14T20:43:22.425Z"
   },
   {
    "duration": 49,
    "start_time": "2022-02-14T20:43:22.430Z"
   },
   {
    "duration": 12,
    "start_time": "2022-02-14T20:43:22.481Z"
   },
   {
    "duration": 12,
    "start_time": "2022-02-14T20:43:22.496Z"
   },
   {
    "duration": 20,
    "start_time": "2022-02-14T20:43:22.509Z"
   },
   {
    "duration": 18,
    "start_time": "2022-02-14T20:43:22.530Z"
   },
   {
    "duration": 29,
    "start_time": "2022-02-14T20:43:22.549Z"
   },
   {
    "duration": 102,
    "start_time": "2022-02-14T20:43:22.579Z"
   },
   {
    "duration": 8076478,
    "start_time": "2022-02-14T18:28:46.204Z"
   },
   {
    "duration": 8076477,
    "start_time": "2022-02-14T18:28:46.206Z"
   },
   {
    "duration": 8076476,
    "start_time": "2022-02-14T18:28:46.208Z"
   },
   {
    "duration": 8076476,
    "start_time": "2022-02-14T18:28:46.209Z"
   },
   {
    "duration": 8076469,
    "start_time": "2022-02-14T18:28:46.216Z"
   },
   {
    "duration": 8076468,
    "start_time": "2022-02-14T18:28:46.218Z"
   },
   {
    "duration": 8076467,
    "start_time": "2022-02-14T18:28:46.220Z"
   },
   {
    "duration": 8076466,
    "start_time": "2022-02-14T18:28:46.222Z"
   },
   {
    "duration": 8076465,
    "start_time": "2022-02-14T18:28:46.223Z"
   },
   {
    "duration": 8076464,
    "start_time": "2022-02-14T18:28:46.225Z"
   },
   {
    "duration": 8076463,
    "start_time": "2022-02-14T18:28:46.227Z"
   },
   {
    "duration": 550,
    "start_time": "2022-02-14T20:43:47.604Z"
   },
   {
    "duration": 128,
    "start_time": "2022-02-14T20:43:48.156Z"
   },
   {
    "duration": 14,
    "start_time": "2022-02-14T20:43:48.289Z"
   },
   {
    "duration": 21,
    "start_time": "2022-02-14T20:43:48.305Z"
   },
   {
    "duration": 3,
    "start_time": "2022-02-14T20:43:48.328Z"
   },
   {
    "duration": 46,
    "start_time": "2022-02-14T20:43:48.332Z"
   },
   {
    "duration": 3,
    "start_time": "2022-02-14T20:43:48.381Z"
   },
   {
    "duration": 21,
    "start_time": "2022-02-14T20:43:48.386Z"
   },
   {
    "duration": 16,
    "start_time": "2022-02-14T20:43:48.409Z"
   },
   {
    "duration": 18,
    "start_time": "2022-02-14T20:43:48.427Z"
   },
   {
    "duration": 76,
    "start_time": "2022-02-14T20:43:48.447Z"
   },
   {
    "duration": 76,
    "start_time": "2022-02-14T20:43:48.524Z"
   },
   {
    "duration": 45,
    "start_time": "2022-02-14T20:43:48.602Z"
   },
   {
    "duration": 5,
    "start_time": "2022-02-14T20:43:48.649Z"
   },
   {
    "duration": 17,
    "start_time": "2022-02-14T20:43:48.655Z"
   },
   {
    "duration": 6,
    "start_time": "2022-02-14T20:43:48.673Z"
   },
   {
    "duration": 8,
    "start_time": "2022-02-14T20:43:48.681Z"
   },
   {
    "duration": 10,
    "start_time": "2022-02-14T20:43:48.690Z"
   },
   {
    "duration": 9,
    "start_time": "2022-02-14T20:43:48.701Z"
   },
   {
    "duration": 3,
    "start_time": "2022-02-14T20:43:48.711Z"
   },
   {
    "duration": 26,
    "start_time": "2022-02-14T20:43:48.715Z"
   },
   {
    "duration": 33,
    "start_time": "2022-02-14T20:43:48.744Z"
   },
   {
    "duration": 14,
    "start_time": "2022-02-14T20:43:48.778Z"
   },
   {
    "duration": 13,
    "start_time": "2022-02-14T20:43:48.793Z"
   },
   {
    "duration": 17,
    "start_time": "2022-02-14T20:43:48.807Z"
   },
   {
    "duration": 13,
    "start_time": "2022-02-14T20:43:48.825Z"
   },
   {
    "duration": 443,
    "start_time": "2022-02-14T20:43:48.840Z"
   },
   {
    "duration": 8076409,
    "start_time": "2022-02-14T18:29:12.876Z"
   },
   {
    "duration": 8076407,
    "start_time": "2022-02-14T18:29:12.879Z"
   },
   {
    "duration": 8076405,
    "start_time": "2022-02-14T18:29:12.882Z"
   },
   {
    "duration": 8076403,
    "start_time": "2022-02-14T18:29:12.885Z"
   },
   {
    "duration": 8076402,
    "start_time": "2022-02-14T18:29:12.887Z"
   },
   {
    "duration": 8076400,
    "start_time": "2022-02-14T18:29:12.890Z"
   },
   {
    "duration": 8076398,
    "start_time": "2022-02-14T18:29:12.892Z"
   },
   {
    "duration": 8076396,
    "start_time": "2022-02-14T18:29:12.895Z"
   },
   {
    "duration": 8076395,
    "start_time": "2022-02-14T18:29:12.897Z"
   },
   {
    "duration": 8076394,
    "start_time": "2022-02-14T18:29:12.899Z"
   },
   {
    "duration": 8076392,
    "start_time": "2022-02-14T18:29:12.902Z"
   },
   {
    "duration": 291,
    "start_time": "2022-02-14T20:44:30.080Z"
   },
   {
    "duration": 284,
    "start_time": "2022-02-14T20:45:11.748Z"
   },
   {
    "duration": 7,
    "start_time": "2022-02-14T20:46:51.022Z"
   },
   {
    "duration": 8,
    "start_time": "2022-02-14T20:47:12.779Z"
   },
   {
    "duration": 10,
    "start_time": "2022-02-14T20:52:41.509Z"
   },
   {
    "duration": 8,
    "start_time": "2022-02-14T20:52:42.867Z"
   },
   {
    "duration": 3,
    "start_time": "2022-02-14T21:01:16.371Z"
   },
   {
    "duration": 584,
    "start_time": "2022-02-14T21:01:39.272Z"
   },
   {
    "duration": 296,
    "start_time": "2022-02-14T21:02:18.712Z"
   },
   {
    "duration": 598,
    "start_time": "2022-02-14T21:03:27.737Z"
   },
   {
    "duration": 568,
    "start_time": "2022-02-14T21:03:32.682Z"
   },
   {
    "duration": 134,
    "start_time": "2022-02-14T21:03:33.252Z"
   },
   {
    "duration": 15,
    "start_time": "2022-02-14T21:03:33.388Z"
   },
   {
    "duration": 24,
    "start_time": "2022-02-14T21:03:33.405Z"
   },
   {
    "duration": 19,
    "start_time": "2022-02-14T21:03:33.430Z"
   },
   {
    "duration": 28,
    "start_time": "2022-02-14T21:03:33.451Z"
   },
   {
    "duration": 14,
    "start_time": "2022-02-14T21:03:33.481Z"
   },
   {
    "duration": 44,
    "start_time": "2022-02-14T21:03:33.498Z"
   },
   {
    "duration": 25,
    "start_time": "2022-02-14T21:03:33.544Z"
   },
   {
    "duration": 33,
    "start_time": "2022-02-14T21:03:33.571Z"
   },
   {
    "duration": 56,
    "start_time": "2022-02-14T21:03:33.606Z"
   },
   {
    "duration": 60,
    "start_time": "2022-02-14T21:03:33.664Z"
   },
   {
    "duration": 49,
    "start_time": "2022-02-14T21:03:33.726Z"
   },
   {
    "duration": 5,
    "start_time": "2022-02-14T21:03:33.777Z"
   },
   {
    "duration": 19,
    "start_time": "2022-02-14T21:03:33.784Z"
   },
   {
    "duration": 19,
    "start_time": "2022-02-14T21:03:33.804Z"
   },
   {
    "duration": 19,
    "start_time": "2022-02-14T21:03:33.825Z"
   },
   {
    "duration": 13,
    "start_time": "2022-02-14T21:03:33.846Z"
   },
   {
    "duration": 16,
    "start_time": "2022-02-14T21:03:33.860Z"
   },
   {
    "duration": 8,
    "start_time": "2022-02-14T21:03:33.877Z"
   },
   {
    "duration": 45,
    "start_time": "2022-02-14T21:03:33.886Z"
   },
   {
    "duration": 14,
    "start_time": "2022-02-14T21:03:33.933Z"
   },
   {
    "duration": 21,
    "start_time": "2022-02-14T21:03:33.951Z"
   },
   {
    "duration": 15,
    "start_time": "2022-02-14T21:03:33.974Z"
   },
   {
    "duration": 25,
    "start_time": "2022-02-14T21:03:33.991Z"
   },
   {
    "duration": 14,
    "start_time": "2022-02-14T21:03:34.018Z"
   },
   {
    "duration": 14,
    "start_time": "2022-02-14T21:03:34.034Z"
   },
   {
    "duration": 23,
    "start_time": "2022-02-14T21:03:34.049Z"
   },
   {
    "duration": 18,
    "start_time": "2022-02-14T21:03:34.073Z"
   },
   {
    "duration": 21,
    "start_time": "2022-02-14T21:03:34.092Z"
   },
   {
    "duration": 632,
    "start_time": "2022-02-14T21:03:34.114Z"
   },
   {
    "duration": -36,
    "start_time": "2022-02-14T21:03:34.784Z"
   },
   {
    "duration": -46,
    "start_time": "2022-02-14T21:03:34.795Z"
   },
   {
    "duration": -48,
    "start_time": "2022-02-14T21:03:34.797Z"
   },
   {
    "duration": -49,
    "start_time": "2022-02-14T21:03:34.799Z"
   },
   {
    "duration": -50,
    "start_time": "2022-02-14T21:03:34.801Z"
   },
   {
    "duration": -51,
    "start_time": "2022-02-14T21:03:34.803Z"
   },
   {
    "duration": -52,
    "start_time": "2022-02-14T21:03:34.805Z"
   },
   {
    "duration": 4,
    "start_time": "2022-02-14T21:04:11.176Z"
   },
   {
    "duration": 588,
    "start_time": "2022-02-14T21:04:12.446Z"
   },
   {
    "duration": 4,
    "start_time": "2022-02-14T21:04:26.463Z"
   },
   {
    "duration": 573,
    "start_time": "2022-02-14T21:04:27.694Z"
   },
   {
    "duration": 4,
    "start_time": "2022-02-14T21:06:24.192Z"
   },
   {
    "duration": 586,
    "start_time": "2022-02-14T21:06:26.387Z"
   },
   {
    "duration": 292,
    "start_time": "2022-02-14T21:07:33.682Z"
   },
   {
    "duration": 269,
    "start_time": "2022-02-14T21:07:43.428Z"
   },
   {
    "duration": 297,
    "start_time": "2022-02-14T21:07:49.741Z"
   },
   {
    "duration": 8,
    "start_time": "2022-02-14T21:08:00.595Z"
   },
   {
    "duration": 17,
    "start_time": "2022-02-14T21:08:13.332Z"
   },
   {
    "duration": 92,
    "start_time": "2022-02-14T21:08:46.045Z"
   },
   {
    "duration": 18,
    "start_time": "2022-02-14T21:08:53.361Z"
   },
   {
    "duration": 4,
    "start_time": "2022-02-14T21:09:52.776Z"
   },
   {
    "duration": 608,
    "start_time": "2022-02-14T21:09:53.774Z"
   },
   {
    "duration": 3,
    "start_time": "2022-02-14T21:10:08.952Z"
   },
   {
    "duration": 14,
    "start_time": "2022-02-14T21:10:09.868Z"
   },
   {
    "duration": 3,
    "start_time": "2022-02-14T21:10:28.757Z"
   },
   {
    "duration": 15,
    "start_time": "2022-02-14T21:10:29.736Z"
   },
   {
    "duration": 3,
    "start_time": "2022-02-14T21:10:44.086Z"
   },
   {
    "duration": 17,
    "start_time": "2022-02-14T21:10:46.516Z"
   },
   {
    "duration": 3,
    "start_time": "2022-02-14T21:10:54.492Z"
   },
   {
    "duration": 15,
    "start_time": "2022-02-14T21:10:55.923Z"
   },
   {
    "duration": 4,
    "start_time": "2022-02-14T21:11:05.088Z"
   },
   {
    "duration": 16,
    "start_time": "2022-02-14T21:11:06.184Z"
   },
   {
    "duration": 3,
    "start_time": "2022-02-14T21:11:58.690Z"
   },
   {
    "duration": 654,
    "start_time": "2022-02-14T21:11:59.260Z"
   },
   {
    "duration": 3,
    "start_time": "2022-02-14T21:12:10.133Z"
   },
   {
    "duration": 638,
    "start_time": "2022-02-14T21:12:10.900Z"
   },
   {
    "duration": 4,
    "start_time": "2022-02-14T21:12:23.580Z"
   },
   {
    "duration": 16,
    "start_time": "2022-02-14T21:12:24.567Z"
   },
   {
    "duration": 93,
    "start_time": "2022-02-14T21:12:56.757Z"
   },
   {
    "duration": 3,
    "start_time": "2022-02-14T21:13:16.847Z"
   },
   {
    "duration": 555,
    "start_time": "2022-02-14T21:13:17.663Z"
   },
   {
    "duration": 3,
    "start_time": "2022-02-14T21:13:30.279Z"
   },
   {
    "duration": 621,
    "start_time": "2022-02-14T21:13:31.172Z"
   },
   {
    "duration": 4,
    "start_time": "2022-02-14T21:14:07.405Z"
   },
   {
    "duration": 605,
    "start_time": "2022-02-14T21:14:08.719Z"
   },
   {
    "duration": 3,
    "start_time": "2022-02-14T21:14:31.905Z"
   },
   {
    "duration": 18,
    "start_time": "2022-02-14T21:14:32.765Z"
   },
   {
    "duration": 4,
    "start_time": "2022-02-14T21:14:49.130Z"
   },
   {
    "duration": 17,
    "start_time": "2022-02-14T21:14:49.698Z"
   },
   {
    "duration": 4,
    "start_time": "2022-02-14T21:14:56.008Z"
   },
   {
    "duration": 16,
    "start_time": "2022-02-14T21:14:56.558Z"
   },
   {
    "duration": 4,
    "start_time": "2022-02-14T21:15:00.963Z"
   },
   {
    "duration": 15,
    "start_time": "2022-02-14T21:15:01.621Z"
   },
   {
    "duration": 4,
    "start_time": "2022-02-14T21:15:04.402Z"
   },
   {
    "duration": 17,
    "start_time": "2022-02-14T21:15:05.077Z"
   },
   {
    "duration": 5,
    "start_time": "2022-02-14T21:15:20.309Z"
   },
   {
    "duration": 16,
    "start_time": "2022-02-14T21:15:21.929Z"
   },
   {
    "duration": 12,
    "start_time": "2022-02-14T21:16:51.827Z"
   },
   {
    "duration": 16,
    "start_time": "2022-02-14T21:16:52.367Z"
   },
   {
    "duration": 12,
    "start_time": "2022-02-14T21:16:52.791Z"
   },
   {
    "duration": 10,
    "start_time": "2022-02-14T21:21:22.774Z"
   },
   {
    "duration": 10,
    "start_time": "2022-02-14T21:21:39.176Z"
   },
   {
    "duration": 9,
    "start_time": "2022-02-14T21:21:50.213Z"
   },
   {
    "duration": 4,
    "start_time": "2022-02-14T21:22:09.469Z"
   },
   {
    "duration": 310,
    "start_time": "2022-02-14T21:22:41.051Z"
   },
   {
    "duration": 5,
    "start_time": "2022-02-14T21:22:48.836Z"
   },
   {
    "duration": 4,
    "start_time": "2022-02-14T21:22:49.674Z"
   },
   {
    "duration": 544,
    "start_time": "2022-02-14T21:22:53.403Z"
   },
   {
    "duration": 131,
    "start_time": "2022-02-14T21:22:53.949Z"
   },
   {
    "duration": 15,
    "start_time": "2022-02-14T21:22:54.082Z"
   },
   {
    "duration": 33,
    "start_time": "2022-02-14T21:22:54.098Z"
   },
   {
    "duration": 3,
    "start_time": "2022-02-14T21:22:54.132Z"
   },
   {
    "duration": 33,
    "start_time": "2022-02-14T21:22:54.136Z"
   },
   {
    "duration": 6,
    "start_time": "2022-02-14T21:22:54.170Z"
   },
   {
    "duration": 20,
    "start_time": "2022-02-14T21:22:54.178Z"
   },
   {
    "duration": 20,
    "start_time": "2022-02-14T21:22:54.200Z"
   },
   {
    "duration": 40,
    "start_time": "2022-02-14T21:22:54.221Z"
   },
   {
    "duration": 64,
    "start_time": "2022-02-14T21:22:54.263Z"
   },
   {
    "duration": 64,
    "start_time": "2022-02-14T21:22:54.328Z"
   },
   {
    "duration": 44,
    "start_time": "2022-02-14T21:22:54.394Z"
   },
   {
    "duration": 5,
    "start_time": "2022-02-14T21:22:54.439Z"
   },
   {
    "duration": 9,
    "start_time": "2022-02-14T21:22:54.446Z"
   },
   {
    "duration": 28,
    "start_time": "2022-02-14T21:22:54.456Z"
   },
   {
    "duration": 20,
    "start_time": "2022-02-14T21:22:54.486Z"
   },
   {
    "duration": 24,
    "start_time": "2022-02-14T21:22:54.508Z"
   },
   {
    "duration": 18,
    "start_time": "2022-02-14T21:22:54.533Z"
   },
   {
    "duration": 8,
    "start_time": "2022-02-14T21:22:54.552Z"
   },
   {
    "duration": 36,
    "start_time": "2022-02-14T21:22:54.561Z"
   },
   {
    "duration": 26,
    "start_time": "2022-02-14T21:22:54.598Z"
   },
   {
    "duration": 36,
    "start_time": "2022-02-14T21:22:54.627Z"
   },
   {
    "duration": 23,
    "start_time": "2022-02-14T21:22:54.665Z"
   },
   {
    "duration": 20,
    "start_time": "2022-02-14T21:22:54.690Z"
   },
   {
    "duration": 21,
    "start_time": "2022-02-14T21:22:54.711Z"
   },
   {
    "duration": 25,
    "start_time": "2022-02-14T21:22:54.733Z"
   },
   {
    "duration": 32,
    "start_time": "2022-02-14T21:22:54.759Z"
   },
   {
    "duration": 23,
    "start_time": "2022-02-14T21:22:54.793Z"
   },
   {
    "duration": 20,
    "start_time": "2022-02-14T21:22:54.817Z"
   },
   {
    "duration": 44,
    "start_time": "2022-02-14T21:22:54.838Z"
   },
   {
    "duration": 31,
    "start_time": "2022-02-14T21:22:54.884Z"
   },
   {
    "duration": 37,
    "start_time": "2022-02-14T21:22:54.917Z"
   },
   {
    "duration": 20,
    "start_time": "2022-02-14T21:22:54.955Z"
   },
   {
    "duration": 27,
    "start_time": "2022-02-14T21:22:54.977Z"
   },
   {
    "duration": 30,
    "start_time": "2022-02-14T21:22:55.006Z"
   },
   {
    "duration": 22,
    "start_time": "2022-02-14T21:22:55.037Z"
   },
   {
    "duration": 33,
    "start_time": "2022-02-14T21:22:55.060Z"
   },
   {
    "duration": 644,
    "start_time": "2022-02-21T20:12:07.992Z"
   },
   {
    "duration": 140,
    "start_time": "2022-02-21T20:12:08.638Z"
   },
   {
    "duration": 18,
    "start_time": "2022-02-21T20:12:08.780Z"
   },
   {
    "duration": 40,
    "start_time": "2022-02-21T20:12:08.800Z"
   },
   {
    "duration": 4,
    "start_time": "2022-02-21T20:12:08.842Z"
   },
   {
    "duration": 23,
    "start_time": "2022-02-21T20:12:08.848Z"
   },
   {
    "duration": 4,
    "start_time": "2022-02-21T20:12:08.873Z"
   },
   {
    "duration": 48,
    "start_time": "2022-02-21T20:12:08.880Z"
   },
   {
    "duration": 18,
    "start_time": "2022-02-21T20:12:08.931Z"
   },
   {
    "duration": 22,
    "start_time": "2022-02-21T20:12:08.950Z"
   },
   {
    "duration": 87,
    "start_time": "2022-02-21T20:12:08.974Z"
   },
   {
    "duration": 77,
    "start_time": "2022-02-21T20:12:09.063Z"
   },
   {
    "duration": 55,
    "start_time": "2022-02-21T20:12:09.142Z"
   },
   {
    "duration": 20,
    "start_time": "2022-02-21T20:12:09.199Z"
   },
   {
    "duration": 3,
    "start_time": "2022-02-21T20:12:09.221Z"
   },
   {
    "duration": 9,
    "start_time": "2022-02-21T20:12:09.226Z"
   },
   {
    "duration": 8,
    "start_time": "2022-02-21T20:12:09.237Z"
   },
   {
    "duration": 15,
    "start_time": "2022-02-21T20:12:09.247Z"
   },
   {
    "duration": 10,
    "start_time": "2022-02-21T20:12:09.263Z"
   },
   {
    "duration": 4,
    "start_time": "2022-02-21T20:12:09.275Z"
   },
   {
    "duration": 52,
    "start_time": "2022-02-21T20:12:09.281Z"
   },
   {
    "duration": 15,
    "start_time": "2022-02-21T20:12:09.335Z"
   },
   {
    "duration": 15,
    "start_time": "2022-02-21T20:12:09.354Z"
   },
   {
    "duration": 14,
    "start_time": "2022-02-21T20:12:09.372Z"
   },
   {
    "duration": 48,
    "start_time": "2022-02-21T20:12:09.388Z"
   },
   {
    "duration": 25,
    "start_time": "2022-02-21T20:12:09.438Z"
   },
   {
    "duration": 9,
    "start_time": "2022-02-21T20:12:09.465Z"
   },
   {
    "duration": 20,
    "start_time": "2022-02-21T20:12:09.476Z"
   },
   {
    "duration": 26,
    "start_time": "2022-02-21T20:12:09.498Z"
   },
   {
    "duration": 4,
    "start_time": "2022-02-21T20:12:09.526Z"
   },
   {
    "duration": 27,
    "start_time": "2022-02-21T20:12:09.531Z"
   },
   {
    "duration": 12,
    "start_time": "2022-02-21T20:12:09.560Z"
   },
   {
    "duration": 16,
    "start_time": "2022-02-21T20:12:09.574Z"
   },
   {
    "duration": 35,
    "start_time": "2022-02-21T20:12:09.592Z"
   },
   {
    "duration": 7,
    "start_time": "2022-02-21T20:12:09.629Z"
   },
   {
    "duration": 4,
    "start_time": "2022-02-21T20:12:09.638Z"
   },
   {
    "duration": 8,
    "start_time": "2022-02-21T20:12:09.643Z"
   },
   {
    "duration": 5,
    "start_time": "2022-02-21T20:12:09.652Z"
   },
   {
    "duration": 314,
    "start_time": "2022-02-21T20:17:06.484Z"
   },
   {
    "duration": 261,
    "start_time": "2022-02-21T20:17:48.711Z"
   },
   {
    "duration": 614,
    "start_time": "2022-02-21T20:18:12.461Z"
   },
   {
    "duration": 165,
    "start_time": "2022-02-21T20:18:13.078Z"
   },
   {
    "duration": 18,
    "start_time": "2022-02-21T20:18:13.245Z"
   },
   {
    "duration": 28,
    "start_time": "2022-02-21T20:18:13.265Z"
   },
   {
    "duration": 4,
    "start_time": "2022-02-21T20:18:13.318Z"
   },
   {
    "duration": 29,
    "start_time": "2022-02-21T20:18:13.323Z"
   },
   {
    "duration": 6,
    "start_time": "2022-02-21T20:18:13.354Z"
   },
   {
    "duration": 25,
    "start_time": "2022-02-21T20:18:13.363Z"
   },
   {
    "duration": 40,
    "start_time": "2022-02-21T20:18:13.391Z"
   },
   {
    "duration": 28,
    "start_time": "2022-02-21T20:18:13.433Z"
   },
   {
    "duration": 80,
    "start_time": "2022-02-21T20:18:13.464Z"
   },
   {
    "duration": 92,
    "start_time": "2022-02-21T20:18:13.547Z"
   },
   {
    "duration": 58,
    "start_time": "2022-02-21T20:18:13.642Z"
   },
   {
    "duration": 19,
    "start_time": "2022-02-21T20:18:13.703Z"
   },
   {
    "duration": 3,
    "start_time": "2022-02-21T20:18:13.724Z"
   },
   {
    "duration": 11,
    "start_time": "2022-02-21T20:18:13.729Z"
   },
   {
    "duration": 311,
    "start_time": "2022-02-21T20:18:13.742Z"
   },
   {
    "duration": 1982,
    "start_time": "2022-02-21T20:18:12.073Z"
   },
   {
    "duration": 1875,
    "start_time": "2022-02-21T20:18:12.182Z"
   },
   {
    "duration": 1848,
    "start_time": "2022-02-21T20:18:12.210Z"
   },
   {
    "duration": 1820,
    "start_time": "2022-02-21T20:18:12.239Z"
   },
   {
    "duration": 1770,
    "start_time": "2022-02-21T20:18:12.290Z"
   },
   {
    "duration": 1743,
    "start_time": "2022-02-21T20:18:12.318Z"
   },
   {
    "duration": 1719,
    "start_time": "2022-02-21T20:18:12.343Z"
   },
   {
    "duration": 1694,
    "start_time": "2022-02-21T20:18:12.369Z"
   },
   {
    "duration": 1643,
    "start_time": "2022-02-21T20:18:12.421Z"
   },
   {
    "duration": 1618,
    "start_time": "2022-02-21T20:18:12.447Z"
   },
   {
    "duration": 1594,
    "start_time": "2022-02-21T20:18:12.472Z"
   },
   {
    "duration": 1567,
    "start_time": "2022-02-21T20:18:12.500Z"
   },
   {
    "duration": 1522,
    "start_time": "2022-02-21T20:18:12.546Z"
   },
   {
    "duration": 1489,
    "start_time": "2022-02-21T20:18:12.580Z"
   },
   {
    "duration": 1464,
    "start_time": "2022-02-21T20:18:12.606Z"
   },
   {
    "duration": 1439,
    "start_time": "2022-02-21T20:18:12.632Z"
   },
   {
    "duration": 1392,
    "start_time": "2022-02-21T20:18:12.680Z"
   },
   {
    "duration": 1364,
    "start_time": "2022-02-21T20:18:12.709Z"
   },
   {
    "duration": 1340,
    "start_time": "2022-02-21T20:18:12.734Z"
   },
   {
    "duration": 1316,
    "start_time": "2022-02-21T20:18:12.760Z"
   },
   {
    "duration": 1267,
    "start_time": "2022-02-21T20:18:12.809Z"
   },
   {
    "duration": 43,
    "start_time": "2022-02-21T20:19:10.940Z"
   },
   {
    "duration": 43,
    "start_time": "2022-02-21T20:20:39.167Z"
   },
   {
    "duration": 642,
    "start_time": "2022-02-21T20:25:40.876Z"
   },
   {
    "duration": 161,
    "start_time": "2022-02-21T20:25:41.520Z"
   },
   {
    "duration": 20,
    "start_time": "2022-02-21T20:25:41.683Z"
   },
   {
    "duration": 39,
    "start_time": "2022-02-21T20:25:41.705Z"
   },
   {
    "duration": 4,
    "start_time": "2022-02-21T20:25:41.746Z"
   },
   {
    "duration": 39,
    "start_time": "2022-02-21T20:25:41.752Z"
   },
   {
    "duration": 10,
    "start_time": "2022-02-21T20:25:41.792Z"
   },
   {
    "duration": 34,
    "start_time": "2022-02-21T20:25:41.805Z"
   },
   {
    "duration": 20,
    "start_time": "2022-02-21T20:25:41.841Z"
   },
   {
    "duration": 25,
    "start_time": "2022-02-21T20:25:41.863Z"
   },
   {
    "duration": 89,
    "start_time": "2022-02-21T20:25:41.891Z"
   },
   {
    "duration": 108,
    "start_time": "2022-02-21T20:25:41.982Z"
   },
   {
    "duration": 65,
    "start_time": "2022-02-21T20:25:42.092Z"
   },
   {
    "duration": 8,
    "start_time": "2022-02-21T20:25:42.158Z"
   },
   {
    "duration": 5,
    "start_time": "2022-02-21T20:25:42.167Z"
   },
   {
    "duration": 14,
    "start_time": "2022-02-21T20:25:42.174Z"
   },
   {
    "duration": 60,
    "start_time": "2022-02-21T20:25:42.190Z"
   },
   {
    "duration": 12,
    "start_time": "2022-02-21T20:25:42.252Z"
   },
   {
    "duration": 10,
    "start_time": "2022-02-21T20:25:42.265Z"
   },
   {
    "duration": 4,
    "start_time": "2022-02-21T20:25:42.276Z"
   },
   {
    "duration": 43,
    "start_time": "2022-02-21T20:25:42.282Z"
   },
   {
    "duration": 18,
    "start_time": "2022-02-21T20:25:42.327Z"
   },
   {
    "duration": 21,
    "start_time": "2022-02-21T20:25:42.349Z"
   },
   {
    "duration": 18,
    "start_time": "2022-02-21T20:25:42.372Z"
   },
   {
    "duration": 45,
    "start_time": "2022-02-21T20:25:42.392Z"
   },
   {
    "duration": 16,
    "start_time": "2022-02-21T20:25:42.439Z"
   },
   {
    "duration": 10,
    "start_time": "2022-02-21T20:25:42.457Z"
   },
   {
    "duration": 13,
    "start_time": "2022-02-21T20:25:42.469Z"
   },
   {
    "duration": 39,
    "start_time": "2022-02-21T20:25:42.484Z"
   },
   {
    "duration": 4,
    "start_time": "2022-02-21T20:25:42.525Z"
   },
   {
    "duration": 24,
    "start_time": "2022-02-21T20:25:42.531Z"
   },
   {
    "duration": 13,
    "start_time": "2022-02-21T20:25:42.557Z"
   },
   {
    "duration": 48,
    "start_time": "2022-02-21T20:25:42.571Z"
   },
   {
    "duration": 17,
    "start_time": "2022-02-21T20:25:42.622Z"
   },
   {
    "duration": 8,
    "start_time": "2022-02-21T20:25:42.640Z"
   },
   {
    "duration": 5,
    "start_time": "2022-02-21T20:25:42.650Z"
   },
   {
    "duration": 12,
    "start_time": "2022-02-21T20:25:42.656Z"
   },
   {
    "duration": 5,
    "start_time": "2022-02-21T20:25:42.670Z"
   },
   {
    "duration": 3,
    "start_time": "2022-02-27T13:29:24.065Z"
   },
   {
    "duration": 315,
    "start_time": "2022-02-27T13:29:34.149Z"
   },
   {
    "duration": 341,
    "start_time": "2022-02-27T13:30:13.726Z"
   },
   {
    "duration": 569,
    "start_time": "2022-02-27T13:30:46.507Z"
   },
   {
    "duration": 140,
    "start_time": "2022-02-27T13:30:47.079Z"
   },
   {
    "duration": 21,
    "start_time": "2022-02-27T13:30:47.221Z"
   },
   {
    "duration": 24,
    "start_time": "2022-02-27T13:30:47.244Z"
   },
   {
    "duration": 3,
    "start_time": "2022-02-27T13:30:47.270Z"
   },
   {
    "duration": 22,
    "start_time": "2022-02-27T13:30:47.275Z"
   },
   {
    "duration": 7,
    "start_time": "2022-02-27T13:30:47.299Z"
   },
   {
    "duration": 22,
    "start_time": "2022-02-27T13:30:47.333Z"
   },
   {
    "duration": 17,
    "start_time": "2022-02-27T13:30:47.358Z"
   },
   {
    "duration": 22,
    "start_time": "2022-02-27T13:30:47.377Z"
   },
   {
    "duration": 76,
    "start_time": "2022-02-27T13:30:47.400Z"
   },
   {
    "duration": 77,
    "start_time": "2022-02-27T13:30:47.477Z"
   },
   {
    "duration": 50,
    "start_time": "2022-02-27T13:30:47.555Z"
   },
   {
    "duration": 6,
    "start_time": "2022-02-27T13:30:47.607Z"
   },
   {
    "duration": 18,
    "start_time": "2022-02-27T13:30:47.615Z"
   },
   {
    "duration": 9,
    "start_time": "2022-02-27T13:30:47.635Z"
   },
   {
    "duration": 41,
    "start_time": "2022-02-27T13:30:47.646Z"
   },
   {
    "duration": 13,
    "start_time": "2022-02-27T13:30:47.688Z"
   },
   {
    "duration": 38,
    "start_time": "2022-02-27T13:30:47.703Z"
   },
   {
    "duration": 3,
    "start_time": "2022-02-27T13:30:47.743Z"
   },
   {
    "duration": 23,
    "start_time": "2022-02-27T13:30:47.748Z"
   },
   {
    "duration": 16,
    "start_time": "2022-02-27T13:30:47.772Z"
   },
   {
    "duration": 42,
    "start_time": "2022-02-27T13:30:47.792Z"
   },
   {
    "duration": 14,
    "start_time": "2022-02-27T13:30:47.837Z"
   },
   {
    "duration": 16,
    "start_time": "2022-02-27T13:30:47.853Z"
   },
   {
    "duration": 13,
    "start_time": "2022-02-27T13:30:47.871Z"
   },
   {
    "duration": 8,
    "start_time": "2022-02-27T13:30:47.885Z"
   },
   {
    "duration": 46,
    "start_time": "2022-02-27T13:30:47.895Z"
   },
   {
    "duration": 10,
    "start_time": "2022-02-27T13:30:47.943Z"
   },
   {
    "duration": 6,
    "start_time": "2022-02-27T13:30:47.955Z"
   },
   {
    "duration": 23,
    "start_time": "2022-02-27T13:30:47.962Z"
   },
   {
    "duration": 13,
    "start_time": "2022-02-27T13:30:47.987Z"
   },
   {
    "duration": 37,
    "start_time": "2022-02-27T13:30:48.001Z"
   },
   {
    "duration": 12,
    "start_time": "2022-02-27T13:30:48.040Z"
   },
   {
    "duration": 8,
    "start_time": "2022-02-27T13:30:48.053Z"
   },
   {
    "duration": 5,
    "start_time": "2022-02-27T13:30:48.063Z"
   },
   {
    "duration": 11,
    "start_time": "2022-02-27T13:30:48.069Z"
   },
   {
    "duration": 6,
    "start_time": "2022-02-27T13:30:48.082Z"
   },
   {
    "duration": 4,
    "start_time": "2022-02-27T13:33:41.408Z"
   },
   {
    "duration": 553,
    "start_time": "2022-02-27T13:33:52.223Z"
   },
   {
    "duration": 129,
    "start_time": "2022-02-27T13:33:52.781Z"
   },
   {
    "duration": 22,
    "start_time": "2022-02-27T13:33:52.912Z"
   },
   {
    "duration": 23,
    "start_time": "2022-02-27T13:33:52.936Z"
   },
   {
    "duration": 4,
    "start_time": "2022-02-27T13:33:52.961Z"
   },
   {
    "duration": 22,
    "start_time": "2022-02-27T13:33:52.967Z"
   },
   {
    "duration": 5,
    "start_time": "2022-02-27T13:33:52.991Z"
   },
   {
    "duration": 51,
    "start_time": "2022-02-27T13:33:52.998Z"
   },
   {
    "duration": 17,
    "start_time": "2022-02-27T13:33:53.050Z"
   },
   {
    "duration": 21,
    "start_time": "2022-02-27T13:33:53.069Z"
   },
   {
    "duration": 74,
    "start_time": "2022-02-27T13:33:53.091Z"
   },
   {
    "duration": 71,
    "start_time": "2022-02-27T13:33:53.167Z"
   },
   {
    "duration": 47,
    "start_time": "2022-02-27T13:33:53.239Z"
   },
   {
    "duration": 5,
    "start_time": "2022-02-27T13:33:53.288Z"
   },
   {
    "duration": 3,
    "start_time": "2022-02-27T13:33:53.294Z"
   },
   {
    "duration": 9,
    "start_time": "2022-02-27T13:33:53.299Z"
   },
   {
    "duration": 39,
    "start_time": "2022-02-27T13:33:53.333Z"
   },
   {
    "duration": 12,
    "start_time": "2022-02-27T13:33:53.374Z"
   },
   {
    "duration": 10,
    "start_time": "2022-02-27T13:33:53.388Z"
   },
   {
    "duration": 33,
    "start_time": "2022-02-27T13:33:53.400Z"
   },
   {
    "duration": 18,
    "start_time": "2022-02-27T13:33:53.435Z"
   },
   {
    "duration": 14,
    "start_time": "2022-02-27T13:33:53.457Z"
   },
   {
    "duration": 15,
    "start_time": "2022-02-27T13:33:53.474Z"
   },
   {
    "duration": 13,
    "start_time": "2022-02-27T13:33:53.490Z"
   },
   {
    "duration": 16,
    "start_time": "2022-02-27T13:33:53.533Z"
   },
   {
    "duration": 13,
    "start_time": "2022-02-27T13:33:53.550Z"
   },
   {
    "duration": 8,
    "start_time": "2022-02-27T13:33:53.565Z"
   },
   {
    "duration": 11,
    "start_time": "2022-02-27T13:33:53.574Z"
   },
   {
    "duration": 8,
    "start_time": "2022-02-27T13:33:53.587Z"
   },
   {
    "duration": 3,
    "start_time": "2022-02-27T13:33:53.597Z"
   },
   {
    "duration": 17,
    "start_time": "2022-02-27T13:33:53.633Z"
   },
   {
    "duration": 11,
    "start_time": "2022-02-27T13:33:53.652Z"
   },
   {
    "duration": 17,
    "start_time": "2022-02-27T13:33:53.665Z"
   },
   {
    "duration": 12,
    "start_time": "2022-02-27T13:33:53.684Z"
   },
   {
    "duration": 42,
    "start_time": "2022-02-27T13:33:53.697Z"
   },
   {
    "duration": 5,
    "start_time": "2022-02-27T13:33:53.741Z"
   },
   {
    "duration": 7,
    "start_time": "2022-02-27T13:33:53.747Z"
   },
   {
    "duration": 4,
    "start_time": "2022-02-27T13:33:53.756Z"
   },
   {
    "duration": 38,
    "start_time": "2022-02-27T13:37:04.431Z"
   },
   {
    "duration": 8,
    "start_time": "2022-02-27T13:37:31.750Z"
   },
   {
    "duration": 38,
    "start_time": "2022-02-27T13:42:33.840Z"
   },
   {
    "duration": 10,
    "start_time": "2022-02-27T13:43:14.479Z"
   },
   {
    "duration": 10,
    "start_time": "2022-02-27T13:44:13.787Z"
   },
   {
    "duration": 51,
    "start_time": "2022-02-27T13:45:20.142Z"
   },
   {
    "duration": 4,
    "start_time": "2022-02-27T13:45:37.800Z"
   },
   {
    "duration": 578,
    "start_time": "2022-02-27T13:48:13.536Z"
   },
   {
    "duration": 143,
    "start_time": "2022-02-27T13:48:14.116Z"
   },
   {
    "duration": 15,
    "start_time": "2022-02-27T13:48:14.263Z"
   },
   {
    "duration": 22,
    "start_time": "2022-02-27T13:48:14.279Z"
   },
   {
    "duration": 3,
    "start_time": "2022-02-27T13:48:14.303Z"
   },
   {
    "duration": 45,
    "start_time": "2022-02-27T13:48:14.308Z"
   },
   {
    "duration": 3,
    "start_time": "2022-02-27T13:48:14.355Z"
   },
   {
    "duration": 35,
    "start_time": "2022-02-27T13:48:14.361Z"
   },
   {
    "duration": 17,
    "start_time": "2022-02-27T13:48:14.397Z"
   },
   {
    "duration": 42,
    "start_time": "2022-02-27T13:48:14.416Z"
   },
   {
    "duration": 54,
    "start_time": "2022-02-27T13:48:14.459Z"
   },
   {
    "duration": 88,
    "start_time": "2022-02-27T13:48:14.515Z"
   },
   {
    "duration": 59,
    "start_time": "2022-02-27T13:48:14.604Z"
   },
   {
    "duration": 5,
    "start_time": "2022-02-27T13:48:14.665Z"
   },
   {
    "duration": 3,
    "start_time": "2022-02-27T13:48:14.672Z"
   },
   {
    "duration": 14,
    "start_time": "2022-02-27T13:48:14.676Z"
   },
   {
    "duration": 56,
    "start_time": "2022-02-27T13:48:14.691Z"
   },
   {
    "duration": 12,
    "start_time": "2022-02-27T13:48:14.748Z"
   },
   {
    "duration": 10,
    "start_time": "2022-02-27T13:48:14.762Z"
   },
   {
    "duration": 11,
    "start_time": "2022-02-27T13:48:14.773Z"
   },
   {
    "duration": 24,
    "start_time": "2022-02-27T13:48:14.786Z"
   },
   {
    "duration": 26,
    "start_time": "2022-02-27T13:48:14.813Z"
   },
   {
    "duration": 14,
    "start_time": "2022-02-27T13:48:14.841Z"
   },
   {
    "duration": 13,
    "start_time": "2022-02-27T13:48:14.857Z"
   },
   {
    "duration": 15,
    "start_time": "2022-02-27T13:48:14.872Z"
   },
   {
    "duration": 46,
    "start_time": "2022-02-27T13:48:14.888Z"
   },
   {
    "duration": 8,
    "start_time": "2022-02-27T13:48:14.936Z"
   },
   {
    "duration": 13,
    "start_time": "2022-02-27T13:48:14.945Z"
   },
   {
    "duration": 8,
    "start_time": "2022-02-27T13:48:14.959Z"
   },
   {
    "duration": 4,
    "start_time": "2022-02-27T13:48:14.969Z"
   },
   {
    "duration": 20,
    "start_time": "2022-02-27T13:48:14.974Z"
   },
   {
    "duration": 14,
    "start_time": "2022-02-27T13:48:15.032Z"
   },
   {
    "duration": 18,
    "start_time": "2022-02-27T13:48:15.048Z"
   },
   {
    "duration": 12,
    "start_time": "2022-02-27T13:48:15.068Z"
   },
   {
    "duration": 7,
    "start_time": "2022-02-27T13:48:15.082Z"
   },
   {
    "duration": 43,
    "start_time": "2022-02-27T13:48:15.091Z"
   },
   {
    "duration": 7,
    "start_time": "2022-02-27T13:48:15.135Z"
   },
   {
    "duration": 4,
    "start_time": "2022-02-27T13:48:15.143Z"
   },
   {
    "duration": 437,
    "start_time": "2022-10-27T10:35:26.910Z"
   },
   {
    "duration": 211,
    "start_time": "2022-10-27T10:35:27.349Z"
   },
   {
    "duration": 15,
    "start_time": "2022-10-27T10:35:27.562Z"
   },
   {
    "duration": 30,
    "start_time": "2022-10-27T10:35:27.580Z"
   },
   {
    "duration": 4,
    "start_time": "2022-10-27T10:35:27.612Z"
   },
   {
    "duration": 19,
    "start_time": "2022-10-27T10:35:27.617Z"
   },
   {
    "duration": 10,
    "start_time": "2022-10-27T10:35:27.637Z"
   },
   {
    "duration": 49,
    "start_time": "2022-10-27T10:35:27.648Z"
   },
   {
    "duration": 27,
    "start_time": "2022-10-27T10:35:27.699Z"
   },
   {
    "duration": 29,
    "start_time": "2022-10-27T10:35:27.728Z"
   },
   {
    "duration": 64,
    "start_time": "2022-10-27T10:35:27.758Z"
   },
   {
    "duration": 74,
    "start_time": "2022-10-27T10:35:27.823Z"
   },
   {
    "duration": 66,
    "start_time": "2022-10-27T10:35:27.899Z"
   },
   {
    "duration": 7,
    "start_time": "2022-10-27T10:35:27.967Z"
   },
   {
    "duration": 11,
    "start_time": "2022-10-27T10:35:27.975Z"
   },
   {
    "duration": 15,
    "start_time": "2022-10-27T10:35:27.988Z"
   },
   {
    "duration": 50,
    "start_time": "2022-10-27T10:35:28.005Z"
   },
   {
    "duration": 11,
    "start_time": "2022-10-27T10:35:28.056Z"
   },
   {
    "duration": 18,
    "start_time": "2022-10-27T10:35:28.069Z"
   },
   {
    "duration": 3,
    "start_time": "2022-10-27T10:35:28.089Z"
   },
   {
    "duration": 29,
    "start_time": "2022-10-27T10:35:28.093Z"
   },
   {
    "duration": 29,
    "start_time": "2022-10-27T10:35:28.123Z"
   },
   {
    "duration": 24,
    "start_time": "2022-10-27T10:35:28.154Z"
   },
   {
    "duration": 18,
    "start_time": "2022-10-27T10:35:28.179Z"
   },
   {
    "duration": 16,
    "start_time": "2022-10-27T10:35:28.199Z"
   },
   {
    "duration": 24,
    "start_time": "2022-10-27T10:35:28.217Z"
   },
   {
    "duration": 8,
    "start_time": "2022-10-27T10:35:28.243Z"
   },
   {
    "duration": 12,
    "start_time": "2022-10-27T10:35:28.254Z"
   },
   {
    "duration": 10,
    "start_time": "2022-10-27T10:35:28.268Z"
   },
   {
    "duration": 5,
    "start_time": "2022-10-27T10:35:28.280Z"
   },
   {
    "duration": 48,
    "start_time": "2022-10-27T10:35:28.286Z"
   },
   {
    "duration": 10,
    "start_time": "2022-10-27T10:35:28.336Z"
   },
   {
    "duration": 19,
    "start_time": "2022-10-27T10:35:28.347Z"
   },
   {
    "duration": 9,
    "start_time": "2022-10-27T10:35:28.368Z"
   },
   {
    "duration": 12,
    "start_time": "2022-10-27T10:35:28.379Z"
   },
   {
    "duration": 10,
    "start_time": "2022-10-27T10:35:28.393Z"
   },
   {
    "duration": 10,
    "start_time": "2022-10-27T10:35:28.405Z"
   },
   {
    "duration": 19,
    "start_time": "2022-10-27T10:35:28.417Z"
   }
  ],
  "colab": {
   "collapsed_sections": [
    "E0vqbgi9ay0H",
    "VUC88oWjTJw2"
   ],
   "name": "yandex_music_project_2021.2.ipynb",
   "provenance": []
  },
  "kernelspec": {
   "display_name": "Python 3 (ipykernel)",
   "language": "python",
   "name": "python3"
  },
  "language_info": {
   "codemirror_mode": {
    "name": "ipython",
    "version": 3
   },
   "file_extension": ".py",
   "mimetype": "text/x-python",
   "name": "python",
   "nbconvert_exporter": "python",
   "pygments_lexer": "ipython3",
   "version": "3.9.13"
  },
  "toc": {
   "base_numbering": 1,
   "nav_menu": {},
   "number_sections": true,
   "sideBar": true,
   "skip_h1_title": true,
   "title_cell": "Table of Contents",
   "title_sidebar": "Contents",
   "toc_cell": false,
   "toc_position": {
    "height": "calc(100% - 180px)",
    "left": "10px",
    "top": "150px",
    "width": "358.391px"
   },
   "toc_section_display": true,
   "toc_window_display": false
  }
 },
 "nbformat": 4,
 "nbformat_minor": 1
}
