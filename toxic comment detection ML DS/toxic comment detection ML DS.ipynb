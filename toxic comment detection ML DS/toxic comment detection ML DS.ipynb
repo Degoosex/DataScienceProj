{
 "cells": [
  {
   "cell_type": "markdown",
   "metadata": {
    "toc": true
   },
   "source": [
    "<h1>Содержание<span class=\"tocSkip\"></span></h1>\n",
    "<div class=\"toc\"><ul class=\"toc-item\"><li><span><a href=\"#Подготовка\" data-toc-modified-id=\"Подготовка-1\"><span class=\"toc-item-num\">1&nbsp;&nbsp;</span>Подготовка</a></span></li><li><span><a href=\"#Обучение\" data-toc-modified-id=\"Обучение-2\"><span class=\"toc-item-num\">2&nbsp;&nbsp;</span>Обучение</a></span><ul class=\"toc-item\"><li><span><a href=\"#Логистическая-регрессия\" data-toc-modified-id=\"Логистическая-регрессия-2.1\"><span class=\"toc-item-num\">2.1&nbsp;&nbsp;</span>Логистическая регрессия</a></span></li><li><span><a href=\"#Случайный-лес\" data-toc-modified-id=\"Случайный-лес-2.2\"><span class=\"toc-item-num\">2.2&nbsp;&nbsp;</span>Случайный лес</a></span></li><li><span><a href=\"#CatBoost\" data-toc-modified-id=\"CatBoost-2.3\"><span class=\"toc-item-num\">2.3&nbsp;&nbsp;</span>CatBoost</a></span></li></ul></li><li><span><a href=\"#Выводы\" data-toc-modified-id=\"Выводы-3\"><span class=\"toc-item-num\">3&nbsp;&nbsp;</span>Выводы</a></span></li><li><span><a href=\"#Чек-лист-проверки\" data-toc-modified-id=\"Чек-лист-проверки-4\"><span class=\"toc-item-num\">4&nbsp;&nbsp;</span>Чек-лист проверки</a></span></li></ul></div>"
   ]
  },
  {
   "cell_type": "markdown",
   "metadata": {},
   "source": [
    "# Проект для «Викишоп»"
   ]
  },
  {
   "cell_type": "markdown",
   "metadata": {},
   "source": [
    "Интернет-магазин «Викишоп» запускает новый сервис. Теперь пользователи могут редактировать и дополнять описания товаров, как в вики-сообществах. То есть клиенты предлагают свои правки и комментируют изменения других. Магазину нужен инструмент, который будет искать токсичные комментарии и отправлять их на модерацию. \n",
    "\n",
    "Задача построить модель со значением метрики качества *F1* не меньше 0.75. \n",
    "\n",
    "**Инструкция по выполнению проекта**\n",
    "\n",
    "1. Загрузите и подготовьте данные.\n",
    "2. Обучите разные модели. \n",
    "3. Сделайте выводы.\n",
    "\n",
    "\n",
    "**Описание данных**\n",
    "\n",
    "Данные находятся в файле `toxic_comments.csv`. Столбец *text* в нём содержит текст комментария, а *toxic* — целевой признак."
   ]
  },
  {
   "cell_type": "markdown",
   "metadata": {},
   "source": [
    "## Подготовка"
   ]
  },
  {
   "cell_type": "markdown",
   "metadata": {},
   "source": [
    "Импортируем сразу библиотеки, которые пригодятся нам в этом проекте:"
   ]
  },
  {
   "cell_type": "code",
   "execution_count": 1,
   "metadata": {
    "scrolled": true
   },
   "outputs": [
    {
     "name": "stderr",
     "output_type": "stream",
     "text": [
      "[nltk_data] Downloading package wordnet to /home/jovyan/nltk_data...\n",
      "[nltk_data]   Package wordnet is already up-to-date!\n"
     ]
    }
   ],
   "source": [
    "import pandas as pd\n",
    "import numpy as np\n",
    "import torch\n",
    "import re\n",
    "\n",
    "from sklearn.feature_extraction.text import TfidfVectorizer\n",
    "from sklearn.linear_model import LogisticRegression\n",
    "from sklearn.model_selection import cross_val_score, train_test_split, RandomizedSearchCV, GridSearchCV\n",
    "from sklearn.ensemble import RandomForestClassifier\n",
    "from sklearn.metrics import f1_score, confusion_matrix\n",
    "\n",
    "from catboost import CatBoostClassifier\n",
    "\n",
    "import nltk\n",
    "from nltk.corpus import stopwords as nltk_stopwords\n",
    "nltk.download('wordnet')\n",
    "from nltk.stem import WordNetLemmatizer\n",
    "\n",
    "pd.options.display.float_format = '{:,.2f}'.format\n",
    "pd.options.mode.chained_assignment = None"
   ]
  },
  {
   "cell_type": "code",
   "execution_count": 2,
   "metadata": {},
   "outputs": [],
   "source": [
    "import spacy"
   ]
  },
  {
   "cell_type": "markdown",
   "metadata": {},
   "source": [
    "Импортируем датасет и посмотрим:"
   ]
  },
  {
   "cell_type": "code",
   "execution_count": 3,
   "metadata": {},
   "outputs": [],
   "source": [
    "df = pd.read_csv('/datasets/toxic_comments.csv')"
   ]
  },
  {
   "cell_type": "code",
   "execution_count": 4,
   "metadata": {
    "scrolled": true
   },
   "outputs": [
    {
     "data": {
      "text/html": [
       "<div>\n",
       "<style scoped>\n",
       "    .dataframe tbody tr th:only-of-type {\n",
       "        vertical-align: middle;\n",
       "    }\n",
       "\n",
       "    .dataframe tbody tr th {\n",
       "        vertical-align: top;\n",
       "    }\n",
       "\n",
       "    .dataframe thead th {\n",
       "        text-align: right;\n",
       "    }\n",
       "</style>\n",
       "<table border=\"1\" class=\"dataframe\">\n",
       "  <thead>\n",
       "    <tr style=\"text-align: right;\">\n",
       "      <th></th>\n",
       "      <th>Unnamed: 0</th>\n",
       "      <th>text</th>\n",
       "      <th>toxic</th>\n",
       "    </tr>\n",
       "  </thead>\n",
       "  <tbody>\n",
       "    <tr>\n",
       "      <th>0</th>\n",
       "      <td>0</td>\n",
       "      <td>Explanation\\nWhy the edits made under my usern...</td>\n",
       "      <td>0</td>\n",
       "    </tr>\n",
       "    <tr>\n",
       "      <th>1</th>\n",
       "      <td>1</td>\n",
       "      <td>D'aww! He matches this background colour I'm s...</td>\n",
       "      <td>0</td>\n",
       "    </tr>\n",
       "    <tr>\n",
       "      <th>2</th>\n",
       "      <td>2</td>\n",
       "      <td>Hey man, I'm really not trying to edit war. It...</td>\n",
       "      <td>0</td>\n",
       "    </tr>\n",
       "    <tr>\n",
       "      <th>3</th>\n",
       "      <td>3</td>\n",
       "      <td>\"\\nMore\\nI can't make any real suggestions on ...</td>\n",
       "      <td>0</td>\n",
       "    </tr>\n",
       "    <tr>\n",
       "      <th>4</th>\n",
       "      <td>4</td>\n",
       "      <td>You, sir, are my hero. Any chance you remember...</td>\n",
       "      <td>0</td>\n",
       "    </tr>\n",
       "    <tr>\n",
       "      <th>...</th>\n",
       "      <td>...</td>\n",
       "      <td>...</td>\n",
       "      <td>...</td>\n",
       "    </tr>\n",
       "    <tr>\n",
       "      <th>159287</th>\n",
       "      <td>159446</td>\n",
       "      <td>\":::::And for the second time of asking, when ...</td>\n",
       "      <td>0</td>\n",
       "    </tr>\n",
       "    <tr>\n",
       "      <th>159288</th>\n",
       "      <td>159447</td>\n",
       "      <td>You should be ashamed of yourself \\n\\nThat is ...</td>\n",
       "      <td>0</td>\n",
       "    </tr>\n",
       "    <tr>\n",
       "      <th>159289</th>\n",
       "      <td>159448</td>\n",
       "      <td>Spitzer \\n\\nUmm, theres no actual article for ...</td>\n",
       "      <td>0</td>\n",
       "    </tr>\n",
       "    <tr>\n",
       "      <th>159290</th>\n",
       "      <td>159449</td>\n",
       "      <td>And it looks like it was actually you who put ...</td>\n",
       "      <td>0</td>\n",
       "    </tr>\n",
       "    <tr>\n",
       "      <th>159291</th>\n",
       "      <td>159450</td>\n",
       "      <td>\"\\nAnd ... I really don't think you understand...</td>\n",
       "      <td>0</td>\n",
       "    </tr>\n",
       "  </tbody>\n",
       "</table>\n",
       "<p>159292 rows × 3 columns</p>\n",
       "</div>"
      ],
      "text/plain": [
       "        Unnamed: 0                                               text  toxic\n",
       "0                0  Explanation\\nWhy the edits made under my usern...      0\n",
       "1                1  D'aww! He matches this background colour I'm s...      0\n",
       "2                2  Hey man, I'm really not trying to edit war. It...      0\n",
       "3                3  \"\\nMore\\nI can't make any real suggestions on ...      0\n",
       "4                4  You, sir, are my hero. Any chance you remember...      0\n",
       "...            ...                                                ...    ...\n",
       "159287      159446  \":::::And for the second time of asking, when ...      0\n",
       "159288      159447  You should be ashamed of yourself \\n\\nThat is ...      0\n",
       "159289      159448  Spitzer \\n\\nUmm, theres no actual article for ...      0\n",
       "159290      159449  And it looks like it was actually you who put ...      0\n",
       "159291      159450  \"\\nAnd ... I really don't think you understand...      0\n",
       "\n",
       "[159292 rows x 3 columns]"
      ]
     },
     "execution_count": 4,
     "metadata": {},
     "output_type": "execute_result"
    }
   ],
   "source": [
    "df"
   ]
  },
  {
   "cell_type": "code",
   "execution_count": 5,
   "metadata": {},
   "outputs": [
    {
     "data": {
      "text/plain": [
       "0    143106\n",
       "1     16186\n",
       "Name: toxic, dtype: int64"
      ]
     },
     "execution_count": 5,
     "metadata": {},
     "output_type": "execute_result"
    }
   ],
   "source": [
    "df['toxic'].value_counts()"
   ]
  },
  {
   "cell_type": "markdown",
   "metadata": {},
   "source": [
    "Столбец 'toxic' состоит из двух значений, но мы видим, что 0 в разы больше чем 1 и нам нужно отбалансировать датасет, чтобы модель могла правильно воспринимать все ответы. На данном этапе отделим нашу обучающую и тестовую выборки и сбалансируем."
   ]
  },
  {
   "cell_type": "code",
   "execution_count": 6,
   "metadata": {},
   "outputs": [],
   "source": [
    "train, test_balanced = train_test_split(df, test_size = 0.1, random_state=55)"
   ]
  },
  {
   "cell_type": "code",
   "execution_count": 7,
   "metadata": {},
   "outputs": [
    {
     "data": {
      "text/plain": [
       "0    128785\n",
       "1     14577\n",
       "Name: toxic, dtype: int64"
      ]
     },
     "execution_count": 7,
     "metadata": {},
     "output_type": "execute_result"
    }
   ],
   "source": [
    "train['toxic'].value_counts()"
   ]
  },
  {
   "cell_type": "code",
   "execution_count": 8,
   "metadata": {
    "scrolled": true
   },
   "outputs": [
    {
     "data": {
      "text/html": [
       "<div>\n",
       "<style scoped>\n",
       "    .dataframe tbody tr th:only-of-type {\n",
       "        vertical-align: middle;\n",
       "    }\n",
       "\n",
       "    .dataframe tbody tr th {\n",
       "        vertical-align: top;\n",
       "    }\n",
       "\n",
       "    .dataframe thead th {\n",
       "        text-align: right;\n",
       "    }\n",
       "</style>\n",
       "<table border=\"1\" class=\"dataframe\">\n",
       "  <thead>\n",
       "    <tr style=\"text-align: right;\">\n",
       "      <th></th>\n",
       "      <th>Unnamed: 0</th>\n",
       "      <th>text</th>\n",
       "      <th>toxic</th>\n",
       "    </tr>\n",
       "  </thead>\n",
       "  <tbody>\n",
       "    <tr>\n",
       "      <th>0</th>\n",
       "      <td>3370</td>\n",
       "      <td>Fraggle81 ==\\nI can just make new accounts eve...</td>\n",
       "      <td>1</td>\n",
       "    </tr>\n",
       "    <tr>\n",
       "      <th>1</th>\n",
       "      <td>37745</td>\n",
       "      <td>Deletion review\\nI have posted your comment he...</td>\n",
       "      <td>0</td>\n",
       "    </tr>\n",
       "    <tr>\n",
       "      <th>2</th>\n",
       "      <td>106029</td>\n",
       "      <td>It has ceased to be active, but it is still a ...</td>\n",
       "      <td>0</td>\n",
       "    </tr>\n",
       "    <tr>\n",
       "      <th>3</th>\n",
       "      <td>41056</td>\n",
       "      <td>WOW! I cannot believe that you found a link ex...</td>\n",
       "      <td>0</td>\n",
       "    </tr>\n",
       "    <tr>\n",
       "      <th>4</th>\n",
       "      <td>28314</td>\n",
       "      <td>Thanks for fixing the hovercraft definition</td>\n",
       "      <td>0</td>\n",
       "    </tr>\n",
       "    <tr>\n",
       "      <th>...</th>\n",
       "      <td>...</td>\n",
       "      <td>...</td>\n",
       "      <td>...</td>\n",
       "    </tr>\n",
       "    <tr>\n",
       "      <th>36437</th>\n",
       "      <td>58313</td>\n",
       "      <td>\"Wikipedia's article on Sanchez is a sick joke...</td>\n",
       "      <td>1</td>\n",
       "    </tr>\n",
       "    <tr>\n",
       "      <th>36438</th>\n",
       "      <td>5739</td>\n",
       "      <td>\"\\n\\n The less offensive term of equal clarity...</td>\n",
       "      <td>0</td>\n",
       "    </tr>\n",
       "    <tr>\n",
       "      <th>36439</th>\n",
       "      <td>108542</td>\n",
       "      <td>Get out of America. We don't want another supr...</td>\n",
       "      <td>1</td>\n",
       "    </tr>\n",
       "    <tr>\n",
       "      <th>36440</th>\n",
       "      <td>46573</td>\n",
       "      <td>\"\\nI'm sorry if my post read as an attack. I w...</td>\n",
       "      <td>0</td>\n",
       "    </tr>\n",
       "    <tr>\n",
       "      <th>36441</th>\n",
       "      <td>18680</td>\n",
       "      <td>a year or more since I use other ones haha stu...</td>\n",
       "      <td>1</td>\n",
       "    </tr>\n",
       "  </tbody>\n",
       "</table>\n",
       "<p>36442 rows × 3 columns</p>\n",
       "</div>"
      ],
      "text/plain": [
       "       Unnamed: 0                                               text  toxic\n",
       "0            3370  Fraggle81 ==\\nI can just make new accounts eve...      1\n",
       "1           37745  Deletion review\\nI have posted your comment he...      0\n",
       "2          106029  It has ceased to be active, but it is still a ...      0\n",
       "3           41056  WOW! I cannot believe that you found a link ex...      0\n",
       "4           28314        Thanks for fixing the hovercraft definition      0\n",
       "...           ...                                                ...    ...\n",
       "36437       58313  \"Wikipedia's article on Sanchez is a sick joke...      1\n",
       "36438        5739  \"\\n\\n The less offensive term of equal clarity...      0\n",
       "36439      108542  Get out of America. We don't want another supr...      1\n",
       "36440       46573  \"\\nI'm sorry if my post read as an attack. I w...      0\n",
       "36441       18680  a year or more since I use other ones haha stu...      1\n",
       "\n",
       "[36442 rows x 3 columns]"
      ]
     },
     "execution_count": 8,
     "metadata": {},
     "output_type": "execute_result"
    }
   ],
   "source": [
    "toxic = train.loc[df['toxic'] == 1]\n",
    "df_zero = train.loc[df['toxic'] == 0].iloc[:21865]\n",
    "df_balanced = toxic.append(df_zero)\n",
    "df_balanced.sample(frac=1).reset_index(drop=True)"
   ]
  },
  {
   "cell_type": "code",
   "execution_count": 9,
   "metadata": {},
   "outputs": [
    {
     "data": {
      "text/plain": [
       "0    21865\n",
       "1    14577\n",
       "Name: toxic, dtype: int64"
      ]
     },
     "execution_count": 9,
     "metadata": {},
     "output_type": "execute_result"
    }
   ],
   "source": [
    "df_balanced['toxic'].value_counts()"
   ]
  },
  {
   "cell_type": "code",
   "execution_count": 10,
   "metadata": {},
   "outputs": [
    {
     "data": {
      "text/plain": [
       "0    14321\n",
       "1     1609\n",
       "Name: toxic, dtype: int64"
      ]
     },
     "execution_count": 10,
     "metadata": {},
     "output_type": "execute_result"
    }
   ],
   "source": [
    "test_balanced['toxic'].value_counts()"
   ]
  },
  {
   "cell_type": "markdown",
   "metadata": {},
   "source": [
    "В итоговый датасет на котором будет происходить обучение мы выделели 16225 строк с ответом 1 и столько же с ответом 0, чтобы у нас получилось ровно 1:1. Далее обработаем текст: токенизируем и лемматизируем."
   ]
  },
  {
   "cell_type": "code",
   "execution_count": 11,
   "metadata": {},
   "outputs": [],
   "source": [
    "# функция для очистки текста от знаков препинания\n",
    "def clear_text(text):\n",
    "    t = re.sub(r'[^a-zA-Z]', ' ', text)\n",
    "    clear = ' '.join(t.split())\n",
    "    return t"
   ]
  },
  {
   "cell_type": "code",
   "execution_count": 12,
   "metadata": {},
   "outputs": [],
   "source": [
    "nlp = spacy.load('en_core_web_sm', disable=['parser', 'ner'])"
   ]
  },
  {
   "cell_type": "code",
   "execution_count": 13,
   "metadata": {},
   "outputs": [],
   "source": [
    "def lemmatizer_nlp(text):\n",
    "    doc = nlp(text)\n",
    "    return ' '.join([token.lemma_ for token in doc])"
   ]
  },
  {
   "cell_type": "code",
   "execution_count": 14,
   "metadata": {},
   "outputs": [
    {
     "name": "stdout",
     "output_type": "stream",
     "text": [
      "CPU times: user 3min 25s, sys: 4.05 s, total: 3min 29s\n",
      "Wall time: 3min 29s\n"
     ]
    }
   ],
   "source": [
    "%%time\n",
    "# применяем сначала очистку текста, затем лемматизацию\n",
    "df_balanced['text'] = df_balanced['text'].str.lower()\n",
    "df_balanced['lemma_text'] = df_balanced['text'].apply(clear_text)\n",
    "df_balanced['lemma_text'] = df_balanced['lemma_text'].apply(lemmatizer_nlp)"
   ]
  },
  {
   "cell_type": "code",
   "execution_count": 15,
   "metadata": {},
   "outputs": [
    {
     "name": "stdout",
     "output_type": "stream",
     "text": [
      "CPU times: user 1min 31s, sys: 1.4 s, total: 1min 32s\n",
      "Wall time: 1min 32s\n"
     ]
    }
   ],
   "source": [
    "%%time\n",
    "test_balanced['text'] = test_balanced['text'].str.lower()\n",
    "test_balanced['lemma_text'] = test_balanced['text'].apply(clear_text)\n",
    "test_balanced['lemma_text'] = test_balanced['lemma_text'].apply(lemmatizer_nlp)"
   ]
  },
  {
   "cell_type": "code",
   "execution_count": 16,
   "metadata": {},
   "outputs": [
    {
     "data": {
      "text/html": [
       "<div>\n",
       "<style scoped>\n",
       "    .dataframe tbody tr th:only-of-type {\n",
       "        vertical-align: middle;\n",
       "    }\n",
       "\n",
       "    .dataframe tbody tr th {\n",
       "        vertical-align: top;\n",
       "    }\n",
       "\n",
       "    .dataframe thead th {\n",
       "        text-align: right;\n",
       "    }\n",
       "</style>\n",
       "<table border=\"1\" class=\"dataframe\">\n",
       "  <thead>\n",
       "    <tr style=\"text-align: right;\">\n",
       "      <th></th>\n",
       "      <th>Unnamed: 0</th>\n",
       "      <th>text</th>\n",
       "      <th>toxic</th>\n",
       "      <th>lemma_text</th>\n",
       "    </tr>\n",
       "  </thead>\n",
       "  <tbody>\n",
       "    <tr>\n",
       "      <th>116601</th>\n",
       "      <td>116700</td>\n",
       "      <td>\"\\n\\n  the lgbt barnstar awarded because your ...</td>\n",
       "      <td>1</td>\n",
       "      <td>the lgbt barnstar award because your sir...</td>\n",
       "    </tr>\n",
       "    <tr>\n",
       "      <th>98912</th>\n",
       "      <td>99008</td>\n",
       "      <td>c'mon bitch, speak up.</td>\n",
       "      <td>1</td>\n",
       "      <td>c mon bitch   speak up</td>\n",
       "    </tr>\n",
       "    <tr>\n",
       "      <th>13986</th>\n",
       "      <td>14001</td>\n",
       "      <td>fuck wiki\\n\\nfuck this piece of shit called wi...</td>\n",
       "      <td>1</td>\n",
       "      <td>fuck wiki   fuck this piece of shit call wikip...</td>\n",
       "    </tr>\n",
       "    <tr>\n",
       "      <th>20804</th>\n",
       "      <td>20824</td>\n",
       "      <td>dumbhead \\n\\nyou are a freaky dumbhead!!!!!!!!...</td>\n",
       "      <td>1</td>\n",
       "      <td>dumbhead    you be a freaky dumbhead          ...</td>\n",
       "    </tr>\n",
       "    <tr>\n",
       "      <th>54663</th>\n",
       "      <td>54724</td>\n",
       "      <td>\"\\n\\n where is your \"\"wiki-page\"\"? \\n\\nyo joe,...</td>\n",
       "      <td>1</td>\n",
       "      <td>where be your    wiki page       yo joe  ...</td>\n",
       "    </tr>\n",
       "    <tr>\n",
       "      <th>140570</th>\n",
       "      <td>140722</td>\n",
       "      <td>oh fuck you douchebag, it's just wikipedia, se...</td>\n",
       "      <td>1</td>\n",
       "      <td>oh fuck you douchebag   it s just wikipedia   ...</td>\n",
       "    </tr>\n",
       "    <tr>\n",
       "      <th>45786</th>\n",
       "      <td>45839</td>\n",
       "      <td>, who blantently privledge shit over quality</td>\n",
       "      <td>1</td>\n",
       "      <td>who blantently privledge shit over quality</td>\n",
       "    </tr>\n",
       "    <tr>\n",
       "      <th>136640</th>\n",
       "      <td>136778</td>\n",
       "      <td>your all a bunch of idiots, rename the page ha...</td>\n",
       "      <td>1</td>\n",
       "      <td>you all a bunch of idiot   rename the page hav...</td>\n",
       "    </tr>\n",
       "    <tr>\n",
       "      <th>51744</th>\n",
       "      <td>51801</td>\n",
       "      <td>don't you know it's bad to make pizza with hum...</td>\n",
       "      <td>1</td>\n",
       "      <td>don t you know it s bad to make pizza with hum...</td>\n",
       "    </tr>\n",
       "    <tr>\n",
       "      <th>141596</th>\n",
       "      <td>141749</td>\n",
       "      <td>what facts you fucking idiot. the facts from t...</td>\n",
       "      <td>1</td>\n",
       "      <td>what fact you fucking idiot   the fact from tu...</td>\n",
       "    </tr>\n",
       "  </tbody>\n",
       "</table>\n",
       "</div>"
      ],
      "text/plain": [
       "        Unnamed: 0                                               text  toxic  \\\n",
       "116601      116700  \"\\n\\n  the lgbt barnstar awarded because your ...      1   \n",
       "98912        99008                             c'mon bitch, speak up.      1   \n",
       "13986        14001  fuck wiki\\n\\nfuck this piece of shit called wi...      1   \n",
       "20804        20824  dumbhead \\n\\nyou are a freaky dumbhead!!!!!!!!...      1   \n",
       "54663        54724  \"\\n\\n where is your \"\"wiki-page\"\"? \\n\\nyo joe,...      1   \n",
       "140570      140722  oh fuck you douchebag, it's just wikipedia, se...      1   \n",
       "45786        45839       , who blantently privledge shit over quality      1   \n",
       "136640      136778  your all a bunch of idiots, rename the page ha...      1   \n",
       "51744        51801  don't you know it's bad to make pizza with hum...      1   \n",
       "141596      141749  what facts you fucking idiot. the facts from t...      1   \n",
       "\n",
       "                                               lemma_text  \n",
       "116601        the lgbt barnstar award because your sir...  \n",
       "98912                              c mon bitch   speak up  \n",
       "13986   fuck wiki   fuck this piece of shit call wikip...  \n",
       "20804   dumbhead    you be a freaky dumbhead          ...  \n",
       "54663        where be your    wiki page       yo joe  ...  \n",
       "140570  oh fuck you douchebag   it s just wikipedia   ...  \n",
       "45786          who blantently privledge shit over quality  \n",
       "136640  you all a bunch of idiot   rename the page hav...  \n",
       "51744   don t you know it s bad to make pizza with hum...  \n",
       "141596  what fact you fucking idiot   the fact from tu...  "
      ]
     },
     "execution_count": 16,
     "metadata": {},
     "output_type": "execute_result"
    }
   ],
   "source": [
    "df_balanced.head(10)"
   ]
  },
  {
   "cell_type": "code",
   "execution_count": 17,
   "metadata": {},
   "outputs": [
    {
     "data": {
      "text/html": [
       "<div>\n",
       "<style scoped>\n",
       "    .dataframe tbody tr th:only-of-type {\n",
       "        vertical-align: middle;\n",
       "    }\n",
       "\n",
       "    .dataframe tbody tr th {\n",
       "        vertical-align: top;\n",
       "    }\n",
       "\n",
       "    .dataframe thead th {\n",
       "        text-align: right;\n",
       "    }\n",
       "</style>\n",
       "<table border=\"1\" class=\"dataframe\">\n",
       "  <thead>\n",
       "    <tr style=\"text-align: right;\">\n",
       "      <th></th>\n",
       "      <th>Unnamed: 0</th>\n",
       "      <th>text</th>\n",
       "      <th>toxic</th>\n",
       "      <th>lemma_text</th>\n",
       "    </tr>\n",
       "  </thead>\n",
       "  <tbody>\n",
       "    <tr>\n",
       "      <th>113548</th>\n",
       "      <td>113646</td>\n",
       "      <td>\" — preceding unsigned comment added by  (talk...</td>\n",
       "      <td>0</td>\n",
       "      <td>precede unsigned comment add by    talk  ...</td>\n",
       "    </tr>\n",
       "    <tr>\n",
       "      <th>90630</th>\n",
       "      <td>90721</td>\n",
       "      <td>1:35, 23 february 2009 (utc)</td>\n",
       "      <td>0</td>\n",
       "      <td>february        utc</td>\n",
       "    </tr>\n",
       "    <tr>\n",
       "      <th>31333</th>\n",
       "      <td>31373</td>\n",
       "      <td>\"\\n\\n google hits must not be taken as a yards...</td>\n",
       "      <td>0</td>\n",
       "      <td>google hit must not be take as a yardstic...</td>\n",
       "    </tr>\n",
       "    <tr>\n",
       "      <th>52683</th>\n",
       "      <td>52740</td>\n",
       "      <td>if by original you mean chaucer's the nun's pr...</td>\n",
       "      <td>0</td>\n",
       "      <td>if by original you mean chaucer s the nun s pr...</td>\n",
       "    </tr>\n",
       "    <tr>\n",
       "      <th>82021</th>\n",
       "      <td>82097</td>\n",
       "      <td>\"\\n\\n request de-adminship of  user: owenx \\n\\...</td>\n",
       "      <td>0</td>\n",
       "      <td>request de adminship of   user   owenx   ...</td>\n",
       "    </tr>\n",
       "    <tr>\n",
       "      <th>17991</th>\n",
       "      <td>18008</td>\n",
       "      <td>hey bro, i made this image for the movie -&gt; ht...</td>\n",
       "      <td>0</td>\n",
       "      <td>hey bro   I make this image for the movie     ...</td>\n",
       "    </tr>\n",
       "    <tr>\n",
       "      <th>93030</th>\n",
       "      <td>93122</td>\n",
       "      <td>red dwarf christmas special \\n\\ni've announced...</td>\n",
       "      <td>0</td>\n",
       "      <td>red dwarf christmas special    I ve announce t...</td>\n",
       "    </tr>\n",
       "    <tr>\n",
       "      <th>140840</th>\n",
       "      <td>140992</td>\n",
       "      <td>i got around to making the changes. they may b...</td>\n",
       "      <td>0</td>\n",
       "      <td>I get around to make the change   they may be ...</td>\n",
       "    </tr>\n",
       "    <tr>\n",
       "      <th>108923</th>\n",
       "      <td>109020</td>\n",
       "      <td>thank you for your reply.  i'm not sure what y...</td>\n",
       "      <td>0</td>\n",
       "      <td>thank you for your reply    I m not sure what ...</td>\n",
       "    </tr>\n",
       "    <tr>\n",
       "      <th>1856</th>\n",
       "      <td>1856</td>\n",
       "      <td>my hog is size 10 soft 15 with a nice chubb chubb</td>\n",
       "      <td>0</td>\n",
       "      <td>my hog be size     soft     with a nice chubb ...</td>\n",
       "    </tr>\n",
       "  </tbody>\n",
       "</table>\n",
       "</div>"
      ],
      "text/plain": [
       "        Unnamed: 0                                               text  toxic  \\\n",
       "113548      113646  \" — preceding unsigned comment added by  (talk...      0   \n",
       "90630        90721                       1:35, 23 february 2009 (utc)      0   \n",
       "31333        31373  \"\\n\\n google hits must not be taken as a yards...      0   \n",
       "52683        52740  if by original you mean chaucer's the nun's pr...      0   \n",
       "82021        82097  \"\\n\\n request de-adminship of  user: owenx \\n\\...      0   \n",
       "17991        18008  hey bro, i made this image for the movie -> ht...      0   \n",
       "93030        93122  red dwarf christmas special \\n\\ni've announced...      0   \n",
       "140840      140992  i got around to making the changes. they may b...      0   \n",
       "108923      109020  thank you for your reply.  i'm not sure what y...      0   \n",
       "1856          1856  my hog is size 10 soft 15 with a nice chubb chubb      0   \n",
       "\n",
       "                                               lemma_text  \n",
       "113548       precede unsigned comment add by    talk  ...  \n",
       "90630                                 february        utc  \n",
       "31333        google hit must not be take as a yardstic...  \n",
       "52683   if by original you mean chaucer s the nun s pr...  \n",
       "82021        request de adminship of   user   owenx   ...  \n",
       "17991   hey bro   I make this image for the movie     ...  \n",
       "93030   red dwarf christmas special    I ve announce t...  \n",
       "140840  I get around to make the change   they may be ...  \n",
       "108923  thank you for your reply    I m not sure what ...  \n",
       "1856    my hog be size     soft     with a nice chubb ...  "
      ]
     },
     "execution_count": 17,
     "metadata": {},
     "output_type": "execute_result"
    }
   ],
   "source": [
    "test_balanced.head(10)"
   ]
  },
  {
   "cell_type": "code",
   "execution_count": 18,
   "metadata": {},
   "outputs": [],
   "source": [
    "valid, test = train_test_split(test_balanced, test_size = 0.5, random_state=55)"
   ]
  },
  {
   "cell_type": "code",
   "execution_count": 19,
   "metadata": {},
   "outputs": [
    {
     "name": "stdout",
     "output_type": "stream",
     "text": [
      "(7965, 4)\n",
      "(7965, 4)\n"
     ]
    }
   ],
   "source": [
    "valid_features = valid\n",
    "test_features = test\n",
    "valid_target = valid['toxic']\n",
    "test_target = test['toxic']\n",
    "print(valid_features.shape)\n",
    "print(test_features.shape)"
   ]
  },
  {
   "cell_type": "code",
   "execution_count": 20,
   "metadata": {},
   "outputs": [],
   "source": [
    "corpus_balanced = df_balanced['lemma_text'].values\n",
    "corpus_valid = valid_features['lemma_text'].values\n",
    "corpus_test = test_features['lemma_text'].values"
   ]
  },
  {
   "cell_type": "markdown",
   "metadata": {},
   "source": [
    "После обработки получили корпус. Превратим текст в векторы и перейдем к обучению моделей."
   ]
  },
  {
   "cell_type": "code",
   "execution_count": 21,
   "metadata": {
    "scrolled": true
   },
   "outputs": [
    {
     "name": "stderr",
     "output_type": "stream",
     "text": [
      "[nltk_data] Downloading package stopwords to /home/jovyan/nltk_data...\n",
      "[nltk_data]   Package stopwords is already up-to-date!\n"
     ]
    }
   ],
   "source": [
    "# tf idf \n",
    "nltk.download('stopwords')\n",
    "stopwords = set(nltk_stopwords.words('english'))\n",
    "count_tf_idf = TfidfVectorizer(stop_words=stopwords)"
   ]
  },
  {
   "cell_type": "code",
   "execution_count": 22,
   "metadata": {},
   "outputs": [],
   "source": [
    "tf_idf_balanced = count_tf_idf.fit_transform(corpus_balanced)"
   ]
  },
  {
   "cell_type": "code",
   "execution_count": 23,
   "metadata": {},
   "outputs": [],
   "source": [
    "valid_features = count_tf_idf.transform(corpus_valid)\n",
    "test_features = count_tf_idf.transform(corpus_test)"
   ]
  },
  {
   "cell_type": "code",
   "execution_count": 24,
   "metadata": {
    "scrolled": true
   },
   "outputs": [
    {
     "data": {
      "text/plain": [
       "(36442, 58671)"
      ]
     },
     "execution_count": 24,
     "metadata": {},
     "output_type": "execute_result"
    }
   ],
   "source": [
    "tf_idf_balanced.shape"
   ]
  },
  {
   "cell_type": "code",
   "execution_count": 25,
   "metadata": {},
   "outputs": [
    {
     "data": {
      "text/plain": [
       "(7965, 58671)"
      ]
     },
     "execution_count": 25,
     "metadata": {},
     "output_type": "execute_result"
    }
   ],
   "source": [
    "valid_features.shape"
   ]
  },
  {
   "cell_type": "code",
   "execution_count": 26,
   "metadata": {},
   "outputs": [
    {
     "data": {
      "text/plain": [
       "(7965, 58671)"
      ]
     },
     "execution_count": 26,
     "metadata": {},
     "output_type": "execute_result"
    }
   ],
   "source": [
    "test_features.shape"
   ]
  },
  {
   "cell_type": "markdown",
   "metadata": {},
   "source": [
    "## Обучение"
   ]
  },
  {
   "cell_type": "markdown",
   "metadata": {},
   "source": [
    "В данном проекте попробуем воспользоваться тремя алгоритмами классификации: логистическая регрессия, случайный лес и CatBoost. Сперва разделим модели на тренировочную и тестовую. "
   ]
  },
  {
   "cell_type": "code",
   "execution_count": 27,
   "metadata": {},
   "outputs": [
    {
     "name": "stdout",
     "output_type": "stream",
     "text": [
      "(36442, 58671)\n",
      "(36442,)\n"
     ]
    }
   ],
   "source": [
    "train_features = tf_idf_balanced\n",
    "train_target = df_balanced['toxic']\n",
    "\n",
    "print(train_features.shape)\n",
    "print(train_target.shape)"
   ]
  },
  {
   "cell_type": "markdown",
   "metadata": {},
   "source": [
    "Мы разделили данные, теперь приступим к обучению."
   ]
  },
  {
   "cell_type": "markdown",
   "metadata": {},
   "source": [
    "### Логистическая регрессия"
   ]
  },
  {
   "cell_type": "code",
   "execution_count": null,
   "metadata": {},
   "outputs": [],
   "source": [
    "model = LogisticRegression(penalty='l2', \n",
    "                           # solver='liblinear', \n",
    "                           C = 10, \n",
    "                           random_state=55, \n",
    "                           max_iter=1000, \n",
    "                           class_weight= {0 :5, 1: 1}, \n",
    "                           fit_intercept=True\n",
    "                          )\n",
    "logistic = model.fit(train_features, train_target)"
   ]
  },
  {
   "cell_type": "code",
   "execution_count": 29,
   "metadata": {},
   "outputs": [],
   "source": [
    "logistic_predictions_balanced = logistic.predict(valid_features)"
   ]
  },
  {
   "cell_type": "code",
   "execution_count": 30,
   "metadata": {
    "scrolled": false
   },
   "outputs": [
    {
     "data": {
      "text/plain": [
       "0.7619647355163728"
      ]
     },
     "execution_count": 30,
     "metadata": {},
     "output_type": "execute_result"
    }
   ],
   "source": [
    "f1_score(valid_target, logistic_predictions_balanced)"
   ]
  },
  {
   "cell_type": "code",
   "execution_count": 31,
   "metadata": {
    "scrolled": false
   },
   "outputs": [
    {
     "data": {
      "text/plain": [
       "0.7645631067961165"
      ]
     },
     "execution_count": 31,
     "metadata": {},
     "output_type": "execute_result"
    }
   ],
   "source": [
    "# тест потом удали\n",
    "logistic_predictions_test = logistic.predict(test_features)\n",
    "f1_score(test_target, logistic_predictions_test)"
   ]
  },
  {
   "cell_type": "code",
   "execution_count": 32,
   "metadata": {},
   "outputs": [
    {
     "data": {
      "text/plain": [
       "array([[6761,  424],\n",
       "       [ 122,  658]])"
      ]
     },
     "execution_count": 32,
     "metadata": {},
     "output_type": "execute_result"
    }
   ],
   "source": [
    "confusion_matrix(valid_target, logistic_predictions_balanced)"
   ]
  },
  {
   "cell_type": "markdown",
   "metadata": {},
   "source": [
    "### Случайный лес"
   ]
  },
  {
   "cell_type": "code",
   "execution_count": 33,
   "metadata": {
    "scrolled": true
   },
   "outputs": [
    {
     "name": "stdout",
     "output_type": "stream",
     "text": [
      "CPU times: user 2min 18s, sys: 115 ms, total: 2min 18s\n",
      "Wall time: 2min 18s\n"
     ]
    },
    {
     "data": {
      "text/plain": [
       "RandomizedSearchCV(cv=5, estimator=RandomForestClassifier(),\n",
       "                   param_distributions={'max_depth': [1, 2, 3, 4, 5, 6, 7, 8, 9,\n",
       "                                                      10, 11, 12, 13, 14, 15,\n",
       "                                                      16, 17, 18, 19, 20, 21,\n",
       "                                                      22, 23, 24, 25, 26, 27,\n",
       "                                                      28, 29, 30, ...],\n",
       "                                        'n_estimators': [1, 2, 3, 4, 5, 6, 7, 8,\n",
       "                                                         9, 10, 11, 12, 13, 14,\n",
       "                                                         15, 16, 17, 18, 19, 20,\n",
       "                                                         21, 22, 23, 24, 25, 26,\n",
       "                                                         27, 28, 29, 30, ...]},\n",
       "                   scoring='f1')"
      ]
     },
     "execution_count": 33,
     "metadata": {},
     "output_type": "execute_result"
    }
   ],
   "source": [
    "%%time\n",
    "n_estimators = [int(x) for x in np.linspace(start = 1, stop = 50)]\n",
    "max_depth = [int(x) for x in np.linspace(1, 50)]\n",
    "grid = {'n_estimators': n_estimators, 'max_depth': max_depth}\n",
    "forest = RandomizedSearchCV(estimator = RandomForestClassifier(), param_distributions = grid, cv = 5, scoring='f1')\n",
    "forest.fit(train_features, train_target)"
   ]
  },
  {
   "cell_type": "code",
   "execution_count": 34,
   "metadata": {
    "scrolled": true
   },
   "outputs": [
    {
     "data": {
      "text/plain": [
       "0.6331045003813883"
      ]
     },
     "execution_count": 34,
     "metadata": {},
     "output_type": "execute_result"
    }
   ],
   "source": [
    "forest_predictions = forest.predict(valid_features)\n",
    "f1_score(valid_target, forest_predictions)"
   ]
  },
  {
   "cell_type": "code",
   "execution_count": 35,
   "metadata": {
    "scrolled": true
   },
   "outputs": [
    {
     "data": {
      "text/plain": [
       "0.7024587237010106"
      ]
     },
     "execution_count": 35,
     "metadata": {},
     "output_type": "execute_result"
    }
   ],
   "source": [
    "forest.best_score_"
   ]
  },
  {
   "cell_type": "code",
   "execution_count": 36,
   "metadata": {},
   "outputs": [
    {
     "data": {
      "text/plain": [
       "array([[7069,  116],\n",
       "       [ 365,  415]])"
      ]
     },
     "execution_count": 36,
     "metadata": {},
     "output_type": "execute_result"
    }
   ],
   "source": [
    "confusion_matrix(valid_target, forest_predictions)"
   ]
  },
  {
   "cell_type": "markdown",
   "metadata": {},
   "source": [
    "### CatBoost"
   ]
  },
  {
   "cell_type": "code",
   "execution_count": 37,
   "metadata": {},
   "outputs": [
    {
     "name": "stdout",
     "output_type": "stream",
     "text": [
      "0:\tlearn: 0.6654454\ttotal: 1.78s\tremaining: 14m 47s\n",
      "50:\tlearn: 0.4148341\ttotal: 1m 4s\tremaining: 9m 29s\n",
      "100:\tlearn: 0.3637757\ttotal: 2m 6s\tremaining: 8m 19s\n",
      "150:\tlearn: 0.3327742\ttotal: 3m 8s\tremaining: 7m 15s\n",
      "200:\tlearn: 0.3136358\ttotal: 4m 9s\tremaining: 6m 11s\n",
      "250:\tlearn: 0.3007490\ttotal: 5m 10s\tremaining: 5m 7s\n",
      "300:\tlearn: 0.2898447\ttotal: 6m 10s\tremaining: 4m 5s\n",
      "350:\tlearn: 0.2826190\ttotal: 7m 11s\tremaining: 3m 3s\n",
      "400:\tlearn: 0.2768002\ttotal: 8m 11s\tremaining: 2m 1s\n",
      "450:\tlearn: 0.2718538\ttotal: 9m 12s\tremaining: 1m\n",
      "499:\tlearn: 0.2676704\ttotal: 10m 11s\tremaining: 0us\n",
      "CPU times: user 10min 13s, sys: 3.44 s, total: 10min 16s\n",
      "Wall time: 10min 17s\n"
     ]
    },
    {
     "data": {
      "text/plain": [
       "<catboost.core.CatBoostClassifier at 0x7feaf7b8d7c0>"
      ]
     },
     "execution_count": 37,
     "metadata": {},
     "output_type": "execute_result"
    }
   ],
   "source": [
    "%%time\n",
    "# CatBoost\n",
    "catboost = CatBoostClassifier(iterations = 500, \n",
    "    loss_function='MultiClass', \n",
    "    bootstrap_type = \"Bayesian\",\n",
    "    eval_metric = 'MultiClass',\n",
    "    learning_rate=0.1,)\n",
    "catboost.fit(train_features, train_target, verbose=50)"
   ]
  },
  {
   "cell_type": "code",
   "execution_count": 38,
   "metadata": {},
   "outputs": [
    {
     "data": {
      "text/plain": [
       "0.7355320472930927"
      ]
     },
     "execution_count": 38,
     "metadata": {},
     "output_type": "execute_result"
    }
   ],
   "source": [
    "catboost_predictions = catboost.predict(valid_features)\n",
    "f1_score(valid_target, catboost_predictions)"
   ]
  },
  {
   "cell_type": "code",
   "execution_count": 39,
   "metadata": {
    "scrolled": true
   },
   "outputs": [
    {
     "data": {
      "text/plain": [
       "array([[6949,  236],\n",
       "       [ 189,  591]])"
      ]
     },
     "execution_count": 39,
     "metadata": {},
     "output_type": "execute_result"
    }
   ],
   "source": [
    "confusion_matrix(valid_target, catboost_predictions)"
   ]
  },
  {
   "cell_type": "markdown",
   "metadata": {},
   "source": [
    "## Выводы"
   ]
  },
  {
   "cell_type": "code",
   "execution_count": 32,
   "metadata": {
    "scrolled": false
   },
   "outputs": [
    {
     "data": {
      "text/plain": [
       "0.7645631067961165"
      ]
     },
     "execution_count": 32,
     "metadata": {},
     "output_type": "execute_result"
    }
   ],
   "source": [
    "logistic_predictions_test = logistic.predict(test_features)\n",
    "f1_score(test_target, logistic_predictions_test)"
   ]
  },
  {
   "cell_type": "code",
   "execution_count": 41,
   "metadata": {},
   "outputs": [
    {
     "data": {
      "text/plain": [
       "0.6324786324786325"
      ]
     },
     "execution_count": 41,
     "metadata": {},
     "output_type": "execute_result"
    }
   ],
   "source": [
    "forest_predictions_test = forest.predict(test_features)\n",
    "f1_score(test_target, forest_predictions_test)"
   ]
  },
  {
   "cell_type": "code",
   "execution_count": 47,
   "metadata": {
    "scrolled": true
   },
   "outputs": [
    {
     "data": {
      "text/plain": [
       "0.75"
      ]
     },
     "execution_count": 47,
     "metadata": {},
     "output_type": "execute_result"
    }
   ],
   "source": [
    "catboost_predictions_test = catboost.predict(test_features)\n",
    "round(f1_score(test_target, catboost_predictions_test), 2)"
   ]
  },
  {
   "cell_type": "markdown",
   "metadata": {},
   "source": [
    "После проверки тестовой выборки получились такие результаты: у логистической регрессии 0,76, случайный лес - 0,63, catboost - 0,75"
   ]
  }
 ],
 "metadata": {
  "ExecuteTimeLog": [
   {
    "duration": 96,
    "start_time": "2022-08-17T10:46:56.593Z"
   },
   {
    "duration": 418,
    "start_time": "2022-08-17T10:46:59.237Z"
   },
   {
    "duration": 3339,
    "start_time": "2022-08-17T10:47:25.501Z"
   },
   {
    "duration": 17,
    "start_time": "2022-08-17T10:47:31.037Z"
   },
   {
    "duration": 728,
    "start_time": "2022-08-17T10:48:25.004Z"
   },
   {
    "duration": 299,
    "start_time": "2022-08-17T10:48:56.309Z"
   },
   {
    "duration": 187,
    "start_time": "2022-08-17T10:49:09.812Z"
   },
   {
    "duration": 2008,
    "start_time": "2022-08-17T10:49:22.872Z"
   },
   {
    "duration": 12327,
    "start_time": "2022-08-17T10:50:39.061Z"
   },
   {
    "duration": 55538,
    "start_time": "2022-08-17T18:24:45.673Z"
   },
   {
    "duration": 2369,
    "start_time": "2022-08-17T18:25:41.212Z"
   },
   {
    "duration": 15,
    "start_time": "2022-08-17T18:25:43.583Z"
   },
   {
    "duration": 1971,
    "start_time": "2022-08-17T18:25:43.599Z"
   },
   {
    "duration": 9659,
    "start_time": "2022-08-17T18:25:45.572Z"
   },
   {
    "duration": 4,
    "start_time": "2022-08-17T18:25:55.233Z"
   },
   {
    "duration": 39694,
    "start_time": "2022-08-19T15:35:56.274Z"
   },
   {
    "duration": 0,
    "start_time": "2022-08-19T15:36:35.970Z"
   },
   {
    "duration": 0,
    "start_time": "2022-08-19T15:36:35.971Z"
   },
   {
    "duration": 0,
    "start_time": "2022-08-19T15:36:35.973Z"
   },
   {
    "duration": 23607,
    "start_time": "2022-08-19T15:36:40.267Z"
   },
   {
    "duration": 0,
    "start_time": "2022-08-19T15:37:03.876Z"
   },
   {
    "duration": 0,
    "start_time": "2022-08-19T15:37:03.877Z"
   },
   {
    "duration": 0,
    "start_time": "2022-08-19T15:37:03.878Z"
   },
   {
    "duration": 57881,
    "start_time": "2022-08-19T15:37:12.141Z"
   },
   {
    "duration": 2126,
    "start_time": "2022-08-19T15:38:10.025Z"
   },
   {
    "duration": 15,
    "start_time": "2022-08-19T15:38:12.152Z"
   },
   {
    "duration": 1841,
    "start_time": "2022-08-19T15:38:12.169Z"
   },
   {
    "duration": 4,
    "start_time": "2022-08-19T15:39:40.192Z"
   },
   {
    "duration": 706,
    "start_time": "2022-08-19T15:39:41.600Z"
   },
   {
    "duration": 9,
    "start_time": "2022-08-19T15:39:42.308Z"
   },
   {
    "duration": 13,
    "start_time": "2022-08-19T15:39:45.776Z"
   },
   {
    "duration": 55411,
    "start_time": "2022-08-19T15:40:42.584Z"
   },
   {
    "duration": 2134,
    "start_time": "2022-08-19T15:41:37.997Z"
   },
   {
    "duration": 16,
    "start_time": "2022-08-19T15:41:40.133Z"
   },
   {
    "duration": 1858,
    "start_time": "2022-08-19T15:41:40.151Z"
   },
   {
    "duration": 6,
    "start_time": "2022-08-19T15:41:42.011Z"
   },
   {
    "duration": 311,
    "start_time": "2022-08-19T15:42:13.425Z"
   },
   {
    "duration": 17,
    "start_time": "2022-08-19T15:42:18.591Z"
   },
   {
    "duration": 10480,
    "start_time": "2022-08-19T15:42:20.951Z"
   },
   {
    "duration": 5,
    "start_time": "2022-08-19T15:42:31.433Z"
   },
   {
    "duration": 5,
    "start_time": "2022-08-19T15:42:59.656Z"
   },
   {
    "duration": 243,
    "start_time": "2022-08-19T15:43:12.722Z"
   },
   {
    "duration": 135,
    "start_time": "2022-08-19T15:43:17.801Z"
   },
   {
    "duration": 943,
    "start_time": "2022-08-19T15:43:21.024Z"
   },
   {
    "duration": 41,
    "start_time": "2022-08-19T15:44:00.448Z"
   },
   {
    "duration": 5,
    "start_time": "2022-08-19T15:44:12.959Z"
   },
   {
    "duration": 4,
    "start_time": "2022-08-19T15:44:27.983Z"
   },
   {
    "duration": 4,
    "start_time": "2022-08-19T15:44:32.567Z"
   },
   {
    "duration": 4,
    "start_time": "2022-08-19T15:44:36.871Z"
   },
   {
    "duration": 55714,
    "start_time": "2022-08-19T15:44:59.297Z"
   },
   {
    "duration": 772,
    "start_time": "2022-08-19T15:45:55.013Z"
   },
   {
    "duration": 16,
    "start_time": "2022-08-19T15:45:55.786Z"
   },
   {
    "duration": 1867,
    "start_time": "2022-08-19T15:45:55.804Z"
   },
   {
    "duration": 10,
    "start_time": "2022-08-19T15:45:57.673Z"
   },
   {
    "duration": 9,
    "start_time": "2022-08-19T15:45:57.684Z"
   },
   {
    "duration": 805,
    "start_time": "2022-08-19T15:45:57.694Z"
   },
   {
    "duration": 4,
    "start_time": "2022-08-19T15:45:58.501Z"
   },
   {
    "duration": 9985,
    "start_time": "2022-08-19T15:45:58.506Z"
   },
   {
    "duration": 3,
    "start_time": "2022-08-19T15:46:08.494Z"
   },
   {
    "duration": 153,
    "start_time": "2022-08-19T15:47:52.937Z"
   },
   {
    "duration": 4,
    "start_time": "2022-08-19T15:47:56.695Z"
   },
   {
    "duration": 365,
    "start_time": "2022-08-19T15:48:02.970Z"
   },
   {
    "duration": 17,
    "start_time": "2022-08-19T15:48:45.037Z"
   },
   {
    "duration": 703,
    "start_time": "2022-08-19T15:49:01.445Z"
   },
   {
    "duration": 686,
    "start_time": "2022-08-19T15:49:12.271Z"
   },
   {
    "duration": 5,
    "start_time": "2022-08-19T15:49:30.434Z"
   },
   {
    "duration": 743,
    "start_time": "2022-08-19T15:49:31.933Z"
   },
   {
    "duration": 6,
    "start_time": "2022-08-19T15:49:33.246Z"
   },
   {
    "duration": 1826,
    "start_time": "2022-08-19T15:49:40.966Z"
   },
   {
    "duration": 5,
    "start_time": "2022-08-19T15:49:46.302Z"
   },
   {
    "duration": 800,
    "start_time": "2022-08-19T15:49:57.743Z"
   },
   {
    "duration": 800,
    "start_time": "2022-08-19T15:50:03.902Z"
   },
   {
    "duration": 850,
    "start_time": "2022-08-19T15:50:16.255Z"
   },
   {
    "duration": 27,
    "start_time": "2022-08-19T15:50:50.983Z"
   },
   {
    "duration": 67860,
    "start_time": "2022-08-19T15:51:10.145Z"
   },
   {
    "duration": 0,
    "start_time": "2022-08-19T15:52:18.007Z"
   },
   {
    "duration": 3,
    "start_time": "2022-08-19T15:52:23.447Z"
   },
   {
    "duration": 715,
    "start_time": "2022-08-19T15:52:24.421Z"
   },
   {
    "duration": 10,
    "start_time": "2022-08-19T15:52:25.137Z"
   },
   {
    "duration": 54459,
    "start_time": "2022-08-19T15:52:31.937Z"
   },
   {
    "duration": 2167,
    "start_time": "2022-08-19T15:53:26.398Z"
   },
   {
    "duration": 17,
    "start_time": "2022-08-19T15:53:28.567Z"
   },
   {
    "duration": 1881,
    "start_time": "2022-08-19T15:53:28.586Z"
   },
   {
    "duration": 21,
    "start_time": "2022-08-19T15:53:30.469Z"
   },
   {
    "duration": 18,
    "start_time": "2022-08-19T15:53:30.492Z"
   },
   {
    "duration": 17,
    "start_time": "2022-08-19T15:53:30.512Z"
   },
   {
    "duration": 4,
    "start_time": "2022-08-19T15:53:47.151Z"
   },
   {
    "duration": 360,
    "start_time": "2022-08-19T15:53:54.745Z"
   },
   {
    "duration": 4,
    "start_time": "2022-08-19T15:53:59.350Z"
   },
   {
    "duration": 1112472,
    "start_time": "2022-08-19T15:54:05.854Z"
   },
   {
    "duration": 290,
    "start_time": "2022-08-19T16:16:24.334Z"
   },
   {
    "duration": 3,
    "start_time": "2022-08-19T16:17:16.062Z"
   },
   {
    "duration": 3,
    "start_time": "2022-08-19T16:18:17.229Z"
   },
   {
    "duration": 3,
    "start_time": "2022-08-19T16:22:19.169Z"
   },
   {
    "duration": 238,
    "start_time": "2022-08-19T16:22:52.546Z"
   },
   {
    "duration": 3,
    "start_time": "2022-08-19T16:23:08.152Z"
   },
   {
    "duration": 4667,
    "start_time": "2022-08-19T16:23:08.680Z"
   },
   {
    "duration": 78087,
    "start_time": "2022-08-20T10:16:06.241Z"
   },
   {
    "duration": 3279,
    "start_time": "2022-08-20T10:17:24.330Z"
   },
   {
    "duration": 18,
    "start_time": "2022-08-20T10:17:27.611Z"
   },
   {
    "duration": 2105,
    "start_time": "2022-08-20T10:17:27.632Z"
   },
   {
    "duration": 5,
    "start_time": "2022-08-20T10:17:29.739Z"
   },
   {
    "duration": 135294,
    "start_time": "2022-08-20T10:17:29.746Z"
   },
   {
    "duration": 4,
    "start_time": "2022-08-20T10:19:45.042Z"
   },
   {
    "duration": 11035,
    "start_time": "2022-08-20T10:19:45.048Z"
   },
   {
    "duration": 9,
    "start_time": "2022-08-20T10:19:56.085Z"
   },
   {
    "duration": 4,
    "start_time": "2022-08-20T12:43:10.277Z"
   },
   {
    "duration": 84799,
    "start_time": "2022-08-20T12:44:09.616Z"
   },
   {
    "duration": 815,
    "start_time": "2022-08-20T12:45:34.417Z"
   },
   {
    "duration": 18,
    "start_time": "2022-08-20T12:45:35.233Z"
   },
   {
    "duration": 2143,
    "start_time": "2022-08-20T12:45:35.252Z"
   },
   {
    "duration": 11,
    "start_time": "2022-08-20T12:45:37.397Z"
   },
   {
    "duration": 6,
    "start_time": "2022-08-20T12:45:37.410Z"
   },
   {
    "duration": 1722,
    "start_time": "2022-08-20T12:45:37.418Z"
   },
   {
    "duration": 135839,
    "start_time": "2022-08-20T12:45:39.142Z"
   },
   {
    "duration": 11,
    "start_time": "2022-08-20T12:47:54.983Z"
   },
   {
    "duration": 10959,
    "start_time": "2022-08-20T12:47:54.995Z"
   },
   {
    "duration": 5,
    "start_time": "2022-08-20T12:48:05.956Z"
   },
   {
    "duration": 4602,
    "start_time": "2022-08-20T12:49:03.338Z"
   },
   {
    "duration": 134542,
    "start_time": "2022-08-20T12:49:12.289Z"
   },
   {
    "duration": 4,
    "start_time": "2022-08-20T12:51:26.834Z"
   },
   {
    "duration": 10933,
    "start_time": "2022-08-20T12:51:26.841Z"
   },
   {
    "duration": 4,
    "start_time": "2022-08-20T12:51:37.776Z"
   },
   {
    "duration": 5,
    "start_time": "2022-08-20T13:27:21.840Z"
   },
   {
    "duration": 4,
    "start_time": "2022-08-20T13:27:24.228Z"
   },
   {
    "duration": 19,
    "start_time": "2022-08-20T13:27:36.462Z"
   },
   {
    "duration": 1522,
    "start_time": "2022-08-20T13:27:51.589Z"
   },
   {
    "duration": 5,
    "start_time": "2022-08-20T13:27:56.326Z"
   },
   {
    "duration": 155,
    "start_time": "2022-08-20T13:28:32.589Z"
   },
   {
    "duration": 152,
    "start_time": "2022-08-20T13:28:46.288Z"
   },
   {
    "duration": 3498,
    "start_time": "2022-08-20T13:29:58.290Z"
   },
   {
    "duration": 0,
    "start_time": "2022-08-20T13:30:01.791Z"
   },
   {
    "duration": 0,
    "start_time": "2022-08-20T13:30:01.793Z"
   },
   {
    "duration": 0,
    "start_time": "2022-08-20T13:30:01.795Z"
   },
   {
    "duration": 0,
    "start_time": "2022-08-20T13:30:01.796Z"
   },
   {
    "duration": 0,
    "start_time": "2022-08-20T13:30:01.798Z"
   },
   {
    "duration": 0,
    "start_time": "2022-08-20T13:30:01.800Z"
   },
   {
    "duration": 0,
    "start_time": "2022-08-20T13:30:01.802Z"
   },
   {
    "duration": 0,
    "start_time": "2022-08-20T13:30:01.804Z"
   },
   {
    "duration": 0,
    "start_time": "2022-08-20T13:30:01.805Z"
   },
   {
    "duration": 0,
    "start_time": "2022-08-20T13:30:01.806Z"
   },
   {
    "duration": 84600,
    "start_time": "2022-08-20T13:30:55.605Z"
   },
   {
    "duration": 965,
    "start_time": "2022-08-20T13:32:20.207Z"
   },
   {
    "duration": 19,
    "start_time": "2022-08-20T13:32:21.176Z"
   },
   {
    "duration": 5,
    "start_time": "2022-08-20T13:32:21.197Z"
   },
   {
    "duration": 11,
    "start_time": "2022-08-20T13:32:21.203Z"
   },
   {
    "duration": 545,
    "start_time": "2022-08-20T13:32:21.216Z"
   },
   {
    "duration": 2207,
    "start_time": "2022-08-20T13:32:21.763Z"
   },
   {
    "duration": 140448,
    "start_time": "2022-08-20T13:32:23.974Z"
   },
   {
    "duration": 4,
    "start_time": "2022-08-20T13:34:44.424Z"
   },
   {
    "duration": 10940,
    "start_time": "2022-08-20T13:34:44.430Z"
   },
   {
    "duration": 4,
    "start_time": "2022-08-20T13:34:55.371Z"
   },
   {
    "duration": 1804,
    "start_time": "2022-08-20T13:37:23.540Z"
   },
   {
    "duration": 1708,
    "start_time": "2022-08-20T13:37:42.740Z"
   },
   {
    "duration": 5,
    "start_time": "2022-08-20T13:37:53.856Z"
   },
   {
    "duration": 1306,
    "start_time": "2022-08-20T13:37:58.027Z"
   },
   {
    "duration": 1416,
    "start_time": "2022-08-20T13:38:04.240Z"
   },
   {
    "duration": 14,
    "start_time": "2022-08-20T13:38:17.092Z"
   },
   {
    "duration": 5,
    "start_time": "2022-08-20T13:38:40.981Z"
   },
   {
    "duration": 108529,
    "start_time": "2022-08-20T13:38:48.814Z"
   },
   {
    "duration": 852,
    "start_time": "2022-08-20T13:40:37.346Z"
   },
   {
    "duration": 19,
    "start_time": "2022-08-20T13:40:38.200Z"
   },
   {
    "duration": 3982,
    "start_time": "2022-08-20T13:40:38.221Z"
   },
   {
    "duration": 7,
    "start_time": "2022-08-20T13:43:58.668Z"
   },
   {
    "duration": 15,
    "start_time": "2022-08-20T13:44:02.696Z"
   },
   {
    "duration": 1378,
    "start_time": "2022-08-20T13:44:11.556Z"
   },
   {
    "duration": 33,
    "start_time": "2022-08-20T13:44:24.049Z"
   },
   {
    "duration": 8,
    "start_time": "2022-08-20T13:44:25.779Z"
   },
   {
    "duration": 6,
    "start_time": "2022-08-20T13:44:39.875Z"
   },
   {
    "duration": 7,
    "start_time": "2022-08-20T13:44:44.582Z"
   },
   {
    "duration": 2123,
    "start_time": "2022-08-20T13:44:48.384Z"
   },
   {
    "duration": 1979,
    "start_time": "2022-08-20T13:44:51.670Z"
   },
   {
    "duration": 30,
    "start_time": "2022-08-20T13:45:04.231Z"
   },
   {
    "duration": 20,
    "start_time": "2022-08-20T13:45:50.528Z"
   },
   {
    "duration": 19,
    "start_time": "2022-08-20T13:45:53.776Z"
   },
   {
    "duration": 22,
    "start_time": "2022-08-20T13:46:03.873Z"
   },
   {
    "duration": 22,
    "start_time": "2022-08-20T13:46:06.453Z"
   },
   {
    "duration": 26,
    "start_time": "2022-08-20T13:46:12.037Z"
   },
   {
    "duration": 32,
    "start_time": "2022-08-20T13:46:54.516Z"
   },
   {
    "duration": 5,
    "start_time": "2022-08-20T13:47:03.487Z"
   },
   {
    "duration": 5,
    "start_time": "2022-08-20T13:47:07.678Z"
   },
   {
    "duration": 5,
    "start_time": "2022-08-20T13:47:15.498Z"
   },
   {
    "duration": 5,
    "start_time": "2022-08-20T13:47:18.291Z"
   },
   {
    "duration": 5,
    "start_time": "2022-08-20T13:47:20.265Z"
   },
   {
    "duration": 26,
    "start_time": "2022-08-20T13:47:22.851Z"
   },
   {
    "duration": 4,
    "start_time": "2022-08-20T13:47:25.113Z"
   },
   {
    "duration": 92,
    "start_time": "2022-08-20T13:47:35.593Z"
   },
   {
    "duration": 1469,
    "start_time": "2022-08-20T13:47:45.845Z"
   },
   {
    "duration": 107,
    "start_time": "2022-08-20T13:47:50.847Z"
   },
   {
    "duration": 3,
    "start_time": "2022-08-20T13:47:52.674Z"
   },
   {
    "duration": 5899,
    "start_time": "2022-08-20T13:47:54.663Z"
   },
   {
    "duration": 11,
    "start_time": "2022-08-20T13:48:11.985Z"
   },
   {
    "duration": 6,
    "start_time": "2022-08-20T13:48:19.578Z"
   },
   {
    "duration": 5,
    "start_time": "2022-08-20T13:48:25.536Z"
   },
   {
    "duration": 79689,
    "start_time": "2022-08-20T13:48:56.459Z"
   },
   {
    "duration": 913,
    "start_time": "2022-08-20T13:50:16.151Z"
   },
   {
    "duration": 28,
    "start_time": "2022-08-20T13:50:17.066Z"
   },
   {
    "duration": 5,
    "start_time": "2022-08-20T13:50:17.098Z"
   },
   {
    "duration": 8,
    "start_time": "2022-08-20T13:50:17.105Z"
   },
   {
    "duration": 6733,
    "start_time": "2022-08-20T13:50:17.116Z"
   },
   {
    "duration": 2282,
    "start_time": "2022-08-20T13:50:23.851Z"
   },
   {
    "duration": 140966,
    "start_time": "2022-08-20T13:50:26.135Z"
   },
   {
    "duration": 4,
    "start_time": "2022-08-20T13:52:47.103Z"
   },
   {
    "duration": 11384,
    "start_time": "2022-08-20T13:52:47.110Z"
   },
   {
    "duration": 4,
    "start_time": "2022-08-20T13:52:58.496Z"
   },
   {
    "duration": 4,
    "start_time": "2022-08-20T13:56:01.578Z"
   },
   {
    "duration": 78356,
    "start_time": "2022-08-21T15:37:48.948Z"
   },
   {
    "duration": 698,
    "start_time": "2022-08-21T15:39:07.306Z"
   },
   {
    "duration": 1183,
    "start_time": "2022-08-21T15:39:08.006Z"
   },
   {
    "duration": 18,
    "start_time": "2022-08-21T15:39:09.191Z"
   },
   {
    "duration": 4,
    "start_time": "2022-08-21T15:39:09.210Z"
   },
   {
    "duration": 6,
    "start_time": "2022-08-21T15:39:09.215Z"
   },
   {
    "duration": 145084,
    "start_time": "2022-08-21T15:39:52.121Z"
   },
   {
    "duration": 14,
    "start_time": "2022-08-21T15:43:37.460Z"
   },
   {
    "duration": 4,
    "start_time": "2022-08-21T15:46:40.651Z"
   },
   {
    "duration": 86196,
    "start_time": "2022-08-21T16:31:48.176Z"
   },
   {
    "duration": 714,
    "start_time": "2022-08-21T16:33:14.374Z"
   },
   {
    "duration": 3328,
    "start_time": "2022-08-21T16:33:15.090Z"
   },
   {
    "duration": 18,
    "start_time": "2022-08-21T16:33:18.420Z"
   },
   {
    "duration": 4,
    "start_time": "2022-08-21T16:33:18.440Z"
   },
   {
    "duration": 7,
    "start_time": "2022-08-21T16:33:18.446Z"
   },
   {
    "duration": 4,
    "start_time": "2022-08-21T16:33:18.454Z"
   },
   {
    "duration": 1739,
    "start_time": "2022-08-21T16:33:18.460Z"
   },
   {
    "duration": 0,
    "start_time": "2022-08-21T16:33:20.201Z"
   },
   {
    "duration": 0,
    "start_time": "2022-08-21T16:33:20.203Z"
   },
   {
    "duration": 2089,
    "start_time": "2022-08-21T16:35:37.519Z"
   },
   {
    "duration": 684,
    "start_time": "2022-08-21T16:35:40.616Z"
   },
   {
    "duration": 3,
    "start_time": "2022-08-21T16:35:49.215Z"
   },
   {
    "duration": 3,
    "start_time": "2022-08-21T16:35:49.712Z"
   },
   {
    "duration": 97012,
    "start_time": "2022-08-21T16:35:59.483Z"
   },
   {
    "duration": 713,
    "start_time": "2022-08-21T16:37:36.497Z"
   },
   {
    "duration": 3338,
    "start_time": "2022-08-21T16:37:37.211Z"
   },
   {
    "duration": 18,
    "start_time": "2022-08-21T16:37:40.551Z"
   },
   {
    "duration": 6,
    "start_time": "2022-08-21T16:37:40.570Z"
   },
   {
    "duration": 5,
    "start_time": "2022-08-21T16:37:40.578Z"
   },
   {
    "duration": 5,
    "start_time": "2022-08-21T16:37:40.585Z"
   },
   {
    "duration": 2104,
    "start_time": "2022-08-21T16:37:40.592Z"
   },
   {
    "duration": 4705,
    "start_time": "2022-08-21T16:37:42.698Z"
   },
   {
    "duration": 4,
    "start_time": "2022-08-21T16:37:47.405Z"
   },
   {
    "duration": 4,
    "start_time": "2022-08-21T16:39:17.339Z"
   },
   {
    "duration": 124871,
    "start_time": "2022-08-21T16:39:33.019Z"
   },
   {
    "duration": 741,
    "start_time": "2022-08-21T16:41:37.891Z"
   },
   {
    "duration": 3360,
    "start_time": "2022-08-21T16:41:38.634Z"
   },
   {
    "duration": 22,
    "start_time": "2022-08-21T16:41:41.997Z"
   },
   {
    "duration": 13,
    "start_time": "2022-08-21T16:41:42.021Z"
   },
   {
    "duration": 41,
    "start_time": "2022-08-21T16:41:42.037Z"
   },
   {
    "duration": 15,
    "start_time": "2022-08-21T16:41:42.080Z"
   },
   {
    "duration": 2085,
    "start_time": "2022-08-21T16:41:42.096Z"
   },
   {
    "duration": 4520,
    "start_time": "2022-08-21T16:41:44.183Z"
   },
   {
    "duration": 4,
    "start_time": "2022-08-21T16:41:48.705Z"
   },
   {
    "duration": 3,
    "start_time": "2022-08-21T16:43:23.318Z"
   },
   {
    "duration": 5,
    "start_time": "2022-08-21T16:43:26.211Z"
   },
   {
    "duration": 6,
    "start_time": "2022-08-21T16:43:39.969Z"
   },
   {
    "duration": 3938,
    "start_time": "2022-08-21T16:43:43.068Z"
   },
   {
    "duration": 6,
    "start_time": "2022-08-21T16:43:48.984Z"
   },
   {
    "duration": 352,
    "start_time": "2022-08-21T16:44:06.424Z"
   },
   {
    "duration": 4,
    "start_time": "2022-08-21T16:44:10.876Z"
   },
   {
    "duration": 4,
    "start_time": "2022-08-21T16:44:23.672Z"
   },
   {
    "duration": 6,
    "start_time": "2022-08-21T16:48:01.996Z"
   },
   {
    "duration": 4,
    "start_time": "2022-08-21T16:48:20.038Z"
   },
   {
    "duration": 4,
    "start_time": "2022-08-21T16:48:22.532Z"
   },
   {
    "duration": 4,
    "start_time": "2022-08-21T16:48:22.909Z"
   },
   {
    "duration": 8,
    "start_time": "2022-08-21T16:49:19.365Z"
   },
   {
    "duration": 5,
    "start_time": "2022-08-21T16:49:19.854Z"
   },
   {
    "duration": 5,
    "start_time": "2022-08-21T16:49:20.441Z"
   },
   {
    "duration": 79814,
    "start_time": "2022-08-21T16:50:58.944Z"
   },
   {
    "duration": 551,
    "start_time": "2022-08-21T16:52:18.760Z"
   },
   {
    "duration": 847,
    "start_time": "2022-08-21T16:52:19.313Z"
   },
   {
    "duration": 18,
    "start_time": "2022-08-21T16:52:20.163Z"
   },
   {
    "duration": 9,
    "start_time": "2022-08-21T16:52:20.183Z"
   },
   {
    "duration": 137278,
    "start_time": "2022-08-21T16:52:20.193Z"
   },
   {
    "duration": 135041,
    "start_time": "2022-08-21T17:34:41.145Z"
   },
   {
    "duration": 664,
    "start_time": "2022-08-21T17:36:56.189Z"
   },
   {
    "duration": 3319,
    "start_time": "2022-08-21T17:36:56.855Z"
   },
   {
    "duration": 21,
    "start_time": "2022-08-21T17:37:00.177Z"
   },
   {
    "duration": 6,
    "start_time": "2022-08-21T17:37:00.199Z"
   },
   {
    "duration": 144455,
    "start_time": "2022-08-21T17:37:00.207Z"
   },
   {
    "duration": 81103,
    "start_time": "2022-08-21T19:27:24.589Z"
   },
   {
    "duration": 520,
    "start_time": "2022-08-21T19:28:45.695Z"
   },
   {
    "duration": 3665,
    "start_time": "2022-08-21T19:28:46.216Z"
   },
   {
    "duration": 24,
    "start_time": "2022-08-21T19:28:49.883Z"
   },
   {
    "duration": 9,
    "start_time": "2022-08-21T19:28:49.910Z"
   },
   {
    "duration": 152407,
    "start_time": "2022-08-21T19:28:49.921Z"
   },
   {
    "duration": 85286,
    "start_time": "2022-08-21T19:31:52.548Z"
   },
   {
    "duration": 538,
    "start_time": "2022-08-21T19:33:17.836Z"
   },
   {
    "duration": 4031,
    "start_time": "2022-08-21T19:33:18.375Z"
   },
   {
    "duration": 21,
    "start_time": "2022-08-21T19:33:22.409Z"
   },
   {
    "duration": 4,
    "start_time": "2022-08-21T19:33:22.431Z"
   },
   {
    "duration": 151985,
    "start_time": "2022-08-21T19:33:22.436Z"
   },
   {
    "duration": 71,
    "start_time": "2022-08-21T19:36:05.976Z"
   },
   {
    "duration": 78909,
    "start_time": "2022-08-21T19:37:56.354Z"
   },
   {
    "duration": 590,
    "start_time": "2022-08-21T19:39:15.265Z"
   },
   {
    "duration": 3564,
    "start_time": "2022-08-21T19:39:15.856Z"
   },
   {
    "duration": 24,
    "start_time": "2022-08-21T19:39:19.422Z"
   },
   {
    "duration": 3,
    "start_time": "2022-08-21T19:39:19.449Z"
   },
   {
    "duration": 149520,
    "start_time": "2022-08-21T19:39:19.454Z"
   },
   {
    "duration": 360,
    "start_time": "2022-08-21T19:41:48.976Z"
   },
   {
    "duration": 0,
    "start_time": "2022-08-21T19:41:49.339Z"
   },
   {
    "duration": 20,
    "start_time": "2022-08-21T19:46:26.406Z"
   },
   {
    "duration": 13,
    "start_time": "2022-08-21T19:46:30.624Z"
   },
   {
    "duration": 76891,
    "start_time": "2022-08-21T19:47:15.825Z"
   },
   {
    "duration": 570,
    "start_time": "2022-08-21T19:48:32.718Z"
   },
   {
    "duration": 3496,
    "start_time": "2022-08-21T19:48:33.290Z"
   },
   {
    "duration": 23,
    "start_time": "2022-08-21T19:48:36.788Z"
   },
   {
    "duration": 9,
    "start_time": "2022-08-21T19:48:36.813Z"
   },
   {
    "duration": 2103,
    "start_time": "2022-08-21T19:48:36.824Z"
   },
   {
    "duration": 148414,
    "start_time": "2022-08-21T19:48:38.929Z"
   },
   {
    "duration": 11,
    "start_time": "2022-08-21T19:51:07.345Z"
   },
   {
    "duration": 11817,
    "start_time": "2022-08-21T19:51:07.358Z"
   },
   {
    "duration": 4,
    "start_time": "2022-08-21T19:51:19.178Z"
   },
   {
    "duration": 119,
    "start_time": "2022-08-21T19:55:07.567Z"
   },
   {
    "duration": 13,
    "start_time": "2022-08-21T19:55:17.061Z"
   },
   {
    "duration": 3,
    "start_time": "2022-08-21T19:55:24.406Z"
   },
   {
    "duration": 3,
    "start_time": "2022-08-21T19:55:28.927Z"
   },
   {
    "duration": 6,
    "start_time": "2022-08-21T19:55:32.307Z"
   },
   {
    "duration": 13,
    "start_time": "2022-08-21T19:55:52.904Z"
   },
   {
    "duration": 4,
    "start_time": "2022-08-21T19:57:21.278Z"
   },
   {
    "duration": 51,
    "start_time": "2022-08-21T20:02:14.605Z"
   },
   {
    "duration": 46436,
    "start_time": "2022-08-21T20:03:11.437Z"
   },
   {
    "duration": 0,
    "start_time": "2022-08-21T20:03:57.875Z"
   },
   {
    "duration": 0,
    "start_time": "2022-08-21T20:03:57.877Z"
   },
   {
    "duration": 0,
    "start_time": "2022-08-21T20:03:57.878Z"
   },
   {
    "duration": 0,
    "start_time": "2022-08-21T20:03:57.879Z"
   },
   {
    "duration": 0,
    "start_time": "2022-08-21T20:03:57.880Z"
   },
   {
    "duration": 0,
    "start_time": "2022-08-21T20:03:57.881Z"
   },
   {
    "duration": 0,
    "start_time": "2022-08-21T20:03:57.882Z"
   },
   {
    "duration": 0,
    "start_time": "2022-08-21T20:03:57.883Z"
   },
   {
    "duration": 1768,
    "start_time": "2022-08-21T20:04:33.460Z"
   },
   {
    "duration": 381,
    "start_time": "2022-08-21T20:04:35.231Z"
   },
   {
    "duration": 3650,
    "start_time": "2022-08-21T20:04:35.614Z"
   },
   {
    "duration": 17,
    "start_time": "2022-08-21T20:04:39.266Z"
   },
   {
    "duration": 3,
    "start_time": "2022-08-21T20:04:39.285Z"
   },
   {
    "duration": 80,
    "start_time": "2022-08-21T20:04:39.291Z"
   },
   {
    "duration": 0,
    "start_time": "2022-08-21T20:04:39.372Z"
   },
   {
    "duration": 5318,
    "start_time": "2022-08-21T20:05:18.105Z"
   },
   {
    "duration": 4,
    "start_time": "2022-08-21T20:05:27.142Z"
   },
   {
    "duration": 175,
    "start_time": "2022-08-21T20:05:37.772Z"
   },
   {
    "duration": 5358,
    "start_time": "2022-08-21T20:05:42.835Z"
   },
   {
    "duration": 11,
    "start_time": "2022-08-21T20:05:49.114Z"
   },
   {
    "duration": 6,
    "start_time": "2022-08-21T20:05:59.399Z"
   },
   {
    "duration": 1350,
    "start_time": "2022-08-21T20:06:12.687Z"
   },
   {
    "duration": 1355,
    "start_time": "2022-08-21T20:06:21.072Z"
   },
   {
    "duration": 13,
    "start_time": "2022-08-21T20:06:34.602Z"
   },
   {
    "duration": 12,
    "start_time": "2022-08-21T20:06:39.664Z"
   },
   {
    "duration": 88,
    "start_time": "2022-08-21T20:06:42.239Z"
   },
   {
    "duration": 8,
    "start_time": "2022-08-21T20:06:52.046Z"
   },
   {
    "duration": 6,
    "start_time": "2022-08-21T20:06:57.090Z"
   },
   {
    "duration": 4,
    "start_time": "2022-08-21T20:06:59.840Z"
   },
   {
    "duration": 2444,
    "start_time": "2022-08-21T20:07:15.021Z"
   },
   {
    "duration": 4,
    "start_time": "2022-08-21T20:07:32.183Z"
   },
   {
    "duration": 12,
    "start_time": "2022-08-21T20:08:28.659Z"
   },
   {
    "duration": 12,
    "start_time": "2022-08-21T20:08:42.472Z"
   },
   {
    "duration": 12,
    "start_time": "2022-08-21T20:09:33.106Z"
   },
   {
    "duration": 13,
    "start_time": "2022-08-21T20:09:39.857Z"
   },
   {
    "duration": 11,
    "start_time": "2022-08-21T20:09:48.080Z"
   },
   {
    "duration": 5,
    "start_time": "2022-08-21T20:09:50.263Z"
   },
   {
    "duration": 3,
    "start_time": "2022-08-21T20:09:54.718Z"
   },
   {
    "duration": 7,
    "start_time": "2022-08-21T20:09:58.112Z"
   },
   {
    "duration": 10,
    "start_time": "2022-08-21T20:10:08.609Z"
   },
   {
    "duration": 6,
    "start_time": "2022-08-21T20:10:09.714Z"
   },
   {
    "duration": 15,
    "start_time": "2022-08-21T20:10:15.651Z"
   },
   {
    "duration": 16,
    "start_time": "2022-08-21T20:10:22.124Z"
   },
   {
    "duration": 8,
    "start_time": "2022-08-21T20:10:41.204Z"
   },
   {
    "duration": 9,
    "start_time": "2022-08-21T20:10:45.750Z"
   },
   {
    "duration": 1250,
    "start_time": "2022-08-21T20:10:47.869Z"
   },
   {
    "duration": 1282,
    "start_time": "2022-08-21T20:11:23.540Z"
   },
   {
    "duration": 16,
    "start_time": "2022-08-21T20:11:42.147Z"
   },
   {
    "duration": 4,
    "start_time": "2022-08-21T20:11:49.622Z"
   },
   {
    "duration": 7,
    "start_time": "2022-08-21T20:12:12.524Z"
   },
   {
    "duration": 4,
    "start_time": "2022-08-21T20:12:12.939Z"
   },
   {
    "duration": 7,
    "start_time": "2022-08-21T20:12:21.736Z"
   },
   {
    "duration": 5,
    "start_time": "2022-08-21T20:12:22.108Z"
   },
   {
    "duration": 10,
    "start_time": "2022-08-21T20:13:20.049Z"
   },
   {
    "duration": 5,
    "start_time": "2022-08-21T20:13:21.939Z"
   },
   {
    "duration": 6,
    "start_time": "2022-08-21T20:13:27.492Z"
   },
   {
    "duration": 3,
    "start_time": "2022-08-21T20:13:39.350Z"
   },
   {
    "duration": 8,
    "start_time": "2022-08-21T20:13:58.392Z"
   },
   {
    "duration": 3,
    "start_time": "2022-08-21T20:14:08.755Z"
   },
   {
    "duration": 5,
    "start_time": "2022-08-21T20:14:09.097Z"
   },
   {
    "duration": 3,
    "start_time": "2022-08-21T20:14:14.727Z"
   },
   {
    "duration": 5,
    "start_time": "2022-08-21T20:14:14.971Z"
   },
   {
    "duration": 5,
    "start_time": "2022-08-21T20:14:27.246Z"
   },
   {
    "duration": 4,
    "start_time": "2022-08-21T20:14:35.673Z"
   },
   {
    "duration": 3,
    "start_time": "2022-08-21T20:14:46.954Z"
   },
   {
    "duration": 5,
    "start_time": "2022-08-21T20:14:47.373Z"
   },
   {
    "duration": 5,
    "start_time": "2022-08-21T20:14:47.806Z"
   },
   {
    "duration": 1793,
    "start_time": "2022-08-21T20:17:36.379Z"
   },
   {
    "duration": 1272,
    "start_time": "2022-08-21T20:18:32.019Z"
   },
   {
    "duration": 276261,
    "start_time": "2022-08-21T20:18:47.875Z"
   },
   {
    "duration": 1917,
    "start_time": "2022-08-21T20:23:46.359Z"
   },
   {
    "duration": 398,
    "start_time": "2022-08-21T20:23:48.279Z"
   },
   {
    "duration": 1078,
    "start_time": "2022-08-21T20:23:48.679Z"
   },
   {
    "duration": 18,
    "start_time": "2022-08-21T20:23:49.760Z"
   },
   {
    "duration": 5,
    "start_time": "2022-08-21T20:23:49.791Z"
   },
   {
    "duration": 20,
    "start_time": "2022-08-21T20:23:49.798Z"
   },
   {
    "duration": 308762,
    "start_time": "2022-08-21T20:23:49.821Z"
   },
   {
    "duration": 26,
    "start_time": "2022-08-21T20:28:58.585Z"
   },
   {
    "duration": 3,
    "start_time": "2022-08-21T20:30:30.412Z"
   },
   {
    "duration": 2454,
    "start_time": "2022-08-21T20:30:41.333Z"
   },
   {
    "duration": 12,
    "start_time": "2022-08-21T20:30:48.032Z"
   },
   {
    "duration": 11,
    "start_time": "2022-08-21T20:31:21.410Z"
   },
   {
    "duration": 151186,
    "start_time": "2022-08-21T20:31:23.308Z"
   },
   {
    "duration": 15,
    "start_time": "2022-08-21T20:33:54.496Z"
   },
   {
    "duration": 2196,
    "start_time": "2022-08-21T20:35:03.076Z"
   },
   {
    "duration": 64,
    "start_time": "2022-08-21T20:41:03.428Z"
   },
   {
    "duration": 7,
    "start_time": "2022-08-21T20:42:25.341Z"
   },
   {
    "duration": 1760,
    "start_time": "2022-08-21T20:43:36.871Z"
   },
   {
    "duration": 426,
    "start_time": "2022-08-21T20:43:38.633Z"
   },
   {
    "duration": 3414,
    "start_time": "2022-08-21T20:43:39.061Z"
   },
   {
    "duration": 16,
    "start_time": "2022-08-21T20:43:42.478Z"
   },
   {
    "duration": 11,
    "start_time": "2022-08-21T20:43:42.496Z"
   },
   {
    "duration": 12,
    "start_time": "2022-08-21T20:43:42.509Z"
   },
   {
    "duration": 137421,
    "start_time": "2022-08-21T20:43:42.522Z"
   },
   {
    "duration": 14,
    "start_time": "2022-08-21T20:45:59.945Z"
   },
   {
    "duration": 5,
    "start_time": "2022-08-21T20:45:59.962Z"
   },
   {
    "duration": 8361,
    "start_time": "2022-08-21T20:45:59.969Z"
   },
   {
    "duration": 45,
    "start_time": "2022-08-21T20:48:32.515Z"
   },
   {
    "duration": 3,
    "start_time": "2022-08-21T20:48:33.129Z"
   },
   {
    "duration": 53,
    "start_time": "2022-08-21T20:49:23.246Z"
   },
   {
    "duration": 2,
    "start_time": "2022-08-21T20:49:23.533Z"
   },
   {
    "duration": 60,
    "start_time": "2022-08-21T20:49:23.946Z"
   },
   {
    "duration": 4,
    "start_time": "2022-08-21T20:49:24.159Z"
   },
   {
    "duration": 150,
    "start_time": "2022-08-21T20:49:27.010Z"
   },
   {
    "duration": 12622,
    "start_time": "2022-08-21T20:49:47.510Z"
   },
   {
    "duration": 58371,
    "start_time": "2022-08-21T20:50:04.320Z"
   },
   {
    "duration": 7,
    "start_time": "2022-08-21T20:52:03.560Z"
   },
   {
    "duration": 11,
    "start_time": "2022-08-21T20:52:26.310Z"
   },
   {
    "duration": 17,
    "start_time": "2022-08-21T20:52:33.052Z"
   },
   {
    "duration": 18,
    "start_time": "2022-08-21T20:52:51.207Z"
   },
   {
    "duration": 18,
    "start_time": "2022-08-21T20:53:01.560Z"
   },
   {
    "duration": 16,
    "start_time": "2022-08-21T20:53:22.976Z"
   },
   {
    "duration": 85,
    "start_time": "2022-08-21T20:54:19.372Z"
   },
   {
    "duration": 79,
    "start_time": "2022-08-21T20:54:20.779Z"
   },
   {
    "duration": 4,
    "start_time": "2022-08-21T20:54:30.136Z"
   },
   {
    "duration": 13,
    "start_time": "2022-08-21T20:54:50.386Z"
   },
   {
    "duration": 17,
    "start_time": "2022-08-21T20:57:02.609Z"
   },
   {
    "duration": 14,
    "start_time": "2022-08-21T20:57:40.719Z"
   },
   {
    "duration": 36,
    "start_time": "2022-08-21T21:03:09.399Z"
   },
   {
    "duration": 62395,
    "start_time": "2022-08-21T21:06:06.190Z"
   },
   {
    "duration": 55,
    "start_time": "2022-08-21T21:07:08.587Z"
   },
   {
    "duration": 7,
    "start_time": "2022-08-21T21:08:13.508Z"
   },
   {
    "duration": 14,
    "start_time": "2022-08-21T21:08:13.850Z"
   },
   {
    "duration": 25,
    "start_time": "2022-08-21T21:08:20.249Z"
   },
   {
    "duration": 173031,
    "start_time": "2022-08-21T21:09:05.207Z"
   },
   {
    "duration": 35,
    "start_time": "2022-08-21T21:11:58.240Z"
   },
   {
    "duration": 24,
    "start_time": "2022-08-21T21:12:55.113Z"
   },
   {
    "duration": 15,
    "start_time": "2022-08-21T21:12:58.383Z"
   },
   {
    "duration": 685,
    "start_time": "2022-08-21T21:13:29.305Z"
   },
   {
    "duration": 13,
    "start_time": "2022-08-21T21:14:22.353Z"
   },
   {
    "duration": 308759,
    "start_time": "2022-08-21T21:14:36.639Z"
   },
   {
    "duration": 0,
    "start_time": "2022-08-21T21:19:45.400Z"
   },
   {
    "duration": 508,
    "start_time": "2022-08-21T21:46:21.632Z"
   },
   {
    "duration": 1751,
    "start_time": "2022-08-21T21:46:50.423Z"
   },
   {
    "duration": 402,
    "start_time": "2022-08-21T21:46:52.176Z"
   },
   {
    "duration": 922,
    "start_time": "2022-08-21T21:46:52.580Z"
   },
   {
    "duration": 17,
    "start_time": "2022-08-21T21:46:53.504Z"
   },
   {
    "duration": 3,
    "start_time": "2022-08-21T21:46:53.523Z"
   },
   {
    "duration": 5,
    "start_time": "2022-08-21T21:46:53.528Z"
   },
   {
    "duration": 134466,
    "start_time": "2022-08-21T21:46:53.534Z"
   },
   {
    "duration": 14,
    "start_time": "2022-08-21T21:49:08.002Z"
   },
   {
    "duration": 5,
    "start_time": "2022-08-21T21:49:08.018Z"
   },
   {
    "duration": 8093,
    "start_time": "2022-08-21T21:49:08.026Z"
   },
   {
    "duration": 42,
    "start_time": "2022-08-21T21:49:16.121Z"
   },
   {
    "duration": 3,
    "start_time": "2022-08-21T21:49:16.165Z"
   },
   {
    "duration": 75,
    "start_time": "2022-08-21T21:49:16.169Z"
   },
   {
    "duration": 3,
    "start_time": "2022-08-21T21:49:16.246Z"
   },
   {
    "duration": 58750,
    "start_time": "2022-08-21T21:49:16.251Z"
   },
   {
    "duration": 7,
    "start_time": "2022-08-21T21:50:15.003Z"
   },
   {
    "duration": 29,
    "start_time": "2022-08-21T21:50:15.011Z"
   },
   {
    "duration": 169483,
    "start_time": "2022-08-21T21:50:15.041Z"
   },
   {
    "duration": 66,
    "start_time": "2022-08-21T21:53:04.526Z"
   },
   {
    "duration": 308021,
    "start_time": "2022-08-21T21:53:04.593Z"
   },
   {
    "duration": 482,
    "start_time": "2022-08-21T21:58:12.615Z"
   },
   {
    "duration": 1732,
    "start_time": "2022-08-22T07:33:12.778Z"
   },
   {
    "duration": 469,
    "start_time": "2022-08-22T07:33:14.512Z"
   },
   {
    "duration": 3229,
    "start_time": "2022-08-22T07:33:14.982Z"
   },
   {
    "duration": 16,
    "start_time": "2022-08-22T07:33:18.213Z"
   },
   {
    "duration": 3,
    "start_time": "2022-08-22T07:33:18.230Z"
   },
   {
    "duration": 6,
    "start_time": "2022-08-22T07:33:18.235Z"
   },
   {
    "duration": 135154,
    "start_time": "2022-08-22T07:33:18.243Z"
   },
   {
    "duration": 13,
    "start_time": "2022-08-22T07:35:33.399Z"
   },
   {
    "duration": 5,
    "start_time": "2022-08-22T07:35:33.413Z"
   },
   {
    "duration": 8392,
    "start_time": "2022-08-22T07:35:33.421Z"
   },
   {
    "duration": 53,
    "start_time": "2022-08-22T07:35:41.815Z"
   },
   {
    "duration": 2,
    "start_time": "2022-08-22T07:35:41.870Z"
   },
   {
    "duration": 75,
    "start_time": "2022-08-22T07:35:41.874Z"
   },
   {
    "duration": 4,
    "start_time": "2022-08-22T07:35:41.951Z"
   },
   {
    "duration": 48602,
    "start_time": "2022-08-22T07:35:41.967Z"
   },
   {
    "duration": 7,
    "start_time": "2022-08-22T07:36:30.571Z"
   },
   {
    "duration": 13,
    "start_time": "2022-08-22T07:36:30.580Z"
   },
   {
    "duration": 159180,
    "start_time": "2022-08-22T07:36:30.594Z"
   },
   {
    "duration": 20,
    "start_time": "2022-08-22T07:39:09.776Z"
   },
   {
    "duration": 0,
    "start_time": "2022-08-22T07:39:09.798Z"
   },
   {
    "duration": 0,
    "start_time": "2022-08-22T07:39:09.799Z"
   },
   {
    "duration": 108,
    "start_time": "2022-08-22T07:39:54.129Z"
   },
   {
    "duration": 108,
    "start_time": "2022-08-22T07:40:05.478Z"
   },
   {
    "duration": 234,
    "start_time": "2022-08-22T07:40:16.853Z"
   },
   {
    "duration": 52424,
    "start_time": "2022-08-22T07:40:22.367Z"
   },
   {
    "duration": 17,
    "start_time": "2022-08-22T07:41:14.792Z"
   },
   {
    "duration": 830,
    "start_time": "2022-08-22T07:41:38.273Z"
   },
   {
    "duration": 1770,
    "start_time": "2022-08-22T07:41:47.275Z"
   },
   {
    "duration": 14,
    "start_time": "2022-08-22T07:43:04.558Z"
   },
   {
    "duration": 73,
    "start_time": "2022-08-22T07:43:12.310Z"
   },
   {
    "duration": 78,
    "start_time": "2022-08-22T07:43:15.571Z"
   },
   {
    "duration": 11,
    "start_time": "2022-08-22T07:43:19.046Z"
   },
   {
    "duration": 17,
    "start_time": "2022-08-22T07:43:23.342Z"
   },
   {
    "duration": 13,
    "start_time": "2022-08-22T07:43:28.725Z"
   },
   {
    "duration": 3,
    "start_time": "2022-08-22T07:44:11.495Z"
   },
   {
    "duration": 1716,
    "start_time": "2022-08-22T07:44:17.509Z"
   },
   {
    "duration": 381,
    "start_time": "2022-08-22T07:44:19.228Z"
   },
   {
    "duration": 868,
    "start_time": "2022-08-22T07:44:19.611Z"
   },
   {
    "duration": 4,
    "start_time": "2022-08-22T07:44:20.482Z"
   },
   {
    "duration": 30,
    "start_time": "2022-08-22T07:44:20.488Z"
   },
   {
    "duration": 10,
    "start_time": "2022-08-22T07:44:20.520Z"
   },
   {
    "duration": 43713,
    "start_time": "2022-08-22T07:44:20.532Z"
   },
   {
    "duration": 27,
    "start_time": "2022-08-22T07:45:04.246Z"
   },
   {
    "duration": 3,
    "start_time": "2022-08-22T07:45:04.275Z"
   },
   {
    "duration": 2569,
    "start_time": "2022-08-22T07:45:04.280Z"
   },
   {
    "duration": 25,
    "start_time": "2022-08-22T07:45:06.850Z"
   },
   {
    "duration": 3,
    "start_time": "2022-08-22T07:45:06.877Z"
   },
   {
    "duration": 30,
    "start_time": "2022-08-22T07:45:06.881Z"
   },
   {
    "duration": 3,
    "start_time": "2022-08-22T07:45:06.913Z"
   },
   {
    "duration": 20758,
    "start_time": "2022-08-22T07:45:06.918Z"
   },
   {
    "duration": 90,
    "start_time": "2022-08-22T07:45:27.678Z"
   },
   {
    "duration": 7,
    "start_time": "2022-08-22T07:45:27.770Z"
   },
   {
    "duration": 41382,
    "start_time": "2022-08-22T07:45:27.778Z"
   },
   {
    "duration": 35,
    "start_time": "2022-08-22T07:46:09.161Z"
   },
   {
    "duration": 107924,
    "start_time": "2022-08-22T07:46:09.198Z"
   },
   {
    "duration": 155,
    "start_time": "2022-08-22T07:47:57.124Z"
   },
   {
    "duration": 26,
    "start_time": "2022-08-22T07:48:00.993Z"
   },
   {
    "duration": 4,
    "start_time": "2022-08-22T07:48:09.340Z"
   },
   {
    "duration": 8,
    "start_time": "2022-08-22T07:48:38.345Z"
   },
   {
    "duration": 5,
    "start_time": "2022-08-22T07:48:47.882Z"
   },
   {
    "duration": 91,
    "start_time": "2022-08-22T07:48:57.316Z"
   },
   {
    "duration": 9,
    "start_time": "2022-08-22T07:49:05.211Z"
   },
   {
    "duration": 143,
    "start_time": "2022-08-22T07:50:25.918Z"
   },
   {
    "duration": 13,
    "start_time": "2022-08-22T07:50:42.888Z"
   },
   {
    "duration": 385,
    "start_time": "2022-08-22T07:50:52.234Z"
   },
   {
    "duration": 14,
    "start_time": "2022-08-22T07:50:59.307Z"
   },
   {
    "duration": 15,
    "start_time": "2022-08-22T07:53:07.027Z"
   },
   {
    "duration": 6,
    "start_time": "2022-08-22T07:53:10.992Z"
   },
   {
    "duration": 11,
    "start_time": "2022-08-22T07:54:46.041Z"
   },
   {
    "duration": 4,
    "start_time": "2022-08-22T07:54:49.807Z"
   },
   {
    "duration": 11,
    "start_time": "2022-08-22T07:54:53.167Z"
   },
   {
    "duration": 10,
    "start_time": "2022-08-22T07:55:27.838Z"
   },
   {
    "duration": 14,
    "start_time": "2022-08-22T08:00:26.792Z"
   },
   {
    "duration": 12,
    "start_time": "2022-08-22T08:00:41.353Z"
   },
   {
    "duration": 15,
    "start_time": "2022-08-22T08:00:44.774Z"
   },
   {
    "duration": 18,
    "start_time": "2022-08-22T08:01:46.968Z"
   },
   {
    "duration": 14,
    "start_time": "2022-08-22T08:01:55.836Z"
   },
   {
    "duration": 13,
    "start_time": "2022-08-22T08:02:22.998Z"
   },
   {
    "duration": 13,
    "start_time": "2022-08-22T08:02:27.845Z"
   },
   {
    "duration": 5,
    "start_time": "2022-08-22T08:02:31.260Z"
   },
   {
    "duration": 9,
    "start_time": "2022-08-22T08:03:12.822Z"
   },
   {
    "duration": 19,
    "start_time": "2022-08-22T08:03:20.061Z"
   },
   {
    "duration": 10,
    "start_time": "2022-08-22T08:03:26.321Z"
   },
   {
    "duration": 322,
    "start_time": "2022-08-22T08:03:36.807Z"
   },
   {
    "duration": 5,
    "start_time": "2022-08-22T08:03:43.930Z"
   },
   {
    "duration": 768,
    "start_time": "2022-08-22T08:04:03.801Z"
   },
   {
    "duration": 7,
    "start_time": "2022-08-22T08:04:05.818Z"
   },
   {
    "duration": 18,
    "start_time": "2022-08-22T08:04:17.974Z"
   },
   {
    "duration": 19,
    "start_time": "2022-08-22T08:05:32.524Z"
   },
   {
    "duration": 28,
    "start_time": "2022-08-22T08:05:37.046Z"
   },
   {
    "duration": 20,
    "start_time": "2022-08-22T08:05:44.307Z"
   },
   {
    "duration": 57,
    "start_time": "2022-08-22T08:06:35.548Z"
   },
   {
    "duration": 769,
    "start_time": "2022-08-22T08:06:50.468Z"
   },
   {
    "duration": 8,
    "start_time": "2022-08-22T08:06:51.769Z"
   },
   {
    "duration": 43,
    "start_time": "2022-08-22T08:06:52.270Z"
   },
   {
    "duration": 3,
    "start_time": "2022-08-22T08:07:23.973Z"
   },
   {
    "duration": 3,
    "start_time": "2022-08-22T08:07:25.050Z"
   },
   {
    "duration": 26818,
    "start_time": "2022-08-22T08:07:54.436Z"
   },
   {
    "duration": 21,
    "start_time": "2022-08-22T08:08:21.256Z"
   },
   {
    "duration": 10,
    "start_time": "2022-08-22T08:08:21.280Z"
   },
   {
    "duration": 1465,
    "start_time": "2022-08-22T08:09:57.934Z"
   },
   {
    "duration": 11,
    "start_time": "2022-08-22T08:09:59.568Z"
   },
   {
    "duration": 3,
    "start_time": "2022-08-22T08:10:02.351Z"
   },
   {
    "duration": 1498,
    "start_time": "2022-08-22T08:10:03.380Z"
   },
   {
    "duration": 11,
    "start_time": "2022-08-22T08:11:33.098Z"
   },
   {
    "duration": 11,
    "start_time": "2022-08-22T08:11:33.446Z"
   },
   {
    "duration": 2,
    "start_time": "2022-08-22T08:11:33.814Z"
   },
   {
    "duration": 7,
    "start_time": "2022-08-22T08:11:34.094Z"
   },
   {
    "duration": 1720,
    "start_time": "2022-08-22T08:13:40.095Z"
   },
   {
    "duration": 369,
    "start_time": "2022-08-22T08:13:41.816Z"
   },
   {
    "duration": 782,
    "start_time": "2022-08-22T08:13:42.187Z"
   },
   {
    "duration": 11,
    "start_time": "2022-08-22T08:13:42.971Z"
   },
   {
    "duration": 33,
    "start_time": "2022-08-22T08:13:42.983Z"
   },
   {
    "duration": 3,
    "start_time": "2022-08-22T08:13:43.018Z"
   },
   {
    "duration": 11,
    "start_time": "2022-08-22T08:13:43.022Z"
   },
   {
    "duration": 133245,
    "start_time": "2022-08-22T08:13:43.034Z"
   },
   {
    "duration": 26938,
    "start_time": "2022-08-22T08:15:56.280Z"
   },
   {
    "duration": 12,
    "start_time": "2022-08-22T08:16:23.222Z"
   },
   {
    "duration": 7,
    "start_time": "2022-08-22T08:16:23.236Z"
   },
   {
    "duration": 23,
    "start_time": "2022-08-22T08:16:23.245Z"
   },
   {
    "duration": 8033,
    "start_time": "2022-08-22T08:16:23.270Z"
   },
   {
    "duration": 1542,
    "start_time": "2022-08-22T08:16:31.305Z"
   },
   {
    "duration": 56,
    "start_time": "2022-08-22T08:16:32.849Z"
   },
   {
    "duration": 13,
    "start_time": "2022-08-22T08:16:32.907Z"
   },
   {
    "duration": 3,
    "start_time": "2022-08-22T08:16:32.922Z"
   },
   {
    "duration": 8,
    "start_time": "2022-08-22T08:16:32.927Z"
   },
   {
    "duration": 90,
    "start_time": "2022-08-22T08:16:32.938Z"
   },
   {
    "duration": 19,
    "start_time": "2022-08-22T08:16:33.030Z"
   },
   {
    "duration": 27,
    "start_time": "2022-08-22T08:16:33.052Z"
   },
   {
    "duration": 13,
    "start_time": "2022-08-22T08:16:33.081Z"
   },
   {
    "duration": 13577,
    "start_time": "2022-08-22T08:16:33.096Z"
   },
   {
    "duration": 93,
    "start_time": "2022-08-22T08:16:46.675Z"
   },
   {
    "duration": 40,
    "start_time": "2022-08-22T08:16:46.770Z"
   },
   {
    "duration": 211,
    "start_time": "2022-08-22T08:16:46.812Z"
   },
   {
    "duration": 0,
    "start_time": "2022-08-22T08:16:47.025Z"
   },
   {
    "duration": 0,
    "start_time": "2022-08-22T08:16:47.026Z"
   },
   {
    "duration": 0,
    "start_time": "2022-08-22T08:16:47.027Z"
   },
   {
    "duration": 11,
    "start_time": "2022-08-22T08:17:09.972Z"
   },
   {
    "duration": 11,
    "start_time": "2022-08-22T08:17:11.749Z"
   },
   {
    "duration": 4,
    "start_time": "2022-08-22T08:18:12.187Z"
   },
   {
    "duration": 12,
    "start_time": "2022-08-22T08:19:00.596Z"
   },
   {
    "duration": 4,
    "start_time": "2022-08-22T08:19:02.966Z"
   },
   {
    "duration": 3,
    "start_time": "2022-08-22T08:19:34.293Z"
   },
   {
    "duration": 4,
    "start_time": "2022-08-22T08:19:55.466Z"
   },
   {
    "duration": 12,
    "start_time": "2022-08-22T08:21:03.030Z"
   },
   {
    "duration": 4,
    "start_time": "2022-08-22T08:21:17.645Z"
   },
   {
    "duration": 4,
    "start_time": "2022-08-22T08:21:22.845Z"
   },
   {
    "duration": 4,
    "start_time": "2022-08-22T08:21:31.981Z"
   },
   {
    "duration": 4,
    "start_time": "2022-08-22T08:21:32.182Z"
   },
   {
    "duration": 3,
    "start_time": "2022-08-22T08:22:23.873Z"
   },
   {
    "duration": 3,
    "start_time": "2022-08-22T08:22:29.671Z"
   },
   {
    "duration": 11,
    "start_time": "2022-08-22T08:23:12.991Z"
   },
   {
    "duration": 7,
    "start_time": "2022-08-22T08:23:13.622Z"
   },
   {
    "duration": 4,
    "start_time": "2022-08-22T08:23:18.566Z"
   },
   {
    "duration": 36,
    "start_time": "2022-08-22T08:23:29.292Z"
   },
   {
    "duration": 9,
    "start_time": "2022-08-22T08:23:29.846Z"
   },
   {
    "duration": 4,
    "start_time": "2022-08-22T08:23:56.803Z"
   },
   {
    "duration": 5,
    "start_time": "2022-08-22T08:24:05.241Z"
   },
   {
    "duration": 1780,
    "start_time": "2022-08-22T08:29:00.443Z"
   },
   {
    "duration": 360,
    "start_time": "2022-08-22T08:29:02.225Z"
   },
   {
    "duration": 806,
    "start_time": "2022-08-22T08:29:02.587Z"
   },
   {
    "duration": 10,
    "start_time": "2022-08-22T08:29:03.395Z"
   },
   {
    "duration": 35,
    "start_time": "2022-08-22T08:29:03.407Z"
   },
   {
    "duration": 3,
    "start_time": "2022-08-22T08:29:03.444Z"
   },
   {
    "duration": 3,
    "start_time": "2022-08-22T08:29:03.468Z"
   },
   {
    "duration": 27473,
    "start_time": "2022-08-22T08:29:03.472Z"
   },
   {
    "duration": 3,
    "start_time": "2022-08-22T08:29:30.947Z"
   },
   {
    "duration": 1546,
    "start_time": "2022-08-22T08:29:30.953Z"
   },
   {
    "duration": 4,
    "start_time": "2022-08-22T08:29:32.501Z"
   },
   {
    "duration": 14,
    "start_time": "2022-08-22T08:29:32.507Z"
   },
   {
    "duration": 3,
    "start_time": "2022-08-22T08:29:32.523Z"
   },
   {
    "duration": 17,
    "start_time": "2022-08-22T08:29:32.528Z"
   },
   {
    "duration": 22,
    "start_time": "2022-08-22T08:29:32.547Z"
   },
   {
    "duration": 17499,
    "start_time": "2022-08-22T08:29:32.571Z"
   },
   {
    "duration": 5,
    "start_time": "2022-08-22T08:29:50.072Z"
   },
   {
    "duration": 96,
    "start_time": "2022-08-22T08:29:50.078Z"
   },
   {
    "duration": 11,
    "start_time": "2022-08-22T08:29:50.176Z"
   },
   {
    "duration": 258,
    "start_time": "2022-08-22T08:29:50.190Z"
   },
   {
    "duration": 20,
    "start_time": "2022-08-22T08:29:50.450Z"
   },
   {
    "duration": 0,
    "start_time": "2022-08-22T08:29:50.472Z"
   },
   {
    "duration": 70439,
    "start_time": "2022-08-22T08:31:08.621Z"
   },
   {
    "duration": 89,
    "start_time": "2022-08-22T08:32:19.062Z"
   },
   {
    "duration": 16,
    "start_time": "2022-08-22T08:32:19.153Z"
   },
   {
    "duration": 70587,
    "start_time": "2022-08-22T08:34:35.441Z"
   },
   {
    "duration": 171,
    "start_time": "2022-08-22T08:35:46.030Z"
   },
   {
    "duration": 204,
    "start_time": "2022-08-22T08:37:12.714Z"
   },
   {
    "duration": 95,
    "start_time": "2022-08-22T08:37:13.958Z"
   },
   {
    "duration": 9,
    "start_time": "2022-08-22T08:37:14.937Z"
   },
   {
    "duration": 38695,
    "start_time": "2022-08-22T08:38:00.790Z"
   },
   {
    "duration": 13,
    "start_time": "2022-08-22T08:38:39.487Z"
   },
   {
    "duration": 13,
    "start_time": "2022-08-22T08:38:49.077Z"
   },
   {
    "duration": 15,
    "start_time": "2022-08-22T08:38:51.672Z"
   },
   {
    "duration": 50,
    "start_time": "2022-08-22T08:38:55.408Z"
   },
   {
    "duration": 1635,
    "start_time": "2022-08-22T16:09:09.070Z"
   },
   {
    "duration": 319,
    "start_time": "2022-08-22T16:09:10.707Z"
   },
   {
    "duration": 2601,
    "start_time": "2022-08-22T16:09:11.028Z"
   },
   {
    "duration": 9,
    "start_time": "2022-08-22T16:09:13.631Z"
   },
   {
    "duration": 32,
    "start_time": "2022-08-22T16:09:13.642Z"
   },
   {
    "duration": 3,
    "start_time": "2022-08-22T16:09:13.675Z"
   },
   {
    "duration": 3,
    "start_time": "2022-08-22T16:09:13.684Z"
   },
   {
    "duration": 27236,
    "start_time": "2022-08-22T16:09:13.688Z"
   },
   {
    "duration": 3,
    "start_time": "2022-08-22T16:09:40.926Z"
   },
   {
    "duration": 1587,
    "start_time": "2022-08-22T16:09:40.931Z"
   },
   {
    "duration": 4,
    "start_time": "2022-08-22T16:09:42.520Z"
   },
   {
    "duration": 11,
    "start_time": "2022-08-22T16:09:42.525Z"
   },
   {
    "duration": 2,
    "start_time": "2022-08-22T16:09:42.538Z"
   },
   {
    "duration": 13,
    "start_time": "2022-08-22T16:09:42.541Z"
   },
   {
    "duration": 3,
    "start_time": "2022-08-22T16:09:42.555Z"
   },
   {
    "duration": 23807,
    "start_time": "2022-08-22T16:09:42.584Z"
   },
   {
    "duration": 14,
    "start_time": "2022-08-22T16:10:06.408Z"
   },
   {
    "duration": 11,
    "start_time": "2022-08-22T16:10:06.428Z"
   },
   {
    "duration": 50,
    "start_time": "2022-08-22T16:10:06.441Z"
   },
   {
    "duration": 30873,
    "start_time": "2022-08-22T16:10:06.495Z"
   },
   {
    "duration": 49,
    "start_time": "2022-08-22T16:10:37.370Z"
   },
   {
    "duration": 73235,
    "start_time": "2022-08-22T16:10:37.421Z"
   },
   {
    "duration": 222,
    "start_time": "2022-08-22T16:11:50.658Z"
   },
   {
    "duration": 95,
    "start_time": "2022-08-22T16:11:50.882Z"
   },
   {
    "duration": 22,
    "start_time": "2022-08-22T16:11:50.979Z"
   },
   {
    "duration": 1617,
    "start_time": "2022-08-22T16:26:48.965Z"
   },
   {
    "duration": 392,
    "start_time": "2022-08-22T16:26:50.585Z"
   },
   {
    "duration": 817,
    "start_time": "2022-08-22T16:26:50.978Z"
   },
   {
    "duration": 14,
    "start_time": "2022-08-22T16:26:51.801Z"
   },
   {
    "duration": 48,
    "start_time": "2022-08-22T16:26:51.817Z"
   },
   {
    "duration": 3,
    "start_time": "2022-08-22T16:26:51.866Z"
   },
   {
    "duration": 44,
    "start_time": "2022-08-22T16:26:51.870Z"
   },
   {
    "duration": 28654,
    "start_time": "2022-08-22T16:26:51.916Z"
   },
   {
    "duration": 3,
    "start_time": "2022-08-22T16:27:20.571Z"
   },
   {
    "duration": 1445,
    "start_time": "2022-08-22T16:27:20.576Z"
   },
   {
    "duration": 4,
    "start_time": "2022-08-22T16:27:22.022Z"
   },
   {
    "duration": 20,
    "start_time": "2022-08-22T16:27:22.027Z"
   },
   {
    "duration": 8,
    "start_time": "2022-08-22T16:27:22.049Z"
   },
   {
    "duration": 23,
    "start_time": "2022-08-22T16:27:22.059Z"
   },
   {
    "duration": 16,
    "start_time": "2022-08-22T16:27:22.083Z"
   },
   {
    "duration": 25499,
    "start_time": "2022-08-22T16:27:22.103Z"
   },
   {
    "duration": 13,
    "start_time": "2022-08-22T16:27:47.604Z"
   },
   {
    "duration": 79,
    "start_time": "2022-08-22T16:27:47.619Z"
   },
   {
    "duration": 23,
    "start_time": "2022-08-22T16:27:47.701Z"
   },
   {
    "duration": 17669,
    "start_time": "2022-08-22T16:27:47.725Z"
   },
   {
    "duration": 43,
    "start_time": "2022-08-22T16:28:05.395Z"
   },
   {
    "duration": 67535,
    "start_time": "2022-08-22T16:28:05.439Z"
   },
   {
    "duration": 235,
    "start_time": "2022-08-22T16:29:12.976Z"
   },
   {
    "duration": 92,
    "start_time": "2022-08-22T16:29:13.213Z"
   },
   {
    "duration": 15,
    "start_time": "2022-08-22T16:29:13.307Z"
   },
   {
    "duration": 124,
    "start_time": "2022-08-22T16:37:43.117Z"
   },
   {
    "duration": 9,
    "start_time": "2022-08-22T16:40:51.504Z"
   },
   {
    "duration": 7,
    "start_time": "2022-08-22T16:40:55.415Z"
   },
   {
    "duration": 3,
    "start_time": "2022-08-22T16:40:58.844Z"
   },
   {
    "duration": 3,
    "start_time": "2022-08-22T16:41:20.568Z"
   },
   {
    "duration": 1517,
    "start_time": "2022-08-22T16:42:20.598Z"
   },
   {
    "duration": 367,
    "start_time": "2022-08-22T16:42:22.117Z"
   },
   {
    "duration": 831,
    "start_time": "2022-08-22T16:42:22.486Z"
   },
   {
    "duration": 9,
    "start_time": "2022-08-22T16:42:23.319Z"
   },
   {
    "duration": 30,
    "start_time": "2022-08-22T16:42:23.330Z"
   },
   {
    "duration": 2,
    "start_time": "2022-08-22T16:42:23.362Z"
   },
   {
    "duration": 28,
    "start_time": "2022-08-22T16:42:23.366Z"
   },
   {
    "duration": 26506,
    "start_time": "2022-08-22T16:42:23.400Z"
   },
   {
    "duration": 731,
    "start_time": "2022-08-22T16:42:49.908Z"
   },
   {
    "duration": 2067,
    "start_time": "2022-08-22T16:42:50.640Z"
   },
   {
    "duration": 4,
    "start_time": "2022-08-22T16:42:52.708Z"
   },
   {
    "duration": 19,
    "start_time": "2022-08-22T16:42:52.714Z"
   },
   {
    "duration": 6,
    "start_time": "2022-08-22T16:42:52.735Z"
   },
   {
    "duration": 17,
    "start_time": "2022-08-22T16:42:52.743Z"
   },
   {
    "duration": 5,
    "start_time": "2022-08-22T16:42:52.762Z"
   },
   {
    "duration": 20833,
    "start_time": "2022-08-22T16:42:52.770Z"
   },
   {
    "duration": 10,
    "start_time": "2022-08-22T16:43:13.690Z"
   },
   {
    "duration": 101,
    "start_time": "2022-08-22T16:43:13.705Z"
   },
   {
    "duration": 9,
    "start_time": "2022-08-22T16:43:13.808Z"
   },
   {
    "duration": 36141,
    "start_time": "2022-08-22T16:43:13.818Z"
   },
   {
    "duration": 52,
    "start_time": "2022-08-22T16:43:49.961Z"
   },
   {
    "duration": 65938,
    "start_time": "2022-08-22T16:43:50.015Z"
   },
   {
    "duration": 186,
    "start_time": "2022-08-22T16:44:55.955Z"
   },
   {
    "duration": 83,
    "start_time": "2022-08-22T16:44:56.143Z"
   },
   {
    "duration": 8,
    "start_time": "2022-08-22T16:44:56.227Z"
   },
   {
    "duration": 70377,
    "start_time": "2022-08-22T16:46:50.322Z"
   },
   {
    "duration": 13,
    "start_time": "2022-08-22T16:48:00.702Z"
   },
   {
    "duration": 3333,
    "start_time": "2022-08-23T05:23:44.888Z"
   },
   {
    "duration": 407,
    "start_time": "2022-08-23T05:23:48.223Z"
   },
   {
    "duration": 3156,
    "start_time": "2022-08-23T05:23:48.632Z"
   },
   {
    "duration": 10,
    "start_time": "2022-08-23T05:23:51.789Z"
   },
   {
    "duration": 30,
    "start_time": "2022-08-23T05:23:51.801Z"
   },
   {
    "duration": 6,
    "start_time": "2022-08-23T05:23:51.832Z"
   },
   {
    "duration": 3,
    "start_time": "2022-08-23T05:23:51.839Z"
   },
   {
    "duration": 6,
    "start_time": "2022-08-23T05:23:51.844Z"
   },
   {
    "duration": 23543,
    "start_time": "2022-08-23T05:23:51.851Z"
   },
   {
    "duration": 4,
    "start_time": "2022-08-23T05:24:15.396Z"
   },
   {
    "duration": 5,
    "start_time": "2022-08-23T05:24:46.769Z"
   },
   {
    "duration": 4,
    "start_time": "2022-08-23T05:25:10.895Z"
   },
   {
    "duration": 1510,
    "start_time": "2022-08-23T14:06:33.324Z"
   },
   {
    "duration": 363,
    "start_time": "2022-08-23T14:06:34.836Z"
   },
   {
    "duration": 2404,
    "start_time": "2022-08-23T14:06:36.382Z"
   },
   {
    "duration": 11,
    "start_time": "2022-08-23T14:06:41.070Z"
   },
   {
    "duration": 29,
    "start_time": "2022-08-23T14:06:45.991Z"
   },
   {
    "duration": 27,
    "start_time": "2022-08-23T14:07:40.472Z"
   },
   {
    "duration": 16,
    "start_time": "2022-08-23T14:11:23.653Z"
   },
   {
    "duration": 15,
    "start_time": "2022-08-23T14:11:36.918Z"
   },
   {
    "duration": 0,
    "start_time": "2022-08-23T14:12:28.925Z"
   },
   {
    "duration": 1552,
    "start_time": "2022-08-23T14:12:36.265Z"
   },
   {
    "duration": 291,
    "start_time": "2022-08-23T14:12:38.368Z"
   },
   {
    "duration": 843,
    "start_time": "2022-08-23T14:12:40.136Z"
   },
   {
    "duration": 11,
    "start_time": "2022-08-23T14:12:42.089Z"
   },
   {
    "duration": 19,
    "start_time": "2022-08-23T14:12:45.136Z"
   },
   {
    "duration": 16,
    "start_time": "2022-08-23T14:12:45.784Z"
   },
   {
    "duration": 149,
    "start_time": "2022-08-23T14:12:57.401Z"
   },
   {
    "duration": 619,
    "start_time": "2022-08-23T14:13:01.928Z"
   },
   {
    "duration": 5,
    "start_time": "2022-08-23T14:13:13.707Z"
   },
   {
    "duration": 28,
    "start_time": "2022-08-23T14:13:49.042Z"
   },
   {
    "duration": 31,
    "start_time": "2022-08-23T14:15:13.594Z"
   },
   {
    "duration": 36,
    "start_time": "2022-08-23T14:15:35.096Z"
   },
   {
    "duration": 30,
    "start_time": "2022-08-23T14:15:41.192Z"
   },
   {
    "duration": 14,
    "start_time": "2022-08-23T14:16:45.929Z"
   },
   {
    "duration": 3,
    "start_time": "2022-08-23T14:16:49.288Z"
   },
   {
    "duration": 3,
    "start_time": "2022-08-23T14:16:49.663Z"
   },
   {
    "duration": 6027,
    "start_time": "2022-08-23T14:16:51.247Z"
   },
   {
    "duration": 20674,
    "start_time": "2022-08-23T14:17:22.170Z"
   },
   {
    "duration": 24885,
    "start_time": "2022-08-23T14:17:42.846Z"
   },
   {
    "duration": 5,
    "start_time": "2022-08-23T14:19:14.991Z"
   },
   {
    "duration": 57748,
    "start_time": "2022-08-23T14:19:29.279Z"
   },
   {
    "duration": 232,
    "start_time": "2022-08-23T14:20:46.016Z"
   },
   {
    "duration": 628,
    "start_time": "2022-08-23T14:21:59.583Z"
   },
   {
    "duration": 3,
    "start_time": "2022-08-23T14:24:32.506Z"
   },
   {
    "duration": 572,
    "start_time": "2022-08-23T14:24:50.567Z"
   },
   {
    "duration": 3,
    "start_time": "2022-08-23T14:25:01.038Z"
   },
   {
    "duration": 486,
    "start_time": "2022-08-23T14:25:03.001Z"
   },
   {
    "duration": 3,
    "start_time": "2022-08-23T14:26:05.566Z"
   },
   {
    "duration": 318,
    "start_time": "2022-08-23T14:26:06.374Z"
   },
   {
    "duration": 865,
    "start_time": "2022-08-23T14:27:52.325Z"
   },
   {
    "duration": 5,
    "start_time": "2022-08-23T14:27:58.671Z"
   },
   {
    "duration": 4,
    "start_time": "2022-08-23T14:28:06.126Z"
   },
   {
    "duration": 7,
    "start_time": "2022-08-23T14:28:23.773Z"
   },
   {
    "duration": 16,
    "start_time": "2022-08-23T14:29:25.749Z"
   },
   {
    "duration": 18,
    "start_time": "2022-08-23T14:29:31.557Z"
   },
   {
    "duration": 17,
    "start_time": "2022-08-23T14:30:16.096Z"
   },
   {
    "duration": 17,
    "start_time": "2022-08-23T14:30:24.669Z"
   },
   {
    "duration": 17,
    "start_time": "2022-08-23T14:30:29.077Z"
   },
   {
    "duration": 39,
    "start_time": "2022-08-23T14:31:17.526Z"
   },
   {
    "duration": 39,
    "start_time": "2022-08-23T14:31:57.805Z"
   },
   {
    "duration": 24744,
    "start_time": "2022-08-23T14:32:10.213Z"
   },
   {
    "duration": 19927,
    "start_time": "2022-08-23T14:32:34.959Z"
   },
   {
    "duration": 10,
    "start_time": "2022-08-23T14:32:54.889Z"
   },
   {
    "duration": 2,
    "start_time": "2022-08-23T14:36:29.223Z"
   },
   {
    "duration": 843,
    "start_time": "2022-08-23T14:36:51.765Z"
   },
   {
    "duration": 40,
    "start_time": "2022-08-23T14:37:03.724Z"
   },
   {
    "duration": 17,
    "start_time": "2022-08-23T14:42:51.101Z"
   },
   {
    "duration": 440,
    "start_time": "2022-08-23T14:43:17.331Z"
   },
   {
    "duration": 16,
    "start_time": "2022-08-23T14:43:20.259Z"
   },
   {
    "duration": 16,
    "start_time": "2022-08-23T14:44:08.307Z"
   },
   {
    "duration": 17,
    "start_time": "2022-08-23T14:44:18.819Z"
   },
   {
    "duration": 445,
    "start_time": "2022-08-23T14:44:24.506Z"
   },
   {
    "duration": 3,
    "start_time": "2022-08-23T14:44:25.673Z"
   },
   {
    "duration": 16,
    "start_time": "2022-08-23T14:44:26.370Z"
   },
   {
    "duration": 53,
    "start_time": "2022-08-23T14:44:27.801Z"
   },
   {
    "duration": 637,
    "start_time": "2022-08-23T14:46:06.411Z"
   },
   {
    "duration": 410,
    "start_time": "2022-08-23T14:46:13.858Z"
   },
   {
    "duration": 17,
    "start_time": "2022-08-23T14:46:16.339Z"
   },
   {
    "duration": 17,
    "start_time": "2022-08-23T14:46:19.770Z"
   },
   {
    "duration": 16,
    "start_time": "2022-08-23T14:48:10.931Z"
   },
   {
    "duration": 21,
    "start_time": "2022-08-23T14:48:49.875Z"
   },
   {
    "duration": 4,
    "start_time": "2022-08-23T14:49:04.891Z"
   },
   {
    "duration": 21,
    "start_time": "2022-08-23T14:49:09.986Z"
   },
   {
    "duration": 17,
    "start_time": "2022-08-23T14:49:33.081Z"
   },
   {
    "duration": 4,
    "start_time": "2022-08-23T14:49:36.682Z"
   },
   {
    "duration": 3,
    "start_time": "2022-08-23T14:49:44.570Z"
   },
   {
    "duration": 4,
    "start_time": "2022-08-23T14:49:46.538Z"
   },
   {
    "duration": 1852,
    "start_time": "2022-08-23T14:50:02.438Z"
   },
   {
    "duration": 61070,
    "start_time": "2022-08-23T14:50:04.291Z"
   },
   {
    "duration": 776,
    "start_time": "2022-08-23T14:51:05.363Z"
   },
   {
    "duration": 10,
    "start_time": "2022-08-23T14:51:06.141Z"
   },
   {
    "duration": 17,
    "start_time": "2022-08-23T14:51:06.153Z"
   },
   {
    "duration": 5,
    "start_time": "2022-08-23T14:51:06.172Z"
   },
   {
    "duration": 52,
    "start_time": "2022-08-23T14:51:06.178Z"
   },
   {
    "duration": 3,
    "start_time": "2022-08-23T14:51:06.232Z"
   },
   {
    "duration": 6,
    "start_time": "2022-08-23T14:51:06.237Z"
   },
   {
    "duration": 462,
    "start_time": "2022-08-23T14:51:06.244Z"
   },
   {
    "duration": 337,
    "start_time": "2022-08-23T14:51:06.709Z"
   },
   {
    "duration": 0,
    "start_time": "2022-08-23T14:51:07.047Z"
   },
   {
    "duration": 16,
    "start_time": "2022-08-23T14:51:16.264Z"
   },
   {
    "duration": 16,
    "start_time": "2022-08-23T14:51:22.988Z"
   },
   {
    "duration": 17,
    "start_time": "2022-08-23T14:51:31.326Z"
   },
   {
    "duration": 16,
    "start_time": "2022-08-23T14:51:52.454Z"
   },
   {
    "duration": 16,
    "start_time": "2022-08-23T14:51:58.438Z"
   },
   {
    "duration": 469,
    "start_time": "2022-08-23T14:53:44.222Z"
   },
   {
    "duration": 18,
    "start_time": "2022-08-23T14:54:10.430Z"
   },
   {
    "duration": 16,
    "start_time": "2022-08-23T14:54:19.060Z"
   },
   {
    "duration": 3,
    "start_time": "2022-08-23T14:54:28.804Z"
   },
   {
    "duration": 115196,
    "start_time": "2022-08-23T14:54:49.654Z"
   },
   {
    "duration": 17,
    "start_time": "2022-08-23T14:57:13.243Z"
   },
   {
    "duration": 3,
    "start_time": "2022-08-23T14:57:21.707Z"
   },
   {
    "duration": 1925,
    "start_time": "2022-08-23T14:57:35.300Z"
   },
   {
    "duration": 50101,
    "start_time": "2022-08-23T14:57:37.227Z"
   },
   {
    "duration": 784,
    "start_time": "2022-08-23T14:58:27.330Z"
   },
   {
    "duration": 10,
    "start_time": "2022-08-23T14:58:28.115Z"
   },
   {
    "duration": 16,
    "start_time": "2022-08-23T14:58:28.127Z"
   },
   {
    "duration": 5,
    "start_time": "2022-08-23T14:58:28.144Z"
   },
   {
    "duration": 60,
    "start_time": "2022-08-23T14:58:28.150Z"
   },
   {
    "duration": 3,
    "start_time": "2022-08-23T14:58:28.211Z"
   },
   {
    "duration": 5,
    "start_time": "2022-08-23T14:58:28.215Z"
   },
   {
    "duration": 501,
    "start_time": "2022-08-23T14:58:28.221Z"
   },
   {
    "duration": 2,
    "start_time": "2022-08-23T14:58:28.724Z"
   },
   {
    "duration": 154590,
    "start_time": "2022-08-23T14:58:28.728Z"
   },
   {
    "duration": 10,
    "start_time": "2022-08-23T15:02:56.628Z"
   },
   {
    "duration": 5,
    "start_time": "2022-08-23T15:03:17.644Z"
   },
   {
    "duration": 5,
    "start_time": "2022-08-23T15:03:22.860Z"
   },
   {
    "duration": 11,
    "start_time": "2022-08-23T15:03:31.059Z"
   },
   {
    "duration": 4,
    "start_time": "2022-08-23T15:03:53.547Z"
   },
   {
    "duration": 4,
    "start_time": "2022-08-23T15:04:17.178Z"
   },
   {
    "duration": 4,
    "start_time": "2022-08-23T15:04:18.466Z"
   },
   {
    "duration": 3,
    "start_time": "2022-08-23T15:04:19.739Z"
   },
   {
    "duration": 143755,
    "start_time": "2022-08-23T15:04:20.731Z"
   },
   {
    "duration": 19,
    "start_time": "2022-08-23T15:06:44.488Z"
   },
   {
    "duration": 1767,
    "start_time": "2022-08-23T15:09:55.527Z"
   },
   {
    "duration": 56623,
    "start_time": "2022-08-23T15:09:57.295Z"
   },
   {
    "duration": 800,
    "start_time": "2022-08-23T15:10:53.920Z"
   },
   {
    "duration": 9,
    "start_time": "2022-08-23T15:10:54.722Z"
   },
   {
    "duration": 18,
    "start_time": "2022-08-23T15:10:54.733Z"
   },
   {
    "duration": 4,
    "start_time": "2022-08-23T15:10:54.753Z"
   },
   {
    "duration": 51,
    "start_time": "2022-08-23T15:10:54.759Z"
   },
   {
    "duration": 2,
    "start_time": "2022-08-23T15:10:54.812Z"
   },
   {
    "duration": 472,
    "start_time": "2022-08-23T15:10:54.816Z"
   },
   {
    "duration": 3,
    "start_time": "2022-08-23T15:10:55.289Z"
   },
   {
    "duration": 152367,
    "start_time": "2022-08-23T15:10:55.294Z"
   },
   {
    "duration": 178854,
    "start_time": "2022-08-23T15:13:27.662Z"
   },
   {
    "duration": 5,
    "start_time": "2022-08-23T15:16:26.517Z"
   },
   {
    "duration": 6,
    "start_time": "2022-08-23T15:16:26.524Z"
   },
   {
    "duration": 2263,
    "start_time": "2022-08-23T15:16:26.531Z"
   },
   {
    "duration": 4,
    "start_time": "2022-08-23T15:16:28.795Z"
   },
   {
    "duration": 6,
    "start_time": "2022-08-23T15:16:28.800Z"
   },
   {
    "duration": 10,
    "start_time": "2022-08-23T15:16:28.808Z"
   },
   {
    "duration": 7,
    "start_time": "2022-08-23T15:16:49.071Z"
   },
   {
    "duration": 7,
    "start_time": "2022-08-23T15:16:52.616Z"
   },
   {
    "duration": 8,
    "start_time": "2022-08-23T15:19:53.646Z"
   },
   {
    "duration": 4,
    "start_time": "2022-08-23T15:21:11.006Z"
   },
   {
    "duration": 4,
    "start_time": "2022-08-23T15:21:23.734Z"
   },
   {
    "duration": 356,
    "start_time": "2022-08-23T15:24:36.271Z"
   },
   {
    "duration": 1857,
    "start_time": "2022-08-23T15:28:28.690Z"
   },
   {
    "duration": 48834,
    "start_time": "2022-08-23T15:28:30.548Z"
   },
   {
    "duration": 790,
    "start_time": "2022-08-23T15:29:19.383Z"
   },
   {
    "duration": 10,
    "start_time": "2022-08-23T15:29:20.175Z"
   },
   {
    "duration": 22,
    "start_time": "2022-08-23T15:29:20.186Z"
   },
   {
    "duration": 5,
    "start_time": "2022-08-23T15:29:20.210Z"
   },
   {
    "duration": 32,
    "start_time": "2022-08-23T15:29:20.216Z"
   },
   {
    "duration": 3,
    "start_time": "2022-08-23T15:29:20.249Z"
   },
   {
    "duration": 468,
    "start_time": "2022-08-23T15:29:20.253Z"
   },
   {
    "duration": 3,
    "start_time": "2022-08-23T15:29:20.724Z"
   },
   {
    "duration": 150014,
    "start_time": "2022-08-23T15:29:20.729Z"
   },
   {
    "duration": 435,
    "start_time": "2022-08-23T15:31:50.745Z"
   },
   {
    "duration": 8,
    "start_time": "2022-08-23T15:31:51.181Z"
   },
   {
    "duration": 18,
    "start_time": "2022-08-23T15:31:51.190Z"
   },
   {
    "duration": 755,
    "start_time": "2022-08-23T15:31:51.210Z"
   },
   {
    "duration": 0,
    "start_time": "2022-08-23T15:31:51.966Z"
   },
   {
    "duration": 0,
    "start_time": "2022-08-23T15:31:51.968Z"
   },
   {
    "duration": 0,
    "start_time": "2022-08-23T15:31:51.969Z"
   },
   {
    "duration": 0,
    "start_time": "2022-08-23T15:31:51.970Z"
   },
   {
    "duration": 0,
    "start_time": "2022-08-23T15:31:51.971Z"
   },
   {
    "duration": 0,
    "start_time": "2022-08-23T15:31:51.972Z"
   },
   {
    "duration": 0,
    "start_time": "2022-08-23T15:31:51.973Z"
   },
   {
    "duration": 0,
    "start_time": "2022-08-23T15:31:51.974Z"
   },
   {
    "duration": 0,
    "start_time": "2022-08-23T15:31:51.974Z"
   },
   {
    "duration": 0,
    "start_time": "2022-08-23T15:31:51.975Z"
   },
   {
    "duration": 0,
    "start_time": "2022-08-23T15:31:51.976Z"
   },
   {
    "duration": 0,
    "start_time": "2022-08-23T15:31:51.977Z"
   },
   {
    "duration": 0,
    "start_time": "2022-08-23T15:31:51.978Z"
   },
   {
    "duration": 0,
    "start_time": "2022-08-23T15:31:51.978Z"
   },
   {
    "duration": 0,
    "start_time": "2022-08-23T15:31:51.979Z"
   },
   {
    "duration": 0,
    "start_time": "2022-08-23T15:31:51.980Z"
   },
   {
    "duration": 0,
    "start_time": "2022-08-23T15:31:51.981Z"
   },
   {
    "duration": 14,
    "start_time": "2022-08-23T15:34:35.018Z"
   },
   {
    "duration": 1837,
    "start_time": "2022-08-23T15:35:07.185Z"
   },
   {
    "duration": 47463,
    "start_time": "2022-08-23T15:35:09.024Z"
   },
   {
    "duration": 784,
    "start_time": "2022-08-23T15:35:56.489Z"
   },
   {
    "duration": 9,
    "start_time": "2022-08-23T15:35:57.275Z"
   },
   {
    "duration": 24,
    "start_time": "2022-08-23T15:35:57.286Z"
   },
   {
    "duration": 5,
    "start_time": "2022-08-23T15:35:57.312Z"
   },
   {
    "duration": 32,
    "start_time": "2022-08-23T15:35:57.318Z"
   },
   {
    "duration": 3,
    "start_time": "2022-08-23T15:35:57.351Z"
   },
   {
    "duration": 460,
    "start_time": "2022-08-23T15:35:57.355Z"
   },
   {
    "duration": 3,
    "start_time": "2022-08-23T15:35:57.817Z"
   },
   {
    "duration": 151050,
    "start_time": "2022-08-23T15:35:57.821Z"
   },
   {
    "duration": 376,
    "start_time": "2022-08-23T15:38:28.873Z"
   },
   {
    "duration": 7,
    "start_time": "2022-08-23T15:38:29.251Z"
   },
   {
    "duration": 9,
    "start_time": "2022-08-23T15:38:29.260Z"
   },
   {
    "duration": 808,
    "start_time": "2022-08-23T15:38:29.270Z"
   },
   {
    "duration": 0,
    "start_time": "2022-08-23T15:38:30.080Z"
   },
   {
    "duration": 0,
    "start_time": "2022-08-23T15:38:30.081Z"
   },
   {
    "duration": 0,
    "start_time": "2022-08-23T15:38:30.082Z"
   },
   {
    "duration": 0,
    "start_time": "2022-08-23T15:38:30.084Z"
   },
   {
    "duration": 0,
    "start_time": "2022-08-23T15:38:30.084Z"
   },
   {
    "duration": 0,
    "start_time": "2022-08-23T15:38:30.086Z"
   },
   {
    "duration": 0,
    "start_time": "2022-08-23T15:38:30.086Z"
   },
   {
    "duration": 0,
    "start_time": "2022-08-23T15:38:30.088Z"
   },
   {
    "duration": 0,
    "start_time": "2022-08-23T15:38:30.089Z"
   },
   {
    "duration": 0,
    "start_time": "2022-08-23T15:38:30.090Z"
   },
   {
    "duration": 0,
    "start_time": "2022-08-23T15:38:30.091Z"
   },
   {
    "duration": 0,
    "start_time": "2022-08-23T15:38:30.092Z"
   },
   {
    "duration": 0,
    "start_time": "2022-08-23T15:38:30.093Z"
   },
   {
    "duration": 0,
    "start_time": "2022-08-23T15:38:30.094Z"
   },
   {
    "duration": 0,
    "start_time": "2022-08-23T15:38:30.095Z"
   },
   {
    "duration": 0,
    "start_time": "2022-08-23T15:38:30.096Z"
   },
   {
    "duration": 0,
    "start_time": "2022-08-23T15:38:30.097Z"
   },
   {
    "duration": 1919,
    "start_time": "2022-08-23T15:39:50.525Z"
   },
   {
    "duration": 48922,
    "start_time": "2022-08-23T15:39:52.446Z"
   },
   {
    "duration": 775,
    "start_time": "2022-08-23T15:40:41.370Z"
   },
   {
    "duration": 10,
    "start_time": "2022-08-23T15:40:42.147Z"
   },
   {
    "duration": 18,
    "start_time": "2022-08-23T15:40:42.158Z"
   },
   {
    "duration": 5,
    "start_time": "2022-08-23T15:40:42.178Z"
   },
   {
    "duration": 32,
    "start_time": "2022-08-23T15:40:42.198Z"
   },
   {
    "duration": 3,
    "start_time": "2022-08-23T15:40:42.231Z"
   },
   {
    "duration": 463,
    "start_time": "2022-08-23T15:40:42.235Z"
   },
   {
    "duration": 3,
    "start_time": "2022-08-23T15:40:42.701Z"
   },
   {
    "duration": 149754,
    "start_time": "2022-08-23T15:40:42.705Z"
   },
   {
    "duration": 179368,
    "start_time": "2022-08-23T15:43:12.461Z"
   },
   {
    "duration": 7,
    "start_time": "2022-08-23T15:46:11.830Z"
   },
   {
    "duration": 8,
    "start_time": "2022-08-23T15:46:11.839Z"
   },
   {
    "duration": 7,
    "start_time": "2022-08-23T15:46:11.848Z"
   },
   {
    "duration": 2104,
    "start_time": "2022-08-23T15:46:11.856Z"
   },
   {
    "duration": 3,
    "start_time": "2022-08-23T15:46:13.962Z"
   },
   {
    "duration": 7,
    "start_time": "2022-08-23T15:46:13.966Z"
   },
   {
    "duration": 11,
    "start_time": "2022-08-23T15:46:13.974Z"
   },
   {
    "duration": 13,
    "start_time": "2022-08-23T15:46:13.986Z"
   },
   {
    "duration": 16,
    "start_time": "2022-08-23T15:46:14.000Z"
   },
   {
    "duration": 3,
    "start_time": "2022-08-23T15:46:14.017Z"
   },
   {
    "duration": 9077,
    "start_time": "2022-08-23T15:46:14.022Z"
   },
   {
    "duration": 95,
    "start_time": "2022-08-23T15:46:23.103Z"
   },
   {
    "duration": 9,
    "start_time": "2022-08-23T15:46:23.200Z"
   },
   {
    "duration": 11,
    "start_time": "2022-08-23T15:46:23.211Z"
   },
   {
    "duration": 17364,
    "start_time": "2022-08-23T15:46:23.224Z"
   },
   {
    "duration": 55,
    "start_time": "2022-08-23T15:46:40.590Z"
   },
   {
    "duration": 12,
    "start_time": "2022-08-23T15:46:40.646Z"
   },
   {
    "duration": 56926,
    "start_time": "2022-08-23T15:46:40.660Z"
   },
   {
    "duration": 96,
    "start_time": "2022-08-23T15:47:37.587Z"
   },
   {
    "duration": 18,
    "start_time": "2022-08-23T15:47:37.684Z"
   },
   {
    "duration": 776,
    "start_time": "2022-08-23T15:48:35.030Z"
   },
   {
    "duration": 6,
    "start_time": "2022-08-23T15:48:36.464Z"
   },
   {
    "duration": 21,
    "start_time": "2022-08-23T15:48:39.174Z"
   },
   {
    "duration": 7,
    "start_time": "2022-08-23T15:48:39.806Z"
   },
   {
    "duration": 1952,
    "start_time": "2022-08-23T15:48:53.684Z"
   },
   {
    "duration": 44923,
    "start_time": "2022-08-23T15:48:55.638Z"
   },
   {
    "duration": 774,
    "start_time": "2022-08-23T15:49:40.562Z"
   },
   {
    "duration": 10,
    "start_time": "2022-08-23T15:49:41.338Z"
   },
   {
    "duration": 16,
    "start_time": "2022-08-23T15:49:41.350Z"
   },
   {
    "duration": 5,
    "start_time": "2022-08-23T15:49:41.368Z"
   },
   {
    "duration": 54,
    "start_time": "2022-08-23T15:49:41.374Z"
   },
   {
    "duration": 2,
    "start_time": "2022-08-23T15:49:41.429Z"
   },
   {
    "duration": 463,
    "start_time": "2022-08-23T15:49:41.433Z"
   },
   {
    "duration": 2,
    "start_time": "2022-08-23T15:49:41.899Z"
   },
   {
    "duration": 168390,
    "start_time": "2022-08-23T15:49:41.902Z"
   },
   {
    "duration": 88484,
    "start_time": "2022-08-23T15:52:30.293Z"
   },
   {
    "duration": 7,
    "start_time": "2022-08-23T15:53:58.779Z"
   },
   {
    "duration": 16,
    "start_time": "2022-08-23T15:53:58.787Z"
   },
   {
    "duration": 4,
    "start_time": "2022-08-23T15:53:58.805Z"
   },
   {
    "duration": 1618,
    "start_time": "2022-08-23T15:53:58.810Z"
   },
   {
    "duration": 3,
    "start_time": "2022-08-23T15:54:00.430Z"
   },
   {
    "duration": 23,
    "start_time": "2022-08-23T15:54:00.434Z"
   },
   {
    "duration": 20,
    "start_time": "2022-08-23T15:54:00.458Z"
   },
   {
    "duration": 22,
    "start_time": "2022-08-23T15:54:00.480Z"
   },
   {
    "duration": 15,
    "start_time": "2022-08-23T15:54:00.503Z"
   },
   {
    "duration": 21,
    "start_time": "2022-08-23T15:54:00.519Z"
   },
   {
    "duration": 14856,
    "start_time": "2022-08-23T15:54:00.542Z"
   },
   {
    "duration": 94,
    "start_time": "2022-08-23T15:54:15.405Z"
   },
   {
    "duration": 10,
    "start_time": "2022-08-23T15:54:15.501Z"
   },
   {
    "duration": 8,
    "start_time": "2022-08-23T15:54:15.513Z"
   },
   {
    "duration": 30421,
    "start_time": "2022-08-23T15:54:15.523Z"
   },
   {
    "duration": 35,
    "start_time": "2022-08-23T15:54:45.947Z"
   },
   {
    "duration": 19,
    "start_time": "2022-08-23T15:54:45.983Z"
   },
   {
    "duration": 64551,
    "start_time": "2022-08-23T15:54:46.004Z"
   },
   {
    "duration": 78,
    "start_time": "2022-08-23T15:55:50.556Z"
   },
   {
    "duration": 23,
    "start_time": "2022-08-23T15:55:50.635Z"
   },
   {
    "duration": 35798,
    "start_time": "2022-08-23T15:58:27.388Z"
   },
   {
    "duration": 40,
    "start_time": "2022-08-23T15:59:03.188Z"
   },
   {
    "duration": 31,
    "start_time": "2022-08-23T15:59:17.839Z"
   },
   {
    "duration": 36,
    "start_time": "2022-08-23T15:59:20.621Z"
   },
   {
    "duration": 3,
    "start_time": "2022-08-23T15:59:24.165Z"
   },
   {
    "duration": 8,
    "start_time": "2022-08-23T16:00:30.389Z"
   },
   {
    "duration": 8,
    "start_time": "2022-08-23T16:00:38.012Z"
   },
   {
    "duration": 43,
    "start_time": "2022-08-23T16:00:47.997Z"
   },
   {
    "duration": 80,
    "start_time": "2022-08-23T16:00:57.476Z"
   },
   {
    "duration": 2,
    "start_time": "2022-08-23T16:02:12.573Z"
   },
   {
    "duration": 178,
    "start_time": "2022-08-23T16:02:52.644Z"
   },
   {
    "duration": 5,
    "start_time": "2022-08-23T16:02:59.780Z"
   },
   {
    "duration": 5,
    "start_time": "2022-08-23T16:03:07.789Z"
   },
   {
    "duration": 4,
    "start_time": "2022-08-23T16:11:30.971Z"
   },
   {
    "duration": 4,
    "start_time": "2022-08-23T16:11:42.347Z"
   },
   {
    "duration": 330,
    "start_time": "2022-08-23T16:11:57.203Z"
   },
   {
    "duration": 21,
    "start_time": "2022-08-23T16:12:06.268Z"
   },
   {
    "duration": 23,
    "start_time": "2022-08-23T16:12:34.508Z"
   },
   {
    "duration": 2045,
    "start_time": "2022-08-23T16:17:33.807Z"
   },
   {
    "duration": 46318,
    "start_time": "2022-08-23T16:17:35.853Z"
   },
   {
    "duration": 753,
    "start_time": "2022-08-23T16:18:22.172Z"
   },
   {
    "duration": 11,
    "start_time": "2022-08-23T16:18:22.926Z"
   },
   {
    "duration": 16,
    "start_time": "2022-08-23T16:18:22.938Z"
   },
   {
    "duration": 6,
    "start_time": "2022-08-23T16:18:22.955Z"
   },
   {
    "duration": 60,
    "start_time": "2022-08-23T16:18:22.962Z"
   },
   {
    "duration": 5,
    "start_time": "2022-08-23T16:18:23.024Z"
   },
   {
    "duration": 352,
    "start_time": "2022-08-23T16:18:23.031Z"
   },
   {
    "duration": 0,
    "start_time": "2022-08-23T16:18:23.385Z"
   },
   {
    "duration": 0,
    "start_time": "2022-08-23T16:18:23.386Z"
   },
   {
    "duration": 0,
    "start_time": "2022-08-23T16:18:23.387Z"
   },
   {
    "duration": 0,
    "start_time": "2022-08-23T16:18:23.388Z"
   },
   {
    "duration": 0,
    "start_time": "2022-08-23T16:18:23.389Z"
   },
   {
    "duration": 0,
    "start_time": "2022-08-23T16:18:23.398Z"
   },
   {
    "duration": 0,
    "start_time": "2022-08-23T16:18:23.399Z"
   },
   {
    "duration": 0,
    "start_time": "2022-08-23T16:18:23.400Z"
   },
   {
    "duration": 0,
    "start_time": "2022-08-23T16:18:23.401Z"
   },
   {
    "duration": 0,
    "start_time": "2022-08-23T16:18:23.402Z"
   },
   {
    "duration": 0,
    "start_time": "2022-08-23T16:18:23.403Z"
   },
   {
    "duration": 0,
    "start_time": "2022-08-23T16:18:23.403Z"
   },
   {
    "duration": 0,
    "start_time": "2022-08-23T16:18:23.404Z"
   },
   {
    "duration": 0,
    "start_time": "2022-08-23T16:18:23.405Z"
   },
   {
    "duration": 0,
    "start_time": "2022-08-23T16:18:23.406Z"
   },
   {
    "duration": 0,
    "start_time": "2022-08-23T16:18:23.407Z"
   },
   {
    "duration": 0,
    "start_time": "2022-08-23T16:18:23.409Z"
   },
   {
    "duration": 0,
    "start_time": "2022-08-23T16:18:23.409Z"
   },
   {
    "duration": 0,
    "start_time": "2022-08-23T16:18:23.410Z"
   },
   {
    "duration": 0,
    "start_time": "2022-08-23T16:18:23.412Z"
   },
   {
    "duration": 0,
    "start_time": "2022-08-23T16:18:23.413Z"
   },
   {
    "duration": 0,
    "start_time": "2022-08-23T16:18:23.414Z"
   },
   {
    "duration": 0,
    "start_time": "2022-08-23T16:18:23.415Z"
   },
   {
    "duration": 0,
    "start_time": "2022-08-23T16:18:23.415Z"
   },
   {
    "duration": 0,
    "start_time": "2022-08-23T16:18:23.416Z"
   },
   {
    "duration": 0,
    "start_time": "2022-08-23T16:18:23.418Z"
   },
   {
    "duration": 0,
    "start_time": "2022-08-23T16:18:23.419Z"
   },
   {
    "duration": 0,
    "start_time": "2022-08-23T16:18:23.420Z"
   },
   {
    "duration": 0,
    "start_time": "2022-08-23T16:18:23.421Z"
   },
   {
    "duration": 0,
    "start_time": "2022-08-23T16:18:23.422Z"
   },
   {
    "duration": 5,
    "start_time": "2022-08-23T16:18:39.317Z"
   },
   {
    "duration": 3,
    "start_time": "2022-08-23T16:18:50.709Z"
   },
   {
    "duration": 458,
    "start_time": "2022-08-23T16:18:51.173Z"
   },
   {
    "duration": 2,
    "start_time": "2022-08-23T16:18:51.633Z"
   },
   {
    "duration": 168035,
    "start_time": "2022-08-23T16:18:53.478Z"
   },
   {
    "duration": 89860,
    "start_time": "2022-08-23T16:21:41.515Z"
   },
   {
    "duration": 7,
    "start_time": "2022-08-23T16:23:11.377Z"
   },
   {
    "duration": 16,
    "start_time": "2022-08-23T16:23:11.386Z"
   },
   {
    "duration": 8,
    "start_time": "2022-08-23T16:23:11.404Z"
   },
   {
    "duration": 3,
    "start_time": "2022-08-23T16:23:11.413Z"
   },
   {
    "duration": 4,
    "start_time": "2022-08-23T16:23:11.418Z"
   },
   {
    "duration": 7,
    "start_time": "2022-08-23T16:23:11.423Z"
   },
   {
    "duration": 1096,
    "start_time": "2022-08-23T16:23:11.431Z"
   },
   {
    "duration": 618,
    "start_time": "2022-08-23T16:23:12.530Z"
   },
   {
    "duration": 3,
    "start_time": "2022-08-23T16:23:13.149Z"
   },
   {
    "duration": 17,
    "start_time": "2022-08-23T16:23:13.154Z"
   },
   {
    "duration": 0,
    "start_time": "2022-08-23T16:23:13.173Z"
   },
   {
    "duration": 4,
    "start_time": "2022-08-23T16:23:37.428Z"
   },
   {
    "duration": 4,
    "start_time": "2022-08-23T16:23:37.658Z"
   },
   {
    "duration": 4,
    "start_time": "2022-08-23T16:23:47.429Z"
   },
   {
    "duration": 13669,
    "start_time": "2022-08-23T16:23:59.931Z"
   },
   {
    "duration": 95,
    "start_time": "2022-08-23T16:24:13.603Z"
   },
   {
    "duration": 8,
    "start_time": "2022-08-23T16:24:13.700Z"
   },
   {
    "duration": 9,
    "start_time": "2022-08-23T16:24:13.710Z"
   },
   {
    "duration": 43466,
    "start_time": "2022-08-23T16:24:13.720Z"
   },
   {
    "duration": 48,
    "start_time": "2022-08-23T16:24:57.187Z"
   },
   {
    "duration": 3,
    "start_time": "2022-08-23T16:24:57.237Z"
   },
   {
    "duration": 12,
    "start_time": "2022-08-23T16:24:57.242Z"
   },
   {
    "duration": 64493,
    "start_time": "2022-08-23T16:24:57.256Z"
   },
   {
    "duration": 76,
    "start_time": "2022-08-23T16:26:01.751Z"
   },
   {
    "duration": 7,
    "start_time": "2022-08-23T16:26:01.829Z"
   },
   {
    "duration": 10,
    "start_time": "2022-08-23T16:26:01.837Z"
   },
   {
    "duration": 51,
    "start_time": "2022-08-23T16:26:01.848Z"
   },
   {
    "duration": 99,
    "start_time": "2022-08-23T16:26:01.900Z"
   },
   {
    "duration": 96043,
    "start_time": "2022-08-23T16:27:44.762Z"
   },
   {
    "duration": 55,
    "start_time": "2022-08-23T16:29:20.807Z"
   },
   {
    "duration": 4,
    "start_time": "2022-08-23T16:29:20.863Z"
   },
   {
    "duration": 69,
    "start_time": "2022-08-23T16:38:41.362Z"
   },
   {
    "duration": 11088,
    "start_time": "2022-08-23T16:46:31.810Z"
   },
   {
    "duration": 6,
    "start_time": "2022-08-23T16:46:42.900Z"
   },
   {
    "duration": 99,
    "start_time": "2022-08-23T16:46:42.909Z"
   },
   {
    "duration": 9,
    "start_time": "2022-08-23T16:46:43.010Z"
   },
   {
    "duration": 7,
    "start_time": "2022-08-23T16:46:43.021Z"
   },
   {
    "duration": 12027,
    "start_time": "2022-08-23T16:48:52.088Z"
   },
   {
    "duration": 18,
    "start_time": "2022-08-23T16:49:04.117Z"
   },
   {
    "duration": 4,
    "start_time": "2022-08-23T16:49:04.137Z"
   },
   {
    "duration": 64288,
    "start_time": "2022-08-23T16:49:43.254Z"
   },
   {
    "duration": 73,
    "start_time": "2022-08-23T16:50:47.543Z"
   },
   {
    "duration": 8,
    "start_time": "2022-08-23T16:50:47.618Z"
   },
   {
    "duration": 84,
    "start_time": "2022-08-23T16:51:07.175Z"
   },
   {
    "duration": 9,
    "start_time": "2022-08-23T16:51:08.758Z"
   },
   {
    "duration": 8,
    "start_time": "2022-08-23T16:51:16.238Z"
   },
   {
    "duration": 19,
    "start_time": "2022-08-23T16:51:16.446Z"
   },
   {
    "duration": 72,
    "start_time": "2022-08-23T16:51:16.662Z"
   },
   {
    "duration": 63550,
    "start_time": "2022-08-23T16:52:19.519Z"
   },
   {
    "duration": 77,
    "start_time": "2022-08-23T16:54:07.222Z"
   },
   {
    "duration": 8,
    "start_time": "2022-08-23T16:54:07.911Z"
   },
   {
    "duration": 75,
    "start_time": "2022-08-23T16:54:09.914Z"
   },
   {
    "duration": 297,
    "start_time": "2022-08-23T16:55:19.774Z"
   },
   {
    "duration": 3,
    "start_time": "2022-08-23T16:55:21.149Z"
   },
   {
    "duration": 7,
    "start_time": "2022-08-23T16:55:22.509Z"
   },
   {
    "duration": 8,
    "start_time": "2022-08-23T16:55:23.166Z"
   },
   {
    "duration": 287,
    "start_time": "2022-08-23T16:55:26.798Z"
   },
   {
    "duration": 6,
    "start_time": "2022-08-23T16:55:29.518Z"
   },
   {
    "duration": 1432,
    "start_time": "2022-08-23T16:57:00.166Z"
   },
   {
    "duration": 3,
    "start_time": "2022-08-23T16:57:01.845Z"
   },
   {
    "duration": 7,
    "start_time": "2022-08-23T16:57:02.911Z"
   },
   {
    "duration": 8,
    "start_time": "2022-08-23T16:57:03.453Z"
   },
   {
    "duration": 8,
    "start_time": "2022-08-23T16:57:10.389Z"
   },
   {
    "duration": 18,
    "start_time": "2022-08-23T16:58:02.662Z"
   },
   {
    "duration": 47,
    "start_time": "2022-08-23T16:58:17.486Z"
   },
   {
    "duration": 67,
    "start_time": "2022-08-23T16:58:19.725Z"
   },
   {
    "duration": 18,
    "start_time": "2022-08-23T16:58:24.597Z"
   },
   {
    "duration": 17,
    "start_time": "2022-08-23T16:58:37.294Z"
   },
   {
    "duration": 3,
    "start_time": "2022-08-23T16:58:53.598Z"
   },
   {
    "duration": 18,
    "start_time": "2022-08-23T16:59:04.062Z"
   },
   {
    "duration": 17,
    "start_time": "2022-08-23T16:59:10.678Z"
   },
   {
    "duration": 1420,
    "start_time": "2022-08-23T16:59:13.086Z"
   },
   {
    "duration": 144,
    "start_time": "2022-08-23T16:59:15.941Z"
   },
   {
    "duration": 3,
    "start_time": "2022-08-23T16:59:17.211Z"
   },
   {
    "duration": 6,
    "start_time": "2022-08-23T16:59:18.581Z"
   },
   {
    "duration": 8,
    "start_time": "2022-08-23T16:59:19.103Z"
   },
   {
    "duration": 315,
    "start_time": "2022-08-23T17:00:21.487Z"
   },
   {
    "duration": 3,
    "start_time": "2022-08-23T17:00:22.868Z"
   },
   {
    "duration": 7,
    "start_time": "2022-08-23T17:00:23.748Z"
   },
   {
    "duration": 239,
    "start_time": "2022-08-23T17:00:27.990Z"
   },
   {
    "duration": 4,
    "start_time": "2022-08-23T17:00:29.484Z"
   },
   {
    "duration": 6,
    "start_time": "2022-08-23T17:00:30.957Z"
   },
   {
    "duration": 350,
    "start_time": "2022-08-23T17:00:41.141Z"
   },
   {
    "duration": 174,
    "start_time": "2022-08-23T17:00:44.885Z"
   },
   {
    "duration": 3,
    "start_time": "2022-08-23T17:00:45.413Z"
   },
   {
    "duration": 8,
    "start_time": "2022-08-23T17:00:45.757Z"
   },
   {
    "duration": 147,
    "start_time": "2022-08-23T17:00:49.653Z"
   },
   {
    "duration": 4,
    "start_time": "2022-08-23T17:00:50.740Z"
   },
   {
    "duration": 7,
    "start_time": "2022-08-23T17:00:50.917Z"
   },
   {
    "duration": 150,
    "start_time": "2022-08-23T17:00:54.609Z"
   },
   {
    "duration": 295383,
    "start_time": "2022-08-23T17:01:13.142Z"
   },
   {
    "duration": 101,
    "start_time": "2022-08-23T17:06:08.526Z"
   },
   {
    "duration": 7,
    "start_time": "2022-08-23T17:06:08.629Z"
   },
   {
    "duration": 7,
    "start_time": "2022-08-23T17:06:08.638Z"
   },
   {
    "duration": 20,
    "start_time": "2022-08-23T17:06:08.646Z"
   },
   {
    "duration": 115,
    "start_time": "2022-08-23T17:06:08.668Z"
   },
   {
    "duration": 5106,
    "start_time": "2022-08-23T21:17:06.518Z"
   },
   {
    "duration": 57206,
    "start_time": "2022-08-23T21:17:11.626Z"
   },
   {
    "duration": 2316,
    "start_time": "2022-08-23T21:18:08.834Z"
   },
   {
    "duration": 17,
    "start_time": "2022-08-23T21:18:11.152Z"
   },
   {
    "duration": 41,
    "start_time": "2022-08-23T21:18:11.172Z"
   },
   {
    "duration": 7,
    "start_time": "2022-08-23T21:18:11.216Z"
   },
   {
    "duration": 84,
    "start_time": "2022-08-23T21:18:11.225Z"
   },
   {
    "duration": 6,
    "start_time": "2022-08-23T21:18:11.311Z"
   },
   {
    "duration": 10,
    "start_time": "2022-08-23T21:18:11.318Z"
   },
   {
    "duration": 7,
    "start_time": "2022-08-23T21:18:11.330Z"
   },
   {
    "duration": 638,
    "start_time": "2022-08-23T21:18:11.338Z"
   },
   {
    "duration": 4,
    "start_time": "2022-08-23T21:18:11.978Z"
   },
   {
    "duration": 188194,
    "start_time": "2022-08-23T21:18:11.983Z"
   },
   {
    "duration": 100928,
    "start_time": "2022-08-23T21:21:20.180Z"
   },
   {
    "duration": 8,
    "start_time": "2022-08-23T21:23:01.110Z"
   },
   {
    "duration": 36,
    "start_time": "2022-08-23T21:23:01.120Z"
   },
   {
    "duration": 22,
    "start_time": "2022-08-23T21:23:01.157Z"
   },
   {
    "duration": 39,
    "start_time": "2022-08-23T21:23:01.181Z"
   },
   {
    "duration": 23,
    "start_time": "2022-08-23T21:23:01.222Z"
   },
   {
    "duration": 24,
    "start_time": "2022-08-23T21:23:01.247Z"
   },
   {
    "duration": 1330,
    "start_time": "2022-08-23T21:23:01.273Z"
   },
   {
    "duration": 696,
    "start_time": "2022-08-23T21:23:02.605Z"
   },
   {
    "duration": 4,
    "start_time": "2022-08-23T21:23:03.304Z"
   },
   {
    "duration": 8,
    "start_time": "2022-08-23T21:23:03.309Z"
   },
   {
    "duration": 5,
    "start_time": "2022-08-23T21:23:03.319Z"
   },
   {
    "duration": 5,
    "start_time": "2022-08-23T21:23:03.326Z"
   },
   {
    "duration": 160,
    "start_time": "2022-08-23T21:23:03.332Z"
   },
   {
    "duration": 7,
    "start_time": "2022-08-23T21:23:03.494Z"
   },
   {
    "duration": 13,
    "start_time": "2022-08-23T21:23:03.502Z"
   },
   {
    "duration": 9,
    "start_time": "2022-08-23T21:23:03.517Z"
   },
   {
    "duration": 95831,
    "start_time": "2022-08-23T21:23:03.527Z"
   },
   {
    "duration": 98,
    "start_time": "2022-08-23T21:24:39.360Z"
   },
   {
    "duration": 4,
    "start_time": "2022-08-23T21:24:39.460Z"
   },
   {
    "duration": 31,
    "start_time": "2022-08-23T21:24:39.466Z"
   },
   {
    "duration": 309616,
    "start_time": "2022-08-23T21:24:39.500Z"
   },
   {
    "duration": 106,
    "start_time": "2022-08-23T21:29:49.118Z"
   },
   {
    "duration": 9,
    "start_time": "2022-08-23T21:29:49.225Z"
   },
   {
    "duration": 22,
    "start_time": "2022-08-23T21:29:49.235Z"
   },
   {
    "duration": 101,
    "start_time": "2022-08-23T21:29:49.259Z"
   },
   {
    "duration": 104,
    "start_time": "2022-08-23T21:29:49.361Z"
   },
   {
    "duration": 2256,
    "start_time": "2022-08-24T09:18:16.375Z"
   },
   {
    "duration": 4709,
    "start_time": "2022-08-24T09:18:18.633Z"
   },
   {
    "duration": 0,
    "start_time": "2022-08-24T09:18:23.344Z"
   },
   {
    "duration": 0,
    "start_time": "2022-08-24T09:18:23.345Z"
   },
   {
    "duration": 0,
    "start_time": "2022-08-24T09:18:23.346Z"
   },
   {
    "duration": 0,
    "start_time": "2022-08-24T09:18:23.348Z"
   },
   {
    "duration": 0,
    "start_time": "2022-08-24T09:18:23.348Z"
   },
   {
    "duration": 0,
    "start_time": "2022-08-24T09:18:23.349Z"
   },
   {
    "duration": 0,
    "start_time": "2022-08-24T09:18:23.350Z"
   },
   {
    "duration": 0,
    "start_time": "2022-08-24T09:18:23.351Z"
   },
   {
    "duration": 0,
    "start_time": "2022-08-24T09:18:23.352Z"
   },
   {
    "duration": 0,
    "start_time": "2022-08-24T09:18:23.353Z"
   },
   {
    "duration": 0,
    "start_time": "2022-08-24T09:18:23.354Z"
   },
   {
    "duration": 0,
    "start_time": "2022-08-24T09:18:23.355Z"
   },
   {
    "duration": 0,
    "start_time": "2022-08-24T09:18:23.356Z"
   },
   {
    "duration": 0,
    "start_time": "2022-08-24T09:18:23.357Z"
   },
   {
    "duration": 0,
    "start_time": "2022-08-24T09:18:23.358Z"
   },
   {
    "duration": 0,
    "start_time": "2022-08-24T09:18:23.358Z"
   },
   {
    "duration": 0,
    "start_time": "2022-08-24T09:18:23.359Z"
   },
   {
    "duration": 0,
    "start_time": "2022-08-24T09:18:23.360Z"
   },
   {
    "duration": 0,
    "start_time": "2022-08-24T09:18:23.361Z"
   },
   {
    "duration": 0,
    "start_time": "2022-08-24T09:18:23.364Z"
   },
   {
    "duration": 0,
    "start_time": "2022-08-24T09:18:23.365Z"
   },
   {
    "duration": 0,
    "start_time": "2022-08-24T09:18:23.366Z"
   },
   {
    "duration": 0,
    "start_time": "2022-08-24T09:18:23.367Z"
   },
   {
    "duration": 0,
    "start_time": "2022-08-24T09:18:23.368Z"
   },
   {
    "duration": 0,
    "start_time": "2022-08-24T09:18:23.369Z"
   },
   {
    "duration": 0,
    "start_time": "2022-08-24T09:18:23.370Z"
   },
   {
    "duration": 0,
    "start_time": "2022-08-24T09:18:23.371Z"
   },
   {
    "duration": 0,
    "start_time": "2022-08-24T09:18:23.372Z"
   },
   {
    "duration": 0,
    "start_time": "2022-08-24T09:18:23.373Z"
   },
   {
    "duration": 0,
    "start_time": "2022-08-24T09:18:23.403Z"
   },
   {
    "duration": 0,
    "start_time": "2022-08-24T09:18:23.405Z"
   },
   {
    "duration": 0,
    "start_time": "2022-08-24T09:18:23.406Z"
   },
   {
    "duration": 0,
    "start_time": "2022-08-24T09:18:23.406Z"
   },
   {
    "duration": 0,
    "start_time": "2022-08-24T09:18:23.408Z"
   },
   {
    "duration": 0,
    "start_time": "2022-08-24T09:18:23.409Z"
   },
   {
    "duration": 0,
    "start_time": "2022-08-24T09:18:23.410Z"
   },
   {
    "duration": 0,
    "start_time": "2022-08-24T09:18:23.411Z"
   },
   {
    "duration": 0,
    "start_time": "2022-08-24T09:18:23.412Z"
   },
   {
    "duration": 8,
    "start_time": "2022-08-24T09:18:29.095Z"
   },
   {
    "duration": 52097,
    "start_time": "2022-08-24T09:18:29.460Z"
   },
   {
    "duration": 2262,
    "start_time": "2022-08-24T09:19:21.559Z"
   },
   {
    "duration": 24,
    "start_time": "2022-08-24T09:19:23.822Z"
   },
   {
    "duration": 31,
    "start_time": "2022-08-24T09:19:23.848Z"
   },
   {
    "duration": 17,
    "start_time": "2022-08-24T09:19:23.880Z"
   },
   {
    "duration": 40,
    "start_time": "2022-08-24T09:19:23.899Z"
   },
   {
    "duration": 6,
    "start_time": "2022-08-24T09:19:23.941Z"
   },
   {
    "duration": 9,
    "start_time": "2022-08-24T09:19:23.950Z"
   },
   {
    "duration": 6,
    "start_time": "2022-08-24T09:19:23.961Z"
   },
   {
    "duration": 564,
    "start_time": "2022-08-24T09:19:23.970Z"
   },
   {
    "duration": 3,
    "start_time": "2022-08-24T09:19:24.535Z"
   },
   {
    "duration": 9,
    "start_time": "2022-08-24T09:19:24.540Z"
   },
   {
    "duration": 116791,
    "start_time": "2022-08-24T09:19:24.550Z"
   },
   {
    "duration": 6,
    "start_time": "2022-08-24T09:21:21.343Z"
   },
   {
    "duration": 17,
    "start_time": "2022-08-24T09:21:21.350Z"
   },
   {
    "duration": 11,
    "start_time": "2022-08-24T09:21:21.369Z"
   },
   {
    "duration": 5,
    "start_time": "2022-08-24T09:21:21.381Z"
   },
   {
    "duration": 19,
    "start_time": "2022-08-24T09:21:21.388Z"
   },
   {
    "duration": 9,
    "start_time": "2022-08-24T09:21:21.409Z"
   },
   {
    "duration": 118,
    "start_time": "2022-08-24T09:21:21.420Z"
   },
   {
    "duration": 0,
    "start_time": "2022-08-24T09:21:21.539Z"
   },
   {
    "duration": 0,
    "start_time": "2022-08-24T09:21:21.541Z"
   },
   {
    "duration": 0,
    "start_time": "2022-08-24T09:21:21.542Z"
   },
   {
    "duration": 0,
    "start_time": "2022-08-24T09:21:21.543Z"
   },
   {
    "duration": 0,
    "start_time": "2022-08-24T09:21:21.543Z"
   },
   {
    "duration": 0,
    "start_time": "2022-08-24T09:21:21.544Z"
   },
   {
    "duration": 0,
    "start_time": "2022-08-24T09:21:21.545Z"
   },
   {
    "duration": 0,
    "start_time": "2022-08-24T09:21:21.546Z"
   },
   {
    "duration": 0,
    "start_time": "2022-08-24T09:21:21.547Z"
   },
   {
    "duration": 19,
    "start_time": "2022-08-24T09:27:39.744Z"
   },
   {
    "duration": 8,
    "start_time": "2022-08-24T09:27:54.235Z"
   },
   {
    "duration": 4,
    "start_time": "2022-08-24T09:27:54.716Z"
   },
   {
    "duration": 5,
    "start_time": "2022-08-24T09:27:55.617Z"
   },
   {
    "duration": 3,
    "start_time": "2022-08-24T09:27:57.372Z"
   },
   {
    "duration": 19,
    "start_time": "2022-08-24T09:27:58.244Z"
   },
   {
    "duration": 2005,
    "start_time": "2022-08-24T09:28:27.809Z"
   },
   {
    "duration": 56668,
    "start_time": "2022-08-24T09:28:29.816Z"
   },
   {
    "duration": 795,
    "start_time": "2022-08-24T09:29:26.486Z"
   },
   {
    "duration": 29,
    "start_time": "2022-08-24T09:29:27.283Z"
   },
   {
    "duration": 38,
    "start_time": "2022-08-24T09:29:27.315Z"
   },
   {
    "duration": 15,
    "start_time": "2022-08-24T09:29:27.355Z"
   },
   {
    "duration": 44,
    "start_time": "2022-08-24T09:29:27.371Z"
   },
   {
    "duration": 5,
    "start_time": "2022-08-24T09:29:27.416Z"
   },
   {
    "duration": 11,
    "start_time": "2022-08-24T09:29:27.423Z"
   },
   {
    "duration": 8,
    "start_time": "2022-08-24T09:29:27.438Z"
   },
   {
    "duration": 518,
    "start_time": "2022-08-24T09:29:27.447Z"
   },
   {
    "duration": 3,
    "start_time": "2022-08-24T09:29:27.967Z"
   },
   {
    "duration": 10,
    "start_time": "2022-08-24T09:29:27.972Z"
   },
   {
    "duration": 118744,
    "start_time": "2022-08-24T09:29:27.984Z"
   },
   {
    "duration": 7,
    "start_time": "2022-08-24T09:31:26.729Z"
   },
   {
    "duration": 14,
    "start_time": "2022-08-24T09:31:26.737Z"
   },
   {
    "duration": 10,
    "start_time": "2022-08-24T09:31:26.753Z"
   },
   {
    "duration": 7,
    "start_time": "2022-08-24T09:31:26.764Z"
   },
   {
    "duration": 6,
    "start_time": "2022-08-24T09:31:26.773Z"
   },
   {
    "duration": 26,
    "start_time": "2022-08-24T09:31:26.780Z"
   },
   {
    "duration": 366,
    "start_time": "2022-08-24T09:31:26.808Z"
   },
   {
    "duration": 0,
    "start_time": "2022-08-24T09:31:27.176Z"
   },
   {
    "duration": 0,
    "start_time": "2022-08-24T09:31:27.178Z"
   },
   {
    "duration": 0,
    "start_time": "2022-08-24T09:31:27.180Z"
   },
   {
    "duration": 0,
    "start_time": "2022-08-24T09:31:27.182Z"
   },
   {
    "duration": 0,
    "start_time": "2022-08-24T09:31:27.184Z"
   },
   {
    "duration": 0,
    "start_time": "2022-08-24T09:31:27.186Z"
   },
   {
    "duration": 0,
    "start_time": "2022-08-24T09:31:27.188Z"
   },
   {
    "duration": 0,
    "start_time": "2022-08-24T09:31:27.205Z"
   },
   {
    "duration": 0,
    "start_time": "2022-08-24T09:31:27.207Z"
   },
   {
    "duration": 0,
    "start_time": "2022-08-24T09:31:27.208Z"
   },
   {
    "duration": 0,
    "start_time": "2022-08-24T09:31:27.209Z"
   },
   {
    "duration": 0,
    "start_time": "2022-08-24T09:31:27.210Z"
   },
   {
    "duration": 0,
    "start_time": "2022-08-24T09:31:27.211Z"
   },
   {
    "duration": 0,
    "start_time": "2022-08-24T09:31:27.212Z"
   },
   {
    "duration": 0,
    "start_time": "2022-08-24T09:31:27.214Z"
   },
   {
    "duration": 0,
    "start_time": "2022-08-24T09:31:27.216Z"
   },
   {
    "duration": 0,
    "start_time": "2022-08-24T09:31:27.217Z"
   },
   {
    "duration": 0,
    "start_time": "2022-08-24T09:31:27.218Z"
   },
   {
    "duration": 0,
    "start_time": "2022-08-24T09:31:27.220Z"
   },
   {
    "duration": 10,
    "start_time": "2022-08-24T09:34:30.904Z"
   },
   {
    "duration": 16,
    "start_time": "2022-08-24T09:34:38.082Z"
   },
   {
    "duration": 2051,
    "start_time": "2022-08-24T09:34:51.523Z"
   },
   {
    "duration": 74292,
    "start_time": "2022-08-24T09:34:53.576Z"
   },
   {
    "duration": 750,
    "start_time": "2022-08-24T09:36:07.871Z"
   },
   {
    "duration": 18,
    "start_time": "2022-08-24T09:36:08.623Z"
   },
   {
    "duration": 35,
    "start_time": "2022-08-24T09:36:08.643Z"
   },
   {
    "duration": 16,
    "start_time": "2022-08-24T09:36:45.147Z"
   },
   {
    "duration": 5,
    "start_time": "2022-08-24T09:37:12.242Z"
   },
   {
    "duration": 17,
    "start_time": "2022-08-24T09:37:15.948Z"
   },
   {
    "duration": 6,
    "start_time": "2022-08-24T09:37:20.916Z"
   },
   {
    "duration": 673,
    "start_time": "2022-08-24T09:37:28.087Z"
   },
   {
    "duration": 26,
    "start_time": "2022-08-24T09:37:32.856Z"
   },
   {
    "duration": 795,
    "start_time": "2022-08-24T09:37:58.921Z"
   },
   {
    "duration": 9,
    "start_time": "2022-08-24T09:38:00.345Z"
   },
   {
    "duration": 18,
    "start_time": "2022-08-24T09:38:03.831Z"
   },
   {
    "duration": 8,
    "start_time": "2022-08-24T09:38:13.209Z"
   },
   {
    "duration": 358,
    "start_time": "2022-08-24T09:38:35.641Z"
   },
   {
    "duration": 32,
    "start_time": "2022-08-24T09:38:43.203Z"
   },
   {
    "duration": 30,
    "start_time": "2022-08-24T09:38:51.360Z"
   },
   {
    "duration": 7,
    "start_time": "2022-08-24T09:38:58.537Z"
   },
   {
    "duration": 35,
    "start_time": "2022-08-24T09:40:07.136Z"
   },
   {
    "duration": 26,
    "start_time": "2022-08-24T09:40:21.114Z"
   },
   {
    "duration": 4,
    "start_time": "2022-08-24T09:41:42.825Z"
   },
   {
    "duration": 13,
    "start_time": "2022-08-24T09:41:49.462Z"
   },
   {
    "duration": 16,
    "start_time": "2022-08-24T09:41:55.687Z"
   },
   {
    "duration": 13,
    "start_time": "2022-08-24T09:42:02.717Z"
   },
   {
    "duration": 13,
    "start_time": "2022-08-24T09:42:06.880Z"
   },
   {
    "duration": 13,
    "start_time": "2022-08-24T09:42:11.602Z"
   },
   {
    "duration": 15,
    "start_time": "2022-08-24T09:42:16.808Z"
   },
   {
    "duration": 15,
    "start_time": "2022-08-24T09:42:24.714Z"
   },
   {
    "duration": 51898,
    "start_time": "2022-08-24T09:42:52.310Z"
   },
   {
    "duration": 769,
    "start_time": "2022-08-24T09:43:44.210Z"
   },
   {
    "duration": 22,
    "start_time": "2022-08-24T09:43:44.981Z"
   },
   {
    "duration": 14,
    "start_time": "2022-08-24T09:43:53.157Z"
   },
   {
    "duration": 15,
    "start_time": "2022-08-24T09:43:56.522Z"
   },
   {
    "duration": 601,
    "start_time": "2022-08-24T09:44:51.266Z"
   },
   {
    "duration": 15,
    "start_time": "2022-08-24T09:45:00.462Z"
   },
   {
    "duration": 2267,
    "start_time": "2022-08-24T10:20:14.564Z"
   },
   {
    "duration": 49826,
    "start_time": "2022-08-24T10:20:16.834Z"
   },
   {
    "duration": 773,
    "start_time": "2022-08-24T10:21:06.662Z"
   },
   {
    "duration": 23,
    "start_time": "2022-08-24T10:21:07.438Z"
   },
   {
    "duration": 37,
    "start_time": "2022-08-24T10:21:07.463Z"
   },
   {
    "duration": 35,
    "start_time": "2022-08-24T10:21:07.502Z"
   },
   {
    "duration": 35,
    "start_time": "2022-08-24T10:21:07.538Z"
   },
   {
    "duration": 19,
    "start_time": "2022-08-24T10:21:07.575Z"
   },
   {
    "duration": 39,
    "start_time": "2022-08-24T10:21:07.596Z"
   },
   {
    "duration": 6,
    "start_time": "2022-08-24T10:21:07.638Z"
   },
   {
    "duration": 23,
    "start_time": "2022-08-24T10:21:07.646Z"
   },
   {
    "duration": 9,
    "start_time": "2022-08-24T10:21:07.671Z"
   },
   {
    "duration": 561,
    "start_time": "2022-08-24T10:21:07.682Z"
   },
   {
    "duration": 4,
    "start_time": "2022-08-24T10:21:08.245Z"
   },
   {
    "duration": 26,
    "start_time": "2022-08-24T10:21:08.251Z"
   },
   {
    "duration": 130103,
    "start_time": "2022-08-24T10:21:08.279Z"
   },
   {
    "duration": 19,
    "start_time": "2022-08-24T10:23:18.384Z"
   },
   {
    "duration": 31,
    "start_time": "2022-08-24T10:23:18.406Z"
   },
   {
    "duration": 14,
    "start_time": "2022-08-24T10:23:18.439Z"
   },
   {
    "duration": 19,
    "start_time": "2022-08-24T10:23:18.455Z"
   },
   {
    "duration": 17,
    "start_time": "2022-08-24T10:23:18.476Z"
   },
   {
    "duration": 10,
    "start_time": "2022-08-24T10:23:18.496Z"
   },
   {
    "duration": 356,
    "start_time": "2022-08-24T10:23:18.508Z"
   },
   {
    "duration": 0,
    "start_time": "2022-08-24T10:23:18.867Z"
   },
   {
    "duration": 0,
    "start_time": "2022-08-24T10:23:18.872Z"
   },
   {
    "duration": 0,
    "start_time": "2022-08-24T10:23:18.873Z"
   },
   {
    "duration": 0,
    "start_time": "2022-08-24T10:23:18.880Z"
   },
   {
    "duration": 0,
    "start_time": "2022-08-24T10:23:18.881Z"
   },
   {
    "duration": 0,
    "start_time": "2022-08-24T10:23:18.883Z"
   },
   {
    "duration": 0,
    "start_time": "2022-08-24T10:23:18.885Z"
   },
   {
    "duration": 0,
    "start_time": "2022-08-24T10:23:18.886Z"
   },
   {
    "duration": 0,
    "start_time": "2022-08-24T10:23:18.888Z"
   },
   {
    "duration": 0,
    "start_time": "2022-08-24T10:23:18.890Z"
   },
   {
    "duration": 0,
    "start_time": "2022-08-24T10:23:18.903Z"
   },
   {
    "duration": 0,
    "start_time": "2022-08-24T10:23:18.904Z"
   },
   {
    "duration": 0,
    "start_time": "2022-08-24T10:23:18.907Z"
   },
   {
    "duration": 0,
    "start_time": "2022-08-24T10:23:18.908Z"
   },
   {
    "duration": 0,
    "start_time": "2022-08-24T10:23:18.910Z"
   },
   {
    "duration": 0,
    "start_time": "2022-08-24T10:23:18.912Z"
   },
   {
    "duration": 0,
    "start_time": "2022-08-24T10:23:18.913Z"
   },
   {
    "duration": 0,
    "start_time": "2022-08-24T10:23:18.914Z"
   },
   {
    "duration": 0,
    "start_time": "2022-08-24T10:23:18.916Z"
   },
   {
    "duration": 1909,
    "start_time": "2022-08-24T16:05:57.545Z"
   },
   {
    "duration": 195895,
    "start_time": "2022-08-24T16:05:59.455Z"
   },
   {
    "duration": 2291,
    "start_time": "2022-08-24T16:09:15.351Z"
   },
   {
    "duration": 17,
    "start_time": "2022-08-24T16:09:17.644Z"
   },
   {
    "duration": 49,
    "start_time": "2022-08-24T16:09:17.663Z"
   },
   {
    "duration": 6,
    "start_time": "2022-08-24T16:09:17.714Z"
   },
   {
    "duration": 32,
    "start_time": "2022-08-24T16:09:17.722Z"
   },
   {
    "duration": 7,
    "start_time": "2022-08-24T16:09:17.755Z"
   },
   {
    "duration": 56,
    "start_time": "2022-08-24T16:09:17.763Z"
   },
   {
    "duration": 5,
    "start_time": "2022-08-24T16:09:17.822Z"
   },
   {
    "duration": 13,
    "start_time": "2022-08-24T16:09:17.829Z"
   },
   {
    "duration": 22,
    "start_time": "2022-08-24T16:09:17.844Z"
   },
   {
    "duration": 598,
    "start_time": "2022-08-24T16:09:17.868Z"
   },
   {
    "duration": 2,
    "start_time": "2022-08-24T16:09:18.468Z"
   },
   {
    "duration": 185135,
    "start_time": "2022-08-24T16:09:18.472Z"
   },
   {
    "duration": 99410,
    "start_time": "2022-08-24T16:12:23.609Z"
   },
   {
    "duration": 8,
    "start_time": "2022-08-24T16:14:03.020Z"
   },
   {
    "duration": 9,
    "start_time": "2022-08-24T16:14:03.030Z"
   },
   {
    "duration": 10,
    "start_time": "2022-08-24T16:14:03.040Z"
   },
   {
    "duration": 4,
    "start_time": "2022-08-24T16:14:03.052Z"
   },
   {
    "duration": 5,
    "start_time": "2022-08-24T16:14:03.057Z"
   },
   {
    "duration": 123,
    "start_time": "2022-08-24T16:14:03.063Z"
   },
   {
    "duration": 1126,
    "start_time": "2022-08-24T16:14:03.188Z"
   },
   {
    "duration": 707,
    "start_time": "2022-08-24T16:14:04.315Z"
   },
   {
    "duration": 3,
    "start_time": "2022-08-24T16:14:05.024Z"
   },
   {
    "duration": 8,
    "start_time": "2022-08-24T16:14:05.029Z"
   },
   {
    "duration": 7,
    "start_time": "2022-08-24T16:14:05.039Z"
   },
   {
    "duration": 6,
    "start_time": "2022-08-24T16:14:05.048Z"
   },
   {
    "duration": 69,
    "start_time": "2022-08-24T16:14:05.055Z"
   },
   {
    "duration": 3,
    "start_time": "2022-08-24T16:14:05.126Z"
   },
   {
    "duration": 11,
    "start_time": "2022-08-24T16:14:05.131Z"
   },
   {
    "duration": 8,
    "start_time": "2022-08-24T16:14:05.144Z"
   },
   {
    "duration": 112045,
    "start_time": "2022-08-24T16:14:05.154Z"
   },
   {
    "duration": 69,
    "start_time": "2022-08-24T16:15:57.201Z"
   },
   {
    "duration": 15,
    "start_time": "2022-08-24T16:15:57.272Z"
   },
   {
    "duration": 28,
    "start_time": "2022-08-24T16:15:57.289Z"
   },
   {
    "duration": 308835,
    "start_time": "2022-08-24T16:15:57.319Z"
   },
   {
    "duration": 101,
    "start_time": "2022-08-24T16:21:06.156Z"
   },
   {
    "duration": 7,
    "start_time": "2022-08-24T16:21:06.259Z"
   },
   {
    "duration": 22,
    "start_time": "2022-08-24T16:21:06.268Z"
   },
   {
    "duration": 79,
    "start_time": "2022-08-24T16:21:06.292Z"
   },
   {
    "duration": 104,
    "start_time": "2022-08-24T16:21:06.372Z"
   },
   {
    "duration": 84,
    "start_time": "2022-08-24T16:28:01.126Z"
   },
   {
    "duration": 4,
    "start_time": "2022-08-24T16:28:01.592Z"
   },
   {
    "duration": 7,
    "start_time": "2022-08-24T16:28:02.033Z"
   },
   {
    "duration": 144,
    "start_time": "2022-08-24T16:28:05.716Z"
   },
   {
    "duration": 4,
    "start_time": "2022-08-24T16:28:06.053Z"
   },
   {
    "duration": 7,
    "start_time": "2022-08-24T16:28:06.345Z"
   },
   {
    "duration": 150,
    "start_time": "2022-08-24T16:28:10.496Z"
   },
   {
    "duration": 3,
    "start_time": "2022-08-24T16:28:10.752Z"
   },
   {
    "duration": 7,
    "start_time": "2022-08-24T16:28:10.941Z"
   },
   {
    "duration": 178,
    "start_time": "2022-08-24T16:28:14.953Z"
   },
   {
    "duration": 4,
    "start_time": "2022-08-24T16:28:15.161Z"
   },
   {
    "duration": 8,
    "start_time": "2022-08-24T16:28:15.332Z"
   },
   {
    "duration": 217,
    "start_time": "2022-08-24T16:28:19.076Z"
   },
   {
    "duration": 4,
    "start_time": "2022-08-24T16:28:19.295Z"
   },
   {
    "duration": 7,
    "start_time": "2022-08-24T16:28:19.490Z"
   },
   {
    "duration": 205,
    "start_time": "2022-08-24T16:28:22.328Z"
   },
   {
    "duration": 4,
    "start_time": "2022-08-24T16:28:22.557Z"
   },
   {
    "duration": 7,
    "start_time": "2022-08-24T16:28:22.756Z"
   },
   {
    "duration": 263,
    "start_time": "2022-08-24T16:28:25.598Z"
   },
   {
    "duration": 5,
    "start_time": "2022-08-24T16:28:25.864Z"
   },
   {
    "duration": 10,
    "start_time": "2022-08-24T16:28:25.985Z"
   },
   {
    "duration": 343,
    "start_time": "2022-08-24T16:28:28.753Z"
   },
   {
    "duration": 4,
    "start_time": "2022-08-24T16:28:29.098Z"
   },
   {
    "duration": 6,
    "start_time": "2022-08-24T16:28:29.135Z"
   },
   {
    "duration": 594,
    "start_time": "2022-08-24T16:28:32.465Z"
   },
   {
    "duration": 3,
    "start_time": "2022-08-24T16:28:33.061Z"
   },
   {
    "duration": 9,
    "start_time": "2022-08-24T16:28:33.066Z"
   },
   {
    "duration": 449,
    "start_time": "2022-08-24T16:28:39.587Z"
   },
   {
    "duration": 4,
    "start_time": "2022-08-24T16:28:40.038Z"
   },
   {
    "duration": 7,
    "start_time": "2022-08-24T16:28:40.058Z"
   },
   {
    "duration": 434,
    "start_time": "2022-08-24T16:28:43.105Z"
   },
   {
    "duration": 4,
    "start_time": "2022-08-24T16:28:43.541Z"
   },
   {
    "duration": 8,
    "start_time": "2022-08-24T16:28:43.547Z"
   },
   {
    "duration": 415,
    "start_time": "2022-08-24T16:28:46.414Z"
   },
   {
    "duration": 4,
    "start_time": "2022-08-24T16:28:46.831Z"
   },
   {
    "duration": 7,
    "start_time": "2022-08-24T16:28:46.846Z"
   },
   {
    "duration": 567,
    "start_time": "2022-08-24T16:28:49.395Z"
   },
   {
    "duration": 3,
    "start_time": "2022-08-24T16:28:49.964Z"
   },
   {
    "duration": 9,
    "start_time": "2022-08-24T16:28:50.109Z"
   },
   {
    "duration": 509,
    "start_time": "2022-08-24T16:28:54.433Z"
   },
   {
    "duration": 3,
    "start_time": "2022-08-24T16:28:54.944Z"
   },
   {
    "duration": 7,
    "start_time": "2022-08-24T16:28:54.949Z"
   },
   {
    "duration": 517,
    "start_time": "2022-08-24T16:28:58.425Z"
   },
   {
    "duration": 4,
    "start_time": "2022-08-24T16:28:58.944Z"
   },
   {
    "duration": 24,
    "start_time": "2022-08-24T16:28:58.949Z"
   },
   {
    "duration": 168,
    "start_time": "2022-08-24T16:29:02.387Z"
   },
   {
    "duration": 4,
    "start_time": "2022-08-24T16:29:02.569Z"
   },
   {
    "duration": 7,
    "start_time": "2022-08-24T16:29:02.710Z"
   },
   {
    "duration": 4067,
    "start_time": "2022-08-24T16:29:09.231Z"
   },
   {
    "duration": 86,
    "start_time": "2022-08-24T16:29:13.300Z"
   },
   {
    "duration": 18,
    "start_time": "2022-08-24T16:29:13.388Z"
   },
   {
    "duration": 1348,
    "start_time": "2022-08-24T16:29:20.837Z"
   },
   {
    "duration": 4,
    "start_time": "2022-08-24T16:29:22.187Z"
   },
   {
    "duration": 112,
    "start_time": "2022-08-24T16:29:22.195Z"
   },
   {
    "duration": 120,
    "start_time": "2022-08-24T16:29:26.545Z"
   },
   {
    "duration": 3,
    "start_time": "2022-08-24T16:29:26.759Z"
   },
   {
    "duration": 9,
    "start_time": "2022-08-24T16:29:26.989Z"
   },
   {
    "duration": 153,
    "start_time": "2022-08-24T16:29:41.719Z"
   },
   {
    "duration": 4,
    "start_time": "2022-08-24T16:29:42.036Z"
   },
   {
    "duration": 7,
    "start_time": "2022-08-24T16:29:42.347Z"
   },
   {
    "duration": 149,
    "start_time": "2022-08-24T16:29:46.556Z"
   },
   {
    "duration": 3,
    "start_time": "2022-08-24T16:29:46.825Z"
   },
   {
    "duration": 6,
    "start_time": "2022-08-24T16:29:47.193Z"
   },
   {
    "duration": 159,
    "start_time": "2022-08-24T16:29:55.451Z"
   },
   {
    "duration": 4,
    "start_time": "2022-08-24T16:29:55.651Z"
   },
   {
    "duration": 7,
    "start_time": "2022-08-24T16:29:55.833Z"
   },
   {
    "duration": 39,
    "start_time": "2022-08-24T16:30:43.760Z"
   },
   {
    "duration": 7,
    "start_time": "2022-08-24T16:30:44.421Z"
   },
   {
    "duration": 1942,
    "start_time": "2022-08-24T16:30:59.133Z"
   },
   {
    "duration": 100609,
    "start_time": "2022-08-24T16:31:01.078Z"
   },
   {
    "duration": 708,
    "start_time": "2022-08-24T16:32:41.689Z"
   },
   {
    "duration": 17,
    "start_time": "2022-08-24T16:32:42.399Z"
   },
   {
    "duration": 39,
    "start_time": "2022-08-24T16:32:42.418Z"
   },
   {
    "duration": 26,
    "start_time": "2022-08-24T16:32:42.459Z"
   },
   {
    "duration": 23,
    "start_time": "2022-08-24T16:32:42.486Z"
   },
   {
    "duration": 5,
    "start_time": "2022-08-24T16:32:42.511Z"
   },
   {
    "duration": 35,
    "start_time": "2022-08-24T16:32:42.518Z"
   },
   {
    "duration": 5,
    "start_time": "2022-08-24T16:32:42.555Z"
   },
   {
    "duration": 5,
    "start_time": "2022-08-24T16:32:42.585Z"
   },
   {
    "duration": 5,
    "start_time": "2022-08-24T16:32:42.592Z"
   },
   {
    "duration": 488,
    "start_time": "2022-08-24T16:32:42.598Z"
   },
   {
    "duration": 2,
    "start_time": "2022-08-24T16:32:43.088Z"
   },
   {
    "duration": 168801,
    "start_time": "2022-08-24T16:32:43.092Z"
   },
   {
    "duration": 208981,
    "start_time": "2022-08-24T16:35:31.894Z"
   },
   {
    "duration": 12,
    "start_time": "2022-08-24T16:39:00.877Z"
   },
   {
    "duration": 22,
    "start_time": "2022-08-24T16:39:00.890Z"
   },
   {
    "duration": 19,
    "start_time": "2022-08-24T16:39:00.914Z"
   },
   {
    "duration": 4,
    "start_time": "2022-08-24T16:39:00.935Z"
   },
   {
    "duration": 11,
    "start_time": "2022-08-24T16:39:00.941Z"
   },
   {
    "duration": 17,
    "start_time": "2022-08-24T16:39:00.954Z"
   },
   {
    "duration": 1047,
    "start_time": "2022-08-24T16:39:00.973Z"
   },
   {
    "duration": 1328,
    "start_time": "2022-08-24T16:39:02.022Z"
   },
   {
    "duration": 4,
    "start_time": "2022-08-24T16:39:03.352Z"
   },
   {
    "duration": 5,
    "start_time": "2022-08-24T16:39:03.358Z"
   },
   {
    "duration": 5,
    "start_time": "2022-08-24T16:39:03.365Z"
   },
   {
    "duration": 4,
    "start_time": "2022-08-24T16:39:03.384Z"
   },
   {
    "duration": 152,
    "start_time": "2022-08-24T16:39:03.390Z"
   },
   {
    "duration": 4,
    "start_time": "2022-08-24T16:39:03.544Z"
   },
   {
    "duration": 22,
    "start_time": "2022-08-24T16:39:03.550Z"
   },
   {
    "duration": 20,
    "start_time": "2022-08-24T16:39:03.574Z"
   },
   {
    "duration": 113913,
    "start_time": "2022-08-24T16:39:03.596Z"
   },
   {
    "duration": 209,
    "start_time": "2022-08-24T16:40:57.510Z"
   },
   {
    "duration": 3,
    "start_time": "2022-08-24T16:40:57.721Z"
   },
   {
    "duration": 16,
    "start_time": "2022-08-24T16:40:57.726Z"
   },
   {
    "duration": 277239,
    "start_time": "2022-08-24T16:40:57.744Z"
   },
   {
    "duration": 148,
    "start_time": "2022-08-24T16:45:34.984Z"
   },
   {
    "duration": 13,
    "start_time": "2022-08-24T16:45:35.134Z"
   },
   {
    "duration": 10,
    "start_time": "2022-08-24T16:45:35.149Z"
   },
   {
    "duration": 215,
    "start_time": "2022-08-24T16:45:35.160Z"
   },
   {
    "duration": 150,
    "start_time": "2022-08-24T16:45:35.376Z"
   },
   {
    "duration": 30,
    "start_time": "2022-08-24T17:37:25.776Z"
   },
   {
    "duration": 7,
    "start_time": "2022-08-24T17:37:26.154Z"
   },
   {
    "duration": 1972,
    "start_time": "2022-08-24T17:37:48.891Z"
   },
   {
    "duration": 49984,
    "start_time": "2022-08-24T17:37:50.865Z"
   },
   {
    "duration": 748,
    "start_time": "2022-08-24T17:38:40.851Z"
   },
   {
    "duration": 21,
    "start_time": "2022-08-24T17:38:41.601Z"
   },
   {
    "duration": 11,
    "start_time": "2022-08-24T17:38:41.623Z"
   },
   {
    "duration": 24,
    "start_time": "2022-08-24T17:38:41.635Z"
   },
   {
    "duration": 24,
    "start_time": "2022-08-24T17:38:41.661Z"
   },
   {
    "duration": 47,
    "start_time": "2022-08-24T17:38:41.687Z"
   },
   {
    "duration": 8,
    "start_time": "2022-08-24T17:38:41.736Z"
   },
   {
    "duration": 17,
    "start_time": "2022-08-24T17:38:41.748Z"
   },
   {
    "duration": 18,
    "start_time": "2022-08-24T17:38:41.767Z"
   },
   {
    "duration": 573,
    "start_time": "2022-08-24T17:38:41.787Z"
   },
   {
    "duration": 3,
    "start_time": "2022-08-24T17:38:42.361Z"
   },
   {
    "duration": 197601,
    "start_time": "2022-08-24T17:38:42.366Z"
   },
   {
    "duration": 104751,
    "start_time": "2022-08-24T17:41:59.969Z"
   },
   {
    "duration": 8,
    "start_time": "2022-08-24T17:43:44.722Z"
   },
   {
    "duration": 12,
    "start_time": "2022-08-24T17:43:44.732Z"
   },
   {
    "duration": 8,
    "start_time": "2022-08-24T17:43:44.746Z"
   },
   {
    "duration": 3,
    "start_time": "2022-08-24T17:43:44.756Z"
   },
   {
    "duration": 24,
    "start_time": "2022-08-24T17:43:44.760Z"
   },
   {
    "duration": 8,
    "start_time": "2022-08-24T17:43:44.786Z"
   },
   {
    "duration": 1203,
    "start_time": "2022-08-24T17:43:44.795Z"
   },
   {
    "duration": 646,
    "start_time": "2022-08-24T17:43:46.000Z"
   },
   {
    "duration": 3,
    "start_time": "2022-08-24T17:43:46.648Z"
   },
   {
    "duration": 7,
    "start_time": "2022-08-24T17:43:46.653Z"
   },
   {
    "duration": 6,
    "start_time": "2022-08-24T17:43:46.661Z"
   },
   {
    "duration": 18,
    "start_time": "2022-08-24T17:43:46.669Z"
   },
   {
    "duration": 193,
    "start_time": "2022-08-24T17:43:46.692Z"
   },
   {
    "duration": 5,
    "start_time": "2022-08-24T17:43:46.886Z"
   },
   {
    "duration": 11,
    "start_time": "2022-08-24T17:43:46.893Z"
   },
   {
    "duration": 9,
    "start_time": "2022-08-24T17:43:46.906Z"
   },
   {
    "duration": 159935,
    "start_time": "2022-08-24T17:43:46.917Z"
   },
   {
    "duration": 122,
    "start_time": "2022-08-24T17:46:26.854Z"
   },
   {
    "duration": 7,
    "start_time": "2022-08-24T17:46:26.978Z"
   },
   {
    "duration": 10,
    "start_time": "2022-08-24T17:46:26.987Z"
   },
   {
    "duration": 635571,
    "start_time": "2022-08-24T17:46:26.999Z"
   },
   {
    "duration": 154,
    "start_time": "2022-08-24T17:57:02.571Z"
   },
   {
    "duration": 9,
    "start_time": "2022-08-24T17:57:02.727Z"
   },
   {
    "duration": 33,
    "start_time": "2022-08-24T17:57:02.737Z"
   },
   {
    "duration": 129,
    "start_time": "2022-08-24T17:57:02.772Z"
   },
   {
    "duration": 147,
    "start_time": "2022-08-24T17:57:02.903Z"
   },
   {
    "duration": 2096675,
    "start_time": "2022-08-24T18:27:21.349Z"
   },
   {
    "duration": 212,
    "start_time": "2022-08-24T19:02:18.026Z"
   },
   {
    "duration": 9,
    "start_time": "2022-08-24T19:02:18.240Z"
   },
   {
    "duration": 192,
    "start_time": "2022-08-24T19:02:18.251Z"
   },
   {
    "duration": 152,
    "start_time": "2022-08-24T20:30:07.496Z"
   },
   {
    "duration": 4,
    "start_time": "2022-08-24T20:30:09.955Z"
   },
   {
    "duration": 7,
    "start_time": "2022-08-24T20:30:10.322Z"
   },
   {
    "duration": 182,
    "start_time": "2022-08-24T20:30:17.027Z"
   },
   {
    "duration": 4,
    "start_time": "2022-08-24T20:30:17.325Z"
   },
   {
    "duration": 7,
    "start_time": "2022-08-24T20:30:19.448Z"
   },
   {
    "duration": 190,
    "start_time": "2022-08-24T20:30:24.454Z"
   },
   {
    "duration": 4,
    "start_time": "2022-08-24T20:30:24.648Z"
   },
   {
    "duration": 7,
    "start_time": "2022-08-24T20:30:24.834Z"
   },
   {
    "duration": 172,
    "start_time": "2022-08-24T20:30:31.664Z"
   },
   {
    "duration": 3,
    "start_time": "2022-08-24T20:30:31.957Z"
   },
   {
    "duration": 7,
    "start_time": "2022-08-24T20:30:32.337Z"
   },
   {
    "duration": 164,
    "start_time": "2022-08-24T20:30:35.664Z"
   },
   {
    "duration": 4,
    "start_time": "2022-08-24T20:30:35.965Z"
   },
   {
    "duration": 8,
    "start_time": "2022-08-24T20:30:36.218Z"
   },
   {
    "duration": 8,
    "start_time": "2022-08-24T20:30:39.593Z"
   },
   {
    "duration": 4,
    "start_time": "2022-08-24T20:35:11.953Z"
   },
   {
    "duration": 316,
    "start_time": "2022-08-24T20:35:12.823Z"
   },
   {
    "duration": 17,
    "start_time": "2022-08-24T20:35:46.118Z"
   },
   {
    "duration": 3,
    "start_time": "2022-08-24T20:36:11.127Z"
   },
   {
    "duration": 77,
    "start_time": "2022-08-24T20:36:11.485Z"
   },
   {
    "duration": 16,
    "start_time": "2022-08-24T20:36:11.784Z"
   },
   {
    "duration": 14847,
    "start_time": "2022-08-24T20:36:37.541Z"
   },
   {
    "duration": 170,
    "start_time": "2022-08-24T20:37:43.365Z"
   },
   {
    "duration": 4,
    "start_time": "2022-08-24T20:38:12.198Z"
   },
   {
    "duration": 15643,
    "start_time": "2022-08-24T20:38:12.647Z"
   },
   {
    "duration": 7,
    "start_time": "2022-08-24T20:38:46.480Z"
   },
   {
    "duration": 616,
    "start_time": "2022-08-24T20:43:11.571Z"
   },
   {
    "duration": 8,
    "start_time": "2022-08-24T20:43:22.493Z"
   },
   {
    "duration": 3,
    "start_time": "2022-08-24T20:44:12.282Z"
   },
   {
    "duration": 255,
    "start_time": "2022-08-24T20:44:12.888Z"
   },
   {
    "duration": 3,
    "start_time": "2022-08-24T20:44:23.802Z"
   },
   {
    "duration": 777,
    "start_time": "2022-08-24T20:44:24.399Z"
   },
   {
    "duration": 1996,
    "start_time": "2022-08-24T20:44:48.385Z"
   },
   {
    "duration": 50987,
    "start_time": "2022-08-24T20:44:50.383Z"
   },
   {
    "duration": 749,
    "start_time": "2022-08-24T20:45:41.372Z"
   },
   {
    "duration": 18,
    "start_time": "2022-08-24T20:45:42.124Z"
   },
   {
    "duration": 5,
    "start_time": "2022-08-24T20:45:42.144Z"
   },
   {
    "duration": 46,
    "start_time": "2022-08-24T20:45:42.151Z"
   },
   {
    "duration": 5,
    "start_time": "2022-08-24T20:45:42.199Z"
   },
   {
    "duration": 52,
    "start_time": "2022-08-24T20:45:42.206Z"
   },
   {
    "duration": 4,
    "start_time": "2022-08-24T20:45:42.260Z"
   },
   {
    "duration": 18,
    "start_time": "2022-08-24T20:45:42.268Z"
   },
   {
    "duration": 9,
    "start_time": "2022-08-24T20:45:42.288Z"
   },
   {
    "duration": 469,
    "start_time": "2022-08-24T20:45:42.299Z"
   },
   {
    "duration": 4,
    "start_time": "2022-08-24T20:45:42.770Z"
   },
   {
    "duration": 196151,
    "start_time": "2022-08-24T20:45:42.776Z"
   },
   {
    "duration": 103746,
    "start_time": "2022-08-24T20:48:58.928Z"
   },
   {
    "duration": 13,
    "start_time": "2022-08-24T20:50:42.675Z"
   },
   {
    "duration": 11,
    "start_time": "2022-08-24T20:50:42.695Z"
   },
   {
    "duration": 7,
    "start_time": "2022-08-24T20:50:42.707Z"
   },
   {
    "duration": 7,
    "start_time": "2022-08-24T20:50:42.715Z"
   },
   {
    "duration": 8,
    "start_time": "2022-08-24T20:50:42.723Z"
   },
   {
    "duration": 8,
    "start_time": "2022-08-24T20:50:42.732Z"
   },
   {
    "duration": 1215,
    "start_time": "2022-08-24T20:50:42.741Z"
   },
   {
    "duration": 720,
    "start_time": "2022-08-24T20:50:43.957Z"
   },
   {
    "duration": 19,
    "start_time": "2022-08-24T20:50:44.679Z"
   },
   {
    "duration": 5,
    "start_time": "2022-08-24T20:50:44.700Z"
   },
   {
    "duration": 7,
    "start_time": "2022-08-24T20:50:44.707Z"
   },
   {
    "duration": 4,
    "start_time": "2022-08-24T20:50:44.715Z"
   },
   {
    "duration": 173,
    "start_time": "2022-08-24T20:50:44.721Z"
   },
   {
    "duration": 3,
    "start_time": "2022-08-24T20:50:44.898Z"
   },
   {
    "duration": 13,
    "start_time": "2022-08-24T20:50:44.903Z"
   },
   {
    "duration": 15,
    "start_time": "2022-08-24T20:50:44.917Z"
   },
   {
    "duration": 9774,
    "start_time": "2022-08-24T20:50:44.933Z"
   },
   {
    "duration": 28,
    "start_time": "2022-08-24T20:50:54.709Z"
   },
   {
    "duration": 0,
    "start_time": "2022-08-24T20:50:54.738Z"
   },
   {
    "duration": 0,
    "start_time": "2022-08-24T20:50:54.740Z"
   },
   {
    "duration": 0,
    "start_time": "2022-08-24T20:50:54.741Z"
   },
   {
    "duration": 0,
    "start_time": "2022-08-24T20:50:54.742Z"
   },
   {
    "duration": 0,
    "start_time": "2022-08-24T20:50:54.744Z"
   },
   {
    "duration": 0,
    "start_time": "2022-08-24T20:50:54.745Z"
   },
   {
    "duration": 0,
    "start_time": "2022-08-24T20:50:54.747Z"
   },
   {
    "duration": 0,
    "start_time": "2022-08-24T20:50:54.748Z"
   },
   {
    "duration": 3,
    "start_time": "2022-08-24T20:51:09.716Z"
   },
   {
    "duration": 673,
    "start_time": "2022-08-24T20:51:18.796Z"
   },
   {
    "duration": 10,
    "start_time": "2022-08-24T20:51:21.738Z"
   },
   {
    "duration": 1847,
    "start_time": "2022-08-24T20:52:10.319Z"
   },
   {
    "duration": 46703,
    "start_time": "2022-08-24T20:52:12.168Z"
   },
   {
    "duration": 719,
    "start_time": "2022-08-24T20:52:58.872Z"
   },
   {
    "duration": 16,
    "start_time": "2022-08-24T20:52:59.593Z"
   },
   {
    "duration": 6,
    "start_time": "2022-08-24T20:52:59.611Z"
   },
   {
    "duration": 24,
    "start_time": "2022-08-24T20:52:59.619Z"
   },
   {
    "duration": 7,
    "start_time": "2022-08-24T20:52:59.644Z"
   },
   {
    "duration": 69,
    "start_time": "2022-08-24T20:52:59.652Z"
   },
   {
    "duration": 6,
    "start_time": "2022-08-24T20:52:59.722Z"
   },
   {
    "duration": 8,
    "start_time": "2022-08-24T20:52:59.730Z"
   },
   {
    "duration": 7,
    "start_time": "2022-08-24T20:52:59.739Z"
   },
   {
    "duration": 478,
    "start_time": "2022-08-24T20:52:59.748Z"
   },
   {
    "duration": 4,
    "start_time": "2022-08-24T20:53:00.227Z"
   },
   {
    "duration": 187596,
    "start_time": "2022-08-24T20:53:00.234Z"
   },
   {
    "duration": 99454,
    "start_time": "2022-08-24T20:56:07.832Z"
   },
   {
    "duration": 8,
    "start_time": "2022-08-24T20:57:47.288Z"
   },
   {
    "duration": 11,
    "start_time": "2022-08-24T20:57:47.297Z"
   },
   {
    "duration": 8,
    "start_time": "2022-08-24T20:57:47.309Z"
   },
   {
    "duration": 4,
    "start_time": "2022-08-24T20:57:47.318Z"
   },
   {
    "duration": 5,
    "start_time": "2022-08-24T20:57:47.323Z"
   },
   {
    "duration": 9,
    "start_time": "2022-08-24T20:57:47.329Z"
   },
   {
    "duration": 1124,
    "start_time": "2022-08-24T20:57:47.339Z"
   },
   {
    "duration": 599,
    "start_time": "2022-08-24T20:57:48.465Z"
   },
   {
    "duration": 4,
    "start_time": "2022-08-24T20:57:49.066Z"
   },
   {
    "duration": 7,
    "start_time": "2022-08-24T20:57:49.071Z"
   },
   {
    "duration": 4,
    "start_time": "2022-08-24T20:57:49.085Z"
   },
   {
    "duration": 4,
    "start_time": "2022-08-24T20:57:49.091Z"
   },
   {
    "duration": 168,
    "start_time": "2022-08-24T20:57:49.097Z"
   },
   {
    "duration": 4,
    "start_time": "2022-08-24T20:57:49.267Z"
   },
   {
    "duration": 13,
    "start_time": "2022-08-24T20:57:49.272Z"
   },
   {
    "duration": 10,
    "start_time": "2022-08-24T20:57:49.286Z"
   },
   {
    "duration": 94013,
    "start_time": "2022-08-24T20:57:49.297Z"
   },
   {
    "duration": 95,
    "start_time": "2022-08-24T20:59:23.311Z"
   },
   {
    "duration": 4,
    "start_time": "2022-08-24T20:59:23.407Z"
   },
   {
    "duration": 18,
    "start_time": "2022-08-24T20:59:23.412Z"
   },
   {
    "duration": 45086,
    "start_time": "2022-08-24T20:59:23.431Z"
   },
   {
    "duration": 29,
    "start_time": "2022-08-24T21:00:08.518Z"
   },
   {
    "duration": 0,
    "start_time": "2022-08-24T21:00:08.549Z"
   },
   {
    "duration": 0,
    "start_time": "2022-08-24T21:00:08.550Z"
   },
   {
    "duration": 0,
    "start_time": "2022-08-24T21:00:08.551Z"
   },
   {
    "duration": 0,
    "start_time": "2022-08-24T21:00:08.553Z"
   },
   {
    "duration": 4570,
    "start_time": "2022-08-24T21:00:25.986Z"
   },
   {
    "duration": 110210,
    "start_time": "2022-08-24T21:00:36.575Z"
   },
   {
    "duration": 1931,
    "start_time": "2022-08-24T21:02:57.947Z"
   },
   {
    "duration": 48773,
    "start_time": "2022-08-24T21:02:59.879Z"
   },
   {
    "duration": 735,
    "start_time": "2022-08-24T21:03:48.653Z"
   },
   {
    "duration": 17,
    "start_time": "2022-08-24T21:03:49.390Z"
   },
   {
    "duration": 7,
    "start_time": "2022-08-24T21:03:49.408Z"
   },
   {
    "duration": 24,
    "start_time": "2022-08-24T21:03:49.416Z"
   },
   {
    "duration": 6,
    "start_time": "2022-08-24T21:03:49.441Z"
   },
   {
    "duration": 66,
    "start_time": "2022-08-24T21:03:49.448Z"
   },
   {
    "duration": 4,
    "start_time": "2022-08-24T21:03:49.516Z"
   },
   {
    "duration": 8,
    "start_time": "2022-08-24T21:03:49.523Z"
   },
   {
    "duration": 7,
    "start_time": "2022-08-24T21:03:49.532Z"
   },
   {
    "duration": 472,
    "start_time": "2022-08-24T21:03:49.540Z"
   },
   {
    "duration": 3,
    "start_time": "2022-08-24T21:03:50.013Z"
   },
   {
    "duration": 173555,
    "start_time": "2022-08-24T21:03:50.018Z"
   },
   {
    "duration": 95520,
    "start_time": "2022-08-24T21:06:43.575Z"
   },
   {
    "duration": 9,
    "start_time": "2022-08-24T21:08:19.096Z"
   },
   {
    "duration": 16,
    "start_time": "2022-08-24T21:08:19.107Z"
   },
   {
    "duration": 20,
    "start_time": "2022-08-24T21:08:19.124Z"
   },
   {
    "duration": 5,
    "start_time": "2022-08-24T21:08:19.146Z"
   },
   {
    "duration": 5,
    "start_time": "2022-08-24T21:08:19.153Z"
   },
   {
    "duration": 15,
    "start_time": "2022-08-24T21:08:19.159Z"
   },
   {
    "duration": 1028,
    "start_time": "2022-08-24T21:08:19.175Z"
   },
   {
    "duration": 625,
    "start_time": "2022-08-24T21:08:20.205Z"
   },
   {
    "duration": 4,
    "start_time": "2022-08-24T21:08:20.832Z"
   },
   {
    "duration": 11,
    "start_time": "2022-08-24T21:08:20.837Z"
   },
   {
    "duration": 9,
    "start_time": "2022-08-24T21:08:20.849Z"
   },
   {
    "duration": 12,
    "start_time": "2022-08-24T21:08:20.859Z"
   },
   {
    "duration": 172,
    "start_time": "2022-08-24T21:08:20.886Z"
   },
   {
    "duration": 3,
    "start_time": "2022-08-24T21:08:21.060Z"
   },
   {
    "duration": 20,
    "start_time": "2022-08-24T21:08:21.065Z"
   },
   {
    "duration": 8,
    "start_time": "2022-08-24T21:08:21.086Z"
   },
   {
    "duration": 147891,
    "start_time": "2022-08-24T21:08:21.096Z"
   },
   {
    "duration": 135,
    "start_time": "2022-08-24T21:10:48.989Z"
   },
   {
    "duration": 3,
    "start_time": "2022-08-24T21:10:49.126Z"
   },
   {
    "duration": 23,
    "start_time": "2022-08-24T21:10:49.131Z"
   },
   {
    "duration": 985396,
    "start_time": "2022-08-24T21:10:49.156Z"
   },
   {
    "duration": 174,
    "start_time": "2022-08-24T21:27:14.554Z"
   },
   {
    "duration": 11,
    "start_time": "2022-08-24T21:27:14.730Z"
   },
   {
    "duration": 9,
    "start_time": "2022-08-24T21:27:14.742Z"
   },
   {
    "duration": 140,
    "start_time": "2022-08-24T21:27:14.752Z"
   },
   {
    "duration": 145,
    "start_time": "2022-08-24T21:27:14.894Z"
   },
   {
    "duration": 10,
    "start_time": "2022-08-24T21:27:53.211Z"
   },
   {
    "duration": 115,
    "start_time": "2022-08-24T21:28:05.183Z"
   },
   {
    "duration": 143,
    "start_time": "2022-08-24T21:28:22.285Z"
   },
   {
    "duration": 3,
    "start_time": "2022-08-24T21:28:48.881Z"
   },
   {
    "duration": 20693,
    "start_time": "2022-08-24T21:28:49.297Z"
   },
   {
    "duration": 93,
    "start_time": "2022-08-24T21:29:09.992Z"
   },
   {
    "duration": 3,
    "start_time": "2022-08-24T21:30:09.123Z"
   },
   {
    "duration": 30133,
    "start_time": "2022-08-24T21:30:09.457Z"
   },
   {
    "duration": 93,
    "start_time": "2022-08-24T21:30:39.592Z"
   },
   {
    "duration": 4,
    "start_time": "2022-08-24T21:31:57.126Z"
   },
   {
    "duration": 2919,
    "start_time": "2022-08-24T21:31:58.234Z"
   },
   {
    "duration": 7,
    "start_time": "2022-08-24T21:32:15.636Z"
   },
   {
    "duration": 152,
    "start_time": "2022-08-24T21:32:33.240Z"
   },
   {
    "duration": 4,
    "start_time": "2022-08-24T21:32:34.003Z"
   },
   {
    "duration": 7,
    "start_time": "2022-08-24T21:32:34.189Z"
   },
   {
    "duration": 8,
    "start_time": "2022-08-24T21:32:44.606Z"
   },
   {
    "duration": 9,
    "start_time": "2022-08-24T21:32:54.600Z"
   },
   {
    "duration": 156,
    "start_time": "2022-08-24T21:32:55.831Z"
   },
   {
    "duration": 4,
    "start_time": "2022-08-24T21:32:56.107Z"
   },
   {
    "duration": 7,
    "start_time": "2022-08-24T21:32:56.431Z"
   },
   {
    "duration": 7,
    "start_time": "2022-08-24T21:32:56.729Z"
   },
   {
    "duration": 119,
    "start_time": "2022-08-24T21:33:06.896Z"
   },
   {
    "duration": 3,
    "start_time": "2022-08-24T21:33:07.435Z"
   },
   {
    "duration": 7,
    "start_time": "2022-08-24T21:33:07.803Z"
   },
   {
    "duration": 8,
    "start_time": "2022-08-24T21:33:08.338Z"
   },
   {
    "duration": 239,
    "start_time": "2022-08-24T21:33:13.465Z"
   },
   {
    "duration": 3,
    "start_time": "2022-08-24T21:33:13.711Z"
   },
   {
    "duration": 7,
    "start_time": "2022-08-24T21:33:14.077Z"
   },
   {
    "duration": 9,
    "start_time": "2022-08-24T21:33:14.516Z"
   },
   {
    "duration": 189,
    "start_time": "2022-08-24T21:33:18.268Z"
   },
   {
    "duration": 3,
    "start_time": "2022-08-24T21:33:18.615Z"
   },
   {
    "duration": 6,
    "start_time": "2022-08-24T21:33:18.972Z"
   },
   {
    "duration": 7,
    "start_time": "2022-08-24T21:33:19.419Z"
   },
   {
    "duration": 203,
    "start_time": "2022-08-24T21:33:22.755Z"
   },
   {
    "duration": 4,
    "start_time": "2022-08-24T21:33:23.184Z"
   },
   {
    "duration": 7,
    "start_time": "2022-08-24T21:33:23.613Z"
   },
   {
    "duration": 9,
    "start_time": "2022-08-24T21:33:24.097Z"
   },
   {
    "duration": 147,
    "start_time": "2022-08-24T21:33:27.160Z"
   },
   {
    "duration": 4,
    "start_time": "2022-08-24T21:33:27.355Z"
   },
   {
    "duration": 7,
    "start_time": "2022-08-24T21:33:27.597Z"
   },
   {
    "duration": 8,
    "start_time": "2022-08-24T21:33:27.868Z"
   },
   {
    "duration": 310,
    "start_time": "2022-08-24T21:33:32.403Z"
   },
   {
    "duration": 4,
    "start_time": "2022-08-24T21:33:32.715Z"
   },
   {
    "duration": 7,
    "start_time": "2022-08-24T21:33:33.115Z"
   },
   {
    "duration": 7,
    "start_time": "2022-08-24T21:33:33.664Z"
   },
   {
    "duration": 159,
    "start_time": "2022-08-24T21:33:44.134Z"
   },
   {
    "duration": 4,
    "start_time": "2022-08-24T21:33:44.591Z"
   },
   {
    "duration": 6,
    "start_time": "2022-08-24T21:33:45.052Z"
   },
   {
    "duration": 8,
    "start_time": "2022-08-24T21:33:45.721Z"
   },
   {
    "duration": 147,
    "start_time": "2022-08-24T21:33:49.644Z"
   },
   {
    "duration": 3,
    "start_time": "2022-08-24T21:33:50.030Z"
   },
   {
    "duration": 6,
    "start_time": "2022-08-24T21:33:50.361Z"
   },
   {
    "duration": 8,
    "start_time": "2022-08-24T21:33:50.726Z"
   },
   {
    "duration": 162,
    "start_time": "2022-08-24T21:33:54.253Z"
   },
   {
    "duration": 4,
    "start_time": "2022-08-24T21:33:54.572Z"
   },
   {
    "duration": 7,
    "start_time": "2022-08-24T21:33:55.027Z"
   },
   {
    "duration": 8,
    "start_time": "2022-08-24T21:33:55.428Z"
   },
   {
    "duration": 148,
    "start_time": "2022-08-24T21:33:59.636Z"
   },
   {
    "duration": 4,
    "start_time": "2022-08-24T21:33:59.861Z"
   },
   {
    "duration": 7,
    "start_time": "2022-08-24T21:34:00.127Z"
   },
   {
    "duration": 10,
    "start_time": "2022-08-24T21:34:01.184Z"
   },
   {
    "duration": 136,
    "start_time": "2022-08-24T21:34:03.852Z"
   },
   {
    "duration": 4,
    "start_time": "2022-08-24T21:34:04.079Z"
   },
   {
    "duration": 10,
    "start_time": "2022-08-24T21:34:04.399Z"
   },
   {
    "duration": 7,
    "start_time": "2022-08-24T21:34:04.747Z"
   },
   {
    "duration": 143,
    "start_time": "2022-08-24T21:34:07.523Z"
   },
   {
    "duration": 4,
    "start_time": "2022-08-24T21:34:07.890Z"
   },
   {
    "duration": 7,
    "start_time": "2022-08-24T21:34:08.276Z"
   },
   {
    "duration": 7,
    "start_time": "2022-08-24T21:34:08.705Z"
   },
   {
    "duration": 123,
    "start_time": "2022-08-24T21:34:12.148Z"
   },
   {
    "duration": 4,
    "start_time": "2022-08-24T21:34:12.529Z"
   },
   {
    "duration": 12,
    "start_time": "2022-08-24T21:34:12.899Z"
   },
   {
    "duration": 8,
    "start_time": "2022-08-24T21:34:13.187Z"
   },
   {
    "duration": 132,
    "start_time": "2022-08-24T21:34:16.104Z"
   },
   {
    "duration": 4,
    "start_time": "2022-08-24T21:34:16.402Z"
   },
   {
    "duration": 7,
    "start_time": "2022-08-24T21:34:16.702Z"
   },
   {
    "duration": 7,
    "start_time": "2022-08-24T21:34:16.977Z"
   },
   {
    "duration": 126,
    "start_time": "2022-08-24T21:34:20.238Z"
   },
   {
    "duration": 3,
    "start_time": "2022-08-24T21:34:20.550Z"
   },
   {
    "duration": 7,
    "start_time": "2022-08-24T21:34:20.852Z"
   },
   {
    "duration": 9,
    "start_time": "2022-08-24T21:34:21.163Z"
   },
   {
    "duration": 156,
    "start_time": "2022-08-24T21:34:24.335Z"
   },
   {
    "duration": 4,
    "start_time": "2022-08-24T21:34:24.604Z"
   },
   {
    "duration": 7,
    "start_time": "2022-08-24T21:34:24.857Z"
   },
   {
    "duration": 8,
    "start_time": "2022-08-24T21:34:25.120Z"
   },
   {
    "duration": 162,
    "start_time": "2022-08-24T21:34:30.744Z"
   },
   {
    "duration": 4,
    "start_time": "2022-08-24T21:34:31.012Z"
   },
   {
    "duration": 7,
    "start_time": "2022-08-24T21:34:31.359Z"
   },
   {
    "duration": 7,
    "start_time": "2022-08-24T21:34:31.987Z"
   },
   {
    "duration": 1781,
    "start_time": "2022-08-24T21:34:48.604Z"
   },
   {
    "duration": 99,
    "start_time": "2022-08-24T21:34:50.387Z"
   },
   {
    "duration": 279,
    "start_time": "2022-08-24T21:37:10.881Z"
   },
   {
    "duration": 8,
    "start_time": "2022-08-24T21:37:11.916Z"
   },
   {
    "duration": 290,
    "start_time": "2022-08-24T21:37:25.154Z"
   },
   {
    "duration": 7,
    "start_time": "2022-08-24T21:37:26.354Z"
   },
   {
    "duration": 6279,
    "start_time": "2022-08-24T21:37:28.954Z"
   },
   {
    "duration": 9,
    "start_time": "2022-08-24T21:37:35.235Z"
   },
   {
    "duration": 354,
    "start_time": "2022-08-24T21:37:54.386Z"
   },
   {
    "duration": 6171,
    "start_time": "2022-08-24T21:38:32.909Z"
   },
   {
    "duration": 8,
    "start_time": "2022-08-24T21:38:39.082Z"
   },
   {
    "duration": 3,
    "start_time": "2022-08-24T21:38:42.982Z"
   },
   {
    "duration": 8,
    "start_time": "2022-08-24T21:38:43.223Z"
   },
   {
    "duration": 308,
    "start_time": "2022-08-24T21:38:48.221Z"
   },
   {
    "duration": 8,
    "start_time": "2022-08-24T21:38:48.870Z"
   },
   {
    "duration": 345,
    "start_time": "2022-08-24T21:38:54.300Z"
   },
   {
    "duration": 8,
    "start_time": "2022-08-24T21:38:54.698Z"
   },
   {
    "duration": 19,
    "start_time": "2022-08-24T21:38:57.434Z"
   },
   {
    "duration": 6169,
    "start_time": "2022-08-24T21:39:03.397Z"
   },
   {
    "duration": 7,
    "start_time": "2022-08-24T21:39:09.568Z"
   },
   {
    "duration": 14632,
    "start_time": "2022-08-24T21:39:11.555Z"
   },
   {
    "duration": 8,
    "start_time": "2022-08-24T21:39:26.190Z"
   },
   {
    "duration": 1885,
    "start_time": "2022-08-24T21:40:32.509Z"
   },
   {
    "duration": 99,
    "start_time": "2022-08-24T21:40:34.488Z"
   },
   {
    "duration": 140,
    "start_time": "2022-08-24T21:40:38.955Z"
   },
   {
    "duration": 8,
    "start_time": "2022-08-24T21:40:40.122Z"
   },
   {
    "duration": 6,
    "start_time": "2022-08-24T21:40:41.828Z"
   },
   {
    "duration": 50,
    "start_time": "2022-08-24T21:41:12.609Z"
   },
   {
    "duration": 48,
    "start_time": "2022-08-24T21:41:42.653Z"
   },
   {
    "duration": 45,
    "start_time": "2022-08-24T21:41:45.395Z"
   },
   {
    "duration": 146,
    "start_time": "2022-08-24T21:42:04.909Z"
   },
   {
    "duration": 8,
    "start_time": "2022-08-24T21:42:05.929Z"
   },
   {
    "duration": 8,
    "start_time": "2022-08-24T21:42:07.452Z"
   },
   {
    "duration": 11226,
    "start_time": "2022-08-24T21:43:31.466Z"
   },
   {
    "duration": 91,
    "start_time": "2022-08-24T21:43:42.697Z"
   },
   {
    "duration": 105,
    "start_time": "2022-08-24T21:43:42.790Z"
   },
   {
    "duration": 12,
    "start_time": "2022-08-24T21:43:42.898Z"
   },
   {
    "duration": 12125,
    "start_time": "2022-08-24T21:44:07.867Z"
   },
   {
    "duration": 97,
    "start_time": "2022-08-24T21:44:19.995Z"
   },
   {
    "duration": 3,
    "start_time": "2022-08-24T21:44:20.185Z"
   },
   {
    "duration": 8,
    "start_time": "2022-08-24T21:44:20.190Z"
   },
   {
    "duration": 143,
    "start_time": "2022-08-24T21:44:26.584Z"
   },
   {
    "duration": 4,
    "start_time": "2022-08-24T21:44:28.321Z"
   },
   {
    "duration": 7,
    "start_time": "2022-08-24T21:44:28.563Z"
   },
   {
    "duration": 7,
    "start_time": "2022-08-24T21:44:29.772Z"
   },
   {
    "duration": 237177,
    "start_time": "2022-08-24T21:47:13.201Z"
   },
   {
    "duration": 3,
    "start_time": "2022-08-24T21:51:10.379Z"
   },
   {
    "duration": 73,
    "start_time": "2022-08-24T21:51:10.472Z"
   },
   {
    "duration": 1841,
    "start_time": "2022-08-24T21:52:41.828Z"
   },
   {
    "duration": 44741,
    "start_time": "2022-08-24T21:52:43.672Z"
   },
   {
    "duration": 665,
    "start_time": "2022-08-24T21:53:28.415Z"
   },
   {
    "duration": 16,
    "start_time": "2022-08-24T21:53:29.082Z"
   },
   {
    "duration": 5,
    "start_time": "2022-08-24T21:53:29.099Z"
   },
   {
    "duration": 23,
    "start_time": "2022-08-24T21:53:29.105Z"
   },
   {
    "duration": 5,
    "start_time": "2022-08-24T21:53:29.130Z"
   },
   {
    "duration": 63,
    "start_time": "2022-08-24T21:53:29.136Z"
   },
   {
    "duration": 4,
    "start_time": "2022-08-24T21:53:29.201Z"
   },
   {
    "duration": 6,
    "start_time": "2022-08-24T21:53:29.207Z"
   },
   {
    "duration": 4,
    "start_time": "2022-08-24T21:53:29.214Z"
   },
   {
    "duration": 461,
    "start_time": "2022-08-24T21:53:29.219Z"
   },
   {
    "duration": 3,
    "start_time": "2022-08-24T21:53:29.682Z"
   },
   {
    "duration": 213673,
    "start_time": "2022-08-24T21:53:29.687Z"
   },
   {
    "duration": 95228,
    "start_time": "2022-08-24T21:57:03.361Z"
   },
   {
    "duration": 8,
    "start_time": "2022-08-24T21:58:38.590Z"
   },
   {
    "duration": 13,
    "start_time": "2022-08-24T21:58:38.600Z"
   },
   {
    "duration": 10,
    "start_time": "2022-08-24T21:58:38.615Z"
   },
   {
    "duration": 5,
    "start_time": "2022-08-24T21:58:38.626Z"
   },
   {
    "duration": 7,
    "start_time": "2022-08-24T21:58:38.632Z"
   },
   {
    "duration": 7,
    "start_time": "2022-08-24T21:58:38.640Z"
   },
   {
    "duration": 1381,
    "start_time": "2022-08-24T21:58:38.649Z"
   },
   {
    "duration": 680,
    "start_time": "2022-08-24T21:58:40.031Z"
   },
   {
    "duration": 4,
    "start_time": "2022-08-24T21:58:40.713Z"
   },
   {
    "duration": 7,
    "start_time": "2022-08-24T21:58:40.719Z"
   },
   {
    "duration": 4,
    "start_time": "2022-08-24T21:58:40.728Z"
   },
   {
    "duration": 6,
    "start_time": "2022-08-24T21:58:40.734Z"
   },
   {
    "duration": 229,
    "start_time": "2022-08-24T21:58:40.744Z"
   },
   {
    "duration": 10,
    "start_time": "2022-08-24T21:58:40.975Z"
   },
   {
    "duration": 7,
    "start_time": "2022-08-24T21:58:40.986Z"
   },
   {
    "duration": 8,
    "start_time": "2022-08-24T21:58:40.994Z"
   },
   {
    "duration": 12,
    "start_time": "2022-08-24T21:58:41.003Z"
   },
   {
    "duration": 138949,
    "start_time": "2022-08-24T21:58:41.016Z"
   },
   {
    "duration": 63,
    "start_time": "2022-08-24T22:00:59.967Z"
   },
   {
    "duration": 4,
    "start_time": "2022-08-24T22:01:00.032Z"
   },
   {
    "duration": 11,
    "start_time": "2022-08-24T22:01:00.037Z"
   },
   {
    "duration": 617565,
    "start_time": "2022-08-24T22:01:00.050Z"
   },
   {
    "duration": 116,
    "start_time": "2022-08-24T22:11:17.617Z"
   },
   {
    "duration": 8,
    "start_time": "2022-08-24T22:11:17.734Z"
   },
   {
    "duration": 9,
    "start_time": "2022-08-24T22:11:17.744Z"
   },
   {
    "duration": 73,
    "start_time": "2022-08-24T22:11:17.755Z"
   },
   {
    "duration": 117,
    "start_time": "2022-08-24T22:11:17.830Z"
   },
   {
    "duration": 119,
    "start_time": "2022-08-24T22:17:47.940Z"
   },
   {
    "duration": 110,
    "start_time": "2022-08-24T22:17:50.802Z"
   },
   {
    "duration": 119,
    "start_time": "2022-08-24T22:18:37.787Z"
   },
   {
    "duration": 111,
    "start_time": "2022-08-24T22:18:43.141Z"
   },
   {
    "duration": 123,
    "start_time": "2022-08-24T22:18:54.063Z"
   },
   {
    "duration": 2405,
    "start_time": "2022-08-25T07:00:13.272Z"
   },
   {
    "duration": 112570,
    "start_time": "2022-08-25T07:00:15.679Z"
   },
   {
    "duration": 684,
    "start_time": "2022-08-25T07:02:08.250Z"
   },
   {
    "duration": 17,
    "start_time": "2022-08-25T07:02:08.935Z"
   },
   {
    "duration": 5,
    "start_time": "2022-08-25T07:02:08.954Z"
   },
   {
    "duration": 24,
    "start_time": "2022-08-25T07:02:08.960Z"
   },
   {
    "duration": 22,
    "start_time": "2022-08-25T07:02:08.986Z"
   },
   {
    "duration": 40,
    "start_time": "2022-08-25T07:02:09.009Z"
   },
   {
    "duration": 7,
    "start_time": "2022-08-25T07:02:09.051Z"
   },
   {
    "duration": 13,
    "start_time": "2022-08-25T07:02:09.059Z"
   },
   {
    "duration": 5,
    "start_time": "2022-08-25T07:02:09.073Z"
   },
   {
    "duration": 534,
    "start_time": "2022-08-25T07:02:09.080Z"
   },
   {
    "duration": 3,
    "start_time": "2022-08-25T07:02:09.615Z"
   },
   {
    "duration": 217068,
    "start_time": "2022-08-25T07:02:09.621Z"
   },
   {
    "duration": 94820,
    "start_time": "2022-08-25T07:05:46.691Z"
   },
   {
    "duration": 8,
    "start_time": "2022-08-25T07:07:21.512Z"
   },
   {
    "duration": 10,
    "start_time": "2022-08-25T07:07:21.521Z"
   },
   {
    "duration": 9,
    "start_time": "2022-08-25T07:07:21.532Z"
   },
   {
    "duration": 4,
    "start_time": "2022-08-25T07:07:21.542Z"
   },
   {
    "duration": 5,
    "start_time": "2022-08-25T07:07:21.548Z"
   },
   {
    "duration": 241,
    "start_time": "2022-08-25T07:07:21.555Z"
   },
   {
    "duration": 1270,
    "start_time": "2022-08-25T07:07:21.797Z"
   },
   {
    "duration": 567,
    "start_time": "2022-08-25T07:07:23.068Z"
   },
   {
    "duration": 4,
    "start_time": "2022-08-25T07:07:23.636Z"
   },
   {
    "duration": 6,
    "start_time": "2022-08-25T07:07:23.641Z"
   },
   {
    "duration": 6,
    "start_time": "2022-08-25T07:07:23.648Z"
   },
   {
    "duration": 6,
    "start_time": "2022-08-25T07:07:23.655Z"
   },
   {
    "duration": 578,
    "start_time": "2022-08-25T07:07:23.662Z"
   },
   {
    "duration": 5,
    "start_time": "2022-08-25T07:07:24.242Z"
   },
   {
    "duration": 11,
    "start_time": "2022-08-25T07:07:24.249Z"
   },
   {
    "duration": 8,
    "start_time": "2022-08-25T07:07:24.261Z"
   },
   {
    "duration": 3889,
    "start_time": "2022-08-25T07:13:13.026Z"
   },
   {
    "duration": 4,
    "start_time": "2022-08-25T07:13:19.907Z"
   },
   {
    "duration": 6,
    "start_time": "2022-08-25T07:13:20.704Z"
   },
   {
    "duration": 9,
    "start_time": "2022-08-25T07:13:21.728Z"
   },
   {
    "duration": 4423,
    "start_time": "2022-08-25T07:13:58.792Z"
   },
   {
    "duration": 3,
    "start_time": "2022-08-25T07:14:05.201Z"
   },
   {
    "duration": 7,
    "start_time": "2022-08-25T07:14:05.876Z"
   },
   {
    "duration": 8,
    "start_time": "2022-08-25T07:14:06.852Z"
   },
   {
    "duration": 109,
    "start_time": "2022-08-25T07:14:37.119Z"
   },
   {
    "duration": 3592,
    "start_time": "2022-08-25T07:14:53.415Z"
   },
   {
    "duration": 3,
    "start_time": "2022-08-25T07:14:57.947Z"
   },
   {
    "duration": 7,
    "start_time": "2022-08-25T07:14:58.318Z"
   },
   {
    "duration": 8,
    "start_time": "2022-08-25T07:14:59.573Z"
   },
   {
    "duration": 32825,
    "start_time": "2022-08-25T07:15:29.685Z"
   },
   {
    "duration": 4,
    "start_time": "2022-08-25T07:16:19.653Z"
   },
   {
    "duration": 7,
    "start_time": "2022-08-25T07:16:20.202Z"
   },
   {
    "duration": 8,
    "start_time": "2022-08-25T07:16:21.149Z"
   },
   {
    "duration": 120,
    "start_time": "2022-08-25T07:18:15.837Z"
   },
   {
    "duration": 4771,
    "start_time": "2022-08-25T07:18:26.437Z"
   },
   {
    "duration": 3,
    "start_time": "2022-08-25T07:18:39.965Z"
   },
   {
    "duration": 7,
    "start_time": "2022-08-25T07:18:40.623Z"
   },
   {
    "duration": 8,
    "start_time": "2022-08-25T07:18:41.777Z"
   },
   {
    "duration": 2930,
    "start_time": "2022-08-25T07:18:50.585Z"
   },
   {
    "duration": 4,
    "start_time": "2022-08-25T07:18:56.736Z"
   },
   {
    "duration": 7,
    "start_time": "2022-08-25T07:18:57.285Z"
   },
   {
    "duration": 8,
    "start_time": "2022-08-25T07:18:58.129Z"
   },
   {
    "duration": 2870,
    "start_time": "2022-08-25T07:19:37.137Z"
   },
   {
    "duration": 3,
    "start_time": "2022-08-25T07:19:40.009Z"
   },
   {
    "duration": 119,
    "start_time": "2022-08-25T07:19:40.013Z"
   },
   {
    "duration": 2298,
    "start_time": "2022-08-25T07:19:57.810Z"
   },
   {
    "duration": 4,
    "start_time": "2022-08-25T07:20:00.896Z"
   },
   {
    "duration": 7,
    "start_time": "2022-08-25T07:20:01.530Z"
   },
   {
    "duration": 8,
    "start_time": "2022-08-25T07:20:03.263Z"
   },
   {
    "duration": 2114,
    "start_time": "2022-08-25T07:20:12.201Z"
   },
   {
    "duration": 4,
    "start_time": "2022-08-25T07:20:15.170Z"
   },
   {
    "duration": 6,
    "start_time": "2022-08-25T07:20:15.729Z"
   },
   {
    "duration": 7,
    "start_time": "2022-08-25T07:20:16.627Z"
   },
   {
    "duration": 1998,
    "start_time": "2022-08-25T07:20:26.017Z"
   },
   {
    "duration": 4,
    "start_time": "2022-08-25T07:20:28.877Z"
   },
   {
    "duration": 7,
    "start_time": "2022-08-25T07:20:29.519Z"
   },
   {
    "duration": 8,
    "start_time": "2022-08-25T07:20:30.348Z"
   },
   {
    "duration": 2077,
    "start_time": "2022-08-25T07:20:38.733Z"
   },
   {
    "duration": 4,
    "start_time": "2022-08-25T07:20:40.812Z"
   },
   {
    "duration": 6,
    "start_time": "2022-08-25T07:20:41.589Z"
   },
   {
    "duration": 7,
    "start_time": "2022-08-25T07:20:42.445Z"
   },
   {
    "duration": 30019,
    "start_time": "2022-08-25T07:21:29.888Z"
   },
   {
    "duration": 95,
    "start_time": "2022-08-25T07:21:59.912Z"
   },
   {
    "duration": 7,
    "start_time": "2022-08-25T07:22:02.496Z"
   },
   {
    "duration": 8,
    "start_time": "2022-08-25T07:22:03.381Z"
   },
   {
    "duration": 28738,
    "start_time": "2022-08-25T07:22:41.568Z"
   },
   {
    "duration": 4,
    "start_time": "2022-08-25T07:23:13.245Z"
   },
   {
    "duration": 6,
    "start_time": "2022-08-25T07:23:14.008Z"
   },
   {
    "duration": 7,
    "start_time": "2022-08-25T07:23:14.817Z"
   },
   {
    "duration": 21820,
    "start_time": "2022-08-25T07:23:27.186Z"
   },
   {
    "duration": 4,
    "start_time": "2022-08-25T07:24:27.877Z"
   },
   {
    "duration": 7,
    "start_time": "2022-08-25T07:24:28.629Z"
   },
   {
    "duration": 7,
    "start_time": "2022-08-25T07:24:29.489Z"
   },
   {
    "duration": 5699,
    "start_time": "2022-08-25T07:25:03.217Z"
   },
   {
    "duration": 3,
    "start_time": "2022-08-25T07:25:11.449Z"
   },
   {
    "duration": 7,
    "start_time": "2022-08-25T07:25:12.129Z"
   },
   {
    "duration": 8,
    "start_time": "2022-08-25T07:25:13.168Z"
   },
   {
    "duration": 8239,
    "start_time": "2022-08-25T07:25:27.778Z"
   },
   {
    "duration": 3,
    "start_time": "2022-08-25T07:25:38.089Z"
   },
   {
    "duration": 7,
    "start_time": "2022-08-25T07:25:38.668Z"
   },
   {
    "duration": 7,
    "start_time": "2022-08-25T07:25:39.389Z"
   },
   {
    "duration": 53133,
    "start_time": "2022-08-25T07:25:59.577Z"
   },
   {
    "duration": 4,
    "start_time": "2022-08-25T07:26:54.936Z"
   },
   {
    "duration": 6,
    "start_time": "2022-08-25T07:26:55.697Z"
   },
   {
    "duration": 8,
    "start_time": "2022-08-25T07:26:56.898Z"
   },
   {
    "duration": 8,
    "start_time": "2022-08-25T07:27:30.323Z"
   },
   {
    "duration": 2526,
    "start_time": "2022-08-25T07:28:43.747Z"
   },
   {
    "duration": 117168,
    "start_time": "2022-08-25T07:28:46.275Z"
   },
   {
    "duration": 667,
    "start_time": "2022-08-25T07:30:43.445Z"
   },
   {
    "duration": 16,
    "start_time": "2022-08-25T07:30:44.113Z"
   },
   {
    "duration": 6,
    "start_time": "2022-08-25T07:30:44.131Z"
   },
   {
    "duration": 26,
    "start_time": "2022-08-25T07:30:44.138Z"
   },
   {
    "duration": 7,
    "start_time": "2022-08-25T07:30:44.166Z"
   },
   {
    "duration": 58,
    "start_time": "2022-08-25T07:30:44.175Z"
   },
   {
    "duration": 4,
    "start_time": "2022-08-25T07:30:44.235Z"
   },
   {
    "duration": 9,
    "start_time": "2022-08-25T07:30:44.240Z"
   },
   {
    "duration": 5,
    "start_time": "2022-08-25T07:30:44.250Z"
   },
   {
    "duration": 563,
    "start_time": "2022-08-25T07:30:44.256Z"
   },
   {
    "duration": 3,
    "start_time": "2022-08-25T07:30:44.821Z"
   },
   {
    "duration": 209881,
    "start_time": "2022-08-25T07:30:44.826Z"
   },
   {
    "duration": 92943,
    "start_time": "2022-08-25T07:34:14.709Z"
   },
   {
    "duration": 9,
    "start_time": "2022-08-25T07:35:47.653Z"
   },
   {
    "duration": 10,
    "start_time": "2022-08-25T07:35:47.664Z"
   },
   {
    "duration": 9,
    "start_time": "2022-08-25T07:35:47.675Z"
   },
   {
    "duration": 22,
    "start_time": "2022-08-25T07:35:47.685Z"
   },
   {
    "duration": 3,
    "start_time": "2022-08-25T07:35:47.708Z"
   },
   {
    "duration": 10,
    "start_time": "2022-08-25T07:35:47.712Z"
   },
   {
    "duration": 1304,
    "start_time": "2022-08-25T07:35:47.724Z"
   },
   {
    "duration": 562,
    "start_time": "2022-08-25T07:35:49.030Z"
   },
   {
    "duration": 4,
    "start_time": "2022-08-25T07:35:49.593Z"
   },
   {
    "duration": 5,
    "start_time": "2022-08-25T07:35:49.598Z"
   },
   {
    "duration": 11,
    "start_time": "2022-08-25T07:35:49.604Z"
   },
   {
    "duration": 10,
    "start_time": "2022-08-25T07:35:49.616Z"
   },
   {
    "duration": 49578,
    "start_time": "2022-08-25T07:35:49.628Z"
   },
   {
    "duration": 5,
    "start_time": "2022-08-25T07:36:39.213Z"
   },
   {
    "duration": 10,
    "start_time": "2022-08-25T07:36:39.306Z"
   },
   {
    "duration": 9,
    "start_time": "2022-08-25T07:36:39.318Z"
   },
   {
    "duration": 7,
    "start_time": "2022-08-25T08:00:50.291Z"
   }
  ],
  "kernelspec": {
   "display_name": "Python 3 (ipykernel)",
   "language": "python",
   "name": "python3"
  },
  "language_info": {
   "codemirror_mode": {
    "name": "ipython",
    "version": 3
   },
   "file_extension": ".py",
   "mimetype": "text/x-python",
   "name": "python",
   "nbconvert_exporter": "python",
   "pygments_lexer": "ipython3",
   "version": "3.9.13"
  },
  "toc": {
   "base_numbering": 1,
   "nav_menu": {},
   "number_sections": true,
   "sideBar": true,
   "skip_h1_title": true,
   "title_cell": "Содержание",
   "title_sidebar": "Contents",
   "toc_cell": true,
   "toc_position": {
    "height": "calc(100% - 180px)",
    "left": "10px",
    "top": "150px",
    "width": "302.378px"
   },
   "toc_section_display": true,
   "toc_window_display": true
  }
 },
 "nbformat": 4,
 "nbformat_minor": 2
}
