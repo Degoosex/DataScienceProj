{
 "cells": [
  {
   "cell_type": "markdown",
   "id": "3e01756e",
   "metadata": {},
   "source": [
    "# Исследование надежности заемщиков."
   ]
  },
  {
   "cell_type": "markdown",
   "id": "eb65ac51",
   "metadata": {},
   "source": [
    "<b>Описание проекта</b>\\\n",
    "Заказчик — кредитный отдел банка. Нужно разобраться, влияет ли семейное положение и количество детей клиента на факт погашения кредита в срок. Входные данные от банка — статистика о платёжеспособности клиентов.\n",
    "Результаты исследования будут учтены при построении модели кредитного скоринга — специальной системы, которая оценивает способность потенциального заёмщика вернуть кредит банку."
   ]
  },
  {
   "cell_type": "markdown",
   "id": "ffd481ec",
   "metadata": {},
   "source": [
    "### Обзор данных \n",
    "<b>Описание данных</b>\\\n",
    "•\tchildren — количество детей в семье\\\n",
    "•\tdays_employed — общий трудовой стаж в днях\\\n",
    "•\tdob_years — возраст клиента в годах\\\n",
    "•\teducation — уровень образования клиента\\\n",
    "•\teducation_id — идентификатор уровня образования\\\n",
    "•\tfamily_status — семейное положение\\\n",
    "•\tfamily_status_id — идентификатор семейного положения\\\n",
    "•\tgender — пол клиента\\\n",
    "•\tincome_type — тип занятости\\\n",
    "•\tdebt — имел ли задолженность по возврату кредитов\\\n",
    "•\ttotal_income — ежемесячный доход\\\n",
    "•\tpurpose — цель получения кредита"
   ]
  },
  {
   "cell_type": "markdown",
   "id": "8d8220ea",
   "metadata": {},
   "source": [
    "Для начала необходимо импортировать библиотеку pandas и открыть датафрейм для дальшейней работы."
   ]
  },
  {
   "cell_type": "code",
   "execution_count": 1,
   "id": "b5ff2e99",
   "metadata": {
    "scrolled": true
   },
   "outputs": [
    {
     "data": {
      "text/html": [
       "<div>\n",
       "<style scoped>\n",
       "    .dataframe tbody tr th:only-of-type {\n",
       "        vertical-align: middle;\n",
       "    }\n",
       "\n",
       "    .dataframe tbody tr th {\n",
       "        vertical-align: top;\n",
       "    }\n",
       "\n",
       "    .dataframe thead th {\n",
       "        text-align: right;\n",
       "    }\n",
       "</style>\n",
       "<table border=\"1\" class=\"dataframe\">\n",
       "  <thead>\n",
       "    <tr style=\"text-align: right;\">\n",
       "      <th></th>\n",
       "      <th>children</th>\n",
       "      <th>days_employed</th>\n",
       "      <th>dob_years</th>\n",
       "      <th>education</th>\n",
       "      <th>education_id</th>\n",
       "      <th>family_status</th>\n",
       "      <th>family_status_id</th>\n",
       "      <th>gender</th>\n",
       "      <th>income_type</th>\n",
       "      <th>debt</th>\n",
       "      <th>total_income</th>\n",
       "      <th>purpose</th>\n",
       "    </tr>\n",
       "  </thead>\n",
       "  <tbody>\n",
       "    <tr>\n",
       "      <th>0</th>\n",
       "      <td>1</td>\n",
       "      <td>-8437.673028</td>\n",
       "      <td>42</td>\n",
       "      <td>высшее</td>\n",
       "      <td>0</td>\n",
       "      <td>женат / замужем</td>\n",
       "      <td>0</td>\n",
       "      <td>F</td>\n",
       "      <td>сотрудник</td>\n",
       "      <td>0</td>\n",
       "      <td>253875.639453</td>\n",
       "      <td>покупка жилья</td>\n",
       "    </tr>\n",
       "    <tr>\n",
       "      <th>1</th>\n",
       "      <td>1</td>\n",
       "      <td>-4024.803754</td>\n",
       "      <td>36</td>\n",
       "      <td>среднее</td>\n",
       "      <td>1</td>\n",
       "      <td>женат / замужем</td>\n",
       "      <td>0</td>\n",
       "      <td>F</td>\n",
       "      <td>сотрудник</td>\n",
       "      <td>0</td>\n",
       "      <td>112080.014102</td>\n",
       "      <td>приобретение автомобиля</td>\n",
       "    </tr>\n",
       "    <tr>\n",
       "      <th>2</th>\n",
       "      <td>0</td>\n",
       "      <td>-5623.422610</td>\n",
       "      <td>33</td>\n",
       "      <td>Среднее</td>\n",
       "      <td>1</td>\n",
       "      <td>женат / замужем</td>\n",
       "      <td>0</td>\n",
       "      <td>M</td>\n",
       "      <td>сотрудник</td>\n",
       "      <td>0</td>\n",
       "      <td>145885.952297</td>\n",
       "      <td>покупка жилья</td>\n",
       "    </tr>\n",
       "    <tr>\n",
       "      <th>3</th>\n",
       "      <td>3</td>\n",
       "      <td>-4124.747207</td>\n",
       "      <td>32</td>\n",
       "      <td>среднее</td>\n",
       "      <td>1</td>\n",
       "      <td>женат / замужем</td>\n",
       "      <td>0</td>\n",
       "      <td>M</td>\n",
       "      <td>сотрудник</td>\n",
       "      <td>0</td>\n",
       "      <td>267628.550329</td>\n",
       "      <td>дополнительное образование</td>\n",
       "    </tr>\n",
       "    <tr>\n",
       "      <th>4</th>\n",
       "      <td>0</td>\n",
       "      <td>340266.072047</td>\n",
       "      <td>53</td>\n",
       "      <td>среднее</td>\n",
       "      <td>1</td>\n",
       "      <td>гражданский брак</td>\n",
       "      <td>1</td>\n",
       "      <td>F</td>\n",
       "      <td>пенсионер</td>\n",
       "      <td>0</td>\n",
       "      <td>158616.077870</td>\n",
       "      <td>сыграть свадьбу</td>\n",
       "    </tr>\n",
       "    <tr>\n",
       "      <th>5</th>\n",
       "      <td>0</td>\n",
       "      <td>-926.185831</td>\n",
       "      <td>27</td>\n",
       "      <td>высшее</td>\n",
       "      <td>0</td>\n",
       "      <td>гражданский брак</td>\n",
       "      <td>1</td>\n",
       "      <td>M</td>\n",
       "      <td>компаньон</td>\n",
       "      <td>0</td>\n",
       "      <td>255763.565419</td>\n",
       "      <td>покупка жилья</td>\n",
       "    </tr>\n",
       "    <tr>\n",
       "      <th>6</th>\n",
       "      <td>0</td>\n",
       "      <td>-2879.202052</td>\n",
       "      <td>43</td>\n",
       "      <td>высшее</td>\n",
       "      <td>0</td>\n",
       "      <td>женат / замужем</td>\n",
       "      <td>0</td>\n",
       "      <td>F</td>\n",
       "      <td>компаньон</td>\n",
       "      <td>0</td>\n",
       "      <td>240525.971920</td>\n",
       "      <td>операции с жильем</td>\n",
       "    </tr>\n",
       "    <tr>\n",
       "      <th>7</th>\n",
       "      <td>0</td>\n",
       "      <td>-152.779569</td>\n",
       "      <td>50</td>\n",
       "      <td>СРЕДНЕЕ</td>\n",
       "      <td>1</td>\n",
       "      <td>женат / замужем</td>\n",
       "      <td>0</td>\n",
       "      <td>M</td>\n",
       "      <td>сотрудник</td>\n",
       "      <td>0</td>\n",
       "      <td>135823.934197</td>\n",
       "      <td>образование</td>\n",
       "    </tr>\n",
       "    <tr>\n",
       "      <th>8</th>\n",
       "      <td>2</td>\n",
       "      <td>-6929.865299</td>\n",
       "      <td>35</td>\n",
       "      <td>ВЫСШЕЕ</td>\n",
       "      <td>0</td>\n",
       "      <td>гражданский брак</td>\n",
       "      <td>1</td>\n",
       "      <td>F</td>\n",
       "      <td>сотрудник</td>\n",
       "      <td>0</td>\n",
       "      <td>95856.832424</td>\n",
       "      <td>на проведение свадьбы</td>\n",
       "    </tr>\n",
       "    <tr>\n",
       "      <th>9</th>\n",
       "      <td>0</td>\n",
       "      <td>-2188.756445</td>\n",
       "      <td>41</td>\n",
       "      <td>среднее</td>\n",
       "      <td>1</td>\n",
       "      <td>женат / замужем</td>\n",
       "      <td>0</td>\n",
       "      <td>M</td>\n",
       "      <td>сотрудник</td>\n",
       "      <td>0</td>\n",
       "      <td>144425.938277</td>\n",
       "      <td>покупка жилья для семьи</td>\n",
       "    </tr>\n",
       "  </tbody>\n",
       "</table>\n",
       "</div>"
      ],
      "text/plain": [
       "   children  days_employed  dob_years education  education_id  \\\n",
       "0         1   -8437.673028         42    высшее             0   \n",
       "1         1   -4024.803754         36   среднее             1   \n",
       "2         0   -5623.422610         33   Среднее             1   \n",
       "3         3   -4124.747207         32   среднее             1   \n",
       "4         0  340266.072047         53   среднее             1   \n",
       "5         0    -926.185831         27    высшее             0   \n",
       "6         0   -2879.202052         43    высшее             0   \n",
       "7         0    -152.779569         50   СРЕДНЕЕ             1   \n",
       "8         2   -6929.865299         35    ВЫСШЕЕ             0   \n",
       "9         0   -2188.756445         41   среднее             1   \n",
       "\n",
       "      family_status  family_status_id gender income_type  debt   total_income  \\\n",
       "0   женат / замужем                 0      F   сотрудник     0  253875.639453   \n",
       "1   женат / замужем                 0      F   сотрудник     0  112080.014102   \n",
       "2   женат / замужем                 0      M   сотрудник     0  145885.952297   \n",
       "3   женат / замужем                 0      M   сотрудник     0  267628.550329   \n",
       "4  гражданский брак                 1      F   пенсионер     0  158616.077870   \n",
       "5  гражданский брак                 1      M   компаньон     0  255763.565419   \n",
       "6   женат / замужем                 0      F   компаньон     0  240525.971920   \n",
       "7   женат / замужем                 0      M   сотрудник     0  135823.934197   \n",
       "8  гражданский брак                 1      F   сотрудник     0   95856.832424   \n",
       "9   женат / замужем                 0      M   сотрудник     0  144425.938277   \n",
       "\n",
       "                      purpose  \n",
       "0               покупка жилья  \n",
       "1     приобретение автомобиля  \n",
       "2               покупка жилья  \n",
       "3  дополнительное образование  \n",
       "4             сыграть свадьбу  \n",
       "5               покупка жилья  \n",
       "6           операции с жильем  \n",
       "7                 образование  \n",
       "8       на проведение свадьбы  \n",
       "9     покупка жилья для семьи  "
      ]
     },
     "execution_count": 1,
     "metadata": {},
     "output_type": "execute_result"
    }
   ],
   "source": [
    "import pandas as pd\n",
    "df = pd.read_csv('/datasets/data.csv')\n",
    "df.head(10)"
   ]
  },
  {
   "cell_type": "markdown",
   "id": "9c5ed14f",
   "metadata": {},
   "source": [
    "Чтобы понять общую картину с какими данными предстоит работу, вызываем .info()"
   ]
  },
  {
   "cell_type": "code",
   "execution_count": 2,
   "id": "8ad2de5c",
   "metadata": {
    "scrolled": true
   },
   "outputs": [
    {
     "name": "stdout",
     "output_type": "stream",
     "text": [
      "<class 'pandas.core.frame.DataFrame'>\n",
      "RangeIndex: 21525 entries, 0 to 21524\n",
      "Data columns (total 12 columns):\n",
      " #   Column            Non-Null Count  Dtype  \n",
      "---  ------            --------------  -----  \n",
      " 0   children          21525 non-null  int64  \n",
      " 1   days_employed     19351 non-null  float64\n",
      " 2   dob_years         21525 non-null  int64  \n",
      " 3   education         21525 non-null  object \n",
      " 4   education_id      21525 non-null  int64  \n",
      " 5   family_status     21525 non-null  object \n",
      " 6   family_status_id  21525 non-null  int64  \n",
      " 7   gender            21525 non-null  object \n",
      " 8   income_type       21525 non-null  object \n",
      " 9   debt              21525 non-null  int64  \n",
      " 10  total_income      19351 non-null  float64\n",
      " 11  purpose           21525 non-null  object \n",
      "dtypes: float64(2), int64(5), object(5)\n",
      "memory usage: 2.0+ MB\n"
     ]
    }
   ],
   "source": [
    "df.info() #получение общей информации о датафрейме"
   ]
  },
  {
   "cell_type": "markdown",
   "id": "5fa6b294",
   "metadata": {},
   "source": [
    "Данная операция сразу даёт нам понять что в данных присутствую пропуски, так же видно из выведеной части таблицы наличие аномалий."
   ]
  },
  {
   "cell_type": "markdown",
   "id": "3c68a27e",
   "metadata": {},
   "source": [
    "### Заполнение пропусков"
   ]
  },
  {
   "cell_type": "markdown",
   "id": "60bddc43",
   "metadata": {},
   "source": [
    "Сперва определим в каких столбцах присутствуют пропуски"
   ]
  },
  {
   "cell_type": "code",
   "execution_count": 3,
   "id": "75e0eb9e",
   "metadata": {
    "scrolled": true
   },
   "outputs": [
    {
     "data": {
      "text/plain": [
       "children               0\n",
       "days_employed       2174\n",
       "dob_years              0\n",
       "education              0\n",
       "education_id           0\n",
       "family_status          0\n",
       "family_status_id       0\n",
       "gender                 0\n",
       "income_type            0\n",
       "debt                   0\n",
       "total_income        2174\n",
       "purpose                0\n",
       "dtype: int64"
      ]
     },
     "execution_count": 3,
     "metadata": {},
     "output_type": "execute_result"
    }
   ],
   "source": [
    "df.isnull().sum() #в столбцах days_employed и total_income присутствуют пустые значения"
   ]
  },
  {
   "cell_type": "markdown",
   "id": "75a63bf8",
   "metadata": {},
   "source": [
    "В двух столбцах есть пропущенные значения: days_employed и total_income. Чтобы понять как бороться с пропусками, стоит определить их долю в предоставленных данных"
   ]
  },
  {
   "cell_type": "code",
   "execution_count": 4,
   "id": "f4b3b1c8",
   "metadata": {
    "scrolled": false
   },
   "outputs": [
    {
     "name": "stdout",
     "output_type": "stream",
     "text": [
      "Доля пропущенных значений составляет: 10.1%\n"
     ]
    }
   ],
   "source": [
    "null_percent = df['days_employed'].isnull().sum() / df.shape[0]  #доля пропущеных значений\n",
    "print(f'Доля пропущенных значений составляет: {null_percent:.1%}')"
   ]
  },
  {
   "cell_type": "markdown",
   "id": "7f5ac5e4",
   "metadata": {},
   "source": [
    "Доля составляет значимую часть предоставленных данных, в связи с этим удаление может привести к неправильным результатам исследования. Для этого необходимо заменить пропущенные данные на медианные значения по столбцу. Замена на медиану в данном датасете будет предпочтительнее среднего арифметического, т.к. вид деятельности, например, сотрудник и госслужащий поделены абстрактно, и не показывают должность или сферу деятельности.\\\n",
    "Для того, чтобы анализ получился точным, медиану нужно брать по виду деятельности, т.к. отработанные дни и заработная плата у пенсионера и работающего человека будет отличаться.\\\n",
    "В данном случае я решил использовать циклы для замены данных по виду деятельности на медианы, которые им соответствуют."
   ]
  },
  {
   "cell_type": "markdown",
   "id": "a8c0046c",
   "metadata": {},
   "source": [
    "Сначала необходимо составить список уникальных значений видов деятельности и новый список для расчета медиан по ним."
   ]
  },
  {
   "cell_type": "code",
   "execution_count": 5,
   "id": "33cc85e2",
   "metadata": {},
   "outputs": [],
   "source": [
    "list_income_type = df['income_type'].unique() #список видов деятельности"
   ]
  },
  {
   "cell_type": "code",
   "execution_count": 6,
   "id": "4cca667b",
   "metadata": {},
   "outputs": [],
   "source": [
    "median_days_employed = [] #список медиан по видам деятельности\n",
    "for lists in list_income_type:\n",
    "    median_days_employed.append(df[df['income_type'] == lists]['days_employed'].median())"
   ]
  },
  {
   "cell_type": "code",
   "execution_count": 7,
   "id": "cf4fc7b5",
   "metadata": {},
   "outputs": [],
   "source": [
    "median_total_income = [] #список медиан по доходу\n",
    "for lists in list_income_type:\n",
    "    median_total_income.append(df[df['income_type'] == lists]['total_income'].median())"
   ]
  },
  {
   "cell_type": "markdown",
   "id": "265535a1",
   "metadata": {},
   "source": [
    "Далее используем цикл для замены данных. Первый работает цикл для устранения пропусков по столбцу с днями, второй - зарплате."
   ]
  },
  {
   "cell_type": "code",
   "execution_count": 8,
   "id": "d63b0300",
   "metadata": {},
   "outputs": [],
   "source": [
    "for i in range(len(list_income_type)): #замена пропущеных дней на медианы\n",
    "    df.loc[(df['days_employed'].isna() == True)&(df['income_type'] == list_income_type[i]), 'days_employed'] = median_days_employed[i]"
   ]
  },
  {
   "cell_type": "code",
   "execution_count": 9,
   "id": "e3edb31a",
   "metadata": {
    "scrolled": true
   },
   "outputs": [],
   "source": [
    "for i in range(len(list_income_type)): #замена пропущеных значений на медианый доход\n",
    "    df.loc[(df['total_income'].isna() == True)&(df['income_type'] == list_income_type[i]), 'total_income'] = median_total_income[i]"
   ]
  },
  {
   "cell_type": "markdown",
   "id": "3aa282f4",
   "metadata": {},
   "source": [
    "Используем .isna() чтобы убедиться в успешной замене пропусков. "
   ]
  },
  {
   "cell_type": "code",
   "execution_count": 10,
   "id": "78a09fea",
   "metadata": {
    "scrolled": true
   },
   "outputs": [
    {
     "data": {
      "text/plain": [
       "children            0\n",
       "days_employed       0\n",
       "dob_years           0\n",
       "education           0\n",
       "education_id        0\n",
       "family_status       0\n",
       "family_status_id    0\n",
       "gender              0\n",
       "income_type         0\n",
       "debt                0\n",
       "total_income        0\n",
       "purpose             0\n",
       "dtype: int64"
      ]
     },
     "execution_count": 10,
     "metadata": {},
     "output_type": "execute_result"
    }
   ],
   "source": [
    "df.isna().sum() #проверка на успех"
   ]
  },
  {
   "cell_type": "markdown",
   "id": "2b554aab",
   "metadata": {},
   "source": [
    "### Проверка данных на аномалии и исправления."
   ]
  },
  {
   "cell_type": "markdown",
   "id": "0abcf618",
   "metadata": {},
   "source": [
    "На первый взгляд в данных встречаются аномалии. Одна из них - отрицательное количество дней трудового стажа в столбце days_employed. Для исправления сначала отбираем только те значения, которые меньше нуля."
   ]
  },
  {
   "cell_type": "code",
   "execution_count": 11,
   "id": "0767ce47",
   "metadata": {},
   "outputs": [
    {
     "data": {
      "text/plain": [
       "children            17667\n",
       "days_employed       17667\n",
       "dob_years           17667\n",
       "education           17667\n",
       "education_id        17667\n",
       "family_status       17667\n",
       "family_status_id    17667\n",
       "gender              17667\n",
       "income_type         17667\n",
       "debt                17667\n",
       "total_income        17667\n",
       "purpose             17667\n",
       "dtype: int64"
      ]
     },
     "execution_count": 11,
     "metadata": {},
     "output_type": "execute_result"
    }
   ],
   "source": [
    "days_anomaly = df[df['days_employed'] < 0].count() #проверка на количество отрицательных значений\n",
    "days_anomaly"
   ]
  },
  {
   "cell_type": "markdown",
   "id": "6070fa12",
   "metadata": {},
   "source": [
    "Отрицательных значений в таблице много, из этого можно сделать вывод что были ошибки при сборе данных или других манипуляций с данными. В данной ситуации будет разумно взять все отрицательные значения в модуль, чтобы исправить аномалию."
   ]
  },
  {
   "cell_type": "code",
   "execution_count": 12,
   "id": "eea7e2ae",
   "metadata": {},
   "outputs": [],
   "source": [
    "df['days_employed'] = df['days_employed'].apply(abs) #взятие в модуль всех значений"
   ]
  },
  {
   "cell_type": "code",
   "execution_count": 13,
   "id": "773a19c0",
   "metadata": {},
   "outputs": [
    {
     "data": {
      "text/plain": [
       "children            0\n",
       "days_employed       0\n",
       "dob_years           0\n",
       "education           0\n",
       "education_id        0\n",
       "family_status       0\n",
       "family_status_id    0\n",
       "gender              0\n",
       "income_type         0\n",
       "debt                0\n",
       "total_income        0\n",
       "purpose             0\n",
       "dtype: int64"
      ]
     },
     "execution_count": 13,
     "metadata": {},
     "output_type": "execute_result"
    }
   ],
   "source": [
    "days_anomaly = df[df['days_employed'] < 0].count() #проверка на успех\n",
    "days_anomaly"
   ]
  },
  {
   "cell_type": "markdown",
   "id": "88ebc155",
   "metadata": {},
   "source": [
    "От отрицательных значений удалось избавиться."
   ]
  },
  {
   "cell_type": "markdown",
   "id": "dff44ae8",
   "metadata": {},
   "source": [
    "В days_employed есть слишком большие значения. Сначал определим сколько строк содержат такие значения и к каким категорям занятости относятся. Для того чтобы определить какие строки считать слишком большими, попробуем узнать в каких строках кол-во рабочих дней превышает возраст человека"
   ]
  },
  {
   "cell_type": "code",
   "execution_count": 14,
   "id": "c95d9a40",
   "metadata": {},
   "outputs": [
    {
     "data": {
      "text/plain": [
       "income_type\n",
       "пенсионер      3856\n",
       "сотрудник        55\n",
       "компаньон        20\n",
       "госслужащий       6\n",
       "безработный       2\n",
       "dtype: int64"
      ]
     },
     "execution_count": 14,
     "metadata": {},
     "output_type": "execute_result"
    }
   ],
   "source": [
    "df.loc[df['days_employed'] >= (df['dob_years'] * 360)].value_counts('income_type')"
   ]
  },
  {
   "cell_type": "markdown",
   "id": "f4622f8d",
   "metadata": {},
   "source": [
    "Из таблицы видно, что ошибочка информация превалирует у пенсионеров. В данном случае можно использовать несколько методов: заменить на среднее по ячейке, обьявить что данные отсутствуют или просто проигнорировать. Так как в исследовании эти данные нам не пригодятся, чтобы не ранить нужные нам данные в других столбцах считаю верным не трогать эти данные."
   ]
  },
  {
   "cell_type": "markdown",
   "id": "bf22ab46",
   "metadata": {},
   "source": [
    "Есть еще несколько аномалия столбце 'children'. Сперва необходимо узнать количество уникальных значений."
   ]
  },
  {
   "cell_type": "code",
   "execution_count": 15,
   "id": "4743a670",
   "metadata": {},
   "outputs": [
    {
     "data": {
      "text/plain": [
       " 0     14149\n",
       " 1      4818\n",
       " 2      2055\n",
       " 3       330\n",
       " 20       76\n",
       "-1        47\n",
       " 4        41\n",
       " 5         9\n",
       "Name: children, dtype: int64"
      ]
     },
     "execution_count": 15,
     "metadata": {},
     "output_type": "execute_result"
    }
   ],
   "source": [
    "df['children'].value_counts()"
   ]
  },
  {
   "cell_type": "markdown",
   "id": "b05d85e9",
   "metadata": {},
   "source": [
    "Как видно из примера выше в данных присутствуют отрицательные значения и с 20 детьми. Можно предположить, что в данных столбцах просто отсутствуют значения, поэтому сперва нужно заменить значения в столбце на пропуски и их удалить строки."
   ]
  },
  {
   "cell_type": "markdown",
   "id": "e62f9144",
   "metadata": {},
   "source": [
    "В этом случае отрицательных значений немного. Можно предположить, что в данных столбцах просто отсутствуют значения, поэтому сперва нужно заменить столбцы на пропуски и их удалить."
   ]
  },
  {
   "cell_type": "code",
   "execution_count": 16,
   "id": "712ec30b",
   "metadata": {},
   "outputs": [],
   "source": [
    "df.loc[(df['children'] < 0)| (df['children'] == 20)] = None #изменение отрицательных значений на пропуск"
   ]
  },
  {
   "cell_type": "code",
   "execution_count": 17,
   "id": "6d0a94dc",
   "metadata": {},
   "outputs": [],
   "source": [
    "df = df.dropna(subset=['children'])  #удаление строк с пропущеными данными"
   ]
  },
  {
   "cell_type": "code",
   "execution_count": 18,
   "id": "c4c4219b",
   "metadata": {
    "scrolled": false
   },
   "outputs": [
    {
     "data": {
      "text/plain": [
       "0"
      ]
     },
     "execution_count": 18,
     "metadata": {},
     "output_type": "execute_result"
    }
   ],
   "source": [
    "df['children'].isna().sum() #проверка на успех"
   ]
  },
  {
   "cell_type": "markdown",
   "id": "d8413dbd",
   "metadata": {},
   "source": [
    "После проверки видно что столбцы удалились."
   ]
  },
  {
   "cell_type": "markdown",
   "id": "257d612a",
   "metadata": {},
   "source": [
    "### Изменение типов данных."
   ]
  },
  {
   "cell_type": "markdown",
   "id": "414e35cd",
   "metadata": {},
   "source": [
    "Для удобства чтения таблицы необходимо заменить типы  данных таблицы на целочисленный. В нескольких столбцах после операции присвоения пустых значений типы данных поменялись с int на float. Сделаем цикл для исправления изменений:"
   ]
  },
  {
   "cell_type": "code",
   "execution_count": 19,
   "id": "44fe4154",
   "metadata": {},
   "outputs": [],
   "source": [
    "float_column = ('total_income', 'children', 'dob_years', 'education_id', 'family_status_id', 'debt') #цикл по замене типа данных\n",
    "for column in float_column:\n",
    "    df[column] = df[column].astype('int')"
   ]
  },
  {
   "cell_type": "code",
   "execution_count": 20,
   "id": "e7344eb2",
   "metadata": {
    "scrolled": true
   },
   "outputs": [
    {
     "name": "stdout",
     "output_type": "stream",
     "text": [
      "<class 'pandas.core.frame.DataFrame'>\n",
      "Int64Index: 21402 entries, 0 to 21524\n",
      "Data columns (total 12 columns):\n",
      " #   Column            Non-Null Count  Dtype  \n",
      "---  ------            --------------  -----  \n",
      " 0   children          21402 non-null  int64  \n",
      " 1   days_employed     21402 non-null  float64\n",
      " 2   dob_years         21402 non-null  int64  \n",
      " 3   education         21402 non-null  object \n",
      " 4   education_id      21402 non-null  int64  \n",
      " 5   family_status     21402 non-null  object \n",
      " 6   family_status_id  21402 non-null  int64  \n",
      " 7   gender            21402 non-null  object \n",
      " 8   income_type       21402 non-null  object \n",
      " 9   debt              21402 non-null  int64  \n",
      " 10  total_income      21402 non-null  int64  \n",
      " 11  purpose           21402 non-null  object \n",
      "dtypes: float64(1), int64(6), object(5)\n",
      "memory usage: 2.1+ MB\n"
     ]
    }
   ],
   "source": [
    "df.info() #проверка на успех"
   ]
  },
  {
   "cell_type": "markdown",
   "id": "192db10f",
   "metadata": {},
   "source": [
    "После данной операции все строки стали выглядять приятнее для исследования."
   ]
  },
  {
   "cell_type": "markdown",
   "id": "e02563e8",
   "metadata": {},
   "source": [
    "### Удаление дубликатов."
   ]
  },
  {
   "cell_type": "markdown",
   "id": "278f120a",
   "metadata": {},
   "source": [
    "Далее следуем осмотреть таблицу на явные и неявные дубликаты. Для этого используем .duplicated() для явных дубликатов и .unique() для неявных."
   ]
  },
  {
   "cell_type": "code",
   "execution_count": 21,
   "id": "588f3266",
   "metadata": {},
   "outputs": [
    {
     "data": {
      "text/plain": [
       "54"
      ]
     },
     "execution_count": 21,
     "metadata": {},
     "output_type": "execute_result"
    }
   ],
   "source": [
    "df.duplicated().sum() #проверка на наличие дубликатов"
   ]
  },
  {
   "cell_type": "code",
   "execution_count": 22,
   "id": "f9f76989",
   "metadata": {},
   "outputs": [],
   "source": [
    "df = df.drop_duplicates().reset_index(drop=True) #удаление дубликатов с изменением индекса"
   ]
  },
  {
   "cell_type": "code",
   "execution_count": 23,
   "id": "07c0a963",
   "metadata": {},
   "outputs": [
    {
     "data": {
      "text/plain": [
       "0"
      ]
     },
     "execution_count": 23,
     "metadata": {},
     "output_type": "execute_result"
    }
   ],
   "source": [
    "df.duplicated().sum() #проверка на успех"
   ]
  },
  {
   "cell_type": "markdown",
   "id": "80b3c8de",
   "metadata": {},
   "source": [
    "После проверки видно, что явныз дубликатов не осталось. По голове таблицы сразу было заметно, что в столбце 'education' находятся значения с разным регистром. Нужно проверить столбец на уникальные значения"
   ]
  },
  {
   "cell_type": "code",
   "execution_count": 24,
   "id": "18bdd5e3",
   "metadata": {},
   "outputs": [
    {
     "data": {
      "text/plain": [
       "array(['высшее', 'среднее', 'Среднее', 'СРЕДНЕЕ', 'ВЫСШЕЕ',\n",
       "       'неоконченное высшее', 'начальное', 'Высшее',\n",
       "       'НЕОКОНЧЕННОЕ ВЫСШЕЕ', 'Неоконченное высшее', 'НАЧАЛЬНОЕ',\n",
       "       'Начальное', 'Ученая степень', 'УЧЕНАЯ СТЕПЕНЬ', 'ученая степень'],\n",
       "      dtype=object)"
      ]
     },
     "execution_count": 24,
     "metadata": {},
     "output_type": "execute_result"
    }
   ],
   "source": [
    "df['education'].unique() #проверка на неявные дубли"
   ]
  },
  {
   "cell_type": "markdown",
   "id": "4f5ce2d2",
   "metadata": {},
   "source": [
    "Здесь чтобы убрать неявные дубликаты следует изменить регистр всего столбца на нижний и тогда дубликаты пропадут."
   ]
  },
  {
   "cell_type": "code",
   "execution_count": 25,
   "id": "bb771497",
   "metadata": {},
   "outputs": [],
   "source": [
    "df['education'] = df['education'].str.lower() #устранение неявных дублей"
   ]
  },
  {
   "cell_type": "code",
   "execution_count": 26,
   "id": "2e8cad5d",
   "metadata": {},
   "outputs": [
    {
     "data": {
      "text/plain": [
       "array(['высшее', 'среднее', 'неоконченное высшее', 'начальное',\n",
       "       'ученая степень'], dtype=object)"
      ]
     },
     "execution_count": 26,
     "metadata": {},
     "output_type": "execute_result"
    }
   ],
   "source": [
    "df['education'].unique() #проверка на успех"
   ]
  },
  {
   "cell_type": "markdown",
   "id": "073f7976",
   "metadata": {},
   "source": [
    "Последней операцией проверили, что все значения убрались и дублей нет. Эти проблемы вероятно могли возникнуть при сборе информации от разных источников, в связи с чем каждый описывал значение по своему."
   ]
  },
  {
   "cell_type": "markdown",
   "id": "30b654f1",
   "metadata": {},
   "source": [
    "### Формирование дополнительных датафреймов словарей, декомпозиция исходного датафрейма."
   ]
  },
  {
   "cell_type": "markdown",
   "id": "95596e3b",
   "metadata": {},
   "source": [
    "Данный датафрейм содержить значения, которые легко можно преобразовавть в отдельные словари, чтобы информация читалась удобнее. Столбцы 'education', 'education_id' и 'family_status', 'family_status_id' можно вывести отдельно, т.к. содержат похожую информацию. После выноса данных столбцов в отдельные таблицы education и family, можно удалить дублирующие столбцы из основной таблицы, а для необходимости обращаться к новым справочникам."
   ]
  },
  {
   "cell_type": "code",
   "execution_count": 27,
   "id": "74cca272",
   "metadata": {
    "scrolled": true
   },
   "outputs": [],
   "source": [
    "education = df[['education', 'education_id']] #датафрейм образование\n",
    "education = education.drop_duplicates().reset_index(drop=True)"
   ]
  },
  {
   "cell_type": "code",
   "execution_count": 28,
   "id": "32d3cf64",
   "metadata": {},
   "outputs": [],
   "source": [
    "family = df[['family_status', 'family_status_id']] #датафрейм семья\n",
    "family = family.drop_duplicates().reset_index(drop=True)"
   ]
  },
  {
   "cell_type": "markdown",
   "id": "3c6088bd",
   "metadata": {},
   "source": [
    "Далее удаляем стобцы:"
   ]
  },
  {
   "cell_type": "code",
   "execution_count": 29,
   "id": "744a01fc",
   "metadata": {
    "scrolled": true
   },
   "outputs": [
    {
     "data": {
      "text/html": [
       "<div>\n",
       "<style scoped>\n",
       "    .dataframe tbody tr th:only-of-type {\n",
       "        vertical-align: middle;\n",
       "    }\n",
       "\n",
       "    .dataframe tbody tr th {\n",
       "        vertical-align: top;\n",
       "    }\n",
       "\n",
       "    .dataframe thead th {\n",
       "        text-align: right;\n",
       "    }\n",
       "</style>\n",
       "<table border=\"1\" class=\"dataframe\">\n",
       "  <thead>\n",
       "    <tr style=\"text-align: right;\">\n",
       "      <th></th>\n",
       "      <th>children</th>\n",
       "      <th>days_employed</th>\n",
       "      <th>dob_years</th>\n",
       "      <th>education_id</th>\n",
       "      <th>family_status_id</th>\n",
       "      <th>gender</th>\n",
       "      <th>income_type</th>\n",
       "      <th>debt</th>\n",
       "      <th>total_income</th>\n",
       "      <th>purpose</th>\n",
       "    </tr>\n",
       "  </thead>\n",
       "  <tbody>\n",
       "    <tr>\n",
       "      <th>0</th>\n",
       "      <td>1</td>\n",
       "      <td>8437.673028</td>\n",
       "      <td>42</td>\n",
       "      <td>0</td>\n",
       "      <td>0</td>\n",
       "      <td>F</td>\n",
       "      <td>сотрудник</td>\n",
       "      <td>0</td>\n",
       "      <td>253875</td>\n",
       "      <td>покупка жилья</td>\n",
       "    </tr>\n",
       "    <tr>\n",
       "      <th>1</th>\n",
       "      <td>1</td>\n",
       "      <td>4024.803754</td>\n",
       "      <td>36</td>\n",
       "      <td>1</td>\n",
       "      <td>0</td>\n",
       "      <td>F</td>\n",
       "      <td>сотрудник</td>\n",
       "      <td>0</td>\n",
       "      <td>112080</td>\n",
       "      <td>приобретение автомобиля</td>\n",
       "    </tr>\n",
       "    <tr>\n",
       "      <th>2</th>\n",
       "      <td>0</td>\n",
       "      <td>5623.422610</td>\n",
       "      <td>33</td>\n",
       "      <td>1</td>\n",
       "      <td>0</td>\n",
       "      <td>M</td>\n",
       "      <td>сотрудник</td>\n",
       "      <td>0</td>\n",
       "      <td>145885</td>\n",
       "      <td>покупка жилья</td>\n",
       "    </tr>\n",
       "    <tr>\n",
       "      <th>3</th>\n",
       "      <td>3</td>\n",
       "      <td>4124.747207</td>\n",
       "      <td>32</td>\n",
       "      <td>1</td>\n",
       "      <td>0</td>\n",
       "      <td>M</td>\n",
       "      <td>сотрудник</td>\n",
       "      <td>0</td>\n",
       "      <td>267628</td>\n",
       "      <td>дополнительное образование</td>\n",
       "    </tr>\n",
       "    <tr>\n",
       "      <th>4</th>\n",
       "      <td>0</td>\n",
       "      <td>340266.072047</td>\n",
       "      <td>53</td>\n",
       "      <td>1</td>\n",
       "      <td>1</td>\n",
       "      <td>F</td>\n",
       "      <td>пенсионер</td>\n",
       "      <td>0</td>\n",
       "      <td>158616</td>\n",
       "      <td>сыграть свадьбу</td>\n",
       "    </tr>\n",
       "  </tbody>\n",
       "</table>\n",
       "</div>"
      ],
      "text/plain": [
       "   children  days_employed  dob_years  education_id  family_status_id gender  \\\n",
       "0         1    8437.673028         42             0                 0      F   \n",
       "1         1    4024.803754         36             1                 0      F   \n",
       "2         0    5623.422610         33             1                 0      M   \n",
       "3         3    4124.747207         32             1                 0      M   \n",
       "4         0  340266.072047         53             1                 1      F   \n",
       "\n",
       "  income_type  debt  total_income                     purpose  \n",
       "0   сотрудник     0        253875               покупка жилья  \n",
       "1   сотрудник     0        112080     приобретение автомобиля  \n",
       "2   сотрудник     0        145885               покупка жилья  \n",
       "3   сотрудник     0        267628  дополнительное образование  \n",
       "4   пенсионер     0        158616             сыграть свадьбу  "
      ]
     },
     "execution_count": 29,
     "metadata": {},
     "output_type": "execute_result"
    }
   ],
   "source": [
    "df.drop(['family_status', 'education'], axis=1, inplace=True)\n",
    "df.head() #удаление столбцов"
   ]
  },
  {
   "cell_type": "markdown",
   "id": "53f6eaab",
   "metadata": {},
   "source": [
    "На выходе получилась удобная таблица без загромождения."
   ]
  },
  {
   "cell_type": "markdown",
   "id": "549c420b",
   "metadata": {},
   "source": [
    "### Категоризация дохода."
   ]
  },
  {
   "cell_type": "markdown",
   "id": "8f92a873",
   "metadata": {},
   "source": [
    "Чтобы удобно категоризовать доход, можно добавить дополнительны столбец total_income_category и присвоить каждой строке свою оценку, опираясь на доход:\n",
    "0–30000 — 'E';\\\n",
    "30001–50000 — 'D';\\\n",
    "50001–200000 — 'C';\\\n",
    "200001–1000000 — 'B';\\\n",
    "1000001 и выше — 'A'.\\\n",
    "Для этого нужно создать функцию, которая будет присваивать значение и применить её к каждой строке датафрейма с помощью .apply()"
   ]
  },
  {
   "cell_type": "code",
   "execution_count": 30,
   "id": "13d40090",
   "metadata": {},
   "outputs": [],
   "source": [
    "def categorisation(income): #категоризация дохода\n",
    "    if 0 <= income <= 30000:\n",
    "        return 'E'\n",
    "    if 30001 <= income <= 50000:\n",
    "        return 'D'\n",
    "    if 50001 <= income <= 200000:\n",
    "        return 'C'\n",
    "    if 200001 <= income <= 1000000:\n",
    "        return 'B'\n",
    "    if income >= 1000001:\n",
    "        return 'A'"
   ]
  },
  {
   "cell_type": "code",
   "execution_count": 31,
   "id": "200496d0",
   "metadata": {},
   "outputs": [
    {
     "data": {
      "text/html": [
       "<div>\n",
       "<style scoped>\n",
       "    .dataframe tbody tr th:only-of-type {\n",
       "        vertical-align: middle;\n",
       "    }\n",
       "\n",
       "    .dataframe tbody tr th {\n",
       "        vertical-align: top;\n",
       "    }\n",
       "\n",
       "    .dataframe thead th {\n",
       "        text-align: right;\n",
       "    }\n",
       "</style>\n",
       "<table border=\"1\" class=\"dataframe\">\n",
       "  <thead>\n",
       "    <tr style=\"text-align: right;\">\n",
       "      <th></th>\n",
       "      <th>children</th>\n",
       "      <th>days_employed</th>\n",
       "      <th>dob_years</th>\n",
       "      <th>education_id</th>\n",
       "      <th>family_status_id</th>\n",
       "      <th>gender</th>\n",
       "      <th>income_type</th>\n",
       "      <th>debt</th>\n",
       "      <th>total_income</th>\n",
       "      <th>purpose</th>\n",
       "      <th>total_income_category</th>\n",
       "    </tr>\n",
       "  </thead>\n",
       "  <tbody>\n",
       "    <tr>\n",
       "      <th>0</th>\n",
       "      <td>1</td>\n",
       "      <td>8437.673028</td>\n",
       "      <td>42</td>\n",
       "      <td>0</td>\n",
       "      <td>0</td>\n",
       "      <td>F</td>\n",
       "      <td>сотрудник</td>\n",
       "      <td>0</td>\n",
       "      <td>253875</td>\n",
       "      <td>покупка жилья</td>\n",
       "      <td>B</td>\n",
       "    </tr>\n",
       "    <tr>\n",
       "      <th>1</th>\n",
       "      <td>1</td>\n",
       "      <td>4024.803754</td>\n",
       "      <td>36</td>\n",
       "      <td>1</td>\n",
       "      <td>0</td>\n",
       "      <td>F</td>\n",
       "      <td>сотрудник</td>\n",
       "      <td>0</td>\n",
       "      <td>112080</td>\n",
       "      <td>приобретение автомобиля</td>\n",
       "      <td>C</td>\n",
       "    </tr>\n",
       "    <tr>\n",
       "      <th>2</th>\n",
       "      <td>0</td>\n",
       "      <td>5623.422610</td>\n",
       "      <td>33</td>\n",
       "      <td>1</td>\n",
       "      <td>0</td>\n",
       "      <td>M</td>\n",
       "      <td>сотрудник</td>\n",
       "      <td>0</td>\n",
       "      <td>145885</td>\n",
       "      <td>покупка жилья</td>\n",
       "      <td>C</td>\n",
       "    </tr>\n",
       "    <tr>\n",
       "      <th>3</th>\n",
       "      <td>3</td>\n",
       "      <td>4124.747207</td>\n",
       "      <td>32</td>\n",
       "      <td>1</td>\n",
       "      <td>0</td>\n",
       "      <td>M</td>\n",
       "      <td>сотрудник</td>\n",
       "      <td>0</td>\n",
       "      <td>267628</td>\n",
       "      <td>дополнительное образование</td>\n",
       "      <td>B</td>\n",
       "    </tr>\n",
       "    <tr>\n",
       "      <th>4</th>\n",
       "      <td>0</td>\n",
       "      <td>340266.072047</td>\n",
       "      <td>53</td>\n",
       "      <td>1</td>\n",
       "      <td>1</td>\n",
       "      <td>F</td>\n",
       "      <td>пенсионер</td>\n",
       "      <td>0</td>\n",
       "      <td>158616</td>\n",
       "      <td>сыграть свадьбу</td>\n",
       "      <td>C</td>\n",
       "    </tr>\n",
       "  </tbody>\n",
       "</table>\n",
       "</div>"
      ],
      "text/plain": [
       "   children  days_employed  dob_years  education_id  family_status_id gender  \\\n",
       "0         1    8437.673028         42             0                 0      F   \n",
       "1         1    4024.803754         36             1                 0      F   \n",
       "2         0    5623.422610         33             1                 0      M   \n",
       "3         3    4124.747207         32             1                 0      M   \n",
       "4         0  340266.072047         53             1                 1      F   \n",
       "\n",
       "  income_type  debt  total_income                     purpose  \\\n",
       "0   сотрудник     0        253875               покупка жилья   \n",
       "1   сотрудник     0        112080     приобретение автомобиля   \n",
       "2   сотрудник     0        145885               покупка жилья   \n",
       "3   сотрудник     0        267628  дополнительное образование   \n",
       "4   пенсионер     0        158616             сыграть свадьбу   \n",
       "\n",
       "  total_income_category  \n",
       "0                     B  \n",
       "1                     C  \n",
       "2                     C  \n",
       "3                     B  \n",
       "4                     C  "
      ]
     },
     "execution_count": 31,
     "metadata": {},
     "output_type": "execute_result"
    }
   ],
   "source": [
    "df['total_income_category'] = df['total_income'].apply(categorisation) #проверка результата\n",
    "df.head()"
   ]
  },
  {
   "cell_type": "code",
   "execution_count": 32,
   "id": "52bd37fe",
   "metadata": {
    "scrolled": true
   },
   "outputs": [
    {
     "data": {
      "text/plain": [
       "0"
      ]
     },
     "execution_count": 32,
     "metadata": {},
     "output_type": "execute_result"
    }
   ],
   "source": [
    "df['total_income_category'].isna().sum() #"
   ]
  },
  {
   "cell_type": "markdown",
   "id": "02023497",
   "metadata": {},
   "source": [
    "Новая функция справилась с задачей. Чтобы проверить заполнился ли весь столбец, была проведена проверка через .isna()"
   ]
  },
  {
   "cell_type": "markdown",
   "id": "98fd28d1",
   "metadata": {},
   "source": [
    "### Категоризация целей кредита."
   ]
  },
  {
   "cell_type": "markdown",
   "id": "fd25e738",
   "metadata": {},
   "source": [
    "Для категоризации целей кредита, нужно создать функцию, которая на основании данных из столбца purpose сформирует новый столбец purpose_category, и задаст новые категории:\\\n",
    "Здесь нужно использовать собственную функцию и метод .apply()"
   ]
  },
  {
   "cell_type": "code",
   "execution_count": 33,
   "id": "eda19205",
   "metadata": {
    "scrolled": true
   },
   "outputs": [
    {
     "data": {
      "text/plain": [
       "array(['покупка жилья', 'приобретение автомобиля',\n",
       "       'дополнительное образование', 'сыграть свадьбу',\n",
       "       'операции с жильем', 'образование', 'на проведение свадьбы',\n",
       "       'покупка жилья для семьи', 'покупка недвижимости',\n",
       "       'покупка коммерческой недвижимости', 'покупка жилой недвижимости',\n",
       "       'строительство собственной недвижимости', 'недвижимость',\n",
       "       'строительство недвижимости', 'на покупку подержанного автомобиля',\n",
       "       'на покупку своего автомобиля',\n",
       "       'операции с коммерческой недвижимостью',\n",
       "       'строительство жилой недвижимости', 'жилье',\n",
       "       'операции со своей недвижимостью', 'автомобили',\n",
       "       'заняться образованием', 'сделка с подержанным автомобилем',\n",
       "       'получение образования', 'автомобиль', 'свадьба',\n",
       "       'получение дополнительного образования', 'покупка своего жилья',\n",
       "       'операции с недвижимостью', 'получение высшего образования',\n",
       "       'свой автомобиль', 'сделка с автомобилем',\n",
       "       'профильное образование', 'высшее образование',\n",
       "       'покупка жилья для сдачи', 'на покупку автомобиля', 'ремонт жилью',\n",
       "       'заняться высшим образованием'], dtype=object)"
      ]
     },
     "execution_count": 33,
     "metadata": {},
     "output_type": "execute_result"
    }
   ],
   "source": [
    "df['purpose'].unique() #поиск уникальныз значений"
   ]
  },
  {
   "cell_type": "markdown",
   "id": "e4d8d8c3",
   "metadata": {},
   "source": [
    "Из уникальных значений видно, что присутствует 4 основные категории:\\\n",
    "'операции с автомобилем',\\\n",
    "'операции с недвижимостью',\\\n",
    "'проведение свадьбы',\\\n",
    "'получение образования'.\\\n",
    "Для каждой из них можно найти общее слово или корень и сделать логический фильтр при присваивании значения."
   ]
  },
  {
   "cell_type": "code",
   "execution_count": 34,
   "id": "2a3d7ca7",
   "metadata": {},
   "outputs": [],
   "source": [
    "def category(purpose): #формула для присвоения категории\n",
    "    if 'авто' in purpose:\n",
    "        return 'операции с автомобилем'\n",
    "    if 'недвиж' in purpose:\n",
    "        return 'операции с недвижимостью'\n",
    "    if 'жиль' in purpose:\n",
    "        return 'операции с недвижимостью'\n",
    "    if 'свадьб' in purpose:\n",
    "        return 'проведение свадьбы'\n",
    "    if 'образован' in purpose:\n",
    "        return 'получение образования'\n",
    "    return purpose"
   ]
  },
  {
   "cell_type": "code",
   "execution_count": 35,
   "id": "b2fe240b",
   "metadata": {
    "scrolled": false
   },
   "outputs": [
    {
     "data": {
      "text/plain": [
       "array(['операции с недвижимостью', 'операции с автомобилем',\n",
       "       'получение образования', 'проведение свадьбы'], dtype=object)"
      ]
     },
     "execution_count": 35,
     "metadata": {},
     "output_type": "execute_result"
    }
   ],
   "source": [
    "df['purpose_category'] = df['purpose'].apply(category) #проверка результата\n",
    "df['purpose_category'].unique()"
   ]
  },
  {
   "cell_type": "code",
   "execution_count": 36,
   "id": "9c233563",
   "metadata": {},
   "outputs": [
    {
     "data": {
      "text/plain": [
       "0"
      ]
     },
     "execution_count": 36,
     "metadata": {},
     "output_type": "execute_result"
    }
   ],
   "source": [
    "df['purpose_category'].isna().sum()"
   ]
  },
  {
   "cell_type": "markdown",
   "id": "14a33fd3",
   "metadata": {},
   "source": [
    "Категории были присвоены корректно, пропусков нет."
   ]
  },
  {
   "cell_type": "markdown",
   "id": "f93dc847",
   "metadata": {},
   "source": [
    "### Ответы на вопросы."
   ]
  },
  {
   "cell_type": "markdown",
   "id": "61e80ebc",
   "metadata": {},
   "source": [
    "Для ответов на вопросы выводы сделаны на основе сводных таблик из датасета."
   ]
  },
  {
   "cell_type": "markdown",
   "id": "d5be350b",
   "metadata": {},
   "source": [
    "##### Вопрос 1: •\tЕсть ли зависимость между количеством детей и возвратом кредита в срок?"
   ]
  },
  {
   "cell_type": "markdown",
   "id": "3f18e582",
   "metadata": {},
   "source": [
    "##### Вывод 1: \n",
    "Для людей категории с 5 детьми видим, что в данной таблице есть всего 9 таких строк, поэтому выводы по ней будут не репрезентативны. В остальных случаях можно сделать вывод, что у клиентов без детей вероятность задолженности ниже, чем у клиентов с детьми, а количество детей почти не влияет на вероятность задолженности."
   ]
  },
  {
   "cell_type": "code",
   "execution_count": 37,
   "id": "16ce8a1f",
   "metadata": {
    "scrolled": true
   },
   "outputs": [
    {
     "data": {
      "text/html": [
       "<div>\n",
       "<style scoped>\n",
       "    .dataframe tbody tr th:only-of-type {\n",
       "        vertical-align: middle;\n",
       "    }\n",
       "\n",
       "    .dataframe tbody tr th {\n",
       "        vertical-align: top;\n",
       "    }\n",
       "\n",
       "    .dataframe thead th {\n",
       "        text-align: right;\n",
       "    }\n",
       "</style>\n",
       "<table border=\"1\" class=\"dataframe\">\n",
       "  <thead>\n",
       "    <tr style=\"text-align: right;\">\n",
       "      <th></th>\n",
       "      <th>mean</th>\n",
       "      <th>count</th>\n",
       "    </tr>\n",
       "    <tr>\n",
       "      <th>children</th>\n",
       "      <th></th>\n",
       "      <th></th>\n",
       "    </tr>\n",
       "  </thead>\n",
       "  <tbody>\n",
       "    <tr>\n",
       "      <th>0</th>\n",
       "      <td>0.075353</td>\n",
       "      <td>14107</td>\n",
       "    </tr>\n",
       "    <tr>\n",
       "      <th>1</th>\n",
       "      <td>0.092327</td>\n",
       "      <td>4809</td>\n",
       "    </tr>\n",
       "    <tr>\n",
       "      <th>2</th>\n",
       "      <td>0.094542</td>\n",
       "      <td>2052</td>\n",
       "    </tr>\n",
       "    <tr>\n",
       "      <th>3</th>\n",
       "      <td>0.081818</td>\n",
       "      <td>330</td>\n",
       "    </tr>\n",
       "    <tr>\n",
       "      <th>4</th>\n",
       "      <td>0.097561</td>\n",
       "      <td>41</td>\n",
       "    </tr>\n",
       "    <tr>\n",
       "      <th>5</th>\n",
       "      <td>0.000000</td>\n",
       "      <td>9</td>\n",
       "    </tr>\n",
       "  </tbody>\n",
       "</table>\n",
       "</div>"
      ],
      "text/plain": [
       "              mean  count\n",
       "children                 \n",
       "0         0.075353  14107\n",
       "1         0.092327   4809\n",
       "2         0.094542   2052\n",
       "3         0.081818    330\n",
       "4         0.097561     41\n",
       "5         0.000000      9"
      ]
     },
     "execution_count": 37,
     "metadata": {},
     "output_type": "execute_result"
    }
   ],
   "source": [
    "children_pivot = pd.pivot_table(df, index='children', values='debt', aggfunc=['mean', 'count']) #сводная таблица по детям и возврату кредита\n",
    "children_pivot.columns = ['mean', 'count']\n",
    "children_pivot"
   ]
  },
  {
   "cell_type": "markdown",
   "id": "b28888d1",
   "metadata": {},
   "source": [
    "##### Вопрос 2: • \tЕсть ли зависимость между семейным положением и возвратом кредита в срок?"
   ]
  },
  {
   "cell_type": "markdown",
   "id": "57e8e419",
   "metadata": {},
   "source": [
    "##### Вывод 2: \n",
    "В таблице видна зависимость возврата кредита в срок и семейного положения. Лучше всего дела обстаят у категории вдовец/вдова, в которой только 6,6% кредитов не возвращены в срок. У тех кто в разводе и женат/замужем ситуация немного хуже: 7,1% и 7,6% соответственно. Ненадежными будут: те кто не замужем/не женат и кто в гражданском браке, у них невозврат составляет 9,8% и 9,4%.\\\n",
    "Можно сделать вывод, что у клиентов с семеный положением не женат/не замужем и в гражданском браке вероятность задолженности выше, чем у остальных категорий. Из этого следует, что здесь присутствует зависимость между семейным положением и возвратом кредита в срок."
   ]
  },
  {
   "cell_type": "code",
   "execution_count": 38,
   "id": "5f7b90d0",
   "metadata": {},
   "outputs": [
    {
     "data": {
      "text/html": [
       "<div>\n",
       "<style scoped>\n",
       "    .dataframe tbody tr th:only-of-type {\n",
       "        vertical-align: middle;\n",
       "    }\n",
       "\n",
       "    .dataframe tbody tr th {\n",
       "        vertical-align: top;\n",
       "    }\n",
       "\n",
       "    .dataframe thead th {\n",
       "        text-align: right;\n",
       "    }\n",
       "</style>\n",
       "<table border=\"1\" class=\"dataframe\">\n",
       "  <thead>\n",
       "    <tr style=\"text-align: right;\">\n",
       "      <th></th>\n",
       "      <th>mean</th>\n",
       "      <th>count</th>\n",
       "    </tr>\n",
       "    <tr>\n",
       "      <th>family_status_id</th>\n",
       "      <th></th>\n",
       "      <th></th>\n",
       "    </tr>\n",
       "  </thead>\n",
       "  <tbody>\n",
       "    <tr>\n",
       "      <th>0</th>\n",
       "      <td>0.075575</td>\n",
       "      <td>12266</td>\n",
       "    </tr>\n",
       "    <tr>\n",
       "      <th>1</th>\n",
       "      <td>0.092861</td>\n",
       "      <td>4146</td>\n",
       "    </tr>\n",
       "    <tr>\n",
       "      <th>2</th>\n",
       "      <td>0.066246</td>\n",
       "      <td>951</td>\n",
       "    </tr>\n",
       "    <tr>\n",
       "      <th>3</th>\n",
       "      <td>0.070648</td>\n",
       "      <td>1189</td>\n",
       "    </tr>\n",
       "    <tr>\n",
       "      <th>4</th>\n",
       "      <td>0.097639</td>\n",
       "      <td>2796</td>\n",
       "    </tr>\n",
       "  </tbody>\n",
       "</table>\n",
       "</div>"
      ],
      "text/plain": [
       "                      mean  count\n",
       "family_status_id                 \n",
       "0                 0.075575  12266\n",
       "1                 0.092861   4146\n",
       "2                 0.066246    951\n",
       "3                 0.070648   1189\n",
       "4                 0.097639   2796"
      ]
     },
     "execution_count": 38,
     "metadata": {},
     "output_type": "execute_result"
    }
   ],
   "source": [
    "family_status_pivot = pd.pivot_table(df, index='family_status_id', values='debt', aggfunc=['mean', 'count']) #сводная таблица по семейному положению и возврату кредита\n",
    "family_status_pivot.columns = ['mean', 'count']\n",
    "family_status_pivot"
   ]
  },
  {
   "cell_type": "code",
   "execution_count": 39,
   "id": "1cdfc22f",
   "metadata": {
    "scrolled": true
   },
   "outputs": [
    {
     "data": {
      "text/html": [
       "<div>\n",
       "<style scoped>\n",
       "    .dataframe tbody tr th:only-of-type {\n",
       "        vertical-align: middle;\n",
       "    }\n",
       "\n",
       "    .dataframe tbody tr th {\n",
       "        vertical-align: top;\n",
       "    }\n",
       "\n",
       "    .dataframe thead th {\n",
       "        text-align: right;\n",
       "    }\n",
       "</style>\n",
       "<table border=\"1\" class=\"dataframe\">\n",
       "  <thead>\n",
       "    <tr style=\"text-align: right;\">\n",
       "      <th></th>\n",
       "      <th>family_status</th>\n",
       "      <th>family_status_id</th>\n",
       "    </tr>\n",
       "  </thead>\n",
       "  <tbody>\n",
       "    <tr>\n",
       "      <th>0</th>\n",
       "      <td>женат / замужем</td>\n",
       "      <td>0</td>\n",
       "    </tr>\n",
       "    <tr>\n",
       "      <th>1</th>\n",
       "      <td>гражданский брак</td>\n",
       "      <td>1</td>\n",
       "    </tr>\n",
       "    <tr>\n",
       "      <th>2</th>\n",
       "      <td>вдовец / вдова</td>\n",
       "      <td>2</td>\n",
       "    </tr>\n",
       "    <tr>\n",
       "      <th>3</th>\n",
       "      <td>в разводе</td>\n",
       "      <td>3</td>\n",
       "    </tr>\n",
       "    <tr>\n",
       "      <th>4</th>\n",
       "      <td>Не женат / не замужем</td>\n",
       "      <td>4</td>\n",
       "    </tr>\n",
       "  </tbody>\n",
       "</table>\n",
       "</div>"
      ],
      "text/plain": [
       "           family_status  family_status_id\n",
       "0        женат / замужем                 0\n",
       "1       гражданский брак                 1\n",
       "2         вдовец / вдова                 2\n",
       "3              в разводе                 3\n",
       "4  Не женат / не замужем                 4"
      ]
     },
     "execution_count": 39,
     "metadata": {},
     "output_type": "execute_result"
    }
   ],
   "source": [
    "family #словарь для подсказки"
   ]
  },
  {
   "cell_type": "markdown",
   "id": "46901e0d",
   "metadata": {},
   "source": [
    "##### Вопрос 3: •\tЕсть ли зависимость между уровнем дохода и возвратом кредита в срок?"
   ]
  },
  {
   "cell_type": "markdown",
   "id": "9e93a201",
   "metadata": {},
   "source": [
    "##### Вывод 3:,\n",
    "По сводной таблице можем заметить, что доля невозврата колеблется между разными категорями дохода. Для этого сравним две большие группы D и C. Например в группе D (клиенты с доходом от 30000 до 50000) процент невозврата 6,0%, тогда как в группе С (от 50000 до 200000) процент невозврата составляет 8,4%.Если рассмотреть группы с более высоким доходом A и B, то они показывают  разный результат: 8,0% и 7,0% соотв.\n",
    "Еще можно рассмотреть группы D и B, где при более высоком доходе процент невозврата выше (6.0% и 7.0%\n",
    "Делаем вывод, что уровень дохода не влияет на вероятность возврата долга."
   ]
  },
  {
   "cell_type": "code",
   "execution_count": 40,
   "id": "afbff3d3",
   "metadata": {},
   "outputs": [
    {
     "data": {
      "text/html": [
       "<div>\n",
       "<style scoped>\n",
       "    .dataframe tbody tr th:only-of-type {\n",
       "        vertical-align: middle;\n",
       "    }\n",
       "\n",
       "    .dataframe tbody tr th {\n",
       "        vertical-align: top;\n",
       "    }\n",
       "\n",
       "    .dataframe thead th {\n",
       "        text-align: right;\n",
       "    }\n",
       "</style>\n",
       "<table border=\"1\" class=\"dataframe\">\n",
       "  <thead>\n",
       "    <tr style=\"text-align: right;\">\n",
       "      <th></th>\n",
       "      <th>mean</th>\n",
       "      <th>count</th>\n",
       "    </tr>\n",
       "    <tr>\n",
       "      <th>total_income_category</th>\n",
       "      <th></th>\n",
       "      <th></th>\n",
       "    </tr>\n",
       "  </thead>\n",
       "  <tbody>\n",
       "    <tr>\n",
       "      <th>A</th>\n",
       "      <td>0.080000</td>\n",
       "      <td>25</td>\n",
       "    </tr>\n",
       "    <tr>\n",
       "      <th>B</th>\n",
       "      <td>0.070602</td>\n",
       "      <td>5014</td>\n",
       "    </tr>\n",
       "    <tr>\n",
       "      <th>C</th>\n",
       "      <td>0.084891</td>\n",
       "      <td>15938</td>\n",
       "    </tr>\n",
       "    <tr>\n",
       "      <th>D</th>\n",
       "      <td>0.060172</td>\n",
       "      <td>349</td>\n",
       "    </tr>\n",
       "    <tr>\n",
       "      <th>E</th>\n",
       "      <td>0.090909</td>\n",
       "      <td>22</td>\n",
       "    </tr>\n",
       "  </tbody>\n",
       "</table>\n",
       "</div>"
      ],
      "text/plain": [
       "                           mean  count\n",
       "total_income_category                 \n",
       "A                      0.080000     25\n",
       "B                      0.070602   5014\n",
       "C                      0.084891  15938\n",
       "D                      0.060172    349\n",
       "E                      0.090909     22"
      ]
     },
     "execution_count": 40,
     "metadata": {},
     "output_type": "execute_result"
    }
   ],
   "source": [
    "income_pivot = pd.pivot_table(df,               #средний доход тех кто вернул кредит и кто не вернул в срок\n",
    "               index='total_income_category', \n",
    "               values='debt', \n",
    "               aggfunc=['mean', 'count']) \n",
    "income_pivot.columns = ['mean', 'count']\n",
    "income_pivot"
   ]
  },
  {
   "cell_type": "markdown",
   "id": "5587b7eb",
   "metadata": {},
   "source": [
    "##### Вопрос 4: •\tКак разные цели кредита влияют на его возврат в срок?"
   ]
  },
  {
   "cell_type": "markdown",
   "id": "16e2cfab",
   "metadata": {},
   "source": [
    "##### Вывод 4:\n",
    "Из таблицы видно, что операции с автомобилем и получение образования являются ненадежными в вопросе возврата средств в срок (9,4% и 9,2% соотв.), а цели операции с недвижимостью и проведение свадьбы надежнее (7,2% и 8,0% соотв.)\n",
    "По категориям видно, что шанс возврата по разным целям отличается, из чего сделаем вывод, что они влияют на возврат кредита."
   ]
  },
  {
   "cell_type": "code",
   "execution_count": 41,
   "id": "9490d5ac",
   "metadata": {
    "scrolled": true
   },
   "outputs": [
    {
     "data": {
      "text/html": [
       "<div>\n",
       "<style scoped>\n",
       "    .dataframe tbody tr th:only-of-type {\n",
       "        vertical-align: middle;\n",
       "    }\n",
       "\n",
       "    .dataframe tbody tr th {\n",
       "        vertical-align: top;\n",
       "    }\n",
       "\n",
       "    .dataframe thead th {\n",
       "        text-align: right;\n",
       "    }\n",
       "</style>\n",
       "<table border=\"1\" class=\"dataframe\">\n",
       "  <thead>\n",
       "    <tr style=\"text-align: right;\">\n",
       "      <th></th>\n",
       "      <th>debt</th>\n",
       "    </tr>\n",
       "    <tr>\n",
       "      <th>purpose_category</th>\n",
       "      <th></th>\n",
       "    </tr>\n",
       "  </thead>\n",
       "  <tbody>\n",
       "    <tr>\n",
       "      <th>операции с автомобилем</th>\n",
       "      <td>0.093436</td>\n",
       "    </tr>\n",
       "    <tr>\n",
       "      <th>операции с недвижимостью</th>\n",
       "      <td>0.072531</td>\n",
       "    </tr>\n",
       "    <tr>\n",
       "      <th>получение образования</th>\n",
       "      <td>0.092504</td>\n",
       "    </tr>\n",
       "    <tr>\n",
       "      <th>проведение свадьбы</th>\n",
       "      <td>0.078744</td>\n",
       "    </tr>\n",
       "  </tbody>\n",
       "</table>\n",
       "</div>"
      ],
      "text/plain": [
       "                              debt\n",
       "purpose_category                  \n",
       "операции с автомобилем    0.093436\n",
       "операции с недвижимостью  0.072531\n",
       "получение образования     0.092504\n",
       "проведение свадьбы        0.078744"
      ]
     },
     "execution_count": 41,
     "metadata": {},
     "output_type": "execute_result"
    }
   ],
   "source": [
    "pd.pivot_table(df, index='purpose_category', values='debt')"
   ]
  },
  {
   "cell_type": "markdown",
   "id": "ae282ac6",
   "metadata": {},
   "source": [
    "##### Общий вывод: \n",
    "Исследуя предоставленные данные, можно сделать вывод:\n",
    "Семейное положение и цель кредита могут оказать влияние на вероятность задолженности по кредиту, а вот уровень заработной платы на этот показатель влияния не оказывает. У клиентов без детей вероятность задолженности ниже, чем у клиентов с детьми, количество детей почти не влияет на вероятность задолженности.\n"
   ]
  }
 ],
 "metadata": {
  "ExecuteTimeLog": [
   {
    "duration": 595,
    "start_time": "2022-03-05T16:24:14.335Z"
   },
   {
    "duration": 40,
    "start_time": "2022-03-07T08:41:04.597Z"
   },
   {
    "duration": 44,
    "start_time": "2022-03-07T09:52:47.850Z"
   },
   {
    "duration": 884,
    "start_time": "2022-03-09T18:10:15.166Z"
   },
   {
    "duration": 34,
    "start_time": "2022-03-09T18:10:24.757Z"
   },
   {
    "duration": 14,
    "start_time": "2022-03-09T18:10:31.341Z"
   },
   {
    "duration": 13,
    "start_time": "2022-03-09T18:10:40.069Z"
   },
   {
    "duration": 396,
    "start_time": "2022-03-09T18:11:42.872Z"
   },
   {
    "duration": 11,
    "start_time": "2022-03-09T18:11:59.046Z"
   },
   {
    "duration": 11,
    "start_time": "2022-03-09T18:12:29.175Z"
   },
   {
    "duration": 13,
    "start_time": "2022-03-09T18:12:33.670Z"
   },
   {
    "duration": 9,
    "start_time": "2022-03-09T18:12:37.756Z"
   },
   {
    "duration": 11,
    "start_time": "2022-03-09T18:12:40.267Z"
   },
   {
    "duration": 7,
    "start_time": "2022-03-09T18:13:02.335Z"
   },
   {
    "duration": 6,
    "start_time": "2022-03-09T18:13:06.740Z"
   },
   {
    "duration": 6,
    "start_time": "2022-03-09T18:13:10.641Z"
   },
   {
    "duration": 13,
    "start_time": "2022-03-09T18:14:09.300Z"
   },
   {
    "duration": 82,
    "start_time": "2022-03-09T18:14:29.481Z"
   },
   {
    "duration": 68,
    "start_time": "2022-03-09T18:14:34.204Z"
   },
   {
    "duration": 72,
    "start_time": "2022-03-09T18:14:38.697Z"
   },
   {
    "duration": 16,
    "start_time": "2022-03-09T18:15:00.800Z"
   },
   {
    "duration": 14,
    "start_time": "2022-03-09T18:16:03.127Z"
   },
   {
    "duration": 264,
    "start_time": "2022-03-09T18:16:46.145Z"
   },
   {
    "duration": 5,
    "start_time": "2022-03-09T18:16:52.260Z"
   },
   {
    "duration": 5,
    "start_time": "2022-03-09T18:16:56.471Z"
   },
   {
    "duration": 6,
    "start_time": "2022-03-09T18:17:00.282Z"
   },
   {
    "duration": 6,
    "start_time": "2022-03-09T18:17:07.826Z"
   },
   {
    "duration": 6,
    "start_time": "2022-03-09T18:17:09.533Z"
   },
   {
    "duration": 5,
    "start_time": "2022-03-09T18:17:59.610Z"
   },
   {
    "duration": 6,
    "start_time": "2022-03-09T18:18:20.254Z"
   },
   {
    "duration": 268,
    "start_time": "2022-03-09T18:25:44.825Z"
   },
   {
    "duration": 5,
    "start_time": "2022-03-09T18:25:51.106Z"
   },
   {
    "duration": 253,
    "start_time": "2022-03-09T18:25:56.595Z"
   },
   {
    "duration": 6,
    "start_time": "2022-03-09T18:26:00.130Z"
   },
   {
    "duration": 5,
    "start_time": "2022-03-09T18:26:03.222Z"
   },
   {
    "duration": 6,
    "start_time": "2022-03-09T18:26:06.634Z"
   },
   {
    "duration": 6,
    "start_time": "2022-03-09T18:26:10.700Z"
   },
   {
    "duration": 295,
    "start_time": "2022-03-09T18:26:14.908Z"
   },
   {
    "duration": 6,
    "start_time": "2022-03-09T18:26:17.145Z"
   },
   {
    "duration": 6,
    "start_time": "2022-03-09T18:26:22.886Z"
   },
   {
    "duration": 5,
    "start_time": "2022-03-09T18:27:23.370Z"
   },
   {
    "duration": 99,
    "start_time": "2022-03-09T18:28:35.431Z"
   },
   {
    "duration": 11,
    "start_time": "2022-03-09T18:28:43.729Z"
   },
   {
    "duration": 5,
    "start_time": "2022-03-09T18:30:10.428Z"
   },
   {
    "duration": 21,
    "start_time": "2022-03-09T18:30:19.917Z"
   },
   {
    "duration": 45,
    "start_time": "2022-03-09T18:30:39.926Z"
   },
   {
    "duration": 31,
    "start_time": "2022-03-09T18:48:38.875Z"
   },
   {
    "duration": 9,
    "start_time": "2022-03-09T18:50:33.641Z"
   },
   {
    "duration": 13,
    "start_time": "2022-03-09T18:51:25.001Z"
   },
   {
    "duration": 2454,
    "start_time": "2022-03-09T18:53:08.855Z"
   },
   {
    "duration": 2538,
    "start_time": "2022-03-09T18:53:18.180Z"
   },
   {
    "duration": 17,
    "start_time": "2022-03-09T18:56:42.738Z"
   },
   {
    "duration": 11,
    "start_time": "2022-03-09T18:56:51.195Z"
   },
   {
    "duration": 11,
    "start_time": "2022-03-09T18:57:11.931Z"
   },
   {
    "duration": 11,
    "start_time": "2022-03-09T18:57:15.092Z"
   },
   {
    "duration": 11,
    "start_time": "2022-03-09T19:01:10.334Z"
   },
   {
    "duration": 10,
    "start_time": "2022-03-09T19:01:15.279Z"
   },
   {
    "duration": 11,
    "start_time": "2022-03-09T19:01:20.526Z"
   },
   {
    "duration": 10,
    "start_time": "2022-03-09T19:01:58.555Z"
   },
   {
    "duration": 14,
    "start_time": "2022-03-09T19:02:49.987Z"
   },
   {
    "duration": 15,
    "start_time": "2022-03-09T19:03:07.192Z"
   },
   {
    "duration": 10,
    "start_time": "2022-03-09T19:03:14.132Z"
   },
   {
    "duration": 6,
    "start_time": "2022-03-09T19:03:17.920Z"
   },
   {
    "duration": 9,
    "start_time": "2022-03-09T19:03:57.000Z"
   },
   {
    "duration": 10,
    "start_time": "2022-03-09T19:04:02.184Z"
   },
   {
    "duration": 15,
    "start_time": "2022-03-09T19:04:52.844Z"
   },
   {
    "duration": 29,
    "start_time": "2022-03-09T19:04:58.362Z"
   },
   {
    "duration": 101,
    "start_time": "2022-03-09T19:05:06.277Z"
   },
   {
    "duration": 16,
    "start_time": "2022-03-09T19:05:09.867Z"
   },
   {
    "duration": 35,
    "start_time": "2022-03-09T19:06:22.412Z"
   },
   {
    "duration": 32,
    "start_time": "2022-03-09T19:06:34.904Z"
   },
   {
    "duration": 16,
    "start_time": "2022-03-09T19:11:37.485Z"
   },
   {
    "duration": 15,
    "start_time": "2022-03-09T19:11:46.427Z"
   },
   {
    "duration": 15,
    "start_time": "2022-03-09T19:11:52.344Z"
   },
   {
    "duration": 2607,
    "start_time": "2022-03-09T19:12:18.011Z"
   },
   {
    "duration": 322,
    "start_time": "2022-03-09T19:12:40.512Z"
   },
   {
    "duration": 291,
    "start_time": "2022-03-09T19:13:20.575Z"
   },
   {
    "duration": 334,
    "start_time": "2022-03-09T19:13:26.756Z"
   },
   {
    "duration": 11,
    "start_time": "2022-03-09T19:13:35.419Z"
   },
   {
    "duration": 10,
    "start_time": "2022-03-09T19:13:53.423Z"
   },
   {
    "duration": 12,
    "start_time": "2022-03-09T19:13:58.220Z"
   },
   {
    "duration": 890,
    "start_time": "2022-03-09T19:14:05.880Z"
   },
   {
    "duration": 22,
    "start_time": "2022-03-09T19:14:06.772Z"
   },
   {
    "duration": 15,
    "start_time": "2022-03-09T19:14:06.803Z"
   },
   {
    "duration": 5,
    "start_time": "2022-03-09T19:14:06.821Z"
   },
   {
    "duration": 15,
    "start_time": "2022-03-09T19:14:06.829Z"
   },
   {
    "duration": 49,
    "start_time": "2022-03-09T19:14:06.846Z"
   },
   {
    "duration": 14,
    "start_time": "2022-03-09T19:14:06.898Z"
   },
   {
    "duration": 12,
    "start_time": "2022-03-09T19:14:06.915Z"
   },
   {
    "duration": 12,
    "start_time": "2022-03-09T19:17:45.538Z"
   },
   {
    "duration": 14,
    "start_time": "2022-03-09T19:17:46.005Z"
   },
   {
    "duration": 11,
    "start_time": "2022-03-09T19:17:46.354Z"
   },
   {
    "duration": 12,
    "start_time": "2022-03-09T19:17:46.728Z"
   },
   {
    "duration": 10,
    "start_time": "2022-03-09T19:17:47.208Z"
   },
   {
    "duration": 10,
    "start_time": "2022-03-09T19:18:08.524Z"
   },
   {
    "duration": 9,
    "start_time": "2022-03-09T19:18:16.172Z"
   },
   {
    "duration": 9,
    "start_time": "2022-03-09T19:18:28.900Z"
   },
   {
    "duration": 10,
    "start_time": "2022-03-09T19:18:36.446Z"
   },
   {
    "duration": 13,
    "start_time": "2022-03-09T19:19:06.156Z"
   },
   {
    "duration": 12,
    "start_time": "2022-03-09T19:19:06.523Z"
   },
   {
    "duration": 11,
    "start_time": "2022-03-09T19:19:06.885Z"
   },
   {
    "duration": 11,
    "start_time": "2022-03-09T19:19:07.271Z"
   },
   {
    "duration": 10,
    "start_time": "2022-03-09T19:19:07.808Z"
   },
   {
    "duration": 18,
    "start_time": "2022-03-09T19:21:02.891Z"
   },
   {
    "duration": 7,
    "start_time": "2022-03-09T19:21:16.156Z"
   },
   {
    "duration": 6,
    "start_time": "2022-03-09T19:21:21.549Z"
   },
   {
    "duration": 6,
    "start_time": "2022-03-09T19:21:28.051Z"
   },
   {
    "duration": 7,
    "start_time": "2022-03-09T19:21:32.900Z"
   },
   {
    "duration": 6,
    "start_time": "2022-03-09T19:21:37.700Z"
   },
   {
    "duration": 6,
    "start_time": "2022-03-09T19:21:44.513Z"
   },
   {
    "duration": 12,
    "start_time": "2022-03-09T19:21:57.700Z"
   },
   {
    "duration": 7,
    "start_time": "2022-03-09T19:21:58.629Z"
   },
   {
    "duration": 11,
    "start_time": "2022-03-09T19:22:00.067Z"
   },
   {
    "duration": 7,
    "start_time": "2022-03-09T19:22:02.101Z"
   },
   {
    "duration": 7,
    "start_time": "2022-03-09T19:22:08.720Z"
   },
   {
    "duration": 7,
    "start_time": "2022-03-09T19:22:13.972Z"
   },
   {
    "duration": 6,
    "start_time": "2022-03-09T19:22:18.416Z"
   },
   {
    "duration": 7,
    "start_time": "2022-03-09T19:22:39.424Z"
   },
   {
    "duration": 6,
    "start_time": "2022-03-09T19:23:23.998Z"
   },
   {
    "duration": 8,
    "start_time": "2022-03-09T19:24:25.126Z"
   },
   {
    "duration": 14,
    "start_time": "2022-03-09T19:24:26.835Z"
   },
   {
    "duration": 8,
    "start_time": "2022-03-09T19:24:27.245Z"
   },
   {
    "duration": 13,
    "start_time": "2022-03-09T19:24:27.631Z"
   },
   {
    "duration": 6,
    "start_time": "2022-03-09T19:24:27.968Z"
   },
   {
    "duration": 10,
    "start_time": "2022-03-09T19:24:28.337Z"
   },
   {
    "duration": 6,
    "start_time": "2022-03-09T19:24:28.635Z"
   },
   {
    "duration": 14,
    "start_time": "2022-03-09T19:24:28.998Z"
   },
   {
    "duration": 7,
    "start_time": "2022-03-09T19:24:29.301Z"
   },
   {
    "duration": 10,
    "start_time": "2022-03-09T19:24:29.855Z"
   },
   {
    "duration": 7,
    "start_time": "2022-03-09T19:24:30.247Z"
   },
   {
    "duration": 7,
    "start_time": "2022-03-09T19:25:18.904Z"
   },
   {
    "duration": 900,
    "start_time": "2022-03-09T19:26:20.486Z"
   },
   {
    "duration": 19,
    "start_time": "2022-03-09T19:26:21.389Z"
   },
   {
    "duration": 13,
    "start_time": "2022-03-09T19:26:21.411Z"
   },
   {
    "duration": 5,
    "start_time": "2022-03-09T19:26:21.427Z"
   },
   {
    "duration": 13,
    "start_time": "2022-03-09T19:26:21.434Z"
   },
   {
    "duration": 11,
    "start_time": "2022-03-09T19:26:21.487Z"
   },
   {
    "duration": 12,
    "start_time": "2022-03-09T19:26:21.501Z"
   },
   {
    "duration": 6,
    "start_time": "2022-03-09T19:26:21.516Z"
   },
   {
    "duration": 18,
    "start_time": "2022-03-09T19:26:21.525Z"
   },
   {
    "duration": 43,
    "start_time": "2022-03-09T19:26:21.545Z"
   },
   {
    "duration": 17,
    "start_time": "2022-03-09T19:26:21.591Z"
   },
   {
    "duration": 7,
    "start_time": "2022-03-09T19:26:21.611Z"
   },
   {
    "duration": 14,
    "start_time": "2022-03-09T19:26:21.621Z"
   },
   {
    "duration": 54,
    "start_time": "2022-03-09T19:26:21.638Z"
   },
   {
    "duration": 14,
    "start_time": "2022-03-09T19:26:21.694Z"
   },
   {
    "duration": 7,
    "start_time": "2022-03-09T19:26:21.710Z"
   },
   {
    "duration": 9,
    "start_time": "2022-03-09T19:26:21.719Z"
   },
   {
    "duration": 7,
    "start_time": "2022-03-09T19:26:21.731Z"
   },
   {
    "duration": 4,
    "start_time": "2022-03-09T19:33:01.697Z"
   },
   {
    "duration": 4,
    "start_time": "2022-03-09T19:33:09.063Z"
   },
   {
    "duration": 651,
    "start_time": "2022-03-09T19:33:43.452Z"
   },
   {
    "duration": 873,
    "start_time": "2022-03-09T19:35:07.565Z"
   },
   {
    "duration": 17,
    "start_time": "2022-03-09T19:35:08.441Z"
   },
   {
    "duration": 41,
    "start_time": "2022-03-09T19:35:08.461Z"
   },
   {
    "duration": 8,
    "start_time": "2022-03-09T19:35:08.505Z"
   },
   {
    "duration": 14,
    "start_time": "2022-03-09T19:35:08.515Z"
   },
   {
    "duration": 10,
    "start_time": "2022-03-09T19:35:08.531Z"
   },
   {
    "duration": 414,
    "start_time": "2022-03-09T19:35:08.544Z"
   },
   {
    "duration": 20,
    "start_time": "2022-03-09T19:35:08.942Z"
   },
   {
    "duration": 18,
    "start_time": "2022-03-09T19:35:08.945Z"
   },
   {
    "duration": 9,
    "start_time": "2022-03-09T19:35:08.956Z"
   },
   {
    "duration": 7,
    "start_time": "2022-03-09T19:35:08.959Z"
   },
   {
    "duration": 6,
    "start_time": "2022-03-09T19:35:08.962Z"
   },
   {
    "duration": 0,
    "start_time": "2022-03-09T19:35:08.969Z"
   },
   {
    "duration": -1,
    "start_time": "2022-03-09T19:35:08.971Z"
   },
   {
    "duration": -1,
    "start_time": "2022-03-09T19:35:08.973Z"
   },
   {
    "duration": -2,
    "start_time": "2022-03-09T19:35:08.975Z"
   },
   {
    "duration": -2,
    "start_time": "2022-03-09T19:35:08.976Z"
   },
   {
    "duration": -2,
    "start_time": "2022-03-09T19:35:08.978Z"
   },
   {
    "duration": -7,
    "start_time": "2022-03-09T19:35:08.984Z"
   },
   {
    "duration": -7,
    "start_time": "2022-03-09T19:35:08.986Z"
   },
   {
    "duration": 6,
    "start_time": "2022-03-09T19:35:32.669Z"
   },
   {
    "duration": 262,
    "start_time": "2022-03-09T19:35:37.431Z"
   },
   {
    "duration": 871,
    "start_time": "2022-03-09T19:35:46.578Z"
   },
   {
    "duration": 15,
    "start_time": "2022-03-09T19:35:47.452Z"
   },
   {
    "duration": 31,
    "start_time": "2022-03-09T19:35:47.471Z"
   },
   {
    "duration": 6,
    "start_time": "2022-03-09T19:35:47.505Z"
   },
   {
    "duration": 12,
    "start_time": "2022-03-09T19:35:47.514Z"
   },
   {
    "duration": 10,
    "start_time": "2022-03-09T19:35:47.529Z"
   },
   {
    "duration": 52,
    "start_time": "2022-03-09T19:35:47.542Z"
   },
   {
    "duration": 8,
    "start_time": "2022-03-09T19:35:47.598Z"
   },
   {
    "duration": 5,
    "start_time": "2022-03-09T19:35:47.610Z"
   },
   {
    "duration": 649,
    "start_time": "2022-03-09T19:35:47.618Z"
   },
   {
    "duration": 10,
    "start_time": "2022-03-09T19:35:48.259Z"
   },
   {
    "duration": 1,
    "start_time": "2022-03-09T19:35:48.270Z"
   },
   {
    "duration": -1,
    "start_time": "2022-03-09T19:35:48.273Z"
   },
   {
    "duration": -1,
    "start_time": "2022-03-09T19:35:48.275Z"
   },
   {
    "duration": -3,
    "start_time": "2022-03-09T19:35:48.278Z"
   },
   {
    "duration": -5,
    "start_time": "2022-03-09T19:35:48.281Z"
   },
   {
    "duration": -15,
    "start_time": "2022-03-09T19:35:48.293Z"
   },
   {
    "duration": -16,
    "start_time": "2022-03-09T19:35:48.295Z"
   },
   {
    "duration": -22,
    "start_time": "2022-03-09T19:35:48.302Z"
   },
   {
    "duration": -23,
    "start_time": "2022-03-09T19:35:48.304Z"
   },
   {
    "duration": 4,
    "start_time": "2022-03-09T19:36:52.651Z"
   },
   {
    "duration": 538,
    "start_time": "2022-03-09T19:36:53.144Z"
   },
   {
    "duration": 5,
    "start_time": "2022-03-09T19:37:03.380Z"
   },
   {
    "duration": 10,
    "start_time": "2022-03-09T19:37:04.117Z"
   },
   {
    "duration": 289,
    "start_time": "2022-03-09T19:37:06.124Z"
   },
   {
    "duration": 336,
    "start_time": "2022-03-09T19:37:06.512Z"
   },
   {
    "duration": 11,
    "start_time": "2022-03-09T19:37:13.243Z"
   },
   {
    "duration": 6,
    "start_time": "2022-03-09T19:37:14.477Z"
   },
   {
    "duration": 875,
    "start_time": "2022-03-09T19:38:03.799Z"
   },
   {
    "duration": 23,
    "start_time": "2022-03-09T19:38:04.680Z"
   },
   {
    "duration": 12,
    "start_time": "2022-03-09T19:38:04.706Z"
   },
   {
    "duration": 6,
    "start_time": "2022-03-09T19:38:04.720Z"
   },
   {
    "duration": 16,
    "start_time": "2022-03-09T19:38:04.728Z"
   },
   {
    "duration": 51,
    "start_time": "2022-03-09T19:38:04.746Z"
   },
   {
    "duration": 15,
    "start_time": "2022-03-09T19:38:04.799Z"
   },
   {
    "duration": 5,
    "start_time": "2022-03-09T19:38:04.818Z"
   },
   {
    "duration": 12,
    "start_time": "2022-03-09T19:38:04.826Z"
   },
   {
    "duration": 6,
    "start_time": "2022-03-09T19:38:04.841Z"
   },
   {
    "duration": 369,
    "start_time": "2022-03-09T19:38:04.849Z"
   },
   {
    "duration": 31,
    "start_time": "2022-03-09T19:38:05.190Z"
   },
   {
    "duration": 29,
    "start_time": "2022-03-09T19:38:05.193Z"
   },
   {
    "duration": 28,
    "start_time": "2022-03-09T19:38:05.195Z"
   },
   {
    "duration": 28,
    "start_time": "2022-03-09T19:38:05.196Z"
   },
   {
    "duration": 22,
    "start_time": "2022-03-09T19:38:05.203Z"
   },
   {
    "duration": 22,
    "start_time": "2022-03-09T19:38:05.205Z"
   },
   {
    "duration": 21,
    "start_time": "2022-03-09T19:38:05.207Z"
   },
   {
    "duration": 857,
    "start_time": "2022-03-09T19:38:22.476Z"
   },
   {
    "duration": 18,
    "start_time": "2022-03-09T19:38:23.336Z"
   },
   {
    "duration": 37,
    "start_time": "2022-03-09T19:38:23.358Z"
   },
   {
    "duration": 12,
    "start_time": "2022-03-09T19:38:23.401Z"
   },
   {
    "duration": 16,
    "start_time": "2022-03-09T19:38:23.415Z"
   },
   {
    "duration": 10,
    "start_time": "2022-03-09T19:38:23.434Z"
   },
   {
    "duration": 46,
    "start_time": "2022-03-09T19:38:23.447Z"
   },
   {
    "duration": 7,
    "start_time": "2022-03-09T19:38:23.497Z"
   },
   {
    "duration": 12,
    "start_time": "2022-03-09T19:38:23.507Z"
   },
   {
    "duration": 8,
    "start_time": "2022-03-09T19:38:23.521Z"
   },
   {
    "duration": 363,
    "start_time": "2022-03-09T19:38:23.532Z"
   },
   {
    "duration": 26,
    "start_time": "2022-03-09T19:38:23.872Z"
   },
   {
    "duration": 23,
    "start_time": "2022-03-09T19:38:23.878Z"
   },
   {
    "duration": 19,
    "start_time": "2022-03-09T19:38:23.883Z"
   },
   {
    "duration": 11,
    "start_time": "2022-03-09T19:38:23.893Z"
   },
   {
    "duration": 9,
    "start_time": "2022-03-09T19:38:23.897Z"
   },
   {
    "duration": 3,
    "start_time": "2022-03-09T19:38:23.905Z"
   },
   {
    "duration": 2,
    "start_time": "2022-03-09T19:38:23.907Z"
   },
   {
    "duration": 11,
    "start_time": "2022-03-09T19:38:32.021Z"
   },
   {
    "duration": 6,
    "start_time": "2022-03-09T19:38:32.762Z"
   },
   {
    "duration": 11,
    "start_time": "2022-03-09T19:38:33.043Z"
   },
   {
    "duration": 5,
    "start_time": "2022-03-09T19:38:33.309Z"
   },
   {
    "duration": 9,
    "start_time": "2022-03-09T19:38:33.543Z"
   },
   {
    "duration": 11,
    "start_time": "2022-03-09T19:38:33.799Z"
   },
   {
    "duration": 8,
    "start_time": "2022-03-09T19:38:34.075Z"
   },
   {
    "duration": 6,
    "start_time": "2022-03-09T19:38:34.354Z"
   },
   {
    "duration": 891,
    "start_time": "2022-03-09T19:39:03.652Z"
   },
   {
    "duration": 15,
    "start_time": "2022-03-09T19:39:04.545Z"
   },
   {
    "duration": 27,
    "start_time": "2022-03-09T19:39:04.563Z"
   },
   {
    "duration": 6,
    "start_time": "2022-03-09T19:39:04.599Z"
   },
   {
    "duration": 15,
    "start_time": "2022-03-09T19:39:04.607Z"
   },
   {
    "duration": 14,
    "start_time": "2022-03-09T19:39:04.624Z"
   },
   {
    "duration": 9,
    "start_time": "2022-03-09T19:39:04.641Z"
   },
   {
    "duration": 39,
    "start_time": "2022-03-09T19:39:04.654Z"
   },
   {
    "duration": 17,
    "start_time": "2022-03-09T19:39:04.696Z"
   },
   {
    "duration": 26,
    "start_time": "2022-03-09T19:39:04.715Z"
   },
   {
    "duration": 11,
    "start_time": "2022-03-09T19:39:04.744Z"
   },
   {
    "duration": 5,
    "start_time": "2022-03-09T19:39:04.758Z"
   },
   {
    "duration": 30,
    "start_time": "2022-03-09T19:39:04.766Z"
   },
   {
    "duration": 11,
    "start_time": "2022-03-09T19:39:04.799Z"
   },
   {
    "duration": 20,
    "start_time": "2022-03-09T19:39:04.813Z"
   },
   {
    "duration": 17,
    "start_time": "2022-03-09T19:39:04.836Z"
   },
   {
    "duration": 17,
    "start_time": "2022-03-09T19:39:04.856Z"
   },
   {
    "duration": 22,
    "start_time": "2022-03-09T19:39:04.876Z"
   },
   {
    "duration": 13,
    "start_time": "2022-03-09T19:39:04.901Z"
   },
   {
    "duration": 37,
    "start_time": "2022-03-09T19:39:04.917Z"
   },
   {
    "duration": 850,
    "start_time": "2022-03-09T19:40:34.147Z"
   },
   {
    "duration": 20,
    "start_time": "2022-03-09T19:40:35.001Z"
   },
   {
    "duration": 13,
    "start_time": "2022-03-09T19:40:35.024Z"
   },
   {
    "duration": 5,
    "start_time": "2022-03-09T19:40:35.040Z"
   },
   {
    "duration": 43,
    "start_time": "2022-03-09T19:40:35.048Z"
   },
   {
    "duration": 11,
    "start_time": "2022-03-09T19:40:35.095Z"
   },
   {
    "duration": 8,
    "start_time": "2022-03-09T19:40:35.108Z"
   },
   {
    "duration": 9,
    "start_time": "2022-03-09T19:40:35.120Z"
   },
   {
    "duration": 4,
    "start_time": "2022-03-09T19:40:35.132Z"
   },
   {
    "duration": 75,
    "start_time": "2022-03-09T19:40:35.139Z"
   },
   {
    "duration": 18,
    "start_time": "2022-03-09T19:40:35.217Z"
   },
   {
    "duration": 6,
    "start_time": "2022-03-09T19:40:35.238Z"
   },
   {
    "duration": 17,
    "start_time": "2022-03-09T19:40:35.246Z"
   },
   {
    "duration": 7,
    "start_time": "2022-03-09T19:40:35.296Z"
   },
   {
    "duration": 17,
    "start_time": "2022-03-09T19:40:35.305Z"
   },
   {
    "duration": 18,
    "start_time": "2022-03-09T19:40:35.325Z"
   },
   {
    "duration": 14,
    "start_time": "2022-03-09T19:40:35.346Z"
   },
   {
    "duration": 7,
    "start_time": "2022-03-09T19:40:35.362Z"
   },
   {
    "duration": 11,
    "start_time": "2022-03-09T19:40:35.388Z"
   },
   {
    "duration": 8,
    "start_time": "2022-03-09T19:40:35.402Z"
   },
   {
    "duration": 8,
    "start_time": "2022-03-09T19:41:00.701Z"
   },
   {
    "duration": 840,
    "start_time": "2022-03-09T19:41:04.726Z"
   },
   {
    "duration": 34,
    "start_time": "2022-03-09T19:41:05.570Z"
   },
   {
    "duration": 15,
    "start_time": "2022-03-09T19:41:05.608Z"
   },
   {
    "duration": 17,
    "start_time": "2022-03-09T19:41:05.627Z"
   },
   {
    "duration": 16,
    "start_time": "2022-03-09T19:41:05.647Z"
   },
   {
    "duration": 16,
    "start_time": "2022-03-09T19:41:05.686Z"
   },
   {
    "duration": 8,
    "start_time": "2022-03-09T19:41:05.705Z"
   },
   {
    "duration": 8,
    "start_time": "2022-03-09T19:41:05.718Z"
   },
   {
    "duration": 5,
    "start_time": "2022-03-09T19:41:05.728Z"
   },
   {
    "duration": 632,
    "start_time": "2022-03-09T19:41:05.735Z"
   },
   {
    "duration": 28,
    "start_time": "2022-03-09T19:41:06.342Z"
   },
   {
    "duration": 26,
    "start_time": "2022-03-09T19:41:06.345Z"
   },
   {
    "duration": 25,
    "start_time": "2022-03-09T19:41:06.347Z"
   },
   {
    "duration": 25,
    "start_time": "2022-03-09T19:41:06.349Z"
   },
   {
    "duration": 24,
    "start_time": "2022-03-09T19:41:06.351Z"
   },
   {
    "duration": 24,
    "start_time": "2022-03-09T19:41:06.353Z"
   },
   {
    "duration": 24,
    "start_time": "2022-03-09T19:41:06.354Z"
   },
   {
    "duration": 18,
    "start_time": "2022-03-09T19:41:06.361Z"
   },
   {
    "duration": 17,
    "start_time": "2022-03-09T19:41:06.363Z"
   },
   {
    "duration": 17,
    "start_time": "2022-03-09T19:41:06.365Z"
   },
   {
    "duration": 834,
    "start_time": "2022-03-09T19:41:44.117Z"
   },
   {
    "duration": 14,
    "start_time": "2022-03-09T19:41:44.954Z"
   },
   {
    "duration": 24,
    "start_time": "2022-03-09T19:41:44.986Z"
   },
   {
    "duration": 51,
    "start_time": "2022-03-09T19:41:45.013Z"
   },
   {
    "duration": 13,
    "start_time": "2022-03-09T19:41:45.066Z"
   },
   {
    "duration": 15,
    "start_time": "2022-03-09T19:41:45.081Z"
   },
   {
    "duration": 11,
    "start_time": "2022-03-09T19:41:45.100Z"
   },
   {
    "duration": 6,
    "start_time": "2022-03-09T19:41:45.114Z"
   },
   {
    "duration": 10,
    "start_time": "2022-03-09T19:41:45.123Z"
   },
   {
    "duration": 54,
    "start_time": "2022-03-09T19:41:45.136Z"
   },
   {
    "duration": 18,
    "start_time": "2022-03-09T19:41:45.193Z"
   },
   {
    "duration": 7,
    "start_time": "2022-03-09T19:41:45.214Z"
   },
   {
    "duration": 23,
    "start_time": "2022-03-09T19:41:45.223Z"
   },
   {
    "duration": 10,
    "start_time": "2022-03-09T19:41:45.249Z"
   },
   {
    "duration": 34,
    "start_time": "2022-03-09T19:41:45.262Z"
   },
   {
    "duration": 10,
    "start_time": "2022-03-09T19:41:45.304Z"
   },
   {
    "duration": 12,
    "start_time": "2022-03-09T19:41:45.317Z"
   },
   {
    "duration": 7,
    "start_time": "2022-03-09T19:41:45.332Z"
   },
   {
    "duration": 14,
    "start_time": "2022-03-09T19:41:45.341Z"
   },
   {
    "duration": 12,
    "start_time": "2022-03-09T19:41:45.388Z"
   },
   {
    "duration": 11,
    "start_time": "2022-03-09T19:42:10.183Z"
   },
   {
    "duration": 48,
    "start_time": "2022-03-09T19:42:11.146Z"
   },
   {
    "duration": 13,
    "start_time": "2022-03-09T19:42:12.744Z"
   },
   {
    "duration": 7,
    "start_time": "2022-03-09T19:42:13.656Z"
   },
   {
    "duration": 5,
    "start_time": "2022-03-09T19:43:00.972Z"
   },
   {
    "duration": 15,
    "start_time": "2022-03-09T19:43:01.668Z"
   },
   {
    "duration": 15,
    "start_time": "2022-03-09T19:43:02.182Z"
   },
   {
    "duration": 802,
    "start_time": "2022-03-09T19:43:06.849Z"
   },
   {
    "duration": 15,
    "start_time": "2022-03-09T19:43:07.654Z"
   },
   {
    "duration": 25,
    "start_time": "2022-03-09T19:43:07.672Z"
   },
   {
    "duration": 16,
    "start_time": "2022-03-09T19:43:07.699Z"
   },
   {
    "duration": 18,
    "start_time": "2022-03-09T19:43:07.718Z"
   },
   {
    "duration": 12,
    "start_time": "2022-03-09T19:43:07.739Z"
   },
   {
    "duration": 38,
    "start_time": "2022-03-09T19:43:07.754Z"
   },
   {
    "duration": 8,
    "start_time": "2022-03-09T19:43:07.798Z"
   },
   {
    "duration": 5,
    "start_time": "2022-03-09T19:43:07.810Z"
   },
   {
    "duration": 20,
    "start_time": "2022-03-09T19:43:07.818Z"
   },
   {
    "duration": 14,
    "start_time": "2022-03-09T19:43:07.841Z"
   },
   {
    "duration": 6,
    "start_time": "2022-03-09T19:43:07.887Z"
   },
   {
    "duration": 23,
    "start_time": "2022-03-09T19:43:07.896Z"
   },
   {
    "duration": 6,
    "start_time": "2022-03-09T19:43:07.922Z"
   },
   {
    "duration": 11,
    "start_time": "2022-03-09T19:43:07.930Z"
   },
   {
    "duration": 6,
    "start_time": "2022-03-09T19:43:07.943Z"
   },
   {
    "duration": 48,
    "start_time": "2022-03-09T19:43:07.951Z"
   },
   {
    "duration": 10,
    "start_time": "2022-03-09T19:43:08.002Z"
   },
   {
    "duration": 10,
    "start_time": "2022-03-09T19:43:08.014Z"
   },
   {
    "duration": 15,
    "start_time": "2022-03-09T19:43:08.026Z"
   },
   {
    "duration": 4,
    "start_time": "2022-03-09T19:44:28.113Z"
   },
   {
    "duration": 611,
    "start_time": "2022-03-09T19:44:28.552Z"
   },
   {
    "duration": 4,
    "start_time": "2022-03-09T19:45:01.048Z"
   },
   {
    "duration": 569,
    "start_time": "2022-03-09T19:45:01.425Z"
   },
   {
    "duration": 842,
    "start_time": "2022-03-09T19:45:13.314Z"
   },
   {
    "duration": 14,
    "start_time": "2022-03-09T19:45:14.159Z"
   },
   {
    "duration": 21,
    "start_time": "2022-03-09T19:45:14.176Z"
   },
   {
    "duration": 5,
    "start_time": "2022-03-09T19:45:14.200Z"
   },
   {
    "duration": 11,
    "start_time": "2022-03-09T19:45:14.207Z"
   },
   {
    "duration": 19,
    "start_time": "2022-03-09T19:45:14.221Z"
   },
   {
    "duration": 45,
    "start_time": "2022-03-09T19:45:14.242Z"
   },
   {
    "duration": 8,
    "start_time": "2022-03-09T19:45:14.291Z"
   },
   {
    "duration": 6,
    "start_time": "2022-03-09T19:45:14.303Z"
   },
   {
    "duration": 619,
    "start_time": "2022-03-09T19:45:14.312Z"
   },
   {
    "duration": 32,
    "start_time": "2022-03-09T19:45:14.901Z"
   },
   {
    "duration": 24,
    "start_time": "2022-03-09T19:45:14.911Z"
   },
   {
    "duration": 21,
    "start_time": "2022-03-09T19:45:14.915Z"
   },
   {
    "duration": 20,
    "start_time": "2022-03-09T19:45:14.917Z"
   },
   {
    "duration": 20,
    "start_time": "2022-03-09T19:45:14.919Z"
   },
   {
    "duration": 20,
    "start_time": "2022-03-09T19:45:14.920Z"
   },
   {
    "duration": 20,
    "start_time": "2022-03-09T19:45:14.921Z"
   },
   {
    "duration": 20,
    "start_time": "2022-03-09T19:45:14.923Z"
   },
   {
    "duration": 20,
    "start_time": "2022-03-09T19:45:14.924Z"
   },
   {
    "duration": 18,
    "start_time": "2022-03-09T19:45:14.927Z"
   },
   {
    "duration": 5,
    "start_time": "2022-03-09T21:37:34.976Z"
   },
   {
    "duration": 546,
    "start_time": "2022-03-09T21:37:35.426Z"
   },
   {
    "duration": 4,
    "start_time": "2022-03-09T21:37:46.158Z"
   },
   {
    "duration": 575,
    "start_time": "2022-03-09T21:37:46.618Z"
   },
   {
    "duration": 4,
    "start_time": "2022-03-09T21:37:59.870Z"
   },
   {
    "duration": 489,
    "start_time": "2022-03-09T21:38:02.091Z"
   },
   {
    "duration": 4,
    "start_time": "2022-03-09T21:38:18.387Z"
   },
   {
    "duration": 502,
    "start_time": "2022-03-09T21:38:18.867Z"
   },
   {
    "duration": 4,
    "start_time": "2022-03-09T21:39:15.584Z"
   },
   {
    "duration": 29,
    "start_time": "2022-03-09T21:39:15.910Z"
   },
   {
    "duration": 18,
    "start_time": "2022-03-09T21:39:17.308Z"
   },
   {
    "duration": 12,
    "start_time": "2022-03-09T21:39:26.106Z"
   },
   {
    "duration": 859,
    "start_time": "2022-03-09T21:39:30.565Z"
   },
   {
    "duration": 18,
    "start_time": "2022-03-09T21:39:31.428Z"
   },
   {
    "duration": 42,
    "start_time": "2022-03-09T21:39:31.450Z"
   },
   {
    "duration": 7,
    "start_time": "2022-03-09T21:39:31.495Z"
   },
   {
    "duration": 14,
    "start_time": "2022-03-09T21:39:31.505Z"
   },
   {
    "duration": 11,
    "start_time": "2022-03-09T21:39:31.522Z"
   },
   {
    "duration": 53,
    "start_time": "2022-03-09T21:39:31.536Z"
   },
   {
    "duration": 6,
    "start_time": "2022-03-09T21:39:31.595Z"
   },
   {
    "duration": 6,
    "start_time": "2022-03-09T21:39:31.605Z"
   },
   {
    "duration": 39,
    "start_time": "2022-03-09T21:39:31.613Z"
   },
   {
    "duration": 44,
    "start_time": "2022-03-09T21:39:31.655Z"
   },
   {
    "duration": 7,
    "start_time": "2022-03-09T21:39:31.701Z"
   },
   {
    "duration": 15,
    "start_time": "2022-03-09T21:39:31.710Z"
   },
   {
    "duration": 17,
    "start_time": "2022-03-09T21:39:31.727Z"
   },
   {
    "duration": 12,
    "start_time": "2022-03-09T21:39:31.746Z"
   },
   {
    "duration": 31,
    "start_time": "2022-03-09T21:39:31.760Z"
   },
   {
    "duration": 11,
    "start_time": "2022-03-09T21:39:31.794Z"
   },
   {
    "duration": 11,
    "start_time": "2022-03-09T21:39:31.807Z"
   },
   {
    "duration": 16,
    "start_time": "2022-03-09T21:39:31.820Z"
   },
   {
    "duration": 13,
    "start_time": "2022-03-09T21:39:31.839Z"
   },
   {
    "duration": 13,
    "start_time": "2022-03-09T21:39:52.949Z"
   },
   {
    "duration": 6,
    "start_time": "2022-03-09T21:39:53.808Z"
   },
   {
    "duration": 12,
    "start_time": "2022-03-09T21:39:54.218Z"
   },
   {
    "duration": 93,
    "start_time": "2022-03-09T21:43:14.998Z"
   },
   {
    "duration": 7,
    "start_time": "2022-03-09T21:43:20.243Z"
   },
   {
    "duration": 7,
    "start_time": "2022-03-09T21:43:59.503Z"
   },
   {
    "duration": 817,
    "start_time": "2022-03-09T21:44:06.194Z"
   },
   {
    "duration": 17,
    "start_time": "2022-03-09T21:44:07.015Z"
   },
   {
    "duration": 13,
    "start_time": "2022-03-09T21:44:07.036Z"
   },
   {
    "duration": 36,
    "start_time": "2022-03-09T21:44:07.051Z"
   },
   {
    "duration": 11,
    "start_time": "2022-03-09T21:44:07.090Z"
   },
   {
    "duration": 10,
    "start_time": "2022-03-09T21:44:07.103Z"
   },
   {
    "duration": 7,
    "start_time": "2022-03-09T21:44:07.115Z"
   },
   {
    "duration": 6,
    "start_time": "2022-03-09T21:44:07.125Z"
   },
   {
    "duration": 54,
    "start_time": "2022-03-09T21:44:07.134Z"
   },
   {
    "duration": 7,
    "start_time": "2022-03-09T21:44:07.191Z"
   },
   {
    "duration": 404,
    "start_time": "2022-03-09T21:44:07.200Z"
   },
   {
    "duration": -60,
    "start_time": "2022-03-09T21:44:07.667Z"
   },
   {
    "duration": -59,
    "start_time": "2022-03-09T21:44:07.668Z"
   },
   {
    "duration": -66,
    "start_time": "2022-03-09T21:44:07.677Z"
   },
   {
    "duration": -67,
    "start_time": "2022-03-09T21:44:07.679Z"
   },
   {
    "duration": -67,
    "start_time": "2022-03-09T21:44:07.681Z"
   },
   {
    "duration": -68,
    "start_time": "2022-03-09T21:44:07.683Z"
   },
   {
    "duration": -68,
    "start_time": "2022-03-09T21:44:07.684Z"
   },
   {
    "duration": -69,
    "start_time": "2022-03-09T21:44:07.686Z"
   },
   {
    "duration": 10,
    "start_time": "2022-03-09T21:44:25.793Z"
   },
   {
    "duration": 6,
    "start_time": "2022-03-09T21:44:26.019Z"
   },
   {
    "duration": 10,
    "start_time": "2022-03-09T21:44:26.586Z"
   },
   {
    "duration": 6,
    "start_time": "2022-03-09T21:44:26.788Z"
   },
   {
    "duration": 11,
    "start_time": "2022-03-09T21:44:27.237Z"
   },
   {
    "duration": 6,
    "start_time": "2022-03-09T21:44:27.437Z"
   },
   {
    "duration": 9,
    "start_time": "2022-03-09T21:44:29.446Z"
   },
   {
    "duration": 6,
    "start_time": "2022-03-09T21:44:29.692Z"
   },
   {
    "duration": 7,
    "start_time": "2022-03-09T21:46:31.980Z"
   },
   {
    "duration": 5,
    "start_time": "2022-03-09T21:47:27.045Z"
   },
   {
    "duration": 6,
    "start_time": "2022-03-09T21:47:27.455Z"
   },
   {
    "duration": 11,
    "start_time": "2022-03-09T21:47:32.818Z"
   },
   {
    "duration": 5,
    "start_time": "2022-03-09T21:47:33.323Z"
   },
   {
    "duration": 13,
    "start_time": "2022-03-09T21:47:33.651Z"
   },
   {
    "duration": 6,
    "start_time": "2022-03-09T21:47:33.972Z"
   },
   {
    "duration": 11,
    "start_time": "2022-03-09T21:47:34.326Z"
   },
   {
    "duration": 7,
    "start_time": "2022-03-09T21:47:34.683Z"
   },
   {
    "duration": 10,
    "start_time": "2022-03-09T21:47:35.033Z"
   },
   {
    "duration": 6,
    "start_time": "2022-03-09T21:47:35.360Z"
   },
   {
    "duration": 13,
    "start_time": "2022-03-09T21:48:05.602Z"
   },
   {
    "duration": 814,
    "start_time": "2022-03-09T21:48:23.898Z"
   },
   {
    "duration": 15,
    "start_time": "2022-03-09T21:48:24.714Z"
   },
   {
    "duration": 12,
    "start_time": "2022-03-09T21:48:24.732Z"
   },
   {
    "duration": 6,
    "start_time": "2022-03-09T21:48:24.746Z"
   },
   {
    "duration": 42,
    "start_time": "2022-03-09T21:48:24.754Z"
   },
   {
    "duration": 10,
    "start_time": "2022-03-09T21:48:24.799Z"
   },
   {
    "duration": 7,
    "start_time": "2022-03-09T21:48:24.812Z"
   },
   {
    "duration": 6,
    "start_time": "2022-03-09T21:48:24.822Z"
   },
   {
    "duration": 4,
    "start_time": "2022-03-09T21:48:24.831Z"
   },
   {
    "duration": 50,
    "start_time": "2022-03-09T21:48:24.837Z"
   },
   {
    "duration": 15,
    "start_time": "2022-03-09T21:48:24.890Z"
   },
   {
    "duration": 6342,
    "start_time": "2022-03-09T21:50:53.997Z"
   },
   {
    "duration": 6499,
    "start_time": "2022-03-09T21:51:04.203Z"
   },
   {
    "duration": 264,
    "start_time": "2022-03-09T21:51:12.839Z"
   },
   {
    "duration": 17,
    "start_time": "2022-03-09T21:51:15.932Z"
   },
   {
    "duration": 1343,
    "start_time": "2022-03-09T21:51:20.361Z"
   },
   {
    "duration": 261,
    "start_time": "2022-03-09T21:51:31.674Z"
   },
   {
    "duration": 16,
    "start_time": "2022-03-09T21:51:39.346Z"
   },
   {
    "duration": 716,
    "start_time": "2022-03-09T21:55:38.303Z"
   },
   {
    "duration": 709,
    "start_time": "2022-03-09T21:55:45.563Z"
   },
   {
    "duration": 325,
    "start_time": "2022-03-09T21:56:08.849Z"
   },
   {
    "duration": 95,
    "start_time": "2022-03-09T21:56:37.653Z"
   },
   {
    "duration": 15,
    "start_time": "2022-03-09T22:05:00.141Z"
   },
   {
    "duration": 245,
    "start_time": "2022-03-09T22:11:47.272Z"
   },
   {
    "duration": 10,
    "start_time": "2022-03-09T22:11:52.142Z"
   },
   {
    "duration": 269,
    "start_time": "2022-03-09T22:13:05.340Z"
   },
   {
    "duration": 25,
    "start_time": "2022-03-09T22:13:11.491Z"
   },
   {
    "duration": 22,
    "start_time": "2022-03-09T22:13:16.520Z"
   },
   {
    "duration": 54,
    "start_time": "2022-03-09T22:14:20.233Z"
   },
   {
    "duration": 24,
    "start_time": "2022-03-09T22:16:24.364Z"
   },
   {
    "duration": 24,
    "start_time": "2022-03-09T22:16:31.024Z"
   },
   {
    "duration": 24,
    "start_time": "2022-03-09T22:17:44.549Z"
   },
   {
    "duration": 23,
    "start_time": "2022-03-09T22:17:51.419Z"
   },
   {
    "duration": 23,
    "start_time": "2022-03-09T22:18:31.736Z"
   },
   {
    "duration": 7,
    "start_time": "2022-03-09T22:19:47.568Z"
   },
   {
    "duration": 96,
    "start_time": "2022-03-09T22:21:46.859Z"
   },
   {
    "duration": 89,
    "start_time": "2022-03-09T22:22:51.860Z"
   },
   {
    "duration": 99,
    "start_time": "2022-03-09T22:22:56.358Z"
   },
   {
    "duration": 108,
    "start_time": "2022-03-09T22:23:02.832Z"
   },
   {
    "duration": 98,
    "start_time": "2022-03-09T22:23:07.406Z"
   },
   {
    "duration": 295,
    "start_time": "2022-03-09T22:23:12.230Z"
   },
   {
    "duration": 58,
    "start_time": "2022-03-09T22:24:09.501Z"
   },
   {
    "duration": 473,
    "start_time": "2022-03-09T22:24:17.069Z"
   },
   {
    "duration": 62,
    "start_time": "2022-03-09T22:24:36.476Z"
   },
   {
    "duration": 365,
    "start_time": "2022-03-09T22:26:03.178Z"
   },
   {
    "duration": 271,
    "start_time": "2022-03-09T22:26:21.536Z"
   },
   {
    "duration": 56,
    "start_time": "2022-03-09T22:26:33.046Z"
   },
   {
    "duration": 267,
    "start_time": "2022-03-09T22:26:52.011Z"
   },
   {
    "duration": 16,
    "start_time": "2022-03-09T22:28:16.852Z"
   },
   {
    "duration": 9,
    "start_time": "2022-03-09T22:28:23.415Z"
   },
   {
    "duration": 87,
    "start_time": "2022-03-09T22:30:34.922Z"
   },
   {
    "duration": 90,
    "start_time": "2022-03-09T22:30:41.516Z"
   },
   {
    "duration": 44,
    "start_time": "2022-03-09T22:30:58.373Z"
   },
   {
    "duration": 37,
    "start_time": "2022-03-09T22:31:20.742Z"
   },
   {
    "duration": 98,
    "start_time": "2022-03-09T22:31:26.079Z"
   },
   {
    "duration": 837,
    "start_time": "2022-03-09T22:31:36.455Z"
   },
   {
    "duration": 15,
    "start_time": "2022-03-09T22:31:37.294Z"
   },
   {
    "duration": 12,
    "start_time": "2022-03-09T22:31:37.312Z"
   },
   {
    "duration": 5,
    "start_time": "2022-03-09T22:31:37.327Z"
   },
   {
    "duration": 12,
    "start_time": "2022-03-09T22:31:37.334Z"
   },
   {
    "duration": 46,
    "start_time": "2022-03-09T22:31:37.348Z"
   },
   {
    "duration": 10,
    "start_time": "2022-03-09T22:31:37.397Z"
   },
   {
    "duration": 15,
    "start_time": "2022-03-09T22:31:37.410Z"
   },
   {
    "duration": 7,
    "start_time": "2022-03-09T22:31:37.428Z"
   },
   {
    "duration": 9,
    "start_time": "2022-03-09T22:31:37.438Z"
   },
   {
    "duration": 42,
    "start_time": "2022-03-09T22:31:37.450Z"
   },
   {
    "duration": 4,
    "start_time": "2022-03-09T22:31:37.495Z"
   },
   {
    "duration": 22,
    "start_time": "2022-03-09T22:31:37.501Z"
   },
   {
    "duration": 83,
    "start_time": "2022-03-09T22:31:37.525Z"
   },
   {
    "duration": 7,
    "start_time": "2022-03-09T22:31:37.610Z"
   },
   {
    "duration": 30,
    "start_time": "2022-03-09T22:31:37.619Z"
   },
   {
    "duration": 55,
    "start_time": "2022-03-09T22:31:37.651Z"
   },
   {
    "duration": 24,
    "start_time": "2022-03-09T22:31:37.708Z"
   },
   {
    "duration": 6,
    "start_time": "2022-03-09T22:31:37.734Z"
   },
   {
    "duration": 44,
    "start_time": "2022-03-09T22:31:37.743Z"
   },
   {
    "duration": 27,
    "start_time": "2022-03-09T22:31:37.789Z"
   },
   {
    "duration": 14,
    "start_time": "2022-03-09T22:32:16.144Z"
   },
   {
    "duration": 8,
    "start_time": "2022-03-09T22:32:49.507Z"
   },
   {
    "duration": 14,
    "start_time": "2022-03-09T22:33:29.295Z"
   },
   {
    "duration": 59,
    "start_time": "2022-03-09T22:33:31.162Z"
   },
   {
    "duration": 15,
    "start_time": "2022-03-09T22:33:32.894Z"
   },
   {
    "duration": 13,
    "start_time": "2022-03-09T22:33:44.748Z"
   },
   {
    "duration": 893,
    "start_time": "2022-03-09T22:34:03.682Z"
   },
   {
    "duration": 16,
    "start_time": "2022-03-09T22:34:04.577Z"
   },
   {
    "duration": 12,
    "start_time": "2022-03-09T22:34:04.596Z"
   },
   {
    "duration": 9,
    "start_time": "2022-03-09T22:34:04.611Z"
   },
   {
    "duration": 15,
    "start_time": "2022-03-09T22:34:04.622Z"
   },
   {
    "duration": 10,
    "start_time": "2022-03-09T22:34:04.639Z"
   },
   {
    "duration": 41,
    "start_time": "2022-03-09T22:34:04.651Z"
   },
   {
    "duration": 9,
    "start_time": "2022-03-09T22:34:04.696Z"
   },
   {
    "duration": 12,
    "start_time": "2022-03-09T22:34:04.708Z"
   },
   {
    "duration": 18,
    "start_time": "2022-03-09T22:34:04.723Z"
   },
   {
    "duration": 19,
    "start_time": "2022-03-09T22:34:04.744Z"
   },
   {
    "duration": 22,
    "start_time": "2022-03-09T22:34:04.765Z"
   },
   {
    "duration": 23,
    "start_time": "2022-03-09T22:34:04.789Z"
   },
   {
    "duration": 74,
    "start_time": "2022-03-09T22:34:04.814Z"
   },
   {
    "duration": 20,
    "start_time": "2022-03-09T22:34:04.890Z"
   },
   {
    "duration": 7,
    "start_time": "2022-03-09T22:34:04.912Z"
   },
   {
    "duration": 25,
    "start_time": "2022-03-09T22:34:04.921Z"
   },
   {
    "duration": 58,
    "start_time": "2022-03-09T22:34:04.948Z"
   },
   {
    "duration": 24,
    "start_time": "2022-03-09T22:34:05.008Z"
   },
   {
    "duration": 6,
    "start_time": "2022-03-09T22:34:05.035Z"
   },
   {
    "duration": 50,
    "start_time": "2022-03-09T22:34:05.043Z"
   },
   {
    "duration": 15,
    "start_time": "2022-03-09T22:34:05.095Z"
   },
   {
    "duration": 18,
    "start_time": "2022-03-09T22:34:52.627Z"
   },
   {
    "duration": 8,
    "start_time": "2022-03-09T22:35:09.416Z"
   },
   {
    "duration": 14,
    "start_time": "2022-03-09T22:35:10.332Z"
   },
   {
    "duration": 58,
    "start_time": "2022-03-09T22:35:24.757Z"
   },
   {
    "duration": 19,
    "start_time": "2022-03-09T22:35:45.097Z"
   },
   {
    "duration": 10,
    "start_time": "2022-03-09T22:35:59.700Z"
   },
   {
    "duration": 15,
    "start_time": "2022-03-09T22:36:00.270Z"
   },
   {
    "duration": 5,
    "start_time": "2022-03-09T22:36:04.458Z"
   },
   {
    "duration": 17,
    "start_time": "2022-03-09T22:36:04.856Z"
   },
   {
    "duration": 12,
    "start_time": "2022-03-09T22:36:07.843Z"
   },
   {
    "duration": 61,
    "start_time": "2022-03-09T22:36:10.021Z"
   },
   {
    "duration": 21,
    "start_time": "2022-03-09T22:36:10.757Z"
   },
   {
    "duration": 648,
    "start_time": "2022-03-10T06:52:06.726Z"
   },
   {
    "duration": 12,
    "start_time": "2022-03-10T06:52:07.376Z"
   },
   {
    "duration": 11,
    "start_time": "2022-03-10T06:52:07.390Z"
   },
   {
    "duration": 5,
    "start_time": "2022-03-10T06:52:07.403Z"
   },
   {
    "duration": 9,
    "start_time": "2022-03-10T06:52:07.410Z"
   },
   {
    "duration": 42,
    "start_time": "2022-03-10T06:52:07.421Z"
   },
   {
    "duration": 6,
    "start_time": "2022-03-10T06:52:07.465Z"
   },
   {
    "duration": 4,
    "start_time": "2022-03-10T06:52:07.473Z"
   },
   {
    "duration": 4,
    "start_time": "2022-03-10T06:52:07.479Z"
   },
   {
    "duration": 4,
    "start_time": "2022-03-10T06:52:07.485Z"
   },
   {
    "duration": 10,
    "start_time": "2022-03-10T06:52:07.491Z"
   },
   {
    "duration": 3,
    "start_time": "2022-03-10T06:52:07.503Z"
   },
   {
    "duration": 62,
    "start_time": "2022-03-10T06:52:07.508Z"
   },
   {
    "duration": 12,
    "start_time": "2022-03-10T06:52:07.572Z"
   },
   {
    "duration": 299,
    "start_time": "2022-03-10T06:52:07.586Z"
   },
   {
    "duration": 12,
    "start_time": "2022-03-10T06:52:07.887Z"
   },
   {
    "duration": 6,
    "start_time": "2022-03-10T06:52:07.901Z"
   },
   {
    "duration": 17,
    "start_time": "2022-03-10T06:52:07.908Z"
   },
   {
    "duration": 17,
    "start_time": "2022-03-10T06:52:07.927Z"
   },
   {
    "duration": 24,
    "start_time": "2022-03-10T06:52:07.946Z"
   },
   {
    "duration": 5,
    "start_time": "2022-03-10T06:52:07.971Z"
   },
   {
    "duration": 12,
    "start_time": "2022-03-10T06:52:07.977Z"
   },
   {
    "duration": 8,
    "start_time": "2022-03-10T06:52:07.991Z"
   },
   {
    "duration": 620,
    "start_time": "2022-03-10T07:12:48.851Z"
   },
   {
    "duration": 618,
    "start_time": "2022-03-10T18:21:46.723Z"
   },
   {
    "duration": 12,
    "start_time": "2022-03-10T18:21:47.344Z"
   },
   {
    "duration": 11,
    "start_time": "2022-03-10T18:21:47.360Z"
   },
   {
    "duration": 17,
    "start_time": "2022-03-10T18:21:47.373Z"
   },
   {
    "duration": 25,
    "start_time": "2022-03-10T18:21:47.392Z"
   },
   {
    "duration": 16,
    "start_time": "2022-03-10T18:21:47.419Z"
   },
   {
    "duration": 10,
    "start_time": "2022-03-10T18:21:47.438Z"
   },
   {
    "duration": 11,
    "start_time": "2022-03-10T18:21:47.451Z"
   },
   {
    "duration": 5,
    "start_time": "2022-03-10T18:21:47.464Z"
   },
   {
    "duration": 9,
    "start_time": "2022-03-10T18:21:47.471Z"
   },
   {
    "duration": 92,
    "start_time": "2022-03-10T18:21:47.482Z"
   },
   {
    "duration": 33040752,
    "start_time": "2022-03-10T09:11:06.824Z"
   },
   {
    "duration": 33040751,
    "start_time": "2022-03-10T09:11:06.827Z"
   },
   {
    "duration": 33040751,
    "start_time": "2022-03-10T09:11:06.828Z"
   },
   {
    "duration": 33040744,
    "start_time": "2022-03-10T09:11:06.837Z"
   },
   {
    "duration": 33040740,
    "start_time": "2022-03-10T09:11:06.842Z"
   },
   {
    "duration": 33040740,
    "start_time": "2022-03-10T09:11:06.844Z"
   },
   {
    "duration": 33040740,
    "start_time": "2022-03-10T09:11:06.845Z"
   },
   {
    "duration": 33040740,
    "start_time": "2022-03-10T09:11:06.847Z"
   },
   {
    "duration": 33040739,
    "start_time": "2022-03-10T09:11:06.849Z"
   },
   {
    "duration": 33040739,
    "start_time": "2022-03-10T09:11:06.851Z"
   },
   {
    "duration": 33040733,
    "start_time": "2022-03-10T09:11:06.858Z"
   },
   {
    "duration": 13,
    "start_time": "2022-03-10T19:00:18.955Z"
   },
   {
    "duration": 27,
    "start_time": "2022-03-10T19:01:08.168Z"
   },
   {
    "duration": 309,
    "start_time": "2022-03-10T19:01:22.549Z"
   },
   {
    "duration": 19,
    "start_time": "2022-03-10T19:01:28.757Z"
   },
   {
    "duration": 6,
    "start_time": "2022-03-10T19:02:57.998Z"
   },
   {
    "duration": 16,
    "start_time": "2022-03-10T19:02:58.269Z"
   },
   {
    "duration": 6,
    "start_time": "2022-03-10T19:02:58.609Z"
   },
   {
    "duration": 275,
    "start_time": "2022-03-11T10:25:43.763Z"
   },
   {
    "duration": 674,
    "start_time": "2022-03-11T10:25:50.959Z"
   },
   {
    "duration": 11,
    "start_time": "2022-03-11T10:25:51.635Z"
   },
   {
    "duration": 15,
    "start_time": "2022-03-11T10:25:51.648Z"
   },
   {
    "duration": 5,
    "start_time": "2022-03-11T10:25:51.665Z"
   },
   {
    "duration": 19,
    "start_time": "2022-03-11T10:25:51.672Z"
   },
   {
    "duration": 8,
    "start_time": "2022-03-11T10:25:51.693Z"
   },
   {
    "duration": 9,
    "start_time": "2022-03-11T10:25:51.703Z"
   },
   {
    "duration": 7,
    "start_time": "2022-03-11T10:25:51.715Z"
   },
   {
    "duration": 2,
    "start_time": "2022-03-11T10:25:51.724Z"
   },
   {
    "duration": 8,
    "start_time": "2022-03-11T10:25:51.728Z"
   },
   {
    "duration": 5,
    "start_time": "2022-03-11T10:25:51.737Z"
   },
   {
    "duration": 16,
    "start_time": "2022-03-11T10:25:51.760Z"
   },
   {
    "duration": 11,
    "start_time": "2022-03-11T10:25:51.777Z"
   },
   {
    "duration": 6,
    "start_time": "2022-03-11T10:25:51.790Z"
   },
   {
    "duration": 19,
    "start_time": "2022-03-11T10:25:51.798Z"
   },
   {
    "duration": 6,
    "start_time": "2022-03-11T10:25:51.819Z"
   },
   {
    "duration": 304,
    "start_time": "2022-03-11T10:25:51.826Z"
   },
   {
    "duration": 406504,
    "start_time": "2022-03-11T10:19:05.628Z"
   },
   {
    "duration": 406503,
    "start_time": "2022-03-11T10:19:05.630Z"
   },
   {
    "duration": 406502,
    "start_time": "2022-03-11T10:19:05.632Z"
   },
   {
    "duration": 406501,
    "start_time": "2022-03-11T10:19:05.634Z"
   },
   {
    "duration": 406499,
    "start_time": "2022-03-11T10:19:05.637Z"
   },
   {
    "duration": 406498,
    "start_time": "2022-03-11T10:19:05.639Z"
   },
   {
    "duration": 12,
    "start_time": "2022-03-11T10:26:00.346Z"
   },
   {
    "duration": 11,
    "start_time": "2022-03-11T10:26:13.518Z"
   },
   {
    "duration": 84,
    "start_time": "2022-03-11T10:26:45.792Z"
   },
   {
    "duration": 245,
    "start_time": "2022-03-11T10:26:47.878Z"
   },
   {
    "duration": 8,
    "start_time": "2022-03-11T10:26:58.431Z"
   },
   {
    "duration": 165,
    "start_time": "2022-03-11T10:27:02.816Z"
   },
   {
    "duration": 8,
    "start_time": "2022-03-11T10:27:08.141Z"
   },
   {
    "duration": 441,
    "start_time": "2022-03-11T10:27:28.382Z"
   },
   {
    "duration": 8,
    "start_time": "2022-03-11T10:27:31.296Z"
   },
   {
    "duration": 5,
    "start_time": "2022-03-11T10:27:37.903Z"
   },
   {
    "duration": 6,
    "start_time": "2022-03-11T10:27:49.233Z"
   },
   {
    "duration": 9,
    "start_time": "2022-03-11T10:27:54.662Z"
   },
   {
    "duration": 9,
    "start_time": "2022-03-11T10:27:58.020Z"
   },
   {
    "duration": 22,
    "start_time": "2022-03-11T10:28:19.439Z"
   },
   {
    "duration": 2,
    "start_time": "2022-03-11T10:28:43.305Z"
   },
   {
    "duration": 7,
    "start_time": "2022-03-11T10:28:45.536Z"
   },
   {
    "duration": 617,
    "start_time": "2022-03-11T10:28:49.187Z"
   },
   {
    "duration": 10,
    "start_time": "2022-03-11T10:28:49.806Z"
   },
   {
    "duration": 21,
    "start_time": "2022-03-11T10:28:49.818Z"
   },
   {
    "duration": 12,
    "start_time": "2022-03-11T10:28:49.841Z"
   },
   {
    "duration": 15,
    "start_time": "2022-03-11T10:28:49.855Z"
   },
   {
    "duration": 18,
    "start_time": "2022-03-11T10:28:49.872Z"
   },
   {
    "duration": 16,
    "start_time": "2022-03-11T10:28:49.892Z"
   },
   {
    "duration": 9,
    "start_time": "2022-03-11T10:28:49.910Z"
   },
   {
    "duration": 17,
    "start_time": "2022-03-11T10:28:49.921Z"
   },
   {
    "duration": 11,
    "start_time": "2022-03-11T10:28:49.939Z"
   },
   {
    "duration": 8,
    "start_time": "2022-03-11T10:28:49.952Z"
   },
   {
    "duration": 22,
    "start_time": "2022-03-11T10:28:49.961Z"
   },
   {
    "duration": 10,
    "start_time": "2022-03-11T10:28:49.984Z"
   },
   {
    "duration": 10,
    "start_time": "2022-03-11T10:28:49.995Z"
   },
   {
    "duration": 2,
    "start_time": "2022-03-11T10:28:50.006Z"
   },
   {
    "duration": 13,
    "start_time": "2022-03-11T10:28:50.009Z"
   },
   {
    "duration": 303,
    "start_time": "2022-03-11T10:28:50.023Z"
   },
   {
    "duration": 406491,
    "start_time": "2022-03-11T10:22:03.837Z"
   },
   {
    "duration": 406489,
    "start_time": "2022-03-11T10:22:03.840Z"
   },
   {
    "duration": 406487,
    "start_time": "2022-03-11T10:22:03.843Z"
   },
   {
    "duration": 406476,
    "start_time": "2022-03-11T10:22:03.855Z"
   },
   {
    "duration": 406475,
    "start_time": "2022-03-11T10:22:03.857Z"
   },
   {
    "duration": 406475,
    "start_time": "2022-03-11T10:22:03.859Z"
   },
   {
    "duration": 20,
    "start_time": "2022-03-11T10:28:54.891Z"
   },
   {
    "duration": 7,
    "start_time": "2022-03-11T10:29:05.401Z"
   },
   {
    "duration": 8,
    "start_time": "2022-03-11T10:29:17.713Z"
   },
   {
    "duration": 89,
    "start_time": "2022-03-11T10:31:46.786Z"
   },
   {
    "duration": 3,
    "start_time": "2022-03-11T10:31:51.157Z"
   },
   {
    "duration": 11,
    "start_time": "2022-03-11T10:31:57.290Z"
   },
   {
    "duration": 1287,
    "start_time": "2022-03-11T10:32:45.606Z"
   },
   {
    "duration": 1265,
    "start_time": "2022-03-11T10:33:33.987Z"
   },
   {
    "duration": 7,
    "start_time": "2022-03-11T10:33:36.123Z"
   },
   {
    "duration": 1265,
    "start_time": "2022-03-11T10:34:18.396Z"
   },
   {
    "duration": 617,
    "start_time": "2022-03-11T10:34:43.310Z"
   },
   {
    "duration": 11,
    "start_time": "2022-03-11T10:34:43.929Z"
   },
   {
    "duration": 10,
    "start_time": "2022-03-11T10:34:43.942Z"
   },
   {
    "duration": 7,
    "start_time": "2022-03-11T10:34:43.954Z"
   },
   {
    "duration": 11,
    "start_time": "2022-03-11T10:34:43.962Z"
   },
   {
    "duration": 9,
    "start_time": "2022-03-11T10:34:43.974Z"
   },
   {
    "duration": 6,
    "start_time": "2022-03-11T10:34:43.985Z"
   },
   {
    "duration": 4,
    "start_time": "2022-03-11T10:34:43.994Z"
   },
   {
    "duration": 4,
    "start_time": "2022-03-11T10:34:44.000Z"
   },
   {
    "duration": 6,
    "start_time": "2022-03-11T10:34:44.005Z"
   },
   {
    "duration": 5,
    "start_time": "2022-03-11T10:34:44.013Z"
   },
   {
    "duration": 11,
    "start_time": "2022-03-11T10:34:44.020Z"
   },
   {
    "duration": 1509,
    "start_time": "2022-03-11T10:34:44.032Z"
   },
   {
    "duration": 3,
    "start_time": "2022-03-11T10:34:45.542Z"
   },
   {
    "duration": 1333,
    "start_time": "2022-03-11T10:34:45.559Z"
   },
   {
    "duration": 8,
    "start_time": "2022-03-11T10:34:46.894Z"
   },
   {
    "duration": 13,
    "start_time": "2022-03-11T10:34:46.904Z"
   },
   {
    "duration": 12,
    "start_time": "2022-03-11T10:34:46.919Z"
   },
   {
    "duration": 26,
    "start_time": "2022-03-11T10:34:46.933Z"
   },
   {
    "duration": 13,
    "start_time": "2022-03-11T10:34:46.961Z"
   },
   {
    "duration": 319,
    "start_time": "2022-03-11T10:34:46.976Z"
   },
   {
    "duration": 406489,
    "start_time": "2022-03-11T10:28:00.809Z"
   },
   {
    "duration": 406488,
    "start_time": "2022-03-11T10:28:00.812Z"
   },
   {
    "duration": 406488,
    "start_time": "2022-03-11T10:28:00.814Z"
   },
   {
    "duration": 406486,
    "start_time": "2022-03-11T10:28:00.817Z"
   },
   {
    "duration": 406485,
    "start_time": "2022-03-11T10:28:00.820Z"
   },
   {
    "duration": 406484,
    "start_time": "2022-03-11T10:28:00.822Z"
   },
   {
    "duration": 8,
    "start_time": "2022-03-11T10:35:22.267Z"
   },
   {
    "duration": 3,
    "start_time": "2022-03-11T10:35:26.602Z"
   },
   {
    "duration": 10,
    "start_time": "2022-03-11T10:35:28.832Z"
   },
   {
    "duration": 9,
    "start_time": "2022-03-11T10:35:31.252Z"
   },
   {
    "duration": 3,
    "start_time": "2022-03-11T10:35:49.115Z"
   },
   {
    "duration": 3,
    "start_time": "2022-03-11T10:36:15.981Z"
   },
   {
    "duration": 8,
    "start_time": "2022-03-11T10:36:17.700Z"
   },
   {
    "duration": 19,
    "start_time": "2022-03-11T10:36:20.442Z"
   },
   {
    "duration": 7,
    "start_time": "2022-03-11T10:36:21.794Z"
   },
   {
    "duration": 6,
    "start_time": "2022-03-11T10:39:49.413Z"
   },
   {
    "duration": 3,
    "start_time": "2022-03-11T10:40:08.135Z"
   },
   {
    "duration": 12,
    "start_time": "2022-03-11T10:40:20.322Z"
   },
   {
    "duration": 921,
    "start_time": "2022-03-11T18:38:26.604Z"
   },
   {
    "duration": 15,
    "start_time": "2022-03-11T18:38:27.528Z"
   },
   {
    "duration": 44,
    "start_time": "2022-03-11T18:38:27.550Z"
   },
   {
    "duration": 9,
    "start_time": "2022-03-11T18:38:27.597Z"
   },
   {
    "duration": 11,
    "start_time": "2022-03-11T18:38:27.610Z"
   },
   {
    "duration": 10,
    "start_time": "2022-03-11T18:38:27.624Z"
   },
   {
    "duration": 9,
    "start_time": "2022-03-11T18:38:27.637Z"
   },
   {
    "duration": 6,
    "start_time": "2022-03-11T18:38:27.689Z"
   },
   {
    "duration": 3,
    "start_time": "2022-03-11T18:38:27.698Z"
   },
   {
    "duration": 10,
    "start_time": "2022-03-11T18:38:27.704Z"
   },
   {
    "duration": 9,
    "start_time": "2022-03-11T18:38:27.717Z"
   },
   {
    "duration": 16,
    "start_time": "2022-03-11T18:38:27.729Z"
   },
   {
    "duration": 4,
    "start_time": "2022-03-11T18:38:27.748Z"
   },
   {
    "duration": 41,
    "start_time": "2022-03-11T18:38:27.754Z"
   },
   {
    "duration": 26,
    "start_time": "2022-03-11T18:38:27.798Z"
   },
   {
    "duration": 9,
    "start_time": "2022-03-11T18:38:27.827Z"
   },
   {
    "duration": 57,
    "start_time": "2022-03-11T18:38:27.839Z"
   },
   {
    "duration": 17,
    "start_time": "2022-03-11T18:38:27.899Z"
   },
   {
    "duration": 5,
    "start_time": "2022-03-11T18:38:27.919Z"
   },
   {
    "duration": 20,
    "start_time": "2022-03-11T18:38:27.927Z"
   },
   {
    "duration": 38,
    "start_time": "2022-03-11T18:38:27.949Z"
   },
   {
    "duration": 15,
    "start_time": "2022-03-11T18:38:27.994Z"
   },
   {
    "duration": 26,
    "start_time": "2022-03-11T18:38:28.011Z"
   },
   {
    "duration": 67,
    "start_time": "2022-03-11T18:38:28.039Z"
   },
   {
    "duration": 24,
    "start_time": "2022-03-11T18:38:28.108Z"
   },
   {
    "duration": 7,
    "start_time": "2022-03-11T18:38:28.134Z"
   },
   {
    "duration": 44,
    "start_time": "2022-03-11T18:38:28.144Z"
   },
   {
    "duration": 11,
    "start_time": "2022-03-11T18:38:28.191Z"
   },
   {
    "duration": 6,
    "start_time": "2022-03-11T18:40:26.623Z"
   },
   {
    "duration": 6,
    "start_time": "2022-03-11T18:40:30.543Z"
   },
   {
    "duration": 847,
    "start_time": "2022-03-11T18:40:35.351Z"
   },
   {
    "duration": 17,
    "start_time": "2022-03-11T18:40:36.202Z"
   },
   {
    "duration": 13,
    "start_time": "2022-03-11T18:40:36.223Z"
   },
   {
    "duration": 5,
    "start_time": "2022-03-11T18:40:36.239Z"
   },
   {
    "duration": 47,
    "start_time": "2022-03-11T18:40:36.247Z"
   },
   {
    "duration": 11,
    "start_time": "2022-03-11T18:40:36.296Z"
   },
   {
    "duration": 8,
    "start_time": "2022-03-11T18:40:36.309Z"
   },
   {
    "duration": 6,
    "start_time": "2022-03-11T18:40:36.321Z"
   },
   {
    "duration": 6,
    "start_time": "2022-03-11T18:40:36.330Z"
   },
   {
    "duration": 49,
    "start_time": "2022-03-11T18:40:36.338Z"
   },
   {
    "duration": 4,
    "start_time": "2022-03-11T18:40:36.389Z"
   },
   {
    "duration": 13,
    "start_time": "2022-03-11T18:40:36.395Z"
   },
   {
    "duration": 4,
    "start_time": "2022-03-11T18:40:36.411Z"
   },
   {
    "duration": 14,
    "start_time": "2022-03-11T18:40:36.418Z"
   },
   {
    "duration": 69,
    "start_time": "2022-03-11T18:40:36.435Z"
   },
   {
    "duration": 11,
    "start_time": "2022-03-11T18:40:36.507Z"
   },
   {
    "duration": 17,
    "start_time": "2022-03-11T18:40:36.520Z"
   },
   {
    "duration": 54,
    "start_time": "2022-03-11T18:40:36.540Z"
   },
   {
    "duration": 3,
    "start_time": "2022-03-11T18:40:36.597Z"
   },
   {
    "duration": 17,
    "start_time": "2022-03-11T18:40:36.603Z"
   },
   {
    "duration": 4,
    "start_time": "2022-03-11T18:40:36.622Z"
   },
   {
    "duration": 19,
    "start_time": "2022-03-11T18:40:36.628Z"
   },
   {
    "duration": 55,
    "start_time": "2022-03-11T18:40:36.651Z"
   },
   {
    "duration": 24,
    "start_time": "2022-03-11T18:40:36.708Z"
   },
   {
    "duration": 23,
    "start_time": "2022-03-11T18:40:36.734Z"
   },
   {
    "duration": 6,
    "start_time": "2022-03-11T18:40:36.788Z"
   },
   {
    "duration": 17,
    "start_time": "2022-03-11T18:40:36.797Z"
   },
   {
    "duration": 12,
    "start_time": "2022-03-11T18:40:36.816Z"
   },
   {
    "duration": 1139,
    "start_time": "2022-03-11T18:48:39.995Z"
   },
   {
    "duration": 16,
    "start_time": "2022-03-11T18:48:44.437Z"
   },
   {
    "duration": 14,
    "start_time": "2022-03-11T18:48:45.959Z"
   },
   {
    "duration": 6,
    "start_time": "2022-03-11T18:48:46.486Z"
   },
   {
    "duration": 97,
    "start_time": "2022-03-11T18:48:47.270Z"
   },
   {
    "duration": 5,
    "start_time": "2022-03-11T18:57:27.225Z"
   },
   {
    "duration": 5,
    "start_time": "2022-03-11T18:58:17.240Z"
   },
   {
    "duration": 4,
    "start_time": "2022-03-11T18:59:08.009Z"
   },
   {
    "duration": 5,
    "start_time": "2022-03-11T19:02:05.235Z"
   },
   {
    "duration": 759,
    "start_time": "2022-03-11T19:10:24.735Z"
   },
   {
    "duration": 15,
    "start_time": "2022-03-11T19:10:26.230Z"
   },
   {
    "duration": 12,
    "start_time": "2022-03-11T19:10:28.664Z"
   },
   {
    "duration": 6,
    "start_time": "2022-03-11T19:10:32.369Z"
   },
   {
    "duration": 12,
    "start_time": "2022-03-11T19:10:34.009Z"
   },
   {
    "duration": 6,
    "start_time": "2022-03-11T19:10:34.727Z"
   },
   {
    "duration": 4,
    "start_time": "2022-03-11T19:10:37.233Z"
   },
   {
    "duration": 351,
    "start_time": "2022-03-11T19:10:39.640Z"
   },
   {
    "duration": 565,
    "start_time": "2022-03-11T19:12:01.716Z"
   },
   {
    "duration": 5,
    "start_time": "2022-03-11T19:12:48.121Z"
   },
   {
    "duration": 3,
    "start_time": "2022-03-11T19:12:49.264Z"
   },
   {
    "duration": 537,
    "start_time": "2022-03-11T19:12:49.875Z"
   },
   {
    "duration": 100,
    "start_time": "2022-03-11T19:13:56.832Z"
   },
   {
    "duration": 5,
    "start_time": "2022-03-11T19:14:18.962Z"
   },
   {
    "duration": 3,
    "start_time": "2022-03-11T19:14:20.057Z"
   },
   {
    "duration": 607,
    "start_time": "2022-03-11T19:14:21.062Z"
   },
   {
    "duration": 3,
    "start_time": "2022-03-11T19:16:56.450Z"
   },
   {
    "duration": 557,
    "start_time": "2022-03-11T19:16:57.700Z"
   },
   {
    "duration": 1527,
    "start_time": "2022-03-11T19:18:11.037Z"
   },
   {
    "duration": 1453,
    "start_time": "2022-03-11T19:18:29.582Z"
   },
   {
    "duration": 4,
    "start_time": "2022-03-11T19:19:58.444Z"
   },
   {
    "duration": 3,
    "start_time": "2022-03-11T19:19:59.576Z"
   },
   {
    "duration": 1665,
    "start_time": "2022-03-11T19:19:59.936Z"
   },
   {
    "duration": 85,
    "start_time": "2022-03-11T19:24:43.116Z"
   },
   {
    "duration": 4,
    "start_time": "2022-03-11T19:24:54.521Z"
   },
   {
    "duration": 4,
    "start_time": "2022-03-11T19:25:42.475Z"
   },
   {
    "duration": 12,
    "start_time": "2022-03-11T19:25:45.075Z"
   },
   {
    "duration": 10,
    "start_time": "2022-03-11T19:25:57.431Z"
   },
   {
    "duration": 4,
    "start_time": "2022-03-11T19:26:47.823Z"
   },
   {
    "duration": 9,
    "start_time": "2022-03-11T19:26:48.822Z"
   },
   {
    "duration": 4,
    "start_time": "2022-03-11T19:30:47.445Z"
   },
   {
    "duration": 4,
    "start_time": "2022-03-11T19:31:41.426Z"
   },
   {
    "duration": 45,
    "start_time": "2022-03-11T19:31:42.459Z"
   },
   {
    "duration": 9,
    "start_time": "2022-03-11T19:31:44.141Z"
   },
   {
    "duration": 25,
    "start_time": "2022-03-11T19:32:07.058Z"
   },
   {
    "duration": 834,
    "start_time": "2022-03-11T19:32:48.984Z"
   },
   {
    "duration": 15,
    "start_time": "2022-03-11T19:32:49.821Z"
   },
   {
    "duration": 16,
    "start_time": "2022-03-11T19:32:49.839Z"
   },
   {
    "duration": 30,
    "start_time": "2022-03-11T19:32:49.858Z"
   },
   {
    "duration": 12,
    "start_time": "2022-03-11T19:32:49.891Z"
   },
   {
    "duration": 5,
    "start_time": "2022-03-11T19:32:49.905Z"
   },
   {
    "duration": 81,
    "start_time": "2022-03-11T19:32:49.912Z"
   },
   {
    "duration": 1066807,
    "start_time": "2022-03-11T19:15:03.190Z"
   },
   {
    "duration": 1066806,
    "start_time": "2022-03-11T19:15:03.192Z"
   },
   {
    "duration": 1066805,
    "start_time": "2022-03-11T19:15:03.194Z"
   },
   {
    "duration": 1066806,
    "start_time": "2022-03-11T19:15:03.195Z"
   },
   {
    "duration": 1066794,
    "start_time": "2022-03-11T19:15:03.208Z"
   },
   {
    "duration": 1066794,
    "start_time": "2022-03-11T19:15:03.210Z"
   },
   {
    "duration": 1066793,
    "start_time": "2022-03-11T19:15:03.212Z"
   },
   {
    "duration": 1066793,
    "start_time": "2022-03-11T19:15:03.213Z"
   },
   {
    "duration": 1066785,
    "start_time": "2022-03-11T19:15:03.223Z"
   },
   {
    "duration": 1066785,
    "start_time": "2022-03-11T19:15:03.224Z"
   },
   {
    "duration": 1066785,
    "start_time": "2022-03-11T19:15:03.226Z"
   },
   {
    "duration": 1066780,
    "start_time": "2022-03-11T19:15:03.232Z"
   },
   {
    "duration": 1066781,
    "start_time": "2022-03-11T19:15:03.233Z"
   },
   {
    "duration": 1066776,
    "start_time": "2022-03-11T19:15:03.239Z"
   },
   {
    "duration": 1066734,
    "start_time": "2022-03-11T19:15:03.282Z"
   },
   {
    "duration": 1066729,
    "start_time": "2022-03-11T19:15:03.289Z"
   },
   {
    "duration": 1066729,
    "start_time": "2022-03-11T19:15:03.291Z"
   },
   {
    "duration": 1066728,
    "start_time": "2022-03-11T19:15:03.293Z"
   },
   {
    "duration": 11,
    "start_time": "2022-03-11T19:33:41.747Z"
   },
   {
    "duration": 14,
    "start_time": "2022-03-11T19:33:42.434Z"
   },
   {
    "duration": 16,
    "start_time": "2022-03-11T19:33:48.957Z"
   },
   {
    "duration": 25,
    "start_time": "2022-03-11T19:33:56.203Z"
   },
   {
    "duration": 3,
    "start_time": "2022-03-11T19:34:28.632Z"
   },
   {
    "duration": 52,
    "start_time": "2022-03-11T19:34:33.726Z"
   },
   {
    "duration": 22,
    "start_time": "2022-03-11T19:34:35.039Z"
   },
   {
    "duration": 26,
    "start_time": "2022-03-11T19:34:36.988Z"
   },
   {
    "duration": 803,
    "start_time": "2022-03-11T19:35:26.106Z"
   },
   {
    "duration": 15,
    "start_time": "2022-03-11T19:35:26.912Z"
   },
   {
    "duration": 13,
    "start_time": "2022-03-11T19:35:26.932Z"
   },
   {
    "duration": 5,
    "start_time": "2022-03-11T19:35:26.949Z"
   },
   {
    "duration": 12,
    "start_time": "2022-03-11T19:35:26.988Z"
   },
   {
    "duration": 9,
    "start_time": "2022-03-11T19:35:27.002Z"
   },
   {
    "duration": 81,
    "start_time": "2022-03-11T19:35:27.014Z"
   },
   {
    "duration": 1066878,
    "start_time": "2022-03-11T19:17:40.220Z"
   },
   {
    "duration": 1066868,
    "start_time": "2022-03-11T19:17:40.232Z"
   },
   {
    "duration": 1066867,
    "start_time": "2022-03-11T19:17:40.234Z"
   },
   {
    "duration": 1066864,
    "start_time": "2022-03-11T19:17:40.239Z"
   },
   {
    "duration": 1066864,
    "start_time": "2022-03-11T19:17:40.240Z"
   },
   {
    "duration": 1066865,
    "start_time": "2022-03-11T19:17:40.241Z"
   },
   {
    "duration": 1066864,
    "start_time": "2022-03-11T19:17:40.243Z"
   },
   {
    "duration": 1066864,
    "start_time": "2022-03-11T19:17:40.244Z"
   },
   {
    "duration": 1066857,
    "start_time": "2022-03-11T19:17:40.253Z"
   },
   {
    "duration": 1066852,
    "start_time": "2022-03-11T19:17:40.259Z"
   },
   {
    "duration": 1066852,
    "start_time": "2022-03-11T19:17:40.261Z"
   },
   {
    "duration": 1066851,
    "start_time": "2022-03-11T19:17:40.263Z"
   },
   {
    "duration": 1066851,
    "start_time": "2022-03-11T19:17:40.265Z"
   },
   {
    "duration": 1066852,
    "start_time": "2022-03-11T19:17:40.266Z"
   },
   {
    "duration": 1066851,
    "start_time": "2022-03-11T19:17:40.268Z"
   },
   {
    "duration": 1066852,
    "start_time": "2022-03-11T19:17:40.269Z"
   },
   {
    "duration": 26,
    "start_time": "2022-03-11T19:35:33.445Z"
   },
   {
    "duration": 4,
    "start_time": "2022-03-11T19:36:17.909Z"
   },
   {
    "duration": 2034,
    "start_time": "2022-03-11T19:36:50.834Z"
   },
   {
    "duration": 4,
    "start_time": "2022-03-11T19:37:09.827Z"
   },
   {
    "duration": 56,
    "start_time": "2022-03-11T19:37:11.294Z"
   },
   {
    "duration": 5,
    "start_time": "2022-03-11T19:37:31.673Z"
   },
   {
    "duration": 7180,
    "start_time": "2022-03-11T19:37:32.028Z"
   },
   {
    "duration": 950,
    "start_time": "2022-03-11T19:37:44.878Z"
   },
   {
    "duration": 19,
    "start_time": "2022-03-11T19:37:45.831Z"
   },
   {
    "duration": 34,
    "start_time": "2022-03-11T19:37:45.853Z"
   },
   {
    "duration": 7,
    "start_time": "2022-03-11T19:37:45.891Z"
   },
   {
    "duration": 14,
    "start_time": "2022-03-11T19:37:45.900Z"
   },
   {
    "duration": 6,
    "start_time": "2022-03-11T19:37:45.917Z"
   },
   {
    "duration": 173,
    "start_time": "2022-03-11T19:37:45.925Z"
   },
   {
    "duration": 1066571,
    "start_time": "2022-03-11T19:19:59.532Z"
   },
   {
    "duration": 1066571,
    "start_time": "2022-03-11T19:19:59.534Z"
   },
   {
    "duration": 1066571,
    "start_time": "2022-03-11T19:19:59.535Z"
   },
   {
    "duration": 1066561,
    "start_time": "2022-03-11T19:19:59.546Z"
   },
   {
    "duration": 1066561,
    "start_time": "2022-03-11T19:19:59.548Z"
   },
   {
    "duration": 1066561,
    "start_time": "2022-03-11T19:19:59.550Z"
   },
   {
    "duration": 1066561,
    "start_time": "2022-03-11T19:19:59.551Z"
   },
   {
    "duration": 1066560,
    "start_time": "2022-03-11T19:19:59.553Z"
   },
   {
    "duration": 1066560,
    "start_time": "2022-03-11T19:19:59.555Z"
   },
   {
    "duration": 1066551,
    "start_time": "2022-03-11T19:19:59.565Z"
   },
   {
    "duration": 1066549,
    "start_time": "2022-03-11T19:19:59.568Z"
   },
   {
    "duration": 1066550,
    "start_time": "2022-03-11T19:19:59.569Z"
   },
   {
    "duration": 1066549,
    "start_time": "2022-03-11T19:19:59.571Z"
   },
   {
    "duration": 1066548,
    "start_time": "2022-03-11T19:19:59.573Z"
   },
   {
    "duration": 1066549,
    "start_time": "2022-03-11T19:19:59.574Z"
   },
   {
    "duration": 1066549,
    "start_time": "2022-03-11T19:19:59.576Z"
   },
   {
    "duration": 16,
    "start_time": "2022-03-11T19:37:47.675Z"
   },
   {
    "duration": 5,
    "start_time": "2022-03-11T19:37:48.747Z"
   },
   {
    "duration": 7326,
    "start_time": "2022-03-11T19:37:50.006Z"
   },
   {
    "duration": 3,
    "start_time": "2022-03-11T19:38:12.592Z"
   },
   {
    "duration": 7282,
    "start_time": "2022-03-11T19:38:12.955Z"
   },
   {
    "duration": 7082,
    "start_time": "2022-03-11T19:38:23.896Z"
   },
   {
    "duration": 3,
    "start_time": "2022-03-11T19:40:45.749Z"
   },
   {
    "duration": 802,
    "start_time": "2022-03-11T19:40:50.432Z"
   },
   {
    "duration": 19,
    "start_time": "2022-03-11T19:40:51.237Z"
   },
   {
    "duration": 44,
    "start_time": "2022-03-11T19:40:51.260Z"
   },
   {
    "duration": 8,
    "start_time": "2022-03-11T19:40:51.308Z"
   },
   {
    "duration": 69,
    "start_time": "2022-03-11T19:40:51.318Z"
   },
   {
    "duration": 4,
    "start_time": "2022-03-11T19:40:51.389Z"
   },
   {
    "duration": 93,
    "start_time": "2022-03-11T19:40:51.395Z"
   },
   {
    "duration": 1066615,
    "start_time": "2022-03-11T19:23:04.876Z"
   },
   {
    "duration": 1066607,
    "start_time": "2022-03-11T19:23:04.886Z"
   },
   {
    "duration": 1066606,
    "start_time": "2022-03-11T19:23:04.888Z"
   },
   {
    "duration": 1066604,
    "start_time": "2022-03-11T19:23:04.891Z"
   },
   {
    "duration": 1066604,
    "start_time": "2022-03-11T19:23:04.893Z"
   },
   {
    "duration": 1066604,
    "start_time": "2022-03-11T19:23:04.894Z"
   },
   {
    "duration": 1066603,
    "start_time": "2022-03-11T19:23:04.896Z"
   },
   {
    "duration": 1066602,
    "start_time": "2022-03-11T19:23:04.898Z"
   },
   {
    "duration": 1066589,
    "start_time": "2022-03-11T19:23:04.913Z"
   },
   {
    "duration": 1066589,
    "start_time": "2022-03-11T19:23:04.915Z"
   },
   {
    "duration": 1066589,
    "start_time": "2022-03-11T19:23:04.916Z"
   },
   {
    "duration": 1066588,
    "start_time": "2022-03-11T19:23:04.918Z"
   },
   {
    "duration": 1066590,
    "start_time": "2022-03-11T19:23:04.919Z"
   },
   {
    "duration": 1066590,
    "start_time": "2022-03-11T19:23:04.921Z"
   },
   {
    "duration": 1066589,
    "start_time": "2022-03-11T19:23:04.923Z"
   },
   {
    "duration": 1066589,
    "start_time": "2022-03-11T19:23:04.925Z"
   },
   {
    "duration": 15,
    "start_time": "2022-03-11T19:40:53.353Z"
   },
   {
    "duration": 3,
    "start_time": "2022-03-11T19:40:54.196Z"
   },
   {
    "duration": 668,
    "start_time": "2022-03-11T19:40:55.293Z"
   },
   {
    "duration": 572,
    "start_time": "2022-03-11T19:41:27.056Z"
   },
   {
    "duration": 1101,
    "start_time": "2022-03-11T19:41:43.018Z"
   },
   {
    "duration": 1082,
    "start_time": "2022-03-11T19:41:47.167Z"
   },
   {
    "duration": 1058,
    "start_time": "2022-03-11T19:42:13.817Z"
   },
   {
    "duration": 16,
    "start_time": "2022-03-11T19:42:21.098Z"
   },
   {
    "duration": 15,
    "start_time": "2022-03-11T19:42:27.721Z"
   },
   {
    "duration": 820,
    "start_time": "2022-03-11T19:42:39.114Z"
   },
   {
    "duration": 15,
    "start_time": "2022-03-11T19:42:39.936Z"
   },
   {
    "duration": 14,
    "start_time": "2022-03-11T19:42:39.953Z"
   },
   {
    "duration": 5,
    "start_time": "2022-03-11T19:42:39.988Z"
   },
   {
    "duration": 13,
    "start_time": "2022-03-11T19:42:39.995Z"
   },
   {
    "duration": 3,
    "start_time": "2022-03-11T19:42:40.010Z"
   },
   {
    "duration": 94,
    "start_time": "2022-03-11T19:42:40.016Z"
   },
   {
    "duration": 1066817,
    "start_time": "2022-03-11T19:24:53.297Z"
   },
   {
    "duration": 1066816,
    "start_time": "2022-03-11T19:24:53.299Z"
   },
   {
    "duration": 1066815,
    "start_time": "2022-03-11T19:24:53.301Z"
   },
   {
    "duration": 1066816,
    "start_time": "2022-03-11T19:24:53.302Z"
   },
   {
    "duration": 1066815,
    "start_time": "2022-03-11T19:24:53.304Z"
   },
   {
    "duration": 1066806,
    "start_time": "2022-03-11T19:24:53.315Z"
   },
   {
    "duration": 1066805,
    "start_time": "2022-03-11T19:24:53.317Z"
   },
   {
    "duration": 1066735,
    "start_time": "2022-03-11T19:24:53.388Z"
   },
   {
    "duration": 1066718,
    "start_time": "2022-03-11T19:24:53.407Z"
   },
   {
    "duration": 1066711,
    "start_time": "2022-03-11T19:24:53.415Z"
   },
   {
    "duration": 1066711,
    "start_time": "2022-03-11T19:24:53.417Z"
   },
   {
    "duration": 1066707,
    "start_time": "2022-03-11T19:24:53.422Z"
   },
   {
    "duration": 1066693,
    "start_time": "2022-03-11T19:24:53.438Z"
   },
   {
    "duration": 1066694,
    "start_time": "2022-03-11T19:24:53.439Z"
   },
   {
    "duration": 1066693,
    "start_time": "2022-03-11T19:24:53.442Z"
   },
   {
    "duration": 1066652,
    "start_time": "2022-03-11T19:24:53.484Z"
   },
   {
    "duration": 16,
    "start_time": "2022-03-11T19:42:50.485Z"
   },
   {
    "duration": 3,
    "start_time": "2022-03-11T19:42:52.057Z"
   },
   {
    "duration": 16,
    "start_time": "2022-03-11T19:42:53.000Z"
   },
   {
    "duration": 13,
    "start_time": "2022-03-11T19:43:03.772Z"
   },
   {
    "duration": 10,
    "start_time": "2022-03-11T19:43:05.377Z"
   },
   {
    "duration": 25,
    "start_time": "2022-03-11T19:43:06.325Z"
   },
   {
    "duration": 7,
    "start_time": "2022-03-11T19:43:53.860Z"
   },
   {
    "duration": 11,
    "start_time": "2022-03-11T19:43:58.013Z"
   },
   {
    "duration": 24,
    "start_time": "2022-03-11T19:48:44.593Z"
   },
   {
    "duration": 25,
    "start_time": "2022-03-11T19:48:44.928Z"
   },
   {
    "duration": 25,
    "start_time": "2022-03-11T19:48:45.223Z"
   },
   {
    "duration": 6,
    "start_time": "2022-03-11T19:48:45.675Z"
   },
   {
    "duration": 16,
    "start_time": "2022-03-11T19:48:46.108Z"
   },
   {
    "duration": 9,
    "start_time": "2022-03-11T19:48:46.623Z"
   },
   {
    "duration": 94,
    "start_time": "2022-03-11T19:53:09.058Z"
   },
   {
    "duration": 85,
    "start_time": "2022-03-11T19:53:12.592Z"
   },
   {
    "duration": 89,
    "start_time": "2022-03-11T19:55:29.881Z"
   },
   {
    "duration": 89,
    "start_time": "2022-03-11T19:55:48.123Z"
   },
   {
    "duration": 122,
    "start_time": "2022-03-11T19:55:53.253Z"
   },
   {
    "duration": 121,
    "start_time": "2022-03-11T19:56:07.314Z"
   },
   {
    "duration": 90,
    "start_time": "2022-03-11T19:56:19.161Z"
   },
   {
    "duration": 82,
    "start_time": "2022-03-11T19:56:27.911Z"
   },
   {
    "duration": 108,
    "start_time": "2022-03-11T19:56:36.516Z"
   },
   {
    "duration": 90,
    "start_time": "2022-03-11T19:56:43.584Z"
   },
   {
    "duration": 89,
    "start_time": "2022-03-11T19:56:50.734Z"
   },
   {
    "duration": 95,
    "start_time": "2022-03-11T19:57:02.220Z"
   },
   {
    "duration": 98,
    "start_time": "2022-03-11T19:57:10.836Z"
   },
   {
    "duration": 4,
    "start_time": "2022-03-11T19:57:24.140Z"
   },
   {
    "duration": 5,
    "start_time": "2022-03-11T20:02:27.916Z"
   },
   {
    "duration": 10,
    "start_time": "2022-03-11T20:13:09.361Z"
   },
   {
    "duration": 4,
    "start_time": "2022-03-11T20:14:47.412Z"
   },
   {
    "duration": 366,
    "start_time": "2022-03-11T20:15:06.345Z"
   },
   {
    "duration": 4,
    "start_time": "2022-03-11T20:15:17.030Z"
   },
   {
    "duration": 4,
    "start_time": "2022-03-11T20:15:17.461Z"
   },
   {
    "duration": 12,
    "start_time": "2022-03-11T20:15:17.875Z"
   },
   {
    "duration": 5,
    "start_time": "2022-03-11T20:16:22.413Z"
   },
   {
    "duration": 6,
    "start_time": "2022-03-11T20:17:17.594Z"
   },
   {
    "duration": 1128,
    "start_time": "2022-03-11T20:18:25.772Z"
   },
   {
    "duration": 270,
    "start_time": "2022-03-11T20:18:46.972Z"
   },
   {
    "duration": 291,
    "start_time": "2022-03-11T20:18:57.390Z"
   },
   {
    "duration": 4,
    "start_time": "2022-03-11T20:19:25.186Z"
   },
   {
    "duration": 1354,
    "start_time": "2022-03-11T20:19:26.306Z"
   },
   {
    "duration": 1097,
    "start_time": "2022-03-11T20:19:43.120Z"
   },
   {
    "duration": 1598,
    "start_time": "2022-03-11T20:19:50.100Z"
   },
   {
    "duration": 4,
    "start_time": "2022-03-11T20:19:57.026Z"
   },
   {
    "duration": 1384,
    "start_time": "2022-03-11T20:19:57.502Z"
   },
   {
    "duration": 4,
    "start_time": "2022-03-11T20:20:12.172Z"
   },
   {
    "duration": 1398,
    "start_time": "2022-03-11T20:20:13.464Z"
   },
   {
    "duration": 4,
    "start_time": "2022-03-11T20:20:32.828Z"
   },
   {
    "duration": 1894,
    "start_time": "2022-03-11T20:20:34.204Z"
   },
   {
    "duration": 317,
    "start_time": "2022-03-11T20:28:57.976Z"
   },
   {
    "duration": 31,
    "start_time": "2022-03-11T20:29:16.307Z"
   },
   {
    "duration": 33,
    "start_time": "2022-03-11T20:29:31.589Z"
   },
   {
    "duration": 68,
    "start_time": "2022-03-11T20:31:04.861Z"
   },
   {
    "duration": 12,
    "start_time": "2022-03-11T20:31:11.052Z"
   },
   {
    "duration": 12,
    "start_time": "2022-03-11T20:32:55.511Z"
   },
   {
    "duration": 105,
    "start_time": "2022-03-11T20:37:44.709Z"
   },
   {
    "duration": 4,
    "start_time": "2022-03-11T20:37:55.113Z"
   },
   {
    "duration": 4,
    "start_time": "2022-03-11T20:38:02.008Z"
   },
   {
    "duration": 84,
    "start_time": "2022-03-11T20:38:07.253Z"
   },
   {
    "duration": 3,
    "start_time": "2022-03-11T20:38:13.383Z"
   },
   {
    "duration": 810,
    "start_time": "2022-03-11T20:38:22.011Z"
   },
   {
    "duration": 15,
    "start_time": "2022-03-11T20:38:22.824Z"
   },
   {
    "duration": 41,
    "start_time": "2022-03-11T20:38:22.846Z"
   },
   {
    "duration": 6,
    "start_time": "2022-03-11T20:38:22.889Z"
   },
   {
    "duration": 17,
    "start_time": "2022-03-11T20:38:22.897Z"
   },
   {
    "duration": 4,
    "start_time": "2022-03-11T20:38:22.917Z"
   },
   {
    "duration": 4,
    "start_time": "2022-03-11T20:38:22.927Z"
   },
   {
    "duration": 54,
    "start_time": "2022-03-11T20:38:22.935Z"
   },
   {
    "duration": 5,
    "start_time": "2022-03-11T20:38:22.992Z"
   },
   {
    "duration": 15,
    "start_time": "2022-03-11T20:38:23.000Z"
   },
   {
    "duration": 12,
    "start_time": "2022-03-11T20:38:23.018Z"
   },
   {
    "duration": 61,
    "start_time": "2022-03-11T20:38:23.033Z"
   },
   {
    "duration": 17,
    "start_time": "2022-03-11T20:38:23.097Z"
   },
   {
    "duration": 5,
    "start_time": "2022-03-11T20:38:23.117Z"
   },
   {
    "duration": 20,
    "start_time": "2022-03-11T20:38:23.125Z"
   },
   {
    "duration": 42,
    "start_time": "2022-03-11T20:38:23.148Z"
   },
   {
    "duration": 375,
    "start_time": "2022-03-11T20:38:23.192Z"
   },
   {
    "duration": -4,
    "start_time": "2022-03-11T20:38:23.575Z"
   },
   {
    "duration": -5,
    "start_time": "2022-03-11T20:38:23.577Z"
   },
   {
    "duration": -6,
    "start_time": "2022-03-11T20:38:23.579Z"
   },
   {
    "duration": -6,
    "start_time": "2022-03-11T20:38:23.581Z"
   },
   {
    "duration": -7,
    "start_time": "2022-03-11T20:38:23.583Z"
   },
   {
    "duration": -7,
    "start_time": "2022-03-11T20:38:23.585Z"
   },
   {
    "duration": -7,
    "start_time": "2022-03-11T20:38:23.586Z"
   },
   {
    "duration": 3,
    "start_time": "2022-03-11T20:38:32.068Z"
   },
   {
    "duration": 1402,
    "start_time": "2022-03-11T20:39:03.762Z"
   },
   {
    "duration": 4,
    "start_time": "2022-03-11T20:39:22.541Z"
   },
   {
    "duration": 1377,
    "start_time": "2022-03-11T20:39:23.124Z"
   },
   {
    "duration": 3,
    "start_time": "2022-03-11T20:40:00.392Z"
   },
   {
    "duration": 4,
    "start_time": "2022-03-11T20:40:02.168Z"
   },
   {
    "duration": 1392,
    "start_time": "2022-03-11T20:40:02.974Z"
   },
   {
    "duration": 4,
    "start_time": "2022-03-11T20:40:07.199Z"
   },
   {
    "duration": 272,
    "start_time": "2022-03-11T20:40:22.121Z"
   },
   {
    "duration": 1629,
    "start_time": "2022-03-11T20:40:29.476Z"
   },
   {
    "duration": 3,
    "start_time": "2022-03-11T20:41:00.519Z"
   },
   {
    "duration": 1625,
    "start_time": "2022-03-11T20:41:01.346Z"
   },
   {
    "duration": 281,
    "start_time": "2022-03-11T20:41:06.767Z"
   },
   {
    "duration": 7,
    "start_time": "2022-03-11T20:41:17.364Z"
   },
   {
    "duration": 8,
    "start_time": "2022-03-11T20:41:20.775Z"
   },
   {
    "duration": 323,
    "start_time": "2022-03-11T20:41:40.805Z"
   },
   {
    "duration": 474,
    "start_time": "2022-03-11T20:41:44.842Z"
   },
   {
    "duration": 3931,
    "start_time": "2022-03-11T20:41:54.857Z"
   },
   {
    "duration": 472,
    "start_time": "2022-03-11T20:42:05.749Z"
   },
   {
    "duration": 3,
    "start_time": "2022-03-11T20:48:48.198Z"
   },
   {
    "duration": 4,
    "start_time": "2022-03-11T20:48:53.311Z"
   },
   {
    "duration": 1423,
    "start_time": "2022-03-11T20:48:53.701Z"
   },
   {
    "duration": 3,
    "start_time": "2022-03-11T20:49:32.327Z"
   },
   {
    "duration": 11,
    "start_time": "2022-03-11T20:49:32.775Z"
   },
   {
    "duration": 12,
    "start_time": "2022-03-11T20:49:35.927Z"
   },
   {
    "duration": 4,
    "start_time": "2022-03-11T20:49:36.421Z"
   },
   {
    "duration": 10,
    "start_time": "2022-03-11T20:49:36.837Z"
   },
   {
    "duration": 13,
    "start_time": "2022-03-11T20:49:38.650Z"
   },
   {
    "duration": 9,
    "start_time": "2022-03-11T20:53:08.936Z"
   },
   {
    "duration": 9,
    "start_time": "2022-03-11T20:53:10.303Z"
   },
   {
    "duration": 5,
    "start_time": "2022-03-11T20:55:39.519Z"
   },
   {
    "duration": 6,
    "start_time": "2022-03-11T20:55:41.532Z"
   },
   {
    "duration": 30,
    "start_time": "2022-03-11T20:56:02.011Z"
   },
   {
    "duration": 49,
    "start_time": "2022-03-11T20:56:11.498Z"
   },
   {
    "duration": 46,
    "start_time": "2022-03-11T20:56:40.116Z"
   },
   {
    "duration": 13,
    "start_time": "2022-03-11T20:56:40.435Z"
   },
   {
    "duration": 31,
    "start_time": "2022-03-11T20:57:38.621Z"
   },
   {
    "duration": 281,
    "start_time": "2022-03-11T20:58:27.636Z"
   },
   {
    "duration": 5,
    "start_time": "2022-03-11T20:58:40.321Z"
   },
   {
    "duration": 32,
    "start_time": "2022-03-11T20:58:40.713Z"
   },
   {
    "duration": 44,
    "start_time": "2022-03-11T20:58:41.049Z"
   },
   {
    "duration": 30,
    "start_time": "2022-03-11T20:58:41.426Z"
   },
   {
    "duration": 381,
    "start_time": "2022-03-11T20:58:42.622Z"
   },
   {
    "duration": 12,
    "start_time": "2022-03-11T20:58:58.516Z"
   },
   {
    "duration": 5,
    "start_time": "2022-03-11T20:59:42.025Z"
   },
   {
    "duration": 29,
    "start_time": "2022-03-11T20:59:42.426Z"
   },
   {
    "duration": 43,
    "start_time": "2022-03-11T20:59:42.838Z"
   },
   {
    "duration": 29,
    "start_time": "2022-03-11T20:59:43.441Z"
   },
   {
    "duration": 280,
    "start_time": "2022-03-11T20:59:43.970Z"
   },
   {
    "duration": 338,
    "start_time": "2022-03-11T21:00:23.581Z"
   },
   {
    "duration": 280,
    "start_time": "2022-03-11T21:00:28.842Z"
   },
   {
    "duration": -3,
    "start_time": "2022-03-11T21:00:29.127Z"
   },
   {
    "duration": 14,
    "start_time": "2022-03-11T21:00:32.840Z"
   },
   {
    "duration": 30,
    "start_time": "2022-03-11T21:00:49.920Z"
   },
   {
    "duration": 262,
    "start_time": "2022-03-11T21:00:57.952Z"
   },
   {
    "duration": 31,
    "start_time": "2022-03-11T21:01:52.575Z"
   },
   {
    "duration": 33,
    "start_time": "2022-03-11T21:02:10.245Z"
   },
   {
    "duration": 29,
    "start_time": "2022-03-11T21:02:13.447Z"
   },
   {
    "duration": 40,
    "start_time": "2022-03-11T21:02:14.477Z"
   },
   {
    "duration": 13,
    "start_time": "2022-03-11T21:02:16.012Z"
   },
   {
    "duration": 10,
    "start_time": "2022-03-11T21:02:24.305Z"
   },
   {
    "duration": 15,
    "start_time": "2022-03-11T21:02:38.586Z"
   },
   {
    "duration": 14,
    "start_time": "2022-03-11T21:02:43.210Z"
   },
   {
    "duration": 818,
    "start_time": "2022-03-11T21:02:50.896Z"
   },
   {
    "duration": 15,
    "start_time": "2022-03-11T21:02:51.718Z"
   },
   {
    "duration": 15,
    "start_time": "2022-03-11T21:02:51.736Z"
   },
   {
    "duration": 38,
    "start_time": "2022-03-11T21:02:51.754Z"
   },
   {
    "duration": 9,
    "start_time": "2022-03-11T21:02:51.795Z"
   },
   {
    "duration": 30,
    "start_time": "2022-03-11T21:02:51.806Z"
   },
   {
    "duration": 63,
    "start_time": "2022-03-11T21:02:51.839Z"
   },
   {
    "duration": 30,
    "start_time": "2022-03-11T21:02:51.905Z"
   },
   {
    "duration": 58,
    "start_time": "2022-03-11T21:02:51.937Z"
   },
   {
    "duration": 13,
    "start_time": "2022-03-11T21:02:51.998Z"
   },
   {
    "duration": 16,
    "start_time": "2022-03-11T21:02:52.014Z"
   },
   {
    "duration": 9,
    "start_time": "2022-03-11T21:02:52.032Z"
   },
   {
    "duration": 17,
    "start_time": "2022-03-11T21:02:52.043Z"
   },
   {
    "duration": 5,
    "start_time": "2022-03-11T21:02:52.088Z"
   },
   {
    "duration": 24,
    "start_time": "2022-03-11T21:02:52.096Z"
   },
   {
    "duration": 21,
    "start_time": "2022-03-11T21:02:52.123Z"
   },
   {
    "duration": 55,
    "start_time": "2022-03-11T21:02:52.147Z"
   },
   {
    "duration": 24,
    "start_time": "2022-03-11T21:02:52.204Z"
   },
   {
    "duration": 7,
    "start_time": "2022-03-11T21:02:52.230Z"
   },
   {
    "duration": 16,
    "start_time": "2022-03-11T21:02:52.239Z"
   },
   {
    "duration": 9,
    "start_time": "2022-03-11T21:02:52.287Z"
   },
   {
    "duration": 48,
    "start_time": "2022-03-11T21:06:00.048Z"
   },
   {
    "duration": 18,
    "start_time": "2022-03-11T21:06:00.493Z"
   },
   {
    "duration": 9,
    "start_time": "2022-03-11T21:06:29.222Z"
   },
   {
    "duration": 8,
    "start_time": "2022-03-11T21:06:37.088Z"
   },
   {
    "duration": 14,
    "start_time": "2022-03-11T21:06:57.022Z"
   },
   {
    "duration": 374,
    "start_time": "2022-03-11T21:09:55.475Z"
   },
   {
    "duration": 290,
    "start_time": "2022-03-11T21:10:09.946Z"
   },
   {
    "duration": 6,
    "start_time": "2022-03-11T21:10:14.635Z"
   },
   {
    "duration": 12,
    "start_time": "2022-03-11T21:10:25.492Z"
   },
   {
    "duration": 12,
    "start_time": "2022-03-11T21:11:24.929Z"
   },
   {
    "duration": 13,
    "start_time": "2022-03-11T21:11:33.314Z"
   },
   {
    "duration": 9,
    "start_time": "2022-03-11T21:14:27.255Z"
   },
   {
    "duration": 8,
    "start_time": "2022-03-11T21:15:09.851Z"
   },
   {
    "duration": 8,
    "start_time": "2022-03-11T21:15:31.536Z"
   },
   {
    "duration": 12,
    "start_time": "2022-03-11T21:15:37.418Z"
   },
   {
    "duration": 16,
    "start_time": "2022-03-11T21:16:00.212Z"
   },
   {
    "duration": 14,
    "start_time": "2022-03-11T21:16:00.868Z"
   },
   {
    "duration": 15,
    "start_time": "2022-03-11T21:16:19.746Z"
   },
   {
    "duration": 16,
    "start_time": "2022-03-11T21:16:23.289Z"
   },
   {
    "duration": 16,
    "start_time": "2022-03-11T21:16:27.138Z"
   },
   {
    "duration": 17,
    "start_time": "2022-03-11T21:16:27.636Z"
   },
   {
    "duration": 293,
    "start_time": "2022-03-11T21:23:23.822Z"
   },
   {
    "duration": 253,
    "start_time": "2022-03-11T21:23:29.738Z"
   },
   {
    "duration": 311,
    "start_time": "2022-03-11T21:25:46.995Z"
   },
   {
    "duration": 263,
    "start_time": "2022-03-11T21:41:01.992Z"
   },
   {
    "duration": 267,
    "start_time": "2022-03-11T21:41:06.257Z"
   },
   {
    "duration": 820,
    "start_time": "2022-03-11T21:42:56.591Z"
   },
   {
    "duration": 17,
    "start_time": "2022-03-11T21:42:57.415Z"
   },
   {
    "duration": 13,
    "start_time": "2022-03-11T21:42:57.436Z"
   },
   {
    "duration": 34,
    "start_time": "2022-03-11T21:42:57.453Z"
   },
   {
    "duration": 7,
    "start_time": "2022-03-11T21:42:57.490Z"
   },
   {
    "duration": 32,
    "start_time": "2022-03-11T21:42:57.500Z"
   },
   {
    "duration": 83,
    "start_time": "2022-03-11T21:42:57.535Z"
   },
   {
    "duration": 30,
    "start_time": "2022-03-11T21:42:57.623Z"
   },
   {
    "duration": 61,
    "start_time": "2022-03-11T21:42:57.656Z"
   },
   {
    "duration": 14,
    "start_time": "2022-03-11T21:42:57.719Z"
   },
   {
    "duration": 18,
    "start_time": "2022-03-11T21:42:57.736Z"
   },
   {
    "duration": 31,
    "start_time": "2022-03-11T21:42:57.757Z"
   },
   {
    "duration": 9,
    "start_time": "2022-03-11T21:42:57.790Z"
   },
   {
    "duration": 6,
    "start_time": "2022-03-11T21:42:57.801Z"
   },
   {
    "duration": 17,
    "start_time": "2022-03-11T21:42:57.810Z"
   },
   {
    "duration": 60,
    "start_time": "2022-03-11T21:42:57.829Z"
   },
   {
    "duration": 26,
    "start_time": "2022-03-11T21:42:57.891Z"
   },
   {
    "duration": 23,
    "start_time": "2022-03-11T21:42:57.919Z"
   },
   {
    "duration": 43,
    "start_time": "2022-03-11T21:42:57.944Z"
   },
   {
    "duration": 17,
    "start_time": "2022-03-11T21:42:57.989Z"
   },
   {
    "duration": 12,
    "start_time": "2022-03-11T21:42:58.008Z"
   },
   {
    "duration": 19,
    "start_time": "2022-03-11T21:42:58.022Z"
   },
   {
    "duration": 42,
    "start_time": "2022-03-11T21:42:58.046Z"
   },
   {
    "duration": 7,
    "start_time": "2022-03-11T21:42:58.091Z"
   },
   {
    "duration": 32,
    "start_time": "2022-03-11T21:43:07.215Z"
   },
   {
    "duration": 7,
    "start_time": "2022-03-11T21:43:15.273Z"
   },
   {
    "duration": 29,
    "start_time": "2022-03-11T21:43:22.131Z"
   },
   {
    "duration": 19,
    "start_time": "2022-03-11T21:43:26.450Z"
   },
   {
    "duration": 5,
    "start_time": "2022-03-11T21:47:58.637Z"
   },
   {
    "duration": 1396,
    "start_time": "2022-03-11T21:48:06.593Z"
   },
   {
    "duration": 1128,
    "start_time": "2022-03-11T21:48:37.517Z"
   },
   {
    "duration": 1326,
    "start_time": "2022-03-11T21:48:46.614Z"
   },
   {
    "duration": 6921,
    "start_time": "2022-03-11T21:49:05.043Z"
   },
   {
    "duration": 3842,
    "start_time": "2022-03-11T21:49:26.648Z"
   },
   {
    "duration": 1244,
    "start_time": "2022-03-11T21:49:56.655Z"
   },
   {
    "duration": 833,
    "start_time": "2022-03-11T21:50:02.289Z"
   },
   {
    "duration": 15,
    "start_time": "2022-03-11T21:50:03.125Z"
   },
   {
    "duration": 12,
    "start_time": "2022-03-11T21:50:03.143Z"
   },
   {
    "duration": 35,
    "start_time": "2022-03-11T21:50:03.157Z"
   },
   {
    "duration": 11,
    "start_time": "2022-03-11T21:50:03.194Z"
   },
   {
    "duration": 30,
    "start_time": "2022-03-11T21:50:03.207Z"
   },
   {
    "duration": 60,
    "start_time": "2022-03-11T21:50:03.240Z"
   },
   {
    "duration": 30,
    "start_time": "2022-03-11T21:50:03.303Z"
   },
   {
    "duration": 58,
    "start_time": "2022-03-11T21:50:03.336Z"
   },
   {
    "duration": 14,
    "start_time": "2022-03-11T21:50:03.397Z"
   },
   {
    "duration": 25,
    "start_time": "2022-03-11T21:50:03.413Z"
   },
   {
    "duration": 10,
    "start_time": "2022-03-11T21:50:03.440Z"
   },
   {
    "duration": 12,
    "start_time": "2022-03-11T21:50:03.452Z"
   },
   {
    "duration": 4,
    "start_time": "2022-03-11T21:50:03.488Z"
   },
   {
    "duration": 19,
    "start_time": "2022-03-11T21:50:03.494Z"
   },
   {
    "duration": 23,
    "start_time": "2022-03-11T21:50:03.515Z"
   },
   {
    "duration": 54,
    "start_time": "2022-03-11T21:50:03.540Z"
   },
   {
    "duration": 23,
    "start_time": "2022-03-11T21:50:03.596Z"
   },
   {
    "duration": 9,
    "start_time": "2022-03-11T21:50:03.622Z"
   },
   {
    "duration": 31,
    "start_time": "2022-03-11T21:50:03.634Z"
   },
   {
    "duration": 27,
    "start_time": "2022-03-11T21:50:03.667Z"
   },
   {
    "duration": 16,
    "start_time": "2022-03-11T21:50:03.697Z"
   },
   {
    "duration": 19,
    "start_time": "2022-03-11T21:50:03.718Z"
   },
   {
    "duration": 60,
    "start_time": "2022-03-11T21:50:03.739Z"
   },
   {
    "duration": 5,
    "start_time": "2022-03-11T21:50:03.802Z"
   },
   {
    "duration": 1442,
    "start_time": "2022-03-11T21:50:03.809Z"
   },
   {
    "duration": 5,
    "start_time": "2022-03-11T21:51:58.223Z"
   },
   {
    "duration": 28,
    "start_time": "2022-03-11T21:51:59.015Z"
   },
   {
    "duration": 8,
    "start_time": "2022-03-11T21:55:01.683Z"
   },
   {
    "duration": 27,
    "start_time": "2022-03-11T21:56:30.148Z"
   },
   {
    "duration": 338,
    "start_time": "2022-03-11T21:56:36.099Z"
   },
   {
    "duration": 24,
    "start_time": "2022-03-11T21:56:38.503Z"
   },
   {
    "duration": 22,
    "start_time": "2022-03-11T21:57:16.225Z"
   },
   {
    "duration": 286,
    "start_time": "2022-03-11T21:57:22.655Z"
   },
   {
    "duration": 22,
    "start_time": "2022-03-11T21:57:26.168Z"
   },
   {
    "duration": 36,
    "start_time": "2022-03-11T21:57:34.604Z"
   },
   {
    "duration": 4,
    "start_time": "2022-03-11T21:57:58.929Z"
   },
   {
    "duration": 25,
    "start_time": "2022-03-11T21:58:00.989Z"
   },
   {
    "duration": 23,
    "start_time": "2022-03-11T21:58:11.754Z"
   },
   {
    "duration": 29,
    "start_time": "2022-03-11T21:58:20.365Z"
   },
   {
    "duration": 4,
    "start_time": "2022-03-11T22:00:20.828Z"
   },
   {
    "duration": 28,
    "start_time": "2022-03-11T22:01:20.244Z"
   },
   {
    "duration": 4,
    "start_time": "2022-03-11T22:01:33.307Z"
   },
   {
    "duration": 32,
    "start_time": "2022-03-11T22:01:33.645Z"
   },
   {
    "duration": 4,
    "start_time": "2022-03-11T22:02:08.603Z"
   },
   {
    "duration": 805,
    "start_time": "2022-03-11T22:02:13.824Z"
   },
   {
    "duration": 15,
    "start_time": "2022-03-11T22:02:14.632Z"
   },
   {
    "duration": 37,
    "start_time": "2022-03-11T22:02:14.650Z"
   },
   {
    "duration": 5,
    "start_time": "2022-03-11T22:02:14.689Z"
   },
   {
    "duration": 15,
    "start_time": "2022-03-11T22:02:14.697Z"
   },
   {
    "duration": 35,
    "start_time": "2022-03-11T22:02:14.715Z"
   },
   {
    "duration": 56,
    "start_time": "2022-03-11T22:02:14.752Z"
   },
   {
    "duration": 29,
    "start_time": "2022-03-11T22:02:14.812Z"
   },
   {
    "duration": 62,
    "start_time": "2022-03-11T22:02:14.844Z"
   },
   {
    "duration": 14,
    "start_time": "2022-03-11T22:02:14.909Z"
   },
   {
    "duration": 37,
    "start_time": "2022-03-11T22:02:14.926Z"
   },
   {
    "duration": 10,
    "start_time": "2022-03-11T22:02:14.966Z"
   },
   {
    "duration": 19,
    "start_time": "2022-03-11T22:02:14.978Z"
   },
   {
    "duration": 27,
    "start_time": "2022-03-11T22:02:14.999Z"
   },
   {
    "duration": 29,
    "start_time": "2022-03-11T22:02:15.029Z"
   },
   {
    "duration": 28,
    "start_time": "2022-03-11T22:02:15.060Z"
   },
   {
    "duration": 27,
    "start_time": "2022-03-11T22:02:15.091Z"
   },
   {
    "duration": 25,
    "start_time": "2022-03-11T22:02:15.121Z"
   },
   {
    "duration": 39,
    "start_time": "2022-03-11T22:02:15.149Z"
   },
   {
    "duration": 33,
    "start_time": "2022-03-11T22:02:15.192Z"
   },
   {
    "duration": 16,
    "start_time": "2022-03-11T22:02:15.228Z"
   },
   {
    "duration": 21,
    "start_time": "2022-03-11T22:02:15.246Z"
   },
   {
    "duration": 25,
    "start_time": "2022-03-11T22:02:15.271Z"
   },
   {
    "duration": 21,
    "start_time": "2022-03-11T22:02:15.299Z"
   },
   {
    "duration": 9,
    "start_time": "2022-03-11T22:02:15.323Z"
   },
   {
    "duration": 53,
    "start_time": "2022-03-11T22:02:15.334Z"
   },
   {
    "duration": 10,
    "start_time": "2022-03-11T22:02:15.390Z"
   },
   {
    "duration": 19,
    "start_time": "2022-03-11T22:02:15.403Z"
   },
   {
    "duration": 39,
    "start_time": "2022-03-11T22:02:15.424Z"
   },
   {
    "duration": 4,
    "start_time": "2022-03-11T22:03:29.012Z"
   },
   {
    "duration": 1484,
    "start_time": "2022-03-11T22:03:29.875Z"
   },
   {
    "duration": 430,
    "start_time": "2022-03-11T22:04:21.109Z"
   },
   {
    "duration": 4,
    "start_time": "2022-03-11T22:04:38.565Z"
   },
   {
    "duration": 575,
    "start_time": "2022-03-11T22:04:40.431Z"
   },
   {
    "duration": 4,
    "start_time": "2022-03-11T22:06:42.269Z"
   },
   {
    "duration": 4,
    "start_time": "2022-03-11T22:06:44.419Z"
   },
   {
    "duration": 29,
    "start_time": "2022-03-11T22:06:44.850Z"
   },
   {
    "duration": 15,
    "start_time": "2022-03-11T22:06:58.170Z"
   },
   {
    "duration": 4,
    "start_time": "2022-03-11T22:07:59.692Z"
   },
   {
    "duration": 22,
    "start_time": "2022-03-11T22:08:03.558Z"
   },
   {
    "duration": 8,
    "start_time": "2022-03-11T22:08:51.455Z"
   },
   {
    "duration": 6,
    "start_time": "2022-03-11T22:08:57.994Z"
   },
   {
    "duration": 15,
    "start_time": "2022-03-11T22:08:58.620Z"
   },
   {
    "duration": 28,
    "start_time": "2022-03-11T22:09:11.083Z"
   },
   {
    "duration": 5,
    "start_time": "2022-03-11T22:09:24.912Z"
   },
   {
    "duration": 27,
    "start_time": "2022-03-11T22:09:25.352Z"
   },
   {
    "duration": 5,
    "start_time": "2022-03-11T22:11:22.864Z"
   },
   {
    "duration": 26,
    "start_time": "2022-03-11T22:11:23.248Z"
   },
   {
    "duration": 4,
    "start_time": "2022-03-11T22:11:28.793Z"
   },
   {
    "duration": 5,
    "start_time": "2022-03-11T22:11:41.683Z"
   },
   {
    "duration": 25,
    "start_time": "2022-03-11T22:11:42.507Z"
   },
   {
    "duration": 4,
    "start_time": "2022-03-11T22:12:19.929Z"
   },
   {
    "duration": 26,
    "start_time": "2022-03-11T22:12:20.590Z"
   },
   {
    "duration": 8,
    "start_time": "2022-03-11T22:12:47.661Z"
   },
   {
    "duration": 7,
    "start_time": "2022-03-11T22:13:44.598Z"
   },
   {
    "duration": 7,
    "start_time": "2022-03-11T22:13:47.635Z"
   },
   {
    "duration": 847,
    "start_time": "2022-03-11T22:13:52.843Z"
   },
   {
    "duration": 16,
    "start_time": "2022-03-11T22:13:53.693Z"
   },
   {
    "duration": 14,
    "start_time": "2022-03-11T22:13:53.713Z"
   },
   {
    "duration": 7,
    "start_time": "2022-03-11T22:13:53.731Z"
   },
   {
    "duration": 46,
    "start_time": "2022-03-11T22:13:53.741Z"
   },
   {
    "duration": 33,
    "start_time": "2022-03-11T22:13:53.790Z"
   },
   {
    "duration": 70,
    "start_time": "2022-03-11T22:13:53.826Z"
   },
   {
    "duration": 31,
    "start_time": "2022-03-11T22:13:53.900Z"
   },
   {
    "duration": 63,
    "start_time": "2022-03-11T22:13:53.934Z"
   },
   {
    "duration": 14,
    "start_time": "2022-03-11T22:13:54.000Z"
   },
   {
    "duration": 18,
    "start_time": "2022-03-11T22:13:54.017Z"
   },
   {
    "duration": 9,
    "start_time": "2022-03-11T22:13:54.037Z"
   },
   {
    "duration": 40,
    "start_time": "2022-03-11T22:13:54.048Z"
   },
   {
    "duration": 7,
    "start_time": "2022-03-11T22:13:54.091Z"
   },
   {
    "duration": 19,
    "start_time": "2022-03-11T22:13:54.100Z"
   },
   {
    "duration": 24,
    "start_time": "2022-03-11T22:13:54.121Z"
   },
   {
    "duration": 57,
    "start_time": "2022-03-11T22:13:54.148Z"
   },
   {
    "duration": 23,
    "start_time": "2022-03-11T22:13:54.207Z"
   },
   {
    "duration": 6,
    "start_time": "2022-03-11T22:13:54.232Z"
   },
   {
    "duration": 20,
    "start_time": "2022-03-11T22:13:54.240Z"
   },
   {
    "duration": 29,
    "start_time": "2022-03-11T22:13:54.262Z"
   },
   {
    "duration": 16,
    "start_time": "2022-03-11T22:13:54.293Z"
   },
   {
    "duration": 15,
    "start_time": "2022-03-11T22:13:54.313Z"
   },
   {
    "duration": 58,
    "start_time": "2022-03-11T22:13:54.330Z"
   },
   {
    "duration": 6,
    "start_time": "2022-03-11T22:13:54.391Z"
   },
   {
    "duration": 37,
    "start_time": "2022-03-11T22:13:54.399Z"
   },
   {
    "duration": 10,
    "start_time": "2022-03-11T22:13:54.438Z"
   },
   {
    "duration": 9,
    "start_time": "2022-03-11T22:13:54.450Z"
   },
   {
    "duration": 27,
    "start_time": "2022-03-11T22:13:54.461Z"
   },
   {
    "duration": 30,
    "start_time": "2022-03-11T22:13:54.491Z"
   },
   {
    "duration": 6,
    "start_time": "2022-03-11T22:13:54.523Z"
   },
   {
    "duration": 7,
    "start_time": "2022-03-11T22:14:35.105Z"
   },
   {
    "duration": 88,
    "start_time": "2022-03-11T22:17:57.936Z"
   },
   {
    "duration": 18,
    "start_time": "2022-03-11T22:20:32.921Z"
   },
   {
    "duration": 104,
    "start_time": "2022-03-11T22:21:23.928Z"
   },
   {
    "duration": 6,
    "start_time": "2022-03-11T22:21:53.621Z"
   },
   {
    "duration": 111,
    "start_time": "2022-03-11T22:28:49.154Z"
   },
   {
    "duration": 839,
    "start_time": "2022-03-11T22:31:50.873Z"
   },
   {
    "duration": 15,
    "start_time": "2022-03-11T22:31:51.715Z"
   },
   {
    "duration": 12,
    "start_time": "2022-03-11T22:31:51.733Z"
   },
   {
    "duration": 5,
    "start_time": "2022-03-11T22:31:51.748Z"
   },
   {
    "duration": 6,
    "start_time": "2022-03-11T22:31:51.787Z"
   },
   {
    "duration": 31,
    "start_time": "2022-03-11T22:31:51.795Z"
   },
   {
    "duration": 61,
    "start_time": "2022-03-11T22:31:51.830Z"
   },
   {
    "duration": 31,
    "start_time": "2022-03-11T22:31:51.894Z"
   },
   {
    "duration": 65,
    "start_time": "2022-03-11T22:31:51.927Z"
   },
   {
    "duration": 14,
    "start_time": "2022-03-11T22:31:51.994Z"
   },
   {
    "duration": 15,
    "start_time": "2022-03-11T22:31:52.010Z"
   },
   {
    "duration": 9,
    "start_time": "2022-03-11T22:31:52.027Z"
   },
   {
    "duration": 11,
    "start_time": "2022-03-11T22:31:52.039Z"
   },
   {
    "duration": 37,
    "start_time": "2022-03-11T22:31:52.052Z"
   },
   {
    "duration": 17,
    "start_time": "2022-03-11T22:31:52.091Z"
   },
   {
    "duration": 23,
    "start_time": "2022-03-11T22:31:52.110Z"
   },
   {
    "duration": 58,
    "start_time": "2022-03-11T22:31:52.135Z"
   },
   {
    "duration": 31,
    "start_time": "2022-03-11T22:31:52.196Z"
   },
   {
    "duration": 8,
    "start_time": "2022-03-11T22:31:52.230Z"
   },
   {
    "duration": 46,
    "start_time": "2022-03-11T22:31:52.241Z"
   },
   {
    "duration": 12,
    "start_time": "2022-03-11T22:31:52.290Z"
   },
   {
    "duration": 15,
    "start_time": "2022-03-11T22:31:52.306Z"
   },
   {
    "duration": 15,
    "start_time": "2022-03-11T22:31:52.324Z"
   },
   {
    "duration": 51,
    "start_time": "2022-03-11T22:31:52.341Z"
   },
   {
    "duration": 5,
    "start_time": "2022-03-11T22:31:52.394Z"
   },
   {
    "duration": 32,
    "start_time": "2022-03-11T22:31:52.401Z"
   },
   {
    "duration": 6,
    "start_time": "2022-03-11T22:31:52.436Z"
   },
   {
    "duration": 10,
    "start_time": "2022-03-11T22:31:52.444Z"
   },
   {
    "duration": 5,
    "start_time": "2022-03-11T22:31:52.488Z"
   },
   {
    "duration": 35,
    "start_time": "2022-03-11T22:31:52.496Z"
   },
   {
    "duration": 6,
    "start_time": "2022-03-11T22:31:52.534Z"
   },
   {
    "duration": 112,
    "start_time": "2022-03-11T22:34:10.784Z"
   },
   {
    "duration": 408,
    "start_time": "2022-03-11T23:04:40.557Z"
   },
   {
    "duration": 855,
    "start_time": "2022-03-11T23:04:46.368Z"
   },
   {
    "duration": 17,
    "start_time": "2022-03-11T23:04:47.227Z"
   },
   {
    "duration": 38,
    "start_time": "2022-03-11T23:04:47.249Z"
   },
   {
    "duration": 7,
    "start_time": "2022-03-11T23:04:47.290Z"
   },
   {
    "duration": 10,
    "start_time": "2022-03-11T23:04:47.300Z"
   },
   {
    "duration": 36,
    "start_time": "2022-03-11T23:04:47.312Z"
   },
   {
    "duration": 60,
    "start_time": "2022-03-11T23:04:47.351Z"
   },
   {
    "duration": 87,
    "start_time": "2022-03-11T23:04:47.414Z"
   },
   {
    "duration": -1,
    "start_time": "2022-03-11T23:04:47.508Z"
   },
   {
    "duration": -13,
    "start_time": "2022-03-11T23:04:47.521Z"
   },
   {
    "duration": -12,
    "start_time": "2022-03-11T23:04:47.523Z"
   },
   {
    "duration": -11,
    "start_time": "2022-03-11T23:04:47.524Z"
   },
   {
    "duration": -10,
    "start_time": "2022-03-11T23:04:47.525Z"
   },
   {
    "duration": -9,
    "start_time": "2022-03-11T23:04:47.527Z"
   },
   {
    "duration": -15,
    "start_time": "2022-03-11T23:04:47.535Z"
   },
   {
    "duration": -15,
    "start_time": "2022-03-11T23:04:47.537Z"
   },
   {
    "duration": -14,
    "start_time": "2022-03-11T23:04:47.538Z"
   },
   {
    "duration": -12,
    "start_time": "2022-03-11T23:04:47.539Z"
   },
   {
    "duration": -12,
    "start_time": "2022-03-11T23:04:47.541Z"
   },
   {
    "duration": -17,
    "start_time": "2022-03-11T23:04:47.548Z"
   },
   {
    "duration": -58,
    "start_time": "2022-03-11T23:04:47.591Z"
   },
   {
    "duration": -62,
    "start_time": "2022-03-11T23:04:47.597Z"
   },
   {
    "duration": -62,
    "start_time": "2022-03-11T23:04:47.599Z"
   },
   {
    "duration": -61,
    "start_time": "2022-03-11T23:04:47.600Z"
   },
   {
    "duration": -63,
    "start_time": "2022-03-11T23:04:47.605Z"
   },
   {
    "duration": -64,
    "start_time": "2022-03-11T23:04:47.607Z"
   },
   {
    "duration": -63,
    "start_time": "2022-03-11T23:04:47.608Z"
   },
   {
    "duration": -22,
    "start_time": "2022-03-11T23:04:47.610Z"
   },
   {
    "duration": -22,
    "start_time": "2022-03-11T23:04:47.612Z"
   },
   {
    "duration": -22,
    "start_time": "2022-03-11T23:04:47.614Z"
   },
   {
    "duration": -21,
    "start_time": "2022-03-11T23:04:47.615Z"
   },
   {
    "duration": -20,
    "start_time": "2022-03-11T23:04:47.616Z"
   },
   {
    "duration": -20,
    "start_time": "2022-03-11T23:04:47.618Z"
   },
   {
    "duration": 351,
    "start_time": "2022-03-11T23:04:55.970Z"
   },
   {
    "duration": 873,
    "start_time": "2022-03-11T23:05:29.059Z"
   },
   {
    "duration": 15,
    "start_time": "2022-03-11T23:05:29.934Z"
   },
   {
    "duration": 12,
    "start_time": "2022-03-11T23:05:29.952Z"
   },
   {
    "duration": 5,
    "start_time": "2022-03-11T23:05:29.987Z"
   },
   {
    "duration": 8,
    "start_time": "2022-03-11T23:05:29.995Z"
   },
   {
    "duration": 39,
    "start_time": "2022-03-11T23:05:30.006Z"
   },
   {
    "duration": 50,
    "start_time": "2022-03-11T23:05:30.048Z"
   },
   {
    "duration": 43,
    "start_time": "2022-03-11T23:05:30.102Z"
   },
   {
    "duration": 60,
    "start_time": "2022-03-11T23:05:30.148Z"
   },
   {
    "duration": 15,
    "start_time": "2022-03-11T23:05:30.210Z"
   },
   {
    "duration": 30,
    "start_time": "2022-03-11T23:05:30.227Z"
   },
   {
    "duration": 30,
    "start_time": "2022-03-11T23:05:30.259Z"
   },
   {
    "duration": 21,
    "start_time": "2022-03-11T23:05:30.292Z"
   },
   {
    "duration": 15,
    "start_time": "2022-03-11T23:05:30.316Z"
   },
   {
    "duration": 26,
    "start_time": "2022-03-11T23:05:30.334Z"
   },
   {
    "duration": 28,
    "start_time": "2022-03-11T23:05:30.363Z"
   },
   {
    "duration": 26,
    "start_time": "2022-03-11T23:05:30.394Z"
   },
   {
    "duration": 24,
    "start_time": "2022-03-11T23:05:30.423Z"
   },
   {
    "duration": 7,
    "start_time": "2022-03-11T23:05:30.450Z"
   },
   {
    "duration": 43,
    "start_time": "2022-03-11T23:05:30.459Z"
   },
   {
    "duration": 20,
    "start_time": "2022-03-11T23:05:30.504Z"
   },
   {
    "duration": 19,
    "start_time": "2022-03-11T23:05:30.526Z"
   },
   {
    "duration": 45,
    "start_time": "2022-03-11T23:05:30.550Z"
   },
   {
    "duration": 19,
    "start_time": "2022-03-11T23:05:30.598Z"
   },
   {
    "duration": 36,
    "start_time": "2022-03-11T23:05:30.619Z"
   },
   {
    "duration": 47,
    "start_time": "2022-03-11T23:05:30.658Z"
   },
   {
    "duration": 34,
    "start_time": "2022-03-11T23:05:30.708Z"
   },
   {
    "duration": 21,
    "start_time": "2022-03-11T23:05:30.744Z"
   },
   {
    "duration": 12,
    "start_time": "2022-03-11T23:05:30.768Z"
   },
   {
    "duration": 39,
    "start_time": "2022-03-11T23:05:30.783Z"
   },
   {
    "duration": 7,
    "start_time": "2022-03-11T23:05:30.824Z"
   },
   {
    "duration": 386,
    "start_time": "2022-03-11T23:05:30.833Z"
   },
   {
    "duration": 30,
    "start_time": "2022-03-11T23:05:38.190Z"
   },
   {
    "duration": 56,
    "start_time": "2022-03-11T23:06:28.309Z"
   },
   {
    "duration": 42,
    "start_time": "2022-03-11T23:06:47.630Z"
   },
   {
    "duration": 33,
    "start_time": "2022-03-11T23:09:24.178Z"
   },
   {
    "duration": 268,
    "start_time": "2022-03-11T23:09:43.491Z"
   },
   {
    "duration": 20,
    "start_time": "2022-03-11T23:09:56.399Z"
   },
   {
    "duration": 272,
    "start_time": "2022-03-11T23:11:13.171Z"
   },
   {
    "duration": 19,
    "start_time": "2022-03-11T23:11:17.810Z"
   },
   {
    "duration": 29,
    "start_time": "2022-03-11T23:12:00.590Z"
   },
   {
    "duration": 19,
    "start_time": "2022-03-11T23:12:28.630Z"
   },
   {
    "duration": 22,
    "start_time": "2022-03-11T23:13:16.481Z"
   },
   {
    "duration": 8,
    "start_time": "2022-03-11T23:13:55.177Z"
   },
   {
    "duration": 4,
    "start_time": "2022-03-11T23:14:23.106Z"
   },
   {
    "duration": 26,
    "start_time": "2022-03-11T23:14:24.001Z"
   },
   {
    "duration": 8,
    "start_time": "2022-03-11T23:14:24.562Z"
   },
   {
    "duration": 6,
    "start_time": "2022-03-11T23:14:37.441Z"
   },
   {
    "duration": 26,
    "start_time": "2022-03-11T23:14:38.428Z"
   },
   {
    "duration": 9,
    "start_time": "2022-03-11T23:14:38.859Z"
   },
   {
    "duration": 5,
    "start_time": "2022-03-11T23:15:02.308Z"
   },
   {
    "duration": 28,
    "start_time": "2022-03-11T23:15:02.675Z"
   },
   {
    "duration": 9,
    "start_time": "2022-03-11T23:15:02.970Z"
   },
   {
    "duration": 22,
    "start_time": "2022-03-11T23:15:17.898Z"
   },
   {
    "duration": 13,
    "start_time": "2022-03-11T23:16:48.450Z"
   },
   {
    "duration": 296,
    "start_time": "2022-03-11T23:17:11.252Z"
   },
   {
    "duration": 296,
    "start_time": "2022-03-11T23:17:15.198Z"
   },
   {
    "duration": 840,
    "start_time": "2022-03-11T23:17:23.495Z"
   },
   {
    "duration": 16,
    "start_time": "2022-03-11T23:17:24.338Z"
   },
   {
    "duration": 12,
    "start_time": "2022-03-11T23:17:24.357Z"
   },
   {
    "duration": 6,
    "start_time": "2022-03-11T23:17:24.386Z"
   },
   {
    "duration": 11,
    "start_time": "2022-03-11T23:17:24.394Z"
   },
   {
    "duration": 33,
    "start_time": "2022-03-11T23:17:24.408Z"
   },
   {
    "duration": 59,
    "start_time": "2022-03-11T23:17:24.444Z"
   },
   {
    "duration": 40,
    "start_time": "2022-03-11T23:17:24.508Z"
   },
   {
    "duration": 62,
    "start_time": "2022-03-11T23:17:24.551Z"
   },
   {
    "duration": 15,
    "start_time": "2022-03-11T23:17:24.616Z"
   },
   {
    "duration": 17,
    "start_time": "2022-03-11T23:17:24.633Z"
   },
   {
    "duration": 35,
    "start_time": "2022-03-11T23:17:24.652Z"
   },
   {
    "duration": 9,
    "start_time": "2022-03-11T23:17:24.689Z"
   },
   {
    "duration": 5,
    "start_time": "2022-03-11T23:17:24.700Z"
   },
   {
    "duration": 17,
    "start_time": "2022-03-11T23:17:24.708Z"
   },
   {
    "duration": 21,
    "start_time": "2022-03-11T23:17:24.727Z"
   },
   {
    "duration": 57,
    "start_time": "2022-03-11T23:17:24.750Z"
   },
   {
    "duration": 23,
    "start_time": "2022-03-11T23:17:24.809Z"
   },
   {
    "duration": 7,
    "start_time": "2022-03-11T23:17:24.834Z"
   },
   {
    "duration": 58,
    "start_time": "2022-03-11T23:17:24.844Z"
   },
   {
    "duration": 12,
    "start_time": "2022-03-11T23:17:24.904Z"
   },
   {
    "duration": 10,
    "start_time": "2022-03-11T23:17:24.918Z"
   },
   {
    "duration": 8,
    "start_time": "2022-03-11T23:17:24.933Z"
   },
   {
    "duration": 51,
    "start_time": "2022-03-11T23:17:24.944Z"
   },
   {
    "duration": 7,
    "start_time": "2022-03-11T23:17:24.997Z"
   },
   {
    "duration": 32,
    "start_time": "2022-03-11T23:17:25.006Z"
   },
   {
    "duration": 7,
    "start_time": "2022-03-11T23:17:25.041Z"
   },
   {
    "duration": 40,
    "start_time": "2022-03-11T23:17:25.051Z"
   },
   {
    "duration": 6,
    "start_time": "2022-03-11T23:17:25.094Z"
   },
   {
    "duration": 29,
    "start_time": "2022-03-11T23:17:25.102Z"
   },
   {
    "duration": 7,
    "start_time": "2022-03-11T23:17:25.134Z"
   },
   {
    "duration": 62,
    "start_time": "2022-03-11T23:17:25.143Z"
   },
   {
    "duration": 8,
    "start_time": "2022-03-11T23:17:25.208Z"
   },
   {
    "duration": 26,
    "start_time": "2022-03-11T23:17:25.219Z"
   },
   {
    "duration": 51,
    "start_time": "2022-03-11T23:17:25.248Z"
   },
   {
    "duration": 20,
    "start_time": "2022-03-11T23:17:25.301Z"
   },
   {
    "duration": 9,
    "start_time": "2022-03-11T23:18:28.243Z"
   },
   {
    "duration": 6634,
    "start_time": "2022-03-11T23:19:27.096Z"
   },
   {
    "duration": 10,
    "start_time": "2022-03-11T23:19:35.092Z"
   },
   {
    "duration": 9,
    "start_time": "2022-03-11T23:20:25.833Z"
   },
   {
    "duration": 267,
    "start_time": "2022-03-11T23:20:49.238Z"
   },
   {
    "duration": 9,
    "start_time": "2022-03-11T23:21:03.328Z"
   },
   {
    "duration": 281,
    "start_time": "2022-03-11T23:21:11.597Z"
   },
   {
    "duration": 10,
    "start_time": "2022-03-11T23:21:46.456Z"
   },
   {
    "duration": 11,
    "start_time": "2022-03-11T23:21:53.817Z"
   },
   {
    "duration": 372,
    "start_time": "2022-03-12T07:57:36.357Z"
   },
   {
    "duration": 860,
    "start_time": "2022-03-12T07:57:43.217Z"
   },
   {
    "duration": 17,
    "start_time": "2022-03-12T07:57:44.081Z"
   },
   {
    "duration": 14,
    "start_time": "2022-03-12T07:57:44.102Z"
   },
   {
    "duration": 6,
    "start_time": "2022-03-12T07:57:44.119Z"
   },
   {
    "duration": 49,
    "start_time": "2022-03-12T07:57:44.128Z"
   },
   {
    "duration": 36,
    "start_time": "2022-03-12T07:57:44.180Z"
   },
   {
    "duration": 54,
    "start_time": "2022-03-12T07:57:44.219Z"
   },
   {
    "duration": 42,
    "start_time": "2022-03-12T07:57:44.277Z"
   },
   {
    "duration": 59,
    "start_time": "2022-03-12T07:57:44.322Z"
   },
   {
    "duration": 15,
    "start_time": "2022-03-12T07:57:44.383Z"
   },
   {
    "duration": 395,
    "start_time": "2022-03-12T07:57:44.401Z"
   },
   {
    "duration": -55,
    "start_time": "2022-03-12T07:57:44.854Z"
   },
   {
    "duration": -57,
    "start_time": "2022-03-12T07:57:44.857Z"
   },
   {
    "duration": -59,
    "start_time": "2022-03-12T07:57:44.861Z"
   },
   {
    "duration": -67,
    "start_time": "2022-03-12T07:57:44.870Z"
   },
   {
    "duration": -69,
    "start_time": "2022-03-12T07:57:44.874Z"
   },
   {
    "duration": -70,
    "start_time": "2022-03-12T07:57:44.876Z"
   },
   {
    "duration": -71,
    "start_time": "2022-03-12T07:57:44.879Z"
   },
   {
    "duration": -72,
    "start_time": "2022-03-12T07:57:44.881Z"
   },
   {
    "duration": -72,
    "start_time": "2022-03-12T07:57:44.883Z"
   },
   {
    "duration": -73,
    "start_time": "2022-03-12T07:57:44.885Z"
   },
   {
    "duration": -73,
    "start_time": "2022-03-12T07:57:44.887Z"
   },
   {
    "duration": -74,
    "start_time": "2022-03-12T07:57:44.889Z"
   },
   {
    "duration": -74,
    "start_time": "2022-03-12T07:57:44.891Z"
   },
   {
    "duration": -75,
    "start_time": "2022-03-12T07:57:44.893Z"
   },
   {
    "duration": -75,
    "start_time": "2022-03-12T07:57:44.895Z"
   },
   {
    "duration": -76,
    "start_time": "2022-03-12T07:57:44.897Z"
   },
   {
    "duration": -76,
    "start_time": "2022-03-12T07:57:44.899Z"
   },
   {
    "duration": -77,
    "start_time": "2022-03-12T07:57:44.901Z"
   },
   {
    "duration": -77,
    "start_time": "2022-03-12T07:57:44.903Z"
   },
   {
    "duration": -86,
    "start_time": "2022-03-12T07:57:44.913Z"
   },
   {
    "duration": -86,
    "start_time": "2022-03-12T07:57:44.915Z"
   },
   {
    "duration": -87,
    "start_time": "2022-03-12T07:57:44.917Z"
   },
   {
    "duration": -88,
    "start_time": "2022-03-12T07:57:44.919Z"
   },
   {
    "duration": -88,
    "start_time": "2022-03-12T07:57:44.921Z"
   },
   {
    "duration": -88,
    "start_time": "2022-03-12T07:57:44.923Z"
   },
   {
    "duration": 871,
    "start_time": "2022-03-12T07:58:12.559Z"
   },
   {
    "duration": 15,
    "start_time": "2022-03-12T07:58:13.432Z"
   },
   {
    "duration": 41,
    "start_time": "2022-03-12T07:58:13.450Z"
   },
   {
    "duration": 16,
    "start_time": "2022-03-12T07:58:13.494Z"
   },
   {
    "duration": 19,
    "start_time": "2022-03-12T07:58:13.512Z"
   },
   {
    "duration": 40,
    "start_time": "2022-03-12T07:58:13.533Z"
   },
   {
    "duration": 30,
    "start_time": "2022-03-12T07:58:13.576Z"
   },
   {
    "duration": 42,
    "start_time": "2022-03-12T07:58:13.609Z"
   },
   {
    "duration": 58,
    "start_time": "2022-03-12T07:58:13.654Z"
   },
   {
    "duration": 14,
    "start_time": "2022-03-12T07:58:13.715Z"
   },
   {
    "duration": 418,
    "start_time": "2022-03-12T07:58:13.731Z"
   },
   {
    "duration": -46,
    "start_time": "2022-03-12T07:58:14.198Z"
   },
   {
    "duration": -49,
    "start_time": "2022-03-12T07:58:14.203Z"
   },
   {
    "duration": -51,
    "start_time": "2022-03-12T07:58:14.206Z"
   },
   {
    "duration": -52,
    "start_time": "2022-03-12T07:58:14.209Z"
   },
   {
    "duration": -55,
    "start_time": "2022-03-12T07:58:14.213Z"
   },
   {
    "duration": -56,
    "start_time": "2022-03-12T07:58:14.215Z"
   },
   {
    "duration": -55,
    "start_time": "2022-03-12T07:58:14.217Z"
   },
   {
    "duration": -56,
    "start_time": "2022-03-12T07:58:14.219Z"
   },
   {
    "duration": -54,
    "start_time": "2022-03-12T07:58:14.220Z"
   },
   {
    "duration": -55,
    "start_time": "2022-03-12T07:58:14.222Z"
   },
   {
    "duration": -56,
    "start_time": "2022-03-12T07:58:14.224Z"
   },
   {
    "duration": -56,
    "start_time": "2022-03-12T07:58:14.226Z"
   },
   {
    "duration": -57,
    "start_time": "2022-03-12T07:58:14.228Z"
   },
   {
    "duration": -57,
    "start_time": "2022-03-12T07:58:14.230Z"
   },
   {
    "duration": -58,
    "start_time": "2022-03-12T07:58:14.232Z"
   },
   {
    "duration": -57,
    "start_time": "2022-03-12T07:58:14.233Z"
   },
   {
    "duration": -58,
    "start_time": "2022-03-12T07:58:14.235Z"
   },
   {
    "duration": -58,
    "start_time": "2022-03-12T07:58:14.236Z"
   },
   {
    "duration": -58,
    "start_time": "2022-03-12T07:58:14.238Z"
   },
   {
    "duration": -59,
    "start_time": "2022-03-12T07:58:14.240Z"
   },
   {
    "duration": -60,
    "start_time": "2022-03-12T07:58:14.242Z"
   },
   {
    "duration": -60,
    "start_time": "2022-03-12T07:58:14.244Z"
   },
   {
    "duration": -69,
    "start_time": "2022-03-12T07:58:14.254Z"
   },
   {
    "duration": -69,
    "start_time": "2022-03-12T07:58:14.256Z"
   },
   {
    "duration": -70,
    "start_time": "2022-03-12T07:58:14.258Z"
   },
   {
    "duration": 17,
    "start_time": "2022-03-12T07:58:25.587Z"
   },
   {
    "duration": 846,
    "start_time": "2022-03-12T07:58:30.326Z"
   },
   {
    "duration": 24,
    "start_time": "2022-03-12T07:58:31.176Z"
   },
   {
    "duration": 15,
    "start_time": "2022-03-12T07:58:31.205Z"
   },
   {
    "duration": 10,
    "start_time": "2022-03-12T07:58:31.224Z"
   },
   {
    "duration": 39,
    "start_time": "2022-03-12T07:58:31.237Z"
   },
   {
    "duration": 55,
    "start_time": "2022-03-12T07:58:31.279Z"
   },
   {
    "duration": 62,
    "start_time": "2022-03-12T07:58:31.337Z"
   },
   {
    "duration": 83,
    "start_time": "2022-03-12T07:58:31.403Z"
   },
   {
    "duration": 70,
    "start_time": "2022-03-12T07:58:31.492Z"
   },
   {
    "duration": 19,
    "start_time": "2022-03-12T07:58:31.576Z"
   },
   {
    "duration": 18,
    "start_time": "2022-03-12T07:58:31.598Z"
   },
   {
    "duration": 9,
    "start_time": "2022-03-12T07:58:31.619Z"
   },
   {
    "duration": 44,
    "start_time": "2022-03-12T07:58:31.630Z"
   },
   {
    "duration": 5,
    "start_time": "2022-03-12T07:58:31.677Z"
   },
   {
    "duration": 24,
    "start_time": "2022-03-12T07:58:31.684Z"
   },
   {
    "duration": 24,
    "start_time": "2022-03-12T07:58:31.711Z"
   },
   {
    "duration": 64,
    "start_time": "2022-03-12T07:58:31.737Z"
   },
   {
    "duration": 25,
    "start_time": "2022-03-12T07:58:31.803Z"
   },
   {
    "duration": 6,
    "start_time": "2022-03-12T07:58:31.830Z"
   },
   {
    "duration": 45,
    "start_time": "2022-03-12T07:58:31.839Z"
   },
   {
    "duration": 9,
    "start_time": "2022-03-12T07:58:31.887Z"
   },
   {
    "duration": 21,
    "start_time": "2022-03-12T07:58:31.898Z"
   },
   {
    "duration": 14,
    "start_time": "2022-03-12T07:58:31.922Z"
   },
   {
    "duration": 37,
    "start_time": "2022-03-12T07:58:31.938Z"
   },
   {
    "duration": 8,
    "start_time": "2022-03-12T07:58:31.978Z"
   },
   {
    "duration": 31,
    "start_time": "2022-03-12T07:58:31.989Z"
   },
   {
    "duration": 8,
    "start_time": "2022-03-12T07:58:32.025Z"
   },
   {
    "duration": 48,
    "start_time": "2022-03-12T07:58:32.035Z"
   },
   {
    "duration": 7,
    "start_time": "2022-03-12T07:58:32.085Z"
   },
   {
    "duration": 25,
    "start_time": "2022-03-12T07:58:32.094Z"
   },
   {
    "duration": 53,
    "start_time": "2022-03-12T07:58:32.122Z"
   },
   {
    "duration": 10,
    "start_time": "2022-03-12T07:58:32.177Z"
   },
   {
    "duration": 22,
    "start_time": "2022-03-12T07:58:32.189Z"
   },
   {
    "duration": 14,
    "start_time": "2022-03-12T07:58:32.213Z"
   },
   {
    "duration": 59,
    "start_time": "2022-03-12T07:58:32.229Z"
   },
   {
    "duration": 27,
    "start_time": "2022-03-12T07:58:32.290Z"
   },
   {
    "duration": 9,
    "start_time": "2022-03-12T07:59:39.739Z"
   },
   {
    "duration": 11,
    "start_time": "2022-03-12T07:59:48.369Z"
   },
   {
    "duration": 875,
    "start_time": "2022-03-12T12:58:19.510Z"
   },
   {
    "duration": 24,
    "start_time": "2022-03-12T12:58:20.388Z"
   },
   {
    "duration": 17,
    "start_time": "2022-03-12T12:58:20.416Z"
   },
   {
    "duration": 37,
    "start_time": "2022-03-12T12:58:20.436Z"
   },
   {
    "duration": 5,
    "start_time": "2022-03-12T12:58:20.476Z"
   },
   {
    "duration": 32,
    "start_time": "2022-03-12T12:58:20.484Z"
   },
   {
    "duration": 60,
    "start_time": "2022-03-12T12:58:20.518Z"
   },
   {
    "duration": 44,
    "start_time": "2022-03-12T12:58:20.581Z"
   },
   {
    "duration": 63,
    "start_time": "2022-03-12T12:58:20.627Z"
   },
   {
    "duration": 15,
    "start_time": "2022-03-12T12:58:20.693Z"
   },
   {
    "duration": 454,
    "start_time": "2022-03-12T12:58:20.710Z"
   },
   {
    "duration": 17374285,
    "start_time": "2022-03-12T08:08:46.883Z"
   },
   {
    "duration": 17374282,
    "start_time": "2022-03-12T08:08:46.887Z"
   },
   {
    "duration": 17374279,
    "start_time": "2022-03-12T08:08:46.892Z"
   },
   {
    "duration": 17374275,
    "start_time": "2022-03-12T08:08:46.897Z"
   },
   {
    "duration": 17374272,
    "start_time": "2022-03-12T08:08:46.902Z"
   },
   {
    "duration": 17374271,
    "start_time": "2022-03-12T08:08:46.905Z"
   },
   {
    "duration": 17374270,
    "start_time": "2022-03-12T08:08:46.907Z"
   },
   {
    "duration": 17374269,
    "start_time": "2022-03-12T08:08:46.909Z"
   },
   {
    "duration": 17374263,
    "start_time": "2022-03-12T08:08:46.917Z"
   },
   {
    "duration": 17374262,
    "start_time": "2022-03-12T08:08:46.919Z"
   },
   {
    "duration": 17374262,
    "start_time": "2022-03-12T08:08:46.921Z"
   },
   {
    "duration": 17374260,
    "start_time": "2022-03-12T08:08:46.924Z"
   },
   {
    "duration": 17374258,
    "start_time": "2022-03-12T08:08:46.928Z"
   },
   {
    "duration": 17374256,
    "start_time": "2022-03-12T08:08:46.931Z"
   },
   {
    "duration": 17374255,
    "start_time": "2022-03-12T08:08:46.933Z"
   },
   {
    "duration": 17374255,
    "start_time": "2022-03-12T08:08:46.935Z"
   },
   {
    "duration": 17374254,
    "start_time": "2022-03-12T08:08:46.937Z"
   },
   {
    "duration": 17374253,
    "start_time": "2022-03-12T08:08:46.939Z"
   },
   {
    "duration": 17374252,
    "start_time": "2022-03-12T08:08:46.942Z"
   },
   {
    "duration": 17374251,
    "start_time": "2022-03-12T08:08:46.944Z"
   },
   {
    "duration": 17374251,
    "start_time": "2022-03-12T08:08:46.946Z"
   },
   {
    "duration": 17374250,
    "start_time": "2022-03-12T08:08:46.948Z"
   },
   {
    "duration": 17374240,
    "start_time": "2022-03-12T08:08:46.960Z"
   },
   {
    "duration": 17374238,
    "start_time": "2022-03-12T08:08:46.963Z"
   },
   {
    "duration": 17374236,
    "start_time": "2022-03-12T08:08:46.966Z"
   },
   {
    "duration": 17374237,
    "start_time": "2022-03-12T08:08:46.967Z"
   },
   {
    "duration": 17374235,
    "start_time": "2022-03-12T08:08:46.970Z"
   },
   {
    "duration": 18,
    "start_time": "2022-03-12T12:58:35.982Z"
   },
   {
    "duration": 9,
    "start_time": "2022-03-12T12:58:38.188Z"
   },
   {
    "duration": 325,
    "start_time": "2022-03-12T12:58:38.558Z"
   },
   {
    "duration": 11,
    "start_time": "2022-03-12T12:58:38.929Z"
   },
   {
    "duration": 9,
    "start_time": "2022-03-12T12:58:44.529Z"
   },
   {
    "duration": 869,
    "start_time": "2022-03-12T12:58:49.947Z"
   },
   {
    "duration": 16,
    "start_time": "2022-03-12T12:58:50.819Z"
   },
   {
    "duration": 14,
    "start_time": "2022-03-12T12:58:50.838Z"
   },
   {
    "duration": 6,
    "start_time": "2022-03-12T12:58:50.873Z"
   },
   {
    "duration": 8,
    "start_time": "2022-03-12T12:58:50.882Z"
   },
   {
    "duration": 30,
    "start_time": "2022-03-12T12:58:50.893Z"
   },
   {
    "duration": 63,
    "start_time": "2022-03-12T12:58:50.926Z"
   },
   {
    "duration": 41,
    "start_time": "2022-03-12T12:58:50.993Z"
   },
   {
    "duration": 58,
    "start_time": "2022-03-12T12:58:51.037Z"
   },
   {
    "duration": 15,
    "start_time": "2022-03-12T12:58:51.097Z"
   },
   {
    "duration": 16,
    "start_time": "2022-03-12T12:58:51.115Z"
   },
   {
    "duration": 40,
    "start_time": "2022-03-12T12:58:51.134Z"
   },
   {
    "duration": 9,
    "start_time": "2022-03-12T12:58:51.176Z"
   },
   {
    "duration": 13,
    "start_time": "2022-03-12T12:58:51.188Z"
   },
   {
    "duration": 20,
    "start_time": "2022-03-12T12:58:51.204Z"
   },
   {
    "duration": 5,
    "start_time": "2022-03-12T12:58:51.226Z"
   },
   {
    "duration": 53,
    "start_time": "2022-03-12T12:58:51.233Z"
   },
   {
    "duration": 25,
    "start_time": "2022-03-12T12:58:51.288Z"
   },
   {
    "duration": 27,
    "start_time": "2022-03-12T12:58:51.315Z"
   },
   {
    "duration": 50,
    "start_time": "2022-03-12T12:58:51.344Z"
   },
   {
    "duration": 7,
    "start_time": "2022-03-12T12:58:51.396Z"
   },
   {
    "duration": 21,
    "start_time": "2022-03-12T12:58:51.405Z"
   },
   {
    "duration": 9,
    "start_time": "2022-03-12T12:58:51.431Z"
   },
   {
    "duration": 11,
    "start_time": "2022-03-12T12:58:51.474Z"
   },
   {
    "duration": 10,
    "start_time": "2022-03-12T12:58:51.487Z"
   },
   {
    "duration": 19,
    "start_time": "2022-03-12T12:58:51.499Z"
   },
   {
    "duration": 6,
    "start_time": "2022-03-12T12:58:51.520Z"
   },
   {
    "duration": 67,
    "start_time": "2022-03-12T12:58:51.528Z"
   },
   {
    "duration": 6,
    "start_time": "2022-03-12T12:58:51.597Z"
   },
   {
    "duration": 11,
    "start_time": "2022-03-12T12:58:51.605Z"
   },
   {
    "duration": 4,
    "start_time": "2022-03-12T12:58:51.619Z"
   },
   {
    "duration": 55,
    "start_time": "2022-03-12T12:58:51.626Z"
   },
   {
    "duration": 23,
    "start_time": "2022-03-12T12:58:51.683Z"
   },
   {
    "duration": 8,
    "start_time": "2022-03-12T12:58:51.708Z"
   },
   {
    "duration": 18,
    "start_time": "2022-03-12T12:58:51.718Z"
   },
   {
    "duration": 41,
    "start_time": "2022-03-12T12:58:51.738Z"
   },
   {
    "duration": 23,
    "start_time": "2022-03-12T12:58:51.781Z"
   },
   {
    "duration": 21,
    "start_time": "2022-03-12T12:58:51.806Z"
   },
   {
    "duration": 446,
    "start_time": "2022-03-12T13:00:27.258Z"
   },
   {
    "duration": 19,
    "start_time": "2022-03-12T13:00:37.741Z"
   },
   {
    "duration": 7,
    "start_time": "2022-03-12T13:00:57.012Z"
   },
   {
    "duration": 7,
    "start_time": "2022-03-12T13:01:00.660Z"
   },
   {
    "duration": 7,
    "start_time": "2022-03-12T13:01:05.700Z"
   },
   {
    "duration": 7,
    "start_time": "2022-03-12T13:01:57.281Z"
   },
   {
    "duration": 7,
    "start_time": "2022-03-12T13:02:06.776Z"
   },
   {
    "duration": 6,
    "start_time": "2022-03-12T13:02:08.444Z"
   },
   {
    "duration": 7,
    "start_time": "2022-03-12T13:02:09.710Z"
   },
   {
    "duration": 6,
    "start_time": "2022-03-12T13:02:10.041Z"
   },
   {
    "duration": 860,
    "start_time": "2022-03-12T13:02:14.710Z"
   },
   {
    "duration": 17,
    "start_time": "2022-03-12T13:02:15.573Z"
   },
   {
    "duration": 13,
    "start_time": "2022-03-12T13:02:15.593Z"
   },
   {
    "duration": 6,
    "start_time": "2022-03-12T13:02:15.608Z"
   },
   {
    "duration": 8,
    "start_time": "2022-03-12T13:02:15.616Z"
   },
   {
    "duration": 71,
    "start_time": "2022-03-12T13:02:15.627Z"
   },
   {
    "duration": 30,
    "start_time": "2022-03-12T13:02:15.701Z"
   },
   {
    "duration": 61,
    "start_time": "2022-03-12T13:02:15.735Z"
   },
   {
    "duration": 44,
    "start_time": "2022-03-12T13:02:15.799Z"
   },
   {
    "duration": 31,
    "start_time": "2022-03-12T13:02:15.846Z"
   },
   {
    "duration": 18,
    "start_time": "2022-03-12T13:02:15.880Z"
   },
   {
    "duration": 9,
    "start_time": "2022-03-12T13:02:15.901Z"
   },
   {
    "duration": 11,
    "start_time": "2022-03-12T13:02:15.913Z"
   },
   {
    "duration": 48,
    "start_time": "2022-03-12T13:02:15.926Z"
   },
   {
    "duration": 19,
    "start_time": "2022-03-12T13:02:15.976Z"
   },
   {
    "duration": 6,
    "start_time": "2022-03-12T13:02:15.997Z"
   },
   {
    "duration": 16,
    "start_time": "2022-03-12T13:02:16.005Z"
   },
   {
    "duration": 6,
    "start_time": "2022-03-12T13:02:16.024Z"
   },
   {
    "duration": 439,
    "start_time": "2022-03-12T13:02:16.033Z"
   },
   {
    "duration": -47,
    "start_time": "2022-03-12T13:02:16.522Z"
   },
   {
    "duration": -50,
    "start_time": "2022-03-12T13:02:16.526Z"
   },
   {
    "duration": -57,
    "start_time": "2022-03-12T13:02:16.535Z"
   },
   {
    "duration": -58,
    "start_time": "2022-03-12T13:02:16.538Z"
   },
   {
    "duration": -58,
    "start_time": "2022-03-12T13:02:16.540Z"
   },
   {
    "duration": -60,
    "start_time": "2022-03-12T13:02:16.543Z"
   },
   {
    "duration": -60,
    "start_time": "2022-03-12T13:02:16.545Z"
   },
   {
    "duration": -62,
    "start_time": "2022-03-12T13:02:16.548Z"
   },
   {
    "duration": -62,
    "start_time": "2022-03-12T13:02:16.550Z"
   },
   {
    "duration": -63,
    "start_time": "2022-03-12T13:02:16.552Z"
   },
   {
    "duration": -64,
    "start_time": "2022-03-12T13:02:16.555Z"
   },
   {
    "duration": -64,
    "start_time": "2022-03-12T13:02:16.556Z"
   },
   {
    "duration": -64,
    "start_time": "2022-03-12T13:02:16.558Z"
   },
   {
    "duration": -65,
    "start_time": "2022-03-12T13:02:16.560Z"
   },
   {
    "duration": -65,
    "start_time": "2022-03-12T13:02:16.562Z"
   },
   {
    "duration": -66,
    "start_time": "2022-03-12T13:02:16.564Z"
   },
   {
    "duration": -66,
    "start_time": "2022-03-12T13:02:16.565Z"
   },
   {
    "duration": -66,
    "start_time": "2022-03-12T13:02:16.567Z"
   },
   {
    "duration": -65,
    "start_time": "2022-03-12T13:02:16.568Z"
   },
   {
    "duration": -66,
    "start_time": "2022-03-12T13:02:16.570Z"
   },
   {
    "duration": -67,
    "start_time": "2022-03-12T13:02:16.572Z"
   },
   {
    "duration": -66,
    "start_time": "2022-03-12T13:02:16.573Z"
   },
   {
    "duration": 14,
    "start_time": "2022-03-12T13:03:48.967Z"
   },
   {
    "duration": 7,
    "start_time": "2022-03-12T13:03:49.314Z"
   },
   {
    "duration": 841,
    "start_time": "2022-03-12T13:03:54.706Z"
   },
   {
    "duration": 24,
    "start_time": "2022-03-12T13:03:55.550Z"
   },
   {
    "duration": 13,
    "start_time": "2022-03-12T13:03:55.576Z"
   },
   {
    "duration": 6,
    "start_time": "2022-03-12T13:03:55.591Z"
   },
   {
    "duration": 6,
    "start_time": "2022-03-12T13:03:55.599Z"
   },
   {
    "duration": 32,
    "start_time": "2022-03-12T13:03:55.608Z"
   },
   {
    "duration": 32,
    "start_time": "2022-03-12T13:03:55.674Z"
   },
   {
    "duration": 41,
    "start_time": "2022-03-12T13:03:55.710Z"
   },
   {
    "duration": 59,
    "start_time": "2022-03-12T13:03:55.754Z"
   },
   {
    "duration": 13,
    "start_time": "2022-03-12T13:03:55.816Z"
   },
   {
    "duration": 44,
    "start_time": "2022-03-12T13:03:55.831Z"
   },
   {
    "duration": 9,
    "start_time": "2022-03-12T13:03:55.877Z"
   },
   {
    "duration": 11,
    "start_time": "2022-03-12T13:03:55.888Z"
   },
   {
    "duration": 9,
    "start_time": "2022-03-12T13:03:55.901Z"
   },
   {
    "duration": 60,
    "start_time": "2022-03-12T13:03:55.913Z"
   },
   {
    "duration": 6,
    "start_time": "2022-03-12T13:03:55.976Z"
   },
   {
    "duration": 15,
    "start_time": "2022-03-12T13:03:55.985Z"
   },
   {
    "duration": 7,
    "start_time": "2022-03-12T13:03:56.003Z"
   },
   {
    "duration": 6,
    "start_time": "2022-03-12T13:03:56.012Z"
   },
   {
    "duration": 52,
    "start_time": "2022-03-12T13:03:56.021Z"
   },
   {
    "duration": 24,
    "start_time": "2022-03-12T13:03:56.076Z"
   },
   {
    "duration": 29,
    "start_time": "2022-03-12T13:03:56.103Z"
   },
   {
    "duration": 54,
    "start_time": "2022-03-12T13:03:56.136Z"
   },
   {
    "duration": 6,
    "start_time": "2022-03-12T13:03:56.193Z"
   },
   {
    "duration": 18,
    "start_time": "2022-03-12T13:03:56.202Z"
   },
   {
    "duration": 13,
    "start_time": "2022-03-12T13:03:56.222Z"
   },
   {
    "duration": 43,
    "start_time": "2022-03-12T13:03:56.237Z"
   },
   {
    "duration": 11,
    "start_time": "2022-03-12T13:03:56.282Z"
   },
   {
    "duration": 28,
    "start_time": "2022-03-12T13:03:56.296Z"
   },
   {
    "duration": 17,
    "start_time": "2022-03-12T13:03:56.327Z"
   },
   {
    "duration": 51,
    "start_time": "2022-03-12T13:03:56.346Z"
   },
   {
    "duration": 7,
    "start_time": "2022-03-12T13:03:56.400Z"
   },
   {
    "duration": 10,
    "start_time": "2022-03-12T13:03:56.409Z"
   },
   {
    "duration": 5,
    "start_time": "2022-03-12T13:03:56.421Z"
   },
   {
    "duration": 60,
    "start_time": "2022-03-12T13:03:56.428Z"
   },
   {
    "duration": 23,
    "start_time": "2022-03-12T13:03:56.491Z"
   },
   {
    "duration": 10,
    "start_time": "2022-03-12T13:03:56.516Z"
   },
   {
    "duration": 50,
    "start_time": "2022-03-12T13:03:56.529Z"
   },
   {
    "duration": 10,
    "start_time": "2022-03-12T13:03:56.581Z"
   },
   {
    "duration": 22,
    "start_time": "2022-03-12T13:03:56.594Z"
   },
   {
    "duration": 63,
    "start_time": "2022-03-12T13:03:56.619Z"
   },
   {
    "duration": 6,
    "start_time": "2022-03-12T13:05:16.685Z"
   },
   {
    "duration": 15,
    "start_time": "2022-03-12T13:05:40.604Z"
   },
   {
    "duration": 5,
    "start_time": "2022-03-12T13:06:03.294Z"
   },
   {
    "duration": 15,
    "start_time": "2022-03-12T13:06:07.633Z"
   },
   {
    "duration": 833,
    "start_time": "2022-03-12T13:06:12.099Z"
   },
   {
    "duration": 16,
    "start_time": "2022-03-12T13:06:12.935Z"
   },
   {
    "duration": 26,
    "start_time": "2022-03-12T13:06:12.954Z"
   },
   {
    "duration": 6,
    "start_time": "2022-03-12T13:06:12.984Z"
   },
   {
    "duration": 8,
    "start_time": "2022-03-12T13:06:12.993Z"
   },
   {
    "duration": 94,
    "start_time": "2022-03-12T13:06:13.004Z"
   },
   {
    "duration": 73,
    "start_time": "2022-03-12T13:06:13.101Z"
   },
   {
    "duration": 42,
    "start_time": "2022-03-12T13:06:13.178Z"
   },
   {
    "duration": 50,
    "start_time": "2022-03-12T13:06:13.223Z"
   },
   {
    "duration": 15,
    "start_time": "2022-03-12T13:06:13.275Z"
   },
   {
    "duration": 17,
    "start_time": "2022-03-12T13:06:13.292Z"
   },
   {
    "duration": 9,
    "start_time": "2022-03-12T13:06:13.312Z"
   },
   {
    "duration": 11,
    "start_time": "2022-03-12T13:06:13.323Z"
   },
   {
    "duration": 14,
    "start_time": "2022-03-12T13:06:13.336Z"
   },
   {
    "duration": 30,
    "start_time": "2022-03-12T13:06:13.353Z"
   },
   {
    "duration": 12,
    "start_time": "2022-03-12T13:06:13.386Z"
   },
   {
    "duration": 6,
    "start_time": "2022-03-12T13:06:13.400Z"
   },
   {
    "duration": 7,
    "start_time": "2022-03-12T13:06:13.408Z"
   },
   {
    "duration": 9,
    "start_time": "2022-03-12T13:06:13.418Z"
   },
   {
    "duration": 17,
    "start_time": "2022-03-12T13:06:13.429Z"
   },
   {
    "duration": 29,
    "start_time": "2022-03-12T13:06:13.448Z"
   },
   {
    "duration": 28,
    "start_time": "2022-03-12T13:06:13.479Z"
   },
   {
    "duration": 25,
    "start_time": "2022-03-12T13:06:13.511Z"
   },
   {
    "duration": 7,
    "start_time": "2022-03-12T13:06:13.539Z"
   },
   {
    "duration": 25,
    "start_time": "2022-03-12T13:06:13.548Z"
   },
   {
    "duration": 13,
    "start_time": "2022-03-12T13:06:13.577Z"
   },
   {
    "duration": 28,
    "start_time": "2022-03-12T13:06:13.592Z"
   },
   {
    "duration": 11,
    "start_time": "2022-03-12T13:06:13.623Z"
   },
   {
    "duration": 24,
    "start_time": "2022-03-12T13:06:13.637Z"
   },
   {
    "duration": 21,
    "start_time": "2022-03-12T13:06:13.663Z"
   },
   {
    "duration": 35,
    "start_time": "2022-03-12T13:06:13.686Z"
   },
   {
    "duration": 7,
    "start_time": "2022-03-12T13:06:13.723Z"
   },
   {
    "duration": 11,
    "start_time": "2022-03-12T13:06:13.732Z"
   },
   {
    "duration": 5,
    "start_time": "2022-03-12T13:06:13.746Z"
   },
   {
    "duration": 84,
    "start_time": "2022-03-12T13:06:13.753Z"
   },
   {
    "duration": 22,
    "start_time": "2022-03-12T13:06:13.840Z"
   },
   {
    "duration": 21,
    "start_time": "2022-03-12T13:06:13.864Z"
   },
   {
    "duration": 29,
    "start_time": "2022-03-12T13:06:13.887Z"
   },
   {
    "duration": 16,
    "start_time": "2022-03-12T13:06:13.918Z"
   },
   {
    "duration": 40,
    "start_time": "2022-03-12T13:06:13.936Z"
   },
   {
    "duration": 25,
    "start_time": "2022-03-12T13:06:13.979Z"
   },
   {
    "duration": 688,
    "start_time": "2022-03-12T17:52:35.391Z"
   },
   {
    "duration": 12,
    "start_time": "2022-03-12T17:52:36.081Z"
   },
   {
    "duration": 14,
    "start_time": "2022-03-12T17:52:36.095Z"
   },
   {
    "duration": 7,
    "start_time": "2022-03-12T17:52:36.111Z"
   },
   {
    "duration": 5,
    "start_time": "2022-03-12T17:52:36.120Z"
   },
   {
    "duration": 27,
    "start_time": "2022-03-12T17:52:36.127Z"
   },
   {
    "duration": 40,
    "start_time": "2022-03-12T17:52:36.156Z"
   },
   {
    "duration": 31,
    "start_time": "2022-03-12T17:52:36.199Z"
   },
   {
    "duration": 53,
    "start_time": "2022-03-12T17:52:36.233Z"
   },
   {
    "duration": 12,
    "start_time": "2022-03-12T17:52:36.288Z"
   },
   {
    "duration": 13,
    "start_time": "2022-03-12T17:52:36.302Z"
   },
   {
    "duration": 9,
    "start_time": "2022-03-12T17:52:36.317Z"
   },
   {
    "duration": 9,
    "start_time": "2022-03-12T17:52:36.328Z"
   },
   {
    "duration": 44,
    "start_time": "2022-03-12T17:52:36.339Z"
   },
   {
    "duration": 15,
    "start_time": "2022-03-12T17:52:36.385Z"
   },
   {
    "duration": 10,
    "start_time": "2022-03-12T17:52:36.402Z"
   },
   {
    "duration": 6,
    "start_time": "2022-03-12T17:52:36.414Z"
   },
   {
    "duration": 7,
    "start_time": "2022-03-12T17:52:36.422Z"
   },
   {
    "duration": 12,
    "start_time": "2022-03-12T17:52:36.430Z"
   },
   {
    "duration": 18,
    "start_time": "2022-03-12T17:52:36.478Z"
   },
   {
    "duration": 17,
    "start_time": "2022-03-12T17:52:36.497Z"
   },
   {
    "duration": 19,
    "start_time": "2022-03-12T17:52:36.516Z"
   },
   {
    "duration": 17,
    "start_time": "2022-03-12T17:52:36.538Z"
   },
   {
    "duration": 5,
    "start_time": "2022-03-12T17:52:36.578Z"
   },
   {
    "duration": 15,
    "start_time": "2022-03-12T17:52:36.584Z"
   },
   {
    "duration": 13,
    "start_time": "2022-03-12T17:52:36.601Z"
   },
   {
    "duration": 12,
    "start_time": "2022-03-12T17:52:36.616Z"
   },
   {
    "duration": 30,
    "start_time": "2022-03-12T17:52:36.630Z"
   },
   {
    "duration": 19,
    "start_time": "2022-03-12T17:52:36.662Z"
   },
   {
    "duration": 5,
    "start_time": "2022-03-12T17:52:36.683Z"
   },
   {
    "duration": 24,
    "start_time": "2022-03-12T17:52:36.690Z"
   },
   {
    "duration": 6,
    "start_time": "2022-03-12T17:52:36.717Z"
   },
   {
    "duration": 12,
    "start_time": "2022-03-12T17:52:36.725Z"
   },
   {
    "duration": 3,
    "start_time": "2022-03-12T17:52:36.739Z"
   },
   {
    "duration": 40,
    "start_time": "2022-03-12T17:52:36.744Z"
   },
   {
    "duration": 18,
    "start_time": "2022-03-12T17:52:36.786Z"
   },
   {
    "duration": 6,
    "start_time": "2022-03-12T17:52:36.805Z"
   },
   {
    "duration": 18,
    "start_time": "2022-03-12T17:52:36.813Z"
   },
   {
    "duration": 6,
    "start_time": "2022-03-12T17:52:36.833Z"
   },
   {
    "duration": 46,
    "start_time": "2022-03-12T17:52:36.841Z"
   },
   {
    "duration": 14,
    "start_time": "2022-03-12T17:52:36.889Z"
   },
   {
    "duration": 86,
    "start_time": "2022-03-12T18:19:36.721Z"
   },
   {
    "duration": 288,
    "start_time": "2022-03-12T18:29:55.141Z"
   },
   {
    "duration": 15,
    "start_time": "2022-03-12T18:30:02.396Z"
   },
   {
    "duration": 701,
    "start_time": "2022-03-12T18:30:06.590Z"
   },
   {
    "duration": 12,
    "start_time": "2022-03-12T18:30:07.293Z"
   },
   {
    "duration": 15,
    "start_time": "2022-03-12T18:30:07.307Z"
   },
   {
    "duration": 7,
    "start_time": "2022-03-12T18:30:07.324Z"
   },
   {
    "duration": 11,
    "start_time": "2022-03-12T18:30:07.333Z"
   },
   {
    "duration": 47,
    "start_time": "2022-03-12T18:30:07.346Z"
   },
   {
    "duration": 24,
    "start_time": "2022-03-12T18:30:07.395Z"
   },
   {
    "duration": 34,
    "start_time": "2022-03-12T18:30:07.421Z"
   },
   {
    "duration": 55,
    "start_time": "2022-03-12T18:30:07.459Z"
   },
   {
    "duration": 11,
    "start_time": "2022-03-12T18:30:07.517Z"
   },
   {
    "duration": 14,
    "start_time": "2022-03-12T18:30:07.530Z"
   },
   {
    "duration": 43,
    "start_time": "2022-03-12T18:30:07.546Z"
   },
   {
    "duration": 10,
    "start_time": "2022-03-12T18:30:07.591Z"
   },
   {
    "duration": 10,
    "start_time": "2022-03-12T18:30:07.603Z"
   },
   {
    "duration": 17,
    "start_time": "2022-03-12T18:30:07.614Z"
   },
   {
    "duration": 9,
    "start_time": "2022-03-12T18:30:07.633Z"
   },
   {
    "duration": 5,
    "start_time": "2022-03-12T18:30:07.643Z"
   },
   {
    "duration": 36,
    "start_time": "2022-03-12T18:30:07.649Z"
   },
   {
    "duration": 5,
    "start_time": "2022-03-12T18:30:07.688Z"
   },
   {
    "duration": 16,
    "start_time": "2022-03-12T18:30:07.694Z"
   },
   {
    "duration": 17,
    "start_time": "2022-03-12T18:30:07.712Z"
   },
   {
    "duration": 61,
    "start_time": "2022-03-12T18:30:07.731Z"
   },
   {
    "duration": 20,
    "start_time": "2022-03-12T18:30:07.794Z"
   },
   {
    "duration": 5,
    "start_time": "2022-03-12T18:30:07.815Z"
   },
   {
    "duration": 69,
    "start_time": "2022-03-12T18:30:07.822Z"
   },
   {
    "duration": 12,
    "start_time": "2022-03-12T18:30:07.893Z"
   },
   {
    "duration": 9,
    "start_time": "2022-03-12T18:30:07.909Z"
   },
   {
    "duration": 64,
    "start_time": "2022-03-12T18:30:07.919Z"
   },
   {
    "duration": 21,
    "start_time": "2022-03-12T18:30:07.989Z"
   },
   {
    "duration": 10,
    "start_time": "2022-03-12T18:30:08.011Z"
   },
   {
    "duration": 73,
    "start_time": "2022-03-12T18:30:08.023Z"
   },
   {
    "duration": 6,
    "start_time": "2022-03-12T18:30:08.098Z"
   },
   {
    "duration": 9,
    "start_time": "2022-03-12T18:30:08.106Z"
   },
   {
    "duration": 58,
    "start_time": "2022-03-12T18:30:08.118Z"
   },
   {
    "duration": 17,
    "start_time": "2022-03-12T18:30:08.185Z"
   },
   {
    "duration": 14,
    "start_time": "2022-03-12T18:30:08.204Z"
   },
   {
    "duration": 7,
    "start_time": "2022-03-12T18:30:08.220Z"
   },
   {
    "duration": 18,
    "start_time": "2022-03-12T18:30:08.283Z"
   },
   {
    "duration": 7,
    "start_time": "2022-03-12T18:30:08.303Z"
   },
   {
    "duration": 16,
    "start_time": "2022-03-12T18:30:08.312Z"
   },
   {
    "duration": 23,
    "start_time": "2022-03-12T18:30:08.380Z"
   },
   {
    "duration": 5569,
    "start_time": "2022-03-12T18:38:48.555Z"
   },
   {
    "duration": 32,
    "start_time": "2022-03-12T18:38:54.094Z"
   },
   {
    "duration": 29,
    "start_time": "2022-03-12T18:38:54.097Z"
   },
   {
    "duration": 27,
    "start_time": "2022-03-12T18:38:54.100Z"
   },
   {
    "duration": 4,
    "start_time": "2022-03-12T18:39:01.266Z"
   },
   {
    "duration": 733,
    "start_time": "2022-03-12T18:39:06.357Z"
   },
   {
    "duration": 13,
    "start_time": "2022-03-12T18:39:07.092Z"
   },
   {
    "duration": 11,
    "start_time": "2022-03-12T18:39:07.107Z"
   },
   {
    "duration": 4,
    "start_time": "2022-03-12T18:39:07.120Z"
   },
   {
    "duration": 9,
    "start_time": "2022-03-12T18:39:07.126Z"
   },
   {
    "duration": 51,
    "start_time": "2022-03-12T18:39:07.137Z"
   },
   {
    "duration": 27,
    "start_time": "2022-03-12T18:39:07.191Z"
   },
   {
    "duration": 33,
    "start_time": "2022-03-12T18:39:07.221Z"
   },
   {
    "duration": 58,
    "start_time": "2022-03-12T18:39:07.257Z"
   },
   {
    "duration": 12,
    "start_time": "2022-03-12T18:39:07.317Z"
   },
   {
    "duration": 13,
    "start_time": "2022-03-12T18:39:07.331Z"
   },
   {
    "duration": 7,
    "start_time": "2022-03-12T18:39:07.346Z"
   },
   {
    "duration": 22,
    "start_time": "2022-03-12T18:39:07.380Z"
   },
   {
    "duration": 12,
    "start_time": "2022-03-12T18:39:07.405Z"
   },
   {
    "duration": 21,
    "start_time": "2022-03-12T18:39:07.420Z"
   },
   {
    "duration": 12,
    "start_time": "2022-03-12T18:39:07.443Z"
   },
   {
    "duration": 26,
    "start_time": "2022-03-12T18:39:07.457Z"
   },
   {
    "duration": 14,
    "start_time": "2022-03-12T18:39:07.484Z"
   },
   {
    "duration": 10,
    "start_time": "2022-03-12T18:39:07.500Z"
   },
   {
    "duration": 6,
    "start_time": "2022-03-12T18:39:07.512Z"
   },
   {
    "duration": 971,
    "start_time": "2022-03-12T18:39:07.520Z"
   },
   {
    "duration": 24,
    "start_time": "2022-03-12T18:39:08.471Z"
   },
   {
    "duration": 23,
    "start_time": "2022-03-12T18:39:08.473Z"
   },
   {
    "duration": 21,
    "start_time": "2022-03-12T18:39:08.476Z"
   },
   {
    "duration": 19,
    "start_time": "2022-03-12T18:39:08.479Z"
   },
   {
    "duration": 18,
    "start_time": "2022-03-12T18:39:08.481Z"
   },
   {
    "duration": 15,
    "start_time": "2022-03-12T18:39:08.484Z"
   },
   {
    "duration": 14,
    "start_time": "2022-03-12T18:39:08.486Z"
   },
   {
    "duration": 13,
    "start_time": "2022-03-12T18:39:08.488Z"
   },
   {
    "duration": 8,
    "start_time": "2022-03-12T18:39:08.494Z"
   },
   {
    "duration": 7,
    "start_time": "2022-03-12T18:39:08.496Z"
   },
   {
    "duration": 6,
    "start_time": "2022-03-12T18:39:08.498Z"
   },
   {
    "duration": 5,
    "start_time": "2022-03-12T18:39:08.500Z"
   },
   {
    "duration": 6,
    "start_time": "2022-03-12T18:39:08.501Z"
   },
   {
    "duration": 4,
    "start_time": "2022-03-12T18:39:08.503Z"
   },
   {
    "duration": 3,
    "start_time": "2022-03-12T18:39:08.505Z"
   },
   {
    "duration": 2,
    "start_time": "2022-03-12T18:39:08.507Z"
   },
   {
    "duration": -4,
    "start_time": "2022-03-12T18:39:08.514Z"
   },
   {
    "duration": -5,
    "start_time": "2022-03-12T18:39:08.516Z"
   },
   {
    "duration": -6,
    "start_time": "2022-03-12T18:39:08.518Z"
   },
   {
    "duration": -7,
    "start_time": "2022-03-12T18:39:08.520Z"
   },
   {
    "duration": -8,
    "start_time": "2022-03-12T18:39:08.522Z"
   },
   {
    "duration": -9,
    "start_time": "2022-03-12T18:39:08.524Z"
   },
   {
    "duration": -8,
    "start_time": "2022-03-12T18:39:08.525Z"
   },
   {
    "duration": -10,
    "start_time": "2022-03-12T18:39:08.527Z"
   },
   {
    "duration": 1288,
    "start_time": "2022-03-12T18:39:20.669Z"
   },
   {
    "duration": 4,
    "start_time": "2022-03-12T18:39:27.958Z"
   },
   {
    "duration": 4,
    "start_time": "2022-03-12T18:39:34.943Z"
   },
   {
    "duration": 4,
    "start_time": "2022-03-12T18:39:37.157Z"
   },
   {
    "duration": 13,
    "start_time": "2022-03-12T18:39:37.508Z"
   },
   {
    "duration": 6,
    "start_time": "2022-03-12T18:41:57.131Z"
   },
   {
    "duration": 659,
    "start_time": "2022-03-12T18:42:10.031Z"
   },
   {
    "duration": 13,
    "start_time": "2022-03-12T18:42:10.692Z"
   },
   {
    "duration": 12,
    "start_time": "2022-03-12T18:42:10.707Z"
   },
   {
    "duration": 4,
    "start_time": "2022-03-12T18:42:10.721Z"
   },
   {
    "duration": 5,
    "start_time": "2022-03-12T18:42:10.727Z"
   },
   {
    "duration": 53,
    "start_time": "2022-03-12T18:42:10.735Z"
   },
   {
    "duration": 23,
    "start_time": "2022-03-12T18:42:10.791Z"
   },
   {
    "duration": 32,
    "start_time": "2022-03-12T18:42:10.817Z"
   },
   {
    "duration": 56,
    "start_time": "2022-03-12T18:42:10.851Z"
   },
   {
    "duration": 14,
    "start_time": "2022-03-12T18:42:10.909Z"
   },
   {
    "duration": 14,
    "start_time": "2022-03-12T18:42:10.925Z"
   },
   {
    "duration": 43,
    "start_time": "2022-03-12T18:42:10.941Z"
   },
   {
    "duration": 7,
    "start_time": "2022-03-12T18:42:10.987Z"
   },
   {
    "duration": 9,
    "start_time": "2022-03-12T18:42:10.996Z"
   },
   {
    "duration": 15,
    "start_time": "2022-03-12T18:42:11.007Z"
   },
   {
    "duration": 10,
    "start_time": "2022-03-12T18:42:11.025Z"
   },
   {
    "duration": 5,
    "start_time": "2022-03-12T18:42:11.037Z"
   },
   {
    "duration": 45,
    "start_time": "2022-03-12T18:42:11.044Z"
   },
   {
    "duration": 15,
    "start_time": "2022-03-12T18:42:11.092Z"
   },
   {
    "duration": 15,
    "start_time": "2022-03-12T18:42:11.109Z"
   },
   {
    "duration": 20,
    "start_time": "2022-03-12T18:42:11.126Z"
   },
   {
    "duration": 42,
    "start_time": "2022-03-12T18:42:11.148Z"
   },
   {
    "duration": 5,
    "start_time": "2022-03-12T18:42:11.193Z"
   },
   {
    "duration": 18,
    "start_time": "2022-03-12T18:42:11.201Z"
   },
   {
    "duration": 9,
    "start_time": "2022-03-12T18:42:11.221Z"
   },
   {
    "duration": 9,
    "start_time": "2022-03-12T18:42:11.232Z"
   },
   {
    "duration": 42,
    "start_time": "2022-03-12T18:42:11.243Z"
   },
   {
    "duration": 20,
    "start_time": "2022-03-12T18:42:11.287Z"
   },
   {
    "duration": 7,
    "start_time": "2022-03-12T18:42:11.309Z"
   },
   {
    "duration": 23,
    "start_time": "2022-03-12T18:42:11.318Z"
   },
   {
    "duration": 7,
    "start_time": "2022-03-12T18:42:11.343Z"
   },
   {
    "duration": 33,
    "start_time": "2022-03-12T18:42:11.352Z"
   },
   {
    "duration": 4,
    "start_time": "2022-03-12T18:42:11.391Z"
   },
   {
    "duration": 16,
    "start_time": "2022-03-12T18:42:11.397Z"
   },
   {
    "duration": 17,
    "start_time": "2022-03-12T18:42:11.414Z"
   },
   {
    "duration": 7,
    "start_time": "2022-03-12T18:42:11.433Z"
   },
   {
    "duration": 48,
    "start_time": "2022-03-12T18:42:11.442Z"
   },
   {
    "duration": 6,
    "start_time": "2022-03-12T18:42:11.492Z"
   },
   {
    "duration": 16,
    "start_time": "2022-03-12T18:42:11.500Z"
   },
   {
    "duration": 16,
    "start_time": "2022-03-12T18:42:11.517Z"
   },
   {
    "duration": 6,
    "start_time": "2022-03-12T18:43:25.290Z"
   },
   {
    "duration": 13,
    "start_time": "2022-03-12T18:43:25.591Z"
   },
   {
    "duration": 5,
    "start_time": "2022-03-12T18:43:42.294Z"
   },
   {
    "duration": 18,
    "start_time": "2022-03-12T18:45:59.213Z"
   },
   {
    "duration": 14,
    "start_time": "2022-03-12T18:52:43.337Z"
   },
   {
    "duration": 108,
    "start_time": "2022-03-12T18:58:23.989Z"
   },
   {
    "duration": 7,
    "start_time": "2022-03-12T19:03:25.704Z"
   },
   {
    "duration": 5363,
    "start_time": "2022-03-12T19:06:06.738Z"
   },
   {
    "duration": 693,
    "start_time": "2022-03-12T19:06:23.060Z"
   },
   {
    "duration": 12,
    "start_time": "2022-03-12T19:06:23.755Z"
   },
   {
    "duration": 15,
    "start_time": "2022-03-12T19:06:23.772Z"
   },
   {
    "duration": 7,
    "start_time": "2022-03-12T19:06:23.789Z"
   },
   {
    "duration": 5,
    "start_time": "2022-03-12T19:06:23.798Z"
   },
   {
    "duration": 26,
    "start_time": "2022-03-12T19:06:23.804Z"
   },
   {
    "duration": 22,
    "start_time": "2022-03-12T19:06:23.833Z"
   },
   {
    "duration": 49,
    "start_time": "2022-03-12T19:06:23.857Z"
   },
   {
    "duration": 30,
    "start_time": "2022-03-12T19:06:23.908Z"
   },
   {
    "duration": 11,
    "start_time": "2022-03-12T19:06:23.940Z"
   },
   {
    "duration": 13,
    "start_time": "2022-03-12T19:06:23.978Z"
   },
   {
    "duration": 8,
    "start_time": "2022-03-12T19:06:23.993Z"
   },
   {
    "duration": 10,
    "start_time": "2022-03-12T19:06:24.002Z"
   },
   {
    "duration": 11,
    "start_time": "2022-03-12T19:06:24.014Z"
   },
   {
    "duration": 14,
    "start_time": "2022-03-12T19:06:24.027Z"
   },
   {
    "duration": 40,
    "start_time": "2022-03-12T19:06:24.043Z"
   },
   {
    "duration": 5,
    "start_time": "2022-03-12T19:06:24.085Z"
   },
   {
    "duration": 9,
    "start_time": "2022-03-12T19:06:24.092Z"
   },
   {
    "duration": 13,
    "start_time": "2022-03-12T19:06:24.103Z"
   },
   {
    "duration": 16,
    "start_time": "2022-03-12T19:06:24.118Z"
   },
   {
    "duration": 56,
    "start_time": "2022-03-12T19:06:24.136Z"
   },
   {
    "duration": 16,
    "start_time": "2022-03-12T19:06:24.196Z"
   },
   {
    "duration": 5,
    "start_time": "2022-03-12T19:06:24.214Z"
   },
   {
    "duration": 13,
    "start_time": "2022-03-12T19:06:24.221Z"
   },
   {
    "duration": 10,
    "start_time": "2022-03-12T19:06:24.236Z"
   },
   {
    "duration": 34,
    "start_time": "2022-03-12T19:06:24.248Z"
   },
   {
    "duration": 8,
    "start_time": "2022-03-12T19:06:24.284Z"
   },
   {
    "duration": 14,
    "start_time": "2022-03-12T19:06:24.294Z"
   },
   {
    "duration": 7,
    "start_time": "2022-03-12T19:06:24.310Z"
   },
   {
    "duration": 26,
    "start_time": "2022-03-12T19:06:24.318Z"
   },
   {
    "duration": 35,
    "start_time": "2022-03-12T19:06:24.345Z"
   },
   {
    "duration": 8,
    "start_time": "2022-03-12T19:06:24.381Z"
   },
   {
    "duration": 4,
    "start_time": "2022-03-12T19:06:24.391Z"
   },
   {
    "duration": 16,
    "start_time": "2022-03-12T19:06:24.397Z"
   },
   {
    "duration": 6,
    "start_time": "2022-03-12T19:06:24.415Z"
   },
   {
    "duration": 54,
    "start_time": "2022-03-12T19:06:24.423Z"
   },
   {
    "duration": 9,
    "start_time": "2022-03-12T19:06:24.479Z"
   },
   {
    "duration": 15,
    "start_time": "2022-03-12T19:06:24.490Z"
   },
   {
    "duration": 6,
    "start_time": "2022-03-12T19:06:24.507Z"
   },
   {
    "duration": 15,
    "start_time": "2022-03-12T19:06:24.515Z"
   },
   {
    "duration": 54,
    "start_time": "2022-03-12T19:06:24.532Z"
   },
   {
    "duration": 6,
    "start_time": "2022-03-12T19:06:32.082Z"
   },
   {
    "duration": 16,
    "start_time": "2022-03-12T19:16:28.927Z"
   },
   {
    "duration": 8,
    "start_time": "2022-03-12T19:16:58.070Z"
   },
   {
    "duration": 15,
    "start_time": "2022-03-12T19:17:19.684Z"
   },
   {
    "duration": 8,
    "start_time": "2022-03-12T19:17:30.204Z"
   },
   {
    "duration": 14,
    "start_time": "2022-03-12T19:17:50.326Z"
   },
   {
    "duration": 7,
    "start_time": "2022-03-12T19:17:56.420Z"
   },
   {
    "duration": 8,
    "start_time": "2022-03-12T19:18:27.410Z"
   },
   {
    "duration": 14,
    "start_time": "2022-03-12T19:23:31.484Z"
   },
   {
    "duration": 14,
    "start_time": "2022-03-12T19:24:44.922Z"
   },
   {
    "duration": 15,
    "start_time": "2022-03-12T19:24:50.799Z"
   },
   {
    "duration": 15,
    "start_time": "2022-03-12T19:25:01.752Z"
   },
   {
    "duration": 15,
    "start_time": "2022-03-12T19:25:09.725Z"
   },
   {
    "duration": 16,
    "start_time": "2022-03-12T19:25:23.095Z"
   },
   {
    "duration": 15,
    "start_time": "2022-03-12T19:25:30.516Z"
   },
   {
    "duration": 14,
    "start_time": "2022-03-12T19:26:27.456Z"
   },
   {
    "duration": 14,
    "start_time": "2022-03-12T19:26:27.768Z"
   },
   {
    "duration": 17,
    "start_time": "2022-03-12T19:29:15.733Z"
   },
   {
    "duration": 656,
    "start_time": "2022-03-12T19:32:29.534Z"
   },
   {
    "duration": 11,
    "start_time": "2022-03-12T19:32:30.192Z"
   },
   {
    "duration": 14,
    "start_time": "2022-03-12T19:32:30.205Z"
   },
   {
    "duration": 7,
    "start_time": "2022-03-12T19:32:30.221Z"
   },
   {
    "duration": 7,
    "start_time": "2022-03-12T19:32:30.229Z"
   },
   {
    "duration": 39,
    "start_time": "2022-03-12T19:32:30.238Z"
   },
   {
    "duration": 25,
    "start_time": "2022-03-12T19:32:30.279Z"
   },
   {
    "duration": 31,
    "start_time": "2022-03-12T19:32:30.306Z"
   },
   {
    "duration": 51,
    "start_time": "2022-03-12T19:32:30.339Z"
   },
   {
    "duration": 11,
    "start_time": "2022-03-12T19:32:30.392Z"
   },
   {
    "duration": 13,
    "start_time": "2022-03-12T19:32:30.405Z"
   },
   {
    "duration": 11,
    "start_time": "2022-03-12T19:32:30.420Z"
   },
   {
    "duration": 10,
    "start_time": "2022-03-12T19:32:30.433Z"
   },
   {
    "duration": 33,
    "start_time": "2022-03-12T19:32:30.444Z"
   },
   {
    "duration": 23,
    "start_time": "2022-03-12T19:32:30.479Z"
   },
   {
    "duration": 22,
    "start_time": "2022-03-12T19:32:30.504Z"
   },
   {
    "duration": 13,
    "start_time": "2022-03-12T19:32:30.528Z"
   },
   {
    "duration": 10,
    "start_time": "2022-03-12T19:32:30.543Z"
   },
   {
    "duration": 16,
    "start_time": "2022-03-12T19:32:30.555Z"
   },
   {
    "duration": 20,
    "start_time": "2022-03-12T19:32:30.573Z"
   },
   {
    "duration": 27,
    "start_time": "2022-03-12T19:32:30.595Z"
   },
   {
    "duration": 16,
    "start_time": "2022-03-12T19:32:30.624Z"
   },
   {
    "duration": 5,
    "start_time": "2022-03-12T19:32:30.644Z"
   },
   {
    "duration": 37,
    "start_time": "2022-03-12T19:32:30.651Z"
   },
   {
    "duration": 39,
    "start_time": "2022-03-12T19:32:30.689Z"
   },
   {
    "duration": 19,
    "start_time": "2022-03-12T19:32:30.730Z"
   },
   {
    "duration": 9,
    "start_time": "2022-03-12T19:32:30.751Z"
   },
   {
    "duration": 21,
    "start_time": "2022-03-12T19:32:30.763Z"
   },
   {
    "duration": 21,
    "start_time": "2022-03-12T19:32:30.786Z"
   },
   {
    "duration": 31,
    "start_time": "2022-03-12T19:32:30.809Z"
   },
   {
    "duration": 17,
    "start_time": "2022-03-12T19:32:30.842Z"
   },
   {
    "duration": 12,
    "start_time": "2022-03-12T19:32:30.861Z"
   },
   {
    "duration": 12,
    "start_time": "2022-03-12T19:32:30.875Z"
   },
   {
    "duration": 29,
    "start_time": "2022-03-12T19:32:30.889Z"
   },
   {
    "duration": 8,
    "start_time": "2022-03-12T19:32:30.920Z"
   },
   {
    "duration": 28,
    "start_time": "2022-03-12T19:32:30.931Z"
   },
   {
    "duration": 9,
    "start_time": "2022-03-12T19:32:30.961Z"
   },
   {
    "duration": 28,
    "start_time": "2022-03-12T19:32:30.972Z"
   },
   {
    "duration": 20,
    "start_time": "2022-03-12T19:32:31.002Z"
   },
   {
    "duration": 16,
    "start_time": "2022-03-12T19:32:31.024Z"
   },
   {
    "duration": 25,
    "start_time": "2022-03-12T19:32:31.042Z"
   },
   {
    "duration": 15,
    "start_time": "2022-03-12T19:32:31.069Z"
   },
   {
    "duration": 16,
    "start_time": "2022-03-12T19:32:31.087Z"
   },
   {
    "duration": 28,
    "start_time": "2022-03-12T19:35:16.866Z"
   },
   {
    "duration": 11,
    "start_time": "2022-03-12T19:35:22.432Z"
   },
   {
    "duration": 10,
    "start_time": "2022-03-12T19:35:27.142Z"
   },
   {
    "duration": 8,
    "start_time": "2022-03-12T19:36:51.084Z"
   },
   {
    "duration": 12,
    "start_time": "2022-03-12T19:38:35.365Z"
   },
   {
    "duration": 497,
    "start_time": "2022-03-21T18:36:02.467Z"
   },
   {
    "duration": 15,
    "start_time": "2022-03-21T18:36:02.967Z"
   },
   {
    "duration": 10,
    "start_time": "2022-03-21T18:36:02.984Z"
   },
   {
    "duration": 4,
    "start_time": "2022-03-21T18:36:02.996Z"
   },
   {
    "duration": 6,
    "start_time": "2022-03-21T18:36:03.002Z"
   },
   {
    "duration": 38,
    "start_time": "2022-03-21T18:36:03.010Z"
   },
   {
    "duration": 32,
    "start_time": "2022-03-21T18:36:03.050Z"
   },
   {
    "duration": 24,
    "start_time": "2022-03-21T18:36:03.084Z"
   },
   {
    "duration": 25,
    "start_time": "2022-03-21T18:36:03.110Z"
   },
   {
    "duration": 14,
    "start_time": "2022-03-21T18:36:03.138Z"
   },
   {
    "duration": 40,
    "start_time": "2022-03-21T18:36:03.154Z"
   },
   {
    "duration": 7,
    "start_time": "2022-03-21T18:36:03.196Z"
   },
   {
    "duration": 8,
    "start_time": "2022-03-21T18:36:03.205Z"
   },
   {
    "duration": 9,
    "start_time": "2022-03-21T18:36:03.214Z"
   },
   {
    "duration": 10,
    "start_time": "2022-03-21T18:36:03.224Z"
   },
   {
    "duration": 10,
    "start_time": "2022-03-21T18:36:03.236Z"
   },
   {
    "duration": 7,
    "start_time": "2022-03-21T18:36:03.281Z"
   },
   {
    "duration": 11,
    "start_time": "2022-03-21T18:36:03.294Z"
   },
   {
    "duration": 15,
    "start_time": "2022-03-21T18:36:03.306Z"
   },
   {
    "duration": 17,
    "start_time": "2022-03-21T18:36:03.323Z"
   },
   {
    "duration": 39,
    "start_time": "2022-03-21T18:36:03.342Z"
   },
   {
    "duration": 20,
    "start_time": "2022-03-21T18:36:03.383Z"
   },
   {
    "duration": 6,
    "start_time": "2022-03-21T18:36:03.405Z"
   },
   {
    "duration": 22,
    "start_time": "2022-03-21T18:36:03.413Z"
   },
   {
    "duration": 8,
    "start_time": "2022-03-21T18:36:03.437Z"
   },
   {
    "duration": 16,
    "start_time": "2022-03-21T18:36:03.447Z"
   },
   {
    "duration": 21,
    "start_time": "2022-03-21T18:36:03.465Z"
   },
   {
    "duration": 13,
    "start_time": "2022-03-21T18:36:03.490Z"
   },
   {
    "duration": 3,
    "start_time": "2022-03-21T18:36:03.505Z"
   },
   {
    "duration": 20,
    "start_time": "2022-03-21T18:36:03.510Z"
   },
   {
    "duration": 6,
    "start_time": "2022-03-21T18:36:03.531Z"
   },
   {
    "duration": 46,
    "start_time": "2022-03-21T18:36:03.539Z"
   },
   {
    "duration": 8,
    "start_time": "2022-03-21T18:36:03.586Z"
   },
   {
    "duration": 70,
    "start_time": "2022-03-21T18:36:03.596Z"
   },
   {
    "duration": 6,
    "start_time": "2022-03-21T18:36:03.667Z"
   },
   {
    "duration": 17,
    "start_time": "2022-03-21T18:36:03.674Z"
   },
   {
    "duration": 5,
    "start_time": "2022-03-21T18:36:03.693Z"
   },
   {
    "duration": 14,
    "start_time": "2022-03-21T18:36:03.699Z"
   },
   {
    "duration": 6,
    "start_time": "2022-03-21T18:36:03.715Z"
   },
   {
    "duration": 11,
    "start_time": "2022-03-21T18:36:03.722Z"
   },
   {
    "duration": 15,
    "start_time": "2022-03-21T18:36:03.734Z"
   },
   {
    "duration": 37,
    "start_time": "2022-03-21T18:36:03.751Z"
   },
   {
    "duration": 16,
    "start_time": "2022-03-21T18:36:03.789Z"
   },
   {
    "duration": 4,
    "start_time": "2022-03-21T18:41:05.525Z"
   },
   {
    "duration": 5,
    "start_time": "2022-03-21T18:41:47.001Z"
   },
   {
    "duration": 4,
    "start_time": "2022-03-21T18:45:27.082Z"
   },
   {
    "duration": 18,
    "start_time": "2022-03-21T18:54:28.192Z"
   },
   {
    "duration": 4,
    "start_time": "2022-03-21T18:56:59.347Z"
   },
   {
    "duration": 516,
    "start_time": "2022-03-22T07:38:03.705Z"
   },
   {
    "duration": 17,
    "start_time": "2022-03-22T07:38:04.224Z"
   },
   {
    "duration": 17,
    "start_time": "2022-03-22T07:38:04.244Z"
   },
   {
    "duration": 17,
    "start_time": "2022-03-22T07:38:04.263Z"
   },
   {
    "duration": 29,
    "start_time": "2022-03-22T07:38:04.282Z"
   },
   {
    "duration": 57,
    "start_time": "2022-03-22T07:38:04.314Z"
   },
   {
    "duration": 24,
    "start_time": "2022-03-22T07:38:04.373Z"
   },
   {
    "duration": 25,
    "start_time": "2022-03-22T07:38:04.399Z"
   },
   {
    "duration": 24,
    "start_time": "2022-03-22T07:38:04.427Z"
   },
   {
    "duration": 13,
    "start_time": "2022-03-22T07:38:04.454Z"
   },
   {
    "duration": 41,
    "start_time": "2022-03-22T07:38:04.469Z"
   },
   {
    "duration": 8,
    "start_time": "2022-03-22T07:38:04.511Z"
   },
   {
    "duration": 19,
    "start_time": "2022-03-22T07:38:04.521Z"
   },
   {
    "duration": 11,
    "start_time": "2022-03-22T07:38:04.542Z"
   },
   {
    "duration": 19,
    "start_time": "2022-03-22T07:38:04.555Z"
   },
   {
    "duration": 9,
    "start_time": "2022-03-22T07:38:04.576Z"
   },
   {
    "duration": 24,
    "start_time": "2022-03-22T07:38:04.587Z"
   },
   {
    "duration": 13,
    "start_time": "2022-03-22T07:38:04.614Z"
   },
   {
    "duration": 24,
    "start_time": "2022-03-22T07:38:04.629Z"
   },
   {
    "duration": 25,
    "start_time": "2022-03-22T07:38:04.655Z"
   },
   {
    "duration": 31,
    "start_time": "2022-03-22T07:38:04.682Z"
   },
   {
    "duration": 21,
    "start_time": "2022-03-22T07:38:04.715Z"
   },
   {
    "duration": 6,
    "start_time": "2022-03-22T07:38:04.739Z"
   },
   {
    "duration": 16,
    "start_time": "2022-03-22T07:38:04.747Z"
   },
   {
    "duration": 18,
    "start_time": "2022-03-22T07:38:04.765Z"
   },
   {
    "duration": 11,
    "start_time": "2022-03-22T07:38:04.801Z"
   },
   {
    "duration": 29,
    "start_time": "2022-03-22T07:38:04.814Z"
   },
   {
    "duration": 24,
    "start_time": "2022-03-22T07:38:04.847Z"
   },
   {
    "duration": 20,
    "start_time": "2022-03-22T07:38:04.873Z"
   },
   {
    "duration": 49,
    "start_time": "2022-03-22T07:38:04.895Z"
   },
   {
    "duration": 13,
    "start_time": "2022-03-22T07:38:04.946Z"
   },
   {
    "duration": 9,
    "start_time": "2022-03-22T07:38:04.961Z"
   },
   {
    "duration": 12,
    "start_time": "2022-03-22T07:38:04.972Z"
   },
   {
    "duration": 19,
    "start_time": "2022-03-22T07:38:04.986Z"
   },
   {
    "duration": 14,
    "start_time": "2022-03-22T07:38:05.007Z"
   },
   {
    "duration": 30,
    "start_time": "2022-03-22T07:38:05.023Z"
   },
   {
    "duration": 14,
    "start_time": "2022-03-22T07:38:05.055Z"
   },
   {
    "duration": 7,
    "start_time": "2022-03-22T07:38:05.072Z"
   },
   {
    "duration": 25,
    "start_time": "2022-03-22T07:38:05.081Z"
   },
   {
    "duration": 20,
    "start_time": "2022-03-22T07:38:05.108Z"
   },
   {
    "duration": 19,
    "start_time": "2022-03-22T07:38:05.130Z"
   },
   {
    "duration": 17,
    "start_time": "2022-03-22T07:38:05.151Z"
   },
   {
    "duration": 16,
    "start_time": "2022-03-22T07:39:19.757Z"
   },
   {
    "duration": 398,
    "start_time": "2022-03-22T07:39:41.966Z"
   },
   {
    "duration": 21,
    "start_time": "2022-03-22T07:40:34.335Z"
   },
   {
    "duration": 23,
    "start_time": "2022-03-22T07:44:58.113Z"
   },
   {
    "duration": 7,
    "start_time": "2022-03-22T07:45:04.681Z"
   },
   {
    "duration": 7,
    "start_time": "2022-03-22T07:45:15.545Z"
   },
   {
    "duration": 482,
    "start_time": "2022-03-22T07:45:21.752Z"
   },
   {
    "duration": 19,
    "start_time": "2022-03-22T07:45:22.236Z"
   },
   {
    "duration": 12,
    "start_time": "2022-03-22T07:45:22.257Z"
   },
   {
    "duration": 32,
    "start_time": "2022-03-22T07:45:22.272Z"
   },
   {
    "duration": 8,
    "start_time": "2022-03-22T07:45:22.306Z"
   },
   {
    "duration": 25,
    "start_time": "2022-03-22T07:45:22.316Z"
   },
   {
    "duration": 27,
    "start_time": "2022-03-22T07:45:22.344Z"
   },
   {
    "duration": 45,
    "start_time": "2022-03-22T07:45:22.372Z"
   },
   {
    "duration": 23,
    "start_time": "2022-03-22T07:45:22.419Z"
   },
   {
    "duration": 13,
    "start_time": "2022-03-22T07:45:22.445Z"
   },
   {
    "duration": 41,
    "start_time": "2022-03-22T07:45:22.461Z"
   },
   {
    "duration": 8,
    "start_time": "2022-03-22T07:45:22.504Z"
   },
   {
    "duration": 18,
    "start_time": "2022-03-22T07:45:22.513Z"
   },
   {
    "duration": 12,
    "start_time": "2022-03-22T07:45:22.533Z"
   },
   {
    "duration": 11,
    "start_time": "2022-03-22T07:45:22.547Z"
   },
   {
    "duration": 9,
    "start_time": "2022-03-22T07:45:22.561Z"
   },
   {
    "duration": 32,
    "start_time": "2022-03-22T07:45:22.572Z"
   },
   {
    "duration": 11,
    "start_time": "2022-03-22T07:45:22.607Z"
   },
   {
    "duration": 17,
    "start_time": "2022-03-22T07:45:22.620Z"
   },
   {
    "duration": 17,
    "start_time": "2022-03-22T07:45:22.639Z"
   },
   {
    "duration": 51,
    "start_time": "2022-03-22T07:45:22.658Z"
   },
   {
    "duration": 19,
    "start_time": "2022-03-22T07:45:22.711Z"
   },
   {
    "duration": 6,
    "start_time": "2022-03-22T07:45:22.732Z"
   },
   {
    "duration": 20,
    "start_time": "2022-03-22T07:45:22.739Z"
   },
   {
    "duration": 12,
    "start_time": "2022-03-22T07:45:22.761Z"
   },
   {
    "duration": 29,
    "start_time": "2022-03-22T07:45:22.775Z"
   },
   {
    "duration": 9,
    "start_time": "2022-03-22T07:45:22.806Z"
   },
   {
    "duration": 15,
    "start_time": "2022-03-22T07:45:22.819Z"
   },
   {
    "duration": 9,
    "start_time": "2022-03-22T07:45:22.836Z"
   },
   {
    "duration": 32,
    "start_time": "2022-03-22T07:45:22.847Z"
   },
   {
    "duration": 21,
    "start_time": "2022-03-22T07:45:22.881Z"
   },
   {
    "duration": 15,
    "start_time": "2022-03-22T07:45:22.904Z"
   },
   {
    "duration": 5,
    "start_time": "2022-03-22T07:45:22.921Z"
   },
   {
    "duration": 21,
    "start_time": "2022-03-22T07:45:22.928Z"
   },
   {
    "duration": 13,
    "start_time": "2022-03-22T07:45:22.951Z"
   },
   {
    "duration": 32,
    "start_time": "2022-03-22T07:45:22.966Z"
   },
   {
    "duration": 23,
    "start_time": "2022-03-22T07:45:23.001Z"
   },
   {
    "duration": 8,
    "start_time": "2022-03-22T07:45:23.027Z"
   },
   {
    "duration": 18,
    "start_time": "2022-03-22T07:45:23.037Z"
   },
   {
    "duration": 46,
    "start_time": "2022-03-22T07:45:23.057Z"
   },
   {
    "duration": 20,
    "start_time": "2022-03-22T07:45:23.105Z"
   },
   {
    "duration": 18,
    "start_time": "2022-03-22T07:48:15.877Z"
   },
   {
    "duration": 123,
    "start_time": "2022-03-22T07:58:47.257Z"
   },
   {
    "duration": 24,
    "start_time": "2022-03-22T07:59:30.145Z"
   },
   {
    "duration": 26,
    "start_time": "2022-03-22T08:00:06.521Z"
   },
   {
    "duration": 13,
    "start_time": "2022-03-22T08:02:09.904Z"
   },
   {
    "duration": 27,
    "start_time": "2022-03-22T08:02:28.874Z"
   },
   {
    "duration": 29,
    "start_time": "2022-03-22T08:02:40.265Z"
   },
   {
    "duration": 9,
    "start_time": "2022-03-22T08:02:59.148Z"
   },
   {
    "duration": 31,
    "start_time": "2022-03-22T08:03:03.532Z"
   },
   {
    "duration": 24,
    "start_time": "2022-03-22T08:03:16.924Z"
   },
   {
    "duration": 30,
    "start_time": "2022-03-22T08:03:21.229Z"
   },
   {
    "duration": 13,
    "start_time": "2022-03-22T08:04:09.560Z"
   },
   {
    "duration": 12,
    "start_time": "2022-03-22T08:04:12.085Z"
   },
   {
    "duration": 17,
    "start_time": "2022-03-22T08:04:15.308Z"
   },
   {
    "duration": 17,
    "start_time": "2022-03-22T08:04:26.538Z"
   },
   {
    "duration": 433,
    "start_time": "2022-03-22T08:07:15.083Z"
   },
   {
    "duration": 25,
    "start_time": "2022-03-22T08:07:21.275Z"
   },
   {
    "duration": 24,
    "start_time": "2022-03-22T08:11:39.860Z"
   },
   {
    "duration": 24,
    "start_time": "2022-03-22T08:11:45.736Z"
   },
   {
    "duration": 25,
    "start_time": "2022-03-22T08:11:54.181Z"
   },
   {
    "duration": 583,
    "start_time": "2022-03-22T20:17:22.963Z"
   },
   {
    "duration": 15,
    "start_time": "2022-03-22T20:17:23.548Z"
   },
   {
    "duration": 10,
    "start_time": "2022-03-22T20:17:23.564Z"
   },
   {
    "duration": 5,
    "start_time": "2022-03-22T20:17:23.575Z"
   },
   {
    "duration": 5,
    "start_time": "2022-03-22T20:17:23.581Z"
   },
   {
    "duration": 19,
    "start_time": "2022-03-22T20:17:23.601Z"
   },
   {
    "duration": 20,
    "start_time": "2022-03-22T20:17:23.622Z"
   },
   {
    "duration": 21,
    "start_time": "2022-03-22T20:17:23.644Z"
   },
   {
    "duration": 44,
    "start_time": "2022-03-22T20:17:23.666Z"
   },
   {
    "duration": 10,
    "start_time": "2022-03-22T20:17:23.713Z"
   },
   {
    "duration": 12,
    "start_time": "2022-03-22T20:17:23.724Z"
   },
   {
    "duration": 7,
    "start_time": "2022-03-22T20:17:23.737Z"
   },
   {
    "duration": 8,
    "start_time": "2022-03-22T20:17:23.746Z"
   },
   {
    "duration": 9,
    "start_time": "2022-03-22T20:17:23.756Z"
   },
   {
    "duration": 39,
    "start_time": "2022-03-22T20:17:23.766Z"
   },
   {
    "duration": 9,
    "start_time": "2022-03-22T20:17:23.806Z"
   },
   {
    "duration": 5,
    "start_time": "2022-03-22T20:17:23.816Z"
   },
   {
    "duration": 15,
    "start_time": "2022-03-22T20:17:23.823Z"
   },
   {
    "duration": 19,
    "start_time": "2022-03-22T20:17:23.839Z"
   },
   {
    "duration": 16,
    "start_time": "2022-03-22T20:17:23.859Z"
   },
   {
    "duration": 39,
    "start_time": "2022-03-22T20:17:23.877Z"
   },
   {
    "duration": 16,
    "start_time": "2022-03-22T20:17:23.918Z"
   },
   {
    "duration": 5,
    "start_time": "2022-03-22T20:17:23.935Z"
   },
   {
    "duration": 11,
    "start_time": "2022-03-22T20:17:23.942Z"
   },
   {
    "duration": 6,
    "start_time": "2022-03-22T20:17:23.954Z"
   },
   {
    "duration": 10,
    "start_time": "2022-03-22T20:17:23.961Z"
   },
   {
    "duration": 33,
    "start_time": "2022-03-22T20:17:23.972Z"
   },
   {
    "duration": 12,
    "start_time": "2022-03-22T20:17:24.008Z"
   },
   {
    "duration": 4,
    "start_time": "2022-03-22T20:17:24.021Z"
   },
   {
    "duration": 22,
    "start_time": "2022-03-22T20:17:24.027Z"
   },
   {
    "duration": 5,
    "start_time": "2022-03-22T20:17:24.050Z"
   },
   {
    "duration": 10,
    "start_time": "2022-03-22T20:17:24.057Z"
   },
   {
    "duration": 6,
    "start_time": "2022-03-22T20:17:24.069Z"
   },
   {
    "duration": 30,
    "start_time": "2022-03-22T20:17:24.077Z"
   },
   {
    "duration": 4,
    "start_time": "2022-03-22T20:17:24.109Z"
   },
   {
    "duration": 22,
    "start_time": "2022-03-22T20:17:24.115Z"
   },
   {
    "duration": 15,
    "start_time": "2022-03-22T20:17:24.139Z"
   },
   {
    "duration": 11,
    "start_time": "2022-03-22T20:17:24.156Z"
   },
   {
    "duration": 47,
    "start_time": "2022-03-22T20:17:24.169Z"
   },
   {
    "duration": 15,
    "start_time": "2022-03-22T20:17:24.218Z"
   },
   {
    "duration": 68,
    "start_time": "2022-03-22T20:49:27.373Z"
   },
   {
    "duration": 13,
    "start_time": "2022-03-22T20:50:02.665Z"
   },
   {
    "duration": 13,
    "start_time": "2022-03-22T20:50:11.877Z"
   },
   {
    "duration": 13,
    "start_time": "2022-03-22T20:50:19.132Z"
   },
   {
    "duration": 13,
    "start_time": "2022-03-22T20:50:26.021Z"
   },
   {
    "duration": 12,
    "start_time": "2022-03-22T20:51:16.282Z"
   },
   {
    "duration": 11,
    "start_time": "2022-03-22T20:52:42.144Z"
   },
   {
    "duration": 456,
    "start_time": "2022-03-22T20:52:50.907Z"
   },
   {
    "duration": 13,
    "start_time": "2022-03-22T20:52:51.365Z"
   },
   {
    "duration": 9,
    "start_time": "2022-03-22T20:52:51.380Z"
   },
   {
    "duration": 4,
    "start_time": "2022-03-22T20:52:51.401Z"
   },
   {
    "duration": 5,
    "start_time": "2022-03-22T20:52:51.407Z"
   },
   {
    "duration": 21,
    "start_time": "2022-03-22T20:52:51.413Z"
   },
   {
    "duration": 20,
    "start_time": "2022-03-22T20:52:51.435Z"
   },
   {
    "duration": 19,
    "start_time": "2022-03-22T20:52:51.456Z"
   },
   {
    "duration": 47,
    "start_time": "2022-03-22T20:52:51.477Z"
   },
   {
    "duration": 12,
    "start_time": "2022-03-22T20:52:51.526Z"
   },
   {
    "duration": 11,
    "start_time": "2022-03-22T20:52:51.540Z"
   },
   {
    "duration": 7,
    "start_time": "2022-03-22T20:52:51.553Z"
   },
   {
    "duration": 7,
    "start_time": "2022-03-22T20:52:51.561Z"
   },
   {
    "duration": 37,
    "start_time": "2022-03-22T20:52:51.570Z"
   },
   {
    "duration": 9,
    "start_time": "2022-03-22T20:52:51.609Z"
   },
   {
    "duration": 9,
    "start_time": "2022-03-22T20:52:51.619Z"
   },
   {
    "duration": 5,
    "start_time": "2022-03-22T20:52:51.630Z"
   },
   {
    "duration": 10,
    "start_time": "2022-03-22T20:52:51.637Z"
   },
   {
    "duration": 15,
    "start_time": "2022-03-22T20:52:51.648Z"
   },
   {
    "duration": 48,
    "start_time": "2022-03-22T20:52:51.665Z"
   },
   {
    "duration": 17,
    "start_time": "2022-03-22T20:52:51.715Z"
   },
   {
    "duration": 16,
    "start_time": "2022-03-22T20:52:51.734Z"
   },
   {
    "duration": 5,
    "start_time": "2022-03-22T20:52:51.751Z"
   },
   {
    "duration": 12,
    "start_time": "2022-03-22T20:52:51.757Z"
   },
   {
    "duration": 35,
    "start_time": "2022-03-22T20:52:51.770Z"
   },
   {
    "duration": 8,
    "start_time": "2022-03-22T20:52:51.807Z"
   },
   {
    "duration": 8,
    "start_time": "2022-03-22T20:52:51.816Z"
   },
   {
    "duration": 13,
    "start_time": "2022-03-22T20:52:51.828Z"
   },
   {
    "duration": 7,
    "start_time": "2022-03-22T20:52:51.842Z"
   },
   {
    "duration": 24,
    "start_time": "2022-03-22T20:52:51.851Z"
   },
   {
    "duration": 26,
    "start_time": "2022-03-22T20:52:51.876Z"
   },
   {
    "duration": 8,
    "start_time": "2022-03-22T20:52:51.903Z"
   },
   {
    "duration": 5,
    "start_time": "2022-03-22T20:52:51.912Z"
   },
   {
    "duration": 16,
    "start_time": "2022-03-22T20:52:51.918Z"
   },
   {
    "duration": 10,
    "start_time": "2022-03-22T20:52:51.936Z"
   },
   {
    "duration": 27,
    "start_time": "2022-03-22T20:52:51.947Z"
   },
   {
    "duration": 39,
    "start_time": "2022-03-22T20:52:51.975Z"
   },
   {
    "duration": 7,
    "start_time": "2022-03-22T20:52:52.015Z"
   },
   {
    "duration": 25,
    "start_time": "2022-03-22T20:52:52.023Z"
   },
   {
    "duration": 15,
    "start_time": "2022-03-22T20:52:52.050Z"
   },
   {
    "duration": 8,
    "start_time": "2022-03-22T20:55:36.826Z"
   },
   {
    "duration": 9,
    "start_time": "2022-03-22T20:55:44.443Z"
   },
   {
    "duration": 6,
    "start_time": "2022-03-22T20:55:59.681Z"
   },
   {
    "duration": 6,
    "start_time": "2022-03-22T20:56:05.074Z"
   },
   {
    "duration": 8,
    "start_time": "2022-03-22T20:56:15.684Z"
   },
   {
    "duration": 4,
    "start_time": "2022-03-22T20:59:31.758Z"
   },
   {
    "duration": 9,
    "start_time": "2022-03-22T20:59:32.822Z"
   },
   {
    "duration": 59,
    "start_time": "2022-03-22T20:59:55.342Z"
   },
   {
    "duration": 7,
    "start_time": "2022-03-22T20:59:58.705Z"
   },
   {
    "duration": 4,
    "start_time": "2022-03-22T21:00:05.111Z"
   },
   {
    "duration": 5,
    "start_time": "2022-03-22T21:00:39.131Z"
   },
   {
    "duration": 9,
    "start_time": "2022-03-22T21:03:01.286Z"
   },
   {
    "duration": 7,
    "start_time": "2022-03-22T21:03:03.587Z"
   },
   {
    "duration": 5,
    "start_time": "2022-03-22T21:03:04.983Z"
   },
   {
    "duration": 427,
    "start_time": "2022-03-22T21:03:18.842Z"
   },
   {
    "duration": 14,
    "start_time": "2022-03-22T21:03:19.272Z"
   },
   {
    "duration": 9,
    "start_time": "2022-03-22T21:03:19.288Z"
   },
   {
    "duration": 3,
    "start_time": "2022-03-22T21:03:19.302Z"
   },
   {
    "duration": 5,
    "start_time": "2022-03-22T21:03:19.307Z"
   },
   {
    "duration": 21,
    "start_time": "2022-03-22T21:03:19.313Z"
   },
   {
    "duration": 19,
    "start_time": "2022-03-22T21:03:19.336Z"
   },
   {
    "duration": 19,
    "start_time": "2022-03-22T21:03:19.357Z"
   },
   {
    "duration": 19,
    "start_time": "2022-03-22T21:03:19.402Z"
   },
   {
    "duration": 10,
    "start_time": "2022-03-22T21:03:19.424Z"
   },
   {
    "duration": 12,
    "start_time": "2022-03-22T21:03:19.436Z"
   },
   {
    "duration": 7,
    "start_time": "2022-03-22T21:03:19.450Z"
   },
   {
    "duration": 7,
    "start_time": "2022-03-22T21:03:19.458Z"
   },
   {
    "duration": 36,
    "start_time": "2022-03-22T21:03:19.466Z"
   },
   {
    "duration": 9,
    "start_time": "2022-03-22T21:03:19.504Z"
   },
   {
    "duration": 8,
    "start_time": "2022-03-22T21:03:19.514Z"
   },
   {
    "duration": 5,
    "start_time": "2022-03-22T21:03:19.523Z"
   },
   {
    "duration": 9,
    "start_time": "2022-03-22T21:03:19.529Z"
   },
   {
    "duration": 17,
    "start_time": "2022-03-22T21:03:19.539Z"
   },
   {
    "duration": 15,
    "start_time": "2022-03-22T21:03:19.557Z"
   },
   {
    "duration": 17,
    "start_time": "2022-03-22T21:03:19.601Z"
   },
   {
    "duration": 15,
    "start_time": "2022-03-22T21:03:19.620Z"
   },
   {
    "duration": 4,
    "start_time": "2022-03-22T21:03:19.637Z"
   },
   {
    "duration": 10,
    "start_time": "2022-03-22T21:03:19.642Z"
   },
   {
    "duration": 10,
    "start_time": "2022-03-22T21:03:19.653Z"
   },
   {
    "duration": 10,
    "start_time": "2022-03-22T21:03:19.665Z"
   },
   {
    "duration": 27,
    "start_time": "2022-03-22T21:03:19.676Z"
   },
   {
    "duration": 16,
    "start_time": "2022-03-22T21:03:19.707Z"
   },
   {
    "duration": 6,
    "start_time": "2022-03-22T21:03:19.725Z"
   },
   {
    "duration": 26,
    "start_time": "2022-03-22T21:03:19.733Z"
   },
   {
    "duration": 10,
    "start_time": "2022-03-22T21:03:19.761Z"
   },
   {
    "duration": 12,
    "start_time": "2022-03-22T21:03:19.772Z"
   },
   {
    "duration": 5,
    "start_time": "2022-03-22T21:03:19.801Z"
   },
   {
    "duration": 15,
    "start_time": "2022-03-22T21:03:19.807Z"
   },
   {
    "duration": 6,
    "start_time": "2022-03-22T21:03:19.824Z"
   },
   {
    "duration": 25,
    "start_time": "2022-03-22T21:03:19.831Z"
   },
   {
    "duration": 17,
    "start_time": "2022-03-22T21:03:19.858Z"
   },
   {
    "duration": 6,
    "start_time": "2022-03-22T21:03:19.900Z"
   },
   {
    "duration": 20,
    "start_time": "2022-03-22T21:03:19.908Z"
   },
   {
    "duration": 14,
    "start_time": "2022-03-22T21:03:19.929Z"
   },
   {
    "duration": 18,
    "start_time": "2022-03-22T21:10:46.773Z"
   },
   {
    "duration": 10,
    "start_time": "2022-03-22T21:10:54.326Z"
   },
   {
    "duration": 23,
    "start_time": "2022-03-22T21:11:27.606Z"
   },
   {
    "duration": 8,
    "start_time": "2022-03-22T21:11:45.773Z"
   },
   {
    "duration": 17,
    "start_time": "2022-03-22T21:11:57.281Z"
   },
   {
    "duration": 66,
    "start_time": "2022-03-22T21:12:02.041Z"
   },
   {
    "duration": 10,
    "start_time": "2022-03-22T21:12:05.059Z"
   },
   {
    "duration": 10,
    "start_time": "2022-03-22T21:12:09.390Z"
   },
   {
    "duration": 9,
    "start_time": "2022-03-22T21:15:20.439Z"
   },
   {
    "duration": 8,
    "start_time": "2022-03-22T21:32:57.258Z"
   },
   {
    "duration": 9,
    "start_time": "2022-03-22T21:33:11.483Z"
   },
   {
    "duration": 3,
    "start_time": "2022-03-22T21:33:20.470Z"
   },
   {
    "duration": 9,
    "start_time": "2022-03-22T21:33:22.353Z"
   },
   {
    "duration": 7,
    "start_time": "2022-03-22T21:34:00.484Z"
   },
   {
    "duration": 8,
    "start_time": "2022-03-22T21:34:03.827Z"
   },
   {
    "duration": 440,
    "start_time": "2022-03-22T21:38:41.236Z"
   },
   {
    "duration": 14,
    "start_time": "2022-03-22T21:38:41.677Z"
   },
   {
    "duration": 9,
    "start_time": "2022-03-22T21:38:41.693Z"
   },
   {
    "duration": 3,
    "start_time": "2022-03-22T21:38:41.704Z"
   },
   {
    "duration": 7,
    "start_time": "2022-03-22T21:38:41.708Z"
   },
   {
    "duration": 23,
    "start_time": "2022-03-22T21:38:41.716Z"
   },
   {
    "duration": 20,
    "start_time": "2022-03-22T21:38:41.740Z"
   },
   {
    "duration": 46,
    "start_time": "2022-03-22T21:38:41.761Z"
   },
   {
    "duration": 20,
    "start_time": "2022-03-22T21:38:41.808Z"
   },
   {
    "duration": 10,
    "start_time": "2022-03-22T21:38:41.830Z"
   },
   {
    "duration": 12,
    "start_time": "2022-03-22T21:38:41.842Z"
   },
   {
    "duration": 7,
    "start_time": "2022-03-22T21:38:41.855Z"
   },
   {
    "duration": 7,
    "start_time": "2022-03-22T21:38:41.863Z"
   },
   {
    "duration": 31,
    "start_time": "2022-03-22T21:38:41.871Z"
   },
   {
    "duration": 4,
    "start_time": "2022-03-22T21:38:41.904Z"
   },
   {
    "duration": 11,
    "start_time": "2022-03-22T21:38:41.909Z"
   },
   {
    "duration": 10,
    "start_time": "2022-03-22T21:38:41.921Z"
   },
   {
    "duration": 5,
    "start_time": "2022-03-22T21:38:41.932Z"
   },
   {
    "duration": 10,
    "start_time": "2022-03-22T21:38:41.939Z"
   },
   {
    "duration": 18,
    "start_time": "2022-03-22T21:38:41.950Z"
   },
   {
    "duration": 36,
    "start_time": "2022-03-22T21:38:41.970Z"
   },
   {
    "duration": 19,
    "start_time": "2022-03-22T21:38:42.007Z"
   },
   {
    "duration": 16,
    "start_time": "2022-03-22T21:38:42.028Z"
   },
   {
    "duration": 4,
    "start_time": "2022-03-22T21:38:42.045Z"
   },
   {
    "duration": 12,
    "start_time": "2022-03-22T21:38:42.051Z"
   },
   {
    "duration": 40,
    "start_time": "2022-03-22T21:38:42.064Z"
   },
   {
    "duration": 8,
    "start_time": "2022-03-22T21:38:42.106Z"
   },
   {
    "duration": 8,
    "start_time": "2022-03-22T21:38:42.118Z"
   },
   {
    "duration": 15,
    "start_time": "2022-03-22T21:38:42.127Z"
   },
   {
    "duration": 6,
    "start_time": "2022-03-22T21:38:42.144Z"
   },
   {
    "duration": 25,
    "start_time": "2022-03-22T21:38:42.151Z"
   },
   {
    "duration": 4,
    "start_time": "2022-03-22T21:38:42.202Z"
   },
   {
    "duration": 13,
    "start_time": "2022-03-22T21:38:42.208Z"
   },
   {
    "duration": 6,
    "start_time": "2022-03-22T21:38:42.222Z"
   },
   {
    "duration": 16,
    "start_time": "2022-03-22T21:38:42.230Z"
   },
   {
    "duration": 7,
    "start_time": "2022-03-22T21:38:42.247Z"
   },
   {
    "duration": 24,
    "start_time": "2022-03-22T21:38:42.255Z"
   },
   {
    "duration": 30,
    "start_time": "2022-03-22T21:38:42.280Z"
   },
   {
    "duration": 5,
    "start_time": "2022-03-22T21:38:42.311Z"
   },
   {
    "duration": 20,
    "start_time": "2022-03-22T21:38:42.318Z"
   },
   {
    "duration": 13,
    "start_time": "2022-03-22T21:38:42.340Z"
   },
   {
    "duration": 489,
    "start_time": "2022-03-22T21:42:08.778Z"
   },
   {
    "duration": 14,
    "start_time": "2022-03-22T21:42:09.268Z"
   },
   {
    "duration": 19,
    "start_time": "2022-03-22T21:42:09.287Z"
   },
   {
    "duration": 4,
    "start_time": "2022-03-22T21:42:09.307Z"
   },
   {
    "duration": 4,
    "start_time": "2022-03-22T21:42:09.312Z"
   },
   {
    "duration": 21,
    "start_time": "2022-03-22T21:42:09.318Z"
   },
   {
    "duration": 20,
    "start_time": "2022-03-22T21:42:09.340Z"
   },
   {
    "duration": 45,
    "start_time": "2022-03-22T21:42:09.361Z"
   },
   {
    "duration": 22,
    "start_time": "2022-03-22T21:42:09.409Z"
   },
   {
    "duration": 10,
    "start_time": "2022-03-22T21:42:09.433Z"
   },
   {
    "duration": 12,
    "start_time": "2022-03-22T21:42:09.444Z"
   },
   {
    "duration": 6,
    "start_time": "2022-03-22T21:42:09.458Z"
   },
   {
    "duration": 9,
    "start_time": "2022-03-22T21:42:09.465Z"
   },
   {
    "duration": 8,
    "start_time": "2022-03-22T21:42:09.500Z"
   },
   {
    "duration": 5,
    "start_time": "2022-03-22T21:42:09.509Z"
   },
   {
    "duration": 12,
    "start_time": "2022-03-22T21:42:09.516Z"
   },
   {
    "duration": 9,
    "start_time": "2022-03-22T21:42:09.530Z"
   },
   {
    "duration": 5,
    "start_time": "2022-03-22T21:42:09.540Z"
   },
   {
    "duration": 10,
    "start_time": "2022-03-22T21:42:09.547Z"
   },
   {
    "duration": 17,
    "start_time": "2022-03-22T21:42:09.558Z"
   },
   {
    "duration": 39,
    "start_time": "2022-03-22T21:42:09.576Z"
   },
   {
    "duration": 18,
    "start_time": "2022-03-22T21:42:09.616Z"
   },
   {
    "duration": 14,
    "start_time": "2022-03-22T21:42:09.636Z"
   },
   {
    "duration": 5,
    "start_time": "2022-03-22T21:42:09.652Z"
   },
   {
    "duration": 14,
    "start_time": "2022-03-22T21:42:09.658Z"
   },
   {
    "duration": 29,
    "start_time": "2022-03-22T21:42:09.673Z"
   },
   {
    "duration": 8,
    "start_time": "2022-03-22T21:42:09.705Z"
   },
   {
    "duration": 7,
    "start_time": "2022-03-22T21:42:09.715Z"
   },
   {
    "duration": 13,
    "start_time": "2022-03-22T21:42:09.724Z"
   },
   {
    "duration": 6,
    "start_time": "2022-03-22T21:42:09.738Z"
   },
   {
    "duration": 23,
    "start_time": "2022-03-22T21:42:09.745Z"
   },
   {
    "duration": 5,
    "start_time": "2022-03-22T21:42:09.769Z"
   },
   {
    "duration": 6,
    "start_time": "2022-03-22T21:42:09.801Z"
   },
   {
    "duration": 5,
    "start_time": "2022-03-22T21:42:09.808Z"
   },
   {
    "duration": 16,
    "start_time": "2022-03-22T21:42:09.814Z"
   },
   {
    "duration": 5,
    "start_time": "2022-03-22T21:42:09.832Z"
   },
   {
    "duration": 23,
    "start_time": "2022-03-22T21:42:09.838Z"
   },
   {
    "duration": 41,
    "start_time": "2022-03-22T21:42:09.862Z"
   },
   {
    "duration": 6,
    "start_time": "2022-03-22T21:42:09.905Z"
   },
   {
    "duration": 20,
    "start_time": "2022-03-22T21:42:09.912Z"
   },
   {
    "duration": 13,
    "start_time": "2022-03-22T21:42:09.933Z"
   },
   {
    "duration": 481,
    "start_time": "2022-03-23T09:50:17.546Z"
   },
   {
    "duration": 18,
    "start_time": "2022-03-23T09:50:18.029Z"
   },
   {
    "duration": 13,
    "start_time": "2022-03-23T09:50:18.049Z"
   },
   {
    "duration": 5,
    "start_time": "2022-03-23T09:50:18.064Z"
   },
   {
    "duration": 34,
    "start_time": "2022-03-23T09:50:18.070Z"
   },
   {
    "duration": 26,
    "start_time": "2022-03-23T09:50:18.106Z"
   },
   {
    "duration": 25,
    "start_time": "2022-03-23T09:50:18.134Z"
   },
   {
    "duration": 53,
    "start_time": "2022-03-23T09:50:18.162Z"
   },
   {
    "duration": 24,
    "start_time": "2022-03-23T09:50:18.217Z"
   },
   {
    "duration": 12,
    "start_time": "2022-03-23T09:50:18.246Z"
   },
   {
    "duration": 42,
    "start_time": "2022-03-23T09:50:18.260Z"
   },
   {
    "duration": 7,
    "start_time": "2022-03-23T09:50:18.304Z"
   },
   {
    "duration": 53,
    "start_time": "2022-03-23T09:50:18.313Z"
   },
   {
    "duration": 13,
    "start_time": "2022-03-23T09:50:18.368Z"
   },
   {
    "duration": 11,
    "start_time": "2022-03-23T09:50:18.383Z"
   },
   {
    "duration": 16,
    "start_time": "2022-03-23T09:50:18.396Z"
   },
   {
    "duration": 8,
    "start_time": "2022-03-23T09:50:18.414Z"
   },
   {
    "duration": 5,
    "start_time": "2022-03-23T09:50:18.424Z"
   },
   {
    "duration": 16,
    "start_time": "2022-03-23T09:50:18.430Z"
   },
   {
    "duration": 17,
    "start_time": "2022-03-23T09:50:18.448Z"
   },
   {
    "duration": 35,
    "start_time": "2022-03-23T09:50:18.467Z"
   },
   {
    "duration": 21,
    "start_time": "2022-03-23T09:50:18.504Z"
   },
   {
    "duration": 18,
    "start_time": "2022-03-23T09:50:18.527Z"
   },
   {
    "duration": 6,
    "start_time": "2022-03-23T09:50:18.546Z"
   },
   {
    "duration": 15,
    "start_time": "2022-03-23T09:50:18.553Z"
   },
   {
    "duration": 36,
    "start_time": "2022-03-23T09:50:18.569Z"
   },
   {
    "duration": 10,
    "start_time": "2022-03-23T09:50:18.607Z"
   },
   {
    "duration": 34,
    "start_time": "2022-03-23T09:50:18.620Z"
   },
   {
    "duration": 45,
    "start_time": "2022-03-23T09:50:18.656Z"
   },
   {
    "duration": 7,
    "start_time": "2022-03-23T09:50:18.703Z"
   },
   {
    "duration": 23,
    "start_time": "2022-03-23T09:50:18.712Z"
   },
   {
    "duration": 6,
    "start_time": "2022-03-23T09:50:18.736Z"
   },
   {
    "duration": 12,
    "start_time": "2022-03-23T09:50:18.744Z"
   },
   {
    "duration": 7,
    "start_time": "2022-03-23T09:50:18.758Z"
   },
   {
    "duration": 35,
    "start_time": "2022-03-23T09:50:18.767Z"
   },
   {
    "duration": 5,
    "start_time": "2022-03-23T09:50:18.804Z"
   },
   {
    "duration": 28,
    "start_time": "2022-03-23T09:50:18.811Z"
   },
   {
    "duration": 18,
    "start_time": "2022-03-23T09:50:18.841Z"
   },
   {
    "duration": 7,
    "start_time": "2022-03-23T09:50:18.860Z"
   },
   {
    "duration": 54,
    "start_time": "2022-03-23T09:50:18.869Z"
   },
   {
    "duration": 15,
    "start_time": "2022-03-23T09:50:18.925Z"
   }
  ],
  "kernelspec": {
   "display_name": "Python 3 (ipykernel)",
   "language": "python",
   "name": "python3"
  },
  "language_info": {
   "codemirror_mode": {
    "name": "ipython",
    "version": 3
   },
   "file_extension": ".py",
   "mimetype": "text/x-python",
   "name": "python",
   "nbconvert_exporter": "python",
   "pygments_lexer": "ipython3",
   "version": "3.9.13"
  },
  "toc": {
   "base_numbering": 1,
   "nav_menu": {},
   "number_sections": true,
   "sideBar": true,
   "skip_h1_title": true,
   "title_cell": "Table of Contents",
   "title_sidebar": "Contents",
   "toc_cell": false,
   "toc_position": {
    "height": "calc(100% - 180px)",
    "left": "10px",
    "top": "150px",
    "width": "358.381px"
   },
   "toc_section_display": true,
   "toc_window_display": true
  }
 },
 "nbformat": 4,
 "nbformat_minor": 5
}
