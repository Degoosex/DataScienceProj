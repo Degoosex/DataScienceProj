{
 "cells": [
  {
   "cell_type": "markdown",
   "metadata": {
    "toc": true
   },
   "source": [
    "<h1>Содержание<span class=\"tocSkip\"></span></h1>\n",
    "<div class=\"toc\"><ul class=\"toc-item\"><li><span><a href=\"#Загрузка-данных\" data-toc-modified-id=\"Загрузка-данных-1\"><span class=\"toc-item-num\">1&nbsp;&nbsp;</span>Загрузка данных</a></span></li><li><span><a href=\"#Умножение-матриц\" data-toc-modified-id=\"Умножение-матриц-2\"><span class=\"toc-item-num\">2&nbsp;&nbsp;</span>Умножение матриц</a></span></li><li><span><a href=\"#Алгоритм-преобразования\" data-toc-modified-id=\"Алгоритм-преобразования-3\"><span class=\"toc-item-num\">3&nbsp;&nbsp;</span>Алгоритм преобразования</a></span></li><li><span><a href=\"#Проверка-алгоритма\" data-toc-modified-id=\"Проверка-алгоритма-4\"><span class=\"toc-item-num\">4&nbsp;&nbsp;</span>Проверка алгоритма</a></span></li><li><span><a href=\"#Чек-лист-проверки\" data-toc-modified-id=\"Чек-лист-проверки-5\"><span class=\"toc-item-num\">5&nbsp;&nbsp;</span>Чек-лист проверки</a></span></li></ul></div>"
   ]
  },
  {
   "cell_type": "markdown",
   "metadata": {},
   "source": [
    "# Защита персональных данных клиентов"
   ]
  },
  {
   "cell_type": "markdown",
   "metadata": {},
   "source": [
    "Вам нужно защитить данные клиентов страховой компании «Хоть потоп». Разработайте такой метод преобразования данных, чтобы по ним было сложно восстановить персональную информацию. Обоснуйте корректность его работы.\n",
    "\n",
    "Нужно защитить данные, чтобы при преобразовании качество моделей машинного обучения не ухудшилось. Подбирать наилучшую модель не требуется."
   ]
  },
  {
   "cell_type": "markdown",
   "metadata": {},
   "source": [
    "## Загрузка данных"
   ]
  },
  {
   "cell_type": "code",
   "execution_count": 1,
   "metadata": {},
   "outputs": [],
   "source": [
    "import numpy as np\n",
    "import pandas as pd\n",
    "from scipy import stats as st\n",
    "from sklearn.metrics import r2_score\n",
    "pd.options.mode.chained_assignment = None\n",
    "pd.options.display.float_format = '{:,.2f}'.format"
   ]
  },
  {
   "cell_type": "code",
   "execution_count": 2,
   "metadata": {},
   "outputs": [],
   "source": [
    "df = pd.read_csv('/datasets/insurance.csv') "
   ]
  },
  {
   "cell_type": "code",
   "execution_count": 3,
   "metadata": {},
   "outputs": [
    {
     "data": {
      "text/html": [
       "<div>\n",
       "<style scoped>\n",
       "    .dataframe tbody tr th:only-of-type {\n",
       "        vertical-align: middle;\n",
       "    }\n",
       "\n",
       "    .dataframe tbody tr th {\n",
       "        vertical-align: top;\n",
       "    }\n",
       "\n",
       "    .dataframe thead th {\n",
       "        text-align: right;\n",
       "    }\n",
       "</style>\n",
       "<table border=\"1\" class=\"dataframe\">\n",
       "  <thead>\n",
       "    <tr style=\"text-align: right;\">\n",
       "      <th></th>\n",
       "      <th>Пол</th>\n",
       "      <th>Возраст</th>\n",
       "      <th>Зарплата</th>\n",
       "      <th>Члены семьи</th>\n",
       "      <th>Страховые выплаты</th>\n",
       "    </tr>\n",
       "  </thead>\n",
       "  <tbody>\n",
       "    <tr>\n",
       "      <th>0</th>\n",
       "      <td>1</td>\n",
       "      <td>41.00</td>\n",
       "      <td>49,600.00</td>\n",
       "      <td>1</td>\n",
       "      <td>0</td>\n",
       "    </tr>\n",
       "    <tr>\n",
       "      <th>1</th>\n",
       "      <td>0</td>\n",
       "      <td>46.00</td>\n",
       "      <td>38,000.00</td>\n",
       "      <td>1</td>\n",
       "      <td>1</td>\n",
       "    </tr>\n",
       "    <tr>\n",
       "      <th>2</th>\n",
       "      <td>0</td>\n",
       "      <td>29.00</td>\n",
       "      <td>21,000.00</td>\n",
       "      <td>0</td>\n",
       "      <td>0</td>\n",
       "    </tr>\n",
       "    <tr>\n",
       "      <th>3</th>\n",
       "      <td>0</td>\n",
       "      <td>21.00</td>\n",
       "      <td>41,700.00</td>\n",
       "      <td>2</td>\n",
       "      <td>0</td>\n",
       "    </tr>\n",
       "    <tr>\n",
       "      <th>4</th>\n",
       "      <td>1</td>\n",
       "      <td>28.00</td>\n",
       "      <td>26,100.00</td>\n",
       "      <td>0</td>\n",
       "      <td>0</td>\n",
       "    </tr>\n",
       "  </tbody>\n",
       "</table>\n",
       "</div>"
      ],
      "text/plain": [
       "   Пол  Возраст  Зарплата  Члены семьи  Страховые выплаты\n",
       "0    1    41.00 49,600.00            1                  0\n",
       "1    0    46.00 38,000.00            1                  1\n",
       "2    0    29.00 21,000.00            0                  0\n",
       "3    0    21.00 41,700.00            2                  0\n",
       "4    1    28.00 26,100.00            0                  0"
      ]
     },
     "execution_count": 3,
     "metadata": {},
     "output_type": "execute_result"
    }
   ],
   "source": [
    "df.head() # выведем первые 5 строк"
   ]
  },
  {
   "cell_type": "code",
   "execution_count": 4,
   "metadata": {
    "scrolled": true
   },
   "outputs": [
    {
     "name": "stdout",
     "output_type": "stream",
     "text": [
      "<class 'pandas.core.frame.DataFrame'>\n",
      "RangeIndex: 5000 entries, 0 to 4999\n",
      "Data columns (total 5 columns):\n",
      " #   Column             Non-Null Count  Dtype  \n",
      "---  ------             --------------  -----  \n",
      " 0   Пол                5000 non-null   int64  \n",
      " 1   Возраст            5000 non-null   float64\n",
      " 2   Зарплата           5000 non-null   float64\n",
      " 3   Члены семьи        5000 non-null   int64  \n",
      " 4   Страховые выплаты  5000 non-null   int64  \n",
      "dtypes: float64(2), int64(3)\n",
      "memory usage: 195.4 KB\n"
     ]
    }
   ],
   "source": [
    "df.info() # информация о датасете"
   ]
  },
  {
   "cell_type": "code",
   "execution_count": 5,
   "metadata": {},
   "outputs": [],
   "source": [
    "# сразу выделим признаки и целевой признак\n",
    "features = df.drop('Страховые выплаты', axis=1)\n",
    "target = df['Страховые выплаты']"
   ]
  },
  {
   "cell_type": "markdown",
   "metadata": {},
   "source": [
    "## Умножение матриц"
   ]
  },
  {
   "cell_type": "markdown",
   "metadata": {},
   "source": [
    "Обозначения:\n",
    "\n",
    "- $X$ — матрица признаков (нулевой столбец состоит из единиц)\n",
    "\n",
    "- $y$ — вектор целевого признака\n",
    "\n",
    "- $P$ — матрица, на которую умножаются признаки\n",
    "\n",
    "- $w$ — вектор весов линейной регрессии (нулевой элемент равен сдвигу)"
   ]
  },
  {
   "cell_type": "markdown",
   "metadata": {},
   "source": [
    "Предсказания:\n",
    "\n",
    "$$\n",
    "a = Xw\n",
    "$$\n",
    "\n",
    "Задача обучения:\n",
    "\n",
    "$$\n",
    "w = \\arg\\min_w MSE(Xw, y)\n",
    "$$\n",
    "\n",
    "Формула обучения:\n",
    "\n",
    "$$\n",
    "w = (X^T X)^{-1} X^T y\n",
    "$$"
   ]
  },
  {
   "cell_type": "markdown",
   "metadata": {},
   "source": [
    "Так как в нашем примере признаки должны быть умножены на обратную матрицу, то при предсказании формула будет выглядить так:\n",
    "\n",
    "$$\n",
    "a_1 = X_1 w_1\n",
    "$$\n",
    "\n",
    "где $X_1 = XP$\n",
    "\n",
    "Во время обучения при умножении обучающей выборке помноженую на матрицу будет выглядить так:\n",
    "\n",
    "$$\n",
    "w_1 = ((XP)^T (XP))^{-1} ((XP)^T) y = (P^T X^T XP)^{-1} P^T X^T y\n",
    "$$\n",
    "\n",
    "Если дальше упрощать выражение, то можем достать $P_t$ и $P$ из скобок\n",
    "\n",
    "$$\n",
    "w_1 = P^{-1} (X^T X)^{-1} (P^T)^{-1} P^T X^T y = P^{-1} (X^T X)^{-1} E X^T y = P^{-1} (X^T X)^{-1} X^T y\n",
    "$$\n",
    "\n",
    "А результат обучения:\n",
    "\n",
    "$$\n",
    "w_1 = \\arg\\min_w MSE((XP)w, y)\n",
    "$$\n",
    "\n"
   ]
  },
  {
   "cell_type": "markdown",
   "metadata": {},
   "source": [
    "Добавляем новую формулу в предсказание и смотрим результат\n",
    "\n",
    "$$\n",
    "a_1 = XP P^{-1} (X^T X)^{-1} X^T y = X (X^T X)^{-1} X^T y\n",
    "$$\n",
    "\n",
    "При упрощении формулы получаем, что матрица, на которую умножали, превращается в единичную матрицу и из формулы исчезает, что доказывает нам отсутствие влияния на качество модели. Теперь посмотрим на примере."
   ]
  },
  {
   "cell_type": "markdown",
   "metadata": {},
   "source": [
    "Попробуем сначала обучить линейную регрессию и вычислим ее r2."
   ]
  },
  {
   "cell_type": "code",
   "execution_count": 6,
   "metadata": {},
   "outputs": [],
   "source": [
    "class LinearRegression:\n",
    "    def fit(self, train_features, train_target):\n",
    "        X = np.concatenate((np.ones((train_features.shape[0], 1)), train_features), axis=1)\n",
    "        y = train_target\n",
    "        w = np.linalg.inv(X.T @ X) @ (X.T) @ y\n",
    "        self.w = w[1:]\n",
    "        self.w0 = w[0]\n",
    "\n",
    "    def predict(self, test_features):\n",
    "        return test_features.dot(self.w) + self.w0"
   ]
  },
  {
   "cell_type": "code",
   "execution_count": 7,
   "metadata": {},
   "outputs": [],
   "source": [
    "def linear_fit_and_r2(features, target):\n",
    "    model = LinearRegression()\n",
    "    model.fit(features, target)\n",
    "    predictions = model.predict(features)\n",
    "    print(r2_score(target, predictions))"
   ]
  },
  {
   "cell_type": "code",
   "execution_count": 8,
   "metadata": {},
   "outputs": [
    {
     "name": "stdout",
     "output_type": "stream",
     "text": [
      "0.42494550286668\n"
     ]
    }
   ],
   "source": [
    "# обучим и рассчитаем r2 до преобразования\n",
    "linear_fit_and_r2(features, target)"
   ]
  },
  {
   "cell_type": "markdown",
   "metadata": {},
   "source": [
    "Мы получили коэфициент равный 0,424. Теперь, чтобы узнать ответ на вопрос изменится ли качество линейной регрессии при умножении признаков на обратимую матрицу, сделаем новую квадратную матрицу, умножим признаки на неё и попробуем на них обучить модель, вычислим и сравним r2."
   ]
  },
  {
   "cell_type": "code",
   "execution_count": 9,
   "metadata": {},
   "outputs": [],
   "source": [
    "P = np.random.normal(size=(4, 4))\n",
    "features_new = features @ P"
   ]
  },
  {
   "cell_type": "code",
   "execution_count": 10,
   "metadata": {
    "scrolled": true
   },
   "outputs": [
    {
     "name": "stdout",
     "output_type": "stream",
     "text": [
      "0.4249455028653486\n"
     ]
    }
   ],
   "source": [
    "# преобразуем и рассчитаем r2 \n",
    "linear_fit_and_r2(features_new, target)"
   ]
  },
  {
   "cell_type": "markdown",
   "metadata": {},
   "source": [
    "**Ответ:** R2 у обоих моделей получился одинаковый.\n",
    "\n",
    "**Обоснование:** Так как изменяются только параметры модели, а не весы, то на качество модели умножение на матрицу практически не влияет."
   ]
  },
  {
   "cell_type": "markdown",
   "metadata": {},
   "source": [
    "## Алгоритм преобразования"
   ]
  },
  {
   "cell_type": "markdown",
   "metadata": {},
   "source": [
    "**Алгоритм**\n",
    "\n",
    "Так как мы знаем, что при умножении на обратимую матрицу признаков модель не меняется, можем зашифровать с помощью умножения модели на матрицу. Данная матрица будет являться ключем для расшифровки исходных данных."
   ]
  },
  {
   "cell_type": "markdown",
   "metadata": {},
   "source": [
    "**Обоснование**\n",
    "\n",
    "Чтобы проверить действительно ли таким образом данные можно восстановить/зашифровать проведем проверку."
   ]
  },
  {
   "cell_type": "markdown",
   "metadata": {},
   "source": [
    "## Проверка алгоритма"
   ]
  },
  {
   "cell_type": "code",
   "execution_count": 11,
   "metadata": {},
   "outputs": [],
   "source": [
    "# генерируем матрицу, наш ключ\n",
    "random_matrix = np.random.normal(size=(4, 4))\n",
    "inv_random_matrix = np.linalg.inv(random_matrix)\n",
    "encoded_features = features @ random_matrix"
   ]
  },
  {
   "cell_type": "code",
   "execution_count": 12,
   "metadata": {},
   "outputs": [
    {
     "name": "stdout",
     "output_type": "stream",
     "text": [
      "0.42494550286668\n"
     ]
    }
   ],
   "source": [
    "# до преобразования r2 \n",
    "linear_fit_and_r2(features, target)"
   ]
  },
  {
   "cell_type": "code",
   "execution_count": 13,
   "metadata": {},
   "outputs": [
    {
     "name": "stdout",
     "output_type": "stream",
     "text": [
      "0.4249455028666794\n"
     ]
    }
   ],
   "source": [
    "# после преобразования r2\n",
    "linear_fit_and_r2(encoded_features, target)"
   ]
  },
  {
   "cell_type": "code",
   "execution_count": 14,
   "metadata": {},
   "outputs": [
    {
     "data": {
      "text/html": [
       "<div>\n",
       "<style scoped>\n",
       "    .dataframe tbody tr th:only-of-type {\n",
       "        vertical-align: middle;\n",
       "    }\n",
       "\n",
       "    .dataframe tbody tr th {\n",
       "        vertical-align: top;\n",
       "    }\n",
       "\n",
       "    .dataframe thead th {\n",
       "        text-align: right;\n",
       "    }\n",
       "</style>\n",
       "<table border=\"1\" class=\"dataframe\">\n",
       "  <thead>\n",
       "    <tr style=\"text-align: right;\">\n",
       "      <th></th>\n",
       "      <th>Пол</th>\n",
       "      <th>Возраст</th>\n",
       "      <th>Зарплата</th>\n",
       "      <th>Члены семьи</th>\n",
       "    </tr>\n",
       "  </thead>\n",
       "  <tbody>\n",
       "    <tr>\n",
       "      <th>0</th>\n",
       "      <td>1.00</td>\n",
       "      <td>41.00</td>\n",
       "      <td>49,600.00</td>\n",
       "      <td>1.00</td>\n",
       "    </tr>\n",
       "    <tr>\n",
       "      <th>1</th>\n",
       "      <td>0.00</td>\n",
       "      <td>46.00</td>\n",
       "      <td>38,000.00</td>\n",
       "      <td>1.00</td>\n",
       "    </tr>\n",
       "    <tr>\n",
       "      <th>2</th>\n",
       "      <td>0.00</td>\n",
       "      <td>29.00</td>\n",
       "      <td>21,000.00</td>\n",
       "      <td>0.00</td>\n",
       "    </tr>\n",
       "    <tr>\n",
       "      <th>3</th>\n",
       "      <td>0.00</td>\n",
       "      <td>21.00</td>\n",
       "      <td>41,700.00</td>\n",
       "      <td>2.00</td>\n",
       "    </tr>\n",
       "    <tr>\n",
       "      <th>4</th>\n",
       "      <td>1.00</td>\n",
       "      <td>28.00</td>\n",
       "      <td>26,100.00</td>\n",
       "      <td>0.00</td>\n",
       "    </tr>\n",
       "  </tbody>\n",
       "</table>\n",
       "</div>"
      ],
      "text/plain": [
       "   Пол  Возраст  Зарплата  Члены семьи\n",
       "0 1.00    41.00 49,600.00         1.00\n",
       "1 0.00    46.00 38,000.00         1.00\n",
       "2 0.00    29.00 21,000.00         0.00\n",
       "3 0.00    21.00 41,700.00         2.00\n",
       "4 1.00    28.00 26,100.00         0.00"
      ]
     },
     "execution_count": 14,
     "metadata": {},
     "output_type": "execute_result"
    }
   ],
   "source": [
    "# расшифровываем признаки и сравниваем\n",
    "decoded_features = encoded_features @ inv_random_matrix\n",
    "decoded_features = pd.DataFrame(decoded_features.values, columns=features.columns)\n",
    "decoded_features.head()"
   ]
  },
  {
   "cell_type": "code",
   "execution_count": 15,
   "metadata": {
    "scrolled": true
   },
   "outputs": [
    {
     "data": {
      "text/html": [
       "<div>\n",
       "<style scoped>\n",
       "    .dataframe tbody tr th:only-of-type {\n",
       "        vertical-align: middle;\n",
       "    }\n",
       "\n",
       "    .dataframe tbody tr th {\n",
       "        vertical-align: top;\n",
       "    }\n",
       "\n",
       "    .dataframe thead th {\n",
       "        text-align: right;\n",
       "    }\n",
       "</style>\n",
       "<table border=\"1\" class=\"dataframe\">\n",
       "  <thead>\n",
       "    <tr style=\"text-align: right;\">\n",
       "      <th></th>\n",
       "      <th>Пол</th>\n",
       "      <th>Возраст</th>\n",
       "      <th>Зарплата</th>\n",
       "      <th>Члены семьи</th>\n",
       "    </tr>\n",
       "  </thead>\n",
       "  <tbody>\n",
       "    <tr>\n",
       "      <th>0</th>\n",
       "      <td>1</td>\n",
       "      <td>41.00</td>\n",
       "      <td>49,600.00</td>\n",
       "      <td>1</td>\n",
       "    </tr>\n",
       "    <tr>\n",
       "      <th>1</th>\n",
       "      <td>0</td>\n",
       "      <td>46.00</td>\n",
       "      <td>38,000.00</td>\n",
       "      <td>1</td>\n",
       "    </tr>\n",
       "    <tr>\n",
       "      <th>2</th>\n",
       "      <td>0</td>\n",
       "      <td>29.00</td>\n",
       "      <td>21,000.00</td>\n",
       "      <td>0</td>\n",
       "    </tr>\n",
       "    <tr>\n",
       "      <th>3</th>\n",
       "      <td>0</td>\n",
       "      <td>21.00</td>\n",
       "      <td>41,700.00</td>\n",
       "      <td>2</td>\n",
       "    </tr>\n",
       "    <tr>\n",
       "      <th>4</th>\n",
       "      <td>1</td>\n",
       "      <td>28.00</td>\n",
       "      <td>26,100.00</td>\n",
       "      <td>0</td>\n",
       "    </tr>\n",
       "  </tbody>\n",
       "</table>\n",
       "</div>"
      ],
      "text/plain": [
       "   Пол  Возраст  Зарплата  Члены семьи\n",
       "0    1    41.00 49,600.00            1\n",
       "1    0    46.00 38,000.00            1\n",
       "2    0    29.00 21,000.00            0\n",
       "3    0    21.00 41,700.00            2\n",
       "4    1    28.00 26,100.00            0"
      ]
     },
     "execution_count": 15,
     "metadata": {},
     "output_type": "execute_result"
    }
   ],
   "source": [
    "# до шифрования\n",
    "features.head() "
   ]
  },
  {
   "cell_type": "markdown",
   "metadata": {},
   "source": [
    "Как мы видим, алгоритм работает. Коэффициент практически совпадает до и после преобразования, а данные зашифрованы и могут быть возвращены в исходный вид."
   ]
  }
 ],
 "metadata": {
  "ExecuteTimeLog": [
   {
    "duration": 448,
    "start_time": "2022-07-03T14:32:40.251Z"
   },
   {
    "duration": 831,
    "start_time": "2022-07-03T14:34:35.299Z"
   },
   {
    "duration": 73,
    "start_time": "2022-07-03T14:34:36.133Z"
   },
   {
    "duration": 24,
    "start_time": "2022-07-03T14:34:49.213Z"
   },
   {
    "duration": 11,
    "start_time": "2022-07-03T14:34:57.908Z"
   },
   {
    "duration": 4,
    "start_time": "2022-07-03T14:35:42.784Z"
   },
   {
    "duration": 4,
    "start_time": "2022-07-03T14:42:38.518Z"
   },
   {
    "duration": 5,
    "start_time": "2022-07-03T14:43:00.423Z"
   },
   {
    "duration": 16,
    "start_time": "2022-07-03T14:43:06.054Z"
   },
   {
    "duration": 185,
    "start_time": "2022-07-03T14:46:42.237Z"
   },
   {
    "duration": 60,
    "start_time": "2022-07-03T14:46:55.260Z"
   },
   {
    "duration": 6,
    "start_time": "2022-07-03T14:47:47.092Z"
   },
   {
    "duration": 9,
    "start_time": "2022-07-03T14:47:54.190Z"
   },
   {
    "duration": 5,
    "start_time": "2022-07-03T14:47:57.700Z"
   },
   {
    "duration": 5,
    "start_time": "2022-07-03T14:48:01.216Z"
   },
   {
    "duration": 99,
    "start_time": "2022-07-03T14:49:35.846Z"
   },
   {
    "duration": 97,
    "start_time": "2022-07-03T14:51:13.396Z"
   },
   {
    "duration": 10,
    "start_time": "2022-07-03T14:51:19.124Z"
   },
   {
    "duration": 94,
    "start_time": "2022-07-03T14:51:29.196Z"
   },
   {
    "duration": 62,
    "start_time": "2022-07-03T14:51:45.657Z"
   },
   {
    "duration": 5,
    "start_time": "2022-07-03T16:24:11.999Z"
   },
   {
    "duration": 15,
    "start_time": "2022-07-03T16:24:34.587Z"
   },
   {
    "duration": 23,
    "start_time": "2022-07-03T16:24:39.044Z"
   },
   {
    "duration": 5,
    "start_time": "2022-07-03T16:40:02.760Z"
   },
   {
    "duration": 39,
    "start_time": "2022-07-03T16:40:54.091Z"
   },
   {
    "duration": 8,
    "start_time": "2022-07-03T16:40:57.109Z"
   },
   {
    "duration": 28,
    "start_time": "2022-07-03T16:40:59.248Z"
   },
   {
    "duration": 23,
    "start_time": "2022-07-03T16:41:03.252Z"
   },
   {
    "duration": 22,
    "start_time": "2022-07-03T16:41:10.447Z"
   },
   {
    "duration": 3,
    "start_time": "2022-07-03T16:41:20.902Z"
   },
   {
    "duration": 11,
    "start_time": "2022-07-03T16:41:21.251Z"
   },
   {
    "duration": 13,
    "start_time": "2022-07-03T16:41:22.791Z"
   },
   {
    "duration": 12,
    "start_time": "2022-07-03T16:41:23.555Z"
   },
   {
    "duration": 8,
    "start_time": "2022-07-03T16:41:24.302Z"
   },
   {
    "duration": 115,
    "start_time": "2022-07-03T16:43:04.601Z"
   },
   {
    "duration": 9,
    "start_time": "2022-07-03T16:43:16.588Z"
   },
   {
    "duration": 7,
    "start_time": "2022-07-03T16:43:18.494Z"
   },
   {
    "duration": 4,
    "start_time": "2022-07-03T16:45:21.195Z"
   },
   {
    "duration": 4,
    "start_time": "2022-07-03T16:45:37.254Z"
   },
   {
    "duration": 12,
    "start_time": "2022-07-03T16:45:46.451Z"
   },
   {
    "duration": 3,
    "start_time": "2022-07-03T16:47:42.488Z"
   },
   {
    "duration": 3,
    "start_time": "2022-07-03T16:47:48.990Z"
   },
   {
    "duration": 3,
    "start_time": "2022-07-03T16:48:08.594Z"
   },
   {
    "duration": 38,
    "start_time": "2022-07-03T16:48:21.986Z"
   },
   {
    "duration": 21,
    "start_time": "2022-07-03T16:48:35.939Z"
   },
   {
    "duration": 9,
    "start_time": "2022-07-03T16:48:37.911Z"
   },
   {
    "duration": 8,
    "start_time": "2022-07-03T16:49:05.688Z"
   },
   {
    "duration": 11,
    "start_time": "2022-07-03T16:49:17.576Z"
   },
   {
    "duration": 25,
    "start_time": "2022-07-03T16:49:39.359Z"
   },
   {
    "duration": 4,
    "start_time": "2022-07-03T16:50:10.699Z"
   },
   {
    "duration": 7,
    "start_time": "2022-07-03T16:50:11.107Z"
   },
   {
    "duration": 4,
    "start_time": "2022-07-03T16:50:26.813Z"
   },
   {
    "duration": 9,
    "start_time": "2022-07-03T16:50:28.154Z"
   },
   {
    "duration": 10,
    "start_time": "2022-07-03T16:50:28.799Z"
   },
   {
    "duration": 13,
    "start_time": "2022-07-03T16:50:30.219Z"
   },
   {
    "duration": 22,
    "start_time": "2022-07-03T16:50:31.251Z"
   },
   {
    "duration": 10,
    "start_time": "2022-07-03T16:50:31.519Z"
   },
   {
    "duration": 27,
    "start_time": "2022-07-03T16:50:42.243Z"
   },
   {
    "duration": 14,
    "start_time": "2022-07-03T16:51:21.382Z"
   },
   {
    "duration": 11,
    "start_time": "2022-07-03T16:51:25.687Z"
   },
   {
    "duration": 19,
    "start_time": "2022-07-03T16:51:31.139Z"
   },
   {
    "duration": 9,
    "start_time": "2022-07-03T16:51:46.643Z"
   },
   {
    "duration": 73,
    "start_time": "2022-07-03T16:51:53.955Z"
   },
   {
    "duration": 29,
    "start_time": "2022-07-03T16:52:06.047Z"
   },
   {
    "duration": 43,
    "start_time": "2022-07-03T16:52:12.935Z"
   },
   {
    "duration": 17,
    "start_time": "2022-07-03T16:52:24.817Z"
   },
   {
    "duration": 21,
    "start_time": "2022-07-03T16:52:51.494Z"
   },
   {
    "duration": 1421,
    "start_time": "2022-07-03T16:52:55.394Z"
   },
   {
    "duration": 43,
    "start_time": "2022-07-03T16:52:56.817Z"
   },
   {
    "duration": 32,
    "start_time": "2022-07-03T16:52:56.863Z"
   },
   {
    "duration": 15,
    "start_time": "2022-07-03T16:52:56.898Z"
   },
   {
    "duration": 5,
    "start_time": "2022-07-03T16:52:56.915Z"
   },
   {
    "duration": 50,
    "start_time": "2022-07-03T16:52:56.921Z"
   },
   {
    "duration": 16,
    "start_time": "2022-07-03T16:52:56.974Z"
   },
   {
    "duration": 15,
    "start_time": "2022-07-03T16:52:56.994Z"
   },
   {
    "duration": 121,
    "start_time": "2022-07-03T16:52:57.011Z"
   },
   {
    "duration": 59,
    "start_time": "2022-07-03T16:52:57.139Z"
   },
   {
    "duration": 175,
    "start_time": "2022-07-03T16:52:57.200Z"
   },
   {
    "duration": 13,
    "start_time": "2022-07-03T16:52:57.377Z"
   },
   {
    "duration": 158,
    "start_time": "2022-07-03T16:52:57.392Z"
   },
   {
    "duration": 197,
    "start_time": "2022-07-03T16:52:57.552Z"
   },
   {
    "duration": 121,
    "start_time": "2022-07-03T16:53:22.470Z"
   },
   {
    "duration": 20,
    "start_time": "2022-07-03T16:53:50.693Z"
   },
   {
    "duration": 12,
    "start_time": "2022-07-03T16:53:59.443Z"
   },
   {
    "duration": 6,
    "start_time": "2022-07-03T16:55:08.861Z"
   },
   {
    "duration": 14,
    "start_time": "2022-07-03T16:55:10.678Z"
   },
   {
    "duration": 20,
    "start_time": "2022-07-03T16:55:21.620Z"
   },
   {
    "duration": 21,
    "start_time": "2022-07-03T16:55:27.284Z"
   },
   {
    "duration": 13,
    "start_time": "2022-07-03T16:55:29.706Z"
   },
   {
    "duration": 15,
    "start_time": "2022-07-03T16:55:52.957Z"
   },
   {
    "duration": 14,
    "start_time": "2022-07-03T16:55:56.705Z"
   },
   {
    "duration": 14,
    "start_time": "2022-07-03T16:56:11.681Z"
   },
   {
    "duration": 13,
    "start_time": "2022-07-03T16:56:56.565Z"
   },
   {
    "duration": 8,
    "start_time": "2022-07-03T16:56:58.664Z"
   },
   {
    "duration": 12,
    "start_time": "2022-07-03T16:57:00.808Z"
   },
   {
    "duration": 1160,
    "start_time": "2022-07-03T16:58:03.689Z"
   },
   {
    "duration": 20,
    "start_time": "2022-07-03T16:58:04.851Z"
   },
   {
    "duration": 14,
    "start_time": "2022-07-03T16:58:04.873Z"
   },
   {
    "duration": 13,
    "start_time": "2022-07-03T16:58:04.890Z"
   },
   {
    "duration": 4,
    "start_time": "2022-07-03T16:58:04.904Z"
   },
   {
    "duration": 6,
    "start_time": "2022-07-03T16:58:04.909Z"
   },
   {
    "duration": 6,
    "start_time": "2022-07-03T16:58:04.916Z"
   },
   {
    "duration": 100,
    "start_time": "2022-07-03T16:58:04.931Z"
   },
   {
    "duration": 120,
    "start_time": "2022-07-03T16:58:05.032Z"
   },
   {
    "duration": 27,
    "start_time": "2022-07-03T16:58:05.156Z"
   },
   {
    "duration": 150,
    "start_time": "2022-07-03T16:58:05.186Z"
   },
   {
    "duration": 38,
    "start_time": "2022-07-03T16:58:05.338Z"
   },
   {
    "duration": 191,
    "start_time": "2022-07-03T16:58:05.379Z"
   },
   {
    "duration": 190,
    "start_time": "2022-07-03T16:58:05.575Z"
   },
   {
    "duration": 8,
    "start_time": "2022-07-03T16:58:05.767Z"
   },
   {
    "duration": 65,
    "start_time": "2022-07-03T16:58:05.777Z"
   },
   {
    "duration": 29,
    "start_time": "2022-07-03T16:58:42.247Z"
   },
   {
    "duration": 8,
    "start_time": "2022-07-03T16:59:17.468Z"
   },
   {
    "duration": 1419,
    "start_time": "2022-07-04T09:22:15.030Z"
   },
   {
    "duration": 45,
    "start_time": "2022-07-04T09:22:16.451Z"
   },
   {
    "duration": 19,
    "start_time": "2022-07-04T09:22:16.499Z"
   },
   {
    "duration": 19,
    "start_time": "2022-07-04T09:22:16.520Z"
   },
   {
    "duration": 36,
    "start_time": "2022-07-04T09:22:16.551Z"
   },
   {
    "duration": 14,
    "start_time": "2022-07-04T09:22:16.589Z"
   },
   {
    "duration": 55,
    "start_time": "2022-07-04T09:22:16.605Z"
   },
   {
    "duration": 36,
    "start_time": "2022-07-04T09:22:16.662Z"
   },
   {
    "duration": 148,
    "start_time": "2022-07-04T09:22:16.700Z"
   },
   {
    "duration": 40,
    "start_time": "2022-07-04T09:22:16.850Z"
   },
   {
    "duration": 147,
    "start_time": "2022-07-04T09:22:16.928Z"
   },
   {
    "duration": 9,
    "start_time": "2022-07-04T09:22:17.076Z"
   },
   {
    "duration": 64,
    "start_time": "2022-07-04T09:22:17.088Z"
   },
   {
    "duration": 133,
    "start_time": "2022-07-04T09:22:17.155Z"
   },
   {
    "duration": 24,
    "start_time": "2022-07-04T09:22:17.330Z"
   },
   {
    "duration": 64,
    "start_time": "2022-07-04T12:37:17.652Z"
   },
   {
    "duration": 1077,
    "start_time": "2022-07-04T12:37:31.392Z"
   },
   {
    "duration": 50,
    "start_time": "2022-07-04T12:37:32.476Z"
   },
   {
    "duration": 21,
    "start_time": "2022-07-04T12:37:32.528Z"
   },
   {
    "duration": 18,
    "start_time": "2022-07-04T12:37:32.552Z"
   },
   {
    "duration": 13,
    "start_time": "2022-07-04T12:37:32.571Z"
   },
   {
    "duration": 9,
    "start_time": "2022-07-04T12:37:32.586Z"
   },
   {
    "duration": 10,
    "start_time": "2022-07-04T12:37:32.597Z"
   },
   {
    "duration": 63,
    "start_time": "2022-07-04T12:37:32.609Z"
   },
   {
    "duration": 109,
    "start_time": "2022-07-04T12:37:32.676Z"
   },
   {
    "duration": 20,
    "start_time": "2022-07-04T12:37:32.789Z"
   },
   {
    "duration": 155,
    "start_time": "2022-07-04T12:37:32.811Z"
   },
   {
    "duration": 101,
    "start_time": "2022-07-04T12:37:32.969Z"
   },
   {
    "duration": 197,
    "start_time": "2022-07-04T12:37:33.073Z"
   },
   {
    "duration": 116,
    "start_time": "2022-07-04T12:37:33.271Z"
   },
   {
    "duration": 9,
    "start_time": "2022-07-04T12:37:33.389Z"
   },
   {
    "duration": 1038,
    "start_time": "2022-07-04T20:34:17.011Z"
   },
   {
    "duration": 96,
    "start_time": "2022-07-04T20:34:18.051Z"
   },
   {
    "duration": 23,
    "start_time": "2022-07-04T20:34:18.152Z"
   },
   {
    "duration": 13,
    "start_time": "2022-07-04T20:34:18.177Z"
   },
   {
    "duration": 6,
    "start_time": "2022-07-04T20:34:18.192Z"
   },
   {
    "duration": 6,
    "start_time": "2022-07-04T20:34:18.199Z"
   },
   {
    "duration": 7,
    "start_time": "2022-07-04T20:34:18.206Z"
   },
   {
    "duration": 122,
    "start_time": "2022-07-04T20:34:18.215Z"
   },
   {
    "duration": 103,
    "start_time": "2022-07-04T20:34:18.341Z"
   },
   {
    "duration": 82,
    "start_time": "2022-07-04T20:34:18.446Z"
   },
   {
    "duration": 118,
    "start_time": "2022-07-04T20:34:18.530Z"
   },
   {
    "duration": 86,
    "start_time": "2022-07-04T20:34:18.651Z"
   },
   {
    "duration": 95,
    "start_time": "2022-07-04T20:34:18.753Z"
   },
   {
    "duration": 189,
    "start_time": "2022-07-04T20:34:18.858Z"
   },
   {
    "duration": 10,
    "start_time": "2022-07-04T20:34:19.048Z"
   }
  ],
  "kernelspec": {
   "display_name": "Python 3 (ipykernel)",
   "language": "python",
   "name": "python3"
  },
  "language_info": {
   "codemirror_mode": {
    "name": "ipython",
    "version": 3
   },
   "file_extension": ".py",
   "mimetype": "text/x-python",
   "name": "python",
   "nbconvert_exporter": "python",
   "pygments_lexer": "ipython3",
   "version": "3.9.13"
  },
  "toc": {
   "base_numbering": 1,
   "nav_menu": {},
   "number_sections": true,
   "sideBar": true,
   "skip_h1_title": true,
   "title_cell": "Содержание",
   "title_sidebar": "Contents",
   "toc_cell": true,
   "toc_position": {
    "height": "calc(100% - 180px)",
    "left": "10px",
    "top": "150px",
    "width": "198.767px"
   },
   "toc_section_display": true,
   "toc_window_display": true
  }
 },
 "nbformat": 4,
 "nbformat_minor": 2
}
