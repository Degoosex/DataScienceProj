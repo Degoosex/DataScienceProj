{
 "cells": [
  {
   "cell_type": "markdown",
   "metadata": {},
   "source": [
    "## Описание проекта"
   ]
  },
  {
   "cell_type": "markdown",
   "metadata": {},
   "source": [
    "Вы аналитик компании — федерального оператора сотовой связи. Клиентам предлагают два тарифных плана: «Смарт» и «Ультра». Чтобы скорректировать рекламный бюджет, коммерческий департамент хочет понять, какой тариф приносит больше денег.\n",
    "Вам предстоит сделать предварительный анализ тарифов на небольшой выборке клиентов. В вашем распоряжении данные 500 пользователей: кто они, откуда, каким тарифом пользуются, сколько звонков и сообщений каждый отправил за 2018 год. Нужно проанализировать поведение клиентов и сделать вывод — какой тариф лучше."
   ]
  },
  {
   "cell_type": "markdown",
   "metadata": {},
   "source": [
    "### Описание тарифов"
   ]
  },
  {
   "cell_type": "markdown",
   "metadata": {},
   "source": [
    "<b>Тариф «Смарт»</b>\n",
    "1.\tЕжемесячная плата: 550 рублей\n",
    "2.\tВключено 500 минут разговора, 50 сообщений и 15 Гб интернет-трафика\n",
    "3.\tСтоимость услуг сверх тарифного пакета\\\n",
    "o\tминута разговора: 3 рубля\\\n",
    "o\tсообщение: 3 рубля\\\n",
    "o\t1 Гб интернет-трафика: 200 рублей\n",
    "\n",
    "\n",
    "<b>Тариф «Ультра»</b>\n",
    "1.\tЕжемесячная плата: 1950 рублей\n",
    "2.\tВключено 3000 минут разговора, 1000 сообщений и 30 Гб интернет-трафика\\\n",
    "3.\tСтоимость услуг сверх тарифного пакета:\\\n",
    "o\tминута разговора: 1 рубль\\\n",
    "o\tсообщение: 1 рубль\\\n",
    "o\t1 Гб интернет-трафика: 150 рублей\n"
   ]
  },
  {
   "cell_type": "markdown",
   "metadata": {},
   "source": [
    "<b>Примечание:</b>\n",
    "\n",
    "Оператор всегда округляет секунды до минут, а мегабайты — до гигабайт. Каждый звонок округляется отдельно: даже если он длился всего 1 секунду, будет засчитан как 1 минута.\n",
    "Для веб-трафика отдельные сессии не считаются. Вместо этого общая сумма за месяц округляется в бо́льшую сторону. Если абонент использует 1025 мегабайт в этом месяце, с него возьмут плату за 2 гигабайта.\n"
   ]
  },
  {
   "cell_type": "markdown",
   "metadata": {},
   "source": [
    "### Описание данных"
   ]
  },
  {
   "cell_type": "markdown",
   "metadata": {},
   "source": [
    "Для задачи нам дано несколько таблиц в формате xls.\\\n",
    "<b>Описание данных</b>\n",
    "<b>Таблица users (информация о пользователях):</b>\\\n",
    "•\tuser_id — уникальный идентификатор пользователя\\\n",
    "•\tfirst_name — имя пользователя\\\n",
    "•\tlast_name — фамилия пользователя\\\n",
    "•\tage — возраст пользователя (годы)\\\n",
    "•\treg_date — дата подключения тарифа (день, месяц, год)\\\n",
    "•\tchurn_date — дата прекращения пользования тарифом (если значение пропущено, то тариф ещё действовал на момент выгрузки данных)\\\n",
    "•\tcity — город проживания пользователя\\\n",
    "•\ttariff — название тарифного плана\\\n",
    "<b>Таблица calls (информация о звонках):</b>\\\n",
    "•\tid — уникальный номер звонка\\\n",
    "•\tcall_date — дата звонка\\\n",
    "•\tduration — длительность звонка в минутах\\\n",
    "•\tuser_id — идентификатор пользователя, сделавшего звонок\\\n",
    "<b>Таблица messages (информация о сообщениях):</b>\\\n",
    "•\tid — уникальный номер сообщения\\\n",
    "•\tmessage_date — дата сообщения\\\n",
    "•\tuser_id — идентификатор пользователя, отправившего сообщение\\\n",
    "<b>Таблица internet (информация об интернет-сессиях):</b>\\\n",
    "•\tid — уникальный номер сессии\\\n",
    "•\tmb_used — объём потраченного за сессию интернет-трафика (в мегабайтах)\\\n",
    "•\tsession_date — дата интернет-сессии\\\n",
    "•\tuser_id — идентификатор пользователя\\\n",
    "<b>Таблица tariffs (информация о тарифах):</b>\\\n",
    "•\ttariff_name — название тарифа\\\n",
    "•\trub_monthly_fee — ежемесячная абонентская плата в рублях\\\n",
    "•\tminutes_included — количество минут разговора в месяц, включённых в абонентскую плату\\\n",
    "•\tmessages_included — количество сообщений в месяц, включённых в абонентскую плату\\\n",
    "•\tmb_per_month_included — объём интернет-трафика, включённого в абонентскую плату (в мегабайтах)\\\n",
    "•\trub_per_minute — стоимость минуты разговора сверх тарифного пакета (например, если в тарифе 100 минут разговора в месяц, то со 101 минуты будет взиматься плата)\\\n",
    "•\trub_per_message — стоимость отправки сообщения сверх тарифного пакета\\\n",
    "•\trub_per_gb — стоимость дополнительного гигабайта интернет-трафика сверх тарифного пакета (1 гигабайт = 1024 мегабайта)\\"
   ]
  },
  {
   "cell_type": "markdown",
   "metadata": {},
   "source": [
    "### План работ"
   ]
  },
  {
   "cell_type": "markdown",
   "metadata": {},
   "source": [
    "1. Импорт данных и их осмотр;\n",
    "2. Предобработка: пропуски, дубликаты, типы данных, исправление аномалий;\n",
    "3. Рассчет и добавление новых данных в таблицу;\n",
    "4. Статистический анализ данных;\n",
    "5. Проверка гипотез;\n",
    "6. Общий вывод.\n"
   ]
  },
  {
   "cell_type": "markdown",
   "metadata": {},
   "source": [
    "## Импорт и предобработка"
   ]
  },
  {
   "cell_type": "code",
   "execution_count": 1,
   "metadata": {},
   "outputs": [],
   "source": [
    "import pandas as pd\n",
    "import numpy as np\n",
    "import matplotlib.pyplot as plt\n",
    "%matplotlib inline\n",
    "from scipy import stats as st\n",
    "pd.options.display.float_format = '{:,.2f}'.format"
   ]
  },
  {
   "cell_type": "code",
   "execution_count": 2,
   "metadata": {},
   "outputs": [],
   "source": [
    "users = pd.read_csv('/datasets/users.csv')\n",
    "calls = pd.read_csv('/datasets/calls.csv')\n",
    "messages = pd.read_csv('/datasets/messages.csv')\n",
    "internet = pd.read_csv('/datasets/internet.csv')\n",
    "tariffs = pd.read_csv('/datasets/tariffs.csv')"
   ]
  },
  {
   "cell_type": "markdown",
   "metadata": {},
   "source": [
    "<b>Посмотрим основную информацию о датасете users:</b>"
   ]
  },
  {
   "cell_type": "code",
   "execution_count": 3,
   "metadata": {
    "scrolled": true
   },
   "outputs": [
    {
     "data": {
      "text/html": [
       "<div>\n",
       "<style scoped>\n",
       "    .dataframe tbody tr th:only-of-type {\n",
       "        vertical-align: middle;\n",
       "    }\n",
       "\n",
       "    .dataframe tbody tr th {\n",
       "        vertical-align: top;\n",
       "    }\n",
       "\n",
       "    .dataframe thead th {\n",
       "        text-align: right;\n",
       "    }\n",
       "</style>\n",
       "<table border=\"1\" class=\"dataframe\">\n",
       "  <thead>\n",
       "    <tr style=\"text-align: right;\">\n",
       "      <th></th>\n",
       "      <th>user_id</th>\n",
       "      <th>age</th>\n",
       "      <th>churn_date</th>\n",
       "      <th>city</th>\n",
       "      <th>first_name</th>\n",
       "      <th>last_name</th>\n",
       "      <th>reg_date</th>\n",
       "      <th>tariff</th>\n",
       "    </tr>\n",
       "  </thead>\n",
       "  <tbody>\n",
       "    <tr>\n",
       "      <th>0</th>\n",
       "      <td>1000</td>\n",
       "      <td>52</td>\n",
       "      <td>NaN</td>\n",
       "      <td>Краснодар</td>\n",
       "      <td>Рафаил</td>\n",
       "      <td>Верещагин</td>\n",
       "      <td>2018-05-25</td>\n",
       "      <td>ultra</td>\n",
       "    </tr>\n",
       "    <tr>\n",
       "      <th>1</th>\n",
       "      <td>1001</td>\n",
       "      <td>41</td>\n",
       "      <td>NaN</td>\n",
       "      <td>Москва</td>\n",
       "      <td>Иван</td>\n",
       "      <td>Ежов</td>\n",
       "      <td>2018-11-01</td>\n",
       "      <td>smart</td>\n",
       "    </tr>\n",
       "    <tr>\n",
       "      <th>2</th>\n",
       "      <td>1002</td>\n",
       "      <td>59</td>\n",
       "      <td>NaN</td>\n",
       "      <td>Стерлитамак</td>\n",
       "      <td>Евгений</td>\n",
       "      <td>Абрамович</td>\n",
       "      <td>2018-06-17</td>\n",
       "      <td>smart</td>\n",
       "    </tr>\n",
       "    <tr>\n",
       "      <th>3</th>\n",
       "      <td>1003</td>\n",
       "      <td>23</td>\n",
       "      <td>NaN</td>\n",
       "      <td>Москва</td>\n",
       "      <td>Белла</td>\n",
       "      <td>Белякова</td>\n",
       "      <td>2018-08-17</td>\n",
       "      <td>ultra</td>\n",
       "    </tr>\n",
       "    <tr>\n",
       "      <th>4</th>\n",
       "      <td>1004</td>\n",
       "      <td>68</td>\n",
       "      <td>NaN</td>\n",
       "      <td>Новокузнецк</td>\n",
       "      <td>Татьяна</td>\n",
       "      <td>Авдеенко</td>\n",
       "      <td>2018-05-14</td>\n",
       "      <td>ultra</td>\n",
       "    </tr>\n",
       "  </tbody>\n",
       "</table>\n",
       "</div>"
      ],
      "text/plain": [
       "   user_id  age churn_date         city first_name  last_name    reg_date  \\\n",
       "0     1000   52        NaN    Краснодар     Рафаил  Верещагин  2018-05-25   \n",
       "1     1001   41        NaN       Москва       Иван       Ежов  2018-11-01   \n",
       "2     1002   59        NaN  Стерлитамак    Евгений  Абрамович  2018-06-17   \n",
       "3     1003   23        NaN       Москва      Белла   Белякова  2018-08-17   \n",
       "4     1004   68        NaN  Новокузнецк    Татьяна   Авдеенко  2018-05-14   \n",
       "\n",
       "  tariff  \n",
       "0  ultra  \n",
       "1  smart  \n",
       "2  smart  \n",
       "3  ultra  \n",
       "4  ultra  "
      ]
     },
     "execution_count": 3,
     "metadata": {},
     "output_type": "execute_result"
    }
   ],
   "source": [
    "users.head() # просмотрим таблицу"
   ]
  },
  {
   "cell_type": "code",
   "execution_count": 4,
   "metadata": {},
   "outputs": [
    {
     "name": "stdout",
     "output_type": "stream",
     "text": [
      "<class 'pandas.core.frame.DataFrame'>\n",
      "RangeIndex: 500 entries, 0 to 499\n",
      "Data columns (total 8 columns):\n",
      " #   Column      Non-Null Count  Dtype \n",
      "---  ------      --------------  ----- \n",
      " 0   user_id     500 non-null    int64 \n",
      " 1   age         500 non-null    int64 \n",
      " 2   churn_date  38 non-null     object\n",
      " 3   city        500 non-null    object\n",
      " 4   first_name  500 non-null    object\n",
      " 5   last_name   500 non-null    object\n",
      " 6   reg_date    500 non-null    object\n",
      " 7   tariff      500 non-null    object\n",
      "dtypes: int64(2), object(6)\n",
      "memory usage: 31.4+ KB\n"
     ]
    }
   ],
   "source": [
    "users.info()"
   ]
  },
  {
   "cell_type": "code",
   "execution_count": 5,
   "metadata": {},
   "outputs": [
    {
     "data": {
      "text/plain": [
       "0"
      ]
     },
     "execution_count": 5,
     "metadata": {},
     "output_type": "execute_result"
    }
   ],
   "source": [
    "users.duplicated().sum() # проверим дубликаты"
   ]
  },
  {
   "cell_type": "code",
   "execution_count": 6,
   "metadata": {},
   "outputs": [
    {
     "data": {
      "text/plain": [
       "array(['Краснодар', 'Москва', 'Стерлитамак', 'Новокузнецк',\n",
       "       'Набережные Челны', 'Ульяновск', 'Челябинск', 'Пермь', 'Тюмень',\n",
       "       'Самара', 'Санкт-Петербург', 'Иваново', 'Чебоксары', 'Омск', 'Уфа',\n",
       "       'Томск', 'Чита', 'Мурманск', 'Петрозаводск', 'Тверь',\n",
       "       'Екатеринбург', 'Махачкала', 'Вологда', 'Череповец', 'Ярославль',\n",
       "       'Сочи', 'Хабаровск', 'Ставрополь', 'Рязань', 'Улан-Удэ', 'Тула',\n",
       "       'Саратов', 'Ростов-на-Дону', 'Казань', 'Иркутск', 'Курск',\n",
       "       'Калуга', 'Якутск', 'Астрахань', 'Химки', 'Владикавказ',\n",
       "       'Волгоград', 'Саранск', 'Ижевск', 'Новосибирск', 'Брянск',\n",
       "       'Тольятти', 'Нижний Тагил', 'Орёл', 'Белгород', 'Воронеж',\n",
       "       'Волжский', 'Курган', 'Барнаул', 'Красноярск', 'Архангельск',\n",
       "       'Липецк', 'Кемерово', 'Киров', 'Сургут', 'Пенза', 'Магнитогорск',\n",
       "       'Нижний Новгород', 'Кострома', 'Владивосток', 'Тамбов', 'Балашиха',\n",
       "       'Севастополь', 'Калининград', 'Оренбург', 'Смоленск',\n",
       "       'Нижневартовск', 'Владимир', 'Новороссийск', 'Грозный', 'Подольск'],\n",
       "      dtype=object)"
      ]
     },
     "execution_count": 6,
     "metadata": {},
     "output_type": "execute_result"
    }
   ],
   "source": [
    "users['city'].unique() # проверим неявные дубликаты"
   ]
  },
  {
   "cell_type": "code",
   "execution_count": 7,
   "metadata": {},
   "outputs": [
    {
     "data": {
      "text/plain": [
       "array(['ultra', 'smart'], dtype=object)"
      ]
     },
     "execution_count": 7,
     "metadata": {},
     "output_type": "execute_result"
    }
   ],
   "source": [
    "users['tariff'].unique() # проверим неявные дубликаты 2"
   ]
  },
  {
   "cell_type": "markdown",
   "metadata": {},
   "source": [
    "Сразу заметны пропуски в churn_date, в данном случае они означают дату прекращения использования тарифа абонентом. Эти пропуски означают, что на момент сбора данных абонент использовал данный тариф, поэтому удалять эти данные мы не будем.\\\n",
    "По типу данных можем исправить reg_date на datetime."
   ]
  },
  {
   "cell_type": "code",
   "execution_count": 8,
   "metadata": {},
   "outputs": [],
   "source": [
    "users['reg_date'] = pd.to_datetime(users['reg_date'], format = '%Y-%m-%d') #замена типа данных"
   ]
  },
  {
   "cell_type": "markdown",
   "metadata": {},
   "source": [
    "Проверка на дубликаты не показала, что в данных есть проблемы. Продолжим со следующей таблицей."
   ]
  },
  {
   "cell_type": "markdown",
   "metadata": {},
   "source": [
    "<b>Информация о датасете calls:</b>"
   ]
  },
  {
   "cell_type": "code",
   "execution_count": 9,
   "metadata": {},
   "outputs": [
    {
     "data": {
      "text/html": [
       "<div>\n",
       "<style scoped>\n",
       "    .dataframe tbody tr th:only-of-type {\n",
       "        vertical-align: middle;\n",
       "    }\n",
       "\n",
       "    .dataframe tbody tr th {\n",
       "        vertical-align: top;\n",
       "    }\n",
       "\n",
       "    .dataframe thead th {\n",
       "        text-align: right;\n",
       "    }\n",
       "</style>\n",
       "<table border=\"1\" class=\"dataframe\">\n",
       "  <thead>\n",
       "    <tr style=\"text-align: right;\">\n",
       "      <th></th>\n",
       "      <th>id</th>\n",
       "      <th>call_date</th>\n",
       "      <th>duration</th>\n",
       "      <th>user_id</th>\n",
       "    </tr>\n",
       "  </thead>\n",
       "  <tbody>\n",
       "    <tr>\n",
       "      <th>0</th>\n",
       "      <td>1000_0</td>\n",
       "      <td>2018-07-25</td>\n",
       "      <td>0.00</td>\n",
       "      <td>1000</td>\n",
       "    </tr>\n",
       "    <tr>\n",
       "      <th>1</th>\n",
       "      <td>1000_1</td>\n",
       "      <td>2018-08-17</td>\n",
       "      <td>0.00</td>\n",
       "      <td>1000</td>\n",
       "    </tr>\n",
       "    <tr>\n",
       "      <th>2</th>\n",
       "      <td>1000_2</td>\n",
       "      <td>2018-06-11</td>\n",
       "      <td>2.85</td>\n",
       "      <td>1000</td>\n",
       "    </tr>\n",
       "    <tr>\n",
       "      <th>3</th>\n",
       "      <td>1000_3</td>\n",
       "      <td>2018-09-21</td>\n",
       "      <td>13.80</td>\n",
       "      <td>1000</td>\n",
       "    </tr>\n",
       "    <tr>\n",
       "      <th>4</th>\n",
       "      <td>1000_4</td>\n",
       "      <td>2018-12-15</td>\n",
       "      <td>5.18</td>\n",
       "      <td>1000</td>\n",
       "    </tr>\n",
       "  </tbody>\n",
       "</table>\n",
       "</div>"
      ],
      "text/plain": [
       "       id   call_date  duration  user_id\n",
       "0  1000_0  2018-07-25      0.00     1000\n",
       "1  1000_1  2018-08-17      0.00     1000\n",
       "2  1000_2  2018-06-11      2.85     1000\n",
       "3  1000_3  2018-09-21     13.80     1000\n",
       "4  1000_4  2018-12-15      5.18     1000"
      ]
     },
     "execution_count": 9,
     "metadata": {},
     "output_type": "execute_result"
    }
   ],
   "source": [
    "calls.head() # просмотрим начало таблицы"
   ]
  },
  {
   "cell_type": "code",
   "execution_count": 10,
   "metadata": {},
   "outputs": [
    {
     "name": "stdout",
     "output_type": "stream",
     "text": [
      "<class 'pandas.core.frame.DataFrame'>\n",
      "RangeIndex: 202607 entries, 0 to 202606\n",
      "Data columns (total 4 columns):\n",
      " #   Column     Non-Null Count   Dtype  \n",
      "---  ------     --------------   -----  \n",
      " 0   id         202607 non-null  object \n",
      " 1   call_date  202607 non-null  object \n",
      " 2   duration   202607 non-null  float64\n",
      " 3   user_id    202607 non-null  int64  \n",
      "dtypes: float64(1), int64(1), object(2)\n",
      "memory usage: 6.2+ MB\n"
     ]
    }
   ],
   "source": [
    "calls.info() # просмотрим информацию"
   ]
  },
  {
   "cell_type": "code",
   "execution_count": 11,
   "metadata": {},
   "outputs": [
    {
     "data": {
      "text/plain": [
       "0"
      ]
     },
     "execution_count": 11,
     "metadata": {},
     "output_type": "execute_result"
    }
   ],
   "source": [
    "calls.duplicated().sum() # проверим дубликаты"
   ]
  },
  {
   "cell_type": "markdown",
   "metadata": {},
   "source": [
    "Здесь не обнаружены пропуски. Дубликатов так же нет. Стоит поменять тип данных у call_date на datetime. У столбца duration можно округлить время, т.к. в описании данных сказано, что все секунды округляются до минуты, и вместе с заменой можем изменить тип на int, но перед этим проверим на нули."
   ]
  },
  {
   "cell_type": "code",
   "execution_count": 12,
   "metadata": {},
   "outputs": [],
   "source": [
    "calls['call_date'] = pd.to_datetime(calls['call_date'], format = '%Y-%m-%d') #замена типа данных"
   ]
  },
  {
   "cell_type": "code",
   "execution_count": 13,
   "metadata": {},
   "outputs": [
    {
     "data": {
      "text/html": [
       "<div>\n",
       "<style scoped>\n",
       "    .dataframe tbody tr th:only-of-type {\n",
       "        vertical-align: middle;\n",
       "    }\n",
       "\n",
       "    .dataframe tbody tr th {\n",
       "        vertical-align: top;\n",
       "    }\n",
       "\n",
       "    .dataframe thead th {\n",
       "        text-align: right;\n",
       "    }\n",
       "</style>\n",
       "<table border=\"1\" class=\"dataframe\">\n",
       "  <thead>\n",
       "    <tr style=\"text-align: right;\">\n",
       "      <th></th>\n",
       "      <th>id</th>\n",
       "      <th>call_date</th>\n",
       "      <th>duration</th>\n",
       "      <th>user_id</th>\n",
       "    </tr>\n",
       "  </thead>\n",
       "  <tbody>\n",
       "    <tr>\n",
       "      <th>0</th>\n",
       "      <td>1000_0</td>\n",
       "      <td>2018-07-25</td>\n",
       "      <td>0.00</td>\n",
       "      <td>1000</td>\n",
       "    </tr>\n",
       "    <tr>\n",
       "      <th>1</th>\n",
       "      <td>1000_1</td>\n",
       "      <td>2018-08-17</td>\n",
       "      <td>0.00</td>\n",
       "      <td>1000</td>\n",
       "    </tr>\n",
       "    <tr>\n",
       "      <th>5</th>\n",
       "      <td>1000_5</td>\n",
       "      <td>2018-11-02</td>\n",
       "      <td>0.00</td>\n",
       "      <td>1000</td>\n",
       "    </tr>\n",
       "    <tr>\n",
       "      <th>6</th>\n",
       "      <td>1000_6</td>\n",
       "      <td>2018-10-18</td>\n",
       "      <td>0.00</td>\n",
       "      <td>1000</td>\n",
       "    </tr>\n",
       "    <tr>\n",
       "      <th>9</th>\n",
       "      <td>1000_9</td>\n",
       "      <td>2018-08-15</td>\n",
       "      <td>0.00</td>\n",
       "      <td>1000</td>\n",
       "    </tr>\n",
       "    <tr>\n",
       "      <th>...</th>\n",
       "      <td>...</td>\n",
       "      <td>...</td>\n",
       "      <td>...</td>\n",
       "      <td>...</td>\n",
       "    </tr>\n",
       "    <tr>\n",
       "      <th>202590</th>\n",
       "      <td>1499_203</td>\n",
       "      <td>2018-12-03</td>\n",
       "      <td>0.00</td>\n",
       "      <td>1499</td>\n",
       "    </tr>\n",
       "    <tr>\n",
       "      <th>202592</th>\n",
       "      <td>1499_205</td>\n",
       "      <td>2018-10-13</td>\n",
       "      <td>0.00</td>\n",
       "      <td>1499</td>\n",
       "    </tr>\n",
       "    <tr>\n",
       "      <th>202593</th>\n",
       "      <td>1499_206</td>\n",
       "      <td>2018-12-26</td>\n",
       "      <td>0.00</td>\n",
       "      <td>1499</td>\n",
       "    </tr>\n",
       "    <tr>\n",
       "      <th>202594</th>\n",
       "      <td>1499_207</td>\n",
       "      <td>2018-10-28</td>\n",
       "      <td>0.00</td>\n",
       "      <td>1499</td>\n",
       "    </tr>\n",
       "    <tr>\n",
       "      <th>202596</th>\n",
       "      <td>1499_209</td>\n",
       "      <td>2018-12-16</td>\n",
       "      <td>0.00</td>\n",
       "      <td>1499</td>\n",
       "    </tr>\n",
       "  </tbody>\n",
       "</table>\n",
       "<p>39613 rows × 4 columns</p>\n",
       "</div>"
      ],
      "text/plain": [
       "              id  call_date  duration  user_id\n",
       "0         1000_0 2018-07-25      0.00     1000\n",
       "1         1000_1 2018-08-17      0.00     1000\n",
       "5         1000_5 2018-11-02      0.00     1000\n",
       "6         1000_6 2018-10-18      0.00     1000\n",
       "9         1000_9 2018-08-15      0.00     1000\n",
       "...          ...        ...       ...      ...\n",
       "202590  1499_203 2018-12-03      0.00     1499\n",
       "202592  1499_205 2018-10-13      0.00     1499\n",
       "202593  1499_206 2018-12-26      0.00     1499\n",
       "202594  1499_207 2018-10-28      0.00     1499\n",
       "202596  1499_209 2018-12-16      0.00     1499\n",
       "\n",
       "[39613 rows x 4 columns]"
      ]
     },
     "execution_count": 13,
     "metadata": {},
     "output_type": "execute_result"
    }
   ],
   "source": [
    "calls.query('duration == 0')"
   ]
  },
  {
   "cell_type": "markdown",
   "metadata": {},
   "source": [
    "В описании сказано, что нулевая продолжительность может быть связана с пропущеными звонками, поэтому трогать их не будем."
   ]
  },
  {
   "cell_type": "code",
   "execution_count": 14,
   "metadata": {
    "scrolled": true
   },
   "outputs": [
    {
     "data": {
      "text/html": [
       "<div>\n",
       "<style scoped>\n",
       "    .dataframe tbody tr th:only-of-type {\n",
       "        vertical-align: middle;\n",
       "    }\n",
       "\n",
       "    .dataframe tbody tr th {\n",
       "        vertical-align: top;\n",
       "    }\n",
       "\n",
       "    .dataframe thead th {\n",
       "        text-align: right;\n",
       "    }\n",
       "</style>\n",
       "<table border=\"1\" class=\"dataframe\">\n",
       "  <thead>\n",
       "    <tr style=\"text-align: right;\">\n",
       "      <th></th>\n",
       "      <th>id</th>\n",
       "      <th>call_date</th>\n",
       "      <th>duration</th>\n",
       "      <th>user_id</th>\n",
       "    </tr>\n",
       "  </thead>\n",
       "  <tbody>\n",
       "    <tr>\n",
       "      <th>0</th>\n",
       "      <td>1000_0</td>\n",
       "      <td>2018-07-25</td>\n",
       "      <td>0</td>\n",
       "      <td>1000</td>\n",
       "    </tr>\n",
       "    <tr>\n",
       "      <th>1</th>\n",
       "      <td>1000_1</td>\n",
       "      <td>2018-08-17</td>\n",
       "      <td>0</td>\n",
       "      <td>1000</td>\n",
       "    </tr>\n",
       "    <tr>\n",
       "      <th>2</th>\n",
       "      <td>1000_2</td>\n",
       "      <td>2018-06-11</td>\n",
       "      <td>3</td>\n",
       "      <td>1000</td>\n",
       "    </tr>\n",
       "    <tr>\n",
       "      <th>3</th>\n",
       "      <td>1000_3</td>\n",
       "      <td>2018-09-21</td>\n",
       "      <td>14</td>\n",
       "      <td>1000</td>\n",
       "    </tr>\n",
       "    <tr>\n",
       "      <th>4</th>\n",
       "      <td>1000_4</td>\n",
       "      <td>2018-12-15</td>\n",
       "      <td>6</td>\n",
       "      <td>1000</td>\n",
       "    </tr>\n",
       "  </tbody>\n",
       "</table>\n",
       "</div>"
      ],
      "text/plain": [
       "       id  call_date  duration  user_id\n",
       "0  1000_0 2018-07-25         0     1000\n",
       "1  1000_1 2018-08-17         0     1000\n",
       "2  1000_2 2018-06-11         3     1000\n",
       "3  1000_3 2018-09-21        14     1000\n",
       "4  1000_4 2018-12-15         6     1000"
      ]
     },
     "execution_count": 14,
     "metadata": {},
     "output_type": "execute_result"
    }
   ],
   "source": [
    "calls['duration'] = calls['duration'].apply(np.ceil) # округляем в большую сторону\n",
    "calls['duration'] = calls['duration'].astype(int) #меняем тип данных\n",
    "calls.head()"
   ]
  },
  {
   "cell_type": "markdown",
   "metadata": {},
   "source": [
    "<b>Информация о датасете messages:</b>"
   ]
  },
  {
   "cell_type": "code",
   "execution_count": 15,
   "metadata": {},
   "outputs": [
    {
     "data": {
      "text/html": [
       "<div>\n",
       "<style scoped>\n",
       "    .dataframe tbody tr th:only-of-type {\n",
       "        vertical-align: middle;\n",
       "    }\n",
       "\n",
       "    .dataframe tbody tr th {\n",
       "        vertical-align: top;\n",
       "    }\n",
       "\n",
       "    .dataframe thead th {\n",
       "        text-align: right;\n",
       "    }\n",
       "</style>\n",
       "<table border=\"1\" class=\"dataframe\">\n",
       "  <thead>\n",
       "    <tr style=\"text-align: right;\">\n",
       "      <th></th>\n",
       "      <th>id</th>\n",
       "      <th>message_date</th>\n",
       "      <th>user_id</th>\n",
       "    </tr>\n",
       "  </thead>\n",
       "  <tbody>\n",
       "    <tr>\n",
       "      <th>0</th>\n",
       "      <td>1000_0</td>\n",
       "      <td>2018-06-27</td>\n",
       "      <td>1000</td>\n",
       "    </tr>\n",
       "    <tr>\n",
       "      <th>1</th>\n",
       "      <td>1000_1</td>\n",
       "      <td>2018-10-08</td>\n",
       "      <td>1000</td>\n",
       "    </tr>\n",
       "    <tr>\n",
       "      <th>2</th>\n",
       "      <td>1000_2</td>\n",
       "      <td>2018-08-04</td>\n",
       "      <td>1000</td>\n",
       "    </tr>\n",
       "    <tr>\n",
       "      <th>3</th>\n",
       "      <td>1000_3</td>\n",
       "      <td>2018-06-16</td>\n",
       "      <td>1000</td>\n",
       "    </tr>\n",
       "    <tr>\n",
       "      <th>4</th>\n",
       "      <td>1000_4</td>\n",
       "      <td>2018-12-05</td>\n",
       "      <td>1000</td>\n",
       "    </tr>\n",
       "  </tbody>\n",
       "</table>\n",
       "</div>"
      ],
      "text/plain": [
       "       id message_date  user_id\n",
       "0  1000_0   2018-06-27     1000\n",
       "1  1000_1   2018-10-08     1000\n",
       "2  1000_2   2018-08-04     1000\n",
       "3  1000_3   2018-06-16     1000\n",
       "4  1000_4   2018-12-05     1000"
      ]
     },
     "execution_count": 15,
     "metadata": {},
     "output_type": "execute_result"
    }
   ],
   "source": [
    "messages.head() # просмотрим начало таблицы"
   ]
  },
  {
   "cell_type": "code",
   "execution_count": 16,
   "metadata": {},
   "outputs": [
    {
     "name": "stdout",
     "output_type": "stream",
     "text": [
      "<class 'pandas.core.frame.DataFrame'>\n",
      "RangeIndex: 123036 entries, 0 to 123035\n",
      "Data columns (total 3 columns):\n",
      " #   Column        Non-Null Count   Dtype \n",
      "---  ------        --------------   ----- \n",
      " 0   id            123036 non-null  object\n",
      " 1   message_date  123036 non-null  object\n",
      " 2   user_id       123036 non-null  int64 \n",
      "dtypes: int64(1), object(2)\n",
      "memory usage: 2.8+ MB\n"
     ]
    }
   ],
   "source": [
    "messages.info()"
   ]
  },
  {
   "cell_type": "code",
   "execution_count": 17,
   "metadata": {},
   "outputs": [
    {
     "data": {
      "text/plain": [
       "0"
      ]
     },
     "execution_count": 17,
     "metadata": {},
     "output_type": "execute_result"
    }
   ],
   "source": [
    "messages.duplicated().sum() # проверим дубликаты"
   ]
  },
  {
   "cell_type": "markdown",
   "metadata": {},
   "source": [
    "Здесь пропусков так же не обнаружено, как и дубликатов. У message_date поменяеv тип на datetime и можем двигаться дальше."
   ]
  },
  {
   "cell_type": "code",
   "execution_count": 18,
   "metadata": {},
   "outputs": [],
   "source": [
    "messages['message_date'] = pd.to_datetime(messages['message_date'], format = '%Y-%m-%d') #замена типа данных"
   ]
  },
  {
   "cell_type": "markdown",
   "metadata": {},
   "source": [
    "<b>Информация о датасете internet:</b>"
   ]
  },
  {
   "cell_type": "code",
   "execution_count": 19,
   "metadata": {},
   "outputs": [
    {
     "data": {
      "text/html": [
       "<div>\n",
       "<style scoped>\n",
       "    .dataframe tbody tr th:only-of-type {\n",
       "        vertical-align: middle;\n",
       "    }\n",
       "\n",
       "    .dataframe tbody tr th {\n",
       "        vertical-align: top;\n",
       "    }\n",
       "\n",
       "    .dataframe thead th {\n",
       "        text-align: right;\n",
       "    }\n",
       "</style>\n",
       "<table border=\"1\" class=\"dataframe\">\n",
       "  <thead>\n",
       "    <tr style=\"text-align: right;\">\n",
       "      <th></th>\n",
       "      <th>Unnamed: 0</th>\n",
       "      <th>id</th>\n",
       "      <th>mb_used</th>\n",
       "      <th>session_date</th>\n",
       "      <th>user_id</th>\n",
       "    </tr>\n",
       "  </thead>\n",
       "  <tbody>\n",
       "    <tr>\n",
       "      <th>0</th>\n",
       "      <td>0</td>\n",
       "      <td>1000_0</td>\n",
       "      <td>112.95</td>\n",
       "      <td>2018-11-25</td>\n",
       "      <td>1000</td>\n",
       "    </tr>\n",
       "    <tr>\n",
       "      <th>1</th>\n",
       "      <td>1</td>\n",
       "      <td>1000_1</td>\n",
       "      <td>1,052.81</td>\n",
       "      <td>2018-09-07</td>\n",
       "      <td>1000</td>\n",
       "    </tr>\n",
       "    <tr>\n",
       "      <th>2</th>\n",
       "      <td>2</td>\n",
       "      <td>1000_2</td>\n",
       "      <td>1,197.26</td>\n",
       "      <td>2018-06-25</td>\n",
       "      <td>1000</td>\n",
       "    </tr>\n",
       "    <tr>\n",
       "      <th>3</th>\n",
       "      <td>3</td>\n",
       "      <td>1000_3</td>\n",
       "      <td>550.27</td>\n",
       "      <td>2018-08-22</td>\n",
       "      <td>1000</td>\n",
       "    </tr>\n",
       "    <tr>\n",
       "      <th>4</th>\n",
       "      <td>4</td>\n",
       "      <td>1000_4</td>\n",
       "      <td>302.56</td>\n",
       "      <td>2018-09-24</td>\n",
       "      <td>1000</td>\n",
       "    </tr>\n",
       "  </tbody>\n",
       "</table>\n",
       "</div>"
      ],
      "text/plain": [
       "   Unnamed: 0      id  mb_used session_date  user_id\n",
       "0           0  1000_0   112.95   2018-11-25     1000\n",
       "1           1  1000_1 1,052.81   2018-09-07     1000\n",
       "2           2  1000_2 1,197.26   2018-06-25     1000\n",
       "3           3  1000_3   550.27   2018-08-22     1000\n",
       "4           4  1000_4   302.56   2018-09-24     1000"
      ]
     },
     "execution_count": 19,
     "metadata": {},
     "output_type": "execute_result"
    }
   ],
   "source": [
    "internet.head() # просмотрим начало таблицы"
   ]
  },
  {
   "cell_type": "code",
   "execution_count": 20,
   "metadata": {},
   "outputs": [
    {
     "name": "stdout",
     "output_type": "stream",
     "text": [
      "<class 'pandas.core.frame.DataFrame'>\n",
      "RangeIndex: 149396 entries, 0 to 149395\n",
      "Data columns (total 5 columns):\n",
      " #   Column        Non-Null Count   Dtype  \n",
      "---  ------        --------------   -----  \n",
      " 0   Unnamed: 0    149396 non-null  int64  \n",
      " 1   id            149396 non-null  object \n",
      " 2   mb_used       149396 non-null  float64\n",
      " 3   session_date  149396 non-null  object \n",
      " 4   user_id       149396 non-null  int64  \n",
      "dtypes: float64(1), int64(2), object(2)\n",
      "memory usage: 5.7+ MB\n"
     ]
    }
   ],
   "source": [
    "internet.info()"
   ]
  },
  {
   "cell_type": "code",
   "execution_count": 21,
   "metadata": {
    "scrolled": true
   },
   "outputs": [
    {
     "data": {
      "text/plain": [
       "0"
      ]
     },
     "execution_count": 21,
     "metadata": {},
     "output_type": "execute_result"
    }
   ],
   "source": [
    "internet.duplicated().sum() # проверим дубликаты"
   ]
  },
  {
   "cell_type": "markdown",
   "metadata": {},
   "source": [
    "Пропусков нет, дубликатов нет. Возник странный столб, которого в описании нет и без смысловой нагрузки, просто его удалим. У столбца session_date поменяем тип на datetime. \\"
   ]
  },
  {
   "cell_type": "code",
   "execution_count": 22,
   "metadata": {},
   "outputs": [],
   "source": [
    "internet['session_date'] = pd.to_datetime(internet['session_date'], format = '%Y-%m-%d') #замена типа данных"
   ]
  },
  {
   "cell_type": "code",
   "execution_count": 23,
   "metadata": {},
   "outputs": [],
   "source": [
    "internet = internet.drop('Unnamed: 0', axis=1) # удаляем колонку"
   ]
  },
  {
   "cell_type": "code",
   "execution_count": 24,
   "metadata": {},
   "outputs": [
    {
     "data": {
      "text/html": [
       "<div>\n",
       "<style scoped>\n",
       "    .dataframe tbody tr th:only-of-type {\n",
       "        vertical-align: middle;\n",
       "    }\n",
       "\n",
       "    .dataframe tbody tr th {\n",
       "        vertical-align: top;\n",
       "    }\n",
       "\n",
       "    .dataframe thead th {\n",
       "        text-align: right;\n",
       "    }\n",
       "</style>\n",
       "<table border=\"1\" class=\"dataframe\">\n",
       "  <thead>\n",
       "    <tr style=\"text-align: right;\">\n",
       "      <th></th>\n",
       "      <th>id</th>\n",
       "      <th>mb_used</th>\n",
       "      <th>session_date</th>\n",
       "      <th>user_id</th>\n",
       "    </tr>\n",
       "  </thead>\n",
       "  <tbody>\n",
       "    <tr>\n",
       "      <th>0</th>\n",
       "      <td>1000_0</td>\n",
       "      <td>113.00</td>\n",
       "      <td>2018-11-25</td>\n",
       "      <td>1000</td>\n",
       "    </tr>\n",
       "    <tr>\n",
       "      <th>1</th>\n",
       "      <td>1000_1</td>\n",
       "      <td>1,053.00</td>\n",
       "      <td>2018-09-07</td>\n",
       "      <td>1000</td>\n",
       "    </tr>\n",
       "    <tr>\n",
       "      <th>2</th>\n",
       "      <td>1000_2</td>\n",
       "      <td>1,198.00</td>\n",
       "      <td>2018-06-25</td>\n",
       "      <td>1000</td>\n",
       "    </tr>\n",
       "    <tr>\n",
       "      <th>3</th>\n",
       "      <td>1000_3</td>\n",
       "      <td>551.00</td>\n",
       "      <td>2018-08-22</td>\n",
       "      <td>1000</td>\n",
       "    </tr>\n",
       "    <tr>\n",
       "      <th>4</th>\n",
       "      <td>1000_4</td>\n",
       "      <td>303.00</td>\n",
       "      <td>2018-09-24</td>\n",
       "      <td>1000</td>\n",
       "    </tr>\n",
       "  </tbody>\n",
       "</table>\n",
       "</div>"
      ],
      "text/plain": [
       "       id  mb_used session_date  user_id\n",
       "0  1000_0   113.00   2018-11-25     1000\n",
       "1  1000_1 1,053.00   2018-09-07     1000\n",
       "2  1000_2 1,198.00   2018-06-25     1000\n",
       "3  1000_3   551.00   2018-08-22     1000\n",
       "4  1000_4   303.00   2018-09-24     1000"
      ]
     },
     "execution_count": 24,
     "metadata": {},
     "output_type": "execute_result"
    }
   ],
   "source": [
    "internet['mb_used'] = internet['mb_used'].apply(np.ceil) # округляем в большую сторону\n",
    "internet.head()"
   ]
  },
  {
   "cell_type": "markdown",
   "metadata": {},
   "source": [
    "Теперь можем осмотреть столбец mb_used на нулевые значения. В случае в телефоном такие значения понятно откуда взялись, а здесь нужно посмотреть."
   ]
  },
  {
   "cell_type": "code",
   "execution_count": 25,
   "metadata": {},
   "outputs": [
    {
     "data": {
      "text/html": [
       "<div>\n",
       "<style scoped>\n",
       "    .dataframe tbody tr th:only-of-type {\n",
       "        vertical-align: middle;\n",
       "    }\n",
       "\n",
       "    .dataframe tbody tr th {\n",
       "        vertical-align: top;\n",
       "    }\n",
       "\n",
       "    .dataframe thead th {\n",
       "        text-align: right;\n",
       "    }\n",
       "</style>\n",
       "<table border=\"1\" class=\"dataframe\">\n",
       "  <thead>\n",
       "    <tr style=\"text-align: right;\">\n",
       "      <th></th>\n",
       "      <th>id</th>\n",
       "      <th>mb_used</th>\n",
       "      <th>session_date</th>\n",
       "      <th>user_id</th>\n",
       "    </tr>\n",
       "  </thead>\n",
       "  <tbody>\n",
       "    <tr>\n",
       "      <th>11</th>\n",
       "      <td>1000_11</td>\n",
       "      <td>0.00</td>\n",
       "      <td>2018-08-28</td>\n",
       "      <td>1000</td>\n",
       "    </tr>\n",
       "    <tr>\n",
       "      <th>38</th>\n",
       "      <td>1000_38</td>\n",
       "      <td>0.00</td>\n",
       "      <td>2018-11-27</td>\n",
       "      <td>1000</td>\n",
       "    </tr>\n",
       "    <tr>\n",
       "      <th>46</th>\n",
       "      <td>1000_46</td>\n",
       "      <td>0.00</td>\n",
       "      <td>2018-06-30</td>\n",
       "      <td>1000</td>\n",
       "    </tr>\n",
       "    <tr>\n",
       "      <th>67</th>\n",
       "      <td>1000_67</td>\n",
       "      <td>0.00</td>\n",
       "      <td>2018-06-16</td>\n",
       "      <td>1000</td>\n",
       "    </tr>\n",
       "    <tr>\n",
       "      <th>72</th>\n",
       "      <td>1000_72</td>\n",
       "      <td>0.00</td>\n",
       "      <td>2018-06-15</td>\n",
       "      <td>1000</td>\n",
       "    </tr>\n",
       "    <tr>\n",
       "      <th>...</th>\n",
       "      <td>...</td>\n",
       "      <td>...</td>\n",
       "      <td>...</td>\n",
       "      <td>...</td>\n",
       "    </tr>\n",
       "    <tr>\n",
       "      <th>149380</th>\n",
       "      <td>1499_141</td>\n",
       "      <td>0.00</td>\n",
       "      <td>2018-12-11</td>\n",
       "      <td>1499</td>\n",
       "    </tr>\n",
       "    <tr>\n",
       "      <th>149381</th>\n",
       "      <td>1499_142</td>\n",
       "      <td>0.00</td>\n",
       "      <td>2018-11-01</td>\n",
       "      <td>1499</td>\n",
       "    </tr>\n",
       "    <tr>\n",
       "      <th>149383</th>\n",
       "      <td>1499_144</td>\n",
       "      <td>0.00</td>\n",
       "      <td>2018-11-27</td>\n",
       "      <td>1499</td>\n",
       "    </tr>\n",
       "    <tr>\n",
       "      <th>149386</th>\n",
       "      <td>1499_147</td>\n",
       "      <td>0.00</td>\n",
       "      <td>2018-10-21</td>\n",
       "      <td>1499</td>\n",
       "    </tr>\n",
       "    <tr>\n",
       "      <th>149393</th>\n",
       "      <td>1499_154</td>\n",
       "      <td>0.00</td>\n",
       "      <td>2018-10-27</td>\n",
       "      <td>1499</td>\n",
       "    </tr>\n",
       "  </tbody>\n",
       "</table>\n",
       "<p>19598 rows × 4 columns</p>\n",
       "</div>"
      ],
      "text/plain": [
       "              id  mb_used session_date  user_id\n",
       "11       1000_11     0.00   2018-08-28     1000\n",
       "38       1000_38     0.00   2018-11-27     1000\n",
       "46       1000_46     0.00   2018-06-30     1000\n",
       "67       1000_67     0.00   2018-06-16     1000\n",
       "72       1000_72     0.00   2018-06-15     1000\n",
       "...          ...      ...          ...      ...\n",
       "149380  1499_141     0.00   2018-12-11     1499\n",
       "149381  1499_142     0.00   2018-11-01     1499\n",
       "149383  1499_144     0.00   2018-11-27     1499\n",
       "149386  1499_147     0.00   2018-10-21     1499\n",
       "149393  1499_154     0.00   2018-10-27     1499\n",
       "\n",
       "[19598 rows x 4 columns]"
      ]
     },
     "execution_count": 25,
     "metadata": {},
     "output_type": "execute_result"
    }
   ],
   "source": [
    "internet.query('mb_used == 0')"
   ]
  },
  {
   "cell_type": "markdown",
   "metadata": {},
   "source": [
    "Такие значения действительно присутствут. Видимо, было подключение, но трафик не расходовался, либо был неверно посчитан трафик. В любом случае данные строки нам для анализа не понадобятся, поэтому можем их удалить."
   ]
  },
  {
   "cell_type": "code",
   "execution_count": 26,
   "metadata": {},
   "outputs": [],
   "source": [
    "internet[internet['mb_used'] == 0] = None # удаление через пропуск\n",
    "internet = internet.dropna()\n",
    "internet['mb_used'] = internet['mb_used'].astype(int) #меняем тип данных\n",
    "internet['user_id'] = internet['user_id'].astype(int)"
   ]
  },
  {
   "cell_type": "code",
   "execution_count": 27,
   "metadata": {},
   "outputs": [
    {
     "data": {
      "text/html": [
       "<div>\n",
       "<style scoped>\n",
       "    .dataframe tbody tr th:only-of-type {\n",
       "        vertical-align: middle;\n",
       "    }\n",
       "\n",
       "    .dataframe tbody tr th {\n",
       "        vertical-align: top;\n",
       "    }\n",
       "\n",
       "    .dataframe thead th {\n",
       "        text-align: right;\n",
       "    }\n",
       "</style>\n",
       "<table border=\"1\" class=\"dataframe\">\n",
       "  <thead>\n",
       "    <tr style=\"text-align: right;\">\n",
       "      <th></th>\n",
       "      <th>id</th>\n",
       "      <th>mb_used</th>\n",
       "      <th>session_date</th>\n",
       "      <th>user_id</th>\n",
       "    </tr>\n",
       "  </thead>\n",
       "  <tbody>\n",
       "  </tbody>\n",
       "</table>\n",
       "</div>"
      ],
      "text/plain": [
       "Empty DataFrame\n",
       "Columns: [id, mb_used, session_date, user_id]\n",
       "Index: []"
      ]
     },
     "execution_count": 27,
     "metadata": {},
     "output_type": "execute_result"
    }
   ],
   "source": [
    "internet.query('mb_used == 0') # проверка"
   ]
  },
  {
   "cell_type": "code",
   "execution_count": 28,
   "metadata": {},
   "outputs": [
    {
     "name": "stdout",
     "output_type": "stream",
     "text": [
      "<class 'pandas.core.frame.DataFrame'>\n",
      "Int64Index: 129798 entries, 0 to 149395\n",
      "Data columns (total 4 columns):\n",
      " #   Column        Non-Null Count   Dtype         \n",
      "---  ------        --------------   -----         \n",
      " 0   id            129798 non-null  object        \n",
      " 1   mb_used       129798 non-null  int64         \n",
      " 2   session_date  129798 non-null  datetime64[ns]\n",
      " 3   user_id       129798 non-null  int64         \n",
      "dtypes: datetime64[ns](1), int64(2), object(1)\n",
      "memory usage: 5.0+ MB\n"
     ]
    }
   ],
   "source": [
    "internet.info()"
   ]
  },
  {
   "cell_type": "markdown",
   "metadata": {},
   "source": [
    "Данные удалены, двигаемся дальше."
   ]
  },
  {
   "cell_type": "markdown",
   "metadata": {},
   "source": [
    "<b>Информация о датасете tariffs:</b>"
   ]
  },
  {
   "cell_type": "code",
   "execution_count": 29,
   "metadata": {},
   "outputs": [
    {
     "data": {
      "text/html": [
       "<div>\n",
       "<style scoped>\n",
       "    .dataframe tbody tr th:only-of-type {\n",
       "        vertical-align: middle;\n",
       "    }\n",
       "\n",
       "    .dataframe tbody tr th {\n",
       "        vertical-align: top;\n",
       "    }\n",
       "\n",
       "    .dataframe thead th {\n",
       "        text-align: right;\n",
       "    }\n",
       "</style>\n",
       "<table border=\"1\" class=\"dataframe\">\n",
       "  <thead>\n",
       "    <tr style=\"text-align: right;\">\n",
       "      <th></th>\n",
       "      <th>messages_included</th>\n",
       "      <th>mb_per_month_included</th>\n",
       "      <th>minutes_included</th>\n",
       "      <th>rub_monthly_fee</th>\n",
       "      <th>rub_per_gb</th>\n",
       "      <th>rub_per_message</th>\n",
       "      <th>rub_per_minute</th>\n",
       "      <th>tariff_name</th>\n",
       "    </tr>\n",
       "  </thead>\n",
       "  <tbody>\n",
       "    <tr>\n",
       "      <th>0</th>\n",
       "      <td>50</td>\n",
       "      <td>15360</td>\n",
       "      <td>500</td>\n",
       "      <td>550</td>\n",
       "      <td>200</td>\n",
       "      <td>3</td>\n",
       "      <td>3</td>\n",
       "      <td>smart</td>\n",
       "    </tr>\n",
       "    <tr>\n",
       "      <th>1</th>\n",
       "      <td>1000</td>\n",
       "      <td>30720</td>\n",
       "      <td>3000</td>\n",
       "      <td>1950</td>\n",
       "      <td>150</td>\n",
       "      <td>1</td>\n",
       "      <td>1</td>\n",
       "      <td>ultra</td>\n",
       "    </tr>\n",
       "  </tbody>\n",
       "</table>\n",
       "</div>"
      ],
      "text/plain": [
       "   messages_included  mb_per_month_included  minutes_included  \\\n",
       "0                 50                  15360               500   \n",
       "1               1000                  30720              3000   \n",
       "\n",
       "   rub_monthly_fee  rub_per_gb  rub_per_message  rub_per_minute tariff_name  \n",
       "0              550         200                3               3       smart  \n",
       "1             1950         150                1               1       ultra  "
      ]
     },
     "execution_count": 29,
     "metadata": {},
     "output_type": "execute_result"
    }
   ],
   "source": [
    "tariffs.head() # просмотрим таблицу"
   ]
  },
  {
   "cell_type": "code",
   "execution_count": 30,
   "metadata": {},
   "outputs": [
    {
     "name": "stdout",
     "output_type": "stream",
     "text": [
      "<class 'pandas.core.frame.DataFrame'>\n",
      "RangeIndex: 2 entries, 0 to 1\n",
      "Data columns (total 8 columns):\n",
      " #   Column                 Non-Null Count  Dtype \n",
      "---  ------                 --------------  ----- \n",
      " 0   messages_included      2 non-null      int64 \n",
      " 1   mb_per_month_included  2 non-null      int64 \n",
      " 2   minutes_included       2 non-null      int64 \n",
      " 3   rub_monthly_fee        2 non-null      int64 \n",
      " 4   rub_per_gb             2 non-null      int64 \n",
      " 5   rub_per_message        2 non-null      int64 \n",
      " 6   rub_per_minute         2 non-null      int64 \n",
      " 7   tariff_name            2 non-null      object\n",
      "dtypes: int64(7), object(1)\n",
      "memory usage: 256.0+ bytes\n"
     ]
    }
   ],
   "source": [
    "tariffs.info()"
   ]
  },
  {
   "cell_type": "markdown",
   "metadata": {},
   "source": [
    "Таблица просто с описанием тарифов. Ничего в ней менять не будем, все устраивает."
   ]
  },
  {
   "cell_type": "markdown",
   "metadata": {},
   "source": [
    "## Добавление новых данных"
   ]
  },
  {
   "cell_type": "markdown",
   "metadata": {},
   "source": [
    "Посчитаем для каждого пользователя:\\\n",
    "•\tколичество сделанных звонков и израсходованных минут разговора по месяцам;\\\n",
    "•\tколичество отправленных сообщений по месяцам;\\\n",
    "•\tобъем израсходованного интернет-трафика по месяцам;\\\n",
    "•\tпомесячную выручку с каждого пользователя (вычтите бесплатный лимит из суммарного количества звонков, сообщений и интернет-трафика; остаток умножьте на значение из тарифного плана; прибавьте абонентскую плату, соответствующую тарифному плану).\n"
   ]
  },
  {
   "cell_type": "markdown",
   "metadata": {},
   "source": [
    "### Месяц"
   ]
  },
  {
   "cell_type": "markdown",
   "metadata": {},
   "source": [
    "Чтобы проанализировать пользование мобильной сетью помесячно, необходимо добавить новый солбцец в каждый датафрейм, который будет его показывать. Для этого напишем функцию и применим ко всем датафреймам."
   ]
  },
  {
   "cell_type": "code",
   "execution_count": 31,
   "metadata": {},
   "outputs": [],
   "source": [
    "def column_mounth(dataframes): # функция для добавления месяца\n",
    "    for df in dataframes:\n",
    "        for column in df.columns:\n",
    "            if 'date' in column and column != 'churn_date':    \n",
    "                df['month'] = df[column].apply(lambda x: x.month)\n",
    "                df['month'] = df['month'].astype(int)"
   ]
  },
  {
   "cell_type": "code",
   "execution_count": 32,
   "metadata": {},
   "outputs": [],
   "source": [
    "column_mounth([users, calls, messages, internet]) # применяем функцию"
   ]
  },
  {
   "cell_type": "code",
   "execution_count": 33,
   "metadata": {
    "scrolled": true
   },
   "outputs": [
    {
     "data": {
      "text/html": [
       "<div>\n",
       "<style scoped>\n",
       "    .dataframe tbody tr th:only-of-type {\n",
       "        vertical-align: middle;\n",
       "    }\n",
       "\n",
       "    .dataframe tbody tr th {\n",
       "        vertical-align: top;\n",
       "    }\n",
       "\n",
       "    .dataframe thead th {\n",
       "        text-align: right;\n",
       "    }\n",
       "</style>\n",
       "<table border=\"1\" class=\"dataframe\">\n",
       "  <thead>\n",
       "    <tr style=\"text-align: right;\">\n",
       "      <th></th>\n",
       "      <th>user_id</th>\n",
       "      <th>age</th>\n",
       "      <th>churn_date</th>\n",
       "      <th>city</th>\n",
       "      <th>first_name</th>\n",
       "      <th>last_name</th>\n",
       "      <th>reg_date</th>\n",
       "      <th>tariff</th>\n",
       "      <th>month</th>\n",
       "    </tr>\n",
       "  </thead>\n",
       "  <tbody>\n",
       "    <tr>\n",
       "      <th>0</th>\n",
       "      <td>1000</td>\n",
       "      <td>52</td>\n",
       "      <td>NaN</td>\n",
       "      <td>Краснодар</td>\n",
       "      <td>Рафаил</td>\n",
       "      <td>Верещагин</td>\n",
       "      <td>2018-05-25</td>\n",
       "      <td>ultra</td>\n",
       "      <td>5</td>\n",
       "    </tr>\n",
       "    <tr>\n",
       "      <th>1</th>\n",
       "      <td>1001</td>\n",
       "      <td>41</td>\n",
       "      <td>NaN</td>\n",
       "      <td>Москва</td>\n",
       "      <td>Иван</td>\n",
       "      <td>Ежов</td>\n",
       "      <td>2018-11-01</td>\n",
       "      <td>smart</td>\n",
       "      <td>11</td>\n",
       "    </tr>\n",
       "    <tr>\n",
       "      <th>2</th>\n",
       "      <td>1002</td>\n",
       "      <td>59</td>\n",
       "      <td>NaN</td>\n",
       "      <td>Стерлитамак</td>\n",
       "      <td>Евгений</td>\n",
       "      <td>Абрамович</td>\n",
       "      <td>2018-06-17</td>\n",
       "      <td>smart</td>\n",
       "      <td>6</td>\n",
       "    </tr>\n",
       "    <tr>\n",
       "      <th>3</th>\n",
       "      <td>1003</td>\n",
       "      <td>23</td>\n",
       "      <td>NaN</td>\n",
       "      <td>Москва</td>\n",
       "      <td>Белла</td>\n",
       "      <td>Белякова</td>\n",
       "      <td>2018-08-17</td>\n",
       "      <td>ultra</td>\n",
       "      <td>8</td>\n",
       "    </tr>\n",
       "    <tr>\n",
       "      <th>4</th>\n",
       "      <td>1004</td>\n",
       "      <td>68</td>\n",
       "      <td>NaN</td>\n",
       "      <td>Новокузнецк</td>\n",
       "      <td>Татьяна</td>\n",
       "      <td>Авдеенко</td>\n",
       "      <td>2018-05-14</td>\n",
       "      <td>ultra</td>\n",
       "      <td>5</td>\n",
       "    </tr>\n",
       "    <tr>\n",
       "      <th>...</th>\n",
       "      <td>...</td>\n",
       "      <td>...</td>\n",
       "      <td>...</td>\n",
       "      <td>...</td>\n",
       "      <td>...</td>\n",
       "      <td>...</td>\n",
       "      <td>...</td>\n",
       "      <td>...</td>\n",
       "      <td>...</td>\n",
       "    </tr>\n",
       "    <tr>\n",
       "      <th>495</th>\n",
       "      <td>1495</td>\n",
       "      <td>65</td>\n",
       "      <td>NaN</td>\n",
       "      <td>Иркутск</td>\n",
       "      <td>Авксентий</td>\n",
       "      <td>Фокин</td>\n",
       "      <td>2018-08-28</td>\n",
       "      <td>ultra</td>\n",
       "      <td>8</td>\n",
       "    </tr>\n",
       "    <tr>\n",
       "      <th>496</th>\n",
       "      <td>1496</td>\n",
       "      <td>36</td>\n",
       "      <td>NaN</td>\n",
       "      <td>Вологда</td>\n",
       "      <td>Трифон</td>\n",
       "      <td>Блохин</td>\n",
       "      <td>2018-01-27</td>\n",
       "      <td>smart</td>\n",
       "      <td>1</td>\n",
       "    </tr>\n",
       "    <tr>\n",
       "      <th>497</th>\n",
       "      <td>1497</td>\n",
       "      <td>32</td>\n",
       "      <td>NaN</td>\n",
       "      <td>Челябинск</td>\n",
       "      <td>Каролина</td>\n",
       "      <td>Агеева</td>\n",
       "      <td>2018-10-09</td>\n",
       "      <td>smart</td>\n",
       "      <td>10</td>\n",
       "    </tr>\n",
       "    <tr>\n",
       "      <th>498</th>\n",
       "      <td>1498</td>\n",
       "      <td>68</td>\n",
       "      <td>2018-10-25</td>\n",
       "      <td>Владикавказ</td>\n",
       "      <td>Всеволод</td>\n",
       "      <td>Акимчин</td>\n",
       "      <td>2018-07-19</td>\n",
       "      <td>smart</td>\n",
       "      <td>7</td>\n",
       "    </tr>\n",
       "    <tr>\n",
       "      <th>499</th>\n",
       "      <td>1499</td>\n",
       "      <td>35</td>\n",
       "      <td>NaN</td>\n",
       "      <td>Пермь</td>\n",
       "      <td>Гектор</td>\n",
       "      <td>Корнилов</td>\n",
       "      <td>2018-09-27</td>\n",
       "      <td>smart</td>\n",
       "      <td>9</td>\n",
       "    </tr>\n",
       "  </tbody>\n",
       "</table>\n",
       "<p>500 rows × 9 columns</p>\n",
       "</div>"
      ],
      "text/plain": [
       "     user_id  age  churn_date         city first_name  last_name   reg_date  \\\n",
       "0       1000   52         NaN    Краснодар     Рафаил  Верещагин 2018-05-25   \n",
       "1       1001   41         NaN       Москва       Иван       Ежов 2018-11-01   \n",
       "2       1002   59         NaN  Стерлитамак    Евгений  Абрамович 2018-06-17   \n",
       "3       1003   23         NaN       Москва      Белла   Белякова 2018-08-17   \n",
       "4       1004   68         NaN  Новокузнецк    Татьяна   Авдеенко 2018-05-14   \n",
       "..       ...  ...         ...          ...        ...        ...        ...   \n",
       "495     1495   65         NaN      Иркутск  Авксентий      Фокин 2018-08-28   \n",
       "496     1496   36         NaN      Вологда     Трифон     Блохин 2018-01-27   \n",
       "497     1497   32         NaN    Челябинск   Каролина     Агеева 2018-10-09   \n",
       "498     1498   68  2018-10-25  Владикавказ   Всеволод    Акимчин 2018-07-19   \n",
       "499     1499   35         NaN        Пермь     Гектор   Корнилов 2018-09-27   \n",
       "\n",
       "    tariff  month  \n",
       "0    ultra      5  \n",
       "1    smart     11  \n",
       "2    smart      6  \n",
       "3    ultra      8  \n",
       "4    ultra      5  \n",
       "..     ...    ...  \n",
       "495  ultra      8  \n",
       "496  smart      1  \n",
       "497  smart     10  \n",
       "498  smart      7  \n",
       "499  smart      9  \n",
       "\n",
       "[500 rows x 9 columns]"
      ]
     },
     "execution_count": 33,
     "metadata": {},
     "output_type": "execute_result"
    }
   ],
   "source": [
    "users # проверка"
   ]
  },
  {
   "cell_type": "code",
   "execution_count": 34,
   "metadata": {},
   "outputs": [
    {
     "data": {
      "text/html": [
       "<div>\n",
       "<style scoped>\n",
       "    .dataframe tbody tr th:only-of-type {\n",
       "        vertical-align: middle;\n",
       "    }\n",
       "\n",
       "    .dataframe tbody tr th {\n",
       "        vertical-align: top;\n",
       "    }\n",
       "\n",
       "    .dataframe thead th {\n",
       "        text-align: right;\n",
       "    }\n",
       "</style>\n",
       "<table border=\"1\" class=\"dataframe\">\n",
       "  <thead>\n",
       "    <tr style=\"text-align: right;\">\n",
       "      <th></th>\n",
       "      <th>id</th>\n",
       "      <th>call_date</th>\n",
       "      <th>duration</th>\n",
       "      <th>user_id</th>\n",
       "      <th>month</th>\n",
       "    </tr>\n",
       "  </thead>\n",
       "  <tbody>\n",
       "    <tr>\n",
       "      <th>0</th>\n",
       "      <td>1000_0</td>\n",
       "      <td>2018-07-25</td>\n",
       "      <td>0</td>\n",
       "      <td>1000</td>\n",
       "      <td>7</td>\n",
       "    </tr>\n",
       "    <tr>\n",
       "      <th>1</th>\n",
       "      <td>1000_1</td>\n",
       "      <td>2018-08-17</td>\n",
       "      <td>0</td>\n",
       "      <td>1000</td>\n",
       "      <td>8</td>\n",
       "    </tr>\n",
       "    <tr>\n",
       "      <th>2</th>\n",
       "      <td>1000_2</td>\n",
       "      <td>2018-06-11</td>\n",
       "      <td>3</td>\n",
       "      <td>1000</td>\n",
       "      <td>6</td>\n",
       "    </tr>\n",
       "    <tr>\n",
       "      <th>3</th>\n",
       "      <td>1000_3</td>\n",
       "      <td>2018-09-21</td>\n",
       "      <td>14</td>\n",
       "      <td>1000</td>\n",
       "      <td>9</td>\n",
       "    </tr>\n",
       "    <tr>\n",
       "      <th>4</th>\n",
       "      <td>1000_4</td>\n",
       "      <td>2018-12-15</td>\n",
       "      <td>6</td>\n",
       "      <td>1000</td>\n",
       "      <td>12</td>\n",
       "    </tr>\n",
       "    <tr>\n",
       "      <th>...</th>\n",
       "      <td>...</td>\n",
       "      <td>...</td>\n",
       "      <td>...</td>\n",
       "      <td>...</td>\n",
       "      <td>...</td>\n",
       "    </tr>\n",
       "    <tr>\n",
       "      <th>202602</th>\n",
       "      <td>1499_215</td>\n",
       "      <td>2018-12-26</td>\n",
       "      <td>1</td>\n",
       "      <td>1499</td>\n",
       "      <td>12</td>\n",
       "    </tr>\n",
       "    <tr>\n",
       "      <th>202603</th>\n",
       "      <td>1499_216</td>\n",
       "      <td>2018-10-18</td>\n",
       "      <td>19</td>\n",
       "      <td>1499</td>\n",
       "      <td>10</td>\n",
       "    </tr>\n",
       "    <tr>\n",
       "      <th>202604</th>\n",
       "      <td>1499_217</td>\n",
       "      <td>2018-11-10</td>\n",
       "      <td>11</td>\n",
       "      <td>1499</td>\n",
       "      <td>11</td>\n",
       "    </tr>\n",
       "    <tr>\n",
       "      <th>202605</th>\n",
       "      <td>1499_218</td>\n",
       "      <td>2018-10-06</td>\n",
       "      <td>5</td>\n",
       "      <td>1499</td>\n",
       "      <td>10</td>\n",
       "    </tr>\n",
       "    <tr>\n",
       "      <th>202606</th>\n",
       "      <td>1499_219</td>\n",
       "      <td>2018-12-14</td>\n",
       "      <td>20</td>\n",
       "      <td>1499</td>\n",
       "      <td>12</td>\n",
       "    </tr>\n",
       "  </tbody>\n",
       "</table>\n",
       "<p>202607 rows × 5 columns</p>\n",
       "</div>"
      ],
      "text/plain": [
       "              id  call_date  duration  user_id  month\n",
       "0         1000_0 2018-07-25         0     1000      7\n",
       "1         1000_1 2018-08-17         0     1000      8\n",
       "2         1000_2 2018-06-11         3     1000      6\n",
       "3         1000_3 2018-09-21        14     1000      9\n",
       "4         1000_4 2018-12-15         6     1000     12\n",
       "...          ...        ...       ...      ...    ...\n",
       "202602  1499_215 2018-12-26         1     1499     12\n",
       "202603  1499_216 2018-10-18        19     1499     10\n",
       "202604  1499_217 2018-11-10        11     1499     11\n",
       "202605  1499_218 2018-10-06         5     1499     10\n",
       "202606  1499_219 2018-12-14        20     1499     12\n",
       "\n",
       "[202607 rows x 5 columns]"
      ]
     },
     "execution_count": 34,
     "metadata": {},
     "output_type": "execute_result"
    }
   ],
   "source": [
    "calls # проверка"
   ]
  },
  {
   "cell_type": "code",
   "execution_count": 35,
   "metadata": {},
   "outputs": [
    {
     "data": {
      "text/html": [
       "<div>\n",
       "<style scoped>\n",
       "    .dataframe tbody tr th:only-of-type {\n",
       "        vertical-align: middle;\n",
       "    }\n",
       "\n",
       "    .dataframe tbody tr th {\n",
       "        vertical-align: top;\n",
       "    }\n",
       "\n",
       "    .dataframe thead th {\n",
       "        text-align: right;\n",
       "    }\n",
       "</style>\n",
       "<table border=\"1\" class=\"dataframe\">\n",
       "  <thead>\n",
       "    <tr style=\"text-align: right;\">\n",
       "      <th></th>\n",
       "      <th>id</th>\n",
       "      <th>message_date</th>\n",
       "      <th>user_id</th>\n",
       "      <th>month</th>\n",
       "    </tr>\n",
       "  </thead>\n",
       "  <tbody>\n",
       "    <tr>\n",
       "      <th>0</th>\n",
       "      <td>1000_0</td>\n",
       "      <td>2018-06-27</td>\n",
       "      <td>1000</td>\n",
       "      <td>6</td>\n",
       "    </tr>\n",
       "    <tr>\n",
       "      <th>1</th>\n",
       "      <td>1000_1</td>\n",
       "      <td>2018-10-08</td>\n",
       "      <td>1000</td>\n",
       "      <td>10</td>\n",
       "    </tr>\n",
       "    <tr>\n",
       "      <th>2</th>\n",
       "      <td>1000_2</td>\n",
       "      <td>2018-08-04</td>\n",
       "      <td>1000</td>\n",
       "      <td>8</td>\n",
       "    </tr>\n",
       "    <tr>\n",
       "      <th>3</th>\n",
       "      <td>1000_3</td>\n",
       "      <td>2018-06-16</td>\n",
       "      <td>1000</td>\n",
       "      <td>6</td>\n",
       "    </tr>\n",
       "    <tr>\n",
       "      <th>4</th>\n",
       "      <td>1000_4</td>\n",
       "      <td>2018-12-05</td>\n",
       "      <td>1000</td>\n",
       "      <td>12</td>\n",
       "    </tr>\n",
       "    <tr>\n",
       "      <th>...</th>\n",
       "      <td>...</td>\n",
       "      <td>...</td>\n",
       "      <td>...</td>\n",
       "      <td>...</td>\n",
       "    </tr>\n",
       "    <tr>\n",
       "      <th>123031</th>\n",
       "      <td>1499_179</td>\n",
       "      <td>2018-12-12</td>\n",
       "      <td>1499</td>\n",
       "      <td>12</td>\n",
       "    </tr>\n",
       "    <tr>\n",
       "      <th>123032</th>\n",
       "      <td>1499_180</td>\n",
       "      <td>2018-09-28</td>\n",
       "      <td>1499</td>\n",
       "      <td>9</td>\n",
       "    </tr>\n",
       "    <tr>\n",
       "      <th>123033</th>\n",
       "      <td>1499_181</td>\n",
       "      <td>2018-09-27</td>\n",
       "      <td>1499</td>\n",
       "      <td>9</td>\n",
       "    </tr>\n",
       "    <tr>\n",
       "      <th>123034</th>\n",
       "      <td>1499_182</td>\n",
       "      <td>2018-11-15</td>\n",
       "      <td>1499</td>\n",
       "      <td>11</td>\n",
       "    </tr>\n",
       "    <tr>\n",
       "      <th>123035</th>\n",
       "      <td>1499_183</td>\n",
       "      <td>2018-11-16</td>\n",
       "      <td>1499</td>\n",
       "      <td>11</td>\n",
       "    </tr>\n",
       "  </tbody>\n",
       "</table>\n",
       "<p>123036 rows × 4 columns</p>\n",
       "</div>"
      ],
      "text/plain": [
       "              id message_date  user_id  month\n",
       "0         1000_0   2018-06-27     1000      6\n",
       "1         1000_1   2018-10-08     1000     10\n",
       "2         1000_2   2018-08-04     1000      8\n",
       "3         1000_3   2018-06-16     1000      6\n",
       "4         1000_4   2018-12-05     1000     12\n",
       "...          ...          ...      ...    ...\n",
       "123031  1499_179   2018-12-12     1499     12\n",
       "123032  1499_180   2018-09-28     1499      9\n",
       "123033  1499_181   2018-09-27     1499      9\n",
       "123034  1499_182   2018-11-15     1499     11\n",
       "123035  1499_183   2018-11-16     1499     11\n",
       "\n",
       "[123036 rows x 4 columns]"
      ]
     },
     "execution_count": 35,
     "metadata": {},
     "output_type": "execute_result"
    }
   ],
   "source": [
    "messages # проверка"
   ]
  },
  {
   "cell_type": "code",
   "execution_count": 36,
   "metadata": {},
   "outputs": [
    {
     "data": {
      "text/html": [
       "<div>\n",
       "<style scoped>\n",
       "    .dataframe tbody tr th:only-of-type {\n",
       "        vertical-align: middle;\n",
       "    }\n",
       "\n",
       "    .dataframe tbody tr th {\n",
       "        vertical-align: top;\n",
       "    }\n",
       "\n",
       "    .dataframe thead th {\n",
       "        text-align: right;\n",
       "    }\n",
       "</style>\n",
       "<table border=\"1\" class=\"dataframe\">\n",
       "  <thead>\n",
       "    <tr style=\"text-align: right;\">\n",
       "      <th></th>\n",
       "      <th>id</th>\n",
       "      <th>mb_used</th>\n",
       "      <th>session_date</th>\n",
       "      <th>user_id</th>\n",
       "      <th>month</th>\n",
       "    </tr>\n",
       "  </thead>\n",
       "  <tbody>\n",
       "    <tr>\n",
       "      <th>0</th>\n",
       "      <td>1000_0</td>\n",
       "      <td>113</td>\n",
       "      <td>2018-11-25</td>\n",
       "      <td>1000</td>\n",
       "      <td>11</td>\n",
       "    </tr>\n",
       "    <tr>\n",
       "      <th>1</th>\n",
       "      <td>1000_1</td>\n",
       "      <td>1053</td>\n",
       "      <td>2018-09-07</td>\n",
       "      <td>1000</td>\n",
       "      <td>9</td>\n",
       "    </tr>\n",
       "    <tr>\n",
       "      <th>2</th>\n",
       "      <td>1000_2</td>\n",
       "      <td>1198</td>\n",
       "      <td>2018-06-25</td>\n",
       "      <td>1000</td>\n",
       "      <td>6</td>\n",
       "    </tr>\n",
       "    <tr>\n",
       "      <th>3</th>\n",
       "      <td>1000_3</td>\n",
       "      <td>551</td>\n",
       "      <td>2018-08-22</td>\n",
       "      <td>1000</td>\n",
       "      <td>8</td>\n",
       "    </tr>\n",
       "    <tr>\n",
       "      <th>4</th>\n",
       "      <td>1000_4</td>\n",
       "      <td>303</td>\n",
       "      <td>2018-09-24</td>\n",
       "      <td>1000</td>\n",
       "      <td>9</td>\n",
       "    </tr>\n",
       "    <tr>\n",
       "      <th>...</th>\n",
       "      <td>...</td>\n",
       "      <td>...</td>\n",
       "      <td>...</td>\n",
       "      <td>...</td>\n",
       "      <td>...</td>\n",
       "    </tr>\n",
       "    <tr>\n",
       "      <th>149390</th>\n",
       "      <td>1499_151</td>\n",
       "      <td>753</td>\n",
       "      <td>2018-10-11</td>\n",
       "      <td>1499</td>\n",
       "      <td>10</td>\n",
       "    </tr>\n",
       "    <tr>\n",
       "      <th>149391</th>\n",
       "      <td>1499_152</td>\n",
       "      <td>319</td>\n",
       "      <td>2018-10-03</td>\n",
       "      <td>1499</td>\n",
       "      <td>10</td>\n",
       "    </tr>\n",
       "    <tr>\n",
       "      <th>149392</th>\n",
       "      <td>1499_153</td>\n",
       "      <td>491</td>\n",
       "      <td>2018-12-14</td>\n",
       "      <td>1499</td>\n",
       "      <td>12</td>\n",
       "    </tr>\n",
       "    <tr>\n",
       "      <th>149394</th>\n",
       "      <td>1499_155</td>\n",
       "      <td>1247</td>\n",
       "      <td>2018-11-26</td>\n",
       "      <td>1499</td>\n",
       "      <td>11</td>\n",
       "    </tr>\n",
       "    <tr>\n",
       "      <th>149395</th>\n",
       "      <td>1499_156</td>\n",
       "      <td>545</td>\n",
       "      <td>2018-10-26</td>\n",
       "      <td>1499</td>\n",
       "      <td>10</td>\n",
       "    </tr>\n",
       "  </tbody>\n",
       "</table>\n",
       "<p>129798 rows × 5 columns</p>\n",
       "</div>"
      ],
      "text/plain": [
       "              id  mb_used session_date  user_id  month\n",
       "0         1000_0      113   2018-11-25     1000     11\n",
       "1         1000_1     1053   2018-09-07     1000      9\n",
       "2         1000_2     1198   2018-06-25     1000      6\n",
       "3         1000_3      551   2018-08-22     1000      8\n",
       "4         1000_4      303   2018-09-24     1000      9\n",
       "...          ...      ...          ...      ...    ...\n",
       "149390  1499_151      753   2018-10-11     1499     10\n",
       "149391  1499_152      319   2018-10-03     1499     10\n",
       "149392  1499_153      491   2018-12-14     1499     12\n",
       "149394  1499_155     1247   2018-11-26     1499     11\n",
       "149395  1499_156      545   2018-10-26     1499     10\n",
       "\n",
       "[129798 rows x 5 columns]"
      ]
     },
     "execution_count": 36,
     "metadata": {},
     "output_type": "execute_result"
    }
   ],
   "source": [
    "internet # проверка"
   ]
  },
  {
   "cell_type": "markdown",
   "metadata": {},
   "source": [
    "### Статистика разговоров"
   ]
  },
  {
   "cell_type": "markdown",
   "metadata": {},
   "source": [
    "Посчитаем для каждого пользователя количество сделанных звонков и израсходованных минут разговора по месяцам. Для этого сделаем отдельную таблицу."
   ]
  },
  {
   "cell_type": "code",
   "execution_count": 37,
   "metadata": {},
   "outputs": [
    {
     "data": {
      "text/html": [
       "<div>\n",
       "<style scoped>\n",
       "    .dataframe tbody tr th:only-of-type {\n",
       "        vertical-align: middle;\n",
       "    }\n",
       "\n",
       "    .dataframe tbody tr th {\n",
       "        vertical-align: top;\n",
       "    }\n",
       "\n",
       "    .dataframe thead th {\n",
       "        text-align: right;\n",
       "    }\n",
       "</style>\n",
       "<table border=\"1\" class=\"dataframe\">\n",
       "  <thead>\n",
       "    <tr style=\"text-align: right;\">\n",
       "      <th></th>\n",
       "      <th>user_id</th>\n",
       "      <th>month</th>\n",
       "      <th>count</th>\n",
       "      <th>sum</th>\n",
       "    </tr>\n",
       "  </thead>\n",
       "  <tbody>\n",
       "    <tr>\n",
       "      <th>0</th>\n",
       "      <td>1000</td>\n",
       "      <td>5</td>\n",
       "      <td>22</td>\n",
       "      <td>159</td>\n",
       "    </tr>\n",
       "    <tr>\n",
       "      <th>1</th>\n",
       "      <td>1000</td>\n",
       "      <td>6</td>\n",
       "      <td>43</td>\n",
       "      <td>172</td>\n",
       "    </tr>\n",
       "    <tr>\n",
       "      <th>2</th>\n",
       "      <td>1000</td>\n",
       "      <td>7</td>\n",
       "      <td>47</td>\n",
       "      <td>340</td>\n",
       "    </tr>\n",
       "    <tr>\n",
       "      <th>3</th>\n",
       "      <td>1000</td>\n",
       "      <td>8</td>\n",
       "      <td>52</td>\n",
       "      <td>408</td>\n",
       "    </tr>\n",
       "    <tr>\n",
       "      <th>4</th>\n",
       "      <td>1000</td>\n",
       "      <td>9</td>\n",
       "      <td>58</td>\n",
       "      <td>466</td>\n",
       "    </tr>\n",
       "    <tr>\n",
       "      <th>...</th>\n",
       "      <td>...</td>\n",
       "      <td>...</td>\n",
       "      <td>...</td>\n",
       "      <td>...</td>\n",
       "    </tr>\n",
       "    <tr>\n",
       "      <th>3169</th>\n",
       "      <td>1498</td>\n",
       "      <td>10</td>\n",
       "      <td>41</td>\n",
       "      <td>247</td>\n",
       "    </tr>\n",
       "    <tr>\n",
       "      <th>3170</th>\n",
       "      <td>1499</td>\n",
       "      <td>9</td>\n",
       "      <td>9</td>\n",
       "      <td>70</td>\n",
       "    </tr>\n",
       "    <tr>\n",
       "      <th>3171</th>\n",
       "      <td>1499</td>\n",
       "      <td>10</td>\n",
       "      <td>68</td>\n",
       "      <td>449</td>\n",
       "    </tr>\n",
       "    <tr>\n",
       "      <th>3172</th>\n",
       "      <td>1499</td>\n",
       "      <td>11</td>\n",
       "      <td>74</td>\n",
       "      <td>612</td>\n",
       "    </tr>\n",
       "    <tr>\n",
       "      <th>3173</th>\n",
       "      <td>1499</td>\n",
       "      <td>12</td>\n",
       "      <td>69</td>\n",
       "      <td>492</td>\n",
       "    </tr>\n",
       "  </tbody>\n",
       "</table>\n",
       "<p>3174 rows × 4 columns</p>\n",
       "</div>"
      ],
      "text/plain": [
       "      user_id  month  count  sum\n",
       "0        1000      5     22  159\n",
       "1        1000      6     43  172\n",
       "2        1000      7     47  340\n",
       "3        1000      8     52  408\n",
       "4        1000      9     58  466\n",
       "...       ...    ...    ...  ...\n",
       "3169     1498     10     41  247\n",
       "3170     1499      9      9   70\n",
       "3171     1499     10     68  449\n",
       "3172     1499     11     74  612\n",
       "3173     1499     12     69  492\n",
       "\n",
       "[3174 rows x 4 columns]"
      ]
     },
     "execution_count": 37,
     "metadata": {},
     "output_type": "execute_result"
    }
   ],
   "source": [
    "calls_by_id_monthly = calls.pivot_table(values = 'duration',index=['user_id', 'month'], aggfunc={'count', 'sum'})\n",
    "calls_by_id_monthly.reset_index(level=['month', 'user_id'])"
   ]
  },
  {
   "cell_type": "markdown",
   "metadata": {},
   "source": [
    "### Статистика сообщений"
   ]
  },
  {
   "cell_type": "markdown",
   "metadata": {},
   "source": [
    "Сделаем сводную таблицу по количеству отправленных сообщений по месяцам для каждого пользователя."
   ]
  },
  {
   "cell_type": "code",
   "execution_count": 38,
   "metadata": {},
   "outputs": [
    {
     "data": {
      "text/html": [
       "<div>\n",
       "<style scoped>\n",
       "    .dataframe tbody tr th:only-of-type {\n",
       "        vertical-align: middle;\n",
       "    }\n",
       "\n",
       "    .dataframe tbody tr th {\n",
       "        vertical-align: top;\n",
       "    }\n",
       "\n",
       "    .dataframe thead th {\n",
       "        text-align: right;\n",
       "    }\n",
       "</style>\n",
       "<table border=\"1\" class=\"dataframe\">\n",
       "  <thead>\n",
       "    <tr style=\"text-align: right;\">\n",
       "      <th></th>\n",
       "      <th>user_id</th>\n",
       "      <th>month</th>\n",
       "      <th>id</th>\n",
       "    </tr>\n",
       "  </thead>\n",
       "  <tbody>\n",
       "    <tr>\n",
       "      <th>0</th>\n",
       "      <td>1000</td>\n",
       "      <td>5</td>\n",
       "      <td>22</td>\n",
       "    </tr>\n",
       "    <tr>\n",
       "      <th>1</th>\n",
       "      <td>1000</td>\n",
       "      <td>6</td>\n",
       "      <td>60</td>\n",
       "    </tr>\n",
       "    <tr>\n",
       "      <th>2</th>\n",
       "      <td>1000</td>\n",
       "      <td>7</td>\n",
       "      <td>75</td>\n",
       "    </tr>\n",
       "    <tr>\n",
       "      <th>3</th>\n",
       "      <td>1000</td>\n",
       "      <td>8</td>\n",
       "      <td>81</td>\n",
       "    </tr>\n",
       "    <tr>\n",
       "      <th>4</th>\n",
       "      <td>1000</td>\n",
       "      <td>9</td>\n",
       "      <td>57</td>\n",
       "    </tr>\n",
       "    <tr>\n",
       "      <th>...</th>\n",
       "      <td>...</td>\n",
       "      <td>...</td>\n",
       "      <td>...</td>\n",
       "    </tr>\n",
       "    <tr>\n",
       "      <th>2712</th>\n",
       "      <td>1498</td>\n",
       "      <td>10</td>\n",
       "      <td>42</td>\n",
       "    </tr>\n",
       "    <tr>\n",
       "      <th>2713</th>\n",
       "      <td>1499</td>\n",
       "      <td>9</td>\n",
       "      <td>11</td>\n",
       "    </tr>\n",
       "    <tr>\n",
       "      <th>2714</th>\n",
       "      <td>1499</td>\n",
       "      <td>10</td>\n",
       "      <td>48</td>\n",
       "    </tr>\n",
       "    <tr>\n",
       "      <th>2715</th>\n",
       "      <td>1499</td>\n",
       "      <td>11</td>\n",
       "      <td>59</td>\n",
       "    </tr>\n",
       "    <tr>\n",
       "      <th>2716</th>\n",
       "      <td>1499</td>\n",
       "      <td>12</td>\n",
       "      <td>66</td>\n",
       "    </tr>\n",
       "  </tbody>\n",
       "</table>\n",
       "<p>2717 rows × 3 columns</p>\n",
       "</div>"
      ],
      "text/plain": [
       "      user_id  month  id\n",
       "0        1000      5  22\n",
       "1        1000      6  60\n",
       "2        1000      7  75\n",
       "3        1000      8  81\n",
       "4        1000      9  57\n",
       "...       ...    ...  ..\n",
       "2712     1498     10  42\n",
       "2713     1499      9  11\n",
       "2714     1499     10  48\n",
       "2715     1499     11  59\n",
       "2716     1499     12  66\n",
       "\n",
       "[2717 rows x 3 columns]"
      ]
     },
     "execution_count": 38,
     "metadata": {},
     "output_type": "execute_result"
    }
   ],
   "source": [
    "messages_by_id_monthly = messages.pivot_table(values = 'id',index=['user_id', 'month'], aggfunc='count')\n",
    "messages_by_id_monthly.reset_index(level=['month', 'user_id'])"
   ]
  },
  {
   "cell_type": "markdown",
   "metadata": {},
   "source": [
    "### Статистика интернет трафика"
   ]
  },
  {
   "cell_type": "markdown",
   "metadata": {},
   "source": [
    "Сделаем сводную таблицу по объему израсходованного интернет-трафика по месяцам по каждому пользователю. Переведем мегабайты в гигабайты и округлим и поменяем тип на int."
   ]
  },
  {
   "cell_type": "code",
   "execution_count": 39,
   "metadata": {},
   "outputs": [
    {
     "data": {
      "text/html": [
       "<div>\n",
       "<style scoped>\n",
       "    .dataframe tbody tr th:only-of-type {\n",
       "        vertical-align: middle;\n",
       "    }\n",
       "\n",
       "    .dataframe tbody tr th {\n",
       "        vertical-align: top;\n",
       "    }\n",
       "\n",
       "    .dataframe thead th {\n",
       "        text-align: right;\n",
       "    }\n",
       "</style>\n",
       "<table border=\"1\" class=\"dataframe\">\n",
       "  <thead>\n",
       "    <tr style=\"text-align: right;\">\n",
       "      <th></th>\n",
       "      <th>user_id</th>\n",
       "      <th>month</th>\n",
       "      <th>mb_used</th>\n",
       "      <th>gb_used</th>\n",
       "    </tr>\n",
       "  </thead>\n",
       "  <tbody>\n",
       "    <tr>\n",
       "      <th>0</th>\n",
       "      <td>1000</td>\n",
       "      <td>5</td>\n",
       "      <td>2256</td>\n",
       "      <td>3</td>\n",
       "    </tr>\n",
       "    <tr>\n",
       "      <th>1</th>\n",
       "      <td>1000</td>\n",
       "      <td>6</td>\n",
       "      <td>23257</td>\n",
       "      <td>23</td>\n",
       "    </tr>\n",
       "    <tr>\n",
       "      <th>2</th>\n",
       "      <td>1000</td>\n",
       "      <td>7</td>\n",
       "      <td>14016</td>\n",
       "      <td>14</td>\n",
       "    </tr>\n",
       "    <tr>\n",
       "      <th>3</th>\n",
       "      <td>1000</td>\n",
       "      <td>8</td>\n",
       "      <td>14070</td>\n",
       "      <td>14</td>\n",
       "    </tr>\n",
       "    <tr>\n",
       "      <th>4</th>\n",
       "      <td>1000</td>\n",
       "      <td>9</td>\n",
       "      <td>14581</td>\n",
       "      <td>15</td>\n",
       "    </tr>\n",
       "    <tr>\n",
       "      <th>...</th>\n",
       "      <td>...</td>\n",
       "      <td>...</td>\n",
       "      <td>...</td>\n",
       "      <td>...</td>\n",
       "    </tr>\n",
       "    <tr>\n",
       "      <th>3196</th>\n",
       "      <td>1498</td>\n",
       "      <td>10</td>\n",
       "      <td>20604</td>\n",
       "      <td>21</td>\n",
       "    </tr>\n",
       "    <tr>\n",
       "      <th>3197</th>\n",
       "      <td>1499</td>\n",
       "      <td>9</td>\n",
       "      <td>1848</td>\n",
       "      <td>2</td>\n",
       "    </tr>\n",
       "    <tr>\n",
       "      <th>3198</th>\n",
       "      <td>1499</td>\n",
       "      <td>10</td>\n",
       "      <td>17809</td>\n",
       "      <td>18</td>\n",
       "    </tr>\n",
       "    <tr>\n",
       "      <th>3199</th>\n",
       "      <td>1499</td>\n",
       "      <td>11</td>\n",
       "      <td>17984</td>\n",
       "      <td>18</td>\n",
       "    </tr>\n",
       "    <tr>\n",
       "      <th>3200</th>\n",
       "      <td>1499</td>\n",
       "      <td>12</td>\n",
       "      <td>13077</td>\n",
       "      <td>13</td>\n",
       "    </tr>\n",
       "  </tbody>\n",
       "</table>\n",
       "<p>3201 rows × 4 columns</p>\n",
       "</div>"
      ],
      "text/plain": [
       "      user_id  month  mb_used  gb_used\n",
       "0        1000      5     2256        3\n",
       "1        1000      6    23257       23\n",
       "2        1000      7    14016       14\n",
       "3        1000      8    14070       14\n",
       "4        1000      9    14581       15\n",
       "...       ...    ...      ...      ...\n",
       "3196     1498     10    20604       21\n",
       "3197     1499      9     1848        2\n",
       "3198     1499     10    17809       18\n",
       "3199     1499     11    17984       18\n",
       "3200     1499     12    13077       13\n",
       "\n",
       "[3201 rows x 4 columns]"
      ]
     },
     "execution_count": 39,
     "metadata": {},
     "output_type": "execute_result"
    }
   ],
   "source": [
    "internet_by_id_monthly = internet.pivot_table(values = 'mb_used',index=['user_id', 'month'], aggfunc='sum') # сводная таблица\n",
    "internet_by_id_monthly['gb_used'] = internet_by_id_monthly['mb_used'] / 1024 # добавляем столб с гб\n",
    "internet_by_id_monthly['gb_used'] = internet_by_id_monthly['gb_used'].apply('ceil').astype(int) # округляем и меняем тип\n",
    "internet_by_id_monthly.reset_index(level=['month', 'user_id'])"
   ]
  },
  {
   "cell_type": "markdown",
   "metadata": {},
   "source": [
    "### Выручка"
   ]
  },
  {
   "cell_type": "markdown",
   "metadata": {},
   "source": [
    "Сделаем таблицу с помесячной выручкой с каждого пользователя: \n",
    "1. вычтем бесплатный лимит из суммарного количества звонков, сообщений и интернет-трафика; \n",
    "2. остаток умножим на значение из тарифного плана; \n",
    "3. прибавим абонентскую плату, соответствующую тарифному плану.\n",
    "\n",
    "Сперва объединим предыдущие результаты в одну таблицу. После этого заменим все пропущеные значения на нули, т.к. не каждый абонент пользовался всеми опциями оператора, потом добавим помесячную выручку для каждого пользователя."
   ]
  },
  {
   "cell_type": "code",
   "execution_count": 40,
   "metadata": {},
   "outputs": [],
   "source": [
    "stat_data = calls_by_id_monthly.merge(messages_by_id_monthly, on=['user_id', 'month'], how='outer').reset_index(level=['month', 'user_id'])"
   ]
  },
  {
   "cell_type": "code",
   "execution_count": 41,
   "metadata": {
    "scrolled": true
   },
   "outputs": [],
   "source": [
    "stat_data = stat_data.merge(internet_by_id_monthly, on=['user_id', 'month'], how='outer') # соединяем"
   ]
  },
  {
   "cell_type": "code",
   "execution_count": 42,
   "metadata": {},
   "outputs": [
    {
     "data": {
      "text/html": [
       "<div>\n",
       "<style scoped>\n",
       "    .dataframe tbody tr th:only-of-type {\n",
       "        vertical-align: middle;\n",
       "    }\n",
       "\n",
       "    .dataframe tbody tr th {\n",
       "        vertical-align: top;\n",
       "    }\n",
       "\n",
       "    .dataframe thead th {\n",
       "        text-align: right;\n",
       "    }\n",
       "</style>\n",
       "<table border=\"1\" class=\"dataframe\">\n",
       "  <thead>\n",
       "    <tr style=\"text-align: right;\">\n",
       "      <th></th>\n",
       "      <th>user_id</th>\n",
       "      <th>month</th>\n",
       "      <th>count</th>\n",
       "      <th>sum</th>\n",
       "      <th>id</th>\n",
       "      <th>mb_used</th>\n",
       "      <th>gb_used</th>\n",
       "    </tr>\n",
       "  </thead>\n",
       "  <tbody>\n",
       "    <tr>\n",
       "      <th>0</th>\n",
       "      <td>1000</td>\n",
       "      <td>5</td>\n",
       "      <td>22.00</td>\n",
       "      <td>159.00</td>\n",
       "      <td>22.00</td>\n",
       "      <td>2,256.00</td>\n",
       "      <td>3.00</td>\n",
       "    </tr>\n",
       "    <tr>\n",
       "      <th>1</th>\n",
       "      <td>1000</td>\n",
       "      <td>6</td>\n",
       "      <td>43.00</td>\n",
       "      <td>172.00</td>\n",
       "      <td>60.00</td>\n",
       "      <td>23,257.00</td>\n",
       "      <td>23.00</td>\n",
       "    </tr>\n",
       "    <tr>\n",
       "      <th>2</th>\n",
       "      <td>1000</td>\n",
       "      <td>7</td>\n",
       "      <td>47.00</td>\n",
       "      <td>340.00</td>\n",
       "      <td>75.00</td>\n",
       "      <td>14,016.00</td>\n",
       "      <td>14.00</td>\n",
       "    </tr>\n",
       "    <tr>\n",
       "      <th>3</th>\n",
       "      <td>1000</td>\n",
       "      <td>8</td>\n",
       "      <td>52.00</td>\n",
       "      <td>408.00</td>\n",
       "      <td>81.00</td>\n",
       "      <td>14,070.00</td>\n",
       "      <td>14.00</td>\n",
       "    </tr>\n",
       "    <tr>\n",
       "      <th>4</th>\n",
       "      <td>1000</td>\n",
       "      <td>9</td>\n",
       "      <td>58.00</td>\n",
       "      <td>466.00</td>\n",
       "      <td>57.00</td>\n",
       "      <td>14,581.00</td>\n",
       "      <td>15.00</td>\n",
       "    </tr>\n",
       "    <tr>\n",
       "      <th>...</th>\n",
       "      <td>...</td>\n",
       "      <td>...</td>\n",
       "      <td>...</td>\n",
       "      <td>...</td>\n",
       "      <td>...</td>\n",
       "      <td>...</td>\n",
       "      <td>...</td>\n",
       "    </tr>\n",
       "    <tr>\n",
       "      <th>3209</th>\n",
       "      <td>1489</td>\n",
       "      <td>9</td>\n",
       "      <td>NaN</td>\n",
       "      <td>NaN</td>\n",
       "      <td>32.00</td>\n",
       "      <td>17,232.00</td>\n",
       "      <td>17.00</td>\n",
       "    </tr>\n",
       "    <tr>\n",
       "      <th>3210</th>\n",
       "      <td>1489</td>\n",
       "      <td>10</td>\n",
       "      <td>NaN</td>\n",
       "      <td>NaN</td>\n",
       "      <td>21.00</td>\n",
       "      <td>19,588.00</td>\n",
       "      <td>20.00</td>\n",
       "    </tr>\n",
       "    <tr>\n",
       "      <th>3211</th>\n",
       "      <td>1489</td>\n",
       "      <td>11</td>\n",
       "      <td>NaN</td>\n",
       "      <td>NaN</td>\n",
       "      <td>20.00</td>\n",
       "      <td>17,516.00</td>\n",
       "      <td>18.00</td>\n",
       "    </tr>\n",
       "    <tr>\n",
       "      <th>3212</th>\n",
       "      <td>1489</td>\n",
       "      <td>12</td>\n",
       "      <td>NaN</td>\n",
       "      <td>NaN</td>\n",
       "      <td>35.00</td>\n",
       "      <td>17,341.00</td>\n",
       "      <td>17.00</td>\n",
       "    </tr>\n",
       "    <tr>\n",
       "      <th>3213</th>\n",
       "      <td>1476</td>\n",
       "      <td>4</td>\n",
       "      <td>NaN</td>\n",
       "      <td>NaN</td>\n",
       "      <td>NaN</td>\n",
       "      <td>531.00</td>\n",
       "      <td>1.00</td>\n",
       "    </tr>\n",
       "  </tbody>\n",
       "</table>\n",
       "<p>3214 rows × 7 columns</p>\n",
       "</div>"
      ],
      "text/plain": [
       "      user_id  month  count    sum    id   mb_used  gb_used\n",
       "0        1000      5  22.00 159.00 22.00  2,256.00     3.00\n",
       "1        1000      6  43.00 172.00 60.00 23,257.00    23.00\n",
       "2        1000      7  47.00 340.00 75.00 14,016.00    14.00\n",
       "3        1000      8  52.00 408.00 81.00 14,070.00    14.00\n",
       "4        1000      9  58.00 466.00 57.00 14,581.00    15.00\n",
       "...       ...    ...    ...    ...   ...       ...      ...\n",
       "3209     1489      9    NaN    NaN 32.00 17,232.00    17.00\n",
       "3210     1489     10    NaN    NaN 21.00 19,588.00    20.00\n",
       "3211     1489     11    NaN    NaN 20.00 17,516.00    18.00\n",
       "3212     1489     12    NaN    NaN 35.00 17,341.00    17.00\n",
       "3213     1476      4    NaN    NaN   NaN    531.00     1.00\n",
       "\n",
       "[3214 rows x 7 columns]"
      ]
     },
     "execution_count": 42,
     "metadata": {},
     "output_type": "execute_result"
    }
   ],
   "source": [
    "stat_data"
   ]
  },
  {
   "cell_type": "code",
   "execution_count": 43,
   "metadata": {},
   "outputs": [],
   "source": [
    "stat_data.columns = (['user_id', 'month', 'calls_count', 'calls_sum', 'messages', 'mb_used', 'gb_used']) # переименовываем колонки"
   ]
  },
  {
   "cell_type": "code",
   "execution_count": 44,
   "metadata": {},
   "outputs": [
    {
     "data": {
      "text/html": [
       "<div>\n",
       "<style scoped>\n",
       "    .dataframe tbody tr th:only-of-type {\n",
       "        vertical-align: middle;\n",
       "    }\n",
       "\n",
       "    .dataframe tbody tr th {\n",
       "        vertical-align: top;\n",
       "    }\n",
       "\n",
       "    .dataframe thead th {\n",
       "        text-align: right;\n",
       "    }\n",
       "</style>\n",
       "<table border=\"1\" class=\"dataframe\">\n",
       "  <thead>\n",
       "    <tr style=\"text-align: right;\">\n",
       "      <th></th>\n",
       "      <th>user_id</th>\n",
       "      <th>month</th>\n",
       "      <th>calls_count</th>\n",
       "      <th>calls_sum</th>\n",
       "      <th>messages</th>\n",
       "      <th>mb_used</th>\n",
       "      <th>gb_used</th>\n",
       "    </tr>\n",
       "  </thead>\n",
       "  <tbody>\n",
       "    <tr>\n",
       "      <th>0</th>\n",
       "      <td>1000</td>\n",
       "      <td>5</td>\n",
       "      <td>22.00</td>\n",
       "      <td>159.00</td>\n",
       "      <td>22.00</td>\n",
       "      <td>2,256.00</td>\n",
       "      <td>3.00</td>\n",
       "    </tr>\n",
       "    <tr>\n",
       "      <th>1</th>\n",
       "      <td>1000</td>\n",
       "      <td>6</td>\n",
       "      <td>43.00</td>\n",
       "      <td>172.00</td>\n",
       "      <td>60.00</td>\n",
       "      <td>23,257.00</td>\n",
       "      <td>23.00</td>\n",
       "    </tr>\n",
       "    <tr>\n",
       "      <th>2</th>\n",
       "      <td>1000</td>\n",
       "      <td>7</td>\n",
       "      <td>47.00</td>\n",
       "      <td>340.00</td>\n",
       "      <td>75.00</td>\n",
       "      <td>14,016.00</td>\n",
       "      <td>14.00</td>\n",
       "    </tr>\n",
       "    <tr>\n",
       "      <th>3</th>\n",
       "      <td>1000</td>\n",
       "      <td>8</td>\n",
       "      <td>52.00</td>\n",
       "      <td>408.00</td>\n",
       "      <td>81.00</td>\n",
       "      <td>14,070.00</td>\n",
       "      <td>14.00</td>\n",
       "    </tr>\n",
       "    <tr>\n",
       "      <th>4</th>\n",
       "      <td>1000</td>\n",
       "      <td>9</td>\n",
       "      <td>58.00</td>\n",
       "      <td>466.00</td>\n",
       "      <td>57.00</td>\n",
       "      <td>14,581.00</td>\n",
       "      <td>15.00</td>\n",
       "    </tr>\n",
       "    <tr>\n",
       "      <th>...</th>\n",
       "      <td>...</td>\n",
       "      <td>...</td>\n",
       "      <td>...</td>\n",
       "      <td>...</td>\n",
       "      <td>...</td>\n",
       "      <td>...</td>\n",
       "      <td>...</td>\n",
       "    </tr>\n",
       "    <tr>\n",
       "      <th>3209</th>\n",
       "      <td>1489</td>\n",
       "      <td>9</td>\n",
       "      <td>NaN</td>\n",
       "      <td>NaN</td>\n",
       "      <td>32.00</td>\n",
       "      <td>17,232.00</td>\n",
       "      <td>17.00</td>\n",
       "    </tr>\n",
       "    <tr>\n",
       "      <th>3210</th>\n",
       "      <td>1489</td>\n",
       "      <td>10</td>\n",
       "      <td>NaN</td>\n",
       "      <td>NaN</td>\n",
       "      <td>21.00</td>\n",
       "      <td>19,588.00</td>\n",
       "      <td>20.00</td>\n",
       "    </tr>\n",
       "    <tr>\n",
       "      <th>3211</th>\n",
       "      <td>1489</td>\n",
       "      <td>11</td>\n",
       "      <td>NaN</td>\n",
       "      <td>NaN</td>\n",
       "      <td>20.00</td>\n",
       "      <td>17,516.00</td>\n",
       "      <td>18.00</td>\n",
       "    </tr>\n",
       "    <tr>\n",
       "      <th>3212</th>\n",
       "      <td>1489</td>\n",
       "      <td>12</td>\n",
       "      <td>NaN</td>\n",
       "      <td>NaN</td>\n",
       "      <td>35.00</td>\n",
       "      <td>17,341.00</td>\n",
       "      <td>17.00</td>\n",
       "    </tr>\n",
       "    <tr>\n",
       "      <th>3213</th>\n",
       "      <td>1476</td>\n",
       "      <td>4</td>\n",
       "      <td>NaN</td>\n",
       "      <td>NaN</td>\n",
       "      <td>NaN</td>\n",
       "      <td>531.00</td>\n",
       "      <td>1.00</td>\n",
       "    </tr>\n",
       "  </tbody>\n",
       "</table>\n",
       "<p>3214 rows × 7 columns</p>\n",
       "</div>"
      ],
      "text/plain": [
       "      user_id  month  calls_count  calls_sum  messages   mb_used  gb_used\n",
       "0        1000      5        22.00     159.00     22.00  2,256.00     3.00\n",
       "1        1000      6        43.00     172.00     60.00 23,257.00    23.00\n",
       "2        1000      7        47.00     340.00     75.00 14,016.00    14.00\n",
       "3        1000      8        52.00     408.00     81.00 14,070.00    14.00\n",
       "4        1000      9        58.00     466.00     57.00 14,581.00    15.00\n",
       "...       ...    ...          ...        ...       ...       ...      ...\n",
       "3209     1489      9          NaN        NaN     32.00 17,232.00    17.00\n",
       "3210     1489     10          NaN        NaN     21.00 19,588.00    20.00\n",
       "3211     1489     11          NaN        NaN     20.00 17,516.00    18.00\n",
       "3212     1489     12          NaN        NaN     35.00 17,341.00    17.00\n",
       "3213     1476      4          NaN        NaN       NaN    531.00     1.00\n",
       "\n",
       "[3214 rows x 7 columns]"
      ]
     },
     "execution_count": 44,
     "metadata": {},
     "output_type": "execute_result"
    }
   ],
   "source": [
    "stat_data"
   ]
  },
  {
   "cell_type": "code",
   "execution_count": 45,
   "metadata": {},
   "outputs": [],
   "source": [
    "user_tarif = users.loc[:,['user_id', 'city', 'tariff' ]] # фильтруем таблицу по нужным данным для анализа"
   ]
  },
  {
   "cell_type": "code",
   "execution_count": 46,
   "metadata": {},
   "outputs": [],
   "source": [
    "stat_data = stat_data.merge(user_tarif, on='user_id', how='outer')\n",
    "stat_data = stat_data.fillna(0) # заменяем пропуски на 0 и меняем тип данных"
   ]
  },
  {
   "cell_type": "code",
   "execution_count": 47,
   "metadata": {},
   "outputs": [],
   "source": [
    "stat_data['calls_count'] = stat_data['calls_count'].astype(int) # исправляем типы данных\n",
    "stat_data['calls_sum'] = stat_data['calls_sum'].astype(int)\n",
    "stat_data['month'] = stat_data['month'].astype(int)\n",
    "stat_data['messages'] = stat_data['messages'].astype(int)\n",
    "stat_data['mb_used'] = stat_data['mb_used'].astype(int)\n",
    "stat_data['gb_used'] = stat_data['gb_used'].astype(int)"
   ]
  },
  {
   "cell_type": "code",
   "execution_count": 48,
   "metadata": {},
   "outputs": [
    {
     "data": {
      "text/html": [
       "<div>\n",
       "<style scoped>\n",
       "    .dataframe tbody tr th:only-of-type {\n",
       "        vertical-align: middle;\n",
       "    }\n",
       "\n",
       "    .dataframe tbody tr th {\n",
       "        vertical-align: top;\n",
       "    }\n",
       "\n",
       "    .dataframe thead th {\n",
       "        text-align: right;\n",
       "    }\n",
       "</style>\n",
       "<table border=\"1\" class=\"dataframe\">\n",
       "  <thead>\n",
       "    <tr style=\"text-align: right;\">\n",
       "      <th></th>\n",
       "      <th>user_id</th>\n",
       "      <th>month</th>\n",
       "      <th>calls_count</th>\n",
       "      <th>calls_sum</th>\n",
       "      <th>messages</th>\n",
       "      <th>mb_used</th>\n",
       "      <th>gb_used</th>\n",
       "      <th>city</th>\n",
       "      <th>tariff</th>\n",
       "    </tr>\n",
       "  </thead>\n",
       "  <tbody>\n",
       "    <tr>\n",
       "      <th>0</th>\n",
       "      <td>1000</td>\n",
       "      <td>5</td>\n",
       "      <td>22</td>\n",
       "      <td>159</td>\n",
       "      <td>22</td>\n",
       "      <td>2256</td>\n",
       "      <td>3</td>\n",
       "      <td>Краснодар</td>\n",
       "      <td>ultra</td>\n",
       "    </tr>\n",
       "    <tr>\n",
       "      <th>1</th>\n",
       "      <td>1000</td>\n",
       "      <td>6</td>\n",
       "      <td>43</td>\n",
       "      <td>172</td>\n",
       "      <td>60</td>\n",
       "      <td>23257</td>\n",
       "      <td>23</td>\n",
       "      <td>Краснодар</td>\n",
       "      <td>ultra</td>\n",
       "    </tr>\n",
       "    <tr>\n",
       "      <th>2</th>\n",
       "      <td>1000</td>\n",
       "      <td>7</td>\n",
       "      <td>47</td>\n",
       "      <td>340</td>\n",
       "      <td>75</td>\n",
       "      <td>14016</td>\n",
       "      <td>14</td>\n",
       "      <td>Краснодар</td>\n",
       "      <td>ultra</td>\n",
       "    </tr>\n",
       "    <tr>\n",
       "      <th>3</th>\n",
       "      <td>1000</td>\n",
       "      <td>8</td>\n",
       "      <td>52</td>\n",
       "      <td>408</td>\n",
       "      <td>81</td>\n",
       "      <td>14070</td>\n",
       "      <td>14</td>\n",
       "      <td>Краснодар</td>\n",
       "      <td>ultra</td>\n",
       "    </tr>\n",
       "    <tr>\n",
       "      <th>4</th>\n",
       "      <td>1000</td>\n",
       "      <td>9</td>\n",
       "      <td>58</td>\n",
       "      <td>466</td>\n",
       "      <td>57</td>\n",
       "      <td>14581</td>\n",
       "      <td>15</td>\n",
       "      <td>Краснодар</td>\n",
       "      <td>ultra</td>\n",
       "    </tr>\n",
       "    <tr>\n",
       "      <th>...</th>\n",
       "      <td>...</td>\n",
       "      <td>...</td>\n",
       "      <td>...</td>\n",
       "      <td>...</td>\n",
       "      <td>...</td>\n",
       "      <td>...</td>\n",
       "      <td>...</td>\n",
       "      <td>...</td>\n",
       "      <td>...</td>\n",
       "    </tr>\n",
       "    <tr>\n",
       "      <th>3211</th>\n",
       "      <td>1489</td>\n",
       "      <td>10</td>\n",
       "      <td>0</td>\n",
       "      <td>0</td>\n",
       "      <td>21</td>\n",
       "      <td>19588</td>\n",
       "      <td>20</td>\n",
       "      <td>Санкт-Петербург</td>\n",
       "      <td>smart</td>\n",
       "    </tr>\n",
       "    <tr>\n",
       "      <th>3212</th>\n",
       "      <td>1489</td>\n",
       "      <td>11</td>\n",
       "      <td>0</td>\n",
       "      <td>0</td>\n",
       "      <td>20</td>\n",
       "      <td>17516</td>\n",
       "      <td>18</td>\n",
       "      <td>Санкт-Петербург</td>\n",
       "      <td>smart</td>\n",
       "    </tr>\n",
       "    <tr>\n",
       "      <th>3213</th>\n",
       "      <td>1489</td>\n",
       "      <td>12</td>\n",
       "      <td>0</td>\n",
       "      <td>0</td>\n",
       "      <td>35</td>\n",
       "      <td>17341</td>\n",
       "      <td>17</td>\n",
       "      <td>Санкт-Петербург</td>\n",
       "      <td>smart</td>\n",
       "    </tr>\n",
       "    <tr>\n",
       "      <th>3214</th>\n",
       "      <td>1128</td>\n",
       "      <td>0</td>\n",
       "      <td>0</td>\n",
       "      <td>0</td>\n",
       "      <td>0</td>\n",
       "      <td>0</td>\n",
       "      <td>0</td>\n",
       "      <td>Волжский</td>\n",
       "      <td>ultra</td>\n",
       "    </tr>\n",
       "    <tr>\n",
       "      <th>3215</th>\n",
       "      <td>1371</td>\n",
       "      <td>0</td>\n",
       "      <td>0</td>\n",
       "      <td>0</td>\n",
       "      <td>0</td>\n",
       "      <td>0</td>\n",
       "      <td>0</td>\n",
       "      <td>Омск</td>\n",
       "      <td>smart</td>\n",
       "    </tr>\n",
       "  </tbody>\n",
       "</table>\n",
       "<p>3216 rows × 9 columns</p>\n",
       "</div>"
      ],
      "text/plain": [
       "      user_id  month  calls_count  calls_sum  messages  mb_used  gb_used  \\\n",
       "0        1000      5           22        159        22     2256        3   \n",
       "1        1000      6           43        172        60    23257       23   \n",
       "2        1000      7           47        340        75    14016       14   \n",
       "3        1000      8           52        408        81    14070       14   \n",
       "4        1000      9           58        466        57    14581       15   \n",
       "...       ...    ...          ...        ...       ...      ...      ...   \n",
       "3211     1489     10            0          0        21    19588       20   \n",
       "3212     1489     11            0          0        20    17516       18   \n",
       "3213     1489     12            0          0        35    17341       17   \n",
       "3214     1128      0            0          0         0        0        0   \n",
       "3215     1371      0            0          0         0        0        0   \n",
       "\n",
       "                 city tariff  \n",
       "0           Краснодар  ultra  \n",
       "1           Краснодар  ultra  \n",
       "2           Краснодар  ultra  \n",
       "3           Краснодар  ultra  \n",
       "4           Краснодар  ultra  \n",
       "...               ...    ...  \n",
       "3211  Санкт-Петербург  smart  \n",
       "3212  Санкт-Петербург  smart  \n",
       "3213  Санкт-Петербург  smart  \n",
       "3214         Волжский  ultra  \n",
       "3215             Омск  smart  \n",
       "\n",
       "[3216 rows x 9 columns]"
      ]
     },
     "execution_count": 48,
     "metadata": {},
     "output_type": "execute_result"
    }
   ],
   "source": [
    "stat_data"
   ]
  },
  {
   "cell_type": "markdown",
   "metadata": {},
   "source": [
    "При обработке обнаружилась аномалия: два абонента с пустыми звонками, сообщениями и интернетом. Найдем их и удалим."
   ]
  },
  {
   "cell_type": "code",
   "execution_count": 49,
   "metadata": {},
   "outputs": [
    {
     "data": {
      "text/html": [
       "<div>\n",
       "<style scoped>\n",
       "    .dataframe tbody tr th:only-of-type {\n",
       "        vertical-align: middle;\n",
       "    }\n",
       "\n",
       "    .dataframe tbody tr th {\n",
       "        vertical-align: top;\n",
       "    }\n",
       "\n",
       "    .dataframe thead th {\n",
       "        text-align: right;\n",
       "    }\n",
       "</style>\n",
       "<table border=\"1\" class=\"dataframe\">\n",
       "  <thead>\n",
       "    <tr style=\"text-align: right;\">\n",
       "      <th></th>\n",
       "      <th>user_id</th>\n",
       "      <th>month</th>\n",
       "      <th>calls_count</th>\n",
       "      <th>calls_sum</th>\n",
       "      <th>messages</th>\n",
       "      <th>mb_used</th>\n",
       "      <th>gb_used</th>\n",
       "      <th>city</th>\n",
       "      <th>tariff</th>\n",
       "    </tr>\n",
       "  </thead>\n",
       "  <tbody>\n",
       "    <tr>\n",
       "      <th>3214</th>\n",
       "      <td>1128</td>\n",
       "      <td>0</td>\n",
       "      <td>0</td>\n",
       "      <td>0</td>\n",
       "      <td>0</td>\n",
       "      <td>0</td>\n",
       "      <td>0</td>\n",
       "      <td>Волжский</td>\n",
       "      <td>ultra</td>\n",
       "    </tr>\n",
       "    <tr>\n",
       "      <th>3215</th>\n",
       "      <td>1371</td>\n",
       "      <td>0</td>\n",
       "      <td>0</td>\n",
       "      <td>0</td>\n",
       "      <td>0</td>\n",
       "      <td>0</td>\n",
       "      <td>0</td>\n",
       "      <td>Омск</td>\n",
       "      <td>smart</td>\n",
       "    </tr>\n",
       "  </tbody>\n",
       "</table>\n",
       "</div>"
      ],
      "text/plain": [
       "      user_id  month  calls_count  calls_sum  messages  mb_used  gb_used  \\\n",
       "3214     1128      0            0          0         0        0        0   \n",
       "3215     1371      0            0          0         0        0        0   \n",
       "\n",
       "          city tariff  \n",
       "3214  Волжский  ultra  \n",
       "3215      Омск  smart  "
      ]
     },
     "execution_count": 49,
     "metadata": {},
     "output_type": "execute_result"
    }
   ],
   "source": [
    "stat_data.query('(calls_sum + messages + mb_used + calls_count) == 0') # аномалии"
   ]
  },
  {
   "cell_type": "code",
   "execution_count": 50,
   "metadata": {
    "scrolled": false
   },
   "outputs": [],
   "source": [
    "stat_data = stat_data.drop(labels=[3214, 3215]) # удаляем"
   ]
  },
  {
   "cell_type": "code",
   "execution_count": 51,
   "metadata": {},
   "outputs": [
    {
     "name": "stdout",
     "output_type": "stream",
     "text": [
      "<class 'pandas.core.frame.DataFrame'>\n",
      "Int64Index: 3214 entries, 0 to 3213\n",
      "Data columns (total 9 columns):\n",
      " #   Column       Non-Null Count  Dtype \n",
      "---  ------       --------------  ----- \n",
      " 0   user_id      3214 non-null   int64 \n",
      " 1   month        3214 non-null   int64 \n",
      " 2   calls_count  3214 non-null   int64 \n",
      " 3   calls_sum    3214 non-null   int64 \n",
      " 4   messages     3214 non-null   int64 \n",
      " 5   mb_used      3214 non-null   int64 \n",
      " 6   gb_used      3214 non-null   int64 \n",
      " 7   city         3214 non-null   object\n",
      " 8   tariff       3214 non-null   object\n",
      "dtypes: int64(7), object(2)\n",
      "memory usage: 251.1+ KB\n"
     ]
    }
   ],
   "source": [
    "stat_data.info() #проверка"
   ]
  },
  {
   "cell_type": "markdown",
   "metadata": {},
   "source": [
    "Чтобы добавить выручку, сделаем функцию, которая автоматически под каждую строку рассчитает выручку для абонента"
   ]
  },
  {
   "cell_type": "code",
   "execution_count": 52,
   "metadata": {},
   "outputs": [],
   "source": [
    "def revenue(row):\n",
    "    if 'ultra' in row['tariff']:\n",
    "        messages = row['messages'] - 1000\n",
    "        internet = row['mb_used'] - 30720\n",
    "        calls = row['calls_sum'] - 3000\n",
    "        if messages > 0:\n",
    "            messages *= 1\n",
    "        else:\n",
    "            messages = 0\n",
    "        if internet > 0:\n",
    "            internet = np.ceil(internet / 1024) * 150\n",
    "        else:\n",
    "            internet = 0\n",
    "        if calls > 0:\n",
    "            calls *= 1\n",
    "        else:\n",
    "            calls = 0\n",
    "        return 1950 + messages + internet + calls\n",
    "    if 'smart' in row['tariff']:\n",
    "        messages = row['messages'] - 50\n",
    "        internet = row['mb_used'] - 15360\n",
    "        calls = row['calls_sum'] - 500\n",
    "        if messages > 0:\n",
    "            messages *= 3\n",
    "        else:\n",
    "            messages = 0\n",
    "        if internet > 0:\n",
    "            internet = np.ceil(internet / 1024) * 200\n",
    "            \n",
    "        else:\n",
    "            internet = 0\n",
    "        if calls > 0:\n",
    "            calls *= 3\n",
    "        else:\n",
    "            calls = 0\n",
    "        return 550 + messages + internet + calls\n",
    "    "
   ]
  },
  {
   "cell_type": "code",
   "execution_count": 53,
   "metadata": {},
   "outputs": [],
   "source": [
    "stat_data['revenue'] = stat_data.apply(revenue, axis = 1) # применяем формулу"
   ]
  },
  {
   "cell_type": "code",
   "execution_count": 54,
   "metadata": {},
   "outputs": [
    {
     "data": {
      "text/html": [
       "<div>\n",
       "<style scoped>\n",
       "    .dataframe tbody tr th:only-of-type {\n",
       "        vertical-align: middle;\n",
       "    }\n",
       "\n",
       "    .dataframe tbody tr th {\n",
       "        vertical-align: top;\n",
       "    }\n",
       "\n",
       "    .dataframe thead th {\n",
       "        text-align: right;\n",
       "    }\n",
       "</style>\n",
       "<table border=\"1\" class=\"dataframe\">\n",
       "  <thead>\n",
       "    <tr style=\"text-align: right;\">\n",
       "      <th></th>\n",
       "      <th>user_id</th>\n",
       "      <th>month</th>\n",
       "      <th>calls_count</th>\n",
       "      <th>calls_sum</th>\n",
       "      <th>messages</th>\n",
       "      <th>mb_used</th>\n",
       "      <th>gb_used</th>\n",
       "      <th>city</th>\n",
       "      <th>tariff</th>\n",
       "      <th>revenue</th>\n",
       "    </tr>\n",
       "  </thead>\n",
       "  <tbody>\n",
       "    <tr>\n",
       "      <th>0</th>\n",
       "      <td>1000</td>\n",
       "      <td>5</td>\n",
       "      <td>22</td>\n",
       "      <td>159</td>\n",
       "      <td>22</td>\n",
       "      <td>2256</td>\n",
       "      <td>3</td>\n",
       "      <td>Краснодар</td>\n",
       "      <td>ultra</td>\n",
       "      <td>1,950.00</td>\n",
       "    </tr>\n",
       "    <tr>\n",
       "      <th>1</th>\n",
       "      <td>1000</td>\n",
       "      <td>6</td>\n",
       "      <td>43</td>\n",
       "      <td>172</td>\n",
       "      <td>60</td>\n",
       "      <td>23257</td>\n",
       "      <td>23</td>\n",
       "      <td>Краснодар</td>\n",
       "      <td>ultra</td>\n",
       "      <td>1,950.00</td>\n",
       "    </tr>\n",
       "    <tr>\n",
       "      <th>2</th>\n",
       "      <td>1000</td>\n",
       "      <td>7</td>\n",
       "      <td>47</td>\n",
       "      <td>340</td>\n",
       "      <td>75</td>\n",
       "      <td>14016</td>\n",
       "      <td>14</td>\n",
       "      <td>Краснодар</td>\n",
       "      <td>ultra</td>\n",
       "      <td>1,950.00</td>\n",
       "    </tr>\n",
       "    <tr>\n",
       "      <th>3</th>\n",
       "      <td>1000</td>\n",
       "      <td>8</td>\n",
       "      <td>52</td>\n",
       "      <td>408</td>\n",
       "      <td>81</td>\n",
       "      <td>14070</td>\n",
       "      <td>14</td>\n",
       "      <td>Краснодар</td>\n",
       "      <td>ultra</td>\n",
       "      <td>1,950.00</td>\n",
       "    </tr>\n",
       "    <tr>\n",
       "      <th>4</th>\n",
       "      <td>1000</td>\n",
       "      <td>9</td>\n",
       "      <td>58</td>\n",
       "      <td>466</td>\n",
       "      <td>57</td>\n",
       "      <td>14581</td>\n",
       "      <td>15</td>\n",
       "      <td>Краснодар</td>\n",
       "      <td>ultra</td>\n",
       "      <td>1,950.00</td>\n",
       "    </tr>\n",
       "    <tr>\n",
       "      <th>...</th>\n",
       "      <td>...</td>\n",
       "      <td>...</td>\n",
       "      <td>...</td>\n",
       "      <td>...</td>\n",
       "      <td>...</td>\n",
       "      <td>...</td>\n",
       "      <td>...</td>\n",
       "      <td>...</td>\n",
       "      <td>...</td>\n",
       "      <td>...</td>\n",
       "    </tr>\n",
       "    <tr>\n",
       "      <th>3209</th>\n",
       "      <td>1489</td>\n",
       "      <td>8</td>\n",
       "      <td>0</td>\n",
       "      <td>0</td>\n",
       "      <td>17</td>\n",
       "      <td>11066</td>\n",
       "      <td>11</td>\n",
       "      <td>Санкт-Петербург</td>\n",
       "      <td>smart</td>\n",
       "      <td>550.00</td>\n",
       "    </tr>\n",
       "    <tr>\n",
       "      <th>3210</th>\n",
       "      <td>1489</td>\n",
       "      <td>9</td>\n",
       "      <td>0</td>\n",
       "      <td>0</td>\n",
       "      <td>32</td>\n",
       "      <td>17232</td>\n",
       "      <td>17</td>\n",
       "      <td>Санкт-Петербург</td>\n",
       "      <td>smart</td>\n",
       "      <td>950.00</td>\n",
       "    </tr>\n",
       "    <tr>\n",
       "      <th>3211</th>\n",
       "      <td>1489</td>\n",
       "      <td>10</td>\n",
       "      <td>0</td>\n",
       "      <td>0</td>\n",
       "      <td>21</td>\n",
       "      <td>19588</td>\n",
       "      <td>20</td>\n",
       "      <td>Санкт-Петербург</td>\n",
       "      <td>smart</td>\n",
       "      <td>1,550.00</td>\n",
       "    </tr>\n",
       "    <tr>\n",
       "      <th>3212</th>\n",
       "      <td>1489</td>\n",
       "      <td>11</td>\n",
       "      <td>0</td>\n",
       "      <td>0</td>\n",
       "      <td>20</td>\n",
       "      <td>17516</td>\n",
       "      <td>18</td>\n",
       "      <td>Санкт-Петербург</td>\n",
       "      <td>smart</td>\n",
       "      <td>1,150.00</td>\n",
       "    </tr>\n",
       "    <tr>\n",
       "      <th>3213</th>\n",
       "      <td>1489</td>\n",
       "      <td>12</td>\n",
       "      <td>0</td>\n",
       "      <td>0</td>\n",
       "      <td>35</td>\n",
       "      <td>17341</td>\n",
       "      <td>17</td>\n",
       "      <td>Санкт-Петербург</td>\n",
       "      <td>smart</td>\n",
       "      <td>950.00</td>\n",
       "    </tr>\n",
       "  </tbody>\n",
       "</table>\n",
       "<p>3214 rows × 10 columns</p>\n",
       "</div>"
      ],
      "text/plain": [
       "      user_id  month  calls_count  calls_sum  messages  mb_used  gb_used  \\\n",
       "0        1000      5           22        159        22     2256        3   \n",
       "1        1000      6           43        172        60    23257       23   \n",
       "2        1000      7           47        340        75    14016       14   \n",
       "3        1000      8           52        408        81    14070       14   \n",
       "4        1000      9           58        466        57    14581       15   \n",
       "...       ...    ...          ...        ...       ...      ...      ...   \n",
       "3209     1489      8            0          0        17    11066       11   \n",
       "3210     1489      9            0          0        32    17232       17   \n",
       "3211     1489     10            0          0        21    19588       20   \n",
       "3212     1489     11            0          0        20    17516       18   \n",
       "3213     1489     12            0          0        35    17341       17   \n",
       "\n",
       "                 city tariff  revenue  \n",
       "0           Краснодар  ultra 1,950.00  \n",
       "1           Краснодар  ultra 1,950.00  \n",
       "2           Краснодар  ultra 1,950.00  \n",
       "3           Краснодар  ultra 1,950.00  \n",
       "4           Краснодар  ultra 1,950.00  \n",
       "...               ...    ...      ...  \n",
       "3209  Санкт-Петербург  smart   550.00  \n",
       "3210  Санкт-Петербург  smart   950.00  \n",
       "3211  Санкт-Петербург  smart 1,550.00  \n",
       "3212  Санкт-Петербург  smart 1,150.00  \n",
       "3213  Санкт-Петербург  smart   950.00  \n",
       "\n",
       "[3214 rows x 10 columns]"
      ]
     },
     "execution_count": 54,
     "metadata": {},
     "output_type": "execute_result"
    }
   ],
   "source": [
    "stat_data"
   ]
  },
  {
   "cell_type": "code",
   "execution_count": 55,
   "metadata": {},
   "outputs": [
    {
     "data": {
      "text/plain": [
       "0"
      ]
     },
     "execution_count": 55,
     "metadata": {},
     "output_type": "execute_result"
    }
   ],
   "source": [
    "stat_data['revenue'].isna().sum() # есть ли прпоуски"
   ]
  },
  {
   "cell_type": "markdown",
   "metadata": {},
   "source": [
    "Видим, что формула подставила значения. Попробуем посмотреть на получившуюся таблицу."
   ]
  },
  {
   "cell_type": "code",
   "execution_count": 56,
   "metadata": {
    "scrolled": false
   },
   "outputs": [
    {
     "data": {
      "text/html": [
       "<div>\n",
       "<style scoped>\n",
       "    .dataframe tbody tr th:only-of-type {\n",
       "        vertical-align: middle;\n",
       "    }\n",
       "\n",
       "    .dataframe tbody tr th {\n",
       "        vertical-align: top;\n",
       "    }\n",
       "\n",
       "    .dataframe thead th {\n",
       "        text-align: right;\n",
       "    }\n",
       "</style>\n",
       "<table border=\"1\" class=\"dataframe\">\n",
       "  <thead>\n",
       "    <tr style=\"text-align: right;\">\n",
       "      <th></th>\n",
       "      <th>user_id</th>\n",
       "      <th>month</th>\n",
       "      <th>calls_count</th>\n",
       "      <th>calls_sum</th>\n",
       "      <th>messages</th>\n",
       "      <th>mb_used</th>\n",
       "      <th>gb_used</th>\n",
       "      <th>revenue</th>\n",
       "    </tr>\n",
       "  </thead>\n",
       "  <tbody>\n",
       "    <tr>\n",
       "      <th>count</th>\n",
       "      <td>3,214.00</td>\n",
       "      <td>3,214.00</td>\n",
       "      <td>3,214.00</td>\n",
       "      <td>3,214.00</td>\n",
       "      <td>3,214.00</td>\n",
       "      <td>3,214.00</td>\n",
       "      <td>3,214.00</td>\n",
       "      <td>3,214.00</td>\n",
       "    </tr>\n",
       "    <tr>\n",
       "      <th>mean</th>\n",
       "      <td>1,251.59</td>\n",
       "      <td>8.32</td>\n",
       "      <td>63.04</td>\n",
       "      <td>451.24</td>\n",
       "      <td>38.28</td>\n",
       "      <td>17,227.59</td>\n",
       "      <td>17.33</td>\n",
       "      <td>1,532.59</td>\n",
       "    </tr>\n",
       "    <tr>\n",
       "      <th>std</th>\n",
       "      <td>144.66</td>\n",
       "      <td>2.91</td>\n",
       "      <td>33.24</td>\n",
       "      <td>241.91</td>\n",
       "      <td>36.15</td>\n",
       "      <td>7,578.26</td>\n",
       "      <td>7.41</td>\n",
       "      <td>799.65</td>\n",
       "    </tr>\n",
       "    <tr>\n",
       "      <th>min</th>\n",
       "      <td>1,000.00</td>\n",
       "      <td>1.00</td>\n",
       "      <td>0.00</td>\n",
       "      <td>0.00</td>\n",
       "      <td>0.00</td>\n",
       "      <td>0.00</td>\n",
       "      <td>0.00</td>\n",
       "      <td>550.00</td>\n",
       "    </tr>\n",
       "    <tr>\n",
       "      <th>25%</th>\n",
       "      <td>1,125.00</td>\n",
       "      <td>6.00</td>\n",
       "      <td>40.00</td>\n",
       "      <td>282.00</td>\n",
       "      <td>9.00</td>\n",
       "      <td>12,505.25</td>\n",
       "      <td>13.00</td>\n",
       "      <td>750.00</td>\n",
       "    </tr>\n",
       "    <tr>\n",
       "      <th>50%</th>\n",
       "      <td>1,253.00</td>\n",
       "      <td>9.00</td>\n",
       "      <td>62.00</td>\n",
       "      <td>443.00</td>\n",
       "      <td>30.00</td>\n",
       "      <td>16,966.50</td>\n",
       "      <td>17.00</td>\n",
       "      <td>1,667.50</td>\n",
       "    </tr>\n",
       "    <tr>\n",
       "      <th>75%</th>\n",
       "      <td>1,378.75</td>\n",
       "      <td>11.00</td>\n",
       "      <td>82.00</td>\n",
       "      <td>589.00</td>\n",
       "      <td>57.00</td>\n",
       "      <td>21,450.00</td>\n",
       "      <td>21.00</td>\n",
       "      <td>1,950.00</td>\n",
       "    </tr>\n",
       "    <tr>\n",
       "      <th>max</th>\n",
       "      <td>1,499.00</td>\n",
       "      <td>12.00</td>\n",
       "      <td>244.00</td>\n",
       "      <td>1,673.00</td>\n",
       "      <td>224.00</td>\n",
       "      <td>49,789.00</td>\n",
       "      <td>49.00</td>\n",
       "      <td>6,770.00</td>\n",
       "    </tr>\n",
       "  </tbody>\n",
       "</table>\n",
       "</div>"
      ],
      "text/plain": [
       "       user_id    month  calls_count  calls_sum  messages   mb_used  gb_used  \\\n",
       "count 3,214.00 3,214.00     3,214.00   3,214.00  3,214.00  3,214.00 3,214.00   \n",
       "mean  1,251.59     8.32        63.04     451.24     38.28 17,227.59    17.33   \n",
       "std     144.66     2.91        33.24     241.91     36.15  7,578.26     7.41   \n",
       "min   1,000.00     1.00         0.00       0.00      0.00      0.00     0.00   \n",
       "25%   1,125.00     6.00        40.00     282.00      9.00 12,505.25    13.00   \n",
       "50%   1,253.00     9.00        62.00     443.00     30.00 16,966.50    17.00   \n",
       "75%   1,378.75    11.00        82.00     589.00     57.00 21,450.00    21.00   \n",
       "max   1,499.00    12.00       244.00   1,673.00    224.00 49,789.00    49.00   \n",
       "\n",
       "       revenue  \n",
       "count 3,214.00  \n",
       "mean  1,532.59  \n",
       "std     799.65  \n",
       "min     550.00  \n",
       "25%     750.00  \n",
       "50%   1,667.50  \n",
       "75%   1,950.00  \n",
       "max   6,770.00  "
      ]
     },
     "execution_count": 56,
     "metadata": {},
     "output_type": "execute_result"
    }
   ],
   "source": [
    "stat_data.describe()"
   ]
  },
  {
   "cell_type": "code",
   "execution_count": 57,
   "metadata": {
    "scrolled": true
   },
   "outputs": [
    {
     "data": {
      "image/png": "[encoded data removed]",
      "text/plain": [
       "<Figure size 1296x288 with 1 Axes>"
      ]
     },
     "metadata": {
      "needs_background": "light"
     },
     "output_type": "display_data"
    }
   ],
   "source": [
    "stat_data['revenue'].hist(figsize=(18,4), bins=100); # гистограмма выручки по пользователям"
   ]
  },
  {
   "cell_type": "code",
   "execution_count": 58,
   "metadata": {
    "scrolled": true
   },
   "outputs": [
    {
     "data": {
      "image/png": "[encoded data removed]",
      "text/plain": [
       "<Figure size 1296x288 with 1 Axes>"
      ]
     },
     "metadata": {
      "needs_background": "light"
     },
     "output_type": "display_data"
    }
   ],
   "source": [
    "stat_data['revenue'].plot(kind='hist', figsize=(18,4), bins=100, range=(549, 3000), ylim=(0,60));"
   ]
  },
  {
   "cell_type": "markdown",
   "metadata": {},
   "source": [
    "Видно, что пики основные приходятся на 550 и 1950 - это основные тарифы оператора. Из графика видно, что многим хватает данного функционала. Но заметно, что между этими двумя есть еще люди, которые доплачивают за те или иные услуги. До 1950 люди активнее докупают услуги, потом немного падает. В среднем за услуги связи абоненты платят в районе полторы тысячи рублей. Изучим подробно выручку и другие показатели в следующем шаге."
   ]
  },
  {
   "cell_type": "markdown",
   "metadata": {},
   "source": [
    "## Проанализируйте данные\n",
    "Изучим поведение клиентов оператора, исходя из выборки: Сколько минут разговора, сколько сообщений и какой объём интернет-трафика требуется пользователям каждого тарифа в месяц. \n"
   ]
  },
  {
   "cell_type": "code",
   "execution_count": 59,
   "metadata": {},
   "outputs": [
    {
     "data": {
      "text/html": [
       "<div>\n",
       "<style scoped>\n",
       "    .dataframe tbody tr th:only-of-type {\n",
       "        vertical-align: middle;\n",
       "    }\n",
       "\n",
       "    .dataframe tbody tr th {\n",
       "        vertical-align: top;\n",
       "    }\n",
       "\n",
       "    .dataframe thead th {\n",
       "        text-align: right;\n",
       "    }\n",
       "</style>\n",
       "<table border=\"1\" class=\"dataframe\">\n",
       "  <thead>\n",
       "    <tr style=\"text-align: right;\">\n",
       "      <th></th>\n",
       "      <th>user_id</th>\n",
       "      <th>month</th>\n",
       "      <th>calls_count</th>\n",
       "      <th>calls_sum</th>\n",
       "      <th>messages</th>\n",
       "      <th>mb_used</th>\n",
       "      <th>gb_used</th>\n",
       "      <th>city</th>\n",
       "      <th>tariff</th>\n",
       "      <th>revenue</th>\n",
       "    </tr>\n",
       "  </thead>\n",
       "  <tbody>\n",
       "    <tr>\n",
       "      <th>0</th>\n",
       "      <td>1000</td>\n",
       "      <td>5</td>\n",
       "      <td>22</td>\n",
       "      <td>159</td>\n",
       "      <td>22</td>\n",
       "      <td>2256</td>\n",
       "      <td>3</td>\n",
       "      <td>Краснодар</td>\n",
       "      <td>ultra</td>\n",
       "      <td>1,950.00</td>\n",
       "    </tr>\n",
       "    <tr>\n",
       "      <th>1</th>\n",
       "      <td>1000</td>\n",
       "      <td>6</td>\n",
       "      <td>43</td>\n",
       "      <td>172</td>\n",
       "      <td>60</td>\n",
       "      <td>23257</td>\n",
       "      <td>23</td>\n",
       "      <td>Краснодар</td>\n",
       "      <td>ultra</td>\n",
       "      <td>1,950.00</td>\n",
       "    </tr>\n",
       "    <tr>\n",
       "      <th>2</th>\n",
       "      <td>1000</td>\n",
       "      <td>7</td>\n",
       "      <td>47</td>\n",
       "      <td>340</td>\n",
       "      <td>75</td>\n",
       "      <td>14016</td>\n",
       "      <td>14</td>\n",
       "      <td>Краснодар</td>\n",
       "      <td>ultra</td>\n",
       "      <td>1,950.00</td>\n",
       "    </tr>\n",
       "    <tr>\n",
       "      <th>3</th>\n",
       "      <td>1000</td>\n",
       "      <td>8</td>\n",
       "      <td>52</td>\n",
       "      <td>408</td>\n",
       "      <td>81</td>\n",
       "      <td>14070</td>\n",
       "      <td>14</td>\n",
       "      <td>Краснодар</td>\n",
       "      <td>ultra</td>\n",
       "      <td>1,950.00</td>\n",
       "    </tr>\n",
       "    <tr>\n",
       "      <th>4</th>\n",
       "      <td>1000</td>\n",
       "      <td>9</td>\n",
       "      <td>58</td>\n",
       "      <td>466</td>\n",
       "      <td>57</td>\n",
       "      <td>14581</td>\n",
       "      <td>15</td>\n",
       "      <td>Краснодар</td>\n",
       "      <td>ultra</td>\n",
       "      <td>1,950.00</td>\n",
       "    </tr>\n",
       "    <tr>\n",
       "      <th>...</th>\n",
       "      <td>...</td>\n",
       "      <td>...</td>\n",
       "      <td>...</td>\n",
       "      <td>...</td>\n",
       "      <td>...</td>\n",
       "      <td>...</td>\n",
       "      <td>...</td>\n",
       "      <td>...</td>\n",
       "      <td>...</td>\n",
       "      <td>...</td>\n",
       "    </tr>\n",
       "    <tr>\n",
       "      <th>3204</th>\n",
       "      <td>1473</td>\n",
       "      <td>8</td>\n",
       "      <td>0</td>\n",
       "      <td>0</td>\n",
       "      <td>17</td>\n",
       "      <td>12917</td>\n",
       "      <td>13</td>\n",
       "      <td>Красноярск</td>\n",
       "      <td>ultra</td>\n",
       "      <td>1,950.00</td>\n",
       "    </tr>\n",
       "    <tr>\n",
       "      <th>3205</th>\n",
       "      <td>1473</td>\n",
       "      <td>9</td>\n",
       "      <td>0</td>\n",
       "      <td>0</td>\n",
       "      <td>19</td>\n",
       "      <td>17307</td>\n",
       "      <td>17</td>\n",
       "      <td>Красноярск</td>\n",
       "      <td>ultra</td>\n",
       "      <td>1,950.00</td>\n",
       "    </tr>\n",
       "    <tr>\n",
       "      <th>3206</th>\n",
       "      <td>1473</td>\n",
       "      <td>10</td>\n",
       "      <td>0</td>\n",
       "      <td>0</td>\n",
       "      <td>20</td>\n",
       "      <td>13703</td>\n",
       "      <td>14</td>\n",
       "      <td>Красноярск</td>\n",
       "      <td>ultra</td>\n",
       "      <td>1,950.00</td>\n",
       "    </tr>\n",
       "    <tr>\n",
       "      <th>3207</th>\n",
       "      <td>1473</td>\n",
       "      <td>11</td>\n",
       "      <td>0</td>\n",
       "      <td>0</td>\n",
       "      <td>14</td>\n",
       "      <td>21692</td>\n",
       "      <td>22</td>\n",
       "      <td>Красноярск</td>\n",
       "      <td>ultra</td>\n",
       "      <td>1,950.00</td>\n",
       "    </tr>\n",
       "    <tr>\n",
       "      <th>3208</th>\n",
       "      <td>1473</td>\n",
       "      <td>12</td>\n",
       "      <td>0</td>\n",
       "      <td>0</td>\n",
       "      <td>20</td>\n",
       "      <td>18432</td>\n",
       "      <td>18</td>\n",
       "      <td>Красноярск</td>\n",
       "      <td>ultra</td>\n",
       "      <td>1,950.00</td>\n",
       "    </tr>\n",
       "  </tbody>\n",
       "</table>\n",
       "<p>985 rows × 10 columns</p>\n",
       "</div>"
      ],
      "text/plain": [
       "      user_id  month  calls_count  calls_sum  messages  mb_used  gb_used  \\\n",
       "0        1000      5           22        159        22     2256        3   \n",
       "1        1000      6           43        172        60    23257       23   \n",
       "2        1000      7           47        340        75    14016       14   \n",
       "3        1000      8           52        408        81    14070       14   \n",
       "4        1000      9           58        466        57    14581       15   \n",
       "...       ...    ...          ...        ...       ...      ...      ...   \n",
       "3204     1473      8            0          0        17    12917       13   \n",
       "3205     1473      9            0          0        19    17307       17   \n",
       "3206     1473     10            0          0        20    13703       14   \n",
       "3207     1473     11            0          0        14    21692       22   \n",
       "3208     1473     12            0          0        20    18432       18   \n",
       "\n",
       "            city tariff  revenue  \n",
       "0      Краснодар  ultra 1,950.00  \n",
       "1      Краснодар  ultra 1,950.00  \n",
       "2      Краснодар  ultra 1,950.00  \n",
       "3      Краснодар  ultra 1,950.00  \n",
       "4      Краснодар  ultra 1,950.00  \n",
       "...          ...    ...      ...  \n",
       "3204  Красноярск  ultra 1,950.00  \n",
       "3205  Красноярск  ultra 1,950.00  \n",
       "3206  Красноярск  ultra 1,950.00  \n",
       "3207  Красноярск  ultra 1,950.00  \n",
       "3208  Красноярск  ultra 1,950.00  \n",
       "\n",
       "[985 rows x 10 columns]"
      ]
     },
     "execution_count": 59,
     "metadata": {},
     "output_type": "execute_result"
    }
   ],
   "source": [
    "ultra_data = stat_data.loc[stat_data['tariff'].isin(['ultra']) == True] # фильтр для ultra \n",
    "ultra_data"
   ]
  },
  {
   "cell_type": "code",
   "execution_count": 60,
   "metadata": {},
   "outputs": [
    {
     "data": {
      "text/html": [
       "<div>\n",
       "<style scoped>\n",
       "    .dataframe tbody tr th:only-of-type {\n",
       "        vertical-align: middle;\n",
       "    }\n",
       "\n",
       "    .dataframe tbody tr th {\n",
       "        vertical-align: top;\n",
       "    }\n",
       "\n",
       "    .dataframe thead th {\n",
       "        text-align: right;\n",
       "    }\n",
       "</style>\n",
       "<table border=\"1\" class=\"dataframe\">\n",
       "  <thead>\n",
       "    <tr style=\"text-align: right;\">\n",
       "      <th></th>\n",
       "      <th>user_id</th>\n",
       "      <th>month</th>\n",
       "      <th>calls_count</th>\n",
       "      <th>calls_sum</th>\n",
       "      <th>messages</th>\n",
       "      <th>mb_used</th>\n",
       "      <th>gb_used</th>\n",
       "      <th>city</th>\n",
       "      <th>tariff</th>\n",
       "      <th>revenue</th>\n",
       "    </tr>\n",
       "  </thead>\n",
       "  <tbody>\n",
       "    <tr>\n",
       "      <th>8</th>\n",
       "      <td>1001</td>\n",
       "      <td>11</td>\n",
       "      <td>59</td>\n",
       "      <td>430</td>\n",
       "      <td>0</td>\n",
       "      <td>18452</td>\n",
       "      <td>19</td>\n",
       "      <td>Москва</td>\n",
       "      <td>smart</td>\n",
       "      <td>1,350.00</td>\n",
       "    </tr>\n",
       "    <tr>\n",
       "      <th>9</th>\n",
       "      <td>1001</td>\n",
       "      <td>12</td>\n",
       "      <td>63</td>\n",
       "      <td>414</td>\n",
       "      <td>0</td>\n",
       "      <td>14053</td>\n",
       "      <td>14</td>\n",
       "      <td>Москва</td>\n",
       "      <td>smart</td>\n",
       "      <td>550.00</td>\n",
       "    </tr>\n",
       "    <tr>\n",
       "      <th>10</th>\n",
       "      <td>1002</td>\n",
       "      <td>6</td>\n",
       "      <td>15</td>\n",
       "      <td>117</td>\n",
       "      <td>4</td>\n",
       "      <td>10871</td>\n",
       "      <td>11</td>\n",
       "      <td>Стерлитамак</td>\n",
       "      <td>smart</td>\n",
       "      <td>550.00</td>\n",
       "    </tr>\n",
       "    <tr>\n",
       "      <th>11</th>\n",
       "      <td>1002</td>\n",
       "      <td>7</td>\n",
       "      <td>26</td>\n",
       "      <td>214</td>\n",
       "      <td>11</td>\n",
       "      <td>17601</td>\n",
       "      <td>18</td>\n",
       "      <td>Стерлитамак</td>\n",
       "      <td>smart</td>\n",
       "      <td>1,150.00</td>\n",
       "    </tr>\n",
       "    <tr>\n",
       "      <th>12</th>\n",
       "      <td>1002</td>\n",
       "      <td>8</td>\n",
       "      <td>42</td>\n",
       "      <td>289</td>\n",
       "      <td>13</td>\n",
       "      <td>20347</td>\n",
       "      <td>20</td>\n",
       "      <td>Стерлитамак</td>\n",
       "      <td>smart</td>\n",
       "      <td>1,550.00</td>\n",
       "    </tr>\n",
       "    <tr>\n",
       "      <th>...</th>\n",
       "      <td>...</td>\n",
       "      <td>...</td>\n",
       "      <td>...</td>\n",
       "      <td>...</td>\n",
       "      <td>...</td>\n",
       "      <td>...</td>\n",
       "      <td>...</td>\n",
       "      <td>...</td>\n",
       "      <td>...</td>\n",
       "      <td>...</td>\n",
       "    </tr>\n",
       "    <tr>\n",
       "      <th>3209</th>\n",
       "      <td>1489</td>\n",
       "      <td>8</td>\n",
       "      <td>0</td>\n",
       "      <td>0</td>\n",
       "      <td>17</td>\n",
       "      <td>11066</td>\n",
       "      <td>11</td>\n",
       "      <td>Санкт-Петербург</td>\n",
       "      <td>smart</td>\n",
       "      <td>550.00</td>\n",
       "    </tr>\n",
       "    <tr>\n",
       "      <th>3210</th>\n",
       "      <td>1489</td>\n",
       "      <td>9</td>\n",
       "      <td>0</td>\n",
       "      <td>0</td>\n",
       "      <td>32</td>\n",
       "      <td>17232</td>\n",
       "      <td>17</td>\n",
       "      <td>Санкт-Петербург</td>\n",
       "      <td>smart</td>\n",
       "      <td>950.00</td>\n",
       "    </tr>\n",
       "    <tr>\n",
       "      <th>3211</th>\n",
       "      <td>1489</td>\n",
       "      <td>10</td>\n",
       "      <td>0</td>\n",
       "      <td>0</td>\n",
       "      <td>21</td>\n",
       "      <td>19588</td>\n",
       "      <td>20</td>\n",
       "      <td>Санкт-Петербург</td>\n",
       "      <td>smart</td>\n",
       "      <td>1,550.00</td>\n",
       "    </tr>\n",
       "    <tr>\n",
       "      <th>3212</th>\n",
       "      <td>1489</td>\n",
       "      <td>11</td>\n",
       "      <td>0</td>\n",
       "      <td>0</td>\n",
       "      <td>20</td>\n",
       "      <td>17516</td>\n",
       "      <td>18</td>\n",
       "      <td>Санкт-Петербург</td>\n",
       "      <td>smart</td>\n",
       "      <td>1,150.00</td>\n",
       "    </tr>\n",
       "    <tr>\n",
       "      <th>3213</th>\n",
       "      <td>1489</td>\n",
       "      <td>12</td>\n",
       "      <td>0</td>\n",
       "      <td>0</td>\n",
       "      <td>35</td>\n",
       "      <td>17341</td>\n",
       "      <td>17</td>\n",
       "      <td>Санкт-Петербург</td>\n",
       "      <td>smart</td>\n",
       "      <td>950.00</td>\n",
       "    </tr>\n",
       "  </tbody>\n",
       "</table>\n",
       "<p>2229 rows × 10 columns</p>\n",
       "</div>"
      ],
      "text/plain": [
       "      user_id  month  calls_count  calls_sum  messages  mb_used  gb_used  \\\n",
       "8        1001     11           59        430         0    18452       19   \n",
       "9        1001     12           63        414         0    14053       14   \n",
       "10       1002      6           15        117         4    10871       11   \n",
       "11       1002      7           26        214        11    17601       18   \n",
       "12       1002      8           42        289        13    20347       20   \n",
       "...       ...    ...          ...        ...       ...      ...      ...   \n",
       "3209     1489      8            0          0        17    11066       11   \n",
       "3210     1489      9            0          0        32    17232       17   \n",
       "3211     1489     10            0          0        21    19588       20   \n",
       "3212     1489     11            0          0        20    17516       18   \n",
       "3213     1489     12            0          0        35    17341       17   \n",
       "\n",
       "                 city tariff  revenue  \n",
       "8              Москва  smart 1,350.00  \n",
       "9              Москва  smart   550.00  \n",
       "10        Стерлитамак  smart   550.00  \n",
       "11        Стерлитамак  smart 1,150.00  \n",
       "12        Стерлитамак  smart 1,550.00  \n",
       "...               ...    ...      ...  \n",
       "3209  Санкт-Петербург  smart   550.00  \n",
       "3210  Санкт-Петербург  smart   950.00  \n",
       "3211  Санкт-Петербург  smart 1,550.00  \n",
       "3212  Санкт-Петербург  smart 1,150.00  \n",
       "3213  Санкт-Петербург  smart   950.00  \n",
       "\n",
       "[2229 rows x 10 columns]"
      ]
     },
     "execution_count": 60,
     "metadata": {},
     "output_type": "execute_result"
    }
   ],
   "source": [
    "smart_data = stat_data.loc[stat_data['tariff'].isin(['smart']) == True] # фильтр для # smart\n",
    "smart_data"
   ]
  },
  {
   "cell_type": "markdown",
   "metadata": {},
   "source": [
    "Из размера выборки сразу можем заметить, что клиентов на smart практически в 2 раза больше, чем ultra. \n",
    "\n",
    "Сперва посмотрми на минуты разговора пользователей разных тарифов"
   ]
  },
  {
   "cell_type": "code",
   "execution_count": 61,
   "metadata": {},
   "outputs": [],
   "source": [
    "calls_ultra = ultra_data.pivot_table(index='month', values=['calls_sum'], aggfunc='mean') # среднее время звонков помесячно ultra"
   ]
  },
  {
   "cell_type": "code",
   "execution_count": 62,
   "metadata": {},
   "outputs": [
    {
     "data": {
      "text/html": [
       "<div>\n",
       "<style scoped>\n",
       "    .dataframe tbody tr th:only-of-type {\n",
       "        vertical-align: middle;\n",
       "    }\n",
       "\n",
       "    .dataframe tbody tr th {\n",
       "        vertical-align: top;\n",
       "    }\n",
       "\n",
       "    .dataframe thead th {\n",
       "        text-align: right;\n",
       "    }\n",
       "</style>\n",
       "<table border=\"1\" class=\"dataframe\">\n",
       "  <thead>\n",
       "    <tr style=\"text-align: right;\">\n",
       "      <th></th>\n",
       "      <th>calls_sum</th>\n",
       "    </tr>\n",
       "    <tr>\n",
       "      <th>month</th>\n",
       "      <th></th>\n",
       "    </tr>\n",
       "  </thead>\n",
       "  <tbody>\n",
       "    <tr>\n",
       "      <th>1</th>\n",
       "      <td>428.11</td>\n",
       "    </tr>\n",
       "    <tr>\n",
       "      <th>2</th>\n",
       "      <td>297.12</td>\n",
       "    </tr>\n",
       "    <tr>\n",
       "      <th>3</th>\n",
       "      <td>489.65</td>\n",
       "    </tr>\n",
       "    <tr>\n",
       "      <th>4</th>\n",
       "      <td>458.02</td>\n",
       "    </tr>\n",
       "    <tr>\n",
       "      <th>5</th>\n",
       "      <td>510.33</td>\n",
       "    </tr>\n",
       "    <tr>\n",
       "      <th>6</th>\n",
       "      <td>479.70</td>\n",
       "    </tr>\n",
       "    <tr>\n",
       "      <th>7</th>\n",
       "      <td>545.79</td>\n",
       "    </tr>\n",
       "    <tr>\n",
       "      <th>8</th>\n",
       "      <td>510.78</td>\n",
       "    </tr>\n",
       "    <tr>\n",
       "      <th>9</th>\n",
       "      <td>539.44</td>\n",
       "    </tr>\n",
       "    <tr>\n",
       "      <th>10</th>\n",
       "      <td>558.08</td>\n",
       "    </tr>\n",
       "    <tr>\n",
       "      <th>11</th>\n",
       "      <td>541.38</td>\n",
       "    </tr>\n",
       "    <tr>\n",
       "      <th>12</th>\n",
       "      <td>592.81</td>\n",
       "    </tr>\n",
       "  </tbody>\n",
       "</table>\n",
       "</div>"
      ],
      "text/plain": [
       "       calls_sum\n",
       "month           \n",
       "1         428.11\n",
       "2         297.12\n",
       "3         489.65\n",
       "4         458.02\n",
       "5         510.33\n",
       "6         479.70\n",
       "7         545.79\n",
       "8         510.78\n",
       "9         539.44\n",
       "10        558.08\n",
       "11        541.38\n",
       "12        592.81"
      ]
     },
     "execution_count": 62,
     "metadata": {},
     "output_type": "execute_result"
    }
   ],
   "source": [
    "calls_ultra  # среднее время звонков помесячно ultra"
   ]
  },
  {
   "cell_type": "code",
   "execution_count": 63,
   "metadata": {},
   "outputs": [],
   "source": [
    "calls_smart = smart_data.pivot_table(index='month', values=['calls_sum'], aggfunc='mean') # среднее время звонков помесячно ultra"
   ]
  },
  {
   "cell_type": "code",
   "execution_count": 64,
   "metadata": {},
   "outputs": [
    {
     "data": {
      "text/html": [
       "<div>\n",
       "<style scoped>\n",
       "    .dataframe tbody tr th:only-of-type {\n",
       "        vertical-align: middle;\n",
       "    }\n",
       "\n",
       "    .dataframe tbody tr th {\n",
       "        vertical-align: top;\n",
       "    }\n",
       "\n",
       "    .dataframe thead th {\n",
       "        text-align: right;\n",
       "    }\n",
       "</style>\n",
       "<table border=\"1\" class=\"dataframe\">\n",
       "  <thead>\n",
       "    <tr style=\"text-align: right;\">\n",
       "      <th></th>\n",
       "      <th>calls_sum</th>\n",
       "    </tr>\n",
       "    <tr>\n",
       "      <th>month</th>\n",
       "      <th></th>\n",
       "    </tr>\n",
       "  </thead>\n",
       "  <tbody>\n",
       "    <tr>\n",
       "      <th>1</th>\n",
       "      <td>203.85</td>\n",
       "    </tr>\n",
       "    <tr>\n",
       "      <th>2</th>\n",
       "      <td>298.69</td>\n",
       "    </tr>\n",
       "    <tr>\n",
       "      <th>3</th>\n",
       "      <td>390.05</td>\n",
       "    </tr>\n",
       "    <tr>\n",
       "      <th>4</th>\n",
       "      <td>367.13</td>\n",
       "    </tr>\n",
       "    <tr>\n",
       "      <th>5</th>\n",
       "      <td>387.36</td>\n",
       "    </tr>\n",
       "    <tr>\n",
       "      <th>6</th>\n",
       "      <td>395.64</td>\n",
       "    </tr>\n",
       "    <tr>\n",
       "      <th>7</th>\n",
       "      <td>408.35</td>\n",
       "    </tr>\n",
       "    <tr>\n",
       "      <th>8</th>\n",
       "      <td>421.47</td>\n",
       "    </tr>\n",
       "    <tr>\n",
       "      <th>9</th>\n",
       "      <td>428.61</td>\n",
       "    </tr>\n",
       "    <tr>\n",
       "      <th>10</th>\n",
       "      <td>426.14</td>\n",
       "    </tr>\n",
       "    <tr>\n",
       "      <th>11</th>\n",
       "      <td>435.27</td>\n",
       "    </tr>\n",
       "    <tr>\n",
       "      <th>12</th>\n",
       "      <td>478.56</td>\n",
       "    </tr>\n",
       "  </tbody>\n",
       "</table>\n",
       "</div>"
      ],
      "text/plain": [
       "       calls_sum\n",
       "month           \n",
       "1         203.85\n",
       "2         298.69\n",
       "3         390.05\n",
       "4         367.13\n",
       "5         387.36\n",
       "6         395.64\n",
       "7         408.35\n",
       "8         421.47\n",
       "9         428.61\n",
       "10        426.14\n",
       "11        435.27\n",
       "12        478.56"
      ]
     },
     "execution_count": 64,
     "metadata": {},
     "output_type": "execute_result"
    }
   ],
   "source": [
    "calls_smart # среднее время звонков помесячно smart"
   ]
  },
  {
   "cell_type": "code",
   "execution_count": 65,
   "metadata": {
    "scrolled": false
   },
   "outputs": [
    {
     "data": {
      "image/png": "[encoded data removed]",
      "text/plain": [
       "<Figure size 1296x288 with 1 Axes>"
      ]
     },
     "metadata": {
      "needs_background": "light"
     },
     "output_type": "display_data"
    },
    {
     "data": {
      "image/png": "[encoded data removed]",
      "text/plain": [
       "<Figure size 1296x288 with 1 Axes>"
      ]
     },
     "metadata": {
      "needs_background": "light"
     },
     "output_type": "display_data"
    }
   ],
   "source": [
    "calls_ultra.reset_index().plot(kind='bar', x='month', y='calls_sum', figsize=(18,4)); # графики по месяцам\n",
    "calls_smart.reset_index().plot(kind='bar', x='month', y='calls_sum', figsize=(18,4)); "
   ]
  },
  {
   "cell_type": "code",
   "execution_count": 66,
   "metadata": {},
   "outputs": [
    {
     "data": {
      "text/plain": [
       "count   2,229.00\n",
       "mean      417.93\n",
       "std       190.31\n",
       "min         0.00\n",
       "25%       282.00\n",
       "50%       422.00\n",
       "75%       545.00\n",
       "max     1,435.00\n",
       "Name: calls_sum, dtype: float64"
      ]
     },
     "execution_count": 66,
     "metadata": {},
     "output_type": "execute_result"
    }
   ],
   "source": [
    "smart_data['calls_sum'].describe() # анализ звонков smart"
   ]
  },
  {
   "cell_type": "code",
   "execution_count": 67,
   "metadata": {},
   "outputs": [
    {
     "data": {
      "text/plain": [
       "user_id        754\n",
       "month          754\n",
       "calls_count    754\n",
       "calls_sum      754\n",
       "messages       754\n",
       "mb_used        754\n",
       "gb_used        754\n",
       "city           754\n",
       "tariff         754\n",
       "revenue        754\n",
       "dtype: int64"
      ]
     },
     "execution_count": 67,
     "metadata": {},
     "output_type": "execute_result"
    }
   ],
   "source": [
    "smart_calls_limit = smart_data[smart_data['calls_sum'] > 500] # превышение минут тарифа\n",
    "smart_calls_limit.count()"
   ]
  },
  {
   "cell_type": "code",
   "execution_count": 68,
   "metadata": {},
   "outputs": [
    {
     "data": {
      "image/png": "[encoded data removed]",
      "text/plain": [
       "<Figure size 1296x288 with 1 Axes>"
      ]
     },
     "metadata": {
      "needs_background": "light"
     },
     "output_type": "display_data"
    }
   ],
   "source": [
    "smart_data['calls_sum'].plot(kind='hist', figsize=(18,4), bins=100); # график ежемесячных звонков"
   ]
  },
  {
   "cell_type": "code",
   "execution_count": 69,
   "metadata": {},
   "outputs": [
    {
     "data": {
      "image/png": "[encoded data removed]",
      "text/plain": [
       "<Figure size 1296x288 with 1 Axes>"
      ]
     },
     "metadata": {
      "needs_background": "light"
     },
     "output_type": "display_data"
    }
   ],
   "source": [
    "smart_calls_limit['calls_sum'].plot(kind='hist', figsize=(18,4), bins=100); # график превышения лимита"
   ]
  },
  {
   "cell_type": "code",
   "execution_count": 70,
   "metadata": {},
   "outputs": [
    {
     "data": {
      "text/plain": [
       "count     985.00\n",
       "mean      526.62\n",
       "std       317.61\n",
       "min         0.00\n",
       "25%       284.00\n",
       "50%       518.00\n",
       "75%       752.00\n",
       "max     1,673.00\n",
       "Name: calls_sum, dtype: float64"
      ]
     },
     "execution_count": 70,
     "metadata": {},
     "output_type": "execute_result"
    }
   ],
   "source": [
    "ultra_data['calls_sum'].describe() # анализ звонков ultra"
   ]
  },
  {
   "cell_type": "markdown",
   "metadata": {},
   "source": [
    "Сразу заметно, что разговоры у smart пользователей меньше, чем у ultra. Среднее отличается на 20%. Стандартное отклонение различается: 190 у smart и 317 у ultra. Среднее отличается примерно на 60%. По смарту можем заметить, что из-за маленького количества минут в 30% случаях пользователям приходится докупать минуты. Визуально видно, что на лимит в 500 минут укладывается основная часть пользователей. Пользователям тарифа ultra хватает своего лимита, максимальное значение достигшает 1673 минуты, что примерно 55% лимита. Для абонентов, видимо, это очень много и потребности у абонентов в таком большом лимите нет.\\\n",
    "Перейдем к сообщениям."
   ]
  },
  {
   "cell_type": "code",
   "execution_count": 71,
   "metadata": {},
   "outputs": [],
   "source": [
    "messages_ultra = ultra_data.pivot_table(index='month', values=['messages'], aggfunc='mean') # сообщения ultra"
   ]
  },
  {
   "cell_type": "code",
   "execution_count": 72,
   "metadata": {},
   "outputs": [],
   "source": [
    "messages_smart = smart_data.pivot_table(index='month', values=['messages'], aggfunc='mean') # сообщения smart"
   ]
  },
  {
   "cell_type": "code",
   "execution_count": 73,
   "metadata": {},
   "outputs": [
    {
     "data": {
      "text/html": [
       "<div>\n",
       "<style scoped>\n",
       "    .dataframe tbody tr th:only-of-type {\n",
       "        vertical-align: middle;\n",
       "    }\n",
       "\n",
       "    .dataframe tbody tr th {\n",
       "        vertical-align: top;\n",
       "    }\n",
       "\n",
       "    .dataframe thead th {\n",
       "        text-align: right;\n",
       "    }\n",
       "</style>\n",
       "<table border=\"1\" class=\"dataframe\">\n",
       "  <thead>\n",
       "    <tr style=\"text-align: right;\">\n",
       "      <th></th>\n",
       "      <th>messages</th>\n",
       "    </tr>\n",
       "    <tr>\n",
       "      <th>month</th>\n",
       "      <th></th>\n",
       "    </tr>\n",
       "  </thead>\n",
       "  <tbody>\n",
       "    <tr>\n",
       "      <th>1</th>\n",
       "      <td>33.78</td>\n",
       "    </tr>\n",
       "    <tr>\n",
       "      <th>2</th>\n",
       "      <td>21.96</td>\n",
       "    </tr>\n",
       "    <tr>\n",
       "      <th>3</th>\n",
       "      <td>32.30</td>\n",
       "    </tr>\n",
       "    <tr>\n",
       "      <th>4</th>\n",
       "      <td>31.56</td>\n",
       "    </tr>\n",
       "    <tr>\n",
       "      <th>5</th>\n",
       "      <td>37.85</td>\n",
       "    </tr>\n",
       "    <tr>\n",
       "      <th>6</th>\n",
       "      <td>41.73</td>\n",
       "    </tr>\n",
       "    <tr>\n",
       "      <th>7</th>\n",
       "      <td>49.85</td>\n",
       "    </tr>\n",
       "    <tr>\n",
       "      <th>8</th>\n",
       "      <td>48.44</td>\n",
       "    </tr>\n",
       "    <tr>\n",
       "      <th>9</th>\n",
       "      <td>52.29</td>\n",
       "    </tr>\n",
       "    <tr>\n",
       "      <th>10</th>\n",
       "      <td>58.43</td>\n",
       "    </tr>\n",
       "    <tr>\n",
       "      <th>11</th>\n",
       "      <td>55.79</td>\n",
       "    </tr>\n",
       "    <tr>\n",
       "      <th>12</th>\n",
       "      <td>60.61</td>\n",
       "    </tr>\n",
       "  </tbody>\n",
       "</table>\n",
       "</div>"
      ],
      "text/plain": [
       "       messages\n",
       "month          \n",
       "1         33.78\n",
       "2         21.96\n",
       "3         32.30\n",
       "4         31.56\n",
       "5         37.85\n",
       "6         41.73\n",
       "7         49.85\n",
       "8         48.44\n",
       "9         52.29\n",
       "10        58.43\n",
       "11        55.79\n",
       "12        60.61"
      ]
     },
     "execution_count": 73,
     "metadata": {},
     "output_type": "execute_result"
    }
   ],
   "source": [
    "messages_ultra # сообщения ultra"
   ]
  },
  {
   "cell_type": "code",
   "execution_count": 74,
   "metadata": {},
   "outputs": [
    {
     "data": {
      "text/html": [
       "<div>\n",
       "<style scoped>\n",
       "    .dataframe tbody tr th:only-of-type {\n",
       "        vertical-align: middle;\n",
       "    }\n",
       "\n",
       "    .dataframe tbody tr th {\n",
       "        vertical-align: top;\n",
       "    }\n",
       "\n",
       "    .dataframe thead th {\n",
       "        text-align: right;\n",
       "    }\n",
       "</style>\n",
       "<table border=\"1\" class=\"dataframe\">\n",
       "  <thead>\n",
       "    <tr style=\"text-align: right;\">\n",
       "      <th></th>\n",
       "      <th>messages</th>\n",
       "    </tr>\n",
       "    <tr>\n",
       "      <th>month</th>\n",
       "      <th></th>\n",
       "    </tr>\n",
       "  </thead>\n",
       "  <tbody>\n",
       "    <tr>\n",
       "      <th>1</th>\n",
       "      <td>18.24</td>\n",
       "    </tr>\n",
       "    <tr>\n",
       "      <th>2</th>\n",
       "      <td>24.09</td>\n",
       "    </tr>\n",
       "    <tr>\n",
       "      <th>3</th>\n",
       "      <td>31.86</td>\n",
       "    </tr>\n",
       "    <tr>\n",
       "      <th>4</th>\n",
       "      <td>30.74</td>\n",
       "    </tr>\n",
       "    <tr>\n",
       "      <th>5</th>\n",
       "      <td>33.77</td>\n",
       "    </tr>\n",
       "    <tr>\n",
       "      <th>6</th>\n",
       "      <td>33.40</td>\n",
       "    </tr>\n",
       "    <tr>\n",
       "      <th>7</th>\n",
       "      <td>33.75</td>\n",
       "    </tr>\n",
       "    <tr>\n",
       "      <th>8</th>\n",
       "      <td>33.64</td>\n",
       "    </tr>\n",
       "    <tr>\n",
       "      <th>9</th>\n",
       "      <td>33.64</td>\n",
       "    </tr>\n",
       "    <tr>\n",
       "      <th>10</th>\n",
       "      <td>33.77</td>\n",
       "    </tr>\n",
       "    <tr>\n",
       "      <th>11</th>\n",
       "      <td>34.08</td>\n",
       "    </tr>\n",
       "    <tr>\n",
       "      <th>12</th>\n",
       "      <td>35.99</td>\n",
       "    </tr>\n",
       "  </tbody>\n",
       "</table>\n",
       "</div>"
      ],
      "text/plain": [
       "       messages\n",
       "month          \n",
       "1         18.24\n",
       "2         24.09\n",
       "3         31.86\n",
       "4         30.74\n",
       "5         33.77\n",
       "6         33.40\n",
       "7         33.75\n",
       "8         33.64\n",
       "9         33.64\n",
       "10        33.77\n",
       "11        34.08\n",
       "12        35.99"
      ]
     },
     "execution_count": 74,
     "metadata": {},
     "output_type": "execute_result"
    }
   ],
   "source": [
    "messages_smart # сообщения smart"
   ]
  },
  {
   "cell_type": "code",
   "execution_count": 75,
   "metadata": {},
   "outputs": [
    {
     "data": {
      "image/png": "[encoded data removed]",
      "text/plain": [
       "<Figure size 1296x288 with 1 Axes>"
      ]
     },
     "metadata": {
      "needs_background": "light"
     },
     "output_type": "display_data"
    },
    {
     "data": {
      "image/png": "[encoded data removed]",
      "text/plain": [
       "<Figure size 1296x288 with 1 Axes>"
      ]
     },
     "metadata": {
      "needs_background": "light"
     },
     "output_type": "display_data"
    }
   ],
   "source": [
    "messages_ultra.reset_index().plot(kind='bar', x='month', y='messages', figsize=(18,4)); # графики по месяцам сообщений\n",
    "messages_smart.reset_index().plot(kind='bar', x='month', y='messages', figsize=(18,4));"
   ]
  },
  {
   "cell_type": "code",
   "execution_count": 76,
   "metadata": {},
   "outputs": [
    {
     "data": {
      "text/plain": [
       "count   2,229.00\n",
       "mean       33.38\n",
       "std        28.23\n",
       "min         0.00\n",
       "25%        10.00\n",
       "50%        28.00\n",
       "75%        51.00\n",
       "max       143.00\n",
       "Name: messages, dtype: float64"
      ]
     },
     "execution_count": 76,
     "metadata": {},
     "output_type": "execute_result"
    }
   ],
   "source": [
    "smart_data['messages'].describe() # анализ smart"
   ]
  },
  {
   "cell_type": "code",
   "execution_count": 77,
   "metadata": {},
   "outputs": [
    {
     "data": {
      "text/plain": [
       "user_id        564\n",
       "month          564\n",
       "calls_count    564\n",
       "calls_sum      564\n",
       "messages       564\n",
       "mb_used        564\n",
       "gb_used        564\n",
       "city           564\n",
       "tariff         564\n",
       "revenue        564\n",
       "dtype: int64"
      ]
     },
     "execution_count": 77,
     "metadata": {},
     "output_type": "execute_result"
    }
   ],
   "source": [
    "smart_messages_limit = smart_data[smart_data['messages'] > 50]\n",
    "smart_messages_limit.count()"
   ]
  },
  {
   "cell_type": "code",
   "execution_count": 78,
   "metadata": {},
   "outputs": [
    {
     "data": {
      "text/plain": [
       "count   985.00\n",
       "mean     49.36\n",
       "std      47.80\n",
       "min       0.00\n",
       "25%       6.00\n",
       "50%      38.00\n",
       "75%      79.00\n",
       "max     224.00\n",
       "Name: messages, dtype: float64"
      ]
     },
     "execution_count": 78,
     "metadata": {},
     "output_type": "execute_result"
    }
   ],
   "source": [
    "ultra_data['messages'].describe() # анализ ultra"
   ]
  },
  {
   "cell_type": "markdown",
   "metadata": {},
   "source": [
    "Разница между средним smart и ultra так же в районе 20% как и у звонков. Стандартное отклонение различается на 60%. Даже по такой статистике видим, что в ultra к лимиту сообщений максимум и близко не приближается (лимит 1000, максимум 224), а абоненты smart тратят в среднем 60% своего лимита, но у них он составляет всего 50 сообщений. При этом у smart еще наблюдаются превышения лимита сообщений в 25% случаев. Далее рассмотрим интернет трафик."
   ]
  },
  {
   "cell_type": "code",
   "execution_count": 79,
   "metadata": {},
   "outputs": [],
   "source": [
    "internet_ultra = ultra_data.pivot_table(index='month', values=['gb_used'], aggfunc='mean') # сообщения ultra"
   ]
  },
  {
   "cell_type": "code",
   "execution_count": 80,
   "metadata": {},
   "outputs": [],
   "source": [
    "internet_smart = smart_data.pivot_table(index='month', values=['gb_used'], aggfunc='mean') # сообщения ultra"
   ]
  },
  {
   "cell_type": "code",
   "execution_count": 81,
   "metadata": {},
   "outputs": [
    {
     "data": {
      "text/html": [
       "<div>\n",
       "<style scoped>\n",
       "    .dataframe tbody tr th:only-of-type {\n",
       "        vertical-align: middle;\n",
       "    }\n",
       "\n",
       "    .dataframe tbody tr th {\n",
       "        vertical-align: top;\n",
       "    }\n",
       "\n",
       "    .dataframe thead th {\n",
       "        text-align: right;\n",
       "    }\n",
       "</style>\n",
       "<table border=\"1\" class=\"dataframe\">\n",
       "  <thead>\n",
       "    <tr style=\"text-align: right;\">\n",
       "      <th></th>\n",
       "      <th>gb_used</th>\n",
       "    </tr>\n",
       "    <tr>\n",
       "      <th>month</th>\n",
       "      <th></th>\n",
       "    </tr>\n",
       "  </thead>\n",
       "  <tbody>\n",
       "    <tr>\n",
       "      <th>1</th>\n",
       "      <td>13.33</td>\n",
       "    </tr>\n",
       "    <tr>\n",
       "      <th>2</th>\n",
       "      <td>12.00</td>\n",
       "    </tr>\n",
       "    <tr>\n",
       "      <th>3</th>\n",
       "      <td>17.70</td>\n",
       "    </tr>\n",
       "    <tr>\n",
       "      <th>4</th>\n",
       "      <td>17.00</td>\n",
       "    </tr>\n",
       "    <tr>\n",
       "      <th>5</th>\n",
       "      <td>19.43</td>\n",
       "    </tr>\n",
       "    <tr>\n",
       "      <th>6</th>\n",
       "      <td>18.96</td>\n",
       "    </tr>\n",
       "    <tr>\n",
       "      <th>7</th>\n",
       "      <td>20.54</td>\n",
       "    </tr>\n",
       "    <tr>\n",
       "      <th>8</th>\n",
       "      <td>19.64</td>\n",
       "    </tr>\n",
       "    <tr>\n",
       "      <th>9</th>\n",
       "      <td>19.25</td>\n",
       "    </tr>\n",
       "    <tr>\n",
       "      <th>10</th>\n",
       "      <td>20.09</td>\n",
       "    </tr>\n",
       "    <tr>\n",
       "      <th>11</th>\n",
       "      <td>19.83</td>\n",
       "    </tr>\n",
       "    <tr>\n",
       "      <th>12</th>\n",
       "      <td>21.78</td>\n",
       "    </tr>\n",
       "  </tbody>\n",
       "</table>\n",
       "</div>"
      ],
      "text/plain": [
       "       gb_used\n",
       "month         \n",
       "1        13.33\n",
       "2        12.00\n",
       "3        17.70\n",
       "4        17.00\n",
       "5        19.43\n",
       "6        18.96\n",
       "7        20.54\n",
       "8        19.64\n",
       "9        19.25\n",
       "10       20.09\n",
       "11       19.83\n",
       "12       21.78"
      ]
     },
     "execution_count": 81,
     "metadata": {},
     "output_type": "execute_result"
    }
   ],
   "source": [
    "internet_ultra"
   ]
  },
  {
   "cell_type": "code",
   "execution_count": 82,
   "metadata": {},
   "outputs": [
    {
     "data": {
      "text/html": [
       "<div>\n",
       "<style scoped>\n",
       "    .dataframe tbody tr th:only-of-type {\n",
       "        vertical-align: middle;\n",
       "    }\n",
       "\n",
       "    .dataframe tbody tr th {\n",
       "        vertical-align: top;\n",
       "    }\n",
       "\n",
       "    .dataframe thead th {\n",
       "        text-align: right;\n",
       "    }\n",
       "</style>\n",
       "<table border=\"1\" class=\"dataframe\">\n",
       "  <thead>\n",
       "    <tr style=\"text-align: right;\">\n",
       "      <th></th>\n",
       "      <th>gb_used</th>\n",
       "    </tr>\n",
       "    <tr>\n",
       "      <th>month</th>\n",
       "      <th></th>\n",
       "    </tr>\n",
       "  </thead>\n",
       "  <tbody>\n",
       "    <tr>\n",
       "      <th>1</th>\n",
       "      <td>8.74</td>\n",
       "    </tr>\n",
       "    <tr>\n",
       "      <th>2</th>\n",
       "      <td>11.84</td>\n",
       "    </tr>\n",
       "    <tr>\n",
       "      <th>3</th>\n",
       "      <td>15.25</td>\n",
       "    </tr>\n",
       "    <tr>\n",
       "      <th>4</th>\n",
       "      <td>13.64</td>\n",
       "    </tr>\n",
       "    <tr>\n",
       "      <th>5</th>\n",
       "      <td>15.94</td>\n",
       "    </tr>\n",
       "    <tr>\n",
       "      <th>6</th>\n",
       "      <td>15.98</td>\n",
       "    </tr>\n",
       "    <tr>\n",
       "      <th>7</th>\n",
       "      <td>15.91</td>\n",
       "    </tr>\n",
       "    <tr>\n",
       "      <th>8</th>\n",
       "      <td>16.78</td>\n",
       "    </tr>\n",
       "    <tr>\n",
       "      <th>9</th>\n",
       "      <td>16.42</td>\n",
       "    </tr>\n",
       "    <tr>\n",
       "      <th>10</th>\n",
       "      <td>16.91</td>\n",
       "    </tr>\n",
       "    <tr>\n",
       "      <th>11</th>\n",
       "      <td>17.03</td>\n",
       "    </tr>\n",
       "    <tr>\n",
       "      <th>12</th>\n",
       "      <td>18.23</td>\n",
       "    </tr>\n",
       "  </tbody>\n",
       "</table>\n",
       "</div>"
      ],
      "text/plain": [
       "       gb_used\n",
       "month         \n",
       "1         8.74\n",
       "2        11.84\n",
       "3        15.25\n",
       "4        13.64\n",
       "5        15.94\n",
       "6        15.98\n",
       "7        15.91\n",
       "8        16.78\n",
       "9        16.42\n",
       "10       16.91\n",
       "11       17.03\n",
       "12       18.23"
      ]
     },
     "execution_count": 82,
     "metadata": {},
     "output_type": "execute_result"
    }
   ],
   "source": [
    "internet_smart"
   ]
  },
  {
   "cell_type": "code",
   "execution_count": 83,
   "metadata": {},
   "outputs": [
    {
     "data": {
      "image/png": "[encoded data removed]",
      "text/plain": [
       "<Figure size 1296x288 with 1 Axes>"
      ]
     },
     "metadata": {
      "needs_background": "light"
     },
     "output_type": "display_data"
    },
    {
     "data": {
      "image/png": "[encoded data removed]",
      "text/plain": [
       "<Figure size 1296x288 with 1 Axes>"
      ]
     },
     "metadata": {
      "needs_background": "light"
     },
     "output_type": "display_data"
    }
   ],
   "source": [
    "internet_ultra.reset_index().plot(kind='bar', x='month', y='gb_used', figsize=(18,4)); # графики по месяцам сообщений\n",
    "internet_smart.reset_index().plot(kind='bar', x='month', y='gb_used', figsize=(18,4));"
   ]
  },
  {
   "cell_type": "code",
   "execution_count": 84,
   "metadata": {},
   "outputs": [
    {
     "data": {
      "text/plain": [
       "count   2,229.00\n",
       "mean       16.36\n",
       "std         5.76\n",
       "min         0.00\n",
       "25%        13.00\n",
       "50%        17.00\n",
       "75%        20.00\n",
       "max        38.00\n",
       "Name: gb_used, dtype: float64"
      ]
     },
     "execution_count": 84,
     "metadata": {},
     "output_type": "execute_result"
    }
   ],
   "source": [
    "smart_data['gb_used'].describe() # анализ smart"
   ]
  },
  {
   "cell_type": "code",
   "execution_count": 85,
   "metadata": {},
   "outputs": [
    {
     "data": {
      "text/plain": [
       "user_id        1309\n",
       "month          1309\n",
       "calls_count    1309\n",
       "calls_sum      1309\n",
       "messages       1309\n",
       "mb_used        1309\n",
       "gb_used        1309\n",
       "city           1309\n",
       "tariff         1309\n",
       "revenue        1309\n",
       "dtype: int64"
      ]
     },
     "execution_count": 85,
     "metadata": {},
     "output_type": "execute_result"
    }
   ],
   "source": [
    "smart_internet_limit = smart_data[smart_data['gb_used'] > 15]\n",
    "smart_internet_limit.count()"
   ]
  },
  {
   "cell_type": "code",
   "execution_count": 86,
   "metadata": {},
   "outputs": [
    {
     "data": {
      "image/png": "[encoded data removed]",
      "text/plain": [
       "<Figure size 1296x288 with 1 Axes>"
      ]
     },
     "metadata": {
      "needs_background": "light"
     },
     "output_type": "display_data"
    }
   ],
   "source": [
    "smart_internet_limit['gb_used'].plot(kind='hist', figsize=(18,4), bins=20);"
   ]
  },
  {
   "cell_type": "code",
   "execution_count": 87,
   "metadata": {},
   "outputs": [
    {
     "data": {
      "text/plain": [
       "count   985.00\n",
       "mean     19.53\n",
       "std       9.87\n",
       "min       0.00\n",
       "25%      12.00\n",
       "50%      19.00\n",
       "75%      27.00\n",
       "max      49.00\n",
       "Name: gb_used, dtype: float64"
      ]
     },
     "execution_count": 87,
     "metadata": {},
     "output_type": "execute_result"
    }
   ],
   "source": [
    "ultra_data['gb_used'].describe() # анализ ultra"
   ]
  },
  {
   "cell_type": "code",
   "execution_count": 88,
   "metadata": {},
   "outputs": [
    {
     "data": {
      "text/plain": [
       "user_id        134\n",
       "month          134\n",
       "calls_count    134\n",
       "calls_sum      134\n",
       "messages       134\n",
       "mb_used        134\n",
       "gb_used        134\n",
       "city           134\n",
       "tariff         134\n",
       "revenue        134\n",
       "dtype: int64"
      ]
     },
     "execution_count": 88,
     "metadata": {},
     "output_type": "execute_result"
    }
   ],
   "source": [
    "ultra_internet_limit = ultra_data[ultra_data['gb_used'] > 30]\n",
    "ultra_internet_limit.count()"
   ]
  },
  {
   "cell_type": "code",
   "execution_count": 89,
   "metadata": {},
   "outputs": [
    {
     "data": {
      "image/png": "[encoded data removed]",
      "text/plain": [
       "<Figure size 1296x288 with 1 Axes>"
      ]
     },
     "metadata": {
      "needs_background": "light"
     },
     "output_type": "display_data"
    }
   ],
   "source": [
    "ultra_internet_limit['gb_used'].plot(kind='hist', figsize=(18,4), bins=20); # график превышения лимита"
   ]
  },
  {
   "cell_type": "markdown",
   "metadata": {},
   "source": [
    "Можно заметить, что среднее отличается на 20 - у ultra 20гб, a smart - 16гб. Это сразу нам говорит о том, что пользователи smart тарифа более склонны полностью использовать свой лимит, в отличии от ultra, где используется в среднем только треть. По максимуму видно, что и пользователи smart и ultra приходится дополнительно докупать трафик. Процент дополнительных продаж у smart и ultra составляют 59% и 14% соответственно.\n",
    "\n",
    "Из этих данных можем сделать вывод, что основной прибыльной доп. функцией является интернет, т.к. более половины пользователей тарифа smart часто приходится дполачивать за трафик. В среднем пользователи тарифа ultra свои лимиты не расходуют, но при этом 14% используют увеличение лимита. За разговоры и сообщения абоненты smart тоже доплачивают чаще, чем ultra, хотя вторые кроме интернета лимиты не превышают."
   ]
  },
  {
   "cell_type": "markdown",
   "metadata": {},
   "source": [
    "## Проверька гипотез\n",
    "•\tсредняя выручка пользователей тарифов «Ультра» и «Смарт» различаются;\\\n",
    "•\tсредняя выручка пользователей из Москвы отличается от выручки пользователей из других регионов.\\\n",
    "Пороговое значение alpha задайте самостоятельно.\\\n",
    "Поясните:\\\n",
    "•\tкак вы формулировали нулевую и альтернативную гипотезы;\\\n",
    "•\tкакой критерий использовали для проверки гипотез и почему.\n"
   ]
  },
  {
   "cell_type": "markdown",
   "metadata": {},
   "source": [
    "### Гипотеза 1\n",
    "<b>Cредняя выручка пользователей тарифов «Ультра» и «Смарт» различаются</b>\\\n",
    "Проверим через гипотезу о равенстве средних двух генеральных совокупностей. Так как мы имеем две генеральные совокупности, то этот метод нам как раз подходит. Сформируем нулевую и альтернатвную гипотезу:\\\n",
    "Нулевая гипотеза: Средняя выручка пользователей тарифов «Ультра» и «Смарт» равны;\\\n",
    "Альтернативная гипотеза: Средняя выручка пользователей тарифов «Ультра» и «Смарт» различается.\\\n",
    "Критический уровень статистической значимости выберем 5%, этого уровня для задачи нам хватит."
   ]
  },
  {
   "cell_type": "code",
   "execution_count": 90,
   "metadata": {},
   "outputs": [
    {
     "name": "stdout",
     "output_type": "stream",
     "text": [
      "p-значение: 2.9776448000521676e-158\n",
      "Отвергаем нулевую гипотезу\n"
     ]
    }
   ],
   "source": [
    "alpha = .05  # проверяем гипотезы\n",
    "\n",
    "results_one = st.ttest_ind(smart_data['revenue'], ultra_data['revenue'])\n",
    "\n",
    "print('p-значение:', results_one.pvalue)\n",
    "\n",
    "if results_one.pvalue < alpha:\n",
    "    print(\"Отвергаем нулевую гипотезу\")\n",
    "else:\n",
    "    print(\"Не получилось отвергнуть нулевую гипотезу\") "
   ]
  },
  {
   "cell_type": "markdown",
   "metadata": {},
   "source": [
    "Гипотеза не подтвердилать что и потдверждают наши вычесленные значения средних"
   ]
  },
  {
   "cell_type": "markdown",
   "metadata": {},
   "source": [
    "### Гипотеза 2"
   ]
  },
  {
   "cell_type": "markdown",
   "metadata": {},
   "source": [
    "<b>Cредняя выручка пользователей из Москвы отличается от выручки пользователей из других регионов.</b>\\\n",
    "Сделаем 2 фильтра по городам: с Москвой и с другими городами."
   ]
  },
  {
   "cell_type": "code",
   "execution_count": 91,
   "metadata": {},
   "outputs": [
    {
     "data": {
      "text/html": [
       "<div>\n",
       "<style scoped>\n",
       "    .dataframe tbody tr th:only-of-type {\n",
       "        vertical-align: middle;\n",
       "    }\n",
       "\n",
       "    .dataframe tbody tr th {\n",
       "        vertical-align: top;\n",
       "    }\n",
       "\n",
       "    .dataframe thead th {\n",
       "        text-align: right;\n",
       "    }\n",
       "</style>\n",
       "<table border=\"1\" class=\"dataframe\">\n",
       "  <thead>\n",
       "    <tr style=\"text-align: right;\">\n",
       "      <th></th>\n",
       "      <th>user_id</th>\n",
       "      <th>month</th>\n",
       "      <th>calls_count</th>\n",
       "      <th>calls_sum</th>\n",
       "      <th>messages</th>\n",
       "      <th>mb_used</th>\n",
       "      <th>gb_used</th>\n",
       "      <th>city</th>\n",
       "      <th>tariff</th>\n",
       "      <th>revenue</th>\n",
       "    </tr>\n",
       "  </thead>\n",
       "  <tbody>\n",
       "    <tr>\n",
       "      <th>8</th>\n",
       "      <td>1001</td>\n",
       "      <td>11</td>\n",
       "      <td>59</td>\n",
       "      <td>430</td>\n",
       "      <td>0</td>\n",
       "      <td>18452</td>\n",
       "      <td>19</td>\n",
       "      <td>Москва</td>\n",
       "      <td>smart</td>\n",
       "      <td>1,350.00</td>\n",
       "    </tr>\n",
       "    <tr>\n",
       "      <th>9</th>\n",
       "      <td>1001</td>\n",
       "      <td>12</td>\n",
       "      <td>63</td>\n",
       "      <td>414</td>\n",
       "      <td>0</td>\n",
       "      <td>14053</td>\n",
       "      <td>14</td>\n",
       "      <td>Москва</td>\n",
       "      <td>smart</td>\n",
       "      <td>550.00</td>\n",
       "    </tr>\n",
       "    <tr>\n",
       "      <th>17</th>\n",
       "      <td>1003</td>\n",
       "      <td>8</td>\n",
       "      <td>55</td>\n",
       "      <td>380</td>\n",
       "      <td>37</td>\n",
       "      <td>8571</td>\n",
       "      <td>9</td>\n",
       "      <td>Москва</td>\n",
       "      <td>ultra</td>\n",
       "      <td>1,950.00</td>\n",
       "    </tr>\n",
       "    <tr>\n",
       "      <th>18</th>\n",
       "      <td>1003</td>\n",
       "      <td>9</td>\n",
       "      <td>134</td>\n",
       "      <td>961</td>\n",
       "      <td>91</td>\n",
       "      <td>12479</td>\n",
       "      <td>13</td>\n",
       "      <td>Москва</td>\n",
       "      <td>ultra</td>\n",
       "      <td>1,950.00</td>\n",
       "    </tr>\n",
       "    <tr>\n",
       "      <th>19</th>\n",
       "      <td>1003</td>\n",
       "      <td>10</td>\n",
       "      <td>108</td>\n",
       "      <td>855</td>\n",
       "      <td>83</td>\n",
       "      <td>14779</td>\n",
       "      <td>15</td>\n",
       "      <td>Москва</td>\n",
       "      <td>ultra</td>\n",
       "      <td>1,950.00</td>\n",
       "    </tr>\n",
       "    <tr>\n",
       "      <th>...</th>\n",
       "      <td>...</td>\n",
       "      <td>...</td>\n",
       "      <td>...</td>\n",
       "      <td>...</td>\n",
       "      <td>...</td>\n",
       "      <td>...</td>\n",
       "      <td>...</td>\n",
       "      <td>...</td>\n",
       "      <td>...</td>\n",
       "      <td>...</td>\n",
       "    </tr>\n",
       "    <tr>\n",
       "      <th>3120</th>\n",
       "      <td>1490</td>\n",
       "      <td>8</td>\n",
       "      <td>45</td>\n",
       "      <td>346</td>\n",
       "      <td>50</td>\n",
       "      <td>17295</td>\n",
       "      <td>17</td>\n",
       "      <td>Москва</td>\n",
       "      <td>smart</td>\n",
       "      <td>950.00</td>\n",
       "    </tr>\n",
       "    <tr>\n",
       "      <th>3121</th>\n",
       "      <td>1490</td>\n",
       "      <td>9</td>\n",
       "      <td>44</td>\n",
       "      <td>322</td>\n",
       "      <td>48</td>\n",
       "      <td>14838</td>\n",
       "      <td>15</td>\n",
       "      <td>Москва</td>\n",
       "      <td>smart</td>\n",
       "      <td>550.00</td>\n",
       "    </tr>\n",
       "    <tr>\n",
       "      <th>3122</th>\n",
       "      <td>1490</td>\n",
       "      <td>10</td>\n",
       "      <td>42</td>\n",
       "      <td>312</td>\n",
       "      <td>45</td>\n",
       "      <td>20690</td>\n",
       "      <td>21</td>\n",
       "      <td>Москва</td>\n",
       "      <td>smart</td>\n",
       "      <td>1,750.00</td>\n",
       "    </tr>\n",
       "    <tr>\n",
       "      <th>3123</th>\n",
       "      <td>1490</td>\n",
       "      <td>11</td>\n",
       "      <td>38</td>\n",
       "      <td>282</td>\n",
       "      <td>47</td>\n",
       "      <td>18733</td>\n",
       "      <td>19</td>\n",
       "      <td>Москва</td>\n",
       "      <td>smart</td>\n",
       "      <td>1,350.00</td>\n",
       "    </tr>\n",
       "    <tr>\n",
       "      <th>3124</th>\n",
       "      <td>1490</td>\n",
       "      <td>12</td>\n",
       "      <td>42</td>\n",
       "      <td>290</td>\n",
       "      <td>46</td>\n",
       "      <td>15806</td>\n",
       "      <td>16</td>\n",
       "      <td>Москва</td>\n",
       "      <td>smart</td>\n",
       "      <td>750.00</td>\n",
       "    </tr>\n",
       "  </tbody>\n",
       "</table>\n",
       "<p>611 rows × 10 columns</p>\n",
       "</div>"
      ],
      "text/plain": [
       "      user_id  month  calls_count  calls_sum  messages  mb_used  gb_used  \\\n",
       "8        1001     11           59        430         0    18452       19   \n",
       "9        1001     12           63        414         0    14053       14   \n",
       "17       1003      8           55        380        37     8571        9   \n",
       "18       1003      9          134        961        91    12479       13   \n",
       "19       1003     10          108        855        83    14779       15   \n",
       "...       ...    ...          ...        ...       ...      ...      ...   \n",
       "3120     1490      8           45        346        50    17295       17   \n",
       "3121     1490      9           44        322        48    14838       15   \n",
       "3122     1490     10           42        312        45    20690       21   \n",
       "3123     1490     11           38        282        47    18733       19   \n",
       "3124     1490     12           42        290        46    15806       16   \n",
       "\n",
       "        city tariff  revenue  \n",
       "8     Москва  smart 1,350.00  \n",
       "9     Москва  smart   550.00  \n",
       "17    Москва  ultra 1,950.00  \n",
       "18    Москва  ultra 1,950.00  \n",
       "19    Москва  ultra 1,950.00  \n",
       "...      ...    ...      ...  \n",
       "3120  Москва  smart   950.00  \n",
       "3121  Москва  smart   550.00  \n",
       "3122  Москва  smart 1,750.00  \n",
       "3123  Москва  smart 1,350.00  \n",
       "3124  Москва  smart   750.00  \n",
       "\n",
       "[611 rows x 10 columns]"
      ]
     },
     "metadata": {},
     "output_type": "display_data"
    },
    {
     "data": {
      "text/html": [
       "<div>\n",
       "<style scoped>\n",
       "    .dataframe tbody tr th:only-of-type {\n",
       "        vertical-align: middle;\n",
       "    }\n",
       "\n",
       "    .dataframe tbody tr th {\n",
       "        vertical-align: top;\n",
       "    }\n",
       "\n",
       "    .dataframe thead th {\n",
       "        text-align: right;\n",
       "    }\n",
       "</style>\n",
       "<table border=\"1\" class=\"dataframe\">\n",
       "  <thead>\n",
       "    <tr style=\"text-align: right;\">\n",
       "      <th></th>\n",
       "      <th>user_id</th>\n",
       "      <th>month</th>\n",
       "      <th>calls_count</th>\n",
       "      <th>calls_sum</th>\n",
       "      <th>messages</th>\n",
       "      <th>mb_used</th>\n",
       "      <th>gb_used</th>\n",
       "      <th>city</th>\n",
       "      <th>tariff</th>\n",
       "      <th>revenue</th>\n",
       "    </tr>\n",
       "  </thead>\n",
       "  <tbody>\n",
       "    <tr>\n",
       "      <th>0</th>\n",
       "      <td>1000</td>\n",
       "      <td>5</td>\n",
       "      <td>22</td>\n",
       "      <td>159</td>\n",
       "      <td>22</td>\n",
       "      <td>2256</td>\n",
       "      <td>3</td>\n",
       "      <td>Краснодар</td>\n",
       "      <td>ultra</td>\n",
       "      <td>1,950.00</td>\n",
       "    </tr>\n",
       "    <tr>\n",
       "      <th>1</th>\n",
       "      <td>1000</td>\n",
       "      <td>6</td>\n",
       "      <td>43</td>\n",
       "      <td>172</td>\n",
       "      <td>60</td>\n",
       "      <td>23257</td>\n",
       "      <td>23</td>\n",
       "      <td>Краснодар</td>\n",
       "      <td>ultra</td>\n",
       "      <td>1,950.00</td>\n",
       "    </tr>\n",
       "    <tr>\n",
       "      <th>2</th>\n",
       "      <td>1000</td>\n",
       "      <td>7</td>\n",
       "      <td>47</td>\n",
       "      <td>340</td>\n",
       "      <td>75</td>\n",
       "      <td>14016</td>\n",
       "      <td>14</td>\n",
       "      <td>Краснодар</td>\n",
       "      <td>ultra</td>\n",
       "      <td>1,950.00</td>\n",
       "    </tr>\n",
       "    <tr>\n",
       "      <th>3</th>\n",
       "      <td>1000</td>\n",
       "      <td>8</td>\n",
       "      <td>52</td>\n",
       "      <td>408</td>\n",
       "      <td>81</td>\n",
       "      <td>14070</td>\n",
       "      <td>14</td>\n",
       "      <td>Краснодар</td>\n",
       "      <td>ultra</td>\n",
       "      <td>1,950.00</td>\n",
       "    </tr>\n",
       "    <tr>\n",
       "      <th>4</th>\n",
       "      <td>1000</td>\n",
       "      <td>9</td>\n",
       "      <td>58</td>\n",
       "      <td>466</td>\n",
       "      <td>57</td>\n",
       "      <td>14581</td>\n",
       "      <td>15</td>\n",
       "      <td>Краснодар</td>\n",
       "      <td>ultra</td>\n",
       "      <td>1,950.00</td>\n",
       "    </tr>\n",
       "    <tr>\n",
       "      <th>...</th>\n",
       "      <td>...</td>\n",
       "      <td>...</td>\n",
       "      <td>...</td>\n",
       "      <td>...</td>\n",
       "      <td>...</td>\n",
       "      <td>...</td>\n",
       "      <td>...</td>\n",
       "      <td>...</td>\n",
       "      <td>...</td>\n",
       "      <td>...</td>\n",
       "    </tr>\n",
       "    <tr>\n",
       "      <th>3209</th>\n",
       "      <td>1489</td>\n",
       "      <td>8</td>\n",
       "      <td>0</td>\n",
       "      <td>0</td>\n",
       "      <td>17</td>\n",
       "      <td>11066</td>\n",
       "      <td>11</td>\n",
       "      <td>Санкт-Петербург</td>\n",
       "      <td>smart</td>\n",
       "      <td>550.00</td>\n",
       "    </tr>\n",
       "    <tr>\n",
       "      <th>3210</th>\n",
       "      <td>1489</td>\n",
       "      <td>9</td>\n",
       "      <td>0</td>\n",
       "      <td>0</td>\n",
       "      <td>32</td>\n",
       "      <td>17232</td>\n",
       "      <td>17</td>\n",
       "      <td>Санкт-Петербург</td>\n",
       "      <td>smart</td>\n",
       "      <td>950.00</td>\n",
       "    </tr>\n",
       "    <tr>\n",
       "      <th>3211</th>\n",
       "      <td>1489</td>\n",
       "      <td>10</td>\n",
       "      <td>0</td>\n",
       "      <td>0</td>\n",
       "      <td>21</td>\n",
       "      <td>19588</td>\n",
       "      <td>20</td>\n",
       "      <td>Санкт-Петербург</td>\n",
       "      <td>smart</td>\n",
       "      <td>1,550.00</td>\n",
       "    </tr>\n",
       "    <tr>\n",
       "      <th>3212</th>\n",
       "      <td>1489</td>\n",
       "      <td>11</td>\n",
       "      <td>0</td>\n",
       "      <td>0</td>\n",
       "      <td>20</td>\n",
       "      <td>17516</td>\n",
       "      <td>18</td>\n",
       "      <td>Санкт-Петербург</td>\n",
       "      <td>smart</td>\n",
       "      <td>1,150.00</td>\n",
       "    </tr>\n",
       "    <tr>\n",
       "      <th>3213</th>\n",
       "      <td>1489</td>\n",
       "      <td>12</td>\n",
       "      <td>0</td>\n",
       "      <td>0</td>\n",
       "      <td>35</td>\n",
       "      <td>17341</td>\n",
       "      <td>17</td>\n",
       "      <td>Санкт-Петербург</td>\n",
       "      <td>smart</td>\n",
       "      <td>950.00</td>\n",
       "    </tr>\n",
       "  </tbody>\n",
       "</table>\n",
       "<p>2603 rows × 10 columns</p>\n",
       "</div>"
      ],
      "text/plain": [
       "      user_id  month  calls_count  calls_sum  messages  mb_used  gb_used  \\\n",
       "0        1000      5           22        159        22     2256        3   \n",
       "1        1000      6           43        172        60    23257       23   \n",
       "2        1000      7           47        340        75    14016       14   \n",
       "3        1000      8           52        408        81    14070       14   \n",
       "4        1000      9           58        466        57    14581       15   \n",
       "...       ...    ...          ...        ...       ...      ...      ...   \n",
       "3209     1489      8            0          0        17    11066       11   \n",
       "3210     1489      9            0          0        32    17232       17   \n",
       "3211     1489     10            0          0        21    19588       20   \n",
       "3212     1489     11            0          0        20    17516       18   \n",
       "3213     1489     12            0          0        35    17341       17   \n",
       "\n",
       "                 city tariff  revenue  \n",
       "0           Краснодар  ultra 1,950.00  \n",
       "1           Краснодар  ultra 1,950.00  \n",
       "2           Краснодар  ultra 1,950.00  \n",
       "3           Краснодар  ultra 1,950.00  \n",
       "4           Краснодар  ultra 1,950.00  \n",
       "...               ...    ...      ...  \n",
       "3209  Санкт-Петербург  smart   550.00  \n",
       "3210  Санкт-Петербург  smart   950.00  \n",
       "3211  Санкт-Петербург  smart 1,550.00  \n",
       "3212  Санкт-Петербург  smart 1,150.00  \n",
       "3213  Санкт-Петербург  smart   950.00  \n",
       "\n",
       "[2603 rows x 10 columns]"
      ]
     },
     "metadata": {},
     "output_type": "display_data"
    }
   ],
   "source": [
    "moscow_data = stat_data[stat_data['city'] == 'Москва']\n",
    "not_moscow_data = stat_data[stat_data['city'] != 'Москва']\n",
    "display(moscow_data)\n",
    "display(not_moscow_data)"
   ]
  },
  {
   "cell_type": "markdown",
   "metadata": {},
   "source": [
    "В этом примере так же имеются две генеральные совокупности, поэтому и метод выбран тот же.\n",
    "Сформируем нулевую и альтернатвную гипотезу:\\\n",
    "Нулевая гипотеза: Cредняя выручка пользователей из Москвы равна выручке пользователей из других регионов;\\\n",
    "Альтернативная гипотеза: Cредняя выручка пользователей из Москвы отличается от выручки пользователей из других регионов\\\n",
    "Критический уровень статистической значимости выберем так же 5%."
   ]
  },
  {
   "cell_type": "code",
   "execution_count": 92,
   "metadata": {},
   "outputs": [
    {
     "name": "stdout",
     "output_type": "stream",
     "text": [
      "p-значение: 0.531666503831252\n",
      "Не получилось отвергнуть нулевую гипотезу\n"
     ]
    }
   ],
   "source": [
    "alpha_two = 0.05  # проверяем гипотезы\n",
    "\n",
    "results_two = st.ttest_ind(moscow_data['revenue'], not_moscow_data['revenue'])\n",
    "\n",
    "print('p-значение:', results_two.pvalue)\n",
    "\n",
    "if results_two.pvalue < alpha_two:\n",
    "    print(\"Отвергаем нулевую гипотезу\")\n",
    "else:\n",
    "    print(\"Не получилось отвергнуть нулевую гипотезу\") "
   ]
  },
  {
   "cell_type": "markdown",
   "metadata": {},
   "source": [
    "По результатам видим, что значение выше критического уровня, поэтому гипотезу отвергнуть не получилось.."
   ]
  },
  {
   "cell_type": "markdown",
   "metadata": {},
   "source": [
    "## Общий вывод"
   ]
  },
  {
   "cell_type": "markdown",
   "metadata": {},
   "source": [
    "По анализу можем сделать ряд выводов:\n",
    "- На тарифе ultra услуги потребляются в бОльшем количестве, чем smart, но лимиты абонентами в среднем не сьедаются и их хватает;\n",
    "- Активно пользуются интернетом все пользователи тарифа, но абонентам smart приходтися в среднем больше доплачивать за дополнительный трафик;\n",
    "- В основном клиенты мало пользуются сообщениями в обоих тарифах, но по smart и тут есть увеличение  лимитов;\n",
    "\n",
    "Проверяя гипотезы мы подтвердили:\n",
    "- средняя выручка пользователей тарифов «Ультра» и «Смарт» различается;\n",
    "- средняя выручка пользователей из Москвы отличается от выручки пользователей из других регионов;\n",
    "\n",
    "В целом видно, что пользователи в основном предпочитают smart. У ultra для его услуг завышена стоимость: в основном абоненты не пользуются смс и включение такого кол-ва в пакет не добавляет ему привлекательности. С минутами то же самое: У абонентов ultra спрос на звонки выше лишь на 20%, а между тарифами разница почти в 6 раз больше. С интернетом у пользоваетелей smart чувствуется спрос на больший трафик, у ultra и с этим параметром все хорошо.\n",
    "Из двух тарифов, учитывая и стоимость и количество абонентов можем уверено сказать, что smart более популярный тариф. Учитывая, что к нему часто докупают услуги интернета, у него есть потенциял доп. продаж. Дополнительных продаж у ультра гораздо меньше и самих абонентов почти в 2 раза меньше, хотя и присутствуют аномалии в виде абонента с ежемесячной оплатой более 6000 рублей.\n",
    "\n",
    "Для рекламы и развития лучше выбрать тариф smart, т.к. у людей он уже является яболее популярный, доступным, все услуги связи и сообщений он покрывает. Для широкой аудитории данный тариф будет выигрышнее, чем ultra, тем более мы выяснили, что выручка в регионах у тарифов меньше, поэтому более доступный тариф будем плюсом.\n"
   ]
  }
 ],
 "metadata": {
  "ExecuteTimeLog": [
   {
    "duration": 1147,
    "start_time": "2022-04-17T12:56:30.248Z"
   },
   {
    "duration": 132,
    "start_time": "2022-04-17T12:56:31.398Z"
   },
   {
    "duration": 0,
    "start_time": "2022-04-17T12:56:31.533Z"
   },
   {
    "duration": 0,
    "start_time": "2022-04-17T12:56:31.535Z"
   },
   {
    "duration": 0,
    "start_time": "2022-04-17T12:56:31.537Z"
   },
   {
    "duration": 0,
    "start_time": "2022-04-17T12:56:31.539Z"
   },
   {
    "duration": 0,
    "start_time": "2022-04-17T12:56:31.540Z"
   },
   {
    "duration": 0,
    "start_time": "2022-04-17T12:56:31.542Z"
   },
   {
    "duration": 0,
    "start_time": "2022-04-17T12:56:31.543Z"
   },
   {
    "duration": 0,
    "start_time": "2022-04-17T12:56:31.545Z"
   },
   {
    "duration": 0,
    "start_time": "2022-04-17T12:56:31.547Z"
   },
   {
    "duration": 0,
    "start_time": "2022-04-17T12:56:31.549Z"
   },
   {
    "duration": 0,
    "start_time": "2022-04-17T12:56:31.551Z"
   },
   {
    "duration": 0,
    "start_time": "2022-04-17T12:56:31.552Z"
   },
   {
    "duration": 0,
    "start_time": "2022-04-17T12:56:31.554Z"
   },
   {
    "duration": 0,
    "start_time": "2022-04-17T12:56:31.556Z"
   },
   {
    "duration": 1,
    "start_time": "2022-04-17T12:56:31.557Z"
   },
   {
    "duration": 0,
    "start_time": "2022-04-17T12:56:31.560Z"
   },
   {
    "duration": 698,
    "start_time": "2022-04-17T12:56:48.401Z"
   },
   {
    "duration": 869,
    "start_time": "2022-04-17T12:56:52.818Z"
   },
   {
    "duration": 551,
    "start_time": "2022-04-17T12:56:53.690Z"
   },
   {
    "duration": 22,
    "start_time": "2022-04-17T12:56:54.249Z"
   },
   {
    "duration": 17,
    "start_time": "2022-04-17T12:56:54.274Z"
   },
   {
    "duration": 13,
    "start_time": "2022-04-17T12:56:54.293Z"
   },
   {
    "duration": 42,
    "start_time": "2022-04-17T12:56:54.309Z"
   },
   {
    "duration": 6,
    "start_time": "2022-04-17T12:56:54.353Z"
   },
   {
    "duration": 21,
    "start_time": "2022-04-17T12:56:54.362Z"
   },
   {
    "duration": 37,
    "start_time": "2022-04-17T12:56:54.385Z"
   },
   {
    "duration": 176,
    "start_time": "2022-04-17T12:56:54.424Z"
   },
   {
    "duration": 11,
    "start_time": "2022-04-17T12:56:54.603Z"
   },
   {
    "duration": 48,
    "start_time": "2022-04-17T12:56:54.617Z"
   },
   {
    "duration": 84,
    "start_time": "2022-04-17T12:56:54.670Z"
   },
   {
    "duration": 13,
    "start_time": "2022-04-17T12:56:54.757Z"
   },
   {
    "duration": 29,
    "start_time": "2022-04-17T12:56:54.773Z"
   },
   {
    "duration": 150,
    "start_time": "2022-04-17T12:56:54.805Z"
   },
   {
    "duration": 11,
    "start_time": "2022-04-17T12:56:54.957Z"
   },
   {
    "duration": 17,
    "start_time": "2022-04-17T12:56:54.971Z"
   },
   {
    "duration": 105,
    "start_time": "2022-04-17T13:30:59.783Z"
   },
   {
    "duration": 13,
    "start_time": "2022-04-17T13:31:07.821Z"
   },
   {
    "duration": 12,
    "start_time": "2022-04-17T13:32:11.949Z"
   },
   {
    "duration": 7,
    "start_time": "2022-04-17T13:34:36.863Z"
   },
   {
    "duration": 7,
    "start_time": "2022-04-17T13:34:54.304Z"
   },
   {
    "duration": 15,
    "start_time": "2022-04-17T13:47:10.737Z"
   },
   {
    "duration": 16,
    "start_time": "2022-04-17T13:47:12.137Z"
   },
   {
    "duration": 44,
    "start_time": "2022-04-17T13:48:04.263Z"
   },
   {
    "duration": 12,
    "start_time": "2022-04-17T13:48:05.936Z"
   },
   {
    "duration": 27,
    "start_time": "2022-04-17T13:48:06.420Z"
   },
   {
    "duration": 28,
    "start_time": "2022-04-17T13:49:28.707Z"
   },
   {
    "duration": 13,
    "start_time": "2022-04-17T13:53:58.387Z"
   },
   {
    "duration": 14,
    "start_time": "2022-04-17T13:54:17.741Z"
   },
   {
    "duration": 28,
    "start_time": "2022-04-17T13:54:25.200Z"
   },
   {
    "duration": 22,
    "start_time": "2022-04-17T13:54:29.590Z"
   },
   {
    "duration": 17,
    "start_time": "2022-04-17T13:54:30.851Z"
   },
   {
    "duration": 16,
    "start_time": "2022-04-17T13:54:52.795Z"
   },
   {
    "duration": 19,
    "start_time": "2022-04-17T13:55:27.182Z"
   },
   {
    "duration": 25,
    "start_time": "2022-04-17T13:55:34.456Z"
   },
   {
    "duration": 13,
    "start_time": "2022-04-17T13:55:42.568Z"
   },
   {
    "duration": 24,
    "start_time": "2022-04-17T13:55:48.259Z"
   },
   {
    "duration": 24,
    "start_time": "2022-04-17T13:55:52.038Z"
   },
   {
    "duration": 32,
    "start_time": "2022-04-17T13:58:28.072Z"
   },
   {
    "duration": 21,
    "start_time": "2022-04-17T13:58:30.356Z"
   },
   {
    "duration": 36,
    "start_time": "2022-04-17T13:59:46.977Z"
   },
   {
    "duration": 24,
    "start_time": "2022-04-17T13:59:47.206Z"
   },
   {
    "duration": 12,
    "start_time": "2022-04-17T14:00:53.466Z"
   },
   {
    "duration": 24,
    "start_time": "2022-04-17T14:00:54.395Z"
   },
   {
    "duration": 15,
    "start_time": "2022-04-17T14:05:16.396Z"
   },
   {
    "duration": 13,
    "start_time": "2022-04-17T14:07:17.455Z"
   },
   {
    "duration": 17,
    "start_time": "2022-04-17T14:07:22.239Z"
   },
   {
    "duration": 22,
    "start_time": "2022-04-17T14:07:25.632Z"
   },
   {
    "duration": 34,
    "start_time": "2022-04-17T14:10:15.525Z"
   },
   {
    "duration": 13,
    "start_time": "2022-04-17T14:10:22.500Z"
   },
   {
    "duration": 4,
    "start_time": "2022-04-17T14:19:31.592Z"
   },
   {
    "duration": 4,
    "start_time": "2022-04-17T14:22:31.506Z"
   },
   {
    "duration": 4,
    "start_time": "2022-04-17T14:22:51.043Z"
   },
   {
    "duration": 5,
    "start_time": "2022-04-17T14:25:25.771Z"
   },
   {
    "duration": 27,
    "start_time": "2022-04-17T14:25:26.530Z"
   },
   {
    "duration": 5,
    "start_time": "2022-04-17T14:28:37.387Z"
   },
   {
    "duration": 4,
    "start_time": "2022-04-17T14:28:52.988Z"
   },
   {
    "duration": 14,
    "start_time": "2022-04-17T14:28:53.869Z"
   },
   {
    "duration": 4,
    "start_time": "2022-04-17T14:30:17.772Z"
   },
   {
    "duration": 13,
    "start_time": "2022-04-17T14:30:18.712Z"
   },
   {
    "duration": 7,
    "start_time": "2022-04-17T14:30:39.893Z"
   },
   {
    "duration": 2101,
    "start_time": "2022-04-17T14:30:40.816Z"
   },
   {
    "duration": 16,
    "start_time": "2022-04-17T14:31:01.133Z"
   },
   {
    "duration": 13,
    "start_time": "2022-04-17T14:31:08.415Z"
   },
   {
    "duration": 11,
    "start_time": "2022-04-17T14:31:17.473Z"
   },
   {
    "duration": 15,
    "start_time": "2022-04-17T14:31:25.327Z"
   },
   {
    "duration": 5,
    "start_time": "2022-04-17T14:32:09.170Z"
   },
   {
    "duration": 17,
    "start_time": "2022-04-17T14:32:35.565Z"
   },
   {
    "duration": 12,
    "start_time": "2022-04-17T14:32:35.774Z"
   },
   {
    "duration": 11,
    "start_time": "2022-04-17T14:32:36.001Z"
   },
   {
    "duration": 14,
    "start_time": "2022-04-17T14:32:36.270Z"
   },
   {
    "duration": 15,
    "start_time": "2022-04-17T14:37:32.436Z"
   },
   {
    "duration": 14,
    "start_time": "2022-04-17T14:37:35.298Z"
   },
   {
    "duration": 43,
    "start_time": "2022-04-17T14:37:39.867Z"
   },
   {
    "duration": 11,
    "start_time": "2022-04-17T14:37:50.624Z"
   },
   {
    "duration": 11,
    "start_time": "2022-04-17T14:38:01.702Z"
   },
   {
    "duration": 11,
    "start_time": "2022-04-17T14:38:06.189Z"
   },
   {
    "duration": 4,
    "start_time": "2022-04-17T14:38:36.369Z"
   },
   {
    "duration": 4,
    "start_time": "2022-04-17T14:38:46.501Z"
   },
   {
    "duration": 9,
    "start_time": "2022-04-17T14:38:53.388Z"
   },
   {
    "duration": 14,
    "start_time": "2022-04-17T14:38:58.619Z"
   },
   {
    "duration": 10,
    "start_time": "2022-04-17T14:41:17.040Z"
   },
   {
    "duration": 63,
    "start_time": "2022-04-17T14:41:21.933Z"
   },
   {
    "duration": 50,
    "start_time": "2022-04-17T14:41:31.234Z"
   },
   {
    "duration": 10,
    "start_time": "2022-04-17T14:41:53.925Z"
   },
   {
    "duration": 104,
    "start_time": "2022-04-17T14:41:59.175Z"
   },
   {
    "duration": 33,
    "start_time": "2022-04-17T14:42:30.841Z"
   },
   {
    "duration": 274,
    "start_time": "2022-04-17T14:43:20.079Z"
   },
   {
    "duration": 292,
    "start_time": "2022-04-17T14:43:27.493Z"
   },
   {
    "duration": 387,
    "start_time": "2022-04-17T14:43:32.106Z"
   },
   {
    "duration": 26,
    "start_time": "2022-04-17T14:43:35.735Z"
   },
   {
    "duration": 174,
    "start_time": "2022-04-17T14:45:08.949Z"
   },
   {
    "duration": 118,
    "start_time": "2022-04-17T14:45:12.884Z"
   },
   {
    "duration": 131,
    "start_time": "2022-04-17T14:45:18.393Z"
   },
   {
    "duration": 137,
    "start_time": "2022-04-17T14:45:42.814Z"
   },
   {
    "duration": 13,
    "start_time": "2022-04-17T14:45:47.423Z"
   },
   {
    "duration": 39,
    "start_time": "2022-04-17T14:45:51.707Z"
   },
   {
    "duration": 8,
    "start_time": "2022-04-17T14:46:31.977Z"
   },
   {
    "duration": 933,
    "start_time": "2022-04-17T14:46:35.441Z"
   },
   {
    "duration": 779,
    "start_time": "2022-04-17T14:46:36.376Z"
   },
   {
    "duration": 20,
    "start_time": "2022-04-17T14:46:37.158Z"
   },
   {
    "duration": 77,
    "start_time": "2022-04-17T14:46:37.182Z"
   },
   {
    "duration": 18,
    "start_time": "2022-04-17T14:46:37.261Z"
   },
   {
    "duration": 7,
    "start_time": "2022-04-17T14:46:37.281Z"
   },
   {
    "duration": 7,
    "start_time": "2022-04-17T14:46:37.291Z"
   },
   {
    "duration": 8,
    "start_time": "2022-04-17T14:46:37.353Z"
   },
   {
    "duration": 15,
    "start_time": "2022-04-17T14:46:37.363Z"
   },
   {
    "duration": 82,
    "start_time": "2022-04-17T14:46:37.382Z"
   },
   {
    "duration": 421,
    "start_time": "2022-04-17T14:46:37.467Z"
   },
   {
    "duration": 173,
    "start_time": "2022-04-17T14:46:37.891Z"
   },
   {
    "duration": 84,
    "start_time": "2022-04-17T14:46:38.067Z"
   },
   {
    "duration": 14,
    "start_time": "2022-04-17T14:46:38.154Z"
   },
   {
    "duration": 10,
    "start_time": "2022-04-17T14:46:38.171Z"
   },
   {
    "duration": 79,
    "start_time": "2022-04-17T14:46:38.183Z"
   },
   {
    "duration": 211,
    "start_time": "2022-04-17T14:46:38.264Z"
   },
   {
    "duration": 90,
    "start_time": "2022-04-17T14:46:38.478Z"
   },
   {
    "duration": 17,
    "start_time": "2022-04-17T14:46:38.571Z"
   },
   {
    "duration": 100,
    "start_time": "2022-04-17T14:46:38.591Z"
   },
   {
    "duration": 369,
    "start_time": "2022-04-17T14:46:38.693Z"
   },
   {
    "duration": 99,
    "start_time": "2022-04-17T14:46:39.065Z"
   },
   {
    "duration": 11,
    "start_time": "2022-04-17T14:46:39.167Z"
   },
   {
    "duration": 72,
    "start_time": "2022-04-17T14:46:39.181Z"
   },
   {
    "duration": 27,
    "start_time": "2022-04-17T14:46:39.255Z"
   },
   {
    "duration": 90,
    "start_time": "2022-04-17T14:46:39.284Z"
   },
   {
    "duration": 16,
    "start_time": "2022-04-17T14:46:39.376Z"
   },
   {
    "duration": 16,
    "start_time": "2022-04-17T14:46:39.454Z"
   },
   {
    "duration": 21,
    "start_time": "2022-04-17T14:46:39.473Z"
   },
   {
    "duration": 6,
    "start_time": "2022-04-17T14:46:39.552Z"
   },
   {
    "duration": 3800,
    "start_time": "2022-04-17T14:46:39.561Z"
   },
   {
    "duration": 15,
    "start_time": "2022-04-17T14:46:43.364Z"
   },
   {
    "duration": 13,
    "start_time": "2022-04-17T14:46:43.381Z"
   },
   {
    "duration": 11,
    "start_time": "2022-04-17T14:46:43.396Z"
   },
   {
    "duration": 45,
    "start_time": "2022-04-17T14:46:43.409Z"
   },
   {
    "duration": 37,
    "start_time": "2022-04-17T14:46:43.457Z"
   },
   {
    "duration": 13,
    "start_time": "2022-04-17T14:46:43.496Z"
   },
   {
    "duration": 203,
    "start_time": "2022-04-17T15:04:21.307Z"
   },
   {
    "duration": 44,
    "start_time": "2022-04-17T15:04:23.362Z"
   },
   {
    "duration": 42,
    "start_time": "2022-04-17T15:06:19.075Z"
   },
   {
    "duration": 22,
    "start_time": "2022-04-17T15:06:29.019Z"
   },
   {
    "duration": 21,
    "start_time": "2022-04-17T15:06:53.341Z"
   },
   {
    "duration": 1015,
    "start_time": "2022-04-17T15:07:21.951Z"
   },
   {
    "duration": 501,
    "start_time": "2022-04-17T15:07:22.969Z"
   },
   {
    "duration": 20,
    "start_time": "2022-04-17T15:07:23.472Z"
   },
   {
    "duration": 16,
    "start_time": "2022-04-17T15:07:23.494Z"
   },
   {
    "duration": 19,
    "start_time": "2022-04-17T15:07:23.512Z"
   },
   {
    "duration": 22,
    "start_time": "2022-04-17T15:07:23.533Z"
   },
   {
    "duration": 6,
    "start_time": "2022-04-17T15:07:23.557Z"
   },
   {
    "duration": 12,
    "start_time": "2022-04-17T15:07:23.566Z"
   },
   {
    "duration": 28,
    "start_time": "2022-04-17T15:07:23.581Z"
   },
   {
    "duration": 61,
    "start_time": "2022-04-17T15:07:23.612Z"
   },
   {
    "duration": 167,
    "start_time": "2022-04-17T15:07:23.676Z"
   },
   {
    "duration": 49,
    "start_time": "2022-04-17T15:07:23.845Z"
   },
   {
    "duration": 27,
    "start_time": "2022-04-17T15:07:23.896Z"
   },
   {
    "duration": 39,
    "start_time": "2022-04-17T15:07:23.926Z"
   },
   {
    "duration": 10,
    "start_time": "2022-04-17T15:07:23.967Z"
   },
   {
    "duration": 27,
    "start_time": "2022-04-17T15:07:23.979Z"
   },
   {
    "duration": 105,
    "start_time": "2022-04-17T15:07:24.009Z"
   },
   {
    "duration": 43,
    "start_time": "2022-04-17T15:07:24.117Z"
   },
   {
    "duration": 12,
    "start_time": "2022-04-17T15:07:24.162Z"
   },
   {
    "duration": 33,
    "start_time": "2022-04-17T15:07:24.176Z"
   },
   {
    "duration": 135,
    "start_time": "2022-04-17T15:07:24.211Z"
   },
   {
    "duration": 34,
    "start_time": "2022-04-17T15:07:24.351Z"
   },
   {
    "duration": 11,
    "start_time": "2022-04-17T15:07:24.387Z"
   },
   {
    "duration": 18,
    "start_time": "2022-04-17T15:07:24.400Z"
   },
   {
    "duration": 51,
    "start_time": "2022-04-17T15:07:24.421Z"
   },
   {
    "duration": 39,
    "start_time": "2022-04-17T15:07:24.474Z"
   },
   {
    "duration": 42,
    "start_time": "2022-04-17T15:07:24.516Z"
   },
   {
    "duration": 22,
    "start_time": "2022-04-17T15:07:24.563Z"
   },
   {
    "duration": 12,
    "start_time": "2022-04-17T15:07:24.587Z"
   },
   {
    "duration": 51,
    "start_time": "2022-04-17T15:07:24.601Z"
   },
   {
    "duration": 6,
    "start_time": "2022-04-17T15:07:24.654Z"
   },
   {
    "duration": 2089,
    "start_time": "2022-04-17T15:07:24.662Z"
   },
   {
    "duration": 15,
    "start_time": "2022-04-17T15:07:26.754Z"
   },
   {
    "duration": 14,
    "start_time": "2022-04-17T15:07:26.771Z"
   },
   {
    "duration": 14,
    "start_time": "2022-04-17T15:07:26.786Z"
   },
   {
    "duration": 13,
    "start_time": "2022-04-17T15:07:26.802Z"
   },
   {
    "duration": 114,
    "start_time": "2022-04-17T15:07:26.817Z"
   },
   {
    "duration": 60,
    "start_time": "2022-04-17T15:08:23.466Z"
   },
   {
    "duration": 53,
    "start_time": "2022-04-17T15:08:27.868Z"
   },
   {
    "duration": 52,
    "start_time": "2022-04-17T15:09:57.077Z"
   },
   {
    "duration": 45,
    "start_time": "2022-04-17T15:10:20.114Z"
   },
   {
    "duration": 51,
    "start_time": "2022-04-17T15:10:36.837Z"
   },
   {
    "duration": 49,
    "start_time": "2022-04-17T15:10:43.112Z"
   },
   {
    "duration": 49,
    "start_time": "2022-04-17T15:10:46.699Z"
   },
   {
    "duration": 122,
    "start_time": "2022-04-17T15:12:56.719Z"
   },
   {
    "duration": 494,
    "start_time": "2022-04-17T15:15:00.061Z"
   },
   {
    "duration": 510,
    "start_time": "2022-04-17T15:15:10.052Z"
   },
   {
    "duration": 44,
    "start_time": "2022-04-17T15:18:41.203Z"
   },
   {
    "duration": 515,
    "start_time": "2022-04-17T15:18:48.738Z"
   },
   {
    "duration": 20,
    "start_time": "2022-04-17T15:19:58.035Z"
   },
   {
    "duration": 16,
    "start_time": "2022-04-17T15:20:00.441Z"
   },
   {
    "duration": 1198,
    "start_time": "2022-04-17T15:20:16.197Z"
   },
   {
    "duration": 1401,
    "start_time": "2022-04-17T15:20:17.451Z"
   },
   {
    "duration": 29,
    "start_time": "2022-04-17T15:20:18.856Z"
   },
   {
    "duration": 74,
    "start_time": "2022-04-17T15:20:18.889Z"
   },
   {
    "duration": 11,
    "start_time": "2022-04-17T15:20:18.966Z"
   },
   {
    "duration": 8,
    "start_time": "2022-04-17T15:20:18.980Z"
   },
   {
    "duration": 63,
    "start_time": "2022-04-17T15:20:18.991Z"
   },
   {
    "duration": 10,
    "start_time": "2022-04-17T15:20:19.057Z"
   },
   {
    "duration": 17,
    "start_time": "2022-04-17T15:20:19.070Z"
   },
   {
    "duration": 160,
    "start_time": "2022-04-17T15:20:19.092Z"
   },
   {
    "duration": 401,
    "start_time": "2022-04-17T15:20:19.255Z"
   },
   {
    "duration": 127,
    "start_time": "2022-04-17T15:20:19.659Z"
   },
   {
    "duration": 92,
    "start_time": "2022-04-17T15:20:19.789Z"
   },
   {
    "duration": 72,
    "start_time": "2022-04-17T15:20:19.884Z"
   },
   {
    "duration": 14,
    "start_time": "2022-04-17T15:20:19.959Z"
   },
   {
    "duration": 79,
    "start_time": "2022-04-17T15:20:19.975Z"
   },
   {
    "duration": 121,
    "start_time": "2022-04-17T15:20:20.057Z"
   },
   {
    "duration": 78,
    "start_time": "2022-04-17T15:20:20.180Z"
   },
   {
    "duration": 21,
    "start_time": "2022-04-17T15:20:20.261Z"
   },
   {
    "duration": 69,
    "start_time": "2022-04-17T15:20:20.284Z"
   },
   {
    "duration": 29,
    "start_time": "2022-04-17T15:20:20.355Z"
   },
   {
    "duration": 268,
    "start_time": "2022-04-17T15:20:20.387Z"
   },
   {
    "duration": 33,
    "start_time": "2022-04-17T15:20:20.657Z"
   },
   {
    "duration": 62,
    "start_time": "2022-04-17T15:20:20.693Z"
   },
   {
    "duration": 12,
    "start_time": "2022-04-17T15:20:20.758Z"
   },
   {
    "duration": 22,
    "start_time": "2022-04-17T15:20:20.773Z"
   },
   {
    "duration": 40,
    "start_time": "2022-04-17T15:20:20.855Z"
   },
   {
    "duration": 12,
    "start_time": "2022-04-17T15:20:20.901Z"
   },
   {
    "duration": 51,
    "start_time": "2022-04-17T15:20:20.916Z"
   },
   {
    "duration": 12,
    "start_time": "2022-04-17T15:20:20.969Z"
   },
   {
    "duration": 20,
    "start_time": "2022-04-17T15:20:20.983Z"
   },
   {
    "duration": 10,
    "start_time": "2022-04-17T15:20:21.005Z"
   },
   {
    "duration": 2143,
    "start_time": "2022-04-17T15:20:21.018Z"
   },
   {
    "duration": 17,
    "start_time": "2022-04-17T15:20:23.164Z"
   },
   {
    "duration": 13,
    "start_time": "2022-04-17T15:20:23.184Z"
   },
   {
    "duration": 14,
    "start_time": "2022-04-17T15:20:23.199Z"
   },
   {
    "duration": 13,
    "start_time": "2022-04-17T15:20:23.252Z"
   },
   {
    "duration": 54,
    "start_time": "2022-04-17T15:20:23.267Z"
   },
   {
    "duration": 70,
    "start_time": "2022-04-17T15:20:23.324Z"
   },
   {
    "duration": 29,
    "start_time": "2022-04-17T15:21:06.681Z"
   },
   {
    "duration": 119,
    "start_time": "2022-04-17T15:26:52.326Z"
   },
   {
    "duration": 46,
    "start_time": "2022-04-17T15:26:56.370Z"
   },
   {
    "duration": 21,
    "start_time": "2022-04-17T15:27:02.652Z"
   },
   {
    "duration": 33,
    "start_time": "2022-04-17T15:27:07.681Z"
   },
   {
    "duration": 78,
    "start_time": "2022-04-17T15:30:03.189Z"
   },
   {
    "duration": 48,
    "start_time": "2022-04-17T15:30:14.324Z"
   },
   {
    "duration": 4,
    "start_time": "2022-04-17T15:32:07.101Z"
   },
   {
    "duration": 40,
    "start_time": "2022-04-17T15:32:19.356Z"
   },
   {
    "duration": 34,
    "start_time": "2022-04-17T15:32:30.788Z"
   },
   {
    "duration": 32,
    "start_time": "2022-04-17T15:33:32.452Z"
   },
   {
    "duration": 31,
    "start_time": "2022-04-17T15:33:45.160Z"
   },
   {
    "duration": 32,
    "start_time": "2022-04-17T15:34:01.716Z"
   },
   {
    "duration": 38,
    "start_time": "2022-04-17T15:34:11.880Z"
   },
   {
    "duration": 16,
    "start_time": "2022-04-17T15:34:20.914Z"
   },
   {
    "duration": 31,
    "start_time": "2022-04-17T15:34:55.031Z"
   },
   {
    "duration": 30,
    "start_time": "2022-04-17T15:34:58.946Z"
   },
   {
    "duration": 35,
    "start_time": "2022-04-17T15:35:01.585Z"
   },
   {
    "duration": 35,
    "start_time": "2022-04-17T15:35:18.863Z"
   },
   {
    "duration": 34,
    "start_time": "2022-04-17T15:36:14.722Z"
   },
   {
    "duration": 34,
    "start_time": "2022-04-17T15:36:24.020Z"
   },
   {
    "duration": 190,
    "start_time": "2022-04-17T15:57:37.916Z"
   },
   {
    "duration": 19,
    "start_time": "2022-04-17T15:58:02.111Z"
   },
   {
    "duration": 25,
    "start_time": "2022-04-17T15:58:20.320Z"
   },
   {
    "duration": 26,
    "start_time": "2022-04-17T15:58:46.311Z"
   },
   {
    "duration": 24,
    "start_time": "2022-04-17T15:58:54.310Z"
   },
   {
    "duration": 27,
    "start_time": "2022-04-17T15:59:02.488Z"
   },
   {
    "duration": 25,
    "start_time": "2022-04-17T15:59:57.884Z"
   },
   {
    "duration": 19,
    "start_time": "2022-04-17T16:01:02.632Z"
   },
   {
    "duration": 29,
    "start_time": "2022-04-17T16:01:13.476Z"
   },
   {
    "duration": 34,
    "start_time": "2022-04-17T16:05:34.456Z"
   },
   {
    "duration": 30,
    "start_time": "2022-04-17T16:05:42.791Z"
   },
   {
    "duration": 809,
    "start_time": "2022-04-17T16:06:36.070Z"
   },
   {
    "duration": 484,
    "start_time": "2022-04-17T16:06:36.882Z"
   },
   {
    "duration": 21,
    "start_time": "2022-04-17T16:06:37.368Z"
   },
   {
    "duration": 23,
    "start_time": "2022-04-17T16:06:37.394Z"
   },
   {
    "duration": 15,
    "start_time": "2022-04-17T16:06:37.419Z"
   },
   {
    "duration": 22,
    "start_time": "2022-04-17T16:06:37.436Z"
   },
   {
    "duration": 19,
    "start_time": "2022-04-17T16:06:37.460Z"
   },
   {
    "duration": 18,
    "start_time": "2022-04-17T16:06:37.481Z"
   },
   {
    "duration": 30,
    "start_time": "2022-04-17T16:06:37.501Z"
   },
   {
    "duration": 39,
    "start_time": "2022-04-17T16:06:37.535Z"
   },
   {
    "duration": 154,
    "start_time": "2022-04-17T16:06:37.576Z"
   },
   {
    "duration": 52,
    "start_time": "2022-04-17T16:06:37.732Z"
   },
   {
    "duration": 27,
    "start_time": "2022-04-17T16:06:37.786Z"
   },
   {
    "duration": 38,
    "start_time": "2022-04-17T16:06:37.815Z"
   },
   {
    "duration": 10,
    "start_time": "2022-04-17T16:06:37.855Z"
   },
   {
    "duration": 32,
    "start_time": "2022-04-17T16:06:37.867Z"
   },
   {
    "duration": 96,
    "start_time": "2022-04-17T16:06:37.901Z"
   },
   {
    "duration": 29,
    "start_time": "2022-04-17T16:06:37.999Z"
   },
   {
    "duration": 24,
    "start_time": "2022-04-17T16:06:38.030Z"
   },
   {
    "duration": 30,
    "start_time": "2022-04-17T16:06:38.056Z"
   },
   {
    "duration": 143,
    "start_time": "2022-04-17T16:06:38.089Z"
   },
   {
    "duration": 38,
    "start_time": "2022-04-17T16:06:38.234Z"
   },
   {
    "duration": 11,
    "start_time": "2022-04-17T16:06:38.274Z"
   },
   {
    "duration": 21,
    "start_time": "2022-04-17T16:06:38.287Z"
   },
   {
    "duration": 47,
    "start_time": "2022-04-17T16:06:38.311Z"
   },
   {
    "duration": 41,
    "start_time": "2022-04-17T16:06:38.360Z"
   },
   {
    "duration": 12,
    "start_time": "2022-04-17T16:06:38.403Z"
   },
   {
    "duration": 45,
    "start_time": "2022-04-17T16:06:38.420Z"
   },
   {
    "duration": 11,
    "start_time": "2022-04-17T16:06:38.467Z"
   },
   {
    "duration": 17,
    "start_time": "2022-04-17T16:06:38.480Z"
   },
   {
    "duration": 6,
    "start_time": "2022-04-17T16:06:38.499Z"
   },
   {
    "duration": 3388,
    "start_time": "2022-04-17T16:06:38.507Z"
   },
   {
    "duration": 26,
    "start_time": "2022-04-17T16:06:41.897Z"
   },
   {
    "duration": 39,
    "start_time": "2022-04-17T16:06:41.924Z"
   },
   {
    "duration": 16,
    "start_time": "2022-04-17T16:06:41.965Z"
   },
   {
    "duration": 18,
    "start_time": "2022-04-17T16:06:41.983Z"
   },
   {
    "duration": 82,
    "start_time": "2022-04-17T16:06:42.004Z"
   },
   {
    "duration": 37,
    "start_time": "2022-04-17T16:06:42.089Z"
   },
   {
    "duration": 53,
    "start_time": "2022-04-17T16:06:42.129Z"
   },
   {
    "duration": 30,
    "start_time": "2022-04-17T16:06:42.184Z"
   },
   {
    "duration": 51,
    "start_time": "2022-04-17T16:07:10.183Z"
   },
   {
    "duration": 62,
    "start_time": "2022-04-17T16:07:16.004Z"
   },
   {
    "duration": 39,
    "start_time": "2022-04-17T16:07:22.725Z"
   },
   {
    "duration": 37,
    "start_time": "2022-04-17T16:07:39.765Z"
   },
   {
    "duration": 16,
    "start_time": "2022-04-17T16:07:45.978Z"
   },
   {
    "duration": 35,
    "start_time": "2022-04-17T16:20:13.489Z"
   },
   {
    "duration": 41,
    "start_time": "2022-04-17T16:20:28.662Z"
   },
   {
    "duration": 16,
    "start_time": "2022-04-17T16:20:36.737Z"
   },
   {
    "duration": 34,
    "start_time": "2022-04-17T16:20:41.094Z"
   },
   {
    "duration": 15,
    "start_time": "2022-04-17T16:20:41.459Z"
   },
   {
    "duration": 126,
    "start_time": "2022-04-17T16:24:25.813Z"
   },
   {
    "duration": 23,
    "start_time": "2022-04-17T16:24:33.495Z"
   },
   {
    "duration": 37,
    "start_time": "2022-04-17T16:24:39.364Z"
   },
   {
    "duration": 30,
    "start_time": "2022-04-17T16:24:55.604Z"
   },
   {
    "duration": 41,
    "start_time": "2022-04-17T16:25:06.234Z"
   },
   {
    "duration": 38,
    "start_time": "2022-04-17T16:25:25.216Z"
   },
   {
    "duration": 15,
    "start_time": "2022-04-17T16:25:27.260Z"
   },
   {
    "duration": 40,
    "start_time": "2022-04-17T16:25:46.922Z"
   },
   {
    "duration": 16,
    "start_time": "2022-04-17T16:25:47.812Z"
   },
   {
    "duration": 42,
    "start_time": "2022-04-17T16:30:49.433Z"
   },
   {
    "duration": 38,
    "start_time": "2022-04-17T16:31:49.192Z"
   },
   {
    "duration": 36,
    "start_time": "2022-04-17T16:32:08.809Z"
   },
   {
    "duration": 38,
    "start_time": "2022-04-17T16:32:33.103Z"
   },
   {
    "duration": 33,
    "start_time": "2022-04-17T16:32:40.998Z"
   },
   {
    "duration": 36,
    "start_time": "2022-04-17T16:33:32.497Z"
   },
   {
    "duration": 475,
    "start_time": "2022-04-17T16:33:52.829Z"
   },
   {
    "duration": 38,
    "start_time": "2022-04-17T16:34:06.824Z"
   },
   {
    "duration": 17,
    "start_time": "2022-04-17T16:34:46.147Z"
   },
   {
    "duration": 16,
    "start_time": "2022-04-17T16:35:04.113Z"
   },
   {
    "duration": 17,
    "start_time": "2022-04-17T16:35:19.763Z"
   },
   {
    "duration": 16,
    "start_time": "2022-04-17T16:35:28.349Z"
   },
   {
    "duration": 10,
    "start_time": "2022-04-17T16:37:44.361Z"
   },
   {
    "duration": 5,
    "start_time": "2022-04-17T16:38:04.594Z"
   },
   {
    "duration": 17,
    "start_time": "2022-04-17T16:38:14.399Z"
   },
   {
    "duration": 16,
    "start_time": "2022-04-17T16:38:19.429Z"
   },
   {
    "duration": 17,
    "start_time": "2022-04-17T16:38:36.085Z"
   },
   {
    "duration": 5,
    "start_time": "2022-04-17T16:38:50.965Z"
   },
   {
    "duration": 5,
    "start_time": "2022-04-17T16:39:07.875Z"
   },
   {
    "duration": 10,
    "start_time": "2022-04-17T16:39:36.240Z"
   },
   {
    "duration": 17,
    "start_time": "2022-04-17T16:39:41.096Z"
   },
   {
    "duration": 37,
    "start_time": "2022-04-17T16:40:06.370Z"
   },
   {
    "duration": 28,
    "start_time": "2022-04-17T16:40:21.254Z"
   },
   {
    "duration": 6,
    "start_time": "2022-04-17T16:40:23.244Z"
   },
   {
    "duration": 12,
    "start_time": "2022-04-17T16:40:23.585Z"
   },
   {
    "duration": 20,
    "start_time": "2022-04-17T16:40:23.944Z"
   },
   {
    "duration": 23,
    "start_time": "2022-04-17T16:40:32.221Z"
   },
   {
    "duration": 482,
    "start_time": "2022-04-17T16:41:44.254Z"
   },
   {
    "duration": 490,
    "start_time": "2022-04-17T16:42:05.416Z"
   },
   {
    "duration": 571,
    "start_time": "2022-04-17T16:42:18.819Z"
   },
   {
    "duration": 10,
    "start_time": "2022-04-17T16:42:32.506Z"
   },
   {
    "duration": 555,
    "start_time": "2022-04-17T16:42:34.084Z"
   },
   {
    "duration": 502,
    "start_time": "2022-04-17T16:42:37.448Z"
   },
   {
    "duration": 883,
    "start_time": "2022-04-17T16:42:42.529Z"
   },
   {
    "duration": 499,
    "start_time": "2022-04-17T16:42:43.415Z"
   },
   {
    "duration": 19,
    "start_time": "2022-04-17T16:42:43.917Z"
   },
   {
    "duration": 25,
    "start_time": "2022-04-17T16:42:43.939Z"
   },
   {
    "duration": 9,
    "start_time": "2022-04-17T16:42:43.966Z"
   },
   {
    "duration": 8,
    "start_time": "2022-04-17T16:42:43.977Z"
   },
   {
    "duration": 7,
    "start_time": "2022-04-17T16:42:43.986Z"
   },
   {
    "duration": 16,
    "start_time": "2022-04-17T16:42:43.995Z"
   },
   {
    "duration": 42,
    "start_time": "2022-04-17T16:42:44.013Z"
   },
   {
    "duration": 34,
    "start_time": "2022-04-17T16:42:44.059Z"
   },
   {
    "duration": 173,
    "start_time": "2022-04-17T16:42:44.095Z"
   },
   {
    "duration": 45,
    "start_time": "2022-04-17T16:42:44.270Z"
   },
   {
    "duration": 46,
    "start_time": "2022-04-17T16:42:44.317Z"
   },
   {
    "duration": 14,
    "start_time": "2022-04-17T16:42:44.365Z"
   },
   {
    "duration": 10,
    "start_time": "2022-04-17T16:42:44.381Z"
   },
   {
    "duration": 59,
    "start_time": "2022-04-17T16:42:44.393Z"
   },
   {
    "duration": 70,
    "start_time": "2022-04-17T16:42:44.454Z"
   },
   {
    "duration": 41,
    "start_time": "2022-04-17T16:42:44.526Z"
   },
   {
    "duration": 12,
    "start_time": "2022-04-17T16:42:44.569Z"
   },
   {
    "duration": 29,
    "start_time": "2022-04-17T16:42:44.583Z"
   },
   {
    "duration": 139,
    "start_time": "2022-04-17T16:42:44.614Z"
   },
   {
    "duration": 33,
    "start_time": "2022-04-17T16:42:44.755Z"
   },
   {
    "duration": 10,
    "start_time": "2022-04-17T16:42:44.791Z"
   },
   {
    "duration": 22,
    "start_time": "2022-04-17T16:42:44.803Z"
   },
   {
    "duration": 50,
    "start_time": "2022-04-17T16:42:44.828Z"
   },
   {
    "duration": 70,
    "start_time": "2022-04-17T16:42:44.881Z"
   },
   {
    "duration": 17,
    "start_time": "2022-04-17T16:42:44.954Z"
   },
   {
    "duration": 21,
    "start_time": "2022-04-17T16:42:44.976Z"
   },
   {
    "duration": 11,
    "start_time": "2022-04-17T16:42:45.000Z"
   },
   {
    "duration": 50,
    "start_time": "2022-04-17T16:42:45.013Z"
   },
   {
    "duration": 8,
    "start_time": "2022-04-17T16:42:45.065Z"
   },
   {
    "duration": 3469,
    "start_time": "2022-04-17T16:42:45.075Z"
   },
   {
    "duration": 33,
    "start_time": "2022-04-17T16:42:48.551Z"
   },
   {
    "duration": 23,
    "start_time": "2022-04-17T16:42:48.586Z"
   },
   {
    "duration": 45,
    "start_time": "2022-04-17T16:42:48.611Z"
   },
   {
    "duration": 19,
    "start_time": "2022-04-17T16:42:48.659Z"
   },
   {
    "duration": 82,
    "start_time": "2022-04-17T16:42:48.680Z"
   },
   {
    "duration": 42,
    "start_time": "2022-04-17T16:42:48.764Z"
   },
   {
    "duration": 67,
    "start_time": "2022-04-17T16:42:48.808Z"
   },
   {
    "duration": 584,
    "start_time": "2022-04-17T16:42:48.877Z"
   },
   {
    "duration": 0,
    "start_time": "2022-04-17T16:42:49.463Z"
   },
   {
    "duration": 0,
    "start_time": "2022-04-17T16:42:49.464Z"
   },
   {
    "duration": 0,
    "start_time": "2022-04-17T16:42:49.466Z"
   },
   {
    "duration": 0,
    "start_time": "2022-04-17T16:42:49.467Z"
   },
   {
    "duration": 0,
    "start_time": "2022-04-17T16:42:49.468Z"
   },
   {
    "duration": 25,
    "start_time": "2022-04-17T16:43:12.435Z"
   },
   {
    "duration": 845,
    "start_time": "2022-04-17T16:43:18.551Z"
   },
   {
    "duration": 501,
    "start_time": "2022-04-17T16:43:19.399Z"
   },
   {
    "duration": 20,
    "start_time": "2022-04-17T16:43:19.903Z"
   },
   {
    "duration": 26,
    "start_time": "2022-04-17T16:43:19.926Z"
   },
   {
    "duration": 12,
    "start_time": "2022-04-17T16:43:19.954Z"
   },
   {
    "duration": 7,
    "start_time": "2022-04-17T16:43:19.969Z"
   },
   {
    "duration": 7,
    "start_time": "2022-04-17T16:43:19.978Z"
   },
   {
    "duration": 7,
    "start_time": "2022-04-17T16:43:19.988Z"
   },
   {
    "duration": 56,
    "start_time": "2022-04-17T16:43:19.997Z"
   },
   {
    "duration": 36,
    "start_time": "2022-04-17T16:43:20.057Z"
   },
   {
    "duration": 174,
    "start_time": "2022-04-17T16:43:20.095Z"
   },
   {
    "duration": 46,
    "start_time": "2022-04-17T16:43:20.272Z"
   },
   {
    "duration": 48,
    "start_time": "2022-04-17T16:43:20.321Z"
   },
   {
    "duration": 13,
    "start_time": "2022-04-17T16:43:20.371Z"
   },
   {
    "duration": 10,
    "start_time": "2022-04-17T16:43:20.386Z"
   },
   {
    "duration": 59,
    "start_time": "2022-04-17T16:43:20.398Z"
   },
   {
    "duration": 71,
    "start_time": "2022-04-17T16:43:20.460Z"
   },
   {
    "duration": 50,
    "start_time": "2022-04-17T16:43:20.533Z"
   },
   {
    "duration": 13,
    "start_time": "2022-04-17T16:43:20.585Z"
   },
   {
    "duration": 56,
    "start_time": "2022-04-17T16:43:20.600Z"
   },
   {
    "duration": 123,
    "start_time": "2022-04-17T16:43:20.659Z"
   },
   {
    "duration": 35,
    "start_time": "2022-04-17T16:43:20.784Z"
   },
   {
    "duration": 11,
    "start_time": "2022-04-17T16:43:20.821Z"
   },
   {
    "duration": 13,
    "start_time": "2022-04-17T16:43:20.851Z"
   },
   {
    "duration": 22,
    "start_time": "2022-04-17T16:43:20.867Z"
   },
   {
    "duration": 72,
    "start_time": "2022-04-17T16:43:20.891Z"
   },
   {
    "duration": 13,
    "start_time": "2022-04-17T16:43:20.965Z"
   },
   {
    "duration": 21,
    "start_time": "2022-04-17T16:43:20.983Z"
   },
   {
    "duration": 12,
    "start_time": "2022-04-17T16:43:21.007Z"
   },
   {
    "duration": 21,
    "start_time": "2022-04-17T16:43:21.052Z"
   },
   {
    "duration": 7,
    "start_time": "2022-04-17T16:43:21.076Z"
   },
   {
    "duration": 2132,
    "start_time": "2022-04-17T16:43:21.085Z"
   },
   {
    "duration": 35,
    "start_time": "2022-04-17T16:43:23.219Z"
   },
   {
    "duration": 19,
    "start_time": "2022-04-17T16:43:23.256Z"
   },
   {
    "duration": 19,
    "start_time": "2022-04-17T16:43:23.277Z"
   },
   {
    "duration": 56,
    "start_time": "2022-04-17T16:43:23.298Z"
   },
   {
    "duration": 73,
    "start_time": "2022-04-17T16:43:23.357Z"
   },
   {
    "duration": 74,
    "start_time": "2022-04-17T16:43:23.433Z"
   },
   {
    "duration": 69,
    "start_time": "2022-04-17T16:43:23.509Z"
   },
   {
    "duration": 24,
    "start_time": "2022-04-17T16:43:23.580Z"
   },
   {
    "duration": 5,
    "start_time": "2022-04-17T16:43:23.606Z"
   },
   {
    "duration": 38,
    "start_time": "2022-04-17T16:43:23.613Z"
   },
   {
    "duration": 18,
    "start_time": "2022-04-17T16:43:23.654Z"
   },
   {
    "duration": 22,
    "start_time": "2022-04-17T16:43:23.674Z"
   },
   {
    "duration": 149,
    "start_time": "2022-04-17T16:43:23.698Z"
   },
   {
    "duration": 501,
    "start_time": "2022-04-17T16:44:10.454Z"
   },
   {
    "duration": 25,
    "start_time": "2022-04-17T16:44:43.119Z"
   },
   {
    "duration": 5,
    "start_time": "2022-04-17T16:44:43.510Z"
   },
   {
    "duration": 10,
    "start_time": "2022-04-17T16:44:43.756Z"
   },
   {
    "duration": 19,
    "start_time": "2022-04-17T16:44:45.835Z"
   },
   {
    "duration": 17,
    "start_time": "2022-04-17T16:44:56.594Z"
   },
   {
    "duration": 2087,
    "start_time": "2022-04-17T16:45:18.623Z"
   },
   {
    "duration": 9,
    "start_time": "2022-04-17T16:45:51.319Z"
   },
   {
    "duration": 8,
    "start_time": "2022-04-17T16:46:37.564Z"
   },
   {
    "duration": 20,
    "start_time": "2022-04-17T16:46:39.095Z"
   },
   {
    "duration": 17,
    "start_time": "2022-04-17T16:54:20.987Z"
   },
   {
    "duration": 17,
    "start_time": "2022-04-17T16:54:52.956Z"
   },
   {
    "duration": 123,
    "start_time": "2022-04-17T16:55:12.517Z"
   },
   {
    "duration": 33,
    "start_time": "2022-04-17T16:56:19.452Z"
   },
   {
    "duration": 10,
    "start_time": "2022-04-17T16:57:11.246Z"
   },
   {
    "duration": 29,
    "start_time": "2022-04-17T16:58:33.644Z"
   },
   {
    "duration": 23,
    "start_time": "2022-04-17T16:59:27.242Z"
   },
   {
    "duration": 867,
    "start_time": "2022-04-17T17:00:39.504Z"
   },
   {
    "duration": 478,
    "start_time": "2022-04-17T17:00:40.373Z"
   },
   {
    "duration": 19,
    "start_time": "2022-04-17T17:00:40.853Z"
   },
   {
    "duration": 16,
    "start_time": "2022-04-17T17:00:40.875Z"
   },
   {
    "duration": 8,
    "start_time": "2022-04-17T17:00:40.893Z"
   },
   {
    "duration": 12,
    "start_time": "2022-04-17T17:00:40.903Z"
   },
   {
    "duration": 36,
    "start_time": "2022-04-17T17:00:40.917Z"
   },
   {
    "duration": 8,
    "start_time": "2022-04-17T17:00:40.956Z"
   },
   {
    "duration": 13,
    "start_time": "2022-04-17T17:00:40.966Z"
   },
   {
    "duration": 35,
    "start_time": "2022-04-17T17:00:40.983Z"
   },
   {
    "duration": 174,
    "start_time": "2022-04-17T17:00:41.021Z"
   },
   {
    "duration": 57,
    "start_time": "2022-04-17T17:00:41.197Z"
   },
   {
    "duration": 29,
    "start_time": "2022-04-17T17:00:41.257Z"
   },
   {
    "duration": 14,
    "start_time": "2022-04-17T17:00:41.288Z"
   },
   {
    "duration": 10,
    "start_time": "2022-04-17T17:00:41.305Z"
   },
   {
    "duration": 59,
    "start_time": "2022-04-17T17:00:41.318Z"
   },
   {
    "duration": 174,
    "start_time": "2022-04-17T17:00:41.379Z"
   },
   {
    "duration": 30,
    "start_time": "2022-04-17T17:00:41.555Z"
   },
   {
    "duration": 66,
    "start_time": "2022-04-17T17:00:41.587Z"
   },
   {
    "duration": 28,
    "start_time": "2022-04-17T17:00:41.655Z"
   },
   {
    "duration": 212,
    "start_time": "2022-04-17T17:00:41.686Z"
   },
   {
    "duration": 83,
    "start_time": "2022-04-17T17:00:41.900Z"
   },
   {
    "duration": 10,
    "start_time": "2022-04-17T17:00:41.985Z"
   },
   {
    "duration": 13,
    "start_time": "2022-04-17T17:00:42.051Z"
   },
   {
    "duration": 23,
    "start_time": "2022-04-17T17:00:42.066Z"
   },
   {
    "duration": 93,
    "start_time": "2022-04-17T17:00:42.092Z"
   },
   {
    "duration": 65,
    "start_time": "2022-04-17T17:00:42.187Z"
   },
   {
    "duration": 21,
    "start_time": "2022-04-17T17:00:42.257Z"
   },
   {
    "duration": 11,
    "start_time": "2022-04-17T17:00:42.281Z"
   },
   {
    "duration": 65,
    "start_time": "2022-04-17T17:00:42.294Z"
   },
   {
    "duration": 6,
    "start_time": "2022-04-17T17:00:42.363Z"
   },
   {
    "duration": 3695,
    "start_time": "2022-04-17T17:00:42.371Z"
   },
   {
    "duration": 25,
    "start_time": "2022-04-17T17:00:46.068Z"
   },
   {
    "duration": 25,
    "start_time": "2022-04-17T17:00:46.095Z"
   },
   {
    "duration": 47,
    "start_time": "2022-04-17T17:00:46.122Z"
   },
   {
    "duration": 25,
    "start_time": "2022-04-17T17:00:46.172Z"
   },
   {
    "duration": 102,
    "start_time": "2022-04-17T17:00:46.200Z"
   },
   {
    "duration": 70,
    "start_time": "2022-04-17T17:00:46.304Z"
   },
   {
    "duration": 52,
    "start_time": "2022-04-17T17:00:46.377Z"
   },
   {
    "duration": 36,
    "start_time": "2022-04-17T17:00:46.432Z"
   },
   {
    "duration": 6,
    "start_time": "2022-04-17T17:00:46.471Z"
   },
   {
    "duration": 12,
    "start_time": "2022-04-17T17:00:46.479Z"
   },
   {
    "duration": 8,
    "start_time": "2022-04-17T17:00:46.493Z"
   },
   {
    "duration": 50,
    "start_time": "2022-04-17T17:00:46.503Z"
   },
   {
    "duration": 24,
    "start_time": "2022-04-17T17:00:46.556Z"
   },
   {
    "duration": 21,
    "start_time": "2022-04-17T17:00:46.583Z"
   },
   {
    "duration": 50,
    "start_time": "2022-04-17T17:00:46.606Z"
   },
   {
    "duration": 15,
    "start_time": "2022-04-17T17:01:13.573Z"
   },
   {
    "duration": 5,
    "start_time": "2022-04-17T17:01:24.563Z"
   },
   {
    "duration": 17,
    "start_time": "2022-04-17T17:01:26.991Z"
   },
   {
    "duration": 161,
    "start_time": "2022-04-17T17:18:47.329Z"
   },
   {
    "duration": 15,
    "start_time": "2022-04-17T17:18:51.823Z"
   },
   {
    "duration": 10,
    "start_time": "2022-04-17T17:19:36.496Z"
   },
   {
    "duration": 6,
    "start_time": "2022-04-17T17:19:44.793Z"
   },
   {
    "duration": 5,
    "start_time": "2022-04-17T17:19:48.463Z"
   },
   {
    "duration": 23,
    "start_time": "2022-04-17T17:45:55.556Z"
   },
   {
    "duration": 892,
    "start_time": "2022-04-17T17:46:11.308Z"
   },
   {
    "duration": 493,
    "start_time": "2022-04-17T17:46:12.202Z"
   },
   {
    "duration": 20,
    "start_time": "2022-04-17T17:46:12.697Z"
   },
   {
    "duration": 16,
    "start_time": "2022-04-17T17:46:12.720Z"
   },
   {
    "duration": 24,
    "start_time": "2022-04-17T17:46:12.738Z"
   },
   {
    "duration": 7,
    "start_time": "2022-04-17T17:46:12.764Z"
   },
   {
    "duration": 8,
    "start_time": "2022-04-17T17:46:12.773Z"
   },
   {
    "duration": 6,
    "start_time": "2022-04-17T17:46:12.783Z"
   },
   {
    "duration": 15,
    "start_time": "2022-04-17T17:46:12.791Z"
   },
   {
    "duration": 34,
    "start_time": "2022-04-17T17:46:12.851Z"
   },
   {
    "duration": 161,
    "start_time": "2022-04-17T17:46:12.887Z"
   },
   {
    "duration": 44,
    "start_time": "2022-04-17T17:46:13.052Z"
   },
   {
    "duration": 28,
    "start_time": "2022-04-17T17:46:13.098Z"
   },
   {
    "duration": 34,
    "start_time": "2022-04-17T17:46:13.128Z"
   },
   {
    "duration": 11,
    "start_time": "2022-04-17T17:46:13.165Z"
   },
   {
    "duration": 34,
    "start_time": "2022-04-17T17:46:13.179Z"
   },
   {
    "duration": 98,
    "start_time": "2022-04-17T17:46:13.216Z"
   },
   {
    "duration": 51,
    "start_time": "2022-04-17T17:46:13.316Z"
   },
   {
    "duration": 12,
    "start_time": "2022-04-17T17:46:13.370Z"
   },
   {
    "duration": 31,
    "start_time": "2022-04-17T17:46:13.384Z"
   },
   {
    "duration": 146,
    "start_time": "2022-04-17T17:46:13.417Z"
   },
   {
    "duration": 34,
    "start_time": "2022-04-17T17:46:13.565Z"
   },
   {
    "duration": 11,
    "start_time": "2022-04-17T17:46:13.602Z"
   },
   {
    "duration": 44,
    "start_time": "2022-04-17T17:46:13.616Z"
   },
   {
    "duration": 24,
    "start_time": "2022-04-17T17:46:13.662Z"
   },
   {
    "duration": 74,
    "start_time": "2022-04-17T17:46:13.689Z"
   },
   {
    "duration": 15,
    "start_time": "2022-04-17T17:46:13.766Z"
   },
   {
    "duration": 22,
    "start_time": "2022-04-17T17:46:13.788Z"
   },
   {
    "duration": 41,
    "start_time": "2022-04-17T17:46:13.813Z"
   },
   {
    "duration": 16,
    "start_time": "2022-04-17T17:46:13.857Z"
   },
   {
    "duration": 6,
    "start_time": "2022-04-17T17:46:13.875Z"
   },
   {
    "duration": 2228,
    "start_time": "2022-04-17T17:46:13.883Z"
   },
   {
    "duration": 25,
    "start_time": "2022-04-17T17:46:16.113Z"
   },
   {
    "duration": 17,
    "start_time": "2022-04-17T17:46:16.153Z"
   },
   {
    "duration": 17,
    "start_time": "2022-04-17T17:46:16.172Z"
   },
   {
    "duration": 20,
    "start_time": "2022-04-17T17:46:16.192Z"
   },
   {
    "duration": 56,
    "start_time": "2022-04-17T17:46:16.253Z"
   },
   {
    "duration": 70,
    "start_time": "2022-04-17T17:46:16.312Z"
   },
   {
    "duration": 41,
    "start_time": "2022-04-17T17:46:16.385Z"
   },
   {
    "duration": 43,
    "start_time": "2022-04-17T17:46:16.428Z"
   },
   {
    "duration": 6,
    "start_time": "2022-04-17T17:46:16.474Z"
   },
   {
    "duration": 13,
    "start_time": "2022-04-17T17:46:16.483Z"
   },
   {
    "duration": 1930,
    "start_time": "2022-04-17T17:46:16.499Z"
   },
   {
    "duration": 0,
    "start_time": "2022-04-17T17:46:18.431Z"
   },
   {
    "duration": 0,
    "start_time": "2022-04-17T17:46:18.433Z"
   },
   {
    "duration": 0,
    "start_time": "2022-04-17T17:46:18.434Z"
   },
   {
    "duration": 0,
    "start_time": "2022-04-17T17:46:18.452Z"
   },
   {
    "duration": 0,
    "start_time": "2022-04-17T17:46:18.453Z"
   },
   {
    "duration": 0,
    "start_time": "2022-04-17T17:46:18.454Z"
   },
   {
    "duration": 0,
    "start_time": "2022-04-17T17:46:18.456Z"
   },
   {
    "duration": 18,
    "start_time": "2022-04-17T17:46:30.978Z"
   },
   {
    "duration": 9,
    "start_time": "2022-04-17T17:46:48.744Z"
   },
   {
    "duration": 861,
    "start_time": "2022-04-17T17:46:52.848Z"
   },
   {
    "duration": 497,
    "start_time": "2022-04-17T17:46:53.712Z"
   },
   {
    "duration": 21,
    "start_time": "2022-04-17T17:46:54.211Z"
   },
   {
    "duration": 29,
    "start_time": "2022-04-17T17:46:54.234Z"
   },
   {
    "duration": 11,
    "start_time": "2022-04-17T17:46:54.265Z"
   },
   {
    "duration": 6,
    "start_time": "2022-04-17T17:46:54.278Z"
   },
   {
    "duration": 7,
    "start_time": "2022-04-17T17:46:54.286Z"
   },
   {
    "duration": 6,
    "start_time": "2022-04-17T17:46:54.295Z"
   },
   {
    "duration": 54,
    "start_time": "2022-04-17T17:46:54.303Z"
   },
   {
    "duration": 34,
    "start_time": "2022-04-17T17:46:54.361Z"
   },
   {
    "duration": 172,
    "start_time": "2022-04-17T17:46:54.397Z"
   },
   {
    "duration": 45,
    "start_time": "2022-04-17T17:46:54.572Z"
   },
   {
    "duration": 52,
    "start_time": "2022-04-17T17:46:54.620Z"
   },
   {
    "duration": 16,
    "start_time": "2022-04-17T17:46:54.674Z"
   },
   {
    "duration": 11,
    "start_time": "2022-04-17T17:46:54.693Z"
   },
   {
    "duration": 64,
    "start_time": "2022-04-17T17:46:54.707Z"
   },
   {
    "duration": 90,
    "start_time": "2022-04-17T17:46:54.773Z"
   },
   {
    "duration": 30,
    "start_time": "2022-04-17T17:46:54.866Z"
   },
   {
    "duration": 12,
    "start_time": "2022-04-17T17:46:54.898Z"
   },
   {
    "duration": 55,
    "start_time": "2022-04-17T17:46:54.912Z"
   },
   {
    "duration": 124,
    "start_time": "2022-04-17T17:46:54.969Z"
   },
   {
    "duration": 34,
    "start_time": "2022-04-17T17:46:55.095Z"
   },
   {
    "duration": 27,
    "start_time": "2022-04-17T17:46:55.131Z"
   },
   {
    "duration": 16,
    "start_time": "2022-04-17T17:46:55.161Z"
   },
   {
    "duration": 20,
    "start_time": "2022-04-17T17:46:55.180Z"
   },
   {
    "duration": 64,
    "start_time": "2022-04-17T17:46:55.202Z"
   },
   {
    "duration": 13,
    "start_time": "2022-04-17T17:46:55.268Z"
   },
   {
    "duration": 21,
    "start_time": "2022-04-17T17:46:55.286Z"
   },
   {
    "duration": 11,
    "start_time": "2022-04-17T17:46:55.309Z"
   },
   {
    "duration": 15,
    "start_time": "2022-04-17T17:46:55.351Z"
   },
   {
    "duration": 6,
    "start_time": "2022-04-17T17:46:55.368Z"
   },
   {
    "duration": 2071,
    "start_time": "2022-04-17T17:46:55.376Z"
   },
   {
    "duration": 25,
    "start_time": "2022-04-17T17:46:57.452Z"
   },
   {
    "duration": 19,
    "start_time": "2022-04-17T17:46:57.479Z"
   },
   {
    "duration": 23,
    "start_time": "2022-04-17T17:46:57.500Z"
   },
   {
    "duration": 23,
    "start_time": "2022-04-17T17:46:57.553Z"
   },
   {
    "duration": 82,
    "start_time": "2022-04-17T17:46:57.578Z"
   },
   {
    "duration": 43,
    "start_time": "2022-04-17T17:46:57.663Z"
   },
   {
    "duration": 70,
    "start_time": "2022-04-17T17:46:57.708Z"
   },
   {
    "duration": 23,
    "start_time": "2022-04-17T17:46:57.781Z"
   },
   {
    "duration": 6,
    "start_time": "2022-04-17T17:46:57.806Z"
   },
   {
    "duration": 42,
    "start_time": "2022-04-17T17:46:57.815Z"
   },
   {
    "duration": 10,
    "start_time": "2022-04-17T17:46:57.859Z"
   },
   {
    "duration": 22,
    "start_time": "2022-04-17T17:46:57.871Z"
   },
   {
    "duration": 176,
    "start_time": "2022-04-17T17:46:57.896Z"
   },
   {
    "duration": 0,
    "start_time": "2022-04-17T17:46:58.076Z"
   },
   {
    "duration": 0,
    "start_time": "2022-04-17T17:46:58.078Z"
   },
   {
    "duration": 0,
    "start_time": "2022-04-17T17:46:58.081Z"
   },
   {
    "duration": 0,
    "start_time": "2022-04-17T17:46:58.084Z"
   },
   {
    "duration": 0,
    "start_time": "2022-04-17T17:46:58.086Z"
   },
   {
    "duration": 18,
    "start_time": "2022-04-17T17:48:09.220Z"
   },
   {
    "duration": 826,
    "start_time": "2022-04-17T17:48:14.067Z"
   },
   {
    "duration": 1301,
    "start_time": "2022-04-17T17:48:14.895Z"
   },
   {
    "duration": 79,
    "start_time": "2022-04-17T17:48:16.199Z"
   },
   {
    "duration": 80,
    "start_time": "2022-04-17T17:48:16.282Z"
   },
   {
    "duration": 13,
    "start_time": "2022-04-17T17:48:16.365Z"
   },
   {
    "duration": 8,
    "start_time": "2022-04-17T17:48:16.380Z"
   },
   {
    "duration": 61,
    "start_time": "2022-04-17T17:48:16.390Z"
   },
   {
    "duration": 6,
    "start_time": "2022-04-17T17:48:16.454Z"
   },
   {
    "duration": 13,
    "start_time": "2022-04-17T17:48:16.462Z"
   },
   {
    "duration": 82,
    "start_time": "2022-04-17T17:48:16.479Z"
   },
   {
    "duration": 304,
    "start_time": "2022-04-17T17:48:16.564Z"
   },
   {
    "duration": 97,
    "start_time": "2022-04-17T17:48:16.870Z"
   },
   {
    "duration": 28,
    "start_time": "2022-04-17T17:48:16.969Z"
   },
   {
    "duration": 64,
    "start_time": "2022-04-17T17:48:17.000Z"
   },
   {
    "duration": 9,
    "start_time": "2022-04-17T17:48:17.066Z"
   },
   {
    "duration": 87,
    "start_time": "2022-04-17T17:48:17.077Z"
   },
   {
    "duration": 124,
    "start_time": "2022-04-17T17:48:17.166Z"
   },
   {
    "duration": 86,
    "start_time": "2022-04-17T17:48:17.292Z"
   },
   {
    "duration": 11,
    "start_time": "2022-04-17T17:48:17.380Z"
   },
   {
    "duration": 82,
    "start_time": "2022-04-17T17:48:17.393Z"
   },
   {
    "duration": 208,
    "start_time": "2022-04-17T17:48:17.477Z"
   },
   {
    "duration": 85,
    "start_time": "2022-04-17T17:48:17.688Z"
   },
   {
    "duration": 11,
    "start_time": "2022-04-17T17:48:17.775Z"
   },
   {
    "duration": 70,
    "start_time": "2022-04-17T17:48:17.789Z"
   },
   {
    "duration": 22,
    "start_time": "2022-04-17T17:48:17.862Z"
   },
   {
    "duration": 94,
    "start_time": "2022-04-17T17:48:17.886Z"
   },
   {
    "duration": 14,
    "start_time": "2022-04-17T17:48:17.982Z"
   },
   {
    "duration": 22,
    "start_time": "2022-04-17T17:48:18.056Z"
   },
   {
    "duration": 12,
    "start_time": "2022-04-17T17:48:18.081Z"
   },
   {
    "duration": 70,
    "start_time": "2022-04-17T17:48:18.095Z"
   },
   {
    "duration": 7,
    "start_time": "2022-04-17T17:48:18.167Z"
   },
   {
    "duration": 2262,
    "start_time": "2022-04-17T17:48:18.176Z"
   },
   {
    "duration": 30,
    "start_time": "2022-04-17T17:48:20.440Z"
   },
   {
    "duration": 17,
    "start_time": "2022-04-17T17:48:20.472Z"
   },
   {
    "duration": 17,
    "start_time": "2022-04-17T17:48:20.492Z"
   },
   {
    "duration": 57,
    "start_time": "2022-04-17T17:48:20.511Z"
   },
   {
    "duration": 60,
    "start_time": "2022-04-17T17:48:20.570Z"
   },
   {
    "duration": 60,
    "start_time": "2022-04-17T17:48:20.632Z"
   },
   {
    "duration": 38,
    "start_time": "2022-04-17T17:48:20.694Z"
   },
   {
    "duration": 35,
    "start_time": "2022-04-17T17:48:20.734Z"
   },
   {
    "duration": 6,
    "start_time": "2022-04-17T17:48:20.771Z"
   },
   {
    "duration": 20,
    "start_time": "2022-04-17T17:48:20.779Z"
   },
   {
    "duration": 9,
    "start_time": "2022-04-17T17:48:20.801Z"
   },
   {
    "duration": 44,
    "start_time": "2022-04-17T17:48:20.812Z"
   },
   {
    "duration": 17,
    "start_time": "2022-04-17T17:48:20.858Z"
   },
   {
    "duration": 5,
    "start_time": "2022-04-17T17:48:20.877Z"
   },
   {
    "duration": 19,
    "start_time": "2022-04-17T17:48:20.884Z"
   },
   {
    "duration": 48,
    "start_time": "2022-04-17T17:48:20.905Z"
   },
   {
    "duration": 5,
    "start_time": "2022-04-17T17:48:20.955Z"
   },
   {
    "duration": 120,
    "start_time": "2022-04-17T17:48:20.962Z"
   },
   {
    "duration": 175,
    "start_time": "2022-04-17T18:04:41.230Z"
   },
   {
    "duration": 7,
    "start_time": "2022-04-17T18:04:47.398Z"
   },
   {
    "duration": 13,
    "start_time": "2022-04-17T18:06:28.965Z"
   },
   {
    "duration": 10,
    "start_time": "2022-04-17T18:06:32.205Z"
   },
   {
    "duration": 9,
    "start_time": "2022-04-17T18:06:36.202Z"
   },
   {
    "duration": 2331,
    "start_time": "2022-04-17T18:07:27.150Z"
   },
   {
    "duration": 1971,
    "start_time": "2022-04-17T18:07:43.212Z"
   },
   {
    "duration": 931,
    "start_time": "2022-04-17T18:07:52.626Z"
   },
   {
    "duration": 720,
    "start_time": "2022-04-17T18:07:53.559Z"
   },
   {
    "duration": 70,
    "start_time": "2022-04-17T18:07:54.282Z"
   },
   {
    "duration": 17,
    "start_time": "2022-04-17T18:07:54.355Z"
   },
   {
    "duration": 8,
    "start_time": "2022-04-17T18:07:54.374Z"
   },
   {
    "duration": 6,
    "start_time": "2022-04-17T18:07:54.385Z"
   },
   {
    "duration": 60,
    "start_time": "2022-04-17T18:07:54.393Z"
   },
   {
    "duration": 7,
    "start_time": "2022-04-17T18:07:54.455Z"
   },
   {
    "duration": 15,
    "start_time": "2022-04-17T18:07:54.463Z"
   },
   {
    "duration": 89,
    "start_time": "2022-04-17T18:07:54.482Z"
   },
   {
    "duration": 305,
    "start_time": "2022-04-17T18:07:54.573Z"
   },
   {
    "duration": 96,
    "start_time": "2022-04-17T18:07:54.880Z"
   },
   {
    "duration": 76,
    "start_time": "2022-04-17T18:07:54.978Z"
   },
   {
    "duration": 15,
    "start_time": "2022-04-17T18:07:55.056Z"
   },
   {
    "duration": 10,
    "start_time": "2022-04-17T18:07:55.073Z"
   },
   {
    "duration": 78,
    "start_time": "2022-04-17T18:07:55.085Z"
   },
   {
    "duration": 122,
    "start_time": "2022-04-17T18:07:55.165Z"
   },
   {
    "duration": 81,
    "start_time": "2022-04-17T18:07:55.289Z"
   },
   {
    "duration": 11,
    "start_time": "2022-04-17T18:07:55.373Z"
   },
   {
    "duration": 88,
    "start_time": "2022-04-17T18:07:55.386Z"
   },
   {
    "duration": 212,
    "start_time": "2022-04-17T18:07:55.476Z"
   },
   {
    "duration": 90,
    "start_time": "2022-04-17T18:07:55.690Z"
   },
   {
    "duration": 11,
    "start_time": "2022-04-17T18:07:55.782Z"
   },
   {
    "duration": 64,
    "start_time": "2022-04-17T18:07:55.795Z"
   },
   {
    "duration": 21,
    "start_time": "2022-04-17T18:07:55.862Z"
   },
   {
    "duration": 95,
    "start_time": "2022-04-17T18:07:55.885Z"
   },
   {
    "duration": 13,
    "start_time": "2022-04-17T18:07:55.982Z"
   },
   {
    "duration": 22,
    "start_time": "2022-04-17T18:07:56.055Z"
   },
   {
    "duration": 12,
    "start_time": "2022-04-17T18:07:56.079Z"
   },
   {
    "duration": 71,
    "start_time": "2022-04-17T18:07:56.093Z"
   },
   {
    "duration": 7,
    "start_time": "2022-04-17T18:07:56.166Z"
   },
   {
    "duration": 2561,
    "start_time": "2022-04-17T18:07:56.175Z"
   },
   {
    "duration": 31,
    "start_time": "2022-04-17T18:07:58.738Z"
   },
   {
    "duration": 19,
    "start_time": "2022-04-17T18:07:58.771Z"
   },
   {
    "duration": 17,
    "start_time": "2022-04-17T18:07:58.792Z"
   },
   {
    "duration": 48,
    "start_time": "2022-04-17T18:07:58.812Z"
   },
   {
    "duration": 66,
    "start_time": "2022-04-17T18:07:58.863Z"
   },
   {
    "duration": 55,
    "start_time": "2022-04-17T18:07:58.931Z"
   },
   {
    "duration": 39,
    "start_time": "2022-04-17T18:07:58.988Z"
   },
   {
    "duration": 38,
    "start_time": "2022-04-17T18:07:59.030Z"
   },
   {
    "duration": 12,
    "start_time": "2022-04-17T18:07:59.070Z"
   },
   {
    "duration": 19,
    "start_time": "2022-04-17T18:07:59.084Z"
   },
   {
    "duration": 16,
    "start_time": "2022-04-17T18:07:59.105Z"
   },
   {
    "duration": 36,
    "start_time": "2022-04-17T18:07:59.123Z"
   },
   {
    "duration": 18,
    "start_time": "2022-04-17T18:07:59.161Z"
   },
   {
    "duration": 9,
    "start_time": "2022-04-17T18:07:59.181Z"
   },
   {
    "duration": 25,
    "start_time": "2022-04-17T18:07:59.193Z"
   },
   {
    "duration": 33,
    "start_time": "2022-04-17T18:07:59.220Z"
   },
   {
    "duration": 2444,
    "start_time": "2022-04-17T18:07:59.255Z"
   },
   {
    "duration": 0,
    "start_time": "2022-04-17T18:08:01.702Z"
   },
   {
    "duration": 8,
    "start_time": "2022-04-17T18:08:20.377Z"
   },
   {
    "duration": 8,
    "start_time": "2022-04-17T18:08:24.935Z"
   },
   {
    "duration": 10,
    "start_time": "2022-04-17T18:10:16.794Z"
   },
   {
    "duration": 19,
    "start_time": "2022-04-17T18:10:43.674Z"
   },
   {
    "duration": 19,
    "start_time": "2022-04-17T18:11:16.459Z"
   },
   {
    "duration": 1805,
    "start_time": "2022-04-17T18:11:22.800Z"
   },
   {
    "duration": 10,
    "start_time": "2022-04-17T18:12:52.586Z"
   },
   {
    "duration": 19,
    "start_time": "2022-04-17T18:12:54.242Z"
   },
   {
    "duration": 1862,
    "start_time": "2022-04-17T18:13:39.878Z"
   },
   {
    "duration": 10,
    "start_time": "2022-04-17T18:14:18.831Z"
   },
   {
    "duration": 20,
    "start_time": "2022-04-17T18:14:19.548Z"
   },
   {
    "duration": 8,
    "start_time": "2022-04-17T18:15:14.542Z"
   },
   {
    "duration": 17,
    "start_time": "2022-04-17T18:15:15.526Z"
   },
   {
    "duration": 146,
    "start_time": "2022-04-17T18:16:32.321Z"
   },
   {
    "duration": 16,
    "start_time": "2022-04-17T18:17:04.621Z"
   },
   {
    "duration": 16,
    "start_time": "2022-04-17T18:17:13.433Z"
   },
   {
    "duration": 15,
    "start_time": "2022-04-17T18:17:45.995Z"
   },
   {
    "duration": 22,
    "start_time": "2022-04-17T18:19:45.691Z"
   },
   {
    "duration": 21,
    "start_time": "2022-04-17T18:20:00.336Z"
   },
   {
    "duration": 19,
    "start_time": "2022-04-17T18:20:13.520Z"
   },
   {
    "duration": 149,
    "start_time": "2022-04-17T18:20:47.681Z"
   },
   {
    "duration": 22,
    "start_time": "2022-04-17T18:20:55.128Z"
   },
   {
    "duration": 32,
    "start_time": "2022-04-17T18:22:26.220Z"
   },
   {
    "duration": 16,
    "start_time": "2022-04-17T18:22:59.796Z"
   },
   {
    "duration": 14,
    "start_time": "2022-04-17T18:25:01.823Z"
   },
   {
    "duration": 15,
    "start_time": "2022-04-17T18:25:42.002Z"
   },
   {
    "duration": 22,
    "start_time": "2022-04-17T18:25:55.585Z"
   },
   {
    "duration": 15,
    "start_time": "2022-04-17T18:26:06.032Z"
   },
   {
    "duration": 7,
    "start_time": "2022-04-17T18:29:16.151Z"
   },
   {
    "duration": 1901,
    "start_time": "2022-04-17T18:29:42.404Z"
   },
   {
    "duration": 1651,
    "start_time": "2022-04-17T18:29:54.121Z"
   },
   {
    "duration": 6,
    "start_time": "2022-04-17T18:31:06.079Z"
   },
   {
    "duration": 111,
    "start_time": "2022-04-17T18:31:14.620Z"
   },
   {
    "duration": 115,
    "start_time": "2022-04-17T18:31:22.480Z"
   },
   {
    "duration": 121,
    "start_time": "2022-04-17T18:31:34.263Z"
   },
   {
    "duration": 130,
    "start_time": "2022-04-17T18:31:40.737Z"
   },
   {
    "duration": 125,
    "start_time": "2022-04-17T18:31:43.633Z"
   },
   {
    "duration": 5,
    "start_time": "2022-04-17T18:31:54.454Z"
   },
   {
    "duration": 1432,
    "start_time": "2022-04-17T18:32:02.113Z"
   },
   {
    "duration": 874,
    "start_time": "2022-04-17T18:32:57.271Z"
   },
   {
    "duration": 522,
    "start_time": "2022-04-17T18:32:58.148Z"
   },
   {
    "duration": 22,
    "start_time": "2022-04-17T18:32:58.672Z"
   },
   {
    "duration": 17,
    "start_time": "2022-04-17T18:32:58.698Z"
   },
   {
    "duration": 34,
    "start_time": "2022-04-17T18:32:58.718Z"
   },
   {
    "duration": 8,
    "start_time": "2022-04-17T18:32:58.755Z"
   },
   {
    "duration": 26,
    "start_time": "2022-04-17T18:32:58.765Z"
   },
   {
    "duration": 8,
    "start_time": "2022-04-17T18:32:58.793Z"
   },
   {
    "duration": 31,
    "start_time": "2022-04-17T18:32:58.804Z"
   },
   {
    "duration": 62,
    "start_time": "2022-04-17T18:32:58.841Z"
   },
   {
    "duration": 220,
    "start_time": "2022-04-17T18:32:58.905Z"
   },
   {
    "duration": 78,
    "start_time": "2022-04-17T18:32:59.127Z"
   },
   {
    "duration": 50,
    "start_time": "2022-04-17T18:32:59.208Z"
   },
   {
    "duration": 14,
    "start_time": "2022-04-17T18:32:59.261Z"
   },
   {
    "duration": 10,
    "start_time": "2022-04-17T18:32:59.278Z"
   },
   {
    "duration": 25,
    "start_time": "2022-04-17T18:32:59.290Z"
   },
   {
    "duration": 109,
    "start_time": "2022-04-17T18:32:59.318Z"
   },
   {
    "duration": 47,
    "start_time": "2022-04-17T18:32:59.430Z"
   },
   {
    "duration": 17,
    "start_time": "2022-04-17T18:32:59.480Z"
   },
   {
    "duration": 77,
    "start_time": "2022-04-17T18:32:59.500Z"
   },
   {
    "duration": 129,
    "start_time": "2022-04-17T18:32:59.579Z"
   },
   {
    "duration": 46,
    "start_time": "2022-04-17T18:32:59.710Z"
   },
   {
    "duration": 11,
    "start_time": "2022-04-17T18:32:59.759Z"
   },
   {
    "duration": 19,
    "start_time": "2022-04-17T18:32:59.772Z"
   },
   {
    "duration": 22,
    "start_time": "2022-04-17T18:32:59.793Z"
   },
   {
    "duration": 88,
    "start_time": "2022-04-17T18:32:59.818Z"
   },
   {
    "duration": 14,
    "start_time": "2022-04-17T18:32:59.910Z"
   },
   {
    "duration": 32,
    "start_time": "2022-04-17T18:32:59.955Z"
   },
   {
    "duration": 27,
    "start_time": "2022-04-17T18:32:59.989Z"
   },
   {
    "duration": 35,
    "start_time": "2022-04-17T18:33:00.018Z"
   },
   {
    "duration": 13,
    "start_time": "2022-04-17T18:33:00.056Z"
   },
   {
    "duration": 2454,
    "start_time": "2022-04-17T18:33:00.072Z"
   },
   {
    "duration": 35,
    "start_time": "2022-04-17T18:33:02.528Z"
   },
   {
    "duration": 19,
    "start_time": "2022-04-17T18:33:02.565Z"
   },
   {
    "duration": 17,
    "start_time": "2022-04-17T18:33:02.586Z"
   },
   {
    "duration": 52,
    "start_time": "2022-04-17T18:33:02.605Z"
   },
   {
    "duration": 59,
    "start_time": "2022-04-17T18:33:02.659Z"
   },
   {
    "duration": 62,
    "start_time": "2022-04-17T18:33:02.720Z"
   },
   {
    "duration": 39,
    "start_time": "2022-04-17T18:33:02.785Z"
   },
   {
    "duration": 48,
    "start_time": "2022-04-17T18:33:02.826Z"
   },
   {
    "duration": 6,
    "start_time": "2022-04-17T18:33:02.876Z"
   },
   {
    "duration": 13,
    "start_time": "2022-04-17T18:33:02.884Z"
   },
   {
    "duration": 8,
    "start_time": "2022-04-17T18:33:02.900Z"
   },
   {
    "duration": 53,
    "start_time": "2022-04-17T18:33:02.910Z"
   },
   {
    "duration": 19,
    "start_time": "2022-04-17T18:33:02.965Z"
   },
   {
    "duration": 5,
    "start_time": "2022-04-17T18:33:02.986Z"
   },
   {
    "duration": 21,
    "start_time": "2022-04-17T18:33:02.993Z"
   },
   {
    "duration": 11,
    "start_time": "2022-04-17T18:33:03.051Z"
   },
   {
    "duration": 19,
    "start_time": "2022-04-17T18:33:03.064Z"
   },
   {
    "duration": 2338,
    "start_time": "2022-04-17T18:33:03.085Z"
   },
   {
    "duration": 125,
    "start_time": "2022-04-18T08:11:30.109Z"
   },
   {
    "duration": 1936,
    "start_time": "2022-04-18T08:11:36.529Z"
   },
   {
    "duration": 999,
    "start_time": "2022-04-18T08:11:38.468Z"
   },
   {
    "duration": 21,
    "start_time": "2022-04-18T08:11:39.469Z"
   },
   {
    "duration": 72,
    "start_time": "2022-04-18T08:11:39.493Z"
   },
   {
    "duration": 11,
    "start_time": "2022-04-18T08:11:39.567Z"
   },
   {
    "duration": 16,
    "start_time": "2022-04-18T08:11:39.579Z"
   },
   {
    "duration": 56,
    "start_time": "2022-04-18T08:11:39.597Z"
   },
   {
    "duration": 11,
    "start_time": "2022-04-18T08:11:39.656Z"
   },
   {
    "duration": 17,
    "start_time": "2022-04-18T08:11:39.669Z"
   },
   {
    "duration": 83,
    "start_time": "2022-04-18T08:11:39.690Z"
   },
   {
    "duration": 250,
    "start_time": "2022-04-18T08:11:39.775Z"
   },
   {
    "duration": 64,
    "start_time": "2022-04-18T08:11:40.027Z"
   },
   {
    "duration": 28,
    "start_time": "2022-04-18T08:11:40.094Z"
   },
   {
    "duration": 39,
    "start_time": "2022-04-18T08:11:40.124Z"
   },
   {
    "duration": 10,
    "start_time": "2022-04-18T08:11:40.165Z"
   },
   {
    "duration": 25,
    "start_time": "2022-04-18T08:11:40.177Z"
   },
   {
    "duration": 104,
    "start_time": "2022-04-18T08:11:40.205Z"
   },
   {
    "duration": 43,
    "start_time": "2022-04-18T08:11:40.311Z"
   },
   {
    "duration": 12,
    "start_time": "2022-04-18T08:11:40.356Z"
   },
   {
    "duration": 36,
    "start_time": "2022-04-18T08:11:40.370Z"
   },
   {
    "duration": 127,
    "start_time": "2022-04-18T08:11:40.408Z"
   },
   {
    "duration": 37,
    "start_time": "2022-04-18T08:11:40.537Z"
   },
   {
    "duration": 10,
    "start_time": "2022-04-18T08:11:40.576Z"
   },
   {
    "duration": 18,
    "start_time": "2022-04-18T08:11:40.588Z"
   },
   {
    "duration": 50,
    "start_time": "2022-04-18T08:11:40.608Z"
   },
   {
    "duration": 39,
    "start_time": "2022-04-18T08:11:40.660Z"
   },
   {
    "duration": 13,
    "start_time": "2022-04-18T08:11:40.701Z"
   },
   {
    "duration": 46,
    "start_time": "2022-04-18T08:11:40.719Z"
   },
   {
    "duration": 11,
    "start_time": "2022-04-18T08:11:40.767Z"
   },
   {
    "duration": 18,
    "start_time": "2022-04-18T08:11:40.780Z"
   },
   {
    "duration": 7,
    "start_time": "2022-04-18T08:11:40.800Z"
   },
   {
    "duration": 2060,
    "start_time": "2022-04-18T08:11:40.809Z"
   },
   {
    "duration": 25,
    "start_time": "2022-04-18T08:11:42.871Z"
   },
   {
    "duration": 18,
    "start_time": "2022-04-18T08:11:42.898Z"
   },
   {
    "duration": 42,
    "start_time": "2022-04-18T08:11:42.918Z"
   },
   {
    "duration": 24,
    "start_time": "2022-04-18T08:11:42.962Z"
   },
   {
    "duration": 70,
    "start_time": "2022-04-18T08:11:42.988Z"
   },
   {
    "duration": 43,
    "start_time": "2022-04-18T08:11:43.061Z"
   },
   {
    "duration": 71,
    "start_time": "2022-04-18T08:11:43.107Z"
   },
   {
    "duration": 22,
    "start_time": "2022-04-18T08:11:43.181Z"
   },
   {
    "duration": 5,
    "start_time": "2022-04-18T08:11:43.205Z"
   },
   {
    "duration": 40,
    "start_time": "2022-04-18T08:11:43.212Z"
   },
   {
    "duration": 9,
    "start_time": "2022-04-18T08:11:43.254Z"
   },
   {
    "duration": 23,
    "start_time": "2022-04-18T08:11:43.265Z"
   },
   {
    "duration": 18,
    "start_time": "2022-04-18T08:11:43.290Z"
   },
   {
    "duration": 4,
    "start_time": "2022-04-18T08:11:43.310Z"
   },
   {
    "duration": 16,
    "start_time": "2022-04-18T08:11:43.352Z"
   },
   {
    "duration": 17,
    "start_time": "2022-04-18T08:11:43.371Z"
   },
   {
    "duration": 11,
    "start_time": "2022-04-18T08:11:43.390Z"
   },
   {
    "duration": 1561,
    "start_time": "2022-04-18T08:11:43.403Z"
   },
   {
    "duration": 889,
    "start_time": "2022-04-18T17:16:54.890Z"
   },
   {
    "duration": 876,
    "start_time": "2022-04-18T17:16:55.782Z"
   },
   {
    "duration": 18,
    "start_time": "2022-04-18T17:16:56.662Z"
   },
   {
    "duration": 26,
    "start_time": "2022-04-18T17:16:56.682Z"
   },
   {
    "duration": 10,
    "start_time": "2022-04-18T17:16:56.710Z"
   },
   {
    "duration": 13,
    "start_time": "2022-04-18T17:16:56.721Z"
   },
   {
    "duration": 9,
    "start_time": "2022-04-18T17:16:56.736Z"
   },
   {
    "duration": 6,
    "start_time": "2022-04-18T17:16:56.747Z"
   },
   {
    "duration": 26,
    "start_time": "2022-04-18T17:16:56.755Z"
   },
   {
    "duration": 51,
    "start_time": "2022-04-18T17:16:56.783Z"
   },
   {
    "duration": 240,
    "start_time": "2022-04-18T17:16:56.837Z"
   },
   {
    "duration": 104,
    "start_time": "2022-04-18T17:16:57.079Z"
   },
   {
    "duration": 32,
    "start_time": "2022-04-18T17:16:57.189Z"
   },
   {
    "duration": 68,
    "start_time": "2022-04-18T17:16:57.222Z"
   },
   {
    "duration": 17,
    "start_time": "2022-04-18T17:16:57.294Z"
   },
   {
    "duration": 83,
    "start_time": "2022-04-18T17:16:57.313Z"
   },
   {
    "duration": 189,
    "start_time": "2022-04-18T17:16:57.399Z"
   },
   {
    "duration": 83,
    "start_time": "2022-04-18T17:16:57.593Z"
   },
   {
    "duration": 17,
    "start_time": "2022-04-18T17:16:57.679Z"
   },
   {
    "duration": 89,
    "start_time": "2022-04-18T17:16:57.698Z"
   },
   {
    "duration": 206,
    "start_time": "2022-04-18T17:16:57.789Z"
   },
   {
    "duration": 89,
    "start_time": "2022-04-18T17:16:58.000Z"
   },
   {
    "duration": 12,
    "start_time": "2022-04-18T17:16:58.091Z"
   },
   {
    "duration": 14,
    "start_time": "2022-04-18T17:16:58.105Z"
   },
   {
    "duration": 74,
    "start_time": "2022-04-18T17:16:58.121Z"
   },
   {
    "duration": 107,
    "start_time": "2022-04-18T17:16:58.198Z"
   },
   {
    "duration": 10,
    "start_time": "2022-04-18T17:16:58.307Z"
   },
   {
    "duration": 32,
    "start_time": "2022-04-18T17:16:58.373Z"
   },
   {
    "duration": 10,
    "start_time": "2022-04-18T17:16:58.407Z"
   },
   {
    "duration": 64,
    "start_time": "2022-04-18T17:16:58.419Z"
   },
   {
    "duration": 18,
    "start_time": "2022-04-18T17:16:58.485Z"
   },
   {
    "duration": 1743,
    "start_time": "2022-04-18T17:16:58.505Z"
   },
   {
    "duration": 26,
    "start_time": "2022-04-18T17:17:00.251Z"
   },
   {
    "duration": 29,
    "start_time": "2022-04-18T17:17:00.280Z"
   },
   {
    "duration": 31,
    "start_time": "2022-04-18T17:17:00.310Z"
   },
   {
    "duration": 22,
    "start_time": "2022-04-18T17:17:00.342Z"
   },
   {
    "duration": 48,
    "start_time": "2022-04-18T17:17:00.366Z"
   },
   {
    "duration": 33,
    "start_time": "2022-04-18T17:17:00.416Z"
   },
   {
    "duration": 48,
    "start_time": "2022-04-18T17:17:00.450Z"
   },
   {
    "duration": 16,
    "start_time": "2022-04-18T17:17:00.502Z"
   },
   {
    "duration": 17,
    "start_time": "2022-04-18T17:17:00.520Z"
   },
   {
    "duration": 13,
    "start_time": "2022-04-18T17:17:00.539Z"
   },
   {
    "duration": 8,
    "start_time": "2022-04-18T17:17:00.554Z"
   },
   {
    "duration": 34,
    "start_time": "2022-04-18T17:17:00.574Z"
   },
   {
    "duration": 26,
    "start_time": "2022-04-18T17:17:00.610Z"
   },
   {
    "duration": 16,
    "start_time": "2022-04-18T17:17:00.638Z"
   },
   {
    "duration": 14,
    "start_time": "2022-04-18T17:17:00.656Z"
   },
   {
    "duration": 31,
    "start_time": "2022-04-18T17:17:00.673Z"
   },
   {
    "duration": 11,
    "start_time": "2022-04-18T17:17:00.706Z"
   },
   {
    "duration": 2889,
    "start_time": "2022-04-18T17:17:00.719Z"
   },
   {
    "duration": 92,
    "start_time": "2022-04-18T17:17:59.877Z"
   },
   {
    "duration": 1207,
    "start_time": "2022-04-18T17:18:01.391Z"
   },
   {
    "duration": 1183,
    "start_time": "2022-04-18T17:18:23.298Z"
   },
   {
    "duration": 64,
    "start_time": "2022-04-18T17:19:54.606Z"
   },
   {
    "duration": 17,
    "start_time": "2022-04-18T17:38:55.562Z"
   },
   {
    "duration": 89,
    "start_time": "2022-04-18T17:39:50.771Z"
   },
   {
    "duration": 108,
    "start_time": "2022-04-18T17:39:58.721Z"
   },
   {
    "duration": 97,
    "start_time": "2022-04-18T17:40:05.338Z"
   },
   {
    "duration": 129,
    "start_time": "2022-04-18T17:40:12.420Z"
   },
   {
    "duration": 780,
    "start_time": "2022-04-18T17:40:14.385Z"
   },
   {
    "duration": 7,
    "start_time": "2022-04-18T17:40:57.229Z"
   },
   {
    "duration": 18,
    "start_time": "2022-04-18T17:40:58.870Z"
   },
   {
    "duration": 5,
    "start_time": "2022-04-18T17:41:24.337Z"
   },
   {
    "duration": 58,
    "start_time": "2022-04-18T17:41:24.992Z"
   },
   {
    "duration": 13,
    "start_time": "2022-04-18T17:41:26.248Z"
   },
   {
    "duration": 6,
    "start_time": "2022-04-18T17:55:17.308Z"
   },
   {
    "duration": 15,
    "start_time": "2022-04-18T17:55:19.030Z"
   },
   {
    "duration": 10,
    "start_time": "2022-04-18T17:58:29.400Z"
   },
   {
    "duration": 8,
    "start_time": "2022-04-18T17:58:38.457Z"
   },
   {
    "duration": 5,
    "start_time": "2022-04-18T17:59:07.987Z"
   },
   {
    "duration": 67,
    "start_time": "2022-04-18T17:59:09.761Z"
   },
   {
    "duration": 12,
    "start_time": "2022-04-18T17:59:11.502Z"
   },
   {
    "duration": 168,
    "start_time": "2022-04-18T18:00:03.272Z"
   },
   {
    "duration": 40457,
    "start_time": "2022-04-18T18:12:48.561Z"
   },
   {
    "duration": 260,
    "start_time": "2022-04-18T18:13:43.704Z"
   },
   {
    "duration": 285,
    "start_time": "2022-04-18T18:14:05.853Z"
   },
   {
    "duration": 516,
    "start_time": "2022-04-18T18:14:13.246Z"
   },
   {
    "duration": 298,
    "start_time": "2022-04-18T18:14:16.448Z"
   },
   {
    "duration": 285,
    "start_time": "2022-04-18T18:14:32.024Z"
   },
   {
    "duration": 291,
    "start_time": "2022-04-18T18:14:36.049Z"
   },
   {
    "duration": 248,
    "start_time": "2022-04-18T18:42:13.744Z"
   },
   {
    "duration": 292,
    "start_time": "2022-04-18T18:42:21.389Z"
   },
   {
    "duration": 286,
    "start_time": "2022-04-18T18:42:48.235Z"
   },
   {
    "duration": 258,
    "start_time": "2022-04-18T19:05:23.934Z"
   },
   {
    "duration": 264,
    "start_time": "2022-04-18T19:05:31.617Z"
   },
   {
    "duration": 27,
    "start_time": "2022-04-18T19:12:29.201Z"
   },
   {
    "duration": 250,
    "start_time": "2022-04-18T19:14:51.414Z"
   },
   {
    "duration": 261,
    "start_time": "2022-04-18T19:14:55.403Z"
   },
   {
    "duration": 270,
    "start_time": "2022-04-18T19:15:21.049Z"
   },
   {
    "duration": 643,
    "start_time": "2022-04-18T19:15:29.848Z"
   },
   {
    "duration": 242,
    "start_time": "2022-04-18T19:15:38.909Z"
   },
   {
    "duration": 95,
    "start_time": "2022-04-18T19:41:25.071Z"
   },
   {
    "duration": 28,
    "start_time": "2022-04-18T19:41:29.298Z"
   },
   {
    "duration": 38,
    "start_time": "2022-04-18T19:41:43.869Z"
   },
   {
    "duration": 36,
    "start_time": "2022-04-18T19:41:47.960Z"
   },
   {
    "duration": 27,
    "start_time": "2022-04-18T19:42:09.908Z"
   },
   {
    "duration": 16,
    "start_time": "2022-04-18T19:43:04.572Z"
   },
   {
    "duration": 16,
    "start_time": "2022-04-18T19:43:12.440Z"
   },
   {
    "duration": 23,
    "start_time": "2022-04-18T19:43:22.686Z"
   },
   {
    "duration": 15,
    "start_time": "2022-04-18T19:56:02.597Z"
   },
   {
    "duration": 15,
    "start_time": "2022-04-18T19:56:26.205Z"
   },
   {
    "duration": 51,
    "start_time": "2022-04-19T18:18:25.438Z"
   },
   {
    "duration": 894,
    "start_time": "2022-04-19T18:18:29.977Z"
   },
   {
    "duration": 411,
    "start_time": "2022-04-19T18:18:30.874Z"
   },
   {
    "duration": 17,
    "start_time": "2022-04-19T18:18:31.287Z"
   },
   {
    "duration": 26,
    "start_time": "2022-04-19T18:18:31.307Z"
   },
   {
    "duration": 28,
    "start_time": "2022-04-19T18:18:31.336Z"
   },
   {
    "duration": 24,
    "start_time": "2022-04-19T18:18:31.366Z"
   },
   {
    "duration": 14,
    "start_time": "2022-04-19T18:18:31.392Z"
   },
   {
    "duration": 21,
    "start_time": "2022-04-19T18:18:31.408Z"
   },
   {
    "duration": 20,
    "start_time": "2022-04-19T18:18:31.431Z"
   },
   {
    "duration": 33,
    "start_time": "2022-04-19T18:18:31.454Z"
   },
   {
    "duration": 107,
    "start_time": "2022-04-19T18:18:31.489Z"
   },
   {
    "duration": 32,
    "start_time": "2022-04-19T18:18:31.597Z"
   },
   {
    "duration": 20,
    "start_time": "2022-04-19T18:18:31.630Z"
   },
   {
    "duration": 16,
    "start_time": "2022-04-19T18:18:31.652Z"
   },
   {
    "duration": 27,
    "start_time": "2022-04-19T18:18:31.670Z"
   },
   {
    "duration": 20,
    "start_time": "2022-04-19T18:18:31.698Z"
   },
   {
    "duration": 61,
    "start_time": "2022-04-19T18:18:31.720Z"
   },
   {
    "duration": 30,
    "start_time": "2022-04-19T18:18:31.783Z"
   },
   {
    "duration": 8,
    "start_time": "2022-04-19T18:18:31.815Z"
   },
   {
    "duration": 40,
    "start_time": "2022-04-19T18:18:31.825Z"
   },
   {
    "duration": 72,
    "start_time": "2022-04-19T18:18:31.867Z"
   },
   {
    "duration": 25,
    "start_time": "2022-04-19T18:18:31.941Z"
   },
   {
    "duration": 24,
    "start_time": "2022-04-19T18:18:31.968Z"
   },
   {
    "duration": 9,
    "start_time": "2022-04-19T18:18:31.995Z"
   },
   {
    "duration": 17,
    "start_time": "2022-04-19T18:18:32.006Z"
   },
   {
    "duration": 32,
    "start_time": "2022-04-19T18:18:32.025Z"
   },
   {
    "duration": 37,
    "start_time": "2022-04-19T18:18:32.059Z"
   },
   {
    "duration": 16,
    "start_time": "2022-04-19T18:18:32.100Z"
   },
   {
    "duration": 17,
    "start_time": "2022-04-19T18:18:32.118Z"
   },
   {
    "duration": 61,
    "start_time": "2022-04-19T18:18:32.136Z"
   },
   {
    "duration": 17,
    "start_time": "2022-04-19T18:18:32.199Z"
   },
   {
    "duration": 2995,
    "start_time": "2022-04-19T18:18:32.218Z"
   },
   {
    "duration": 17,
    "start_time": "2022-04-19T18:18:35.215Z"
   },
   {
    "duration": 68,
    "start_time": "2022-04-19T18:18:35.233Z"
   },
   {
    "duration": 17,
    "start_time": "2022-04-19T18:18:35.303Z"
   },
   {
    "duration": 15,
    "start_time": "2022-04-19T18:18:35.321Z"
   },
   {
    "duration": 88,
    "start_time": "2022-04-19T18:18:35.338Z"
   },
   {
    "duration": 83,
    "start_time": "2022-04-19T18:18:35.428Z"
   },
   {
    "duration": 85,
    "start_time": "2022-04-19T18:18:35.512Z"
   },
   {
    "duration": 14,
    "start_time": "2022-04-19T18:18:35.599Z"
   },
   {
    "duration": 3,
    "start_time": "2022-04-19T18:18:35.615Z"
   },
   {
    "duration": 21,
    "start_time": "2022-04-19T18:18:35.620Z"
   },
   {
    "duration": 54,
    "start_time": "2022-04-19T18:18:35.643Z"
   },
   {
    "duration": 30,
    "start_time": "2022-04-19T18:18:35.699Z"
   },
   {
    "duration": 25,
    "start_time": "2022-04-19T18:18:35.730Z"
   },
   {
    "duration": 6,
    "start_time": "2022-04-19T18:18:35.756Z"
   },
   {
    "duration": 19,
    "start_time": "2022-04-19T18:18:35.763Z"
   },
   {
    "duration": 19,
    "start_time": "2022-04-19T18:18:35.784Z"
   },
   {
    "duration": 75,
    "start_time": "2022-04-19T18:18:35.805Z"
   },
   {
    "duration": 12,
    "start_time": "2022-04-19T18:18:35.882Z"
   },
   {
    "duration": 30,
    "start_time": "2022-04-19T18:18:35.896Z"
   },
   {
    "duration": 248,
    "start_time": "2022-04-19T18:18:35.928Z"
   },
   {
    "duration": 259,
    "start_time": "2022-04-19T18:18:36.179Z"
   },
   {
    "duration": 15,
    "start_time": "2022-04-19T18:18:36.441Z"
   },
   {
    "duration": 22,
    "start_time": "2022-04-19T18:18:36.457Z"
   },
   {
    "duration": 276,
    "start_time": "2022-04-19T18:18:53.713Z"
   },
   {
    "duration": 16,
    "start_time": "2022-04-19T18:19:17.586Z"
   },
   {
    "duration": 9,
    "start_time": "2022-04-19T18:19:23.156Z"
   },
   {
    "duration": 9,
    "start_time": "2022-04-19T18:19:30.318Z"
   },
   {
    "duration": 10,
    "start_time": "2022-04-19T18:19:37.531Z"
   },
   {
    "duration": 5,
    "start_time": "2022-04-19T18:20:04.839Z"
   },
   {
    "duration": 4,
    "start_time": "2022-04-19T18:20:11.973Z"
   },
   {
    "duration": 4,
    "start_time": "2022-04-19T18:20:54.093Z"
   },
   {
    "duration": 87,
    "start_time": "2022-04-19T18:22:19.965Z"
   },
   {
    "duration": 6,
    "start_time": "2022-04-19T18:22:25.381Z"
   },
   {
    "duration": 474,
    "start_time": "2022-04-19T18:22:48.907Z"
   },
   {
    "duration": 236,
    "start_time": "2022-04-19T18:22:54.986Z"
   },
   {
    "duration": 7,
    "start_time": "2022-04-19T18:23:04.086Z"
   },
   {
    "duration": 10,
    "start_time": "2022-04-19T18:23:09.626Z"
   },
   {
    "duration": 14,
    "start_time": "2022-04-19T18:23:45.069Z"
   },
   {
    "duration": 10,
    "start_time": "2022-04-19T18:23:55.015Z"
   },
   {
    "duration": 6,
    "start_time": "2022-04-19T18:24:04.539Z"
   },
   {
    "duration": 14,
    "start_time": "2022-04-19T18:24:07.851Z"
   },
   {
    "duration": 14,
    "start_time": "2022-04-19T18:24:39.227Z"
   },
   {
    "duration": 24,
    "start_time": "2022-04-19T18:24:51.555Z"
   },
   {
    "duration": 14,
    "start_time": "2022-04-19T18:24:52.791Z"
   },
   {
    "duration": 26,
    "start_time": "2022-04-19T18:24:53.176Z"
   },
   {
    "duration": 14,
    "start_time": "2022-04-19T18:25:57.552Z"
   },
   {
    "duration": 15,
    "start_time": "2022-04-19T18:26:05.869Z"
   },
   {
    "duration": 11,
    "start_time": "2022-04-19T18:26:11.072Z"
   },
   {
    "duration": 13,
    "start_time": "2022-04-19T18:26:13.513Z"
   },
   {
    "duration": 140,
    "start_time": "2022-04-19T18:29:47.261Z"
   },
   {
    "duration": 8,
    "start_time": "2022-04-19T18:30:09.928Z"
   },
   {
    "duration": 16,
    "start_time": "2022-04-19T18:31:10.344Z"
   },
   {
    "duration": 15,
    "start_time": "2022-04-19T18:31:21.605Z"
   },
   {
    "duration": 12,
    "start_time": "2022-04-19T18:34:52.423Z"
   },
   {
    "duration": 14,
    "start_time": "2022-04-19T18:34:55.846Z"
   },
   {
    "duration": 14,
    "start_time": "2022-04-19T18:36:38.199Z"
   },
   {
    "duration": 26,
    "start_time": "2022-04-19T18:36:38.510Z"
   },
   {
    "duration": 241,
    "start_time": "2022-04-19T18:36:43.454Z"
   },
   {
    "duration": 9,
    "start_time": "2022-04-19T18:36:45.995Z"
   },
   {
    "duration": 239,
    "start_time": "2022-04-19T18:36:46.843Z"
   },
   {
    "duration": 7,
    "start_time": "2022-04-19T18:37:05.440Z"
   },
   {
    "duration": 15,
    "start_time": "2022-04-19T18:37:08.536Z"
   },
   {
    "duration": 34,
    "start_time": "2022-04-19T18:37:18.253Z"
   },
   {
    "duration": 330,
    "start_time": "2022-04-19T18:37:55.993Z"
   },
   {
    "duration": 235,
    "start_time": "2022-04-19T18:37:59.641Z"
   },
   {
    "duration": 9,
    "start_time": "2022-04-19T18:38:07.756Z"
   },
   {
    "duration": 12,
    "start_time": "2022-04-19T18:43:41.207Z"
   },
   {
    "duration": 1719,
    "start_time": "2022-04-19T18:43:55.355Z"
   },
   {
    "duration": 9,
    "start_time": "2022-04-19T18:44:01.622Z"
   },
   {
    "duration": 230,
    "start_time": "2022-04-19T18:47:37.693Z"
   },
   {
    "duration": 236,
    "start_time": "2022-04-19T18:47:41.343Z"
   },
   {
    "duration": 26,
    "start_time": "2022-04-19T18:47:52.510Z"
   },
   {
    "duration": 231,
    "start_time": "2022-04-19T18:48:13.574Z"
   },
   {
    "duration": 1156,
    "start_time": "2022-04-20T16:49:05.351Z"
   },
   {
    "duration": 507,
    "start_time": "2022-04-20T16:49:06.510Z"
   },
   {
    "duration": 21,
    "start_time": "2022-04-20T16:49:07.019Z"
   },
   {
    "duration": 18,
    "start_time": "2022-04-20T16:49:07.042Z"
   },
   {
    "duration": 22,
    "start_time": "2022-04-20T16:49:07.063Z"
   },
   {
    "duration": 6,
    "start_time": "2022-04-20T16:49:07.088Z"
   },
   {
    "duration": 6,
    "start_time": "2022-04-20T16:49:07.096Z"
   },
   {
    "duration": 8,
    "start_time": "2022-04-20T16:49:07.104Z"
   },
   {
    "duration": 13,
    "start_time": "2022-04-20T16:49:07.114Z"
   },
   {
    "duration": 69,
    "start_time": "2022-04-20T16:49:07.131Z"
   },
   {
    "duration": 163,
    "start_time": "2022-04-20T16:49:07.202Z"
   },
   {
    "duration": 52,
    "start_time": "2022-04-20T16:49:07.367Z"
   },
   {
    "duration": 28,
    "start_time": "2022-04-20T16:49:07.421Z"
   },
   {
    "duration": 35,
    "start_time": "2022-04-20T16:49:07.451Z"
   },
   {
    "duration": 9,
    "start_time": "2022-04-20T16:49:07.488Z"
   },
   {
    "duration": 27,
    "start_time": "2022-04-20T16:49:07.499Z"
   },
   {
    "duration": 105,
    "start_time": "2022-04-20T16:49:07.528Z"
   },
   {
    "duration": 29,
    "start_time": "2022-04-20T16:49:07.635Z"
   },
   {
    "duration": 23,
    "start_time": "2022-04-20T16:49:07.666Z"
   },
   {
    "duration": 30,
    "start_time": "2022-04-20T16:49:07.691Z"
   },
   {
    "duration": 135,
    "start_time": "2022-04-20T16:49:07.723Z"
   },
   {
    "duration": 42,
    "start_time": "2022-04-20T16:49:07.860Z"
   },
   {
    "duration": 12,
    "start_time": "2022-04-20T16:49:07.904Z"
   },
   {
    "duration": 20,
    "start_time": "2022-04-20T16:49:07.918Z"
   },
   {
    "duration": 43,
    "start_time": "2022-04-20T16:49:07.940Z"
   },
   {
    "duration": 41,
    "start_time": "2022-04-20T16:49:07.985Z"
   },
   {
    "duration": 13,
    "start_time": "2022-04-20T16:49:08.028Z"
   },
   {
    "duration": 44,
    "start_time": "2022-04-20T16:49:08.047Z"
   },
   {
    "duration": 18,
    "start_time": "2022-04-20T16:49:08.093Z"
   },
   {
    "duration": 17,
    "start_time": "2022-04-20T16:49:08.113Z"
   },
   {
    "duration": 6,
    "start_time": "2022-04-20T16:49:08.132Z"
   },
   {
    "duration": 2306,
    "start_time": "2022-04-20T16:49:08.140Z"
   },
   {
    "duration": 35,
    "start_time": "2022-04-20T16:49:10.448Z"
   },
   {
    "duration": 17,
    "start_time": "2022-04-20T16:49:10.485Z"
   },
   {
    "duration": 20,
    "start_time": "2022-04-20T16:49:10.504Z"
   },
   {
    "duration": 18,
    "start_time": "2022-04-20T16:49:10.526Z"
   },
   {
    "duration": 55,
    "start_time": "2022-04-20T16:49:10.581Z"
   },
   {
    "duration": 60,
    "start_time": "2022-04-20T16:49:10.638Z"
   },
   {
    "duration": 38,
    "start_time": "2022-04-20T16:49:10.701Z"
   },
   {
    "duration": 47,
    "start_time": "2022-04-20T16:49:10.742Z"
   },
   {
    "duration": 6,
    "start_time": "2022-04-20T16:49:10.791Z"
   },
   {
    "duration": 14,
    "start_time": "2022-04-20T16:49:10.799Z"
   },
   {
    "duration": 9,
    "start_time": "2022-04-20T16:49:10.815Z"
   },
   {
    "duration": 21,
    "start_time": "2022-04-20T16:49:10.826Z"
   },
   {
    "duration": 47,
    "start_time": "2022-04-20T16:49:10.850Z"
   },
   {
    "duration": 7,
    "start_time": "2022-04-20T16:49:10.899Z"
   },
   {
    "duration": 17,
    "start_time": "2022-04-20T16:49:10.908Z"
   },
   {
    "duration": 11,
    "start_time": "2022-04-20T16:49:10.928Z"
   },
   {
    "duration": 102,
    "start_time": "2022-04-20T16:49:10.981Z"
   },
   {
    "duration": 38,
    "start_time": "2022-04-20T16:49:11.085Z"
   },
   {
    "duration": 446,
    "start_time": "2022-04-20T16:49:11.125Z"
   },
   {
    "duration": 410,
    "start_time": "2022-04-20T16:49:11.574Z"
   },
   {
    "duration": 19,
    "start_time": "2022-04-20T16:49:11.987Z"
   },
   {
    "duration": 20,
    "start_time": "2022-04-20T16:49:12.008Z"
   },
   {
    "duration": 53,
    "start_time": "2022-04-20T16:49:12.030Z"
   },
   {
    "duration": 18,
    "start_time": "2022-04-20T18:35:13.329Z"
   },
   {
    "duration": 462,
    "start_time": "2022-04-20T18:36:41.091Z"
   },
   {
    "duration": 39,
    "start_time": "2022-04-20T18:50:17.488Z"
   },
   {
    "duration": 40,
    "start_time": "2022-04-20T18:50:25.102Z"
   },
   {
    "duration": 70,
    "start_time": "2022-04-20T18:50:29.625Z"
   },
   {
    "duration": 979,
    "start_time": "2022-04-20T18:50:39.144Z"
   },
   {
    "duration": 1005,
    "start_time": "2022-04-20T18:50:40.125Z"
   },
   {
    "duration": 20,
    "start_time": "2022-04-20T18:50:41.181Z"
   },
   {
    "duration": 78,
    "start_time": "2022-04-20T18:50:41.205Z"
   },
   {
    "duration": 9,
    "start_time": "2022-04-20T18:50:41.285Z"
   },
   {
    "duration": 8,
    "start_time": "2022-04-20T18:50:41.297Z"
   },
   {
    "duration": 7,
    "start_time": "2022-04-20T18:50:41.307Z"
   },
   {
    "duration": 6,
    "start_time": "2022-04-20T18:50:41.317Z"
   },
   {
    "duration": 67,
    "start_time": "2022-04-20T18:50:41.325Z"
   },
   {
    "duration": 87,
    "start_time": "2022-04-20T18:50:41.395Z"
   },
   {
    "duration": 298,
    "start_time": "2022-04-20T18:50:41.485Z"
   },
   {
    "duration": 97,
    "start_time": "2022-04-20T18:50:41.785Z"
   },
   {
    "duration": 27,
    "start_time": "2022-04-20T18:50:41.884Z"
   },
   {
    "duration": 70,
    "start_time": "2022-04-20T18:50:41.913Z"
   },
   {
    "duration": 11,
    "start_time": "2022-04-20T18:50:41.985Z"
   },
   {
    "duration": 29,
    "start_time": "2022-04-20T18:50:41.999Z"
   },
   {
    "duration": 201,
    "start_time": "2022-04-20T18:50:42.081Z"
   },
   {
    "duration": 31,
    "start_time": "2022-04-20T18:50:42.285Z"
   },
   {
    "duration": 11,
    "start_time": "2022-04-20T18:50:42.319Z"
   },
   {
    "duration": 30,
    "start_time": "2022-04-20T18:50:42.382Z"
   },
   {
    "duration": 283,
    "start_time": "2022-04-20T18:50:42.414Z"
   },
   {
    "duration": 88,
    "start_time": "2022-04-20T18:50:42.699Z"
   },
   {
    "duration": 11,
    "start_time": "2022-04-20T18:50:42.789Z"
   },
   {
    "duration": 17,
    "start_time": "2022-04-20T18:50:42.802Z"
   },
   {
    "duration": 71,
    "start_time": "2022-04-20T18:50:42.821Z"
   },
   {
    "duration": 99,
    "start_time": "2022-04-20T18:50:42.894Z"
   },
   {
    "duration": 16,
    "start_time": "2022-04-20T18:50:42.995Z"
   },
   {
    "duration": 75,
    "start_time": "2022-04-20T18:50:43.016Z"
   },
   {
    "duration": 12,
    "start_time": "2022-04-20T18:50:43.093Z"
   },
   {
    "duration": 15,
    "start_time": "2022-04-20T18:50:43.107Z"
   },
   {
    "duration": 9,
    "start_time": "2022-04-20T18:50:43.124Z"
   },
   {
    "duration": 2274,
    "start_time": "2022-04-20T18:50:43.135Z"
   },
   {
    "duration": 25,
    "start_time": "2022-04-20T18:50:45.411Z"
   },
   {
    "duration": 27,
    "start_time": "2022-04-20T18:50:45.438Z"
   },
   {
    "duration": 17,
    "start_time": "2022-04-20T18:50:45.483Z"
   },
   {
    "duration": 22,
    "start_time": "2022-04-20T18:50:45.503Z"
   },
   {
    "duration": 81,
    "start_time": "2022-04-20T18:50:45.527Z"
   },
   {
    "duration": 44,
    "start_time": "2022-04-20T18:50:45.611Z"
   },
   {
    "duration": 54,
    "start_time": "2022-04-20T18:50:45.657Z"
   },
   {
    "duration": 21,
    "start_time": "2022-04-20T18:50:45.714Z"
   },
   {
    "duration": 5,
    "start_time": "2022-04-20T18:50:45.737Z"
   },
   {
    "duration": 42,
    "start_time": "2022-04-20T18:50:45.745Z"
   },
   {
    "duration": 11,
    "start_time": "2022-04-20T18:50:45.790Z"
   },
   {
    "duration": 19,
    "start_time": "2022-04-20T18:50:45.803Z"
   },
   {
    "duration": 18,
    "start_time": "2022-04-20T18:50:45.824Z"
   },
   {
    "duration": 38,
    "start_time": "2022-04-20T18:50:45.844Z"
   },
   {
    "duration": 19,
    "start_time": "2022-04-20T18:50:45.885Z"
   },
   {
    "duration": 8,
    "start_time": "2022-04-20T18:50:45.906Z"
   },
   {
    "duration": 123,
    "start_time": "2022-04-20T18:50:45.916Z"
   },
   {
    "duration": 19,
    "start_time": "2022-04-20T18:50:46.041Z"
   },
   {
    "duration": 49,
    "start_time": "2022-04-20T18:50:46.062Z"
   },
   {
    "duration": 446,
    "start_time": "2022-04-20T18:50:46.113Z"
   },
   {
    "duration": 419,
    "start_time": "2022-04-20T18:50:46.561Z"
   },
   {
    "duration": 21,
    "start_time": "2022-04-20T18:50:46.983Z"
   },
   {
    "duration": 20,
    "start_time": "2022-04-20T18:51:14.082Z"
   },
   {
    "duration": 6,
    "start_time": "2022-04-20T18:51:14.438Z"
   },
   {
    "duration": 18,
    "start_time": "2022-04-20T18:51:14.782Z"
   },
   {
    "duration": 9,
    "start_time": "2022-04-20T18:51:15.187Z"
   },
   {
    "duration": 21,
    "start_time": "2022-04-20T18:51:15.578Z"
   },
   {
    "duration": 19,
    "start_time": "2022-04-20T18:51:25.198Z"
   },
   {
    "duration": 6,
    "start_time": "2022-04-20T18:51:25.529Z"
   },
   {
    "duration": 18,
    "start_time": "2022-04-20T18:51:25.817Z"
   },
   {
    "duration": 2254,
    "start_time": "2022-04-20T18:51:26.121Z"
   },
   {
    "duration": 0,
    "start_time": "2022-04-20T18:51:28.377Z"
   },
   {
    "duration": 24,
    "start_time": "2022-04-20T18:51:39.034Z"
   },
   {
    "duration": 22,
    "start_time": "2022-04-20T18:51:39.189Z"
   },
   {
    "duration": 842,
    "start_time": "2022-04-20T18:52:18.625Z"
   },
   {
    "duration": 647,
    "start_time": "2022-04-20T18:52:19.470Z"
   },
   {
    "duration": 68,
    "start_time": "2022-04-20T18:52:20.119Z"
   },
   {
    "duration": 17,
    "start_time": "2022-04-20T18:52:20.190Z"
   },
   {
    "duration": 11,
    "start_time": "2022-04-20T18:52:20.209Z"
   },
   {
    "duration": 61,
    "start_time": "2022-04-20T18:52:20.222Z"
   },
   {
    "duration": 12,
    "start_time": "2022-04-20T18:52:20.286Z"
   },
   {
    "duration": 9,
    "start_time": "2022-04-20T18:52:20.300Z"
   },
   {
    "duration": 14,
    "start_time": "2022-04-20T18:52:20.311Z"
   },
   {
    "duration": 79,
    "start_time": "2022-04-20T18:52:20.328Z"
   },
   {
    "duration": 305,
    "start_time": "2022-04-20T18:52:20.409Z"
   },
   {
    "duration": 93,
    "start_time": "2022-04-20T18:52:20.716Z"
   },
   {
    "duration": 78,
    "start_time": "2022-04-20T18:52:20.811Z"
   },
   {
    "duration": 14,
    "start_time": "2022-04-20T18:52:20.891Z"
   },
   {
    "duration": 10,
    "start_time": "2022-04-20T18:52:20.907Z"
   },
   {
    "duration": 81,
    "start_time": "2022-04-20T18:52:20.919Z"
   },
   {
    "duration": 206,
    "start_time": "2022-04-20T18:52:21.003Z"
   },
   {
    "duration": 79,
    "start_time": "2022-04-20T18:52:21.212Z"
   },
   {
    "duration": 12,
    "start_time": "2022-04-20T18:52:21.293Z"
   },
   {
    "duration": 86,
    "start_time": "2022-04-20T18:52:21.307Z"
   },
   {
    "duration": 217,
    "start_time": "2022-04-20T18:52:21.395Z"
   },
   {
    "duration": 86,
    "start_time": "2022-04-20T18:52:21.614Z"
   },
   {
    "duration": 11,
    "start_time": "2022-04-20T18:52:21.702Z"
   },
   {
    "duration": 68,
    "start_time": "2022-04-20T18:52:21.715Z"
   },
   {
    "duration": 22,
    "start_time": "2022-04-20T18:52:21.785Z"
   },
   {
    "duration": 91,
    "start_time": "2022-04-20T18:52:21.809Z"
   },
   {
    "duration": 13,
    "start_time": "2022-04-20T18:52:21.902Z"
   },
   {
    "duration": 70,
    "start_time": "2022-04-20T18:52:21.920Z"
   },
   {
    "duration": 11,
    "start_time": "2022-04-20T18:52:21.993Z"
   },
   {
    "duration": 18,
    "start_time": "2022-04-20T18:52:22.006Z"
   },
   {
    "duration": 59,
    "start_time": "2022-04-20T18:52:22.025Z"
   },
   {
    "duration": 2649,
    "start_time": "2022-04-20T18:52:22.086Z"
   },
   {
    "duration": 27,
    "start_time": "2022-04-20T18:52:24.737Z"
   },
   {
    "duration": 17,
    "start_time": "2022-04-20T18:52:24.781Z"
   },
   {
    "duration": 17,
    "start_time": "2022-04-20T18:52:24.800Z"
   },
   {
    "duration": 19,
    "start_time": "2022-04-20T18:52:24.819Z"
   },
   {
    "duration": 90,
    "start_time": "2022-04-20T18:52:24.840Z"
   },
   {
    "duration": 60,
    "start_time": "2022-04-20T18:52:24.932Z"
   },
   {
    "duration": 37,
    "start_time": "2022-04-20T18:52:24.994Z"
   },
   {
    "duration": 19,
    "start_time": "2022-04-20T18:52:25.033Z"
   },
   {
    "duration": 41,
    "start_time": "2022-04-20T18:52:25.054Z"
   },
   {
    "duration": 7,
    "start_time": "2022-04-20T18:52:25.097Z"
   },
   {
    "duration": 633,
    "start_time": "2022-04-20T18:52:25.106Z"
   },
   {
    "duration": 0,
    "start_time": "2022-04-20T18:52:25.742Z"
   },
   {
    "duration": 0,
    "start_time": "2022-04-20T18:52:25.743Z"
   },
   {
    "duration": 0,
    "start_time": "2022-04-20T18:52:25.745Z"
   },
   {
    "duration": 0,
    "start_time": "2022-04-20T18:52:25.747Z"
   },
   {
    "duration": 0,
    "start_time": "2022-04-20T18:52:25.749Z"
   },
   {
    "duration": 0,
    "start_time": "2022-04-20T18:52:25.751Z"
   },
   {
    "duration": 0,
    "start_time": "2022-04-20T18:52:25.752Z"
   },
   {
    "duration": 0,
    "start_time": "2022-04-20T18:52:25.753Z"
   },
   {
    "duration": 0,
    "start_time": "2022-04-20T18:52:25.755Z"
   },
   {
    "duration": 0,
    "start_time": "2022-04-20T18:52:25.757Z"
   },
   {
    "duration": 0,
    "start_time": "2022-04-20T18:52:25.758Z"
   },
   {
    "duration": 0,
    "start_time": "2022-04-20T18:52:25.760Z"
   },
   {
    "duration": 23,
    "start_time": "2022-04-20T18:53:33.559Z"
   },
   {
    "duration": 2015,
    "start_time": "2022-04-20T18:53:34.669Z"
   },
   {
    "duration": 0,
    "start_time": "2022-04-20T18:53:36.686Z"
   },
   {
    "duration": 21,
    "start_time": "2022-04-20T18:53:42.672Z"
   },
   {
    "duration": 859,
    "start_time": "2022-04-20T18:53:48.423Z"
   },
   {
    "duration": 511,
    "start_time": "2022-04-20T18:53:49.285Z"
   },
   {
    "duration": 20,
    "start_time": "2022-04-20T18:53:49.798Z"
   },
   {
    "duration": 16,
    "start_time": "2022-04-20T18:53:49.821Z"
   },
   {
    "duration": 10,
    "start_time": "2022-04-20T18:53:49.839Z"
   },
   {
    "duration": 7,
    "start_time": "2022-04-20T18:53:49.851Z"
   },
   {
    "duration": 6,
    "start_time": "2022-04-20T18:53:49.883Z"
   },
   {
    "duration": 6,
    "start_time": "2022-04-20T18:53:49.891Z"
   },
   {
    "duration": 16,
    "start_time": "2022-04-20T18:53:49.899Z"
   },
   {
    "duration": 68,
    "start_time": "2022-04-20T18:53:49.920Z"
   },
   {
    "duration": 174,
    "start_time": "2022-04-20T18:53:49.991Z"
   },
   {
    "duration": 53,
    "start_time": "2022-04-20T18:53:50.167Z"
   },
   {
    "duration": 29,
    "start_time": "2022-04-20T18:53:50.222Z"
   },
   {
    "duration": 38,
    "start_time": "2022-04-20T18:53:50.254Z"
   },
   {
    "duration": 12,
    "start_time": "2022-04-20T18:53:50.295Z"
   },
   {
    "duration": 29,
    "start_time": "2022-04-20T18:53:50.309Z"
   },
   {
    "duration": 111,
    "start_time": "2022-04-20T18:53:50.341Z"
   },
   {
    "duration": 42,
    "start_time": "2022-04-20T18:53:50.455Z"
   },
   {
    "duration": 12,
    "start_time": "2022-04-20T18:53:50.500Z"
   },
   {
    "duration": 32,
    "start_time": "2022-04-20T18:53:50.514Z"
   },
   {
    "duration": 147,
    "start_time": "2022-04-20T18:53:50.548Z"
   },
   {
    "duration": 36,
    "start_time": "2022-04-20T18:53:50.697Z"
   },
   {
    "duration": 11,
    "start_time": "2022-04-20T18:53:50.736Z"
   },
   {
    "duration": 41,
    "start_time": "2022-04-20T18:53:50.749Z"
   },
   {
    "duration": 24,
    "start_time": "2022-04-20T18:53:50.792Z"
   },
   {
    "duration": 64,
    "start_time": "2022-04-20T18:53:50.818Z"
   },
   {
    "duration": 14,
    "start_time": "2022-04-20T18:53:50.884Z"
   },
   {
    "duration": 22,
    "start_time": "2022-04-20T18:53:50.903Z"
   },
   {
    "duration": 12,
    "start_time": "2022-04-20T18:53:50.928Z"
   },
   {
    "duration": 50,
    "start_time": "2022-04-20T18:53:50.942Z"
   },
   {
    "duration": 5,
    "start_time": "2022-04-20T18:53:50.994Z"
   },
   {
    "duration": 3454,
    "start_time": "2022-04-20T18:53:51.001Z"
   },
   {
    "duration": 36,
    "start_time": "2022-04-20T18:53:54.458Z"
   },
   {
    "duration": 18,
    "start_time": "2022-04-20T18:53:54.496Z"
   },
   {
    "duration": 19,
    "start_time": "2022-04-20T18:53:54.517Z"
   },
   {
    "duration": 54,
    "start_time": "2022-04-20T18:53:54.539Z"
   },
   {
    "duration": 59,
    "start_time": "2022-04-20T18:53:54.595Z"
   },
   {
    "duration": 65,
    "start_time": "2022-04-20T18:53:54.656Z"
   },
   {
    "duration": 37,
    "start_time": "2022-04-20T18:53:54.723Z"
   },
   {
    "duration": 36,
    "start_time": "2022-04-20T18:53:54.762Z"
   },
   {
    "duration": 15,
    "start_time": "2022-04-20T18:53:54.800Z"
   },
   {
    "duration": 11,
    "start_time": "2022-04-20T18:53:54.817Z"
   },
   {
    "duration": 22,
    "start_time": "2022-04-20T18:53:54.830Z"
   },
   {
    "duration": 43,
    "start_time": "2022-04-20T18:53:54.854Z"
   },
   {
    "duration": 172,
    "start_time": "2022-04-20T18:53:54.900Z"
   },
   {
    "duration": 0,
    "start_time": "2022-04-20T18:53:55.075Z"
   },
   {
    "duration": 0,
    "start_time": "2022-04-20T18:53:55.077Z"
   },
   {
    "duration": 0,
    "start_time": "2022-04-20T18:53:55.081Z"
   },
   {
    "duration": 0,
    "start_time": "2022-04-20T18:53:55.083Z"
   },
   {
    "duration": 0,
    "start_time": "2022-04-20T18:53:55.084Z"
   },
   {
    "duration": 0,
    "start_time": "2022-04-20T18:53:55.086Z"
   },
   {
    "duration": 0,
    "start_time": "2022-04-20T18:53:55.087Z"
   },
   {
    "duration": 0,
    "start_time": "2022-04-20T18:53:55.089Z"
   },
   {
    "duration": 0,
    "start_time": "2022-04-20T18:53:55.090Z"
   },
   {
    "duration": 515,
    "start_time": "2022-04-20T18:54:58.437Z"
   },
   {
    "duration": 507,
    "start_time": "2022-04-20T18:55:04.371Z"
   },
   {
    "duration": 521,
    "start_time": "2022-04-20T18:56:20.444Z"
   },
   {
    "duration": 555,
    "start_time": "2022-04-20T18:56:42.062Z"
   },
   {
    "duration": 873,
    "start_time": "2022-04-20T18:56:48.887Z"
   },
   {
    "duration": 511,
    "start_time": "2022-04-20T18:56:49.763Z"
   },
   {
    "duration": 22,
    "start_time": "2022-04-20T18:56:50.276Z"
   },
   {
    "duration": 17,
    "start_time": "2022-04-20T18:56:50.301Z"
   },
   {
    "duration": 15,
    "start_time": "2022-04-20T18:56:50.321Z"
   },
   {
    "duration": 8,
    "start_time": "2022-04-20T18:56:50.339Z"
   },
   {
    "duration": 36,
    "start_time": "2022-04-20T18:56:50.350Z"
   },
   {
    "duration": 11,
    "start_time": "2022-04-20T18:56:50.388Z"
   },
   {
    "duration": 20,
    "start_time": "2022-04-20T18:56:50.401Z"
   },
   {
    "duration": 60,
    "start_time": "2022-04-20T18:56:50.426Z"
   },
   {
    "duration": 165,
    "start_time": "2022-04-20T18:56:50.488Z"
   },
   {
    "duration": 55,
    "start_time": "2022-04-20T18:56:50.655Z"
   },
   {
    "duration": 29,
    "start_time": "2022-04-20T18:56:50.712Z"
   },
   {
    "duration": 15,
    "start_time": "2022-04-20T18:56:50.743Z"
   },
   {
    "duration": 10,
    "start_time": "2022-04-20T18:56:50.782Z"
   },
   {
    "duration": 27,
    "start_time": "2022-04-20T18:56:50.794Z"
   },
   {
    "duration": 106,
    "start_time": "2022-04-20T18:56:50.823Z"
   },
   {
    "duration": 30,
    "start_time": "2022-04-20T18:56:50.931Z"
   },
   {
    "duration": 28,
    "start_time": "2022-04-20T18:56:50.963Z"
   },
   {
    "duration": 31,
    "start_time": "2022-04-20T18:56:50.993Z"
   },
   {
    "duration": 139,
    "start_time": "2022-04-20T18:56:51.026Z"
   },
   {
    "duration": 39,
    "start_time": "2022-04-20T18:56:51.167Z"
   },
   {
    "duration": 14,
    "start_time": "2022-04-20T18:56:51.208Z"
   },
   {
    "duration": 19,
    "start_time": "2022-04-20T18:56:51.225Z"
   },
   {
    "duration": 46,
    "start_time": "2022-04-20T18:56:51.247Z"
   },
   {
    "duration": 40,
    "start_time": "2022-04-20T18:56:51.296Z"
   },
   {
    "duration": 14,
    "start_time": "2022-04-20T18:56:51.338Z"
   },
   {
    "duration": 21,
    "start_time": "2022-04-20T18:56:51.386Z"
   },
   {
    "duration": 12,
    "start_time": "2022-04-20T18:56:51.410Z"
   },
   {
    "duration": 17,
    "start_time": "2022-04-20T18:56:51.424Z"
   },
   {
    "duration": 42,
    "start_time": "2022-04-20T18:56:51.443Z"
   },
   {
    "duration": 2143,
    "start_time": "2022-04-20T18:56:51.487Z"
   },
   {
    "duration": 25,
    "start_time": "2022-04-20T18:56:53.632Z"
   },
   {
    "duration": 35,
    "start_time": "2022-04-20T18:56:53.659Z"
   },
   {
    "duration": 16,
    "start_time": "2022-04-20T18:56:53.696Z"
   },
   {
    "duration": 18,
    "start_time": "2022-04-20T18:56:53.714Z"
   },
   {
    "duration": 87,
    "start_time": "2022-04-20T18:56:53.734Z"
   },
   {
    "duration": 59,
    "start_time": "2022-04-20T18:56:53.823Z"
   },
   {
    "duration": 39,
    "start_time": "2022-04-20T18:56:53.884Z"
   },
   {
    "duration": 19,
    "start_time": "2022-04-20T18:56:53.925Z"
   },
   {
    "duration": 45,
    "start_time": "2022-04-20T18:56:53.946Z"
   },
   {
    "duration": 6,
    "start_time": "2022-04-20T18:56:53.993Z"
   },
   {
    "duration": 670,
    "start_time": "2022-04-20T18:56:54.001Z"
   },
   {
    "duration": 0,
    "start_time": "2022-04-20T18:56:54.673Z"
   },
   {
    "duration": 0,
    "start_time": "2022-04-20T18:56:54.675Z"
   },
   {
    "duration": 0,
    "start_time": "2022-04-20T18:56:54.678Z"
   },
   {
    "duration": 0,
    "start_time": "2022-04-20T18:56:54.680Z"
   },
   {
    "duration": 0,
    "start_time": "2022-04-20T18:56:54.682Z"
   },
   {
    "duration": 0,
    "start_time": "2022-04-20T18:56:54.684Z"
   },
   {
    "duration": 0,
    "start_time": "2022-04-20T18:56:54.686Z"
   },
   {
    "duration": 0,
    "start_time": "2022-04-20T18:56:54.688Z"
   },
   {
    "duration": 0,
    "start_time": "2022-04-20T18:56:54.690Z"
   },
   {
    "duration": 0,
    "start_time": "2022-04-20T18:56:54.692Z"
   },
   {
    "duration": 0,
    "start_time": "2022-04-20T18:56:54.694Z"
   },
   {
    "duration": 19,
    "start_time": "2022-04-20T18:57:13.903Z"
   },
   {
    "duration": 847,
    "start_time": "2022-04-20T18:58:35.113Z"
   },
   {
    "duration": 511,
    "start_time": "2022-04-20T18:58:35.962Z"
   },
   {
    "duration": 20,
    "start_time": "2022-04-20T18:58:36.475Z"
   },
   {
    "duration": 18,
    "start_time": "2022-04-20T18:58:36.498Z"
   },
   {
    "duration": 12,
    "start_time": "2022-04-20T18:58:36.519Z"
   },
   {
    "duration": 8,
    "start_time": "2022-04-20T18:58:36.533Z"
   },
   {
    "duration": 45,
    "start_time": "2022-04-20T18:58:36.543Z"
   },
   {
    "duration": 8,
    "start_time": "2022-04-20T18:58:36.590Z"
   },
   {
    "duration": 20,
    "start_time": "2022-04-20T18:58:36.600Z"
   },
   {
    "duration": 66,
    "start_time": "2022-04-20T18:58:36.624Z"
   },
   {
    "duration": 164,
    "start_time": "2022-04-20T18:58:36.692Z"
   },
   {
    "duration": 48,
    "start_time": "2022-04-20T18:58:36.858Z"
   },
   {
    "duration": 27,
    "start_time": "2022-04-20T18:58:36.908Z"
   },
   {
    "duration": 15,
    "start_time": "2022-04-20T18:58:36.937Z"
   },
   {
    "duration": 12,
    "start_time": "2022-04-20T18:58:36.982Z"
   },
   {
    "duration": 28,
    "start_time": "2022-04-20T18:58:36.997Z"
   },
   {
    "duration": 111,
    "start_time": "2022-04-20T18:58:37.028Z"
   },
   {
    "duration": 41,
    "start_time": "2022-04-20T18:58:37.142Z"
   },
   {
    "duration": 13,
    "start_time": "2022-04-20T18:58:37.185Z"
   },
   {
    "duration": 41,
    "start_time": "2022-04-20T18:58:37.201Z"
   },
   {
    "duration": 249,
    "start_time": "2022-04-20T18:58:37.244Z"
   },
   {
    "duration": 87,
    "start_time": "2022-04-20T18:58:37.495Z"
   },
   {
    "duration": 12,
    "start_time": "2022-04-20T18:58:37.584Z"
   },
   {
    "duration": 19,
    "start_time": "2022-04-20T18:58:37.598Z"
   },
   {
    "duration": 71,
    "start_time": "2022-04-20T18:58:37.619Z"
   },
   {
    "duration": 98,
    "start_time": "2022-04-20T18:58:37.692Z"
   },
   {
    "duration": 13,
    "start_time": "2022-04-20T18:58:37.792Z"
   },
   {
    "duration": 71,
    "start_time": "2022-04-20T18:58:37.811Z"
   },
   {
    "duration": 11,
    "start_time": "2022-04-20T18:58:37.884Z"
   },
   {
    "duration": 17,
    "start_time": "2022-04-20T18:58:37.897Z"
   },
   {
    "duration": 5,
    "start_time": "2022-04-20T18:58:37.916Z"
   },
   {
    "duration": 3350,
    "start_time": "2022-04-20T18:58:37.923Z"
   },
   {
    "duration": 29,
    "start_time": "2022-04-20T18:58:41.275Z"
   },
   {
    "duration": 17,
    "start_time": "2022-04-20T18:58:41.306Z"
   },
   {
    "duration": 16,
    "start_time": "2022-04-20T18:58:41.325Z"
   },
   {
    "duration": 49,
    "start_time": "2022-04-20T18:58:41.345Z"
   },
   {
    "duration": 58,
    "start_time": "2022-04-20T18:58:41.396Z"
   },
   {
    "duration": 65,
    "start_time": "2022-04-20T18:58:41.456Z"
   },
   {
    "duration": 39,
    "start_time": "2022-04-20T18:58:41.523Z"
   },
   {
    "duration": 18,
    "start_time": "2022-04-20T18:58:41.582Z"
   },
   {
    "duration": 16,
    "start_time": "2022-04-20T18:58:41.602Z"
   },
   {
    "duration": 5,
    "start_time": "2022-04-20T18:58:41.620Z"
   },
   {
    "duration": 636,
    "start_time": "2022-04-20T18:58:41.627Z"
   },
   {
    "duration": 0,
    "start_time": "2022-04-20T18:58:42.266Z"
   },
   {
    "duration": 0,
    "start_time": "2022-04-20T18:58:42.267Z"
   },
   {
    "duration": 0,
    "start_time": "2022-04-20T18:58:42.269Z"
   },
   {
    "duration": 0,
    "start_time": "2022-04-20T18:58:42.270Z"
   },
   {
    "duration": 0,
    "start_time": "2022-04-20T18:58:42.272Z"
   },
   {
    "duration": 0,
    "start_time": "2022-04-20T18:58:42.273Z"
   },
   {
    "duration": 0,
    "start_time": "2022-04-20T18:58:42.275Z"
   },
   {
    "duration": 0,
    "start_time": "2022-04-20T18:58:42.277Z"
   },
   {
    "duration": 0,
    "start_time": "2022-04-20T18:58:42.278Z"
   },
   {
    "duration": 0,
    "start_time": "2022-04-20T18:58:42.279Z"
   },
   {
    "duration": 0,
    "start_time": "2022-04-20T18:58:42.281Z"
   },
   {
    "duration": 22,
    "start_time": "2022-04-20T18:59:13.572Z"
   },
   {
    "duration": 10,
    "start_time": "2022-04-20T18:59:16.800Z"
   },
   {
    "duration": 861,
    "start_time": "2022-04-20T18:59:20.489Z"
   },
   {
    "duration": 504,
    "start_time": "2022-04-20T18:59:21.352Z"
   },
   {
    "duration": 24,
    "start_time": "2022-04-20T18:59:21.858Z"
   },
   {
    "duration": 16,
    "start_time": "2022-04-20T18:59:21.885Z"
   },
   {
    "duration": 9,
    "start_time": "2022-04-20T18:59:21.903Z"
   },
   {
    "duration": 6,
    "start_time": "2022-04-20T18:59:21.915Z"
   },
   {
    "duration": 10,
    "start_time": "2022-04-20T18:59:21.923Z"
   },
   {
    "duration": 48,
    "start_time": "2022-04-20T18:59:21.935Z"
   },
   {
    "duration": 16,
    "start_time": "2022-04-20T18:59:21.985Z"
   },
   {
    "duration": 35,
    "start_time": "2022-04-20T18:59:22.005Z"
   },
   {
    "duration": 182,
    "start_time": "2022-04-20T18:59:22.042Z"
   },
   {
    "duration": 57,
    "start_time": "2022-04-20T18:59:22.226Z"
   },
   {
    "duration": 28,
    "start_time": "2022-04-20T18:59:22.286Z"
   },
   {
    "duration": 14,
    "start_time": "2022-04-20T18:59:22.316Z"
   },
   {
    "duration": 10,
    "start_time": "2022-04-20T18:59:22.332Z"
   },
   {
    "duration": 57,
    "start_time": "2022-04-20T18:59:22.344Z"
   },
   {
    "duration": 85,
    "start_time": "2022-04-20T18:59:22.403Z"
   },
   {
    "duration": 31,
    "start_time": "2022-04-20T18:59:22.490Z"
   },
   {
    "duration": 12,
    "start_time": "2022-04-20T18:59:22.523Z"
   },
   {
    "duration": 58,
    "start_time": "2022-04-20T18:59:22.537Z"
   },
   {
    "duration": 129,
    "start_time": "2022-04-20T18:59:22.598Z"
   },
   {
    "duration": 35,
    "start_time": "2022-04-20T18:59:22.730Z"
   },
   {
    "duration": 24,
    "start_time": "2022-04-20T18:59:22.768Z"
   },
   {
    "duration": 17,
    "start_time": "2022-04-20T18:59:22.794Z"
   },
   {
    "duration": 22,
    "start_time": "2022-04-20T18:59:22.814Z"
   },
   {
    "duration": 80,
    "start_time": "2022-04-20T18:59:22.839Z"
   },
   {
    "duration": 15,
    "start_time": "2022-04-20T18:59:22.921Z"
   },
   {
    "duration": 43,
    "start_time": "2022-04-20T18:59:22.941Z"
   },
   {
    "duration": 12,
    "start_time": "2022-04-20T18:59:22.986Z"
   },
   {
    "duration": 19,
    "start_time": "2022-04-20T18:59:23.000Z"
   },
   {
    "duration": 5,
    "start_time": "2022-04-20T18:59:23.021Z"
   },
   {
    "duration": 4097,
    "start_time": "2022-04-20T18:59:23.028Z"
   },
   {
    "duration": 27,
    "start_time": "2022-04-20T18:59:27.128Z"
   },
   {
    "duration": 35,
    "start_time": "2022-04-20T18:59:27.157Z"
   },
   {
    "duration": 25,
    "start_time": "2022-04-20T18:59:27.195Z"
   },
   {
    "duration": 24,
    "start_time": "2022-04-20T18:59:27.223Z"
   },
   {
    "duration": 59,
    "start_time": "2022-04-20T18:59:27.282Z"
   },
   {
    "duration": 63,
    "start_time": "2022-04-20T18:59:27.343Z"
   },
   {
    "duration": 38,
    "start_time": "2022-04-20T18:59:27.409Z"
   },
   {
    "duration": 45,
    "start_time": "2022-04-20T18:59:27.449Z"
   },
   {
    "duration": 16,
    "start_time": "2022-04-20T18:59:27.496Z"
   },
   {
    "duration": 8,
    "start_time": "2022-04-20T18:59:27.514Z"
   },
   {
    "duration": 19,
    "start_time": "2022-04-20T18:59:27.524Z"
   },
   {
    "duration": 36,
    "start_time": "2022-04-20T18:59:27.546Z"
   },
   {
    "duration": 20,
    "start_time": "2022-04-20T18:59:27.584Z"
   },
   {
    "duration": 18,
    "start_time": "2022-04-20T18:59:27.606Z"
   },
   {
    "duration": 7,
    "start_time": "2022-04-20T18:59:27.626Z"
   },
   {
    "duration": 54,
    "start_time": "2022-04-20T18:59:27.636Z"
   },
   {
    "duration": 8,
    "start_time": "2022-04-20T18:59:27.693Z"
   },
   {
    "duration": 746,
    "start_time": "2022-04-20T18:59:27.703Z"
   },
   {
    "duration": 33,
    "start_time": "2022-04-20T18:59:28.451Z"
   },
   {
    "duration": 45,
    "start_time": "2022-04-20T18:59:28.486Z"
   },
   {
    "duration": 461,
    "start_time": "2022-04-20T18:59:28.533Z"
   },
   {
    "duration": 434,
    "start_time": "2022-04-20T18:59:28.996Z"
   },
   {
    "duration": 23,
    "start_time": "2022-04-20T18:59:29.432Z"
   },
   {
    "duration": 946,
    "start_time": "2022-04-20T19:00:08.988Z"
   },
   {
    "duration": 778,
    "start_time": "2022-04-20T19:00:09.937Z"
   },
   {
    "duration": 77,
    "start_time": "2022-04-20T19:00:10.717Z"
   },
   {
    "duration": 23,
    "start_time": "2022-04-20T19:00:10.798Z"
   },
   {
    "duration": 66,
    "start_time": "2022-04-20T19:00:10.824Z"
   },
   {
    "duration": 7,
    "start_time": "2022-04-20T19:00:10.893Z"
   },
   {
    "duration": 10,
    "start_time": "2022-04-20T19:00:10.903Z"
   },
   {
    "duration": 9,
    "start_time": "2022-04-20T19:00:10.916Z"
   },
   {
    "duration": 63,
    "start_time": "2022-04-20T19:00:10.927Z"
   },
   {
    "duration": 87,
    "start_time": "2022-04-20T19:00:10.995Z"
   },
   {
    "duration": 298,
    "start_time": "2022-04-20T19:00:11.084Z"
   },
   {
    "duration": 98,
    "start_time": "2022-04-20T19:00:11.384Z"
   },
   {
    "duration": 27,
    "start_time": "2022-04-20T19:00:11.485Z"
   },
   {
    "duration": 69,
    "start_time": "2022-04-20T19:00:11.514Z"
   },
   {
    "duration": 11,
    "start_time": "2022-04-20T19:00:11.585Z"
   },
   {
    "duration": 107,
    "start_time": "2022-04-20T19:00:11.598Z"
   },
   {
    "duration": 177,
    "start_time": "2022-04-20T19:00:11.707Z"
   },
   {
    "duration": 30,
    "start_time": "2022-04-20T19:00:11.886Z"
   },
   {
    "duration": 65,
    "start_time": "2022-04-20T19:00:11.919Z"
   },
   {
    "duration": 36,
    "start_time": "2022-04-20T19:00:11.986Z"
   },
   {
    "duration": 274,
    "start_time": "2022-04-20T19:00:12.025Z"
   },
   {
    "duration": 87,
    "start_time": "2022-04-20T19:00:12.301Z"
   },
   {
    "duration": 14,
    "start_time": "2022-04-20T19:00:12.391Z"
   },
   {
    "duration": 75,
    "start_time": "2022-04-20T19:00:12.408Z"
   },
   {
    "duration": 28,
    "start_time": "2022-04-20T19:00:12.486Z"
   },
   {
    "duration": 100,
    "start_time": "2022-04-20T19:00:12.516Z"
   },
   {
    "duration": 67,
    "start_time": "2022-04-20T19:00:12.619Z"
   },
   {
    "duration": 21,
    "start_time": "2022-04-20T19:00:12.691Z"
   },
   {
    "duration": 68,
    "start_time": "2022-04-20T19:00:12.715Z"
   },
   {
    "duration": 19,
    "start_time": "2022-04-20T19:00:12.786Z"
   },
   {
    "duration": 6,
    "start_time": "2022-04-20T19:00:12.807Z"
   },
   {
    "duration": 2472,
    "start_time": "2022-04-20T19:00:12.815Z"
   },
   {
    "duration": 25,
    "start_time": "2022-04-20T19:00:15.289Z"
   },
   {
    "duration": 21,
    "start_time": "2022-04-20T19:00:15.317Z"
   },
   {
    "duration": 47,
    "start_time": "2022-04-20T19:00:15.340Z"
   },
   {
    "duration": 20,
    "start_time": "2022-04-20T19:00:15.390Z"
   },
   {
    "duration": 88,
    "start_time": "2022-04-20T19:00:15.413Z"
   },
   {
    "duration": 45,
    "start_time": "2022-04-20T19:00:15.503Z"
   },
   {
    "duration": 61,
    "start_time": "2022-04-20T19:00:15.551Z"
   },
   {
    "duration": 21,
    "start_time": "2022-04-20T19:00:15.614Z"
   },
   {
    "duration": 46,
    "start_time": "2022-04-20T19:00:15.637Z"
   },
   {
    "duration": 40,
    "start_time": "2022-04-20T19:00:15.686Z"
   },
   {
    "duration": 640,
    "start_time": "2022-04-20T19:00:15.729Z"
   },
   {
    "duration": 0,
    "start_time": "2022-04-20T19:00:16.371Z"
   },
   {
    "duration": 0,
    "start_time": "2022-04-20T19:00:16.374Z"
   },
   {
    "duration": 0,
    "start_time": "2022-04-20T19:00:16.376Z"
   },
   {
    "duration": 0,
    "start_time": "2022-04-20T19:00:16.378Z"
   },
   {
    "duration": 0,
    "start_time": "2022-04-20T19:00:16.381Z"
   },
   {
    "duration": 0,
    "start_time": "2022-04-20T19:00:16.382Z"
   },
   {
    "duration": 0,
    "start_time": "2022-04-20T19:00:16.383Z"
   },
   {
    "duration": 0,
    "start_time": "2022-04-20T19:00:16.385Z"
   },
   {
    "duration": 0,
    "start_time": "2022-04-20T19:00:16.386Z"
   },
   {
    "duration": 0,
    "start_time": "2022-04-20T19:00:16.387Z"
   },
   {
    "duration": 0,
    "start_time": "2022-04-20T19:00:16.389Z"
   },
   {
    "duration": 0,
    "start_time": "2022-04-20T19:00:16.390Z"
   },
   {
    "duration": 0,
    "start_time": "2022-04-20T19:00:16.392Z"
   },
   {
    "duration": 0,
    "start_time": "2022-04-20T19:00:16.394Z"
   },
   {
    "duration": 0,
    "start_time": "2022-04-20T19:00:16.395Z"
   },
   {
    "duration": 981,
    "start_time": "2022-04-20T19:01:04.487Z"
   },
   {
    "duration": 742,
    "start_time": "2022-04-20T19:01:05.472Z"
   },
   {
    "duration": 28,
    "start_time": "2022-04-20T19:01:06.216Z"
   },
   {
    "duration": 22,
    "start_time": "2022-04-20T19:01:06.248Z"
   },
   {
    "duration": 11,
    "start_time": "2022-04-20T19:01:06.283Z"
   },
   {
    "duration": 8,
    "start_time": "2022-04-20T19:01:06.296Z"
   },
   {
    "duration": 11,
    "start_time": "2022-04-20T19:01:06.307Z"
   },
   {
    "duration": 9,
    "start_time": "2022-04-20T19:01:06.321Z"
   },
   {
    "duration": 58,
    "start_time": "2022-04-20T19:01:06.333Z"
   },
   {
    "duration": 55,
    "start_time": "2022-04-20T19:01:06.397Z"
   },
   {
    "duration": 227,
    "start_time": "2022-04-20T19:01:06.455Z"
   },
   {
    "duration": 45,
    "start_time": "2022-04-20T19:01:06.684Z"
   },
   {
    "duration": 28,
    "start_time": "2022-04-20T19:01:06.731Z"
   },
   {
    "duration": 33,
    "start_time": "2022-04-20T19:01:06.761Z"
   },
   {
    "duration": 9,
    "start_time": "2022-04-20T19:01:06.797Z"
   },
   {
    "duration": 31,
    "start_time": "2022-04-20T19:01:06.809Z"
   },
   {
    "duration": 104,
    "start_time": "2022-04-20T19:01:06.842Z"
   },
   {
    "duration": 46,
    "start_time": "2022-04-20T19:01:06.948Z"
   },
   {
    "duration": 12,
    "start_time": "2022-04-20T19:01:06.996Z"
   },
   {
    "duration": 32,
    "start_time": "2022-04-20T19:01:07.009Z"
   },
   {
    "duration": 139,
    "start_time": "2022-04-20T19:01:07.043Z"
   },
   {
    "duration": 34,
    "start_time": "2022-04-20T19:01:07.185Z"
   },
   {
    "duration": 13,
    "start_time": "2022-04-20T19:01:07.221Z"
   },
   {
    "duration": 20,
    "start_time": "2022-04-20T19:01:07.236Z"
   },
   {
    "duration": 44,
    "start_time": "2022-04-20T19:01:07.258Z"
   },
   {
    "duration": 42,
    "start_time": "2022-04-20T19:01:07.304Z"
   },
   {
    "duration": 42,
    "start_time": "2022-04-20T19:01:07.348Z"
   },
   {
    "duration": 22,
    "start_time": "2022-04-20T19:01:07.398Z"
   },
   {
    "duration": 15,
    "start_time": "2022-04-20T19:01:07.423Z"
   },
   {
    "duration": 55,
    "start_time": "2022-04-20T19:01:07.441Z"
   },
   {
    "duration": 8,
    "start_time": "2022-04-20T19:01:07.499Z"
   },
   {
    "duration": 3590,
    "start_time": "2022-04-20T19:01:07.509Z"
   },
   {
    "duration": 31,
    "start_time": "2022-04-20T19:01:11.102Z"
   },
   {
    "duration": 20,
    "start_time": "2022-04-20T19:01:11.135Z"
   },
   {
    "duration": 40,
    "start_time": "2022-04-20T19:01:11.157Z"
   },
   {
    "duration": 36,
    "start_time": "2022-04-20T19:01:11.200Z"
   },
   {
    "duration": 74,
    "start_time": "2022-04-20T19:01:11.238Z"
   },
   {
    "duration": 44,
    "start_time": "2022-04-20T19:01:11.315Z"
   },
   {
    "duration": 39,
    "start_time": "2022-04-20T19:01:11.381Z"
   },
   {
    "duration": 12,
    "start_time": "2022-04-20T19:01:11.422Z"
   },
   {
    "duration": 47,
    "start_time": "2022-04-20T19:01:11.436Z"
   },
   {
    "duration": 11,
    "start_time": "2022-04-20T19:01:11.485Z"
   },
   {
    "duration": 14,
    "start_time": "2022-04-20T19:01:11.498Z"
   },
   {
    "duration": 8,
    "start_time": "2022-04-20T19:01:11.514Z"
   },
   {
    "duration": 17,
    "start_time": "2022-04-20T19:01:11.524Z"
   },
   {
    "duration": 39,
    "start_time": "2022-04-20T19:01:11.543Z"
   },
   {
    "duration": 32,
    "start_time": "2022-04-20T19:01:11.584Z"
   },
   {
    "duration": 9,
    "start_time": "2022-04-20T19:01:11.619Z"
   },
   {
    "duration": 37,
    "start_time": "2022-04-20T19:01:11.630Z"
   },
   {
    "duration": 25,
    "start_time": "2022-04-20T19:01:11.669Z"
   },
   {
    "duration": 7,
    "start_time": "2022-04-20T19:01:11.696Z"
   },
   {
    "duration": 21,
    "start_time": "2022-04-20T19:01:11.705Z"
   },
   {
    "duration": 9,
    "start_time": "2022-04-20T19:01:11.728Z"
   },
   {
    "duration": 761,
    "start_time": "2022-04-20T19:01:11.740Z"
   },
   {
    "duration": 19,
    "start_time": "2022-04-20T19:01:12.504Z"
   },
   {
    "duration": 59,
    "start_time": "2022-04-20T19:01:12.526Z"
   },
   {
    "duration": 666,
    "start_time": "2022-04-20T19:01:12.587Z"
   },
   {
    "duration": 406,
    "start_time": "2022-04-20T19:01:13.255Z"
   },
   {
    "duration": 32,
    "start_time": "2022-04-20T19:01:13.663Z"
   },
   {
    "duration": 20,
    "start_time": "2022-04-20T19:01:35.884Z"
   },
   {
    "duration": 18,
    "start_time": "2022-04-20T19:02:08.475Z"
   },
   {
    "duration": 989,
    "start_time": "2022-04-20T19:02:26.070Z"
   },
   {
    "duration": 504,
    "start_time": "2022-04-20T19:02:27.061Z"
   },
   {
    "duration": 20,
    "start_time": "2022-04-20T19:02:27.568Z"
   },
   {
    "duration": 19,
    "start_time": "2022-04-20T19:02:27.591Z"
   },
   {
    "duration": 25,
    "start_time": "2022-04-20T19:02:27.612Z"
   },
   {
    "duration": 12,
    "start_time": "2022-04-20T19:02:27.639Z"
   },
   {
    "duration": 30,
    "start_time": "2022-04-20T19:02:27.653Z"
   },
   {
    "duration": 5,
    "start_time": "2022-04-20T19:02:27.685Z"
   },
   {
    "duration": 16,
    "start_time": "2022-04-20T19:02:27.693Z"
   },
   {
    "duration": 36,
    "start_time": "2022-04-20T19:02:27.713Z"
   },
   {
    "duration": 193,
    "start_time": "2022-04-20T19:02:27.751Z"
   },
   {
    "duration": 52,
    "start_time": "2022-04-20T19:02:27.946Z"
   },
   {
    "duration": 29,
    "start_time": "2022-04-20T19:02:28.001Z"
   },
   {
    "duration": 14,
    "start_time": "2022-04-20T19:02:28.032Z"
   },
   {
    "duration": 43,
    "start_time": "2022-04-20T19:02:28.048Z"
   },
   {
    "duration": 28,
    "start_time": "2022-04-20T19:02:28.093Z"
   },
   {
    "duration": 109,
    "start_time": "2022-04-20T19:02:28.124Z"
   },
   {
    "duration": 47,
    "start_time": "2022-04-20T19:02:28.235Z"
   },
   {
    "duration": 13,
    "start_time": "2022-04-20T19:02:28.285Z"
   },
   {
    "duration": 33,
    "start_time": "2022-04-20T19:02:28.300Z"
   },
   {
    "duration": 180,
    "start_time": "2022-04-20T19:02:28.336Z"
   },
   {
    "duration": 66,
    "start_time": "2022-04-20T19:02:28.519Z"
   },
   {
    "duration": 14,
    "start_time": "2022-04-20T19:02:28.588Z"
   },
   {
    "duration": 24,
    "start_time": "2022-04-20T19:02:28.605Z"
   },
   {
    "duration": 24,
    "start_time": "2022-04-20T19:02:28.632Z"
   },
   {
    "duration": 44,
    "start_time": "2022-04-20T19:02:28.682Z"
   },
   {
    "duration": 15,
    "start_time": "2022-04-20T19:02:28.729Z"
   },
   {
    "duration": 51,
    "start_time": "2022-04-20T19:02:28.751Z"
   },
   {
    "duration": 12,
    "start_time": "2022-04-20T19:02:28.804Z"
   },
   {
    "duration": 16,
    "start_time": "2022-04-20T19:02:28.819Z"
   },
   {
    "duration": 6,
    "start_time": "2022-04-20T19:02:28.837Z"
   },
   {
    "duration": 3544,
    "start_time": "2022-04-20T19:02:28.881Z"
   },
   {
    "duration": 23,
    "start_time": "2022-04-20T19:02:32.482Z"
   },
   {
    "duration": 19,
    "start_time": "2022-04-20T19:02:32.508Z"
   },
   {
    "duration": 18,
    "start_time": "2022-04-20T19:02:32.582Z"
   },
   {
    "duration": 84,
    "start_time": "2022-04-20T19:02:32.602Z"
   },
   {
    "duration": 110,
    "start_time": "2022-04-20T19:02:32.689Z"
   },
   {
    "duration": 43,
    "start_time": "2022-04-20T19:02:32.801Z"
   },
   {
    "duration": 71,
    "start_time": "2022-04-20T19:02:32.846Z"
   },
   {
    "duration": 12,
    "start_time": "2022-04-20T19:02:32.919Z"
   },
   {
    "duration": 15,
    "start_time": "2022-04-20T19:02:32.933Z"
   },
   {
    "duration": 11,
    "start_time": "2022-04-20T19:02:32.983Z"
   },
   {
    "duration": 15,
    "start_time": "2022-04-20T19:02:32.996Z"
   },
   {
    "duration": 4,
    "start_time": "2022-04-20T19:02:33.014Z"
   },
   {
    "duration": 23,
    "start_time": "2022-04-20T19:02:33.020Z"
   },
   {
    "duration": 39,
    "start_time": "2022-04-20T19:02:33.046Z"
   },
   {
    "duration": 26,
    "start_time": "2022-04-20T19:02:33.088Z"
   },
   {
    "duration": 9,
    "start_time": "2022-04-20T19:02:33.116Z"
   },
   {
    "duration": 19,
    "start_time": "2022-04-20T19:02:33.127Z"
   },
   {
    "duration": 49,
    "start_time": "2022-04-20T19:02:33.148Z"
   },
   {
    "duration": 10,
    "start_time": "2022-04-20T19:02:33.200Z"
   },
   {
    "duration": 17,
    "start_time": "2022-04-20T19:02:33.212Z"
   },
   {
    "duration": 9,
    "start_time": "2022-04-20T19:02:33.231Z"
   },
   {
    "duration": 862,
    "start_time": "2022-04-20T19:02:33.282Z"
   },
   {
    "duration": 19,
    "start_time": "2022-04-20T19:02:34.146Z"
   },
   {
    "duration": 39,
    "start_time": "2022-04-20T19:02:34.181Z"
   },
   {
    "duration": 549,
    "start_time": "2022-04-20T19:02:34.222Z"
   },
   {
    "duration": 415,
    "start_time": "2022-04-20T19:02:34.774Z"
   },
   {
    "duration": 22,
    "start_time": "2022-04-20T19:02:35.192Z"
   },
   {
    "duration": 6,
    "start_time": "2022-04-20T19:03:00.008Z"
   },
   {
    "duration": 891,
    "start_time": "2022-04-20T19:03:08.739Z"
   },
   {
    "duration": 503,
    "start_time": "2022-04-20T19:03:11.895Z"
   },
   {
    "duration": 21,
    "start_time": "2022-04-20T19:03:12.450Z"
   },
   {
    "duration": 18,
    "start_time": "2022-04-20T19:03:12.720Z"
   },
   {
    "duration": 9,
    "start_time": "2022-04-20T19:03:12.990Z"
   },
   {
    "duration": 7,
    "start_time": "2022-04-20T19:03:13.234Z"
   },
   {
    "duration": 6,
    "start_time": "2022-04-20T19:03:13.521Z"
   },
   {
    "duration": 7,
    "start_time": "2022-04-20T19:03:14.229Z"
   },
   {
    "duration": 12,
    "start_time": "2022-04-20T19:03:15.172Z"
   },
   {
    "duration": 34,
    "start_time": "2022-04-20T19:03:15.518Z"
   },
   {
    "duration": 152,
    "start_time": "2022-04-20T19:03:15.796Z"
   },
   {
    "duration": 45,
    "start_time": "2022-04-20T19:03:16.393Z"
   },
   {
    "duration": 28,
    "start_time": "2022-04-20T19:03:16.711Z"
   },
   {
    "duration": 15,
    "start_time": "2022-04-20T19:03:17.345Z"
   },
   {
    "duration": 11,
    "start_time": "2022-04-20T19:03:18.019Z"
   },
   {
    "duration": 26,
    "start_time": "2022-04-20T19:03:18.430Z"
   },
   {
    "duration": 78,
    "start_time": "2022-04-20T19:03:18.851Z"
   },
   {
    "duration": 31,
    "start_time": "2022-04-20T19:03:19.728Z"
   },
   {
    "duration": 12,
    "start_time": "2022-04-20T19:03:20.433Z"
   },
   {
    "duration": 29,
    "start_time": "2022-04-20T19:03:20.760Z"
   },
   {
    "duration": 109,
    "start_time": "2022-04-20T19:03:21.101Z"
   },
   {
    "duration": 34,
    "start_time": "2022-04-20T19:03:21.820Z"
   },
   {
    "duration": 10,
    "start_time": "2022-04-20T19:03:22.132Z"
   },
   {
    "duration": 12,
    "start_time": "2022-04-20T19:03:22.469Z"
   },
   {
    "duration": 22,
    "start_time": "2022-04-20T19:03:23.205Z"
   },
   {
    "duration": 41,
    "start_time": "2022-04-20T19:03:24.581Z"
   },
   {
    "duration": 13,
    "start_time": "2022-04-20T19:03:24.870Z"
   },
   {
    "duration": 22,
    "start_time": "2022-04-20T19:03:25.105Z"
   },
   {
    "duration": 11,
    "start_time": "2022-04-20T19:03:25.657Z"
   },
   {
    "duration": 15,
    "start_time": "2022-04-20T19:03:25.841Z"
   },
   {
    "duration": 5,
    "start_time": "2022-04-20T19:03:29.157Z"
   },
   {
    "duration": 2240,
    "start_time": "2022-04-20T19:03:29.354Z"
   },
   {
    "duration": 26,
    "start_time": "2022-04-20T19:03:31.597Z"
   },
   {
    "duration": 20,
    "start_time": "2022-04-20T19:03:31.626Z"
   },
   {
    "duration": 47,
    "start_time": "2022-04-20T19:03:31.651Z"
   },
   {
    "duration": 25,
    "start_time": "2022-04-20T19:03:31.701Z"
   },
   {
    "duration": 89,
    "start_time": "2022-04-20T19:03:31.729Z"
   },
   {
    "duration": 44,
    "start_time": "2022-04-20T19:03:34.067Z"
   },
   {
    "duration": 42,
    "start_time": "2022-04-20T19:03:37.532Z"
   },
   {
    "duration": 13,
    "start_time": "2022-04-20T19:03:41.568Z"
   },
   {
    "duration": 19,
    "start_time": "2022-04-20T19:03:45.022Z"
   },
   {
    "duration": 13,
    "start_time": "2022-04-20T19:03:51.794Z"
   },
   {
    "duration": 17,
    "start_time": "2022-04-20T19:03:55.927Z"
   },
   {
    "duration": 5,
    "start_time": "2022-04-20T19:04:06.839Z"
   },
   {
    "duration": 16,
    "start_time": "2022-04-20T19:04:07.163Z"
   },
   {
    "duration": 871,
    "start_time": "2022-04-20T19:04:48.091Z"
   },
   {
    "duration": 928,
    "start_time": "2022-04-20T19:04:48.965Z"
   },
   {
    "duration": 20,
    "start_time": "2022-04-20T19:04:49.895Z"
   },
   {
    "duration": 68,
    "start_time": "2022-04-20T19:04:49.918Z"
   },
   {
    "duration": 9,
    "start_time": "2022-04-20T19:04:49.989Z"
   },
   {
    "duration": 6,
    "start_time": "2022-04-20T19:04:50.000Z"
   },
   {
    "duration": 6,
    "start_time": "2022-04-20T19:04:50.009Z"
   },
   {
    "duration": 65,
    "start_time": "2022-04-20T19:04:50.017Z"
   },
   {
    "duration": 15,
    "start_time": "2022-04-20T19:04:50.084Z"
   },
   {
    "duration": 88,
    "start_time": "2022-04-20T19:04:50.103Z"
   },
   {
    "duration": 312,
    "start_time": "2022-04-20T19:04:50.193Z"
   },
   {
    "duration": 95,
    "start_time": "2022-04-20T19:04:50.507Z"
   },
   {
    "duration": 80,
    "start_time": "2022-04-20T19:04:50.604Z"
   },
   {
    "duration": 14,
    "start_time": "2022-04-20T19:04:50.686Z"
   },
   {
    "duration": 12,
    "start_time": "2022-04-20T19:04:50.703Z"
   },
   {
    "duration": 82,
    "start_time": "2022-04-20T19:04:50.718Z"
   },
   {
    "duration": 181,
    "start_time": "2022-04-20T19:04:50.802Z"
   },
   {
    "duration": 29,
    "start_time": "2022-04-20T19:04:50.986Z"
   },
   {
    "duration": 68,
    "start_time": "2022-04-20T19:04:51.018Z"
   },
   {
    "duration": 28,
    "start_time": "2022-04-20T19:04:51.089Z"
   },
   {
    "duration": 286,
    "start_time": "2022-04-20T19:04:51.120Z"
   },
   {
    "duration": 89,
    "start_time": "2022-04-20T19:04:51.409Z"
   },
   {
    "duration": 10,
    "start_time": "2022-04-20T19:04:51.501Z"
   },
   {
    "duration": 69,
    "start_time": "2022-04-20T19:04:51.514Z"
   },
   {
    "duration": 22,
    "start_time": "2022-04-20T19:04:51.585Z"
   },
   {
    "duration": 96,
    "start_time": "2022-04-20T19:04:51.610Z"
   },
   {
    "duration": 14,
    "start_time": "2022-04-20T19:04:51.708Z"
   },
   {
    "duration": 73,
    "start_time": "2022-04-20T19:04:51.727Z"
   },
   {
    "duration": 13,
    "start_time": "2022-04-20T19:04:51.802Z"
   },
   {
    "duration": 72,
    "start_time": "2022-04-20T19:04:51.817Z"
   },
   {
    "duration": 9,
    "start_time": "2022-04-20T19:04:51.891Z"
   },
   {
    "duration": 4688,
    "start_time": "2022-04-20T19:04:51.903Z"
   },
   {
    "duration": 90,
    "start_time": "2022-04-20T19:04:56.595Z"
   },
   {
    "duration": 18,
    "start_time": "2022-04-20T19:04:56.687Z"
   },
   {
    "duration": 17,
    "start_time": "2022-04-20T19:04:56.707Z"
   },
   {
    "duration": 72,
    "start_time": "2022-04-20T19:04:56.726Z"
   },
   {
    "duration": 107,
    "start_time": "2022-04-20T19:04:56.800Z"
   },
   {
    "duration": 116,
    "start_time": "2022-04-20T19:04:56.910Z"
   },
   {
    "duration": 108,
    "start_time": "2022-04-20T19:04:57.082Z"
   },
   {
    "duration": 11,
    "start_time": "2022-04-20T19:04:57.192Z"
   },
   {
    "duration": 18,
    "start_time": "2022-04-20T19:04:57.205Z"
   },
   {
    "duration": 17,
    "start_time": "2022-04-20T19:04:57.281Z"
   },
   {
    "duration": 82,
    "start_time": "2022-04-20T19:04:57.301Z"
   },
   {
    "duration": 10,
    "start_time": "2022-04-20T19:04:57.386Z"
   },
   {
    "duration": 84,
    "start_time": "2022-04-20T19:04:57.398Z"
   },
   {
    "duration": 5,
    "start_time": "2022-04-20T19:04:57.484Z"
   },
   {
    "duration": 22,
    "start_time": "2022-04-20T19:04:57.491Z"
   },
   {
    "duration": 10,
    "start_time": "2022-04-20T19:04:57.515Z"
   },
   {
    "duration": 70,
    "start_time": "2022-04-20T19:04:57.527Z"
   },
   {
    "duration": 30,
    "start_time": "2022-04-20T19:04:57.599Z"
   },
   {
    "duration": 56,
    "start_time": "2022-04-20T19:04:57.632Z"
   },
   {
    "duration": 20,
    "start_time": "2022-04-20T19:04:57.691Z"
   },
   {
    "duration": 12,
    "start_time": "2022-04-20T19:04:57.714Z"
   },
   {
    "duration": 275,
    "start_time": "2022-04-20T19:04:57.729Z"
   },
   {
    "duration": 19,
    "start_time": "2022-04-20T19:04:58.006Z"
   },
   {
    "duration": 56,
    "start_time": "2022-04-20T19:04:58.027Z"
   },
   {
    "duration": 413,
    "start_time": "2022-04-20T19:04:58.085Z"
   },
   {
    "duration": 407,
    "start_time": "2022-04-20T19:04:58.501Z"
   },
   {
    "duration": 28,
    "start_time": "2022-04-20T19:04:58.911Z"
   },
   {
    "duration": 116,
    "start_time": "2022-04-20T19:05:19.646Z"
   },
   {
    "duration": 22,
    "start_time": "2022-04-20T19:05:19.997Z"
   },
   {
    "duration": 927,
    "start_time": "2022-04-20T19:05:25.604Z"
   },
   {
    "duration": 513,
    "start_time": "2022-04-20T19:05:26.535Z"
   },
   {
    "duration": 21,
    "start_time": "2022-04-20T19:05:27.050Z"
   },
   {
    "duration": 17,
    "start_time": "2022-04-20T19:05:27.081Z"
   },
   {
    "duration": 9,
    "start_time": "2022-04-20T19:05:27.100Z"
   },
   {
    "duration": 6,
    "start_time": "2022-04-20T19:05:27.111Z"
   },
   {
    "duration": 7,
    "start_time": "2022-04-20T19:05:27.119Z"
   },
   {
    "duration": 8,
    "start_time": "2022-04-20T19:05:27.128Z"
   },
   {
    "duration": 50,
    "start_time": "2022-04-20T19:05:27.138Z"
   },
   {
    "duration": 71,
    "start_time": "2022-04-20T19:05:27.192Z"
   },
   {
    "duration": 153,
    "start_time": "2022-04-20T19:05:27.265Z"
   },
   {
    "duration": 63,
    "start_time": "2022-04-20T19:05:27.421Z"
   },
   {
    "duration": 29,
    "start_time": "2022-04-20T19:05:27.486Z"
   },
   {
    "duration": 15,
    "start_time": "2022-04-20T19:05:27.518Z"
   },
   {
    "duration": 11,
    "start_time": "2022-04-20T19:05:27.535Z"
   },
   {
    "duration": 28,
    "start_time": "2022-04-20T19:05:27.581Z"
   },
   {
    "duration": 105,
    "start_time": "2022-04-20T19:05:27.612Z"
   },
   {
    "duration": 32,
    "start_time": "2022-04-20T19:05:27.719Z"
   },
   {
    "duration": 33,
    "start_time": "2022-04-20T19:05:27.754Z"
   },
   {
    "duration": 29,
    "start_time": "2022-04-20T19:05:27.791Z"
   },
   {
    "duration": 203,
    "start_time": "2022-04-20T19:05:27.822Z"
   },
   {
    "duration": 35,
    "start_time": "2022-04-20T19:05:28.081Z"
   },
   {
    "duration": 68,
    "start_time": "2022-04-20T19:05:28.118Z"
   },
   {
    "duration": 15,
    "start_time": "2022-04-20T19:05:28.188Z"
   },
   {
    "duration": 77,
    "start_time": "2022-04-20T19:05:28.206Z"
   },
   {
    "duration": 111,
    "start_time": "2022-04-20T19:05:28.286Z"
   },
   {
    "duration": 18,
    "start_time": "2022-04-20T19:05:28.400Z"
   },
   {
    "duration": 85,
    "start_time": "2022-04-20T19:05:28.426Z"
   },
   {
    "duration": 15,
    "start_time": "2022-04-20T19:05:28.514Z"
   },
   {
    "duration": 69,
    "start_time": "2022-04-20T19:05:28.530Z"
   },
   {
    "duration": 5,
    "start_time": "2022-04-20T19:05:28.603Z"
   },
   {
    "duration": 4067,
    "start_time": "2022-04-20T19:05:28.609Z"
   },
   {
    "duration": 40,
    "start_time": "2022-04-20T19:05:32.678Z"
   },
   {
    "duration": 27,
    "start_time": "2022-04-20T19:05:32.720Z"
   },
   {
    "duration": 54,
    "start_time": "2022-04-20T19:05:32.750Z"
   },
   {
    "duration": 21,
    "start_time": "2022-04-20T19:05:32.806Z"
   },
   {
    "duration": 90,
    "start_time": "2022-04-20T19:05:32.829Z"
   },
   {
    "duration": 42,
    "start_time": "2022-04-20T19:05:32.921Z"
   },
   {
    "duration": 51,
    "start_time": "2022-04-20T19:05:32.965Z"
   },
   {
    "duration": 14,
    "start_time": "2022-04-20T19:05:33.018Z"
   },
   {
    "duration": 56,
    "start_time": "2022-04-20T19:05:33.034Z"
   },
   {
    "duration": 18,
    "start_time": "2022-04-20T19:05:33.093Z"
   },
   {
    "duration": 27,
    "start_time": "2022-04-20T19:05:33.114Z"
   },
   {
    "duration": 4,
    "start_time": "2022-04-20T19:05:33.143Z"
   },
   {
    "duration": 22,
    "start_time": "2022-04-20T19:05:33.182Z"
   },
   {
    "duration": 8,
    "start_time": "2022-04-20T19:05:33.207Z"
   },
   {
    "duration": 15,
    "start_time": "2022-04-20T19:05:33.217Z"
   },
   {
    "duration": 10,
    "start_time": "2022-04-20T19:05:33.234Z"
   },
   {
    "duration": 49,
    "start_time": "2022-04-20T19:05:33.246Z"
   },
   {
    "duration": 24,
    "start_time": "2022-04-20T19:05:33.298Z"
   },
   {
    "duration": 5,
    "start_time": "2022-04-20T19:05:33.325Z"
   },
   {
    "duration": 16,
    "start_time": "2022-04-20T19:05:33.332Z"
   },
   {
    "duration": 8,
    "start_time": "2022-04-20T19:05:33.382Z"
   },
   {
    "duration": 115,
    "start_time": "2022-04-20T19:05:33.392Z"
   },
   {
    "duration": 19,
    "start_time": "2022-04-20T19:05:33.509Z"
   },
   {
    "duration": 56,
    "start_time": "2022-04-20T19:05:33.530Z"
   },
   {
    "duration": 438,
    "start_time": "2022-04-20T19:05:33.588Z"
   },
   {
    "duration": 410,
    "start_time": "2022-04-20T19:05:34.028Z"
   },
   {
    "duration": 21,
    "start_time": "2022-04-20T19:05:34.440Z"
   },
   {
    "duration": 637,
    "start_time": "2022-04-20T19:06:18.328Z"
   },
   {
    "duration": 916,
    "start_time": "2022-04-20T19:06:25.040Z"
   },
   {
    "duration": 511,
    "start_time": "2022-04-20T19:06:25.959Z"
   },
   {
    "duration": 22,
    "start_time": "2022-04-20T19:06:26.472Z"
   },
   {
    "duration": 16,
    "start_time": "2022-04-20T19:06:26.497Z"
   },
   {
    "duration": 10,
    "start_time": "2022-04-20T19:06:26.515Z"
   },
   {
    "duration": 7,
    "start_time": "2022-04-20T19:06:26.527Z"
   },
   {
    "duration": 6,
    "start_time": "2022-04-20T19:06:26.537Z"
   },
   {
    "duration": 43,
    "start_time": "2022-04-20T19:06:26.545Z"
   },
   {
    "duration": 19,
    "start_time": "2022-04-20T19:06:26.590Z"
   },
   {
    "duration": 66,
    "start_time": "2022-04-20T19:06:26.615Z"
   },
   {
    "duration": 155,
    "start_time": "2022-04-20T19:06:26.683Z"
   },
   {
    "duration": 56,
    "start_time": "2022-04-20T19:06:26.840Z"
   },
   {
    "duration": 28,
    "start_time": "2022-04-20T19:06:26.899Z"
   },
   {
    "duration": 15,
    "start_time": "2022-04-20T19:06:26.929Z"
   },
   {
    "duration": 9,
    "start_time": "2022-04-20T19:06:26.946Z"
   },
   {
    "duration": 25,
    "start_time": "2022-04-20T19:06:26.981Z"
   },
   {
    "duration": 101,
    "start_time": "2022-04-20T19:06:27.009Z"
   },
   {
    "duration": 32,
    "start_time": "2022-04-20T19:06:27.112Z"
   },
   {
    "duration": 13,
    "start_time": "2022-04-20T19:06:27.146Z"
   },
   {
    "duration": 50,
    "start_time": "2022-04-20T19:06:27.181Z"
   },
   {
    "duration": 147,
    "start_time": "2022-04-20T19:06:27.234Z"
   },
   {
    "duration": 34,
    "start_time": "2022-04-20T19:06:27.384Z"
   },
   {
    "duration": 11,
    "start_time": "2022-04-20T19:06:27.421Z"
   },
   {
    "duration": 15,
    "start_time": "2022-04-20T19:06:27.435Z"
   },
   {
    "duration": 24,
    "start_time": "2022-04-20T19:06:27.481Z"
   },
   {
    "duration": 41,
    "start_time": "2022-04-20T19:06:27.508Z"
   },
   {
    "duration": 41,
    "start_time": "2022-04-20T19:06:27.551Z"
   },
   {
    "duration": 22,
    "start_time": "2022-04-20T19:06:27.597Z"
   },
   {
    "duration": 68,
    "start_time": "2022-04-20T19:06:27.621Z"
   },
   {
    "duration": 23,
    "start_time": "2022-04-20T19:06:27.692Z"
   },
   {
    "duration": 6,
    "start_time": "2022-04-20T19:06:27.717Z"
   },
   {
    "duration": 4306,
    "start_time": "2022-04-20T19:06:27.725Z"
   },
   {
    "duration": 24,
    "start_time": "2022-04-20T19:06:32.034Z"
   },
   {
    "duration": 35,
    "start_time": "2022-04-20T19:06:32.061Z"
   },
   {
    "duration": 17,
    "start_time": "2022-04-20T19:06:32.098Z"
   },
   {
    "duration": 18,
    "start_time": "2022-04-20T19:06:32.117Z"
   },
   {
    "duration": 92,
    "start_time": "2022-04-20T19:06:32.138Z"
   },
   {
    "duration": 61,
    "start_time": "2022-04-20T19:06:32.232Z"
   },
   {
    "duration": 37,
    "start_time": "2022-04-20T19:06:32.296Z"
   },
   {
    "duration": 11,
    "start_time": "2022-04-20T19:06:32.335Z"
   },
   {
    "duration": 45,
    "start_time": "2022-04-20T19:06:32.349Z"
   },
   {
    "duration": 13,
    "start_time": "2022-04-20T19:06:32.396Z"
   },
   {
    "duration": 18,
    "start_time": "2022-04-20T19:06:32.411Z"
   },
   {
    "duration": 678,
    "start_time": "2022-04-20T19:06:32.431Z"
   },
   {
    "duration": 0,
    "start_time": "2022-04-20T19:06:33.112Z"
   },
   {
    "duration": 0,
    "start_time": "2022-04-20T19:06:33.114Z"
   },
   {
    "duration": 0,
    "start_time": "2022-04-20T19:06:33.115Z"
   },
   {
    "duration": 0,
    "start_time": "2022-04-20T19:06:33.117Z"
   },
   {
    "duration": 0,
    "start_time": "2022-04-20T19:06:33.119Z"
   },
   {
    "duration": 0,
    "start_time": "2022-04-20T19:06:33.120Z"
   },
   {
    "duration": 0,
    "start_time": "2022-04-20T19:06:33.122Z"
   },
   {
    "duration": 0,
    "start_time": "2022-04-20T19:06:33.124Z"
   },
   {
    "duration": 0,
    "start_time": "2022-04-20T19:06:33.125Z"
   },
   {
    "duration": 0,
    "start_time": "2022-04-20T19:06:33.127Z"
   },
   {
    "duration": 0,
    "start_time": "2022-04-20T19:06:33.129Z"
   },
   {
    "duration": 0,
    "start_time": "2022-04-20T19:06:33.130Z"
   },
   {
    "duration": 0,
    "start_time": "2022-04-20T19:06:33.132Z"
   },
   {
    "duration": 0,
    "start_time": "2022-04-20T19:06:33.134Z"
   },
   {
    "duration": 0,
    "start_time": "2022-04-20T19:06:33.135Z"
   },
   {
    "duration": 890,
    "start_time": "2022-04-20T19:06:52.965Z"
   },
   {
    "duration": 520,
    "start_time": "2022-04-20T19:06:53.858Z"
   },
   {
    "duration": 20,
    "start_time": "2022-04-20T19:06:54.380Z"
   },
   {
    "duration": 17,
    "start_time": "2022-04-20T19:06:54.403Z"
   },
   {
    "duration": 15,
    "start_time": "2022-04-20T19:06:54.422Z"
   },
   {
    "duration": 6,
    "start_time": "2022-04-20T19:06:54.439Z"
   },
   {
    "duration": 34,
    "start_time": "2022-04-20T19:06:54.447Z"
   },
   {
    "duration": 7,
    "start_time": "2022-04-20T19:06:54.483Z"
   },
   {
    "duration": 14,
    "start_time": "2022-04-20T19:06:54.492Z"
   },
   {
    "duration": 38,
    "start_time": "2022-04-20T19:06:54.510Z"
   },
   {
    "duration": 206,
    "start_time": "2022-04-20T19:06:54.550Z"
   },
   {
    "duration": 54,
    "start_time": "2022-04-20T19:06:54.758Z"
   },
   {
    "duration": 29,
    "start_time": "2022-04-20T19:06:54.814Z"
   },
   {
    "duration": 38,
    "start_time": "2022-04-20T19:06:54.845Z"
   },
   {
    "duration": 10,
    "start_time": "2022-04-20T19:06:54.885Z"
   },
   {
    "duration": 35,
    "start_time": "2022-04-20T19:06:54.897Z"
   },
   {
    "duration": 102,
    "start_time": "2022-04-20T19:06:54.934Z"
   },
   {
    "duration": 43,
    "start_time": "2022-04-20T19:06:55.039Z"
   },
   {
    "duration": 12,
    "start_time": "2022-04-20T19:06:55.084Z"
   },
   {
    "duration": 29,
    "start_time": "2022-04-20T19:06:55.098Z"
   },
   {
    "duration": 134,
    "start_time": "2022-04-20T19:06:55.130Z"
   },
   {
    "duration": 38,
    "start_time": "2022-04-20T19:06:55.267Z"
   },
   {
    "duration": 11,
    "start_time": "2022-04-20T19:06:55.307Z"
   },
   {
    "duration": 15,
    "start_time": "2022-04-20T19:06:55.320Z"
   },
   {
    "duration": 55,
    "start_time": "2022-04-20T19:06:55.337Z"
   },
   {
    "duration": 42,
    "start_time": "2022-04-20T19:06:55.394Z"
   },
   {
    "duration": 13,
    "start_time": "2022-04-20T19:06:55.438Z"
   },
   {
    "duration": 22,
    "start_time": "2022-04-20T19:06:55.481Z"
   },
   {
    "duration": 11,
    "start_time": "2022-04-20T19:06:55.505Z"
   },
   {
    "duration": 22,
    "start_time": "2022-04-20T19:06:55.518Z"
   },
   {
    "duration": 6,
    "start_time": "2022-04-20T19:06:55.542Z"
   },
   {
    "duration": 2476,
    "start_time": "2022-04-20T19:06:55.550Z"
   },
   {
    "duration": 27,
    "start_time": "2022-04-20T19:06:58.028Z"
   },
   {
    "duration": 39,
    "start_time": "2022-04-20T19:06:58.057Z"
   },
   {
    "duration": 18,
    "start_time": "2022-04-20T19:06:58.098Z"
   },
   {
    "duration": 20,
    "start_time": "2022-04-20T19:06:58.118Z"
   },
   {
    "duration": 90,
    "start_time": "2022-04-20T19:06:58.140Z"
   },
   {
    "duration": 58,
    "start_time": "2022-04-20T19:06:58.232Z"
   },
   {
    "duration": 39,
    "start_time": "2022-04-20T19:06:58.292Z"
   },
   {
    "duration": 12,
    "start_time": "2022-04-20T19:06:58.333Z"
   },
   {
    "duration": 43,
    "start_time": "2022-04-20T19:06:58.348Z"
   },
   {
    "duration": 13,
    "start_time": "2022-04-20T19:06:58.393Z"
   },
   {
    "duration": 16,
    "start_time": "2022-04-20T19:06:58.408Z"
   },
   {
    "duration": 670,
    "start_time": "2022-04-20T19:06:58.426Z"
   },
   {
    "duration": 0,
    "start_time": "2022-04-20T19:06:59.099Z"
   },
   {
    "duration": 0,
    "start_time": "2022-04-20T19:06:59.102Z"
   },
   {
    "duration": 0,
    "start_time": "2022-04-20T19:06:59.103Z"
   },
   {
    "duration": 0,
    "start_time": "2022-04-20T19:06:59.105Z"
   },
   {
    "duration": 0,
    "start_time": "2022-04-20T19:06:59.107Z"
   },
   {
    "duration": 0,
    "start_time": "2022-04-20T19:06:59.108Z"
   },
   {
    "duration": 0,
    "start_time": "2022-04-20T19:06:59.110Z"
   },
   {
    "duration": 0,
    "start_time": "2022-04-20T19:06:59.111Z"
   },
   {
    "duration": 0,
    "start_time": "2022-04-20T19:06:59.113Z"
   },
   {
    "duration": 0,
    "start_time": "2022-04-20T19:06:59.114Z"
   },
   {
    "duration": 0,
    "start_time": "2022-04-20T19:06:59.116Z"
   },
   {
    "duration": 0,
    "start_time": "2022-04-20T19:06:59.117Z"
   },
   {
    "duration": 0,
    "start_time": "2022-04-20T19:06:59.119Z"
   },
   {
    "duration": 0,
    "start_time": "2022-04-20T19:06:59.120Z"
   },
   {
    "duration": 0,
    "start_time": "2022-04-20T19:06:59.122Z"
   },
   {
    "duration": 18,
    "start_time": "2022-04-20T19:07:34.754Z"
   },
   {
    "duration": 26,
    "start_time": "2022-04-20T19:07:47.930Z"
   },
   {
    "duration": 885,
    "start_time": "2022-04-20T19:08:36.160Z"
   },
   {
    "duration": 774,
    "start_time": "2022-04-20T19:08:37.047Z"
   },
   {
    "duration": 68,
    "start_time": "2022-04-20T19:08:37.823Z"
   },
   {
    "duration": 16,
    "start_time": "2022-04-20T19:08:37.894Z"
   },
   {
    "duration": 10,
    "start_time": "2022-04-20T19:08:37.912Z"
   },
   {
    "duration": 58,
    "start_time": "2022-04-20T19:08:37.924Z"
   },
   {
    "duration": 7,
    "start_time": "2022-04-20T19:08:37.984Z"
   },
   {
    "duration": 8,
    "start_time": "2022-04-20T19:08:37.993Z"
   },
   {
    "duration": 15,
    "start_time": "2022-04-20T19:08:38.003Z"
   },
   {
    "duration": 85,
    "start_time": "2022-04-20T19:08:38.021Z"
   },
   {
    "duration": 302,
    "start_time": "2022-04-20T19:08:38.108Z"
   },
   {
    "duration": 98,
    "start_time": "2022-04-20T19:08:38.412Z"
   },
   {
    "duration": 81,
    "start_time": "2022-04-20T19:08:38.512Z"
   },
   {
    "duration": 13,
    "start_time": "2022-04-20T19:08:38.595Z"
   },
   {
    "duration": 10,
    "start_time": "2022-04-20T19:08:38.610Z"
   },
   {
    "duration": 79,
    "start_time": "2022-04-20T19:08:38.622Z"
   },
   {
    "duration": 126,
    "start_time": "2022-04-20T19:08:38.703Z"
   },
   {
    "duration": 30,
    "start_time": "2022-04-20T19:08:38.883Z"
   },
   {
    "duration": 67,
    "start_time": "2022-04-20T19:08:38.915Z"
   },
   {
    "duration": 28,
    "start_time": "2022-04-20T19:08:38.985Z"
   },
   {
    "duration": 268,
    "start_time": "2022-04-20T19:08:39.015Z"
   },
   {
    "duration": 35,
    "start_time": "2022-04-20T19:08:39.285Z"
   },
   {
    "duration": 60,
    "start_time": "2022-04-20T19:08:39.323Z"
   },
   {
    "duration": 17,
    "start_time": "2022-04-20T19:08:39.385Z"
   },
   {
    "duration": 77,
    "start_time": "2022-04-20T19:08:39.404Z"
   },
   {
    "duration": 41,
    "start_time": "2022-04-20T19:08:39.483Z"
   },
   {
    "duration": 67,
    "start_time": "2022-04-20T19:08:39.526Z"
   },
   {
    "duration": 21,
    "start_time": "2022-04-20T19:08:39.598Z"
   },
   {
    "duration": 63,
    "start_time": "2022-04-20T19:08:39.621Z"
   },
   {
    "duration": 17,
    "start_time": "2022-04-20T19:08:39.687Z"
   },
   {
    "duration": 8,
    "start_time": "2022-04-20T19:08:39.706Z"
   },
   {
    "duration": 2491,
    "start_time": "2022-04-20T19:08:39.716Z"
   },
   {
    "duration": 25,
    "start_time": "2022-04-20T19:08:42.209Z"
   },
   {
    "duration": 20,
    "start_time": "2022-04-20T19:08:42.236Z"
   },
   {
    "duration": 38,
    "start_time": "2022-04-20T19:08:42.258Z"
   },
   {
    "duration": 18,
    "start_time": "2022-04-20T19:08:42.298Z"
   },
   {
    "duration": 80,
    "start_time": "2022-04-20T19:08:42.318Z"
   },
   {
    "duration": 42,
    "start_time": "2022-04-20T19:08:42.400Z"
   },
   {
    "duration": 59,
    "start_time": "2022-04-20T19:08:42.444Z"
   },
   {
    "duration": 12,
    "start_time": "2022-04-20T19:08:42.505Z"
   },
   {
    "duration": 16,
    "start_time": "2022-04-20T19:08:42.519Z"
   },
   {
    "duration": 14,
    "start_time": "2022-04-20T19:08:42.537Z"
   },
   {
    "duration": 18,
    "start_time": "2022-04-20T19:08:42.582Z"
   },
   {
    "duration": 641,
    "start_time": "2022-04-20T19:08:42.603Z"
   },
   {
    "duration": 0,
    "start_time": "2022-04-20T19:08:43.247Z"
   },
   {
    "duration": 0,
    "start_time": "2022-04-20T19:08:43.249Z"
   },
   {
    "duration": 0,
    "start_time": "2022-04-20T19:08:43.251Z"
   },
   {
    "duration": 0,
    "start_time": "2022-04-20T19:08:43.252Z"
   },
   {
    "duration": 0,
    "start_time": "2022-04-20T19:08:43.253Z"
   },
   {
    "duration": 0,
    "start_time": "2022-04-20T19:08:43.254Z"
   },
   {
    "duration": 0,
    "start_time": "2022-04-20T19:08:43.255Z"
   },
   {
    "duration": 0,
    "start_time": "2022-04-20T19:08:43.257Z"
   },
   {
    "duration": 0,
    "start_time": "2022-04-20T19:08:43.258Z"
   },
   {
    "duration": 0,
    "start_time": "2022-04-20T19:08:43.259Z"
   },
   {
    "duration": 0,
    "start_time": "2022-04-20T19:08:43.260Z"
   },
   {
    "duration": 0,
    "start_time": "2022-04-20T19:08:43.261Z"
   },
   {
    "duration": 0,
    "start_time": "2022-04-20T19:08:43.263Z"
   },
   {
    "duration": 0,
    "start_time": "2022-04-20T19:08:43.264Z"
   },
   {
    "duration": 0,
    "start_time": "2022-04-20T19:08:43.265Z"
   },
   {
    "duration": 529,
    "start_time": "2022-04-20T19:09:19.809Z"
   },
   {
    "duration": 620,
    "start_time": "2022-04-20T19:09:41.860Z"
   },
   {
    "duration": 21,
    "start_time": "2022-04-20T19:09:46.624Z"
   },
   {
    "duration": 10,
    "start_time": "2022-04-20T19:10:00.582Z"
   },
   {
    "duration": 5,
    "start_time": "2022-04-20T19:10:02.338Z"
   },
   {
    "duration": 10,
    "start_time": "2022-04-20T19:10:07.779Z"
   },
   {
    "duration": 5,
    "start_time": "2022-04-20T19:10:08.859Z"
   },
   {
    "duration": 847,
    "start_time": "2022-04-20T19:10:18.997Z"
   },
   {
    "duration": 496,
    "start_time": "2022-04-20T19:10:19.847Z"
   },
   {
    "duration": 27,
    "start_time": "2022-04-20T19:10:20.345Z"
   },
   {
    "duration": 16,
    "start_time": "2022-04-20T19:10:20.382Z"
   },
   {
    "duration": 12,
    "start_time": "2022-04-20T19:10:20.400Z"
   },
   {
    "duration": 7,
    "start_time": "2022-04-20T19:10:20.414Z"
   },
   {
    "duration": 7,
    "start_time": "2022-04-20T19:10:20.423Z"
   },
   {
    "duration": 50,
    "start_time": "2022-04-20T19:10:20.432Z"
   },
   {
    "duration": 12,
    "start_time": "2022-04-20T19:10:20.484Z"
   },
   {
    "duration": 34,
    "start_time": "2022-04-20T19:10:20.499Z"
   },
   {
    "duration": 274,
    "start_time": "2022-04-20T19:10:20.535Z"
   },
   {
    "duration": 97,
    "start_time": "2022-04-20T19:10:20.812Z"
   },
   {
    "duration": 79,
    "start_time": "2022-04-20T19:10:20.912Z"
   },
   {
    "duration": 14,
    "start_time": "2022-04-20T19:10:20.993Z"
   },
   {
    "duration": 12,
    "start_time": "2022-04-20T19:10:21.009Z"
   },
   {
    "duration": 80,
    "start_time": "2022-04-20T19:10:21.023Z"
   },
   {
    "duration": 178,
    "start_time": "2022-04-20T19:10:21.105Z"
   },
   {
    "duration": 30,
    "start_time": "2022-04-20T19:10:21.285Z"
   },
   {
    "duration": 67,
    "start_time": "2022-04-20T19:10:21.317Z"
   },
   {
    "duration": 96,
    "start_time": "2022-04-20T19:10:21.386Z"
   },
   {
    "duration": 220,
    "start_time": "2022-04-20T19:10:21.484Z"
   },
   {
    "duration": 85,
    "start_time": "2022-04-20T19:10:21.706Z"
   },
   {
    "duration": 10,
    "start_time": "2022-04-20T19:10:21.794Z"
   },
   {
    "duration": 75,
    "start_time": "2022-04-20T19:10:21.806Z"
   },
   {
    "duration": 22,
    "start_time": "2022-04-20T19:10:21.884Z"
   },
   {
    "duration": 91,
    "start_time": "2022-04-20T19:10:21.908Z"
   },
   {
    "duration": 13,
    "start_time": "2022-04-20T19:10:22.001Z"
   },
   {
    "duration": 80,
    "start_time": "2022-04-20T19:10:22.020Z"
   },
   {
    "duration": 15,
    "start_time": "2022-04-20T19:10:22.103Z"
   },
   {
    "duration": 65,
    "start_time": "2022-04-20T19:10:22.120Z"
   },
   {
    "duration": 10,
    "start_time": "2022-04-20T19:10:22.187Z"
   },
   {
    "duration": 3176,
    "start_time": "2022-04-20T19:10:22.199Z"
   },
   {
    "duration": 31,
    "start_time": "2022-04-20T19:10:25.378Z"
   },
   {
    "duration": 17,
    "start_time": "2022-04-20T19:10:25.412Z"
   },
   {
    "duration": 22,
    "start_time": "2022-04-20T19:10:25.431Z"
   },
   {
    "duration": 20,
    "start_time": "2022-04-20T19:10:25.483Z"
   },
   {
    "duration": 76,
    "start_time": "2022-04-20T19:10:25.505Z"
   },
   {
    "duration": 42,
    "start_time": "2022-04-20T19:10:25.584Z"
   },
   {
    "duration": 59,
    "start_time": "2022-04-20T19:10:25.629Z"
   },
   {
    "duration": 14,
    "start_time": "2022-04-20T19:10:25.691Z"
   },
   {
    "duration": 16,
    "start_time": "2022-04-20T19:10:25.708Z"
   },
   {
    "duration": 14,
    "start_time": "2022-04-20T19:10:25.727Z"
   },
   {
    "duration": 52,
    "start_time": "2022-04-20T19:10:25.743Z"
   },
   {
    "duration": 4,
    "start_time": "2022-04-20T19:10:25.798Z"
   },
   {
    "duration": 24,
    "start_time": "2022-04-20T19:10:25.804Z"
   },
   {
    "duration": 6,
    "start_time": "2022-04-20T19:10:25.831Z"
   },
   {
    "duration": 53,
    "start_time": "2022-04-20T19:10:25.840Z"
   },
   {
    "duration": 12,
    "start_time": "2022-04-20T19:10:25.895Z"
   },
   {
    "duration": 19,
    "start_time": "2022-04-20T19:10:25.909Z"
   },
   {
    "duration": 17,
    "start_time": "2022-04-20T19:10:25.930Z"
   },
   {
    "duration": 35,
    "start_time": "2022-04-20T19:10:25.949Z"
   },
   {
    "duration": 18,
    "start_time": "2022-04-20T19:10:25.986Z"
   },
   {
    "duration": 8,
    "start_time": "2022-04-20T19:10:26.006Z"
   },
   {
    "duration": 122,
    "start_time": "2022-04-20T19:10:26.017Z"
   },
   {
    "duration": 20,
    "start_time": "2022-04-20T19:10:26.141Z"
   },
   {
    "duration": 49,
    "start_time": "2022-04-20T19:10:26.163Z"
   },
   {
    "duration": 470,
    "start_time": "2022-04-20T19:10:26.214Z"
   },
   {
    "duration": 434,
    "start_time": "2022-04-20T19:10:26.686Z"
   },
   {
    "duration": 20,
    "start_time": "2022-04-20T19:10:27.123Z"
   },
   {
    "duration": 125,
    "start_time": "2022-04-20T19:11:19.158Z"
   },
   {
    "duration": 891,
    "start_time": "2022-04-20T19:11:42.329Z"
   },
   {
    "duration": 511,
    "start_time": "2022-04-20T19:11:43.223Z"
   },
   {
    "duration": 21,
    "start_time": "2022-04-20T19:11:43.736Z"
   },
   {
    "duration": 29,
    "start_time": "2022-04-20T19:11:43.760Z"
   },
   {
    "duration": 9,
    "start_time": "2022-04-20T19:11:43.792Z"
   },
   {
    "duration": 19,
    "start_time": "2022-04-20T19:11:43.803Z"
   },
   {
    "duration": 12,
    "start_time": "2022-04-20T19:11:43.825Z"
   },
   {
    "duration": 17,
    "start_time": "2022-04-20T19:11:43.839Z"
   },
   {
    "duration": 35,
    "start_time": "2022-04-20T19:11:43.858Z"
   },
   {
    "duration": 63,
    "start_time": "2022-04-20T19:11:43.898Z"
   },
   {
    "duration": 163,
    "start_time": "2022-04-20T19:11:43.963Z"
   },
   {
    "duration": 58,
    "start_time": "2022-04-20T19:11:44.129Z"
   },
   {
    "duration": 33,
    "start_time": "2022-04-20T19:11:44.189Z"
   },
   {
    "duration": 16,
    "start_time": "2022-04-20T19:11:44.224Z"
   },
   {
    "duration": 41,
    "start_time": "2022-04-20T19:11:44.243Z"
   },
   {
    "duration": 32,
    "start_time": "2022-04-20T19:11:44.286Z"
   },
   {
    "duration": 102,
    "start_time": "2022-04-20T19:11:44.320Z"
   },
   {
    "duration": 31,
    "start_time": "2022-04-20T19:11:44.424Z"
   },
   {
    "duration": 29,
    "start_time": "2022-04-20T19:11:44.457Z"
   },
   {
    "duration": 31,
    "start_time": "2022-04-20T19:11:44.488Z"
   },
   {
    "duration": 132,
    "start_time": "2022-04-20T19:11:44.521Z"
   },
   {
    "duration": 41,
    "start_time": "2022-04-20T19:11:44.656Z"
   },
   {
    "duration": 11,
    "start_time": "2022-04-20T19:11:44.699Z"
   },
   {
    "duration": 16,
    "start_time": "2022-04-20T19:11:44.712Z"
   },
   {
    "duration": 52,
    "start_time": "2022-04-20T19:11:44.731Z"
   },
   {
    "duration": 39,
    "start_time": "2022-04-20T19:11:44.786Z"
   },
   {
    "duration": 13,
    "start_time": "2022-04-20T19:11:44.828Z"
   },
   {
    "duration": 50,
    "start_time": "2022-04-20T19:11:44.847Z"
   },
   {
    "duration": 12,
    "start_time": "2022-04-20T19:11:44.899Z"
   },
   {
    "duration": 22,
    "start_time": "2022-04-20T19:11:44.913Z"
   },
   {
    "duration": 5,
    "start_time": "2022-04-20T19:11:44.937Z"
   },
   {
    "duration": 2097,
    "start_time": "2022-04-20T19:11:44.944Z"
   },
   {
    "duration": 38,
    "start_time": "2022-04-20T19:11:47.043Z"
   },
   {
    "duration": 18,
    "start_time": "2022-04-20T19:11:47.083Z"
   },
   {
    "duration": 18,
    "start_time": "2022-04-20T19:11:47.103Z"
   },
   {
    "duration": 20,
    "start_time": "2022-04-20T19:11:47.123Z"
   },
   {
    "duration": 104,
    "start_time": "2022-04-20T19:11:47.145Z"
   },
   {
    "duration": 75,
    "start_time": "2022-04-20T19:11:47.252Z"
   },
   {
    "duration": 65,
    "start_time": "2022-04-20T19:11:47.330Z"
   },
   {
    "duration": 15,
    "start_time": "2022-04-20T19:11:47.398Z"
   },
   {
    "duration": 135,
    "start_time": "2022-04-20T19:11:47.415Z"
   },
   {
    "duration": 0,
    "start_time": "2022-04-20T19:11:47.552Z"
   },
   {
    "duration": 0,
    "start_time": "2022-04-20T19:11:47.553Z"
   },
   {
    "duration": 0,
    "start_time": "2022-04-20T19:11:47.555Z"
   },
   {
    "duration": 0,
    "start_time": "2022-04-20T19:11:47.556Z"
   },
   {
    "duration": 0,
    "start_time": "2022-04-20T19:11:47.557Z"
   },
   {
    "duration": 0,
    "start_time": "2022-04-20T19:11:47.559Z"
   },
   {
    "duration": 0,
    "start_time": "2022-04-20T19:11:47.560Z"
   },
   {
    "duration": 0,
    "start_time": "2022-04-20T19:11:47.561Z"
   },
   {
    "duration": 0,
    "start_time": "2022-04-20T19:11:47.582Z"
   },
   {
    "duration": 0,
    "start_time": "2022-04-20T19:11:47.583Z"
   },
   {
    "duration": 0,
    "start_time": "2022-04-20T19:11:47.584Z"
   },
   {
    "duration": 0,
    "start_time": "2022-04-20T19:11:47.586Z"
   },
   {
    "duration": 0,
    "start_time": "2022-04-20T19:11:47.587Z"
   },
   {
    "duration": 0,
    "start_time": "2022-04-20T19:11:47.589Z"
   },
   {
    "duration": 0,
    "start_time": "2022-04-20T19:11:47.590Z"
   },
   {
    "duration": 0,
    "start_time": "2022-04-20T19:11:47.591Z"
   },
   {
    "duration": 11,
    "start_time": "2022-04-20T19:12:18.364Z"
   },
   {
    "duration": 153,
    "start_time": "2022-04-20T19:12:27.034Z"
   },
   {
    "duration": 16,
    "start_time": "2022-04-20T19:12:30.818Z"
   },
   {
    "duration": 18,
    "start_time": "2022-04-20T19:12:37.548Z"
   },
   {
    "duration": 17,
    "start_time": "2022-04-20T19:12:41.868Z"
   },
   {
    "duration": 483,
    "start_time": "2022-04-20T19:12:56.506Z"
   },
   {
    "duration": 4,
    "start_time": "2022-04-20T19:13:05.837Z"
   },
   {
    "duration": 18,
    "start_time": "2022-04-20T19:13:07.785Z"
   },
   {
    "duration": 6,
    "start_time": "2022-04-20T19:13:14.464Z"
   },
   {
    "duration": 12,
    "start_time": "2022-04-20T19:13:14.890Z"
   },
   {
    "duration": 10,
    "start_time": "2022-04-20T19:13:15.321Z"
   },
   {
    "duration": 22,
    "start_time": "2022-04-20T19:13:15.759Z"
   },
   {
    "duration": 36,
    "start_time": "2022-04-20T19:14:08.921Z"
   },
   {
    "duration": 35,
    "start_time": "2022-04-20T19:14:15.376Z"
   },
   {
    "duration": 42,
    "start_time": "2022-04-20T19:14:25.315Z"
   },
   {
    "duration": 51,
    "start_time": "2022-04-20T19:14:29.776Z"
   },
   {
    "duration": 936,
    "start_time": "2022-04-20T19:14:53.985Z"
   },
   {
    "duration": 495,
    "start_time": "2022-04-20T19:14:54.924Z"
   },
   {
    "duration": 20,
    "start_time": "2022-04-20T19:14:55.424Z"
   },
   {
    "duration": 18,
    "start_time": "2022-04-20T19:14:55.446Z"
   },
   {
    "duration": 9,
    "start_time": "2022-04-20T19:14:55.482Z"
   },
   {
    "duration": 8,
    "start_time": "2022-04-20T19:14:55.492Z"
   },
   {
    "duration": 7,
    "start_time": "2022-04-20T19:14:55.502Z"
   },
   {
    "duration": 6,
    "start_time": "2022-04-20T19:14:55.511Z"
   },
   {
    "duration": 16,
    "start_time": "2022-04-20T19:14:55.521Z"
   },
   {
    "duration": 69,
    "start_time": "2022-04-20T19:14:55.539Z"
   },
   {
    "duration": 166,
    "start_time": "2022-04-20T19:14:55.610Z"
   },
   {
    "duration": 45,
    "start_time": "2022-04-20T19:14:55.778Z"
   },
   {
    "duration": 28,
    "start_time": "2022-04-20T19:14:55.825Z"
   },
   {
    "duration": 39,
    "start_time": "2022-04-20T19:14:55.855Z"
   },
   {
    "duration": 9,
    "start_time": "2022-04-20T19:14:55.896Z"
   },
   {
    "duration": 27,
    "start_time": "2022-04-20T19:14:55.908Z"
   },
   {
    "duration": 105,
    "start_time": "2022-04-20T19:14:55.937Z"
   },
   {
    "duration": 47,
    "start_time": "2022-04-20T19:14:56.044Z"
   },
   {
    "duration": 12,
    "start_time": "2022-04-20T19:14:56.094Z"
   },
   {
    "duration": 32,
    "start_time": "2022-04-20T19:14:56.108Z"
   },
   {
    "duration": 136,
    "start_time": "2022-04-20T19:14:56.142Z"
   },
   {
    "duration": 34,
    "start_time": "2022-04-20T19:14:56.282Z"
   },
   {
    "duration": 10,
    "start_time": "2022-04-20T19:14:56.318Z"
   },
   {
    "duration": 17,
    "start_time": "2022-04-20T19:14:56.330Z"
   },
   {
    "duration": 52,
    "start_time": "2022-04-20T19:14:56.349Z"
   },
   {
    "duration": 40,
    "start_time": "2022-04-20T19:14:56.404Z"
   },
   {
    "duration": 34,
    "start_time": "2022-04-20T19:14:56.449Z"
   },
   {
    "duration": 22,
    "start_time": "2022-04-20T19:14:56.485Z"
   },
   {
    "duration": 12,
    "start_time": "2022-04-20T19:14:56.509Z"
   },
   {
    "duration": 16,
    "start_time": "2022-04-20T19:14:56.523Z"
   },
   {
    "duration": 42,
    "start_time": "2022-04-20T19:14:56.541Z"
   },
   {
    "duration": 2082,
    "start_time": "2022-04-20T19:14:56.586Z"
   },
   {
    "duration": 32,
    "start_time": "2022-04-20T19:14:58.670Z"
   },
   {
    "duration": 18,
    "start_time": "2022-04-20T19:14:58.705Z"
   },
   {
    "duration": 17,
    "start_time": "2022-04-20T19:14:58.726Z"
   },
   {
    "duration": 52,
    "start_time": "2022-04-20T19:14:58.745Z"
   },
   {
    "duration": 55,
    "start_time": "2022-04-20T19:14:58.798Z"
   },
   {
    "duration": 60,
    "start_time": "2022-04-20T19:14:58.855Z"
   },
   {
    "duration": 35,
    "start_time": "2022-04-20T19:14:58.917Z"
   },
   {
    "duration": 30,
    "start_time": "2022-04-20T19:14:58.954Z"
   },
   {
    "duration": 27,
    "start_time": "2022-04-20T19:14:58.987Z"
   },
   {
    "duration": 15,
    "start_time": "2022-04-20T19:14:59.016Z"
   },
   {
    "duration": 625,
    "start_time": "2022-04-20T19:14:59.034Z"
   },
   {
    "duration": 0,
    "start_time": "2022-04-20T19:14:59.661Z"
   },
   {
    "duration": 0,
    "start_time": "2022-04-20T19:14:59.663Z"
   },
   {
    "duration": 0,
    "start_time": "2022-04-20T19:14:59.665Z"
   },
   {
    "duration": 1,
    "start_time": "2022-04-20T19:14:59.681Z"
   },
   {
    "duration": 0,
    "start_time": "2022-04-20T19:14:59.683Z"
   },
   {
    "duration": 0,
    "start_time": "2022-04-20T19:14:59.684Z"
   },
   {
    "duration": 0,
    "start_time": "2022-04-20T19:14:59.686Z"
   },
   {
    "duration": 0,
    "start_time": "2022-04-20T19:14:59.687Z"
   },
   {
    "duration": 0,
    "start_time": "2022-04-20T19:14:59.689Z"
   },
   {
    "duration": 0,
    "start_time": "2022-04-20T19:14:59.690Z"
   },
   {
    "duration": 0,
    "start_time": "2022-04-20T19:14:59.691Z"
   },
   {
    "duration": 0,
    "start_time": "2022-04-20T19:14:59.693Z"
   },
   {
    "duration": 0,
    "start_time": "2022-04-20T19:14:59.694Z"
   },
   {
    "duration": 0,
    "start_time": "2022-04-20T19:14:59.695Z"
   },
   {
    "duration": 1,
    "start_time": "2022-04-20T19:14:59.696Z"
   },
   {
    "duration": 867,
    "start_time": "2022-04-20T19:15:33.419Z"
   },
   {
    "duration": 719,
    "start_time": "2022-04-20T19:15:34.289Z"
   },
   {
    "duration": 27,
    "start_time": "2022-04-20T19:15:35.011Z"
   },
   {
    "duration": 22,
    "start_time": "2022-04-20T19:15:35.042Z"
   },
   {
    "duration": 24,
    "start_time": "2022-04-20T19:15:35.066Z"
   },
   {
    "duration": 7,
    "start_time": "2022-04-20T19:15:35.093Z"
   },
   {
    "duration": 7,
    "start_time": "2022-04-20T19:15:35.103Z"
   },
   {
    "duration": 7,
    "start_time": "2022-04-20T19:15:35.113Z"
   },
   {
    "duration": 18,
    "start_time": "2022-04-20T19:15:35.122Z"
   },
   {
    "duration": 40,
    "start_time": "2022-04-20T19:15:35.184Z"
   },
   {
    "duration": 274,
    "start_time": "2022-04-20T19:15:35.226Z"
   },
   {
    "duration": 125,
    "start_time": "2022-04-20T19:15:35.502Z"
   },
   {
    "duration": 38,
    "start_time": "2022-04-20T19:15:35.681Z"
   },
   {
    "duration": 77,
    "start_time": "2022-04-20T19:15:35.722Z"
   },
   {
    "duration": 10,
    "start_time": "2022-04-20T19:15:35.801Z"
   },
   {
    "duration": 102,
    "start_time": "2022-04-20T19:15:35.814Z"
   },
   {
    "duration": 202,
    "start_time": "2022-04-20T19:15:35.919Z"
   },
   {
    "duration": 91,
    "start_time": "2022-04-20T19:15:36.124Z"
   },
   {
    "duration": 69,
    "start_time": "2022-04-20T19:15:36.218Z"
   },
   {
    "duration": 103,
    "start_time": "2022-04-20T19:15:36.291Z"
   },
   {
    "duration": 214,
    "start_time": "2022-04-20T19:15:36.397Z"
   },
   {
    "duration": 87,
    "start_time": "2022-04-20T19:15:36.613Z"
   },
   {
    "duration": 10,
    "start_time": "2022-04-20T19:15:36.703Z"
   },
   {
    "duration": 73,
    "start_time": "2022-04-20T19:15:36.715Z"
   },
   {
    "duration": 22,
    "start_time": "2022-04-20T19:15:36.790Z"
   },
   {
    "duration": 92,
    "start_time": "2022-04-20T19:15:36.814Z"
   },
   {
    "duration": 13,
    "start_time": "2022-04-20T19:15:36.908Z"
   },
   {
    "duration": 29,
    "start_time": "2022-04-20T19:15:36.981Z"
   },
   {
    "duration": 11,
    "start_time": "2022-04-20T19:15:37.013Z"
   },
   {
    "duration": 16,
    "start_time": "2022-04-20T19:15:37.083Z"
   },
   {
    "duration": 9,
    "start_time": "2022-04-20T19:15:37.101Z"
   },
   {
    "duration": 4145,
    "start_time": "2022-04-20T19:15:37.112Z"
   },
   {
    "duration": 46,
    "start_time": "2022-04-20T19:15:41.259Z"
   },
   {
    "duration": 23,
    "start_time": "2022-04-20T19:15:41.308Z"
   },
   {
    "duration": 21,
    "start_time": "2022-04-20T19:15:41.334Z"
   },
   {
    "duration": 46,
    "start_time": "2022-04-20T19:15:41.358Z"
   },
   {
    "duration": 101,
    "start_time": "2022-04-20T19:15:41.406Z"
   },
   {
    "duration": 60,
    "start_time": "2022-04-20T19:15:41.509Z"
   },
   {
    "duration": 52,
    "start_time": "2022-04-20T19:15:41.583Z"
   },
   {
    "duration": 10,
    "start_time": "2022-04-20T19:15:41.638Z"
   },
   {
    "duration": 40,
    "start_time": "2022-04-20T19:15:41.650Z"
   },
   {
    "duration": 28,
    "start_time": "2022-04-20T19:15:41.692Z"
   },
   {
    "duration": 16,
    "start_time": "2022-04-20T19:15:41.722Z"
   },
   {
    "duration": 43,
    "start_time": "2022-04-20T19:15:41.740Z"
   },
   {
    "duration": 684,
    "start_time": "2022-04-20T19:15:41.785Z"
   },
   {
    "duration": 1,
    "start_time": "2022-04-20T19:15:42.472Z"
   },
   {
    "duration": 0,
    "start_time": "2022-04-20T19:15:42.474Z"
   },
   {
    "duration": 1,
    "start_time": "2022-04-20T19:15:42.476Z"
   },
   {
    "duration": 0,
    "start_time": "2022-04-20T19:15:42.478Z"
   },
   {
    "duration": 0,
    "start_time": "2022-04-20T19:15:42.479Z"
   },
   {
    "duration": 0,
    "start_time": "2022-04-20T19:15:42.481Z"
   },
   {
    "duration": 0,
    "start_time": "2022-04-20T19:15:42.482Z"
   },
   {
    "duration": 0,
    "start_time": "2022-04-20T19:15:42.483Z"
   },
   {
    "duration": 0,
    "start_time": "2022-04-20T19:15:42.485Z"
   },
   {
    "duration": 0,
    "start_time": "2022-04-20T19:15:42.488Z"
   },
   {
    "duration": 1,
    "start_time": "2022-04-20T19:15:42.489Z"
   },
   {
    "duration": 0,
    "start_time": "2022-04-20T19:15:42.491Z"
   },
   {
    "duration": 0,
    "start_time": "2022-04-20T19:15:42.493Z"
   },
   {
    "duration": 1,
    "start_time": "2022-04-20T19:15:42.496Z"
   },
   {
    "duration": 0,
    "start_time": "2022-04-20T19:15:42.498Z"
   },
   {
    "duration": 71,
    "start_time": "2022-04-20T19:15:56.304Z"
   },
   {
    "duration": 14,
    "start_time": "2022-04-20T19:15:56.792Z"
   },
   {
    "duration": 12,
    "start_time": "2022-04-20T19:16:13.750Z"
   },
   {
    "duration": 21,
    "start_time": "2022-04-20T19:16:15.186Z"
   },
   {
    "duration": 15,
    "start_time": "2022-04-20T19:16:23.742Z"
   },
   {
    "duration": 17,
    "start_time": "2022-04-20T19:16:24.100Z"
   },
   {
    "duration": 11,
    "start_time": "2022-04-20T19:16:28.743Z"
   },
   {
    "duration": 17,
    "start_time": "2022-04-20T19:16:29.271Z"
   },
   {
    "duration": 9,
    "start_time": "2022-04-20T19:16:45.476Z"
   },
   {
    "duration": 14,
    "start_time": "2022-04-20T19:16:46.297Z"
   },
   {
    "duration": 20,
    "start_time": "2022-04-20T19:16:51.262Z"
   },
   {
    "duration": 16,
    "start_time": "2022-04-20T19:16:51.584Z"
   },
   {
    "duration": 12,
    "start_time": "2022-04-20T19:18:16.335Z"
   },
   {
    "duration": 20,
    "start_time": "2022-04-20T19:18:16.894Z"
   },
   {
    "duration": 12,
    "start_time": "2022-04-20T19:18:27.995Z"
   },
   {
    "duration": 17,
    "start_time": "2022-04-20T19:18:28.429Z"
   },
   {
    "duration": 58,
    "start_time": "2022-04-20T19:18:32.778Z"
   },
   {
    "duration": 28,
    "start_time": "2022-04-20T19:18:47.179Z"
   },
   {
    "duration": 18,
    "start_time": "2022-04-20T19:18:52.542Z"
   },
   {
    "duration": 17,
    "start_time": "2022-04-20T19:18:55.913Z"
   },
   {
    "duration": 16,
    "start_time": "2022-04-20T19:18:57.599Z"
   },
   {
    "duration": 48,
    "start_time": "2022-04-20T19:19:10.147Z"
   },
   {
    "duration": 43,
    "start_time": "2022-04-20T19:19:17.767Z"
   },
   {
    "duration": 18,
    "start_time": "2022-04-20T19:19:19.206Z"
   },
   {
    "duration": 12,
    "start_time": "2022-04-20T19:19:27.756Z"
   },
   {
    "duration": 19,
    "start_time": "2022-04-20T19:19:27.947Z"
   },
   {
    "duration": 13,
    "start_time": "2022-04-20T19:19:36.894Z"
   },
   {
    "duration": 16,
    "start_time": "2022-04-20T19:19:37.566Z"
   },
   {
    "duration": 133,
    "start_time": "2022-04-20T19:19:48.020Z"
   },
   {
    "duration": 14,
    "start_time": "2022-04-20T19:19:52.782Z"
   },
   {
    "duration": 17,
    "start_time": "2022-04-20T19:19:54.227Z"
   },
   {
    "duration": 10,
    "start_time": "2022-04-20T19:20:00.072Z"
   },
   {
    "duration": 17,
    "start_time": "2022-04-20T19:20:00.542Z"
   },
   {
    "duration": 60,
    "start_time": "2022-04-20T19:20:13.670Z"
   },
   {
    "duration": 39,
    "start_time": "2022-04-20T19:20:18.974Z"
   },
   {
    "duration": 21,
    "start_time": "2022-04-20T19:20:20.723Z"
   },
   {
    "duration": 16,
    "start_time": "2022-04-20T19:20:21.459Z"
   },
   {
    "duration": 16,
    "start_time": "2022-04-20T19:20:22.413Z"
   },
   {
    "duration": 1092,
    "start_time": "2022-04-20T19:20:41.105Z"
   },
   {
    "duration": 1496,
    "start_time": "2022-04-20T19:20:42.201Z"
   },
   {
    "duration": 23,
    "start_time": "2022-04-20T19:20:43.699Z"
   },
   {
    "duration": 16,
    "start_time": "2022-04-20T19:20:43.724Z"
   },
   {
    "duration": 12,
    "start_time": "2022-04-20T19:20:43.744Z"
   },
   {
    "duration": 13,
    "start_time": "2022-04-20T19:20:43.785Z"
   },
   {
    "duration": 17,
    "start_time": "2022-04-20T19:20:43.800Z"
   },
   {
    "duration": 13,
    "start_time": "2022-04-20T19:20:43.819Z"
   },
   {
    "duration": 25,
    "start_time": "2022-04-20T19:20:43.835Z"
   },
   {
    "duration": 54,
    "start_time": "2022-04-20T19:20:43.862Z"
   },
   {
    "duration": 181,
    "start_time": "2022-04-20T19:20:43.918Z"
   },
   {
    "duration": 44,
    "start_time": "2022-04-20T19:20:44.101Z"
   },
   {
    "duration": 53,
    "start_time": "2022-04-20T19:20:44.147Z"
   },
   {
    "duration": 15,
    "start_time": "2022-04-20T19:20:44.204Z"
   },
   {
    "duration": 11,
    "start_time": "2022-04-20T19:20:44.221Z"
   },
   {
    "duration": 59,
    "start_time": "2022-04-20T19:20:44.234Z"
   },
   {
    "duration": 91,
    "start_time": "2022-04-20T19:20:44.296Z"
   },
   {
    "duration": 32,
    "start_time": "2022-04-20T19:20:44.395Z"
   },
   {
    "duration": 12,
    "start_time": "2022-04-20T19:20:44.429Z"
   },
   {
    "duration": 61,
    "start_time": "2022-04-20T19:20:44.443Z"
   },
   {
    "duration": 138,
    "start_time": "2022-04-20T19:20:44.507Z"
   },
   {
    "duration": 52,
    "start_time": "2022-04-20T19:20:44.647Z"
   },
   {
    "duration": 12,
    "start_time": "2022-04-20T19:20:44.701Z"
   },
   {
    "duration": 17,
    "start_time": "2022-04-20T19:20:44.715Z"
   },
   {
    "duration": 23,
    "start_time": "2022-04-20T19:20:44.734Z"
   },
   {
    "duration": 49,
    "start_time": "2022-04-20T19:20:44.782Z"
   },
   {
    "duration": 14,
    "start_time": "2022-04-20T19:20:44.833Z"
   },
   {
    "duration": 52,
    "start_time": "2022-04-20T19:20:44.849Z"
   },
   {
    "duration": 12,
    "start_time": "2022-04-20T19:20:44.903Z"
   },
   {
    "duration": 21,
    "start_time": "2022-04-20T19:20:44.917Z"
   },
   {
    "duration": 7,
    "start_time": "2022-04-20T19:20:44.940Z"
   },
   {
    "duration": 2561,
    "start_time": "2022-04-20T19:20:44.949Z"
   },
   {
    "duration": 39,
    "start_time": "2022-04-20T19:20:47.513Z"
   },
   {
    "duration": 48,
    "start_time": "2022-04-20T19:20:47.555Z"
   },
   {
    "duration": 18,
    "start_time": "2022-04-20T19:20:47.605Z"
   },
   {
    "duration": 30,
    "start_time": "2022-04-20T19:20:47.626Z"
   },
   {
    "duration": 90,
    "start_time": "2022-04-20T19:20:47.658Z"
   },
   {
    "duration": 85,
    "start_time": "2022-04-20T19:20:47.751Z"
   },
   {
    "duration": 53,
    "start_time": "2022-04-20T19:20:47.842Z"
   },
   {
    "duration": 25,
    "start_time": "2022-04-20T19:20:47.897Z"
   },
   {
    "duration": 18,
    "start_time": "2022-04-20T19:20:47.930Z"
   },
   {
    "duration": 42,
    "start_time": "2022-04-20T19:20:47.950Z"
   },
   {
    "duration": 29,
    "start_time": "2022-04-20T19:20:47.997Z"
   },
   {
    "duration": 26,
    "start_time": "2022-04-20T19:20:48.030Z"
   },
   {
    "duration": 801,
    "start_time": "2022-04-20T19:20:48.059Z"
   },
   {
    "duration": 1,
    "start_time": "2022-04-20T19:20:48.862Z"
   },
   {
    "duration": 0,
    "start_time": "2022-04-20T19:20:48.864Z"
   },
   {
    "duration": 0,
    "start_time": "2022-04-20T19:20:48.867Z"
   },
   {
    "duration": 0,
    "start_time": "2022-04-20T19:20:48.869Z"
   },
   {
    "duration": 0,
    "start_time": "2022-04-20T19:20:48.871Z"
   },
   {
    "duration": 0,
    "start_time": "2022-04-20T19:20:48.873Z"
   },
   {
    "duration": 0,
    "start_time": "2022-04-20T19:20:48.876Z"
   },
   {
    "duration": 0,
    "start_time": "2022-04-20T19:20:48.878Z"
   },
   {
    "duration": 0,
    "start_time": "2022-04-20T19:20:48.881Z"
   },
   {
    "duration": 0,
    "start_time": "2022-04-20T19:20:48.886Z"
   },
   {
    "duration": 0,
    "start_time": "2022-04-20T19:20:48.889Z"
   },
   {
    "duration": 0,
    "start_time": "2022-04-20T19:20:48.891Z"
   },
   {
    "duration": 0,
    "start_time": "2022-04-20T19:20:48.894Z"
   },
   {
    "duration": 0,
    "start_time": "2022-04-20T19:20:48.899Z"
   },
   {
    "duration": 0,
    "start_time": "2022-04-20T19:20:48.901Z"
   },
   {
    "duration": 10,
    "start_time": "2022-04-20T19:21:18.430Z"
   },
   {
    "duration": 14,
    "start_time": "2022-04-20T19:21:19.327Z"
   },
   {
    "duration": 25,
    "start_time": "2022-04-20T19:21:22.606Z"
   },
   {
    "duration": 932,
    "start_time": "2022-04-20T19:21:56.568Z"
   },
   {
    "duration": 555,
    "start_time": "2022-04-20T19:21:57.502Z"
   },
   {
    "duration": 23,
    "start_time": "2022-04-20T19:21:58.059Z"
   },
   {
    "duration": 23,
    "start_time": "2022-04-20T19:21:58.087Z"
   },
   {
    "duration": 10,
    "start_time": "2022-04-20T19:21:58.112Z"
   },
   {
    "duration": 10,
    "start_time": "2022-04-20T19:21:58.124Z"
   },
   {
    "duration": 8,
    "start_time": "2022-04-20T19:21:58.136Z"
   },
   {
    "duration": 9,
    "start_time": "2022-04-20T19:21:58.186Z"
   },
   {
    "duration": 16,
    "start_time": "2022-04-20T19:21:58.198Z"
   },
   {
    "duration": 50,
    "start_time": "2022-04-20T19:21:58.218Z"
   },
   {
    "duration": 167,
    "start_time": "2022-04-20T19:21:58.284Z"
   },
   {
    "duration": 62,
    "start_time": "2022-04-20T19:21:58.454Z"
   },
   {
    "duration": 30,
    "start_time": "2022-04-20T19:21:58.519Z"
   },
   {
    "duration": 45,
    "start_time": "2022-04-20T19:21:58.551Z"
   },
   {
    "duration": 10,
    "start_time": "2022-04-20T19:21:58.599Z"
   },
   {
    "duration": 26,
    "start_time": "2022-04-20T19:21:58.611Z"
   },
   {
    "duration": 113,
    "start_time": "2022-04-20T19:21:58.639Z"
   },
   {
    "duration": 63,
    "start_time": "2022-04-20T19:21:58.754Z"
   },
   {
    "duration": 65,
    "start_time": "2022-04-20T19:21:58.819Z"
   },
   {
    "duration": 39,
    "start_time": "2022-04-20T19:21:58.887Z"
   },
   {
    "duration": 278,
    "start_time": "2022-04-20T19:21:58.929Z"
   },
   {
    "duration": 89,
    "start_time": "2022-04-20T19:21:59.209Z"
   },
   {
    "duration": 12,
    "start_time": "2022-04-20T19:21:59.301Z"
   },
   {
    "duration": 70,
    "start_time": "2022-04-20T19:21:59.315Z"
   },
   {
    "duration": 26,
    "start_time": "2022-04-20T19:21:59.388Z"
   },
   {
    "duration": 107,
    "start_time": "2022-04-20T19:21:59.417Z"
   },
   {
    "duration": 64,
    "start_time": "2022-04-20T19:21:59.526Z"
   },
   {
    "duration": 23,
    "start_time": "2022-04-20T19:21:59.598Z"
   },
   {
    "duration": 64,
    "start_time": "2022-04-20T19:21:59.623Z"
   },
   {
    "duration": 26,
    "start_time": "2022-04-20T19:21:59.690Z"
   },
   {
    "duration": 6,
    "start_time": "2022-04-20T19:21:59.719Z"
   },
   {
    "duration": 3729,
    "start_time": "2022-04-20T19:21:59.727Z"
   },
   {
    "duration": 43,
    "start_time": "2022-04-20T19:22:03.459Z"
   },
   {
    "duration": 19,
    "start_time": "2022-04-20T19:22:03.504Z"
   },
   {
    "duration": 18,
    "start_time": "2022-04-20T19:22:03.525Z"
   },
   {
    "duration": 56,
    "start_time": "2022-04-20T19:22:03.545Z"
   },
   {
    "duration": 56,
    "start_time": "2022-04-20T19:22:03.603Z"
   },
   {
    "duration": 49,
    "start_time": "2022-04-20T19:22:03.682Z"
   },
   {
    "duration": 70,
    "start_time": "2022-04-20T19:22:03.733Z"
   },
   {
    "duration": 14,
    "start_time": "2022-04-20T19:22:03.805Z"
   },
   {
    "duration": 16,
    "start_time": "2022-04-20T19:22:03.821Z"
   },
   {
    "duration": 12,
    "start_time": "2022-04-20T19:22:03.839Z"
   },
   {
    "duration": 51,
    "start_time": "2022-04-20T19:22:03.853Z"
   },
   {
    "duration": 18,
    "start_time": "2022-04-20T19:22:03.906Z"
   },
   {
    "duration": 3,
    "start_time": "2022-04-20T19:22:03.927Z"
   },
   {
    "duration": 56,
    "start_time": "2022-04-20T19:22:03.932Z"
   },
   {
    "duration": 14,
    "start_time": "2022-04-20T19:22:03.991Z"
   },
   {
    "duration": 24,
    "start_time": "2022-04-20T19:22:04.007Z"
   },
   {
    "duration": 9,
    "start_time": "2022-04-20T19:22:04.033Z"
   },
   {
    "duration": 51,
    "start_time": "2022-04-20T19:22:04.045Z"
   },
   {
    "duration": 21,
    "start_time": "2022-04-20T19:22:04.099Z"
   },
   {
    "duration": 8,
    "start_time": "2022-04-20T19:22:04.122Z"
   },
   {
    "duration": 20,
    "start_time": "2022-04-20T19:22:04.133Z"
   },
   {
    "duration": 42,
    "start_time": "2022-04-20T19:22:04.155Z"
   },
   {
    "duration": 833,
    "start_time": "2022-04-20T19:22:04.201Z"
   },
   {
    "duration": 24,
    "start_time": "2022-04-20T19:22:05.036Z"
   },
   {
    "duration": 73,
    "start_time": "2022-04-20T19:22:05.063Z"
   },
   {
    "duration": 496,
    "start_time": "2022-04-20T19:22:05.139Z"
   },
   {
    "duration": 463,
    "start_time": "2022-04-20T19:22:05.637Z"
   },
   {
    "duration": 25,
    "start_time": "2022-04-20T19:22:06.102Z"
   },
   {
    "duration": 967,
    "start_time": "2022-04-20T19:23:42.751Z"
   },
   {
    "duration": 1271,
    "start_time": "2022-04-20T19:23:43.722Z"
   },
   {
    "duration": 30,
    "start_time": "2022-04-20T19:23:44.996Z"
   },
   {
    "duration": 73,
    "start_time": "2022-04-20T19:23:45.030Z"
   },
   {
    "duration": 13,
    "start_time": "2022-04-20T19:23:45.106Z"
   },
   {
    "duration": 63,
    "start_time": "2022-04-20T19:23:45.121Z"
   },
   {
    "duration": 6,
    "start_time": "2022-04-20T19:23:45.186Z"
   },
   {
    "duration": 7,
    "start_time": "2022-04-20T19:23:45.195Z"
   },
   {
    "duration": 19,
    "start_time": "2022-04-20T19:23:45.204Z"
   },
   {
    "duration": 87,
    "start_time": "2022-04-20T19:23:45.228Z"
   },
   {
    "duration": 306,
    "start_time": "2022-04-20T19:23:45.317Z"
   },
   {
    "duration": 157,
    "start_time": "2022-04-20T19:23:45.625Z"
   },
   {
    "duration": 30,
    "start_time": "2022-04-20T19:23:45.784Z"
   },
   {
    "duration": 67,
    "start_time": "2022-04-20T19:23:45.816Z"
   },
   {
    "duration": 11,
    "start_time": "2022-04-20T19:23:45.885Z"
   },
   {
    "duration": 26,
    "start_time": "2022-04-20T19:23:45.898Z"
   },
   {
    "duration": 125,
    "start_time": "2022-04-20T19:23:45.982Z"
   },
   {
    "duration": 82,
    "start_time": "2022-04-20T19:23:46.109Z"
   },
   {
    "duration": 12,
    "start_time": "2022-04-20T19:23:46.194Z"
   },
   {
    "duration": 96,
    "start_time": "2022-04-20T19:23:46.208Z"
   },
   {
    "duration": 215,
    "start_time": "2022-04-20T19:23:46.306Z"
   },
   {
    "duration": 88,
    "start_time": "2022-04-20T19:23:46.522Z"
   },
   {
    "duration": 10,
    "start_time": "2022-04-20T19:23:46.612Z"
   },
   {
    "duration": 64,
    "start_time": "2022-04-20T19:23:46.624Z"
   },
   {
    "duration": 22,
    "start_time": "2022-04-20T19:23:46.690Z"
   },
   {
    "duration": 93,
    "start_time": "2022-04-20T19:23:46.714Z"
   },
   {
    "duration": 13,
    "start_time": "2022-04-20T19:23:46.809Z"
   },
   {
    "duration": 73,
    "start_time": "2022-04-20T19:23:46.827Z"
   },
   {
    "duration": 12,
    "start_time": "2022-04-20T19:23:46.902Z"
   },
   {
    "duration": 15,
    "start_time": "2022-04-20T19:23:46.915Z"
   },
   {
    "duration": 50,
    "start_time": "2022-04-20T19:23:46.932Z"
   },
   {
    "duration": 2133,
    "start_time": "2022-04-20T19:23:46.984Z"
   },
   {
    "duration": 24,
    "start_time": "2022-04-20T19:23:49.119Z"
   },
   {
    "duration": 38,
    "start_time": "2022-04-20T19:23:49.145Z"
   },
   {
    "duration": 18,
    "start_time": "2022-04-20T19:23:49.185Z"
   },
   {
    "duration": 18,
    "start_time": "2022-04-20T19:23:49.205Z"
   },
   {
    "duration": 90,
    "start_time": "2022-04-20T19:23:49.225Z"
   },
   {
    "duration": 43,
    "start_time": "2022-04-20T19:23:49.317Z"
   },
   {
    "duration": 56,
    "start_time": "2022-04-20T19:23:49.362Z"
   },
   {
    "duration": 15,
    "start_time": "2022-04-20T19:23:49.420Z"
   },
   {
    "duration": 15,
    "start_time": "2022-04-20T19:23:49.437Z"
   },
   {
    "duration": 11,
    "start_time": "2022-04-20T19:23:49.483Z"
   },
   {
    "duration": 17,
    "start_time": "2022-04-20T19:23:49.496Z"
   },
   {
    "duration": 17,
    "start_time": "2022-04-20T19:23:49.515Z"
   },
   {
    "duration": 3,
    "start_time": "2022-04-20T19:23:49.534Z"
   },
   {
    "duration": 59,
    "start_time": "2022-04-20T19:23:49.539Z"
   },
   {
    "duration": 5,
    "start_time": "2022-04-20T19:23:49.601Z"
   },
   {
    "duration": 14,
    "start_time": "2022-04-20T19:23:49.608Z"
   },
   {
    "duration": 9,
    "start_time": "2022-04-20T19:23:49.624Z"
   },
   {
    "duration": 53,
    "start_time": "2022-04-20T19:23:49.635Z"
   },
   {
    "duration": 18,
    "start_time": "2022-04-20T19:23:49.690Z"
   },
   {
    "duration": 5,
    "start_time": "2022-04-20T19:23:49.710Z"
   },
   {
    "duration": 17,
    "start_time": "2022-04-20T19:23:49.717Z"
   },
   {
    "duration": 8,
    "start_time": "2022-04-20T19:23:49.736Z"
   },
   {
    "duration": 109,
    "start_time": "2022-04-20T19:23:49.781Z"
   },
   {
    "duration": 23,
    "start_time": "2022-04-20T19:23:49.893Z"
   },
   {
    "duration": 43,
    "start_time": "2022-04-20T19:23:49.918Z"
   },
   {
    "duration": 439,
    "start_time": "2022-04-20T19:23:49.963Z"
   },
   {
    "duration": 414,
    "start_time": "2022-04-20T19:23:50.404Z"
   },
   {
    "duration": 26,
    "start_time": "2022-04-20T19:23:50.820Z"
   },
   {
    "duration": 923,
    "start_time": "2022-04-20T19:25:28.798Z"
   },
   {
    "duration": 592,
    "start_time": "2022-04-20T19:25:29.723Z"
   },
   {
    "duration": 23,
    "start_time": "2022-04-20T19:25:30.322Z"
   },
   {
    "duration": 18,
    "start_time": "2022-04-20T19:25:30.346Z"
   },
   {
    "duration": 15,
    "start_time": "2022-04-20T19:25:30.382Z"
   },
   {
    "duration": 17,
    "start_time": "2022-04-20T19:25:30.402Z"
   },
   {
    "duration": 23,
    "start_time": "2022-04-20T19:25:30.421Z"
   },
   {
    "duration": 15,
    "start_time": "2022-04-20T19:25:30.447Z"
   },
   {
    "duration": 28,
    "start_time": "2022-04-20T19:25:30.466Z"
   },
   {
    "duration": 40,
    "start_time": "2022-04-20T19:25:30.497Z"
   },
   {
    "duration": 194,
    "start_time": "2022-04-20T19:25:30.539Z"
   },
   {
    "duration": 59,
    "start_time": "2022-04-20T19:25:30.736Z"
   },
   {
    "duration": 29,
    "start_time": "2022-04-20T19:25:30.798Z"
   },
   {
    "duration": 14,
    "start_time": "2022-04-20T19:25:30.829Z"
   },
   {
    "duration": 40,
    "start_time": "2022-04-20T19:25:30.845Z"
   },
   {
    "duration": 48,
    "start_time": "2022-04-20T19:25:30.888Z"
   },
   {
    "duration": 169,
    "start_time": "2022-04-20T19:25:30.938Z"
   },
   {
    "duration": 90,
    "start_time": "2022-04-20T19:25:31.109Z"
   },
   {
    "duration": 14,
    "start_time": "2022-04-20T19:25:31.202Z"
   },
   {
    "duration": 100,
    "start_time": "2022-04-20T19:25:31.218Z"
   },
   {
    "duration": 280,
    "start_time": "2022-04-20T19:25:31.321Z"
   },
   {
    "duration": 94,
    "start_time": "2022-04-20T19:25:31.604Z"
   },
   {
    "duration": 11,
    "start_time": "2022-04-20T19:25:31.700Z"
   },
   {
    "duration": 19,
    "start_time": "2022-04-20T19:25:31.713Z"
   },
   {
    "duration": 30,
    "start_time": "2022-04-20T19:25:31.783Z"
   },
   {
    "duration": 105,
    "start_time": "2022-04-20T19:25:31.815Z"
   },
   {
    "duration": 65,
    "start_time": "2022-04-20T19:25:31.927Z"
   },
   {
    "duration": 23,
    "start_time": "2022-04-20T19:25:31.995Z"
   },
   {
    "duration": 65,
    "start_time": "2022-04-20T19:25:32.020Z"
   },
   {
    "duration": 33,
    "start_time": "2022-04-20T19:25:32.088Z"
   },
   {
    "duration": 6,
    "start_time": "2022-04-20T19:25:32.123Z"
   },
   {
    "duration": 5167,
    "start_time": "2022-04-20T19:25:32.131Z"
   },
   {
    "duration": 25,
    "start_time": "2022-04-20T19:25:37.300Z"
   },
   {
    "duration": 19,
    "start_time": "2022-04-20T19:25:37.382Z"
   },
   {
    "duration": 17,
    "start_time": "2022-04-20T19:25:37.403Z"
   },
   {
    "duration": 76,
    "start_time": "2022-04-20T19:25:37.422Z"
   },
   {
    "duration": 96,
    "start_time": "2022-04-20T19:25:37.500Z"
   },
   {
    "duration": 42,
    "start_time": "2022-04-20T19:25:37.598Z"
   },
   {
    "duration": 71,
    "start_time": "2022-04-20T19:25:37.643Z"
   },
   {
    "duration": 14,
    "start_time": "2022-04-20T19:25:37.717Z"
   },
   {
    "duration": 11,
    "start_time": "2022-04-20T19:25:37.733Z"
   },
   {
    "duration": 51,
    "start_time": "2022-04-20T19:25:37.747Z"
   },
   {
    "duration": 4,
    "start_time": "2022-04-20T19:25:37.800Z"
   },
   {
    "duration": 23,
    "start_time": "2022-04-20T19:25:37.806Z"
   },
   {
    "duration": 9,
    "start_time": "2022-04-20T19:25:37.831Z"
   },
   {
    "duration": 19,
    "start_time": "2022-04-20T19:25:37.842Z"
   },
   {
    "duration": 13,
    "start_time": "2022-04-20T19:25:37.882Z"
   },
   {
    "duration": 21,
    "start_time": "2022-04-20T19:25:37.897Z"
   },
   {
    "duration": 18,
    "start_time": "2022-04-20T19:25:37.920Z"
   },
   {
    "duration": 6,
    "start_time": "2022-04-20T19:25:37.982Z"
   },
   {
    "duration": 19,
    "start_time": "2022-04-20T19:25:37.991Z"
   },
   {
    "duration": 11,
    "start_time": "2022-04-20T19:25:38.013Z"
   },
   {
    "duration": 187,
    "start_time": "2022-04-20T19:25:38.027Z"
   },
   {
    "duration": 20,
    "start_time": "2022-04-20T19:25:38.217Z"
   },
   {
    "duration": 51,
    "start_time": "2022-04-20T19:25:38.239Z"
   },
   {
    "duration": 443,
    "start_time": "2022-04-20T19:25:38.292Z"
   },
   {
    "duration": 802,
    "start_time": "2022-04-20T19:25:38.737Z"
   },
   {
    "duration": 66,
    "start_time": "2022-04-20T19:25:39.541Z"
   },
   {
    "duration": 7,
    "start_time": "2022-04-20T19:29:19.589Z"
   },
   {
    "duration": 6,
    "start_time": "2022-04-20T19:29:22.628Z"
   },
   {
    "duration": 106,
    "start_time": "2022-04-20T19:30:32.799Z"
   },
   {
    "duration": 10,
    "start_time": "2022-04-20T19:30:37.027Z"
   },
   {
    "duration": 16,
    "start_time": "2022-04-20T19:31:01.700Z"
   },
   {
    "duration": 20,
    "start_time": "2022-04-20T19:31:17.996Z"
   },
   {
    "duration": 19,
    "start_time": "2022-04-20T19:31:46.526Z"
   },
   {
    "duration": 14,
    "start_time": "2022-04-20T19:33:15.110Z"
   },
   {
    "duration": 13,
    "start_time": "2022-04-20T19:33:16.362Z"
   },
   {
    "duration": 348,
    "start_time": "2022-04-20T19:34:40.438Z"
   },
   {
    "duration": 265,
    "start_time": "2022-04-20T19:34:48.114Z"
   },
   {
    "duration": 745,
    "start_time": "2022-04-20T19:35:19.764Z"
   },
   {
    "duration": 594,
    "start_time": "2022-04-20T19:35:43.678Z"
   },
   {
    "duration": 11,
    "start_time": "2022-04-20T19:36:34.549Z"
   },
   {
    "duration": 178,
    "start_time": "2022-04-20T19:38:59.741Z"
   },
   {
    "duration": 175,
    "start_time": "2022-04-20T19:39:25.627Z"
   },
   {
    "duration": 176,
    "start_time": "2022-04-20T19:39:36.955Z"
   },
   {
    "duration": 172,
    "start_time": "2022-04-20T19:39:53.302Z"
   },
   {
    "duration": 175,
    "start_time": "2022-04-20T19:40:41.359Z"
   },
   {
    "duration": 245,
    "start_time": "2022-04-20T19:41:15.009Z"
   },
   {
    "duration": 12,
    "start_time": "2022-04-20T19:42:51.252Z"
   },
   {
    "duration": 13,
    "start_time": "2022-04-20T19:42:56.358Z"
   },
   {
    "duration": 597,
    "start_time": "2022-04-20T19:43:08.766Z"
   },
   {
    "duration": 589,
    "start_time": "2022-04-20T19:43:14.207Z"
   },
   {
    "duration": 266,
    "start_time": "2022-04-20T19:43:23.634Z"
   },
   {
    "duration": 442,
    "start_time": "2022-04-20T19:43:47.877Z"
   },
   {
    "duration": 130,
    "start_time": "2022-04-20T19:44:59.209Z"
   },
   {
    "duration": 368,
    "start_time": "2022-04-20T19:45:14.929Z"
   },
   {
    "duration": 270,
    "start_time": "2022-04-20T19:45:31.227Z"
   },
   {
    "duration": 309,
    "start_time": "2022-04-20T19:45:54.391Z"
   },
   {
    "duration": 271,
    "start_time": "2022-04-20T19:46:06.397Z"
   },
   {
    "duration": 13,
    "start_time": "2022-04-20T19:46:17.396Z"
   },
   {
    "duration": 953,
    "start_time": "2022-04-20T19:46:20.188Z"
   },
   {
    "duration": 935,
    "start_time": "2022-04-20T19:46:24.796Z"
   },
   {
    "duration": 237,
    "start_time": "2022-04-20T19:46:44.184Z"
   },
   {
    "duration": 576,
    "start_time": "2022-04-20T19:48:03.877Z"
   },
   {
    "duration": 322,
    "start_time": "2022-04-20T19:48:11.930Z"
   },
   {
    "duration": 17,
    "start_time": "2022-04-20T19:57:13.332Z"
   },
   {
    "duration": 336,
    "start_time": "2022-04-20T19:57:28.377Z"
   },
   {
    "duration": 2166,
    "start_time": "2022-04-20T20:03:44.526Z"
   },
   {
    "duration": 146,
    "start_time": "2022-04-20T20:04:08.141Z"
   },
   {
    "duration": 2042,
    "start_time": "2022-04-20T20:04:19.349Z"
   },
   {
    "duration": 272,
    "start_time": "2022-04-20T20:04:28.135Z"
   },
   {
    "duration": 1956,
    "start_time": "2022-04-20T20:04:34.428Z"
   },
   {
    "duration": 9,
    "start_time": "2022-04-20T20:05:01.924Z"
   },
   {
    "duration": 15,
    "start_time": "2022-04-20T20:05:11.207Z"
   },
   {
    "duration": 293,
    "start_time": "2022-04-20T20:05:40.129Z"
   },
   {
    "duration": 300,
    "start_time": "2022-04-20T20:05:50.053Z"
   },
   {
    "duration": 265,
    "start_time": "2022-04-20T20:06:00.986Z"
   },
   {
    "duration": 503,
    "start_time": "2022-04-20T20:06:04.018Z"
   },
   {
    "duration": 663,
    "start_time": "2022-04-20T20:06:16.134Z"
   },
   {
    "duration": 229,
    "start_time": "2022-04-20T20:06:37.411Z"
   },
   {
    "duration": 362,
    "start_time": "2022-04-20T20:06:43.943Z"
   },
   {
    "duration": 309,
    "start_time": "2022-04-20T20:06:58.307Z"
   },
   {
    "duration": 587,
    "start_time": "2022-04-20T20:07:11.849Z"
   },
   {
    "duration": 336,
    "start_time": "2022-04-20T20:07:40.460Z"
   },
   {
    "duration": 27,
    "start_time": "2022-04-20T20:10:37.199Z"
   },
   {
    "duration": 1829,
    "start_time": "2022-04-20T20:10:44.200Z"
   },
   {
    "duration": 2081,
    "start_time": "2022-04-20T20:11:23.194Z"
   },
   {
    "duration": 16,
    "start_time": "2022-04-20T20:11:51.362Z"
   },
   {
    "duration": 12,
    "start_time": "2022-04-20T20:11:51.935Z"
   },
   {
    "duration": 15,
    "start_time": "2022-04-20T20:11:52.579Z"
   },
   {
    "duration": 582,
    "start_time": "2022-04-20T20:11:53.752Z"
   },
   {
    "duration": 211,
    "start_time": "2022-04-20T20:11:56.017Z"
   },
   {
    "duration": 485,
    "start_time": "2022-04-20T20:11:57.219Z"
   },
   {
    "duration": 207,
    "start_time": "2022-04-20T20:12:29.051Z"
   },
   {
    "duration": 584,
    "start_time": "2022-04-20T20:14:22.601Z"
   },
   {
    "duration": 17,
    "start_time": "2022-04-20T20:15:18.812Z"
   },
   {
    "duration": 13,
    "start_time": "2022-04-20T20:15:26.834Z"
   },
   {
    "duration": 13,
    "start_time": "2022-04-20T20:15:30.642Z"
   },
   {
    "duration": 16,
    "start_time": "2022-04-20T20:15:39.173Z"
   },
   {
    "duration": 10,
    "start_time": "2022-04-20T20:16:11.646Z"
   },
   {
    "duration": 9,
    "start_time": "2022-04-20T20:16:13.025Z"
   },
   {
    "duration": 9,
    "start_time": "2022-04-20T20:16:52.690Z"
   },
   {
    "duration": 8,
    "start_time": "2022-04-20T20:17:00.663Z"
   },
   {
    "duration": 11,
    "start_time": "2022-04-20T20:17:08.157Z"
   },
   {
    "duration": 10,
    "start_time": "2022-04-20T20:17:09.130Z"
   },
   {
    "duration": 10,
    "start_time": "2022-04-20T20:19:50.464Z"
   },
   {
    "duration": 14,
    "start_time": "2022-04-20T20:19:51.006Z"
   },
   {
    "duration": 10,
    "start_time": "2022-04-20T20:19:51.437Z"
   },
   {
    "duration": 589,
    "start_time": "2022-04-20T20:19:51.932Z"
   },
   {
    "duration": 15,
    "start_time": "2022-04-20T20:20:09.494Z"
   },
   {
    "duration": 20,
    "start_time": "2022-04-20T20:20:18.041Z"
   },
   {
    "duration": 307,
    "start_time": "2022-04-20T20:24:41.368Z"
   },
   {
    "duration": 560,
    "start_time": "2022-04-20T20:24:53.560Z"
   },
   {
    "duration": 14,
    "start_time": "2022-04-20T20:34:43.420Z"
   },
   {
    "duration": 14,
    "start_time": "2022-04-20T20:34:43.906Z"
   },
   {
    "duration": 10,
    "start_time": "2022-04-20T20:34:51.747Z"
   },
   {
    "duration": 9,
    "start_time": "2022-04-20T20:34:52.181Z"
   },
   {
    "duration": 14,
    "start_time": "2022-04-20T20:36:34.040Z"
   },
   {
    "duration": 14,
    "start_time": "2022-04-20T20:36:34.399Z"
   },
   {
    "duration": 9,
    "start_time": "2022-04-20T20:36:35.297Z"
   },
   {
    "duration": 10,
    "start_time": "2022-04-20T20:36:35.763Z"
   },
   {
    "duration": 16,
    "start_time": "2022-04-20T20:36:36.314Z"
   },
   {
    "duration": 15,
    "start_time": "2022-04-20T20:36:36.535Z"
   },
   {
    "duration": 16,
    "start_time": "2022-04-20T20:39:03.552Z"
   },
   {
    "duration": 16,
    "start_time": "2022-04-20T20:39:03.745Z"
   },
   {
    "duration": 720,
    "start_time": "2022-04-20T20:39:16.110Z"
   },
   {
    "duration": 610,
    "start_time": "2022-04-20T20:39:47.992Z"
   },
   {
    "duration": 20,
    "start_time": "2022-04-20T20:48:55.989Z"
   },
   {
    "duration": 22,
    "start_time": "2022-04-20T20:49:39.166Z"
   },
   {
    "duration": 14,
    "start_time": "2022-04-20T20:49:46.478Z"
   },
   {
    "duration": 15,
    "start_time": "2022-04-20T20:49:48.001Z"
   },
   {
    "duration": 9,
    "start_time": "2022-04-20T20:49:48.932Z"
   },
   {
    "duration": 9,
    "start_time": "2022-04-20T20:49:49.296Z"
   },
   {
    "duration": 15,
    "start_time": "2022-04-20T20:50:10.273Z"
   },
   {
    "duration": 15,
    "start_time": "2022-04-20T20:50:12.015Z"
   },
   {
    "duration": 13,
    "start_time": "2022-04-20T20:50:38.444Z"
   },
   {
    "duration": 13,
    "start_time": "2022-04-20T20:50:38.767Z"
   },
   {
    "duration": 9,
    "start_time": "2022-04-20T20:50:39.072Z"
   },
   {
    "duration": 9,
    "start_time": "2022-04-20T20:50:39.461Z"
   },
   {
    "duration": 15,
    "start_time": "2022-04-20T20:50:39.866Z"
   },
   {
    "duration": 16,
    "start_time": "2022-04-20T20:50:40.268Z"
   },
   {
    "duration": 593,
    "start_time": "2022-04-20T20:50:40.656Z"
   },
   {
    "duration": 22,
    "start_time": "2022-04-20T20:55:41.559Z"
   },
   {
    "duration": 23,
    "start_time": "2022-04-20T20:55:47.805Z"
   },
   {
    "duration": 902,
    "start_time": "2022-04-20T21:10:03.880Z"
   },
   {
    "duration": 510,
    "start_time": "2022-04-20T21:10:04.785Z"
   },
   {
    "duration": 20,
    "start_time": "2022-04-20T21:10:05.297Z"
   },
   {
    "duration": 16,
    "start_time": "2022-04-20T21:10:05.320Z"
   },
   {
    "duration": 16,
    "start_time": "2022-04-20T21:10:05.338Z"
   },
   {
    "duration": 27,
    "start_time": "2022-04-20T21:10:05.356Z"
   },
   {
    "duration": 13,
    "start_time": "2022-04-20T21:10:05.386Z"
   },
   {
    "duration": 10,
    "start_time": "2022-04-20T21:10:05.401Z"
   },
   {
    "duration": 16,
    "start_time": "2022-04-20T21:10:05.414Z"
   },
   {
    "duration": 59,
    "start_time": "2022-04-20T21:10:05.434Z"
   },
   {
    "duration": 163,
    "start_time": "2022-04-20T21:10:05.496Z"
   },
   {
    "duration": 49,
    "start_time": "2022-04-20T21:10:05.661Z"
   },
   {
    "duration": 30,
    "start_time": "2022-04-20T21:10:05.712Z"
   },
   {
    "duration": 44,
    "start_time": "2022-04-20T21:10:05.744Z"
   },
   {
    "duration": 11,
    "start_time": "2022-04-20T21:10:05.790Z"
   },
   {
    "duration": 45,
    "start_time": "2022-04-20T21:10:05.805Z"
   },
   {
    "duration": 132,
    "start_time": "2022-04-20T21:10:05.853Z"
   },
   {
    "duration": 47,
    "start_time": "2022-04-20T21:10:05.988Z"
   },
   {
    "duration": 15,
    "start_time": "2022-04-20T21:10:06.038Z"
   },
   {
    "duration": 50,
    "start_time": "2022-04-20T21:10:06.055Z"
   },
   {
    "duration": 136,
    "start_time": "2022-04-20T21:10:06.107Z"
   },
   {
    "duration": 47,
    "start_time": "2022-04-20T21:10:06.245Z"
   },
   {
    "duration": 10,
    "start_time": "2022-04-20T21:10:06.294Z"
   },
   {
    "duration": 20,
    "start_time": "2022-04-20T21:10:06.306Z"
   },
   {
    "duration": 55,
    "start_time": "2022-04-20T21:10:06.328Z"
   },
   {
    "duration": 41,
    "start_time": "2022-04-20T21:10:06.385Z"
   },
   {
    "duration": 14,
    "start_time": "2022-04-20T21:10:06.429Z"
   },
   {
    "duration": 52,
    "start_time": "2022-04-20T21:10:06.449Z"
   },
   {
    "duration": 12,
    "start_time": "2022-04-20T21:10:06.503Z"
   },
   {
    "duration": 23,
    "start_time": "2022-04-20T21:10:06.517Z"
   },
   {
    "duration": 9,
    "start_time": "2022-04-20T21:10:06.542Z"
   },
   {
    "duration": 3340,
    "start_time": "2022-04-20T21:10:06.553Z"
   },
   {
    "duration": 26,
    "start_time": "2022-04-20T21:10:09.895Z"
   },
   {
    "duration": 71,
    "start_time": "2022-04-20T21:10:09.923Z"
   },
   {
    "duration": 18,
    "start_time": "2022-04-20T21:10:09.996Z"
   },
   {
    "duration": 71,
    "start_time": "2022-04-20T21:10:10.017Z"
   },
   {
    "duration": 111,
    "start_time": "2022-04-20T21:10:10.090Z"
   },
   {
    "duration": 95,
    "start_time": "2022-04-20T21:10:10.203Z"
   },
   {
    "duration": 90,
    "start_time": "2022-04-20T21:10:10.300Z"
   },
   {
    "duration": 14,
    "start_time": "2022-04-20T21:10:10.392Z"
   },
   {
    "duration": 10,
    "start_time": "2022-04-20T21:10:10.408Z"
   },
   {
    "duration": 74,
    "start_time": "2022-04-20T21:10:10.420Z"
   },
   {
    "duration": 21,
    "start_time": "2022-04-20T21:10:10.496Z"
   },
   {
    "duration": 65,
    "start_time": "2022-04-20T21:10:10.519Z"
   },
   {
    "duration": 5,
    "start_time": "2022-04-20T21:10:10.586Z"
   },
   {
    "duration": 16,
    "start_time": "2022-04-20T21:10:10.594Z"
   },
   {
    "duration": 15,
    "start_time": "2022-04-20T21:10:10.612Z"
   },
   {
    "duration": 71,
    "start_time": "2022-04-20T21:10:10.630Z"
   },
   {
    "duration": 19,
    "start_time": "2022-04-20T21:10:10.703Z"
   },
   {
    "duration": 6,
    "start_time": "2022-04-20T21:10:10.724Z"
   },
   {
    "duration": 16,
    "start_time": "2022-04-20T21:10:10.782Z"
   },
   {
    "duration": 9,
    "start_time": "2022-04-20T21:10:10.800Z"
   },
   {
    "duration": 206,
    "start_time": "2022-04-20T21:10:10.811Z"
   },
   {
    "duration": 72,
    "start_time": "2022-04-20T21:10:11.020Z"
   },
   {
    "duration": 93,
    "start_time": "2022-04-20T21:10:11.094Z"
   },
   {
    "duration": 797,
    "start_time": "2022-04-20T21:10:11.189Z"
   },
   {
    "duration": 1211,
    "start_time": "2022-04-20T21:10:11.988Z"
   },
   {
    "duration": 82,
    "start_time": "2022-04-20T21:10:13.202Z"
   },
   {
    "duration": 25,
    "start_time": "2022-04-20T21:10:13.287Z"
   },
   {
    "duration": 69,
    "start_time": "2022-04-20T21:10:13.314Z"
   },
   {
    "duration": 26,
    "start_time": "2022-04-20T21:10:13.386Z"
   },
   {
    "duration": 67,
    "start_time": "2022-04-20T21:10:13.414Z"
   },
   {
    "duration": 12,
    "start_time": "2022-04-20T21:10:13.484Z"
   },
   {
    "duration": 26,
    "start_time": "2022-04-20T21:10:13.499Z"
   },
   {
    "duration": 70,
    "start_time": "2022-04-20T21:10:13.527Z"
   },
   {
    "duration": 985,
    "start_time": "2022-04-20T21:10:13.600Z"
   },
   {
    "duration": 15,
    "start_time": "2022-04-20T21:10:14.588Z"
   },
   {
    "duration": 16,
    "start_time": "2022-04-20T21:10:14.605Z"
   },
   {
    "duration": 10,
    "start_time": "2022-04-20T21:10:14.623Z"
   },
   {
    "duration": 45,
    "start_time": "2022-04-20T21:10:14.635Z"
   },
   {
    "duration": 15,
    "start_time": "2022-04-20T21:10:14.683Z"
   },
   {
    "duration": 17,
    "start_time": "2022-04-20T21:10:14.701Z"
   },
   {
    "duration": 715,
    "start_time": "2022-04-20T21:10:14.721Z"
   },
   {
    "duration": 16,
    "start_time": "2022-04-20T21:10:15.438Z"
   },
   {
    "duration": 29,
    "start_time": "2022-04-20T21:10:15.456Z"
   },
   {
    "duration": 8,
    "start_time": "2022-04-20T21:10:15.488Z"
   },
   {
    "duration": 13,
    "start_time": "2022-04-20T21:10:15.499Z"
   },
   {
    "duration": 16,
    "start_time": "2022-04-20T21:10:15.515Z"
   },
   {
    "duration": 52,
    "start_time": "2022-04-20T21:10:15.533Z"
   },
   {
    "duration": 588,
    "start_time": "2022-04-20T21:10:15.587Z"
   },
   {
    "duration": 871,
    "start_time": "2022-04-21T17:09:28.481Z"
   },
   {
    "duration": 400,
    "start_time": "2022-04-21T17:09:29.354Z"
   },
   {
    "duration": 15,
    "start_time": "2022-04-21T17:09:29.756Z"
   },
   {
    "duration": 12,
    "start_time": "2022-04-21T17:09:29.773Z"
   },
   {
    "duration": 21,
    "start_time": "2022-04-21T17:09:29.787Z"
   },
   {
    "duration": 7,
    "start_time": "2022-04-21T17:09:29.810Z"
   },
   {
    "duration": 5,
    "start_time": "2022-04-21T17:09:29.819Z"
   },
   {
    "duration": 6,
    "start_time": "2022-04-21T17:09:29.825Z"
   },
   {
    "duration": 10,
    "start_time": "2022-04-21T17:09:29.833Z"
   },
   {
    "duration": 25,
    "start_time": "2022-04-21T17:09:29.846Z"
   },
   {
    "duration": 149,
    "start_time": "2022-04-21T17:09:29.872Z"
   },
   {
    "duration": 28,
    "start_time": "2022-04-21T17:09:30.022Z"
   },
   {
    "duration": 18,
    "start_time": "2022-04-21T17:09:30.052Z"
   },
   {
    "duration": 10,
    "start_time": "2022-04-21T17:09:30.072Z"
   },
   {
    "duration": 11,
    "start_time": "2022-04-21T17:09:30.109Z"
   },
   {
    "duration": 25,
    "start_time": "2022-04-21T17:09:30.122Z"
   },
   {
    "duration": 65,
    "start_time": "2022-04-21T17:09:30.148Z"
   },
   {
    "duration": 26,
    "start_time": "2022-04-21T17:09:30.216Z"
   },
   {
    "duration": 9,
    "start_time": "2022-04-21T17:09:30.244Z"
   },
   {
    "duration": 35,
    "start_time": "2022-04-21T17:09:30.255Z"
   },
   {
    "duration": 92,
    "start_time": "2022-04-21T17:09:30.292Z"
   },
   {
    "duration": 35,
    "start_time": "2022-04-21T17:09:30.386Z"
   },
   {
    "duration": 10,
    "start_time": "2022-04-21T17:09:30.423Z"
   },
   {
    "duration": 23,
    "start_time": "2022-04-21T17:09:30.435Z"
   },
   {
    "duration": 20,
    "start_time": "2022-04-21T17:09:30.460Z"
   },
   {
    "duration": 64,
    "start_time": "2022-04-21T17:09:30.481Z"
   },
   {
    "duration": 13,
    "start_time": "2022-04-21T17:09:30.548Z"
   },
   {
    "duration": 15,
    "start_time": "2022-04-21T17:09:30.567Z"
   },
   {
    "duration": 28,
    "start_time": "2022-04-21T17:09:30.584Z"
   },
   {
    "duration": 27,
    "start_time": "2022-04-21T17:09:30.615Z"
   },
   {
    "duration": 14,
    "start_time": "2022-04-21T17:09:30.644Z"
   },
   {
    "duration": 1747,
    "start_time": "2022-04-21T17:09:30.660Z"
   },
   {
    "duration": 26,
    "start_time": "2022-04-21T17:09:32.410Z"
   },
   {
    "duration": 70,
    "start_time": "2022-04-21T17:09:32.438Z"
   },
   {
    "duration": 16,
    "start_time": "2022-04-21T17:09:32.510Z"
   },
   {
    "duration": 17,
    "start_time": "2022-04-21T17:09:32.528Z"
   },
   {
    "duration": 99,
    "start_time": "2022-04-21T17:09:32.546Z"
   },
   {
    "duration": 92,
    "start_time": "2022-04-21T17:09:32.646Z"
   },
   {
    "duration": 89,
    "start_time": "2022-04-21T17:09:32.740Z"
   },
   {
    "duration": 11,
    "start_time": "2022-04-21T17:09:32.831Z"
   },
   {
    "duration": 8,
    "start_time": "2022-04-21T17:09:32.843Z"
   },
   {
    "duration": 22,
    "start_time": "2022-04-21T17:09:32.909Z"
   },
   {
    "duration": 22,
    "start_time": "2022-04-21T17:09:32.932Z"
   },
   {
    "duration": 80,
    "start_time": "2022-04-21T17:09:32.955Z"
   },
   {
    "duration": 17,
    "start_time": "2022-04-21T17:09:33.038Z"
   },
   {
    "duration": 9,
    "start_time": "2022-04-21T17:09:33.059Z"
   },
   {
    "duration": 53,
    "start_time": "2022-04-21T17:09:33.070Z"
   },
   {
    "duration": 14,
    "start_time": "2022-04-21T17:09:33.125Z"
   },
   {
    "duration": 11,
    "start_time": "2022-04-21T17:09:33.141Z"
   },
   {
    "duration": 55,
    "start_time": "2022-04-21T17:09:33.154Z"
   },
   {
    "duration": 20,
    "start_time": "2022-04-21T17:09:33.212Z"
   },
   {
    "duration": 5,
    "start_time": "2022-04-21T17:09:33.234Z"
   },
   {
    "duration": 166,
    "start_time": "2022-04-21T17:09:33.241Z"
   },
   {
    "duration": 19,
    "start_time": "2022-04-21T17:09:33.410Z"
   },
   {
    "duration": 86,
    "start_time": "2022-04-21T17:09:33.430Z"
   },
   {
    "duration": 477,
    "start_time": "2022-04-21T17:09:33.518Z"
   },
   {
    "duration": 259,
    "start_time": "2022-04-21T17:09:33.997Z"
   },
   {
    "duration": 15,
    "start_time": "2022-04-21T17:09:34.258Z"
   },
   {
    "duration": 35,
    "start_time": "2022-04-21T17:09:34.274Z"
   },
   {
    "duration": 13,
    "start_time": "2022-04-21T17:09:34.311Z"
   },
   {
    "duration": 10,
    "start_time": "2022-04-21T17:09:34.326Z"
   },
   {
    "duration": 12,
    "start_time": "2022-04-21T17:09:34.338Z"
   },
   {
    "duration": 14,
    "start_time": "2022-04-21T17:09:34.351Z"
   },
   {
    "duration": 11,
    "start_time": "2022-04-21T17:09:34.367Z"
   },
   {
    "duration": 39,
    "start_time": "2022-04-21T17:09:34.380Z"
   },
   {
    "duration": 423,
    "start_time": "2022-04-21T17:09:34.421Z"
   },
   {
    "duration": 10,
    "start_time": "2022-04-21T17:09:34.845Z"
   },
   {
    "duration": 16,
    "start_time": "2022-04-21T17:09:34.856Z"
   },
   {
    "duration": 12,
    "start_time": "2022-04-21T17:09:34.873Z"
   },
   {
    "duration": 8,
    "start_time": "2022-04-21T17:09:34.887Z"
   },
   {
    "duration": 16,
    "start_time": "2022-04-21T17:09:34.908Z"
   },
   {
    "duration": 13,
    "start_time": "2022-04-21T17:09:34.925Z"
   },
   {
    "duration": 364,
    "start_time": "2022-04-21T17:09:34.940Z"
   },
   {
    "duration": 14,
    "start_time": "2022-04-21T17:09:35.307Z"
   },
   {
    "duration": 19,
    "start_time": "2022-04-21T17:09:35.323Z"
   },
   {
    "duration": 9,
    "start_time": "2022-04-21T17:09:35.344Z"
   },
   {
    "duration": 21,
    "start_time": "2022-04-21T17:09:35.355Z"
   },
   {
    "duration": 18,
    "start_time": "2022-04-21T17:09:35.377Z"
   },
   {
    "duration": 16,
    "start_time": "2022-04-21T17:09:35.397Z"
   },
   {
    "duration": 340,
    "start_time": "2022-04-21T17:09:35.416Z"
   },
   {
    "duration": 652,
    "start_time": "2022-04-21T19:03:04.745Z"
   },
   {
    "duration": 390,
    "start_time": "2022-04-21T19:03:05.399Z"
   },
   {
    "duration": 14,
    "start_time": "2022-04-21T19:03:05.791Z"
   },
   {
    "duration": 11,
    "start_time": "2022-04-21T19:03:05.806Z"
   },
   {
    "duration": 7,
    "start_time": "2022-04-21T19:03:05.819Z"
   },
   {
    "duration": 4,
    "start_time": "2022-04-21T19:03:05.827Z"
   },
   {
    "duration": 5,
    "start_time": "2022-04-21T19:03:05.833Z"
   },
   {
    "duration": 6,
    "start_time": "2022-04-21T19:03:05.839Z"
   },
   {
    "duration": 10,
    "start_time": "2022-04-21T19:03:05.847Z"
   },
   {
    "duration": 59,
    "start_time": "2022-04-21T19:03:05.859Z"
   },
   {
    "duration": 123,
    "start_time": "2022-04-21T19:03:05.920Z"
   },
   {
    "duration": 30,
    "start_time": "2022-04-21T19:03:06.045Z"
   },
   {
    "duration": 32,
    "start_time": "2022-04-21T19:03:06.077Z"
   },
   {
    "duration": 11,
    "start_time": "2022-04-21T19:03:06.111Z"
   },
   {
    "duration": 7,
    "start_time": "2022-04-21T19:03:06.123Z"
   },
   {
    "duration": 25,
    "start_time": "2022-04-21T19:03:06.132Z"
   },
   {
    "duration": 83,
    "start_time": "2022-04-21T19:03:06.158Z"
   },
   {
    "duration": 21,
    "start_time": "2022-04-21T19:03:06.243Z"
   },
   {
    "duration": 8,
    "start_time": "2022-04-21T19:03:06.266Z"
   },
   {
    "duration": 45,
    "start_time": "2022-04-21T19:03:06.275Z"
   },
   {
    "duration": 69,
    "start_time": "2022-04-21T19:03:06.321Z"
   },
   {
    "duration": 38,
    "start_time": "2022-04-21T19:03:06.391Z"
   },
   {
    "duration": 9,
    "start_time": "2022-04-21T19:03:06.431Z"
   },
   {
    "duration": 12,
    "start_time": "2022-04-21T19:03:06.441Z"
   },
   {
    "duration": 17,
    "start_time": "2022-04-21T19:03:06.454Z"
   },
   {
    "duration": 62,
    "start_time": "2022-04-21T19:03:06.473Z"
   },
   {
    "duration": 11,
    "start_time": "2022-04-21T19:03:06.536Z"
   },
   {
    "duration": 15,
    "start_time": "2022-04-21T19:03:06.551Z"
   },
   {
    "duration": 8,
    "start_time": "2022-04-21T19:03:06.568Z"
   },
   {
    "duration": 39,
    "start_time": "2022-04-21T19:03:06.577Z"
   },
   {
    "duration": 7,
    "start_time": "2022-04-21T19:03:06.617Z"
   },
   {
    "duration": 1417,
    "start_time": "2022-04-21T19:03:06.625Z"
   },
   {
    "duration": 18,
    "start_time": "2022-04-21T19:03:08.044Z"
   },
   {
    "duration": 12,
    "start_time": "2022-04-21T19:03:08.063Z"
   },
   {
    "duration": 32,
    "start_time": "2022-04-21T19:03:08.076Z"
   },
   {
    "duration": 14,
    "start_time": "2022-04-21T19:03:08.109Z"
   },
   {
    "duration": 41,
    "start_time": "2022-04-21T19:03:08.124Z"
   },
   {
    "duration": 51,
    "start_time": "2022-04-21T19:03:08.167Z"
   },
   {
    "duration": 27,
    "start_time": "2022-04-21T19:03:08.220Z"
   },
   {
    "duration": 11,
    "start_time": "2022-04-21T19:03:08.249Z"
   },
   {
    "duration": 9,
    "start_time": "2022-04-21T19:03:08.261Z"
   },
   {
    "duration": 42,
    "start_time": "2022-04-21T19:03:08.271Z"
   },
   {
    "duration": 4,
    "start_time": "2022-04-21T19:03:08.315Z"
   },
   {
    "duration": 14,
    "start_time": "2022-04-21T19:03:08.321Z"
   },
   {
    "duration": 4,
    "start_time": "2022-04-21T19:03:08.337Z"
   },
   {
    "duration": 10,
    "start_time": "2022-04-21T19:03:08.343Z"
   },
   {
    "duration": 8,
    "start_time": "2022-04-21T19:03:08.355Z"
   },
   {
    "duration": 52,
    "start_time": "2022-04-21T19:03:08.364Z"
   },
   {
    "duration": 13,
    "start_time": "2022-04-21T19:03:08.418Z"
   },
   {
    "duration": 4,
    "start_time": "2022-04-21T19:03:08.433Z"
   },
   {
    "duration": 13,
    "start_time": "2022-04-21T19:03:08.439Z"
   },
   {
    "duration": 6,
    "start_time": "2022-04-21T19:03:08.454Z"
   },
   {
    "duration": 93,
    "start_time": "2022-04-21T19:03:08.462Z"
   },
   {
    "duration": 14,
    "start_time": "2022-04-21T19:03:08.557Z"
   },
   {
    "duration": 42,
    "start_time": "2022-04-21T19:03:08.572Z"
   },
   {
    "duration": 255,
    "start_time": "2022-04-21T19:03:08.615Z"
   },
   {
    "duration": 248,
    "start_time": "2022-04-21T19:03:08.872Z"
   },
   {
    "duration": 15,
    "start_time": "2022-04-21T19:03:09.121Z"
   },
   {
    "duration": 14,
    "start_time": "2022-04-21T19:03:09.137Z"
   },
   {
    "duration": 9,
    "start_time": "2022-04-21T19:03:09.153Z"
   },
   {
    "duration": 10,
    "start_time": "2022-04-21T19:03:09.164Z"
   },
   {
    "duration": 10,
    "start_time": "2022-04-21T19:03:09.208Z"
   },
   {
    "duration": 11,
    "start_time": "2022-04-21T19:03:09.219Z"
   },
   {
    "duration": 12,
    "start_time": "2022-04-21T19:03:09.231Z"
   },
   {
    "duration": 11,
    "start_time": "2022-04-21T19:03:09.245Z"
   },
   {
    "duration": 420,
    "start_time": "2022-04-21T19:03:09.257Z"
   },
   {
    "duration": 11,
    "start_time": "2022-04-21T19:03:09.678Z"
   },
   {
    "duration": 22,
    "start_time": "2022-04-21T19:03:09.690Z"
   },
   {
    "duration": 7,
    "start_time": "2022-04-21T19:03:09.713Z"
   },
   {
    "duration": 7,
    "start_time": "2022-04-21T19:03:09.721Z"
   },
   {
    "duration": 12,
    "start_time": "2022-04-21T19:03:09.730Z"
   },
   {
    "duration": 11,
    "start_time": "2022-04-21T19:03:09.743Z"
   },
   {
    "duration": 378,
    "start_time": "2022-04-21T19:03:09.756Z"
   },
   {
    "duration": 9,
    "start_time": "2022-04-21T19:03:10.136Z"
   },
   {
    "duration": 12,
    "start_time": "2022-04-21T19:03:10.147Z"
   },
   {
    "duration": 6,
    "start_time": "2022-04-21T19:03:10.161Z"
   },
   {
    "duration": 7,
    "start_time": "2022-04-21T19:03:10.169Z"
   },
   {
    "duration": 37,
    "start_time": "2022-04-21T19:03:10.177Z"
   },
   {
    "duration": 10,
    "start_time": "2022-04-21T19:03:10.215Z"
   },
   {
    "duration": 351,
    "start_time": "2022-04-21T19:03:10.227Z"
   },
   {
    "duration": 13,
    "start_time": "2022-04-21T19:03:10.580Z"
   },
   {
    "duration": 1240,
    "start_time": "2022-04-22T18:12:01.755Z"
   },
   {
    "duration": 704,
    "start_time": "2022-04-22T18:12:02.999Z"
   },
   {
    "duration": 20,
    "start_time": "2022-04-22T18:12:03.706Z"
   },
   {
    "duration": 67,
    "start_time": "2022-04-22T18:12:03.729Z"
   },
   {
    "duration": 13,
    "start_time": "2022-04-22T18:12:03.798Z"
   },
   {
    "duration": 9,
    "start_time": "2022-04-22T18:12:03.813Z"
   },
   {
    "duration": 60,
    "start_time": "2022-04-22T18:12:03.825Z"
   },
   {
    "duration": 8,
    "start_time": "2022-04-22T18:12:03.888Z"
   },
   {
    "duration": 13,
    "start_time": "2022-04-22T18:12:03.898Z"
   },
   {
    "duration": 86,
    "start_time": "2022-04-22T18:12:03.915Z"
   },
   {
    "duration": 308,
    "start_time": "2022-04-22T18:12:04.003Z"
   },
   {
    "duration": 167,
    "start_time": "2022-04-22T18:12:04.315Z"
   },
   {
    "duration": 28,
    "start_time": "2022-04-22T18:12:04.484Z"
   },
   {
    "duration": 68,
    "start_time": "2022-04-22T18:12:04.514Z"
   },
   {
    "duration": 11,
    "start_time": "2022-04-22T18:12:04.584Z"
   },
   {
    "duration": 32,
    "start_time": "2022-04-22T18:12:04.597Z"
   },
   {
    "duration": 127,
    "start_time": "2022-04-22T18:12:04.682Z"
   },
   {
    "duration": 86,
    "start_time": "2022-04-22T18:12:04.811Z"
   },
   {
    "duration": 12,
    "start_time": "2022-04-22T18:12:04.899Z"
   },
   {
    "duration": 82,
    "start_time": "2022-04-22T18:12:04.913Z"
   },
   {
    "duration": 215,
    "start_time": "2022-04-22T18:12:04.998Z"
   },
   {
    "duration": 91,
    "start_time": "2022-04-22T18:12:05.215Z"
   },
   {
    "duration": 10,
    "start_time": "2022-04-22T18:12:05.309Z"
   },
   {
    "duration": 74,
    "start_time": "2022-04-22T18:12:05.322Z"
   },
   {
    "duration": 22,
    "start_time": "2022-04-22T18:12:05.398Z"
   },
   {
    "duration": 88,
    "start_time": "2022-04-22T18:12:05.422Z"
   },
   {
    "duration": 13,
    "start_time": "2022-04-22T18:12:05.512Z"
   },
   {
    "duration": 22,
    "start_time": "2022-04-22T18:12:05.586Z"
   },
   {
    "duration": 12,
    "start_time": "2022-04-22T18:12:05.610Z"
   },
   {
    "duration": 77,
    "start_time": "2022-04-22T18:12:05.624Z"
   },
   {
    "duration": 15,
    "start_time": "2022-04-22T18:12:05.704Z"
   },
   {
    "duration": 3697,
    "start_time": "2022-04-22T18:12:05.721Z"
   },
   {
    "duration": 75,
    "start_time": "2022-04-22T18:12:09.420Z"
   },
   {
    "duration": 18,
    "start_time": "2022-04-22T18:12:09.497Z"
   },
   {
    "duration": 71,
    "start_time": "2022-04-22T18:12:09.517Z"
   },
   {
    "duration": 18,
    "start_time": "2022-04-22T18:12:09.591Z"
   },
   {
    "duration": 104,
    "start_time": "2022-04-22T18:12:09.611Z"
   },
   {
    "duration": 67,
    "start_time": "2022-04-22T18:12:09.718Z"
   },
   {
    "duration": 40,
    "start_time": "2022-04-22T18:12:09.787Z"
   },
   {
    "duration": 14,
    "start_time": "2022-04-22T18:12:09.829Z"
   },
   {
    "duration": 43,
    "start_time": "2022-04-22T18:12:09.846Z"
   },
   {
    "duration": 19,
    "start_time": "2022-04-22T18:12:09.892Z"
   },
   {
    "duration": 4,
    "start_time": "2022-04-22T18:12:09.913Z"
   },
   {
    "duration": 22,
    "start_time": "2022-04-22T18:12:09.919Z"
   },
   {
    "duration": 4,
    "start_time": "2022-04-22T18:12:09.944Z"
   },
   {
    "duration": 13,
    "start_time": "2022-04-22T18:12:09.981Z"
   },
   {
    "duration": 10,
    "start_time": "2022-04-22T18:12:09.996Z"
   },
   {
    "duration": 20,
    "start_time": "2022-04-22T18:12:10.008Z"
   },
   {
    "duration": 55,
    "start_time": "2022-04-22T18:12:10.030Z"
   },
   {
    "duration": 5,
    "start_time": "2022-04-22T18:12:10.087Z"
   },
   {
    "duration": 21,
    "start_time": "2022-04-22T18:12:10.094Z"
   },
   {
    "duration": 8,
    "start_time": "2022-04-22T18:12:10.118Z"
   },
   {
    "duration": 129,
    "start_time": "2022-04-22T18:12:10.128Z"
   },
   {
    "duration": 30,
    "start_time": "2022-04-22T18:12:10.260Z"
   },
   {
    "duration": 41,
    "start_time": "2022-04-22T18:12:10.293Z"
   },
   {
    "duration": 448,
    "start_time": "2022-04-22T18:12:10.337Z"
   },
   {
    "duration": 427,
    "start_time": "2022-04-22T18:12:10.787Z"
   },
   {
    "duration": 22,
    "start_time": "2022-04-22T18:12:11.217Z"
   },
   {
    "duration": 42,
    "start_time": "2022-04-22T18:12:11.241Z"
   },
   {
    "duration": 14,
    "start_time": "2022-04-22T18:12:11.285Z"
   },
   {
    "duration": 12,
    "start_time": "2022-04-22T18:12:11.301Z"
   },
   {
    "duration": 15,
    "start_time": "2022-04-22T18:12:11.315Z"
   },
   {
    "duration": 10,
    "start_time": "2022-04-22T18:12:11.332Z"
   },
   {
    "duration": 21,
    "start_time": "2022-04-22T18:12:11.381Z"
   },
   {
    "duration": 17,
    "start_time": "2022-04-22T18:12:11.404Z"
   },
   {
    "duration": 662,
    "start_time": "2022-04-22T18:12:11.423Z"
   },
   {
    "duration": 14,
    "start_time": "2022-04-22T18:12:12.087Z"
   },
   {
    "duration": 18,
    "start_time": "2022-04-22T18:12:12.103Z"
   },
   {
    "duration": 8,
    "start_time": "2022-04-22T18:12:12.123Z"
   },
   {
    "duration": 11,
    "start_time": "2022-04-22T18:12:12.133Z"
   },
   {
    "duration": 48,
    "start_time": "2022-04-22T18:12:12.146Z"
   },
   {
    "duration": 15,
    "start_time": "2022-04-22T18:12:12.197Z"
   },
   {
    "duration": 718,
    "start_time": "2022-04-22T18:12:12.215Z"
   },
   {
    "duration": 14,
    "start_time": "2022-04-22T18:12:12.935Z"
   },
   {
    "duration": 30,
    "start_time": "2022-04-22T18:12:12.952Z"
   },
   {
    "duration": 10,
    "start_time": "2022-04-22T18:12:12.984Z"
   },
   {
    "duration": 9,
    "start_time": "2022-04-22T18:12:12.996Z"
   },
   {
    "duration": 18,
    "start_time": "2022-04-22T18:12:13.008Z"
   },
   {
    "duration": 15,
    "start_time": "2022-04-22T18:12:13.028Z"
   },
   {
    "duration": 701,
    "start_time": "2022-04-22T18:12:13.083Z"
   },
   {
    "duration": 21,
    "start_time": "2022-04-22T18:12:13.786Z"
   },
   {
    "duration": 20,
    "start_time": "2022-04-22T18:14:53.068Z"
   },
   {
    "duration": 19,
    "start_time": "2022-04-22T18:15:01.487Z"
   },
   {
    "duration": 7,
    "start_time": "2022-04-22T18:15:09.613Z"
   },
   {
    "duration": 6,
    "start_time": "2022-04-22T18:15:37.059Z"
   },
   {
    "duration": 6,
    "start_time": "2022-04-22T18:15:42.216Z"
   },
   {
    "duration": 117,
    "start_time": "2022-04-22T18:16:50.419Z"
   },
   {
    "duration": 633,
    "start_time": "2022-04-22T18:17:31.834Z"
   },
   {
    "duration": 2470,
    "start_time": "2022-04-22T18:17:36.655Z"
   },
   {
    "duration": 1105,
    "start_time": "2022-04-22T18:17:39.128Z"
   },
   {
    "duration": 20,
    "start_time": "2022-04-22T18:17:40.236Z"
   },
   {
    "duration": 30,
    "start_time": "2022-04-22T18:17:40.260Z"
   },
   {
    "duration": 10,
    "start_time": "2022-04-22T18:17:40.292Z"
   },
   {
    "duration": 6,
    "start_time": "2022-04-22T18:17:40.304Z"
   },
   {
    "duration": 9,
    "start_time": "2022-04-22T18:17:40.312Z"
   },
   {
    "duration": 7,
    "start_time": "2022-04-22T18:17:40.323Z"
   },
   {
    "duration": 57,
    "start_time": "2022-04-22T18:17:40.332Z"
   },
   {
    "duration": 43,
    "start_time": "2022-04-22T18:17:40.393Z"
   },
   {
    "duration": 196,
    "start_time": "2022-04-22T18:17:40.439Z"
   },
   {
    "duration": 56,
    "start_time": "2022-04-22T18:17:40.638Z"
   },
   {
    "duration": 29,
    "start_time": "2022-04-22T18:17:40.696Z"
   },
   {
    "duration": 17,
    "start_time": "2022-04-22T18:17:40.727Z"
   },
   {
    "duration": 40,
    "start_time": "2022-04-22T18:17:40.747Z"
   },
   {
    "duration": 32,
    "start_time": "2022-04-22T18:17:40.790Z"
   },
   {
    "duration": 91,
    "start_time": "2022-04-22T18:17:40.825Z"
   },
   {
    "duration": 31,
    "start_time": "2022-04-22T18:17:40.918Z"
   },
   {
    "duration": 31,
    "start_time": "2022-04-22T18:17:40.952Z"
   },
   {
    "duration": 33,
    "start_time": "2022-04-22T18:17:40.986Z"
   },
   {
    "duration": 153,
    "start_time": "2022-04-22T18:17:41.022Z"
   },
   {
    "duration": 34,
    "start_time": "2022-04-22T18:17:41.177Z"
   },
   {
    "duration": 11,
    "start_time": "2022-04-22T18:17:41.214Z"
   },
   {
    "duration": 19,
    "start_time": "2022-04-22T18:17:41.227Z"
   },
   {
    "duration": 49,
    "start_time": "2022-04-22T18:17:41.249Z"
   },
   {
    "duration": 40,
    "start_time": "2022-04-22T18:17:41.300Z"
   },
   {
    "duration": 43,
    "start_time": "2022-04-22T18:17:41.342Z"
   },
   {
    "duration": 25,
    "start_time": "2022-04-22T18:17:41.391Z"
   },
   {
    "duration": 12,
    "start_time": "2022-04-22T18:17:41.419Z"
   },
   {
    "duration": 50,
    "start_time": "2022-04-22T18:17:41.433Z"
   },
   {
    "duration": 5,
    "start_time": "2022-04-22T18:17:41.486Z"
   },
   {
    "duration": 3234,
    "start_time": "2022-04-22T18:17:41.493Z"
   },
   {
    "duration": 32,
    "start_time": "2022-04-22T18:17:44.730Z"
   },
   {
    "duration": 40,
    "start_time": "2022-04-22T18:17:44.764Z"
   },
   {
    "duration": 19,
    "start_time": "2022-04-22T18:17:44.806Z"
   },
   {
    "duration": 53,
    "start_time": "2022-04-22T18:17:44.828Z"
   },
   {
    "duration": 56,
    "start_time": "2022-04-22T18:17:44.884Z"
   },
   {
    "duration": 71,
    "start_time": "2022-04-22T18:17:44.943Z"
   },
   {
    "duration": 38,
    "start_time": "2022-04-22T18:17:45.017Z"
   },
   {
    "duration": 33,
    "start_time": "2022-04-22T18:17:45.058Z"
   },
   {
    "duration": 17,
    "start_time": "2022-04-22T18:17:45.093Z"
   },
   {
    "duration": 19,
    "start_time": "2022-04-22T18:17:45.113Z"
   },
   {
    "duration": 7,
    "start_time": "2022-04-22T18:17:45.135Z"
   },
   {
    "duration": 54,
    "start_time": "2022-04-22T18:17:45.145Z"
   },
   {
    "duration": 6,
    "start_time": "2022-04-22T18:17:45.202Z"
   },
   {
    "duration": 16,
    "start_time": "2022-04-22T18:17:45.210Z"
   },
   {
    "duration": 11,
    "start_time": "2022-04-22T18:17:45.228Z"
   },
   {
    "duration": 56,
    "start_time": "2022-04-22T18:17:45.242Z"
   },
   {
    "duration": 19,
    "start_time": "2022-04-22T18:17:45.300Z"
   },
   {
    "duration": 5,
    "start_time": "2022-04-22T18:17:45.321Z"
   },
   {
    "duration": 53,
    "start_time": "2022-04-22T18:17:45.329Z"
   },
   {
    "duration": 8,
    "start_time": "2022-04-22T18:17:45.384Z"
   },
   {
    "duration": 115,
    "start_time": "2022-04-22T18:17:45.394Z"
   },
   {
    "duration": 20,
    "start_time": "2022-04-22T18:17:45.511Z"
   },
   {
    "duration": 59,
    "start_time": "2022-04-22T18:17:45.534Z"
   },
   {
    "duration": 404,
    "start_time": "2022-04-22T18:17:45.596Z"
   },
   {
    "duration": 423,
    "start_time": "2022-04-22T18:17:46.002Z"
   },
   {
    "duration": 30,
    "start_time": "2022-04-22T18:17:46.428Z"
   },
   {
    "duration": 41,
    "start_time": "2022-04-22T18:17:46.460Z"
   },
   {
    "duration": 13,
    "start_time": "2022-04-22T18:17:46.503Z"
   },
   {
    "duration": 13,
    "start_time": "2022-04-22T18:17:46.519Z"
   },
   {
    "duration": 18,
    "start_time": "2022-04-22T18:17:46.535Z"
   },
   {
    "duration": 10,
    "start_time": "2022-04-22T18:17:46.581Z"
   },
   {
    "duration": 16,
    "start_time": "2022-04-22T18:17:46.594Z"
   },
   {
    "duration": 20,
    "start_time": "2022-04-22T18:17:46.613Z"
   },
   {
    "duration": 657,
    "start_time": "2022-04-22T18:17:46.636Z"
   },
   {
    "duration": 14,
    "start_time": "2022-04-22T18:17:47.295Z"
   },
   {
    "duration": 20,
    "start_time": "2022-04-22T18:17:47.312Z"
   },
   {
    "duration": 17,
    "start_time": "2022-04-22T18:17:47.335Z"
   },
   {
    "duration": 11,
    "start_time": "2022-04-22T18:17:47.382Z"
   },
   {
    "duration": 21,
    "start_time": "2022-04-22T18:17:47.396Z"
   },
   {
    "duration": 20,
    "start_time": "2022-04-22T18:17:47.419Z"
   },
   {
    "duration": 652,
    "start_time": "2022-04-22T18:17:47.442Z"
   },
   {
    "duration": 16,
    "start_time": "2022-04-22T18:17:48.098Z"
   },
   {
    "duration": 18,
    "start_time": "2022-04-22T18:17:48.117Z"
   },
   {
    "duration": 11,
    "start_time": "2022-04-22T18:17:48.138Z"
   },
   {
    "duration": 9,
    "start_time": "2022-04-22T18:17:48.182Z"
   },
   {
    "duration": 21,
    "start_time": "2022-04-22T18:17:48.193Z"
   },
   {
    "duration": 20,
    "start_time": "2022-04-22T18:17:48.217Z"
   },
   {
    "duration": 843,
    "start_time": "2022-04-22T18:17:48.240Z"
   },
   {
    "duration": 5,
    "start_time": "2022-04-22T18:17:49.086Z"
   },
   {
    "duration": 7,
    "start_time": "2022-04-22T18:17:49.103Z"
   },
   {
    "duration": 9,
    "start_time": "2022-04-22T18:17:49.112Z"
   },
   {
    "duration": 143,
    "start_time": "2022-04-22T18:18:02.942Z"
   },
   {
    "duration": 5,
    "start_time": "2022-04-22T18:19:42.827Z"
   },
   {
    "duration": 1233,
    "start_time": "2022-04-23T09:49:56.804Z"
   },
   {
    "duration": 387,
    "start_time": "2022-04-23T09:49:58.039Z"
   },
   {
    "duration": 15,
    "start_time": "2022-04-23T09:49:58.427Z"
   },
   {
    "duration": 25,
    "start_time": "2022-04-23T09:49:58.444Z"
   },
   {
    "duration": 7,
    "start_time": "2022-04-23T09:49:58.471Z"
   },
   {
    "duration": 11,
    "start_time": "2022-04-23T09:49:58.480Z"
   },
   {
    "duration": 8,
    "start_time": "2022-04-23T09:49:58.493Z"
   },
   {
    "duration": 5,
    "start_time": "2022-04-23T09:49:58.503Z"
   },
   {
    "duration": 54,
    "start_time": "2022-04-23T09:49:58.510Z"
   },
   {
    "duration": 33,
    "start_time": "2022-04-23T09:49:58.568Z"
   },
   {
    "duration": 272,
    "start_time": "2022-04-23T09:49:58.602Z"
   },
   {
    "duration": 84,
    "start_time": "2022-04-23T09:49:58.875Z"
   },
   {
    "duration": 21,
    "start_time": "2022-04-23T09:49:58.967Z"
   },
   {
    "duration": 10,
    "start_time": "2022-04-23T09:49:58.989Z"
   },
   {
    "duration": 61,
    "start_time": "2022-04-23T09:49:59.000Z"
   },
   {
    "duration": 23,
    "start_time": "2022-04-23T09:49:59.063Z"
   },
   {
    "duration": 107,
    "start_time": "2022-04-23T09:49:59.088Z"
   },
   {
    "duration": 78,
    "start_time": "2022-04-23T09:49:59.197Z"
   },
   {
    "duration": 9,
    "start_time": "2022-04-23T09:49:59.277Z"
   },
   {
    "duration": 77,
    "start_time": "2022-04-23T09:49:59.288Z"
   },
   {
    "duration": 128,
    "start_time": "2022-04-23T09:49:59.366Z"
   },
   {
    "duration": 82,
    "start_time": "2022-04-23T09:49:59.496Z"
   },
   {
    "duration": 8,
    "start_time": "2022-04-23T09:49:59.580Z"
   },
   {
    "duration": 69,
    "start_time": "2022-04-23T09:49:59.589Z"
   },
   {
    "duration": 19,
    "start_time": "2022-04-23T09:49:59.660Z"
   },
   {
    "duration": 84,
    "start_time": "2022-04-23T09:49:59.681Z"
   },
   {
    "duration": 12,
    "start_time": "2022-04-23T09:49:59.767Z"
   },
   {
    "duration": 74,
    "start_time": "2022-04-23T09:49:59.785Z"
   },
   {
    "duration": 12,
    "start_time": "2022-04-23T09:49:59.861Z"
   },
   {
    "duration": 13,
    "start_time": "2022-04-23T09:49:59.875Z"
   },
   {
    "duration": 6,
    "start_time": "2022-04-23T09:49:59.890Z"
   },
   {
    "duration": 1913,
    "start_time": "2022-04-23T09:49:59.897Z"
   },
   {
    "duration": 16,
    "start_time": "2022-04-23T09:50:01.811Z"
   },
   {
    "duration": 40,
    "start_time": "2022-04-23T09:50:01.828Z"
   },
   {
    "duration": 25,
    "start_time": "2022-04-23T09:50:01.870Z"
   },
   {
    "duration": 17,
    "start_time": "2022-04-23T09:50:01.897Z"
   },
   {
    "duration": 59,
    "start_time": "2022-04-23T09:50:01.916Z"
   },
   {
    "duration": 32,
    "start_time": "2022-04-23T09:50:01.977Z"
   },
   {
    "duration": 73,
    "start_time": "2022-04-23T09:50:02.011Z"
   },
   {
    "duration": 14,
    "start_time": "2022-04-23T09:50:02.086Z"
   },
   {
    "duration": 44,
    "start_time": "2022-04-23T09:50:02.102Z"
   },
   {
    "duration": 13,
    "start_time": "2022-04-23T09:50:02.148Z"
   },
   {
    "duration": 21,
    "start_time": "2022-04-23T09:50:02.167Z"
   },
   {
    "duration": 21,
    "start_time": "2022-04-23T09:50:02.190Z"
   },
   {
    "duration": 22,
    "start_time": "2022-04-23T09:50:02.213Z"
   },
   {
    "duration": 17,
    "start_time": "2022-04-23T09:50:02.236Z"
   },
   {
    "duration": 15,
    "start_time": "2022-04-23T09:50:02.263Z"
   },
   {
    "duration": 13,
    "start_time": "2022-04-23T09:50:02.279Z"
   },
   {
    "duration": 15,
    "start_time": "2022-04-23T09:50:02.293Z"
   },
   {
    "duration": 10,
    "start_time": "2022-04-23T09:50:02.310Z"
   },
   {
    "duration": 46,
    "start_time": "2022-04-23T09:50:02.322Z"
   },
   {
    "duration": 10,
    "start_time": "2022-04-23T09:50:02.369Z"
   },
   {
    "duration": 69,
    "start_time": "2022-04-23T09:50:02.381Z"
   },
   {
    "duration": 21,
    "start_time": "2022-04-23T09:50:02.452Z"
   },
   {
    "duration": 24,
    "start_time": "2022-04-23T09:50:02.475Z"
   },
   {
    "duration": 241,
    "start_time": "2022-04-23T09:50:02.501Z"
   },
   {
    "duration": 236,
    "start_time": "2022-04-23T09:50:02.744Z"
   },
   {
    "duration": 15,
    "start_time": "2022-04-23T09:50:02.982Z"
   },
   {
    "duration": 14,
    "start_time": "2022-04-23T09:50:02.999Z"
   },
   {
    "duration": 9,
    "start_time": "2022-04-23T09:50:03.015Z"
   },
   {
    "duration": 42,
    "start_time": "2022-04-23T09:50:03.026Z"
   },
   {
    "duration": 26,
    "start_time": "2022-04-23T09:50:03.070Z"
   },
   {
    "duration": 19,
    "start_time": "2022-04-23T09:50:03.098Z"
   },
   {
    "duration": 23,
    "start_time": "2022-04-23T09:50:03.119Z"
   },
   {
    "duration": 24,
    "start_time": "2022-04-23T09:50:03.144Z"
   },
   {
    "duration": 337,
    "start_time": "2022-04-23T09:50:03.170Z"
   },
   {
    "duration": 10,
    "start_time": "2022-04-23T09:50:03.509Z"
   },
   {
    "duration": 12,
    "start_time": "2022-04-23T09:50:03.521Z"
   },
   {
    "duration": 25,
    "start_time": "2022-04-23T09:50:03.535Z"
   },
   {
    "duration": 11,
    "start_time": "2022-04-23T09:50:03.563Z"
   },
   {
    "duration": 15,
    "start_time": "2022-04-23T09:50:03.575Z"
   },
   {
    "duration": 12,
    "start_time": "2022-04-23T09:50:03.591Z"
   },
   {
    "duration": 346,
    "start_time": "2022-04-23T09:50:03.604Z"
   },
   {
    "duration": 10,
    "start_time": "2022-04-23T09:50:03.952Z"
   },
   {
    "duration": 17,
    "start_time": "2022-04-23T09:50:03.963Z"
   },
   {
    "duration": 7,
    "start_time": "2022-04-23T09:50:03.982Z"
   },
   {
    "duration": 14,
    "start_time": "2022-04-23T09:50:03.991Z"
   },
   {
    "duration": 17,
    "start_time": "2022-04-23T09:50:04.006Z"
   },
   {
    "duration": 17,
    "start_time": "2022-04-23T09:50:04.024Z"
   },
   {
    "duration": 355,
    "start_time": "2022-04-23T09:50:04.043Z"
   },
   {
    "duration": 4,
    "start_time": "2022-04-23T09:50:04.400Z"
   },
   {
    "duration": 6,
    "start_time": "2022-04-23T09:50:04.409Z"
   },
   {
    "duration": 15,
    "start_time": "2022-04-23T09:50:04.417Z"
   },
   {
    "duration": 1127,
    "start_time": "2022-04-23T20:21:13.521Z"
   },
   {
    "duration": 385,
    "start_time": "2022-04-23T20:21:14.650Z"
   },
   {
    "duration": 14,
    "start_time": "2022-04-23T20:21:15.036Z"
   },
   {
    "duration": 11,
    "start_time": "2022-04-23T20:21:15.054Z"
   },
   {
    "duration": 17,
    "start_time": "2022-04-23T20:21:15.067Z"
   },
   {
    "duration": 5,
    "start_time": "2022-04-23T20:21:15.086Z"
   },
   {
    "duration": 7,
    "start_time": "2022-04-23T20:21:15.092Z"
   },
   {
    "duration": 9,
    "start_time": "2022-04-23T20:21:15.101Z"
   },
   {
    "duration": 10,
    "start_time": "2022-04-23T20:21:15.111Z"
   },
   {
    "duration": 33,
    "start_time": "2022-04-23T20:21:15.123Z"
   },
   {
    "duration": 111,
    "start_time": "2022-04-23T20:21:15.158Z"
   },
   {
    "duration": 29,
    "start_time": "2022-04-23T20:21:15.271Z"
   },
   {
    "duration": 20,
    "start_time": "2022-04-23T20:21:15.302Z"
   },
   {
    "duration": 9,
    "start_time": "2022-04-23T20:21:15.324Z"
   },
   {
    "duration": 22,
    "start_time": "2022-04-23T20:21:15.335Z"
   },
   {
    "duration": 20,
    "start_time": "2022-04-23T20:21:15.359Z"
   },
   {
    "duration": 47,
    "start_time": "2022-04-23T20:21:15.381Z"
   },
   {
    "duration": 42,
    "start_time": "2022-04-23T20:21:15.430Z"
   },
   {
    "duration": 7,
    "start_time": "2022-04-23T20:21:15.474Z"
   },
   {
    "duration": 27,
    "start_time": "2022-04-23T20:21:15.482Z"
   },
   {
    "duration": 81,
    "start_time": "2022-04-23T20:21:15.511Z"
   },
   {
    "duration": 23,
    "start_time": "2022-04-23T20:21:15.594Z"
   },
   {
    "duration": 8,
    "start_time": "2022-04-23T20:21:15.619Z"
   },
   {
    "duration": 26,
    "start_time": "2022-04-23T20:21:15.629Z"
   },
   {
    "duration": 15,
    "start_time": "2022-04-23T20:21:15.657Z"
   },
   {
    "duration": 32,
    "start_time": "2022-04-23T20:21:15.674Z"
   },
   {
    "duration": 9,
    "start_time": "2022-04-23T20:21:15.708Z"
   },
   {
    "duration": 35,
    "start_time": "2022-04-23T20:21:15.721Z"
   },
   {
    "duration": 7,
    "start_time": "2022-04-23T20:21:15.758Z"
   },
   {
    "duration": 10,
    "start_time": "2022-04-23T20:21:15.766Z"
   },
   {
    "duration": 4,
    "start_time": "2022-04-23T20:21:15.778Z"
   },
   {
    "duration": 1446,
    "start_time": "2022-04-23T20:21:15.783Z"
   },
   {
    "duration": 25,
    "start_time": "2022-04-23T20:21:17.231Z"
   },
   {
    "duration": 13,
    "start_time": "2022-04-23T20:21:17.257Z"
   },
   {
    "duration": 11,
    "start_time": "2022-04-23T20:21:17.271Z"
   },
   {
    "duration": 18,
    "start_time": "2022-04-23T20:21:17.283Z"
   },
   {
    "duration": 48,
    "start_time": "2022-04-23T20:21:17.302Z"
   },
   {
    "duration": 29,
    "start_time": "2022-04-23T20:21:17.354Z"
   },
   {
    "duration": 36,
    "start_time": "2022-04-23T20:21:17.384Z"
   },
   {
    "duration": 9,
    "start_time": "2022-04-23T20:21:17.421Z"
   },
   {
    "duration": 17,
    "start_time": "2022-04-23T20:21:17.431Z"
   },
   {
    "duration": 22,
    "start_time": "2022-04-23T20:21:17.449Z"
   },
   {
    "duration": 8,
    "start_time": "2022-04-23T20:21:17.473Z"
   },
   {
    "duration": 28,
    "start_time": "2022-04-23T20:21:17.483Z"
   },
   {
    "duration": 14,
    "start_time": "2022-04-23T20:21:17.512Z"
   },
   {
    "duration": 15,
    "start_time": "2022-04-23T20:21:17.527Z"
   },
   {
    "duration": 22,
    "start_time": "2022-04-23T20:21:17.543Z"
   },
   {
    "duration": 21,
    "start_time": "2022-04-23T20:21:17.566Z"
   },
   {
    "duration": 26,
    "start_time": "2022-04-23T20:21:17.588Z"
   },
   {
    "duration": 18,
    "start_time": "2022-04-23T20:21:17.616Z"
   },
   {
    "duration": 22,
    "start_time": "2022-04-23T20:21:17.635Z"
   },
   {
    "duration": 36,
    "start_time": "2022-04-23T20:21:17.659Z"
   },
   {
    "duration": 69,
    "start_time": "2022-04-23T20:21:17.697Z"
   },
   {
    "duration": 12,
    "start_time": "2022-04-23T20:21:17.768Z"
   },
   {
    "duration": 50,
    "start_time": "2022-04-23T20:21:17.781Z"
   },
   {
    "duration": 218,
    "start_time": "2022-04-23T20:21:17.832Z"
   },
   {
    "duration": 207,
    "start_time": "2022-04-23T20:21:18.054Z"
   },
   {
    "duration": 12,
    "start_time": "2022-04-23T20:21:18.263Z"
   },
   {
    "duration": 29,
    "start_time": "2022-04-23T20:21:18.277Z"
   },
   {
    "duration": 11,
    "start_time": "2022-04-23T20:21:18.307Z"
   },
   {
    "duration": 22,
    "start_time": "2022-04-23T20:21:18.319Z"
   },
   {
    "duration": 21,
    "start_time": "2022-04-23T20:21:18.342Z"
   },
   {
    "duration": 27,
    "start_time": "2022-04-23T20:21:18.364Z"
   },
   {
    "duration": 22,
    "start_time": "2022-04-23T20:21:18.393Z"
   },
   {
    "duration": 27,
    "start_time": "2022-04-23T20:21:18.416Z"
   },
   {
    "duration": 298,
    "start_time": "2022-04-23T20:21:18.444Z"
   },
   {
    "duration": 13,
    "start_time": "2022-04-23T20:21:18.744Z"
   },
   {
    "duration": 18,
    "start_time": "2022-04-23T20:21:18.759Z"
   },
   {
    "duration": 18,
    "start_time": "2022-04-23T20:21:18.778Z"
   },
   {
    "duration": 30,
    "start_time": "2022-04-23T20:21:18.797Z"
   },
   {
    "duration": 15,
    "start_time": "2022-04-23T20:21:18.829Z"
   },
   {
    "duration": 25,
    "start_time": "2022-04-23T20:21:18.846Z"
   },
   {
    "duration": 311,
    "start_time": "2022-04-23T20:21:18.872Z"
   },
   {
    "duration": 10,
    "start_time": "2022-04-23T20:21:19.184Z"
   },
   {
    "duration": 24,
    "start_time": "2022-04-23T20:21:19.195Z"
   },
   {
    "duration": 6,
    "start_time": "2022-04-23T20:21:19.221Z"
   },
   {
    "duration": 20,
    "start_time": "2022-04-23T20:21:19.229Z"
   },
   {
    "duration": 24,
    "start_time": "2022-04-23T20:21:19.251Z"
   },
   {
    "duration": 24,
    "start_time": "2022-04-23T20:21:19.277Z"
   },
   {
    "duration": 299,
    "start_time": "2022-04-23T20:21:19.302Z"
   },
   {
    "duration": 3,
    "start_time": "2022-04-23T20:21:19.603Z"
   },
   {
    "duration": 27,
    "start_time": "2022-04-23T20:21:19.612Z"
   },
   {
    "duration": 36,
    "start_time": "2022-04-23T20:21:19.641Z"
   },
   {
    "duration": 5,
    "start_time": "2022-04-23T20:23:20.990Z"
   },
   {
    "duration": 88,
    "start_time": "2022-04-23T20:23:40.774Z"
   },
   {
    "duration": 3,
    "start_time": "2022-04-23T20:23:43.535Z"
   },
   {
    "duration": 12,
    "start_time": "2022-04-23T20:23:53.981Z"
   },
   {
    "duration": 10,
    "start_time": "2022-04-23T20:23:57.385Z"
   },
   {
    "duration": 3,
    "start_time": "2022-04-23T20:24:01.689Z"
   },
   {
    "duration": 5,
    "start_time": "2022-04-23T20:24:39.356Z"
   },
   {
    "duration": 3,
    "start_time": "2022-04-23T20:24:52.090Z"
   },
   {
    "duration": 134,
    "start_time": "2022-04-23T20:25:07.012Z"
   },
   {
    "duration": 122,
    "start_time": "2022-04-23T20:25:57.451Z"
   },
   {
    "duration": 5,
    "start_time": "2022-04-23T20:26:37.373Z"
   },
   {
    "duration": 3,
    "start_time": "2022-04-23T20:26:37.738Z"
   },
   {
    "duration": 112,
    "start_time": "2022-04-23T20:26:38.244Z"
   },
   {
    "duration": 5,
    "start_time": "2022-04-23T20:28:12.201Z"
   },
   {
    "duration": 5,
    "start_time": "2022-04-23T20:28:16.091Z"
   },
   {
    "duration": 5,
    "start_time": "2022-04-23T20:28:21.073Z"
   },
   {
    "duration": 8,
    "start_time": "2022-04-23T20:28:55.184Z"
   },
   {
    "duration": 5,
    "start_time": "2022-04-23T20:29:04.546Z"
   },
   {
    "duration": 4,
    "start_time": "2022-04-23T20:29:10.576Z"
   },
   {
    "duration": 160,
    "start_time": "2022-04-23T20:30:59.696Z"
   },
   {
    "duration": 129,
    "start_time": "2022-04-23T20:32:04.080Z"
   },
   {
    "duration": 7,
    "start_time": "2022-04-23T20:32:19.800Z"
   },
   {
    "duration": 119,
    "start_time": "2022-04-23T20:32:40.118Z"
   },
   {
    "duration": 9,
    "start_time": "2022-04-23T20:32:59.714Z"
   },
   {
    "duration": 8,
    "start_time": "2022-04-23T20:33:10.061Z"
   },
   {
    "duration": 5,
    "start_time": "2022-04-23T20:33:14.852Z"
   },
   {
    "duration": 103,
    "start_time": "2022-04-23T20:33:26.648Z"
   },
   {
    "duration": 4,
    "start_time": "2022-04-23T20:33:32.768Z"
   },
   {
    "duration": 4,
    "start_time": "2022-04-23T20:33:39.688Z"
   },
   {
    "duration": 3,
    "start_time": "2022-04-23T20:33:46.888Z"
   },
   {
    "duration": 5,
    "start_time": "2022-04-23T20:33:47.760Z"
   },
   {
    "duration": 3,
    "start_time": "2022-04-23T20:33:48.007Z"
   },
   {
    "duration": 131,
    "start_time": "2022-04-23T20:33:50.225Z"
   },
   {
    "duration": 4,
    "start_time": "2022-04-23T20:34:20.180Z"
   },
   {
    "duration": 4,
    "start_time": "2022-04-23T20:34:27.020Z"
   },
   {
    "duration": 123,
    "start_time": "2022-04-23T20:34:28.672Z"
   },
   {
    "duration": 117,
    "start_time": "2022-04-23T20:34:50.298Z"
   },
   {
    "duration": 8,
    "start_time": "2022-04-23T20:36:04.977Z"
   },
   {
    "duration": 9,
    "start_time": "2022-04-23T20:36:11.026Z"
   },
   {
    "duration": 105,
    "start_time": "2022-04-23T20:36:25.357Z"
   },
   {
    "duration": 106,
    "start_time": "2022-04-23T20:36:25.679Z"
   },
   {
    "duration": 5,
    "start_time": "2022-04-23T20:36:31.392Z"
   },
   {
    "duration": 5,
    "start_time": "2022-04-23T20:36:31.985Z"
   },
   {
    "duration": 5,
    "start_time": "2022-04-23T20:36:37.717Z"
   },
   {
    "duration": 6,
    "start_time": "2022-04-23T20:36:42.568Z"
   },
   {
    "duration": 6,
    "start_time": "2022-04-23T20:36:55.375Z"
   },
   {
    "duration": 5,
    "start_time": "2022-04-23T20:36:55.680Z"
   },
   {
    "duration": 2,
    "start_time": "2022-04-23T20:38:31.391Z"
   },
   {
    "duration": 6,
    "start_time": "2022-04-23T20:38:32.023Z"
   },
   {
    "duration": 9,
    "start_time": "2022-04-23T20:38:32.564Z"
   },
   {
    "duration": 7,
    "start_time": "2022-04-23T20:38:38.394Z"
   },
   {
    "duration": 11,
    "start_time": "2022-04-23T20:39:22.574Z"
   },
   {
    "duration": 3,
    "start_time": "2022-04-23T20:39:26.403Z"
   },
   {
    "duration": 9,
    "start_time": "2022-04-23T20:39:33.630Z"
   },
   {
    "duration": 6,
    "start_time": "2022-04-23T20:39:34.682Z"
   },
   {
    "duration": 3,
    "start_time": "2022-04-23T20:39:38.409Z"
   },
   {
    "duration": 9,
    "start_time": "2022-04-23T20:39:39.318Z"
   },
   {
    "duration": 5,
    "start_time": "2022-04-23T20:39:44.478Z"
   },
   {
    "duration": 1435,
    "start_time": "2022-04-23T20:40:06.323Z"
   },
   {
    "duration": 839,
    "start_time": "2022-04-23T20:40:07.760Z"
   },
   {
    "duration": 62,
    "start_time": "2022-04-23T20:40:08.601Z"
   },
   {
    "duration": 11,
    "start_time": "2022-04-23T20:40:08.665Z"
   },
   {
    "duration": 9,
    "start_time": "2022-04-23T20:40:08.677Z"
   },
   {
    "duration": 13,
    "start_time": "2022-04-23T20:40:08.687Z"
   },
   {
    "duration": 55,
    "start_time": "2022-04-23T20:40:08.701Z"
   },
   {
    "duration": 9,
    "start_time": "2022-04-23T20:40:08.758Z"
   },
   {
    "duration": 13,
    "start_time": "2022-04-23T20:40:08.768Z"
   },
   {
    "duration": 76,
    "start_time": "2022-04-23T20:40:08.783Z"
   },
   {
    "duration": 171,
    "start_time": "2022-04-23T20:40:08.861Z"
   },
   {
    "duration": 45,
    "start_time": "2022-04-23T20:40:09.034Z"
   },
   {
    "duration": 21,
    "start_time": "2022-04-23T20:40:09.081Z"
   },
   {
    "duration": 9,
    "start_time": "2022-04-23T20:40:09.104Z"
   },
   {
    "duration": 6,
    "start_time": "2022-04-23T20:40:09.115Z"
   },
   {
    "duration": 38,
    "start_time": "2022-04-23T20:40:09.123Z"
   },
   {
    "duration": 50,
    "start_time": "2022-04-23T20:40:09.163Z"
   },
   {
    "duration": 41,
    "start_time": "2022-04-23T20:40:09.215Z"
   },
   {
    "duration": 8,
    "start_time": "2022-04-23T20:40:09.257Z"
   },
   {
    "duration": 23,
    "start_time": "2022-04-23T20:40:09.266Z"
   },
   {
    "duration": 79,
    "start_time": "2022-04-23T20:40:09.291Z"
   },
   {
    "duration": 22,
    "start_time": "2022-04-23T20:40:09.372Z"
   },
   {
    "duration": 9,
    "start_time": "2022-04-23T20:40:09.396Z"
   },
   {
    "duration": 13,
    "start_time": "2022-04-23T20:40:09.406Z"
   },
   {
    "duration": 40,
    "start_time": "2022-04-23T20:40:09.420Z"
   },
   {
    "duration": 36,
    "start_time": "2022-04-23T20:40:09.462Z"
   },
   {
    "duration": 10,
    "start_time": "2022-04-23T20:40:09.499Z"
   },
   {
    "duration": 18,
    "start_time": "2022-04-23T20:40:09.512Z"
   },
   {
    "duration": 29,
    "start_time": "2022-04-23T20:40:09.531Z"
   },
   {
    "duration": 11,
    "start_time": "2022-04-23T20:40:09.561Z"
   },
   {
    "duration": 5,
    "start_time": "2022-04-23T20:40:09.574Z"
   },
   {
    "duration": 1575,
    "start_time": "2022-04-23T20:40:09.580Z"
   },
   {
    "duration": 16,
    "start_time": "2022-04-23T20:40:11.157Z"
   },
   {
    "duration": 14,
    "start_time": "2022-04-23T20:40:11.175Z"
   },
   {
    "duration": 14,
    "start_time": "2022-04-23T20:40:11.191Z"
   },
   {
    "duration": 14,
    "start_time": "2022-04-23T20:40:11.207Z"
   },
   {
    "duration": 42,
    "start_time": "2022-04-23T20:40:11.255Z"
   },
   {
    "duration": 31,
    "start_time": "2022-04-23T20:40:11.299Z"
   },
   {
    "duration": 45,
    "start_time": "2022-04-23T20:40:11.332Z"
   },
   {
    "duration": 10,
    "start_time": "2022-04-23T20:40:11.379Z"
   },
   {
    "duration": 7,
    "start_time": "2022-04-23T20:40:11.390Z"
   },
   {
    "duration": 11,
    "start_time": "2022-04-23T20:40:11.399Z"
   },
   {
    "duration": 3,
    "start_time": "2022-04-23T20:40:11.411Z"
   },
   {
    "duration": 42,
    "start_time": "2022-04-23T20:40:11.416Z"
   },
   {
    "duration": 6,
    "start_time": "2022-04-23T20:40:11.459Z"
   },
   {
    "duration": 16,
    "start_time": "2022-04-23T20:40:11.466Z"
   },
   {
    "duration": 10,
    "start_time": "2022-04-23T20:40:11.484Z"
   },
   {
    "duration": 13,
    "start_time": "2022-04-23T20:40:11.496Z"
   },
   {
    "duration": 11,
    "start_time": "2022-04-23T20:40:11.511Z"
   },
   {
    "duration": 4,
    "start_time": "2022-04-23T20:40:11.523Z"
   },
   {
    "duration": 38,
    "start_time": "2022-04-23T20:40:11.528Z"
   },
   {
    "duration": 5,
    "start_time": "2022-04-23T20:40:11.568Z"
   },
   {
    "duration": 61,
    "start_time": "2022-04-23T20:40:11.575Z"
   },
   {
    "duration": 26,
    "start_time": "2022-04-23T20:40:11.638Z"
   },
   {
    "duration": 4,
    "start_time": "2022-04-23T20:40:11.666Z"
   },
   {
    "duration": 27,
    "start_time": "2022-04-23T20:40:11.672Z"
   },
   {
    "duration": 254,
    "start_time": "2022-04-23T20:40:11.701Z"
   },
   {
    "duration": 225,
    "start_time": "2022-04-23T20:40:11.957Z"
   },
   {
    "duration": 14,
    "start_time": "2022-04-23T20:40:12.184Z"
   },
   {
    "duration": 13,
    "start_time": "2022-04-23T20:40:12.199Z"
   },
   {
    "duration": 8,
    "start_time": "2022-04-23T20:40:12.214Z"
   },
   {
    "duration": 9,
    "start_time": "2022-04-23T20:40:12.224Z"
   },
   {
    "duration": 9,
    "start_time": "2022-04-23T20:40:12.256Z"
   },
   {
    "duration": 10,
    "start_time": "2022-04-23T20:40:12.267Z"
   },
   {
    "duration": 12,
    "start_time": "2022-04-23T20:40:12.279Z"
   },
   {
    "duration": 11,
    "start_time": "2022-04-23T20:40:12.292Z"
   },
   {
    "duration": 341,
    "start_time": "2022-04-23T20:40:12.304Z"
   },
   {
    "duration": 17,
    "start_time": "2022-04-23T20:40:12.647Z"
   },
   {
    "duration": 16,
    "start_time": "2022-04-23T20:40:12.666Z"
   },
   {
    "duration": 8,
    "start_time": "2022-04-23T20:40:12.684Z"
   },
   {
    "duration": 8,
    "start_time": "2022-04-23T20:40:12.693Z"
   },
   {
    "duration": 12,
    "start_time": "2022-04-23T20:40:12.703Z"
   },
   {
    "duration": 11,
    "start_time": "2022-04-23T20:40:12.717Z"
   },
   {
    "duration": 348,
    "start_time": "2022-04-23T20:40:12.729Z"
   },
   {
    "duration": 10,
    "start_time": "2022-04-23T20:40:13.079Z"
   },
   {
    "duration": 10,
    "start_time": "2022-04-23T20:40:13.091Z"
   },
   {
    "duration": 6,
    "start_time": "2022-04-23T20:40:13.103Z"
   },
   {
    "duration": 8,
    "start_time": "2022-04-23T20:40:13.110Z"
   },
   {
    "duration": 11,
    "start_time": "2022-04-23T20:40:13.120Z"
   },
   {
    "duration": 10,
    "start_time": "2022-04-23T20:40:13.155Z"
   },
   {
    "duration": 317,
    "start_time": "2022-04-23T20:40:13.167Z"
   },
   {
    "duration": 5,
    "start_time": "2022-04-23T20:40:13.490Z"
   },
   {
    "duration": 13,
    "start_time": "2022-04-23T20:40:13.497Z"
   },
   {
    "duration": 8,
    "start_time": "2022-04-23T20:40:13.511Z"
   },
   {
    "duration": 9,
    "start_time": "2022-04-23T20:40:13.520Z"
   },
   {
    "duration": 12,
    "start_time": "2022-04-23T20:40:13.530Z"
   },
   {
    "duration": 208,
    "start_time": "2022-04-23T20:40:13.554Z"
   },
   {
    "duration": 130,
    "start_time": "2022-04-23T20:41:46.858Z"
   },
   {
    "duration": 5,
    "start_time": "2022-04-23T20:42:14.075Z"
   },
   {
    "duration": 5,
    "start_time": "2022-04-23T20:42:25.333Z"
   },
   {
    "duration": 6,
    "start_time": "2022-04-23T20:42:40.427Z"
   },
   {
    "duration": 4,
    "start_time": "2022-04-23T20:43:11.309Z"
   },
   {
    "duration": 5,
    "start_time": "2022-04-23T20:43:47.504Z"
   },
   {
    "duration": 1134,
    "start_time": "2022-04-23T20:43:52.355Z"
   },
   {
    "duration": 381,
    "start_time": "2022-04-23T20:43:53.491Z"
   },
   {
    "duration": 14,
    "start_time": "2022-04-23T20:43:53.874Z"
   },
   {
    "duration": 11,
    "start_time": "2022-04-23T20:43:53.890Z"
   },
   {
    "duration": 8,
    "start_time": "2022-04-23T20:43:53.903Z"
   },
   {
    "duration": 5,
    "start_time": "2022-04-23T20:43:53.913Z"
   },
   {
    "duration": 6,
    "start_time": "2022-04-23T20:43:53.919Z"
   },
   {
    "duration": 29,
    "start_time": "2022-04-23T20:43:53.926Z"
   },
   {
    "duration": 8,
    "start_time": "2022-04-23T20:43:53.956Z"
   },
   {
    "duration": 27,
    "start_time": "2022-04-23T20:43:53.966Z"
   },
   {
    "duration": 131,
    "start_time": "2022-04-23T20:43:53.994Z"
   },
   {
    "duration": 34,
    "start_time": "2022-04-23T20:43:54.127Z"
   },
   {
    "duration": 23,
    "start_time": "2022-04-23T20:43:54.162Z"
   },
   {
    "duration": 10,
    "start_time": "2022-04-23T20:43:54.186Z"
   },
   {
    "duration": 6,
    "start_time": "2022-04-23T20:43:54.198Z"
   },
   {
    "duration": 23,
    "start_time": "2022-04-23T20:43:54.206Z"
   },
   {
    "duration": 67,
    "start_time": "2022-04-23T20:43:54.231Z"
   },
   {
    "duration": 19,
    "start_time": "2022-04-23T20:43:54.300Z"
   },
   {
    "duration": 8,
    "start_time": "2022-04-23T20:43:54.321Z"
   },
   {
    "duration": 43,
    "start_time": "2022-04-23T20:43:54.330Z"
   },
   {
    "duration": 65,
    "start_time": "2022-04-23T20:43:54.375Z"
   },
   {
    "duration": 32,
    "start_time": "2022-04-23T20:43:54.442Z"
   },
   {
    "duration": 9,
    "start_time": "2022-04-23T20:43:54.475Z"
   },
   {
    "duration": 15,
    "start_time": "2022-04-23T20:43:54.485Z"
   },
   {
    "duration": 15,
    "start_time": "2022-04-23T20:43:54.501Z"
   },
   {
    "duration": 56,
    "start_time": "2022-04-23T20:43:54.518Z"
   },
   {
    "duration": 9,
    "start_time": "2022-04-23T20:43:54.576Z"
   },
   {
    "duration": 14,
    "start_time": "2022-04-23T20:43:54.589Z"
   },
   {
    "duration": 7,
    "start_time": "2022-04-23T20:43:54.605Z"
   },
   {
    "duration": 11,
    "start_time": "2022-04-23T20:43:54.613Z"
   },
   {
    "duration": 28,
    "start_time": "2022-04-23T20:43:54.626Z"
   },
   {
    "duration": 2434,
    "start_time": "2022-04-23T20:43:54.656Z"
   },
   {
    "duration": 16,
    "start_time": "2022-04-23T20:43:57.092Z"
   },
   {
    "duration": 25,
    "start_time": "2022-04-23T20:43:57.109Z"
   },
   {
    "duration": 20,
    "start_time": "2022-04-23T20:43:57.135Z"
   },
   {
    "duration": 30,
    "start_time": "2022-04-23T20:43:57.157Z"
   },
   {
    "duration": 42,
    "start_time": "2022-04-23T20:43:57.189Z"
   },
   {
    "duration": 41,
    "start_time": "2022-04-23T20:43:57.233Z"
   },
   {
    "duration": 26,
    "start_time": "2022-04-23T20:43:57.275Z"
   },
   {
    "duration": 9,
    "start_time": "2022-04-23T20:43:57.303Z"
   },
   {
    "duration": 7,
    "start_time": "2022-04-23T20:43:57.313Z"
   },
   {
    "duration": 9,
    "start_time": "2022-04-23T20:43:57.322Z"
   },
   {
    "duration": 5,
    "start_time": "2022-04-23T20:43:57.356Z"
   },
   {
    "duration": 24,
    "start_time": "2022-04-23T20:43:57.362Z"
   },
   {
    "duration": 4,
    "start_time": "2022-04-23T20:43:57.387Z"
   },
   {
    "duration": 10,
    "start_time": "2022-04-23T20:43:57.393Z"
   },
   {
    "duration": 5,
    "start_time": "2022-04-23T20:43:57.405Z"
   },
   {
    "duration": 12,
    "start_time": "2022-04-23T20:43:57.412Z"
   },
   {
    "duration": 31,
    "start_time": "2022-04-23T20:43:57.425Z"
   },
   {
    "duration": 6,
    "start_time": "2022-04-23T20:43:57.458Z"
   },
   {
    "duration": 19,
    "start_time": "2022-04-23T20:43:57.466Z"
   },
   {
    "duration": 8,
    "start_time": "2022-04-23T20:43:57.486Z"
   },
   {
    "duration": 77,
    "start_time": "2022-04-23T20:43:57.495Z"
   },
   {
    "duration": 13,
    "start_time": "2022-04-23T20:43:57.574Z"
   },
   {
    "duration": 6,
    "start_time": "2022-04-23T20:43:57.588Z"
   },
   {
    "duration": 25,
    "start_time": "2022-04-23T20:43:57.595Z"
   },
   {
    "duration": 261,
    "start_time": "2022-04-23T20:43:57.621Z"
   },
   {
    "duration": 233,
    "start_time": "2022-04-23T20:43:57.884Z"
   },
   {
    "duration": 15,
    "start_time": "2022-04-23T20:43:58.118Z"
   },
   {
    "duration": 35,
    "start_time": "2022-04-23T20:43:58.134Z"
   },
   {
    "duration": 18,
    "start_time": "2022-04-23T20:43:58.171Z"
   },
   {
    "duration": 7,
    "start_time": "2022-04-23T20:43:58.191Z"
   },
   {
    "duration": 10,
    "start_time": "2022-04-23T20:43:58.199Z"
   },
   {
    "duration": 7,
    "start_time": "2022-04-23T20:43:58.211Z"
   },
   {
    "duration": 11,
    "start_time": "2022-04-23T20:43:58.219Z"
   },
   {
    "duration": 24,
    "start_time": "2022-04-23T20:43:58.231Z"
   },
   {
    "duration": 299,
    "start_time": "2022-04-23T20:43:58.257Z"
   },
   {
    "duration": 10,
    "start_time": "2022-04-23T20:43:58.557Z"
   },
   {
    "duration": 12,
    "start_time": "2022-04-23T20:43:58.568Z"
   },
   {
    "duration": 6,
    "start_time": "2022-04-23T20:43:58.582Z"
   },
   {
    "duration": 8,
    "start_time": "2022-04-23T20:43:58.589Z"
   },
   {
    "duration": 15,
    "start_time": "2022-04-23T20:43:58.599Z"
   },
   {
    "duration": 13,
    "start_time": "2022-04-23T20:43:58.615Z"
   },
   {
    "duration": 326,
    "start_time": "2022-04-23T20:43:58.630Z"
   },
   {
    "duration": 9,
    "start_time": "2022-04-23T20:43:58.957Z"
   },
   {
    "duration": 11,
    "start_time": "2022-04-23T20:43:58.968Z"
   },
   {
    "duration": 7,
    "start_time": "2022-04-23T20:43:58.980Z"
   },
   {
    "duration": 8,
    "start_time": "2022-04-23T20:43:58.988Z"
   },
   {
    "duration": 11,
    "start_time": "2022-04-23T20:43:58.997Z"
   },
   {
    "duration": 11,
    "start_time": "2022-04-23T20:43:59.009Z"
   },
   {
    "duration": 331,
    "start_time": "2022-04-23T20:43:59.021Z"
   },
   {
    "duration": 5,
    "start_time": "2022-04-23T20:43:59.359Z"
   },
   {
    "duration": 4,
    "start_time": "2022-04-23T20:46:08.356Z"
   },
   {
    "duration": 5,
    "start_time": "2022-04-23T20:46:40.238Z"
   },
   {
    "duration": 15,
    "start_time": "2022-04-23T20:46:58.304Z"
   },
   {
    "duration": 6,
    "start_time": "2022-04-23T20:47:02.544Z"
   },
   {
    "duration": 10,
    "start_time": "2022-04-23T20:47:10.923Z"
   },
   {
    "duration": 16,
    "start_time": "2022-04-23T20:47:18.548Z"
   },
   {
    "duration": 24,
    "start_time": "2022-04-23T20:47:31.077Z"
   },
   {
    "duration": 5,
    "start_time": "2022-04-23T20:48:06.062Z"
   },
   {
    "duration": 5,
    "start_time": "2022-04-23T20:57:48.233Z"
   },
   {
    "duration": 5,
    "start_time": "2022-04-23T21:01:48.404Z"
   },
   {
    "duration": 5,
    "start_time": "2022-04-23T21:02:23.700Z"
   },
   {
    "duration": 4,
    "start_time": "2022-04-23T21:02:33.888Z"
   },
   {
    "duration": 113,
    "start_time": "2022-04-23T21:16:47.529Z"
   },
   {
    "duration": 8,
    "start_time": "2022-04-23T21:21:21.169Z"
   },
   {
    "duration": 1242,
    "start_time": "2022-04-23T21:31:03.254Z"
   },
   {
    "duration": 396,
    "start_time": "2022-04-23T21:31:04.498Z"
   },
   {
    "duration": 14,
    "start_time": "2022-04-23T21:31:04.896Z"
   },
   {
    "duration": 15,
    "start_time": "2022-04-23T21:31:04.912Z"
   },
   {
    "duration": 13,
    "start_time": "2022-04-23T21:31:04.928Z"
   },
   {
    "duration": 4,
    "start_time": "2022-04-23T21:31:04.943Z"
   },
   {
    "duration": 6,
    "start_time": "2022-04-23T21:31:04.949Z"
   },
   {
    "duration": 6,
    "start_time": "2022-04-23T21:31:04.956Z"
   },
   {
    "duration": 9,
    "start_time": "2022-04-23T21:31:04.963Z"
   },
   {
    "duration": 27,
    "start_time": "2022-04-23T21:31:04.974Z"
   },
   {
    "duration": 114,
    "start_time": "2022-04-23T21:31:05.003Z"
   },
   {
    "duration": 30,
    "start_time": "2022-04-23T21:31:05.119Z"
   },
   {
    "duration": 23,
    "start_time": "2022-04-23T21:31:05.155Z"
   },
   {
    "duration": 11,
    "start_time": "2022-04-23T21:31:05.180Z"
   },
   {
    "duration": 7,
    "start_time": "2022-04-23T21:31:05.192Z"
   },
   {
    "duration": 20,
    "start_time": "2022-04-23T21:31:05.200Z"
   },
   {
    "duration": 61,
    "start_time": "2022-04-23T21:31:05.221Z"
   },
   {
    "duration": 19,
    "start_time": "2022-04-23T21:31:05.284Z"
   },
   {
    "duration": 19,
    "start_time": "2022-04-23T21:31:05.305Z"
   },
   {
    "duration": 25,
    "start_time": "2022-04-23T21:31:05.326Z"
   },
   {
    "duration": 69,
    "start_time": "2022-04-23T21:31:05.353Z"
   },
   {
    "duration": 24,
    "start_time": "2022-04-23T21:31:05.423Z"
   },
   {
    "duration": 13,
    "start_time": "2022-04-23T21:31:05.448Z"
   },
   {
    "duration": 12,
    "start_time": "2022-04-23T21:31:05.463Z"
   },
   {
    "duration": 16,
    "start_time": "2022-04-23T21:31:05.476Z"
   },
   {
    "duration": 32,
    "start_time": "2022-04-23T21:31:05.494Z"
   },
   {
    "duration": 10,
    "start_time": "2022-04-23T21:31:05.528Z"
   },
   {
    "duration": 23,
    "start_time": "2022-04-23T21:31:05.542Z"
   },
   {
    "duration": 8,
    "start_time": "2022-04-23T21:31:05.566Z"
   },
   {
    "duration": 13,
    "start_time": "2022-04-23T21:31:05.576Z"
   },
   {
    "duration": 8,
    "start_time": "2022-04-23T21:31:05.590Z"
   },
   {
    "duration": 1671,
    "start_time": "2022-04-23T21:31:05.599Z"
   },
   {
    "duration": 17,
    "start_time": "2022-04-23T21:31:07.272Z"
   },
   {
    "duration": 14,
    "start_time": "2022-04-23T21:31:07.291Z"
   },
   {
    "duration": 14,
    "start_time": "2022-04-23T21:31:07.306Z"
   },
   {
    "duration": 34,
    "start_time": "2022-04-23T21:31:07.322Z"
   },
   {
    "duration": 38,
    "start_time": "2022-04-23T21:31:07.358Z"
   },
   {
    "duration": 31,
    "start_time": "2022-04-23T21:31:07.398Z"
   },
   {
    "duration": 47,
    "start_time": "2022-04-23T21:31:07.431Z"
   },
   {
    "duration": 10,
    "start_time": "2022-04-23T21:31:07.479Z"
   },
   {
    "duration": 7,
    "start_time": "2022-04-23T21:31:07.490Z"
   },
   {
    "duration": 10,
    "start_time": "2022-04-23T21:31:07.498Z"
   },
   {
    "duration": 12,
    "start_time": "2022-04-23T21:31:07.510Z"
   },
   {
    "duration": 35,
    "start_time": "2022-04-23T21:31:07.524Z"
   },
   {
    "duration": 4,
    "start_time": "2022-04-23T21:31:07.561Z"
   },
   {
    "duration": 40,
    "start_time": "2022-04-23T21:31:07.566Z"
   },
   {
    "duration": 11,
    "start_time": "2022-04-23T21:31:07.607Z"
   },
   {
    "duration": 13,
    "start_time": "2022-04-23T21:31:07.620Z"
   },
   {
    "duration": 11,
    "start_time": "2022-04-23T21:31:07.635Z"
   },
   {
    "duration": 3,
    "start_time": "2022-04-23T21:31:07.647Z"
   },
   {
    "duration": 13,
    "start_time": "2022-04-23T21:31:07.652Z"
   },
   {
    "duration": 6,
    "start_time": "2022-04-23T21:31:07.666Z"
   },
   {
    "duration": 56,
    "start_time": "2022-04-23T21:31:07.673Z"
   },
   {
    "duration": 12,
    "start_time": "2022-04-23T21:31:07.730Z"
   },
   {
    "duration": 5,
    "start_time": "2022-04-23T21:31:07.754Z"
   },
   {
    "duration": 26,
    "start_time": "2022-04-23T21:31:07.760Z"
   },
   {
    "duration": 237,
    "start_time": "2022-04-23T21:31:07.787Z"
   },
   {
    "duration": 219,
    "start_time": "2022-04-23T21:31:08.026Z"
   },
   {
    "duration": 19,
    "start_time": "2022-04-23T21:31:08.246Z"
   },
   {
    "duration": 13,
    "start_time": "2022-04-23T21:31:08.266Z"
   },
   {
    "duration": 12,
    "start_time": "2022-04-23T21:31:08.281Z"
   },
   {
    "duration": 8,
    "start_time": "2022-04-23T21:31:08.294Z"
   },
   {
    "duration": 10,
    "start_time": "2022-04-23T21:31:08.303Z"
   },
   {
    "duration": 5,
    "start_time": "2022-04-23T21:31:08.314Z"
   },
   {
    "duration": 34,
    "start_time": "2022-04-23T21:31:08.321Z"
   },
   {
    "duration": 10,
    "start_time": "2022-04-23T21:31:08.356Z"
   },
   {
    "duration": 313,
    "start_time": "2022-04-23T21:31:08.368Z"
   },
   {
    "duration": 10,
    "start_time": "2022-04-23T21:31:08.682Z"
   },
   {
    "duration": 11,
    "start_time": "2022-04-23T21:31:08.694Z"
   },
   {
    "duration": 7,
    "start_time": "2022-04-23T21:31:08.706Z"
   },
   {
    "duration": 8,
    "start_time": "2022-04-23T21:31:08.714Z"
   },
   {
    "duration": 32,
    "start_time": "2022-04-23T21:31:08.724Z"
   },
   {
    "duration": 14,
    "start_time": "2022-04-23T21:31:08.758Z"
   },
   {
    "duration": 321,
    "start_time": "2022-04-23T21:31:08.774Z"
   },
   {
    "duration": 10,
    "start_time": "2022-04-23T21:31:09.097Z"
   },
   {
    "duration": 76,
    "start_time": "2022-04-23T21:31:09.108Z"
   },
   {
    "duration": 8,
    "start_time": "2022-04-23T21:31:09.186Z"
   },
   {
    "duration": 7,
    "start_time": "2022-04-23T21:31:09.196Z"
   },
   {
    "duration": 12,
    "start_time": "2022-04-23T21:31:09.205Z"
   },
   {
    "duration": 10,
    "start_time": "2022-04-23T21:31:09.218Z"
   },
   {
    "duration": 297,
    "start_time": "2022-04-23T21:31:09.230Z"
   },
   {
    "duration": 5,
    "start_time": "2022-04-23T21:31:09.532Z"
   },
   {
    "duration": 31,
    "start_time": "2022-04-23T21:31:09.539Z"
   },
   {
    "duration": 5,
    "start_time": "2022-04-23T21:31:09.572Z"
   },
   {
    "duration": 1133,
    "start_time": "2022-04-23T21:32:17.662Z"
   },
   {
    "duration": 395,
    "start_time": "2022-04-23T21:32:18.797Z"
   },
   {
    "duration": 14,
    "start_time": "2022-04-23T21:32:19.193Z"
   },
   {
    "duration": 12,
    "start_time": "2022-04-23T21:32:19.210Z"
   },
   {
    "duration": 13,
    "start_time": "2022-04-23T21:32:19.224Z"
   },
   {
    "duration": 10,
    "start_time": "2022-04-23T21:32:19.239Z"
   },
   {
    "duration": 4,
    "start_time": "2022-04-23T21:32:19.255Z"
   },
   {
    "duration": 6,
    "start_time": "2022-04-23T21:32:19.260Z"
   },
   {
    "duration": 11,
    "start_time": "2022-04-23T21:32:19.268Z"
   },
   {
    "duration": 27,
    "start_time": "2022-04-23T21:32:19.282Z"
   },
   {
    "duration": 144,
    "start_time": "2022-04-23T21:32:19.311Z"
   },
   {
    "duration": 31,
    "start_time": "2022-04-23T21:32:19.457Z"
   },
   {
    "duration": 22,
    "start_time": "2022-04-23T21:32:19.490Z"
   },
   {
    "duration": 10,
    "start_time": "2022-04-23T21:32:19.514Z"
   },
   {
    "duration": 32,
    "start_time": "2022-04-23T21:32:19.525Z"
   },
   {
    "duration": 24,
    "start_time": "2022-04-23T21:32:19.559Z"
   },
   {
    "duration": 52,
    "start_time": "2022-04-23T21:32:19.585Z"
   },
   {
    "duration": 34,
    "start_time": "2022-04-23T21:32:19.639Z"
   },
   {
    "duration": 9,
    "start_time": "2022-04-23T21:32:19.675Z"
   },
   {
    "duration": 26,
    "start_time": "2022-04-23T21:32:19.685Z"
   },
   {
    "duration": 95,
    "start_time": "2022-04-23T21:32:19.713Z"
   },
   {
    "duration": 23,
    "start_time": "2022-04-23T21:32:19.810Z"
   },
   {
    "duration": 19,
    "start_time": "2022-04-23T21:32:19.835Z"
   },
   {
    "duration": 10,
    "start_time": "2022-04-23T21:32:19.856Z"
   },
   {
    "duration": 20,
    "start_time": "2022-04-23T21:32:19.867Z"
   },
   {
    "duration": 35,
    "start_time": "2022-04-23T21:32:19.888Z"
   },
   {
    "duration": 30,
    "start_time": "2022-04-23T21:32:19.925Z"
   },
   {
    "duration": 16,
    "start_time": "2022-04-23T21:32:19.960Z"
   },
   {
    "duration": 8,
    "start_time": "2022-04-23T21:32:19.977Z"
   },
   {
    "duration": 12,
    "start_time": "2022-04-23T21:32:19.986Z"
   },
   {
    "duration": 6,
    "start_time": "2022-04-23T21:32:20.000Z"
   },
   {
    "duration": 1496,
    "start_time": "2022-04-23T21:32:20.008Z"
   },
   {
    "duration": 16,
    "start_time": "2022-04-23T21:32:21.506Z"
   },
   {
    "duration": 18,
    "start_time": "2022-04-23T21:32:21.524Z"
   },
   {
    "duration": 33,
    "start_time": "2022-04-23T21:32:21.554Z"
   },
   {
    "duration": 49,
    "start_time": "2022-04-23T21:32:21.588Z"
   },
   {
    "duration": 45,
    "start_time": "2022-04-23T21:32:21.639Z"
   },
   {
    "duration": 30,
    "start_time": "2022-04-23T21:32:21.686Z"
   },
   {
    "duration": 42,
    "start_time": "2022-04-23T21:32:21.718Z"
   },
   {
    "duration": 9,
    "start_time": "2022-04-23T21:32:21.762Z"
   },
   {
    "duration": 13,
    "start_time": "2022-04-23T21:32:21.772Z"
   },
   {
    "duration": 18,
    "start_time": "2022-04-23T21:32:21.787Z"
   },
   {
    "duration": 6,
    "start_time": "2022-04-23T21:32:21.806Z"
   },
   {
    "duration": 14,
    "start_time": "2022-04-23T21:32:21.814Z"
   },
   {
    "duration": 7,
    "start_time": "2022-04-23T21:32:21.829Z"
   },
   {
    "duration": 18,
    "start_time": "2022-04-23T21:32:21.838Z"
   },
   {
    "duration": 13,
    "start_time": "2022-04-23T21:32:21.858Z"
   },
   {
    "duration": 18,
    "start_time": "2022-04-23T21:32:21.872Z"
   },
   {
    "duration": 16,
    "start_time": "2022-04-23T21:32:21.891Z"
   },
   {
    "duration": 10,
    "start_time": "2022-04-23T21:32:21.909Z"
   },
   {
    "duration": 15,
    "start_time": "2022-04-23T21:32:21.920Z"
   },
   {
    "duration": 7,
    "start_time": "2022-04-23T21:32:21.937Z"
   },
   {
    "duration": 58,
    "start_time": "2022-04-23T21:32:21.946Z"
   },
   {
    "duration": 14,
    "start_time": "2022-04-23T21:32:22.005Z"
   },
   {
    "duration": 6,
    "start_time": "2022-04-23T21:32:22.021Z"
   },
   {
    "duration": 45,
    "start_time": "2022-04-23T21:32:22.029Z"
   },
   {
    "duration": 229,
    "start_time": "2022-04-23T21:32:22.076Z"
   },
   {
    "duration": 212,
    "start_time": "2022-04-23T21:32:22.307Z"
   },
   {
    "duration": 14,
    "start_time": "2022-04-23T21:32:22.521Z"
   },
   {
    "duration": 28,
    "start_time": "2022-04-23T21:32:22.537Z"
   },
   {
    "duration": 9,
    "start_time": "2022-04-23T21:32:22.567Z"
   },
   {
    "duration": 11,
    "start_time": "2022-04-23T21:32:22.578Z"
   },
   {
    "duration": 12,
    "start_time": "2022-04-23T21:32:22.590Z"
   },
   {
    "duration": 13,
    "start_time": "2022-04-23T21:32:22.604Z"
   },
   {
    "duration": 19,
    "start_time": "2022-04-23T21:32:22.618Z"
   },
   {
    "duration": 23,
    "start_time": "2022-04-23T21:32:22.639Z"
   },
   {
    "duration": 304,
    "start_time": "2022-04-23T21:32:22.664Z"
   },
   {
    "duration": 10,
    "start_time": "2022-04-23T21:32:22.970Z"
   },
   {
    "duration": 12,
    "start_time": "2022-04-23T21:32:22.981Z"
   },
   {
    "duration": 8,
    "start_time": "2022-04-23T21:32:22.994Z"
   },
   {
    "duration": 9,
    "start_time": "2022-04-23T21:32:23.004Z"
   },
   {
    "duration": 13,
    "start_time": "2022-04-23T21:32:23.015Z"
   },
   {
    "duration": 33,
    "start_time": "2022-04-23T21:32:23.030Z"
   },
   {
    "duration": 319,
    "start_time": "2022-04-23T21:32:23.065Z"
   },
   {
    "duration": 10,
    "start_time": "2022-04-23T21:32:23.385Z"
   },
   {
    "duration": 12,
    "start_time": "2022-04-23T21:32:23.397Z"
   },
   {
    "duration": 6,
    "start_time": "2022-04-23T21:32:23.411Z"
   },
   {
    "duration": 9,
    "start_time": "2022-04-23T21:32:23.419Z"
   },
   {
    "duration": 30,
    "start_time": "2022-04-23T21:32:23.430Z"
   },
   {
    "duration": 16,
    "start_time": "2022-04-23T21:32:23.462Z"
   },
   {
    "duration": 322,
    "start_time": "2022-04-23T21:32:23.480Z"
   },
   {
    "duration": 5,
    "start_time": "2022-04-23T21:32:23.808Z"
   },
   {
    "duration": 32,
    "start_time": "2022-04-23T21:32:23.814Z"
   },
   {
    "duration": 6,
    "start_time": "2022-04-23T21:32:23.854Z"
   },
   {
    "duration": 11,
    "start_time": "2022-04-23T21:32:47.648Z"
   },
   {
    "duration": 1060,
    "start_time": "2022-04-30T10:41:27.848Z"
   },
   {
    "duration": 366,
    "start_time": "2022-04-30T10:41:28.910Z"
   },
   {
    "duration": 13,
    "start_time": "2022-04-30T10:41:29.277Z"
   },
   {
    "duration": 9,
    "start_time": "2022-04-30T10:41:29.291Z"
   },
   {
    "duration": 8,
    "start_time": "2022-04-30T10:41:29.302Z"
   },
   {
    "duration": 5,
    "start_time": "2022-04-30T10:41:29.311Z"
   },
   {
    "duration": 5,
    "start_time": "2022-04-30T10:41:29.317Z"
   },
   {
    "duration": 5,
    "start_time": "2022-04-30T10:41:29.323Z"
   },
   {
    "duration": 9,
    "start_time": "2022-04-30T10:41:29.330Z"
   },
   {
    "duration": 24,
    "start_time": "2022-04-30T10:41:29.340Z"
   },
   {
    "duration": 111,
    "start_time": "2022-04-30T10:41:29.365Z"
   },
   {
    "duration": 40,
    "start_time": "2022-04-30T10:41:29.478Z"
   },
   {
    "duration": 20,
    "start_time": "2022-04-30T10:41:29.520Z"
   },
   {
    "duration": 9,
    "start_time": "2022-04-30T10:41:29.543Z"
   },
   {
    "duration": 6,
    "start_time": "2022-04-30T10:41:29.553Z"
   },
   {
    "duration": 17,
    "start_time": "2022-04-30T10:41:29.560Z"
   },
   {
    "duration": 42,
    "start_time": "2022-04-30T10:41:29.600Z"
   },
   {
    "duration": 18,
    "start_time": "2022-04-30T10:41:29.644Z"
   },
   {
    "duration": 7,
    "start_time": "2022-04-30T10:41:29.663Z"
   },
   {
    "duration": 38,
    "start_time": "2022-04-30T10:41:29.672Z"
   },
   {
    "duration": 59,
    "start_time": "2022-04-30T10:41:29.711Z"
   },
   {
    "duration": 36,
    "start_time": "2022-04-30T10:41:29.772Z"
   },
   {
    "duration": 7,
    "start_time": "2022-04-30T10:41:29.810Z"
   },
   {
    "duration": 13,
    "start_time": "2022-04-30T10:41:29.819Z"
   },
   {
    "duration": 13,
    "start_time": "2022-04-30T10:41:29.833Z"
   },
   {
    "duration": 28,
    "start_time": "2022-04-30T10:41:29.847Z"
   },
   {
    "duration": 29,
    "start_time": "2022-04-30T10:41:29.876Z"
   },
   {
    "duration": 14,
    "start_time": "2022-04-30T10:41:29.906Z"
   },
   {
    "duration": 6,
    "start_time": "2022-04-30T10:41:29.921Z"
   },
   {
    "duration": 11,
    "start_time": "2022-04-30T10:41:29.929Z"
   },
   {
    "duration": 4,
    "start_time": "2022-04-30T10:41:29.941Z"
   },
   {
    "duration": 1387,
    "start_time": "2022-04-30T10:41:29.946Z"
   },
   {
    "duration": 15,
    "start_time": "2022-04-30T10:41:31.334Z"
   },
   {
    "duration": 14,
    "start_time": "2022-04-30T10:41:31.350Z"
   },
   {
    "duration": 12,
    "start_time": "2022-04-30T10:41:31.366Z"
   },
   {
    "duration": 25,
    "start_time": "2022-04-30T10:41:31.380Z"
   },
   {
    "duration": 34,
    "start_time": "2022-04-30T10:41:31.406Z"
   },
   {
    "duration": 27,
    "start_time": "2022-04-30T10:41:31.442Z"
   },
   {
    "duration": 48,
    "start_time": "2022-04-30T10:41:31.470Z"
   },
   {
    "duration": 8,
    "start_time": "2022-04-30T10:41:31.519Z"
   },
   {
    "duration": 6,
    "start_time": "2022-04-30T10:41:31.531Z"
   },
   {
    "duration": 10,
    "start_time": "2022-04-30T10:41:31.539Z"
   },
   {
    "duration": 10,
    "start_time": "2022-04-30T10:41:31.550Z"
   },
   {
    "duration": 14,
    "start_time": "2022-04-30T10:41:31.561Z"
   },
   {
    "duration": 14,
    "start_time": "2022-04-30T10:41:31.576Z"
   },
   {
    "duration": 14,
    "start_time": "2022-04-30T10:41:31.591Z"
   },
   {
    "duration": 7,
    "start_time": "2022-04-30T10:41:31.607Z"
   },
   {
    "duration": 19,
    "start_time": "2022-04-30T10:41:31.615Z"
   },
   {
    "duration": 14,
    "start_time": "2022-04-30T10:41:31.635Z"
   },
   {
    "duration": 3,
    "start_time": "2022-04-30T10:41:31.650Z"
   },
   {
    "duration": 12,
    "start_time": "2022-04-30T10:41:31.654Z"
   },
   {
    "duration": 4,
    "start_time": "2022-04-30T10:41:31.668Z"
   },
   {
    "duration": 71,
    "start_time": "2022-04-30T10:41:31.674Z"
   },
   {
    "duration": 12,
    "start_time": "2022-04-30T10:41:31.746Z"
   },
   {
    "duration": 4,
    "start_time": "2022-04-30T10:41:31.759Z"
   },
   {
    "duration": 36,
    "start_time": "2022-04-30T10:41:31.765Z"
   },
   {
    "duration": 218,
    "start_time": "2022-04-30T10:41:31.802Z"
   },
   {
    "duration": 205,
    "start_time": "2022-04-30T10:41:32.021Z"
   },
   {
    "duration": 15,
    "start_time": "2022-04-30T10:41:32.227Z"
   },
   {
    "duration": 14,
    "start_time": "2022-04-30T10:41:32.243Z"
   },
   {
    "duration": 8,
    "start_time": "2022-04-30T10:41:32.259Z"
   },
   {
    "duration": 7,
    "start_time": "2022-04-30T10:41:32.269Z"
   },
   {
    "duration": 8,
    "start_time": "2022-04-30T10:41:32.301Z"
   },
   {
    "duration": 11,
    "start_time": "2022-04-30T10:41:32.311Z"
   },
   {
    "duration": 10,
    "start_time": "2022-04-30T10:41:32.323Z"
   },
   {
    "duration": 10,
    "start_time": "2022-04-30T10:41:32.335Z"
   },
   {
    "duration": 308,
    "start_time": "2022-04-30T10:41:32.346Z"
   },
   {
    "duration": 9,
    "start_time": "2022-04-30T10:41:32.656Z"
   },
   {
    "duration": 11,
    "start_time": "2022-04-30T10:41:32.667Z"
   },
   {
    "duration": 8,
    "start_time": "2022-04-30T10:41:32.679Z"
   },
   {
    "duration": 5,
    "start_time": "2022-04-30T10:41:32.700Z"
   },
   {
    "duration": 9,
    "start_time": "2022-04-30T10:41:32.707Z"
   },
   {
    "duration": 10,
    "start_time": "2022-04-30T10:41:32.718Z"
   },
   {
    "duration": 302,
    "start_time": "2022-04-30T10:41:32.730Z"
   },
   {
    "duration": 9,
    "start_time": "2022-04-30T10:41:33.033Z"
   },
   {
    "duration": 10,
    "start_time": "2022-04-30T10:41:33.043Z"
   },
   {
    "duration": 9,
    "start_time": "2022-04-30T10:41:33.054Z"
   },
   {
    "duration": 10,
    "start_time": "2022-04-30T10:41:33.064Z"
   },
   {
    "duration": 11,
    "start_time": "2022-04-30T10:41:33.076Z"
   },
   {
    "duration": 19,
    "start_time": "2022-04-30T10:41:33.088Z"
   },
   {
    "duration": 300,
    "start_time": "2022-04-30T10:41:33.108Z"
   },
   {
    "duration": 4,
    "start_time": "2022-04-30T10:41:33.410Z"
   },
   {
    "duration": 26,
    "start_time": "2022-04-30T10:41:33.416Z"
   },
   {
    "duration": 4,
    "start_time": "2022-04-30T10:41:33.443Z"
   },
   {
    "duration": 1126,
    "start_time": "2022-04-30T10:51:38.496Z"
   },
   {
    "duration": 384,
    "start_time": "2022-04-30T10:51:39.623Z"
   },
   {
    "duration": 13,
    "start_time": "2022-04-30T10:51:40.008Z"
   },
   {
    "duration": 10,
    "start_time": "2022-04-30T10:51:40.023Z"
   },
   {
    "duration": 7,
    "start_time": "2022-04-30T10:51:40.034Z"
   },
   {
    "duration": 6,
    "start_time": "2022-04-30T10:51:40.042Z"
   },
   {
    "duration": 5,
    "start_time": "2022-04-30T10:51:40.049Z"
   },
   {
    "duration": 5,
    "start_time": "2022-04-30T10:51:40.056Z"
   },
   {
    "duration": 8,
    "start_time": "2022-04-30T10:51:40.063Z"
   },
   {
    "duration": 22,
    "start_time": "2022-04-30T10:51:40.102Z"
   },
   {
    "duration": 113,
    "start_time": "2022-04-30T10:51:40.126Z"
   },
   {
    "duration": 29,
    "start_time": "2022-04-30T10:51:40.240Z"
   },
   {
    "duration": 33,
    "start_time": "2022-04-30T10:51:40.271Z"
   },
   {
    "duration": 10,
    "start_time": "2022-04-30T10:51:40.306Z"
   },
   {
    "duration": 7,
    "start_time": "2022-04-30T10:51:40.317Z"
   },
   {
    "duration": 19,
    "start_time": "2022-04-30T10:51:40.325Z"
   },
   {
    "duration": 71,
    "start_time": "2022-04-30T10:51:40.345Z"
   },
   {
    "duration": 19,
    "start_time": "2022-04-30T10:51:40.417Z"
   },
   {
    "duration": 7,
    "start_time": "2022-04-30T10:51:40.437Z"
   },
   {
    "duration": 21,
    "start_time": "2022-04-30T10:51:40.445Z"
   },
   {
    "duration": 81,
    "start_time": "2022-04-30T10:51:40.467Z"
   },
   {
    "duration": 21,
    "start_time": "2022-04-30T10:51:40.549Z"
   },
   {
    "duration": 7,
    "start_time": "2022-04-30T10:51:40.571Z"
   },
   {
    "duration": 22,
    "start_time": "2022-04-30T10:51:40.580Z"
   },
   {
    "duration": 14,
    "start_time": "2022-04-30T10:51:40.603Z"
   },
   {
    "duration": 30,
    "start_time": "2022-04-30T10:51:40.618Z"
   },
   {
    "duration": 9,
    "start_time": "2022-04-30T10:51:40.649Z"
   },
   {
    "duration": 16,
    "start_time": "2022-04-30T10:51:40.661Z"
   },
   {
    "duration": 7,
    "start_time": "2022-04-30T10:51:40.700Z"
   },
   {
    "duration": 10,
    "start_time": "2022-04-30T10:51:40.709Z"
   },
   {
    "duration": 5,
    "start_time": "2022-04-30T10:51:40.720Z"
   },
   {
    "duration": 1366,
    "start_time": "2022-04-30T10:51:40.726Z"
   },
   {
    "duration": 16,
    "start_time": "2022-04-30T10:51:42.094Z"
   },
   {
    "duration": 12,
    "start_time": "2022-04-30T10:51:42.111Z"
   },
   {
    "duration": 9,
    "start_time": "2022-04-30T10:51:42.125Z"
   },
   {
    "duration": 13,
    "start_time": "2022-04-30T10:51:42.136Z"
   },
   {
    "duration": 53,
    "start_time": "2022-04-30T10:51:42.150Z"
   },
   {
    "duration": 26,
    "start_time": "2022-04-30T10:51:42.205Z"
   },
   {
    "duration": 24,
    "start_time": "2022-04-30T10:51:42.232Z"
   },
   {
    "duration": 8,
    "start_time": "2022-04-30T10:51:42.258Z"
   },
   {
    "duration": 9,
    "start_time": "2022-04-30T10:51:42.267Z"
   },
   {
    "duration": 9,
    "start_time": "2022-04-30T10:51:42.300Z"
   },
   {
    "duration": 5,
    "start_time": "2022-04-30T10:51:42.311Z"
   },
   {
    "duration": 13,
    "start_time": "2022-04-30T10:51:42.317Z"
   },
   {
    "duration": 6,
    "start_time": "2022-04-30T10:51:42.331Z"
   },
   {
    "duration": 9,
    "start_time": "2022-04-30T10:51:42.338Z"
   },
   {
    "duration": 6,
    "start_time": "2022-04-30T10:51:42.348Z"
   },
   {
    "duration": 16,
    "start_time": "2022-04-30T10:51:42.355Z"
   },
   {
    "duration": 32,
    "start_time": "2022-04-30T10:51:42.372Z"
   },
   {
    "duration": 3,
    "start_time": "2022-04-30T10:51:42.405Z"
   },
   {
    "duration": 11,
    "start_time": "2022-04-30T10:51:42.409Z"
   },
   {
    "duration": 5,
    "start_time": "2022-04-30T10:51:42.421Z"
   },
   {
    "duration": 55,
    "start_time": "2022-04-30T10:51:42.427Z"
   },
   {
    "duration": 26,
    "start_time": "2022-04-30T10:51:42.483Z"
   },
   {
    "duration": 7,
    "start_time": "2022-04-30T10:51:42.511Z"
   },
   {
    "duration": 25,
    "start_time": "2022-04-30T10:51:42.520Z"
   },
   {
    "duration": 221,
    "start_time": "2022-04-30T10:51:42.546Z"
   },
   {
    "duration": 201,
    "start_time": "2022-04-30T10:51:42.769Z"
   },
   {
    "duration": 14,
    "start_time": "2022-04-30T10:51:42.972Z"
   },
   {
    "duration": 13,
    "start_time": "2022-04-30T10:51:43.001Z"
   },
   {
    "duration": 9,
    "start_time": "2022-04-30T10:51:43.015Z"
   },
   {
    "duration": 8,
    "start_time": "2022-04-30T10:51:43.026Z"
   },
   {
    "duration": 9,
    "start_time": "2022-04-30T10:51:43.035Z"
   },
   {
    "duration": 7,
    "start_time": "2022-04-30T10:51:43.046Z"
   },
   {
    "duration": 10,
    "start_time": "2022-04-30T10:51:43.054Z"
   },
   {
    "duration": 42,
    "start_time": "2022-04-30T10:51:43.066Z"
   },
   {
    "duration": 292,
    "start_time": "2022-04-30T10:51:43.109Z"
   },
   {
    "duration": 10,
    "start_time": "2022-04-30T10:51:43.403Z"
   },
   {
    "duration": 10,
    "start_time": "2022-04-30T10:51:43.414Z"
   },
   {
    "duration": 9,
    "start_time": "2022-04-30T10:51:43.426Z"
   },
   {
    "duration": 9,
    "start_time": "2022-04-30T10:51:43.437Z"
   },
   {
    "duration": 13,
    "start_time": "2022-04-30T10:51:43.447Z"
   },
   {
    "duration": 10,
    "start_time": "2022-04-30T10:51:43.461Z"
   },
   {
    "duration": 301,
    "start_time": "2022-04-30T10:51:43.472Z"
   },
   {
    "duration": 8,
    "start_time": "2022-04-30T10:51:43.775Z"
   },
   {
    "duration": 20,
    "start_time": "2022-04-30T10:51:43.784Z"
   },
   {
    "duration": 6,
    "start_time": "2022-04-30T10:51:43.805Z"
   },
   {
    "duration": 7,
    "start_time": "2022-04-30T10:51:43.812Z"
   },
   {
    "duration": 9,
    "start_time": "2022-04-30T10:51:43.820Z"
   },
   {
    "duration": 9,
    "start_time": "2022-04-30T10:51:43.831Z"
   },
   {
    "duration": 301,
    "start_time": "2022-04-30T10:51:43.842Z"
   },
   {
    "duration": 4,
    "start_time": "2022-04-30T10:51:44.148Z"
   },
   {
    "duration": 24,
    "start_time": "2022-04-30T10:51:44.153Z"
   },
   {
    "duration": 4,
    "start_time": "2022-04-30T10:51:44.178Z"
   },
   {
    "duration": 1448,
    "start_time": "2022-04-30T15:25:04.818Z"
   },
   {
    "duration": 434,
    "start_time": "2022-04-30T15:25:06.268Z"
   },
   {
    "duration": 14,
    "start_time": "2022-04-30T15:25:06.704Z"
   },
   {
    "duration": 12,
    "start_time": "2022-04-30T15:25:06.720Z"
   },
   {
    "duration": 9,
    "start_time": "2022-04-30T15:25:06.734Z"
   },
   {
    "duration": 6,
    "start_time": "2022-04-30T15:25:06.744Z"
   },
   {
    "duration": 9,
    "start_time": "2022-04-30T15:25:06.752Z"
   },
   {
    "duration": 6,
    "start_time": "2022-04-30T15:25:06.763Z"
   },
   {
    "duration": 12,
    "start_time": "2022-04-30T15:25:06.771Z"
   },
   {
    "duration": 58,
    "start_time": "2022-04-30T15:25:06.787Z"
   },
   {
    "duration": 118,
    "start_time": "2022-04-30T15:25:06.847Z"
   },
   {
    "duration": 30,
    "start_time": "2022-04-30T15:25:06.967Z"
   },
   {
    "duration": 34,
    "start_time": "2022-04-30T15:25:06.999Z"
   },
   {
    "duration": 11,
    "start_time": "2022-04-30T15:25:07.034Z"
   },
   {
    "duration": 7,
    "start_time": "2022-04-30T15:25:07.047Z"
   },
   {
    "duration": 20,
    "start_time": "2022-04-30T15:25:07.056Z"
   },
   {
    "duration": 76,
    "start_time": "2022-04-30T15:25:07.077Z"
   },
   {
    "duration": 21,
    "start_time": "2022-04-30T15:25:07.154Z"
   },
   {
    "duration": 9,
    "start_time": "2022-04-30T15:25:07.177Z"
   },
   {
    "duration": 47,
    "start_time": "2022-04-30T15:25:07.188Z"
   },
   {
    "duration": 86,
    "start_time": "2022-04-30T15:25:07.237Z"
   },
   {
    "duration": 24,
    "start_time": "2022-04-30T15:25:07.325Z"
   },
   {
    "duration": 7,
    "start_time": "2022-04-30T15:25:07.351Z"
   },
   {
    "duration": 20,
    "start_time": "2022-04-30T15:25:07.361Z"
   },
   {
    "duration": 42,
    "start_time": "2022-04-30T15:25:07.382Z"
   },
   {
    "duration": 46,
    "start_time": "2022-04-30T15:25:07.426Z"
   },
   {
    "duration": 13,
    "start_time": "2022-04-30T15:25:07.475Z"
   },
   {
    "duration": 44,
    "start_time": "2022-04-30T15:25:07.495Z"
   },
   {
    "duration": 12,
    "start_time": "2022-04-30T15:25:07.541Z"
   },
   {
    "duration": 42,
    "start_time": "2022-04-30T15:25:07.555Z"
   },
   {
    "duration": 5,
    "start_time": "2022-04-30T15:25:07.599Z"
   },
   {
    "duration": 2475,
    "start_time": "2022-04-30T15:25:07.606Z"
   },
   {
    "duration": 23,
    "start_time": "2022-04-30T15:25:10.083Z"
   },
   {
    "duration": 28,
    "start_time": "2022-04-30T15:25:10.108Z"
   },
   {
    "duration": 15,
    "start_time": "2022-04-30T15:25:10.138Z"
   },
   {
    "duration": 16,
    "start_time": "2022-04-30T15:25:10.156Z"
   },
   {
    "duration": 80,
    "start_time": "2022-04-30T15:25:10.174Z"
   },
   {
    "duration": 41,
    "start_time": "2022-04-30T15:25:10.256Z"
   },
   {
    "duration": 52,
    "start_time": "2022-04-30T15:25:10.299Z"
   },
   {
    "duration": 13,
    "start_time": "2022-04-30T15:25:10.353Z"
   },
   {
    "duration": 9,
    "start_time": "2022-04-30T15:25:10.369Z"
   },
   {
    "duration": 16,
    "start_time": "2022-04-30T15:25:10.380Z"
   },
   {
    "duration": 26,
    "start_time": "2022-04-30T15:25:10.398Z"
   },
   {
    "duration": 17,
    "start_time": "2022-04-30T15:25:10.426Z"
   },
   {
    "duration": 5,
    "start_time": "2022-04-30T15:25:10.444Z"
   },
   {
    "duration": 11,
    "start_time": "2022-04-30T15:25:10.452Z"
   },
   {
    "duration": 9,
    "start_time": "2022-04-30T15:25:10.465Z"
   },
   {
    "duration": 51,
    "start_time": "2022-04-30T15:25:10.476Z"
   },
   {
    "duration": 17,
    "start_time": "2022-04-30T15:25:10.528Z"
   },
   {
    "duration": 4,
    "start_time": "2022-04-30T15:25:10.547Z"
   },
   {
    "duration": 17,
    "start_time": "2022-04-30T15:25:10.553Z"
   },
   {
    "duration": 8,
    "start_time": "2022-04-30T15:25:10.572Z"
   },
   {
    "duration": 127,
    "start_time": "2022-04-30T15:25:10.582Z"
   },
   {
    "duration": 22,
    "start_time": "2022-04-30T15:25:10.711Z"
   },
   {
    "duration": 6,
    "start_time": "2022-04-30T15:25:10.735Z"
   },
   {
    "duration": 38,
    "start_time": "2022-04-30T15:25:10.743Z"
   },
   {
    "duration": 418,
    "start_time": "2022-04-30T15:25:10.783Z"
   },
   {
    "duration": 388,
    "start_time": "2022-04-30T15:25:11.203Z"
   },
   {
    "duration": 30,
    "start_time": "2022-04-30T15:25:11.594Z"
   },
   {
    "duration": 19,
    "start_time": "2022-04-30T15:25:11.626Z"
   },
   {
    "duration": 12,
    "start_time": "2022-04-30T15:25:11.647Z"
   },
   {
    "duration": 11,
    "start_time": "2022-04-30T15:25:11.661Z"
   },
   {
    "duration": 17,
    "start_time": "2022-04-30T15:25:11.674Z"
   },
   {
    "duration": 34,
    "start_time": "2022-04-30T15:25:11.694Z"
   },
   {
    "duration": 12,
    "start_time": "2022-04-30T15:25:11.729Z"
   },
   {
    "duration": 12,
    "start_time": "2022-04-30T15:25:11.742Z"
   },
   {
    "duration": 366,
    "start_time": "2022-04-30T15:25:11.756Z"
   },
   {
    "duration": 10,
    "start_time": "2022-04-30T15:25:12.124Z"
   },
   {
    "duration": 25,
    "start_time": "2022-04-30T15:25:12.136Z"
   },
   {
    "duration": 17,
    "start_time": "2022-04-30T15:25:12.163Z"
   },
   {
    "duration": 19,
    "start_time": "2022-04-30T15:25:12.182Z"
   },
   {
    "duration": 25,
    "start_time": "2022-04-30T15:25:12.203Z"
   },
   {
    "duration": 26,
    "start_time": "2022-04-30T15:25:12.230Z"
   },
   {
    "duration": 361,
    "start_time": "2022-04-30T15:25:12.258Z"
   },
   {
    "duration": 11,
    "start_time": "2022-04-30T15:25:12.621Z"
   },
   {
    "duration": 26,
    "start_time": "2022-04-30T15:25:12.633Z"
   },
   {
    "duration": 24,
    "start_time": "2022-04-30T15:25:12.661Z"
   },
   {
    "duration": 35,
    "start_time": "2022-04-30T15:25:12.686Z"
   },
   {
    "duration": 32,
    "start_time": "2022-04-30T15:25:12.722Z"
   },
   {
    "duration": 24,
    "start_time": "2022-04-30T15:25:12.756Z"
   },
   {
    "duration": 340,
    "start_time": "2022-04-30T15:25:12.782Z"
   },
   {
    "duration": 6,
    "start_time": "2022-04-30T15:25:13.128Z"
   },
   {
    "duration": 52,
    "start_time": "2022-04-30T15:25:13.135Z"
   },
   {
    "duration": 5,
    "start_time": "2022-04-30T15:25:13.189Z"
   },
   {
    "duration": 1752,
    "start_time": "2022-05-01T22:14:39.636Z"
   },
   {
    "duration": 517,
    "start_time": "2022-05-01T22:14:41.391Z"
   },
   {
    "duration": 21,
    "start_time": "2022-05-01T22:14:41.911Z"
   },
   {
    "duration": 26,
    "start_time": "2022-05-01T22:14:41.935Z"
   },
   {
    "duration": 29,
    "start_time": "2022-05-01T22:14:41.963Z"
   },
   {
    "duration": 17,
    "start_time": "2022-05-01T22:14:41.994Z"
   },
   {
    "duration": 24,
    "start_time": "2022-05-01T22:14:42.014Z"
   },
   {
    "duration": 13,
    "start_time": "2022-05-01T22:14:42.041Z"
   },
   {
    "duration": 26,
    "start_time": "2022-05-01T22:14:42.056Z"
   },
   {
    "duration": 40,
    "start_time": "2022-05-01T22:14:42.087Z"
   },
   {
    "duration": 169,
    "start_time": "2022-05-01T22:14:42.131Z"
   },
   {
    "duration": 50,
    "start_time": "2022-05-01T22:14:42.303Z"
   },
   {
    "duration": 30,
    "start_time": "2022-05-01T22:14:42.355Z"
   },
   {
    "duration": 39,
    "start_time": "2022-05-01T22:14:42.387Z"
   },
   {
    "duration": 10,
    "start_time": "2022-05-01T22:14:42.429Z"
   },
   {
    "duration": 43,
    "start_time": "2022-05-01T22:14:42.441Z"
   },
   {
    "duration": 103,
    "start_time": "2022-05-01T22:14:42.486Z"
   },
   {
    "duration": 59,
    "start_time": "2022-05-01T22:14:42.593Z"
   },
   {
    "duration": 17,
    "start_time": "2022-05-01T22:14:42.656Z"
   },
   {
    "duration": 53,
    "start_time": "2022-05-01T22:14:42.675Z"
   },
   {
    "duration": 131,
    "start_time": "2022-05-01T22:14:42.730Z"
   },
   {
    "duration": 37,
    "start_time": "2022-05-01T22:14:42.864Z"
   },
   {
    "duration": 25,
    "start_time": "2022-05-01T22:14:42.903Z"
   },
   {
    "duration": 27,
    "start_time": "2022-05-01T22:14:42.931Z"
   },
   {
    "duration": 37,
    "start_time": "2022-05-01T22:14:42.960Z"
   },
   {
    "duration": 65,
    "start_time": "2022-05-01T22:14:42.999Z"
   },
   {
    "duration": 14,
    "start_time": "2022-05-01T22:14:43.066Z"
   },
   {
    "duration": 52,
    "start_time": "2022-05-01T22:14:43.087Z"
   },
   {
    "duration": 15,
    "start_time": "2022-05-01T22:14:43.141Z"
   },
   {
    "duration": 25,
    "start_time": "2022-05-01T22:14:43.159Z"
   },
   {
    "duration": 6,
    "start_time": "2022-05-01T22:14:43.187Z"
   },
   {
    "duration": 2361,
    "start_time": "2022-05-01T22:14:43.224Z"
   },
   {
    "duration": 38,
    "start_time": "2022-05-01T22:14:45.588Z"
   },
   {
    "duration": 20,
    "start_time": "2022-05-01T22:14:45.628Z"
   },
   {
    "duration": 18,
    "start_time": "2022-05-01T22:14:45.651Z"
   },
   {
    "duration": 62,
    "start_time": "2022-05-01T22:14:45.672Z"
   },
   {
    "duration": 103,
    "start_time": "2022-05-01T22:14:45.737Z"
   },
   {
    "duration": 57,
    "start_time": "2022-05-01T22:14:45.844Z"
   },
   {
    "duration": 73,
    "start_time": "2022-05-01T22:14:45.903Z"
   },
   {
    "duration": 21,
    "start_time": "2022-05-01T22:14:45.978Z"
   },
   {
    "duration": 17,
    "start_time": "2022-05-01T22:14:46.024Z"
   },
   {
    "duration": 26,
    "start_time": "2022-05-01T22:14:46.044Z"
   },
   {
    "duration": 5,
    "start_time": "2022-05-01T22:14:46.073Z"
   },
   {
    "duration": 64,
    "start_time": "2022-05-01T22:14:46.081Z"
   },
   {
    "duration": 18,
    "start_time": "2022-05-01T22:14:46.148Z"
   },
   {
    "duration": 24,
    "start_time": "2022-05-01T22:14:46.168Z"
   },
   {
    "duration": 12,
    "start_time": "2022-05-01T22:14:46.195Z"
   },
   {
    "duration": 36,
    "start_time": "2022-05-01T22:14:46.209Z"
   },
   {
    "duration": 34,
    "start_time": "2022-05-01T22:14:46.248Z"
   },
   {
    "duration": 15,
    "start_time": "2022-05-01T22:14:46.285Z"
   },
   {
    "duration": 31,
    "start_time": "2022-05-01T22:14:46.303Z"
   },
   {
    "duration": 26,
    "start_time": "2022-05-01T22:14:46.337Z"
   },
   {
    "duration": 109,
    "start_time": "2022-05-01T22:14:46.365Z"
   },
   {
    "duration": 23,
    "start_time": "2022-05-01T22:14:46.476Z"
   },
   {
    "duration": 29,
    "start_time": "2022-05-01T22:14:46.502Z"
   },
   {
    "duration": 60,
    "start_time": "2022-05-01T22:14:46.534Z"
   },
   {
    "duration": 442,
    "start_time": "2022-05-01T22:14:46.598Z"
   },
   {
    "duration": 414,
    "start_time": "2022-05-01T22:14:47.042Z"
   },
   {
    "duration": 23,
    "start_time": "2022-05-01T22:14:47.458Z"
   },
   {
    "duration": 61,
    "start_time": "2022-05-01T22:14:47.484Z"
   },
   {
    "duration": 23,
    "start_time": "2022-05-01T22:14:47.547Z"
   },
   {
    "duration": 12,
    "start_time": "2022-05-01T22:14:47.573Z"
   },
   {
    "duration": 38,
    "start_time": "2022-05-01T22:14:47.587Z"
   },
   {
    "duration": 10,
    "start_time": "2022-05-01T22:14:47.627Z"
   },
   {
    "duration": 28,
    "start_time": "2022-05-01T22:14:47.640Z"
   },
   {
    "duration": 25,
    "start_time": "2022-05-01T22:14:47.671Z"
   },
   {
    "duration": 922,
    "start_time": "2022-05-01T22:14:47.698Z"
   },
   {
    "duration": 15,
    "start_time": "2022-05-01T22:14:48.625Z"
   },
   {
    "duration": 27,
    "start_time": "2022-05-01T22:14:48.643Z"
   },
   {
    "duration": 11,
    "start_time": "2022-05-01T22:14:48.674Z"
   },
   {
    "duration": 40,
    "start_time": "2022-05-01T22:14:48.688Z"
   },
   {
    "duration": 28,
    "start_time": "2022-05-01T22:14:48.730Z"
   },
   {
    "duration": 32,
    "start_time": "2022-05-01T22:14:48.760Z"
   },
   {
    "duration": 740,
    "start_time": "2022-05-01T22:14:48.794Z"
   },
   {
    "duration": 15,
    "start_time": "2022-05-01T22:14:49.537Z"
   },
   {
    "duration": 38,
    "start_time": "2022-05-01T22:14:49.554Z"
   },
   {
    "duration": 26,
    "start_time": "2022-05-01T22:14:49.594Z"
   },
   {
    "duration": 23,
    "start_time": "2022-05-01T22:14:49.623Z"
   },
   {
    "duration": 28,
    "start_time": "2022-05-01T22:14:49.649Z"
   },
   {
    "duration": 29,
    "start_time": "2022-05-01T22:14:49.679Z"
   },
   {
    "duration": 605,
    "start_time": "2022-05-01T22:14:49.711Z"
   },
   {
    "duration": 8,
    "start_time": "2022-05-01T22:14:50.324Z"
   },
   {
    "duration": 78,
    "start_time": "2022-05-01T22:14:50.335Z"
   },
   {
    "duration": 13,
    "start_time": "2022-05-01T22:14:50.415Z"
   },
   {
    "duration": 24,
    "start_time": "2022-05-01T22:16:01.741Z"
   },
   {
    "duration": 8,
    "start_time": "2022-05-01T22:17:48.483Z"
   },
   {
    "duration": 100,
    "start_time": "2022-05-01T22:17:51.598Z"
   },
   {
    "duration": 19,
    "start_time": "2022-05-01T22:17:53.944Z"
   },
   {
    "duration": 252,
    "start_time": "2022-05-01T22:21:26.813Z"
   },
   {
    "duration": 63,
    "start_time": "2022-05-01T22:21:31.920Z"
   },
   {
    "duration": 11,
    "start_time": "2022-05-01T22:21:59.232Z"
   },
   {
    "duration": 2279,
    "start_time": "2022-05-01T22:22:39.922Z"
   },
   {
    "duration": 12,
    "start_time": "2022-05-01T22:23:37.825Z"
   },
   {
    "duration": 11,
    "start_time": "2022-05-01T22:24:01.745Z"
   },
   {
    "duration": 11,
    "start_time": "2022-05-01T22:24:26.667Z"
   },
   {
    "duration": 14,
    "start_time": "2022-05-01T22:24:29.954Z"
   },
   {
    "duration": 12,
    "start_time": "2022-05-01T22:24:30.717Z"
   },
   {
    "duration": 15,
    "start_time": "2022-05-01T22:24:35.179Z"
   },
   {
    "duration": 16,
    "start_time": "2022-05-01T22:24:35.761Z"
   },
   {
    "duration": 11,
    "start_time": "2022-05-01T22:26:23.452Z"
   },
   {
    "duration": 22,
    "start_time": "2022-05-01T22:33:56.543Z"
   },
   {
    "duration": 13,
    "start_time": "2022-05-01T22:34:08.000Z"
   },
   {
    "duration": 12,
    "start_time": "2022-05-01T22:34:14.234Z"
   },
   {
    "duration": 9,
    "start_time": "2022-05-01T22:34:35.483Z"
   },
   {
    "duration": 12,
    "start_time": "2022-05-01T22:34:41.488Z"
   },
   {
    "duration": 9,
    "start_time": "2022-05-01T22:34:49.210Z"
   },
   {
    "duration": 383,
    "start_time": "2022-05-01T22:37:06.346Z"
   },
   {
    "duration": 540,
    "start_time": "2022-05-01T22:37:11.832Z"
   },
   {
    "duration": 2337,
    "start_time": "2022-05-01T22:37:44.882Z"
   },
   {
    "duration": 12,
    "start_time": "2022-05-01T22:38:35.112Z"
   },
   {
    "duration": 2360,
    "start_time": "2022-05-01T22:38:40.576Z"
   },
   {
    "duration": 387,
    "start_time": "2022-05-01T22:38:50.384Z"
   },
   {
    "duration": 660,
    "start_time": "2022-05-01T22:43:28.910Z"
   },
   {
    "duration": 11,
    "start_time": "2022-05-01T22:50:09.866Z"
   },
   {
    "duration": 13,
    "start_time": "2022-05-01T22:50:11.601Z"
   },
   {
    "duration": 14,
    "start_time": "2022-05-01T22:53:48.320Z"
   },
   {
    "duration": 14,
    "start_time": "2022-05-01T22:57:14.157Z"
   },
   {
    "duration": 12,
    "start_time": "2022-05-01T22:57:21.053Z"
   },
   {
    "duration": 12,
    "start_time": "2022-05-01T22:57:54.346Z"
   },
   {
    "duration": 13,
    "start_time": "2022-05-01T22:58:01.560Z"
   },
   {
    "duration": 12,
    "start_time": "2022-05-01T23:01:23.592Z"
   },
   {
    "duration": 13,
    "start_time": "2022-05-01T23:01:58.438Z"
   },
   {
    "duration": 12,
    "start_time": "2022-05-01T23:02:04.813Z"
   },
   {
    "duration": 445,
    "start_time": "2022-05-01T23:02:57.022Z"
   },
   {
    "duration": 250,
    "start_time": "2022-05-01T23:03:03.634Z"
   },
   {
    "duration": 306,
    "start_time": "2022-05-01T23:03:07.254Z"
   },
   {
    "duration": 346,
    "start_time": "2022-05-01T23:03:11.580Z"
   },
   {
    "duration": 247,
    "start_time": "2022-05-01T23:03:29.533Z"
   },
   {
    "duration": 425,
    "start_time": "2022-05-01T23:03:38.011Z"
   },
   {
    "duration": 307,
    "start_time": "2022-05-01T23:03:41.961Z"
   },
   {
    "duration": 383,
    "start_time": "2022-05-01T23:03:45.075Z"
   },
   {
    "duration": 350,
    "start_time": "2022-05-01T23:03:49.025Z"
   },
   {
    "duration": 300,
    "start_time": "2022-05-01T23:03:50.942Z"
   },
   {
    "duration": 271,
    "start_time": "2022-05-01T23:04:04.374Z"
   },
   {
    "duration": 7,
    "start_time": "2022-05-01T23:11:58.114Z"
   },
   {
    "duration": 7,
    "start_time": "2022-05-01T23:12:20.180Z"
   },
   {
    "duration": 7,
    "start_time": "2022-05-01T23:18:07.279Z"
   },
   {
    "duration": 7,
    "start_time": "2022-05-01T23:18:11.320Z"
   },
   {
    "duration": 7,
    "start_time": "2022-05-01T23:18:14.747Z"
   },
   {
    "duration": 2437,
    "start_time": "2022-05-01T23:26:00.708Z"
   },
   {
    "duration": 1100,
    "start_time": "2022-05-01T23:26:03.147Z"
   },
   {
    "duration": 22,
    "start_time": "2022-05-01T23:26:04.249Z"
   },
   {
    "duration": 21,
    "start_time": "2022-05-01T23:26:04.274Z"
   },
   {
    "duration": 29,
    "start_time": "2022-05-01T23:26:04.298Z"
   },
   {
    "duration": 15,
    "start_time": "2022-05-01T23:26:04.330Z"
   },
   {
    "duration": 13,
    "start_time": "2022-05-01T23:26:04.348Z"
   },
   {
    "duration": 23,
    "start_time": "2022-05-01T23:26:04.364Z"
   },
   {
    "duration": 25,
    "start_time": "2022-05-01T23:26:04.389Z"
   },
   {
    "duration": 43,
    "start_time": "2022-05-01T23:26:04.418Z"
   },
   {
    "duration": 190,
    "start_time": "2022-05-01T23:26:04.464Z"
   },
   {
    "duration": 46,
    "start_time": "2022-05-01T23:26:04.656Z"
   },
   {
    "duration": 47,
    "start_time": "2022-05-01T23:26:04.704Z"
   },
   {
    "duration": 15,
    "start_time": "2022-05-01T23:26:04.753Z"
   },
   {
    "duration": 41,
    "start_time": "2022-05-01T23:26:04.770Z"
   },
   {
    "duration": 60,
    "start_time": "2022-05-01T23:26:04.813Z"
   },
   {
    "duration": 171,
    "start_time": "2022-05-01T23:26:04.875Z"
   },
   {
    "duration": 31,
    "start_time": "2022-05-01T23:26:05.048Z"
   },
   {
    "duration": 61,
    "start_time": "2022-05-01T23:26:05.081Z"
   },
   {
    "duration": 55,
    "start_time": "2022-05-01T23:26:05.144Z"
   },
   {
    "duration": 135,
    "start_time": "2022-05-01T23:26:05.201Z"
   },
   {
    "duration": 37,
    "start_time": "2022-05-01T23:26:05.338Z"
   },
   {
    "duration": 14,
    "start_time": "2022-05-01T23:26:05.377Z"
   },
   {
    "duration": 60,
    "start_time": "2022-05-01T23:26:05.393Z"
   },
   {
    "duration": 42,
    "start_time": "2022-05-01T23:26:05.456Z"
   },
   {
    "duration": 61,
    "start_time": "2022-05-01T23:26:05.500Z"
   },
   {
    "duration": 14,
    "start_time": "2022-05-01T23:26:05.564Z"
   },
   {
    "duration": 46,
    "start_time": "2022-05-01T23:26:05.585Z"
   },
   {
    "duration": 26,
    "start_time": "2022-05-01T23:26:05.634Z"
   },
   {
    "duration": 32,
    "start_time": "2022-05-01T23:26:05.662Z"
   },
   {
    "duration": 8,
    "start_time": "2022-05-01T23:26:05.696Z"
   },
   {
    "duration": 2335,
    "start_time": "2022-05-01T23:26:05.706Z"
   },
   {
    "duration": 27,
    "start_time": "2022-05-01T23:26:08.043Z"
   },
   {
    "duration": 21,
    "start_time": "2022-05-01T23:26:08.072Z"
   },
   {
    "duration": 47,
    "start_time": "2022-05-01T23:26:08.095Z"
   },
   {
    "duration": 23,
    "start_time": "2022-05-01T23:26:08.144Z"
   },
   {
    "duration": 80,
    "start_time": "2022-05-01T23:26:08.169Z"
   },
   {
    "duration": 44,
    "start_time": "2022-05-01T23:26:08.251Z"
   },
   {
    "duration": 63,
    "start_time": "2022-05-01T23:26:08.297Z"
   },
   {
    "duration": 14,
    "start_time": "2022-05-01T23:26:08.363Z"
   },
   {
    "duration": 11,
    "start_time": "2022-05-01T23:26:08.379Z"
   },
   {
    "duration": 49,
    "start_time": "2022-05-01T23:26:08.392Z"
   },
   {
    "duration": 4,
    "start_time": "2022-05-01T23:26:08.443Z"
   },
   {
    "duration": 20,
    "start_time": "2022-05-01T23:26:08.449Z"
   },
   {
    "duration": 7,
    "start_time": "2022-05-01T23:26:08.472Z"
   },
   {
    "duration": 14,
    "start_time": "2022-05-01T23:26:08.481Z"
   },
   {
    "duration": 13,
    "start_time": "2022-05-01T23:26:08.527Z"
   },
   {
    "duration": 20,
    "start_time": "2022-05-01T23:26:08.543Z"
   },
   {
    "duration": 25,
    "start_time": "2022-05-01T23:26:08.565Z"
   },
   {
    "duration": 33,
    "start_time": "2022-05-01T23:26:08.592Z"
   },
   {
    "duration": 17,
    "start_time": "2022-05-01T23:26:08.637Z"
   },
   {
    "duration": 9,
    "start_time": "2022-05-01T23:26:08.656Z"
   },
   {
    "duration": 129,
    "start_time": "2022-05-01T23:26:08.667Z"
   },
   {
    "duration": 20,
    "start_time": "2022-05-01T23:26:08.798Z"
   },
   {
    "duration": 14,
    "start_time": "2022-05-01T23:26:08.827Z"
   },
   {
    "duration": 40,
    "start_time": "2022-05-01T23:26:08.844Z"
   },
   {
    "duration": 455,
    "start_time": "2022-05-01T23:26:08.886Z"
   },
   {
    "duration": 437,
    "start_time": "2022-05-01T23:26:09.344Z"
   },
   {
    "duration": 22,
    "start_time": "2022-05-01T23:26:09.783Z"
   },
   {
    "duration": 35,
    "start_time": "2022-05-01T23:26:09.824Z"
   },
   {
    "duration": 16,
    "start_time": "2022-05-01T23:26:09.862Z"
   },
   {
    "duration": 14,
    "start_time": "2022-05-01T23:26:09.881Z"
   },
   {
    "duration": 48,
    "start_time": "2022-05-01T23:26:09.898Z"
   },
   {
    "duration": 9,
    "start_time": "2022-05-01T23:26:09.948Z"
   },
   {
    "duration": 609,
    "start_time": "2022-05-01T23:26:09.959Z"
   },
   {
    "duration": 11,
    "start_time": "2022-05-01T23:26:10.570Z"
   },
   {
    "duration": 16,
    "start_time": "2022-05-01T23:26:10.583Z"
   },
   {
    "duration": 447,
    "start_time": "2022-05-01T23:26:10.626Z"
   },
   {
    "duration": 409,
    "start_time": "2022-05-01T23:26:11.075Z"
   },
   {
    "duration": 11,
    "start_time": "2022-05-01T23:26:11.486Z"
   },
   {
    "duration": 30,
    "start_time": "2022-05-01T23:26:11.500Z"
   },
   {
    "duration": 18,
    "start_time": "2022-05-01T23:26:11.537Z"
   },
   {
    "duration": 9,
    "start_time": "2022-05-01T23:26:11.557Z"
   },
   {
    "duration": 15,
    "start_time": "2022-05-01T23:26:11.569Z"
   },
   {
    "duration": 733,
    "start_time": "2022-05-01T23:26:11.586Z"
   },
   {
    "duration": 22,
    "start_time": "2022-05-01T23:26:12.325Z"
   },
   {
    "duration": 11,
    "start_time": "2022-05-01T23:26:12.350Z"
   },
   {
    "duration": 12,
    "start_time": "2022-05-01T23:26:12.363Z"
   },
   {
    "duration": 15,
    "start_time": "2022-05-01T23:26:12.377Z"
   },
   {
    "duration": 46,
    "start_time": "2022-05-01T23:26:12.395Z"
   },
   {
    "duration": 15,
    "start_time": "2022-05-01T23:26:12.443Z"
   },
   {
    "duration": 8,
    "start_time": "2022-05-01T23:26:12.467Z"
   },
   {
    "duration": 613,
    "start_time": "2022-05-01T23:26:12.477Z"
   },
   {
    "duration": 10,
    "start_time": "2022-05-01T23:26:13.093Z"
   },
   {
    "duration": 42,
    "start_time": "2022-05-01T23:26:13.105Z"
   },
   {
    "duration": 271,
    "start_time": "2022-05-01T23:26:13.149Z"
   },
   {
    "duration": 12,
    "start_time": "2022-05-01T23:26:13.425Z"
   },
   {
    "duration": 13,
    "start_time": "2022-05-01T23:26:13.440Z"
   },
   {
    "duration": 320,
    "start_time": "2022-05-01T23:26:13.455Z"
   },
   {
    "duration": 7,
    "start_time": "2022-05-01T23:26:13.777Z"
   },
   {
    "duration": 65,
    "start_time": "2022-05-01T23:26:13.786Z"
   },
   {
    "duration": 6,
    "start_time": "2022-05-01T23:26:13.853Z"
   },
   {
    "duration": 1499,
    "start_time": "2022-05-01T23:26:51.368Z"
   },
   {
    "duration": 1095,
    "start_time": "2022-05-01T23:26:52.870Z"
   },
   {
    "duration": 76,
    "start_time": "2022-05-01T23:26:53.967Z"
   },
   {
    "duration": 78,
    "start_time": "2022-05-01T23:26:54.048Z"
   },
   {
    "duration": 22,
    "start_time": "2022-05-01T23:26:54.130Z"
   },
   {
    "duration": 7,
    "start_time": "2022-05-01T23:26:54.155Z"
   },
   {
    "duration": 8,
    "start_time": "2022-05-01T23:26:54.164Z"
   },
   {
    "duration": 58,
    "start_time": "2022-05-01T23:26:54.175Z"
   },
   {
    "duration": 14,
    "start_time": "2022-05-01T23:26:54.241Z"
   },
   {
    "duration": 81,
    "start_time": "2022-05-01T23:26:54.259Z"
   },
   {
    "duration": 317,
    "start_time": "2022-05-01T23:26:54.343Z"
   },
   {
    "duration": 104,
    "start_time": "2022-05-01T23:26:54.662Z"
   },
   {
    "duration": 90,
    "start_time": "2022-05-01T23:26:54.768Z"
   },
   {
    "duration": 65,
    "start_time": "2022-05-01T23:26:54.860Z"
   },
   {
    "duration": 18,
    "start_time": "2022-05-01T23:26:54.927Z"
   },
   {
    "duration": 81,
    "start_time": "2022-05-01T23:26:54.947Z"
   },
   {
    "duration": 139,
    "start_time": "2022-05-01T23:26:55.031Z"
   },
   {
    "duration": 83,
    "start_time": "2022-05-01T23:26:55.172Z"
   },
   {
    "duration": 71,
    "start_time": "2022-05-01T23:26:55.257Z"
   },
   {
    "duration": 33,
    "start_time": "2022-05-01T23:26:55.330Z"
   },
   {
    "duration": 276,
    "start_time": "2022-05-01T23:26:55.366Z"
   },
   {
    "duration": 112,
    "start_time": "2022-05-01T23:26:55.645Z"
   },
   {
    "duration": 66,
    "start_time": "2022-05-01T23:26:55.760Z"
   },
   {
    "duration": 26,
    "start_time": "2022-05-01T23:26:55.829Z"
   },
   {
    "duration": 82,
    "start_time": "2022-05-01T23:26:55.858Z"
   },
   {
    "duration": 97,
    "start_time": "2022-05-01T23:26:55.943Z"
   },
   {
    "duration": 14,
    "start_time": "2022-05-01T23:26:56.042Z"
   },
   {
    "duration": 82,
    "start_time": "2022-05-01T23:26:56.063Z"
   },
   {
    "duration": 12,
    "start_time": "2022-05-01T23:26:56.147Z"
   },
   {
    "duration": 66,
    "start_time": "2022-05-01T23:26:56.161Z"
   },
   {
    "duration": 13,
    "start_time": "2022-05-01T23:26:56.232Z"
   },
   {
    "duration": 2493,
    "start_time": "2022-05-01T23:26:56.247Z"
   },
   {
    "duration": 27,
    "start_time": "2022-05-01T23:26:58.742Z"
   },
   {
    "duration": 23,
    "start_time": "2022-05-01T23:26:58.772Z"
   },
   {
    "duration": 21,
    "start_time": "2022-05-01T23:26:58.829Z"
   },
   {
    "duration": 21,
    "start_time": "2022-05-01T23:26:58.853Z"
   },
   {
    "duration": 91,
    "start_time": "2022-05-01T23:26:58.877Z"
   },
   {
    "duration": 54,
    "start_time": "2022-05-01T23:26:58.970Z"
   },
   {
    "duration": 41,
    "start_time": "2022-05-01T23:26:59.034Z"
   },
   {
    "duration": 14,
    "start_time": "2022-05-01T23:26:59.077Z"
   },
   {
    "duration": 35,
    "start_time": "2022-05-01T23:26:59.093Z"
   },
   {
    "duration": 19,
    "start_time": "2022-05-01T23:26:59.131Z"
   },
   {
    "duration": 4,
    "start_time": "2022-05-01T23:26:59.153Z"
   },
   {
    "duration": 21,
    "start_time": "2022-05-01T23:26:59.159Z"
   },
   {
    "duration": 11,
    "start_time": "2022-05-01T23:26:59.182Z"
   },
   {
    "duration": 41,
    "start_time": "2022-05-01T23:26:59.196Z"
   },
   {
    "duration": 11,
    "start_time": "2022-05-01T23:26:59.240Z"
   },
   {
    "duration": 28,
    "start_time": "2022-05-01T23:26:59.253Z"
   },
   {
    "duration": 51,
    "start_time": "2022-05-01T23:26:59.284Z"
   },
   {
    "duration": 13,
    "start_time": "2022-05-01T23:26:59.338Z"
   },
   {
    "duration": 17,
    "start_time": "2022-05-01T23:26:59.354Z"
   },
   {
    "duration": 9,
    "start_time": "2022-05-01T23:26:59.373Z"
   },
   {
    "duration": 132,
    "start_time": "2022-05-01T23:26:59.384Z"
   },
   {
    "duration": 27,
    "start_time": "2022-05-01T23:26:59.518Z"
   },
   {
    "duration": 7,
    "start_time": "2022-05-01T23:26:59.547Z"
   },
   {
    "duration": 75,
    "start_time": "2022-05-01T23:26:59.556Z"
   },
   {
    "duration": 434,
    "start_time": "2022-05-01T23:26:59.633Z"
   },
   {
    "duration": 428,
    "start_time": "2022-05-01T23:27:00.070Z"
   },
   {
    "duration": 33,
    "start_time": "2022-05-01T23:27:00.500Z"
   },
   {
    "duration": 50,
    "start_time": "2022-05-01T23:27:00.535Z"
   },
   {
    "duration": 34,
    "start_time": "2022-05-01T23:27:00.588Z"
   },
   {
    "duration": 43,
    "start_time": "2022-05-01T23:27:00.627Z"
   },
   {
    "duration": 39,
    "start_time": "2022-05-01T23:27:00.672Z"
   },
   {
    "duration": 35,
    "start_time": "2022-05-01T23:27:00.713Z"
   },
   {
    "duration": 642,
    "start_time": "2022-05-01T23:27:00.750Z"
   },
   {
    "duration": 12,
    "start_time": "2022-05-01T23:27:01.395Z"
   },
   {
    "duration": 35,
    "start_time": "2022-05-01T23:27:01.409Z"
   },
   {
    "duration": 449,
    "start_time": "2022-05-01T23:27:01.446Z"
   },
   {
    "duration": 416,
    "start_time": "2022-05-01T23:27:01.897Z"
   },
   {
    "duration": 20,
    "start_time": "2022-05-01T23:27:02.316Z"
   },
   {
    "duration": 67,
    "start_time": "2022-05-01T23:27:02.338Z"
   },
   {
    "duration": 48,
    "start_time": "2022-05-01T23:27:02.407Z"
   },
   {
    "duration": 23,
    "start_time": "2022-05-01T23:27:02.458Z"
   },
   {
    "duration": 29,
    "start_time": "2022-05-01T23:27:02.483Z"
   },
   {
    "duration": 726,
    "start_time": "2022-05-01T23:27:02.514Z"
   },
   {
    "duration": 12,
    "start_time": "2022-05-01T23:27:03.243Z"
   },
   {
    "duration": 20,
    "start_time": "2022-05-01T23:27:03.257Z"
   },
   {
    "duration": 11,
    "start_time": "2022-05-01T23:27:03.280Z"
   },
   {
    "duration": 45,
    "start_time": "2022-05-01T23:27:03.294Z"
   },
   {
    "duration": 19,
    "start_time": "2022-05-01T23:27:03.341Z"
   },
   {
    "duration": 13,
    "start_time": "2022-05-01T23:27:03.362Z"
   },
   {
    "duration": 9,
    "start_time": "2022-05-01T23:27:03.383Z"
   },
   {
    "duration": 653,
    "start_time": "2022-05-01T23:27:03.394Z"
   },
   {
    "duration": 14,
    "start_time": "2022-05-01T23:27:04.050Z"
   },
   {
    "duration": 25,
    "start_time": "2022-05-01T23:27:04.066Z"
   },
   {
    "duration": 302,
    "start_time": "2022-05-01T23:27:04.094Z"
   },
   {
    "duration": 11,
    "start_time": "2022-05-01T23:27:04.400Z"
   },
   {
    "duration": 23,
    "start_time": "2022-05-01T23:27:04.428Z"
   },
   {
    "duration": 302,
    "start_time": "2022-05-01T23:27:04.454Z"
   },
   {
    "duration": 7,
    "start_time": "2022-05-01T23:27:04.759Z"
   },
   {
    "duration": 63,
    "start_time": "2022-05-01T23:27:04.769Z"
   },
   {
    "duration": 10,
    "start_time": "2022-05-01T23:27:04.835Z"
   },
   {
    "duration": 6,
    "start_time": "2022-05-01T23:27:14.361Z"
   },
   {
    "duration": 7,
    "start_time": "2022-05-01T23:27:15.969Z"
   },
   {
    "duration": 7,
    "start_time": "2022-05-01T23:27:20.515Z"
   },
   {
    "duration": 7,
    "start_time": "2022-05-01T23:29:45.202Z"
   },
   {
    "duration": 7,
    "start_time": "2022-05-01T23:30:00.518Z"
   },
   {
    "duration": 8,
    "start_time": "2022-05-01T23:30:09.990Z"
   },
   {
    "duration": 8,
    "start_time": "2022-05-01T23:30:12.594Z"
   },
   {
    "duration": 7,
    "start_time": "2022-05-01T23:30:45.980Z"
   },
   {
    "duration": 8,
    "start_time": "2022-05-01T23:30:51.977Z"
   },
   {
    "duration": 8,
    "start_time": "2022-05-01T23:31:15.375Z"
   },
   {
    "duration": 1110,
    "start_time": "2022-05-02T07:56:30.538Z"
   },
   {
    "duration": 357,
    "start_time": "2022-05-02T07:56:31.650Z"
   },
   {
    "duration": 12,
    "start_time": "2022-05-02T07:56:32.009Z"
   },
   {
    "duration": 10,
    "start_time": "2022-05-02T07:56:32.023Z"
   },
   {
    "duration": 17,
    "start_time": "2022-05-02T07:56:32.034Z"
   },
   {
    "duration": 4,
    "start_time": "2022-05-02T07:56:32.053Z"
   },
   {
    "duration": 4,
    "start_time": "2022-05-02T07:56:32.059Z"
   },
   {
    "duration": 5,
    "start_time": "2022-05-02T07:56:32.065Z"
   },
   {
    "duration": 13,
    "start_time": "2022-05-02T07:56:32.072Z"
   },
   {
    "duration": 36,
    "start_time": "2022-05-02T07:56:32.087Z"
   },
   {
    "duration": 124,
    "start_time": "2022-05-02T07:56:32.124Z"
   },
   {
    "duration": 27,
    "start_time": "2022-05-02T07:56:32.250Z"
   },
   {
    "duration": 17,
    "start_time": "2022-05-02T07:56:32.279Z"
   },
   {
    "duration": 9,
    "start_time": "2022-05-02T07:56:32.298Z"
   },
   {
    "duration": 39,
    "start_time": "2022-05-02T07:56:32.309Z"
   },
   {
    "duration": 26,
    "start_time": "2022-05-02T07:56:32.350Z"
   },
   {
    "duration": 50,
    "start_time": "2022-05-02T07:56:32.378Z"
   },
   {
    "duration": 19,
    "start_time": "2022-05-02T07:56:32.448Z"
   },
   {
    "duration": 7,
    "start_time": "2022-05-02T07:56:32.469Z"
   },
   {
    "duration": 23,
    "start_time": "2022-05-02T07:56:32.478Z"
   },
   {
    "duration": 85,
    "start_time": "2022-05-02T07:56:32.503Z"
   },
   {
    "duration": 22,
    "start_time": "2022-05-02T07:56:32.590Z"
   },
   {
    "duration": 9,
    "start_time": "2022-05-02T07:56:32.613Z"
   },
   {
    "duration": 25,
    "start_time": "2022-05-02T07:56:32.623Z"
   },
   {
    "duration": 17,
    "start_time": "2022-05-02T07:56:32.650Z"
   },
   {
    "duration": 31,
    "start_time": "2022-05-02T07:56:32.668Z"
   },
   {
    "duration": 10,
    "start_time": "2022-05-02T07:56:32.701Z"
   },
   {
    "duration": 39,
    "start_time": "2022-05-02T07:56:32.715Z"
   },
   {
    "duration": 8,
    "start_time": "2022-05-02T07:56:32.755Z"
   },
   {
    "duration": 12,
    "start_time": "2022-05-02T07:56:32.764Z"
   },
   {
    "duration": 6,
    "start_time": "2022-05-02T07:56:32.777Z"
   },
   {
    "duration": 1337,
    "start_time": "2022-05-02T07:56:32.785Z"
   },
   {
    "duration": 25,
    "start_time": "2022-05-02T07:56:34.124Z"
   },
   {
    "duration": 12,
    "start_time": "2022-05-02T07:56:34.150Z"
   },
   {
    "duration": 10,
    "start_time": "2022-05-02T07:56:34.164Z"
   },
   {
    "duration": 12,
    "start_time": "2022-05-02T07:56:34.176Z"
   },
   {
    "duration": 67,
    "start_time": "2022-05-02T07:56:34.189Z"
   },
   {
    "duration": 28,
    "start_time": "2022-05-02T07:56:34.258Z"
   },
   {
    "duration": 26,
    "start_time": "2022-05-02T07:56:34.287Z"
   },
   {
    "duration": 9,
    "start_time": "2022-05-02T07:56:34.314Z"
   },
   {
    "duration": 8,
    "start_time": "2022-05-02T07:56:34.348Z"
   },
   {
    "duration": 11,
    "start_time": "2022-05-02T07:56:34.357Z"
   },
   {
    "duration": 3,
    "start_time": "2022-05-02T07:56:34.370Z"
   },
   {
    "duration": 12,
    "start_time": "2022-05-02T07:56:34.374Z"
   },
   {
    "duration": 4,
    "start_time": "2022-05-02T07:56:34.388Z"
   },
   {
    "duration": 8,
    "start_time": "2022-05-02T07:56:34.394Z"
   },
   {
    "duration": 7,
    "start_time": "2022-05-02T07:56:34.403Z"
   },
   {
    "duration": 46,
    "start_time": "2022-05-02T07:56:34.411Z"
   },
   {
    "duration": 12,
    "start_time": "2022-05-02T07:56:34.459Z"
   },
   {
    "duration": 4,
    "start_time": "2022-05-02T07:56:34.472Z"
   },
   {
    "duration": 10,
    "start_time": "2022-05-02T07:56:34.477Z"
   },
   {
    "duration": 5,
    "start_time": "2022-05-02T07:56:34.489Z"
   },
   {
    "duration": 81,
    "start_time": "2022-05-02T07:56:34.495Z"
   },
   {
    "duration": 12,
    "start_time": "2022-05-02T07:56:34.578Z"
   },
   {
    "duration": 6,
    "start_time": "2022-05-02T07:56:34.592Z"
   },
   {
    "duration": 25,
    "start_time": "2022-05-02T07:56:34.599Z"
   },
   {
    "duration": 230,
    "start_time": "2022-05-02T07:56:34.625Z"
   },
   {
    "duration": 221,
    "start_time": "2022-05-02T07:56:34.856Z"
   },
   {
    "duration": 13,
    "start_time": "2022-05-02T07:56:35.079Z"
   },
   {
    "duration": 16,
    "start_time": "2022-05-02T07:56:35.093Z"
   },
   {
    "duration": 13,
    "start_time": "2022-05-02T07:56:35.110Z"
   },
   {
    "duration": 29,
    "start_time": "2022-05-02T07:56:35.124Z"
   },
   {
    "duration": 9,
    "start_time": "2022-05-02T07:56:35.155Z"
   },
   {
    "duration": 5,
    "start_time": "2022-05-02T07:56:35.166Z"
   },
   {
    "duration": 315,
    "start_time": "2022-05-02T07:56:35.173Z"
   },
   {
    "duration": 7,
    "start_time": "2022-05-02T07:56:35.490Z"
   },
   {
    "duration": 10,
    "start_time": "2022-05-02T07:56:35.499Z"
   },
   {
    "duration": 238,
    "start_time": "2022-05-02T07:56:35.511Z"
   },
   {
    "duration": 206,
    "start_time": "2022-05-02T07:56:35.751Z"
   },
   {
    "duration": 7,
    "start_time": "2022-05-02T07:56:35.959Z"
   },
   {
    "duration": 11,
    "start_time": "2022-05-02T07:56:35.968Z"
   },
   {
    "duration": 16,
    "start_time": "2022-05-02T07:56:35.981Z"
   },
   {
    "duration": 8,
    "start_time": "2022-05-02T07:56:35.999Z"
   },
   {
    "duration": 10,
    "start_time": "2022-05-02T07:56:36.008Z"
   },
   {
    "duration": 422,
    "start_time": "2022-05-02T07:56:36.020Z"
   },
   {
    "duration": 10,
    "start_time": "2022-05-02T07:56:36.443Z"
   },
   {
    "duration": 9,
    "start_time": "2022-05-02T07:56:36.455Z"
   },
   {
    "duration": 8,
    "start_time": "2022-05-02T07:56:36.466Z"
   },
   {
    "duration": 9,
    "start_time": "2022-05-02T07:56:36.475Z"
   },
   {
    "duration": 10,
    "start_time": "2022-05-02T07:56:36.485Z"
   },
   {
    "duration": 8,
    "start_time": "2022-05-02T07:56:36.497Z"
   },
   {
    "duration": 39,
    "start_time": "2022-05-02T07:56:36.510Z"
   },
   {
    "duration": 299,
    "start_time": "2022-05-02T07:56:36.550Z"
   },
   {
    "duration": 7,
    "start_time": "2022-05-02T07:56:36.851Z"
   },
   {
    "duration": 9,
    "start_time": "2022-05-02T07:56:36.860Z"
   },
   {
    "duration": 150,
    "start_time": "2022-05-02T07:56:36.870Z"
   },
   {
    "duration": 8,
    "start_time": "2022-05-02T07:56:37.022Z"
   },
   {
    "duration": 8,
    "start_time": "2022-05-02T07:56:37.048Z"
   },
   {
    "duration": 158,
    "start_time": "2022-05-02T07:56:37.058Z"
   },
   {
    "duration": 5,
    "start_time": "2022-05-02T07:56:37.218Z"
   },
   {
    "duration": 40,
    "start_time": "2022-05-02T07:56:37.225Z"
   },
   {
    "duration": 5,
    "start_time": "2022-05-02T07:56:37.267Z"
   },
   {
    "duration": 1190,
    "start_time": "2022-05-02T07:58:10.115Z"
   },
   {
    "duration": 519,
    "start_time": "2022-05-02T07:58:11.308Z"
   },
   {
    "duration": 19,
    "start_time": "2022-05-02T07:58:11.829Z"
   },
   {
    "duration": 15,
    "start_time": "2022-05-02T07:58:11.851Z"
   },
   {
    "duration": 8,
    "start_time": "2022-05-02T07:58:11.868Z"
   },
   {
    "duration": 5,
    "start_time": "2022-05-02T07:58:11.878Z"
   },
   {
    "duration": 6,
    "start_time": "2022-05-02T07:58:11.884Z"
   },
   {
    "duration": 6,
    "start_time": "2022-05-02T07:58:11.891Z"
   },
   {
    "duration": 13,
    "start_time": "2022-05-02T07:58:11.899Z"
   },
   {
    "duration": 25,
    "start_time": "2022-05-02T07:58:11.947Z"
   },
   {
    "duration": 115,
    "start_time": "2022-05-02T07:58:11.973Z"
   },
   {
    "duration": 29,
    "start_time": "2022-05-02T07:58:12.089Z"
   },
   {
    "duration": 32,
    "start_time": "2022-05-02T07:58:12.120Z"
   },
   {
    "duration": 11,
    "start_time": "2022-05-02T07:58:12.153Z"
   },
   {
    "duration": 7,
    "start_time": "2022-05-02T07:58:12.166Z"
   },
   {
    "duration": 23,
    "start_time": "2022-05-02T07:58:12.175Z"
   },
   {
    "duration": 80,
    "start_time": "2022-05-02T07:58:12.201Z"
   },
   {
    "duration": 20,
    "start_time": "2022-05-02T07:58:12.283Z"
   },
   {
    "duration": 9,
    "start_time": "2022-05-02T07:58:12.305Z"
   },
   {
    "duration": 42,
    "start_time": "2022-05-02T07:58:12.315Z"
   },
   {
    "duration": 62,
    "start_time": "2022-05-02T07:58:12.359Z"
   },
   {
    "duration": 37,
    "start_time": "2022-05-02T07:58:12.423Z"
   },
   {
    "duration": 8,
    "start_time": "2022-05-02T07:58:12.462Z"
   },
   {
    "duration": 12,
    "start_time": "2022-05-02T07:58:12.472Z"
   },
   {
    "duration": 14,
    "start_time": "2022-05-02T07:58:12.486Z"
   },
   {
    "duration": 55,
    "start_time": "2022-05-02T07:58:12.501Z"
   },
   {
    "duration": 9,
    "start_time": "2022-05-02T07:58:12.558Z"
   },
   {
    "duration": 15,
    "start_time": "2022-05-02T07:58:12.571Z"
   },
   {
    "duration": 11,
    "start_time": "2022-05-02T07:58:12.587Z"
   },
   {
    "duration": 12,
    "start_time": "2022-05-02T07:58:12.600Z"
   },
   {
    "duration": 7,
    "start_time": "2022-05-02T07:58:12.614Z"
   },
   {
    "duration": 1351,
    "start_time": "2022-05-02T07:58:12.622Z"
   },
   {
    "duration": 16,
    "start_time": "2022-05-02T07:58:13.975Z"
   },
   {
    "duration": 12,
    "start_time": "2022-05-02T07:58:13.992Z"
   },
   {
    "duration": 11,
    "start_time": "2022-05-02T07:58:14.005Z"
   },
   {
    "duration": 41,
    "start_time": "2022-05-02T07:58:14.018Z"
   },
   {
    "duration": 39,
    "start_time": "2022-05-02T07:58:14.061Z"
   },
   {
    "duration": 47,
    "start_time": "2022-05-02T07:58:14.101Z"
   },
   {
    "duration": 25,
    "start_time": "2022-05-02T07:58:14.150Z"
   },
   {
    "duration": 9,
    "start_time": "2022-05-02T07:58:14.177Z"
   },
   {
    "duration": 6,
    "start_time": "2022-05-02T07:58:14.188Z"
   },
   {
    "duration": 11,
    "start_time": "2022-05-02T07:58:14.195Z"
   },
   {
    "duration": 4,
    "start_time": "2022-05-02T07:58:14.207Z"
   },
   {
    "duration": 42,
    "start_time": "2022-05-02T07:58:14.213Z"
   },
   {
    "duration": 4,
    "start_time": "2022-05-02T07:58:14.257Z"
   },
   {
    "duration": 10,
    "start_time": "2022-05-02T07:58:14.263Z"
   },
   {
    "duration": 7,
    "start_time": "2022-05-02T07:58:14.274Z"
   },
   {
    "duration": 14,
    "start_time": "2022-05-02T07:58:14.282Z"
   },
   {
    "duration": 12,
    "start_time": "2022-05-02T07:58:14.298Z"
   },
   {
    "duration": 3,
    "start_time": "2022-05-02T07:58:14.312Z"
   },
   {
    "duration": 39,
    "start_time": "2022-05-02T07:58:14.316Z"
   },
   {
    "duration": 7,
    "start_time": "2022-05-02T07:58:14.357Z"
   },
   {
    "duration": 57,
    "start_time": "2022-05-02T07:58:14.365Z"
   },
   {
    "duration": 28,
    "start_time": "2022-05-02T07:58:14.424Z"
   },
   {
    "duration": 6,
    "start_time": "2022-05-02T07:58:14.454Z"
   },
   {
    "duration": 26,
    "start_time": "2022-05-02T07:58:14.461Z"
   },
   {
    "duration": 240,
    "start_time": "2022-05-02T07:58:14.488Z"
   },
   {
    "duration": 222,
    "start_time": "2022-05-02T07:58:14.729Z"
   },
   {
    "duration": 13,
    "start_time": "2022-05-02T07:58:14.952Z"
   },
   {
    "duration": 17,
    "start_time": "2022-05-02T07:58:14.967Z"
   },
   {
    "duration": 11,
    "start_time": "2022-05-02T07:58:14.986Z"
   },
   {
    "duration": 8,
    "start_time": "2022-05-02T07:58:14.999Z"
   },
   {
    "duration": 45,
    "start_time": "2022-05-02T07:58:15.009Z"
   },
   {
    "duration": 7,
    "start_time": "2022-05-02T07:58:15.057Z"
   },
   {
    "duration": 495,
    "start_time": "2022-05-02T07:58:15.066Z"
   },
   {
    "duration": 9,
    "start_time": "2022-05-02T07:58:15.563Z"
   },
   {
    "duration": 9,
    "start_time": "2022-05-02T07:58:15.573Z"
   },
   {
    "duration": 377,
    "start_time": "2022-05-02T07:58:15.584Z"
   },
   {
    "duration": 212,
    "start_time": "2022-05-02T07:58:15.963Z"
   },
   {
    "duration": 8,
    "start_time": "2022-05-02T07:58:16.177Z"
   },
   {
    "duration": 11,
    "start_time": "2022-05-02T07:58:16.186Z"
   },
   {
    "duration": 11,
    "start_time": "2022-05-02T07:58:16.199Z"
   },
   {
    "duration": 9,
    "start_time": "2022-05-02T07:58:16.212Z"
   },
   {
    "duration": 6,
    "start_time": "2022-05-02T07:58:16.247Z"
   },
   {
    "duration": 399,
    "start_time": "2022-05-02T07:58:16.255Z"
   },
   {
    "duration": 8,
    "start_time": "2022-05-02T07:58:16.656Z"
   },
   {
    "duration": 8,
    "start_time": "2022-05-02T07:58:16.666Z"
   },
   {
    "duration": 7,
    "start_time": "2022-05-02T07:58:16.676Z"
   },
   {
    "duration": 9,
    "start_time": "2022-05-02T07:58:16.685Z"
   },
   {
    "duration": 18,
    "start_time": "2022-05-02T07:58:16.696Z"
   },
   {
    "duration": 35,
    "start_time": "2022-05-02T07:58:16.715Z"
   },
   {
    "duration": 6,
    "start_time": "2022-05-02T07:58:16.756Z"
   },
   {
    "duration": 311,
    "start_time": "2022-05-02T07:58:16.764Z"
   },
   {
    "duration": 8,
    "start_time": "2022-05-02T07:58:17.076Z"
   },
   {
    "duration": 11,
    "start_time": "2022-05-02T07:58:17.085Z"
   },
   {
    "duration": 151,
    "start_time": "2022-05-02T07:58:17.098Z"
   },
   {
    "duration": 8,
    "start_time": "2022-05-02T07:58:17.251Z"
   },
   {
    "duration": 10,
    "start_time": "2022-05-02T07:58:17.260Z"
   },
   {
    "duration": 164,
    "start_time": "2022-05-02T07:58:17.272Z"
   },
   {
    "duration": 10,
    "start_time": "2022-05-02T07:58:17.438Z"
   },
   {
    "duration": 25,
    "start_time": "2022-05-02T07:58:17.450Z"
   },
   {
    "duration": 5,
    "start_time": "2022-05-02T07:58:17.477Z"
   }
  ],
  "kernelspec": {
   "display_name": "Python 3 (ipykernel)",
   "language": "python",
   "name": "python3"
  },
  "language_info": {
   "codemirror_mode": {
    "name": "ipython",
    "version": 3
   },
   "file_extension": ".py",
   "mimetype": "text/x-python",
   "name": "python",
   "nbconvert_exporter": "python",
   "pygments_lexer": "ipython3",
   "version": "3.9.13"
  },
  "toc": {
   "base_numbering": 1,
   "nav_menu": {},
   "number_sections": true,
   "sideBar": true,
   "skip_h1_title": true,
   "title_cell": "Table of Contents",
   "title_sidebar": "Contents",
   "toc_cell": false,
   "toc_position": {
    "height": "calc(100% - 180px)",
    "left": "10px",
    "top": "150px",
    "width": "358.391px"
   },
   "toc_section_display": true,
   "toc_window_display": true
  }
 },
 "nbformat": 4,
 "nbformat_minor": 2
}
