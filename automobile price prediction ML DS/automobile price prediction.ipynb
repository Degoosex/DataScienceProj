{
 "cells": [
  {
   "cell_type": "markdown",
   "metadata": {},
   "source": [
    "# Определение стоимости автомобилей"
   ]
  },
  {
   "cell_type": "markdown",
   "metadata": {},
   "source": [
    "Сервис по продаже автомобилей с пробегом «Не бит, не крашен» разрабатывает приложение для привлечения новых клиентов. В нём можно быстро узнать рыночную стоимость своего автомобиля. В вашем распоряжении исторические данные: технические характеристики, комплектации и цены автомобилей. Вам нужно построить модель для определения стоимости. \n",
    "\n",
    "Заказчику важны:\n",
    "\n",
    "- качество предсказания;\n",
    "- скорость предсказания;\n",
    "- время обучения."
   ]
  },
  {
   "cell_type": "markdown",
   "metadata": {},
   "source": [
    "**Описание данных**\n",
    "\n",
    "Признаки:\\\n",
    "DateCrawled — дата скачивания анкеты из базы\\\n",
    "VehicleType — тип автомобильного кузова\\\n",
    "RegistrationYear — год регистрации автомобиля\\\n",
    "Gearbox — тип коробки передач\\\n",
    "Power — мощность (л. с.)\\\n",
    "Model — модель автомобиля\\\n",
    "Kilometer — пробег (км)\\\n",
    "RegistrationMonth — месяц регистрации автомобиля\\\n",
    "FuelType — тип топлива\\\n",
    "Brand — марка автомобиля\\\n",
    "NotRepaired — была машина в ремонте или нет\\\n",
    "DateCreated — дата создания анкеты\\\n",
    "NumberOfPictures — количество фотографий автомобиля\\\n",
    "PostalCode — почтовый индекс владельца анкеты (пользователя)\\\n",
    "LastSeen — дата последней активности пользователя\\\n",
    "Целевой признак\\\n",
    "Price — цена (евро)\n",
    "\n",
    "**План исследования**\n",
    "\n",
    "1. Предобработка данных\n",
    "2. Обучение модели\n",
    "3. Анализ модели на тестовой выборке\n",
    "4. Вывод\n"
   ]
  },
  {
   "cell_type": "markdown",
   "metadata": {},
   "source": [
    "## Подготовка данных"
   ]
  },
  {
   "cell_type": "code",
   "execution_count": 1,
   "metadata": {},
   "outputs": [],
   "source": [
    "import pandas as pd\n",
    "import seaborn as sns\n",
    "import numpy as np\n",
    "import lightgbm as lgb\n",
    "from sklearn.model_selection import train_test_split, RandomizedSearchCV\n",
    "from sklearn.linear_model import LinearRegression\n",
    "from sklearn.metrics import mean_squared_error, mean_absolute_error\n",
    "from sklearn.preprocessing import StandardScaler, LabelEncoder, OrdinalEncoder, LabelEncoder\n",
    "pd.options.display.float_format = '{:,.2f}'.format\n",
    "pd.options.mode.chained_assignment = None\n",
    "from catboost import CatBoostRegressor"
   ]
  },
  {
   "cell_type": "code",
   "execution_count": 2,
   "metadata": {},
   "outputs": [],
   "source": [
    "df = pd.read_csv('/datasets/autos.csv')"
   ]
  },
  {
   "cell_type": "code",
   "execution_count": 3,
   "metadata": {
    "scrolled": true
   },
   "outputs": [
    {
     "data": {
      "text/html": [
       "<div>\n",
       "<style scoped>\n",
       "    .dataframe tbody tr th:only-of-type {\n",
       "        vertical-align: middle;\n",
       "    }\n",
       "\n",
       "    .dataframe tbody tr th {\n",
       "        vertical-align: top;\n",
       "    }\n",
       "\n",
       "    .dataframe thead th {\n",
       "        text-align: right;\n",
       "    }\n",
       "</style>\n",
       "<table border=\"1\" class=\"dataframe\">\n",
       "  <thead>\n",
       "    <tr style=\"text-align: right;\">\n",
       "      <th></th>\n",
       "      <th>DateCrawled</th>\n",
       "      <th>Price</th>\n",
       "      <th>VehicleType</th>\n",
       "      <th>RegistrationYear</th>\n",
       "      <th>Gearbox</th>\n",
       "      <th>Power</th>\n",
       "      <th>Model</th>\n",
       "      <th>Kilometer</th>\n",
       "      <th>RegistrationMonth</th>\n",
       "      <th>FuelType</th>\n",
       "      <th>Brand</th>\n",
       "      <th>NotRepaired</th>\n",
       "      <th>DateCreated</th>\n",
       "      <th>NumberOfPictures</th>\n",
       "      <th>PostalCode</th>\n",
       "      <th>LastSeen</th>\n",
       "    </tr>\n",
       "  </thead>\n",
       "  <tbody>\n",
       "    <tr>\n",
       "      <th>0</th>\n",
       "      <td>2016-03-24 11:52:17</td>\n",
       "      <td>480</td>\n",
       "      <td>NaN</td>\n",
       "      <td>1993</td>\n",
       "      <td>manual</td>\n",
       "      <td>0</td>\n",
       "      <td>golf</td>\n",
       "      <td>150000</td>\n",
       "      <td>0</td>\n",
       "      <td>petrol</td>\n",
       "      <td>volkswagen</td>\n",
       "      <td>NaN</td>\n",
       "      <td>2016-03-24 00:00:00</td>\n",
       "      <td>0</td>\n",
       "      <td>70435</td>\n",
       "      <td>2016-04-07 03:16:57</td>\n",
       "    </tr>\n",
       "    <tr>\n",
       "      <th>1</th>\n",
       "      <td>2016-03-24 10:58:45</td>\n",
       "      <td>18300</td>\n",
       "      <td>coupe</td>\n",
       "      <td>2011</td>\n",
       "      <td>manual</td>\n",
       "      <td>190</td>\n",
       "      <td>NaN</td>\n",
       "      <td>125000</td>\n",
       "      <td>5</td>\n",
       "      <td>gasoline</td>\n",
       "      <td>audi</td>\n",
       "      <td>yes</td>\n",
       "      <td>2016-03-24 00:00:00</td>\n",
       "      <td>0</td>\n",
       "      <td>66954</td>\n",
       "      <td>2016-04-07 01:46:50</td>\n",
       "    </tr>\n",
       "    <tr>\n",
       "      <th>2</th>\n",
       "      <td>2016-03-14 12:52:21</td>\n",
       "      <td>9800</td>\n",
       "      <td>suv</td>\n",
       "      <td>2004</td>\n",
       "      <td>auto</td>\n",
       "      <td>163</td>\n",
       "      <td>grand</td>\n",
       "      <td>125000</td>\n",
       "      <td>8</td>\n",
       "      <td>gasoline</td>\n",
       "      <td>jeep</td>\n",
       "      <td>NaN</td>\n",
       "      <td>2016-03-14 00:00:00</td>\n",
       "      <td>0</td>\n",
       "      <td>90480</td>\n",
       "      <td>2016-04-05 12:47:46</td>\n",
       "    </tr>\n",
       "    <tr>\n",
       "      <th>3</th>\n",
       "      <td>2016-03-17 16:54:04</td>\n",
       "      <td>1500</td>\n",
       "      <td>small</td>\n",
       "      <td>2001</td>\n",
       "      <td>manual</td>\n",
       "      <td>75</td>\n",
       "      <td>golf</td>\n",
       "      <td>150000</td>\n",
       "      <td>6</td>\n",
       "      <td>petrol</td>\n",
       "      <td>volkswagen</td>\n",
       "      <td>no</td>\n",
       "      <td>2016-03-17 00:00:00</td>\n",
       "      <td>0</td>\n",
       "      <td>91074</td>\n",
       "      <td>2016-03-17 17:40:17</td>\n",
       "    </tr>\n",
       "    <tr>\n",
       "      <th>4</th>\n",
       "      <td>2016-03-31 17:25:20</td>\n",
       "      <td>3600</td>\n",
       "      <td>small</td>\n",
       "      <td>2008</td>\n",
       "      <td>manual</td>\n",
       "      <td>69</td>\n",
       "      <td>fabia</td>\n",
       "      <td>90000</td>\n",
       "      <td>7</td>\n",
       "      <td>gasoline</td>\n",
       "      <td>skoda</td>\n",
       "      <td>no</td>\n",
       "      <td>2016-03-31 00:00:00</td>\n",
       "      <td>0</td>\n",
       "      <td>60437</td>\n",
       "      <td>2016-04-06 10:17:21</td>\n",
       "    </tr>\n",
       "  </tbody>\n",
       "</table>\n",
       "</div>"
      ],
      "text/plain": [
       "           DateCrawled  Price VehicleType  RegistrationYear Gearbox  Power  \\\n",
       "0  2016-03-24 11:52:17    480         NaN              1993  manual      0   \n",
       "1  2016-03-24 10:58:45  18300       coupe              2011  manual    190   \n",
       "2  2016-03-14 12:52:21   9800         suv              2004    auto    163   \n",
       "3  2016-03-17 16:54:04   1500       small              2001  manual     75   \n",
       "4  2016-03-31 17:25:20   3600       small              2008  manual     69   \n",
       "\n",
       "   Model  Kilometer  RegistrationMonth  FuelType       Brand NotRepaired  \\\n",
       "0   golf     150000                  0    petrol  volkswagen         NaN   \n",
       "1    NaN     125000                  5  gasoline        audi         yes   \n",
       "2  grand     125000                  8  gasoline        jeep         NaN   \n",
       "3   golf     150000                  6    petrol  volkswagen          no   \n",
       "4  fabia      90000                  7  gasoline       skoda          no   \n",
       "\n",
       "           DateCreated  NumberOfPictures  PostalCode             LastSeen  \n",
       "0  2016-03-24 00:00:00                 0       70435  2016-04-07 03:16:57  \n",
       "1  2016-03-24 00:00:00                 0       66954  2016-04-07 01:46:50  \n",
       "2  2016-03-14 00:00:00                 0       90480  2016-04-05 12:47:46  \n",
       "3  2016-03-17 00:00:00                 0       91074  2016-03-17 17:40:17  \n",
       "4  2016-03-31 00:00:00                 0       60437  2016-04-06 10:17:21  "
      ]
     },
     "execution_count": 3,
     "metadata": {},
     "output_type": "execute_result"
    }
   ],
   "source": [
    "df.head() # выведем первые 5 строк"
   ]
  },
  {
   "cell_type": "code",
   "execution_count": 4,
   "metadata": {},
   "outputs": [
    {
     "name": "stdout",
     "output_type": "stream",
     "text": [
      "<class 'pandas.core.frame.DataFrame'>\n",
      "RangeIndex: 354369 entries, 0 to 354368\n",
      "Data columns (total 16 columns):\n",
      " #   Column             Non-Null Count   Dtype \n",
      "---  ------             --------------   ----- \n",
      " 0   DateCrawled        354369 non-null  object\n",
      " 1   Price              354369 non-null  int64 \n",
      " 2   VehicleType        316879 non-null  object\n",
      " 3   RegistrationYear   354369 non-null  int64 \n",
      " 4   Gearbox            334536 non-null  object\n",
      " 5   Power              354369 non-null  int64 \n",
      " 6   Model              334664 non-null  object\n",
      " 7   Kilometer          354369 non-null  int64 \n",
      " 8   RegistrationMonth  354369 non-null  int64 \n",
      " 9   FuelType           321474 non-null  object\n",
      " 10  Brand              354369 non-null  object\n",
      " 11  NotRepaired        283215 non-null  object\n",
      " 12  DateCreated        354369 non-null  object\n",
      " 13  NumberOfPictures   354369 non-null  int64 \n",
      " 14  PostalCode         354369 non-null  int64 \n",
      " 15  LastSeen           354369 non-null  object\n",
      "dtypes: int64(7), object(9)\n",
      "memory usage: 43.3+ MB\n"
     ]
    }
   ],
   "source": [
    "df.info()"
   ]
  },
  {
   "cell_type": "markdown",
   "metadata": {},
   "source": [
    "При первом взгляде видим, что в строках присутствую пропуски, а так же много категоральных значений. Для начала разберемся с пропусками."
   ]
  },
  {
   "cell_type": "code",
   "execution_count": 5,
   "metadata": {},
   "outputs": [
    {
     "data": {
      "text/plain": [
       "DateCrawled              0\n",
       "Price                    0\n",
       "VehicleType          37490\n",
       "RegistrationYear         0\n",
       "Gearbox              19833\n",
       "Power                    0\n",
       "Model                19705\n",
       "Kilometer                0\n",
       "RegistrationMonth        0\n",
       "FuelType             32895\n",
       "Brand                    0\n",
       "NotRepaired          71154\n",
       "DateCreated              0\n",
       "NumberOfPictures         0\n",
       "PostalCode               0\n",
       "LastSeen                 0\n",
       "dtype: int64"
      ]
     },
     "execution_count": 5,
     "metadata": {},
     "output_type": "execute_result"
    }
   ],
   "source": [
    "df.isna().sum()"
   ]
  },
  {
   "cell_type": "markdown",
   "metadata": {},
   "source": [
    "Так как отсутствуют категоральные признаки и мы их не можем узнать, заменим недостающие данные на новую категорию unknown."
   ]
  },
  {
   "cell_type": "code",
   "execution_count": 6,
   "metadata": {},
   "outputs": [],
   "source": [
    "na_list = ['VehicleType', 'Gearbox', 'Model', 'FuelType', 'NotRepaired']\n",
    "for i in na_list:\n",
    "    df[i] = df[i].fillna('unknown')"
   ]
  },
  {
   "cell_type": "markdown",
   "metadata": {},
   "source": [
    "Удалим столбцы с личной информацией и датами, так как для модели они нам не нужены."
   ]
  },
  {
   "cell_type": "code",
   "execution_count": 7,
   "metadata": {},
   "outputs": [],
   "source": [
    "df = df.drop(['DateCrawled', 'DateCreated', 'PostalCode', 'LastSeen', 'NumberOfPictures'], axis=1)"
   ]
  },
  {
   "cell_type": "code",
   "execution_count": 8,
   "metadata": {},
   "outputs": [
    {
     "name": "stdout",
     "output_type": "stream",
     "text": [
      "<class 'pandas.core.frame.DataFrame'>\n",
      "RangeIndex: 354369 entries, 0 to 354368\n",
      "Data columns (total 11 columns):\n",
      " #   Column             Non-Null Count   Dtype \n",
      "---  ------             --------------   ----- \n",
      " 0   Price              354369 non-null  int64 \n",
      " 1   VehicleType        354369 non-null  object\n",
      " 2   RegistrationYear   354369 non-null  int64 \n",
      " 3   Gearbox            354369 non-null  object\n",
      " 4   Power              354369 non-null  int64 \n",
      " 5   Model              354369 non-null  object\n",
      " 6   Kilometer          354369 non-null  int64 \n",
      " 7   RegistrationMonth  354369 non-null  int64 \n",
      " 8   FuelType           354369 non-null  object\n",
      " 9   Brand              354369 non-null  object\n",
      " 10  NotRepaired        354369 non-null  object\n",
      "dtypes: int64(5), object(6)\n",
      "memory usage: 29.7+ MB\n"
     ]
    }
   ],
   "source": [
    "df.info()"
   ]
  },
  {
   "cell_type": "markdown",
   "metadata": {},
   "source": [
    "Теперь чтобы признаки были пригодны для работы, заменим категоральные значения числами методом get_dummies."
   ]
  },
  {
   "cell_type": "code",
   "execution_count": 9,
   "metadata": {},
   "outputs": [],
   "source": [
    "category_list = 'VehicleType', 'Gearbox', 'Model', 'FuelType', 'Brand', 'NotRepaired'\n",
    "for i in category_list:\n",
    "    df[i] = df[i].astype('category')"
   ]
  },
  {
   "cell_type": "code",
   "execution_count": 10,
   "metadata": {},
   "outputs": [],
   "source": [
    "df_gd = pd.get_dummies(df, drop_first=True) # заменяем столбцы для модели"
   ]
  },
  {
   "cell_type": "code",
   "execution_count": 11,
   "metadata": {
    "scrolled": true
   },
   "outputs": [
    {
     "data": {
      "text/html": [
       "<div>\n",
       "<style scoped>\n",
       "    .dataframe tbody tr th:only-of-type {\n",
       "        vertical-align: middle;\n",
       "    }\n",
       "\n",
       "    .dataframe tbody tr th {\n",
       "        vertical-align: top;\n",
       "    }\n",
       "\n",
       "    .dataframe thead th {\n",
       "        text-align: right;\n",
       "    }\n",
       "</style>\n",
       "<table border=\"1\" class=\"dataframe\">\n",
       "  <thead>\n",
       "    <tr style=\"text-align: right;\">\n",
       "      <th></th>\n",
       "      <th>Price</th>\n",
       "      <th>RegistrationYear</th>\n",
       "      <th>Power</th>\n",
       "      <th>Kilometer</th>\n",
       "      <th>RegistrationMonth</th>\n",
       "      <th>VehicleType_convertible</th>\n",
       "      <th>VehicleType_coupe</th>\n",
       "      <th>VehicleType_other</th>\n",
       "      <th>VehicleType_sedan</th>\n",
       "      <th>VehicleType_small</th>\n",
       "      <th>...</th>\n",
       "      <th>Brand_smart</th>\n",
       "      <th>Brand_sonstige_autos</th>\n",
       "      <th>Brand_subaru</th>\n",
       "      <th>Brand_suzuki</th>\n",
       "      <th>Brand_toyota</th>\n",
       "      <th>Brand_trabant</th>\n",
       "      <th>Brand_volkswagen</th>\n",
       "      <th>Brand_volvo</th>\n",
       "      <th>NotRepaired_unknown</th>\n",
       "      <th>NotRepaired_yes</th>\n",
       "    </tr>\n",
       "  </thead>\n",
       "  <tbody>\n",
       "    <tr>\n",
       "      <th>0</th>\n",
       "      <td>480</td>\n",
       "      <td>1993</td>\n",
       "      <td>0</td>\n",
       "      <td>150000</td>\n",
       "      <td>0</td>\n",
       "      <td>0</td>\n",
       "      <td>0</td>\n",
       "      <td>0</td>\n",
       "      <td>0</td>\n",
       "      <td>0</td>\n",
       "      <td>...</td>\n",
       "      <td>0</td>\n",
       "      <td>0</td>\n",
       "      <td>0</td>\n",
       "      <td>0</td>\n",
       "      <td>0</td>\n",
       "      <td>0</td>\n",
       "      <td>1</td>\n",
       "      <td>0</td>\n",
       "      <td>1</td>\n",
       "      <td>0</td>\n",
       "    </tr>\n",
       "    <tr>\n",
       "      <th>1</th>\n",
       "      <td>18300</td>\n",
       "      <td>2011</td>\n",
       "      <td>190</td>\n",
       "      <td>125000</td>\n",
       "      <td>5</td>\n",
       "      <td>0</td>\n",
       "      <td>1</td>\n",
       "      <td>0</td>\n",
       "      <td>0</td>\n",
       "      <td>0</td>\n",
       "      <td>...</td>\n",
       "      <td>0</td>\n",
       "      <td>0</td>\n",
       "      <td>0</td>\n",
       "      <td>0</td>\n",
       "      <td>0</td>\n",
       "      <td>0</td>\n",
       "      <td>0</td>\n",
       "      <td>0</td>\n",
       "      <td>0</td>\n",
       "      <td>1</td>\n",
       "    </tr>\n",
       "    <tr>\n",
       "      <th>2</th>\n",
       "      <td>9800</td>\n",
       "      <td>2004</td>\n",
       "      <td>163</td>\n",
       "      <td>125000</td>\n",
       "      <td>8</td>\n",
       "      <td>0</td>\n",
       "      <td>0</td>\n",
       "      <td>0</td>\n",
       "      <td>0</td>\n",
       "      <td>0</td>\n",
       "      <td>...</td>\n",
       "      <td>0</td>\n",
       "      <td>0</td>\n",
       "      <td>0</td>\n",
       "      <td>0</td>\n",
       "      <td>0</td>\n",
       "      <td>0</td>\n",
       "      <td>0</td>\n",
       "      <td>0</td>\n",
       "      <td>1</td>\n",
       "      <td>0</td>\n",
       "    </tr>\n",
       "    <tr>\n",
       "      <th>3</th>\n",
       "      <td>1500</td>\n",
       "      <td>2001</td>\n",
       "      <td>75</td>\n",
       "      <td>150000</td>\n",
       "      <td>6</td>\n",
       "      <td>0</td>\n",
       "      <td>0</td>\n",
       "      <td>0</td>\n",
       "      <td>0</td>\n",
       "      <td>1</td>\n",
       "      <td>...</td>\n",
       "      <td>0</td>\n",
       "      <td>0</td>\n",
       "      <td>0</td>\n",
       "      <td>0</td>\n",
       "      <td>0</td>\n",
       "      <td>0</td>\n",
       "      <td>1</td>\n",
       "      <td>0</td>\n",
       "      <td>0</td>\n",
       "      <td>0</td>\n",
       "    </tr>\n",
       "    <tr>\n",
       "      <th>4</th>\n",
       "      <td>3600</td>\n",
       "      <td>2008</td>\n",
       "      <td>69</td>\n",
       "      <td>90000</td>\n",
       "      <td>7</td>\n",
       "      <td>0</td>\n",
       "      <td>0</td>\n",
       "      <td>0</td>\n",
       "      <td>0</td>\n",
       "      <td>1</td>\n",
       "      <td>...</td>\n",
       "      <td>0</td>\n",
       "      <td>0</td>\n",
       "      <td>0</td>\n",
       "      <td>0</td>\n",
       "      <td>0</td>\n",
       "      <td>0</td>\n",
       "      <td>0</td>\n",
       "      <td>0</td>\n",
       "      <td>0</td>\n",
       "      <td>0</td>\n",
       "    </tr>\n",
       "  </tbody>\n",
       "</table>\n",
       "<p>5 rows × 313 columns</p>\n",
       "</div>"
      ],
      "text/plain": [
       "   Price  RegistrationYear  Power  Kilometer  RegistrationMonth  \\\n",
       "0    480              1993      0     150000                  0   \n",
       "1  18300              2011    190     125000                  5   \n",
       "2   9800              2004    163     125000                  8   \n",
       "3   1500              2001     75     150000                  6   \n",
       "4   3600              2008     69      90000                  7   \n",
       "\n",
       "   VehicleType_convertible  VehicleType_coupe  VehicleType_other  \\\n",
       "0                        0                  0                  0   \n",
       "1                        0                  1                  0   \n",
       "2                        0                  0                  0   \n",
       "3                        0                  0                  0   \n",
       "4                        0                  0                  0   \n",
       "\n",
       "   VehicleType_sedan  VehicleType_small  ...  Brand_smart  \\\n",
       "0                  0                  0  ...            0   \n",
       "1                  0                  0  ...            0   \n",
       "2                  0                  0  ...            0   \n",
       "3                  0                  1  ...            0   \n",
       "4                  0                  1  ...            0   \n",
       "\n",
       "   Brand_sonstige_autos  Brand_subaru  Brand_suzuki  Brand_toyota  \\\n",
       "0                     0             0             0             0   \n",
       "1                     0             0             0             0   \n",
       "2                     0             0             0             0   \n",
       "3                     0             0             0             0   \n",
       "4                     0             0             0             0   \n",
       "\n",
       "   Brand_trabant  Brand_volkswagen  Brand_volvo  NotRepaired_unknown  \\\n",
       "0              0                 1            0                    1   \n",
       "1              0                 0            0                    0   \n",
       "2              0                 0            0                    1   \n",
       "3              0                 1            0                    0   \n",
       "4              0                 0            0                    0   \n",
       "\n",
       "   NotRepaired_yes  \n",
       "0                0  \n",
       "1                1  \n",
       "2                0  \n",
       "3                0  \n",
       "4                0  \n",
       "\n",
       "[5 rows x 313 columns]"
      ]
     },
     "execution_count": 11,
     "metadata": {},
     "output_type": "execute_result"
    }
   ],
   "source": [
    "df_gd.head()"
   ]
  },
  {
   "cell_type": "code",
   "execution_count": 12,
   "metadata": {},
   "outputs": [
    {
     "name": "stdout",
     "output_type": "stream",
     "text": [
      "<class 'pandas.core.frame.DataFrame'>\n",
      "RangeIndex: 354369 entries, 0 to 354368\n",
      "Columns: 313 entries, Price to NotRepaired_yes\n",
      "dtypes: int64(5), uint8(308)\n",
      "memory usage: 117.6 MB\n"
     ]
    }
   ],
   "source": [
    "df_gd.info()"
   ]
  },
  {
   "cell_type": "markdown",
   "metadata": {},
   "source": [
    "## Обучение моделей"
   ]
  },
  {
   "cell_type": "markdown",
   "metadata": {},
   "source": [
    "Попробуем построить несколько моделей и посмотрим у какой лучше результат. Но перед этим разделим на выборки 60/20/20 и выделим целевой признак."
   ]
  },
  {
   "cell_type": "code",
   "execution_count": 13,
   "metadata": {},
   "outputs": [],
   "source": [
    "df_valid_test, df_train = train_test_split(df_gd, test_size=0.6, random_state=12345) # делим на валидационную и тренировочную выборки\n",
    "features_df_train = df_train.drop(['Price'], axis=1) \n",
    "target_df_train = df_train['Price']\n",
    "df_valid, df_test = train_test_split(df_valid_test, test_size=0.5, random_state=12345)\n",
    "features_df_valid = df_valid.drop(['Price'], axis=1)\n",
    "target_df_valid = df_valid['Price']\n",
    "features_df_test = df_test.drop(['Price'], axis=1)\n",
    "target_df_test = df_test['Price']"
   ]
  },
  {
   "cell_type": "code",
   "execution_count": 14,
   "metadata": {
    "scrolled": false
   },
   "outputs": [
    {
     "name": "stdout",
     "output_type": "stream",
     "text": [
      "(141747, 313)\n",
      "(212622, 313)\n",
      "(70873, 313)\n",
      "(70874, 313)\n"
     ]
    }
   ],
   "source": [
    "# проверяем размер выборок\n",
    "print(df_valid_test.shape)\n",
    "print(df_train.shape)\n",
    "print(df_valid.shape)\n",
    "print(df_test.shape)"
   ]
  },
  {
   "cell_type": "markdown",
   "metadata": {},
   "source": [
    "Теперь приступим к моделям. Попробуем 3 алгоритма: линейная регрессия, CatBoost и LightBGM. Для начала сделаем признаки взвешенными, потом попробуем разные алгоритмы и посмотрим результат."
   ]
  },
  {
   "cell_type": "code",
   "execution_count": 15,
   "metadata": {},
   "outputs": [
    {
     "name": "stdout",
     "output_type": "stream",
     "text": [
      "CPU times: user 1.32 s, sys: 1.32 s, total: 2.63 s\n",
      "Wall time: 2.63 s\n"
     ]
    }
   ],
   "source": [
    "%%time\n",
    "# взвешиваем признаки\n",
    "\n",
    "scaler = StandardScaler() \n",
    "scaler.fit(features_df_train)\n",
    "features_df_train_scaled = scaler.transform(features_df_train)\n",
    "features_df_valid_scaled = scaler.transform(features_df_valid)\n",
    "features_df_test_scaled = scaler.transform(features_df_test)"
   ]
  },
  {
   "cell_type": "code",
   "execution_count": 16,
   "metadata": {},
   "outputs": [
    {
     "name": "stdout",
     "output_type": "stream",
     "text": [
      "CPU times: user 13.3 s, sys: 5.52 s, total: 18.8 s\n",
      "Wall time: 18.8 s\n"
     ]
    },
    {
     "data": {
      "text/plain": [
       "LinearRegression()"
      ]
     },
     "execution_count": 16,
     "metadata": {},
     "output_type": "execute_result"
    }
   ],
   "source": [
    "%%time\n",
    "# линейная регрессия\n",
    "\n",
    "linear_model = LinearRegression()\n",
    "linear_model.fit(features_df_train_scaled, target_df_train) "
   ]
  },
  {
   "cell_type": "code",
   "execution_count": 17,
   "metadata": {},
   "outputs": [
    {
     "name": "stdout",
     "output_type": "stream",
     "text": [
      "CPU times: user 62.1 ms, sys: 29 ms, total: 91.2 ms\n",
      "Wall time: 91.7 ms\n"
     ]
    }
   ],
   "source": [
    "%%time\n",
    "linear_predictions = linear_model.predict(features_df_valid_scaled)"
   ]
  },
  {
   "cell_type": "code",
   "execution_count": 18,
   "metadata": {},
   "outputs": [
    {
     "data": {
      "text/plain": [
       "3180.959888898186"
      ]
     },
     "execution_count": 18,
     "metadata": {},
     "output_type": "execute_result"
    }
   ],
   "source": [
    "mean_squared_error(target_df_valid, linear_predictions)**0.5"
   ]
  },
  {
   "cell_type": "code",
   "execution_count": 19,
   "metadata": {},
   "outputs": [],
   "source": [
    "df_ordinal = df\n",
    "label_encoder = LabelEncoder()\n",
    "for i in category_list:\n",
    "    df_ordinal[i] = pd.DataFrame(label_encoder.fit_transform(df_ordinal[i]))"
   ]
  },
  {
   "cell_type": "code",
   "execution_count": 20,
   "metadata": {},
   "outputs": [],
   "source": [
    "#encoder = OrdinalEncoder()\n",
    "#df_ordinal = pd.DataFrame(encoder.fit_transform(df_ordinal), columns=df_ordinal.columns)"
   ]
  },
  {
   "cell_type": "code",
   "execution_count": 21,
   "metadata": {},
   "outputs": [
    {
     "name": "stdout",
     "output_type": "stream",
     "text": [
      "<class 'pandas.core.frame.DataFrame'>\n",
      "RangeIndex: 354369 entries, 0 to 354368\n",
      "Data columns (total 11 columns):\n",
      " #   Column             Non-Null Count   Dtype\n",
      "---  ------             --------------   -----\n",
      " 0   Price              354369 non-null  int64\n",
      " 1   VehicleType        354369 non-null  int64\n",
      " 2   RegistrationYear   354369 non-null  int64\n",
      " 3   Gearbox            354369 non-null  int64\n",
      " 4   Power              354369 non-null  int64\n",
      " 5   Model              354369 non-null  int64\n",
      " 6   Kilometer          354369 non-null  int64\n",
      " 7   RegistrationMonth  354369 non-null  int64\n",
      " 8   FuelType           354369 non-null  int64\n",
      " 9   Brand              354369 non-null  int64\n",
      " 10  NotRepaired        354369 non-null  int64\n",
      "dtypes: int64(11)\n",
      "memory usage: 29.7 MB\n"
     ]
    }
   ],
   "source": [
    "df_ordinal.info()"
   ]
  },
  {
   "cell_type": "code",
   "execution_count": 22,
   "metadata": {
    "scrolled": false
   },
   "outputs": [
    {
     "data": {
      "text/html": [
       "<div>\n",
       "<style scoped>\n",
       "    .dataframe tbody tr th:only-of-type {\n",
       "        vertical-align: middle;\n",
       "    }\n",
       "\n",
       "    .dataframe tbody tr th {\n",
       "        vertical-align: top;\n",
       "    }\n",
       "\n",
       "    .dataframe thead th {\n",
       "        text-align: right;\n",
       "    }\n",
       "</style>\n",
       "<table border=\"1\" class=\"dataframe\">\n",
       "  <thead>\n",
       "    <tr style=\"text-align: right;\">\n",
       "      <th></th>\n",
       "      <th>Price</th>\n",
       "      <th>VehicleType</th>\n",
       "      <th>RegistrationYear</th>\n",
       "      <th>Gearbox</th>\n",
       "      <th>Power</th>\n",
       "      <th>Model</th>\n",
       "      <th>Kilometer</th>\n",
       "      <th>RegistrationMonth</th>\n",
       "      <th>FuelType</th>\n",
       "      <th>Brand</th>\n",
       "      <th>NotRepaired</th>\n",
       "    </tr>\n",
       "  </thead>\n",
       "  <tbody>\n",
       "    <tr>\n",
       "      <th>0</th>\n",
       "      <td>480</td>\n",
       "      <td>7</td>\n",
       "      <td>1993</td>\n",
       "      <td>1</td>\n",
       "      <td>0</td>\n",
       "      <td>116</td>\n",
       "      <td>150000</td>\n",
       "      <td>0</td>\n",
       "      <td>6</td>\n",
       "      <td>38</td>\n",
       "      <td>1</td>\n",
       "    </tr>\n",
       "    <tr>\n",
       "      <th>1</th>\n",
       "      <td>18300</td>\n",
       "      <td>2</td>\n",
       "      <td>2011</td>\n",
       "      <td>1</td>\n",
       "      <td>190</td>\n",
       "      <td>228</td>\n",
       "      <td>125000</td>\n",
       "      <td>5</td>\n",
       "      <td>2</td>\n",
       "      <td>1</td>\n",
       "      <td>2</td>\n",
       "    </tr>\n",
       "    <tr>\n",
       "      <th>2</th>\n",
       "      <td>9800</td>\n",
       "      <td>6</td>\n",
       "      <td>2004</td>\n",
       "      <td>0</td>\n",
       "      <td>163</td>\n",
       "      <td>117</td>\n",
       "      <td>125000</td>\n",
       "      <td>8</td>\n",
       "      <td>2</td>\n",
       "      <td>14</td>\n",
       "      <td>1</td>\n",
       "    </tr>\n",
       "    <tr>\n",
       "      <th>3</th>\n",
       "      <td>1500</td>\n",
       "      <td>5</td>\n",
       "      <td>2001</td>\n",
       "      <td>1</td>\n",
       "      <td>75</td>\n",
       "      <td>116</td>\n",
       "      <td>150000</td>\n",
       "      <td>6</td>\n",
       "      <td>6</td>\n",
       "      <td>38</td>\n",
       "      <td>0</td>\n",
       "    </tr>\n",
       "    <tr>\n",
       "      <th>4</th>\n",
       "      <td>3600</td>\n",
       "      <td>5</td>\n",
       "      <td>2008</td>\n",
       "      <td>1</td>\n",
       "      <td>69</td>\n",
       "      <td>101</td>\n",
       "      <td>90000</td>\n",
       "      <td>7</td>\n",
       "      <td>2</td>\n",
       "      <td>31</td>\n",
       "      <td>0</td>\n",
       "    </tr>\n",
       "  </tbody>\n",
       "</table>\n",
       "</div>"
      ],
      "text/plain": [
       "   Price  VehicleType  RegistrationYear  Gearbox  Power  Model  Kilometer  \\\n",
       "0    480            7              1993        1      0    116     150000   \n",
       "1  18300            2              2011        1    190    228     125000   \n",
       "2   9800            6              2004        0    163    117     125000   \n",
       "3   1500            5              2001        1     75    116     150000   \n",
       "4   3600            5              2008        1     69    101      90000   \n",
       "\n",
       "   RegistrationMonth  FuelType  Brand  NotRepaired  \n",
       "0                  0         6     38            1  \n",
       "1                  5         2      1            2  \n",
       "2                  8         2     14            1  \n",
       "3                  6         6     38            0  \n",
       "4                  7         2     31            0  "
      ]
     },
     "execution_count": 22,
     "metadata": {},
     "output_type": "execute_result"
    }
   ],
   "source": [
    "df_ordinal.head()"
   ]
  },
  {
   "cell_type": "code",
   "execution_count": 23,
   "metadata": {},
   "outputs": [],
   "source": [
    "df_ordinal_valid_test, df_ordinal_train = train_test_split(df_ordinal, test_size=0.6, random_state=12345) # делим на валидационную и тренировочную выборки\n",
    "features_df_ordinal_train = df_ordinal_train.drop(['Price'], axis=1) \n",
    "target_df_ordinal_train = df_ordinal_train['Price']\n",
    "df_ordinal_valid, df_ordinal_test = train_test_split(df_ordinal_valid_test, test_size=0.5, random_state=12345)\n",
    "features_df_ordinal_valid = df_ordinal_valid.drop(['Price'], axis=1)\n",
    "target_df_ordinal_valid = df_ordinal_valid['Price']\n",
    "features_df_ordinal_test = df_ordinal_test.drop(['Price'], axis=1)\n",
    "target_df_ordinal_test = df_ordinal_test['Price']"
   ]
  },
  {
   "cell_type": "code",
   "execution_count": 24,
   "metadata": {},
   "outputs": [
    {
     "name": "stdout",
     "output_type": "stream",
     "text": [
      "(141747, 11)\n",
      "(212622, 11)\n",
      "(70873, 11)\n",
      "(70874, 11)\n"
     ]
    }
   ],
   "source": [
    "# проверяем размер выборок\n",
    "print(df_ordinal_valid_test.shape)\n",
    "print(df_ordinal_train.shape)\n",
    "print(df_ordinal_valid.shape)\n",
    "print(df_ordinal_test.shape)"
   ]
  },
  {
   "cell_type": "code",
   "execution_count": 25,
   "metadata": {
    "scrolled": true
   },
   "outputs": [
    {
     "name": "stdout",
     "output_type": "stream",
     "text": [
      "Learning rate set to 0.5\n",
      "0:\tlearn: 3281.9811085\ttotal: 85.7ms\tremaining: 4.2s\n",
      "10:\tlearn: 2088.1624534\ttotal: 367ms\tremaining: 1.3s\n",
      "20:\tlearn: 1977.1810041\ttotal: 643ms\tremaining: 888ms\n",
      "30:\tlearn: 1927.0375849\ttotal: 918ms\tremaining: 563ms\n",
      "40:\tlearn: 1894.9090028\ttotal: 1.19s\tremaining: 262ms\n",
      "49:\tlearn: 1867.2161685\ttotal: 1.44s\tremaining: 0us\n",
      "CPU times: user 1.53 s, sys: 14.5 ms, total: 1.55 s\n",
      "Wall time: 2.25 s\n"
     ]
    },
    {
     "data": {
      "text/plain": [
       "<catboost.core.CatBoostRegressor at 0x7ff28f95a7f0>"
      ]
     },
     "execution_count": 25,
     "metadata": {},
     "output_type": "execute_result"
    }
   ],
   "source": [
    "%%time\n",
    "# CatBoost с категоральными признаками\n",
    "\n",
    "catboost_model = CatBoostRegressor(random_state=12345, iterations=50)\n",
    "catboost_model.fit(features_df_ordinal_train, target_df_ordinal_train, verbose=10)"
   ]
  },
  {
   "cell_type": "code",
   "execution_count": 26,
   "metadata": {
    "scrolled": false
   },
   "outputs": [
    {
     "name": "stdout",
     "output_type": "stream",
     "text": [
      "CPU times: user 16.8 ms, sys: 32 µs, total: 16.8 ms\n",
      "Wall time: 14.8 ms\n"
     ]
    }
   ],
   "source": [
    "%%time\n",
    "catboost_predictions_ordinal = catboost_model.predict(features_df_ordinal_valid)"
   ]
  },
  {
   "cell_type": "code",
   "execution_count": 27,
   "metadata": {
    "scrolled": true
   },
   "outputs": [
    {
     "data": {
      "text/plain": [
       "1895.581833277462"
      ]
     },
     "execution_count": 27,
     "metadata": {},
     "output_type": "execute_result"
    }
   ],
   "source": [
    "mean_squared_error(target_df_ordinal_valid, catboost_predictions_ordinal)**0.5 # валидационная выборка"
   ]
  },
  {
   "cell_type": "code",
   "execution_count": 28,
   "metadata": {},
   "outputs": [
    {
     "name": "stdout",
     "output_type": "stream",
     "text": [
      "CPU times: user 1min 23s, sys: 256 ms, total: 1min 23s\n",
      "Wall time: 1min 24s\n"
     ]
    },
    {
     "data": {
      "text/plain": [
       "RandomizedSearchCV(cv=5,\n",
       "                   estimator=LGBMRegressor(learning_rate=0.5,\n",
       "                                           random_state=12345),\n",
       "                   param_distributions={'max_depth': [1, 1, 1, 2, 2, 2, 3, 3, 4,\n",
       "                                                      4, 4, 5, 5, 6, 6, 6, 7, 7,\n",
       "                                                      7, 8, 8, 9, 9, 9, 10, 10,\n",
       "                                                      11, 11, 11, 12, ...],\n",
       "                                        'n_estimators': [1, 2, 3, 4, 5, 6, 7, 8,\n",
       "                                                         9, 10, 11, 12, 13, 14,\n",
       "                                                         15, 16, 17, 18, 19, 20,\n",
       "                                                         21, 22, 23, 24, 25, 26,\n",
       "                                                         27, 28, 29, 30, ...]})"
      ]
     },
     "execution_count": 28,
     "metadata": {},
     "output_type": "execute_result"
    }
   ],
   "source": [
    "%%time\n",
    "# LightGBM и RandomizedSearchCV и категоральные признаки\n",
    "n_estimators = [int(x) for x in np.linspace(start = 1, stop = 50)]\n",
    "max_depth = [int(x) for x in np.linspace(1, 20)]\n",
    "lgb_grid = {'n_estimators': n_estimators, 'max_depth': max_depth}\n",
    "lgb_rs_model = RandomizedSearchCV(estimator = lgb.LGBMRegressor(random_state=12345, learning_rate=0.5), param_distributions = lgb_grid, cv = 5)\n",
    "lgb_rs_model.fit(features_df_ordinal_train, target_df_ordinal_train) "
   ]
  },
  {
   "cell_type": "code",
   "execution_count": 29,
   "metadata": {
    "scrolled": true
   },
   "outputs": [
    {
     "name": "stdout",
     "output_type": "stream",
     "text": [
      "CPU times: user 210 ms, sys: 6.6 ms, total: 216 ms\n",
      "Wall time: 196 ms\n"
     ]
    }
   ],
   "source": [
    "%%time\n",
    "lgb_rs_predictions = lgb_rs_model.predict(features_df_ordinal_valid)"
   ]
  },
  {
   "cell_type": "code",
   "execution_count": 30,
   "metadata": {},
   "outputs": [
    {
     "data": {
      "text/plain": [
       "1844.8402181725598"
      ]
     },
     "execution_count": 30,
     "metadata": {},
     "output_type": "execute_result"
    }
   ],
   "source": [
    "mean_squared_error(target_df_ordinal_valid, lgb_rs_predictions)**0.5 # валидационная выборка"
   ]
  },
  {
   "cell_type": "markdown",
   "metadata": {},
   "source": [
    "## Анализ моделей"
   ]
  },
  {
   "cell_type": "markdown",
   "metadata": {},
   "source": [
    "Проведем тестирование моделей и расчитаем метрики качества."
   ]
  },
  {
   "cell_type": "code",
   "execution_count": 31,
   "metadata": {},
   "outputs": [
    {
     "name": "stdout",
     "output_type": "stream",
     "text": [
      "CPU times: user 46.6 ms, sys: 3.71 ms, total: 50.3 ms\n",
      "Wall time: 19.4 ms\n"
     ]
    }
   ],
   "source": [
    "%%time\n",
    "linear_predictions = linear_model.predict(features_df_test_scaled) # тест линейная регрессия"
   ]
  },
  {
   "cell_type": "code",
   "execution_count": 32,
   "metadata": {
    "scrolled": false
   },
   "outputs": [
    {
     "data": {
      "text/plain": [
       "3164.8371150653757"
      ]
     },
     "execution_count": 32,
     "metadata": {},
     "output_type": "execute_result"
    }
   ],
   "source": [
    "mean_squared_error(target_df_test, linear_predictions)**0.5 # rmse линейная регрессия"
   ]
  },
  {
   "cell_type": "code",
   "execution_count": 33,
   "metadata": {},
   "outputs": [
    {
     "name": "stdout",
     "output_type": "stream",
     "text": [
      "CPU times: user 12.5 ms, sys: 43 µs, total: 12.5 ms\n",
      "Wall time: 11.9 ms\n"
     ]
    }
   ],
   "source": [
    "%%time\n",
    "catboost_predictions_ordinal = catboost_model.predict(features_df_ordinal_test) # тест catboost"
   ]
  },
  {
   "cell_type": "code",
   "execution_count": 34,
   "metadata": {
    "scrolled": true
   },
   "outputs": [
    {
     "data": {
      "text/plain": [
       "1897.9958540834898"
      ]
     },
     "execution_count": 34,
     "metadata": {},
     "output_type": "execute_result"
    }
   ],
   "source": [
    "mean_squared_error(target_df_ordinal_test, catboost_predictions_ordinal)**0.5 # rmse catboost "
   ]
  },
  {
   "cell_type": "code",
   "execution_count": 35,
   "metadata": {},
   "outputs": [
    {
     "name": "stdout",
     "output_type": "stream",
     "text": [
      "CPU times: user 213 ms, sys: 0 ns, total: 213 ms\n",
      "Wall time: 177 ms\n"
     ]
    }
   ],
   "source": [
    "%%time\n",
    "lgb_rs_predictions = lgb_rs_model.predict(features_df_ordinal_test) # тест LightGBM и RandomisedSearch"
   ]
  },
  {
   "cell_type": "code",
   "execution_count": 36,
   "metadata": {
    "scrolled": true
   },
   "outputs": [
    {
     "data": {
      "text/plain": [
       "1843.0801099990756"
      ]
     },
     "execution_count": 36,
     "metadata": {},
     "output_type": "execute_result"
    }
   ],
   "source": [
    "mean_squared_error(target_df_ordinal_test, lgb_rs_predictions)**0.5 # rmse LightGBM и RandomisedSearch"
   ]
  },
  {
   "cell_type": "markdown",
   "metadata": {},
   "source": [
    "# Вывод"
   ]
  },
  {
   "cell_type": "markdown",
   "metadata": {},
   "source": [
    "После теста можем сравнить результаты. По скорости предсказания и обучения выигрывает CatBoost с большим отрывом от остальных моделей (обучение 3с, предсказание 35мс). По оценке качества на тестовой выборке выигрывает LightGBM (rmse:1843) , но Catboost не сильно отличается по результату (rmse:1897). По скорости и точности результата в нашем случае Catboost нас устраивает в обоих случаях, хоть lgb и точнее, но по скорости она сильно проигрывает."
   ]
  }
 ],
 "metadata": {
  "ExecuteTimeLog": [
   {
    "duration": 169,
    "start_time": "2022-07-12T08:08:10.571Z"
   },
   {
    "duration": 57,
    "start_time": "2022-07-12T08:08:14.486Z"
   },
   {
    "duration": 391,
    "start_time": "2022-07-12T08:08:21.672Z"
   },
   {
    "duration": 1119,
    "start_time": "2022-07-12T08:08:56.249Z"
   },
   {
    "duration": 886,
    "start_time": "2022-07-12T08:08:59.231Z"
   },
   {
    "duration": 19,
    "start_time": "2022-07-12T08:09:07.744Z"
   },
   {
    "duration": 12,
    "start_time": "2022-07-12T08:09:15.041Z"
   },
   {
    "duration": 133,
    "start_time": "2022-07-12T08:09:18.023Z"
   },
   {
    "duration": 1524,
    "start_time": "2022-07-12T20:50:52.732Z"
   },
   {
    "duration": 4,
    "start_time": "2022-07-12T20:53:54.928Z"
   },
   {
    "duration": 102,
    "start_time": "2022-07-12T20:54:59.173Z"
   },
   {
    "duration": 1382,
    "start_time": "2022-07-12T20:55:03.789Z"
   },
   {
    "duration": 1111,
    "start_time": "2022-07-12T20:55:05.173Z"
   },
   {
    "duration": 26,
    "start_time": "2022-07-12T20:55:06.286Z"
   },
   {
    "duration": 182,
    "start_time": "2022-07-12T20:55:06.315Z"
   },
   {
    "duration": 532,
    "start_time": "2022-07-12T20:55:06.499Z"
   },
   {
    "duration": 121,
    "start_time": "2022-07-12T20:56:34.505Z"
   },
   {
    "duration": 94,
    "start_time": "2022-07-12T20:56:35.286Z"
   },
   {
    "duration": 1590,
    "start_time": "2022-07-12T20:57:15.890Z"
   },
   {
    "duration": 110,
    "start_time": "2022-07-12T20:57:31.413Z"
   },
   {
    "duration": 140,
    "start_time": "2022-07-12T22:06:54.310Z"
   },
   {
    "duration": 127,
    "start_time": "2022-07-12T22:06:58.213Z"
   },
   {
    "duration": 843,
    "start_time": "2022-07-12T22:15:54.300Z"
   },
   {
    "duration": 20,
    "start_time": "2022-07-12T22:16:44.040Z"
   },
   {
    "duration": 161,
    "start_time": "2022-07-12T22:17:35.164Z"
   },
   {
    "duration": 114,
    "start_time": "2022-07-12T22:17:45.069Z"
   },
   {
    "duration": 16,
    "start_time": "2022-07-12T22:17:50.576Z"
   },
   {
    "duration": 38,
    "start_time": "2022-07-12T22:24:08.215Z"
   },
   {
    "duration": 117,
    "start_time": "2022-07-12T22:24:14.210Z"
   },
   {
    "duration": 14,
    "start_time": "2022-07-12T22:25:36.583Z"
   },
   {
    "duration": 1440,
    "start_time": "2022-07-12T22:25:46.301Z"
   },
   {
    "duration": 786,
    "start_time": "2022-07-12T22:25:47.744Z"
   },
   {
    "duration": 17,
    "start_time": "2022-07-12T22:25:48.532Z"
   },
   {
    "duration": 135,
    "start_time": "2022-07-12T22:25:48.550Z"
   },
   {
    "duration": 131,
    "start_time": "2022-07-12T22:25:48.688Z"
   },
   {
    "duration": 98,
    "start_time": "2022-07-12T22:25:48.820Z"
   },
   {
    "duration": 29,
    "start_time": "2022-07-12T22:25:48.920Z"
   },
   {
    "duration": 103,
    "start_time": "2022-07-12T22:25:48.950Z"
   },
   {
    "duration": 109,
    "start_time": "2022-07-12T22:25:49.055Z"
   },
   {
    "duration": 105,
    "start_time": "2022-07-12T22:26:07.358Z"
   },
   {
    "duration": 3,
    "start_time": "2022-07-12T22:26:09.509Z"
   },
   {
    "duration": 3,
    "start_time": "2022-07-12T22:26:29.893Z"
   },
   {
    "duration": 4,
    "start_time": "2022-07-12T22:30:18.900Z"
   },
   {
    "duration": 131,
    "start_time": "2022-07-12T22:32:56.474Z"
   },
   {
    "duration": 3,
    "start_time": "2022-07-12T22:32:57.488Z"
   },
   {
    "duration": 109,
    "start_time": "2022-07-12T22:32:58.133Z"
   },
   {
    "duration": 4,
    "start_time": "2022-07-12T22:34:02.223Z"
   },
   {
    "duration": 107,
    "start_time": "2022-07-12T22:35:08.175Z"
   },
   {
    "duration": 32,
    "start_time": "2022-07-12T22:37:50.640Z"
   },
   {
    "duration": 18,
    "start_time": "2022-07-12T22:37:57.124Z"
   },
   {
    "duration": 15,
    "start_time": "2022-07-12T22:38:12.872Z"
   },
   {
    "duration": 202,
    "start_time": "2022-07-12T22:38:23.673Z"
   },
   {
    "duration": 112,
    "start_time": "2022-07-12T22:38:46.106Z"
   },
   {
    "duration": 50,
    "start_time": "2022-07-12T22:39:08.404Z"
   },
   {
    "duration": 49,
    "start_time": "2022-07-12T22:39:25.093Z"
   },
   {
    "duration": 212,
    "start_time": "2022-07-12T22:39:43.986Z"
   },
   {
    "duration": 45,
    "start_time": "2022-07-13T14:17:39.807Z"
   },
   {
    "duration": 1683,
    "start_time": "2022-07-13T14:17:50.451Z"
   },
   {
    "duration": 1458,
    "start_time": "2022-07-13T14:17:53.494Z"
   },
   {
    "duration": 1282,
    "start_time": "2022-07-13T14:17:54.954Z"
   },
   {
    "duration": 23,
    "start_time": "2022-07-13T14:17:56.238Z"
   },
   {
    "duration": 200,
    "start_time": "2022-07-13T14:17:56.263Z"
   },
   {
    "duration": 158,
    "start_time": "2022-07-13T14:17:56.465Z"
   },
   {
    "duration": 108,
    "start_time": "2022-07-13T14:17:56.625Z"
   },
   {
    "duration": 43,
    "start_time": "2022-07-13T14:17:56.734Z"
   },
   {
    "duration": 241,
    "start_time": "2022-07-13T14:17:56.779Z"
   },
   {
    "duration": 109,
    "start_time": "2022-07-13T14:17:57.022Z"
   },
   {
    "duration": 287,
    "start_time": "2022-07-13T14:17:57.133Z"
   },
   {
    "duration": 4,
    "start_time": "2022-07-13T14:17:57.422Z"
   },
   {
    "duration": 274,
    "start_time": "2022-07-13T14:17:57.428Z"
   },
   {
    "duration": 0,
    "start_time": "2022-07-13T14:17:57.704Z"
   },
   {
    "duration": 1737,
    "start_time": "2022-07-13T20:06:42.990Z"
   },
   {
    "duration": 1590,
    "start_time": "2022-07-13T20:40:32.522Z"
   },
   {
    "duration": 3168,
    "start_time": "2022-07-13T20:40:34.117Z"
   },
   {
    "duration": 17,
    "start_time": "2022-07-13T20:40:37.287Z"
   },
   {
    "duration": 128,
    "start_time": "2022-07-13T20:40:37.306Z"
   },
   {
    "duration": 113,
    "start_time": "2022-07-13T20:40:37.436Z"
   },
   {
    "duration": 98,
    "start_time": "2022-07-13T20:40:37.550Z"
   },
   {
    "duration": 23,
    "start_time": "2022-07-13T20:40:37.650Z"
   },
   {
    "duration": 238,
    "start_time": "2022-07-13T20:40:37.675Z"
   },
   {
    "duration": 92,
    "start_time": "2022-07-13T20:40:37.916Z"
   },
   {
    "duration": 255,
    "start_time": "2022-07-13T20:40:38.011Z"
   },
   {
    "duration": 3,
    "start_time": "2022-07-13T20:40:38.268Z"
   },
   {
    "duration": 150,
    "start_time": "2022-07-13T20:40:38.273Z"
   },
   {
    "duration": 0,
    "start_time": "2022-07-13T20:40:38.424Z"
   },
   {
    "duration": 0,
    "start_time": "2022-07-13T20:40:38.425Z"
   },
   {
    "duration": 0,
    "start_time": "2022-07-13T20:40:38.427Z"
   },
   {
    "duration": 0,
    "start_time": "2022-07-13T20:40:38.428Z"
   },
   {
    "duration": 33,
    "start_time": "2022-07-13T20:40:57.183Z"
   },
   {
    "duration": 93,
    "start_time": "2022-07-13T20:41:01.428Z"
   },
   {
    "duration": 1551,
    "start_time": "2022-07-13T20:41:20.837Z"
   },
   {
    "duration": 930,
    "start_time": "2022-07-13T20:41:22.390Z"
   },
   {
    "duration": 17,
    "start_time": "2022-07-13T20:41:23.322Z"
   },
   {
    "duration": 127,
    "start_time": "2022-07-13T20:41:23.341Z"
   },
   {
    "duration": 118,
    "start_time": "2022-07-13T20:41:23.470Z"
   },
   {
    "duration": 86,
    "start_time": "2022-07-13T20:41:23.590Z"
   },
   {
    "duration": 46,
    "start_time": "2022-07-13T20:41:23.678Z"
   },
   {
    "duration": 87,
    "start_time": "2022-07-13T20:41:23.726Z"
   },
   {
    "duration": 765,
    "start_time": "2022-07-13T20:41:23.815Z"
   },
   {
    "duration": 116,
    "start_time": "2022-07-13T20:41:24.582Z"
   },
   {
    "duration": 5,
    "start_time": "2022-07-13T20:41:24.700Z"
   },
   {
    "duration": 233,
    "start_time": "2022-07-13T20:41:24.707Z"
   },
   {
    "duration": 0,
    "start_time": "2022-07-13T20:41:24.941Z"
   },
   {
    "duration": 0,
    "start_time": "2022-07-13T20:41:24.942Z"
   },
   {
    "duration": 0,
    "start_time": "2022-07-13T20:41:24.943Z"
   },
   {
    "duration": 13,
    "start_time": "2022-07-13T20:41:39.098Z"
   },
   {
    "duration": 740,
    "start_time": "2022-07-13T20:42:00.918Z"
   },
   {
    "duration": 12,
    "start_time": "2022-07-13T20:42:03.488Z"
   },
   {
    "duration": 1536,
    "start_time": "2022-07-13T20:42:27.686Z"
   },
   {
    "duration": 880,
    "start_time": "2022-07-13T20:42:29.224Z"
   },
   {
    "duration": 23,
    "start_time": "2022-07-13T20:42:30.110Z"
   },
   {
    "duration": 144,
    "start_time": "2022-07-13T20:42:30.136Z"
   },
   {
    "duration": 129,
    "start_time": "2022-07-13T20:42:30.282Z"
   },
   {
    "duration": 92,
    "start_time": "2022-07-13T20:42:30.414Z"
   },
   {
    "duration": 27,
    "start_time": "2022-07-13T20:42:30.508Z"
   },
   {
    "duration": 95,
    "start_time": "2022-07-13T20:42:30.536Z"
   },
   {
    "duration": 791,
    "start_time": "2022-07-13T20:42:30.633Z"
   },
   {
    "duration": 11,
    "start_time": "2022-07-13T20:42:31.426Z"
   },
   {
    "duration": 78,
    "start_time": "2022-07-13T20:42:31.439Z"
   },
   {
    "duration": 3,
    "start_time": "2022-07-13T20:42:31.519Z"
   },
   {
    "duration": 116,
    "start_time": "2022-07-13T20:42:31.523Z"
   },
   {
    "duration": 96213,
    "start_time": "2022-07-13T20:42:31.641Z"
   },
   {
    "duration": 122,
    "start_time": "2022-07-13T20:44:07.856Z"
   },
   {
    "duration": 0,
    "start_time": "2022-07-13T20:44:07.979Z"
   },
   {
    "duration": 10,
    "start_time": "2022-07-13T20:47:29.365Z"
   },
   {
    "duration": 11,
    "start_time": "2022-07-13T20:47:31.071Z"
   },
   {
    "duration": 10,
    "start_time": "2022-07-13T20:47:33.739Z"
   },
   {
    "duration": 158,
    "start_time": "2022-07-13T20:47:40.969Z"
   },
   {
    "duration": 10,
    "start_time": "2022-07-13T20:47:42.083Z"
   },
   {
    "duration": 896,
    "start_time": "2022-07-13T20:47:47.616Z"
   },
   {
    "duration": 108315,
    "start_time": "2022-07-13T20:48:09.664Z"
   },
   {
    "duration": 1506,
    "start_time": "2022-07-13T21:10:07.953Z"
   },
   {
    "duration": 928,
    "start_time": "2022-07-13T21:10:09.462Z"
   },
   {
    "duration": 31,
    "start_time": "2022-07-13T21:10:10.392Z"
   },
   {
    "duration": 138,
    "start_time": "2022-07-13T21:10:10.425Z"
   },
   {
    "duration": 113,
    "start_time": "2022-07-13T21:10:10.566Z"
   },
   {
    "duration": 92,
    "start_time": "2022-07-13T21:10:10.681Z"
   },
   {
    "duration": 38,
    "start_time": "2022-07-13T21:10:10.775Z"
   },
   {
    "duration": 77,
    "start_time": "2022-07-13T21:10:10.815Z"
   },
   {
    "duration": 953,
    "start_time": "2022-07-13T21:10:10.903Z"
   },
   {
    "duration": 15,
    "start_time": "2022-07-13T21:10:11.858Z"
   },
   {
    "duration": 614,
    "start_time": "2022-07-13T21:10:11.875Z"
   },
   {
    "duration": 3,
    "start_time": "2022-07-13T21:10:12.491Z"
   },
   {
    "duration": 2955,
    "start_time": "2022-07-13T21:10:12.505Z"
   },
   {
    "duration": 453993,
    "start_time": "2022-07-13T21:10:15.462Z"
   },
   {
    "duration": 0,
    "start_time": "2022-07-13T21:17:49.457Z"
   },
   {
    "duration": 0,
    "start_time": "2022-07-13T21:17:49.459Z"
   },
   {
    "duration": 0,
    "start_time": "2022-07-13T21:17:49.460Z"
   },
   {
    "duration": 0,
    "start_time": "2022-07-13T21:17:49.461Z"
   },
   {
    "duration": 1647,
    "start_time": "2022-07-13T21:18:21.117Z"
   },
   {
    "duration": 923,
    "start_time": "2022-07-13T21:18:22.765Z"
   },
   {
    "duration": 25,
    "start_time": "2022-07-13T21:18:23.690Z"
   },
   {
    "duration": 129,
    "start_time": "2022-07-13T21:18:23.717Z"
   },
   {
    "duration": 114,
    "start_time": "2022-07-13T21:18:23.848Z"
   },
   {
    "duration": 98,
    "start_time": "2022-07-13T21:18:23.963Z"
   },
   {
    "duration": 26,
    "start_time": "2022-07-13T21:18:24.062Z"
   },
   {
    "duration": 99,
    "start_time": "2022-07-13T21:18:24.090Z"
   },
   {
    "duration": 1146,
    "start_time": "2022-07-13T21:18:24.191Z"
   },
   {
    "duration": 18,
    "start_time": "2022-07-13T21:18:25.340Z"
   },
   {
    "duration": 20,
    "start_time": "2022-07-13T21:18:25.360Z"
   },
   {
    "duration": 651,
    "start_time": "2022-07-13T21:18:25.382Z"
   },
   {
    "duration": 4,
    "start_time": "2022-07-13T21:18:26.035Z"
   },
   {
    "duration": 2917,
    "start_time": "2022-07-13T21:18:26.040Z"
   },
   {
    "duration": 91197,
    "start_time": "2022-07-13T21:18:28.958Z"
   },
   {
    "duration": 0,
    "start_time": "2022-07-13T21:20:00.157Z"
   },
   {
    "duration": 0,
    "start_time": "2022-07-13T21:20:00.158Z"
   },
   {
    "duration": 0,
    "start_time": "2022-07-13T21:20:00.160Z"
   },
   {
    "duration": 1674,
    "start_time": "2022-07-13T21:20:06.700Z"
   },
   {
    "duration": 875,
    "start_time": "2022-07-13T21:20:08.376Z"
   },
   {
    "duration": 18,
    "start_time": "2022-07-13T21:20:09.252Z"
   },
   {
    "duration": 127,
    "start_time": "2022-07-13T21:20:09.271Z"
   },
   {
    "duration": 117,
    "start_time": "2022-07-13T21:20:09.405Z"
   },
   {
    "duration": 98,
    "start_time": "2022-07-13T21:20:09.524Z"
   },
   {
    "duration": 24,
    "start_time": "2022-07-13T21:20:09.623Z"
   },
   {
    "duration": 90,
    "start_time": "2022-07-13T21:20:09.649Z"
   },
   {
    "duration": 1063,
    "start_time": "2022-07-13T21:20:09.741Z"
   },
   {
    "duration": 17,
    "start_time": "2022-07-13T21:20:10.807Z"
   },
   {
    "duration": 23,
    "start_time": "2022-07-13T21:20:10.826Z"
   },
   {
    "duration": 631,
    "start_time": "2022-07-13T21:20:10.851Z"
   },
   {
    "duration": 4,
    "start_time": "2022-07-13T21:20:11.484Z"
   },
   {
    "duration": 2968,
    "start_time": "2022-07-13T21:20:11.491Z"
   },
   {
    "duration": 28118,
    "start_time": "2022-07-13T21:20:14.460Z"
   },
   {
    "duration": 0,
    "start_time": "2022-07-13T21:20:42.580Z"
   },
   {
    "duration": 0,
    "start_time": "2022-07-13T21:20:42.581Z"
   },
   {
    "duration": 1515,
    "start_time": "2022-07-13T21:21:01.054Z"
   },
   {
    "duration": 893,
    "start_time": "2022-07-13T21:21:02.571Z"
   },
   {
    "duration": 17,
    "start_time": "2022-07-13T21:21:03.466Z"
   },
   {
    "duration": 141,
    "start_time": "2022-07-13T21:21:03.485Z"
   },
   {
    "duration": 124,
    "start_time": "2022-07-13T21:21:03.629Z"
   },
   {
    "duration": 106,
    "start_time": "2022-07-13T21:21:03.754Z"
   },
   {
    "duration": 24,
    "start_time": "2022-07-13T21:21:03.862Z"
   },
   {
    "duration": 95,
    "start_time": "2022-07-13T21:21:03.888Z"
   },
   {
    "duration": 1150,
    "start_time": "2022-07-13T21:21:03.985Z"
   },
   {
    "duration": 16,
    "start_time": "2022-07-13T21:21:05.137Z"
   },
   {
    "duration": 21,
    "start_time": "2022-07-13T21:21:05.154Z"
   },
   {
    "duration": 649,
    "start_time": "2022-07-13T21:21:05.177Z"
   },
   {
    "duration": 4,
    "start_time": "2022-07-13T21:21:05.827Z"
   },
   {
    "duration": 2891,
    "start_time": "2022-07-13T21:21:05.833Z"
   },
   {
    "duration": 26380,
    "start_time": "2022-07-13T21:21:08.726Z"
   },
   {
    "duration": 114,
    "start_time": "2022-07-13T21:46:45.624Z"
   },
   {
    "duration": 32898,
    "start_time": "2022-07-13T21:46:51.720Z"
   },
   {
    "duration": 1538,
    "start_time": "2022-07-14T07:20:39.830Z"
   },
   {
    "duration": 1102,
    "start_time": "2022-07-14T07:20:41.370Z"
   },
   {
    "duration": 16,
    "start_time": "2022-07-14T07:20:42.474Z"
   },
   {
    "duration": 156,
    "start_time": "2022-07-14T07:20:42.492Z"
   },
   {
    "duration": 129,
    "start_time": "2022-07-14T07:20:42.651Z"
   },
   {
    "duration": 117,
    "start_time": "2022-07-14T07:20:42.782Z"
   },
   {
    "duration": 27,
    "start_time": "2022-07-14T07:20:42.900Z"
   },
   {
    "duration": 98,
    "start_time": "2022-07-14T07:20:42.929Z"
   },
   {
    "duration": 914,
    "start_time": "2022-07-14T07:20:43.029Z"
   },
   {
    "duration": 15,
    "start_time": "2022-07-14T07:20:43.945Z"
   },
   {
    "duration": 18,
    "start_time": "2022-07-14T07:20:43.962Z"
   },
   {
    "duration": 597,
    "start_time": "2022-07-14T07:20:43.982Z"
   },
   {
    "duration": 3,
    "start_time": "2022-07-14T07:20:44.581Z"
   },
   {
    "duration": 2785,
    "start_time": "2022-07-14T07:20:44.586Z"
   },
   {
    "duration": 32163,
    "start_time": "2022-07-14T07:20:47.374Z"
   },
   {
    "duration": 680893,
    "start_time": "2022-07-14T07:21:19.539Z"
   },
   {
    "duration": 33296,
    "start_time": "2022-07-14T07:32:40.434Z"
   },
   {
    "duration": 677327,
    "start_time": "2022-07-14T07:33:13.733Z"
   },
   {
    "duration": 48,
    "start_time": "2022-07-14T21:46:25.948Z"
   },
   {
    "duration": 1528,
    "start_time": "2022-07-14T21:46:47.733Z"
   },
   {
    "duration": 2984,
    "start_time": "2022-07-14T21:46:49.263Z"
   },
   {
    "duration": 16,
    "start_time": "2022-07-14T21:46:52.248Z"
   },
   {
    "duration": 127,
    "start_time": "2022-07-14T21:46:52.266Z"
   },
   {
    "duration": 101,
    "start_time": "2022-07-14T21:46:52.394Z"
   },
   {
    "duration": 88,
    "start_time": "2022-07-14T21:46:52.497Z"
   },
   {
    "duration": 25,
    "start_time": "2022-07-14T21:46:52.587Z"
   },
   {
    "duration": 79,
    "start_time": "2022-07-14T21:46:52.614Z"
   },
   {
    "duration": 791,
    "start_time": "2022-07-14T21:46:52.694Z"
   },
   {
    "duration": 12,
    "start_time": "2022-07-14T21:46:53.487Z"
   },
   {
    "duration": 15,
    "start_time": "2022-07-14T21:46:53.500Z"
   },
   {
    "duration": 562,
    "start_time": "2022-07-14T21:46:53.517Z"
   },
   {
    "duration": 3,
    "start_time": "2022-07-14T21:46:54.080Z"
   },
   {
    "duration": 2746,
    "start_time": "2022-07-14T21:46:54.084Z"
   },
   {
    "duration": 181,
    "start_time": "2022-07-14T21:46:56.832Z"
   },
   {
    "duration": 81,
    "start_time": "2022-07-14T21:47:15.836Z"
   },
   {
    "duration": 78,
    "start_time": "2022-07-14T21:47:57.143Z"
   },
   {
    "duration": 82,
    "start_time": "2022-07-14T21:48:03.431Z"
   },
   {
    "duration": 76,
    "start_time": "2022-07-14T21:48:21.129Z"
   },
   {
    "duration": 80,
    "start_time": "2022-07-14T21:48:26.386Z"
   },
   {
    "duration": 82,
    "start_time": "2022-07-14T21:48:32.103Z"
   },
   {
    "duration": 86,
    "start_time": "2022-07-14T21:48:37.197Z"
   },
   {
    "duration": 93,
    "start_time": "2022-07-14T21:49:18.355Z"
   },
   {
    "duration": 14240,
    "start_time": "2022-07-14T21:53:04.720Z"
   },
   {
    "duration": 667,
    "start_time": "2022-07-14T21:54:19.985Z"
   },
   {
    "duration": 9,
    "start_time": "2022-07-14T21:54:32.694Z"
   },
   {
    "duration": 8,
    "start_time": "2022-07-14T21:54:39.078Z"
   },
   {
    "duration": 9,
    "start_time": "2022-07-14T21:54:45.311Z"
   },
   {
    "duration": 14,
    "start_time": "2022-07-14T21:55:10.665Z"
   },
   {
    "duration": 11,
    "start_time": "2022-07-14T21:55:29.647Z"
   },
   {
    "duration": 136,
    "start_time": "2022-07-14T21:56:18.461Z"
   },
   {
    "duration": 14255,
    "start_time": "2022-07-14T21:56:22.103Z"
   },
   {
    "duration": 9,
    "start_time": "2022-07-14T21:58:02.303Z"
   },
   {
    "duration": 3,
    "start_time": "2022-07-14T21:58:09.939Z"
   },
   {
    "duration": 10,
    "start_time": "2022-07-14T21:59:09.094Z"
   },
   {
    "duration": 9,
    "start_time": "2022-07-14T21:59:14.788Z"
   },
   {
    "duration": 8,
    "start_time": "2022-07-14T22:01:34.811Z"
   },
   {
    "duration": 3,
    "start_time": "2022-07-14T22:01:39.984Z"
   },
   {
    "duration": 6,
    "start_time": "2022-07-14T22:01:43.091Z"
   },
   {
    "duration": 4,
    "start_time": "2022-07-14T22:01:57.839Z"
   },
   {
    "duration": 1734,
    "start_time": "2022-07-15T17:16:40.430Z"
   },
   {
    "duration": 1328,
    "start_time": "2022-07-15T17:16:42.166Z"
   },
   {
    "duration": 31,
    "start_time": "2022-07-15T17:16:43.496Z"
   },
   {
    "duration": 160,
    "start_time": "2022-07-15T17:16:43.529Z"
   },
   {
    "duration": 133,
    "start_time": "2022-07-15T17:16:43.691Z"
   },
   {
    "duration": 124,
    "start_time": "2022-07-15T17:16:43.827Z"
   },
   {
    "duration": 26,
    "start_time": "2022-07-15T17:16:43.953Z"
   },
   {
    "duration": 102,
    "start_time": "2022-07-15T17:16:43.980Z"
   },
   {
    "duration": 980,
    "start_time": "2022-07-15T17:16:44.085Z"
   },
   {
    "duration": 15,
    "start_time": "2022-07-15T17:16:45.067Z"
   },
   {
    "duration": 32,
    "start_time": "2022-07-15T17:16:45.084Z"
   },
   {
    "duration": 711,
    "start_time": "2022-07-15T17:16:45.118Z"
   },
   {
    "duration": 7,
    "start_time": "2022-07-15T17:16:45.831Z"
   },
   {
    "duration": 2854,
    "start_time": "2022-07-15T17:16:45.841Z"
   },
   {
    "duration": 36054,
    "start_time": "2022-07-15T17:16:48.701Z"
   },
   {
    "duration": 10,
    "start_time": "2022-07-15T17:17:24.803Z"
   },
   {
    "duration": 389,
    "start_time": "2022-07-15T17:17:24.816Z"
   },
   {
    "duration": 11,
    "start_time": "2022-07-15T17:17:25.207Z"
   },
   {
    "duration": 86,
    "start_time": "2022-07-15T17:18:09.953Z"
   },
   {
    "duration": 5,
    "start_time": "2022-07-15T17:19:10.197Z"
   },
   {
    "duration": 36678,
    "start_time": "2022-07-15T17:19:16.748Z"
   },
   {
    "duration": 80,
    "start_time": "2022-07-15T17:19:53.432Z"
   },
   {
    "duration": 5,
    "start_time": "2022-07-15T17:19:57.263Z"
   },
   {
    "duration": 144187,
    "start_time": "2022-07-15T17:20:36.990Z"
   },
   {
    "duration": 14,
    "start_time": "2022-07-15T17:23:01.180Z"
   },
   {
    "duration": 52,
    "start_time": "2022-07-15T17:23:53.941Z"
   },
   {
    "duration": 7898,
    "start_time": "2022-07-15T17:24:22.491Z"
   },
   {
    "duration": 22,
    "start_time": "2022-07-15T17:24:30.391Z"
   },
   {
    "duration": 53,
    "start_time": "2022-07-15T17:24:51.661Z"
   },
   {
    "duration": 19827,
    "start_time": "2022-07-15T17:24:57.827Z"
   },
   {
    "duration": 12,
    "start_time": "2022-07-15T17:25:17.656Z"
   },
   {
    "duration": 1457,
    "start_time": "2022-07-15T17:25:20.258Z"
   },
   {
    "duration": 805,
    "start_time": "2022-07-15T17:25:21.717Z"
   },
   {
    "duration": 16,
    "start_time": "2022-07-15T17:25:22.524Z"
   },
   {
    "duration": 132,
    "start_time": "2022-07-15T17:25:22.542Z"
   },
   {
    "duration": 115,
    "start_time": "2022-07-15T17:25:22.676Z"
   },
   {
    "duration": 84,
    "start_time": "2022-07-15T17:25:22.793Z"
   },
   {
    "duration": 33,
    "start_time": "2022-07-15T17:25:22.879Z"
   },
   {
    "duration": 80,
    "start_time": "2022-07-15T17:25:22.913Z"
   },
   {
    "duration": 820,
    "start_time": "2022-07-15T17:25:23.002Z"
   },
   {
    "duration": 16,
    "start_time": "2022-07-15T17:25:23.824Z"
   },
   {
    "duration": 43,
    "start_time": "2022-07-15T17:25:23.842Z"
   },
   {
    "duration": 599,
    "start_time": "2022-07-15T17:25:23.887Z"
   },
   {
    "duration": 3,
    "start_time": "2022-07-15T17:25:24.488Z"
   },
   {
    "duration": 50935,
    "start_time": "2022-07-15T17:25:24.493Z"
   },
   {
    "duration": 78,
    "start_time": "2022-07-15T17:26:15.429Z"
   },
   {
    "duration": 81764,
    "start_time": "2022-07-15T17:26:15.508Z"
   },
   {
    "duration": 11,
    "start_time": "2022-07-15T17:27:37.274Z"
   },
   {
    "duration": 81394,
    "start_time": "2022-07-15T17:30:12.963Z"
   },
   {
    "duration": 8,
    "start_time": "2022-07-15T17:31:34.359Z"
   },
   {
    "duration": 86231,
    "start_time": "2022-07-15T17:31:56.346Z"
   },
   {
    "duration": 4,
    "start_time": "2022-07-15T17:33:22.579Z"
   },
   {
    "duration": 84,
    "start_time": "2022-07-15T17:34:32.203Z"
   },
   {
    "duration": 5,
    "start_time": "2022-07-15T17:34:33.379Z"
   },
   {
    "duration": 57,
    "start_time": "2022-07-15T17:35:44.848Z"
   },
   {
    "duration": 98,
    "start_time": "2022-07-15T17:35:50.989Z"
   },
   {
    "duration": 82,
    "start_time": "2022-07-15T17:36:49.158Z"
   },
   {
    "duration": 82067,
    "start_time": "2022-07-15T17:37:00.263Z"
   },
   {
    "duration": 5,
    "start_time": "2022-07-15T17:38:22.332Z"
   },
   {
    "duration": 112467,
    "start_time": "2022-07-15T17:39:10.432Z"
   },
   {
    "duration": 2791,
    "start_time": "2022-07-15T17:41:02.908Z"
   },
   {
    "duration": 7213,
    "start_time": "2022-07-15T17:41:42.837Z"
   },
   {
    "duration": 2296,
    "start_time": "2022-07-15T17:42:26.042Z"
   },
   {
    "duration": 865,
    "start_time": "2022-07-15T17:42:28.340Z"
   },
   {
    "duration": 27,
    "start_time": "2022-07-15T17:42:29.216Z"
   },
   {
    "duration": 133,
    "start_time": "2022-07-15T17:42:29.245Z"
   },
   {
    "duration": 117,
    "start_time": "2022-07-15T17:42:29.380Z"
   },
   {
    "duration": 114,
    "start_time": "2022-07-15T17:42:29.501Z"
   },
   {
    "duration": 31,
    "start_time": "2022-07-15T17:42:29.618Z"
   },
   {
    "duration": 125,
    "start_time": "2022-07-15T17:42:29.651Z"
   },
   {
    "duration": 889,
    "start_time": "2022-07-15T17:42:29.778Z"
   },
   {
    "duration": 15,
    "start_time": "2022-07-15T17:42:30.669Z"
   },
   {
    "duration": 33,
    "start_time": "2022-07-15T17:42:30.686Z"
   },
   {
    "duration": 599,
    "start_time": "2022-07-15T17:42:30.721Z"
   },
   {
    "duration": 4,
    "start_time": "2022-07-15T17:42:31.322Z"
   },
   {
    "duration": 3056,
    "start_time": "2022-07-15T17:42:31.327Z"
   },
   {
    "duration": 48935,
    "start_time": "2022-07-15T17:42:34.385Z"
   },
   {
    "duration": 88,
    "start_time": "2022-07-15T17:43:23.322Z"
   },
   {
    "duration": 236759,
    "start_time": "2022-07-15T17:43:23.412Z"
   },
   {
    "duration": 5,
    "start_time": "2022-07-15T17:47:20.173Z"
   },
   {
    "duration": 98195,
    "start_time": "2022-07-15T17:49:45.659Z"
   },
   {
    "duration": 6,
    "start_time": "2022-07-15T17:58:33.496Z"
   },
   {
    "duration": 6,
    "start_time": "2022-07-15T17:58:36.314Z"
   },
   {
    "duration": 184489,
    "start_time": "2022-07-15T18:00:57.660Z"
   },
   {
    "duration": 5,
    "start_time": "2022-07-15T18:04:02.151Z"
   },
   {
    "duration": 382567,
    "start_time": "2022-07-15T18:07:02.749Z"
   },
   {
    "duration": 5,
    "start_time": "2022-07-15T18:13:25.319Z"
   },
   {
    "duration": 178,
    "start_time": "2022-07-15T18:13:25.326Z"
   },
   {
    "duration": 13,
    "start_time": "2022-07-15T18:13:25.508Z"
   },
   {
    "duration": 1646,
    "start_time": "2022-07-16T08:45:43.936Z"
   },
   {
    "duration": 1293,
    "start_time": "2022-07-16T08:45:45.583Z"
   },
   {
    "duration": 18,
    "start_time": "2022-07-16T08:45:46.878Z"
   },
   {
    "duration": 143,
    "start_time": "2022-07-16T08:45:46.899Z"
   },
   {
    "duration": 145,
    "start_time": "2022-07-16T08:45:47.044Z"
   },
   {
    "duration": 127,
    "start_time": "2022-07-16T08:45:47.191Z"
   },
   {
    "duration": 33,
    "start_time": "2022-07-16T08:45:47.320Z"
   },
   {
    "duration": 98,
    "start_time": "2022-07-16T08:45:47.360Z"
   },
   {
    "duration": 941,
    "start_time": "2022-07-16T08:45:47.461Z"
   },
   {
    "duration": 14,
    "start_time": "2022-07-16T08:45:48.404Z"
   },
   {
    "duration": 21,
    "start_time": "2022-07-16T08:45:48.420Z"
   },
   {
    "duration": 594,
    "start_time": "2022-07-16T08:45:48.443Z"
   },
   {
    "duration": 3,
    "start_time": "2022-07-16T08:45:49.039Z"
   },
   {
    "duration": 3105,
    "start_time": "2022-07-16T08:45:49.043Z"
   },
   {
    "duration": 56621,
    "start_time": "2022-07-16T08:45:52.150Z"
   },
   {
    "duration": 89,
    "start_time": "2022-07-16T08:46:48.777Z"
   },
   {
    "duration": 363512,
    "start_time": "2022-07-16T08:46:48.868Z"
   },
   {
    "duration": 5,
    "start_time": "2022-07-16T08:52:52.381Z"
   },
   {
    "duration": 2212,
    "start_time": "2022-07-17T12:20:10.330Z"
   },
   {
    "duration": 2893,
    "start_time": "2022-07-17T12:20:12.544Z"
   },
   {
    "duration": 17,
    "start_time": "2022-07-17T12:20:15.439Z"
   },
   {
    "duration": 124,
    "start_time": "2022-07-17T12:20:15.458Z"
   },
   {
    "duration": 119,
    "start_time": "2022-07-17T12:20:15.584Z"
   },
   {
    "duration": 98,
    "start_time": "2022-07-17T12:20:15.705Z"
   },
   {
    "duration": 23,
    "start_time": "2022-07-17T12:20:15.805Z"
   },
   {
    "duration": 88,
    "start_time": "2022-07-17T12:20:15.830Z"
   },
   {
    "duration": 1247,
    "start_time": "2022-07-17T12:20:15.921Z"
   },
   {
    "duration": 16,
    "start_time": "2022-07-17T12:20:17.171Z"
   },
   {
    "duration": 20,
    "start_time": "2022-07-17T12:20:17.189Z"
   },
   {
    "duration": 604,
    "start_time": "2022-07-17T12:20:17.211Z"
   },
   {
    "duration": 4,
    "start_time": "2022-07-17T12:20:17.817Z"
   },
   {
    "duration": 3152,
    "start_time": "2022-07-17T12:20:17.823Z"
   },
   {
    "duration": 29082,
    "start_time": "2022-07-17T12:20:20.977Z"
   },
   {
    "duration": 92,
    "start_time": "2022-07-17T12:20:50.061Z"
   },
   {
    "duration": 222,
    "start_time": "2022-07-17T12:20:50.155Z"
   },
   {
    "duration": 9,
    "start_time": "2022-07-17T12:20:50.378Z"
   },
   {
    "duration": 36984,
    "start_time": "2022-07-17T12:28:04.970Z"
   },
   {
    "duration": 80,
    "start_time": "2022-07-17T12:34:07.789Z"
   },
   {
    "duration": 5208,
    "start_time": "2022-07-17T12:34:43.546Z"
   },
   {
    "duration": 4131,
    "start_time": "2022-07-17T12:35:26.763Z"
   },
   {
    "duration": 11,
    "start_time": "2022-07-17T12:36:10.664Z"
   },
   {
    "duration": 4276,
    "start_time": "2022-07-17T12:36:13.871Z"
   },
   {
    "duration": 5,
    "start_time": "2022-07-17T12:36:20.138Z"
   },
   {
    "duration": 3,
    "start_time": "2022-07-17T12:43:26.767Z"
   },
   {
    "duration": 83,
    "start_time": "2022-07-17T12:44:01.252Z"
   },
   {
    "duration": 73,
    "start_time": "2022-07-17T12:44:07.705Z"
   },
   {
    "duration": 9,
    "start_time": "2022-07-17T12:44:12.449Z"
   },
   {
    "duration": 9,
    "start_time": "2022-07-17T12:44:20.597Z"
   },
   {
    "duration": 13,
    "start_time": "2022-07-17T12:44:24.257Z"
   },
   {
    "duration": 12,
    "start_time": "2022-07-17T12:44:40.739Z"
   },
   {
    "duration": 11,
    "start_time": "2022-07-17T12:44:51.908Z"
   },
   {
    "duration": 78,
    "start_time": "2022-07-17T12:45:20.711Z"
   },
   {
    "duration": 10,
    "start_time": "2022-07-17T12:45:27.401Z"
   },
   {
    "duration": 11,
    "start_time": "2022-07-17T12:45:40.126Z"
   },
   {
    "duration": 11,
    "start_time": "2022-07-17T12:45:46.740Z"
   },
   {
    "duration": 10,
    "start_time": "2022-07-17T12:45:48.196Z"
   },
   {
    "duration": 11,
    "start_time": "2022-07-17T12:46:12.817Z"
   },
   {
    "duration": 10,
    "start_time": "2022-07-17T12:46:28.464Z"
   },
   {
    "duration": 13,
    "start_time": "2022-07-17T12:46:38.038Z"
   },
   {
    "duration": 24305,
    "start_time": "2022-07-17T12:46:54.775Z"
   },
   {
    "duration": 1462,
    "start_time": "2022-07-17T12:48:25.780Z"
   },
   {
    "duration": 779,
    "start_time": "2022-07-17T12:48:27.244Z"
   },
   {
    "duration": 18,
    "start_time": "2022-07-17T12:48:28.024Z"
   },
   {
    "duration": 115,
    "start_time": "2022-07-17T12:48:28.052Z"
   },
   {
    "duration": 120,
    "start_time": "2022-07-17T12:48:28.169Z"
   },
   {
    "duration": 93,
    "start_time": "2022-07-17T12:48:28.291Z"
   },
   {
    "duration": 26,
    "start_time": "2022-07-17T12:48:28.386Z"
   },
   {
    "duration": 81,
    "start_time": "2022-07-17T12:48:28.414Z"
   },
   {
    "duration": 1002,
    "start_time": "2022-07-17T12:48:28.497Z"
   },
   {
    "duration": 14,
    "start_time": "2022-07-17T12:48:29.501Z"
   },
   {
    "duration": 35,
    "start_time": "2022-07-17T12:48:29.517Z"
   },
   {
    "duration": 599,
    "start_time": "2022-07-17T12:48:29.554Z"
   },
   {
    "duration": 3,
    "start_time": "2022-07-17T12:48:30.155Z"
   },
   {
    "duration": 3072,
    "start_time": "2022-07-17T12:48:30.160Z"
   },
   {
    "duration": 40423,
    "start_time": "2022-07-17T12:48:33.234Z"
   },
   {
    "duration": 91,
    "start_time": "2022-07-17T12:49:13.660Z"
   },
   {
    "duration": 4329,
    "start_time": "2022-07-17T12:49:13.753Z"
   },
   {
    "duration": 6,
    "start_time": "2022-07-17T12:49:18.084Z"
   },
   {
    "duration": 616870,
    "start_time": "2022-07-17T12:49:18.092Z"
   },
   {
    "duration": 68,
    "start_time": "2022-07-17T12:59:34.964Z"
   },
   {
    "duration": 0,
    "start_time": "2022-07-17T12:59:35.052Z"
   },
   {
    "duration": 382888,
    "start_time": "2022-07-17T12:59:48.661Z"
   },
   {
    "duration": 15,
    "start_time": "2022-07-17T13:06:11.552Z"
   },
   {
    "duration": 0,
    "start_time": "2022-07-17T13:06:11.568Z"
   },
   {
    "duration": 286861,
    "start_time": "2022-07-17T13:07:00.811Z"
   },
   {
    "duration": 23,
    "start_time": "2022-07-17T13:11:47.674Z"
   },
   {
    "duration": 0,
    "start_time": "2022-07-17T13:11:47.699Z"
   },
   {
    "duration": 3939,
    "start_time": "2022-07-17T13:12:43.910Z"
   },
   {
    "duration": 5,
    "start_time": "2022-07-17T13:12:47.851Z"
   },
   {
    "duration": 771059,
    "start_time": "2022-07-17T13:15:01.005Z"
   },
   {
    "duration": 14,
    "start_time": "2022-07-17T13:27:52.065Z"
   },
   {
    "duration": 0,
    "start_time": "2022-07-17T13:27:52.080Z"
   },
   {
    "duration": 1314,
    "start_time": "2022-07-17T14:07:42.902Z"
   },
   {
    "duration": 771,
    "start_time": "2022-07-17T14:07:44.218Z"
   },
   {
    "duration": 17,
    "start_time": "2022-07-17T14:07:44.990Z"
   },
   {
    "duration": 134,
    "start_time": "2022-07-17T14:07:45.009Z"
   },
   {
    "duration": 119,
    "start_time": "2022-07-17T14:07:45.145Z"
   },
   {
    "duration": 86,
    "start_time": "2022-07-17T14:07:45.266Z"
   },
   {
    "duration": 23,
    "start_time": "2022-07-17T14:07:45.354Z"
   },
   {
    "duration": 82,
    "start_time": "2022-07-17T14:07:45.378Z"
   },
   {
    "duration": 923,
    "start_time": "2022-07-17T14:07:45.462Z"
   },
   {
    "duration": 13,
    "start_time": "2022-07-17T14:07:46.387Z"
   },
   {
    "duration": 15,
    "start_time": "2022-07-17T14:07:46.401Z"
   },
   {
    "duration": 569,
    "start_time": "2022-07-17T14:07:46.417Z"
   },
   {
    "duration": 3,
    "start_time": "2022-07-17T14:07:46.988Z"
   },
   {
    "duration": 3060,
    "start_time": "2022-07-17T14:07:46.993Z"
   },
   {
    "duration": 22700,
    "start_time": "2022-07-17T14:07:50.055Z"
   },
   {
    "duration": 5,
    "start_time": "2022-07-17T14:08:12.757Z"
   },
   {
    "duration": 4237,
    "start_time": "2022-07-17T14:08:12.851Z"
   },
   {
    "duration": 6,
    "start_time": "2022-07-17T14:08:17.089Z"
   },
   {
    "duration": 197,
    "start_time": "2022-07-17T14:08:17.096Z"
   },
   {
    "duration": 9,
    "start_time": "2022-07-17T14:08:17.295Z"
   },
   {
    "duration": 0,
    "start_time": "2022-07-17T14:08:17.306Z"
   },
   {
    "duration": 1333,
    "start_time": "2022-07-17T14:09:41.613Z"
   },
   {
    "duration": 783,
    "start_time": "2022-07-17T14:09:42.948Z"
   },
   {
    "duration": 21,
    "start_time": "2022-07-17T14:09:43.733Z"
   },
   {
    "duration": 128,
    "start_time": "2022-07-17T14:09:43.757Z"
   },
   {
    "duration": 114,
    "start_time": "2022-07-17T14:09:43.887Z"
   },
   {
    "duration": 87,
    "start_time": "2022-07-17T14:09:44.003Z"
   },
   {
    "duration": 24,
    "start_time": "2022-07-17T14:09:44.092Z"
   },
   {
    "duration": 77,
    "start_time": "2022-07-17T14:09:44.118Z"
   },
   {
    "duration": 1027,
    "start_time": "2022-07-17T14:09:44.196Z"
   },
   {
    "duration": 15,
    "start_time": "2022-07-17T14:09:45.225Z"
   },
   {
    "duration": 28,
    "start_time": "2022-07-17T14:09:45.242Z"
   },
   {
    "duration": 584,
    "start_time": "2022-07-17T14:09:45.271Z"
   },
   {
    "duration": 3,
    "start_time": "2022-07-17T14:09:45.857Z"
   },
   {
    "duration": 3103,
    "start_time": "2022-07-17T14:09:45.862Z"
   },
   {
    "duration": 22491,
    "start_time": "2022-07-17T14:09:48.967Z"
   },
   {
    "duration": 95,
    "start_time": "2022-07-17T14:10:11.460Z"
   },
   {
    "duration": 3962,
    "start_time": "2022-07-17T14:10:11.557Z"
   },
   {
    "duration": 5,
    "start_time": "2022-07-17T14:10:15.521Z"
   },
   {
    "duration": 6738,
    "start_time": "2022-07-17T14:10:15.528Z"
   },
   {
    "duration": 190,
    "start_time": "2022-07-17T14:10:22.268Z"
   },
   {
    "duration": 0,
    "start_time": "2022-07-17T14:10:22.459Z"
   },
   {
    "duration": 749,
    "start_time": "2022-07-17T14:11:04.303Z"
   },
   {
    "duration": 5,
    "start_time": "2022-07-17T14:11:07.965Z"
   },
   {
    "duration": 51652,
    "start_time": "2022-07-17T15:43:20.211Z"
   },
   {
    "duration": 1087,
    "start_time": "2022-07-17T15:44:11.865Z"
   },
   {
    "duration": 15378,
    "start_time": "2022-07-17T15:44:56.777Z"
   },
   {
    "duration": 715,
    "start_time": "2022-07-17T15:45:12.157Z"
   },
   {
    "duration": 5,
    "start_time": "2022-07-17T15:45:12.873Z"
   },
   {
    "duration": 14261,
    "start_time": "2022-07-17T15:47:37.403Z"
   },
   {
    "duration": 709,
    "start_time": "2022-07-17T15:47:51.666Z"
   },
   {
    "duration": 5,
    "start_time": "2022-07-17T15:47:52.452Z"
   },
   {
    "duration": 11614,
    "start_time": "2022-07-17T16:09:57.074Z"
   },
   {
    "duration": 573,
    "start_time": "2022-07-17T16:10:08.690Z"
   },
   {
    "duration": 5,
    "start_time": "2022-07-17T16:10:09.265Z"
   },
   {
    "duration": 12425,
    "start_time": "2022-07-17T16:10:53.337Z"
   },
   {
    "duration": 5,
    "start_time": "2022-07-17T16:11:05.764Z"
   },
   {
    "duration": 83,
    "start_time": "2022-07-17T16:11:45.996Z"
   },
   {
    "duration": 31614,
    "start_time": "2022-07-17T16:15:18.333Z"
   },
   {
    "duration": 6,
    "start_time": "2022-07-17T16:15:49.949Z"
   },
   {
    "duration": 1393,
    "start_time": "2022-07-17T16:16:03.035Z"
   },
   {
    "duration": 820,
    "start_time": "2022-07-17T16:16:04.430Z"
   },
   {
    "duration": 18,
    "start_time": "2022-07-17T16:16:05.251Z"
   },
   {
    "duration": 136,
    "start_time": "2022-07-17T16:16:05.271Z"
   },
   {
    "duration": 108,
    "start_time": "2022-07-17T16:16:05.409Z"
   },
   {
    "duration": 98,
    "start_time": "2022-07-17T16:16:05.518Z"
   },
   {
    "duration": 35,
    "start_time": "2022-07-17T16:16:05.618Z"
   },
   {
    "duration": 74,
    "start_time": "2022-07-17T16:16:05.654Z"
   },
   {
    "duration": 917,
    "start_time": "2022-07-17T16:16:05.729Z"
   },
   {
    "duration": 15,
    "start_time": "2022-07-17T16:16:06.648Z"
   },
   {
    "duration": 15,
    "start_time": "2022-07-17T16:16:06.665Z"
   },
   {
    "duration": 578,
    "start_time": "2022-07-17T16:16:06.681Z"
   },
   {
    "duration": 2,
    "start_time": "2022-07-17T16:16:07.261Z"
   },
   {
    "duration": 3177,
    "start_time": "2022-07-17T16:16:07.266Z"
   },
   {
    "duration": 27510,
    "start_time": "2022-07-17T16:16:10.445Z"
   },
   {
    "duration": 94,
    "start_time": "2022-07-17T16:16:37.959Z"
   },
   {
    "duration": 4022,
    "start_time": "2022-07-17T16:16:38.055Z"
   },
   {
    "duration": 5,
    "start_time": "2022-07-17T16:16:42.078Z"
   },
   {
    "duration": 12375,
    "start_time": "2022-07-17T16:16:42.084Z"
   },
   {
    "duration": 5,
    "start_time": "2022-07-17T16:16:54.460Z"
   },
   {
    "duration": 5,
    "start_time": "2022-07-17T16:17:22.735Z"
   },
   {
    "duration": 16,
    "start_time": "2022-07-17T16:20:11.774Z"
   },
   {
    "duration": 4,
    "start_time": "2022-07-17T16:33:19.807Z"
   },
   {
    "duration": 123,
    "start_time": "2022-07-17T16:34:37.341Z"
   },
   {
    "duration": 17973,
    "start_time": "2022-07-17T16:34:52.418Z"
   },
   {
    "duration": 0,
    "start_time": "2022-07-17T16:35:10.393Z"
   },
   {
    "duration": 2154,
    "start_time": "2022-07-17T16:35:22.845Z"
   },
   {
    "duration": 826,
    "start_time": "2022-07-17T16:35:25.001Z"
   },
   {
    "duration": 26,
    "start_time": "2022-07-17T16:35:25.829Z"
   },
   {
    "duration": 123,
    "start_time": "2022-07-17T16:35:25.857Z"
   },
   {
    "duration": 130,
    "start_time": "2022-07-17T16:35:25.982Z"
   },
   {
    "duration": 109,
    "start_time": "2022-07-17T16:35:26.114Z"
   },
   {
    "duration": 33,
    "start_time": "2022-07-17T16:35:26.225Z"
   },
   {
    "duration": 69,
    "start_time": "2022-07-17T16:35:26.260Z"
   },
   {
    "duration": 791,
    "start_time": "2022-07-17T16:35:26.331Z"
   },
   {
    "duration": 13,
    "start_time": "2022-07-17T16:35:27.124Z"
   },
   {
    "duration": 25,
    "start_time": "2022-07-17T16:35:27.138Z"
   },
   {
    "duration": 557,
    "start_time": "2022-07-17T16:35:27.164Z"
   },
   {
    "duration": 3,
    "start_time": "2022-07-17T16:35:27.723Z"
   },
   {
    "duration": 7,
    "start_time": "2022-07-17T16:35:27.727Z"
   },
   {
    "duration": 0,
    "start_time": "2022-07-17T16:35:27.735Z"
   },
   {
    "duration": 0,
    "start_time": "2022-07-17T16:35:27.736Z"
   },
   {
    "duration": 0,
    "start_time": "2022-07-17T16:35:27.752Z"
   },
   {
    "duration": 0,
    "start_time": "2022-07-17T16:35:27.753Z"
   },
   {
    "duration": 0,
    "start_time": "2022-07-17T16:35:27.754Z"
   },
   {
    "duration": 0,
    "start_time": "2022-07-17T16:35:27.755Z"
   },
   {
    "duration": 3033,
    "start_time": "2022-07-17T16:37:38.476Z"
   },
   {
    "duration": 1393,
    "start_time": "2022-07-17T16:38:00.066Z"
   },
   {
    "duration": 813,
    "start_time": "2022-07-17T16:38:01.461Z"
   },
   {
    "duration": 18,
    "start_time": "2022-07-17T16:38:02.276Z"
   },
   {
    "duration": 124,
    "start_time": "2022-07-17T16:38:02.296Z"
   },
   {
    "duration": 104,
    "start_time": "2022-07-17T16:38:02.422Z"
   },
   {
    "duration": 97,
    "start_time": "2022-07-17T16:38:02.528Z"
   },
   {
    "duration": 33,
    "start_time": "2022-07-17T16:38:02.626Z"
   },
   {
    "duration": 70,
    "start_time": "2022-07-17T16:38:02.661Z"
   },
   {
    "duration": 892,
    "start_time": "2022-07-17T16:38:02.732Z"
   },
   {
    "duration": 15,
    "start_time": "2022-07-17T16:38:03.627Z"
   },
   {
    "duration": 19,
    "start_time": "2022-07-17T16:38:03.651Z"
   },
   {
    "duration": 582,
    "start_time": "2022-07-17T16:38:03.672Z"
   },
   {
    "duration": 4,
    "start_time": "2022-07-17T16:38:04.256Z"
   },
   {
    "duration": 3061,
    "start_time": "2022-07-17T16:38:04.262Z"
   },
   {
    "duration": 23029,
    "start_time": "2022-07-17T16:38:07.325Z"
   },
   {
    "duration": 5,
    "start_time": "2022-07-17T16:38:30.356Z"
   },
   {
    "duration": 4337,
    "start_time": "2022-07-17T16:38:30.453Z"
   },
   {
    "duration": 5,
    "start_time": "2022-07-17T16:38:34.792Z"
   },
   {
    "duration": 413258,
    "start_time": "2022-07-17T16:38:34.798Z"
   },
   {
    "duration": 22,
    "start_time": "2022-07-17T16:45:28.058Z"
   },
   {
    "duration": 1392,
    "start_time": "2022-07-17T16:45:30.990Z"
   },
   {
    "duration": 804,
    "start_time": "2022-07-17T16:45:32.384Z"
   },
   {
    "duration": 19,
    "start_time": "2022-07-17T16:45:33.190Z"
   },
   {
    "duration": 115,
    "start_time": "2022-07-17T16:45:33.211Z"
   },
   {
    "duration": 107,
    "start_time": "2022-07-17T16:45:33.328Z"
   },
   {
    "duration": 85,
    "start_time": "2022-07-17T16:45:33.436Z"
   },
   {
    "duration": 29,
    "start_time": "2022-07-17T16:45:33.523Z"
   },
   {
    "duration": 71,
    "start_time": "2022-07-17T16:45:33.554Z"
   },
   {
    "duration": 1079,
    "start_time": "2022-07-17T16:45:33.627Z"
   },
   {
    "duration": 18,
    "start_time": "2022-07-17T16:45:34.708Z"
   },
   {
    "duration": 33,
    "start_time": "2022-07-17T16:45:34.728Z"
   },
   {
    "duration": 618,
    "start_time": "2022-07-17T16:45:34.763Z"
   },
   {
    "duration": 4,
    "start_time": "2022-07-17T16:45:35.383Z"
   },
   {
    "duration": 3119,
    "start_time": "2022-07-17T16:45:35.388Z"
   },
   {
    "duration": 29845,
    "start_time": "2022-07-17T16:45:38.508Z"
   },
   {
    "duration": 10,
    "start_time": "2022-07-17T16:46:08.355Z"
   },
   {
    "duration": 4367,
    "start_time": "2022-07-17T16:46:08.367Z"
   },
   {
    "duration": 5,
    "start_time": "2022-07-17T16:46:12.736Z"
   },
   {
    "duration": 1022318,
    "start_time": "2022-07-17T16:46:12.742Z"
   },
   {
    "duration": 6,
    "start_time": "2022-07-17T17:03:15.062Z"
   },
   {
    "duration": 1627381,
    "start_time": "2022-07-17T18:44:10.284Z"
   },
   {
    "duration": 6,
    "start_time": "2022-07-17T19:11:17.667Z"
   },
   {
    "duration": 4,
    "start_time": "2022-07-17T19:30:05.766Z"
   },
   {
    "duration": 6,
    "start_time": "2022-07-17T19:30:06.554Z"
   },
   {
    "duration": 263753,
    "start_time": "2022-07-17T19:30:11.309Z"
   },
   {
    "duration": 9,
    "start_time": "2022-07-17T19:34:35.066Z"
   },
   {
    "duration": 1711,
    "start_time": "2022-07-18T08:25:41.459Z"
   },
   {
    "duration": 1075,
    "start_time": "2022-07-18T08:25:43.173Z"
   },
   {
    "duration": 23,
    "start_time": "2022-07-18T08:25:44.250Z"
   },
   {
    "duration": 145,
    "start_time": "2022-07-18T08:25:44.275Z"
   },
   {
    "duration": 148,
    "start_time": "2022-07-18T08:25:44.422Z"
   },
   {
    "duration": 115,
    "start_time": "2022-07-18T08:25:44.573Z"
   },
   {
    "duration": 27,
    "start_time": "2022-07-18T08:25:44.690Z"
   },
   {
    "duration": 108,
    "start_time": "2022-07-18T08:25:44.719Z"
   },
   {
    "duration": 857,
    "start_time": "2022-07-18T08:25:44.828Z"
   },
   {
    "duration": 14,
    "start_time": "2022-07-18T08:25:45.687Z"
   },
   {
    "duration": 16,
    "start_time": "2022-07-18T08:25:45.702Z"
   },
   {
    "duration": 593,
    "start_time": "2022-07-18T08:25:45.720Z"
   },
   {
    "duration": 5,
    "start_time": "2022-07-18T08:25:46.315Z"
   },
   {
    "duration": 3764,
    "start_time": "2022-07-18T08:25:46.324Z"
   },
   {
    "duration": 43584,
    "start_time": "2022-07-18T08:25:50.090Z"
   },
   {
    "duration": 90,
    "start_time": "2022-07-18T08:26:33.676Z"
   },
   {
    "duration": 4258,
    "start_time": "2022-07-18T08:26:33.770Z"
   },
   {
    "duration": 6,
    "start_time": "2022-07-18T08:26:38.029Z"
   },
   {
    "duration": 14035,
    "start_time": "2022-07-18T08:26:38.037Z"
   },
   {
    "duration": 7,
    "start_time": "2022-07-18T08:26:52.074Z"
   },
   {
    "duration": 102,
    "start_time": "2022-07-18T10:40:48.901Z"
   },
   {
    "duration": 153,
    "start_time": "2022-07-18T10:49:56.556Z"
   },
   {
    "duration": 1844,
    "start_time": "2022-07-18T20:25:02.042Z"
   },
   {
    "duration": 3319,
    "start_time": "2022-07-18T20:25:03.888Z"
   },
   {
    "duration": 20,
    "start_time": "2022-07-18T20:25:07.209Z"
   },
   {
    "duration": 158,
    "start_time": "2022-07-18T20:25:07.231Z"
   },
   {
    "duration": 123,
    "start_time": "2022-07-18T20:25:07.391Z"
   },
   {
    "duration": 149,
    "start_time": "2022-07-18T20:25:07.516Z"
   },
   {
    "duration": 25,
    "start_time": "2022-07-18T20:25:07.667Z"
   },
   {
    "duration": 103,
    "start_time": "2022-07-18T20:25:07.694Z"
   },
   {
    "duration": 21,
    "start_time": "2022-07-18T20:25:07.800Z"
   },
   {
    "duration": 24,
    "start_time": "2022-07-18T20:25:07.824Z"
   },
   {
    "duration": 120,
    "start_time": "2022-07-18T20:25:07.856Z"
   },
   {
    "duration": 242,
    "start_time": "2022-07-18T20:25:07.979Z"
   },
   {
    "duration": 0,
    "start_time": "2022-07-18T20:25:08.223Z"
   },
   {
    "duration": 0,
    "start_time": "2022-07-18T20:25:08.224Z"
   },
   {
    "duration": 0,
    "start_time": "2022-07-18T20:25:08.225Z"
   },
   {
    "duration": 0,
    "start_time": "2022-07-18T20:25:08.226Z"
   },
   {
    "duration": 0,
    "start_time": "2022-07-18T20:25:08.227Z"
   },
   {
    "duration": 0,
    "start_time": "2022-07-18T20:25:08.244Z"
   },
   {
    "duration": 0,
    "start_time": "2022-07-18T20:25:08.245Z"
   },
   {
    "duration": 0,
    "start_time": "2022-07-18T20:25:08.246Z"
   },
   {
    "duration": 0,
    "start_time": "2022-07-18T20:25:08.246Z"
   },
   {
    "duration": 8,
    "start_time": "2022-07-18T20:25:33.101Z"
   },
   {
    "duration": 6,
    "start_time": "2022-07-18T20:25:43.538Z"
   },
   {
    "duration": 232,
    "start_time": "2022-07-18T20:27:19.587Z"
   },
   {
    "duration": 4,
    "start_time": "2022-07-18T20:27:20.783Z"
   },
   {
    "duration": 140,
    "start_time": "2022-07-18T20:27:35.695Z"
   },
   {
    "duration": 4,
    "start_time": "2022-07-18T20:27:36.235Z"
   },
   {
    "duration": 3729,
    "start_time": "2022-07-18T20:36:44.080Z"
   },
   {
    "duration": 1542,
    "start_time": "2022-07-19T08:01:37.006Z"
   },
   {
    "duration": 3052,
    "start_time": "2022-07-19T08:01:38.550Z"
   },
   {
    "duration": 16,
    "start_time": "2022-07-19T08:01:41.603Z"
   },
   {
    "duration": 102,
    "start_time": "2022-07-19T08:01:41.620Z"
   },
   {
    "duration": 94,
    "start_time": "2022-07-19T08:01:41.724Z"
   },
   {
    "duration": 75,
    "start_time": "2022-07-19T08:01:41.820Z"
   },
   {
    "duration": 19,
    "start_time": "2022-07-19T08:01:41.897Z"
   },
   {
    "duration": 71,
    "start_time": "2022-07-19T08:01:41.917Z"
   },
   {
    "duration": 793,
    "start_time": "2022-07-19T08:01:41.990Z"
   },
   {
    "duration": 14,
    "start_time": "2022-07-19T08:01:42.785Z"
   },
   {
    "duration": 15,
    "start_time": "2022-07-19T08:01:42.800Z"
   },
   {
    "duration": 682,
    "start_time": "2022-07-19T08:01:42.816Z"
   },
   {
    "duration": 4,
    "start_time": "2022-07-19T08:01:43.499Z"
   },
   {
    "duration": 2596,
    "start_time": "2022-07-19T08:01:43.504Z"
   },
   {
    "duration": 16553,
    "start_time": "2022-07-19T08:01:46.102Z"
   },
   {
    "duration": 102,
    "start_time": "2022-07-19T08:02:02.656Z"
   },
   {
    "duration": 94,
    "start_time": "2022-07-19T08:02:02.759Z"
   },
   {
    "duration": 3005,
    "start_time": "2022-07-19T08:02:02.854Z"
   },
   {
    "duration": 37,
    "start_time": "2022-07-19T08:02:05.860Z"
   },
   {
    "duration": 4,
    "start_time": "2022-07-19T08:02:05.899Z"
   },
   {
    "duration": 9557,
    "start_time": "2022-07-19T08:02:05.904Z"
   },
   {
    "duration": 497,
    "start_time": "2022-07-19T08:02:15.463Z"
   },
   {
    "duration": 4,
    "start_time": "2022-07-19T08:02:15.962Z"
   },
   {
    "duration": 91,
    "start_time": "2022-07-19T08:02:15.967Z"
   },
   {
    "duration": 94,
    "start_time": "2022-07-19T08:02:16.059Z"
   },
   {
    "duration": 134,
    "start_time": "2022-07-19T08:02:16.155Z"
   },
   {
    "duration": 5,
    "start_time": "2022-07-19T08:02:16.291Z"
   },
   {
    "duration": 461,
    "start_time": "2022-07-19T08:02:16.298Z"
   },
   {
    "duration": 6,
    "start_time": "2022-07-19T08:02:16.760Z"
   },
   {
    "duration": 169,
    "start_time": "2022-07-19T08:07:01.088Z"
   },
   {
    "duration": 88,
    "start_time": "2022-07-19T08:07:01.586Z"
   },
   {
    "duration": 121780,
    "start_time": "2022-07-19T08:07:15.377Z"
   },
   {
    "duration": 301,
    "start_time": "2022-07-19T08:09:17.159Z"
   },
   {
    "duration": 6,
    "start_time": "2022-07-19T08:09:17.462Z"
   },
   {
    "duration": 5421,
    "start_time": "2022-07-19T08:10:31.138Z"
   },
   {
    "duration": 509,
    "start_time": "2022-07-19T08:10:36.560Z"
   },
   {
    "duration": 5,
    "start_time": "2022-07-19T08:10:37.071Z"
   },
   {
    "duration": 446,
    "start_time": "2022-07-19T08:10:40.714Z"
   },
   {
    "duration": 4,
    "start_time": "2022-07-19T08:10:41.162Z"
   },
   {
    "duration": 177456,
    "start_time": "2022-07-19T08:11:12.402Z"
   },
   {
    "duration": 504,
    "start_time": "2022-07-19T08:14:09.859Z"
   },
   {
    "duration": 4,
    "start_time": "2022-07-19T08:14:10.364Z"
   },
   {
    "duration": 7920,
    "start_time": "2022-07-19T08:15:48.836Z"
   },
   {
    "duration": 805,
    "start_time": "2022-07-19T08:15:56.758Z"
   },
   {
    "duration": 4,
    "start_time": "2022-07-19T08:15:57.565Z"
   },
   {
    "duration": 800,
    "start_time": "2022-07-19T08:15:57.571Z"
   },
   {
    "duration": 5,
    "start_time": "2022-07-19T08:15:58.373Z"
   },
   {
    "duration": 404,
    "start_time": "2022-07-19T08:16:08.167Z"
   },
   {
    "duration": 5,
    "start_time": "2022-07-19T08:16:09.667Z"
   },
   {
    "duration": 215,
    "start_time": "2022-07-20T03:50:51.269Z"
   },
   {
    "duration": 1642,
    "start_time": "2022-07-20T06:46:43.601Z"
   },
   {
    "duration": 111,
    "start_time": "2022-07-20T07:02:43.339Z"
   },
   {
    "duration": 3,
    "start_time": "2022-07-20T07:03:02.821Z"
   },
   {
    "duration": 9,
    "start_time": "2022-07-20T07:03:08.568Z"
   },
   {
    "duration": 4,
    "start_time": "2022-07-20T07:03:14.174Z"
   },
   {
    "duration": 2769,
    "start_time": "2022-07-20T07:03:14.466Z"
   },
   {
    "duration": 20,
    "start_time": "2022-07-20T07:03:17.237Z"
   },
   {
    "duration": 122,
    "start_time": "2022-07-20T07:03:17.259Z"
   },
   {
    "duration": 105,
    "start_time": "2022-07-20T07:03:17.989Z"
   },
   {
    "duration": 92,
    "start_time": "2022-07-20T07:03:19.873Z"
   },
   {
    "duration": 24,
    "start_time": "2022-07-20T07:03:21.643Z"
   },
   {
    "duration": 70,
    "start_time": "2022-07-20T07:03:22.139Z"
   },
   {
    "duration": 997,
    "start_time": "2022-07-20T07:03:51.546Z"
   },
   {
    "duration": 15,
    "start_time": "2022-07-20T07:03:52.970Z"
   },
   {
    "duration": 29,
    "start_time": "2022-07-20T07:03:54.899Z"
   },
   {
    "duration": 546,
    "start_time": "2022-07-20T07:04:08.082Z"
   },
   {
    "duration": 610,
    "start_time": "2022-07-20T07:04:15.691Z"
   },
   {
    "duration": 4,
    "start_time": "2022-07-20T07:04:17.329Z"
   },
   {
    "duration": 3101,
    "start_time": "2022-07-20T07:04:21.576Z"
   },
   {
    "duration": 24726,
    "start_time": "2022-07-20T07:04:25.981Z"
   },
   {
    "duration": 725,
    "start_time": "2022-07-20T07:04:50.709Z"
   },
   {
    "duration": 23,
    "start_time": "2022-07-20T07:04:51.436Z"
   },
   {
    "duration": 11,
    "start_time": "2022-07-20T07:04:57.192Z"
   },
   {
    "duration": 65,
    "start_time": "2022-07-20T07:07:07.398Z"
   },
   {
    "duration": 4,
    "start_time": "2022-07-20T07:07:47.375Z"
   },
   {
    "duration": 4,
    "start_time": "2022-07-20T07:08:23.224Z"
   },
   {
    "duration": 2304,
    "start_time": "2022-07-20T07:09:33.181Z"
   },
   {
    "duration": 17,
    "start_time": "2022-07-20T07:09:35.487Z"
   },
   {
    "duration": 9,
    "start_time": "2022-07-20T07:09:35.506Z"
   },
   {
    "duration": 5,
    "start_time": "2022-07-20T07:09:44.535Z"
   },
   {
    "duration": 19,
    "start_time": "2022-07-20T07:10:55.397Z"
   },
   {
    "duration": 5,
    "start_time": "2022-07-20T07:10:55.976Z"
   },
   {
    "duration": 74996,
    "start_time": "2022-07-20T07:12:49.717Z"
   },
   {
    "duration": 294,
    "start_time": "2022-07-20T07:14:04.715Z"
   },
   {
    "duration": 15,
    "start_time": "2022-07-20T07:14:05.011Z"
   },
   {
    "duration": 0,
    "start_time": "2022-07-20T07:14:05.028Z"
   },
   {
    "duration": 0,
    "start_time": "2022-07-20T07:14:05.029Z"
   },
   {
    "duration": 13,
    "start_time": "2022-07-20T07:14:21.561Z"
   },
   {
    "duration": 5,
    "start_time": "2022-07-20T07:15:01.403Z"
   },
   {
    "duration": 156,
    "start_time": "2022-07-20T07:15:02.959Z"
   },
   {
    "duration": 6,
    "start_time": "2022-07-20T07:15:03.183Z"
   },
   {
    "duration": 1462,
    "start_time": "2022-07-20T07:19:16.826Z"
   },
   {
    "duration": 807,
    "start_time": "2022-07-20T07:19:18.290Z"
   },
   {
    "duration": 18,
    "start_time": "2022-07-20T07:19:19.099Z"
   },
   {
    "duration": 129,
    "start_time": "2022-07-20T07:19:19.119Z"
   },
   {
    "duration": 108,
    "start_time": "2022-07-20T07:19:19.250Z"
   },
   {
    "duration": 98,
    "start_time": "2022-07-20T07:19:19.359Z"
   },
   {
    "duration": 24,
    "start_time": "2022-07-20T07:19:19.458Z"
   },
   {
    "duration": 94,
    "start_time": "2022-07-20T07:19:19.484Z"
   },
   {
    "duration": 1077,
    "start_time": "2022-07-20T07:19:19.580Z"
   },
   {
    "duration": 16,
    "start_time": "2022-07-20T07:19:20.660Z"
   },
   {
    "duration": 38,
    "start_time": "2022-07-20T07:19:20.678Z"
   },
   {
    "duration": 698,
    "start_time": "2022-07-20T07:19:20.718Z"
   },
   {
    "duration": 4,
    "start_time": "2022-07-20T07:19:21.418Z"
   },
   {
    "duration": 2673,
    "start_time": "2022-07-20T07:19:21.423Z"
   },
   {
    "duration": 19512,
    "start_time": "2022-07-20T07:19:24.097Z"
   },
   {
    "duration": 97,
    "start_time": "2022-07-20T07:19:43.611Z"
   },
   {
    "duration": 96,
    "start_time": "2022-07-20T07:19:43.709Z"
   },
   {
    "duration": 3515,
    "start_time": "2022-07-20T07:19:43.807Z"
   },
   {
    "duration": 39,
    "start_time": "2022-07-20T07:19:47.324Z"
   },
   {
    "duration": 6,
    "start_time": "2022-07-20T07:19:47.365Z"
   },
   {
    "duration": 167045,
    "start_time": "2022-07-20T07:19:47.372Z"
   },
   {
    "duration": 499,
    "start_time": "2022-07-20T07:22:34.419Z"
   },
   {
    "duration": 5,
    "start_time": "2022-07-20T07:22:34.920Z"
   },
   {
    "duration": 8387,
    "start_time": "2022-07-20T07:22:34.927Z"
   },
   {
    "duration": 907,
    "start_time": "2022-07-20T07:22:43.316Z"
   },
   {
    "duration": 80,
    "start_time": "2022-07-20T07:22:44.225Z"
   },
   {
    "duration": 720,
    "start_time": "2022-07-20T07:22:44.306Z"
   },
   {
    "duration": 25,
    "start_time": "2022-07-20T07:22:45.029Z"
   },
   {
    "duration": 12,
    "start_time": "2022-07-20T07:22:45.055Z"
   },
   {
    "duration": 85,
    "start_time": "2022-07-20T07:22:45.068Z"
   },
   {
    "duration": 4,
    "start_time": "2022-07-20T07:22:45.155Z"
   },
   {
    "duration": 2518,
    "start_time": "2022-07-20T07:22:45.161Z"
   },
   {
    "duration": 19,
    "start_time": "2022-07-20T07:22:47.681Z"
   },
   {
    "duration": 6,
    "start_time": "2022-07-20T07:22:47.701Z"
   },
   {
    "duration": 198400,
    "start_time": "2022-07-20T07:22:47.709Z"
   },
   {
    "duration": 210,
    "start_time": "2022-07-20T07:26:06.110Z"
   },
   {
    "duration": 84,
    "start_time": "2022-07-20T07:26:06.321Z"
   },
   {
    "duration": 24,
    "start_time": "2022-07-20T07:26:06.407Z"
   },
   {
    "duration": 6,
    "start_time": "2022-07-20T07:26:06.503Z"
   },
   {
    "duration": 126,
    "start_time": "2022-07-20T07:26:06.511Z"
   },
   {
    "duration": 8,
    "start_time": "2022-07-20T07:26:06.639Z"
   },
   {
    "duration": 257,
    "start_time": "2022-07-20T07:26:06.649Z"
   },
   {
    "duration": 6,
    "start_time": "2022-07-20T07:26:06.908Z"
   },
   {
    "duration": 1965,
    "start_time": "2022-07-20T13:49:22.409Z"
   },
   {
    "duration": 3760,
    "start_time": "2022-07-20T13:49:24.376Z"
   },
   {
    "duration": 26,
    "start_time": "2022-07-20T13:49:28.140Z"
   },
   {
    "duration": 180,
    "start_time": "2022-07-20T13:49:28.169Z"
   },
   {
    "duration": 146,
    "start_time": "2022-07-20T13:49:28.352Z"
   },
   {
    "duration": 134,
    "start_time": "2022-07-20T13:49:28.507Z"
   },
   {
    "duration": 34,
    "start_time": "2022-07-20T13:49:28.648Z"
   },
   {
    "duration": 162,
    "start_time": "2022-07-20T13:49:28.684Z"
   },
   {
    "duration": 1195,
    "start_time": "2022-07-20T13:49:28.848Z"
   },
   {
    "duration": 23,
    "start_time": "2022-07-20T13:49:30.047Z"
   },
   {
    "duration": 158,
    "start_time": "2022-07-20T13:49:30.072Z"
   },
   {
    "duration": 0,
    "start_time": "2022-07-20T13:49:30.235Z"
   },
   {
    "duration": 0,
    "start_time": "2022-07-20T13:49:30.236Z"
   },
   {
    "duration": 0,
    "start_time": "2022-07-20T13:49:30.238Z"
   },
   {
    "duration": 0,
    "start_time": "2022-07-20T13:49:30.239Z"
   },
   {
    "duration": 0,
    "start_time": "2022-07-20T13:49:30.241Z"
   },
   {
    "duration": 0,
    "start_time": "2022-07-20T13:49:30.242Z"
   },
   {
    "duration": 0,
    "start_time": "2022-07-20T13:49:30.243Z"
   },
   {
    "duration": 0,
    "start_time": "2022-07-20T13:49:30.245Z"
   },
   {
    "duration": 0,
    "start_time": "2022-07-20T13:49:30.246Z"
   },
   {
    "duration": 0,
    "start_time": "2022-07-20T13:49:30.247Z"
   },
   {
    "duration": 0,
    "start_time": "2022-07-20T13:49:30.248Z"
   },
   {
    "duration": 0,
    "start_time": "2022-07-20T13:49:30.249Z"
   },
   {
    "duration": 0,
    "start_time": "2022-07-20T13:49:30.250Z"
   },
   {
    "duration": 0,
    "start_time": "2022-07-20T13:49:30.251Z"
   },
   {
    "duration": 0,
    "start_time": "2022-07-20T13:49:30.252Z"
   },
   {
    "duration": 0,
    "start_time": "2022-07-20T13:49:30.253Z"
   },
   {
    "duration": 0,
    "start_time": "2022-07-20T13:49:30.255Z"
   },
   {
    "duration": 0,
    "start_time": "2022-07-20T13:49:30.256Z"
   },
   {
    "duration": 0,
    "start_time": "2022-07-20T13:49:30.258Z"
   },
   {
    "duration": 0,
    "start_time": "2022-07-20T13:49:30.259Z"
   },
   {
    "duration": 0,
    "start_time": "2022-07-20T13:49:30.261Z"
   },
   {
    "duration": 0,
    "start_time": "2022-07-20T13:49:30.262Z"
   },
   {
    "duration": 0,
    "start_time": "2022-07-20T13:49:30.263Z"
   },
   {
    "duration": 0,
    "start_time": "2022-07-20T13:49:30.265Z"
   },
   {
    "duration": 0,
    "start_time": "2022-07-20T13:49:30.266Z"
   },
   {
    "duration": 0,
    "start_time": "2022-07-20T13:49:30.268Z"
   },
   {
    "duration": 0,
    "start_time": "2022-07-20T13:49:30.269Z"
   },
   {
    "duration": 1,
    "start_time": "2022-07-20T13:49:30.270Z"
   },
   {
    "duration": 0,
    "start_time": "2022-07-20T13:49:30.298Z"
   },
   {
    "duration": 0,
    "start_time": "2022-07-20T13:49:30.299Z"
   },
   {
    "duration": 0,
    "start_time": "2022-07-20T13:49:30.299Z"
   },
   {
    "duration": 0,
    "start_time": "2022-07-20T13:49:30.301Z"
   },
   {
    "duration": 0,
    "start_time": "2022-07-20T13:49:30.302Z"
   },
   {
    "duration": 1847,
    "start_time": "2022-07-20T13:49:50.254Z"
   },
   {
    "duration": 1207,
    "start_time": "2022-07-20T13:49:52.107Z"
   },
   {
    "duration": 34,
    "start_time": "2022-07-20T13:49:53.320Z"
   },
   {
    "duration": 211,
    "start_time": "2022-07-20T13:49:53.358Z"
   },
   {
    "duration": 221,
    "start_time": "2022-07-20T13:49:53.573Z"
   },
   {
    "duration": 175,
    "start_time": "2022-07-20T13:49:53.796Z"
   },
   {
    "duration": 43,
    "start_time": "2022-07-20T13:49:53.974Z"
   },
   {
    "duration": 187,
    "start_time": "2022-07-20T13:49:54.019Z"
   },
   {
    "duration": 1114,
    "start_time": "2022-07-20T13:49:54.209Z"
   },
   {
    "duration": 24,
    "start_time": "2022-07-20T13:49:55.326Z"
   },
   {
    "duration": 22,
    "start_time": "2022-07-20T13:49:55.351Z"
   },
   {
    "duration": 849,
    "start_time": "2022-07-20T13:49:55.376Z"
   },
   {
    "duration": 9,
    "start_time": "2022-07-20T13:49:56.227Z"
   },
   {
    "duration": 3086,
    "start_time": "2022-07-20T13:49:56.240Z"
   },
   {
    "duration": 86210,
    "start_time": "2022-07-20T13:49:59.336Z"
   },
   {
    "duration": 178,
    "start_time": "2022-07-20T13:51:25.553Z"
   },
   {
    "duration": 7,
    "start_time": "2022-07-20T13:51:25.797Z"
   },
   {
    "duration": 4744,
    "start_time": "2022-07-20T13:51:25.806Z"
   },
   {
    "duration": 65,
    "start_time": "2022-07-20T13:51:30.551Z"
   },
   {
    "duration": 7,
    "start_time": "2022-07-20T13:51:30.618Z"
   },
   {
    "duration": 4642981,
    "start_time": "2022-07-20T13:51:30.627Z"
   },
   {
    "duration": 609,
    "start_time": "2022-07-20T15:08:53.610Z"
   },
   {
    "duration": 7,
    "start_time": "2022-07-20T15:08:54.221Z"
   },
   {
    "duration": 496979,
    "start_time": "2022-07-20T15:08:54.230Z"
   },
   {
    "duration": 911,
    "start_time": "2022-07-20T15:17:11.217Z"
   },
   {
    "duration": 5,
    "start_time": "2022-07-20T15:17:12.129Z"
   },
   {
    "duration": 831,
    "start_time": "2022-07-20T15:17:12.198Z"
   },
   {
    "duration": 23,
    "start_time": "2022-07-20T15:17:13.031Z"
   },
   {
    "duration": 11,
    "start_time": "2022-07-20T15:17:13.056Z"
   },
   {
    "duration": 94,
    "start_time": "2022-07-20T15:17:13.068Z"
   },
   {
    "duration": 4,
    "start_time": "2022-07-20T15:17:13.164Z"
   },
   {
    "duration": 2455,
    "start_time": "2022-07-20T15:17:13.169Z"
   },
   {
    "duration": 18,
    "start_time": "2022-07-20T15:17:15.626Z"
   },
   {
    "duration": 6,
    "start_time": "2022-07-20T15:17:15.646Z"
   },
   {
    "duration": 5757751,
    "start_time": "2022-07-20T15:17:15.654Z"
   },
   {
    "duration": 291,
    "start_time": "2022-07-20T16:53:13.410Z"
   },
   {
    "duration": 7,
    "start_time": "2022-07-20T16:53:13.703Z"
   },
   {
    "duration": 97,
    "start_time": "2022-07-20T16:53:13.714Z"
   },
   {
    "duration": 6,
    "start_time": "2022-07-20T16:53:13.816Z"
   },
   {
    "duration": 109,
    "start_time": "2022-07-20T16:53:13.825Z"
   },
   {
    "duration": 6,
    "start_time": "2022-07-20T16:53:13.937Z"
   },
   {
    "duration": 276,
    "start_time": "2022-07-20T16:53:13.944Z"
   },
   {
    "duration": 7,
    "start_time": "2022-07-20T16:53:14.223Z"
   },
   {
    "duration": 1375,
    "start_time": "2022-07-20T19:55:41.554Z"
   },
   {
    "duration": 820,
    "start_time": "2022-07-20T19:55:43.577Z"
   },
   {
    "duration": 18,
    "start_time": "2022-07-20T19:55:44.399Z"
   },
   {
    "duration": 121,
    "start_time": "2022-07-20T19:55:44.512Z"
   },
   {
    "duration": 108,
    "start_time": "2022-07-20T19:55:47.356Z"
   },
   {
    "duration": 105,
    "start_time": "2022-07-20T19:55:48.888Z"
   },
   {
    "duration": 27,
    "start_time": "2022-07-20T19:55:49.913Z"
   },
   {
    "duration": 74,
    "start_time": "2022-07-20T19:55:51.862Z"
   },
   {
    "duration": 2,
    "start_time": "2022-07-20T19:55:52.651Z"
   },
   {
    "duration": 4,
    "start_time": "2022-07-20T19:57:23.714Z"
   },
   {
    "duration": 1607,
    "start_time": "2022-07-20T19:58:03.976Z"
   },
   {
    "duration": 1961,
    "start_time": "2022-07-20T19:58:13.712Z"
   },
   {
    "duration": 193,
    "start_time": "2022-07-20T19:58:58.330Z"
   },
   {
    "duration": 25,
    "start_time": "2022-07-20T19:59:04.567Z"
   },
   {
    "duration": 16,
    "start_time": "2022-07-20T19:59:12.505Z"
   },
   {
    "duration": 12,
    "start_time": "2022-07-20T19:59:24.851Z"
   },
   {
    "duration": 9,
    "start_time": "2022-07-20T19:59:26.293Z"
   },
   {
    "duration": 11,
    "start_time": "2022-07-20T19:59:29.641Z"
   },
   {
    "duration": 2,
    "start_time": "2022-07-20T19:59:50.202Z"
   },
   {
    "duration": 13,
    "start_time": "2022-07-20T19:59:52.796Z"
   },
   {
    "duration": 22,
    "start_time": "2022-07-20T19:59:53.257Z"
   },
   {
    "duration": 68,
    "start_time": "2022-07-20T19:59:55.986Z"
   },
   {
    "duration": 4,
    "start_time": "2022-07-20T19:59:57.131Z"
   },
   {
    "duration": 153,
    "start_time": "2022-07-20T19:59:59.802Z"
   },
   {
    "duration": 86,
    "start_time": "2022-07-20T20:00:12.841Z"
   },
   {
    "duration": 101,
    "start_time": "2022-07-20T20:00:21.201Z"
   },
   {
    "duration": 2346,
    "start_time": "2022-07-20T20:00:28.991Z"
   },
   {
    "duration": 139,
    "start_time": "2022-07-20T20:00:31.338Z"
   },
   {
    "duration": 9,
    "start_time": "2022-07-20T20:00:31.478Z"
   },
   {
    "duration": 7,
    "start_time": "2022-07-20T20:02:44.877Z"
   },
   {
    "duration": 716,
    "start_time": "2022-07-20T20:02:45.151Z"
   },
   {
    "duration": 180,
    "start_time": "2022-07-20T20:02:54.459Z"
   },
   {
    "duration": 1369,
    "start_time": "2022-07-20T20:03:48.005Z"
   },
   {
    "duration": 1234,
    "start_time": "2022-07-20T20:04:37.587Z"
   },
   {
    "duration": 1272,
    "start_time": "2022-07-20T20:04:48.379Z"
   },
   {
    "duration": 13,
    "start_time": "2022-07-20T20:04:58.051Z"
   },
   {
    "duration": 1996,
    "start_time": "2022-07-20T20:05:09.199Z"
   },
   {
    "duration": 1832,
    "start_time": "2022-07-20T20:05:27.457Z"
   },
   {
    "duration": 3,
    "start_time": "2022-07-20T20:05:38.316Z"
   },
   {
    "duration": 17,
    "start_time": "2022-07-20T20:05:39.756Z"
   },
   {
    "duration": 4,
    "start_time": "2022-07-20T20:06:01.061Z"
   },
   {
    "duration": 437,
    "start_time": "2022-07-20T20:06:03.992Z"
   },
   {
    "duration": 21,
    "start_time": "2022-07-20T20:06:05.887Z"
   },
   {
    "duration": 488,
    "start_time": "2022-07-20T20:06:48.552Z"
   },
   {
    "duration": 10,
    "start_time": "2022-07-20T20:06:53.709Z"
   },
   {
    "duration": 8,
    "start_time": "2022-07-20T20:07:01.698Z"
   },
   {
    "duration": 170,
    "start_time": "2022-07-20T20:07:06.842Z"
   },
   {
    "duration": 9,
    "start_time": "2022-07-20T20:07:07.390Z"
   },
   {
    "duration": 19,
    "start_time": "2022-07-20T20:07:09.257Z"
   },
   {
    "duration": 3,
    "start_time": "2022-07-20T20:07:13.675Z"
   },
   {
    "duration": 445,
    "start_time": "2022-07-20T20:07:14.549Z"
   },
   {
    "duration": 21,
    "start_time": "2022-07-20T20:07:15.402Z"
   },
   {
    "duration": 9,
    "start_time": "2022-07-20T20:07:25.673Z"
   },
   {
    "duration": 14,
    "start_time": "2022-07-20T20:07:44.387Z"
   },
   {
    "duration": 420,
    "start_time": "2022-07-20T20:09:42.276Z"
   },
   {
    "duration": 8,
    "start_time": "2022-07-20T20:09:43.446Z"
   },
   {
    "duration": 3,
    "start_time": "2022-07-20T20:10:29.542Z"
   },
   {
    "duration": 2,
    "start_time": "2022-07-20T20:12:15.793Z"
   },
   {
    "duration": 18,
    "start_time": "2022-07-20T20:12:51.145Z"
   },
   {
    "duration": 65,
    "start_time": "2022-07-20T20:13:02.108Z"
   },
   {
    "duration": 12,
    "start_time": "2022-07-20T20:13:13.467Z"
   },
   {
    "duration": 4,
    "start_time": "2022-07-20T20:13:26.943Z"
   },
   {
    "duration": 60,
    "start_time": "2022-07-20T20:13:32.431Z"
   },
   {
    "duration": 59,
    "start_time": "2022-07-20T20:14:51.327Z"
   },
   {
    "duration": 321,
    "start_time": "2022-07-20T20:15:39.540Z"
   },
   {
    "duration": 16,
    "start_time": "2022-07-20T20:15:44.442Z"
   },
   {
    "duration": 10,
    "start_time": "2022-07-20T20:15:49.812Z"
   },
   {
    "duration": 1472,
    "start_time": "2022-07-20T20:16:18.461Z"
   },
   {
    "duration": 828,
    "start_time": "2022-07-20T20:16:19.935Z"
   },
   {
    "duration": 20,
    "start_time": "2022-07-20T20:16:20.765Z"
   },
   {
    "duration": 139,
    "start_time": "2022-07-20T20:16:20.788Z"
   },
   {
    "duration": 118,
    "start_time": "2022-07-20T20:16:20.929Z"
   },
   {
    "duration": 109,
    "start_time": "2022-07-20T20:16:21.049Z"
   },
   {
    "duration": 27,
    "start_time": "2022-07-20T20:16:21.160Z"
   },
   {
    "duration": 74,
    "start_time": "2022-07-20T20:16:21.198Z"
   },
   {
    "duration": 211,
    "start_time": "2022-07-20T20:16:21.274Z"
   },
   {
    "duration": 1626,
    "start_time": "2022-07-20T20:16:21.489Z"
   },
   {
    "duration": 17,
    "start_time": "2022-07-20T20:16:23.117Z"
   },
   {
    "duration": 79,
    "start_time": "2022-07-20T20:16:23.136Z"
   },
   {
    "duration": 985,
    "start_time": "2022-07-20T20:16:23.217Z"
   },
   {
    "duration": 5,
    "start_time": "2022-07-20T20:16:24.204Z"
   },
   {
    "duration": 2705,
    "start_time": "2022-07-20T20:16:24.210Z"
   },
   {
    "duration": 24483,
    "start_time": "2022-07-20T20:16:26.917Z"
   },
   {
    "duration": 100,
    "start_time": "2022-07-20T20:16:51.402Z"
   },
   {
    "duration": 98,
    "start_time": "2022-07-20T20:16:51.503Z"
   },
   {
    "duration": 3269,
    "start_time": "2022-07-20T20:16:51.603Z"
   },
   {
    "duration": 39,
    "start_time": "2022-07-20T20:16:54.874Z"
   },
   {
    "duration": 5,
    "start_time": "2022-07-20T20:16:54.914Z"
   },
   {
    "duration": 31012,
    "start_time": "2022-07-20T20:16:54.921Z"
   },
   {
    "duration": 97,
    "start_time": "2022-07-20T20:17:25.935Z"
   },
   {
    "duration": 9,
    "start_time": "2022-07-20T20:17:26.034Z"
   },
   {
    "duration": 0,
    "start_time": "2022-07-20T20:17:26.046Z"
   },
   {
    "duration": 0,
    "start_time": "2022-07-20T20:17:26.046Z"
   },
   {
    "duration": 0,
    "start_time": "2022-07-20T20:17:26.048Z"
   },
   {
    "duration": 0,
    "start_time": "2022-07-20T20:17:26.049Z"
   },
   {
    "duration": 0,
    "start_time": "2022-07-20T20:17:26.050Z"
   },
   {
    "duration": 0,
    "start_time": "2022-07-20T20:17:26.051Z"
   },
   {
    "duration": 0,
    "start_time": "2022-07-20T20:17:26.051Z"
   },
   {
    "duration": 0,
    "start_time": "2022-07-20T20:17:26.052Z"
   },
   {
    "duration": 0,
    "start_time": "2022-07-20T20:17:26.053Z"
   },
   {
    "duration": 0,
    "start_time": "2022-07-20T20:17:26.055Z"
   },
   {
    "duration": 0,
    "start_time": "2022-07-20T20:17:26.056Z"
   },
   {
    "duration": 0,
    "start_time": "2022-07-20T20:17:26.057Z"
   },
   {
    "duration": 0,
    "start_time": "2022-07-20T20:17:26.058Z"
   },
   {
    "duration": 0,
    "start_time": "2022-07-20T20:17:26.059Z"
   },
   {
    "duration": 0,
    "start_time": "2022-07-20T20:17:26.060Z"
   },
   {
    "duration": 0,
    "start_time": "2022-07-20T20:17:26.061Z"
   },
   {
    "duration": 0,
    "start_time": "2022-07-20T20:17:26.062Z"
   },
   {
    "duration": 0,
    "start_time": "2022-07-20T20:17:26.062Z"
   },
   {
    "duration": 0,
    "start_time": "2022-07-20T20:17:26.063Z"
   },
   {
    "duration": 0,
    "start_time": "2022-07-20T20:17:26.064Z"
   },
   {
    "duration": 0,
    "start_time": "2022-07-20T20:17:26.065Z"
   },
   {
    "duration": 1955,
    "start_time": "2022-07-20T20:17:49.850Z"
   },
   {
    "duration": 1382,
    "start_time": "2022-07-20T20:17:51.807Z"
   },
   {
    "duration": 32,
    "start_time": "2022-07-20T20:17:53.191Z"
   },
   {
    "duration": 122,
    "start_time": "2022-07-20T20:17:53.225Z"
   },
   {
    "duration": 117,
    "start_time": "2022-07-20T20:17:53.348Z"
   },
   {
    "duration": 107,
    "start_time": "2022-07-20T20:17:53.466Z"
   },
   {
    "duration": 32,
    "start_time": "2022-07-20T20:17:53.575Z"
   },
   {
    "duration": 91,
    "start_time": "2022-07-20T20:17:53.609Z"
   },
   {
    "duration": 212,
    "start_time": "2022-07-20T20:17:53.702Z"
   },
   {
    "duration": 726,
    "start_time": "2022-07-20T20:17:53.917Z"
   },
   {
    "duration": 14,
    "start_time": "2022-07-20T20:17:54.645Z"
   },
   {
    "duration": 17,
    "start_time": "2022-07-20T20:17:54.661Z"
   },
   {
    "duration": 724,
    "start_time": "2022-07-20T20:17:54.679Z"
   },
   {
    "duration": 4,
    "start_time": "2022-07-20T20:17:55.405Z"
   },
   {
    "duration": 2759,
    "start_time": "2022-07-20T20:17:55.411Z"
   },
   {
    "duration": 22444,
    "start_time": "2022-07-20T20:17:58.171Z"
   },
   {
    "duration": 86,
    "start_time": "2022-07-20T20:18:20.617Z"
   },
   {
    "duration": 105,
    "start_time": "2022-07-20T20:18:20.707Z"
   },
   {
    "duration": 3928,
    "start_time": "2022-07-20T20:18:20.817Z"
   },
   {
    "duration": 42,
    "start_time": "2022-07-20T20:18:24.747Z"
   },
   {
    "duration": 6,
    "start_time": "2022-07-20T20:18:24.791Z"
   },
   {
    "duration": 406,
    "start_time": "2022-07-20T20:18:24.799Z"
   },
   {
    "duration": 3,
    "start_time": "2022-07-20T20:18:25.207Z"
   },
   {
    "duration": 27,
    "start_time": "2022-07-20T20:18:25.212Z"
   },
   {
    "duration": 9,
    "start_time": "2022-07-20T20:18:25.241Z"
   },
   {
    "duration": 136,
    "start_time": "2022-07-20T20:18:25.252Z"
   },
   {
    "duration": 10,
    "start_time": "2022-07-20T20:18:25.390Z"
   },
   {
    "duration": 2637,
    "start_time": "2022-07-20T20:18:25.404Z"
   },
   {
    "duration": 15,
    "start_time": "2022-07-20T20:18:28.043Z"
   },
   {
    "duration": 6,
    "start_time": "2022-07-20T20:18:28.059Z"
   },
   {
    "duration": 55150,
    "start_time": "2022-07-20T20:18:28.067Z"
   },
   {
    "duration": 83,
    "start_time": "2022-07-20T20:19:23.219Z"
   },
   {
    "duration": 11,
    "start_time": "2022-07-20T20:19:23.304Z"
   },
   {
    "duration": 0,
    "start_time": "2022-07-20T20:19:23.317Z"
   },
   {
    "duration": 0,
    "start_time": "2022-07-20T20:19:23.318Z"
   },
   {
    "duration": 0,
    "start_time": "2022-07-20T20:19:23.320Z"
   },
   {
    "duration": 0,
    "start_time": "2022-07-20T20:19:23.321Z"
   },
   {
    "duration": 0,
    "start_time": "2022-07-20T20:19:23.323Z"
   },
   {
    "duration": 0,
    "start_time": "2022-07-20T20:19:23.324Z"
   },
   {
    "duration": 95,
    "start_time": "2022-07-20T20:20:23.353Z"
   },
   {
    "duration": 1483,
    "start_time": "2022-07-20T20:22:27.896Z"
   },
   {
    "duration": 808,
    "start_time": "2022-07-20T20:22:29.381Z"
   },
   {
    "duration": 24,
    "start_time": "2022-07-20T20:22:30.191Z"
   },
   {
    "duration": 124,
    "start_time": "2022-07-20T20:22:30.216Z"
   },
   {
    "duration": 108,
    "start_time": "2022-07-20T20:22:30.343Z"
   },
   {
    "duration": 91,
    "start_time": "2022-07-20T20:22:30.453Z"
   },
   {
    "duration": 23,
    "start_time": "2022-07-20T20:22:30.546Z"
   },
   {
    "duration": 80,
    "start_time": "2022-07-20T20:22:30.570Z"
   },
   {
    "duration": 189,
    "start_time": "2022-07-20T20:22:30.652Z"
   },
   {
    "duration": 721,
    "start_time": "2022-07-20T20:22:30.843Z"
   },
   {
    "duration": 15,
    "start_time": "2022-07-20T20:22:31.565Z"
   },
   {
    "duration": 29,
    "start_time": "2022-07-20T20:22:31.582Z"
   },
   {
    "duration": 681,
    "start_time": "2022-07-20T20:22:31.612Z"
   },
   {
    "duration": 3,
    "start_time": "2022-07-20T20:22:32.296Z"
   },
   {
    "duration": 2648,
    "start_time": "2022-07-20T20:22:32.301Z"
   },
   {
    "duration": 18853,
    "start_time": "2022-07-20T20:22:34.951Z"
   },
   {
    "duration": 97,
    "start_time": "2022-07-20T20:22:53.806Z"
   },
   {
    "duration": 95,
    "start_time": "2022-07-20T20:22:53.905Z"
   },
   {
    "duration": 369,
    "start_time": "2022-07-20T20:22:54.002Z"
   },
   {
    "duration": 2,
    "start_time": "2022-07-20T20:22:54.373Z"
   },
   {
    "duration": 27,
    "start_time": "2022-07-20T20:22:54.377Z"
   },
   {
    "duration": 9,
    "start_time": "2022-07-20T20:22:54.406Z"
   },
   {
    "duration": 134,
    "start_time": "2022-07-20T20:22:54.417Z"
   },
   {
    "duration": 3,
    "start_time": "2022-07-20T20:22:54.553Z"
   },
   {
    "duration": 2253,
    "start_time": "2022-07-20T20:22:54.558Z"
   },
   {
    "duration": 20,
    "start_time": "2022-07-20T20:22:56.813Z"
   },
   {
    "duration": 7,
    "start_time": "2022-07-20T20:22:56.834Z"
   },
   {
    "duration": 84669,
    "start_time": "2022-07-20T20:22:56.843Z"
   },
   {
    "duration": 199,
    "start_time": "2022-07-20T20:24:21.514Z"
   },
   {
    "duration": 5,
    "start_time": "2022-07-20T20:24:21.799Z"
   },
   {
    "duration": 92,
    "start_time": "2022-07-20T20:24:21.806Z"
   },
   {
    "duration": 6,
    "start_time": "2022-07-20T20:24:21.900Z"
   },
   {
    "duration": 111,
    "start_time": "2022-07-20T20:24:21.907Z"
   },
   {
    "duration": 5,
    "start_time": "2022-07-20T20:24:22.019Z"
   },
   {
    "duration": 182,
    "start_time": "2022-07-20T20:24:22.025Z"
   },
   {
    "duration": 4,
    "start_time": "2022-07-20T20:24:22.209Z"
   }
  ],
  "kernelspec": {
   "display_name": "Python 3 (ipykernel)",
   "language": "python",
   "name": "python3"
  },
  "language_info": {
   "codemirror_mode": {
    "name": "ipython",
    "version": 3
   },
   "file_extension": ".py",
   "mimetype": "text/x-python",
   "name": "python",
   "nbconvert_exporter": "python",
   "pygments_lexer": "ipython3",
   "version": "3.9.13"
  },
  "toc": {
   "base_numbering": 1,
   "nav_menu": {},
   "number_sections": true,
   "sideBar": true,
   "skip_h1_title": true,
   "title_cell": "Table of Contents",
   "title_sidebar": "Contents",
   "toc_cell": false,
   "toc_position": {},
   "toc_section_display": true,
   "toc_window_display": true
  }
 },
 "nbformat": 4,
 "nbformat_minor": 2
}
