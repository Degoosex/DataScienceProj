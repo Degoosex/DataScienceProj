{
 "cells": [
  {
   "cell_type": "markdown",
   "metadata": {},
   "source": [
    "# Выбор локации для скважины"
   ]
  },
  {
   "cell_type": "markdown",
   "metadata": {},
   "source": [
    "Допустим, вы работаете в добывающей компании «ГлавРосГосНефть». Нужно решить, где бурить новую скважину.\n",
    "\n",
    "Вам предоставлены пробы нефти в трёх регионах: в каждом 10 000 месторождений, где измерили качество нефти и объём её запасов. Постройте модель машинного обучения, которая поможет определить регион, где добыча принесёт наибольшую прибыль. Проанализируйте возможную прибыль и риски техникой *Bootstrap.*\n",
    "\n",
    "Шаги для выбора локации:\n",
    "\n",
    "- В избранном регионе ищут месторождения, для каждого определяют значения признаков;\n",
    "- Строят модель и оценивают объём запасов;\n",
    "- Выбирают месторождения с самым высокими оценками значений. Количество месторождений зависит от бюджета компании и стоимости разработки одной скважины;\n",
    "- Прибыль равна суммарной прибыли отобранных месторождений."
   ]
  },
  {
   "cell_type": "markdown",
   "metadata": {},
   "source": [
    "# Описание данных\n",
    "Данные геологоразведки трёх регионов находятся в файлах:\\\n",
    "id — уникальный идентификатор скважины;\\\n",
    "f0, f1, f2 — три признака точек (неважно, что они означают, но сами признаки значимы);\\\n",
    "product — объём запасов в скважине (тыс. баррелей)."
   ]
  },
  {
   "cell_type": "markdown",
   "metadata": {},
   "source": [
    "Условия задачи:\\\n",
    "Для обучения модели подходит только линейная регрессия (остальные — недостаточно предсказуемые).\\\n",
    "При разведке региона исследуют 500 точек, из которых с помощью машинного обучения выбирают 200 лучших для разработки.\n",
    "Бюджет на разработку скважин в регионе — 10 млрд рублей.\\\n",
    "При нынешних ценах один баррель сырья приносит 450 рублей дохода. Доход с каждой единицы продукта составляет 450 тыс. рублей, поскольку объём указан в тысячах баррелей.\\\n",
    "После оценки рисков нужно оставить лишь те регионы, в которых вероятность убытков меньше 2.5%. Среди них выбирают регион с наибольшей средней прибылью.\\\n",
    "Данные синтетические: детали контрактов и характеристики месторождений не разглашаются."
   ]
  },
  {
   "cell_type": "markdown",
   "metadata": {},
   "source": [
    "## Загрузка и подготовка данных"
   ]
  },
  {
   "cell_type": "markdown",
   "metadata": {},
   "source": [
    "Импортируем необходимые библиотеки для нашего исследования и предоставленные файлы"
   ]
  },
  {
   "cell_type": "code",
   "execution_count": 1,
   "metadata": {},
   "outputs": [],
   "source": [
    "import pandas as pd\n",
    "import numpy as np\n",
    "import matplotlib.pyplot as plt\n",
    "import math\n",
    "%matplotlib inline\n",
    "from scipy import stats as st\n",
    "from numpy.random import RandomState\n",
    "pd.options.display.float_format = '{:,.2f}'.format\n",
    "from sklearn.linear_model import LinearRegression\n",
    "from sklearn.model_selection import train_test_split\n",
    "from sklearn.preprocessing import StandardScaler\n",
    "from sklearn.metrics import mean_squared_error, mean_absolute_error, r2_score\n",
    "from scipy import stats as st\n",
    "pd.options.mode.chained_assignment = None"
   ]
  },
  {
   "cell_type": "code",
   "execution_count": 2,
   "metadata": {},
   "outputs": [],
   "source": [
    "data_1 = pd.read_csv('/datasets/geo_data_0.csv') \n",
    "data_2 = pd.read_csv('/datasets/geo_data_1.csv') \n",
    "data_3 = pd.read_csv('/datasets/geo_data_2.csv') "
   ]
  },
  {
   "cell_type": "markdown",
   "metadata": {},
   "source": [
    "Посмотрим общую информацию и распечатает по 10 строк из каждой таблицы."
   ]
  },
  {
   "cell_type": "code",
   "execution_count": 3,
   "metadata": {},
   "outputs": [
    {
     "data": {
      "text/html": [
       "<div>\n",
       "<style scoped>\n",
       "    .dataframe tbody tr th:only-of-type {\n",
       "        vertical-align: middle;\n",
       "    }\n",
       "\n",
       "    .dataframe tbody tr th {\n",
       "        vertical-align: top;\n",
       "    }\n",
       "\n",
       "    .dataframe thead th {\n",
       "        text-align: right;\n",
       "    }\n",
       "</style>\n",
       "<table border=\"1\" class=\"dataframe\">\n",
       "  <thead>\n",
       "    <tr style=\"text-align: right;\">\n",
       "      <th></th>\n",
       "      <th>id</th>\n",
       "      <th>f0</th>\n",
       "      <th>f1</th>\n",
       "      <th>f2</th>\n",
       "      <th>product</th>\n",
       "    </tr>\n",
       "  </thead>\n",
       "  <tbody>\n",
       "    <tr>\n",
       "      <th>0</th>\n",
       "      <td>txEyH</td>\n",
       "      <td>0.71</td>\n",
       "      <td>-0.50</td>\n",
       "      <td>1.22</td>\n",
       "      <td>105.28</td>\n",
       "    </tr>\n",
       "    <tr>\n",
       "      <th>1</th>\n",
       "      <td>2acmU</td>\n",
       "      <td>1.33</td>\n",
       "      <td>-0.34</td>\n",
       "      <td>4.37</td>\n",
       "      <td>73.04</td>\n",
       "    </tr>\n",
       "    <tr>\n",
       "      <th>2</th>\n",
       "      <td>409Wp</td>\n",
       "      <td>1.02</td>\n",
       "      <td>0.15</td>\n",
       "      <td>1.42</td>\n",
       "      <td>85.27</td>\n",
       "    </tr>\n",
       "    <tr>\n",
       "      <th>3</th>\n",
       "      <td>iJLyR</td>\n",
       "      <td>-0.03</td>\n",
       "      <td>0.14</td>\n",
       "      <td>2.98</td>\n",
       "      <td>168.62</td>\n",
       "    </tr>\n",
       "    <tr>\n",
       "      <th>4</th>\n",
       "      <td>Xdl7t</td>\n",
       "      <td>1.99</td>\n",
       "      <td>0.16</td>\n",
       "      <td>4.75</td>\n",
       "      <td>154.04</td>\n",
       "    </tr>\n",
       "    <tr>\n",
       "      <th>5</th>\n",
       "      <td>wX4Hy</td>\n",
       "      <td>0.97</td>\n",
       "      <td>0.49</td>\n",
       "      <td>-0.74</td>\n",
       "      <td>64.74</td>\n",
       "    </tr>\n",
       "    <tr>\n",
       "      <th>6</th>\n",
       "      <td>tL6pL</td>\n",
       "      <td>0.65</td>\n",
       "      <td>0.53</td>\n",
       "      <td>1.78</td>\n",
       "      <td>49.06</td>\n",
       "    </tr>\n",
       "    <tr>\n",
       "      <th>7</th>\n",
       "      <td>BYPU6</td>\n",
       "      <td>-0.40</td>\n",
       "      <td>0.81</td>\n",
       "      <td>-5.62</td>\n",
       "      <td>72.94</td>\n",
       "    </tr>\n",
       "    <tr>\n",
       "      <th>8</th>\n",
       "      <td>j9Oui</td>\n",
       "      <td>0.64</td>\n",
       "      <td>-0.55</td>\n",
       "      <td>2.37</td>\n",
       "      <td>113.36</td>\n",
       "    </tr>\n",
       "    <tr>\n",
       "      <th>9</th>\n",
       "      <td>OLuZU</td>\n",
       "      <td>2.17</td>\n",
       "      <td>0.56</td>\n",
       "      <td>9.44</td>\n",
       "      <td>127.91</td>\n",
       "    </tr>\n",
       "  </tbody>\n",
       "</table>\n",
       "</div>"
      ],
      "text/plain": [
       "      id    f0    f1    f2  product\n",
       "0  txEyH  0.71 -0.50  1.22   105.28\n",
       "1  2acmU  1.33 -0.34  4.37    73.04\n",
       "2  409Wp  1.02  0.15  1.42    85.27\n",
       "3  iJLyR -0.03  0.14  2.98   168.62\n",
       "4  Xdl7t  1.99  0.16  4.75   154.04\n",
       "5  wX4Hy  0.97  0.49 -0.74    64.74\n",
       "6  tL6pL  0.65  0.53  1.78    49.06\n",
       "7  BYPU6 -0.40  0.81 -5.62    72.94\n",
       "8  j9Oui  0.64 -0.55  2.37   113.36\n",
       "9  OLuZU  2.17  0.56  9.44   127.91"
      ]
     },
     "execution_count": 3,
     "metadata": {},
     "output_type": "execute_result"
    }
   ],
   "source": [
    "data_1.head(10) # выведем первые 10 строк"
   ]
  },
  {
   "cell_type": "code",
   "execution_count": 4,
   "metadata": {},
   "outputs": [
    {
     "name": "stdout",
     "output_type": "stream",
     "text": [
      "<class 'pandas.core.frame.DataFrame'>\n",
      "RangeIndex: 100000 entries, 0 to 99999\n",
      "Data columns (total 5 columns):\n",
      " #   Column   Non-Null Count   Dtype  \n",
      "---  ------   --------------   -----  \n",
      " 0   id       100000 non-null  object \n",
      " 1   f0       100000 non-null  float64\n",
      " 2   f1       100000 non-null  float64\n",
      " 3   f2       100000 non-null  float64\n",
      " 4   product  100000 non-null  float64\n",
      "dtypes: float64(4), object(1)\n",
      "memory usage: 3.8+ MB\n"
     ]
    }
   ],
   "source": [
    "data_1.info() # выводим информацию о датасете"
   ]
  },
  {
   "cell_type": "code",
   "execution_count": 5,
   "metadata": {},
   "outputs": [
    {
     "data": {
      "text/plain": [
       "0"
      ]
     },
     "execution_count": 5,
     "metadata": {},
     "output_type": "execute_result"
    }
   ],
   "source": [
    "data_1.duplicated().sum() # проверка на дубликаты"
   ]
  },
  {
   "cell_type": "code",
   "execution_count": 6,
   "metadata": {},
   "outputs": [
    {
     "data": {
      "text/html": [
       "<div>\n",
       "<style scoped>\n",
       "    .dataframe tbody tr th:only-of-type {\n",
       "        vertical-align: middle;\n",
       "    }\n",
       "\n",
       "    .dataframe tbody tr th {\n",
       "        vertical-align: top;\n",
       "    }\n",
       "\n",
       "    .dataframe thead th {\n",
       "        text-align: right;\n",
       "    }\n",
       "</style>\n",
       "<table border=\"1\" class=\"dataframe\">\n",
       "  <thead>\n",
       "    <tr style=\"text-align: right;\">\n",
       "      <th></th>\n",
       "      <th>id</th>\n",
       "      <th>f0</th>\n",
       "      <th>f1</th>\n",
       "      <th>f2</th>\n",
       "      <th>product</th>\n",
       "    </tr>\n",
       "  </thead>\n",
       "  <tbody>\n",
       "    <tr>\n",
       "      <th>0</th>\n",
       "      <td>kBEdx</td>\n",
       "      <td>-15.00</td>\n",
       "      <td>-8.28</td>\n",
       "      <td>-0.01</td>\n",
       "      <td>3.18</td>\n",
       "    </tr>\n",
       "    <tr>\n",
       "      <th>1</th>\n",
       "      <td>62mP7</td>\n",
       "      <td>14.27</td>\n",
       "      <td>-3.48</td>\n",
       "      <td>1.00</td>\n",
       "      <td>26.95</td>\n",
       "    </tr>\n",
       "    <tr>\n",
       "      <th>2</th>\n",
       "      <td>vyE1P</td>\n",
       "      <td>6.26</td>\n",
       "      <td>-5.95</td>\n",
       "      <td>5.00</td>\n",
       "      <td>134.77</td>\n",
       "    </tr>\n",
       "    <tr>\n",
       "      <th>3</th>\n",
       "      <td>KcrkZ</td>\n",
       "      <td>-13.08</td>\n",
       "      <td>-11.51</td>\n",
       "      <td>5.00</td>\n",
       "      <td>137.95</td>\n",
       "    </tr>\n",
       "    <tr>\n",
       "      <th>4</th>\n",
       "      <td>AHL4O</td>\n",
       "      <td>12.70</td>\n",
       "      <td>-8.15</td>\n",
       "      <td>5.00</td>\n",
       "      <td>134.77</td>\n",
       "    </tr>\n",
       "    <tr>\n",
       "      <th>5</th>\n",
       "      <td>HHckp</td>\n",
       "      <td>-3.33</td>\n",
       "      <td>-2.21</td>\n",
       "      <td>3.00</td>\n",
       "      <td>84.04</td>\n",
       "    </tr>\n",
       "    <tr>\n",
       "      <th>6</th>\n",
       "      <td>h5Ujo</td>\n",
       "      <td>-11.14</td>\n",
       "      <td>-10.13</td>\n",
       "      <td>4.00</td>\n",
       "      <td>110.99</td>\n",
       "    </tr>\n",
       "    <tr>\n",
       "      <th>7</th>\n",
       "      <td>muH9x</td>\n",
       "      <td>4.23</td>\n",
       "      <td>-0.00</td>\n",
       "      <td>2.00</td>\n",
       "      <td>53.91</td>\n",
       "    </tr>\n",
       "    <tr>\n",
       "      <th>8</th>\n",
       "      <td>YiRkx</td>\n",
       "      <td>13.36</td>\n",
       "      <td>-0.33</td>\n",
       "      <td>5.00</td>\n",
       "      <td>134.77</td>\n",
       "    </tr>\n",
       "    <tr>\n",
       "      <th>9</th>\n",
       "      <td>jG6Gi</td>\n",
       "      <td>1.07</td>\n",
       "      <td>-11.03</td>\n",
       "      <td>5.00</td>\n",
       "      <td>137.95</td>\n",
       "    </tr>\n",
       "  </tbody>\n",
       "</table>\n",
       "</div>"
      ],
      "text/plain": [
       "      id     f0     f1    f2  product\n",
       "0  kBEdx -15.00  -8.28 -0.01     3.18\n",
       "1  62mP7  14.27  -3.48  1.00    26.95\n",
       "2  vyE1P   6.26  -5.95  5.00   134.77\n",
       "3  KcrkZ -13.08 -11.51  5.00   137.95\n",
       "4  AHL4O  12.70  -8.15  5.00   134.77\n",
       "5  HHckp  -3.33  -2.21  3.00    84.04\n",
       "6  h5Ujo -11.14 -10.13  4.00   110.99\n",
       "7  muH9x   4.23  -0.00  2.00    53.91\n",
       "8  YiRkx  13.36  -0.33  5.00   134.77\n",
       "9  jG6Gi   1.07 -11.03  5.00   137.95"
      ]
     },
     "execution_count": 6,
     "metadata": {},
     "output_type": "execute_result"
    }
   ],
   "source": [
    "data_2.head(10) # выведем первые 10 строк"
   ]
  },
  {
   "cell_type": "code",
   "execution_count": 7,
   "metadata": {},
   "outputs": [
    {
     "name": "stdout",
     "output_type": "stream",
     "text": [
      "<class 'pandas.core.frame.DataFrame'>\n",
      "RangeIndex: 100000 entries, 0 to 99999\n",
      "Data columns (total 5 columns):\n",
      " #   Column   Non-Null Count   Dtype  \n",
      "---  ------   --------------   -----  \n",
      " 0   id       100000 non-null  object \n",
      " 1   f0       100000 non-null  float64\n",
      " 2   f1       100000 non-null  float64\n",
      " 3   f2       100000 non-null  float64\n",
      " 4   product  100000 non-null  float64\n",
      "dtypes: float64(4), object(1)\n",
      "memory usage: 3.8+ MB\n"
     ]
    }
   ],
   "source": [
    "data_2.info() # выводим информацию о датасете"
   ]
  },
  {
   "cell_type": "code",
   "execution_count": 8,
   "metadata": {
    "scrolled": true
   },
   "outputs": [
    {
     "data": {
      "text/plain": [
       "0"
      ]
     },
     "execution_count": 8,
     "metadata": {},
     "output_type": "execute_result"
    }
   ],
   "source": [
    "data_2.duplicated().sum() # проверка на дубликаты"
   ]
  },
  {
   "cell_type": "code",
   "execution_count": 9,
   "metadata": {},
   "outputs": [
    {
     "data": {
      "text/html": [
       "<div>\n",
       "<style scoped>\n",
       "    .dataframe tbody tr th:only-of-type {\n",
       "        vertical-align: middle;\n",
       "    }\n",
       "\n",
       "    .dataframe tbody tr th {\n",
       "        vertical-align: top;\n",
       "    }\n",
       "\n",
       "    .dataframe thead th {\n",
       "        text-align: right;\n",
       "    }\n",
       "</style>\n",
       "<table border=\"1\" class=\"dataframe\">\n",
       "  <thead>\n",
       "    <tr style=\"text-align: right;\">\n",
       "      <th></th>\n",
       "      <th>id</th>\n",
       "      <th>f0</th>\n",
       "      <th>f1</th>\n",
       "      <th>f2</th>\n",
       "      <th>product</th>\n",
       "    </tr>\n",
       "  </thead>\n",
       "  <tbody>\n",
       "    <tr>\n",
       "      <th>0</th>\n",
       "      <td>fwXo0</td>\n",
       "      <td>-1.15</td>\n",
       "      <td>0.96</td>\n",
       "      <td>-0.83</td>\n",
       "      <td>27.76</td>\n",
       "    </tr>\n",
       "    <tr>\n",
       "      <th>1</th>\n",
       "      <td>WJtFt</td>\n",
       "      <td>0.26</td>\n",
       "      <td>0.27</td>\n",
       "      <td>-2.53</td>\n",
       "      <td>56.07</td>\n",
       "    </tr>\n",
       "    <tr>\n",
       "      <th>2</th>\n",
       "      <td>ovLUW</td>\n",
       "      <td>0.19</td>\n",
       "      <td>0.29</td>\n",
       "      <td>-5.59</td>\n",
       "      <td>62.87</td>\n",
       "    </tr>\n",
       "    <tr>\n",
       "      <th>3</th>\n",
       "      <td>q6cA6</td>\n",
       "      <td>2.24</td>\n",
       "      <td>-0.55</td>\n",
       "      <td>0.93</td>\n",
       "      <td>114.57</td>\n",
       "    </tr>\n",
       "    <tr>\n",
       "      <th>4</th>\n",
       "      <td>WPMUX</td>\n",
       "      <td>-0.52</td>\n",
       "      <td>1.72</td>\n",
       "      <td>5.90</td>\n",
       "      <td>149.60</td>\n",
       "    </tr>\n",
       "    <tr>\n",
       "      <th>5</th>\n",
       "      <td>LzZXx</td>\n",
       "      <td>-0.76</td>\n",
       "      <td>0.71</td>\n",
       "      <td>2.59</td>\n",
       "      <td>90.22</td>\n",
       "    </tr>\n",
       "    <tr>\n",
       "      <th>6</th>\n",
       "      <td>WBHRv</td>\n",
       "      <td>-0.57</td>\n",
       "      <td>0.32</td>\n",
       "      <td>1.77</td>\n",
       "      <td>45.64</td>\n",
       "    </tr>\n",
       "    <tr>\n",
       "      <th>7</th>\n",
       "      <td>XO8fn</td>\n",
       "      <td>-1.91</td>\n",
       "      <td>-2.46</td>\n",
       "      <td>-0.18</td>\n",
       "      <td>72.48</td>\n",
       "    </tr>\n",
       "    <tr>\n",
       "      <th>8</th>\n",
       "      <td>ybmQ5</td>\n",
       "      <td>1.78</td>\n",
       "      <td>-0.28</td>\n",
       "      <td>3.00</td>\n",
       "      <td>106.62</td>\n",
       "    </tr>\n",
       "    <tr>\n",
       "      <th>9</th>\n",
       "      <td>OilcN</td>\n",
       "      <td>-1.21</td>\n",
       "      <td>-0.44</td>\n",
       "      <td>5.92</td>\n",
       "      <td>52.95</td>\n",
       "    </tr>\n",
       "  </tbody>\n",
       "</table>\n",
       "</div>"
      ],
      "text/plain": [
       "      id    f0    f1    f2  product\n",
       "0  fwXo0 -1.15  0.96 -0.83    27.76\n",
       "1  WJtFt  0.26  0.27 -2.53    56.07\n",
       "2  ovLUW  0.19  0.29 -5.59    62.87\n",
       "3  q6cA6  2.24 -0.55  0.93   114.57\n",
       "4  WPMUX -0.52  1.72  5.90   149.60\n",
       "5  LzZXx -0.76  0.71  2.59    90.22\n",
       "6  WBHRv -0.57  0.32  1.77    45.64\n",
       "7  XO8fn -1.91 -2.46 -0.18    72.48\n",
       "8  ybmQ5  1.78 -0.28  3.00   106.62\n",
       "9  OilcN -1.21 -0.44  5.92    52.95"
      ]
     },
     "execution_count": 9,
     "metadata": {},
     "output_type": "execute_result"
    }
   ],
   "source": [
    "data_3.head(10) # выведем первые 10 строк"
   ]
  },
  {
   "cell_type": "code",
   "execution_count": 10,
   "metadata": {},
   "outputs": [
    {
     "name": "stdout",
     "output_type": "stream",
     "text": [
      "<class 'pandas.core.frame.DataFrame'>\n",
      "RangeIndex: 100000 entries, 0 to 99999\n",
      "Data columns (total 5 columns):\n",
      " #   Column   Non-Null Count   Dtype  \n",
      "---  ------   --------------   -----  \n",
      " 0   id       100000 non-null  object \n",
      " 1   f0       100000 non-null  float64\n",
      " 2   f1       100000 non-null  float64\n",
      " 3   f2       100000 non-null  float64\n",
      " 4   product  100000 non-null  float64\n",
      "dtypes: float64(4), object(1)\n",
      "memory usage: 3.8+ MB\n"
     ]
    }
   ],
   "source": [
    "data_3.info() # выводим информацию о датасете"
   ]
  },
  {
   "cell_type": "code",
   "execution_count": 11,
   "metadata": {
    "scrolled": true
   },
   "outputs": [
    {
     "data": {
      "text/plain": [
       "0"
      ]
     },
     "execution_count": 11,
     "metadata": {},
     "output_type": "execute_result"
    }
   ],
   "source": [
    "data_3.duplicated().sum() # проверка на дубликаты"
   ]
  },
  {
   "cell_type": "markdown",
   "metadata": {},
   "source": [
    "Просмотрев данные видим, что пропуски отсутствуют, дубликаты отсутствуют, типы данных верные, будем двигаться дальше."
   ]
  },
  {
   "cell_type": "markdown",
   "metadata": {},
   "source": [
    "## Обучение и проверка модели"
   ]
  },
  {
   "cell_type": "markdown",
   "metadata": {},
   "source": [
    "Сперва нам необходимо разбить данные на обучающую и валидационную выборки. В задании нам приведен масштаб 75 на 25. Далее сделаем признаки взвешеными и после этого обучим модель линейной регрессии. Чтобы сделать удобно для трех таблиц сразу сделаем функцию, которая принимает на вход нужные данные и на выходе печатает средний запас предсказанного сырья, RMSE и реального сырья."
   ]
  },
  {
   "cell_type": "code",
   "execution_count": 12,
   "metadata": {},
   "outputs": [],
   "source": [
    "# создадим функцию\n",
    "def region_linear_model(data):\n",
    "    data_valid, data_train = train_test_split(data, test_size=0.75, random_state=12345)\n",
    "    features_train = data_train.drop(['product', 'id'], axis=1)\n",
    "    target_train = data_train['product']\n",
    "    features_valid = data_valid.drop(['product', 'id'], axis=1)\n",
    "    target_valid = data_valid['product']\n",
    "    numeric = ['f0', 'f1', 'f2']\n",
    "    scaler = StandardScaler() \n",
    "    scaler.fit(features_train[numeric])\n",
    "    features_train[numeric] = scaler.transform(features_train[numeric]) \n",
    "    features_valid[numeric] = scaler.transform(features_valid[numeric])\n",
    "    model = LinearRegression() \n",
    "    model.fit(features_train, target_train) \n",
    "    predictions_valid = model.predict(features_valid) \n",
    "    rmse = mean_squared_error(target_valid, predictions_valid)**0.5\n",
    "    result = np.zeros(shape=(len(predictions_valid), 2))\n",
    "    result[:, 0] = target_valid\n",
    "    result[:, 1] = predictions_valid\n",
    "    print('Средний запас сырья:', target_valid.mean())\n",
    "    print('Предсказанный cредний запас сырья:', predictions_valid.mean())\n",
    "    print('Корень среднеквадратичной ошибки RMSE:', rmse)\n",
    "    print('Среднее абсолютное отклонение MAE:', mean_absolute_error(target_valid, predictions_valid))\n",
    "    return result"
   ]
  },
  {
   "cell_type": "code",
   "execution_count": 13,
   "metadata": {
    "scrolled": true
   },
   "outputs": [
    {
     "name": "stdout",
     "output_type": "stream",
     "text": [
      "Средний запас сырья: 92.87310438882189\n",
      "Предсказанный cредний запас сырья: 92.68042230714772\n",
      "Корень среднеквадратичной ошибки RMSE: 37.68019646464799\n",
      "Среднее абсолютное отклонение MAE: 30.998255825289256\n"
     ]
    }
   ],
   "source": [
    "region_predictions_1 = region_linear_model(data_1) # распечатаем результаты и сохраним отдельно таблицы для будущих расчетов\n",
    "data_1_values = pd.DataFrame(region_predictions_1)\n",
    "data_1_values.columns = ['target', 'predicted']"
   ]
  },
  {
   "cell_type": "code",
   "execution_count": 14,
   "metadata": {},
   "outputs": [
    {
     "name": "stdout",
     "output_type": "stream",
     "text": [
      "Средний запас сырья: 68.85836122606449\n",
      "Предсказанный cредний запас сырья: 68.85982082622293\n",
      "Корень среднеквадратичной ошибки RMSE: 0.8873287354658539\n",
      "Среднее абсолютное отклонение MAE: 0.7158667523420444\n"
     ]
    }
   ],
   "source": [
    "region_predictions_2 = region_linear_model(data_2)\n",
    "data_2_values = pd.DataFrame(region_predictions_2)\n",
    "data_2_values.columns = ['target', 'predicted']"
   ]
  },
  {
   "cell_type": "code",
   "execution_count": 15,
   "metadata": {},
   "outputs": [
    {
     "name": "stdout",
     "output_type": "stream",
     "text": [
      "Средний запас сырья: 95.01017700303149\n",
      "Предсказанный cредний запас сырья: 95.06093851120133\n",
      "Корень среднеквадратичной ошибки RMSE: 40.11167877627781\n",
      "Среднее абсолютное отклонение MAE: 32.905615384278285\n"
     ]
    }
   ],
   "source": [
    "region_predictions_3 = region_linear_model(data_3)\n",
    "data_3_values = pd.DataFrame(region_predictions_3)\n",
    "data_3_values.columns = ['target', 'predicted']"
   ]
  },
  {
   "cell_type": "markdown",
   "metadata": {},
   "source": [
    "Анализируя модели можно увидеть, что у первой и третьей показатель средней ошибки большой 37 и 32 соотв, зато у второй модели показатель самый низкий - 0,88. Показатель средней абсолютной так же большой в первой и третьей, а во второй близок к средней квадратичной. Запасы сырья во всех случаях предсказаны примерно одинаково на валидацонных выборках."
   ]
  },
  {
   "cell_type": "markdown",
   "metadata": {},
   "source": [
    "## Подготовка к расчёту прибыли"
   ]
  },
  {
   "cell_type": "markdown",
   "metadata": {},
   "source": [
    "Рассчитаем необходимый минимальный объём запасов сырья для безубыточной добыми и сравним со средними запасами во всех регионах."
   ]
  },
  {
   "cell_type": "code",
   "execution_count": 16,
   "metadata": {},
   "outputs": [
    {
     "data": {
      "text/plain": [
       "92.50000000000001"
      ]
     },
     "execution_count": 16,
     "metadata": {},
     "output_type": "execute_result"
    }
   ],
   "source": [
    "data_1['product'].mean() # средний запас в регионе 1"
   ]
  },
  {
   "cell_type": "code",
   "execution_count": 17,
   "metadata": {},
   "outputs": [
    {
     "data": {
      "text/plain": [
       "68.82500000000002"
      ]
     },
     "execution_count": 17,
     "metadata": {},
     "output_type": "execute_result"
    }
   ],
   "source": [
    "data_2['product'].mean() # средний запас в регионе 2"
   ]
  },
  {
   "cell_type": "code",
   "execution_count": 18,
   "metadata": {},
   "outputs": [
    {
     "data": {
      "text/plain": [
       "95.00000000000004"
      ]
     },
     "execution_count": 18,
     "metadata": {},
     "output_type": "execute_result"
    }
   ],
   "source": [
    "data_3['product'].mean() # средний запас в регионе 3"
   ]
  },
  {
   "cell_type": "code",
   "execution_count": 19,
   "metadata": {},
   "outputs": [
    {
     "name": "stdout",
     "output_type": "stream",
     "text": [
      "Минимальный объём сырья для безубыточной разработки: 112\n"
     ]
    }
   ],
   "source": [
    "# рассчет среднего безубыточного объема запасов\n",
    "drill_points = 200\n",
    "n_drills = 500\n",
    "budget = 10000000000\n",
    "one_product_price = 450000\n",
    "product_needed = budget / one_product_price / drill_points\n",
    "print('Минимальный объём сырья для безубыточной разработки:', math.ceil(product_needed))"
   ]
  },
  {
   "cell_type": "markdown",
   "metadata": {},
   "source": [
    "В регионах среднее запасов меньше, чем бюджет на безубыточную разработку, поэтому для поиска скважит нужно выбрать лучшие. Для безубыточной добычи из 200 точек нам необходим объем в среднем 112 на каждую."
   ]
  },
  {
   "cell_type": "markdown",
   "metadata": {},
   "source": [
    "## Расчёт прибыли и рисков "
   ]
  },
  {
   "cell_type": "markdown",
   "metadata": {},
   "source": [
    "Сначала создадим функцию для рассчета прибыли, затем используем Bootstrap для анализа прибыли и рисков."
   ]
  },
  {
   "cell_type": "code",
   "execution_count": 20,
   "metadata": {},
   "outputs": [],
   "source": [
    "# функция расчета выручки\n",
    "def profit(target, probabilities, count):\n",
    "    probs_sorted = probabilities.sort_values(ascending=False)\n",
    "    selected = target[probs_sorted.index][:count]\n",
    "    income_top = one_product_price * selected.sum()\n",
    "    \n",
    "    return income_top - budget"
   ]
  },
  {
   "cell_type": "code",
   "execution_count": 37,
   "metadata": {},
   "outputs": [],
   "source": [
    "# функция метода bootstrap\n",
    "def bootstrap(target, predictions):\n",
    "\n",
    "    state = np.random.RandomState(12345)\n",
    "    bootstrap_samples = 1000 \n",
    "    \n",
    "    values = []\n",
    "    target = target.reset_index(drop=True)\n",
    "    count = 0 \n",
    "    \n",
    "    for i in range(bootstrap_samples):\n",
    "        target_subsample = target.sample(n=500, replace=True, random_state=state) \n",
    "        probs_subsample = pd.Series(predictions)[target_subsample.index]\n",
    "        profit_sum = profit(target_subsample, probs_subsample, 200)\n",
    "     \n",
    "        \n",
    "        if profit_sum < 0:\n",
    "            count += 1\n",
    "        values.append(profit_sum)\n",
    "                \n",
    "    values = pd.Series(values)\n",
    "    lower = values.quantile(0.025) \n",
    "    upper = values.quantile(0.975) \n",
    "    profit_mean = values.mean()\n",
    "    risk = (count / bootstrap_samples) * 100 \n",
    "    return lower, upper, profit_mean, risk"
   ]
  },
  {
   "cell_type": "code",
   "execution_count": 38,
   "metadata": {
    "scrolled": true
   },
   "outputs": [],
   "source": [
    "# используем функцию к каждому району\n",
    "lower_1, upper_1, profit_mean_1, risk_1 = bootstrap(data_1_values['target'], data_1_values['predicted'])\n",
    "lower_2, upper_2, profit_mean_2, risk_2 = bootstrap(data_2_values['target'], data_2_values['predicted'])\n",
    "lower_3, upper_3, profit_mean_3, risk_3 = bootstrap(data_3_values['target'], data_3_values['predicted'])"
   ]
  },
  {
   "cell_type": "code",
   "execution_count": 40,
   "metadata": {},
   "outputs": [
    {
     "data": {
      "text/html": [
       "<div>\n",
       "<style scoped>\n",
       "    .dataframe tbody tr th:only-of-type {\n",
       "        vertical-align: middle;\n",
       "    }\n",
       "\n",
       "    .dataframe tbody tr th {\n",
       "        vertical-align: top;\n",
       "    }\n",
       "\n",
       "    .dataframe thead th {\n",
       "        text-align: right;\n",
       "    }\n",
       "</style>\n",
       "<table border=\"1\" class=\"dataframe\">\n",
       "  <thead>\n",
       "    <tr style=\"text-align: right;\">\n",
       "      <th></th>\n",
       "      <th>region_1</th>\n",
       "      <th>region_2</th>\n",
       "      <th>region_3</th>\n",
       "    </tr>\n",
       "  </thead>\n",
       "  <tbody>\n",
       "    <tr>\n",
       "      <th>Средняя прибыль</th>\n",
       "      <td>468,757,230.74</td>\n",
       "      <td>491,757,264.39</td>\n",
       "      <td>355,594,873.37</td>\n",
       "    </tr>\n",
       "    <tr>\n",
       "      <th>Доверительный интервал (начало)</th>\n",
       "      <td>-85,513,325.78</td>\n",
       "      <td>81,624,191.17</td>\n",
       "      <td>-223,696,673.37</td>\n",
       "    </tr>\n",
       "    <tr>\n",
       "      <th>Доверительный интервал (конец)</th>\n",
       "      <td>1,025,766,579.27</td>\n",
       "      <td>925,837,646.57</td>\n",
       "      <td>942,181,246.76</td>\n",
       "    </tr>\n",
       "    <tr>\n",
       "      <th>Риск убытков</th>\n",
       "      <td>4.60</td>\n",
       "      <td>0.90</td>\n",
       "      <td>9.50</td>\n",
       "    </tr>\n",
       "  </tbody>\n",
       "</table>\n",
       "</div>"
      ],
      "text/plain": [
       "                                        region_1       region_2  \\\n",
       "Средняя прибыль                   468,757,230.74 491,757,264.39   \n",
       "Доверительный интервал (начало)   -85,513,325.78  81,624,191.17   \n",
       "Доверительный интервал (конец)  1,025,766,579.27 925,837,646.57   \n",
       "Риск убытков                                4.60           0.90   \n",
       "\n",
       "                                       region_3  \n",
       "Средняя прибыль                  355,594,873.37  \n",
       "Доверительный интервал (начало) -223,696,673.37  \n",
       "Доверительный интервал (конец)   942,181,246.76  \n",
       "Риск убытков                               9.50  "
      ]
     },
     "execution_count": 40,
     "metadata": {},
     "output_type": "execute_result"
    }
   ],
   "source": [
    "# печатаем результаты\n",
    "tabel = {'region_1':[profit_mean_1, lower_1, upper_1, risk_1],\n",
    "        'region_2':[profit_mean_2, lower_2, upper_2, risk_2],\n",
    "        'region_3':[profit_mean_3, lower_3, upper_3, risk_3]}\n",
    "table_df = pd.DataFrame(tabel)\n",
    "table_df.index = (['Средняя прибыль', 'Доверительный интервал (начало)',\n",
    "                    'Доверительный интервал (конец)', 'Риск убытков'])\n",
    "table_df"
   ]
  },
  {
   "cell_type": "markdown",
   "metadata": {},
   "source": [
    "Из таблицы видим, что по рискам первый и третий регион проигрывают второму. Нас интересует риск не более 2,5%, с такими параметрами нам подходит только второй, у которого риск ра, плюс у него выручка выше, чем у остальных, поэтому выбор здесь однозначный."
   ]
  }
 ],
 "metadata": {
  "ExecuteTimeLog": [
   {
    "duration": 1344,
    "start_time": "2022-05-26T15:40:11.943Z"
   },
   {
    "duration": 117,
    "start_time": "2022-05-26T15:41:04.693Z"
   },
   {
    "duration": 1082,
    "start_time": "2022-05-26T15:41:26.821Z"
   },
   {
    "duration": 420,
    "start_time": "2022-05-26T15:41:42.643Z"
   },
   {
    "duration": 22,
    "start_time": "2022-05-26T15:42:05.857Z"
   },
   {
    "duration": 25,
    "start_time": "2022-05-26T15:42:06.266Z"
   },
   {
    "duration": 14,
    "start_time": "2022-05-26T15:42:06.616Z"
   },
   {
    "duration": 16,
    "start_time": "2022-05-26T15:42:06.949Z"
   },
   {
    "duration": 14,
    "start_time": "2022-05-26T15:42:07.450Z"
   },
   {
    "duration": 24,
    "start_time": "2022-05-26T15:42:08.894Z"
   },
   {
    "duration": 69,
    "start_time": "2022-05-26T15:42:49.421Z"
   },
   {
    "duration": 88,
    "start_time": "2022-05-26T15:42:52.123Z"
   },
   {
    "duration": 55,
    "start_time": "2022-05-26T15:42:54.554Z"
   },
   {
    "duration": 10,
    "start_time": "2022-05-26T18:08:55.089Z"
   },
   {
    "duration": 40,
    "start_time": "2022-05-26T18:09:21.856Z"
   },
   {
    "duration": 1704,
    "start_time": "2022-05-28T11:09:36.920Z"
   },
   {
    "duration": 2158,
    "start_time": "2022-05-28T11:09:39.566Z"
   },
   {
    "duration": 14,
    "start_time": "2022-05-28T11:09:41.726Z"
   },
   {
    "duration": 16,
    "start_time": "2022-05-28T11:09:42.343Z"
   },
   {
    "duration": 10,
    "start_time": "2022-05-28T11:09:42.575Z"
   },
   {
    "duration": 24,
    "start_time": "2022-05-28T11:09:42.792Z"
   },
   {
    "duration": 12,
    "start_time": "2022-05-28T11:09:42.986Z"
   },
   {
    "duration": 21,
    "start_time": "2022-05-28T11:09:44.520Z"
   },
   {
    "duration": 41,
    "start_time": "2022-05-28T11:09:44.738Z"
   },
   {
    "duration": 18,
    "start_time": "2022-05-28T11:16:35.986Z"
   },
   {
    "duration": 23,
    "start_time": "2022-05-28T11:17:16.395Z"
   },
   {
    "duration": 16,
    "start_time": "2022-05-28T11:17:35.895Z"
   },
   {
    "duration": 213,
    "start_time": "2022-05-28T11:18:37.316Z"
   },
   {
    "duration": 59,
    "start_time": "2022-05-28T11:19:05.018Z"
   },
   {
    "duration": 12,
    "start_time": "2022-05-28T11:22:24.414Z"
   },
   {
    "duration": 80,
    "start_time": "2022-05-28T11:22:33.492Z"
   },
   {
    "duration": 102,
    "start_time": "2022-05-28T11:24:17.005Z"
   },
   {
    "duration": 84,
    "start_time": "2022-05-28T11:24:17.309Z"
   },
   {
    "duration": 1337,
    "start_time": "2022-05-28T11:24:40.447Z"
   },
   {
    "duration": 523,
    "start_time": "2022-05-28T11:24:41.787Z"
   },
   {
    "duration": 16,
    "start_time": "2022-05-28T11:24:42.318Z"
   },
   {
    "duration": 22,
    "start_time": "2022-05-28T11:24:42.337Z"
   },
   {
    "duration": 15,
    "start_time": "2022-05-28T11:24:42.361Z"
   },
   {
    "duration": 40,
    "start_time": "2022-05-28T11:24:42.378Z"
   },
   {
    "duration": 10,
    "start_time": "2022-05-28T11:24:42.419Z"
   },
   {
    "duration": 14,
    "start_time": "2022-05-28T11:24:42.434Z"
   },
   {
    "duration": 56,
    "start_time": "2022-05-28T11:24:42.450Z"
   },
   {
    "duration": 187,
    "start_time": "2022-05-28T11:24:42.511Z"
   },
   {
    "duration": 0,
    "start_time": "2022-05-28T11:24:42.700Z"
   },
   {
    "duration": 0,
    "start_time": "2022-05-28T11:24:42.702Z"
   },
   {
    "duration": 97,
    "start_time": "2022-05-28T11:25:59.256Z"
   },
   {
    "duration": 100,
    "start_time": "2022-05-28T11:26:00.690Z"
   },
   {
    "duration": 86,
    "start_time": "2022-05-28T11:26:16.316Z"
   },
   {
    "duration": 24,
    "start_time": "2022-05-28T11:26:16.609Z"
   },
   {
    "duration": 59,
    "start_time": "2022-05-28T11:26:41.320Z"
   },
   {
    "duration": 75,
    "start_time": "2022-05-28T11:26:41.614Z"
   },
   {
    "duration": 69,
    "start_time": "2022-05-28T11:26:48.385Z"
   },
   {
    "duration": 98,
    "start_time": "2022-05-28T11:26:48.652Z"
   },
   {
    "duration": 7,
    "start_time": "2022-05-28T11:27:54.514Z"
   },
   {
    "duration": 71,
    "start_time": "2022-05-28T11:28:03.284Z"
   },
   {
    "duration": 68,
    "start_time": "2022-05-28T11:28:03.607Z"
   },
   {
    "duration": 4,
    "start_time": "2022-05-28T11:28:03.986Z"
   },
   {
    "duration": 64,
    "start_time": "2022-05-28T11:28:28.609Z"
   },
   {
    "duration": 90,
    "start_time": "2022-05-28T11:28:28.922Z"
   },
   {
    "duration": 5,
    "start_time": "2022-05-28T11:28:29.193Z"
   },
   {
    "duration": 57,
    "start_time": "2022-05-28T11:28:29.553Z"
   },
   {
    "duration": 62,
    "start_time": "2022-05-28T11:29:01.128Z"
   },
   {
    "duration": 4,
    "start_time": "2022-05-28T11:29:01.381Z"
   },
   {
    "duration": 1554,
    "start_time": "2022-05-28T11:29:41.880Z"
   },
   {
    "duration": 434,
    "start_time": "2022-05-28T11:29:43.436Z"
   },
   {
    "duration": 14,
    "start_time": "2022-05-28T11:29:43.872Z"
   },
   {
    "duration": 23,
    "start_time": "2022-05-28T11:29:43.896Z"
   },
   {
    "duration": 51,
    "start_time": "2022-05-28T11:29:43.920Z"
   },
   {
    "duration": 21,
    "start_time": "2022-05-28T11:29:43.973Z"
   },
   {
    "duration": 23,
    "start_time": "2022-05-28T11:29:43.996Z"
   },
   {
    "duration": 28,
    "start_time": "2022-05-28T11:29:44.028Z"
   },
   {
    "duration": 44,
    "start_time": "2022-05-28T11:29:44.059Z"
   },
   {
    "duration": 89,
    "start_time": "2022-05-28T11:29:44.106Z"
   },
   {
    "duration": 172,
    "start_time": "2022-05-28T11:29:44.198Z"
   },
   {
    "duration": 0,
    "start_time": "2022-05-28T11:29:44.372Z"
   },
   {
    "duration": 0,
    "start_time": "2022-05-28T11:29:44.373Z"
   },
   {
    "duration": 83,
    "start_time": "2022-05-28T11:30:42.030Z"
   },
   {
    "duration": 72,
    "start_time": "2022-05-28T11:30:42.443Z"
   },
   {
    "duration": 5,
    "start_time": "2022-05-28T11:30:42.738Z"
   },
   {
    "duration": 90,
    "start_time": "2022-05-28T11:30:50.815Z"
   },
   {
    "duration": 84,
    "start_time": "2022-05-28T11:30:51.060Z"
   },
   {
    "duration": 5,
    "start_time": "2022-05-28T11:30:51.349Z"
   },
   {
    "duration": 85,
    "start_time": "2022-05-28T11:30:55.460Z"
   },
   {
    "duration": 94,
    "start_time": "2022-05-28T11:30:55.815Z"
   },
   {
    "duration": 5,
    "start_time": "2022-05-28T11:30:56.122Z"
   },
   {
    "duration": 94,
    "start_time": "2022-05-28T11:31:10.798Z"
   },
   {
    "duration": 20,
    "start_time": "2022-05-28T11:31:11.637Z"
   },
   {
    "duration": 5,
    "start_time": "2022-05-28T11:31:21.914Z"
   },
   {
    "duration": 101,
    "start_time": "2022-05-28T11:31:43.544Z"
   },
   {
    "duration": 4,
    "start_time": "2022-05-28T11:31:44.586Z"
   },
   {
    "duration": 8,
    "start_time": "2022-05-28T11:32:04.193Z"
   },
   {
    "duration": 101,
    "start_time": "2022-05-28T11:32:12.687Z"
   },
   {
    "duration": 84,
    "start_time": "2022-05-28T11:33:18.804Z"
   },
   {
    "duration": 40,
    "start_time": "2022-05-28T11:33:59.369Z"
   },
   {
    "duration": 102,
    "start_time": "2022-05-28T11:34:06.678Z"
   },
   {
    "duration": 81,
    "start_time": "2022-05-28T11:35:41.122Z"
   },
   {
    "duration": 5,
    "start_time": "2022-05-28T11:35:42.631Z"
   },
   {
    "duration": 96,
    "start_time": "2022-05-28T11:35:43.616Z"
   },
   {
    "duration": 102,
    "start_time": "2022-05-28T11:38:49.209Z"
   },
   {
    "duration": 6,
    "start_time": "2022-05-28T11:40:38.986Z"
   },
   {
    "duration": 68,
    "start_time": "2022-05-28T11:42:32.731Z"
   },
   {
    "duration": 136,
    "start_time": "2022-05-28T11:42:44.675Z"
   },
   {
    "duration": 111,
    "start_time": "2022-05-28T11:45:26.616Z"
   },
   {
    "duration": 110,
    "start_time": "2022-05-28T12:56:46.690Z"
   },
   {
    "duration": 6,
    "start_time": "2022-05-28T14:21:10.954Z"
   },
   {
    "duration": 10,
    "start_time": "2022-05-28T14:35:50.026Z"
   },
   {
    "duration": 10,
    "start_time": "2022-05-28T14:36:03.212Z"
   },
   {
    "duration": 9,
    "start_time": "2022-05-28T14:36:09.173Z"
   },
   {
    "duration": 4,
    "start_time": "2022-05-28T14:37:07.427Z"
   },
   {
    "duration": 4,
    "start_time": "2022-05-28T14:37:21.221Z"
   },
   {
    "duration": 5,
    "start_time": "2022-05-28T14:38:12.768Z"
   },
   {
    "duration": 4,
    "start_time": "2022-05-28T14:38:25.886Z"
   },
   {
    "duration": 5,
    "start_time": "2022-05-28T14:39:15.058Z"
   },
   {
    "duration": 7,
    "start_time": "2022-05-28T14:39:28.021Z"
   },
   {
    "duration": 5,
    "start_time": "2022-05-28T14:39:28.421Z"
   },
   {
    "duration": 1575,
    "start_time": "2022-05-28T18:15:43.566Z"
   },
   {
    "duration": 2099,
    "start_time": "2022-05-28T18:15:45.146Z"
   },
   {
    "duration": 22,
    "start_time": "2022-05-28T18:15:47.294Z"
   },
   {
    "duration": 81,
    "start_time": "2022-05-28T18:15:47.319Z"
   },
   {
    "duration": 13,
    "start_time": "2022-05-28T18:15:47.402Z"
   },
   {
    "duration": 29,
    "start_time": "2022-05-28T18:15:47.417Z"
   },
   {
    "duration": 19,
    "start_time": "2022-05-28T18:15:47.448Z"
   },
   {
    "duration": 41,
    "start_time": "2022-05-28T18:15:47.470Z"
   },
   {
    "duration": 180,
    "start_time": "2022-05-28T18:15:47.514Z"
   },
   {
    "duration": 0,
    "start_time": "2022-05-28T18:15:47.697Z"
   },
   {
    "duration": 0,
    "start_time": "2022-05-28T18:15:47.699Z"
   },
   {
    "duration": 0,
    "start_time": "2022-05-28T18:15:47.700Z"
   },
   {
    "duration": 0,
    "start_time": "2022-05-28T18:15:47.701Z"
   },
   {
    "duration": 0,
    "start_time": "2022-05-28T18:15:47.702Z"
   },
   {
    "duration": 0,
    "start_time": "2022-05-28T18:15:47.703Z"
   },
   {
    "duration": 0,
    "start_time": "2022-05-28T18:15:47.704Z"
   },
   {
    "duration": 1491,
    "start_time": "2022-05-28T18:16:09.614Z"
   },
   {
    "duration": 805,
    "start_time": "2022-05-28T18:16:11.107Z"
   },
   {
    "duration": 21,
    "start_time": "2022-05-28T18:16:11.915Z"
   },
   {
    "duration": 70,
    "start_time": "2022-05-28T18:16:11.939Z"
   },
   {
    "duration": 11,
    "start_time": "2022-05-28T18:16:12.011Z"
   },
   {
    "duration": 76,
    "start_time": "2022-05-28T18:16:12.024Z"
   },
   {
    "duration": 13,
    "start_time": "2022-05-28T18:16:12.102Z"
   },
   {
    "duration": 81,
    "start_time": "2022-05-28T18:16:12.118Z"
   },
   {
    "duration": 334,
    "start_time": "2022-05-28T18:16:12.206Z"
   },
   {
    "duration": 0,
    "start_time": "2022-05-28T18:16:12.543Z"
   },
   {
    "duration": 0,
    "start_time": "2022-05-28T18:16:12.595Z"
   },
   {
    "duration": 0,
    "start_time": "2022-05-28T18:16:12.597Z"
   },
   {
    "duration": 0,
    "start_time": "2022-05-28T18:16:12.599Z"
   },
   {
    "duration": 0,
    "start_time": "2022-05-28T18:16:12.600Z"
   },
   {
    "duration": 0,
    "start_time": "2022-05-28T18:16:12.603Z"
   },
   {
    "duration": 0,
    "start_time": "2022-05-28T18:16:12.604Z"
   },
   {
    "duration": 5,
    "start_time": "2022-05-28T18:23:37.527Z"
   },
   {
    "duration": 16,
    "start_time": "2022-05-28T18:24:14.379Z"
   },
   {
    "duration": 18,
    "start_time": "2022-05-28T18:24:19.557Z"
   },
   {
    "duration": 11,
    "start_time": "2022-05-28T18:24:20.221Z"
   },
   {
    "duration": 11,
    "start_time": "2022-05-28T18:24:39.421Z"
   },
   {
    "duration": 30,
    "start_time": "2022-05-28T18:24:49.240Z"
   },
   {
    "duration": 5,
    "start_time": "2022-05-28T18:24:50.313Z"
   },
   {
    "duration": 4,
    "start_time": "2022-05-28T18:27:44.364Z"
   },
   {
    "duration": 6,
    "start_time": "2022-05-28T18:29:20.993Z"
   },
   {
    "duration": 6,
    "start_time": "2022-05-28T18:30:16.080Z"
   },
   {
    "duration": 44,
    "start_time": "2022-05-28T18:30:28.851Z"
   },
   {
    "duration": 7,
    "start_time": "2022-05-28T18:30:46.112Z"
   },
   {
    "duration": 190,
    "start_time": "2022-05-28T18:30:46.819Z"
   },
   {
    "duration": 194,
    "start_time": "2022-05-28T18:31:32.329Z"
   },
   {
    "duration": 86,
    "start_time": "2022-05-28T18:31:33.315Z"
   },
   {
    "duration": 6,
    "start_time": "2022-05-28T18:33:11.601Z"
   },
   {
    "duration": 215,
    "start_time": "2022-05-28T18:33:12.182Z"
   },
   {
    "duration": 8,
    "start_time": "2022-05-28T18:33:19.567Z"
   },
   {
    "duration": 69,
    "start_time": "2022-05-28T18:33:47.625Z"
   },
   {
    "duration": 51,
    "start_time": "2022-05-28T18:33:52.939Z"
   },
   {
    "duration": 47,
    "start_time": "2022-05-28T18:33:59.362Z"
   },
   {
    "duration": 53,
    "start_time": "2022-05-28T18:34:01.824Z"
   },
   {
    "duration": 1357,
    "start_time": "2022-05-28T18:34:51.882Z"
   },
   {
    "duration": 439,
    "start_time": "2022-05-28T18:34:53.241Z"
   },
   {
    "duration": 16,
    "start_time": "2022-05-28T18:34:53.681Z"
   },
   {
    "duration": 34,
    "start_time": "2022-05-28T18:34:53.700Z"
   },
   {
    "duration": 48,
    "start_time": "2022-05-28T18:34:53.736Z"
   },
   {
    "duration": 19,
    "start_time": "2022-05-28T18:34:53.786Z"
   },
   {
    "duration": 25,
    "start_time": "2022-05-28T18:34:53.807Z"
   },
   {
    "duration": 79,
    "start_time": "2022-05-28T18:34:53.834Z"
   },
   {
    "duration": 9,
    "start_time": "2022-05-28T18:34:53.916Z"
   },
   {
    "duration": 21,
    "start_time": "2022-05-28T18:34:53.928Z"
   },
   {
    "duration": 84,
    "start_time": "2022-05-28T18:34:53.952Z"
   },
   {
    "duration": 7,
    "start_time": "2022-05-28T18:34:54.038Z"
   },
   {
    "duration": 172,
    "start_time": "2022-05-28T18:34:54.047Z"
   },
   {
    "duration": 178,
    "start_time": "2022-05-28T18:34:54.222Z"
   },
   {
    "duration": 193,
    "start_time": "2022-05-28T18:34:54.403Z"
   },
   {
    "duration": 5,
    "start_time": "2022-05-28T18:34:54.598Z"
   },
   {
    "duration": 115,
    "start_time": "2022-05-28T18:34:54.605Z"
   },
   {
    "duration": 5,
    "start_time": "2022-05-28T18:34:54.722Z"
   },
   {
    "duration": 4,
    "start_time": "2022-05-28T18:34:54.729Z"
   },
   {
    "duration": 14,
    "start_time": "2022-05-28T18:39:52.100Z"
   },
   {
    "duration": 6,
    "start_time": "2022-05-28T18:39:54.727Z"
   },
   {
    "duration": 310,
    "start_time": "2022-05-28T18:39:57.116Z"
   },
   {
    "duration": 61,
    "start_time": "2022-05-28T18:39:57.736Z"
   },
   {
    "duration": 62,
    "start_time": "2022-05-28T18:39:59.551Z"
   },
   {
    "duration": 9,
    "start_time": "2022-05-28T18:40:27.158Z"
   },
   {
    "duration": 58,
    "start_time": "2022-05-28T18:40:27.640Z"
   },
   {
    "duration": 6,
    "start_time": "2022-05-28T18:42:23.751Z"
   },
   {
    "duration": 128,
    "start_time": "2022-05-28T18:42:24.668Z"
   },
   {
    "duration": 6,
    "start_time": "2022-05-28T18:42:34.255Z"
   },
   {
    "duration": 181,
    "start_time": "2022-05-28T18:42:34.816Z"
   },
   {
    "duration": 9,
    "start_time": "2022-05-28T18:42:51.566Z"
   },
   {
    "duration": 84,
    "start_time": "2022-05-28T18:42:52.024Z"
   },
   {
    "duration": 6,
    "start_time": "2022-05-28T18:42:58.492Z"
   },
   {
    "duration": 161,
    "start_time": "2022-05-28T18:42:59.436Z"
   },
   {
    "duration": 5,
    "start_time": "2022-05-28T18:43:08.732Z"
   },
   {
    "duration": 204,
    "start_time": "2022-05-28T18:43:09.391Z"
   },
   {
    "duration": 65,
    "start_time": "2022-05-28T18:43:10.257Z"
   },
   {
    "duration": 130,
    "start_time": "2022-05-28T18:43:10.677Z"
   },
   {
    "duration": 6,
    "start_time": "2022-05-28T18:43:58.841Z"
   },
   {
    "duration": 139,
    "start_time": "2022-05-28T18:43:59.358Z"
   },
   {
    "duration": 64,
    "start_time": "2022-05-28T18:43:59.632Z"
   },
   {
    "duration": 104,
    "start_time": "2022-05-28T18:43:59.893Z"
   },
   {
    "duration": 7,
    "start_time": "2022-05-28T18:44:30.466Z"
   },
   {
    "duration": 5,
    "start_time": "2022-05-28T18:44:52.673Z"
   },
   {
    "duration": 54,
    "start_time": "2022-05-28T18:44:53.949Z"
   },
   {
    "duration": 16,
    "start_time": "2022-05-28T18:44:59.688Z"
   },
   {
    "duration": 7,
    "start_time": "2022-05-28T18:45:10.991Z"
   },
   {
    "duration": 119,
    "start_time": "2022-05-28T18:45:21.284Z"
   },
   {
    "duration": 4,
    "start_time": "2022-05-28T18:45:31.056Z"
   },
   {
    "duration": 1367,
    "start_time": "2022-05-28T18:45:45.812Z"
   },
   {
    "duration": 488,
    "start_time": "2022-05-28T18:45:47.182Z"
   },
   {
    "duration": 16,
    "start_time": "2022-05-28T18:45:47.672Z"
   },
   {
    "duration": 25,
    "start_time": "2022-05-28T18:45:47.691Z"
   },
   {
    "duration": 51,
    "start_time": "2022-05-28T18:45:47.718Z"
   },
   {
    "duration": 26,
    "start_time": "2022-05-28T18:45:47.770Z"
   },
   {
    "duration": 31,
    "start_time": "2022-05-28T18:45:47.798Z"
   },
   {
    "duration": 49,
    "start_time": "2022-05-28T18:45:47.830Z"
   },
   {
    "duration": 26,
    "start_time": "2022-05-28T18:45:47.881Z"
   },
   {
    "duration": 17,
    "start_time": "2022-05-28T18:45:47.916Z"
   },
   {
    "duration": 63,
    "start_time": "2022-05-28T18:45:47.935Z"
   },
   {
    "duration": 8,
    "start_time": "2022-05-28T18:45:48.000Z"
   },
   {
    "duration": 103,
    "start_time": "2022-05-28T18:45:48.010Z"
   },
   {
    "duration": 206,
    "start_time": "2022-05-28T18:45:48.117Z"
   },
   {
    "duration": 114,
    "start_time": "2022-05-28T18:45:48.396Z"
   },
   {
    "duration": 10,
    "start_time": "2022-05-28T18:45:48.511Z"
   },
   {
    "duration": 27,
    "start_time": "2022-05-28T18:45:48.596Z"
   },
   {
    "duration": 6,
    "start_time": "2022-05-28T18:45:48.625Z"
   },
   {
    "duration": 5,
    "start_time": "2022-05-28T18:45:48.633Z"
   },
   {
    "duration": 5,
    "start_time": "2022-05-28T18:56:48.432Z"
   },
   {
    "duration": 365,
    "start_time": "2022-05-28T18:56:57.338Z"
   },
   {
    "duration": 119,
    "start_time": "2022-05-28T18:57:11.076Z"
   },
   {
    "duration": 121,
    "start_time": "2022-05-28T18:57:45.757Z"
   },
   {
    "duration": 4,
    "start_time": "2022-05-28T18:57:55.313Z"
   },
   {
    "duration": 7,
    "start_time": "2022-05-28T18:58:03.727Z"
   },
   {
    "duration": 6,
    "start_time": "2022-05-28T18:58:12.040Z"
   },
   {
    "duration": 10,
    "start_time": "2022-05-28T18:59:26.172Z"
   },
   {
    "duration": 1393,
    "start_time": "2022-05-28T18:59:37.381Z"
   },
   {
    "duration": 475,
    "start_time": "2022-05-28T18:59:38.776Z"
   },
   {
    "duration": 14,
    "start_time": "2022-05-28T18:59:39.254Z"
   },
   {
    "duration": 29,
    "start_time": "2022-05-28T18:59:39.271Z"
   },
   {
    "duration": 63,
    "start_time": "2022-05-28T18:59:39.302Z"
   },
   {
    "duration": 28,
    "start_time": "2022-05-28T18:59:39.367Z"
   },
   {
    "duration": 24,
    "start_time": "2022-05-28T18:59:39.398Z"
   },
   {
    "duration": 81,
    "start_time": "2022-05-28T18:59:39.423Z"
   },
   {
    "duration": 13,
    "start_time": "2022-05-28T18:59:39.506Z"
   },
   {
    "duration": 26,
    "start_time": "2022-05-28T18:59:39.522Z"
   },
   {
    "duration": 82,
    "start_time": "2022-05-28T18:59:39.549Z"
   },
   {
    "duration": 8,
    "start_time": "2022-05-28T18:59:39.633Z"
   },
   {
    "duration": 152,
    "start_time": "2022-05-28T18:59:39.643Z"
   },
   {
    "duration": 197,
    "start_time": "2022-05-28T18:59:39.798Z"
   },
   {
    "duration": 201,
    "start_time": "2022-05-28T18:59:39.997Z"
   },
   {
    "duration": 6,
    "start_time": "2022-05-28T18:59:40.200Z"
   },
   {
    "duration": 108,
    "start_time": "2022-05-28T18:59:40.208Z"
   },
   {
    "duration": 6,
    "start_time": "2022-05-28T18:59:40.318Z"
   },
   {
    "duration": 5,
    "start_time": "2022-05-28T18:59:40.326Z"
   },
   {
    "duration": 7,
    "start_time": "2022-05-28T18:59:40.333Z"
   },
   {
    "duration": 15,
    "start_time": "2022-05-28T19:21:41.672Z"
   },
   {
    "duration": 8,
    "start_time": "2022-05-28T19:21:50.468Z"
   },
   {
    "duration": 7,
    "start_time": "2022-05-28T19:21:57.495Z"
   },
   {
    "duration": 6,
    "start_time": "2022-05-28T19:22:04.501Z"
   },
   {
    "duration": 17,
    "start_time": "2022-05-28T19:22:48.805Z"
   },
   {
    "duration": 9,
    "start_time": "2022-05-28T19:22:49.456Z"
   },
   {
    "duration": 8,
    "start_time": "2022-05-28T19:27:48.166Z"
   },
   {
    "duration": 375,
    "start_time": "2022-05-28T19:27:48.779Z"
   },
   {
    "duration": 8,
    "start_time": "2022-05-28T19:29:01.329Z"
   },
   {
    "duration": 231,
    "start_time": "2022-05-28T19:29:01.678Z"
   },
   {
    "duration": 17,
    "start_time": "2022-05-28T19:30:12.783Z"
   },
   {
    "duration": 220,
    "start_time": "2022-05-28T19:30:13.203Z"
   },
   {
    "duration": 8,
    "start_time": "2022-05-28T19:30:20.775Z"
   },
   {
    "duration": 139,
    "start_time": "2022-05-28T19:30:21.137Z"
   },
   {
    "duration": 143,
    "start_time": "2022-05-28T19:30:27.786Z"
   },
   {
    "duration": 9,
    "start_time": "2022-05-28T19:31:40.825Z"
   },
   {
    "duration": 191,
    "start_time": "2022-05-28T19:31:41.926Z"
   },
   {
    "duration": 10,
    "start_time": "2022-05-28T19:31:47.024Z"
   },
   {
    "duration": 224,
    "start_time": "2022-05-28T19:31:47.370Z"
   },
   {
    "duration": 203,
    "start_time": "2022-05-28T19:31:51.919Z"
   },
   {
    "duration": 14,
    "start_time": "2022-05-28T19:32:18.225Z"
   },
   {
    "duration": 187,
    "start_time": "2022-05-28T19:32:18.640Z"
   },
   {
    "duration": 6,
    "start_time": "2022-05-28T19:32:44.894Z"
   },
   {
    "duration": 284,
    "start_time": "2022-05-28T19:32:46.530Z"
   },
   {
    "duration": 6,
    "start_time": "2022-05-28T19:32:59.423Z"
   },
   {
    "duration": 225,
    "start_time": "2022-05-28T19:32:59.881Z"
   },
   {
    "duration": 8,
    "start_time": "2022-05-28T19:33:48.985Z"
   },
   {
    "duration": 14,
    "start_time": "2022-05-28T19:34:13.400Z"
   },
   {
    "duration": 1866,
    "start_time": "2022-05-28T19:34:20.245Z"
   },
   {
    "duration": 1752,
    "start_time": "2022-05-28T19:34:22.114Z"
   },
   {
    "duration": 17,
    "start_time": "2022-05-28T19:34:23.868Z"
   },
   {
    "duration": 57,
    "start_time": "2022-05-28T19:34:23.887Z"
   },
   {
    "duration": 77,
    "start_time": "2022-05-28T19:34:23.946Z"
   },
   {
    "duration": 12,
    "start_time": "2022-05-28T19:34:24.025Z"
   },
   {
    "duration": 25,
    "start_time": "2022-05-28T19:34:24.039Z"
   },
   {
    "duration": 62,
    "start_time": "2022-05-28T19:34:24.066Z"
   },
   {
    "duration": 10,
    "start_time": "2022-05-28T19:34:24.129Z"
   },
   {
    "duration": 19,
    "start_time": "2022-05-28T19:34:24.141Z"
   },
   {
    "duration": 90,
    "start_time": "2022-05-28T19:34:24.162Z"
   },
   {
    "duration": 8,
    "start_time": "2022-05-28T19:34:24.255Z"
   },
   {
    "duration": 1539,
    "start_time": "2022-05-28T19:34:38.667Z"
   },
   {
    "duration": 1942,
    "start_time": "2022-05-28T19:34:40.208Z"
   },
   {
    "duration": 58,
    "start_time": "2022-05-28T19:34:42.152Z"
   },
   {
    "duration": 83,
    "start_time": "2022-05-28T19:34:42.213Z"
   },
   {
    "duration": 119,
    "start_time": "2022-05-28T19:34:42.299Z"
   },
   {
    "duration": 14,
    "start_time": "2022-05-28T19:34:42.420Z"
   },
   {
    "duration": 80,
    "start_time": "2022-05-28T19:34:42.436Z"
   },
   {
    "duration": 191,
    "start_time": "2022-05-28T19:34:42.519Z"
   },
   {
    "duration": 13,
    "start_time": "2022-05-28T19:34:42.712Z"
   },
   {
    "duration": 81,
    "start_time": "2022-05-28T19:34:42.727Z"
   },
   {
    "duration": 192,
    "start_time": "2022-05-28T19:34:42.811Z"
   },
   {
    "duration": 9,
    "start_time": "2022-05-28T19:34:43.005Z"
   },
   {
    "duration": 1393,
    "start_time": "2022-05-28T19:34:58.085Z"
   },
   {
    "duration": 1965,
    "start_time": "2022-05-28T19:34:59.480Z"
   },
   {
    "duration": 63,
    "start_time": "2022-05-28T19:35:01.447Z"
   },
   {
    "duration": 50,
    "start_time": "2022-05-28T19:35:01.512Z"
   },
   {
    "duration": 80,
    "start_time": "2022-05-28T19:35:01.565Z"
   },
   {
    "duration": 15,
    "start_time": "2022-05-28T19:35:01.647Z"
   },
   {
    "duration": 43,
    "start_time": "2022-05-28T19:35:01.665Z"
   },
   {
    "duration": 89,
    "start_time": "2022-05-28T19:35:01.710Z"
   },
   {
    "duration": 16,
    "start_time": "2022-05-28T19:35:01.801Z"
   },
   {
    "duration": 48,
    "start_time": "2022-05-28T19:35:01.820Z"
   },
   {
    "duration": 96,
    "start_time": "2022-05-28T19:35:01.872Z"
   },
   {
    "duration": 9,
    "start_time": "2022-05-28T19:35:01.970Z"
   },
   {
    "duration": 256,
    "start_time": "2022-05-28T19:35:01.981Z"
   },
   {
    "duration": 185,
    "start_time": "2022-05-28T19:35:02.241Z"
   },
   {
    "duration": 272,
    "start_time": "2022-05-28T19:35:02.430Z"
   },
   {
    "duration": 5,
    "start_time": "2022-05-28T19:35:02.704Z"
   },
   {
    "duration": 84,
    "start_time": "2022-05-28T19:35:02.712Z"
   },
   {
    "duration": 16,
    "start_time": "2022-05-28T19:35:02.799Z"
   },
   {
    "duration": 12,
    "start_time": "2022-05-28T19:35:02.822Z"
   },
   {
    "duration": 244,
    "start_time": "2022-05-28T19:35:02.836Z"
   },
   {
    "duration": 0,
    "start_time": "2022-05-28T19:35:03.083Z"
   },
   {
    "duration": 6,
    "start_time": "2022-05-28T19:36:47.986Z"
   },
   {
    "duration": 185,
    "start_time": "2022-05-28T19:36:48.623Z"
   },
   {
    "duration": 8,
    "start_time": "2022-05-28T19:37:16.230Z"
   },
   {
    "duration": 6,
    "start_time": "2022-05-28T19:37:20.793Z"
   },
   {
    "duration": 65,
    "start_time": "2022-05-28T19:37:21.242Z"
   },
   {
    "duration": 6,
    "start_time": "2022-05-28T19:38:21.628Z"
   },
   {
    "duration": 149,
    "start_time": "2022-05-28T19:38:22.258Z"
   },
   {
    "duration": 6,
    "start_time": "2022-05-28T19:38:33.769Z"
   },
   {
    "duration": 72,
    "start_time": "2022-05-28T19:38:34.035Z"
   },
   {
    "duration": 6,
    "start_time": "2022-05-28T19:41:11.112Z"
   },
   {
    "duration": 129,
    "start_time": "2022-05-28T19:41:11.777Z"
   },
   {
    "duration": 6,
    "start_time": "2022-05-28T19:41:17.928Z"
   },
   {
    "duration": 155,
    "start_time": "2022-05-28T19:41:18.347Z"
   },
   {
    "duration": 10,
    "start_time": "2022-05-28T19:41:27.149Z"
   },
   {
    "duration": 134,
    "start_time": "2022-05-28T19:41:27.573Z"
   },
   {
    "duration": 6,
    "start_time": "2022-05-28T19:41:51.215Z"
   },
   {
    "duration": 51,
    "start_time": "2022-05-28T19:41:53.850Z"
   },
   {
    "duration": 51,
    "start_time": "2022-05-28T19:42:00.248Z"
   },
   {
    "duration": 91,
    "start_time": "2022-05-28T19:42:18.515Z"
   },
   {
    "duration": 231,
    "start_time": "2022-05-28T19:42:29.667Z"
   },
   {
    "duration": 177,
    "start_time": "2022-05-28T19:42:34.920Z"
   },
   {
    "duration": 76,
    "start_time": "2022-05-28T19:42:52.021Z"
   },
   {
    "duration": 231,
    "start_time": "2022-05-28T19:43:06.672Z"
   },
   {
    "duration": 34,
    "start_time": "2022-05-28T19:43:10.185Z"
   },
   {
    "duration": 176,
    "start_time": "2022-05-28T19:43:12.332Z"
   },
   {
    "duration": 220,
    "start_time": "2022-05-28T19:43:17.378Z"
   },
   {
    "duration": 74,
    "start_time": "2022-05-28T19:43:20.325Z"
   },
   {
    "duration": 80,
    "start_time": "2022-05-28T19:43:41.120Z"
   },
   {
    "duration": 152,
    "start_time": "2022-05-28T19:43:56.843Z"
   },
   {
    "duration": 74,
    "start_time": "2022-05-28T19:43:57.123Z"
   },
   {
    "duration": 127,
    "start_time": "2022-05-28T19:43:57.384Z"
   },
   {
    "duration": 8,
    "start_time": "2022-05-28T19:44:08.054Z"
   },
   {
    "duration": 4,
    "start_time": "2022-05-28T19:45:20.540Z"
   },
   {
    "duration": 14,
    "start_time": "2022-05-28T19:45:27.260Z"
   },
   {
    "duration": 92,
    "start_time": "2022-05-28T19:45:51.811Z"
   },
   {
    "duration": 66,
    "start_time": "2022-05-28T19:45:52.439Z"
   },
   {
    "duration": 123,
    "start_time": "2022-05-28T19:45:52.876Z"
   },
   {
    "duration": 4,
    "start_time": "2022-05-28T19:45:57.911Z"
   },
   {
    "duration": 4,
    "start_time": "2022-05-28T19:46:02.036Z"
   },
   {
    "duration": 153,
    "start_time": "2022-05-28T19:46:35.249Z"
   },
   {
    "duration": 61,
    "start_time": "2022-05-28T19:46:53.034Z"
   },
   {
    "duration": 53,
    "start_time": "2022-05-28T19:47:09.466Z"
   },
   {
    "duration": 211,
    "start_time": "2022-05-28T19:47:09.783Z"
   },
   {
    "duration": 134,
    "start_time": "2022-05-28T19:47:10.083Z"
   },
   {
    "duration": 4,
    "start_time": "2022-05-28T19:48:24.897Z"
   },
   {
    "duration": 10,
    "start_time": "2022-05-28T19:49:05.271Z"
   },
   {
    "duration": 10,
    "start_time": "2022-05-28T19:49:05.612Z"
   },
   {
    "duration": 9,
    "start_time": "2022-05-28T19:49:05.949Z"
   },
   {
    "duration": 82,
    "start_time": "2022-05-28T19:49:58.421Z"
   },
   {
    "duration": 4,
    "start_time": "2022-05-28T19:52:00.641Z"
   },
   {
    "duration": 10,
    "start_time": "2022-05-28T19:58:40.284Z"
   },
   {
    "duration": 1496,
    "start_time": "2022-05-28T19:58:45.065Z"
   },
   {
    "duration": 403,
    "start_time": "2022-05-28T19:58:46.564Z"
   },
   {
    "duration": 16,
    "start_time": "2022-05-28T19:58:46.969Z"
   },
   {
    "duration": 16,
    "start_time": "2022-05-28T19:58:46.994Z"
   },
   {
    "duration": 60,
    "start_time": "2022-05-28T19:58:47.012Z"
   },
   {
    "duration": 26,
    "start_time": "2022-05-28T19:58:47.075Z"
   },
   {
    "duration": 30,
    "start_time": "2022-05-28T19:58:47.103Z"
   },
   {
    "duration": 85,
    "start_time": "2022-05-28T19:58:47.135Z"
   },
   {
    "duration": 13,
    "start_time": "2022-05-28T19:58:47.224Z"
   },
   {
    "duration": 41,
    "start_time": "2022-05-28T19:58:47.241Z"
   },
   {
    "duration": 66,
    "start_time": "2022-05-28T19:58:47.284Z"
   },
   {
    "duration": 8,
    "start_time": "2022-05-28T19:58:47.353Z"
   },
   {
    "duration": 143,
    "start_time": "2022-05-28T19:58:47.363Z"
   },
   {
    "duration": 287,
    "start_time": "2022-05-28T19:58:47.508Z"
   },
   {
    "duration": 199,
    "start_time": "2022-05-28T19:58:47.797Z"
   },
   {
    "duration": 7,
    "start_time": "2022-05-28T19:58:47.999Z"
   },
   {
    "duration": 7,
    "start_time": "2022-05-28T19:58:48.008Z"
   },
   {
    "duration": 9,
    "start_time": "2022-05-28T19:58:48.017Z"
   },
   {
    "duration": 71,
    "start_time": "2022-05-28T19:58:48.028Z"
   },
   {
    "duration": 9,
    "start_time": "2022-05-28T19:58:48.101Z"
   },
   {
    "duration": 11,
    "start_time": "2022-05-28T19:58:48.113Z"
   },
   {
    "duration": 9,
    "start_time": "2022-05-28T19:58:48.126Z"
   },
   {
    "duration": 12,
    "start_time": "2022-05-28T19:58:48.137Z"
   },
   {
    "duration": 6,
    "start_time": "2022-05-28T20:04:27.797Z"
   },
   {
    "duration": 8,
    "start_time": "2022-05-28T20:07:15.265Z"
   },
   {
    "duration": 2686,
    "start_time": "2022-05-28T20:12:21.349Z"
   },
   {
    "duration": 499,
    "start_time": "2022-05-28T20:12:42.714Z"
   },
   {
    "duration": 1548,
    "start_time": "2022-05-28T20:12:50.467Z"
   },
   {
    "duration": 1529,
    "start_time": "2022-05-28T20:13:02.965Z"
   },
   {
    "duration": 1593,
    "start_time": "2022-05-28T20:18:30.793Z"
   },
   {
    "duration": 1698,
    "start_time": "2022-05-28T20:21:08.004Z"
   },
   {
    "duration": 1622,
    "start_time": "2022-05-28T20:21:09.704Z"
   },
   {
    "duration": 4,
    "start_time": "2022-05-28T20:30:25.718Z"
   },
   {
    "duration": 4,
    "start_time": "2022-05-28T20:30:40.558Z"
   },
   {
    "duration": 6,
    "start_time": "2022-05-28T20:31:01.545Z"
   },
   {
    "duration": 61,
    "start_time": "2022-05-28T20:36:47.512Z"
   },
   {
    "duration": 33,
    "start_time": "2022-05-28T20:37:27.747Z"
   },
   {
    "duration": 28,
    "start_time": "2022-05-28T20:37:50.241Z"
   },
   {
    "duration": 49,
    "start_time": "2022-05-28T20:37:54.994Z"
   },
   {
    "duration": 5,
    "start_time": "2022-05-28T20:38:05.442Z"
   },
   {
    "duration": 20,
    "start_time": "2022-05-28T20:38:21.145Z"
   },
   {
    "duration": 5,
    "start_time": "2022-05-28T20:38:34.392Z"
   },
   {
    "duration": 4259,
    "start_time": "2022-05-28T20:38:34.707Z"
   },
   {
    "duration": 3,
    "start_time": "2022-05-28T20:54:50.294Z"
   },
   {
    "duration": 2876,
    "start_time": "2022-05-28T20:54:50.736Z"
   },
   {
    "duration": 5,
    "start_time": "2022-05-28T20:55:23.237Z"
   },
   {
    "duration": 3122,
    "start_time": "2022-05-28T20:55:24.049Z"
   },
   {
    "duration": 13,
    "start_time": "2022-05-28T20:59:54.001Z"
   },
   {
    "duration": 3351,
    "start_time": "2022-05-28T21:00:02.987Z"
   },
   {
    "duration": 3382,
    "start_time": "2022-05-28T21:00:11.590Z"
   },
   {
    "duration": 3,
    "start_time": "2022-05-28T21:59:50.590Z"
   },
   {
    "duration": 4,
    "start_time": "2022-05-28T21:59:51.075Z"
   },
   {
    "duration": 19,
    "start_time": "2022-05-28T22:16:07.333Z"
   },
   {
    "duration": 3,
    "start_time": "2022-05-28T22:16:22.608Z"
   },
   {
    "duration": 2160,
    "start_time": "2022-05-28T22:16:23.894Z"
   },
   {
    "duration": 4,
    "start_time": "2022-05-28T22:20:04.079Z"
   },
   {
    "duration": 24,
    "start_time": "2022-05-28T22:20:34.695Z"
   },
   {
    "duration": 2,
    "start_time": "2022-05-28T22:22:47.411Z"
   },
   {
    "duration": 4218,
    "start_time": "2022-05-28T22:22:49.090Z"
   },
   {
    "duration": 1651,
    "start_time": "2022-05-29T13:41:01.471Z"
   },
   {
    "duration": 2431,
    "start_time": "2022-05-29T13:41:03.125Z"
   },
   {
    "duration": 14,
    "start_time": "2022-05-29T13:41:05.558Z"
   },
   {
    "duration": 29,
    "start_time": "2022-05-29T13:41:05.574Z"
   },
   {
    "duration": 71,
    "start_time": "2022-05-29T13:41:05.605Z"
   },
   {
    "duration": 16,
    "start_time": "2022-05-29T13:41:05.678Z"
   },
   {
    "duration": 27,
    "start_time": "2022-05-29T13:41:05.700Z"
   },
   {
    "duration": 78,
    "start_time": "2022-05-29T13:41:05.728Z"
   },
   {
    "duration": 10,
    "start_time": "2022-05-29T13:41:05.808Z"
   },
   {
    "duration": 53,
    "start_time": "2022-05-29T13:41:05.820Z"
   },
   {
    "duration": 78,
    "start_time": "2022-05-29T13:41:05.875Z"
   },
   {
    "duration": 6,
    "start_time": "2022-05-29T13:41:05.955Z"
   },
   {
    "duration": 130,
    "start_time": "2022-05-29T13:41:05.963Z"
   },
   {
    "duration": 140,
    "start_time": "2022-05-29T13:41:06.095Z"
   },
   {
    "duration": 207,
    "start_time": "2022-05-29T13:41:06.285Z"
   },
   {
    "duration": 9,
    "start_time": "2022-05-29T13:41:06.494Z"
   },
   {
    "duration": 104,
    "start_time": "2022-05-29T13:41:06.506Z"
   },
   {
    "duration": 16,
    "start_time": "2022-05-29T13:41:06.613Z"
   },
   {
    "duration": 4,
    "start_time": "2022-05-29T13:41:06.631Z"
   },
   {
    "duration": 8,
    "start_time": "2022-05-29T13:41:06.637Z"
   },
   {
    "duration": 14,
    "start_time": "2022-05-29T13:41:06.647Z"
   },
   {
    "duration": 9,
    "start_time": "2022-05-29T13:41:06.664Z"
   },
   {
    "duration": 12,
    "start_time": "2022-05-29T13:41:06.684Z"
   },
   {
    "duration": 142,
    "start_time": "2022-05-29T13:41:06.697Z"
   },
   {
    "duration": 1652,
    "start_time": "2022-05-29T13:41:21.068Z"
   },
   {
    "duration": 1070,
    "start_time": "2022-05-29T13:41:22.722Z"
   },
   {
    "duration": 17,
    "start_time": "2022-05-29T13:41:23.798Z"
   },
   {
    "duration": 82,
    "start_time": "2022-05-29T13:41:23.818Z"
   },
   {
    "duration": 110,
    "start_time": "2022-05-29T13:41:23.906Z"
   },
   {
    "duration": 10,
    "start_time": "2022-05-29T13:41:24.017Z"
   },
   {
    "duration": 72,
    "start_time": "2022-05-29T13:41:24.030Z"
   },
   {
    "duration": 100,
    "start_time": "2022-05-29T13:41:24.104Z"
   },
   {
    "duration": 15,
    "start_time": "2022-05-29T13:41:24.207Z"
   },
   {
    "duration": 70,
    "start_time": "2022-05-29T13:41:24.226Z"
   },
   {
    "duration": 127,
    "start_time": "2022-05-29T13:41:24.298Z"
   },
   {
    "duration": 65,
    "start_time": "2022-05-29T13:41:24.427Z"
   },
   {
    "duration": 202,
    "start_time": "2022-05-29T13:41:24.496Z"
   },
   {
    "duration": 202,
    "start_time": "2022-05-29T13:41:24.700Z"
   },
   {
    "duration": 140,
    "start_time": "2022-05-29T13:41:24.983Z"
   },
   {
    "duration": 62,
    "start_time": "2022-05-29T13:41:25.124Z"
   },
   {
    "duration": 124,
    "start_time": "2022-05-29T13:41:25.189Z"
   },
   {
    "duration": 27,
    "start_time": "2022-05-29T13:41:25.315Z"
   },
   {
    "duration": 18,
    "start_time": "2022-05-29T13:41:25.345Z"
   },
   {
    "duration": 9,
    "start_time": "2022-05-29T13:41:25.367Z"
   },
   {
    "duration": 46,
    "start_time": "2022-05-29T13:41:25.379Z"
   },
   {
    "duration": 39,
    "start_time": "2022-05-29T13:41:25.428Z"
   },
   {
    "duration": 42,
    "start_time": "2022-05-29T13:41:25.469Z"
   },
   {
    "duration": 5,
    "start_time": "2022-05-29T13:41:25.513Z"
   },
   {
    "duration": 4847,
    "start_time": "2022-05-29T13:41:25.520Z"
   },
   {
    "duration": 6,
    "start_time": "2022-05-29T14:00:20.158Z"
   },
   {
    "duration": 4,
    "start_time": "2022-05-29T14:00:33.410Z"
   },
   {
    "duration": 7,
    "start_time": "2022-05-29T14:00:36.948Z"
   },
   {
    "duration": 8,
    "start_time": "2022-05-29T14:01:09.221Z"
   },
   {
    "duration": 8,
    "start_time": "2022-05-29T14:01:53.649Z"
   },
   {
    "duration": 887,
    "start_time": "2022-05-29T15:11:21.184Z"
   },
   {
    "duration": 1184,
    "start_time": "2022-05-29T15:11:47.047Z"
   },
   {
    "duration": 8,
    "start_time": "2022-05-29T15:13:25.956Z"
   },
   {
    "duration": 305,
    "start_time": "2022-05-29T15:17:05.352Z"
   },
   {
    "duration": 11,
    "start_time": "2022-05-29T15:17:59.243Z"
   },
   {
    "duration": 13,
    "start_time": "2022-05-29T15:18:05.902Z"
   },
   {
    "duration": 8,
    "start_time": "2022-05-29T15:18:26.145Z"
   },
   {
    "duration": 15,
    "start_time": "2022-05-29T15:18:37.079Z"
   },
   {
    "duration": 9,
    "start_time": "2022-05-29T15:18:47.802Z"
   },
   {
    "duration": 17,
    "start_time": "2022-05-29T15:18:48.188Z"
   },
   {
    "duration": 818,
    "start_time": "2022-05-29T15:25:35.061Z"
   },
   {
    "duration": 806,
    "start_time": "2022-05-29T15:25:42.444Z"
   },
   {
    "duration": 150,
    "start_time": "2022-05-29T15:28:03.250Z"
   },
   {
    "duration": 17,
    "start_time": "2022-05-29T15:28:39.760Z"
   },
   {
    "duration": 3,
    "start_time": "2022-05-29T15:30:53.344Z"
   },
   {
    "duration": 19,
    "start_time": "2022-05-29T15:30:58.507Z"
   },
   {
    "duration": 4,
    "start_time": "2022-05-29T15:31:26.044Z"
   },
   {
    "duration": 22,
    "start_time": "2022-05-29T15:31:27.958Z"
   },
   {
    "duration": 3,
    "start_time": "2022-05-29T15:31:39.257Z"
   },
   {
    "duration": 23,
    "start_time": "2022-05-29T15:31:40.385Z"
   },
   {
    "duration": 4,
    "start_time": "2022-05-29T15:32:14.645Z"
   },
   {
    "duration": 5,
    "start_time": "2022-05-29T15:32:19.972Z"
   },
   {
    "duration": 4,
    "start_time": "2022-05-29T15:32:25.549Z"
   },
   {
    "duration": 4,
    "start_time": "2022-05-29T15:32:36.124Z"
   },
   {
    "duration": 5,
    "start_time": "2022-05-29T15:32:42.074Z"
   },
   {
    "duration": 21,
    "start_time": "2022-05-29T15:32:58.577Z"
   },
   {
    "duration": 17,
    "start_time": "2022-05-29T15:33:24.750Z"
   },
   {
    "duration": 3,
    "start_time": "2022-05-29T15:33:26.669Z"
   },
   {
    "duration": 7,
    "start_time": "2022-05-29T15:33:27.245Z"
   },
   {
    "duration": 22,
    "start_time": "2022-05-29T15:33:28.142Z"
   },
   {
    "duration": 3,
    "start_time": "2022-05-29T15:34:40.046Z"
   },
   {
    "duration": 11,
    "start_time": "2022-05-29T15:34:40.805Z"
   },
   {
    "duration": 12,
    "start_time": "2022-05-29T15:34:58.247Z"
   },
   {
    "duration": 13,
    "start_time": "2022-05-29T15:35:53.695Z"
   },
   {
    "duration": 4,
    "start_time": "2022-05-29T15:35:57.875Z"
   },
   {
    "duration": 20,
    "start_time": "2022-05-29T15:35:59.678Z"
   },
   {
    "duration": 50,
    "start_time": "2022-05-29T15:36:11.433Z"
   },
   {
    "duration": 15,
    "start_time": "2022-05-29T15:36:42.143Z"
   },
   {
    "duration": 3,
    "start_time": "2022-05-29T15:36:50.421Z"
   },
   {
    "duration": 7,
    "start_time": "2022-05-29T15:36:50.754Z"
   },
   {
    "duration": 15,
    "start_time": "2022-05-29T15:36:51.005Z"
   },
   {
    "duration": 48,
    "start_time": "2022-05-29T15:38:38.721Z"
   },
   {
    "duration": 514,
    "start_time": "2022-05-29T15:39:03.332Z"
   },
   {
    "duration": 1287,
    "start_time": "2022-05-29T15:39:55.863Z"
   },
   {
    "duration": 623,
    "start_time": "2022-05-29T15:39:57.152Z"
   },
   {
    "duration": 26,
    "start_time": "2022-05-29T15:39:57.776Z"
   },
   {
    "duration": 22,
    "start_time": "2022-05-29T15:39:57.804Z"
   },
   {
    "duration": 69,
    "start_time": "2022-05-29T15:39:57.828Z"
   },
   {
    "duration": 11,
    "start_time": "2022-05-29T15:39:57.899Z"
   },
   {
    "duration": 24,
    "start_time": "2022-05-29T15:39:57.912Z"
   },
   {
    "duration": 57,
    "start_time": "2022-05-29T15:39:57.938Z"
   },
   {
    "duration": 10,
    "start_time": "2022-05-29T15:39:58.004Z"
   },
   {
    "duration": 26,
    "start_time": "2022-05-29T15:39:58.016Z"
   },
   {
    "duration": 68,
    "start_time": "2022-05-29T15:39:58.044Z"
   },
   {
    "duration": 8,
    "start_time": "2022-05-29T15:39:58.114Z"
   },
   {
    "duration": 90,
    "start_time": "2022-05-29T15:39:58.124Z"
   },
   {
    "duration": 268,
    "start_time": "2022-05-29T15:39:58.216Z"
   },
   {
    "duration": 203,
    "start_time": "2022-05-29T15:39:58.486Z"
   },
   {
    "duration": 90,
    "start_time": "2022-05-29T15:39:58.695Z"
   },
   {
    "duration": 7,
    "start_time": "2022-05-29T15:39:58.787Z"
   },
   {
    "duration": 16,
    "start_time": "2022-05-29T15:39:58.795Z"
   },
   {
    "duration": 5,
    "start_time": "2022-05-29T15:39:58.813Z"
   },
   {
    "duration": 6,
    "start_time": "2022-05-29T15:39:58.819Z"
   },
   {
    "duration": 10,
    "start_time": "2022-05-29T15:39:58.827Z"
   },
   {
    "duration": 8,
    "start_time": "2022-05-29T15:39:58.838Z"
   },
   {
    "duration": 9,
    "start_time": "2022-05-29T15:39:58.847Z"
   },
   {
    "duration": 6,
    "start_time": "2022-05-29T15:39:58.857Z"
   },
   {
    "duration": 13,
    "start_time": "2022-05-29T15:39:58.893Z"
   },
   {
    "duration": 530,
    "start_time": "2022-05-29T15:39:58.908Z"
   },
   {
    "duration": 859,
    "start_time": "2022-05-29T15:39:59.440Z"
   },
   {
    "duration": 8,
    "start_time": "2022-05-29T15:40:00.303Z"
   },
   {
    "duration": 505,
    "start_time": "2022-05-29T15:40:46.193Z"
   },
   {
    "duration": 517,
    "start_time": "2022-05-29T15:40:54.277Z"
   },
   {
    "duration": 527,
    "start_time": "2022-05-29T15:41:09.346Z"
   },
   {
    "duration": 4,
    "start_time": "2022-05-29T15:43:27.925Z"
   },
   {
    "duration": 548,
    "start_time": "2022-05-29T15:43:45.413Z"
   },
   {
    "duration": 4,
    "start_time": "2022-05-29T15:46:48.649Z"
   },
   {
    "duration": 714,
    "start_time": "2022-05-29T15:46:53.310Z"
   },
   {
    "duration": 4,
    "start_time": "2022-05-29T15:46:59.370Z"
   },
   {
    "duration": 582,
    "start_time": "2022-05-29T15:47:00.650Z"
   },
   {
    "duration": 6,
    "start_time": "2022-05-29T15:50:15.367Z"
   },
   {
    "duration": 730,
    "start_time": "2022-05-29T15:50:16.166Z"
   },
   {
    "duration": 4,
    "start_time": "2022-05-29T15:50:32.817Z"
   },
   {
    "duration": 800,
    "start_time": "2022-05-29T15:50:34.350Z"
   },
   {
    "duration": 6,
    "start_time": "2022-05-29T15:50:38.360Z"
   },
   {
    "duration": 757,
    "start_time": "2022-05-29T15:50:39.418Z"
   },
   {
    "duration": 7,
    "start_time": "2022-05-29T15:52:15.847Z"
   },
   {
    "duration": 923,
    "start_time": "2022-05-29T15:52:16.726Z"
   },
   {
    "duration": 5,
    "start_time": "2022-05-29T15:52:45.845Z"
   },
   {
    "duration": 830,
    "start_time": "2022-05-29T15:52:46.247Z"
   },
   {
    "duration": 3,
    "start_time": "2022-05-29T15:55:50.818Z"
   },
   {
    "duration": 4,
    "start_time": "2022-05-29T15:55:51.216Z"
   },
   {
    "duration": 632,
    "start_time": "2022-05-29T15:55:51.573Z"
   },
   {
    "duration": 4,
    "start_time": "2022-05-29T15:56:07.530Z"
   },
   {
    "duration": 5,
    "start_time": "2022-05-29T15:56:07.861Z"
   },
   {
    "duration": 964,
    "start_time": "2022-05-29T15:56:08.208Z"
   },
   {
    "duration": 818,
    "start_time": "2022-05-29T15:56:21.920Z"
   },
   {
    "duration": 821,
    "start_time": "2022-05-29T15:56:58.918Z"
   },
   {
    "duration": 17,
    "start_time": "2022-05-29T16:00:47.278Z"
   },
   {
    "duration": 854,
    "start_time": "2022-05-29T16:00:47.850Z"
   },
   {
    "duration": 4,
    "start_time": "2022-05-29T16:01:23.847Z"
   },
   {
    "duration": 6,
    "start_time": "2022-05-29T16:01:24.141Z"
   },
   {
    "duration": 598,
    "start_time": "2022-05-29T16:01:24.532Z"
   },
   {
    "duration": 9,
    "start_time": "2022-05-29T16:02:08.342Z"
   },
   {
    "duration": 650,
    "start_time": "2022-05-29T16:02:08.742Z"
   },
   {
    "duration": 5,
    "start_time": "2022-05-29T16:02:47.826Z"
   },
   {
    "duration": 945,
    "start_time": "2022-05-29T16:02:48.442Z"
   },
   {
    "duration": 5,
    "start_time": "2022-05-29T16:03:24.241Z"
   },
   {
    "duration": 1015,
    "start_time": "2022-05-29T16:03:24.656Z"
   },
   {
    "duration": 5,
    "start_time": "2022-05-29T16:03:34.540Z"
   },
   {
    "duration": 890,
    "start_time": "2022-05-29T16:03:34.823Z"
   },
   {
    "duration": 860,
    "start_time": "2022-05-29T16:03:54.875Z"
   },
   {
    "duration": 891,
    "start_time": "2022-05-29T16:06:02.226Z"
   },
   {
    "duration": 872,
    "start_time": "2022-05-29T16:06:03.875Z"
   },
   {
    "duration": 3002,
    "start_time": "2022-05-29T17:13:40.310Z"
   },
   {
    "duration": 1528,
    "start_time": "2022-05-29T17:13:43.317Z"
   },
   {
    "duration": 21,
    "start_time": "2022-05-29T17:13:44.848Z"
   },
   {
    "duration": 25,
    "start_time": "2022-05-29T17:13:44.885Z"
   },
   {
    "duration": 97,
    "start_time": "2022-05-29T17:13:44.913Z"
   },
   {
    "duration": 13,
    "start_time": "2022-05-29T17:13:45.016Z"
   },
   {
    "duration": 40,
    "start_time": "2022-05-29T17:13:45.031Z"
   },
   {
    "duration": 77,
    "start_time": "2022-05-29T17:13:45.073Z"
   },
   {
    "duration": 13,
    "start_time": "2022-05-29T17:13:45.152Z"
   },
   {
    "duration": 34,
    "start_time": "2022-05-29T17:13:45.167Z"
   },
   {
    "duration": 102,
    "start_time": "2022-05-29T17:13:45.207Z"
   },
   {
    "duration": 9,
    "start_time": "2022-05-29T17:13:45.317Z"
   },
   {
    "duration": 255,
    "start_time": "2022-05-29T17:13:45.328Z"
   },
   {
    "duration": 103,
    "start_time": "2022-05-29T17:13:45.591Z"
   },
   {
    "duration": 199,
    "start_time": "2022-05-29T17:13:45.696Z"
   },
   {
    "duration": 91,
    "start_time": "2022-05-29T17:13:45.900Z"
   },
   {
    "duration": 26,
    "start_time": "2022-05-29T17:13:45.993Z"
   },
   {
    "duration": 8,
    "start_time": "2022-05-29T17:13:46.022Z"
   },
   {
    "duration": 7,
    "start_time": "2022-05-29T17:13:46.033Z"
   },
   {
    "duration": 5,
    "start_time": "2022-05-29T17:13:46.043Z"
   },
   {
    "duration": 13,
    "start_time": "2022-05-29T17:13:46.051Z"
   },
   {
    "duration": 29,
    "start_time": "2022-05-29T17:13:46.067Z"
   },
   {
    "duration": 13,
    "start_time": "2022-05-29T17:13:46.098Z"
   },
   {
    "duration": 24,
    "start_time": "2022-05-29T17:13:46.113Z"
   },
   {
    "duration": 11,
    "start_time": "2022-05-29T17:13:46.140Z"
   },
   {
    "duration": 189,
    "start_time": "2022-05-29T17:13:46.153Z"
   },
   {
    "duration": 0,
    "start_time": "2022-05-29T17:13:46.345Z"
   },
   {
    "duration": 0,
    "start_time": "2022-05-29T17:13:46.346Z"
   },
   {
    "duration": 1718,
    "start_time": "2022-05-29T17:14:00.263Z"
   },
   {
    "duration": 552,
    "start_time": "2022-05-29T17:14:01.986Z"
   },
   {
    "duration": 18,
    "start_time": "2022-05-29T17:14:02.540Z"
   },
   {
    "duration": 51,
    "start_time": "2022-05-29T17:14:02.561Z"
   },
   {
    "duration": 76,
    "start_time": "2022-05-29T17:14:02.617Z"
   },
   {
    "duration": 11,
    "start_time": "2022-05-29T17:14:02.695Z"
   },
   {
    "duration": 44,
    "start_time": "2022-05-29T17:14:02.708Z"
   },
   {
    "duration": 67,
    "start_time": "2022-05-29T17:14:02.754Z"
   },
   {
    "duration": 10,
    "start_time": "2022-05-29T17:14:02.823Z"
   },
   {
    "duration": 19,
    "start_time": "2022-05-29T17:14:02.840Z"
   },
   {
    "duration": 80,
    "start_time": "2022-05-29T17:14:02.862Z"
   },
   {
    "duration": 7,
    "start_time": "2022-05-29T17:14:02.944Z"
   },
   {
    "duration": 154,
    "start_time": "2022-05-29T17:14:02.954Z"
   },
   {
    "duration": 200,
    "start_time": "2022-05-29T17:14:03.112Z"
   },
   {
    "duration": 219,
    "start_time": "2022-05-29T17:14:03.317Z"
   },
   {
    "duration": 8,
    "start_time": "2022-05-29T17:14:03.585Z"
   },
   {
    "duration": 38,
    "start_time": "2022-05-29T17:14:03.595Z"
   },
   {
    "duration": 13,
    "start_time": "2022-05-29T17:14:03.635Z"
   },
   {
    "duration": 10,
    "start_time": "2022-05-29T17:14:03.650Z"
   },
   {
    "duration": 10,
    "start_time": "2022-05-29T17:14:03.662Z"
   },
   {
    "duration": 12,
    "start_time": "2022-05-29T17:14:03.674Z"
   },
   {
    "duration": 47,
    "start_time": "2022-05-29T17:14:03.693Z"
   },
   {
    "duration": 15,
    "start_time": "2022-05-29T17:14:03.744Z"
   },
   {
    "duration": 6,
    "start_time": "2022-05-29T17:14:03.761Z"
   },
   {
    "duration": 47,
    "start_time": "2022-05-29T17:14:03.769Z"
   },
   {
    "duration": 955,
    "start_time": "2022-05-29T17:14:03.820Z"
   },
   {
    "duration": 915,
    "start_time": "2022-05-29T17:14:04.777Z"
   },
   {
    "duration": 903,
    "start_time": "2022-05-29T17:14:05.698Z"
   },
   {
    "duration": 175,
    "start_time": "2022-05-29T17:14:58.736Z"
   },
   {
    "duration": 5,
    "start_time": "2022-05-29T17:15:02.237Z"
   },
   {
    "duration": 7,
    "start_time": "2022-05-29T17:15:02.817Z"
   },
   {
    "duration": 8,
    "start_time": "2022-05-29T17:15:11.760Z"
   },
   {
    "duration": 8,
    "start_time": "2022-05-29T17:15:39.220Z"
   },
   {
    "duration": 34,
    "start_time": "2022-05-29T17:15:40.069Z"
   },
   {
    "duration": 8,
    "start_time": "2022-05-29T17:17:59.102Z"
   },
   {
    "duration": 6,
    "start_time": "2022-05-29T17:18:02.503Z"
   },
   {
    "duration": 11,
    "start_time": "2022-05-29T17:18:02.982Z"
   },
   {
    "duration": 1569,
    "start_time": "2022-05-29T17:18:03.740Z"
   },
   {
    "duration": 2110,
    "start_time": "2022-05-29T17:18:41.382Z"
   },
   {
    "duration": 6,
    "start_time": "2022-05-29T17:19:06.635Z"
   },
   {
    "duration": 6963,
    "start_time": "2022-05-29T17:20:48.518Z"
   },
   {
    "duration": 9,
    "start_time": "2022-05-29T17:21:19.606Z"
   },
   {
    "duration": 5885,
    "start_time": "2022-05-29T17:21:23.666Z"
   },
   {
    "duration": 7,
    "start_time": "2022-05-29T17:21:30.254Z"
   },
   {
    "duration": 15,
    "start_time": "2022-05-29T17:25:38.427Z"
   },
   {
    "duration": 4719,
    "start_time": "2022-05-29T17:25:40.831Z"
   },
   {
    "duration": 1396,
    "start_time": "2022-05-29T17:25:50.055Z"
   },
   {
    "duration": 481,
    "start_time": "2022-05-29T17:25:51.454Z"
   },
   {
    "duration": 19,
    "start_time": "2022-05-29T17:25:51.938Z"
   },
   {
    "duration": 31,
    "start_time": "2022-05-29T17:25:51.960Z"
   },
   {
    "duration": 71,
    "start_time": "2022-05-29T17:25:51.993Z"
   },
   {
    "duration": 10,
    "start_time": "2022-05-29T17:25:52.066Z"
   },
   {
    "duration": 30,
    "start_time": "2022-05-29T17:25:52.084Z"
   },
   {
    "duration": 50,
    "start_time": "2022-05-29T17:25:52.116Z"
   },
   {
    "duration": 23,
    "start_time": "2022-05-29T17:25:52.168Z"
   },
   {
    "duration": 41,
    "start_time": "2022-05-29T17:25:52.193Z"
   },
   {
    "duration": 65,
    "start_time": "2022-05-29T17:25:52.236Z"
   },
   {
    "duration": 9,
    "start_time": "2022-05-29T17:25:52.308Z"
   },
   {
    "duration": 99,
    "start_time": "2022-05-29T17:25:52.319Z"
   },
   {
    "duration": 201,
    "start_time": "2022-05-29T17:25:52.422Z"
   },
   {
    "duration": 215,
    "start_time": "2022-05-29T17:25:52.684Z"
   },
   {
    "duration": 14,
    "start_time": "2022-05-29T17:25:52.902Z"
   },
   {
    "duration": 93,
    "start_time": "2022-05-29T17:25:52.920Z"
   },
   {
    "duration": 9,
    "start_time": "2022-05-29T17:25:53.015Z"
   },
   {
    "duration": 4,
    "start_time": "2022-05-29T17:25:53.027Z"
   },
   {
    "duration": 14,
    "start_time": "2022-05-29T17:25:53.034Z"
   },
   {
    "duration": 16,
    "start_time": "2022-05-29T17:25:53.050Z"
   },
   {
    "duration": 4761,
    "start_time": "2022-05-29T17:25:53.069Z"
   },
   {
    "duration": 7,
    "start_time": "2022-05-29T17:25:57.834Z"
   },
   {
    "duration": 172,
    "start_time": "2022-05-29T17:29:40.190Z"
   },
   {
    "duration": 4971,
    "start_time": "2022-05-29T17:29:44.411Z"
   },
   {
    "duration": 17,
    "start_time": "2022-05-29T17:29:52.386Z"
   },
   {
    "duration": 9,
    "start_time": "2022-05-29T17:29:57.763Z"
   },
   {
    "duration": 9,
    "start_time": "2022-05-29T17:30:11.522Z"
   },
   {
    "duration": 18,
    "start_time": "2022-05-29T17:31:04.612Z"
   },
   {
    "duration": 15,
    "start_time": "2022-05-29T17:31:14.564Z"
   },
   {
    "duration": 24,
    "start_time": "2022-05-29T17:31:28.775Z"
   },
   {
    "duration": 8,
    "start_time": "2022-05-29T17:32:05.617Z"
   },
   {
    "duration": 23,
    "start_time": "2022-05-29T17:32:06.217Z"
   },
   {
    "duration": 13,
    "start_time": "2022-05-29T17:32:06.529Z"
   },
   {
    "duration": 8,
    "start_time": "2022-05-29T17:32:32.256Z"
   },
   {
    "duration": 25,
    "start_time": "2022-05-29T17:32:32.904Z"
   },
   {
    "duration": 7,
    "start_time": "2022-05-29T17:32:42.262Z"
   },
   {
    "duration": 5424,
    "start_time": "2022-05-29T17:32:43.621Z"
   },
   {
    "duration": 14,
    "start_time": "2022-05-29T17:32:49.709Z"
   },
   {
    "duration": 10,
    "start_time": "2022-05-29T17:33:24.851Z"
   }
  ],
  "kernelspec": {
   "display_name": "Python 3 (ipykernel)",
   "language": "python",
   "name": "python3"
  },
  "language_info": {
   "codemirror_mode": {
    "name": "ipython",
    "version": 3
   },
   "file_extension": ".py",
   "mimetype": "text/x-python",
   "name": "python",
   "nbconvert_exporter": "python",
   "pygments_lexer": "ipython3",
   "version": "3.9.13"
  },
  "toc": {
   "base_numbering": 1,
   "nav_menu": {},
   "number_sections": true,
   "sideBar": true,
   "skip_h1_title": true,
   "title_cell": "Table of Contents",
   "title_sidebar": "Contents",
   "toc_cell": false,
   "toc_position": {
    "height": "calc(100% - 180px)",
    "left": "10px",
    "top": "150px",
    "width": "400.208px"
   },
   "toc_section_display": true,
   "toc_window_display": true
  }
 },
 "nbformat": 4,
 "nbformat_minor": 2
}
