{
 "cells": [
  {
   "cell_type": "markdown",
   "metadata": {},
   "source": [
    "# Описание проекта\n",
    "\n",
    "Вы работаете в интернет-магазине «Стримчик», который продаёт по всему миру компьютерные игры. Из открытых источников доступны исторические данные о продажах игр, оценки пользователей и экспертов, жанры и платформы (например, Xbox или PlayStation). Вам нужно выявить определяющие успешность игры закономерности. Это позволит сделать ставку на потенциально популярный продукт и спланировать рекламные кампании.\\\n",
    "Перед вами данные до 2016 года. Представим, что сейчас декабрь 2016 г., и вы планируете кампанию на 2017-й. Нужно отработать принцип работы с данными. Неважно, прогнозируете ли вы продажи на 2017 год по данным 2016-го или же 2027-й — по данным 2026 года.\\\n",
    "В наборе данных попадается аббревиатура ESRB (Entertainment Software Rating Board) — это ассоциация, определяющая возрастной рейтинг компьютерных игр. ESRB оценивает игровой контент и присваивает ему подходящую возрастную категорию, например, «Для взрослых», «Для детей младшего возраста» или «Для подростков».\n"
   ]
  },
  {
   "cell_type": "markdown",
   "metadata": {},
   "source": [
    "Описание данных\\\n",
    "•\tName — название игры\\\n",
    "•\tPlatform — платформа\\\n",
    "•\tYear_of_Release — год выпуска\\\n",
    "•\tGenre — жанр игры\\\n",
    "•\tNA_sales — продажи в Северной Америке (миллионы проданных копий)\\\n",
    "•\tEU_sales — продажи в Европе (миллионы проданных копий)\\\n",
    "•\tJP_sales — продажи в Японии (миллионы проданных копий)\\\n",
    "•\tOther_sales — продажи в других странах (миллионы проданных копий)\\\n",
    "•\tCritic_Score — оценка критиков (максимум 100)\\\n",
    "•\tUser_Score — оценка пользователей (максимум 10)\\\n",
    "•\tRating — рейтинг от организации ESRB (англ. Entertainment Software Rating Board). Эта ассоциация определяет рейтинг компьютерных игр и присваивает им подходящую возрастную категорию.\\\n",
    "Данные за 2016 год могут быть неполными.\n"
   ]
  },
  {
   "cell_type": "markdown",
   "metadata": {},
   "source": [
    "План работы:\n",
    "1. Изучение и первичная предобработка данных;\n",
    "2. Добавление суммарных продаж во всех регионах в таблицу;\n",
    "3. Исследовательский анализ данных;\n",
    "4. Описание портрета пользователя из каждого региона;\n",
    "5. Проверка гипотез;\n",
    "6. Общий вывод"
   ]
  },
  {
   "cell_type": "markdown",
   "metadata": {},
   "source": [
    "## Изучение и первичная предобработка данных\n",
    "Сначала откроем файл и изучим"
   ]
  },
  {
   "cell_type": "code",
   "execution_count": 1,
   "metadata": {},
   "outputs": [],
   "source": [
    "import pandas as pd\n",
    "import numpy as np\n",
    "import matplotlib.pyplot as plt\n",
    "%matplotlib inline\n",
    "from scipy import stats as st\n",
    "pd.options.display.float_format = '{:,.2f}'.format"
   ]
  },
  {
   "cell_type": "code",
   "execution_count": 2,
   "metadata": {},
   "outputs": [],
   "source": [
    "df = pd.read_csv('/datasets/games.csv') "
   ]
  },
  {
   "cell_type": "code",
   "execution_count": 3,
   "metadata": {},
   "outputs": [
    {
     "data": {
      "text/html": [
       "<div>\n",
       "<style scoped>\n",
       "    .dataframe tbody tr th:only-of-type {\n",
       "        vertical-align: middle;\n",
       "    }\n",
       "\n",
       "    .dataframe tbody tr th {\n",
       "        vertical-align: top;\n",
       "    }\n",
       "\n",
       "    .dataframe thead th {\n",
       "        text-align: right;\n",
       "    }\n",
       "</style>\n",
       "<table border=\"1\" class=\"dataframe\">\n",
       "  <thead>\n",
       "    <tr style=\"text-align: right;\">\n",
       "      <th></th>\n",
       "      <th>Name</th>\n",
       "      <th>Platform</th>\n",
       "      <th>Year_of_Release</th>\n",
       "      <th>Genre</th>\n",
       "      <th>NA_sales</th>\n",
       "      <th>EU_sales</th>\n",
       "      <th>JP_sales</th>\n",
       "      <th>Other_sales</th>\n",
       "      <th>Critic_Score</th>\n",
       "      <th>User_Score</th>\n",
       "      <th>Rating</th>\n",
       "    </tr>\n",
       "  </thead>\n",
       "  <tbody>\n",
       "    <tr>\n",
       "      <th>0</th>\n",
       "      <td>Wii Sports</td>\n",
       "      <td>Wii</td>\n",
       "      <td>2,006.00</td>\n",
       "      <td>Sports</td>\n",
       "      <td>41.36</td>\n",
       "      <td>28.96</td>\n",
       "      <td>3.77</td>\n",
       "      <td>8.45</td>\n",
       "      <td>76.00</td>\n",
       "      <td>8</td>\n",
       "      <td>E</td>\n",
       "    </tr>\n",
       "    <tr>\n",
       "      <th>1</th>\n",
       "      <td>Super Mario Bros.</td>\n",
       "      <td>NES</td>\n",
       "      <td>1,985.00</td>\n",
       "      <td>Platform</td>\n",
       "      <td>29.08</td>\n",
       "      <td>3.58</td>\n",
       "      <td>6.81</td>\n",
       "      <td>0.77</td>\n",
       "      <td>NaN</td>\n",
       "      <td>NaN</td>\n",
       "      <td>NaN</td>\n",
       "    </tr>\n",
       "    <tr>\n",
       "      <th>2</th>\n",
       "      <td>Mario Kart Wii</td>\n",
       "      <td>Wii</td>\n",
       "      <td>2,008.00</td>\n",
       "      <td>Racing</td>\n",
       "      <td>15.68</td>\n",
       "      <td>12.76</td>\n",
       "      <td>3.79</td>\n",
       "      <td>3.29</td>\n",
       "      <td>82.00</td>\n",
       "      <td>8.3</td>\n",
       "      <td>E</td>\n",
       "    </tr>\n",
       "    <tr>\n",
       "      <th>3</th>\n",
       "      <td>Wii Sports Resort</td>\n",
       "      <td>Wii</td>\n",
       "      <td>2,009.00</td>\n",
       "      <td>Sports</td>\n",
       "      <td>15.61</td>\n",
       "      <td>10.93</td>\n",
       "      <td>3.28</td>\n",
       "      <td>2.95</td>\n",
       "      <td>80.00</td>\n",
       "      <td>8</td>\n",
       "      <td>E</td>\n",
       "    </tr>\n",
       "    <tr>\n",
       "      <th>4</th>\n",
       "      <td>Pokemon Red/Pokemon Blue</td>\n",
       "      <td>GB</td>\n",
       "      <td>1,996.00</td>\n",
       "      <td>Role-Playing</td>\n",
       "      <td>11.27</td>\n",
       "      <td>8.89</td>\n",
       "      <td>10.22</td>\n",
       "      <td>1.00</td>\n",
       "      <td>NaN</td>\n",
       "      <td>NaN</td>\n",
       "      <td>NaN</td>\n",
       "    </tr>\n",
       "    <tr>\n",
       "      <th>5</th>\n",
       "      <td>Tetris</td>\n",
       "      <td>GB</td>\n",
       "      <td>1,989.00</td>\n",
       "      <td>Puzzle</td>\n",
       "      <td>23.20</td>\n",
       "      <td>2.26</td>\n",
       "      <td>4.22</td>\n",
       "      <td>0.58</td>\n",
       "      <td>NaN</td>\n",
       "      <td>NaN</td>\n",
       "      <td>NaN</td>\n",
       "    </tr>\n",
       "    <tr>\n",
       "      <th>6</th>\n",
       "      <td>New Super Mario Bros.</td>\n",
       "      <td>DS</td>\n",
       "      <td>2,006.00</td>\n",
       "      <td>Platform</td>\n",
       "      <td>11.28</td>\n",
       "      <td>9.14</td>\n",
       "      <td>6.50</td>\n",
       "      <td>2.88</td>\n",
       "      <td>89.00</td>\n",
       "      <td>8.5</td>\n",
       "      <td>E</td>\n",
       "    </tr>\n",
       "    <tr>\n",
       "      <th>7</th>\n",
       "      <td>Wii Play</td>\n",
       "      <td>Wii</td>\n",
       "      <td>2,006.00</td>\n",
       "      <td>Misc</td>\n",
       "      <td>13.96</td>\n",
       "      <td>9.18</td>\n",
       "      <td>2.93</td>\n",
       "      <td>2.84</td>\n",
       "      <td>58.00</td>\n",
       "      <td>6.6</td>\n",
       "      <td>E</td>\n",
       "    </tr>\n",
       "    <tr>\n",
       "      <th>8</th>\n",
       "      <td>New Super Mario Bros. Wii</td>\n",
       "      <td>Wii</td>\n",
       "      <td>2,009.00</td>\n",
       "      <td>Platform</td>\n",
       "      <td>14.44</td>\n",
       "      <td>6.94</td>\n",
       "      <td>4.70</td>\n",
       "      <td>2.24</td>\n",
       "      <td>87.00</td>\n",
       "      <td>8.4</td>\n",
       "      <td>E</td>\n",
       "    </tr>\n",
       "    <tr>\n",
       "      <th>9</th>\n",
       "      <td>Duck Hunt</td>\n",
       "      <td>NES</td>\n",
       "      <td>1,984.00</td>\n",
       "      <td>Shooter</td>\n",
       "      <td>26.93</td>\n",
       "      <td>0.63</td>\n",
       "      <td>0.28</td>\n",
       "      <td>0.47</td>\n",
       "      <td>NaN</td>\n",
       "      <td>NaN</td>\n",
       "      <td>NaN</td>\n",
       "    </tr>\n",
       "  </tbody>\n",
       "</table>\n",
       "</div>"
      ],
      "text/plain": [
       "                        Name Platform  Year_of_Release         Genre  \\\n",
       "0                 Wii Sports      Wii         2,006.00        Sports   \n",
       "1          Super Mario Bros.      NES         1,985.00      Platform   \n",
       "2             Mario Kart Wii      Wii         2,008.00        Racing   \n",
       "3          Wii Sports Resort      Wii         2,009.00        Sports   \n",
       "4   Pokemon Red/Pokemon Blue       GB         1,996.00  Role-Playing   \n",
       "5                     Tetris       GB         1,989.00        Puzzle   \n",
       "6      New Super Mario Bros.       DS         2,006.00      Platform   \n",
       "7                   Wii Play      Wii         2,006.00          Misc   \n",
       "8  New Super Mario Bros. Wii      Wii         2,009.00      Platform   \n",
       "9                  Duck Hunt      NES         1,984.00       Shooter   \n",
       "\n",
       "   NA_sales  EU_sales  JP_sales  Other_sales  Critic_Score User_Score Rating  \n",
       "0     41.36     28.96      3.77         8.45         76.00          8      E  \n",
       "1     29.08      3.58      6.81         0.77           NaN        NaN    NaN  \n",
       "2     15.68     12.76      3.79         3.29         82.00        8.3      E  \n",
       "3     15.61     10.93      3.28         2.95         80.00          8      E  \n",
       "4     11.27      8.89     10.22         1.00           NaN        NaN    NaN  \n",
       "5     23.20      2.26      4.22         0.58           NaN        NaN    NaN  \n",
       "6     11.28      9.14      6.50         2.88         89.00        8.5      E  \n",
       "7     13.96      9.18      2.93         2.84         58.00        6.6      E  \n",
       "8     14.44      6.94      4.70         2.24         87.00        8.4      E  \n",
       "9     26.93      0.63      0.28         0.47           NaN        NaN    NaN  "
      ]
     },
     "execution_count": 3,
     "metadata": {},
     "output_type": "execute_result"
    }
   ],
   "source": [
    "df.head(10) # выведем первые 10 строк"
   ]
  },
  {
   "cell_type": "code",
   "execution_count": 4,
   "metadata": {},
   "outputs": [
    {
     "name": "stdout",
     "output_type": "stream",
     "text": [
      "<class 'pandas.core.frame.DataFrame'>\n",
      "RangeIndex: 16715 entries, 0 to 16714\n",
      "Data columns (total 11 columns):\n",
      " #   Column           Non-Null Count  Dtype  \n",
      "---  ------           --------------  -----  \n",
      " 0   Name             16713 non-null  object \n",
      " 1   Platform         16715 non-null  object \n",
      " 2   Year_of_Release  16446 non-null  float64\n",
      " 3   Genre            16713 non-null  object \n",
      " 4   NA_sales         16715 non-null  float64\n",
      " 5   EU_sales         16715 non-null  float64\n",
      " 6   JP_sales         16715 non-null  float64\n",
      " 7   Other_sales      16715 non-null  float64\n",
      " 8   Critic_Score     8137 non-null   float64\n",
      " 9   User_Score       10014 non-null  object \n",
      " 10  Rating           9949 non-null   object \n",
      "dtypes: float64(6), object(5)\n",
      "memory usage: 1.4+ MB\n"
     ]
    }
   ],
   "source": [
    "df.info() # выводим информацию о датасете"
   ]
  },
  {
   "cell_type": "markdown",
   "metadata": {},
   "source": [
    "Наблюдаем несколько проблем: \n",
    "- Названия столбцов оформлены криво, необходимо перевести все в нижний регистр;\n",
    "- Присутствую пропуски в столбцах Name, Year_of_Release, Genre, Critic_Score, User_Score, Rating;\n",
    "- У некоторых столбцов необходимо поменять тип данных: Year_of_Release на int, User_Score на float\n",
    "\n",
    "Начнем с переименования столбцов"
   ]
  },
  {
   "cell_type": "code",
   "execution_count": 5,
   "metadata": {},
   "outputs": [],
   "source": [
    "# переименуем столбцы \n",
    "df = df.rename(\n",
    "    columns={\n",
    "        'Name':'name', \n",
    "        'Platform':'platform',        \n",
    "        'Year_of_Release':'release_year',\n",
    "        'Genre':'genre',\n",
    "        'NA_sales':'na_sales',\n",
    "        'EU_sales':'eu_sales',\n",
    "        'JP_sales':'jp_sales',\n",
    "        'Other_sales':'other_sales',\n",
    "        'Critic_Score':'critic_score',\n",
    "        'User_Score':'user_score',\n",
    "        'Rating':'rating',\n",
    "    } \n",
    ")"
   ]
  },
  {
   "cell_type": "code",
   "execution_count": 6,
   "metadata": {},
   "outputs": [
    {
     "data": {
      "text/plain": [
       "Index(['name', 'platform', 'release_year', 'genre', 'na_sales', 'eu_sales',\n",
       "       'jp_sales', 'other_sales', 'critic_score', 'user_score', 'rating'],\n",
       "      dtype='object')"
      ]
     },
     "execution_count": 6,
     "metadata": {},
     "output_type": "execute_result"
    }
   ],
   "source": [
    "df.columns # смотрим результат"
   ]
  },
  {
   "cell_type": "markdown",
   "metadata": {},
   "source": [
    "Названия успешно заменились. Проверим теперь датасет на наличие явных и неявных дубликатов."
   ]
  },
  {
   "cell_type": "code",
   "execution_count": 7,
   "metadata": {},
   "outputs": [
    {
     "data": {
      "text/plain": [
       "0"
      ]
     },
     "execution_count": 7,
     "metadata": {},
     "output_type": "execute_result"
    }
   ],
   "source": [
    "df.duplicated().sum() # проверим явные дубликаты"
   ]
  },
  {
   "cell_type": "code",
   "execution_count": 8,
   "metadata": {},
   "outputs": [
    {
     "data": {
      "text/plain": [
       "array(['Wii', 'NES', 'GB', 'DS', 'X360', 'PS3', 'PS2', 'SNES', 'GBA',\n",
       "       'PS4', '3DS', 'N64', 'PS', 'XB', 'PC', '2600', 'PSP', 'XOne',\n",
       "       'WiiU', 'GC', 'GEN', 'DC', 'PSV', 'SAT', 'SCD', 'WS', 'NG', 'TG16',\n",
       "       '3DO', 'GG', 'PCFX'], dtype=object)"
      ]
     },
     "execution_count": 8,
     "metadata": {},
     "output_type": "execute_result"
    }
   ],
   "source": [
    "df['platform'].unique() # проверим неявные дубликаты"
   ]
  },
  {
   "cell_type": "code",
   "execution_count": 9,
   "metadata": {},
   "outputs": [
    {
     "data": {
      "text/plain": [
       "array(['Sports', 'Platform', 'Racing', 'Role-Playing', 'Puzzle', 'Misc',\n",
       "       'Shooter', 'Simulation', 'Action', 'Fighting', 'Adventure',\n",
       "       'Strategy', nan], dtype=object)"
      ]
     },
     "execution_count": 9,
     "metadata": {},
     "output_type": "execute_result"
    }
   ],
   "source": [
    "df['genre'].unique() # проверим неявные дубликаты"
   ]
  },
  {
   "cell_type": "code",
   "execution_count": 10,
   "metadata": {},
   "outputs": [
    {
     "data": {
      "text/plain": [
       "array(['E', nan, 'M', 'T', 'E10+', 'K-A', 'AO', 'EC', 'RP'], dtype=object)"
      ]
     },
     "execution_count": 10,
     "metadata": {},
     "output_type": "execute_result"
    }
   ],
   "source": [
    "df['rating'].unique() # проверим неявные дубликаты"
   ]
  },
  {
   "cell_type": "code",
   "execution_count": 11,
   "metadata": {},
   "outputs": [
    {
     "data": {
      "text/plain": [
       "array(['8', nan, '8.3', '8.5', '6.6', '8.4', '8.6', '7.7', '6.3', '7.4',\n",
       "       '8.2', '9', '7.9', '8.1', '8.7', '7.1', '3.4', '5.3', '4.8', '3.2',\n",
       "       '8.9', '6.4', '7.8', '7.5', '2.6', '7.2', '9.2', '7', '7.3', '4.3',\n",
       "       '7.6', '5.7', '5', '9.1', '6.5', 'tbd', '8.8', '6.9', '9.4', '6.8',\n",
       "       '6.1', '6.7', '5.4', '4', '4.9', '4.5', '9.3', '6.2', '4.2', '6',\n",
       "       '3.7', '4.1', '5.8', '5.6', '5.5', '4.4', '4.6', '5.9', '3.9',\n",
       "       '3.1', '2.9', '5.2', '3.3', '4.7', '5.1', '3.5', '2.5', '1.9', '3',\n",
       "       '2.7', '2.2', '2', '9.5', '2.1', '3.6', '2.8', '1.8', '3.8', '0',\n",
       "       '1.6', '9.6', '2.4', '1.7', '1.1', '0.3', '1.5', '0.7', '1.2',\n",
       "       '2.3', '0.5', '1.3', '0.2', '0.6', '1.4', '0.9', '1', '9.7'],\n",
       "      dtype=object)"
      ]
     },
     "execution_count": 11,
     "metadata": {},
     "output_type": "execute_result"
    }
   ],
   "source": [
    "df['user_score'].unique() # проверим правильность значений"
   ]
  },
  {
   "cell_type": "code",
   "execution_count": 12,
   "metadata": {},
   "outputs": [
    {
     "data": {
      "text/html": [
       "<div>\n",
       "<style scoped>\n",
       "    .dataframe tbody tr th:only-of-type {\n",
       "        vertical-align: middle;\n",
       "    }\n",
       "\n",
       "    .dataframe tbody tr th {\n",
       "        vertical-align: top;\n",
       "    }\n",
       "\n",
       "    .dataframe thead th {\n",
       "        text-align: right;\n",
       "    }\n",
       "</style>\n",
       "<table border=\"1\" class=\"dataframe\">\n",
       "  <thead>\n",
       "    <tr style=\"text-align: right;\">\n",
       "      <th></th>\n",
       "      <th>name</th>\n",
       "      <th>platform</th>\n",
       "      <th>release_year</th>\n",
       "      <th>genre</th>\n",
       "      <th>na_sales</th>\n",
       "      <th>eu_sales</th>\n",
       "      <th>jp_sales</th>\n",
       "      <th>other_sales</th>\n",
       "      <th>critic_score</th>\n",
       "      <th>user_score</th>\n",
       "      <th>rating</th>\n",
       "    </tr>\n",
       "  </thead>\n",
       "  <tbody>\n",
       "    <tr>\n",
       "      <th>119</th>\n",
       "      <td>Zumba Fitness</td>\n",
       "      <td>Wii</td>\n",
       "      <td>2,010.00</td>\n",
       "      <td>Sports</td>\n",
       "      <td>3.45</td>\n",
       "      <td>2.59</td>\n",
       "      <td>0.00</td>\n",
       "      <td>0.66</td>\n",
       "      <td>NaN</td>\n",
       "      <td>tbd</td>\n",
       "      <td>E</td>\n",
       "    </tr>\n",
       "    <tr>\n",
       "      <th>301</th>\n",
       "      <td>Namco Museum: 50th Anniversary</td>\n",
       "      <td>PS2</td>\n",
       "      <td>2,005.00</td>\n",
       "      <td>Misc</td>\n",
       "      <td>2.08</td>\n",
       "      <td>1.35</td>\n",
       "      <td>0.00</td>\n",
       "      <td>0.54</td>\n",
       "      <td>61.00</td>\n",
       "      <td>tbd</td>\n",
       "      <td>E10+</td>\n",
       "    </tr>\n",
       "    <tr>\n",
       "      <th>520</th>\n",
       "      <td>Zumba Fitness 2</td>\n",
       "      <td>Wii</td>\n",
       "      <td>2,011.00</td>\n",
       "      <td>Sports</td>\n",
       "      <td>1.51</td>\n",
       "      <td>1.03</td>\n",
       "      <td>0.00</td>\n",
       "      <td>0.27</td>\n",
       "      <td>NaN</td>\n",
       "      <td>tbd</td>\n",
       "      <td>T</td>\n",
       "    </tr>\n",
       "    <tr>\n",
       "      <th>645</th>\n",
       "      <td>uDraw Studio</td>\n",
       "      <td>Wii</td>\n",
       "      <td>2,010.00</td>\n",
       "      <td>Misc</td>\n",
       "      <td>1.65</td>\n",
       "      <td>0.57</td>\n",
       "      <td>0.00</td>\n",
       "      <td>0.20</td>\n",
       "      <td>71.00</td>\n",
       "      <td>tbd</td>\n",
       "      <td>E</td>\n",
       "    </tr>\n",
       "    <tr>\n",
       "      <th>657</th>\n",
       "      <td>Frogger's Adventures: Temple of the Frog</td>\n",
       "      <td>GBA</td>\n",
       "      <td>NaN</td>\n",
       "      <td>Adventure</td>\n",
       "      <td>2.15</td>\n",
       "      <td>0.18</td>\n",
       "      <td>0.00</td>\n",
       "      <td>0.07</td>\n",
       "      <td>73.00</td>\n",
       "      <td>tbd</td>\n",
       "      <td>E</td>\n",
       "    </tr>\n",
       "    <tr>\n",
       "      <th>...</th>\n",
       "      <td>...</td>\n",
       "      <td>...</td>\n",
       "      <td>...</td>\n",
       "      <td>...</td>\n",
       "      <td>...</td>\n",
       "      <td>...</td>\n",
       "      <td>...</td>\n",
       "      <td>...</td>\n",
       "      <td>...</td>\n",
       "      <td>...</td>\n",
       "      <td>...</td>\n",
       "    </tr>\n",
       "    <tr>\n",
       "      <th>16695</th>\n",
       "      <td>Planet Monsters</td>\n",
       "      <td>GBA</td>\n",
       "      <td>2,001.00</td>\n",
       "      <td>Action</td>\n",
       "      <td>0.01</td>\n",
       "      <td>0.00</td>\n",
       "      <td>0.00</td>\n",
       "      <td>0.00</td>\n",
       "      <td>67.00</td>\n",
       "      <td>tbd</td>\n",
       "      <td>E</td>\n",
       "    </tr>\n",
       "    <tr>\n",
       "      <th>16697</th>\n",
       "      <td>Bust-A-Move 3000</td>\n",
       "      <td>GC</td>\n",
       "      <td>2,003.00</td>\n",
       "      <td>Puzzle</td>\n",
       "      <td>0.01</td>\n",
       "      <td>0.00</td>\n",
       "      <td>0.00</td>\n",
       "      <td>0.00</td>\n",
       "      <td>53.00</td>\n",
       "      <td>tbd</td>\n",
       "      <td>E</td>\n",
       "    </tr>\n",
       "    <tr>\n",
       "      <th>16698</th>\n",
       "      <td>Mega Brain Boost</td>\n",
       "      <td>DS</td>\n",
       "      <td>2,008.00</td>\n",
       "      <td>Puzzle</td>\n",
       "      <td>0.01</td>\n",
       "      <td>0.00</td>\n",
       "      <td>0.00</td>\n",
       "      <td>0.00</td>\n",
       "      <td>48.00</td>\n",
       "      <td>tbd</td>\n",
       "      <td>E</td>\n",
       "    </tr>\n",
       "    <tr>\n",
       "      <th>16704</th>\n",
       "      <td>Plushees</td>\n",
       "      <td>DS</td>\n",
       "      <td>2,008.00</td>\n",
       "      <td>Simulation</td>\n",
       "      <td>0.01</td>\n",
       "      <td>0.00</td>\n",
       "      <td>0.00</td>\n",
       "      <td>0.00</td>\n",
       "      <td>NaN</td>\n",
       "      <td>tbd</td>\n",
       "      <td>E</td>\n",
       "    </tr>\n",
       "    <tr>\n",
       "      <th>16706</th>\n",
       "      <td>Men in Black II: Alien Escape</td>\n",
       "      <td>GC</td>\n",
       "      <td>2,003.00</td>\n",
       "      <td>Shooter</td>\n",
       "      <td>0.01</td>\n",
       "      <td>0.00</td>\n",
       "      <td>0.00</td>\n",
       "      <td>0.00</td>\n",
       "      <td>NaN</td>\n",
       "      <td>tbd</td>\n",
       "      <td>T</td>\n",
       "    </tr>\n",
       "  </tbody>\n",
       "</table>\n",
       "<p>2424 rows × 11 columns</p>\n",
       "</div>"
      ],
      "text/plain": [
       "                                           name platform  release_year  \\\n",
       "119                               Zumba Fitness      Wii      2,010.00   \n",
       "301              Namco Museum: 50th Anniversary      PS2      2,005.00   \n",
       "520                             Zumba Fitness 2      Wii      2,011.00   \n",
       "645                                uDraw Studio      Wii      2,010.00   \n",
       "657    Frogger's Adventures: Temple of the Frog      GBA           NaN   \n",
       "...                                         ...      ...           ...   \n",
       "16695                           Planet Monsters      GBA      2,001.00   \n",
       "16697                          Bust-A-Move 3000       GC      2,003.00   \n",
       "16698                          Mega Brain Boost       DS      2,008.00   \n",
       "16704                                  Plushees       DS      2,008.00   \n",
       "16706             Men in Black II: Alien Escape       GC      2,003.00   \n",
       "\n",
       "            genre  na_sales  eu_sales  jp_sales  other_sales  critic_score  \\\n",
       "119        Sports      3.45      2.59      0.00         0.66           NaN   \n",
       "301          Misc      2.08      1.35      0.00         0.54         61.00   \n",
       "520        Sports      1.51      1.03      0.00         0.27           NaN   \n",
       "645          Misc      1.65      0.57      0.00         0.20         71.00   \n",
       "657     Adventure      2.15      0.18      0.00         0.07         73.00   \n",
       "...           ...       ...       ...       ...          ...           ...   \n",
       "16695      Action      0.01      0.00      0.00         0.00         67.00   \n",
       "16697      Puzzle      0.01      0.00      0.00         0.00         53.00   \n",
       "16698      Puzzle      0.01      0.00      0.00         0.00         48.00   \n",
       "16704  Simulation      0.01      0.00      0.00         0.00           NaN   \n",
       "16706     Shooter      0.01      0.00      0.00         0.00           NaN   \n",
       "\n",
       "      user_score rating  \n",
       "119          tbd      E  \n",
       "301          tbd   E10+  \n",
       "520          tbd      T  \n",
       "645          tbd      E  \n",
       "657          tbd      E  \n",
       "...          ...    ...  \n",
       "16695        tbd      E  \n",
       "16697        tbd      E  \n",
       "16698        tbd      E  \n",
       "16704        tbd      E  \n",
       "16706        tbd      T  \n",
       "\n",
       "[2424 rows x 11 columns]"
      ]
     },
     "execution_count": 12,
     "metadata": {},
     "output_type": "execute_result"
    }
   ],
   "source": [
    "df[df['user_score'] == 'tbd'] # кол-во tbd в датасете"
   ]
  },
  {
   "cell_type": "markdown",
   "metadata": {},
   "source": [
    "Дубликатов не найдено, зато в столбце user_score имеется странный показатель tbd, который присутствует в 2424 строках. Скорее всего он означает, что на данную игру пользователи не оставили отзывов. Поэтому поменяем все tbd на None."
   ]
  },
  {
   "cell_type": "code",
   "execution_count": 13,
   "metadata": {},
   "outputs": [],
   "source": [
    "df['user_score'] = df['user_score'].replace('tbd', None) # заменя tbd на None"
   ]
  },
  {
   "cell_type": "code",
   "execution_count": 14,
   "metadata": {},
   "outputs": [
    {
     "data": {
      "text/plain": [
       "name           0.00\n",
       "platform       0.00\n",
       "release_year   0.00\n",
       "genre          0.00\n",
       "na_sales       0.00\n",
       "eu_sales       0.00\n",
       "jp_sales       0.00\n",
       "other_sales    0.00\n",
       "critic_score   0.00\n",
       "user_score     0.00\n",
       "rating         0.00\n",
       "dtype: float64"
      ]
     },
     "execution_count": 14,
     "metadata": {},
     "output_type": "execute_result"
    }
   ],
   "source": [
    "df[df['user_score'] == 'tbd'].sum()"
   ]
  },
  {
   "cell_type": "markdown",
   "metadata": {},
   "source": [
    "Значения успешно заменены. Посмотрим на пропущеные значения в столбце release_year и genre. В них содержится информация, важная для исследования, так как мы рассматриваем разные периоды. Учитывая, что этих строк в датасете мало, проще их будет удалить."
   ]
  },
  {
   "cell_type": "code",
   "execution_count": 15,
   "metadata": {},
   "outputs": [],
   "source": [
    "df = df.dropna(subset=['release_year'])\n",
    "df = df.dropna(subset=['genre'])"
   ]
  },
  {
   "cell_type": "code",
   "execution_count": 16,
   "metadata": {},
   "outputs": [
    {
     "name": "stdout",
     "output_type": "stream",
     "text": [
      "<class 'pandas.core.frame.DataFrame'>\n",
      "Int64Index: 16444 entries, 0 to 16714\n",
      "Data columns (total 11 columns):\n",
      " #   Column        Non-Null Count  Dtype  \n",
      "---  ------        --------------  -----  \n",
      " 0   name          16444 non-null  object \n",
      " 1   platform      16444 non-null  object \n",
      " 2   release_year  16444 non-null  float64\n",
      " 3   genre         16444 non-null  object \n",
      " 4   na_sales      16444 non-null  float64\n",
      " 5   eu_sales      16444 non-null  float64\n",
      " 6   jp_sales      16444 non-null  float64\n",
      " 7   other_sales   16444 non-null  float64\n",
      " 8   critic_score  7983 non-null   float64\n",
      " 9   user_score    8609 non-null   object \n",
      " 10  rating        9768 non-null   object \n",
      "dtypes: float64(6), object(5)\n",
      "memory usage: 1.5+ MB\n"
     ]
    }
   ],
   "source": [
    "df.info()"
   ]
  },
  {
   "cell_type": "markdown",
   "metadata": {},
   "source": [
    "Строки удалены. Дальше поменяем типы данных."
   ]
  },
  {
   "cell_type": "code",
   "execution_count": 17,
   "metadata": {},
   "outputs": [],
   "source": [
    "df['release_year'] = df['release_year'].astype('int64') "
   ]
  },
  {
   "cell_type": "code",
   "execution_count": 18,
   "metadata": {},
   "outputs": [],
   "source": [
    "df['user_score'] = df['user_score'].apply(pd.to_numeric)"
   ]
  },
  {
   "cell_type": "code",
   "execution_count": 19,
   "metadata": {},
   "outputs": [],
   "source": [
    "df['user_score'] = df['user_score'].astype('float64')"
   ]
  },
  {
   "cell_type": "code",
   "execution_count": 20,
   "metadata": {},
   "outputs": [
    {
     "name": "stdout",
     "output_type": "stream",
     "text": [
      "<class 'pandas.core.frame.DataFrame'>\n",
      "Int64Index: 16444 entries, 0 to 16714\n",
      "Data columns (total 11 columns):\n",
      " #   Column        Non-Null Count  Dtype  \n",
      "---  ------        --------------  -----  \n",
      " 0   name          16444 non-null  object \n",
      " 1   platform      16444 non-null  object \n",
      " 2   release_year  16444 non-null  int64  \n",
      " 3   genre         16444 non-null  object \n",
      " 4   na_sales      16444 non-null  float64\n",
      " 5   eu_sales      16444 non-null  float64\n",
      " 6   jp_sales      16444 non-null  float64\n",
      " 7   other_sales   16444 non-null  float64\n",
      " 8   critic_score  7983 non-null   float64\n",
      " 9   user_score    8609 non-null   float64\n",
      " 10  rating        9768 non-null   object \n",
      "dtypes: float64(6), int64(1), object(4)\n",
      "memory usage: 1.5+ MB\n"
     ]
    }
   ],
   "source": [
    "df.info() # проверяем"
   ]
  },
  {
   "cell_type": "markdown",
   "metadata": {},
   "source": [
    "После проверки видим, что типы успешно заменены."
   ]
  },
  {
   "cell_type": "markdown",
   "metadata": {},
   "source": [
    "## Добавление новых данных\n",
    "Посчитаем суммарные продажи во всех регионах и запишем их в отдельный столбец."
   ]
  },
  {
   "cell_type": "code",
   "execution_count": 21,
   "metadata": {},
   "outputs": [],
   "source": [
    "df['total_sales'] = df['na_sales'] + df['eu_sales'] + df['jp_sales'] # добавление нового столбца"
   ]
  },
  {
   "cell_type": "code",
   "execution_count": 22,
   "metadata": {},
   "outputs": [
    {
     "data": {
      "text/plain": [
       "0"
      ]
     },
     "execution_count": 22,
     "metadata": {},
     "output_type": "execute_result"
    }
   ],
   "source": [
    "df['total_sales'].isna().sum() # проверка"
   ]
  },
  {
   "cell_type": "code",
   "execution_count": 23,
   "metadata": {},
   "outputs": [
    {
     "data": {
      "text/html": [
       "<div>\n",
       "<style scoped>\n",
       "    .dataframe tbody tr th:only-of-type {\n",
       "        vertical-align: middle;\n",
       "    }\n",
       "\n",
       "    .dataframe tbody tr th {\n",
       "        vertical-align: top;\n",
       "    }\n",
       "\n",
       "    .dataframe thead th {\n",
       "        text-align: right;\n",
       "    }\n",
       "</style>\n",
       "<table border=\"1\" class=\"dataframe\">\n",
       "  <thead>\n",
       "    <tr style=\"text-align: right;\">\n",
       "      <th></th>\n",
       "      <th>name</th>\n",
       "      <th>platform</th>\n",
       "      <th>release_year</th>\n",
       "      <th>genre</th>\n",
       "      <th>na_sales</th>\n",
       "      <th>eu_sales</th>\n",
       "      <th>jp_sales</th>\n",
       "      <th>other_sales</th>\n",
       "      <th>critic_score</th>\n",
       "      <th>user_score</th>\n",
       "      <th>rating</th>\n",
       "      <th>total_sales</th>\n",
       "    </tr>\n",
       "  </thead>\n",
       "  <tbody>\n",
       "    <tr>\n",
       "      <th>0</th>\n",
       "      <td>Wii Sports</td>\n",
       "      <td>Wii</td>\n",
       "      <td>2006</td>\n",
       "      <td>Sports</td>\n",
       "      <td>41.36</td>\n",
       "      <td>28.96</td>\n",
       "      <td>3.77</td>\n",
       "      <td>8.45</td>\n",
       "      <td>76.00</td>\n",
       "      <td>8.00</td>\n",
       "      <td>E</td>\n",
       "      <td>74.09</td>\n",
       "    </tr>\n",
       "    <tr>\n",
       "      <th>1</th>\n",
       "      <td>Super Mario Bros.</td>\n",
       "      <td>NES</td>\n",
       "      <td>1985</td>\n",
       "      <td>Platform</td>\n",
       "      <td>29.08</td>\n",
       "      <td>3.58</td>\n",
       "      <td>6.81</td>\n",
       "      <td>0.77</td>\n",
       "      <td>NaN</td>\n",
       "      <td>NaN</td>\n",
       "      <td>NaN</td>\n",
       "      <td>39.47</td>\n",
       "    </tr>\n",
       "    <tr>\n",
       "      <th>2</th>\n",
       "      <td>Mario Kart Wii</td>\n",
       "      <td>Wii</td>\n",
       "      <td>2008</td>\n",
       "      <td>Racing</td>\n",
       "      <td>15.68</td>\n",
       "      <td>12.76</td>\n",
       "      <td>3.79</td>\n",
       "      <td>3.29</td>\n",
       "      <td>82.00</td>\n",
       "      <td>8.30</td>\n",
       "      <td>E</td>\n",
       "      <td>32.23</td>\n",
       "    </tr>\n",
       "    <tr>\n",
       "      <th>3</th>\n",
       "      <td>Wii Sports Resort</td>\n",
       "      <td>Wii</td>\n",
       "      <td>2009</td>\n",
       "      <td>Sports</td>\n",
       "      <td>15.61</td>\n",
       "      <td>10.93</td>\n",
       "      <td>3.28</td>\n",
       "      <td>2.95</td>\n",
       "      <td>80.00</td>\n",
       "      <td>8.00</td>\n",
       "      <td>E</td>\n",
       "      <td>29.82</td>\n",
       "    </tr>\n",
       "    <tr>\n",
       "      <th>4</th>\n",
       "      <td>Pokemon Red/Pokemon Blue</td>\n",
       "      <td>GB</td>\n",
       "      <td>1996</td>\n",
       "      <td>Role-Playing</td>\n",
       "      <td>11.27</td>\n",
       "      <td>8.89</td>\n",
       "      <td>10.22</td>\n",
       "      <td>1.00</td>\n",
       "      <td>NaN</td>\n",
       "      <td>NaN</td>\n",
       "      <td>NaN</td>\n",
       "      <td>30.38</td>\n",
       "    </tr>\n",
       "  </tbody>\n",
       "</table>\n",
       "</div>"
      ],
      "text/plain": [
       "                       name platform  release_year         genre  na_sales  \\\n",
       "0                Wii Sports      Wii          2006        Sports     41.36   \n",
       "1         Super Mario Bros.      NES          1985      Platform     29.08   \n",
       "2            Mario Kart Wii      Wii          2008        Racing     15.68   \n",
       "3         Wii Sports Resort      Wii          2009        Sports     15.61   \n",
       "4  Pokemon Red/Pokemon Blue       GB          1996  Role-Playing     11.27   \n",
       "\n",
       "   eu_sales  jp_sales  other_sales  critic_score  user_score rating  \\\n",
       "0     28.96      3.77         8.45         76.00        8.00      E   \n",
       "1      3.58      6.81         0.77           NaN         NaN    NaN   \n",
       "2     12.76      3.79         3.29         82.00        8.30      E   \n",
       "3     10.93      3.28         2.95         80.00        8.00      E   \n",
       "4      8.89     10.22         1.00           NaN         NaN    NaN   \n",
       "\n",
       "   total_sales  \n",
       "0        74.09  \n",
       "1        39.47  \n",
       "2        32.23  \n",
       "3        29.82  \n",
       "4        30.38  "
      ]
     },
     "execution_count": 23,
     "metadata": {},
     "output_type": "execute_result"
    }
   ],
   "source": [
    "df.head() # проверка"
   ]
  },
  {
   "cell_type": "markdown",
   "metadata": {},
   "source": [
    "Столбец добавлен успешно. Пропусков нет."
   ]
  },
  {
   "cell_type": "markdown",
   "metadata": {},
   "source": [
    "## Исследовательский анализ данных\n",
    "### Выпуск игр по годам"
   ]
  },
  {
   "cell_type": "markdown",
   "metadata": {},
   "source": [
    "Для начала рассмотрим сколько игр выпускалось в разные годы. Для этого сделаем сводную таблицу и нарисуем гистограму."
   ]
  },
  {
   "cell_type": "code",
   "execution_count": 24,
   "metadata": {
    "scrolled": true
   },
   "outputs": [
    {
     "data": {
      "text/html": [
       "<div>\n",
       "<style scoped>\n",
       "    .dataframe tbody tr th:only-of-type {\n",
       "        vertical-align: middle;\n",
       "    }\n",
       "\n",
       "    .dataframe tbody tr th {\n",
       "        vertical-align: top;\n",
       "    }\n",
       "\n",
       "    .dataframe thead th {\n",
       "        text-align: right;\n",
       "    }\n",
       "</style>\n",
       "<table border=\"1\" class=\"dataframe\">\n",
       "  <thead>\n",
       "    <tr style=\"text-align: right;\">\n",
       "      <th></th>\n",
       "      <th>name</th>\n",
       "      <th>total_sales</th>\n",
       "    </tr>\n",
       "    <tr>\n",
       "      <th>release_year</th>\n",
       "      <th></th>\n",
       "      <th></th>\n",
       "    </tr>\n",
       "  </thead>\n",
       "  <tbody>\n",
       "    <tr>\n",
       "      <th>1980</th>\n",
       "      <td>9</td>\n",
       "      <td>11.26</td>\n",
       "    </tr>\n",
       "    <tr>\n",
       "      <th>1981</th>\n",
       "      <td>46</td>\n",
       "      <td>35.36</td>\n",
       "    </tr>\n",
       "    <tr>\n",
       "      <th>1982</th>\n",
       "      <td>36</td>\n",
       "      <td>28.57</td>\n",
       "    </tr>\n",
       "    <tr>\n",
       "      <th>1983</th>\n",
       "      <td>17</td>\n",
       "      <td>16.66</td>\n",
       "    </tr>\n",
       "    <tr>\n",
       "      <th>1984</th>\n",
       "      <td>14</td>\n",
       "      <td>49.65</td>\n",
       "    </tr>\n",
       "  </tbody>\n",
       "</table>\n",
       "</div>"
      ],
      "text/plain": [
       "              name  total_sales\n",
       "release_year                   \n",
       "1980             9        11.26\n",
       "1981            46        35.36\n",
       "1982            36        28.57\n",
       "1983            17        16.66\n",
       "1984            14        49.65"
      ]
     },
     "execution_count": 24,
     "metadata": {},
     "output_type": "execute_result"
    }
   ],
   "source": [
    "games_released = df.pivot_table(index='release_year', values=['name', 'total_sales'], aggfunc={'name':'count', 'total_sales':'sum'})\n",
    "games_released.head()"
   ]
  },
  {
   "cell_type": "code",
   "execution_count": 25,
   "metadata": {},
   "outputs": [
    {
     "data": {
      "image/png": "[encoded data removed]",
      "text/plain": [
       "<Figure size 1296x288 with 1 Axes>"
      ]
     },
     "metadata": {
      "needs_background": "light"
     },
     "output_type": "display_data"
    }
   ],
   "source": [
    "games_released.plot(figsize=(18, 4), y='name', grid=True);"
   ]
  },
  {
   "cell_type": "markdown",
   "metadata": {},
   "source": [
    "Можно увидеть, что вплоть до середины 90 годов игры только начинали популяризироваться, но рост начался ближе ко второй половине 90х. С 2000 виден тренд на увеличение продаж и в целом выпуск игр резко увеличился. С 2010 наблюдается спад в выручке с продаж, который может быть связан с изменением модели монетизации игр и увеличением доли мобильного гейминга. Так как в данных содержатся данные с 1980 года, то можно уменьшить рамки для анализа, ведь рынок за это время успел поменяться не раз и сами игры и их целевые аудитории за это время серьезно поменялись. Попробуем взять данные хотя бы с начала 2000, когда игры стали бурно расти, и до текущего времени."
   ]
  },
  {
   "cell_type": "code",
   "execution_count": 26,
   "metadata": {},
   "outputs": [],
   "source": [
    "df = df.query('release_year >= 2000') # берем все данные с 2000 год"
   ]
  },
  {
   "cell_type": "code",
   "execution_count": 27,
   "metadata": {},
   "outputs": [
    {
     "name": "stdout",
     "output_type": "stream",
     "text": [
      "<class 'pandas.core.frame.DataFrame'>\n",
      "Int64Index: 14470 entries, 0 to 16714\n",
      "Data columns (total 12 columns):\n",
      " #   Column        Non-Null Count  Dtype  \n",
      "---  ------        --------------  -----  \n",
      " 0   name          14470 non-null  object \n",
      " 1   platform      14470 non-null  object \n",
      " 2   release_year  14470 non-null  int64  \n",
      " 3   genre         14470 non-null  object \n",
      " 4   na_sales      14470 non-null  float64\n",
      " 5   eu_sales      14470 non-null  float64\n",
      " 6   jp_sales      14470 non-null  float64\n",
      " 7   other_sales   14470 non-null  float64\n",
      " 8   critic_score  7887 non-null   float64\n",
      " 9   user_score    8511 non-null   float64\n",
      " 10  rating        9663 non-null   object \n",
      " 11  total_sales   14470 non-null  float64\n",
      "dtypes: float64(7), int64(1), object(4)\n",
      "memory usage: 1.4+ MB\n"
     ]
    }
   ],
   "source": [
    "df.info()"
   ]
  },
  {
   "cell_type": "markdown",
   "metadata": {},
   "source": [
    "### Выпуск игр по платформам"
   ]
  },
  {
   "cell_type": "markdown",
   "metadata": {},
   "source": [
    "Посмотрите, как менялись продажи по платформам. Выберите платформы с наибольшими суммарными продажами и постройте распределение по годам. За какой характерный срок появляются новые и исчезают старые платформы?"
   ]
  },
  {
   "cell_type": "code",
   "execution_count": 28,
   "metadata": {
    "scrolled": false
   },
   "outputs": [
    {
     "data": {
      "text/html": [
       "<div>\n",
       "<style scoped>\n",
       "    .dataframe tbody tr th:only-of-type {\n",
       "        vertical-align: middle;\n",
       "    }\n",
       "\n",
       "    .dataframe tbody tr th {\n",
       "        vertical-align: top;\n",
       "    }\n",
       "\n",
       "    .dataframe thead th {\n",
       "        text-align: right;\n",
       "    }\n",
       "</style>\n",
       "<table border=\"1\" class=\"dataframe\">\n",
       "  <thead>\n",
       "    <tr style=\"text-align: right;\">\n",
       "      <th></th>\n",
       "      <th>name</th>\n",
       "      <th>total_sales</th>\n",
       "    </tr>\n",
       "    <tr>\n",
       "      <th>platform</th>\n",
       "      <th></th>\n",
       "      <th></th>\n",
       "    </tr>\n",
       "  </thead>\n",
       "  <tbody>\n",
       "    <tr>\n",
       "      <th>PS2</th>\n",
       "      <td>2127</td>\n",
       "      <td>1,043.09</td>\n",
       "    </tr>\n",
       "    <tr>\n",
       "      <th>X360</th>\n",
       "      <td>1232</td>\n",
       "      <td>876.36</td>\n",
       "    </tr>\n",
       "    <tr>\n",
       "      <th>Wii</th>\n",
       "      <td>1286</td>\n",
       "      <td>813.47</td>\n",
       "    </tr>\n",
       "    <tr>\n",
       "      <th>PS3</th>\n",
       "      <td>1306</td>\n",
       "      <td>796.75</td>\n",
       "    </tr>\n",
       "    <tr>\n",
       "      <th>DS</th>\n",
       "      <td>2120</td>\n",
       "      <td>743.72</td>\n",
       "    </tr>\n",
       "    <tr>\n",
       "      <th>GBA</th>\n",
       "      <td>811</td>\n",
       "      <td>305.27</td>\n",
       "    </tr>\n",
       "    <tr>\n",
       "      <th>PS4</th>\n",
       "      <td>392</td>\n",
       "      <td>265.79</td>\n",
       "    </tr>\n",
       "    <tr>\n",
       "      <th>PSP</th>\n",
       "      <td>1193</td>\n",
       "      <td>248.77</td>\n",
       "    </tr>\n",
       "    <tr>\n",
       "      <th>3DS</th>\n",
       "      <td>512</td>\n",
       "      <td>244.54</td>\n",
       "    </tr>\n",
       "    <tr>\n",
       "      <th>XB</th>\n",
       "      <td>803</td>\n",
       "      <td>243.09</td>\n",
       "    </tr>\n",
       "    <tr>\n",
       "      <th>GC</th>\n",
       "      <td>542</td>\n",
       "      <td>191.60</td>\n",
       "    </tr>\n",
       "    <tr>\n",
       "      <th>PC</th>\n",
       "      <td>917</td>\n",
       "      <td>185.35</td>\n",
       "    </tr>\n",
       "    <tr>\n",
       "      <th>XOne</th>\n",
       "      <td>247</td>\n",
       "      <td>145.05</td>\n",
       "    </tr>\n",
       "    <tr>\n",
       "      <th>PS</th>\n",
       "      <td>274</td>\n",
       "      <td>132.75</td>\n",
       "    </tr>\n",
       "    <tr>\n",
       "      <th>WiiU</th>\n",
       "      <td>147</td>\n",
       "      <td>76.24</td>\n",
       "    </tr>\n",
       "    <tr>\n",
       "      <th>PSV</th>\n",
       "      <td>429</td>\n",
       "      <td>47.38</td>\n",
       "    </tr>\n",
       "    <tr>\n",
       "      <th>N64</th>\n",
       "      <td>70</td>\n",
       "      <td>36.26</td>\n",
       "    </tr>\n",
       "    <tr>\n",
       "      <th>GB</th>\n",
       "      <td>27</td>\n",
       "      <td>27.32</td>\n",
       "    </tr>\n",
       "    <tr>\n",
       "      <th>DC</th>\n",
       "      <td>31</td>\n",
       "      <td>7.28</td>\n",
       "    </tr>\n",
       "    <tr>\n",
       "      <th>WS</th>\n",
       "      <td>4</td>\n",
       "      <td>0.96</td>\n",
       "    </tr>\n",
       "  </tbody>\n",
       "</table>\n",
       "</div>"
      ],
      "text/plain": [
       "          name  total_sales\n",
       "platform                   \n",
       "PS2       2127     1,043.09\n",
       "X360      1232       876.36\n",
       "Wii       1286       813.47\n",
       "PS3       1306       796.75\n",
       "DS        2120       743.72\n",
       "GBA        811       305.27\n",
       "PS4        392       265.79\n",
       "PSP       1193       248.77\n",
       "3DS        512       244.54\n",
       "XB         803       243.09\n",
       "GC         542       191.60\n",
       "PC         917       185.35\n",
       "XOne       247       145.05\n",
       "PS         274       132.75\n",
       "WiiU       147        76.24\n",
       "PSV        429        47.38\n",
       "N64         70        36.26\n",
       "GB          27        27.32\n",
       "DC          31         7.28\n",
       "WS           4         0.96"
      ]
     },
     "execution_count": 28,
     "metadata": {},
     "output_type": "execute_result"
    }
   ],
   "source": [
    "platforms_stat = df.pivot_table(index='platform', values=['name', 'total_sales'], aggfunc={'name':'count', 'total_sales':'sum'}).sort_values(by='total_sales', ascending=False)\n",
    "platforms_stat # берем информацию по платформам"
   ]
  },
  {
   "cell_type": "code",
   "execution_count": 29,
   "metadata": {},
   "outputs": [
    {
     "data": {
      "image/png": "[encoded data removed]",
      "text/plain": [
       "<Figure size 1296x288 with 1 Axes>"
      ]
     },
     "metadata": {
      "needs_background": "light"
     },
     "output_type": "display_data"
    }
   ],
   "source": [
    "platforms_stat.plot(kind='bar', figsize=(18, 4), y='total_sales', grid=True); # строим гистрограмму продаж по платформам за всё время"
   ]
  },
  {
   "cell_type": "code",
   "execution_count": 30,
   "metadata": {},
   "outputs": [
    {
     "data": {
      "text/html": [
       "<div>\n",
       "<style scoped>\n",
       "    .dataframe tbody tr th:only-of-type {\n",
       "        vertical-align: middle;\n",
       "    }\n",
       "\n",
       "    .dataframe tbody tr th {\n",
       "        vertical-align: top;\n",
       "    }\n",
       "\n",
       "    .dataframe thead th {\n",
       "        text-align: right;\n",
       "    }\n",
       "</style>\n",
       "<table border=\"1\" class=\"dataframe\">\n",
       "  <thead>\n",
       "    <tr style=\"text-align: right;\">\n",
       "      <th></th>\n",
       "      <th></th>\n",
       "      <th>name</th>\n",
       "      <th>total_sales</th>\n",
       "    </tr>\n",
       "    <tr>\n",
       "      <th>platform</th>\n",
       "      <th>release_year</th>\n",
       "      <th></th>\n",
       "      <th></th>\n",
       "    </tr>\n",
       "  </thead>\n",
       "  <tbody>\n",
       "    <tr>\n",
       "      <th rowspan=\"5\" valign=\"top\">3DS</th>\n",
       "      <th>2011</th>\n",
       "      <td>116</td>\n",
       "      <td>58.80</td>\n",
       "    </tr>\n",
       "    <tr>\n",
       "      <th>2012</th>\n",
       "      <td>93</td>\n",
       "      <td>48.77</td>\n",
       "    </tr>\n",
       "    <tr>\n",
       "      <th>2013</th>\n",
       "      <td>91</td>\n",
       "      <td>53.97</td>\n",
       "    </tr>\n",
       "    <tr>\n",
       "      <th>2014</th>\n",
       "      <td>80</td>\n",
       "      <td>41.75</td>\n",
       "    </tr>\n",
       "    <tr>\n",
       "      <th>2015</th>\n",
       "      <td>86</td>\n",
       "      <td>26.75</td>\n",
       "    </tr>\n",
       "    <tr>\n",
       "      <th>...</th>\n",
       "      <th>...</th>\n",
       "      <td>...</td>\n",
       "      <td>...</td>\n",
       "    </tr>\n",
       "    <tr>\n",
       "      <th>XB</th>\n",
       "      <th>2008</th>\n",
       "      <td>1</td>\n",
       "      <td>0.17</td>\n",
       "    </tr>\n",
       "    <tr>\n",
       "      <th rowspan=\"4\" valign=\"top\">XOne</th>\n",
       "      <th>2013</th>\n",
       "      <td>19</td>\n",
       "      <td>17.21</td>\n",
       "    </tr>\n",
       "    <tr>\n",
       "      <th>2014</th>\n",
       "      <td>61</td>\n",
       "      <td>49.26</td>\n",
       "    </tr>\n",
       "    <tr>\n",
       "      <th>2015</th>\n",
       "      <td>80</td>\n",
       "      <td>54.67</td>\n",
       "    </tr>\n",
       "    <tr>\n",
       "      <th>2016</th>\n",
       "      <td>87</td>\n",
       "      <td>23.91</td>\n",
       "    </tr>\n",
       "  </tbody>\n",
       "</table>\n",
       "<p>150 rows × 2 columns</p>\n",
       "</div>"
      ],
      "text/plain": [
       "                       name  total_sales\n",
       "platform release_year                   \n",
       "3DS      2011           116        58.80\n",
       "         2012            93        48.77\n",
       "         2013            91        53.97\n",
       "         2014            80        41.75\n",
       "         2015            86        26.75\n",
       "...                     ...          ...\n",
       "XB       2008             1         0.17\n",
       "XOne     2013            19        17.21\n",
       "         2014            61        49.26\n",
       "         2015            80        54.67\n",
       "         2016            87        23.91\n",
       "\n",
       "[150 rows x 2 columns]"
      ]
     },
     "execution_count": 30,
     "metadata": {},
     "output_type": "execute_result"
    }
   ],
   "source": [
    "games_released_by_platform = df.pivot_table(index=('platform', 'release_year'), values=['name', 'total_sales'], aggfunc={'name':'count', 'total_sales':'sum'})\n",
    "games_released_by_platform # данные по платформам по годам"
   ]
  },
  {
   "cell_type": "code",
   "execution_count": 31,
   "metadata": {},
   "outputs": [
    {
     "data": {
      "image/png": "[encoded data removed]",
      "text/plain": [
       "<Figure size 1296x576 with 1 Axes>"
      ]
     },
     "metadata": {
      "needs_background": "light"
     },
     "output_type": "display_data"
    }
   ],
   "source": [
    "fig, ax = plt.subplots()  # топ 10 платформ по продажам\n",
    "fig = plt.gcf()\n",
    "fig.set_size_inches(18,8)\n",
    "ax.plot(games_released_by_platform['total_sales'].loc['PS2'], label = 'PS2', color='red')\n",
    "ax.plot(games_released_by_platform['total_sales'].loc['X360'], label = 'X360', color='yellow')\n",
    "ax.plot(games_released_by_platform['total_sales'].loc['Wii'], label = 'Wii', color='blue')\n",
    "ax.plot(games_released_by_platform['total_sales'].loc['PS3'], label = 'PS3', color='green')\n",
    "ax.plot(games_released_by_platform['total_sales'].loc['DS'], label = 'DS', color='orange')\n",
    "ax.plot(games_released_by_platform['total_sales'].loc['GBA'], label = 'GBA', color='brown')\n",
    "ax.plot(games_released_by_platform['total_sales'].loc['PS4'], label = 'PS4', color='#00FF98')\n",
    "ax.plot(games_released_by_platform['total_sales'].loc['PSP'], label = 'PSP', color='purple')\n",
    "ax.plot(games_released_by_platform['total_sales'].loc['3DS'], label = '3DS', color='grey')\n",
    "ax.plot(games_released_by_platform['total_sales'].loc['XOne'], label = 'XOne', color='black')\n",
    "plt.legend(loc =\"upper right\")\n",
    "plt.show() "
   ]
  },
  {
   "cell_type": "markdown",
   "metadata": {},
   "source": [
    "По платформам можем сделать вывод, что в среднем они держатся от 5 до 8 лет. В отдельных случаях консоли проживают и по 10 лет. Так же есть платформа PC, которая неизменно остаётся на графике на всём промежутке. Видим что в основном большие консоли как XBOX, PS2 и PS3 и Wii держатся дольше всех и по выручке обгоняют все другие. Среди карманных консолей лидирует DS, остальные не догоняют её по выручке, но у них примерно одинаковый рыночный срок жизни. На данном этапе видно, что после того как цикл у консоли закончился, её заменяет более новая версия."
   ]
  },
  {
   "cell_type": "markdown",
   "metadata": {},
   "source": [
    "### Анализ актуального периода"
   ]
  },
  {
   "cell_type": "markdown",
   "metadata": {},
   "source": [
    "Учитывая, что поколения платформ постоянно меняются и за кажой старой версией выходит новая, можем найти момент, когда стали появлятся платформы нового поколения и с них определить актуальный период. На момент перехода поколений видно, что новые консоли начали выходить с 2012 года: с этого момента и будем считать. Так как у нас 2016 год содержит неполную информацию, то его в данный период мы включать тоже пока не будем."
   ]
  },
  {
   "cell_type": "code",
   "execution_count": 32,
   "metadata": {},
   "outputs": [
    {
     "name": "stdout",
     "output_type": "stream",
     "text": [
      "<class 'pandas.core.frame.DataFrame'>\n",
      "Int64Index: 2886 entries, 16 to 16714\n",
      "Data columns (total 12 columns):\n",
      " #   Column        Non-Null Count  Dtype  \n",
      "---  ------        --------------  -----  \n",
      " 0   name          2886 non-null   object \n",
      " 1   platform      2886 non-null   object \n",
      " 2   release_year  2886 non-null   int64  \n",
      " 3   genre         2886 non-null   object \n",
      " 4   na_sales      2886 non-null   float64\n",
      " 5   eu_sales      2886 non-null   float64\n",
      " 6   jp_sales      2886 non-null   float64\n",
      " 7   other_sales   2886 non-null   float64\n",
      " 8   critic_score  1312 non-null   float64\n",
      " 9   user_score    1581 non-null   float64\n",
      " 10  rating        1611 non-null   object \n",
      " 11  total_sales   2886 non-null   float64\n",
      "dtypes: float64(7), int64(1), object(4)\n",
      "memory usage: 293.1+ KB\n"
     ]
    }
   ],
   "source": [
    "df_now = df.query('2016 >= release_year >= 2012')\n",
    "df_now.info() # продажи начиная с 2012 года"
   ]
  },
  {
   "cell_type": "code",
   "execution_count": 33,
   "metadata": {},
   "outputs": [
    {
     "data": {
      "text/html": [
       "<div>\n",
       "<style scoped>\n",
       "    .dataframe tbody tr th:only-of-type {\n",
       "        vertical-align: middle;\n",
       "    }\n",
       "\n",
       "    .dataframe tbody tr th {\n",
       "        vertical-align: top;\n",
       "    }\n",
       "\n",
       "    .dataframe thead th {\n",
       "        text-align: right;\n",
       "    }\n",
       "</style>\n",
       "<table border=\"1\" class=\"dataframe\">\n",
       "  <thead>\n",
       "    <tr style=\"text-align: right;\">\n",
       "      <th></th>\n",
       "      <th></th>\n",
       "      <th>total_sales</th>\n",
       "    </tr>\n",
       "    <tr>\n",
       "      <th>platform</th>\n",
       "      <th>release_year</th>\n",
       "      <th></th>\n",
       "    </tr>\n",
       "  </thead>\n",
       "  <tbody>\n",
       "    <tr>\n",
       "      <th rowspan=\"5\" valign=\"top\">3DS</th>\n",
       "      <th>2012</th>\n",
       "      <td>48.77</td>\n",
       "    </tr>\n",
       "    <tr>\n",
       "      <th>2013</th>\n",
       "      <td>53.97</td>\n",
       "    </tr>\n",
       "    <tr>\n",
       "      <th>2014</th>\n",
       "      <td>41.75</td>\n",
       "    </tr>\n",
       "    <tr>\n",
       "      <th>2015</th>\n",
       "      <td>26.75</td>\n",
       "    </tr>\n",
       "    <tr>\n",
       "      <th>2016</th>\n",
       "      <td>14.50</td>\n",
       "    </tr>\n",
       "    <tr>\n",
       "      <th rowspan=\"2\" valign=\"top\">DS</th>\n",
       "      <th>2012</th>\n",
       "      <td>10.42</td>\n",
       "    </tr>\n",
       "    <tr>\n",
       "      <th>2013</th>\n",
       "      <td>1.42</td>\n",
       "    </tr>\n",
       "    <tr>\n",
       "      <th rowspan=\"5\" valign=\"top\">PC</th>\n",
       "      <th>2012</th>\n",
       "      <td>20.41</td>\n",
       "    </tr>\n",
       "    <tr>\n",
       "      <th>2013</th>\n",
       "      <td>11.27</td>\n",
       "    </tr>\n",
       "    <tr>\n",
       "      <th>2014</th>\n",
       "      <td>12.38</td>\n",
       "    </tr>\n",
       "    <tr>\n",
       "      <th>2015</th>\n",
       "      <td>7.93</td>\n",
       "    </tr>\n",
       "    <tr>\n",
       "      <th>2016</th>\n",
       "      <td>4.89</td>\n",
       "    </tr>\n",
       "    <tr>\n",
       "      <th rowspan=\"5\" valign=\"top\">PS3</th>\n",
       "      <th>2012</th>\n",
       "      <td>90.87</td>\n",
       "    </tr>\n",
       "    <tr>\n",
       "      <th>2013</th>\n",
       "      <td>95.85</td>\n",
       "    </tr>\n",
       "    <tr>\n",
       "      <th>2014</th>\n",
       "      <td>40.88</td>\n",
       "    </tr>\n",
       "    <tr>\n",
       "      <th>2015</th>\n",
       "      <td>14.70</td>\n",
       "    </tr>\n",
       "    <tr>\n",
       "      <th>2016</th>\n",
       "      <td>3.23</td>\n",
       "    </tr>\n",
       "    <tr>\n",
       "      <th rowspan=\"4\" valign=\"top\">PS4</th>\n",
       "      <th>2013</th>\n",
       "      <td>22.12</td>\n",
       "    </tr>\n",
       "    <tr>\n",
       "      <th>2014</th>\n",
       "      <td>84.22</td>\n",
       "    </tr>\n",
       "    <tr>\n",
       "      <th>2015</th>\n",
       "      <td>100.44</td>\n",
       "    </tr>\n",
       "    <tr>\n",
       "      <th>2016</th>\n",
       "      <td>59.01</td>\n",
       "    </tr>\n",
       "    <tr>\n",
       "      <th rowspan=\"4\" valign=\"top\">PSP</th>\n",
       "      <th>2012</th>\n",
       "      <td>7.56</td>\n",
       "    </tr>\n",
       "    <tr>\n",
       "      <th>2013</th>\n",
       "      <td>3.10</td>\n",
       "    </tr>\n",
       "    <tr>\n",
       "      <th>2014</th>\n",
       "      <td>0.24</td>\n",
       "    </tr>\n",
       "    <tr>\n",
       "      <th>2015</th>\n",
       "      <td>0.12</td>\n",
       "    </tr>\n",
       "    <tr>\n",
       "      <th rowspan=\"5\" valign=\"top\">PSV</th>\n",
       "      <th>2012</th>\n",
       "      <td>13.65</td>\n",
       "    </tr>\n",
       "    <tr>\n",
       "      <th>2013</th>\n",
       "      <td>9.14</td>\n",
       "    </tr>\n",
       "    <tr>\n",
       "      <th>2014</th>\n",
       "      <td>10.56</td>\n",
       "    </tr>\n",
       "    <tr>\n",
       "      <th>2015</th>\n",
       "      <td>5.93</td>\n",
       "    </tr>\n",
       "    <tr>\n",
       "      <th>2016</th>\n",
       "      <td>4.10</td>\n",
       "    </tr>\n",
       "    <tr>\n",
       "      <th rowspan=\"5\" valign=\"top\">Wii</th>\n",
       "      <th>2012</th>\n",
       "      <td>20.22</td>\n",
       "    </tr>\n",
       "    <tr>\n",
       "      <th>2013</th>\n",
       "      <td>7.87</td>\n",
       "    </tr>\n",
       "    <tr>\n",
       "      <th>2014</th>\n",
       "      <td>3.45</td>\n",
       "    </tr>\n",
       "    <tr>\n",
       "      <th>2015</th>\n",
       "      <td>1.05</td>\n",
       "    </tr>\n",
       "    <tr>\n",
       "      <th>2016</th>\n",
       "      <td>0.17</td>\n",
       "    </tr>\n",
       "    <tr>\n",
       "      <th rowspan=\"5\" valign=\"top\">WiiU</th>\n",
       "      <th>2012</th>\n",
       "      <td>16.30</td>\n",
       "    </tr>\n",
       "    <tr>\n",
       "      <th>2013</th>\n",
       "      <td>20.12</td>\n",
       "    </tr>\n",
       "    <tr>\n",
       "      <th>2014</th>\n",
       "      <td>20.35</td>\n",
       "    </tr>\n",
       "    <tr>\n",
       "      <th>2015</th>\n",
       "      <td>15.22</td>\n",
       "    </tr>\n",
       "    <tr>\n",
       "      <th>2016</th>\n",
       "      <td>4.25</td>\n",
       "    </tr>\n",
       "    <tr>\n",
       "      <th rowspan=\"5\" valign=\"top\">X360</th>\n",
       "      <th>2012</th>\n",
       "      <td>91.45</td>\n",
       "    </tr>\n",
       "    <tr>\n",
       "      <th>2013</th>\n",
       "      <td>80.82</td>\n",
       "    </tr>\n",
       "    <tr>\n",
       "      <th>2014</th>\n",
       "      <td>31.61</td>\n",
       "    </tr>\n",
       "    <tr>\n",
       "      <th>2015</th>\n",
       "      <td>10.86</td>\n",
       "    </tr>\n",
       "    <tr>\n",
       "      <th>2016</th>\n",
       "      <td>1.40</td>\n",
       "    </tr>\n",
       "    <tr>\n",
       "      <th rowspan=\"4\" valign=\"top\">XOne</th>\n",
       "      <th>2013</th>\n",
       "      <td>17.21</td>\n",
       "    </tr>\n",
       "    <tr>\n",
       "      <th>2014</th>\n",
       "      <td>49.26</td>\n",
       "    </tr>\n",
       "    <tr>\n",
       "      <th>2015</th>\n",
       "      <td>54.67</td>\n",
       "    </tr>\n",
       "    <tr>\n",
       "      <th>2016</th>\n",
       "      <td>23.91</td>\n",
       "    </tr>\n",
       "  </tbody>\n",
       "</table>\n",
       "</div>"
      ],
      "text/plain": [
       "                       total_sales\n",
       "platform release_year             \n",
       "3DS      2012                48.77\n",
       "         2013                53.97\n",
       "         2014                41.75\n",
       "         2015                26.75\n",
       "         2016                14.50\n",
       "DS       2012                10.42\n",
       "         2013                 1.42\n",
       "PC       2012                20.41\n",
       "         2013                11.27\n",
       "         2014                12.38\n",
       "         2015                 7.93\n",
       "         2016                 4.89\n",
       "PS3      2012                90.87\n",
       "         2013                95.85\n",
       "         2014                40.88\n",
       "         2015                14.70\n",
       "         2016                 3.23\n",
       "PS4      2013                22.12\n",
       "         2014                84.22\n",
       "         2015               100.44\n",
       "         2016                59.01\n",
       "PSP      2012                 7.56\n",
       "         2013                 3.10\n",
       "         2014                 0.24\n",
       "         2015                 0.12\n",
       "PSV      2012                13.65\n",
       "         2013                 9.14\n",
       "         2014                10.56\n",
       "         2015                 5.93\n",
       "         2016                 4.10\n",
       "Wii      2012                20.22\n",
       "         2013                 7.87\n",
       "         2014                 3.45\n",
       "         2015                 1.05\n",
       "         2016                 0.17\n",
       "WiiU     2012                16.30\n",
       "         2013                20.12\n",
       "         2014                20.35\n",
       "         2015                15.22\n",
       "         2016                 4.25\n",
       "X360     2012                91.45\n",
       "         2013                80.82\n",
       "         2014                31.61\n",
       "         2015                10.86\n",
       "         2016                 1.40\n",
       "XOne     2013                17.21\n",
       "         2014                49.26\n",
       "         2015                54.67\n",
       "         2016                23.91"
      ]
     },
     "execution_count": 33,
     "metadata": {},
     "output_type": "execute_result"
    }
   ],
   "source": [
    "df_now_sales = df_now.pivot_table(index=('platform', 'release_year'), values='total_sales', aggfunc='sum')\n",
    "df_now_sales # сводная таблица по годам и платформам"
   ]
  },
  {
   "cell_type": "markdown",
   "metadata": {},
   "source": [
    "#### Анализ продаж\n",
    "Ответим на вопросы: какие платформы лидируют по продажам, растут или падают? Найдем потенциально прибыльных платформы.\n",
    "Для этого построим линейные графики для каждой платформы и опишем."
   ]
  },
  {
   "cell_type": "code",
   "execution_count": 34,
   "metadata": {},
   "outputs": [
    {
     "data": {
      "image/png": "[encoded data removed]",
      "text/plain": [
       "<Figure size 1296x576 with 1 Axes>"
      ]
     },
     "metadata": {
      "needs_background": "light"
     },
     "output_type": "display_data"
    }
   ],
   "source": [
    "fig, ax = plt.subplots()  # графиц по актуальному периоду\n",
    "fig = plt.gcf()\n",
    "fig.set_size_inches(18,8)\n",
    "ax.plot(df_now_sales['total_sales'].loc['3DS'], label = '3DS', color='red')\n",
    "ax.plot(df_now_sales['total_sales'].loc['DS'], label = 'DS', color='yellow')\n",
    "ax.plot(df_now_sales['total_sales'].loc['X360'], label = 'X360', color='blue')\n",
    "ax.plot(df_now_sales['total_sales'].loc['PS3'], label = 'PS3', color='green')\n",
    "ax.plot(df_now_sales['total_sales'].loc['PS4'], label = 'PS4', color='orange')\n",
    "ax.plot(df_now_sales['total_sales'].loc['PSP'], label = 'PSP', color='brown')\n",
    "ax.plot(df_now_sales['total_sales'].loc['PSV'], label = 'PSV', color='#00FF98')\n",
    "ax.plot(df_now_sales['total_sales'].loc['Wii'], label = 'Wii', color='purple')\n",
    "ax.plot(df_now_sales['total_sales'].loc['WiiU'], label = 'WiiU', color='grey')\n",
    "ax.plot(df_now_sales['total_sales'].loc['XOne'], label = 'XOne', color='black')\n",
    "ax.plot(df_now_sales['total_sales'].loc['PC'], label = 'PC', color='indigo')\n",
    "plt.legend(loc =\"upper right\")\n",
    "plt.show() "
   ]
  },
  {
   "cell_type": "markdown",
   "metadata": {},
   "source": [
    "Здесь можем наблюдать, что консоли старого поколения начали снижение в тот момент, как новое их сменило. Это касается в первую очередь X360, PS3 - они одновременно начали падать вниз. 3DS не сильно подвеглось этому тренду, но тоже падает. Wii еще в 2013 году прекратила свою поддержку, но до сих пор приносит какую-то прибыль, хотя база у неё снижаться начала еще до актуального периода и продолжает падение. WiiU с другой стороны вышла только в 2012 году, и за это время не смогла улучшить свои позиции с того момента. PSV на данном графике падает, но не так сильно, потому что на её смену нет платформы, поэтому она еще держит свою актуальность Самые перспективные консоли это PS4 и XOne, с момента их выхода в 13 году наблюдается стабильный рост и, скорее всего, он будет продолжаться."
   ]
  },
  {
   "cell_type": "markdown",
   "metadata": {},
   "source": [
    "Построим график «ящик с усами» по глобальным продажам игр в разбивке по платформам и опишем результат. Для этого отберем топ 6 платформ за прошлый год по выручке и построим график."
   ]
  },
  {
   "cell_type": "code",
   "execution_count": 35,
   "metadata": {},
   "outputs": [
    {
     "data": {
      "text/html": [
       "<div>\n",
       "<style scoped>\n",
       "    .dataframe tbody tr th:only-of-type {\n",
       "        vertical-align: middle;\n",
       "    }\n",
       "\n",
       "    .dataframe tbody tr th {\n",
       "        vertical-align: top;\n",
       "    }\n",
       "\n",
       "    .dataframe thead th {\n",
       "        text-align: right;\n",
       "    }\n",
       "</style>\n",
       "<table border=\"1\" class=\"dataframe\">\n",
       "  <thead>\n",
       "    <tr style=\"text-align: right;\">\n",
       "      <th></th>\n",
       "      <th>total_sales</th>\n",
       "    </tr>\n",
       "    <tr>\n",
       "      <th>platform</th>\n",
       "      <th></th>\n",
       "    </tr>\n",
       "  </thead>\n",
       "  <tbody>\n",
       "    <tr>\n",
       "      <th>PS4</th>\n",
       "      <td>59.01</td>\n",
       "    </tr>\n",
       "    <tr>\n",
       "      <th>XOne</th>\n",
       "      <td>23.91</td>\n",
       "    </tr>\n",
       "    <tr>\n",
       "      <th>3DS</th>\n",
       "      <td>14.50</td>\n",
       "    </tr>\n",
       "    <tr>\n",
       "      <th>PC</th>\n",
       "      <td>4.89</td>\n",
       "    </tr>\n",
       "    <tr>\n",
       "      <th>WiiU</th>\n",
       "      <td>4.25</td>\n",
       "    </tr>\n",
       "    <tr>\n",
       "      <th>PSV</th>\n",
       "      <td>4.10</td>\n",
       "    </tr>\n",
       "  </tbody>\n",
       "</table>\n",
       "</div>"
      ],
      "text/plain": [
       "          total_sales\n",
       "platform             \n",
       "PS4             59.01\n",
       "XOne            23.91\n",
       "3DS             14.50\n",
       "PC               4.89\n",
       "WiiU             4.25\n",
       "PSV              4.10"
      ]
     },
     "execution_count": 35,
     "metadata": {},
     "output_type": "execute_result"
    }
   ],
   "source": [
    "# фильтр\n",
    "(\n",
    "    df_now\n",
    "    .query('release_year == 2016')\n",
    "    .pivot_table(index='platform', values='total_sales', aggfunc='sum').sort_values(by='total_sales', ascending=False)\n",
    "    .head(6)\n",
    ")"
   ]
  },
  {
   "cell_type": "code",
   "execution_count": 36,
   "metadata": {},
   "outputs": [],
   "source": [
    "name = ['XOne', 'PS4', '3DS', 'WiiU', 'PC', 'PSV'] # делаем таблицу для графика\n",
    "df_now_boxplot = df_now[df_now['platform'].isin(name)]"
   ]
  },
  {
   "cell_type": "code",
   "execution_count": 37,
   "metadata": {},
   "outputs": [
    {
     "data": {
      "image/png": "[encoded data removed]",
      "text/plain": [
       "<Figure size 1296x288 with 1 Axes>"
      ]
     },
     "metadata": {
      "needs_background": "light"
     },
     "output_type": "display_data"
    }
   ],
   "source": [
    "df_now_boxplot.boxplot('total_sales', by='platform', figsize=(18,4)); # строим \"ящик с усами\"\n",
    "plt.ylim(0, 14)\n",
    "plt.suptitle('Продажи игр на топ платформых')\n",
    "plt.title(None);\n",
    "plt.xlabel('Платформа'), plt.ylabel('Суммарные продажи')\n",
    "plt.show()"
   ]
  },
  {
   "cell_type": "code",
   "execution_count": 38,
   "metadata": {},
   "outputs": [
    {
     "data": {
      "image/png": "[encoded data removed]",
      "text/plain": [
       "<Figure size 1296x288 with 1 Axes>"
      ]
     },
     "metadata": {
      "needs_background": "light"
     },
     "output_type": "display_data"
    }
   ],
   "source": [
    "df_now_boxplot.boxplot('total_sales', by='platform', figsize=(18,4)); # приблизим\n",
    "plt.ylim(0, 1.5)\n",
    "plt.suptitle('Продажи игр на топ платформых')\n",
    "plt.title(None);\n",
    "plt.xlabel('Платформа'), plt.ylabel('Суммарные продажи')\n",
    "plt.show()"
   ]
  },
  {
   "cell_type": "markdown",
   "metadata": {},
   "source": [
    "На графике видим много аномалий у 3DS, PS4, поменьше у WiiU и XOne, мньше всего у PC и PSV. У XOne и PS4 разброс квартилей больше, чем у других, среднее и медиана у них примерно на одинаковом уровне, что означает примерно одинаковый уровень продаж. Но Медиана у всех платформ ближе тянется к нижней планке средней, ниже всего она у PSV и PC. PSV по всем показателям занимает последнее место по сравнению со всеми платформами, даже с PC. У PC разброс немного больше, но все равно маленький. По сравнению с остальными платформами у 3DS имеются много аномалий, превышающие даже PS4 и XOne, но среднее и медиана у неё близятся к низу."
   ]
  },
  {
   "cell_type": "markdown",
   "metadata": {},
   "source": [
    "#### Влияние рейтинга на продажи"
   ]
  },
  {
   "cell_type": "markdown",
   "metadata": {},
   "source": [
    "Посмотрим, как влияют на продажи внутри одной популярной платформы отзывы пользователей и критиков. Для этого построим диаграмму рассеяния и посчитаем корреляцию между отзывами и продажами. В данном разделе возьмем несколько разных платформ и проведем анализ: 'XOne', 'PS4', '3DS', 'PC'."
   ]
  },
  {
   "cell_type": "code",
   "execution_count": 39,
   "metadata": {},
   "outputs": [
    {
     "data": {
      "text/html": [
       "<div>\n",
       "<style scoped>\n",
       "    .dataframe tbody tr th:only-of-type {\n",
       "        vertical-align: middle;\n",
       "    }\n",
       "\n",
       "    .dataframe tbody tr th {\n",
       "        vertical-align: top;\n",
       "    }\n",
       "\n",
       "    .dataframe thead th {\n",
       "        text-align: right;\n",
       "    }\n",
       "</style>\n",
       "<table border=\"1\" class=\"dataframe\">\n",
       "  <thead>\n",
       "    <tr style=\"text-align: right;\">\n",
       "      <th></th>\n",
       "      <th>name</th>\n",
       "      <th>platform</th>\n",
       "      <th>release_year</th>\n",
       "      <th>genre</th>\n",
       "      <th>na_sales</th>\n",
       "      <th>eu_sales</th>\n",
       "      <th>jp_sales</th>\n",
       "      <th>other_sales</th>\n",
       "      <th>critic_score</th>\n",
       "      <th>user_score</th>\n",
       "      <th>rating</th>\n",
       "      <th>total_sales</th>\n",
       "    </tr>\n",
       "  </thead>\n",
       "  <tbody>\n",
       "    <tr>\n",
       "      <th>99</th>\n",
       "      <td>Call of Duty: Black Ops 3</td>\n",
       "      <td>XOne</td>\n",
       "      <td>2015</td>\n",
       "      <td>Shooter</td>\n",
       "      <td>4.59</td>\n",
       "      <td>2.11</td>\n",
       "      <td>0.01</td>\n",
       "      <td>0.68</td>\n",
       "      <td>NaN</td>\n",
       "      <td>NaN</td>\n",
       "      <td>NaN</td>\n",
       "      <td>6.71</td>\n",
       "    </tr>\n",
       "    <tr>\n",
       "      <th>165</th>\n",
       "      <td>Grand Theft Auto V</td>\n",
       "      <td>XOne</td>\n",
       "      <td>2014</td>\n",
       "      <td>Action</td>\n",
       "      <td>2.81</td>\n",
       "      <td>2.19</td>\n",
       "      <td>0.00</td>\n",
       "      <td>0.47</td>\n",
       "      <td>97.00</td>\n",
       "      <td>7.90</td>\n",
       "      <td>M</td>\n",
       "      <td>5.00</td>\n",
       "    </tr>\n",
       "    <tr>\n",
       "      <th>179</th>\n",
       "      <td>Call of Duty: Advanced Warfare</td>\n",
       "      <td>XOne</td>\n",
       "      <td>2014</td>\n",
       "      <td>Shooter</td>\n",
       "      <td>3.22</td>\n",
       "      <td>1.55</td>\n",
       "      <td>0.01</td>\n",
       "      <td>0.48</td>\n",
       "      <td>81.00</td>\n",
       "      <td>5.40</td>\n",
       "      <td>M</td>\n",
       "      <td>4.78</td>\n",
       "    </tr>\n",
       "    <tr>\n",
       "      <th>242</th>\n",
       "      <td>Halo 5: Guardians</td>\n",
       "      <td>XOne</td>\n",
       "      <td>2015</td>\n",
       "      <td>Shooter</td>\n",
       "      <td>2.78</td>\n",
       "      <td>1.27</td>\n",
       "      <td>0.03</td>\n",
       "      <td>0.41</td>\n",
       "      <td>84.00</td>\n",
       "      <td>6.40</td>\n",
       "      <td>T</td>\n",
       "      <td>4.08</td>\n",
       "    </tr>\n",
       "    <tr>\n",
       "      <th>270</th>\n",
       "      <td>Fallout 4</td>\n",
       "      <td>XOne</td>\n",
       "      <td>2015</td>\n",
       "      <td>Role-Playing</td>\n",
       "      <td>2.51</td>\n",
       "      <td>1.32</td>\n",
       "      <td>0.01</td>\n",
       "      <td>0.38</td>\n",
       "      <td>88.00</td>\n",
       "      <td>6.20</td>\n",
       "      <td>M</td>\n",
       "      <td>3.84</td>\n",
       "    </tr>\n",
       "    <tr>\n",
       "      <th>...</th>\n",
       "      <td>...</td>\n",
       "      <td>...</td>\n",
       "      <td>...</td>\n",
       "      <td>...</td>\n",
       "      <td>...</td>\n",
       "      <td>...</td>\n",
       "      <td>...</td>\n",
       "      <td>...</td>\n",
       "      <td>...</td>\n",
       "      <td>...</td>\n",
       "      <td>...</td>\n",
       "      <td>...</td>\n",
       "    </tr>\n",
       "    <tr>\n",
       "      <th>16630</th>\n",
       "      <td>Sébastien Loeb Rally Evo</td>\n",
       "      <td>XOne</td>\n",
       "      <td>2016</td>\n",
       "      <td>Racing</td>\n",
       "      <td>0.00</td>\n",
       "      <td>0.01</td>\n",
       "      <td>0.00</td>\n",
       "      <td>0.00</td>\n",
       "      <td>63.00</td>\n",
       "      <td>8.20</td>\n",
       "      <td>E</td>\n",
       "      <td>0.01</td>\n",
       "    </tr>\n",
       "    <tr>\n",
       "      <th>16643</th>\n",
       "      <td>Rugby Challenge 3</td>\n",
       "      <td>XOne</td>\n",
       "      <td>2016</td>\n",
       "      <td>Sports</td>\n",
       "      <td>0.00</td>\n",
       "      <td>0.01</td>\n",
       "      <td>0.00</td>\n",
       "      <td>0.00</td>\n",
       "      <td>NaN</td>\n",
       "      <td>6.60</td>\n",
       "      <td>E</td>\n",
       "      <td>0.01</td>\n",
       "    </tr>\n",
       "    <tr>\n",
       "      <th>16645</th>\n",
       "      <td>ZombiU</td>\n",
       "      <td>XOne</td>\n",
       "      <td>2016</td>\n",
       "      <td>Action</td>\n",
       "      <td>0.00</td>\n",
       "      <td>0.01</td>\n",
       "      <td>0.00</td>\n",
       "      <td>0.00</td>\n",
       "      <td>NaN</td>\n",
       "      <td>NaN</td>\n",
       "      <td>NaN</td>\n",
       "      <td>0.01</td>\n",
       "    </tr>\n",
       "    <tr>\n",
       "      <th>16660</th>\n",
       "      <td>Prison Architect</td>\n",
       "      <td>XOne</td>\n",
       "      <td>2016</td>\n",
       "      <td>Action</td>\n",
       "      <td>0.01</td>\n",
       "      <td>0.00</td>\n",
       "      <td>0.00</td>\n",
       "      <td>0.00</td>\n",
       "      <td>74.00</td>\n",
       "      <td>6.70</td>\n",
       "      <td>NaN</td>\n",
       "      <td>0.01</td>\n",
       "    </tr>\n",
       "    <tr>\n",
       "      <th>16672</th>\n",
       "      <td>Metal Gear Solid V: The Definitive Experience</td>\n",
       "      <td>XOne</td>\n",
       "      <td>2016</td>\n",
       "      <td>Action</td>\n",
       "      <td>0.01</td>\n",
       "      <td>0.00</td>\n",
       "      <td>0.00</td>\n",
       "      <td>0.00</td>\n",
       "      <td>NaN</td>\n",
       "      <td>NaN</td>\n",
       "      <td>M</td>\n",
       "      <td>0.01</td>\n",
       "    </tr>\n",
       "  </tbody>\n",
       "</table>\n",
       "<p>247 rows × 12 columns</p>\n",
       "</div>"
      ],
      "text/plain": [
       "                                                name platform  release_year  \\\n",
       "99                         Call of Duty: Black Ops 3     XOne          2015   \n",
       "165                               Grand Theft Auto V     XOne          2014   \n",
       "179                   Call of Duty: Advanced Warfare     XOne          2014   \n",
       "242                                Halo 5: Guardians     XOne          2015   \n",
       "270                                        Fallout 4     XOne          2015   \n",
       "...                                              ...      ...           ...   \n",
       "16630                       Sébastien Loeb Rally Evo     XOne          2016   \n",
       "16643                              Rugby Challenge 3     XOne          2016   \n",
       "16645                                         ZombiU     XOne          2016   \n",
       "16660                               Prison Architect     XOne          2016   \n",
       "16672  Metal Gear Solid V: The Definitive Experience     XOne          2016   \n",
       "\n",
       "              genre  na_sales  eu_sales  jp_sales  other_sales  critic_score  \\\n",
       "99          Shooter      4.59      2.11      0.01         0.68           NaN   \n",
       "165          Action      2.81      2.19      0.00         0.47         97.00   \n",
       "179         Shooter      3.22      1.55      0.01         0.48         81.00   \n",
       "242         Shooter      2.78      1.27      0.03         0.41         84.00   \n",
       "270    Role-Playing      2.51      1.32      0.01         0.38         88.00   \n",
       "...             ...       ...       ...       ...          ...           ...   \n",
       "16630        Racing      0.00      0.01      0.00         0.00         63.00   \n",
       "16643        Sports      0.00      0.01      0.00         0.00           NaN   \n",
       "16645        Action      0.00      0.01      0.00         0.00           NaN   \n",
       "16660        Action      0.01      0.00      0.00         0.00         74.00   \n",
       "16672        Action      0.01      0.00      0.00         0.00           NaN   \n",
       "\n",
       "       user_score rating  total_sales  \n",
       "99            NaN    NaN         6.71  \n",
       "165          7.90      M         5.00  \n",
       "179          5.40      M         4.78  \n",
       "242          6.40      T         4.08  \n",
       "270          6.20      M         3.84  \n",
       "...           ...    ...          ...  \n",
       "16630        8.20      E         0.01  \n",
       "16643        6.60      E         0.01  \n",
       "16645         NaN    NaN         0.01  \n",
       "16660        6.70    NaN         0.01  \n",
       "16672         NaN      M         0.01  \n",
       "\n",
       "[247 rows x 12 columns]"
      ]
     },
     "execution_count": 39,
     "metadata": {},
     "output_type": "execute_result"
    }
   ],
   "source": [
    "xone_review = df_now.loc[df['platform'] == 'XOne'] # выделим данные с отдельной платформой для анализа\n",
    "xone_review"
   ]
  },
  {
   "cell_type": "code",
   "execution_count": 40,
   "metadata": {
    "scrolled": true
   },
   "outputs": [
    {
     "data": {
      "image/png": "[encoded data removed]",
      "text/plain": [
       "<Figure size 1296x288 with 1 Axes>"
      ]
     },
     "metadata": {
      "needs_background": "light"
     },
     "output_type": "display_data"
    }
   ],
   "source": [
    "xone_review.plot(x='user_score', y='total_sales', kind='scatter', alpha=0.5, figsize=(18,4), grid=True); #диаграмма рассеяния"
   ]
  },
  {
   "cell_type": "code",
   "execution_count": 41,
   "metadata": {
    "scrolled": true
   },
   "outputs": [
    {
     "data": {
      "text/plain": [
       "'Коэффициент корреляции между показателями составляет: -0.07'"
      ]
     },
     "execution_count": 41,
     "metadata": {},
     "output_type": "execute_result"
    }
   ],
   "source": [
    "user_to_price_corr_xone = xone_review['user_score'].corr(xone_review['total_sales']) \n",
    "f'Коэффициент корреляции между показателями составляет: {user_to_price_corr_xone:.2f}'"
   ]
  },
  {
   "cell_type": "code",
   "execution_count": 42,
   "metadata": {},
   "outputs": [
    {
     "data": {
      "image/png": "[encoded data removed]",
      "text/plain": [
       "<Figure size 1296x288 with 1 Axes>"
      ]
     },
     "metadata": {
      "needs_background": "light"
     },
     "output_type": "display_data"
    }
   ],
   "source": [
    "xone_review.plot(x='critic_score', y='total_sales', kind='scatter', alpha=0.2, figsize=(18,4), grid=True); #диаграмма рассеяния"
   ]
  },
  {
   "cell_type": "code",
   "execution_count": 43,
   "metadata": {},
   "outputs": [
    {
     "data": {
      "text/plain": [
       "'Коэффициент корреляции между показателями составляет: 0.42'"
      ]
     },
     "execution_count": 43,
     "metadata": {},
     "output_type": "execute_result"
    }
   ],
   "source": [
    "critics_to_price_corr_xone = xone_review['critic_score'].corr(xone_review['total_sales'])\n",
    "f'Коэффициент корреляции между показателями составляет: {critics_to_price_corr_xone:.2f}'"
   ]
  },
  {
   "cell_type": "markdown",
   "metadata": {},
   "source": [
    "По диаграмме с пользователями и продажами заметно, что рейтинг пользователей напрямую не влияет на продажи. Оценка критиков тоже практически никакого эффекта на продажи игр не имеет. Попробуем для сравнения посмотреть другие платформы.\n"
   ]
  },
  {
   "cell_type": "code",
   "execution_count": 44,
   "metadata": {},
   "outputs": [],
   "source": [
    "ps4_review = df_now.loc[df['platform'] == 'PS4'] # выделим данные с отдельной платформой для анализа"
   ]
  },
  {
   "cell_type": "code",
   "execution_count": 45,
   "metadata": {
    "scrolled": true
   },
   "outputs": [
    {
     "data": {
      "image/png": "[encoded data removed]",
      "text/plain": [
       "<Figure size 1296x288 with 1 Axes>"
      ]
     },
     "metadata": {
      "needs_background": "light"
     },
     "output_type": "display_data"
    }
   ],
   "source": [
    "ps4_review.plot(x='user_score', y='total_sales', kind='scatter', alpha=0.5, figsize=(18,4), grid=True); #диаграмма рассеяния"
   ]
  },
  {
   "cell_type": "code",
   "execution_count": 46,
   "metadata": {
    "scrolled": true
   },
   "outputs": [
    {
     "data": {
      "text/plain": [
       "'Коэффициент корреляции между показателями составляет: -0.03'"
      ]
     },
     "execution_count": 46,
     "metadata": {},
     "output_type": "execute_result"
    }
   ],
   "source": [
    "user_to_price_corr_ps4 = ps4_review['user_score'].corr(ps4_review['total_sales']) \n",
    "f'Коэффициент корреляции между показателями составляет: {user_to_price_corr_ps4:.2f}'"
   ]
  },
  {
   "cell_type": "code",
   "execution_count": 47,
   "metadata": {
    "scrolled": true
   },
   "outputs": [
    {
     "data": {
      "image/png": "[encoded data removed]",
      "text/plain": [
       "<Figure size 1296x288 with 1 Axes>"
      ]
     },
     "metadata": {
      "needs_background": "light"
     },
     "output_type": "display_data"
    }
   ],
   "source": [
    "ps4_review.plot(x='critic_score', y='total_sales', kind='scatter', alpha=0.5, figsize=(18,4), grid=True); #диаграмма рассеяния"
   ]
  },
  {
   "cell_type": "code",
   "execution_count": 48,
   "metadata": {},
   "outputs": [
    {
     "data": {
      "text/plain": [
       "'Коэффициент корреляции между показателями составляет: 0.41'"
      ]
     },
     "execution_count": 48,
     "metadata": {},
     "output_type": "execute_result"
    }
   ],
   "source": [
    "critics_to_price_corr_ps4 = ps4_review['critic_score'].corr(ps4_review['total_sales'])\n",
    "f'Коэффициент корреляции между показателями составляет: {critics_to_price_corr_ps4:.2f}'"
   ]
  },
  {
   "cell_type": "markdown",
   "metadata": {},
   "source": [
    "Здесь наблюдаем такую же ситуацию, как и с XOne, корреляция слабо выражена в обоих примерах. Попробуем посмотреть другой тип платформ."
   ]
  },
  {
   "cell_type": "code",
   "execution_count": 49,
   "metadata": {},
   "outputs": [],
   "source": [
    "DS3_review = df_now.loc[df['platform'] == '3DS'] # выделим данные с отдельной платформой для анализа"
   ]
  },
  {
   "cell_type": "code",
   "execution_count": 50,
   "metadata": {
    "scrolled": true
   },
   "outputs": [
    {
     "data": {
      "image/png": "[encoded data removed]",
      "text/plain": [
       "<Figure size 1296x288 with 1 Axes>"
      ]
     },
     "metadata": {
      "needs_background": "light"
     },
     "output_type": "display_data"
    }
   ],
   "source": [
    "DS3_review.plot(x='user_score', y='total_sales', kind='scatter', alpha=0.5, figsize=(18,4), grid=True); #диаграмма рассеяния"
   ]
  },
  {
   "cell_type": "code",
   "execution_count": 51,
   "metadata": {
    "scrolled": true
   },
   "outputs": [
    {
     "data": {
      "text/plain": [
       "'Коэффициент корреляции между показателями составляет: 0.20'"
      ]
     },
     "execution_count": 51,
     "metadata": {},
     "output_type": "execute_result"
    }
   ],
   "source": [
    "user_to_price_corr_DS3 = DS3_review['user_score'].corr(DS3_review['total_sales']) \n",
    "f'Коэффициент корреляции между показателями составляет: {user_to_price_corr_DS3:.2f}'"
   ]
  },
  {
   "cell_type": "code",
   "execution_count": 52,
   "metadata": {},
   "outputs": [
    {
     "data": {
      "image/png": "[encoded data removed]",
      "text/plain": [
       "<Figure size 1296x288 with 1 Axes>"
      ]
     },
     "metadata": {
      "needs_background": "light"
     },
     "output_type": "display_data"
    }
   ],
   "source": [
    "DS3_review.plot(x='critic_score', y='total_sales', kind='scatter', alpha=0.5, figsize=(18,4), grid=True); #диаграмма рассеяния"
   ]
  },
  {
   "cell_type": "code",
   "execution_count": 53,
   "metadata": {},
   "outputs": [
    {
     "data": {
      "text/plain": [
       "'Коэффициент корреляции между показателями составляет: 0.32'"
      ]
     },
     "execution_count": 53,
     "metadata": {},
     "output_type": "execute_result"
    }
   ],
   "source": [
    "critics_to_price_corr_DS3 = DS3_review['critic_score'].corr(DS3_review['total_sales'])\n",
    "f'Коэффициент корреляции между показателями составляет: {critics_to_price_corr_DS3:.2f}'"
   ]
  },
  {
   "cell_type": "markdown",
   "metadata": {},
   "source": [
    "Попробуем посмотреть, может ситуация с компьютерами отличается от других платформ."
   ]
  },
  {
   "cell_type": "code",
   "execution_count": 54,
   "metadata": {},
   "outputs": [],
   "source": [
    "pc_review = df_now.loc[df['platform'] == 'PC'] # выделим данные с отдельной платформой для анализа"
   ]
  },
  {
   "cell_type": "code",
   "execution_count": 55,
   "metadata": {
    "scrolled": true
   },
   "outputs": [
    {
     "data": {
      "image/png": "[encoded data removed]",
      "text/plain": [
       "<Figure size 1296x288 with 1 Axes>"
      ]
     },
     "metadata": {
      "needs_background": "light"
     },
     "output_type": "display_data"
    }
   ],
   "source": [
    "pc_review.plot(x='user_score', y='total_sales', kind='scatter', alpha=0.5, figsize=(18,4), grid=True); #диаграмма рассеяния"
   ]
  },
  {
   "cell_type": "code",
   "execution_count": 56,
   "metadata": {
    "scrolled": true
   },
   "outputs": [
    {
     "data": {
      "text/plain": [
       "'Коэффициент корреляции между показателями составляет: -0.13'"
      ]
     },
     "execution_count": 56,
     "metadata": {},
     "output_type": "execute_result"
    }
   ],
   "source": [
    "user_to_price_corr_pc = pc_review['user_score'].corr(pc_review['total_sales']) \n",
    "f'Коэффициент корреляции между показателями составляет: {user_to_price_corr_pc:.2f}'"
   ]
  },
  {
   "cell_type": "code",
   "execution_count": 57,
   "metadata": {},
   "outputs": [
    {
     "data": {
      "image/png": "[encoded data removed]",
      "text/plain": [
       "<Figure size 1296x288 with 1 Axes>"
      ]
     },
     "metadata": {
      "needs_background": "light"
     },
     "output_type": "display_data"
    }
   ],
   "source": [
    "pc_review.plot(x='critic_score', y='total_sales', kind='scatter', alpha=0.5, figsize=(18,4), grid=True); #диаграмма рассеяния"
   ]
  },
  {
   "cell_type": "code",
   "execution_count": 58,
   "metadata": {},
   "outputs": [
    {
     "data": {
      "text/plain": [
       "'Коэффициент корреляции между показателями составляет: 0.24'"
      ]
     },
     "execution_count": 58,
     "metadata": {},
     "output_type": "execute_result"
    }
   ],
   "source": [
    "critics_to_price_corr_pc = pc_review['critic_score'].corr(pc_review['total_sales'])\n",
    "f'Коэффициент корреляции между показателями составляет: {critics_to_price_corr_pc:.2f}'"
   ]
  },
  {
   "cell_type": "markdown",
   "metadata": {},
   "source": [
    "Как видим коэффициент показывает отсутствие линейной зависимости этих параметрой для разных платформ, независимо от года выхода или её суммарных продаж. Можем сделать вывод, что рейтинг не влияет на продаваемость игр."
   ]
  },
  {
   "cell_type": "markdown",
   "metadata": {},
   "source": [
    "### Анализ по жанрам\n",
    "Посмотрим на общее распределение игр по жанрам. Опишем продажи и выпуск."
   ]
  },
  {
   "cell_type": "code",
   "execution_count": 59,
   "metadata": {},
   "outputs": [],
   "source": [
    "genre_data = df_now.pivot_table(index='genre', values=['name', 'total_sales'], aggfunc={'name':'count', 'total_sales':'sum'}) \n",
    "# сделаем сводную таблицу по жанрам"
   ]
  },
  {
   "cell_type": "code",
   "execution_count": 60,
   "metadata": {},
   "outputs": [
    {
     "data": {
      "image/png": "[encoded data removed]",
      "text/plain": [
       "<Figure size 1296x288 with 1 Axes>"
      ]
     },
     "metadata": {
      "needs_background": "light"
     },
     "output_type": "display_data"
    }
   ],
   "source": [
    "genre_data['name'].sort_values(ascending=False).plot(kind='bar' ,figsize=(18,4), grid=True);\n",
    "# построим распределение игр по жанрам"
   ]
  },
  {
   "cell_type": "code",
   "execution_count": 61,
   "metadata": {},
   "outputs": [
    {
     "data": {
      "image/png": "[encoded data removed]",
      "text/plain": [
       "<Figure size 1296x288 with 1 Axes>"
      ]
     },
     "metadata": {
      "needs_background": "light"
     },
     "output_type": "display_data"
    }
   ],
   "source": [
    "genre_data['total_sales'].sort_values(ascending=False).plot(kind='bar' ,figsize=(18,4), grid=True);\n",
    "# посмтром распредение выручки по жанрам"
   ]
  },
  {
   "cell_type": "markdown",
   "metadata": {},
   "source": [
    "По графикам распределения видим, что лидирует по продамам и выручше Action и отстаёт от ближайшего места на 30% и по продажам, и по выручке. Второе место так же по обоим пунктам занимает Sports. Дальше распределние уменьшается плавно и места занимают жанры разные. Так, например, шутер по выручке занимает второе место, а по продажам всего лишь 6. Жанры Stratyge и Puzzle оба находятся на последний местах и примерно равны по продажам и выпуску. Еще интересное наблюдение по Adventure, где по выпуску игр жанр занимает 5 место, а по выручке 10, что делает этот жанр совсем не выгодным.\\\n",
    "Но чтобы оценить прибыльность попробуем рассмотреть сколько выручки приходится на каждую игру, выделим топ по продажам и рассмотрим среднее и медиану."
   ]
  },
  {
   "cell_type": "code",
   "execution_count": 62,
   "metadata": {},
   "outputs": [
    {
     "data": {
      "text/html": [
       "<div>\n",
       "<style scoped>\n",
       "    .dataframe tbody tr th:only-of-type {\n",
       "        vertical-align: middle;\n",
       "    }\n",
       "\n",
       "    .dataframe tbody tr th {\n",
       "        vertical-align: top;\n",
       "    }\n",
       "\n",
       "    .dataframe thead th {\n",
       "        text-align: right;\n",
       "    }\n",
       "</style>\n",
       "<table border=\"1\" class=\"dataframe\">\n",
       "  <thead>\n",
       "    <tr style=\"text-align: right;\">\n",
       "      <th></th>\n",
       "      <th>name</th>\n",
       "      <th>total_sales</th>\n",
       "      <th>percent</th>\n",
       "    </tr>\n",
       "    <tr>\n",
       "      <th>genre</th>\n",
       "      <th></th>\n",
       "      <th></th>\n",
       "      <th></th>\n",
       "    </tr>\n",
       "  </thead>\n",
       "  <tbody>\n",
       "    <tr>\n",
       "      <th>Shooter</th>\n",
       "      <td>235</td>\n",
       "      <td>267.47</td>\n",
       "      <td>1.14</td>\n",
       "    </tr>\n",
       "    <tr>\n",
       "      <th>Platform</th>\n",
       "      <td>85</td>\n",
       "      <td>55.42</td>\n",
       "      <td>0.65</td>\n",
       "    </tr>\n",
       "    <tr>\n",
       "      <th>Sports</th>\n",
       "      <td>268</td>\n",
       "      <td>158.63</td>\n",
       "      <td>0.59</td>\n",
       "    </tr>\n",
       "    <tr>\n",
       "      <th>Role-Playing</th>\n",
       "      <td>370</td>\n",
       "      <td>177.97</td>\n",
       "      <td>0.48</td>\n",
       "    </tr>\n",
       "    <tr>\n",
       "      <th>Simulation</th>\n",
       "      <td>80</td>\n",
       "      <td>32.93</td>\n",
       "      <td>0.41</td>\n",
       "    </tr>\n",
       "    <tr>\n",
       "      <th>Racing</th>\n",
       "      <td>115</td>\n",
       "      <td>47.01</td>\n",
       "      <td>0.41</td>\n",
       "    </tr>\n",
       "    <tr>\n",
       "      <th>Misc</th>\n",
       "      <td>192</td>\n",
       "      <td>77.37</td>\n",
       "      <td>0.40</td>\n",
       "    </tr>\n",
       "    <tr>\n",
       "      <th>Action</th>\n",
       "      <td>1031</td>\n",
       "      <td>389.98</td>\n",
       "      <td>0.38</td>\n",
       "    </tr>\n",
       "    <tr>\n",
       "      <th>Fighting</th>\n",
       "      <td>109</td>\n",
       "      <td>40.02</td>\n",
       "      <td>0.37</td>\n",
       "    </tr>\n",
       "    <tr>\n",
       "      <th>Strategy</th>\n",
       "      <td>71</td>\n",
       "      <td>12.28</td>\n",
       "      <td>0.17</td>\n",
       "    </tr>\n",
       "    <tr>\n",
       "      <th>Puzzle</th>\n",
       "      <td>28</td>\n",
       "      <td>4.67</td>\n",
       "      <td>0.17</td>\n",
       "    </tr>\n",
       "    <tr>\n",
       "      <th>Adventure</th>\n",
       "      <td>302</td>\n",
       "      <td>26.62</td>\n",
       "      <td>0.09</td>\n",
       "    </tr>\n",
       "  </tbody>\n",
       "</table>\n",
       "</div>"
      ],
      "text/plain": [
       "              name  total_sales  percent\n",
       "genre                                   \n",
       "Shooter        235       267.47     1.14\n",
       "Platform        85        55.42     0.65\n",
       "Sports         268       158.63     0.59\n",
       "Role-Playing   370       177.97     0.48\n",
       "Simulation      80        32.93     0.41\n",
       "Racing         115        47.01     0.41\n",
       "Misc           192        77.37     0.40\n",
       "Action        1031       389.98     0.38\n",
       "Fighting       109        40.02     0.37\n",
       "Strategy        71        12.28     0.17\n",
       "Puzzle          28         4.67     0.17\n",
       "Adventure      302        26.62     0.09"
      ]
     },
     "execution_count": 62,
     "metadata": {},
     "output_type": "execute_result"
    }
   ],
   "source": [
    "genre_data['percent'] = genre_data['total_sales'] / genre_data['name'] # добавляем новую метрику\n",
    "genre_data.sort_values(by='percent',ascending=False)"
   ]
  },
  {
   "cell_type": "code",
   "execution_count": 63,
   "metadata": {},
   "outputs": [
    {
     "data": {
      "image/png": "[encoded data removed]",
      "text/plain": [
       "<Figure size 1296x288 with 1 Axes>"
      ]
     },
     "metadata": {
      "needs_background": "light"
     },
     "output_type": "display_data"
    }
   ],
   "source": [
    "genre_data['percent'].sort_values(ascending=False).plot(kind='bar' ,figsize=(18,4), grid=True); # строим гистограмму"
   ]
  },
  {
   "cell_type": "code",
   "execution_count": 64,
   "metadata": {},
   "outputs": [
    {
     "data": {
      "text/plain": [
       "count   235.00\n",
       "mean      1.14\n",
       "std       1.96\n",
       "min       0.01\n",
       "25%       0.12\n",
       "50%       0.38\n",
       "75%       1.28\n",
       "max      12.56\n",
       "Name: total_sales, dtype: float64"
      ]
     },
     "execution_count": 64,
     "metadata": {},
     "output_type": "execute_result"
    }
   ],
   "source": [
    "df_now.loc[df_now['genre'] == 'Shooter', 'total_sales'].describe() # среднее, медиана, отклонение жанра Shooter"
   ]
  },
  {
   "cell_type": "code",
   "execution_count": 65,
   "metadata": {},
   "outputs": [
    {
     "data": {
      "text/plain": [
       "count   85.00\n",
       "mean     0.65\n",
       "std      1.27\n",
       "min      0.01\n",
       "25%      0.07\n",
       "50%      0.19\n",
       "75%      0.61\n",
       "max      9.27\n",
       "Name: total_sales, dtype: float64"
      ]
     },
     "execution_count": 65,
     "metadata": {},
     "output_type": "execute_result"
    }
   ],
   "source": [
    "df_now.loc[df_now['genre'] == 'Platform', 'total_sales'].describe() # среднее, медиана, отклонение жанра Platform"
   ]
  },
  {
   "cell_type": "code",
   "execution_count": 66,
   "metadata": {},
   "outputs": [
    {
     "data": {
      "text/plain": [
       "count   268.00\n",
       "mean      0.59\n",
       "std       0.97\n",
       "min       0.01\n",
       "25%       0.07\n",
       "50%       0.22\n",
       "75%       0.64\n",
       "max       7.30\n",
       "Name: total_sales, dtype: float64"
      ]
     },
     "execution_count": 66,
     "metadata": {},
     "output_type": "execute_result"
    }
   ],
   "source": [
    "df_now.loc[df_now['genre'] == 'Sports', 'total_sales'].describe() # среднее, медиана, отклонение жанра Sports"
   ]
  },
  {
   "cell_type": "code",
   "execution_count": 67,
   "metadata": {},
   "outputs": [
    {
     "data": {
      "text/plain": [
       "count   370.00\n",
       "mean      0.48\n",
       "std       1.22\n",
       "min       0.01\n",
       "25%       0.06\n",
       "50%       0.14\n",
       "75%       0.38\n",
       "max      13.82\n",
       "Name: total_sales, dtype: float64"
      ]
     },
     "execution_count": 67,
     "metadata": {},
     "output_type": "execute_result"
    }
   ],
   "source": [
    "df_now.loc[df_now['genre'] == 'Role-Playing', 'total_sales'].describe() # среднее, медиана, отклонение жанра Role-Playing"
   ]
  },
  {
   "cell_type": "code",
   "execution_count": 68,
   "metadata": {},
   "outputs": [
    {
     "data": {
      "text/plain": [
       "count   115.00\n",
       "mean      0.41\n",
       "std       0.80\n",
       "min       0.01\n",
       "25%       0.04\n",
       "50%       0.12\n",
       "75%       0.35\n",
       "max       6.58\n",
       "Name: total_sales, dtype: float64"
      ]
     },
     "execution_count": 68,
     "metadata": {},
     "output_type": "execute_result"
    }
   ],
   "source": [
    "df_now.loc[df_now['genre'] == 'Racing', 'total_sales'].describe() # среднее, медиана, отклонение жанра Racing"
   ]
  },
  {
   "cell_type": "markdown",
   "metadata": {},
   "source": [
    "По всем показателям лидирует жанр Shooter, он показывает все признаки прибыльности. У него медиана выше, чем у остальных жанров, средняя тоже, по максимуму его обгоняет только Role-Playing, но у него и медиана и средняя почти в два раза меньше."
   ]
  },
  {
   "cell_type": "markdown",
   "metadata": {},
   "source": [
    "## Портрет пользователя региона\n",
    "Определим для пользователя каждого региона (NA, EU, JP)\n",
    "\n",
    "### Самые популярные платформы (топ-5)\n"
   ]
  },
  {
   "cell_type": "code",
   "execution_count": 69,
   "metadata": {},
   "outputs": [
    {
     "data": {
      "text/html": [
       "<div>\n",
       "<style scoped>\n",
       "    .dataframe tbody tr th:only-of-type {\n",
       "        vertical-align: middle;\n",
       "    }\n",
       "\n",
       "    .dataframe tbody tr th {\n",
       "        vertical-align: top;\n",
       "    }\n",
       "\n",
       "    .dataframe thead th {\n",
       "        text-align: right;\n",
       "    }\n",
       "</style>\n",
       "<table border=\"1\" class=\"dataframe\">\n",
       "  <thead>\n",
       "    <tr style=\"text-align: right;\">\n",
       "      <th></th>\n",
       "      <th>na_sales</th>\n",
       "    </tr>\n",
       "    <tr>\n",
       "      <th>platform</th>\n",
       "      <th></th>\n",
       "    </tr>\n",
       "  </thead>\n",
       "  <tbody>\n",
       "    <tr>\n",
       "      <th>X360</th>\n",
       "      <td>140.05</td>\n",
       "    </tr>\n",
       "    <tr>\n",
       "      <th>PS4</th>\n",
       "      <td>108.74</td>\n",
       "    </tr>\n",
       "    <tr>\n",
       "      <th>PS3</th>\n",
       "      <td>103.38</td>\n",
       "    </tr>\n",
       "    <tr>\n",
       "      <th>XOne</th>\n",
       "      <td>93.12</td>\n",
       "    </tr>\n",
       "    <tr>\n",
       "      <th>3DS</th>\n",
       "      <td>55.31</td>\n",
       "    </tr>\n",
       "  </tbody>\n",
       "</table>\n",
       "</div>"
      ],
      "text/plain": [
       "          na_sales\n",
       "platform          \n",
       "X360        140.05\n",
       "PS4         108.74\n",
       "PS3         103.38\n",
       "XOne         93.12\n",
       "3DS          55.31"
      ]
     },
     "execution_count": 69,
     "metadata": {},
     "output_type": "execute_result"
    }
   ],
   "source": [
    "na_name = df_now.pivot_table(index=('platform'), values='na_sales', aggfunc='sum').sort_values(by='na_sales', ascending=False).head()\n",
    "na_name # топ 5 платформ в Северной Америке"
   ]
  },
  {
   "cell_type": "code",
   "execution_count": 70,
   "metadata": {},
   "outputs": [
    {
     "data": {
      "text/html": [
       "<div>\n",
       "<style scoped>\n",
       "    .dataframe tbody tr th:only-of-type {\n",
       "        vertical-align: middle;\n",
       "    }\n",
       "\n",
       "    .dataframe tbody tr th {\n",
       "        vertical-align: top;\n",
       "    }\n",
       "\n",
       "    .dataframe thead th {\n",
       "        text-align: right;\n",
       "    }\n",
       "</style>\n",
       "<table border=\"1\" class=\"dataframe\">\n",
       "  <thead>\n",
       "    <tr style=\"text-align: right;\">\n",
       "      <th></th>\n",
       "      <th>eu_sales</th>\n",
       "    </tr>\n",
       "    <tr>\n",
       "      <th>platform</th>\n",
       "      <th></th>\n",
       "    </tr>\n",
       "  </thead>\n",
       "  <tbody>\n",
       "    <tr>\n",
       "      <th>PS4</th>\n",
       "      <td>141.09</td>\n",
       "    </tr>\n",
       "    <tr>\n",
       "      <th>PS3</th>\n",
       "      <td>106.86</td>\n",
       "    </tr>\n",
       "    <tr>\n",
       "      <th>X360</th>\n",
       "      <td>74.52</td>\n",
       "    </tr>\n",
       "    <tr>\n",
       "      <th>XOne</th>\n",
       "      <td>51.59</td>\n",
       "    </tr>\n",
       "    <tr>\n",
       "      <th>3DS</th>\n",
       "      <td>42.64</td>\n",
       "    </tr>\n",
       "  </tbody>\n",
       "</table>\n",
       "</div>"
      ],
      "text/plain": [
       "          eu_sales\n",
       "platform          \n",
       "PS4         141.09\n",
       "PS3         106.86\n",
       "X360         74.52\n",
       "XOne         51.59\n",
       "3DS          42.64"
      ]
     },
     "execution_count": 70,
     "metadata": {},
     "output_type": "execute_result"
    }
   ],
   "source": [
    "eu_name = df_now.pivot_table(index=('platform'), values='eu_sales', aggfunc='sum').sort_values(by='eu_sales', ascending=False).head()\n",
    "eu_name # топ 5 платформ в Европе"
   ]
  },
  {
   "cell_type": "code",
   "execution_count": 71,
   "metadata": {},
   "outputs": [
    {
     "data": {
      "text/html": [
       "<div>\n",
       "<style scoped>\n",
       "    .dataframe tbody tr th:only-of-type {\n",
       "        vertical-align: middle;\n",
       "    }\n",
       "\n",
       "    .dataframe tbody tr th {\n",
       "        vertical-align: top;\n",
       "    }\n",
       "\n",
       "    .dataframe thead th {\n",
       "        text-align: right;\n",
       "    }\n",
       "</style>\n",
       "<table border=\"1\" class=\"dataframe\">\n",
       "  <thead>\n",
       "    <tr style=\"text-align: right;\">\n",
       "      <th></th>\n",
       "      <th>jp_sales</th>\n",
       "    </tr>\n",
       "    <tr>\n",
       "      <th>platform</th>\n",
       "      <th></th>\n",
       "    </tr>\n",
       "  </thead>\n",
       "  <tbody>\n",
       "    <tr>\n",
       "      <th>3DS</th>\n",
       "      <td>87.79</td>\n",
       "    </tr>\n",
       "    <tr>\n",
       "      <th>PS3</th>\n",
       "      <td>35.29</td>\n",
       "    </tr>\n",
       "    <tr>\n",
       "      <th>PSV</th>\n",
       "      <td>21.04</td>\n",
       "    </tr>\n",
       "    <tr>\n",
       "      <th>PS4</th>\n",
       "      <td>15.96</td>\n",
       "    </tr>\n",
       "    <tr>\n",
       "      <th>WiiU</th>\n",
       "      <td>13.01</td>\n",
       "    </tr>\n",
       "  </tbody>\n",
       "</table>\n",
       "</div>"
      ],
      "text/plain": [
       "          jp_sales\n",
       "platform          \n",
       "3DS          87.79\n",
       "PS3          35.29\n",
       "PSV          21.04\n",
       "PS4          15.96\n",
       "WiiU         13.01"
      ]
     },
     "execution_count": 71,
     "metadata": {},
     "output_type": "execute_result"
    }
   ],
   "source": [
    "jp_name = df_now.pivot_table(index=('platform'), values='jp_sales', aggfunc='sum').sort_values(by='jp_sales', ascending=False).head()\n",
    "jp_name # топ 5 платформ в Японии"
   ]
  },
  {
   "cell_type": "code",
   "execution_count": 72,
   "metadata": {},
   "outputs": [
    {
     "data": {
      "image/png": "[encoded data removed]",
      "text/plain": [
       "<Figure size 1296x288 with 1 Axes>"
      ]
     },
     "metadata": {
      "needs_background": "light"
     },
     "output_type": "display_data"
    }
   ],
   "source": [
    "na_name.plot(kind='bar' ,figsize=(18,4), grid=True); # гистограмма топ 5 платформ в Северной Америке"
   ]
  },
  {
   "cell_type": "code",
   "execution_count": 73,
   "metadata": {},
   "outputs": [
    {
     "data": {
      "image/png": "[encoded data removed]",
      "text/plain": [
       "<Figure size 1296x288 with 1 Axes>"
      ]
     },
     "metadata": {
      "needs_background": "light"
     },
     "output_type": "display_data"
    }
   ],
   "source": [
    "eu_name.plot(kind='bar' ,figsize=(18,4), grid=True); # гистограмма топ 5 платформ в Европе"
   ]
  },
  {
   "cell_type": "code",
   "execution_count": 74,
   "metadata": {},
   "outputs": [
    {
     "data": {
      "image/png": "[encoded data removed]",
      "text/plain": [
       "<Figure size 1296x288 with 1 Axes>"
      ]
     },
     "metadata": {
      "needs_background": "light"
     },
     "output_type": "display_data"
    }
   ],
   "source": [
    "jp_name.plot(kind='bar' ,figsize=(18,4), grid=True); # гистограмма топ 5 платформ в Японии"
   ]
  },
  {
   "cell_type": "markdown",
   "metadata": {},
   "source": [
    "Для каждого региона видны свои предпочтения. У Европы и Северной Америки большие приставки находятся в топе: Xbox и PS, но в Европе на PS больше выручка, чем на xbox, а в Северной Америке даже с выходом нового поколения все-равно лидирует X360, так же в Европе продажи Xbox в целом меньше чем PS, даже в учетом новых платформ, она более популярна в Америке.\n",
    "\n",
    "Японский рынок кардинально отличается от Европы и Америки, тут 3DS сильно обгоняет по продажам остальных конкурентов. Можно еще заметить, что в Японском сегменте в топе не присутствует Xbox, в основном только продукция PS и Nintendo, так же заметно, что Японцы отдают предпочтение карманным платформам: они занимают 4 места из 5 в топе по продажам. "
   ]
  },
  {
   "cell_type": "markdown",
   "metadata": {},
   "source": [
    "### Самые популярные жанры (топ-5)"
   ]
  },
  {
   "cell_type": "code",
   "execution_count": 75,
   "metadata": {},
   "outputs": [
    {
     "data": {
      "text/html": [
       "<div>\n",
       "<style scoped>\n",
       "    .dataframe tbody tr th:only-of-type {\n",
       "        vertical-align: middle;\n",
       "    }\n",
       "\n",
       "    .dataframe tbody tr th {\n",
       "        vertical-align: top;\n",
       "    }\n",
       "\n",
       "    .dataframe thead th {\n",
       "        text-align: right;\n",
       "    }\n",
       "</style>\n",
       "<table border=\"1\" class=\"dataframe\">\n",
       "  <thead>\n",
       "    <tr style=\"text-align: right;\">\n",
       "      <th></th>\n",
       "      <th>na_sales</th>\n",
       "    </tr>\n",
       "    <tr>\n",
       "      <th>genre</th>\n",
       "      <th></th>\n",
       "    </tr>\n",
       "  </thead>\n",
       "  <tbody>\n",
       "    <tr>\n",
       "      <th>Action</th>\n",
       "      <td>177.84</td>\n",
       "    </tr>\n",
       "    <tr>\n",
       "      <th>Shooter</th>\n",
       "      <td>144.77</td>\n",
       "    </tr>\n",
       "    <tr>\n",
       "      <th>Sports</th>\n",
       "      <td>81.53</td>\n",
       "    </tr>\n",
       "    <tr>\n",
       "      <th>Role-Playing</th>\n",
       "      <td>64.00</td>\n",
       "    </tr>\n",
       "    <tr>\n",
       "      <th>Misc</th>\n",
       "      <td>38.19</td>\n",
       "    </tr>\n",
       "  </tbody>\n",
       "</table>\n",
       "</div>"
      ],
      "text/plain": [
       "              na_sales\n",
       "genre                 \n",
       "Action          177.84\n",
       "Shooter         144.77\n",
       "Sports           81.53\n",
       "Role-Playing     64.00\n",
       "Misc             38.19"
      ]
     },
     "execution_count": 75,
     "metadata": {},
     "output_type": "execute_result"
    }
   ],
   "source": [
    "na_genres = df_now.pivot_table(index='genre', values='na_sales', aggfunc='sum').sort_values(by='na_sales', ascending=False).head()\n",
    "na_genres # топ 5 в Северной Америке"
   ]
  },
  {
   "cell_type": "code",
   "execution_count": 76,
   "metadata": {},
   "outputs": [
    {
     "data": {
      "text/html": [
       "<div>\n",
       "<style scoped>\n",
       "    .dataframe tbody tr th:only-of-type {\n",
       "        vertical-align: middle;\n",
       "    }\n",
       "\n",
       "    .dataframe tbody tr th {\n",
       "        vertical-align: top;\n",
       "    }\n",
       "\n",
       "    .dataframe thead th {\n",
       "        text-align: right;\n",
       "    }\n",
       "</style>\n",
       "<table border=\"1\" class=\"dataframe\">\n",
       "  <thead>\n",
       "    <tr style=\"text-align: right;\">\n",
       "      <th></th>\n",
       "      <th>eu_sales</th>\n",
       "    </tr>\n",
       "    <tr>\n",
       "      <th>genre</th>\n",
       "      <th></th>\n",
       "    </tr>\n",
       "  </thead>\n",
       "  <tbody>\n",
       "    <tr>\n",
       "      <th>Action</th>\n",
       "      <td>159.34</td>\n",
       "    </tr>\n",
       "    <tr>\n",
       "      <th>Shooter</th>\n",
       "      <td>113.47</td>\n",
       "    </tr>\n",
       "    <tr>\n",
       "      <th>Sports</th>\n",
       "      <td>69.09</td>\n",
       "    </tr>\n",
       "    <tr>\n",
       "      <th>Role-Playing</th>\n",
       "      <td>48.53</td>\n",
       "    </tr>\n",
       "    <tr>\n",
       "      <th>Racing</th>\n",
       "      <td>27.29</td>\n",
       "    </tr>\n",
       "  </tbody>\n",
       "</table>\n",
       "</div>"
      ],
      "text/plain": [
       "              eu_sales\n",
       "genre                 \n",
       "Action          159.34\n",
       "Shooter         113.47\n",
       "Sports           69.09\n",
       "Role-Playing     48.53\n",
       "Racing           27.29"
      ]
     },
     "execution_count": 76,
     "metadata": {},
     "output_type": "execute_result"
    }
   ],
   "source": [
    "eu_genres = df_now.pivot_table(index='genre', values='eu_sales', aggfunc='sum').sort_values(by='eu_sales', ascending=False).head()\n",
    "eu_genres # топ 5 в Европе"
   ]
  },
  {
   "cell_type": "code",
   "execution_count": 77,
   "metadata": {},
   "outputs": [
    {
     "data": {
      "text/html": [
       "<div>\n",
       "<style scoped>\n",
       "    .dataframe tbody tr th:only-of-type {\n",
       "        vertical-align: middle;\n",
       "    }\n",
       "\n",
       "    .dataframe tbody tr th {\n",
       "        vertical-align: top;\n",
       "    }\n",
       "\n",
       "    .dataframe thead th {\n",
       "        text-align: right;\n",
       "    }\n",
       "</style>\n",
       "<table border=\"1\" class=\"dataframe\">\n",
       "  <thead>\n",
       "    <tr style=\"text-align: right;\">\n",
       "      <th></th>\n",
       "      <th>jp_sales</th>\n",
       "    </tr>\n",
       "    <tr>\n",
       "      <th>genre</th>\n",
       "      <th></th>\n",
       "    </tr>\n",
       "  </thead>\n",
       "  <tbody>\n",
       "    <tr>\n",
       "      <th>Role-Playing</th>\n",
       "      <td>65.44</td>\n",
       "    </tr>\n",
       "    <tr>\n",
       "      <th>Action</th>\n",
       "      <td>52.80</td>\n",
       "    </tr>\n",
       "    <tr>\n",
       "      <th>Misc</th>\n",
       "      <td>12.86</td>\n",
       "    </tr>\n",
       "    <tr>\n",
       "      <th>Simulation</th>\n",
       "      <td>10.41</td>\n",
       "    </tr>\n",
       "    <tr>\n",
       "      <th>Fighting</th>\n",
       "      <td>9.44</td>\n",
       "    </tr>\n",
       "  </tbody>\n",
       "</table>\n",
       "</div>"
      ],
      "text/plain": [
       "              jp_sales\n",
       "genre                 \n",
       "Role-Playing     65.44\n",
       "Action           52.80\n",
       "Misc             12.86\n",
       "Simulation       10.41\n",
       "Fighting          9.44"
      ]
     },
     "execution_count": 77,
     "metadata": {},
     "output_type": "execute_result"
    }
   ],
   "source": [
    "jp_genres = df_now.pivot_table(index='genre', values='jp_sales', aggfunc='sum').sort_values(by='jp_sales', ascending=False).head()\n",
    "jp_genres # топ 5 в Японии"
   ]
  },
  {
   "cell_type": "code",
   "execution_count": 78,
   "metadata": {
    "scrolled": true
   },
   "outputs": [
    {
     "data": {
      "image/png": "[encoded data removed]",
      "text/plain": [
       "<Figure size 1296x288 with 1 Axes>"
      ]
     },
     "metadata": {
      "needs_background": "light"
     },
     "output_type": "display_data"
    }
   ],
   "source": [
    "na_genres.plot(kind='bar' ,figsize=(18,4), grid=True);"
   ]
  },
  {
   "cell_type": "code",
   "execution_count": 79,
   "metadata": {},
   "outputs": [
    {
     "data": {
      "image/png": "[encoded data removed]",
      "text/plain": [
       "<Figure size 1296x288 with 1 Axes>"
      ]
     },
     "metadata": {
      "needs_background": "light"
     },
     "output_type": "display_data"
    }
   ],
   "source": [
    "eu_genres.plot(kind='bar' ,figsize=(18,4), grid=True);"
   ]
  },
  {
   "cell_type": "code",
   "execution_count": 80,
   "metadata": {},
   "outputs": [
    {
     "data": {
      "image/png": "[encoded data removed]",
      "text/plain": [
       "<Figure size 1296x288 with 1 Axes>"
      ]
     },
     "metadata": {
      "needs_background": "light"
     },
     "output_type": "display_data"
    }
   ],
   "source": [
    "jp_genres.plot(kind='bar' ,figsize=(18,4), grid=True);"
   ]
  },
  {
   "cell_type": "markdown",
   "metadata": {},
   "source": [
    "В целом здесь картина между Европой и Америкой похожа, немного шутеры в Америке продаются лучше, но в целом практически все так же. В Японии жарны сильно отличаются, Role-Playing занимает первое место, Action занимает второе, а уже далеко внизу остальные жанры."
   ]
  },
  {
   "cell_type": "markdown",
   "metadata": {},
   "source": [
    "### \tВлияние рейтинг ESRB на продажи"
   ]
  },
  {
   "cell_type": "code",
   "execution_count": 81,
   "metadata": {},
   "outputs": [
    {
     "data": {
      "text/html": [
       "<div>\n",
       "<style scoped>\n",
       "    .dataframe tbody tr th:only-of-type {\n",
       "        vertical-align: middle;\n",
       "    }\n",
       "\n",
       "    .dataframe tbody tr th {\n",
       "        vertical-align: top;\n",
       "    }\n",
       "\n",
       "    .dataframe thead th {\n",
       "        text-align: right;\n",
       "    }\n",
       "</style>\n",
       "<table border=\"1\" class=\"dataframe\">\n",
       "  <thead>\n",
       "    <tr style=\"text-align: right;\">\n",
       "      <th></th>\n",
       "      <th>na_sales</th>\n",
       "      <th>percent</th>\n",
       "    </tr>\n",
       "    <tr>\n",
       "      <th>rating</th>\n",
       "      <th></th>\n",
       "      <th></th>\n",
       "    </tr>\n",
       "  </thead>\n",
       "  <tbody>\n",
       "    <tr>\n",
       "      <th>M</th>\n",
       "      <td>231.57</td>\n",
       "      <td>0.39</td>\n",
       "    </tr>\n",
       "    <tr>\n",
       "      <th>E</th>\n",
       "      <td>114.37</td>\n",
       "      <td>0.19</td>\n",
       "    </tr>\n",
       "    <tr>\n",
       "      <th>no_rating</th>\n",
       "      <td>103.31</td>\n",
       "      <td>0.17</td>\n",
       "    </tr>\n",
       "    <tr>\n",
       "      <th>E10+</th>\n",
       "      <td>75.70</td>\n",
       "      <td>0.13</td>\n",
       "    </tr>\n",
       "    <tr>\n",
       "      <th>T</th>\n",
       "      <td>66.02</td>\n",
       "      <td>0.11</td>\n",
       "    </tr>\n",
       "  </tbody>\n",
       "</table>\n",
       "</div>"
      ],
      "text/plain": [
       "           na_sales  percent\n",
       "rating                      \n",
       "M            231.57     0.39\n",
       "E            114.37     0.19\n",
       "no_rating    103.31     0.17\n",
       "E10+          75.70     0.13\n",
       "T             66.02     0.11"
      ]
     },
     "execution_count": 81,
     "metadata": {},
     "output_type": "execute_result"
    }
   ],
   "source": [
    "na_esrb = df_now.fillna('no_rating')\n",
    "na_esrb = na_esrb.pivot_table(index='rating', values='na_sales', aggfunc='sum').sort_values(by='na_sales', ascending=False)\n",
    "na_esrb['percent'] = na_esrb['na_sales'] / na_esrb['na_sales'].sum()\n",
    "na_esrb"
   ]
  },
  {
   "cell_type": "code",
   "execution_count": 82,
   "metadata": {},
   "outputs": [
    {
     "data": {
      "text/html": [
       "<div>\n",
       "<style scoped>\n",
       "    .dataframe tbody tr th:only-of-type {\n",
       "        vertical-align: middle;\n",
       "    }\n",
       "\n",
       "    .dataframe tbody tr th {\n",
       "        vertical-align: top;\n",
       "    }\n",
       "\n",
       "    .dataframe thead th {\n",
       "        text-align: right;\n",
       "    }\n",
       "</style>\n",
       "<table border=\"1\" class=\"dataframe\">\n",
       "  <thead>\n",
       "    <tr style=\"text-align: right;\">\n",
       "      <th></th>\n",
       "      <th>eu_sales</th>\n",
       "      <th>percent</th>\n",
       "    </tr>\n",
       "    <tr>\n",
       "      <th>rating</th>\n",
       "      <th></th>\n",
       "      <th></th>\n",
       "    </tr>\n",
       "  </thead>\n",
       "  <tbody>\n",
       "    <tr>\n",
       "      <th>M</th>\n",
       "      <td>193.96</td>\n",
       "      <td>0.38</td>\n",
       "    </tr>\n",
       "    <tr>\n",
       "      <th>E</th>\n",
       "      <td>113.03</td>\n",
       "      <td>0.22</td>\n",
       "    </tr>\n",
       "    <tr>\n",
       "      <th>no_rating</th>\n",
       "      <td>91.50</td>\n",
       "      <td>0.18</td>\n",
       "    </tr>\n",
       "    <tr>\n",
       "      <th>E10+</th>\n",
       "      <td>55.37</td>\n",
       "      <td>0.11</td>\n",
       "    </tr>\n",
       "    <tr>\n",
       "      <th>T</th>\n",
       "      <td>52.96</td>\n",
       "      <td>0.10</td>\n",
       "    </tr>\n",
       "  </tbody>\n",
       "</table>\n",
       "</div>"
      ],
      "text/plain": [
       "           eu_sales  percent\n",
       "rating                      \n",
       "M            193.96     0.38\n",
       "E            113.03     0.22\n",
       "no_rating     91.50     0.18\n",
       "E10+          55.37     0.11\n",
       "T             52.96     0.10"
      ]
     },
     "execution_count": 82,
     "metadata": {},
     "output_type": "execute_result"
    }
   ],
   "source": [
    "eu_esrb = df_now.fillna('no_rating')\n",
    "eu_esrb = eu_esrb.pivot_table(index='rating', values='eu_sales', aggfunc='sum').sort_values(by='eu_sales', ascending=False)\n",
    "eu_esrb['percent'] = eu_esrb['eu_sales'] / eu_esrb['eu_sales'].sum()\n",
    "eu_esrb"
   ]
  },
  {
   "cell_type": "code",
   "execution_count": 83,
   "metadata": {},
   "outputs": [
    {
     "data": {
      "text/html": [
       "<div>\n",
       "<style scoped>\n",
       "    .dataframe tbody tr th:only-of-type {\n",
       "        vertical-align: middle;\n",
       "    }\n",
       "\n",
       "    .dataframe tbody tr th {\n",
       "        vertical-align: top;\n",
       "    }\n",
       "\n",
       "    .dataframe thead th {\n",
       "        text-align: right;\n",
       "    }\n",
       "</style>\n",
       "<table border=\"1\" class=\"dataframe\">\n",
       "  <thead>\n",
       "    <tr style=\"text-align: right;\">\n",
       "      <th></th>\n",
       "      <th>jp_sales</th>\n",
       "      <th>percent</th>\n",
       "    </tr>\n",
       "    <tr>\n",
       "      <th>rating</th>\n",
       "      <th></th>\n",
       "      <th></th>\n",
       "    </tr>\n",
       "  </thead>\n",
       "  <tbody>\n",
       "    <tr>\n",
       "      <th>no_rating</th>\n",
       "      <td>108.84</td>\n",
       "      <td>0.57</td>\n",
       "    </tr>\n",
       "    <tr>\n",
       "      <th>E</th>\n",
       "      <td>28.33</td>\n",
       "      <td>0.15</td>\n",
       "    </tr>\n",
       "    <tr>\n",
       "      <th>T</th>\n",
       "      <td>26.02</td>\n",
       "      <td>0.14</td>\n",
       "    </tr>\n",
       "    <tr>\n",
       "      <th>M</th>\n",
       "      <td>21.20</td>\n",
       "      <td>0.11</td>\n",
       "    </tr>\n",
       "    <tr>\n",
       "      <th>E10+</th>\n",
       "      <td>8.19</td>\n",
       "      <td>0.04</td>\n",
       "    </tr>\n",
       "  </tbody>\n",
       "</table>\n",
       "</div>"
      ],
      "text/plain": [
       "           jp_sales  percent\n",
       "rating                      \n",
       "no_rating    108.84     0.57\n",
       "E             28.33     0.15\n",
       "T             26.02     0.14\n",
       "M             21.20     0.11\n",
       "E10+           8.19     0.04"
      ]
     },
     "execution_count": 83,
     "metadata": {},
     "output_type": "execute_result"
    }
   ],
   "source": [
    "jp_esrb = df_now.fillna('no_rating')\n",
    "jp_esrb = jp_esrb.pivot_table(index='rating', values='jp_sales', aggfunc='sum').sort_values(by='jp_sales', ascending=False)\n",
    "jp_esrb['percent'] = jp_esrb['jp_sales'] / jp_esrb['jp_sales'].sum()\n",
    "jp_esrb"
   ]
  },
  {
   "cell_type": "code",
   "execution_count": 84,
   "metadata": {},
   "outputs": [
    {
     "data": {
      "image/png": "[encoded data removed]",
      "text/plain": [
       "<Figure size 1296x288 with 1 Axes>"
      ]
     },
     "metadata": {
      "needs_background": "light"
     },
     "output_type": "display_data"
    }
   ],
   "source": [
    "na_esrb['percent'].plot(kind='bar' ,figsize=(18,4), grid=True);"
   ]
  },
  {
   "cell_type": "code",
   "execution_count": 85,
   "metadata": {},
   "outputs": [
    {
     "data": {
      "image/png": "[encoded data removed]",
      "text/plain": [
       "<Figure size 1296x288 with 1 Axes>"
      ]
     },
     "metadata": {
      "needs_background": "light"
     },
     "output_type": "display_data"
    }
   ],
   "source": [
    "eu_esrb['percent'].plot(kind='bar' ,figsize=(18,4), grid=True);"
   ]
  },
  {
   "cell_type": "code",
   "execution_count": 86,
   "metadata": {},
   "outputs": [
    {
     "data": {
      "image/png": "[encoded data removed]",
      "text/plain": [
       "<Figure size 1296x288 with 1 Axes>"
      ]
     },
     "metadata": {
      "needs_background": "light"
     },
     "output_type": "display_data"
    }
   ],
   "source": [
    "jp_esrb['percent'].plot(kind='bar' ,figsize=(18,4), grid=True);"
   ]
  },
  {
   "cell_type": "markdown",
   "metadata": {},
   "source": [
    "Как и в предыдущих анализах, здесь так же видим что между Европой и Америкой разница не так велика, У Японии все иначе. Рейтинг 17+ занимает почти 40% рынка, почти 20% игр не присвоен рейтинг что в Европе, что в Америке, поэтому распределение может поменяться, но и без них отрыв у 17+ довольно большой.\\\n",
    "В Японии ESRB не так сильно распространен как на западе, поэтому больше чем у половины игр отсутствует рейтинг. В Японском сегменте присутствует своя система возрастного определения игрового контента CERO, поэтому здесь необходимо учитывать специфику региона и для корректного сравнения добавлять данные и оттуда."
   ]
  },
  {
   "cell_type": "markdown",
   "metadata": {},
   "source": [
    "## Проверьте гипотезы\n",
    "### Рейтинги платформ Xbox One и PC одинаковые;\n",
    "\n"
   ]
  },
  {
   "cell_type": "markdown",
   "metadata": {},
   "source": [
    "Проверим через гипотезу о равенстве средних двух генеральных совокупностей. Так как мы имеем две генеральные совокупности, то этот метод нам как раз подходит. Сформируем нулевую и альтернатвную гипотезу:\\\n",
    "Нулевая гипотеза: Средние пользовательские рейтинги платформ Xbox One и PC одинаковые;\\\n",
    "Альтернативная гипотеза: Средние пользовательские рейтинги платформ Xbox One и PC различаются.\\\n",
    "Критический уровень статистической значимости выберем 5%, этого уровня для задачи нам хватит. \\\n",
    "Сначала сделаем две отфильтрованные таблицы по платформам и затем проверим гипотезу."
   ]
  },
  {
   "cell_type": "code",
   "execution_count": 87,
   "metadata": {},
   "outputs": [
    {
     "data": {
      "text/html": [
       "<div>\n",
       "<style scoped>\n",
       "    .dataframe tbody tr th:only-of-type {\n",
       "        vertical-align: middle;\n",
       "    }\n",
       "\n",
       "    .dataframe tbody tr th {\n",
       "        vertical-align: top;\n",
       "    }\n",
       "\n",
       "    .dataframe thead th {\n",
       "        text-align: right;\n",
       "    }\n",
       "</style>\n",
       "<table border=\"1\" class=\"dataframe\">\n",
       "  <thead>\n",
       "    <tr style=\"text-align: right;\">\n",
       "      <th></th>\n",
       "      <th>name</th>\n",
       "      <th>platform</th>\n",
       "      <th>release_year</th>\n",
       "      <th>genre</th>\n",
       "      <th>na_sales</th>\n",
       "      <th>eu_sales</th>\n",
       "      <th>jp_sales</th>\n",
       "      <th>other_sales</th>\n",
       "      <th>critic_score</th>\n",
       "      <th>user_score</th>\n",
       "      <th>rating</th>\n",
       "      <th>total_sales</th>\n",
       "    </tr>\n",
       "  </thead>\n",
       "  <tbody>\n",
       "    <tr>\n",
       "      <th>165</th>\n",
       "      <td>Grand Theft Auto V</td>\n",
       "      <td>XOne</td>\n",
       "      <td>2014</td>\n",
       "      <td>Action</td>\n",
       "      <td>2.81</td>\n",
       "      <td>2.19</td>\n",
       "      <td>0.00</td>\n",
       "      <td>0.47</td>\n",
       "      <td>97.00</td>\n",
       "      <td>7.90</td>\n",
       "      <td>M</td>\n",
       "      <td>5.00</td>\n",
       "    </tr>\n",
       "    <tr>\n",
       "      <th>179</th>\n",
       "      <td>Call of Duty: Advanced Warfare</td>\n",
       "      <td>XOne</td>\n",
       "      <td>2014</td>\n",
       "      <td>Shooter</td>\n",
       "      <td>3.22</td>\n",
       "      <td>1.55</td>\n",
       "      <td>0.01</td>\n",
       "      <td>0.48</td>\n",
       "      <td>81.00</td>\n",
       "      <td>5.40</td>\n",
       "      <td>M</td>\n",
       "      <td>4.78</td>\n",
       "    </tr>\n",
       "    <tr>\n",
       "      <th>242</th>\n",
       "      <td>Halo 5: Guardians</td>\n",
       "      <td>XOne</td>\n",
       "      <td>2015</td>\n",
       "      <td>Shooter</td>\n",
       "      <td>2.78</td>\n",
       "      <td>1.27</td>\n",
       "      <td>0.03</td>\n",
       "      <td>0.41</td>\n",
       "      <td>84.00</td>\n",
       "      <td>6.40</td>\n",
       "      <td>T</td>\n",
       "      <td>4.08</td>\n",
       "    </tr>\n",
       "    <tr>\n",
       "      <th>270</th>\n",
       "      <td>Fallout 4</td>\n",
       "      <td>XOne</td>\n",
       "      <td>2015</td>\n",
       "      <td>Role-Playing</td>\n",
       "      <td>2.51</td>\n",
       "      <td>1.32</td>\n",
       "      <td>0.01</td>\n",
       "      <td>0.38</td>\n",
       "      <td>88.00</td>\n",
       "      <td>6.20</td>\n",
       "      <td>M</td>\n",
       "      <td>3.84</td>\n",
       "    </tr>\n",
       "    <tr>\n",
       "      <th>373</th>\n",
       "      <td>Assassin's Creed: Unity</td>\n",
       "      <td>XOne</td>\n",
       "      <td>2014</td>\n",
       "      <td>Action</td>\n",
       "      <td>2.27</td>\n",
       "      <td>0.90</td>\n",
       "      <td>0.00</td>\n",
       "      <td>0.33</td>\n",
       "      <td>72.00</td>\n",
       "      <td>4.10</td>\n",
       "      <td>M</td>\n",
       "      <td>3.17</td>\n",
       "    </tr>\n",
       "    <tr>\n",
       "      <th>...</th>\n",
       "      <td>...</td>\n",
       "      <td>...</td>\n",
       "      <td>...</td>\n",
       "      <td>...</td>\n",
       "      <td>...</td>\n",
       "      <td>...</td>\n",
       "      <td>...</td>\n",
       "      <td>...</td>\n",
       "      <td>...</td>\n",
       "      <td>...</td>\n",
       "      <td>...</td>\n",
       "      <td>...</td>\n",
       "    </tr>\n",
       "    <tr>\n",
       "      <th>16544</th>\n",
       "      <td>Assassin's Creed Chronicles</td>\n",
       "      <td>XOne</td>\n",
       "      <td>2016</td>\n",
       "      <td>Action</td>\n",
       "      <td>0.00</td>\n",
       "      <td>0.01</td>\n",
       "      <td>0.00</td>\n",
       "      <td>0.00</td>\n",
       "      <td>NaN</td>\n",
       "      <td>6.80</td>\n",
       "      <td>T</td>\n",
       "      <td>0.01</td>\n",
       "    </tr>\n",
       "    <tr>\n",
       "      <th>16597</th>\n",
       "      <td>Saints Row: Gat out of Hell</td>\n",
       "      <td>XOne</td>\n",
       "      <td>2015</td>\n",
       "      <td>Action</td>\n",
       "      <td>0.00</td>\n",
       "      <td>0.01</td>\n",
       "      <td>0.00</td>\n",
       "      <td>0.00</td>\n",
       "      <td>65.00</td>\n",
       "      <td>6.00</td>\n",
       "      <td>M</td>\n",
       "      <td>0.01</td>\n",
       "    </tr>\n",
       "    <tr>\n",
       "      <th>16630</th>\n",
       "      <td>Sébastien Loeb Rally Evo</td>\n",
       "      <td>XOne</td>\n",
       "      <td>2016</td>\n",
       "      <td>Racing</td>\n",
       "      <td>0.00</td>\n",
       "      <td>0.01</td>\n",
       "      <td>0.00</td>\n",
       "      <td>0.00</td>\n",
       "      <td>63.00</td>\n",
       "      <td>8.20</td>\n",
       "      <td>E</td>\n",
       "      <td>0.01</td>\n",
       "    </tr>\n",
       "    <tr>\n",
       "      <th>16643</th>\n",
       "      <td>Rugby Challenge 3</td>\n",
       "      <td>XOne</td>\n",
       "      <td>2016</td>\n",
       "      <td>Sports</td>\n",
       "      <td>0.00</td>\n",
       "      <td>0.01</td>\n",
       "      <td>0.00</td>\n",
       "      <td>0.00</td>\n",
       "      <td>NaN</td>\n",
       "      <td>6.60</td>\n",
       "      <td>E</td>\n",
       "      <td>0.01</td>\n",
       "    </tr>\n",
       "    <tr>\n",
       "      <th>16660</th>\n",
       "      <td>Prison Architect</td>\n",
       "      <td>XOne</td>\n",
       "      <td>2016</td>\n",
       "      <td>Action</td>\n",
       "      <td>0.01</td>\n",
       "      <td>0.00</td>\n",
       "      <td>0.00</td>\n",
       "      <td>0.00</td>\n",
       "      <td>74.00</td>\n",
       "      <td>6.70</td>\n",
       "      <td>NaN</td>\n",
       "      <td>0.01</td>\n",
       "    </tr>\n",
       "  </tbody>\n",
       "</table>\n",
       "<p>185 rows × 12 columns</p>\n",
       "</div>"
      ],
      "text/plain": [
       "                                 name platform  release_year         genre  \\\n",
       "165                Grand Theft Auto V     XOne          2014        Action   \n",
       "179    Call of Duty: Advanced Warfare     XOne          2014       Shooter   \n",
       "242                 Halo 5: Guardians     XOne          2015       Shooter   \n",
       "270                         Fallout 4     XOne          2015  Role-Playing   \n",
       "373           Assassin's Creed: Unity     XOne          2014        Action   \n",
       "...                               ...      ...           ...           ...   \n",
       "16544     Assassin's Creed Chronicles     XOne          2016        Action   \n",
       "16597     Saints Row: Gat out of Hell     XOne          2015        Action   \n",
       "16630        Sébastien Loeb Rally Evo     XOne          2016        Racing   \n",
       "16643               Rugby Challenge 3     XOne          2016        Sports   \n",
       "16660                Prison Architect     XOne          2016        Action   \n",
       "\n",
       "       na_sales  eu_sales  jp_sales  other_sales  critic_score  user_score  \\\n",
       "165        2.81      2.19      0.00         0.47         97.00        7.90   \n",
       "179        3.22      1.55      0.01         0.48         81.00        5.40   \n",
       "242        2.78      1.27      0.03         0.41         84.00        6.40   \n",
       "270        2.51      1.32      0.01         0.38         88.00        6.20   \n",
       "373        2.27      0.90      0.00         0.33         72.00        4.10   \n",
       "...         ...       ...       ...          ...           ...         ...   \n",
       "16544      0.00      0.01      0.00         0.00           NaN        6.80   \n",
       "16597      0.00      0.01      0.00         0.00         65.00        6.00   \n",
       "16630      0.00      0.01      0.00         0.00         63.00        8.20   \n",
       "16643      0.00      0.01      0.00         0.00           NaN        6.60   \n",
       "16660      0.01      0.00      0.00         0.00         74.00        6.70   \n",
       "\n",
       "      rating  total_sales  \n",
       "165        M         5.00  \n",
       "179        M         4.78  \n",
       "242        T         4.08  \n",
       "270        M         3.84  \n",
       "373        M         3.17  \n",
       "...      ...          ...  \n",
       "16544      T         0.01  \n",
       "16597      M         0.01  \n",
       "16630      E         0.01  \n",
       "16643      E         0.01  \n",
       "16660    NaN         0.01  \n",
       "\n",
       "[185 rows x 12 columns]"
      ]
     },
     "execution_count": 87,
     "metadata": {},
     "output_type": "execute_result"
    }
   ],
   "source": [
    "xbox_one_review = df_now.loc[df_now['platform'] == 'XOne'].copy().dropna(subset=['user_score'])\n",
    "xbox_one_review # платформа Xbox"
   ]
  },
  {
   "cell_type": "code",
   "execution_count": 88,
   "metadata": {},
   "outputs": [
    {
     "data": {
      "text/html": [
       "<div>\n",
       "<style scoped>\n",
       "    .dataframe tbody tr th:only-of-type {\n",
       "        vertical-align: middle;\n",
       "    }\n",
       "\n",
       "    .dataframe tbody tr th {\n",
       "        vertical-align: top;\n",
       "    }\n",
       "\n",
       "    .dataframe thead th {\n",
       "        text-align: right;\n",
       "    }\n",
       "</style>\n",
       "<table border=\"1\" class=\"dataframe\">\n",
       "  <thead>\n",
       "    <tr style=\"text-align: right;\">\n",
       "      <th></th>\n",
       "      <th>name</th>\n",
       "      <th>platform</th>\n",
       "      <th>release_year</th>\n",
       "      <th>genre</th>\n",
       "      <th>na_sales</th>\n",
       "      <th>eu_sales</th>\n",
       "      <th>jp_sales</th>\n",
       "      <th>other_sales</th>\n",
       "      <th>critic_score</th>\n",
       "      <th>user_score</th>\n",
       "      <th>rating</th>\n",
       "      <th>total_sales</th>\n",
       "    </tr>\n",
       "  </thead>\n",
       "  <tbody>\n",
       "    <tr>\n",
       "      <th>192</th>\n",
       "      <td>Diablo III</td>\n",
       "      <td>PC</td>\n",
       "      <td>2012</td>\n",
       "      <td>Role-Playing</td>\n",
       "      <td>2.44</td>\n",
       "      <td>2.16</td>\n",
       "      <td>0.00</td>\n",
       "      <td>0.54</td>\n",
       "      <td>88.00</td>\n",
       "      <td>4.00</td>\n",
       "      <td>M</td>\n",
       "      <td>4.60</td>\n",
       "    </tr>\n",
       "    <tr>\n",
       "      <th>458</th>\n",
       "      <td>The Sims 4</td>\n",
       "      <td>PC</td>\n",
       "      <td>2014</td>\n",
       "      <td>Simulation</td>\n",
       "      <td>1.00</td>\n",
       "      <td>1.82</td>\n",
       "      <td>0.00</td>\n",
       "      <td>0.23</td>\n",
       "      <td>70.00</td>\n",
       "      <td>3.90</td>\n",
       "      <td>T</td>\n",
       "      <td>2.82</td>\n",
       "    </tr>\n",
       "    <tr>\n",
       "      <th>688</th>\n",
       "      <td>Guild Wars 2</td>\n",
       "      <td>PC</td>\n",
       "      <td>2012</td>\n",
       "      <td>Action</td>\n",
       "      <td>0.96</td>\n",
       "      <td>1.07</td>\n",
       "      <td>0.00</td>\n",
       "      <td>0.27</td>\n",
       "      <td>90.00</td>\n",
       "      <td>7.90</td>\n",
       "      <td>T</td>\n",
       "      <td>2.03</td>\n",
       "    </tr>\n",
       "    <tr>\n",
       "      <th>959</th>\n",
       "      <td>World of Warcraft: Mists of Pandaria</td>\n",
       "      <td>PC</td>\n",
       "      <td>2012</td>\n",
       "      <td>Role-Playing</td>\n",
       "      <td>0.84</td>\n",
       "      <td>0.76</td>\n",
       "      <td>0.00</td>\n",
       "      <td>0.22</td>\n",
       "      <td>82.00</td>\n",
       "      <td>4.80</td>\n",
       "      <td>T</td>\n",
       "      <td>1.60</td>\n",
       "    </tr>\n",
       "    <tr>\n",
       "      <th>1095</th>\n",
       "      <td>StarCraft II: Heart of the Swarm</td>\n",
       "      <td>PC</td>\n",
       "      <td>2013</td>\n",
       "      <td>Strategy</td>\n",
       "      <td>0.83</td>\n",
       "      <td>0.66</td>\n",
       "      <td>0.00</td>\n",
       "      <td>0.18</td>\n",
       "      <td>86.00</td>\n",
       "      <td>7.90</td>\n",
       "      <td>T</td>\n",
       "      <td>1.49</td>\n",
       "    </tr>\n",
       "    <tr>\n",
       "      <th>...</th>\n",
       "      <td>...</td>\n",
       "      <td>...</td>\n",
       "      <td>...</td>\n",
       "      <td>...</td>\n",
       "      <td>...</td>\n",
       "      <td>...</td>\n",
       "      <td>...</td>\n",
       "      <td>...</td>\n",
       "      <td>...</td>\n",
       "      <td>...</td>\n",
       "      <td>...</td>\n",
       "      <td>...</td>\n",
       "    </tr>\n",
       "    <tr>\n",
       "      <th>16463</th>\n",
       "      <td>TrackMania Turbo</td>\n",
       "      <td>PC</td>\n",
       "      <td>2016</td>\n",
       "      <td>Action</td>\n",
       "      <td>0.00</td>\n",
       "      <td>0.01</td>\n",
       "      <td>0.00</td>\n",
       "      <td>0.00</td>\n",
       "      <td>79.00</td>\n",
       "      <td>6.80</td>\n",
       "      <td>E</td>\n",
       "      <td>0.01</td>\n",
       "    </tr>\n",
       "    <tr>\n",
       "      <th>16509</th>\n",
       "      <td>Ride 2</td>\n",
       "      <td>PC</td>\n",
       "      <td>2016</td>\n",
       "      <td>Racing</td>\n",
       "      <td>0.00</td>\n",
       "      <td>0.01</td>\n",
       "      <td>0.00</td>\n",
       "      <td>0.00</td>\n",
       "      <td>78.00</td>\n",
       "      <td>7.90</td>\n",
       "      <td>E</td>\n",
       "      <td>0.01</td>\n",
       "    </tr>\n",
       "    <tr>\n",
       "      <th>16518</th>\n",
       "      <td>Rugby World Cup 2015</td>\n",
       "      <td>PC</td>\n",
       "      <td>2015</td>\n",
       "      <td>Sports</td>\n",
       "      <td>0.00</td>\n",
       "      <td>0.01</td>\n",
       "      <td>0.00</td>\n",
       "      <td>0.00</td>\n",
       "      <td>NaN</td>\n",
       "      <td>1.40</td>\n",
       "      <td>E</td>\n",
       "      <td>0.01</td>\n",
       "    </tr>\n",
       "    <tr>\n",
       "      <th>16584</th>\n",
       "      <td>Transformers: Fall of Cybertron</td>\n",
       "      <td>PC</td>\n",
       "      <td>2012</td>\n",
       "      <td>Action</td>\n",
       "      <td>0.01</td>\n",
       "      <td>0.00</td>\n",
       "      <td>0.00</td>\n",
       "      <td>0.00</td>\n",
       "      <td>78.00</td>\n",
       "      <td>7.90</td>\n",
       "      <td>T</td>\n",
       "      <td>0.01</td>\n",
       "    </tr>\n",
       "    <tr>\n",
       "      <th>16692</th>\n",
       "      <td>Metal Gear Solid V: Ground Zeroes</td>\n",
       "      <td>PC</td>\n",
       "      <td>2014</td>\n",
       "      <td>Action</td>\n",
       "      <td>0.00</td>\n",
       "      <td>0.01</td>\n",
       "      <td>0.00</td>\n",
       "      <td>0.00</td>\n",
       "      <td>80.00</td>\n",
       "      <td>7.60</td>\n",
       "      <td>M</td>\n",
       "      <td>0.01</td>\n",
       "    </tr>\n",
       "  </tbody>\n",
       "</table>\n",
       "<p>207 rows × 12 columns</p>\n",
       "</div>"
      ],
      "text/plain": [
       "                                       name platform  release_year  \\\n",
       "192                              Diablo III       PC          2012   \n",
       "458                              The Sims 4       PC          2014   \n",
       "688                            Guild Wars 2       PC          2012   \n",
       "959    World of Warcraft: Mists of Pandaria       PC          2012   \n",
       "1095       StarCraft II: Heart of the Swarm       PC          2013   \n",
       "...                                     ...      ...           ...   \n",
       "16463                      TrackMania Turbo       PC          2016   \n",
       "16509                                Ride 2       PC          2016   \n",
       "16518                  Rugby World Cup 2015       PC          2015   \n",
       "16584       Transformers: Fall of Cybertron       PC          2012   \n",
       "16692     Metal Gear Solid V: Ground Zeroes       PC          2014   \n",
       "\n",
       "              genre  na_sales  eu_sales  jp_sales  other_sales  critic_score  \\\n",
       "192    Role-Playing      2.44      2.16      0.00         0.54         88.00   \n",
       "458      Simulation      1.00      1.82      0.00         0.23         70.00   \n",
       "688          Action      0.96      1.07      0.00         0.27         90.00   \n",
       "959    Role-Playing      0.84      0.76      0.00         0.22         82.00   \n",
       "1095       Strategy      0.83      0.66      0.00         0.18         86.00   \n",
       "...             ...       ...       ...       ...          ...           ...   \n",
       "16463        Action      0.00      0.01      0.00         0.00         79.00   \n",
       "16509        Racing      0.00      0.01      0.00         0.00         78.00   \n",
       "16518        Sports      0.00      0.01      0.00         0.00           NaN   \n",
       "16584        Action      0.01      0.00      0.00         0.00         78.00   \n",
       "16692        Action      0.00      0.01      0.00         0.00         80.00   \n",
       "\n",
       "       user_score rating  total_sales  \n",
       "192          4.00      M         4.60  \n",
       "458          3.90      T         2.82  \n",
       "688          7.90      T         2.03  \n",
       "959          4.80      T         1.60  \n",
       "1095         7.90      T         1.49  \n",
       "...           ...    ...          ...  \n",
       "16463        6.80      E         0.01  \n",
       "16509        7.90      E         0.01  \n",
       "16518        1.40      E         0.01  \n",
       "16584        7.90      T         0.01  \n",
       "16692        7.60      M         0.01  \n",
       "\n",
       "[207 rows x 12 columns]"
      ]
     },
     "execution_count": 88,
     "metadata": {},
     "output_type": "execute_result"
    }
   ],
   "source": [
    "pc_review = df_now.loc[df_now['platform'] == 'PC'].copy().dropna(subset=['user_score'])\n",
    "pc_review # платформа pc"
   ]
  },
  {
   "cell_type": "code",
   "execution_count": 89,
   "metadata": {},
   "outputs": [
    {
     "name": "stdout",
     "output_type": "stream",
     "text": [
      "p-значение: 0.57472\n",
      "Не получилось отвергнуть нулевую гипотезу\n"
     ]
    }
   ],
   "source": [
    "alpha = .05  # проверяем гипотезы\n",
    "\n",
    "results_one = st.ttest_ind(xbox_one_review['user_score'], pc_review['user_score'])\n",
    "\n",
    "print('p-значение:', round(results_one.pvalue, 5))\n",
    "\n",
    "if results_one.pvalue < alpha:\n",
    "    print(\"Отвергаем нулевую гипотезу\")\n",
    "else:\n",
    "    print(\"Не получилось отвергнуть нулевую гипотезу\") "
   ]
  },
  {
   "cell_type": "markdown",
   "metadata": {},
   "source": [
    "По результатам видим, что значение выше критического уровня, поэтому гипотезу отвергнуть не получилось."
   ]
  },
  {
   "cell_type": "markdown",
   "metadata": {},
   "source": [
    "### Рейтинги жанров Action и Sports разные."
   ]
  },
  {
   "cell_type": "markdown",
   "metadata": {},
   "source": [
    "В этом примере так же имеются две генеральные совокупности, поэтому и метод выбран тот же. Сформируем нулевую и альтернатвную гипотезу:\n",
    "Нулевая гипотеза: средние пользовательские рейтинги жанров Action и Sports одинаковые;\\\n",
    "Альтернативная гипотеза: средние пользовательские рейтинги жанров Action и Sports различаются.\\\n",
    "Критический уровень статистической значимости выберем так же 5%.\\\n",
    "Сначала сделаем две отфильтрованные таблицы по платформам и затем проверим гипотезу."
   ]
  },
  {
   "cell_type": "code",
   "execution_count": 90,
   "metadata": {},
   "outputs": [
    {
     "data": {
      "text/html": [
       "<div>\n",
       "<style scoped>\n",
       "    .dataframe tbody tr th:only-of-type {\n",
       "        vertical-align: middle;\n",
       "    }\n",
       "\n",
       "    .dataframe tbody tr th {\n",
       "        vertical-align: top;\n",
       "    }\n",
       "\n",
       "    .dataframe thead th {\n",
       "        text-align: right;\n",
       "    }\n",
       "</style>\n",
       "<table border=\"1\" class=\"dataframe\">\n",
       "  <thead>\n",
       "    <tr style=\"text-align: right;\">\n",
       "      <th></th>\n",
       "      <th>name</th>\n",
       "      <th>platform</th>\n",
       "      <th>release_year</th>\n",
       "      <th>genre</th>\n",
       "      <th>na_sales</th>\n",
       "      <th>eu_sales</th>\n",
       "      <th>jp_sales</th>\n",
       "      <th>other_sales</th>\n",
       "      <th>critic_score</th>\n",
       "      <th>user_score</th>\n",
       "      <th>rating</th>\n",
       "      <th>total_sales</th>\n",
       "    </tr>\n",
       "  </thead>\n",
       "  <tbody>\n",
       "    <tr>\n",
       "      <th>16</th>\n",
       "      <td>Grand Theft Auto V</td>\n",
       "      <td>PS3</td>\n",
       "      <td>2013</td>\n",
       "      <td>Action</td>\n",
       "      <td>7.02</td>\n",
       "      <td>9.09</td>\n",
       "      <td>0.98</td>\n",
       "      <td>3.96</td>\n",
       "      <td>97.00</td>\n",
       "      <td>8.20</td>\n",
       "      <td>M</td>\n",
       "      <td>17.09</td>\n",
       "    </tr>\n",
       "    <tr>\n",
       "      <th>23</th>\n",
       "      <td>Grand Theft Auto V</td>\n",
       "      <td>X360</td>\n",
       "      <td>2013</td>\n",
       "      <td>Action</td>\n",
       "      <td>9.66</td>\n",
       "      <td>5.14</td>\n",
       "      <td>0.06</td>\n",
       "      <td>1.41</td>\n",
       "      <td>97.00</td>\n",
       "      <td>8.10</td>\n",
       "      <td>M</td>\n",
       "      <td>14.86</td>\n",
       "    </tr>\n",
       "    <tr>\n",
       "      <th>42</th>\n",
       "      <td>Grand Theft Auto V</td>\n",
       "      <td>PS4</td>\n",
       "      <td>2014</td>\n",
       "      <td>Action</td>\n",
       "      <td>3.96</td>\n",
       "      <td>6.31</td>\n",
       "      <td>0.38</td>\n",
       "      <td>1.97</td>\n",
       "      <td>97.00</td>\n",
       "      <td>8.30</td>\n",
       "      <td>M</td>\n",
       "      <td>10.65</td>\n",
       "    </tr>\n",
       "    <tr>\n",
       "      <th>81</th>\n",
       "      <td>FIFA Soccer 13</td>\n",
       "      <td>PS3</td>\n",
       "      <td>2012</td>\n",
       "      <td>Action</td>\n",
       "      <td>1.06</td>\n",
       "      <td>5.01</td>\n",
       "      <td>0.13</td>\n",
       "      <td>1.97</td>\n",
       "      <td>88.00</td>\n",
       "      <td>6.60</td>\n",
       "      <td>E</td>\n",
       "      <td>6.20</td>\n",
       "    </tr>\n",
       "    <tr>\n",
       "      <th>127</th>\n",
       "      <td>Assassin's Creed III</td>\n",
       "      <td>PS3</td>\n",
       "      <td>2012</td>\n",
       "      <td>Action</td>\n",
       "      <td>2.64</td>\n",
       "      <td>2.52</td>\n",
       "      <td>0.16</td>\n",
       "      <td>1.12</td>\n",
       "      <td>85.00</td>\n",
       "      <td>6.90</td>\n",
       "      <td>M</td>\n",
       "      <td>5.32</td>\n",
       "    </tr>\n",
       "    <tr>\n",
       "      <th>...</th>\n",
       "      <td>...</td>\n",
       "      <td>...</td>\n",
       "      <td>...</td>\n",
       "      <td>...</td>\n",
       "      <td>...</td>\n",
       "      <td>...</td>\n",
       "      <td>...</td>\n",
       "      <td>...</td>\n",
       "      <td>...</td>\n",
       "      <td>...</td>\n",
       "      <td>...</td>\n",
       "      <td>...</td>\n",
       "    </tr>\n",
       "    <tr>\n",
       "      <th>16597</th>\n",
       "      <td>Saints Row: Gat out of Hell</td>\n",
       "      <td>XOne</td>\n",
       "      <td>2015</td>\n",
       "      <td>Action</td>\n",
       "      <td>0.00</td>\n",
       "      <td>0.01</td>\n",
       "      <td>0.00</td>\n",
       "      <td>0.00</td>\n",
       "      <td>65.00</td>\n",
       "      <td>6.00</td>\n",
       "      <td>M</td>\n",
       "      <td>0.01</td>\n",
       "    </tr>\n",
       "    <tr>\n",
       "      <th>16652</th>\n",
       "      <td>Fast Racing Neo</td>\n",
       "      <td>WiiU</td>\n",
       "      <td>2016</td>\n",
       "      <td>Action</td>\n",
       "      <td>0.00</td>\n",
       "      <td>0.01</td>\n",
       "      <td>0.00</td>\n",
       "      <td>0.00</td>\n",
       "      <td>81.00</td>\n",
       "      <td>8.50</td>\n",
       "      <td>E</td>\n",
       "      <td>0.01</td>\n",
       "    </tr>\n",
       "    <tr>\n",
       "      <th>16654</th>\n",
       "      <td>Ben 10 Omniverse 2</td>\n",
       "      <td>X360</td>\n",
       "      <td>2013</td>\n",
       "      <td>Action</td>\n",
       "      <td>0.00</td>\n",
       "      <td>0.01</td>\n",
       "      <td>0.00</td>\n",
       "      <td>0.00</td>\n",
       "      <td>NaN</td>\n",
       "      <td>5.10</td>\n",
       "      <td>E10+</td>\n",
       "      <td>0.01</td>\n",
       "    </tr>\n",
       "    <tr>\n",
       "      <th>16660</th>\n",
       "      <td>Prison Architect</td>\n",
       "      <td>XOne</td>\n",
       "      <td>2016</td>\n",
       "      <td>Action</td>\n",
       "      <td>0.01</td>\n",
       "      <td>0.00</td>\n",
       "      <td>0.00</td>\n",
       "      <td>0.00</td>\n",
       "      <td>74.00</td>\n",
       "      <td>6.70</td>\n",
       "      <td>NaN</td>\n",
       "      <td>0.01</td>\n",
       "    </tr>\n",
       "    <tr>\n",
       "      <th>16692</th>\n",
       "      <td>Metal Gear Solid V: Ground Zeroes</td>\n",
       "      <td>PC</td>\n",
       "      <td>2014</td>\n",
       "      <td>Action</td>\n",
       "      <td>0.00</td>\n",
       "      <td>0.01</td>\n",
       "      <td>0.00</td>\n",
       "      <td>0.00</td>\n",
       "      <td>80.00</td>\n",
       "      <td>7.60</td>\n",
       "      <td>M</td>\n",
       "      <td>0.01</td>\n",
       "    </tr>\n",
       "  </tbody>\n",
       "</table>\n",
       "<p>543 rows × 12 columns</p>\n",
       "</div>"
      ],
      "text/plain": [
       "                                    name platform  release_year   genre  \\\n",
       "16                    Grand Theft Auto V      PS3          2013  Action   \n",
       "23                    Grand Theft Auto V     X360          2013  Action   \n",
       "42                    Grand Theft Auto V      PS4          2014  Action   \n",
       "81                        FIFA Soccer 13      PS3          2012  Action   \n",
       "127                 Assassin's Creed III      PS3          2012  Action   \n",
       "...                                  ...      ...           ...     ...   \n",
       "16597        Saints Row: Gat out of Hell     XOne          2015  Action   \n",
       "16652                   Fast Racing Neo      WiiU          2016  Action   \n",
       "16654                 Ben 10 Omniverse 2     X360          2013  Action   \n",
       "16660                   Prison Architect     XOne          2016  Action   \n",
       "16692  Metal Gear Solid V: Ground Zeroes       PC          2014  Action   \n",
       "\n",
       "       na_sales  eu_sales  jp_sales  other_sales  critic_score  user_score  \\\n",
       "16         7.02      9.09      0.98         3.96         97.00        8.20   \n",
       "23         9.66      5.14      0.06         1.41         97.00        8.10   \n",
       "42         3.96      6.31      0.38         1.97         97.00        8.30   \n",
       "81         1.06      5.01      0.13         1.97         88.00        6.60   \n",
       "127        2.64      2.52      0.16         1.12         85.00        6.90   \n",
       "...         ...       ...       ...          ...           ...         ...   \n",
       "16597      0.00      0.01      0.00         0.00         65.00        6.00   \n",
       "16652      0.00      0.01      0.00         0.00         81.00        8.50   \n",
       "16654      0.00      0.01      0.00         0.00           NaN        5.10   \n",
       "16660      0.01      0.00      0.00         0.00         74.00        6.70   \n",
       "16692      0.00      0.01      0.00         0.00         80.00        7.60   \n",
       "\n",
       "      rating  total_sales  \n",
       "16         M        17.09  \n",
       "23         M        14.86  \n",
       "42         M        10.65  \n",
       "81         E         6.20  \n",
       "127        M         5.32  \n",
       "...      ...          ...  \n",
       "16597      M         0.01  \n",
       "16652      E         0.01  \n",
       "16654   E10+         0.01  \n",
       "16660    NaN         0.01  \n",
       "16692      M         0.01  \n",
       "\n",
       "[543 rows x 12 columns]"
      ]
     },
     "execution_count": 90,
     "metadata": {},
     "output_type": "execute_result"
    }
   ],
   "source": [
    "action_review = df_now.loc[df_now['genre'] == 'Action'].copy().dropna(subset=['user_score'])\n",
    "action_review # жарн action"
   ]
  },
  {
   "cell_type": "code",
   "execution_count": 91,
   "metadata": {},
   "outputs": [
    {
     "data": {
      "text/html": [
       "<div>\n",
       "<style scoped>\n",
       "    .dataframe tbody tr th:only-of-type {\n",
       "        vertical-align: middle;\n",
       "    }\n",
       "\n",
       "    .dataframe tbody tr th {\n",
       "        vertical-align: top;\n",
       "    }\n",
       "\n",
       "    .dataframe thead th {\n",
       "        text-align: right;\n",
       "    }\n",
       "</style>\n",
       "<table border=\"1\" class=\"dataframe\">\n",
       "  <thead>\n",
       "    <tr style=\"text-align: right;\">\n",
       "      <th></th>\n",
       "      <th>name</th>\n",
       "      <th>platform</th>\n",
       "      <th>release_year</th>\n",
       "      <th>genre</th>\n",
       "      <th>na_sales</th>\n",
       "      <th>eu_sales</th>\n",
       "      <th>jp_sales</th>\n",
       "      <th>other_sales</th>\n",
       "      <th>critic_score</th>\n",
       "      <th>user_score</th>\n",
       "      <th>rating</th>\n",
       "      <th>total_sales</th>\n",
       "    </tr>\n",
       "  </thead>\n",
       "  <tbody>\n",
       "    <tr>\n",
       "      <th>77</th>\n",
       "      <td>FIFA 16</td>\n",
       "      <td>PS4</td>\n",
       "      <td>2015</td>\n",
       "      <td>Sports</td>\n",
       "      <td>1.12</td>\n",
       "      <td>6.12</td>\n",
       "      <td>0.06</td>\n",
       "      <td>1.28</td>\n",
       "      <td>82.00</td>\n",
       "      <td>4.30</td>\n",
       "      <td>E</td>\n",
       "      <td>7.30</td>\n",
       "    </tr>\n",
       "    <tr>\n",
       "      <th>94</th>\n",
       "      <td>FIFA 17</td>\n",
       "      <td>PS4</td>\n",
       "      <td>2016</td>\n",
       "      <td>Sports</td>\n",
       "      <td>0.66</td>\n",
       "      <td>5.75</td>\n",
       "      <td>0.08</td>\n",
       "      <td>1.11</td>\n",
       "      <td>85.00</td>\n",
       "      <td>5.00</td>\n",
       "      <td>E</td>\n",
       "      <td>6.49</td>\n",
       "    </tr>\n",
       "    <tr>\n",
       "      <th>126</th>\n",
       "      <td>FIFA 14</td>\n",
       "      <td>PS3</td>\n",
       "      <td>2013</td>\n",
       "      <td>Sports</td>\n",
       "      <td>0.78</td>\n",
       "      <td>4.24</td>\n",
       "      <td>0.07</td>\n",
       "      <td>1.37</td>\n",
       "      <td>86.00</td>\n",
       "      <td>4.30</td>\n",
       "      <td>E</td>\n",
       "      <td>5.09</td>\n",
       "    </tr>\n",
       "    <tr>\n",
       "      <th>143</th>\n",
       "      <td>FIFA 15</td>\n",
       "      <td>PS4</td>\n",
       "      <td>2014</td>\n",
       "      <td>Sports</td>\n",
       "      <td>0.80</td>\n",
       "      <td>4.33</td>\n",
       "      <td>0.05</td>\n",
       "      <td>0.90</td>\n",
       "      <td>82.00</td>\n",
       "      <td>5.70</td>\n",
       "      <td>E</td>\n",
       "      <td>5.18</td>\n",
       "    </tr>\n",
       "    <tr>\n",
       "      <th>264</th>\n",
       "      <td>FIFA 15</td>\n",
       "      <td>PS3</td>\n",
       "      <td>2014</td>\n",
       "      <td>Sports</td>\n",
       "      <td>0.58</td>\n",
       "      <td>3.02</td>\n",
       "      <td>0.04</td>\n",
       "      <td>0.64</td>\n",
       "      <td>NaN</td>\n",
       "      <td>4.50</td>\n",
       "      <td>E</td>\n",
       "      <td>3.64</td>\n",
       "    </tr>\n",
       "    <tr>\n",
       "      <th>...</th>\n",
       "      <td>...</td>\n",
       "      <td>...</td>\n",
       "      <td>...</td>\n",
       "      <td>...</td>\n",
       "      <td>...</td>\n",
       "      <td>...</td>\n",
       "      <td>...</td>\n",
       "      <td>...</td>\n",
       "      <td>...</td>\n",
       "      <td>...</td>\n",
       "      <td>...</td>\n",
       "      <td>...</td>\n",
       "    </tr>\n",
       "    <tr>\n",
       "      <th>16146</th>\n",
       "      <td>Don Bradman Cricket 14</td>\n",
       "      <td>PS3</td>\n",
       "      <td>2014</td>\n",
       "      <td>Sports</td>\n",
       "      <td>0.00</td>\n",
       "      <td>0.01</td>\n",
       "      <td>0.00</td>\n",
       "      <td>0.00</td>\n",
       "      <td>73.00</td>\n",
       "      <td>6.90</td>\n",
       "      <td>E</td>\n",
       "      <td>0.01</td>\n",
       "    </tr>\n",
       "    <tr>\n",
       "      <th>16230</th>\n",
       "      <td>Madden NFL 13</td>\n",
       "      <td>PS3</td>\n",
       "      <td>2012</td>\n",
       "      <td>Sports</td>\n",
       "      <td>0.00</td>\n",
       "      <td>0.01</td>\n",
       "      <td>0.00</td>\n",
       "      <td>0.00</td>\n",
       "      <td>83.00</td>\n",
       "      <td>5.50</td>\n",
       "      <td>E</td>\n",
       "      <td>0.01</td>\n",
       "    </tr>\n",
       "    <tr>\n",
       "      <th>16450</th>\n",
       "      <td>Turbo: Super Stunt Squad</td>\n",
       "      <td>X360</td>\n",
       "      <td>2013</td>\n",
       "      <td>Sports</td>\n",
       "      <td>0.00</td>\n",
       "      <td>0.01</td>\n",
       "      <td>0.00</td>\n",
       "      <td>0.00</td>\n",
       "      <td>NaN</td>\n",
       "      <td>4.50</td>\n",
       "      <td>E</td>\n",
       "      <td>0.01</td>\n",
       "    </tr>\n",
       "    <tr>\n",
       "      <th>16518</th>\n",
       "      <td>Rugby World Cup 2015</td>\n",
       "      <td>PC</td>\n",
       "      <td>2015</td>\n",
       "      <td>Sports</td>\n",
       "      <td>0.00</td>\n",
       "      <td>0.01</td>\n",
       "      <td>0.00</td>\n",
       "      <td>0.00</td>\n",
       "      <td>NaN</td>\n",
       "      <td>1.40</td>\n",
       "      <td>E</td>\n",
       "      <td>0.01</td>\n",
       "    </tr>\n",
       "    <tr>\n",
       "      <th>16643</th>\n",
       "      <td>Rugby Challenge 3</td>\n",
       "      <td>XOne</td>\n",
       "      <td>2016</td>\n",
       "      <td>Sports</td>\n",
       "      <td>0.00</td>\n",
       "      <td>0.01</td>\n",
       "      <td>0.00</td>\n",
       "      <td>0.00</td>\n",
       "      <td>NaN</td>\n",
       "      <td>6.60</td>\n",
       "      <td>E</td>\n",
       "      <td>0.01</td>\n",
       "    </tr>\n",
       "  </tbody>\n",
       "</table>\n",
       "<p>200 rows × 12 columns</p>\n",
       "</div>"
      ],
      "text/plain": [
       "                           name platform  release_year   genre  na_sales  \\\n",
       "77                      FIFA 16      PS4          2015  Sports      1.12   \n",
       "94                      FIFA 17      PS4          2016  Sports      0.66   \n",
       "126                     FIFA 14      PS3          2013  Sports      0.78   \n",
       "143                     FIFA 15      PS4          2014  Sports      0.80   \n",
       "264                     FIFA 15      PS3          2014  Sports      0.58   \n",
       "...                         ...      ...           ...     ...       ...   \n",
       "16146    Don Bradman Cricket 14      PS3          2014  Sports      0.00   \n",
       "16230             Madden NFL 13      PS3          2012  Sports      0.00   \n",
       "16450  Turbo: Super Stunt Squad     X360          2013  Sports      0.00   \n",
       "16518      Rugby World Cup 2015       PC          2015  Sports      0.00   \n",
       "16643         Rugby Challenge 3     XOne          2016  Sports      0.00   \n",
       "\n",
       "       eu_sales  jp_sales  other_sales  critic_score  user_score rating  \\\n",
       "77         6.12      0.06         1.28         82.00        4.30      E   \n",
       "94         5.75      0.08         1.11         85.00        5.00      E   \n",
       "126        4.24      0.07         1.37         86.00        4.30      E   \n",
       "143        4.33      0.05         0.90         82.00        5.70      E   \n",
       "264        3.02      0.04         0.64           NaN        4.50      E   \n",
       "...         ...       ...          ...           ...         ...    ...   \n",
       "16146      0.01      0.00         0.00         73.00        6.90      E   \n",
       "16230      0.01      0.00         0.00         83.00        5.50      E   \n",
       "16450      0.01      0.00         0.00           NaN        4.50      E   \n",
       "16518      0.01      0.00         0.00           NaN        1.40      E   \n",
       "16643      0.01      0.00         0.00           NaN        6.60      E   \n",
       "\n",
       "       total_sales  \n",
       "77            7.30  \n",
       "94            6.49  \n",
       "126           5.09  \n",
       "143           5.18  \n",
       "264           3.64  \n",
       "...            ...  \n",
       "16146         0.01  \n",
       "16230         0.01  \n",
       "16450         0.01  \n",
       "16518         0.01  \n",
       "16643         0.01  \n",
       "\n",
       "[200 rows x 12 columns]"
      ]
     },
     "execution_count": 91,
     "metadata": {},
     "output_type": "execute_result"
    }
   ],
   "source": [
    "sports_review = df_now.loc[df_now['genre'] == 'Sports'].copy().dropna(subset=['user_score'])\n",
    "sports_review # жарн sports"
   ]
  },
  {
   "cell_type": "code",
   "execution_count": 92,
   "metadata": {},
   "outputs": [
    {
     "name": "stdout",
     "output_type": "stream",
     "text": [
      "p-значение: 1.048598937143916e-23\n",
      "Отвергаем нулевую гипотезу\n"
     ]
    }
   ],
   "source": [
    "alpha = .05  # проверяем гипотезы\n",
    "\n",
    "results_two = st.ttest_ind(action_review['user_score'], sports_review['user_score'])\n",
    "\n",
    "print('p-значение:', results_two.pvalue)\n",
    "\n",
    "if results_two.pvalue < alpha:\n",
    "    print(\"Отвергаем нулевую гипотезу\")\n",
    "else:\n",
    "    print(\"Не получилось отвергнуть нулевую гипотезу\") "
   ]
  },
  {
   "cell_type": "markdown",
   "metadata": {},
   "source": [
    "Проверив гипотезу выяснили, что средние пользовательские рейтинги жанров Action и Sports различаются."
   ]
  },
  {
   "cell_type": "markdown",
   "metadata": {},
   "source": [
    "## Общий вывод"
   ]
  },
  {
   "cell_type": "markdown",
   "metadata": {},
   "source": [
    "Из исследования мы выяснили, что в основном платформы на рынке держатся от 5 до 8 лет, можем предположить, что данный период так же подойдет и для нового поколения. Учитывая, что нас интересует прогноз на 2017 год и ничего кардинально не поменяется, можем предположить, какие тренды будут сохраняться.\\\n",
    "Учитывая популярность на актуальный период таких платформ как Playstation 4 и Xbox One, можем быть уверены, что они буду расти и в следующем году, так как две эти платформы вышли в 2014, то они на рынке не так давно и уже завоевали большую популярность. Но какая именно платформа интересна для инвестиций зависит от региона: в Американском сегменте продажи у Xbox близки к Playstation, но на Европейском разница между ними состаляет более чем в два раза. В Японском сегменте данные консоли вообще не входят в топ продаж, поэтому на них ставку делать не стоит.\\\n",
    "Японию стоит рассмотреть отдельно, так как у них рынок сильно отличается. Для начала можем сразу отметить что Nintendo по продажам на данном рынке лидирует с огромным отрывом от остальных конкурентов, но платформа 3DS 2011 года выпуска и учитывая её популярность, в ближайшие год или два может выйти новая платформа ей на смену. На данном рынке преобладают маленькие консоли, как PSV или 3DS, в том числе и старые варианты, но на данном этапе они неконкурентноспособны.\\\n",
    "Учитывая данные за предыдущие периоды мы видим, что некоторые жанры преобладают над другими, в основном на Европейском и Американском рынке Action и Shooter жанры приносят больше всего выручки, но мы знаем, что Shooter является наиболее прибыльным жанром, поэтому на него стоит обратить особое внимание. В Японии сильно вперед вырываются Role-Playing и Action.\\\n",
    "Но на что не стоит обращать внимание при поиске популярного продукта - на отзывы. В исследовании мы выяснили, что рейтинг игры от игроков или редакций не влияет на продажи игр.\\\n",
    "Так же стоит уделять вниманию возрастному рейтингу: в Европе и Америке игры 17+ является наиболее продаваемыми, а в Японии необходимо смотреть на локальные рейтинги, т.к. ESRB ориентирован только на западный рынок.\\\n",
    "Еще мы провели проверку гипотез, в первом примере выяснили, что средние рейтинги платформ Xbox One и PC одинаковые, а во втором, что средние рейтинги жанров Action и Sports различаются."
   ]
  }
 ],
 "metadata": {
  "ExecuteTimeLog": [
   {
    "duration": 51,
    "start_time": "2022-05-02T14:15:25.948Z"
   },
   {
    "duration": 814,
    "start_time": "2022-05-02T14:15:30.911Z"
   },
   {
    "duration": 53,
    "start_time": "2022-05-02T14:15:31.727Z"
   },
   {
    "duration": 22,
    "start_time": "2022-05-02T14:15:31.782Z"
   },
   {
    "duration": 14,
    "start_time": "2022-05-02T14:15:31.807Z"
   },
   {
    "duration": 6,
    "start_time": "2022-05-02T14:15:31.822Z"
   },
   {
    "duration": 4,
    "start_time": "2022-05-02T14:15:31.829Z"
   },
   {
    "duration": 17,
    "start_time": "2022-05-02T14:15:31.835Z"
   },
   {
    "duration": 4,
    "start_time": "2022-05-02T14:15:31.854Z"
   },
   {
    "duration": 6,
    "start_time": "2022-05-02T14:15:31.860Z"
   },
   {
    "duration": 5,
    "start_time": "2022-05-02T14:15:31.869Z"
   },
   {
    "duration": 6,
    "start_time": "2022-05-02T14:15:31.876Z"
   },
   {
    "duration": 57,
    "start_time": "2022-05-02T14:15:31.883Z"
   },
   {
    "duration": 7,
    "start_time": "2022-05-02T14:15:31.941Z"
   },
   {
    "duration": 9,
    "start_time": "2022-05-02T14:15:31.949Z"
   },
   {
    "duration": 6,
    "start_time": "2022-05-02T14:15:31.959Z"
   },
   {
    "duration": 101,
    "start_time": "2022-05-02T14:15:31.967Z"
   },
   {
    "duration": 0,
    "start_time": "2022-05-02T14:15:32.069Z"
   },
   {
    "duration": 0,
    "start_time": "2022-05-02T14:15:32.071Z"
   },
   {
    "duration": 0,
    "start_time": "2022-05-02T14:15:32.072Z"
   },
   {
    "duration": 0,
    "start_time": "2022-05-02T14:15:32.073Z"
   },
   {
    "duration": 0,
    "start_time": "2022-05-02T14:15:32.075Z"
   },
   {
    "duration": 0,
    "start_time": "2022-05-02T14:15:32.076Z"
   },
   {
    "duration": 0,
    "start_time": "2022-05-02T14:15:32.077Z"
   },
   {
    "duration": 7,
    "start_time": "2022-05-02T14:16:01.197Z"
   },
   {
    "duration": 5,
    "start_time": "2022-05-02T14:16:01.567Z"
   },
   {
    "duration": 14,
    "start_time": "2022-05-02T14:16:01.874Z"
   },
   {
    "duration": 16,
    "start_time": "2022-05-02T14:16:03.855Z"
   },
   {
    "duration": 314,
    "start_time": "2022-05-02T14:16:04.312Z"
   },
   {
    "duration": 34,
    "start_time": "2022-05-02T14:16:04.731Z"
   },
   {
    "duration": 18,
    "start_time": "2022-05-02T14:16:22.290Z"
   },
   {
    "duration": 14,
    "start_time": "2022-05-02T14:16:27.792Z"
   },
   {
    "duration": 10,
    "start_time": "2022-05-02T14:18:09.038Z"
   },
   {
    "duration": 10,
    "start_time": "2022-05-02T14:18:10.936Z"
   },
   {
    "duration": 5,
    "start_time": "2022-05-02T14:19:04.372Z"
   },
   {
    "duration": 104,
    "start_time": "2022-05-02T14:19:54.468Z"
   },
   {
    "duration": 4,
    "start_time": "2022-05-02T14:19:55.725Z"
   },
   {
    "duration": 12,
    "start_time": "2022-05-02T14:19:57.126Z"
   },
   {
    "duration": 9,
    "start_time": "2022-05-02T14:20:08.538Z"
   },
   {
    "duration": 580,
    "start_time": "2022-05-02T14:20:31.445Z"
   },
   {
    "duration": 38,
    "start_time": "2022-05-02T14:20:32.026Z"
   },
   {
    "duration": 18,
    "start_time": "2022-05-02T14:20:32.068Z"
   },
   {
    "duration": 13,
    "start_time": "2022-05-02T14:20:32.088Z"
   },
   {
    "duration": 20,
    "start_time": "2022-05-02T14:20:32.103Z"
   },
   {
    "duration": 5,
    "start_time": "2022-05-02T14:20:32.125Z"
   },
   {
    "duration": 18,
    "start_time": "2022-05-02T14:20:32.131Z"
   },
   {
    "duration": 5,
    "start_time": "2022-05-02T14:20:32.151Z"
   },
   {
    "duration": 5,
    "start_time": "2022-05-02T14:20:32.158Z"
   },
   {
    "duration": 7,
    "start_time": "2022-05-02T14:20:32.164Z"
   },
   {
    "duration": 7,
    "start_time": "2022-05-02T14:20:32.172Z"
   },
   {
    "duration": 51,
    "start_time": "2022-05-02T14:20:32.181Z"
   },
   {
    "duration": 3,
    "start_time": "2022-05-02T14:20:32.234Z"
   },
   {
    "duration": 13,
    "start_time": "2022-05-02T14:20:32.239Z"
   },
   {
    "duration": 7,
    "start_time": "2022-05-02T14:20:32.253Z"
   },
   {
    "duration": 101,
    "start_time": "2022-05-02T14:20:32.261Z"
   },
   {
    "duration": 4,
    "start_time": "2022-05-02T14:20:32.363Z"
   },
   {
    "duration": 15,
    "start_time": "2022-05-02T14:20:32.368Z"
   },
   {
    "duration": 7,
    "start_time": "2022-05-02T14:20:32.384Z"
   },
   {
    "duration": 5,
    "start_time": "2022-05-02T14:20:32.392Z"
   },
   {
    "duration": 36,
    "start_time": "2022-05-02T14:20:32.398Z"
   },
   {
    "duration": 15,
    "start_time": "2022-05-02T14:20:32.435Z"
   },
   {
    "duration": 303,
    "start_time": "2022-05-02T14:20:32.451Z"
   },
   {
    "duration": 22,
    "start_time": "2022-05-02T14:20:32.756Z"
   },
   {
    "duration": 76,
    "start_time": "2022-05-02T17:12:37.264Z"
   },
   {
    "duration": 3109,
    "start_time": "2022-05-02T17:13:09.361Z"
   },
   {
    "duration": 64,
    "start_time": "2022-05-02T17:13:12.473Z"
   },
   {
    "duration": 37,
    "start_time": "2022-05-02T17:13:12.540Z"
   },
   {
    "duration": 36,
    "start_time": "2022-05-02T17:13:12.594Z"
   },
   {
    "duration": 9,
    "start_time": "2022-05-02T17:13:12.633Z"
   },
   {
    "duration": 9,
    "start_time": "2022-05-02T17:13:12.645Z"
   },
   {
    "duration": 73,
    "start_time": "2022-05-02T17:13:12.657Z"
   },
   {
    "duration": 8,
    "start_time": "2022-05-02T17:13:12.732Z"
   },
   {
    "duration": 7,
    "start_time": "2022-05-02T17:13:12.742Z"
   },
   {
    "duration": 8,
    "start_time": "2022-05-02T17:13:12.754Z"
   },
   {
    "duration": 36,
    "start_time": "2022-05-02T17:13:12.764Z"
   },
   {
    "duration": 56,
    "start_time": "2022-05-02T17:13:12.803Z"
   },
   {
    "duration": 7,
    "start_time": "2022-05-02T17:13:12.861Z"
   },
   {
    "duration": 15,
    "start_time": "2022-05-02T17:13:12.898Z"
   },
   {
    "duration": 40,
    "start_time": "2022-05-02T17:13:12.915Z"
   },
   {
    "duration": 249,
    "start_time": "2022-05-02T17:13:12.959Z"
   },
   {
    "duration": 6,
    "start_time": "2022-05-02T17:13:13.211Z"
   },
   {
    "duration": 22,
    "start_time": "2022-05-02T17:13:13.219Z"
   },
   {
    "duration": 7,
    "start_time": "2022-05-02T17:13:13.244Z"
   },
   {
    "duration": 12,
    "start_time": "2022-05-02T17:13:13.253Z"
   },
   {
    "duration": 51,
    "start_time": "2022-05-02T17:13:13.267Z"
   },
   {
    "duration": 32,
    "start_time": "2022-05-02T17:13:13.320Z"
   },
   {
    "duration": 696,
    "start_time": "2022-05-02T17:13:13.354Z"
   },
   {
    "duration": 44,
    "start_time": "2022-05-02T17:13:14.053Z"
   },
   {
    "duration": 28,
    "start_time": "2022-05-02T17:13:14.100Z"
   },
   {
    "duration": 165,
    "start_time": "2022-05-02T17:13:26.082Z"
   },
   {
    "duration": 25,
    "start_time": "2022-05-02T17:13:29.475Z"
   },
   {
    "duration": 29,
    "start_time": "2022-05-02T17:13:33.019Z"
   },
   {
    "duration": 24,
    "start_time": "2022-05-02T17:13:43.205Z"
   },
   {
    "duration": 23,
    "start_time": "2022-05-02T17:13:58.962Z"
   },
   {
    "duration": 19,
    "start_time": "2022-05-02T17:14:03.112Z"
   },
   {
    "duration": 29,
    "start_time": "2022-05-02T17:14:21.072Z"
   },
   {
    "duration": 31,
    "start_time": "2022-05-02T17:14:36.621Z"
   },
   {
    "duration": 37,
    "start_time": "2022-05-02T17:14:50.159Z"
   },
   {
    "duration": 37,
    "start_time": "2022-05-02T17:15:58.227Z"
   },
   {
    "duration": 267,
    "start_time": "2022-05-02T17:26:01.762Z"
   },
   {
    "duration": 297,
    "start_time": "2022-05-02T17:26:26.174Z"
   },
   {
    "duration": 269,
    "start_time": "2022-05-02T17:26:38.588Z"
   },
   {
    "duration": 275,
    "start_time": "2022-05-02T17:57:50.709Z"
   },
   {
    "duration": 307,
    "start_time": "2022-05-02T17:58:02.374Z"
   },
   {
    "duration": 275,
    "start_time": "2022-05-02T17:58:05.529Z"
   },
   {
    "duration": 542,
    "start_time": "2022-05-02T18:01:47.619Z"
   },
   {
    "duration": 478,
    "start_time": "2022-05-02T18:02:04.808Z"
   },
   {
    "duration": 10,
    "start_time": "2022-05-02T18:11:13.948Z"
   },
   {
    "duration": 31,
    "start_time": "2022-05-02T18:11:23.985Z"
   },
   {
    "duration": 27,
    "start_time": "2022-05-02T18:11:26.961Z"
   },
   {
    "duration": 11,
    "start_time": "2022-05-02T18:11:29.237Z"
   },
   {
    "duration": 28,
    "start_time": "2022-05-02T18:11:30.219Z"
   },
   {
    "duration": 23,
    "start_time": "2022-05-02T18:11:34.451Z"
   },
   {
    "duration": 29,
    "start_time": "2022-05-02T18:11:38.049Z"
   },
   {
    "duration": 19,
    "start_time": "2022-05-02T18:11:55.843Z"
   },
   {
    "duration": 14,
    "start_time": "2022-05-02T18:12:39.091Z"
   },
   {
    "duration": 1001,
    "start_time": "2022-05-02T18:12:45.561Z"
   },
   {
    "duration": 63,
    "start_time": "2022-05-02T18:12:46.565Z"
   },
   {
    "duration": 28,
    "start_time": "2022-05-02T18:12:46.630Z"
   },
   {
    "duration": 33,
    "start_time": "2022-05-02T18:12:46.662Z"
   },
   {
    "duration": 9,
    "start_time": "2022-05-02T18:12:46.697Z"
   },
   {
    "duration": 17,
    "start_time": "2022-05-02T18:12:46.709Z"
   },
   {
    "duration": 25,
    "start_time": "2022-05-02T18:12:46.729Z"
   },
   {
    "duration": 7,
    "start_time": "2022-05-02T18:12:46.756Z"
   },
   {
    "duration": 9,
    "start_time": "2022-05-02T18:12:46.798Z"
   },
   {
    "duration": 10,
    "start_time": "2022-05-02T18:12:46.813Z"
   },
   {
    "duration": 9,
    "start_time": "2022-05-02T18:12:46.825Z"
   },
   {
    "duration": 69,
    "start_time": "2022-05-02T18:12:46.837Z"
   },
   {
    "duration": 8,
    "start_time": "2022-05-02T18:12:46.909Z"
   },
   {
    "duration": 19,
    "start_time": "2022-05-02T18:12:46.919Z"
   },
   {
    "duration": 8,
    "start_time": "2022-05-02T18:12:46.940Z"
   },
   {
    "duration": 209,
    "start_time": "2022-05-02T18:12:46.950Z"
   },
   {
    "duration": 5,
    "start_time": "2022-05-02T18:12:47.161Z"
   },
   {
    "duration": 41,
    "start_time": "2022-05-02T18:12:47.168Z"
   },
   {
    "duration": 7,
    "start_time": "2022-05-02T18:12:47.212Z"
   },
   {
    "duration": 10,
    "start_time": "2022-05-02T18:12:47.221Z"
   },
   {
    "duration": 61,
    "start_time": "2022-05-02T18:12:47.234Z"
   },
   {
    "duration": 31,
    "start_time": "2022-05-02T18:12:47.298Z"
   },
   {
    "duration": 774,
    "start_time": "2022-05-02T18:12:47.331Z"
   },
   {
    "duration": 12,
    "start_time": "2022-05-02T18:12:48.109Z"
   },
   {
    "duration": 71,
    "start_time": "2022-05-02T18:12:48.123Z"
   },
   {
    "duration": 33,
    "start_time": "2022-05-02T18:12:48.197Z"
   },
   {
    "duration": 1080,
    "start_time": "2022-05-02T18:12:48.233Z"
   },
   {
    "duration": 86,
    "start_time": "2022-05-02T18:12:49.319Z"
   },
   {
    "duration": 334,
    "start_time": "2022-05-02T18:12:49.408Z"
   },
   {
    "duration": 28,
    "start_time": "2022-05-02T18:19:20.744Z"
   },
   {
    "duration": 30,
    "start_time": "2022-05-02T18:19:25.967Z"
   },
   {
    "duration": 38,
    "start_time": "2022-05-02T18:19:35.081Z"
   },
   {
    "duration": 187,
    "start_time": "2022-05-02T18:23:22.893Z"
   },
   {
    "duration": 318,
    "start_time": "2022-05-02T18:23:33.813Z"
   },
   {
    "duration": 196,
    "start_time": "2022-05-02T18:23:45.174Z"
   },
   {
    "duration": 191,
    "start_time": "2022-05-02T18:26:49.868Z"
   },
   {
    "duration": 7,
    "start_time": "2022-05-02T18:37:48.642Z"
   },
   {
    "duration": 3130,
    "start_time": "2022-05-02T18:37:55.564Z"
   },
   {
    "duration": 206,
    "start_time": "2022-05-02T18:38:08.973Z"
   },
   {
    "duration": 283,
    "start_time": "2022-05-02T18:38:18.554Z"
   },
   {
    "duration": 233,
    "start_time": "2022-05-02T18:38:34.188Z"
   },
   {
    "duration": 218,
    "start_time": "2022-05-02T18:39:54.267Z"
   },
   {
    "duration": 257,
    "start_time": "2022-05-02T18:40:49.792Z"
   },
   {
    "duration": 217,
    "start_time": "2022-05-02T18:41:01.406Z"
   },
   {
    "duration": 209,
    "start_time": "2022-05-02T18:41:37.417Z"
   },
   {
    "duration": 297,
    "start_time": "2022-05-02T18:41:39.690Z"
   },
   {
    "duration": 261,
    "start_time": "2022-05-02T18:41:46.086Z"
   },
   {
    "duration": 222,
    "start_time": "2022-05-02T18:41:59.928Z"
   },
   {
    "duration": 225,
    "start_time": "2022-05-02T18:42:04.605Z"
   },
   {
    "duration": 217,
    "start_time": "2022-05-02T18:42:07.832Z"
   },
   {
    "duration": 200,
    "start_time": "2022-05-02T18:42:12.410Z"
   },
   {
    "duration": 239,
    "start_time": "2022-05-02T18:42:20.222Z"
   },
   {
    "duration": 216,
    "start_time": "2022-05-02T18:42:39.944Z"
   },
   {
    "duration": 210,
    "start_time": "2022-05-02T18:42:45.893Z"
   },
   {
    "duration": 227,
    "start_time": "2022-05-02T18:43:46.539Z"
   },
   {
    "duration": 222,
    "start_time": "2022-05-02T18:44:09.016Z"
   },
   {
    "duration": 431,
    "start_time": "2022-05-02T18:44:25.550Z"
   },
   {
    "duration": 28,
    "start_time": "2022-05-02T18:44:36.613Z"
   },
   {
    "duration": 265,
    "start_time": "2022-05-02T18:44:41.241Z"
   },
   {
    "duration": 314,
    "start_time": "2022-05-02T18:45:46.260Z"
   },
   {
    "duration": 382,
    "start_time": "2022-05-02T18:45:54.211Z"
   },
   {
    "duration": 365,
    "start_time": "2022-05-02T18:45:58.324Z"
   },
   {
    "duration": 317,
    "start_time": "2022-05-02T18:46:12.407Z"
   },
   {
    "duration": 331,
    "start_time": "2022-05-02T18:48:25.906Z"
   },
   {
    "duration": 193,
    "start_time": "2022-05-02T18:48:49.983Z"
   },
   {
    "duration": 362,
    "start_time": "2022-05-02T18:48:56.058Z"
   },
   {
    "duration": 310,
    "start_time": "2022-05-02T18:49:11.451Z"
   },
   {
    "duration": 371,
    "start_time": "2022-05-02T18:49:53.605Z"
   },
   {
    "duration": 185,
    "start_time": "2022-05-02T19:04:01.615Z"
   },
   {
    "duration": 6,
    "start_time": "2022-05-02T19:04:01.971Z"
   },
   {
    "duration": 437,
    "start_time": "2022-05-02T19:08:51.817Z"
   },
   {
    "duration": 511,
    "start_time": "2022-05-02T19:08:56.088Z"
   },
   {
    "duration": 10,
    "start_time": "2022-05-02T19:38:19.219Z"
   },
   {
    "duration": 25,
    "start_time": "2022-05-02T19:38:19.781Z"
   },
   {
    "duration": 27,
    "start_time": "2022-05-02T19:38:29.714Z"
   },
   {
    "duration": 359,
    "start_time": "2022-05-02T19:38:42.419Z"
   },
   {
    "duration": 344,
    "start_time": "2022-05-02T19:39:41.309Z"
   },
   {
    "duration": 372,
    "start_time": "2022-05-02T19:39:51.142Z"
   },
   {
    "duration": 347,
    "start_time": "2022-05-02T19:41:32.358Z"
   },
   {
    "duration": 323,
    "start_time": "2022-05-02T19:42:03.330Z"
   },
   {
    "duration": 840,
    "start_time": "2022-05-02T19:42:19.283Z"
   },
   {
    "duration": 53,
    "start_time": "2022-05-02T19:42:20.126Z"
   },
   {
    "duration": 30,
    "start_time": "2022-05-02T19:42:20.181Z"
   },
   {
    "duration": 23,
    "start_time": "2022-05-02T19:42:20.215Z"
   },
   {
    "duration": 7,
    "start_time": "2022-05-02T19:42:20.240Z"
   },
   {
    "duration": 44,
    "start_time": "2022-05-02T19:42:20.249Z"
   },
   {
    "duration": 25,
    "start_time": "2022-05-02T19:42:20.295Z"
   },
   {
    "duration": 7,
    "start_time": "2022-05-02T19:42:20.323Z"
   },
   {
    "duration": 8,
    "start_time": "2022-05-02T19:42:20.332Z"
   },
   {
    "duration": 9,
    "start_time": "2022-05-02T19:42:20.344Z"
   },
   {
    "duration": 8,
    "start_time": "2022-05-02T19:42:20.392Z"
   },
   {
    "duration": 34,
    "start_time": "2022-05-02T19:42:20.402Z"
   },
   {
    "duration": 6,
    "start_time": "2022-05-02T19:42:20.438Z"
   },
   {
    "duration": 25,
    "start_time": "2022-05-02T19:42:20.446Z"
   },
   {
    "duration": 6,
    "start_time": "2022-05-02T19:42:20.493Z"
   },
   {
    "duration": 157,
    "start_time": "2022-05-02T19:42:20.501Z"
   },
   {
    "duration": 5,
    "start_time": "2022-05-02T19:42:20.661Z"
   },
   {
    "duration": 32,
    "start_time": "2022-05-02T19:42:20.668Z"
   },
   {
    "duration": 17,
    "start_time": "2022-05-02T19:42:20.702Z"
   },
   {
    "duration": 6,
    "start_time": "2022-05-02T19:42:20.720Z"
   },
   {
    "duration": 27,
    "start_time": "2022-05-02T19:42:20.728Z"
   },
   {
    "duration": 44,
    "start_time": "2022-05-02T19:42:20.757Z"
   },
   {
    "duration": 287,
    "start_time": "2022-05-02T19:42:20.803Z"
   },
   {
    "duration": 12,
    "start_time": "2022-05-02T19:42:21.093Z"
   },
   {
    "duration": 19,
    "start_time": "2022-05-02T19:42:21.108Z"
   },
   {
    "duration": 25,
    "start_time": "2022-05-02T19:42:21.129Z"
   },
   {
    "duration": 388,
    "start_time": "2022-05-02T19:42:21.156Z"
   },
   {
    "duration": 361,
    "start_time": "2022-05-02T19:42:21.548Z"
   },
   {
    "duration": 168,
    "start_time": "2022-05-02T19:44:18.023Z"
   },
   {
    "duration": 164,
    "start_time": "2022-05-02T19:44:28.094Z"
   },
   {
    "duration": 34,
    "start_time": "2022-05-02T19:45:44.797Z"
   },
   {
    "duration": 54,
    "start_time": "2022-05-02T19:45:55.487Z"
   },
   {
    "duration": 399,
    "start_time": "2022-05-02T19:45:56.615Z"
   },
   {
    "duration": 16,
    "start_time": "2022-05-02T19:47:05.611Z"
   },
   {
    "duration": 23,
    "start_time": "2022-05-02T19:47:26.750Z"
   },
   {
    "duration": 22,
    "start_time": "2022-05-02T19:47:37.486Z"
   },
   {
    "duration": 17,
    "start_time": "2022-05-02T19:48:24.960Z"
   },
   {
    "duration": 2763,
    "start_time": "2022-05-02T19:48:35.857Z"
   },
   {
    "duration": 134,
    "start_time": "2022-05-02T19:50:31.611Z"
   },
   {
    "duration": 186,
    "start_time": "2022-05-02T19:50:35.703Z"
   },
   {
    "duration": 414,
    "start_time": "2022-05-02T19:51:19.474Z"
   },
   {
    "duration": 339,
    "start_time": "2022-05-02T19:51:45.686Z"
   },
   {
    "duration": 7,
    "start_time": "2022-05-02T20:17:25.811Z"
   },
   {
    "duration": 279,
    "start_time": "2022-05-02T20:17:27.353Z"
   },
   {
    "duration": 884,
    "start_time": "2022-05-02T20:17:40.386Z"
   },
   {
    "duration": 57,
    "start_time": "2022-05-02T20:17:41.273Z"
   },
   {
    "duration": 27,
    "start_time": "2022-05-02T20:17:41.336Z"
   },
   {
    "duration": 44,
    "start_time": "2022-05-02T20:17:41.366Z"
   },
   {
    "duration": 10,
    "start_time": "2022-05-02T20:17:41.413Z"
   },
   {
    "duration": 7,
    "start_time": "2022-05-02T20:17:41.426Z"
   },
   {
    "duration": 24,
    "start_time": "2022-05-02T20:17:41.435Z"
   },
   {
    "duration": 38,
    "start_time": "2022-05-02T20:17:41.462Z"
   },
   {
    "duration": 15,
    "start_time": "2022-05-02T20:17:41.505Z"
   },
   {
    "duration": 9,
    "start_time": "2022-05-02T20:17:41.523Z"
   },
   {
    "duration": 8,
    "start_time": "2022-05-02T20:17:41.534Z"
   },
   {
    "duration": 68,
    "start_time": "2022-05-02T20:17:41.545Z"
   },
   {
    "duration": 6,
    "start_time": "2022-05-02T20:17:41.615Z"
   },
   {
    "duration": 14,
    "start_time": "2022-05-02T20:17:41.623Z"
   },
   {
    "duration": 6,
    "start_time": "2022-05-02T20:17:41.639Z"
   },
   {
    "duration": 175,
    "start_time": "2022-05-02T20:17:41.648Z"
   },
   {
    "duration": 4,
    "start_time": "2022-05-02T20:17:41.826Z"
   },
   {
    "duration": 23,
    "start_time": "2022-05-02T20:17:41.832Z"
   },
   {
    "duration": 9,
    "start_time": "2022-05-02T20:17:41.857Z"
   },
   {
    "duration": 30,
    "start_time": "2022-05-02T20:17:41.868Z"
   },
   {
    "duration": 23,
    "start_time": "2022-05-02T20:17:41.900Z"
   },
   {
    "duration": 28,
    "start_time": "2022-05-02T20:17:41.926Z"
   },
   {
    "duration": 321,
    "start_time": "2022-05-02T20:17:41.957Z"
   },
   {
    "duration": 18,
    "start_time": "2022-05-02T20:17:42.280Z"
   },
   {
    "duration": 31,
    "start_time": "2022-05-02T20:17:42.301Z"
   },
   {
    "duration": 26,
    "start_time": "2022-05-02T20:17:42.335Z"
   },
   {
    "duration": 378,
    "start_time": "2022-05-02T20:17:42.365Z"
   },
   {
    "duration": 51,
    "start_time": "2022-05-02T20:17:42.746Z"
   },
   {
    "duration": 399,
    "start_time": "2022-05-02T20:17:42.800Z"
   },
   {
    "duration": 399,
    "start_time": "2022-05-02T20:18:18.975Z"
   },
   {
    "duration": 33,
    "start_time": "2022-05-02T20:18:50.811Z"
   },
   {
    "duration": 36,
    "start_time": "2022-05-02T20:18:58.642Z"
   },
   {
    "duration": 54,
    "start_time": "2022-05-02T20:19:25.971Z"
   },
   {
    "duration": 34,
    "start_time": "2022-05-02T20:19:50.845Z"
   },
   {
    "duration": 19,
    "start_time": "2022-05-02T20:23:50.618Z"
   },
   {
    "duration": 128,
    "start_time": "2022-05-02T20:27:45.710Z"
   },
   {
    "duration": 19,
    "start_time": "2022-05-02T20:28:15.293Z"
   },
   {
    "duration": 30,
    "start_time": "2022-05-02T20:28:21.028Z"
   },
   {
    "duration": 318,
    "start_time": "2022-05-02T20:40:51.632Z"
   },
   {
    "duration": 296,
    "start_time": "2022-05-02T20:41:08.629Z"
   },
   {
    "duration": 299,
    "start_time": "2022-05-02T20:41:21.859Z"
   },
   {
    "duration": 21,
    "start_time": "2022-05-02T20:41:50.628Z"
   },
   {
    "duration": 820,
    "start_time": "2022-05-02T20:41:55.413Z"
   },
   {
    "duration": 63,
    "start_time": "2022-05-02T20:41:56.235Z"
   },
   {
    "duration": 30,
    "start_time": "2022-05-02T20:41:56.301Z"
   },
   {
    "duration": 63,
    "start_time": "2022-05-02T20:41:56.336Z"
   },
   {
    "duration": 9,
    "start_time": "2022-05-02T20:41:56.402Z"
   },
   {
    "duration": 11,
    "start_time": "2022-05-02T20:41:56.414Z"
   },
   {
    "duration": 89,
    "start_time": "2022-05-02T20:41:56.428Z"
   },
   {
    "duration": 12,
    "start_time": "2022-05-02T20:41:56.520Z"
   },
   {
    "duration": 60,
    "start_time": "2022-05-02T20:41:56.534Z"
   },
   {
    "duration": 7,
    "start_time": "2022-05-02T20:41:56.599Z"
   },
   {
    "duration": 11,
    "start_time": "2022-05-02T20:41:56.608Z"
   },
   {
    "duration": 86,
    "start_time": "2022-05-02T20:41:56.622Z"
   },
   {
    "duration": 6,
    "start_time": "2022-05-02T20:41:56.710Z"
   },
   {
    "duration": 14,
    "start_time": "2022-05-02T20:41:56.718Z"
   },
   {
    "duration": 64,
    "start_time": "2022-05-02T20:41:56.734Z"
   },
   {
    "duration": 604,
    "start_time": "2022-05-02T20:41:56.801Z"
   },
   {
    "duration": 6,
    "start_time": "2022-05-02T20:41:57.408Z"
   },
   {
    "duration": 81,
    "start_time": "2022-05-02T20:41:57.418Z"
   },
   {
    "duration": 11,
    "start_time": "2022-05-02T20:41:57.502Z"
   },
   {
    "duration": 6,
    "start_time": "2022-05-02T20:41:57.515Z"
   },
   {
    "duration": 71,
    "start_time": "2022-05-02T20:41:57.523Z"
   },
   {
    "duration": 26,
    "start_time": "2022-05-02T20:41:57.597Z"
   },
   {
    "duration": 587,
    "start_time": "2022-05-02T20:41:57.625Z"
   },
   {
    "duration": 10,
    "start_time": "2022-05-02T20:41:58.214Z"
   },
   {
    "duration": 68,
    "start_time": "2022-05-02T20:41:58.226Z"
   },
   {
    "duration": 26,
    "start_time": "2022-05-02T20:41:58.297Z"
   },
   {
    "duration": 782,
    "start_time": "2022-05-02T20:41:58.326Z"
   },
   {
    "duration": 82,
    "start_time": "2022-05-02T20:41:59.113Z"
   },
   {
    "duration": 569,
    "start_time": "2022-05-02T20:41:59.197Z"
   },
   {
    "duration": 21,
    "start_time": "2022-05-02T20:41:59.768Z"
   },
   {
    "duration": 69,
    "start_time": "2022-05-02T20:41:59.793Z"
   },
   {
    "duration": 334,
    "start_time": "2022-05-02T20:41:59.864Z"
   },
   {
    "duration": 300,
    "start_time": "2022-05-02T20:42:41.797Z"
   },
   {
    "duration": 426,
    "start_time": "2022-05-02T20:45:22.871Z"
   },
   {
    "duration": 448,
    "start_time": "2022-05-02T20:45:45.081Z"
   },
   {
    "duration": 381,
    "start_time": "2022-05-02T20:45:53.677Z"
   },
   {
    "duration": 383,
    "start_time": "2022-05-02T20:46:37.519Z"
   },
   {
    "duration": 417,
    "start_time": "2022-05-02T20:47:21.401Z"
   },
   {
    "duration": 103,
    "start_time": "2022-05-02T20:52:58.310Z"
   },
   {
    "duration": 14,
    "start_time": "2022-05-02T20:53:04.529Z"
   },
   {
    "duration": 12,
    "start_time": "2022-05-02T20:55:08.026Z"
   },
   {
    "duration": 11,
    "start_time": "2022-05-02T20:55:12.117Z"
   },
   {
    "duration": 589,
    "start_time": "2022-05-02T21:50:23.177Z"
   },
   {
    "duration": 450,
    "start_time": "2022-05-02T21:50:32.937Z"
   },
   {
    "duration": 23,
    "start_time": "2022-05-02T21:51:05.975Z"
   },
   {
    "duration": 579,
    "start_time": "2022-05-02T21:52:23.757Z"
   },
   {
    "duration": 482,
    "start_time": "2022-05-02T21:52:44.841Z"
   },
   {
    "duration": 400,
    "start_time": "2022-05-02T21:53:44.518Z"
   },
   {
    "duration": 418,
    "start_time": "2022-05-02T21:54:27.181Z"
   },
   {
    "duration": 400,
    "start_time": "2022-05-02T21:54:31.251Z"
   },
   {
    "duration": 492,
    "start_time": "2022-05-02T21:54:49.586Z"
   },
   {
    "duration": 72,
    "start_time": "2022-05-03T21:48:15.582Z"
   },
   {
    "duration": 1085,
    "start_time": "2022-05-03T21:49:44.317Z"
   },
   {
    "duration": 53,
    "start_time": "2022-05-03T21:49:45.405Z"
   },
   {
    "duration": 34,
    "start_time": "2022-05-03T21:49:45.461Z"
   },
   {
    "duration": 23,
    "start_time": "2022-05-03T21:49:45.499Z"
   },
   {
    "duration": 8,
    "start_time": "2022-05-03T21:49:45.524Z"
   },
   {
    "duration": 8,
    "start_time": "2022-05-03T21:49:45.535Z"
   },
   {
    "duration": 68,
    "start_time": "2022-05-03T21:49:45.545Z"
   },
   {
    "duration": 9,
    "start_time": "2022-05-03T21:49:45.616Z"
   },
   {
    "duration": 8,
    "start_time": "2022-05-03T21:49:45.627Z"
   },
   {
    "duration": 6,
    "start_time": "2022-05-03T21:49:45.641Z"
   },
   {
    "duration": 9,
    "start_time": "2022-05-03T21:49:45.693Z"
   },
   {
    "duration": 34,
    "start_time": "2022-05-03T21:49:45.705Z"
   },
   {
    "duration": 7,
    "start_time": "2022-05-03T21:49:45.742Z"
   },
   {
    "duration": 52,
    "start_time": "2022-05-03T21:49:45.752Z"
   },
   {
    "duration": 7,
    "start_time": "2022-05-03T21:49:45.807Z"
   },
   {
    "duration": 259,
    "start_time": "2022-05-03T21:49:45.816Z"
   },
   {
    "duration": 7,
    "start_time": "2022-05-03T21:49:46.079Z"
   },
   {
    "duration": 22,
    "start_time": "2022-05-03T21:49:46.088Z"
   },
   {
    "duration": 17,
    "start_time": "2022-05-03T21:49:46.112Z"
   },
   {
    "duration": 17,
    "start_time": "2022-05-03T21:49:46.131Z"
   },
   {
    "duration": 52,
    "start_time": "2022-05-03T21:49:46.151Z"
   },
   {
    "duration": 34,
    "start_time": "2022-05-03T21:49:46.206Z"
   },
   {
    "duration": 489,
    "start_time": "2022-05-03T21:49:46.242Z"
   },
   {
    "duration": 14,
    "start_time": "2022-05-03T21:49:46.734Z"
   },
   {
    "duration": 24,
    "start_time": "2022-05-03T21:49:46.750Z"
   },
   {
    "duration": 37,
    "start_time": "2022-05-03T21:49:46.794Z"
   },
   {
    "duration": 493,
    "start_time": "2022-05-03T21:49:46.833Z"
   },
   {
    "duration": 60,
    "start_time": "2022-05-03T21:49:47.333Z"
   },
   {
    "duration": 618,
    "start_time": "2022-05-03T21:49:47.396Z"
   },
   {
    "duration": 28,
    "start_time": "2022-05-03T21:49:48.017Z"
   },
   {
    "duration": 116,
    "start_time": "2022-05-03T21:49:48.048Z"
   },
   {
    "duration": 547,
    "start_time": "2022-05-03T21:49:48.167Z"
   },
   {
    "duration": 538,
    "start_time": "2022-05-03T21:49:48.717Z"
   },
   {
    "duration": 213,
    "start_time": "2022-05-03T21:49:49.258Z"
   },
   {
    "duration": 0,
    "start_time": "2022-05-03T21:49:49.474Z"
   },
   {
    "duration": 1,
    "start_time": "2022-05-03T21:49:49.476Z"
   },
   {
    "duration": 9,
    "start_time": "2022-05-03T21:50:14.463Z"
   },
   {
    "duration": 47,
    "start_time": "2022-05-03T21:50:20.886Z"
   },
   {
    "duration": 9,
    "start_time": "2022-05-03T21:50:26.318Z"
   },
   {
    "duration": 1373,
    "start_time": "2022-05-03T21:52:12.457Z"
   },
   {
    "duration": 97,
    "start_time": "2022-05-03T21:52:13.833Z"
   },
   {
    "duration": 82,
    "start_time": "2022-05-03T21:52:13.932Z"
   },
   {
    "duration": 21,
    "start_time": "2022-05-03T21:52:14.016Z"
   },
   {
    "duration": 7,
    "start_time": "2022-05-03T21:52:14.095Z"
   },
   {
    "duration": 11,
    "start_time": "2022-05-03T21:52:14.105Z"
   },
   {
    "duration": 79,
    "start_time": "2022-05-03T21:52:14.119Z"
   },
   {
    "duration": 7,
    "start_time": "2022-05-03T21:52:14.200Z"
   },
   {
    "duration": 9,
    "start_time": "2022-05-03T21:52:14.210Z"
   },
   {
    "duration": 10,
    "start_time": "2022-05-03T21:52:14.222Z"
   },
   {
    "duration": 59,
    "start_time": "2022-05-03T21:52:14.235Z"
   },
   {
    "duration": 33,
    "start_time": "2022-05-03T21:52:14.297Z"
   },
   {
    "duration": 60,
    "start_time": "2022-05-03T21:52:14.332Z"
   },
   {
    "duration": 12,
    "start_time": "2022-05-03T21:52:14.398Z"
   },
   {
    "duration": 6,
    "start_time": "2022-05-03T21:52:14.413Z"
   },
   {
    "duration": 307,
    "start_time": "2022-05-03T21:52:14.421Z"
   },
   {
    "duration": 5,
    "start_time": "2022-05-03T21:52:14.730Z"
   },
   {
    "duration": 72,
    "start_time": "2022-05-03T21:52:14.737Z"
   },
   {
    "duration": 9,
    "start_time": "2022-05-03T21:52:14.811Z"
   },
   {
    "duration": 6,
    "start_time": "2022-05-03T21:52:14.823Z"
   },
   {
    "duration": 70,
    "start_time": "2022-05-03T21:52:14.831Z"
   },
   {
    "duration": 24,
    "start_time": "2022-05-03T21:52:14.903Z"
   },
   {
    "duration": 582,
    "start_time": "2022-05-03T21:52:14.929Z"
   },
   {
    "duration": 10,
    "start_time": "2022-05-03T21:52:15.513Z"
   },
   {
    "duration": 69,
    "start_time": "2022-05-03T21:52:15.525Z"
   },
   {
    "duration": 26,
    "start_time": "2022-05-03T21:52:15.596Z"
   },
   {
    "duration": 696,
    "start_time": "2022-05-03T21:52:15.624Z"
   },
   {
    "duration": 86,
    "start_time": "2022-05-03T21:52:16.322Z"
   },
   {
    "duration": 755,
    "start_time": "2022-05-03T21:52:16.410Z"
   },
   {
    "duration": 27,
    "start_time": "2022-05-03T21:52:17.168Z"
   },
   {
    "duration": 76,
    "start_time": "2022-05-03T21:52:17.197Z"
   },
   {
    "duration": 424,
    "start_time": "2022-05-03T21:52:17.275Z"
   },
   {
    "duration": 411,
    "start_time": "2022-05-03T21:52:17.702Z"
   },
   {
    "duration": 7,
    "start_time": "2022-05-03T21:52:18.116Z"
   },
   {
    "duration": 346,
    "start_time": "2022-05-03T21:52:18.126Z"
   },
   {
    "duration": 720,
    "start_time": "2022-05-03T21:52:18.474Z"
   },
   {
    "duration": 0,
    "start_time": "2022-05-03T21:52:19.196Z"
   },
   {
    "duration": 1,
    "start_time": "2022-05-03T21:52:19.197Z"
   },
   {
    "duration": 559,
    "start_time": "2022-05-03T21:52:35.008Z"
   },
   {
    "duration": 589,
    "start_time": "2022-05-03T21:52:51.221Z"
   },
   {
    "duration": 276,
    "start_time": "2022-05-03T21:52:59.594Z"
   },
   {
    "duration": 11,
    "start_time": "2022-05-03T21:53:01.055Z"
   },
   {
    "duration": 7,
    "start_time": "2022-05-03T21:53:09.897Z"
   },
   {
    "duration": 518,
    "start_time": "2022-05-03T21:54:32.461Z"
   },
   {
    "duration": 17,
    "start_time": "2022-05-03T21:54:40.093Z"
   },
   {
    "duration": 7,
    "start_time": "2022-05-03T21:55:09.773Z"
   },
   {
    "duration": 205,
    "start_time": "2022-05-03T21:55:10.451Z"
   },
   {
    "duration": 6,
    "start_time": "2022-05-03T21:55:11.106Z"
   },
   {
    "duration": 27,
    "start_time": "2022-05-03T21:55:11.813Z"
   },
   {
    "duration": 917,
    "start_time": "2022-05-03T21:55:17.192Z"
   },
   {
    "duration": 65,
    "start_time": "2022-05-03T21:55:18.112Z"
   },
   {
    "duration": 28,
    "start_time": "2022-05-03T21:55:18.183Z"
   },
   {
    "duration": 20,
    "start_time": "2022-05-03T21:55:18.214Z"
   },
   {
    "duration": 10,
    "start_time": "2022-05-03T21:55:18.237Z"
   },
   {
    "duration": 8,
    "start_time": "2022-05-03T21:55:18.249Z"
   },
   {
    "duration": 51,
    "start_time": "2022-05-03T21:55:18.260Z"
   },
   {
    "duration": 7,
    "start_time": "2022-05-03T21:55:18.314Z"
   },
   {
    "duration": 7,
    "start_time": "2022-05-03T21:55:18.326Z"
   },
   {
    "duration": 8,
    "start_time": "2022-05-03T21:55:18.335Z"
   },
   {
    "duration": 10,
    "start_time": "2022-05-03T21:55:18.345Z"
   },
   {
    "duration": 32,
    "start_time": "2022-05-03T21:55:18.394Z"
   },
   {
    "duration": 7,
    "start_time": "2022-05-03T21:55:18.428Z"
   },
   {
    "duration": 13,
    "start_time": "2022-05-03T21:55:18.438Z"
   },
   {
    "duration": 146,
    "start_time": "2022-05-03T21:55:18.453Z"
   },
   {
    "duration": 0,
    "start_time": "2022-05-03T21:55:18.602Z"
   },
   {
    "duration": 0,
    "start_time": "2022-05-03T21:55:18.603Z"
   },
   {
    "duration": 0,
    "start_time": "2022-05-03T21:55:18.605Z"
   },
   {
    "duration": 0,
    "start_time": "2022-05-03T21:55:18.606Z"
   },
   {
    "duration": 0,
    "start_time": "2022-05-03T21:55:18.607Z"
   },
   {
    "duration": 0,
    "start_time": "2022-05-03T21:55:18.609Z"
   },
   {
    "duration": 0,
    "start_time": "2022-05-03T21:55:18.610Z"
   },
   {
    "duration": 0,
    "start_time": "2022-05-03T21:55:18.612Z"
   },
   {
    "duration": 0,
    "start_time": "2022-05-03T21:55:18.613Z"
   },
   {
    "duration": 0,
    "start_time": "2022-05-03T21:55:18.614Z"
   },
   {
    "duration": 0,
    "start_time": "2022-05-03T21:55:18.615Z"
   },
   {
    "duration": 0,
    "start_time": "2022-05-03T21:55:18.616Z"
   },
   {
    "duration": 0,
    "start_time": "2022-05-03T21:55:18.618Z"
   },
   {
    "duration": 0,
    "start_time": "2022-05-03T21:55:18.619Z"
   },
   {
    "duration": 0,
    "start_time": "2022-05-03T21:55:18.621Z"
   },
   {
    "duration": 0,
    "start_time": "2022-05-03T21:55:18.622Z"
   },
   {
    "duration": 0,
    "start_time": "2022-05-03T21:55:18.623Z"
   },
   {
    "duration": 0,
    "start_time": "2022-05-03T21:55:18.624Z"
   },
   {
    "duration": 0,
    "start_time": "2022-05-03T21:55:18.626Z"
   },
   {
    "duration": 0,
    "start_time": "2022-05-03T21:55:18.627Z"
   },
   {
    "duration": 0,
    "start_time": "2022-05-03T21:55:18.628Z"
   },
   {
    "duration": 0,
    "start_time": "2022-05-03T21:55:18.629Z"
   },
   {
    "duration": 0,
    "start_time": "2022-05-03T21:55:18.630Z"
   },
   {
    "duration": 238,
    "start_time": "2022-05-03T21:55:49.678Z"
   },
   {
    "duration": 5,
    "start_time": "2022-05-03T21:55:50.056Z"
   },
   {
    "duration": 26,
    "start_time": "2022-05-03T21:55:51.412Z"
   },
   {
    "duration": 8,
    "start_time": "2022-05-03T21:58:47.620Z"
   },
   {
    "duration": 25,
    "start_time": "2022-05-03T21:58:56.633Z"
   },
   {
    "duration": 880,
    "start_time": "2022-05-03T21:59:01.689Z"
   },
   {
    "duration": 54,
    "start_time": "2022-05-03T21:59:02.572Z"
   },
   {
    "duration": 29,
    "start_time": "2022-05-03T21:59:02.628Z"
   },
   {
    "duration": 33,
    "start_time": "2022-05-03T21:59:02.660Z"
   },
   {
    "duration": 7,
    "start_time": "2022-05-03T21:59:02.695Z"
   },
   {
    "duration": 18,
    "start_time": "2022-05-03T21:59:02.704Z"
   },
   {
    "duration": 25,
    "start_time": "2022-05-03T21:59:02.724Z"
   },
   {
    "duration": 6,
    "start_time": "2022-05-03T21:59:02.752Z"
   },
   {
    "duration": 37,
    "start_time": "2022-05-03T21:59:02.760Z"
   },
   {
    "duration": 10,
    "start_time": "2022-05-03T21:59:02.802Z"
   },
   {
    "duration": 9,
    "start_time": "2022-05-03T21:59:02.814Z"
   },
   {
    "duration": 33,
    "start_time": "2022-05-03T21:59:02.825Z"
   },
   {
    "duration": 6,
    "start_time": "2022-05-03T21:59:02.860Z"
   },
   {
    "duration": 38,
    "start_time": "2022-05-03T21:59:02.867Z"
   },
   {
    "duration": 11,
    "start_time": "2022-05-03T21:59:02.907Z"
   },
   {
    "duration": 19,
    "start_time": "2022-05-03T21:59:02.920Z"
   },
   {
    "duration": 137,
    "start_time": "2022-05-03T21:59:02.941Z"
   },
   {
    "duration": 0,
    "start_time": "2022-05-03T21:59:03.081Z"
   },
   {
    "duration": 0,
    "start_time": "2022-05-03T21:59:03.083Z"
   },
   {
    "duration": 0,
    "start_time": "2022-05-03T21:59:03.085Z"
   },
   {
    "duration": 0,
    "start_time": "2022-05-03T21:59:03.086Z"
   },
   {
    "duration": 0,
    "start_time": "2022-05-03T21:59:03.087Z"
   },
   {
    "duration": 0,
    "start_time": "2022-05-03T21:59:03.087Z"
   },
   {
    "duration": 0,
    "start_time": "2022-05-03T21:59:03.092Z"
   },
   {
    "duration": 0,
    "start_time": "2022-05-03T21:59:03.094Z"
   },
   {
    "duration": 0,
    "start_time": "2022-05-03T21:59:03.096Z"
   },
   {
    "duration": 0,
    "start_time": "2022-05-03T21:59:03.097Z"
   },
   {
    "duration": 0,
    "start_time": "2022-05-03T21:59:03.099Z"
   },
   {
    "duration": 0,
    "start_time": "2022-05-03T21:59:03.100Z"
   },
   {
    "duration": 0,
    "start_time": "2022-05-03T21:59:03.102Z"
   },
   {
    "duration": 1,
    "start_time": "2022-05-03T21:59:03.103Z"
   },
   {
    "duration": 0,
    "start_time": "2022-05-03T21:59:03.106Z"
   },
   {
    "duration": 0,
    "start_time": "2022-05-03T21:59:03.107Z"
   },
   {
    "duration": 0,
    "start_time": "2022-05-03T21:59:03.109Z"
   },
   {
    "duration": 0,
    "start_time": "2022-05-03T21:59:03.110Z"
   },
   {
    "duration": 0,
    "start_time": "2022-05-03T21:59:03.111Z"
   },
   {
    "duration": 0,
    "start_time": "2022-05-03T21:59:03.113Z"
   },
   {
    "duration": 0,
    "start_time": "2022-05-03T21:59:03.115Z"
   },
   {
    "duration": 0,
    "start_time": "2022-05-03T21:59:03.116Z"
   },
   {
    "duration": 0,
    "start_time": "2022-05-03T21:59:03.118Z"
   },
   {
    "duration": 5,
    "start_time": "2022-05-03T21:59:30.167Z"
   },
   {
    "duration": 11,
    "start_time": "2022-05-03T21:59:30.573Z"
   },
   {
    "duration": 2049,
    "start_time": "2022-05-03T21:59:34.508Z"
   },
   {
    "duration": 0,
    "start_time": "2022-05-03T21:59:36.560Z"
   },
   {
    "duration": 1056,
    "start_time": "2022-05-03T21:59:42.753Z"
   },
   {
    "duration": 93,
    "start_time": "2022-05-03T21:59:43.812Z"
   },
   {
    "duration": 27,
    "start_time": "2022-05-03T21:59:43.908Z"
   },
   {
    "duration": 73,
    "start_time": "2022-05-03T21:59:43.938Z"
   },
   {
    "duration": 8,
    "start_time": "2022-05-03T21:59:44.013Z"
   },
   {
    "duration": 7,
    "start_time": "2022-05-03T21:59:44.024Z"
   },
   {
    "duration": 89,
    "start_time": "2022-05-03T21:59:44.033Z"
   },
   {
    "duration": 9,
    "start_time": "2022-05-03T21:59:44.124Z"
   },
   {
    "duration": 63,
    "start_time": "2022-05-03T21:59:44.136Z"
   },
   {
    "duration": 8,
    "start_time": "2022-05-03T21:59:44.205Z"
   },
   {
    "duration": 12,
    "start_time": "2022-05-03T21:59:44.216Z"
   },
   {
    "duration": 101,
    "start_time": "2022-05-03T21:59:44.230Z"
   },
   {
    "duration": 60,
    "start_time": "2022-05-03T21:59:44.334Z"
   },
   {
    "duration": 18,
    "start_time": "2022-05-03T21:59:44.397Z"
   },
   {
    "duration": 8,
    "start_time": "2022-05-03T21:59:44.418Z"
   },
   {
    "duration": 71,
    "start_time": "2022-05-03T21:59:44.428Z"
   },
   {
    "duration": 210,
    "start_time": "2022-05-03T21:59:44.501Z"
   },
   {
    "duration": 0,
    "start_time": "2022-05-03T21:59:44.715Z"
   },
   {
    "duration": 0,
    "start_time": "2022-05-03T21:59:44.716Z"
   },
   {
    "duration": 0,
    "start_time": "2022-05-03T21:59:44.717Z"
   },
   {
    "duration": 0,
    "start_time": "2022-05-03T21:59:44.718Z"
   },
   {
    "duration": 0,
    "start_time": "2022-05-03T21:59:44.719Z"
   },
   {
    "duration": 0,
    "start_time": "2022-05-03T21:59:44.720Z"
   },
   {
    "duration": 0,
    "start_time": "2022-05-03T21:59:44.721Z"
   },
   {
    "duration": 0,
    "start_time": "2022-05-03T21:59:44.723Z"
   },
   {
    "duration": 0,
    "start_time": "2022-05-03T21:59:44.724Z"
   },
   {
    "duration": 0,
    "start_time": "2022-05-03T21:59:44.725Z"
   },
   {
    "duration": 0,
    "start_time": "2022-05-03T21:59:44.726Z"
   },
   {
    "duration": 1,
    "start_time": "2022-05-03T21:59:44.728Z"
   },
   {
    "duration": 0,
    "start_time": "2022-05-03T21:59:44.730Z"
   },
   {
    "duration": 0,
    "start_time": "2022-05-03T21:59:44.733Z"
   },
   {
    "duration": 0,
    "start_time": "2022-05-03T21:59:44.735Z"
   },
   {
    "duration": 0,
    "start_time": "2022-05-03T21:59:44.793Z"
   },
   {
    "duration": 0,
    "start_time": "2022-05-03T21:59:44.795Z"
   },
   {
    "duration": 0,
    "start_time": "2022-05-03T21:59:44.798Z"
   },
   {
    "duration": 0,
    "start_time": "2022-05-03T21:59:44.800Z"
   },
   {
    "duration": 0,
    "start_time": "2022-05-03T21:59:44.802Z"
   },
   {
    "duration": 0,
    "start_time": "2022-05-03T21:59:44.804Z"
   },
   {
    "duration": 0,
    "start_time": "2022-05-03T21:59:44.806Z"
   },
   {
    "duration": 0,
    "start_time": "2022-05-03T21:59:44.808Z"
   },
   {
    "duration": 5,
    "start_time": "2022-05-03T22:00:26.075Z"
   },
   {
    "duration": 15,
    "start_time": "2022-05-03T22:00:32.705Z"
   },
   {
    "duration": 19,
    "start_time": "2022-05-03T22:00:33.359Z"
   },
   {
    "duration": 883,
    "start_time": "2022-05-03T22:00:39.637Z"
   },
   {
    "duration": 52,
    "start_time": "2022-05-03T22:00:40.523Z"
   },
   {
    "duration": 27,
    "start_time": "2022-05-03T22:00:40.577Z"
   },
   {
    "duration": 21,
    "start_time": "2022-05-03T22:00:40.607Z"
   },
   {
    "duration": 6,
    "start_time": "2022-05-03T22:00:40.630Z"
   },
   {
    "duration": 14,
    "start_time": "2022-05-03T22:00:40.639Z"
   },
   {
    "duration": 51,
    "start_time": "2022-05-03T22:00:40.655Z"
   },
   {
    "duration": 7,
    "start_time": "2022-05-03T22:00:40.708Z"
   },
   {
    "duration": 10,
    "start_time": "2022-05-03T22:00:40.717Z"
   },
   {
    "duration": 10,
    "start_time": "2022-05-03T22:00:40.732Z"
   },
   {
    "duration": 12,
    "start_time": "2022-05-03T22:00:40.744Z"
   },
   {
    "duration": 77,
    "start_time": "2022-05-03T22:00:40.759Z"
   },
   {
    "duration": 7,
    "start_time": "2022-05-03T22:00:40.839Z"
   },
   {
    "duration": 45,
    "start_time": "2022-05-03T22:00:40.848Z"
   },
   {
    "duration": 14,
    "start_time": "2022-05-03T22:00:40.895Z"
   },
   {
    "duration": 18,
    "start_time": "2022-05-03T22:00:40.911Z"
   },
   {
    "duration": 14,
    "start_time": "2022-05-03T22:00:40.932Z"
   },
   {
    "duration": 157,
    "start_time": "2022-05-03T22:00:40.948Z"
   },
   {
    "duration": 4,
    "start_time": "2022-05-03T22:00:41.107Z"
   },
   {
    "duration": 24,
    "start_time": "2022-05-03T22:00:41.113Z"
   },
   {
    "duration": 6,
    "start_time": "2022-05-03T22:00:41.139Z"
   },
   {
    "duration": 10,
    "start_time": "2022-05-03T22:00:41.147Z"
   },
   {
    "duration": 50,
    "start_time": "2022-05-03T22:00:41.159Z"
   },
   {
    "duration": 26,
    "start_time": "2022-05-03T22:00:41.211Z"
   },
   {
    "duration": 293,
    "start_time": "2022-05-03T22:00:41.240Z"
   },
   {
    "duration": 10,
    "start_time": "2022-05-03T22:00:41.535Z"
   },
   {
    "duration": 17,
    "start_time": "2022-05-03T22:00:41.547Z"
   },
   {
    "duration": 26,
    "start_time": "2022-05-03T22:00:41.592Z"
   },
   {
    "duration": 376,
    "start_time": "2022-05-03T22:00:41.620Z"
   },
   {
    "duration": 37,
    "start_time": "2022-05-03T22:00:41.998Z"
   },
   {
    "duration": 481,
    "start_time": "2022-05-03T22:00:42.037Z"
   },
   {
    "duration": 21,
    "start_time": "2022-05-03T22:00:42.520Z"
   },
   {
    "duration": 28,
    "start_time": "2022-05-03T22:00:42.543Z"
   },
   {
    "duration": 472,
    "start_time": "2022-05-03T22:00:42.574Z"
   },
   {
    "duration": 390,
    "start_time": "2022-05-03T22:00:43.048Z"
   },
   {
    "duration": 19,
    "start_time": "2022-05-03T22:00:43.440Z"
   },
   {
    "duration": 253,
    "start_time": "2022-05-03T22:00:43.461Z"
   },
   {
    "duration": 6,
    "start_time": "2022-05-03T22:00:43.717Z"
   },
   {
    "duration": 277,
    "start_time": "2022-05-03T22:00:43.725Z"
   },
   {
    "duration": 7,
    "start_time": "2022-05-03T22:00:44.004Z"
   },
   {
    "duration": 17,
    "start_time": "2022-05-03T22:01:31.562Z"
   },
   {
    "duration": 25,
    "start_time": "2022-05-03T22:01:32.728Z"
   },
   {
    "duration": 1063,
    "start_time": "2022-05-03T22:01:47.395Z"
   },
   {
    "duration": 52,
    "start_time": "2022-05-03T22:01:48.460Z"
   },
   {
    "duration": 29,
    "start_time": "2022-05-03T22:01:48.515Z"
   },
   {
    "duration": 47,
    "start_time": "2022-05-03T22:01:48.547Z"
   },
   {
    "duration": 6,
    "start_time": "2022-05-03T22:01:48.596Z"
   },
   {
    "duration": 9,
    "start_time": "2022-05-03T22:01:48.604Z"
   },
   {
    "duration": 26,
    "start_time": "2022-05-03T22:01:48.614Z"
   },
   {
    "duration": 6,
    "start_time": "2022-05-03T22:01:48.642Z"
   },
   {
    "duration": 47,
    "start_time": "2022-05-03T22:01:48.650Z"
   },
   {
    "duration": 7,
    "start_time": "2022-05-03T22:01:48.701Z"
   },
   {
    "duration": 9,
    "start_time": "2022-05-03T22:01:48.710Z"
   },
   {
    "duration": 72,
    "start_time": "2022-05-03T22:01:48.720Z"
   },
   {
    "duration": 7,
    "start_time": "2022-05-03T22:01:48.795Z"
   },
   {
    "duration": 14,
    "start_time": "2022-05-03T22:01:48.805Z"
   },
   {
    "duration": 18,
    "start_time": "2022-05-03T22:01:48.821Z"
   },
   {
    "duration": 57,
    "start_time": "2022-05-03T22:01:48.841Z"
   },
   {
    "duration": 6,
    "start_time": "2022-05-03T22:01:48.900Z"
   },
   {
    "duration": 217,
    "start_time": "2022-05-03T22:01:48.909Z"
   },
   {
    "duration": 4,
    "start_time": "2022-05-03T22:01:49.129Z"
   },
   {
    "duration": 69,
    "start_time": "2022-05-03T22:01:49.135Z"
   },
   {
    "duration": 5,
    "start_time": "2022-05-03T22:01:49.207Z"
   },
   {
    "duration": 8,
    "start_time": "2022-05-03T22:01:49.215Z"
   },
   {
    "duration": 74,
    "start_time": "2022-05-03T22:01:49.226Z"
   },
   {
    "duration": 25,
    "start_time": "2022-05-03T22:01:49.302Z"
   },
   {
    "duration": 589,
    "start_time": "2022-05-03T22:01:49.329Z"
   },
   {
    "duration": 9,
    "start_time": "2022-05-03T22:01:49.920Z"
   },
   {
    "duration": 71,
    "start_time": "2022-05-03T22:01:49.931Z"
   },
   {
    "duration": 26,
    "start_time": "2022-05-03T22:01:50.006Z"
   },
   {
    "duration": 995,
    "start_time": "2022-05-03T22:01:50.034Z"
   },
   {
    "duration": 100,
    "start_time": "2022-05-03T22:01:51.031Z"
   },
   {
    "duration": 903,
    "start_time": "2022-05-03T22:01:51.134Z"
   },
   {
    "duration": 27,
    "start_time": "2022-05-03T22:01:52.040Z"
   },
   {
    "duration": 49,
    "start_time": "2022-05-03T22:01:52.069Z"
   },
   {
    "duration": 597,
    "start_time": "2022-05-03T22:01:52.121Z"
   },
   {
    "duration": 391,
    "start_time": "2022-05-03T22:01:52.720Z"
   },
   {
    "duration": 19,
    "start_time": "2022-05-03T22:01:53.113Z"
   },
   {
    "duration": 259,
    "start_time": "2022-05-03T22:01:53.134Z"
   },
   {
    "duration": 8,
    "start_time": "2022-05-03T22:01:53.395Z"
   },
   {
    "duration": 269,
    "start_time": "2022-05-03T22:01:53.405Z"
   },
   {
    "duration": 16,
    "start_time": "2022-05-03T22:01:53.677Z"
   },
   {
    "duration": 269,
    "start_time": "2022-05-03T22:06:00.483Z"
   },
   {
    "duration": 242,
    "start_time": "2022-05-03T22:06:24.530Z"
   },
   {
    "duration": 8,
    "start_time": "2022-05-03T22:06:26.357Z"
   },
   {
    "duration": 8,
    "start_time": "2022-05-03T22:13:09.214Z"
   },
   {
    "duration": 901,
    "start_time": "2022-05-03T22:14:36.845Z"
   },
   {
    "duration": 53,
    "start_time": "2022-05-03T22:14:37.749Z"
   },
   {
    "duration": 29,
    "start_time": "2022-05-03T22:14:37.805Z"
   },
   {
    "duration": 21,
    "start_time": "2022-05-03T22:14:37.837Z"
   },
   {
    "duration": 33,
    "start_time": "2022-05-03T22:14:37.861Z"
   },
   {
    "duration": 13,
    "start_time": "2022-05-03T22:14:37.897Z"
   },
   {
    "duration": 41,
    "start_time": "2022-05-03T22:14:37.913Z"
   },
   {
    "duration": 9,
    "start_time": "2022-05-03T22:14:37.956Z"
   },
   {
    "duration": 14,
    "start_time": "2022-05-03T22:14:37.994Z"
   },
   {
    "duration": 13,
    "start_time": "2022-05-03T22:14:38.012Z"
   },
   {
    "duration": 10,
    "start_time": "2022-05-03T22:14:38.027Z"
   },
   {
    "duration": 61,
    "start_time": "2022-05-03T22:14:38.041Z"
   },
   {
    "duration": 6,
    "start_time": "2022-05-03T22:14:38.105Z"
   },
   {
    "duration": 16,
    "start_time": "2022-05-03T22:14:38.114Z"
   },
   {
    "duration": 20,
    "start_time": "2022-05-03T22:14:38.132Z"
   },
   {
    "duration": 51,
    "start_time": "2022-05-03T22:14:38.155Z"
   },
   {
    "duration": 9,
    "start_time": "2022-05-03T22:14:38.209Z"
   },
   {
    "duration": 487,
    "start_time": "2022-05-03T22:14:38.221Z"
   },
   {
    "duration": 6,
    "start_time": "2022-05-03T22:14:38.711Z"
   },
   {
    "duration": 73,
    "start_time": "2022-05-03T22:14:38.720Z"
   },
   {
    "duration": 5,
    "start_time": "2022-05-03T22:14:38.796Z"
   },
   {
    "duration": 11,
    "start_time": "2022-05-03T22:14:38.804Z"
   },
   {
    "duration": 76,
    "start_time": "2022-05-03T22:14:38.817Z"
   },
   {
    "duration": 25,
    "start_time": "2022-05-03T22:14:38.896Z"
   },
   {
    "duration": 880,
    "start_time": "2022-05-03T22:14:38.923Z"
   },
   {
    "duration": 15,
    "start_time": "2022-05-03T22:14:39.805Z"
   },
   {
    "duration": 72,
    "start_time": "2022-05-03T22:14:39.823Z"
   },
   {
    "duration": 36,
    "start_time": "2022-05-03T22:14:39.902Z"
   },
   {
    "duration": 1002,
    "start_time": "2022-05-03T22:14:39.994Z"
   },
   {
    "duration": 102,
    "start_time": "2022-05-03T22:14:40.998Z"
   },
   {
    "duration": 827,
    "start_time": "2022-05-03T22:14:41.103Z"
   },
   {
    "duration": 27,
    "start_time": "2022-05-03T22:14:41.933Z"
   },
   {
    "duration": 128,
    "start_time": "2022-05-03T22:14:41.963Z"
   },
   {
    "duration": 472,
    "start_time": "2022-05-03T22:14:42.093Z"
   },
   {
    "duration": 407,
    "start_time": "2022-05-03T22:14:42.568Z"
   },
   {
    "duration": 6,
    "start_time": "2022-05-03T22:14:42.978Z"
   },
   {
    "duration": 249,
    "start_time": "2022-05-03T22:14:42.993Z"
   },
   {
    "duration": 7,
    "start_time": "2022-05-03T22:14:43.244Z"
   },
   {
    "duration": 277,
    "start_time": "2022-05-03T22:14:43.253Z"
   },
   {
    "duration": 8,
    "start_time": "2022-05-03T22:14:43.533Z"
   },
   {
    "duration": 15,
    "start_time": "2022-05-03T22:14:43.543Z"
   },
   {
    "duration": 258,
    "start_time": "2022-05-03T22:14:43.560Z"
   },
   {
    "duration": 8,
    "start_time": "2022-05-03T22:14:43.820Z"
   },
   {
    "duration": 388,
    "start_time": "2022-05-03T22:14:43.830Z"
   },
   {
    "duration": 7,
    "start_time": "2022-05-03T22:14:44.220Z"
   },
   {
    "duration": 312,
    "start_time": "2022-05-03T22:16:11.059Z"
   },
   {
    "duration": 341,
    "start_time": "2022-05-03T22:16:21.085Z"
   },
   {
    "duration": 355,
    "start_time": "2022-05-03T22:16:25.138Z"
   },
   {
    "duration": 321,
    "start_time": "2022-05-03T22:16:31.858Z"
   },
   {
    "duration": 386,
    "start_time": "2022-05-03T22:16:46.311Z"
   },
   {
    "duration": 339,
    "start_time": "2022-05-03T22:17:05.768Z"
   },
   {
    "duration": 140,
    "start_time": "2022-05-03T22:27:54.831Z"
   },
   {
    "duration": 14,
    "start_time": "2022-05-03T22:28:00.617Z"
   },
   {
    "duration": 241,
    "start_time": "2022-05-03T22:28:02.990Z"
   },
   {
    "duration": 8,
    "start_time": "2022-05-03T22:28:03.846Z"
   },
   {
    "duration": 251,
    "start_time": "2022-05-03T22:28:06.008Z"
   },
   {
    "duration": 7,
    "start_time": "2022-05-03T22:28:06.654Z"
   },
   {
    "duration": 38,
    "start_time": "2022-05-03T22:28:11.872Z"
   },
   {
    "duration": 35,
    "start_time": "2022-05-03T22:28:18.145Z"
   },
   {
    "duration": 39,
    "start_time": "2022-05-03T22:28:34.770Z"
   },
   {
    "duration": 233,
    "start_time": "2022-05-03T22:28:39.342Z"
   },
   {
    "duration": 7,
    "start_time": "2022-05-03T22:28:40.466Z"
   },
   {
    "duration": 255,
    "start_time": "2022-05-03T22:28:42.062Z"
   },
   {
    "duration": 7,
    "start_time": "2022-05-03T22:28:42.925Z"
   },
   {
    "duration": 34,
    "start_time": "2022-05-03T22:29:00.970Z"
   },
   {
    "duration": 233,
    "start_time": "2022-05-03T22:29:02.627Z"
   },
   {
    "duration": 7,
    "start_time": "2022-05-03T22:29:03.479Z"
   },
   {
    "duration": 252,
    "start_time": "2022-05-03T22:29:05.348Z"
   },
   {
    "duration": 7,
    "start_time": "2022-05-03T22:29:06.322Z"
   },
   {
    "duration": 3,
    "start_time": "2022-05-03T22:32:27.997Z"
   },
   {
    "duration": 1008,
    "start_time": "2022-05-03T22:36:36.257Z"
   },
   {
    "duration": 55,
    "start_time": "2022-05-03T22:36:37.268Z"
   },
   {
    "duration": 68,
    "start_time": "2022-05-03T22:36:37.325Z"
   },
   {
    "duration": 20,
    "start_time": "2022-05-03T22:36:37.396Z"
   },
   {
    "duration": 10,
    "start_time": "2022-05-03T22:36:37.418Z"
   },
   {
    "duration": 62,
    "start_time": "2022-05-03T22:36:37.431Z"
   },
   {
    "duration": 26,
    "start_time": "2022-05-03T22:36:37.495Z"
   },
   {
    "duration": 7,
    "start_time": "2022-05-03T22:36:37.523Z"
   },
   {
    "duration": 62,
    "start_time": "2022-05-03T22:36:37.532Z"
   },
   {
    "duration": 8,
    "start_time": "2022-05-03T22:36:37.601Z"
   },
   {
    "duration": 10,
    "start_time": "2022-05-03T22:36:37.611Z"
   },
   {
    "duration": 87,
    "start_time": "2022-05-03T22:36:37.623Z"
   },
   {
    "duration": 6,
    "start_time": "2022-05-03T22:36:37.712Z"
   },
   {
    "duration": 14,
    "start_time": "2022-05-03T22:36:37.720Z"
   },
   {
    "duration": 70,
    "start_time": "2022-05-03T22:36:37.736Z"
   },
   {
    "duration": 18,
    "start_time": "2022-05-03T22:36:37.809Z"
   },
   {
    "duration": 64,
    "start_time": "2022-05-03T22:36:37.830Z"
   },
   {
    "duration": 427,
    "start_time": "2022-05-03T22:36:37.897Z"
   },
   {
    "duration": 5,
    "start_time": "2022-05-03T22:36:38.327Z"
   },
   {
    "duration": 73,
    "start_time": "2022-05-03T22:36:38.335Z"
   },
   {
    "duration": 6,
    "start_time": "2022-05-03T22:36:38.410Z"
   },
   {
    "duration": 11,
    "start_time": "2022-05-03T22:36:38.417Z"
   },
   {
    "duration": 70,
    "start_time": "2022-05-03T22:36:38.430Z"
   },
   {
    "duration": 32,
    "start_time": "2022-05-03T22:36:38.502Z"
   },
   {
    "duration": 594,
    "start_time": "2022-05-03T22:36:38.537Z"
   },
   {
    "duration": 64,
    "start_time": "2022-05-03T22:36:39.133Z"
   },
   {
    "duration": 18,
    "start_time": "2022-05-03T22:36:39.199Z"
   },
   {
    "duration": 79,
    "start_time": "2022-05-03T22:36:39.222Z"
   },
   {
    "duration": 714,
    "start_time": "2022-05-03T22:36:39.304Z"
   },
   {
    "duration": 88,
    "start_time": "2022-05-03T22:36:40.020Z"
   },
   {
    "duration": 544,
    "start_time": "2022-05-03T22:36:40.110Z"
   },
   {
    "duration": 21,
    "start_time": "2022-05-03T22:36:40.656Z"
   },
   {
    "duration": 30,
    "start_time": "2022-05-03T22:36:40.679Z"
   },
   {
    "duration": 452,
    "start_time": "2022-05-03T22:36:40.711Z"
   },
   {
    "duration": 396,
    "start_time": "2022-05-03T22:36:41.165Z"
   },
   {
    "duration": 44,
    "start_time": "2022-05-03T22:36:41.563Z"
   },
   {
    "duration": 246,
    "start_time": "2022-05-03T22:36:41.610Z"
   },
   {
    "duration": 7,
    "start_time": "2022-05-03T22:36:41.859Z"
   },
   {
    "duration": 274,
    "start_time": "2022-05-03T22:36:41.868Z"
   },
   {
    "duration": 6,
    "start_time": "2022-05-03T22:36:42.145Z"
   },
   {
    "duration": 13,
    "start_time": "2022-05-03T22:36:42.153Z"
   },
   {
    "duration": 261,
    "start_time": "2022-05-03T22:36:42.168Z"
   },
   {
    "duration": 8,
    "start_time": "2022-05-03T22:36:42.431Z"
   },
   {
    "duration": 191,
    "start_time": "2022-05-03T22:36:42.441Z"
   },
   {
    "duration": 0,
    "start_time": "2022-05-03T22:36:42.634Z"
   },
   {
    "duration": 0,
    "start_time": "2022-05-03T22:36:42.636Z"
   },
   {
    "duration": 0,
    "start_time": "2022-05-03T22:36:42.638Z"
   },
   {
    "duration": 0,
    "start_time": "2022-05-03T22:36:42.639Z"
   },
   {
    "duration": 0,
    "start_time": "2022-05-03T22:36:42.640Z"
   },
   {
    "duration": 0,
    "start_time": "2022-05-03T22:36:42.642Z"
   },
   {
    "duration": 268,
    "start_time": "2022-05-03T22:36:49.720Z"
   },
   {
    "duration": 278,
    "start_time": "2022-05-03T22:36:54.585Z"
   },
   {
    "duration": 6,
    "start_time": "2022-05-03T22:36:54.869Z"
   },
   {
    "duration": 7,
    "start_time": "2022-05-03T22:36:55.324Z"
   },
   {
    "duration": 247,
    "start_time": "2022-05-03T22:36:55.531Z"
   },
   {
    "duration": 16,
    "start_time": "2022-05-03T22:36:55.782Z"
   },
   {
    "duration": 172,
    "start_time": "2022-05-03T22:36:55.935Z"
   },
   {
    "duration": 8,
    "start_time": "2022-05-03T22:36:56.141Z"
   },
   {
    "duration": 334,
    "start_time": "2022-05-03T22:37:00.387Z"
   },
   {
    "duration": 9,
    "start_time": "2022-05-03T22:37:01.883Z"
   },
   {
    "duration": 17,
    "start_time": "2022-05-03T22:37:57.091Z"
   },
   {
    "duration": 158,
    "start_time": "2022-05-03T22:38:07.555Z"
   },
   {
    "duration": 43,
    "start_time": "2022-05-03T22:38:16.693Z"
   },
   {
    "duration": 13,
    "start_time": "2022-05-03T22:38:28.754Z"
   },
   {
    "duration": 43,
    "start_time": "2022-05-03T22:38:36.574Z"
   },
   {
    "duration": 16,
    "start_time": "2022-05-03T22:39:02.410Z"
   },
   {
    "duration": 42,
    "start_time": "2022-05-03T22:39:39.043Z"
   },
   {
    "duration": 843,
    "start_time": "2022-05-03T22:42:09.416Z"
   },
   {
    "duration": 52,
    "start_time": "2022-05-03T22:42:10.262Z"
   },
   {
    "duration": 28,
    "start_time": "2022-05-03T22:42:10.316Z"
   },
   {
    "duration": 21,
    "start_time": "2022-05-03T22:42:10.347Z"
   },
   {
    "duration": 28,
    "start_time": "2022-05-03T22:42:10.370Z"
   },
   {
    "duration": 10,
    "start_time": "2022-05-03T22:42:10.400Z"
   },
   {
    "duration": 29,
    "start_time": "2022-05-03T22:42:10.413Z"
   },
   {
    "duration": 7,
    "start_time": "2022-05-03T22:42:10.444Z"
   },
   {
    "duration": 41,
    "start_time": "2022-05-03T22:42:10.453Z"
   },
   {
    "duration": 7,
    "start_time": "2022-05-03T22:42:10.498Z"
   },
   {
    "duration": 12,
    "start_time": "2022-05-03T22:42:10.506Z"
   },
   {
    "duration": 75,
    "start_time": "2022-05-03T22:42:10.521Z"
   },
   {
    "duration": 8,
    "start_time": "2022-05-03T22:42:10.600Z"
   },
   {
    "duration": 20,
    "start_time": "2022-05-03T22:42:10.610Z"
   },
   {
    "duration": 26,
    "start_time": "2022-05-03T22:42:10.633Z"
   },
   {
    "duration": 48,
    "start_time": "2022-05-03T22:42:10.662Z"
   },
   {
    "duration": 5,
    "start_time": "2022-05-03T22:42:10.712Z"
   },
   {
    "duration": 174,
    "start_time": "2022-05-03T22:42:10.718Z"
   },
   {
    "duration": 4,
    "start_time": "2022-05-03T22:42:10.895Z"
   },
   {
    "duration": 24,
    "start_time": "2022-05-03T22:42:10.901Z"
   },
   {
    "duration": 5,
    "start_time": "2022-05-03T22:42:10.927Z"
   },
   {
    "duration": 10,
    "start_time": "2022-05-03T22:42:10.934Z"
   },
   {
    "duration": 57,
    "start_time": "2022-05-03T22:42:10.946Z"
   },
   {
    "duration": 29,
    "start_time": "2022-05-03T22:42:11.005Z"
   },
   {
    "duration": 295,
    "start_time": "2022-05-03T22:42:11.036Z"
   },
   {
    "duration": 9,
    "start_time": "2022-05-03T22:42:11.334Z"
   },
   {
    "duration": 18,
    "start_time": "2022-05-03T22:42:11.345Z"
   },
   {
    "duration": 27,
    "start_time": "2022-05-03T22:42:11.396Z"
   },
   {
    "duration": 364,
    "start_time": "2022-05-03T22:42:11.425Z"
   },
   {
    "duration": 34,
    "start_time": "2022-05-03T22:42:11.793Z"
   },
   {
    "duration": 456,
    "start_time": "2022-05-03T22:42:11.829Z"
   },
   {
    "duration": 21,
    "start_time": "2022-05-03T22:42:12.287Z"
   },
   {
    "duration": 24,
    "start_time": "2022-05-03T22:42:12.310Z"
   },
   {
    "duration": 457,
    "start_time": "2022-05-03T22:42:12.336Z"
   },
   {
    "duration": 389,
    "start_time": "2022-05-03T22:42:12.795Z"
   },
   {
    "duration": 37,
    "start_time": "2022-05-03T22:42:13.187Z"
   },
   {
    "duration": 256,
    "start_time": "2022-05-03T22:42:13.226Z"
   },
   {
    "duration": 7,
    "start_time": "2022-05-03T22:42:13.492Z"
   },
   {
    "duration": 274,
    "start_time": "2022-05-03T22:42:13.501Z"
   },
   {
    "duration": 20,
    "start_time": "2022-05-03T22:42:13.778Z"
   },
   {
    "duration": 10,
    "start_time": "2022-05-03T22:42:13.801Z"
   },
   {
    "duration": 250,
    "start_time": "2022-05-03T22:42:13.813Z"
   },
   {
    "duration": 10,
    "start_time": "2022-05-03T22:42:14.065Z"
   },
   {
    "duration": 261,
    "start_time": "2022-05-03T22:42:14.093Z"
   },
   {
    "duration": 7,
    "start_time": "2022-05-03T22:42:14.356Z"
   },
   {
    "duration": 29,
    "start_time": "2022-05-03T22:42:14.365Z"
   },
   {
    "duration": 437,
    "start_time": "2022-05-03T22:42:14.396Z"
   },
   {
    "duration": 59,
    "start_time": "2022-05-03T22:42:14.835Z"
   },
   {
    "duration": 443,
    "start_time": "2022-05-03T22:42:14.896Z"
   },
   {
    "duration": 8,
    "start_time": "2022-05-03T22:42:15.394Z"
   },
   {
    "duration": 8,
    "start_time": "2022-05-03T22:42:15.404Z"
   },
   {
    "duration": 707,
    "start_time": "2022-05-03T22:42:15.415Z"
   },
   {
    "duration": 9,
    "start_time": "2022-05-03T22:42:16.125Z"
   },
   {
    "duration": 770,
    "start_time": "2022-05-03T22:42:16.137Z"
   },
   {
    "duration": 9,
    "start_time": "2022-05-03T22:42:16.910Z"
   },
   {
    "duration": 69,
    "start_time": "2022-05-06T13:26:59.958Z"
   },
   {
    "duration": 1212,
    "start_time": "2022-05-06T13:27:04.884Z"
   },
   {
    "duration": 83,
    "start_time": "2022-05-06T13:27:06.099Z"
   },
   {
    "duration": 44,
    "start_time": "2022-05-06T13:27:06.185Z"
   },
   {
    "duration": 32,
    "start_time": "2022-05-06T13:27:06.232Z"
   },
   {
    "duration": 27,
    "start_time": "2022-05-06T13:27:06.267Z"
   },
   {
    "duration": 12,
    "start_time": "2022-05-06T13:27:06.296Z"
   },
   {
    "duration": 28,
    "start_time": "2022-05-06T13:27:06.310Z"
   },
   {
    "duration": 8,
    "start_time": "2022-05-06T13:27:06.341Z"
   },
   {
    "duration": 41,
    "start_time": "2022-05-06T13:27:06.353Z"
   },
   {
    "duration": 9,
    "start_time": "2022-05-06T13:27:06.400Z"
   },
   {
    "duration": 8,
    "start_time": "2022-05-06T13:27:06.411Z"
   },
   {
    "duration": 34,
    "start_time": "2022-05-06T13:27:06.421Z"
   },
   {
    "duration": 39,
    "start_time": "2022-05-06T13:27:06.457Z"
   },
   {
    "duration": 14,
    "start_time": "2022-05-06T13:27:06.499Z"
   },
   {
    "duration": 18,
    "start_time": "2022-05-06T13:27:06.516Z"
   },
   {
    "duration": 20,
    "start_time": "2022-05-06T13:27:06.536Z"
   },
   {
    "duration": 38,
    "start_time": "2022-05-06T13:27:06.559Z"
   },
   {
    "duration": 166,
    "start_time": "2022-05-06T13:27:06.599Z"
   },
   {
    "duration": 5,
    "start_time": "2022-05-06T13:27:06.767Z"
   },
   {
    "duration": 32,
    "start_time": "2022-05-06T13:27:06.774Z"
   },
   {
    "duration": 6,
    "start_time": "2022-05-06T13:27:06.808Z"
   },
   {
    "duration": 8,
    "start_time": "2022-05-06T13:27:06.816Z"
   },
   {
    "duration": 22,
    "start_time": "2022-05-06T13:27:06.826Z"
   },
   {
    "duration": 61,
    "start_time": "2022-05-06T13:27:06.850Z"
   },
   {
    "duration": 302,
    "start_time": "2022-05-06T13:27:06.914Z"
   },
   {
    "duration": 10,
    "start_time": "2022-05-06T13:27:07.219Z"
   },
   {
    "duration": 19,
    "start_time": "2022-05-06T13:27:07.232Z"
   },
   {
    "duration": 51,
    "start_time": "2022-05-06T13:27:07.257Z"
   },
   {
    "duration": 360,
    "start_time": "2022-05-06T13:27:07.311Z"
   },
   {
    "duration": 41,
    "start_time": "2022-05-06T13:27:07.674Z"
   },
   {
    "duration": 485,
    "start_time": "2022-05-06T13:27:07.717Z"
   },
   {
    "duration": 20,
    "start_time": "2022-05-06T13:27:08.204Z"
   },
   {
    "duration": 27,
    "start_time": "2022-05-06T13:27:08.227Z"
   },
   {
    "duration": 498,
    "start_time": "2022-05-06T13:27:08.257Z"
   },
   {
    "duration": 418,
    "start_time": "2022-05-06T13:27:08.758Z"
   },
   {
    "duration": 43,
    "start_time": "2022-05-06T13:27:09.178Z"
   },
   {
    "duration": 363,
    "start_time": "2022-05-06T13:27:09.223Z"
   },
   {
    "duration": 9,
    "start_time": "2022-05-06T13:27:09.589Z"
   },
   {
    "duration": 277,
    "start_time": "2022-05-06T13:27:09.600Z"
   },
   {
    "duration": 16,
    "start_time": "2022-05-06T13:27:09.879Z"
   },
   {
    "duration": 7,
    "start_time": "2022-05-06T13:27:09.897Z"
   },
   {
    "duration": 264,
    "start_time": "2022-05-06T13:27:09.906Z"
   },
   {
    "duration": 7,
    "start_time": "2022-05-06T13:27:10.172Z"
   },
   {
    "duration": 288,
    "start_time": "2022-05-06T13:27:10.194Z"
   },
   {
    "duration": 12,
    "start_time": "2022-05-06T13:27:10.485Z"
   },
   {
    "duration": 10,
    "start_time": "2022-05-06T13:27:10.499Z"
   },
   {
    "duration": 266,
    "start_time": "2022-05-06T13:27:10.511Z"
   },
   {
    "duration": 7,
    "start_time": "2022-05-06T13:27:10.779Z"
   },
   {
    "duration": 254,
    "start_time": "2022-05-06T13:27:10.788Z"
   },
   {
    "duration": 8,
    "start_time": "2022-05-06T13:27:11.044Z"
   },
   {
    "duration": 10,
    "start_time": "2022-05-06T13:27:11.054Z"
   },
   {
    "duration": 372,
    "start_time": "2022-05-06T13:27:11.066Z"
   },
   {
    "duration": 7,
    "start_time": "2022-05-06T13:27:11.441Z"
   },
   {
    "duration": 269,
    "start_time": "2022-05-06T13:27:11.449Z"
   },
   {
    "duration": 7,
    "start_time": "2022-05-06T13:27:11.720Z"
   },
   {
    "duration": 2890,
    "start_time": "2022-05-06T13:27:11.730Z"
   },
   {
    "duration": 20,
    "start_time": "2022-05-06T13:27:41.461Z"
   },
   {
    "duration": 20,
    "start_time": "2022-05-06T13:28:02.080Z"
   },
   {
    "duration": 19,
    "start_time": "2022-05-06T13:29:30.231Z"
   },
   {
    "duration": 3003,
    "start_time": "2022-05-06T13:29:39.487Z"
   },
   {
    "duration": 759,
    "start_time": "2022-05-06T13:29:47.485Z"
   },
   {
    "duration": 283,
    "start_time": "2022-05-06T13:29:53.989Z"
   },
   {
    "duration": 284,
    "start_time": "2022-05-06T13:30:04.616Z"
   },
   {
    "duration": 385,
    "start_time": "2022-05-06T13:30:08.194Z"
   },
   {
    "duration": 371,
    "start_time": "2022-05-06T13:30:38.794Z"
   },
   {
    "duration": 209,
    "start_time": "2022-05-06T13:32:13.306Z"
   },
   {
    "duration": 276,
    "start_time": "2022-05-06T13:32:21.864Z"
   },
   {
    "duration": 338,
    "start_time": "2022-05-06T13:32:37.715Z"
   },
   {
    "duration": 11,
    "start_time": "2022-05-06T13:32:44.426Z"
   },
   {
    "duration": 11,
    "start_time": "2022-05-06T13:32:47.917Z"
   },
   {
    "duration": 268,
    "start_time": "2022-05-06T13:32:51.718Z"
   },
   {
    "duration": 283,
    "start_time": "2022-05-06T13:33:52.247Z"
   },
   {
    "duration": 18,
    "start_time": "2022-05-06T13:34:50.431Z"
   },
   {
    "duration": 278,
    "start_time": "2022-05-06T13:35:05.413Z"
   },
   {
    "duration": 286,
    "start_time": "2022-05-06T13:35:09.041Z"
   },
   {
    "duration": 279,
    "start_time": "2022-05-06T13:35:16.951Z"
   },
   {
    "duration": 317,
    "start_time": "2022-05-06T13:35:23.599Z"
   },
   {
    "duration": 254,
    "start_time": "2022-05-06T13:48:48.932Z"
   },
   {
    "duration": 575,
    "start_time": "2022-05-06T13:50:15.346Z"
   },
   {
    "duration": 278,
    "start_time": "2022-05-06T13:50:21.898Z"
   },
   {
    "duration": 15,
    "start_time": "2022-05-06T13:59:00.111Z"
   },
   {
    "duration": 15,
    "start_time": "2022-05-06T13:59:00.516Z"
   },
   {
    "duration": 16,
    "start_time": "2022-05-06T13:59:00.898Z"
   },
   {
    "duration": 25,
    "start_time": "2022-05-06T13:59:13.929Z"
   },
   {
    "duration": 25,
    "start_time": "2022-05-06T13:59:14.300Z"
   },
   {
    "duration": 27,
    "start_time": "2022-05-06T13:59:14.839Z"
   },
   {
    "duration": 22,
    "start_time": "2022-05-06T14:00:00.797Z"
   },
   {
    "duration": 18,
    "start_time": "2022-05-06T14:00:11.785Z"
   },
   {
    "duration": 21,
    "start_time": "2022-05-06T14:00:19.635Z"
   },
   {
    "duration": 21,
    "start_time": "2022-05-06T14:00:35.666Z"
   },
   {
    "duration": 23,
    "start_time": "2022-05-06T14:00:53.753Z"
   },
   {
    "duration": 21,
    "start_time": "2022-05-06T14:01:05.246Z"
   },
   {
    "duration": 22,
    "start_time": "2022-05-06T14:01:11.808Z"
   },
   {
    "duration": 11,
    "start_time": "2022-05-06T14:08:30.556Z"
   },
   {
    "duration": 160,
    "start_time": "2022-05-06T14:10:02.222Z"
   },
   {
    "duration": 226,
    "start_time": "2022-05-06T14:12:17.592Z"
   },
   {
    "duration": 358,
    "start_time": "2022-05-06T14:13:47.049Z"
   },
   {
    "duration": 362,
    "start_time": "2022-05-06T14:13:58.063Z"
   },
   {
    "duration": 21,
    "start_time": "2022-05-06T14:14:29.705Z"
   },
   {
    "duration": 21,
    "start_time": "2022-05-06T14:14:35.579Z"
   },
   {
    "duration": 22,
    "start_time": "2022-05-06T14:14:45.335Z"
   },
   {
    "duration": 252,
    "start_time": "2022-05-06T14:14:49.425Z"
   },
   {
    "duration": 250,
    "start_time": "2022-05-06T14:14:50.186Z"
   },
   {
    "duration": 245,
    "start_time": "2022-05-06T14:14:51.034Z"
   },
   {
    "duration": 15,
    "start_time": "2022-05-06T14:20:01.486Z"
   },
   {
    "duration": 21,
    "start_time": "2022-05-06T14:20:09.987Z"
   },
   {
    "duration": 14,
    "start_time": "2022-05-06T14:20:14.064Z"
   },
   {
    "duration": 15,
    "start_time": "2022-05-06T14:20:35.961Z"
   },
   {
    "duration": 20,
    "start_time": "2022-05-06T14:20:42.528Z"
   },
   {
    "duration": 20,
    "start_time": "2022-05-06T14:21:11.671Z"
   },
   {
    "duration": 20,
    "start_time": "2022-05-06T14:21:12.055Z"
   },
   {
    "duration": 233,
    "start_time": "2022-05-06T14:21:31.200Z"
   },
   {
    "duration": 224,
    "start_time": "2022-05-06T14:21:31.515Z"
   },
   {
    "duration": 236,
    "start_time": "2022-05-06T14:21:31.907Z"
   },
   {
    "duration": 21,
    "start_time": "2022-05-06T14:22:55.463Z"
   },
   {
    "duration": 21,
    "start_time": "2022-05-06T14:23:02.720Z"
   },
   {
    "duration": 21,
    "start_time": "2022-05-06T14:23:28.130Z"
   },
   {
    "duration": 21,
    "start_time": "2022-05-06T14:23:28.579Z"
   },
   {
    "duration": 23,
    "start_time": "2022-05-06T14:26:52.480Z"
   },
   {
    "duration": 2775,
    "start_time": "2022-05-06T14:27:30.052Z"
   },
   {
    "duration": 0,
    "start_time": "2022-05-06T14:27:32.831Z"
   },
   {
    "duration": 23,
    "start_time": "2022-05-06T14:27:57.771Z"
   },
   {
    "duration": 22,
    "start_time": "2022-05-06T14:27:59.260Z"
   },
   {
    "duration": 24,
    "start_time": "2022-05-06T22:20:00.831Z"
   },
   {
    "duration": 859,
    "start_time": "2022-05-08T19:59:35.030Z"
   },
   {
    "duration": 37,
    "start_time": "2022-05-08T19:59:35.891Z"
   },
   {
    "duration": 132,
    "start_time": "2022-05-08T19:59:35.930Z"
   },
   {
    "duration": 15,
    "start_time": "2022-05-08T19:59:36.065Z"
   },
   {
    "duration": 5,
    "start_time": "2022-05-08T19:59:36.081Z"
   },
   {
    "duration": 7,
    "start_time": "2022-05-08T19:59:36.087Z"
   },
   {
    "duration": 21,
    "start_time": "2022-05-08T19:59:36.095Z"
   },
   {
    "duration": 5,
    "start_time": "2022-05-08T19:59:36.117Z"
   },
   {
    "duration": 32,
    "start_time": "2022-05-08T19:59:36.123Z"
   },
   {
    "duration": 5,
    "start_time": "2022-05-08T19:59:36.158Z"
   },
   {
    "duration": 6,
    "start_time": "2022-05-08T19:59:36.165Z"
   },
   {
    "duration": 23,
    "start_time": "2022-05-08T19:59:36.172Z"
   },
   {
    "duration": 4,
    "start_time": "2022-05-08T19:59:36.196Z"
   },
   {
    "duration": 10,
    "start_time": "2022-05-08T19:59:36.201Z"
   },
   {
    "duration": 13,
    "start_time": "2022-05-08T19:59:36.213Z"
   },
   {
    "duration": 40,
    "start_time": "2022-05-08T19:59:36.227Z"
   },
   {
    "duration": 4,
    "start_time": "2022-05-08T19:59:36.269Z"
   },
   {
    "duration": 107,
    "start_time": "2022-05-08T19:59:36.275Z"
   },
   {
    "duration": 3,
    "start_time": "2022-05-08T19:59:36.384Z"
   },
   {
    "duration": 18,
    "start_time": "2022-05-08T19:59:36.388Z"
   },
   {
    "duration": 5,
    "start_time": "2022-05-08T19:59:36.407Z"
   },
   {
    "duration": 7,
    "start_time": "2022-05-08T19:59:36.413Z"
   },
   {
    "duration": 40,
    "start_time": "2022-05-08T19:59:36.421Z"
   },
   {
    "duration": 18,
    "start_time": "2022-05-08T19:59:36.463Z"
   },
   {
    "duration": 186,
    "start_time": "2022-05-08T19:59:36.483Z"
   },
   {
    "duration": 7,
    "start_time": "2022-05-08T19:59:36.670Z"
   },
   {
    "duration": 13,
    "start_time": "2022-05-08T19:59:36.679Z"
   },
   {
    "duration": 18,
    "start_time": "2022-05-08T19:59:36.697Z"
   },
   {
    "duration": 244,
    "start_time": "2022-05-08T19:59:36.717Z"
   },
   {
    "duration": 26,
    "start_time": "2022-05-08T19:59:36.963Z"
   },
   {
    "duration": 296,
    "start_time": "2022-05-08T19:59:36.991Z"
   },
   {
    "duration": 15,
    "start_time": "2022-05-08T19:59:37.288Z"
   },
   {
    "duration": 18,
    "start_time": "2022-05-08T19:59:37.304Z"
   },
   {
    "duration": 314,
    "start_time": "2022-05-08T19:59:37.323Z"
   },
   {
    "duration": 242,
    "start_time": "2022-05-08T19:59:37.639Z"
   },
   {
    "duration": 23,
    "start_time": "2022-05-08T19:59:37.883Z"
   },
   {
    "duration": 215,
    "start_time": "2022-05-08T19:59:37.908Z"
   },
   {
    "duration": 6,
    "start_time": "2022-05-08T19:59:38.126Z"
   },
   {
    "duration": 257,
    "start_time": "2022-05-08T19:59:38.134Z"
   },
   {
    "duration": 7,
    "start_time": "2022-05-08T19:59:38.393Z"
   },
   {
    "duration": 9,
    "start_time": "2022-05-08T19:59:38.402Z"
   },
   {
    "duration": 158,
    "start_time": "2022-05-08T19:59:38.413Z"
   },
   {
    "duration": 6,
    "start_time": "2022-05-08T19:59:38.572Z"
   },
   {
    "duration": 174,
    "start_time": "2022-05-08T19:59:38.580Z"
   },
   {
    "duration": 5,
    "start_time": "2022-05-08T19:59:38.756Z"
   },
   {
    "duration": 7,
    "start_time": "2022-05-08T19:59:38.763Z"
   },
   {
    "duration": 164,
    "start_time": "2022-05-08T19:59:38.771Z"
   },
   {
    "duration": 5,
    "start_time": "2022-05-08T19:59:38.937Z"
   },
   {
    "duration": 165,
    "start_time": "2022-05-08T19:59:38.943Z"
   },
   {
    "duration": 5,
    "start_time": "2022-05-08T19:59:39.109Z"
   },
   {
    "duration": 31,
    "start_time": "2022-05-08T19:59:39.116Z"
   },
   {
    "duration": 168,
    "start_time": "2022-05-08T19:59:39.149Z"
   },
   {
    "duration": 5,
    "start_time": "2022-05-08T19:59:39.318Z"
   },
   {
    "duration": 166,
    "start_time": "2022-05-08T19:59:39.325Z"
   },
   {
    "duration": 5,
    "start_time": "2022-05-08T19:59:39.493Z"
   },
   {
    "duration": 28,
    "start_time": "2022-05-08T19:59:39.499Z"
   },
   {
    "duration": 257,
    "start_time": "2022-05-08T19:59:39.529Z"
   },
   {
    "duration": 173,
    "start_time": "2022-05-08T19:59:39.788Z"
   },
   {
    "duration": 15,
    "start_time": "2022-05-08T19:59:39.963Z"
   },
   {
    "duration": 60,
    "start_time": "2022-05-08T19:59:39.979Z"
   },
   {
    "duration": 38,
    "start_time": "2022-05-08T19:59:40.041Z"
   },
   {
    "duration": 136,
    "start_time": "2022-05-08T19:59:40.081Z"
   },
   {
    "duration": 138,
    "start_time": "2022-05-08T19:59:40.219Z"
   },
   {
    "duration": 146,
    "start_time": "2022-05-08T19:59:40.359Z"
   },
   {
    "duration": 16,
    "start_time": "2022-05-08T19:59:40.506Z"
   },
   {
    "duration": 18,
    "start_time": "2022-05-08T19:59:40.523Z"
   },
   {
    "duration": 14,
    "start_time": "2022-05-08T19:59:40.555Z"
   },
   {
    "duration": 149,
    "start_time": "2022-05-08T19:59:40.571Z"
   },
   {
    "duration": 152,
    "start_time": "2022-05-08T19:59:40.721Z"
   },
   {
    "duration": 153,
    "start_time": "2022-05-08T19:59:40.875Z"
   },
   {
    "duration": 30,
    "start_time": "2022-05-08T19:59:41.029Z"
   },
   {
    "duration": 17,
    "start_time": "2022-05-08T19:59:41.060Z"
   },
   {
    "duration": 16,
    "start_time": "2022-05-08T19:59:41.078Z"
   },
   {
    "duration": 79,
    "start_time": "2022-05-08T20:00:44.355Z"
   },
   {
    "duration": 1834,
    "start_time": "2022-05-08T20:01:27.352Z"
   },
   {
    "duration": 82,
    "start_time": "2022-05-08T20:01:33.543Z"
   },
   {
    "duration": 9,
    "start_time": "2022-05-08T20:02:14.662Z"
   },
   {
    "duration": 123,
    "start_time": "2022-05-08T20:02:17.609Z"
   },
   {
    "duration": 145,
    "start_time": "2022-05-08T20:02:30.428Z"
   },
   {
    "duration": 207,
    "start_time": "2022-05-08T20:02:43.781Z"
   },
   {
    "duration": 147,
    "start_time": "2022-05-08T20:02:45.999Z"
   },
   {
    "duration": 20,
    "start_time": "2022-05-08T20:06:34.348Z"
   },
   {
    "duration": 15,
    "start_time": "2022-05-08T20:06:43.127Z"
   },
   {
    "duration": 13,
    "start_time": "2022-05-08T20:06:47.418Z"
   },
   {
    "duration": 14,
    "start_time": "2022-05-08T20:06:53.225Z"
   },
   {
    "duration": 13,
    "start_time": "2022-05-08T20:06:55.894Z"
   },
   {
    "duration": 13,
    "start_time": "2022-05-08T20:06:58.804Z"
   },
   {
    "duration": 14,
    "start_time": "2022-05-08T20:07:03.127Z"
   },
   {
    "duration": 15,
    "start_time": "2022-05-08T20:07:06.180Z"
   },
   {
    "duration": 16,
    "start_time": "2022-05-08T20:07:10.397Z"
   },
   {
    "duration": 119,
    "start_time": "2022-05-08T20:07:17.478Z"
   },
   {
    "duration": 118,
    "start_time": "2022-05-08T20:07:18.165Z"
   },
   {
    "duration": 128,
    "start_time": "2022-05-08T20:07:18.717Z"
   },
   {
    "duration": 874,
    "start_time": "2022-05-08T20:24:20.708Z"
   },
   {
    "duration": 54,
    "start_time": "2022-05-08T20:24:21.584Z"
   },
   {
    "duration": 26,
    "start_time": "2022-05-08T20:24:21.640Z"
   },
   {
    "duration": 20,
    "start_time": "2022-05-08T20:24:21.669Z"
   },
   {
    "duration": 5,
    "start_time": "2022-05-08T20:24:21.692Z"
   },
   {
    "duration": 11,
    "start_time": "2022-05-08T20:24:21.699Z"
   },
   {
    "duration": 43,
    "start_time": "2022-05-08T20:24:21.712Z"
   },
   {
    "duration": 7,
    "start_time": "2022-05-08T20:24:21.757Z"
   },
   {
    "duration": 8,
    "start_time": "2022-05-08T20:24:21.765Z"
   },
   {
    "duration": 6,
    "start_time": "2022-05-08T20:24:21.776Z"
   },
   {
    "duration": 10,
    "start_time": "2022-05-08T20:24:21.783Z"
   },
   {
    "duration": 30,
    "start_time": "2022-05-08T20:24:21.795Z"
   },
   {
    "duration": 30,
    "start_time": "2022-05-08T20:24:21.827Z"
   },
   {
    "duration": 11,
    "start_time": "2022-05-08T20:24:21.859Z"
   },
   {
    "duration": 14,
    "start_time": "2022-05-08T20:24:21.871Z"
   },
   {
    "duration": 14,
    "start_time": "2022-05-08T20:24:21.887Z"
   },
   {
    "duration": 4,
    "start_time": "2022-05-08T20:24:21.903Z"
   },
   {
    "duration": 128,
    "start_time": "2022-05-08T20:24:21.908Z"
   },
   {
    "duration": 4,
    "start_time": "2022-05-08T20:24:22.038Z"
   },
   {
    "duration": 23,
    "start_time": "2022-05-08T20:24:22.044Z"
   },
   {
    "duration": 4,
    "start_time": "2022-05-08T20:24:22.069Z"
   },
   {
    "duration": 7,
    "start_time": "2022-05-08T20:24:22.075Z"
   },
   {
    "duration": 20,
    "start_time": "2022-05-08T20:24:22.083Z"
   },
   {
    "duration": 48,
    "start_time": "2022-05-08T20:24:22.106Z"
   },
   {
    "duration": 185,
    "start_time": "2022-05-08T20:24:22.156Z"
   },
   {
    "duration": 7,
    "start_time": "2022-05-08T20:24:22.343Z"
   },
   {
    "duration": 13,
    "start_time": "2022-05-08T20:24:22.354Z"
   },
   {
    "duration": 19,
    "start_time": "2022-05-08T20:24:22.372Z"
   },
   {
    "duration": 245,
    "start_time": "2022-05-08T20:24:22.392Z"
   },
   {
    "duration": 29,
    "start_time": "2022-05-08T20:24:22.639Z"
   },
   {
    "duration": 297,
    "start_time": "2022-05-08T20:24:22.670Z"
   },
   {
    "duration": 17,
    "start_time": "2022-05-08T20:24:22.969Z"
   },
   {
    "duration": 17,
    "start_time": "2022-05-08T20:24:22.988Z"
   },
   {
    "duration": 312,
    "start_time": "2022-05-08T20:24:23.007Z"
   },
   {
    "duration": 247,
    "start_time": "2022-05-08T20:24:23.321Z"
   },
   {
    "duration": 23,
    "start_time": "2022-05-08T20:24:23.570Z"
   },
   {
    "duration": 162,
    "start_time": "2022-05-08T20:24:23.594Z"
   },
   {
    "duration": 6,
    "start_time": "2022-05-08T20:24:23.757Z"
   },
   {
    "duration": 164,
    "start_time": "2022-05-08T20:24:23.765Z"
   },
   {
    "duration": 5,
    "start_time": "2022-05-08T20:24:23.931Z"
   },
   {
    "duration": 18,
    "start_time": "2022-05-08T20:24:23.938Z"
   },
   {
    "duration": 152,
    "start_time": "2022-05-08T20:24:23.958Z"
   },
   {
    "duration": 6,
    "start_time": "2022-05-08T20:24:24.112Z"
   },
   {
    "duration": 183,
    "start_time": "2022-05-08T20:24:24.120Z"
   },
   {
    "duration": 55,
    "start_time": "2022-05-08T20:24:24.304Z"
   },
   {
    "duration": 7,
    "start_time": "2022-05-08T20:24:24.360Z"
   },
   {
    "duration": 312,
    "start_time": "2022-05-08T20:24:24.369Z"
   },
   {
    "duration": 6,
    "start_time": "2022-05-08T20:24:24.682Z"
   },
   {
    "duration": 300,
    "start_time": "2022-05-08T20:24:24.690Z"
   },
   {
    "duration": 64,
    "start_time": "2022-05-08T20:24:24.992Z"
   },
   {
    "duration": 7,
    "start_time": "2022-05-08T20:24:25.058Z"
   },
   {
    "duration": 416,
    "start_time": "2022-05-08T20:24:25.067Z"
   },
   {
    "duration": 6,
    "start_time": "2022-05-08T20:24:25.485Z"
   },
   {
    "duration": 364,
    "start_time": "2022-05-08T20:24:25.493Z"
   },
   {
    "duration": 5,
    "start_time": "2022-05-08T20:24:25.859Z"
   },
   {
    "duration": 14,
    "start_time": "2022-05-08T20:24:25.866Z"
   },
   {
    "duration": 358,
    "start_time": "2022-05-08T20:24:25.881Z"
   },
   {
    "duration": 178,
    "start_time": "2022-05-08T20:24:26.241Z"
   },
   {
    "duration": 13,
    "start_time": "2022-05-08T20:24:26.421Z"
   },
   {
    "duration": 27,
    "start_time": "2022-05-08T20:24:26.436Z"
   },
   {
    "duration": 12,
    "start_time": "2022-05-08T20:24:26.465Z"
   },
   {
    "duration": 152,
    "start_time": "2022-05-08T20:24:26.479Z"
   },
   {
    "duration": 151,
    "start_time": "2022-05-08T20:24:26.632Z"
   },
   {
    "duration": 157,
    "start_time": "2022-05-08T20:24:26.786Z"
   },
   {
    "duration": 19,
    "start_time": "2022-05-08T20:24:26.945Z"
   },
   {
    "duration": 12,
    "start_time": "2022-05-08T20:24:26.966Z"
   },
   {
    "duration": 15,
    "start_time": "2022-05-08T20:24:26.980Z"
   },
   {
    "duration": 165,
    "start_time": "2022-05-08T20:24:26.997Z"
   },
   {
    "duration": 143,
    "start_time": "2022-05-08T20:24:27.164Z"
   },
   {
    "duration": 151,
    "start_time": "2022-05-08T20:24:27.308Z"
   },
   {
    "duration": 16,
    "start_time": "2022-05-08T20:24:27.460Z"
   },
   {
    "duration": 18,
    "start_time": "2022-05-08T20:24:27.478Z"
   },
   {
    "duration": 15,
    "start_time": "2022-05-08T20:24:27.498Z"
   },
   {
    "duration": 153,
    "start_time": "2022-05-08T20:24:27.515Z"
   },
   {
    "duration": 135,
    "start_time": "2022-05-08T20:24:27.670Z"
   },
   {
    "duration": 136,
    "start_time": "2022-05-08T20:24:27.806Z"
   },
   {
    "duration": 720,
    "start_time": "2022-05-08T22:13:13.927Z"
   },
   {
    "duration": 39,
    "start_time": "2022-05-08T22:13:14.649Z"
   },
   {
    "duration": 22,
    "start_time": "2022-05-08T22:13:14.690Z"
   },
   {
    "duration": 20,
    "start_time": "2022-05-08T22:13:14.715Z"
   },
   {
    "duration": 6,
    "start_time": "2022-05-08T22:13:14.754Z"
   },
   {
    "duration": 11,
    "start_time": "2022-05-08T22:13:14.762Z"
   },
   {
    "duration": 31,
    "start_time": "2022-05-08T22:13:14.775Z"
   },
   {
    "duration": 6,
    "start_time": "2022-05-08T22:13:14.808Z"
   },
   {
    "duration": 13,
    "start_time": "2022-05-08T22:13:14.816Z"
   },
   {
    "duration": 24,
    "start_time": "2022-05-08T22:13:14.832Z"
   },
   {
    "duration": 9,
    "start_time": "2022-05-08T22:13:14.858Z"
   },
   {
    "duration": 36,
    "start_time": "2022-05-08T22:13:14.870Z"
   },
   {
    "duration": 5,
    "start_time": "2022-05-08T22:13:14.908Z"
   },
   {
    "duration": 40,
    "start_time": "2022-05-08T22:13:14.914Z"
   },
   {
    "duration": 16,
    "start_time": "2022-05-08T22:13:14.957Z"
   },
   {
    "duration": 19,
    "start_time": "2022-05-08T22:13:14.975Z"
   },
   {
    "duration": 5,
    "start_time": "2022-05-08T22:13:14.996Z"
   },
   {
    "duration": 212,
    "start_time": "2022-05-08T22:13:15.003Z"
   },
   {
    "duration": 4,
    "start_time": "2022-05-08T22:13:15.218Z"
   },
   {
    "duration": 33,
    "start_time": "2022-05-08T22:13:15.224Z"
   },
   {
    "duration": 5,
    "start_time": "2022-05-08T22:13:15.259Z"
   },
   {
    "duration": 11,
    "start_time": "2022-05-08T22:13:15.266Z"
   },
   {
    "duration": 16,
    "start_time": "2022-05-08T22:13:15.280Z"
   },
   {
    "duration": 23,
    "start_time": "2022-05-08T22:13:15.298Z"
   },
   {
    "duration": 213,
    "start_time": "2022-05-08T22:13:15.323Z"
   },
   {
    "duration": 10,
    "start_time": "2022-05-08T22:13:15.538Z"
   },
   {
    "duration": 17,
    "start_time": "2022-05-08T22:13:15.553Z"
   },
   {
    "duration": 23,
    "start_time": "2022-05-08T22:13:15.576Z"
   },
   {
    "duration": 379,
    "start_time": "2022-05-08T22:13:15.601Z"
   },
   {
    "duration": 38,
    "start_time": "2022-05-08T22:13:15.983Z"
   },
   {
    "duration": 328,
    "start_time": "2022-05-08T22:13:16.023Z"
   },
   {
    "duration": 19,
    "start_time": "2022-05-08T22:13:16.354Z"
   },
   {
    "duration": 19,
    "start_time": "2022-05-08T22:13:16.375Z"
   },
   {
    "duration": 333,
    "start_time": "2022-05-08T22:13:16.395Z"
   },
   {
    "duration": 253,
    "start_time": "2022-05-08T22:13:16.730Z"
   },
   {
    "duration": 30,
    "start_time": "2022-05-08T22:13:16.985Z"
   },
   {
    "duration": 208,
    "start_time": "2022-05-08T22:13:17.018Z"
   },
   {
    "duration": 9,
    "start_time": "2022-05-08T22:13:17.228Z"
   },
   {
    "duration": 239,
    "start_time": "2022-05-08T22:13:17.239Z"
   },
   {
    "duration": 8,
    "start_time": "2022-05-08T22:13:17.480Z"
   },
   {
    "duration": 14,
    "start_time": "2022-05-08T22:13:17.490Z"
   },
   {
    "duration": 465,
    "start_time": "2022-05-08T22:13:17.507Z"
   },
   {
    "duration": 6,
    "start_time": "2022-05-08T22:13:17.974Z"
   },
   {
    "duration": 388,
    "start_time": "2022-05-08T22:13:17.982Z"
   },
   {
    "duration": 6,
    "start_time": "2022-05-08T22:13:18.372Z"
   },
   {
    "duration": 17,
    "start_time": "2022-05-08T22:13:18.380Z"
   },
   {
    "duration": 556,
    "start_time": "2022-05-08T22:13:18.399Z"
   },
   {
    "duration": 7,
    "start_time": "2022-05-08T22:13:18.958Z"
   },
   {
    "duration": 495,
    "start_time": "2022-05-08T22:13:18.967Z"
   },
   {
    "duration": 8,
    "start_time": "2022-05-08T22:13:19.465Z"
   },
   {
    "duration": 29,
    "start_time": "2022-05-08T22:13:19.475Z"
   },
   {
    "duration": 465,
    "start_time": "2022-05-08T22:13:19.507Z"
   },
   {
    "duration": 7,
    "start_time": "2022-05-08T22:13:19.974Z"
   },
   {
    "duration": 422,
    "start_time": "2022-05-08T22:13:19.983Z"
   },
   {
    "duration": 7,
    "start_time": "2022-05-08T22:13:20.407Z"
   },
   {
    "duration": 25,
    "start_time": "2022-05-08T22:13:20.417Z"
   },
   {
    "duration": 383,
    "start_time": "2022-05-08T22:13:20.455Z"
   },
   {
    "duration": 206,
    "start_time": "2022-05-08T22:13:20.841Z"
   },
   {
    "duration": 19,
    "start_time": "2022-05-08T22:13:21.049Z"
   },
   {
    "duration": 20,
    "start_time": "2022-05-08T22:13:21.070Z"
   },
   {
    "duration": 20,
    "start_time": "2022-05-08T22:13:21.092Z"
   },
   {
    "duration": 180,
    "start_time": "2022-05-08T22:13:21.114Z"
   },
   {
    "duration": 156,
    "start_time": "2022-05-08T22:13:21.295Z"
   },
   {
    "duration": 169,
    "start_time": "2022-05-08T22:13:21.453Z"
   },
   {
    "duration": 19,
    "start_time": "2022-05-08T22:13:21.625Z"
   },
   {
    "duration": 18,
    "start_time": "2022-05-08T22:13:21.654Z"
   },
   {
    "duration": 16,
    "start_time": "2022-05-08T22:13:21.674Z"
   },
   {
    "duration": 176,
    "start_time": "2022-05-08T22:13:21.692Z"
   },
   {
    "duration": 229,
    "start_time": "2022-05-08T22:13:21.870Z"
   },
   {
    "duration": 164,
    "start_time": "2022-05-08T22:13:22.101Z"
   },
   {
    "duration": 17,
    "start_time": "2022-05-08T22:13:22.267Z"
   },
   {
    "duration": 24,
    "start_time": "2022-05-08T22:13:22.286Z"
   },
   {
    "duration": 18,
    "start_time": "2022-05-08T22:13:22.312Z"
   },
   {
    "duration": 202,
    "start_time": "2022-05-08T22:13:22.332Z"
   },
   {
    "duration": 188,
    "start_time": "2022-05-08T22:13:22.536Z"
   },
   {
    "duration": 213,
    "start_time": "2022-05-08T22:13:22.726Z"
   },
   {
    "duration": 303,
    "start_time": "2022-05-08T22:23:18.076Z"
   },
   {
    "duration": 222,
    "start_time": "2022-05-08T22:23:18.389Z"
   },
   {
    "duration": 200,
    "start_time": "2022-05-08T22:23:19.234Z"
   },
   {
    "duration": 88,
    "start_time": "2022-05-08T22:45:55.444Z"
   },
   {
    "duration": 46,
    "start_time": "2022-05-08T22:46:22.230Z"
   },
   {
    "duration": 33,
    "start_time": "2022-05-08T22:47:07.252Z"
   },
   {
    "duration": 5,
    "start_time": "2022-05-08T22:47:26.956Z"
   },
   {
    "duration": 32,
    "start_time": "2022-05-08T22:47:32.045Z"
   },
   {
    "duration": 5,
    "start_time": "2022-05-08T22:47:43.383Z"
   },
   {
    "duration": 23,
    "start_time": "2022-05-08T22:47:48.607Z"
   },
   {
    "duration": 8,
    "start_time": "2022-05-08T22:49:12.977Z"
   },
   {
    "duration": 434,
    "start_time": "2022-05-08T22:49:35.113Z"
   },
   {
    "duration": 25,
    "start_time": "2022-05-08T22:50:28.523Z"
   },
   {
    "duration": 25,
    "start_time": "2022-05-08T22:50:30.041Z"
   },
   {
    "duration": 1285,
    "start_time": "2022-05-08T22:51:04.678Z"
   },
   {
    "duration": 46,
    "start_time": "2022-05-08T22:51:05.967Z"
   },
   {
    "duration": 16,
    "start_time": "2022-05-08T22:51:06.015Z"
   },
   {
    "duration": 41,
    "start_time": "2022-05-08T22:51:06.033Z"
   },
   {
    "duration": 18,
    "start_time": "2022-05-08T22:51:06.076Z"
   },
   {
    "duration": 34,
    "start_time": "2022-05-08T22:51:06.095Z"
   },
   {
    "duration": 46,
    "start_time": "2022-05-08T22:51:06.130Z"
   },
   {
    "duration": 17,
    "start_time": "2022-05-08T22:51:06.177Z"
   },
   {
    "duration": 28,
    "start_time": "2022-05-08T22:51:06.195Z"
   },
   {
    "duration": 20,
    "start_time": "2022-05-08T22:51:06.226Z"
   },
   {
    "duration": 29,
    "start_time": "2022-05-08T22:51:06.248Z"
   },
   {
    "duration": 53,
    "start_time": "2022-05-08T22:51:06.281Z"
   },
   {
    "duration": 4,
    "start_time": "2022-05-08T22:51:06.336Z"
   },
   {
    "duration": 40,
    "start_time": "2022-05-08T22:51:06.342Z"
   },
   {
    "duration": 25,
    "start_time": "2022-05-08T22:51:06.384Z"
   },
   {
    "duration": 23,
    "start_time": "2022-05-08T22:51:06.411Z"
   },
   {
    "duration": 25,
    "start_time": "2022-05-08T22:51:06.436Z"
   },
   {
    "duration": 112,
    "start_time": "2022-05-08T22:51:06.463Z"
   },
   {
    "duration": 6,
    "start_time": "2022-05-08T22:51:06.577Z"
   },
   {
    "duration": 28,
    "start_time": "2022-05-08T22:51:06.585Z"
   },
   {
    "duration": 19,
    "start_time": "2022-05-08T22:51:06.615Z"
   },
   {
    "duration": 38,
    "start_time": "2022-05-08T22:51:06.636Z"
   },
   {
    "duration": 30,
    "start_time": "2022-05-08T22:51:06.676Z"
   },
   {
    "duration": 37,
    "start_time": "2022-05-08T22:51:06.708Z"
   },
   {
    "duration": 258,
    "start_time": "2022-05-08T22:51:06.747Z"
   },
   {
    "duration": 9,
    "start_time": "2022-05-08T22:51:07.006Z"
   },
   {
    "duration": 38,
    "start_time": "2022-05-08T22:51:07.017Z"
   },
   {
    "duration": 24,
    "start_time": "2022-05-08T22:51:07.062Z"
   },
   {
    "duration": 321,
    "start_time": "2022-05-08T22:51:07.088Z"
   },
   {
    "duration": 23,
    "start_time": "2022-05-08T22:51:07.411Z"
   },
   {
    "duration": 347,
    "start_time": "2022-05-08T22:51:07.436Z"
   },
   {
    "duration": 16,
    "start_time": "2022-05-08T22:51:07.786Z"
   },
   {
    "duration": 16,
    "start_time": "2022-05-08T22:51:07.804Z"
   },
   {
    "duration": 251,
    "start_time": "2022-05-08T22:51:07.821Z"
   },
   {
    "duration": 254,
    "start_time": "2022-05-08T22:51:08.073Z"
   },
   {
    "duration": 34,
    "start_time": "2022-05-08T22:51:08.329Z"
   },
   {
    "duration": 228,
    "start_time": "2022-05-08T22:51:08.366Z"
   },
   {
    "duration": 7,
    "start_time": "2022-05-08T22:51:08.596Z"
   },
   {
    "duration": 356,
    "start_time": "2022-05-08T22:51:08.605Z"
   },
   {
    "duration": 8,
    "start_time": "2022-05-08T22:51:08.963Z"
   },
   {
    "duration": 17,
    "start_time": "2022-05-08T22:51:08.972Z"
   },
   {
    "duration": 162,
    "start_time": "2022-05-08T22:51:08.990Z"
   },
   {
    "duration": 6,
    "start_time": "2022-05-08T22:51:09.154Z"
   },
   {
    "duration": 174,
    "start_time": "2022-05-08T22:51:09.166Z"
   },
   {
    "duration": 14,
    "start_time": "2022-05-08T22:51:09.342Z"
   },
   {
    "duration": 11,
    "start_time": "2022-05-08T22:51:09.357Z"
   },
   {
    "duration": 163,
    "start_time": "2022-05-08T22:51:09.370Z"
   },
   {
    "duration": 6,
    "start_time": "2022-05-08T22:51:09.535Z"
   },
   {
    "duration": 171,
    "start_time": "2022-05-08T22:51:09.543Z"
   },
   {
    "duration": 6,
    "start_time": "2022-05-08T22:51:09.716Z"
   },
   {
    "duration": 11,
    "start_time": "2022-05-08T22:51:09.724Z"
   },
   {
    "duration": 166,
    "start_time": "2022-05-08T22:51:09.737Z"
   },
   {
    "duration": 5,
    "start_time": "2022-05-08T22:51:09.905Z"
   },
   {
    "duration": 168,
    "start_time": "2022-05-08T22:51:09.912Z"
   },
   {
    "duration": 6,
    "start_time": "2022-05-08T22:51:10.082Z"
   },
   {
    "duration": 19,
    "start_time": "2022-05-08T22:51:10.090Z"
   },
   {
    "duration": 275,
    "start_time": "2022-05-08T22:51:10.111Z"
   },
   {
    "duration": 285,
    "start_time": "2022-05-08T22:51:10.388Z"
   },
   {
    "duration": 15,
    "start_time": "2022-05-08T22:51:10.675Z"
   },
   {
    "duration": 14,
    "start_time": "2022-05-08T22:51:10.692Z"
   },
   {
    "duration": 17,
    "start_time": "2022-05-08T22:51:10.707Z"
   },
   {
    "duration": 173,
    "start_time": "2022-05-08T22:51:10.726Z"
   },
   {
    "duration": 153,
    "start_time": "2022-05-08T22:51:10.901Z"
   },
   {
    "duration": 242,
    "start_time": "2022-05-08T22:51:11.057Z"
   },
   {
    "duration": 13,
    "start_time": "2022-05-08T22:51:11.301Z"
   },
   {
    "duration": 19,
    "start_time": "2022-05-08T22:51:11.316Z"
   },
   {
    "duration": 32,
    "start_time": "2022-05-08T22:51:11.337Z"
   },
   {
    "duration": 218,
    "start_time": "2022-05-08T22:51:11.374Z"
   },
   {
    "duration": 322,
    "start_time": "2022-05-08T22:51:11.595Z"
   },
   {
    "duration": 226,
    "start_time": "2022-05-08T22:51:11.919Z"
   },
   {
    "duration": 21,
    "start_time": "2022-05-08T22:51:12.155Z"
   },
   {
    "duration": 13,
    "start_time": "2022-05-08T22:51:12.178Z"
   },
   {
    "duration": 17,
    "start_time": "2022-05-08T22:51:12.193Z"
   },
   {
    "duration": 190,
    "start_time": "2022-05-08T22:51:12.212Z"
   },
   {
    "duration": 192,
    "start_time": "2022-05-08T22:51:12.404Z"
   },
   {
    "duration": 156,
    "start_time": "2022-05-08T22:51:12.598Z"
   },
   {
    "duration": 24,
    "start_time": "2022-05-08T22:51:12.756Z"
   },
   {
    "duration": 21,
    "start_time": "2022-05-08T22:51:12.782Z"
   },
   {
    "duration": 9,
    "start_time": "2022-05-08T22:51:12.805Z"
   },
   {
    "duration": 19,
    "start_time": "2022-05-08T22:51:12.816Z"
   },
   {
    "duration": 25,
    "start_time": "2022-05-08T22:51:12.855Z"
   },
   {
    "duration": 5,
    "start_time": "2022-05-08T22:51:12.887Z"
   },
   {
    "duration": 24,
    "start_time": "2022-05-08T22:53:18.251Z"
   },
   {
    "duration": 104,
    "start_time": "2022-05-08T22:53:27.031Z"
   },
   {
    "duration": 12,
    "start_time": "2022-05-08T22:53:37.876Z"
   },
   {
    "duration": 26,
    "start_time": "2022-05-08T22:53:41.139Z"
   },
   {
    "duration": 17,
    "start_time": "2022-05-08T22:54:35.072Z"
   },
   {
    "duration": 9,
    "start_time": "2022-05-08T22:54:39.222Z"
   },
   {
    "duration": 7,
    "start_time": "2022-05-08T22:54:52.248Z"
   },
   {
    "duration": 7,
    "start_time": "2022-05-08T22:54:56.603Z"
   },
   {
    "duration": 8,
    "start_time": "2022-05-08T22:55:01.431Z"
   },
   {
    "duration": 8,
    "start_time": "2022-05-08T22:55:16.594Z"
   },
   {
    "duration": 15,
    "start_time": "2022-05-08T22:55:42.364Z"
   },
   {
    "duration": 23,
    "start_time": "2022-05-08T22:55:58.123Z"
   },
   {
    "duration": 21,
    "start_time": "2022-05-08T22:56:34.501Z"
   },
   {
    "duration": 18,
    "start_time": "2022-05-08T22:56:43.536Z"
   },
   {
    "duration": 21,
    "start_time": "2022-05-08T22:57:24.259Z"
   },
   {
    "duration": 27,
    "start_time": "2022-05-08T22:57:41.361Z"
   },
   {
    "duration": 23,
    "start_time": "2022-05-08T22:57:54.375Z"
   },
   {
    "duration": 1894,
    "start_time": "2022-05-08T22:58:06.584Z"
   },
   {
    "duration": 21,
    "start_time": "2022-05-08T22:58:12.627Z"
   },
   {
    "duration": 6,
    "start_time": "2022-05-08T22:58:17.848Z"
   },
   {
    "duration": 19,
    "start_time": "2022-05-08T22:58:25.616Z"
   },
   {
    "duration": 28,
    "start_time": "2022-05-08T22:58:35.473Z"
   },
   {
    "duration": 20,
    "start_time": "2022-05-08T22:59:09.463Z"
   },
   {
    "duration": 14,
    "start_time": "2022-05-08T22:59:27.431Z"
   },
   {
    "duration": 14,
    "start_time": "2022-05-08T22:59:41.129Z"
   },
   {
    "duration": 14,
    "start_time": "2022-05-08T23:00:03.977Z"
   },
   {
    "duration": 17,
    "start_time": "2022-05-08T23:00:08.020Z"
   },
   {
    "duration": 20,
    "start_time": "2022-05-08T23:01:14.162Z"
   },
   {
    "duration": 20,
    "start_time": "2022-05-08T23:01:21.124Z"
   },
   {
    "duration": 16,
    "start_time": "2022-05-08T23:02:21.958Z"
   },
   {
    "duration": 10,
    "start_time": "2022-05-08T23:03:52.392Z"
   },
   {
    "duration": 19,
    "start_time": "2022-05-08T23:03:57.077Z"
   },
   {
    "duration": 18,
    "start_time": "2022-05-08T23:04:04.132Z"
   },
   {
    "duration": 19,
    "start_time": "2022-05-08T23:04:17.609Z"
   },
   {
    "duration": 20,
    "start_time": "2022-05-08T23:04:25.083Z"
   },
   {
    "duration": 5,
    "start_time": "2022-05-08T23:04:26.997Z"
   },
   {
    "duration": 22,
    "start_time": "2022-05-08T23:04:39.032Z"
   },
   {
    "duration": 22,
    "start_time": "2022-05-08T23:04:43.344Z"
   },
   {
    "duration": 20,
    "start_time": "2022-05-08T23:04:47.555Z"
   },
   {
    "duration": 20,
    "start_time": "2022-05-08T23:04:51.234Z"
   },
   {
    "duration": 6,
    "start_time": "2022-05-08T23:04:53.627Z"
   },
   {
    "duration": 5,
    "start_time": "2022-05-08T23:07:22.285Z"
   },
   {
    "duration": 5,
    "start_time": "2022-05-08T23:07:56.098Z"
   },
   {
    "duration": 1240,
    "start_time": "2022-05-08T23:08:00.142Z"
   },
   {
    "duration": 40,
    "start_time": "2022-05-08T23:08:01.384Z"
   },
   {
    "duration": 16,
    "start_time": "2022-05-08T23:08:01.425Z"
   },
   {
    "duration": 49,
    "start_time": "2022-05-08T23:08:01.454Z"
   },
   {
    "duration": 24,
    "start_time": "2022-05-08T23:08:01.505Z"
   },
   {
    "duration": 40,
    "start_time": "2022-05-08T23:08:01.531Z"
   },
   {
    "duration": 93,
    "start_time": "2022-05-08T23:08:01.573Z"
   },
   {
    "duration": 18,
    "start_time": "2022-05-08T23:08:01.668Z"
   },
   {
    "duration": 17,
    "start_time": "2022-05-08T23:08:01.687Z"
   },
   {
    "duration": 17,
    "start_time": "2022-05-08T23:08:01.707Z"
   },
   {
    "duration": 43,
    "start_time": "2022-05-08T23:08:01.726Z"
   },
   {
    "duration": 34,
    "start_time": "2022-05-08T23:08:01.771Z"
   },
   {
    "duration": 38,
    "start_time": "2022-05-08T23:08:01.806Z"
   },
   {
    "duration": 44,
    "start_time": "2022-05-08T23:08:01.846Z"
   },
   {
    "duration": 20,
    "start_time": "2022-05-08T23:08:01.892Z"
   },
   {
    "duration": 49,
    "start_time": "2022-05-08T23:08:01.913Z"
   },
   {
    "duration": 81,
    "start_time": "2022-05-08T23:08:01.964Z"
   },
   {
    "duration": 145,
    "start_time": "2022-05-08T23:08:02.046Z"
   },
   {
    "duration": 4,
    "start_time": "2022-05-08T23:08:02.193Z"
   },
   {
    "duration": 27,
    "start_time": "2022-05-08T23:08:02.199Z"
   },
   {
    "duration": 6,
    "start_time": "2022-05-08T23:08:02.228Z"
   },
   {
    "duration": 13,
    "start_time": "2022-05-08T23:08:02.236Z"
   },
   {
    "duration": 27,
    "start_time": "2022-05-08T23:08:02.258Z"
   },
   {
    "duration": 41,
    "start_time": "2022-05-08T23:08:02.287Z"
   },
   {
    "duration": 290,
    "start_time": "2022-05-08T23:08:02.330Z"
   },
   {
    "duration": 8,
    "start_time": "2022-05-08T23:08:02.621Z"
   },
   {
    "duration": 29,
    "start_time": "2022-05-08T23:08:02.630Z"
   },
   {
    "duration": 20,
    "start_time": "2022-05-08T23:08:02.665Z"
   },
   {
    "duration": 241,
    "start_time": "2022-05-08T23:08:02.686Z"
   },
   {
    "duration": 30,
    "start_time": "2022-05-08T23:08:02.928Z"
   },
   {
    "duration": 532,
    "start_time": "2022-05-08T23:08:02.963Z"
   },
   {
    "duration": 15,
    "start_time": "2022-05-08T23:08:03.497Z"
   },
   {
    "duration": 20,
    "start_time": "2022-05-08T23:08:03.555Z"
   },
   {
    "duration": 600,
    "start_time": "2022-05-08T23:08:03.577Z"
   },
   {
    "duration": 575,
    "start_time": "2022-05-08T23:08:04.181Z"
   },
   {
    "duration": 23,
    "start_time": "2022-05-08T23:08:04.758Z"
   },
   {
    "duration": 319,
    "start_time": "2022-05-08T23:08:04.782Z"
   },
   {
    "duration": 7,
    "start_time": "2022-05-08T23:08:05.155Z"
   },
   {
    "duration": 546,
    "start_time": "2022-05-08T23:08:05.164Z"
   },
   {
    "duration": 46,
    "start_time": "2022-05-08T23:08:05.712Z"
   },
   {
    "duration": 23,
    "start_time": "2022-05-08T23:08:05.760Z"
   },
   {
    "duration": 217,
    "start_time": "2022-05-08T23:08:05.785Z"
   },
   {
    "duration": 6,
    "start_time": "2022-05-08T23:08:06.004Z"
   },
   {
    "duration": 198,
    "start_time": "2022-05-08T23:08:06.012Z"
   },
   {
    "duration": 7,
    "start_time": "2022-05-08T23:08:06.211Z"
   },
   {
    "duration": 11,
    "start_time": "2022-05-08T23:08:06.220Z"
   },
   {
    "duration": 178,
    "start_time": "2022-05-08T23:08:06.233Z"
   },
   {
    "duration": 7,
    "start_time": "2022-05-08T23:08:06.413Z"
   },
   {
    "duration": 183,
    "start_time": "2022-05-08T23:08:06.422Z"
   },
   {
    "duration": 5,
    "start_time": "2022-05-08T23:08:06.607Z"
   },
   {
    "duration": 19,
    "start_time": "2022-05-08T23:08:06.614Z"
   },
   {
    "duration": 232,
    "start_time": "2022-05-08T23:08:06.635Z"
   },
   {
    "duration": 13,
    "start_time": "2022-05-08T23:08:06.868Z"
   },
   {
    "duration": 216,
    "start_time": "2022-05-08T23:08:06.884Z"
   },
   {
    "duration": 6,
    "start_time": "2022-05-08T23:08:07.103Z"
   },
   {
    "duration": 28,
    "start_time": "2022-05-08T23:08:07.111Z"
   },
   {
    "duration": 188,
    "start_time": "2022-05-08T23:08:07.141Z"
   },
   {
    "duration": 196,
    "start_time": "2022-05-08T23:08:07.331Z"
   },
   {
    "duration": 29,
    "start_time": "2022-05-08T23:08:07.529Z"
   },
   {
    "duration": 16,
    "start_time": "2022-05-08T23:08:07.564Z"
   },
   {
    "duration": 21,
    "start_time": "2022-05-08T23:08:07.582Z"
   },
   {
    "duration": 180,
    "start_time": "2022-05-08T23:08:07.605Z"
   },
   {
    "duration": 215,
    "start_time": "2022-05-08T23:08:07.787Z"
   },
   {
    "duration": 314,
    "start_time": "2022-05-08T23:08:08.005Z"
   },
   {
    "duration": 14,
    "start_time": "2022-05-08T23:08:08.321Z"
   },
   {
    "duration": 31,
    "start_time": "2022-05-08T23:08:08.338Z"
   },
   {
    "duration": 27,
    "start_time": "2022-05-08T23:08:08.371Z"
   },
   {
    "duration": 182,
    "start_time": "2022-05-08T23:08:08.400Z"
   },
   {
    "duration": 174,
    "start_time": "2022-05-08T23:08:08.584Z"
   },
   {
    "duration": 176,
    "start_time": "2022-05-08T23:08:08.761Z"
   },
   {
    "duration": 30,
    "start_time": "2022-05-08T23:08:08.939Z"
   },
   {
    "duration": 26,
    "start_time": "2022-05-08T23:08:08.971Z"
   },
   {
    "duration": 21,
    "start_time": "2022-05-08T23:08:08.999Z"
   },
   {
    "duration": 202,
    "start_time": "2022-05-08T23:08:09.022Z"
   },
   {
    "duration": 158,
    "start_time": "2022-05-08T23:08:09.226Z"
   },
   {
    "duration": 208,
    "start_time": "2022-05-08T23:08:09.386Z"
   },
   {
    "duration": 27,
    "start_time": "2022-05-08T23:08:09.596Z"
   },
   {
    "duration": 46,
    "start_time": "2022-05-08T23:08:09.625Z"
   },
   {
    "duration": 16,
    "start_time": "2022-05-08T23:08:09.673Z"
   },
   {
    "duration": 22,
    "start_time": "2022-05-08T23:08:09.690Z"
   },
   {
    "duration": 22,
    "start_time": "2022-05-08T23:08:09.713Z"
   },
   {
    "duration": 11,
    "start_time": "2022-05-08T23:08:09.754Z"
   },
   {
    "duration": 5,
    "start_time": "2022-05-08T23:08:47.671Z"
   },
   {
    "duration": 140,
    "start_time": "2022-05-08T23:11:11.391Z"
   },
   {
    "duration": 5,
    "start_time": "2022-05-08T23:11:14.365Z"
   },
   {
    "duration": 5,
    "start_time": "2022-05-08T23:11:20.029Z"
   },
   {
    "duration": 13,
    "start_time": "2022-05-08T23:13:46.404Z"
   },
   {
    "duration": 13,
    "start_time": "2022-05-08T23:14:00.813Z"
   },
   {
    "duration": 8,
    "start_time": "2022-05-08T23:14:07.072Z"
   },
   {
    "duration": 7,
    "start_time": "2022-05-08T23:14:07.525Z"
   },
   {
    "duration": 95,
    "start_time": "2022-05-08T23:15:25.575Z"
   },
   {
    "duration": 4,
    "start_time": "2022-05-08T23:15:57.204Z"
   },
   {
    "duration": 4,
    "start_time": "2022-05-08T23:16:28.230Z"
   },
   {
    "duration": 4,
    "start_time": "2022-05-08T23:16:36.094Z"
   },
   {
    "duration": 4,
    "start_time": "2022-05-08T23:16:40.450Z"
   },
   {
    "duration": 4,
    "start_time": "2022-05-08T23:16:50.437Z"
   },
   {
    "duration": 1373,
    "start_time": "2022-05-09T21:19:55.696Z"
   },
   {
    "duration": 52,
    "start_time": "2022-05-09T21:19:57.072Z"
   },
   {
    "duration": 16,
    "start_time": "2022-05-09T21:19:57.126Z"
   },
   {
    "duration": 14,
    "start_time": "2022-05-09T21:19:57.144Z"
   },
   {
    "duration": 5,
    "start_time": "2022-05-09T21:19:57.159Z"
   },
   {
    "duration": 7,
    "start_time": "2022-05-09T21:19:57.166Z"
   },
   {
    "duration": 52,
    "start_time": "2022-05-09T21:19:57.174Z"
   },
   {
    "duration": 5,
    "start_time": "2022-05-09T21:19:57.227Z"
   },
   {
    "duration": 6,
    "start_time": "2022-05-09T21:19:57.234Z"
   },
   {
    "duration": 6,
    "start_time": "2022-05-09T21:19:57.243Z"
   },
   {
    "duration": 7,
    "start_time": "2022-05-09T21:19:57.251Z"
   },
   {
    "duration": 20,
    "start_time": "2022-05-09T21:19:57.259Z"
   },
   {
    "duration": 7,
    "start_time": "2022-05-09T21:19:57.301Z"
   },
   {
    "duration": 21,
    "start_time": "2022-05-09T21:19:57.311Z"
   },
   {
    "duration": 15,
    "start_time": "2022-05-09T21:19:57.334Z"
   },
   {
    "duration": 13,
    "start_time": "2022-05-09T21:19:57.350Z"
   },
   {
    "duration": 4,
    "start_time": "2022-05-09T21:19:57.365Z"
   },
   {
    "duration": 116,
    "start_time": "2022-05-09T21:19:57.370Z"
   },
   {
    "duration": 4,
    "start_time": "2022-05-09T21:19:57.487Z"
   },
   {
    "duration": 27,
    "start_time": "2022-05-09T21:19:57.492Z"
   },
   {
    "duration": 7,
    "start_time": "2022-05-09T21:19:57.521Z"
   },
   {
    "duration": 7,
    "start_time": "2022-05-09T21:19:57.529Z"
   },
   {
    "duration": 12,
    "start_time": "2022-05-09T21:19:57.537Z"
   },
   {
    "duration": 20,
    "start_time": "2022-05-09T21:19:57.550Z"
   },
   {
    "duration": 195,
    "start_time": "2022-05-09T21:19:57.571Z"
   },
   {
    "duration": 7,
    "start_time": "2022-05-09T21:19:57.768Z"
   },
   {
    "duration": 15,
    "start_time": "2022-05-09T21:19:57.776Z"
   },
   {
    "duration": 24,
    "start_time": "2022-05-09T21:19:57.808Z"
   },
   {
    "duration": 405,
    "start_time": "2022-05-09T21:19:57.833Z"
   },
   {
    "duration": 88,
    "start_time": "2022-05-09T21:19:58.240Z"
   },
   {
    "duration": 623,
    "start_time": "2022-05-09T21:19:58.330Z"
   },
   {
    "duration": 65,
    "start_time": "2022-05-09T21:19:58.955Z"
   },
   {
    "duration": 15,
    "start_time": "2022-05-09T21:19:59.022Z"
   },
   {
    "duration": 692,
    "start_time": "2022-05-09T21:19:59.039Z"
   },
   {
    "duration": 331,
    "start_time": "2022-05-09T21:19:59.733Z"
   },
   {
    "duration": 17,
    "start_time": "2022-05-09T21:20:00.066Z"
   },
   {
    "duration": 162,
    "start_time": "2022-05-09T21:20:00.085Z"
   },
   {
    "duration": 5,
    "start_time": "2022-05-09T21:20:00.249Z"
   },
   {
    "duration": 244,
    "start_time": "2022-05-09T21:20:00.255Z"
   },
   {
    "duration": 11,
    "start_time": "2022-05-09T21:20:00.502Z"
   },
   {
    "duration": 19,
    "start_time": "2022-05-09T21:20:00.515Z"
   },
   {
    "duration": 151,
    "start_time": "2022-05-09T21:20:00.536Z"
   },
   {
    "duration": 15,
    "start_time": "2022-05-09T21:20:00.689Z"
   },
   {
    "duration": 173,
    "start_time": "2022-05-09T21:20:00.707Z"
   },
   {
    "duration": 5,
    "start_time": "2022-05-09T21:20:00.882Z"
   },
   {
    "duration": 8,
    "start_time": "2022-05-09T21:20:00.900Z"
   },
   {
    "duration": 162,
    "start_time": "2022-05-09T21:20:00.910Z"
   },
   {
    "duration": 5,
    "start_time": "2022-05-09T21:20:01.074Z"
   },
   {
    "duration": 161,
    "start_time": "2022-05-09T21:20:01.081Z"
   },
   {
    "duration": 6,
    "start_time": "2022-05-09T21:20:01.244Z"
   },
   {
    "duration": 21,
    "start_time": "2022-05-09T21:20:01.251Z"
   },
   {
    "duration": 167,
    "start_time": "2022-05-09T21:20:01.274Z"
   },
   {
    "duration": 6,
    "start_time": "2022-05-09T21:20:01.443Z"
   },
   {
    "duration": 165,
    "start_time": "2022-05-09T21:20:01.451Z"
   },
   {
    "duration": 5,
    "start_time": "2022-05-09T21:20:01.619Z"
   },
   {
    "duration": 29,
    "start_time": "2022-05-09T21:20:01.626Z"
   },
   {
    "duration": 195,
    "start_time": "2022-05-09T21:20:01.657Z"
   },
   {
    "duration": 199,
    "start_time": "2022-05-09T21:20:01.853Z"
   },
   {
    "duration": 12,
    "start_time": "2022-05-09T21:20:02.054Z"
   },
   {
    "duration": 42,
    "start_time": "2022-05-09T21:20:02.068Z"
   },
   {
    "duration": 45,
    "start_time": "2022-05-09T21:20:02.113Z"
   },
   {
    "duration": 227,
    "start_time": "2022-05-09T21:20:02.160Z"
   },
   {
    "duration": 202,
    "start_time": "2022-05-09T21:20:02.389Z"
   },
   {
    "duration": 245,
    "start_time": "2022-05-09T21:20:02.594Z"
   },
   {
    "duration": 14,
    "start_time": "2022-05-09T21:20:02.841Z"
   },
   {
    "duration": 15,
    "start_time": "2022-05-09T21:20:02.857Z"
   },
   {
    "duration": 41,
    "start_time": "2022-05-09T21:20:02.874Z"
   },
   {
    "duration": 241,
    "start_time": "2022-05-09T21:20:02.917Z"
   },
   {
    "duration": 224,
    "start_time": "2022-05-09T21:20:03.161Z"
   },
   {
    "duration": 236,
    "start_time": "2022-05-09T21:20:03.387Z"
   },
   {
    "duration": 19,
    "start_time": "2022-05-09T21:20:03.625Z"
   },
   {
    "duration": 17,
    "start_time": "2022-05-09T21:20:03.646Z"
   },
   {
    "duration": 21,
    "start_time": "2022-05-09T21:20:03.665Z"
   },
   {
    "duration": 135,
    "start_time": "2022-05-09T21:20:03.688Z"
   },
   {
    "duration": 140,
    "start_time": "2022-05-09T21:20:03.826Z"
   },
   {
    "duration": 137,
    "start_time": "2022-05-09T21:20:03.968Z"
   },
   {
    "duration": 24,
    "start_time": "2022-05-09T21:20:04.107Z"
   },
   {
    "duration": 24,
    "start_time": "2022-05-09T21:20:04.132Z"
   },
   {
    "duration": 9,
    "start_time": "2022-05-09T21:20:04.158Z"
   },
   {
    "duration": 57,
    "start_time": "2022-05-09T21:20:04.169Z"
   },
   {
    "duration": 31,
    "start_time": "2022-05-09T21:20:04.227Z"
   },
   {
    "duration": 5,
    "start_time": "2022-05-09T21:20:04.265Z"
   },
   {
    "duration": 231,
    "start_time": "2022-05-09T21:51:49.662Z"
   },
   {
    "duration": 84,
    "start_time": "2022-05-09T21:52:03.775Z"
   },
   {
    "duration": 243,
    "start_time": "2022-05-09T21:52:11.692Z"
   },
   {
    "duration": 1314,
    "start_time": "2022-05-09T21:55:06.667Z"
   },
   {
    "duration": 48,
    "start_time": "2022-05-09T21:55:07.982Z"
   },
   {
    "duration": 14,
    "start_time": "2022-05-09T21:55:08.032Z"
   },
   {
    "duration": 14,
    "start_time": "2022-05-09T21:55:08.048Z"
   },
   {
    "duration": 7,
    "start_time": "2022-05-09T21:55:08.064Z"
   },
   {
    "duration": 7,
    "start_time": "2022-05-09T21:55:08.072Z"
   },
   {
    "duration": 42,
    "start_time": "2022-05-09T21:55:08.080Z"
   },
   {
    "duration": 6,
    "start_time": "2022-05-09T21:55:08.125Z"
   },
   {
    "duration": 7,
    "start_time": "2022-05-09T21:55:08.133Z"
   },
   {
    "duration": 5,
    "start_time": "2022-05-09T21:55:08.143Z"
   },
   {
    "duration": 7,
    "start_time": "2022-05-09T21:55:08.149Z"
   },
   {
    "duration": 47,
    "start_time": "2022-05-09T21:55:08.158Z"
   },
   {
    "duration": 6,
    "start_time": "2022-05-09T21:55:08.207Z"
   },
   {
    "duration": 9,
    "start_time": "2022-05-09T21:55:08.216Z"
   },
   {
    "duration": 11,
    "start_time": "2022-05-09T21:55:08.227Z"
   },
   {
    "duration": 14,
    "start_time": "2022-05-09T21:55:08.240Z"
   },
   {
    "duration": 5,
    "start_time": "2022-05-09T21:55:08.255Z"
   },
   {
    "duration": 122,
    "start_time": "2022-05-09T21:55:08.261Z"
   },
   {
    "duration": 3,
    "start_time": "2022-05-09T21:55:08.385Z"
   },
   {
    "duration": 31,
    "start_time": "2022-05-09T21:55:08.390Z"
   },
   {
    "duration": 6,
    "start_time": "2022-05-09T21:55:08.423Z"
   },
   {
    "duration": 7,
    "start_time": "2022-05-09T21:55:08.431Z"
   },
   {
    "duration": 16,
    "start_time": "2022-05-09T21:55:08.440Z"
   },
   {
    "duration": 17,
    "start_time": "2022-05-09T21:55:08.458Z"
   },
   {
    "duration": 193,
    "start_time": "2022-05-09T21:55:08.477Z"
   },
   {
    "duration": 7,
    "start_time": "2022-05-09T21:55:08.672Z"
   },
   {
    "duration": 33,
    "start_time": "2022-05-09T21:55:08.681Z"
   },
   {
    "duration": 19,
    "start_time": "2022-05-09T21:55:08.719Z"
   },
   {
    "duration": 230,
    "start_time": "2022-05-09T21:55:08.740Z"
   },
   {
    "duration": 31,
    "start_time": "2022-05-09T21:55:08.971Z"
   },
   {
    "duration": 289,
    "start_time": "2022-05-09T21:55:09.004Z"
   },
   {
    "duration": 23,
    "start_time": "2022-05-09T21:55:09.295Z"
   },
   {
    "duration": 21,
    "start_time": "2022-05-09T21:55:09.320Z"
   },
   {
    "duration": 241,
    "start_time": "2022-05-09T21:55:09.343Z"
   },
   {
    "duration": 243,
    "start_time": "2022-05-09T21:55:09.586Z"
   },
   {
    "duration": 17,
    "start_time": "2022-05-09T21:55:09.830Z"
   },
   {
    "duration": 154,
    "start_time": "2022-05-09T21:55:09.849Z"
   },
   {
    "duration": 7,
    "start_time": "2022-05-09T21:55:10.006Z"
   },
   {
    "duration": 241,
    "start_time": "2022-05-09T21:55:10.014Z"
   },
   {
    "duration": 5,
    "start_time": "2022-05-09T21:55:10.259Z"
   },
   {
    "duration": 9,
    "start_time": "2022-05-09T21:55:10.265Z"
   },
   {
    "duration": 169,
    "start_time": "2022-05-09T21:55:10.275Z"
   },
   {
    "duration": 6,
    "start_time": "2022-05-09T21:55:10.445Z"
   },
   {
    "duration": 173,
    "start_time": "2022-05-09T21:55:10.452Z"
   },
   {
    "duration": 5,
    "start_time": "2022-05-09T21:55:10.627Z"
   },
   {
    "duration": 6,
    "start_time": "2022-05-09T21:55:10.634Z"
   },
   {
    "duration": 178,
    "start_time": "2022-05-09T21:55:10.642Z"
   },
   {
    "duration": 6,
    "start_time": "2022-05-09T21:55:10.822Z"
   },
   {
    "duration": 370,
    "start_time": "2022-05-09T21:55:10.830Z"
   },
   {
    "duration": 7,
    "start_time": "2022-05-09T21:55:11.203Z"
   },
   {
    "duration": 20,
    "start_time": "2022-05-09T21:55:11.213Z"
   },
   {
    "duration": 476,
    "start_time": "2022-05-09T21:55:11.235Z"
   },
   {
    "duration": 9,
    "start_time": "2022-05-09T21:55:11.713Z"
   },
   {
    "duration": 324,
    "start_time": "2022-05-09T21:55:11.723Z"
   },
   {
    "duration": 17,
    "start_time": "2022-05-09T21:55:12.101Z"
   },
   {
    "duration": 15,
    "start_time": "2022-05-09T21:55:12.123Z"
   },
   {
    "duration": 579,
    "start_time": "2022-05-09T21:55:12.140Z"
   },
   {
    "duration": 184,
    "start_time": "2022-05-09T21:55:12.720Z"
   },
   {
    "duration": 20,
    "start_time": "2022-05-09T21:55:12.906Z"
   },
   {
    "duration": 12,
    "start_time": "2022-05-09T21:55:12.928Z"
   },
   {
    "duration": 11,
    "start_time": "2022-05-09T21:55:12.941Z"
   },
   {
    "duration": 171,
    "start_time": "2022-05-09T21:55:12.954Z"
   },
   {
    "duration": 137,
    "start_time": "2022-05-09T21:55:13.126Z"
   },
   {
    "duration": 237,
    "start_time": "2022-05-09T21:55:13.266Z"
   },
   {
    "duration": 17,
    "start_time": "2022-05-09T21:55:13.506Z"
   },
   {
    "duration": 13,
    "start_time": "2022-05-09T21:55:13.525Z"
   },
   {
    "duration": 12,
    "start_time": "2022-05-09T21:55:13.539Z"
   },
   {
    "duration": 178,
    "start_time": "2022-05-09T21:55:13.553Z"
   },
   {
    "duration": 153,
    "start_time": "2022-05-09T21:55:13.733Z"
   },
   {
    "duration": 153,
    "start_time": "2022-05-09T21:55:13.888Z"
   },
   {
    "duration": 13,
    "start_time": "2022-05-09T21:55:14.043Z"
   },
   {
    "duration": 15,
    "start_time": "2022-05-09T21:55:14.057Z"
   },
   {
    "duration": 32,
    "start_time": "2022-05-09T21:55:14.073Z"
   },
   {
    "duration": 178,
    "start_time": "2022-05-09T21:55:14.108Z"
   },
   {
    "duration": 185,
    "start_time": "2022-05-09T21:55:14.288Z"
   },
   {
    "duration": 198,
    "start_time": "2022-05-09T21:55:14.475Z"
   },
   {
    "duration": 18,
    "start_time": "2022-05-09T21:55:14.676Z"
   },
   {
    "duration": 33,
    "start_time": "2022-05-09T21:55:14.701Z"
   },
   {
    "duration": 4,
    "start_time": "2022-05-09T21:55:14.737Z"
   },
   {
    "duration": 20,
    "start_time": "2022-05-09T21:55:14.743Z"
   },
   {
    "duration": 42,
    "start_time": "2022-05-09T21:55:14.764Z"
   },
   {
    "duration": 5,
    "start_time": "2022-05-09T21:55:14.815Z"
   },
   {
    "duration": 1866,
    "start_time": "2022-05-10T11:08:06.006Z"
   },
   {
    "duration": 52,
    "start_time": "2022-05-10T11:08:07.875Z"
   },
   {
    "duration": 24,
    "start_time": "2022-05-10T11:08:07.930Z"
   },
   {
    "duration": 37,
    "start_time": "2022-05-10T11:08:07.957Z"
   },
   {
    "duration": 7,
    "start_time": "2022-05-10T11:08:07.996Z"
   },
   {
    "duration": 9,
    "start_time": "2022-05-10T11:08:08.006Z"
   },
   {
    "duration": 30,
    "start_time": "2022-05-10T11:08:08.017Z"
   },
   {
    "duration": 36,
    "start_time": "2022-05-10T11:08:08.050Z"
   },
   {
    "duration": 32,
    "start_time": "2022-05-10T11:08:08.088Z"
   },
   {
    "duration": 8,
    "start_time": "2022-05-10T11:08:08.125Z"
   },
   {
    "duration": 11,
    "start_time": "2022-05-10T11:08:08.136Z"
   },
   {
    "duration": 56,
    "start_time": "2022-05-10T11:08:08.149Z"
   },
   {
    "duration": 9,
    "start_time": "2022-05-10T11:08:08.208Z"
   },
   {
    "duration": 37,
    "start_time": "2022-05-10T11:08:08.219Z"
   },
   {
    "duration": 26,
    "start_time": "2022-05-10T11:08:08.258Z"
   },
   {
    "duration": 19,
    "start_time": "2022-05-10T11:08:08.287Z"
   },
   {
    "duration": 16,
    "start_time": "2022-05-10T11:08:08.309Z"
   },
   {
    "duration": 169,
    "start_time": "2022-05-10T11:08:08.327Z"
   },
   {
    "duration": 4,
    "start_time": "2022-05-10T11:08:08.499Z"
   },
   {
    "duration": 21,
    "start_time": "2022-05-10T11:08:08.506Z"
   },
   {
    "duration": 7,
    "start_time": "2022-05-10T11:08:08.528Z"
   },
   {
    "duration": 14,
    "start_time": "2022-05-10T11:08:08.537Z"
   },
   {
    "duration": 46,
    "start_time": "2022-05-10T11:08:08.553Z"
   },
   {
    "duration": 30,
    "start_time": "2022-05-10T11:08:08.602Z"
   },
   {
    "duration": 318,
    "start_time": "2022-05-10T11:08:08.634Z"
   },
   {
    "duration": 9,
    "start_time": "2022-05-10T11:08:08.955Z"
   },
   {
    "duration": 24,
    "start_time": "2022-05-10T11:08:08.982Z"
   },
   {
    "duration": 26,
    "start_time": "2022-05-10T11:08:09.013Z"
   },
   {
    "duration": 408,
    "start_time": "2022-05-10T11:08:09.041Z"
   },
   {
    "duration": 46,
    "start_time": "2022-05-10T11:08:09.451Z"
   },
   {
    "duration": 478,
    "start_time": "2022-05-10T11:08:09.500Z"
   },
   {
    "duration": 21,
    "start_time": "2022-05-10T11:08:09.981Z"
   },
   {
    "duration": 24,
    "start_time": "2022-05-10T11:08:10.005Z"
   },
   {
    "duration": 449,
    "start_time": "2022-05-10T11:08:10.032Z"
   },
   {
    "duration": 414,
    "start_time": "2022-05-10T11:08:10.484Z"
   },
   {
    "duration": 29,
    "start_time": "2022-05-10T11:08:10.901Z"
   },
   {
    "duration": 402,
    "start_time": "2022-05-10T11:08:10.933Z"
   },
   {
    "duration": 7,
    "start_time": "2022-05-10T11:08:11.338Z"
   },
   {
    "duration": 368,
    "start_time": "2022-05-10T11:08:11.347Z"
   },
   {
    "duration": 7,
    "start_time": "2022-05-10T11:08:11.718Z"
   },
   {
    "duration": 12,
    "start_time": "2022-05-10T11:08:11.727Z"
   },
   {
    "duration": 275,
    "start_time": "2022-05-10T11:08:11.741Z"
   },
   {
    "duration": 7,
    "start_time": "2022-05-10T11:08:12.019Z"
   },
   {
    "duration": 305,
    "start_time": "2022-05-10T11:08:12.028Z"
   },
   {
    "duration": 8,
    "start_time": "2022-05-10T11:08:12.335Z"
   },
   {
    "duration": 12,
    "start_time": "2022-05-10T11:08:12.346Z"
   },
   {
    "duration": 302,
    "start_time": "2022-05-10T11:08:12.360Z"
   },
   {
    "duration": 20,
    "start_time": "2022-05-10T11:08:12.664Z"
   },
   {
    "duration": 270,
    "start_time": "2022-05-10T11:08:12.686Z"
   },
   {
    "duration": 24,
    "start_time": "2022-05-10T11:08:12.959Z"
   },
   {
    "duration": 9,
    "start_time": "2022-05-10T11:08:12.986Z"
   },
   {
    "duration": 267,
    "start_time": "2022-05-10T11:08:12.997Z"
   },
   {
    "duration": 18,
    "start_time": "2022-05-10T11:08:13.267Z"
   },
   {
    "duration": 271,
    "start_time": "2022-05-10T11:08:13.287Z"
   },
   {
    "duration": 21,
    "start_time": "2022-05-10T11:08:13.561Z"
   },
   {
    "duration": 17,
    "start_time": "2022-05-10T11:08:13.585Z"
   },
   {
    "duration": 316,
    "start_time": "2022-05-10T11:08:13.605Z"
   },
   {
    "duration": 322,
    "start_time": "2022-05-10T11:08:13.923Z"
   },
   {
    "duration": 35,
    "start_time": "2022-05-10T11:08:14.248Z"
   },
   {
    "duration": 20,
    "start_time": "2022-05-10T11:08:14.285Z"
   },
   {
    "duration": 30,
    "start_time": "2022-05-10T11:08:14.307Z"
   },
   {
    "duration": 275,
    "start_time": "2022-05-10T11:08:14.340Z"
   },
   {
    "duration": 246,
    "start_time": "2022-05-10T11:08:14.617Z"
   },
   {
    "duration": 360,
    "start_time": "2022-05-10T11:08:14.866Z"
   },
   {
    "duration": 20,
    "start_time": "2022-05-10T11:08:15.229Z"
   },
   {
    "duration": 42,
    "start_time": "2022-05-10T11:08:15.251Z"
   },
   {
    "duration": 19,
    "start_time": "2022-05-10T11:08:15.295Z"
   },
   {
    "duration": 300,
    "start_time": "2022-05-10T11:08:15.316Z"
   },
   {
    "duration": 396,
    "start_time": "2022-05-10T11:08:15.618Z"
   },
   {
    "duration": 388,
    "start_time": "2022-05-10T11:08:16.017Z"
   },
   {
    "duration": 28,
    "start_time": "2022-05-10T11:08:16.408Z"
   },
   {
    "duration": 49,
    "start_time": "2022-05-10T11:08:16.438Z"
   },
   {
    "duration": 21,
    "start_time": "2022-05-10T11:08:16.489Z"
   },
   {
    "duration": 335,
    "start_time": "2022-05-10T11:08:16.513Z"
   },
   {
    "duration": 237,
    "start_time": "2022-05-10T11:08:16.851Z"
   },
   {
    "duration": 252,
    "start_time": "2022-05-10T11:08:17.090Z"
   },
   {
    "duration": 43,
    "start_time": "2022-05-10T11:08:17.345Z"
   },
   {
    "duration": 43,
    "start_time": "2022-05-10T11:08:17.392Z"
   },
   {
    "duration": 14,
    "start_time": "2022-05-10T11:08:17.437Z"
   },
   {
    "duration": 53,
    "start_time": "2022-05-10T11:08:17.453Z"
   },
   {
    "duration": 41,
    "start_time": "2022-05-10T11:08:17.508Z"
   },
   {
    "duration": 28,
    "start_time": "2022-05-10T11:08:17.557Z"
   },
   {
    "duration": 43,
    "start_time": "2022-05-10T19:37:16.393Z"
   },
   {
    "duration": 1362,
    "start_time": "2022-05-10T19:37:21.633Z"
   },
   {
    "duration": 51,
    "start_time": "2022-05-10T19:37:22.997Z"
   },
   {
    "duration": 18,
    "start_time": "2022-05-10T19:37:23.050Z"
   },
   {
    "duration": 14,
    "start_time": "2022-05-10T19:37:23.070Z"
   },
   {
    "duration": 4,
    "start_time": "2022-05-10T19:37:23.085Z"
   },
   {
    "duration": 8,
    "start_time": "2022-05-10T19:37:23.091Z"
   },
   {
    "duration": 49,
    "start_time": "2022-05-10T19:37:23.100Z"
   },
   {
    "duration": 5,
    "start_time": "2022-05-10T19:37:23.150Z"
   },
   {
    "duration": 17,
    "start_time": "2022-05-10T19:37:23.160Z"
   },
   {
    "duration": 7,
    "start_time": "2022-05-10T19:37:23.180Z"
   },
   {
    "duration": 7,
    "start_time": "2022-05-10T19:37:23.189Z"
   },
   {
    "duration": 63,
    "start_time": "2022-05-10T19:37:23.197Z"
   },
   {
    "duration": 9,
    "start_time": "2022-05-10T19:37:23.264Z"
   },
   {
    "duration": 12,
    "start_time": "2022-05-10T19:37:23.275Z"
   },
   {
    "duration": 15,
    "start_time": "2022-05-10T19:37:23.288Z"
   },
   {
    "duration": 17,
    "start_time": "2022-05-10T19:37:23.348Z"
   },
   {
    "duration": 9,
    "start_time": "2022-05-10T19:37:23.366Z"
   },
   {
    "duration": 202,
    "start_time": "2022-05-10T19:37:23.376Z"
   },
   {
    "duration": 3,
    "start_time": "2022-05-10T19:37:23.579Z"
   },
   {
    "duration": 68,
    "start_time": "2022-05-10T19:37:23.584Z"
   },
   {
    "duration": 7,
    "start_time": "2022-05-10T19:37:23.654Z"
   },
   {
    "duration": 18,
    "start_time": "2022-05-10T19:37:23.662Z"
   },
   {
    "duration": 11,
    "start_time": "2022-05-10T19:37:23.681Z"
   },
   {
    "duration": 72,
    "start_time": "2022-05-10T19:37:23.694Z"
   },
   {
    "duration": 321,
    "start_time": "2022-05-10T19:37:23.768Z"
   },
   {
    "duration": 71,
    "start_time": "2022-05-10T19:37:24.090Z"
   },
   {
    "duration": 20,
    "start_time": "2022-05-10T19:37:24.163Z"
   },
   {
    "duration": 70,
    "start_time": "2022-05-10T19:37:24.188Z"
   },
   {
    "duration": 633,
    "start_time": "2022-05-10T19:37:24.259Z"
   },
   {
    "duration": 83,
    "start_time": "2022-05-10T19:37:24.894Z"
   },
   {
    "duration": 605,
    "start_time": "2022-05-10T19:37:24.979Z"
   },
   {
    "duration": 67,
    "start_time": "2022-05-10T19:37:25.586Z"
   },
   {
    "duration": 298,
    "start_time": "2022-05-10T19:37:25.661Z"
   },
   {
    "duration": 0,
    "start_time": "2022-05-10T19:37:25.961Z"
   },
   {
    "duration": 0,
    "start_time": "2022-05-10T19:37:25.962Z"
   },
   {
    "duration": 0,
    "start_time": "2022-05-10T19:37:25.965Z"
   },
   {
    "duration": 0,
    "start_time": "2022-05-10T19:37:25.965Z"
   },
   {
    "duration": 0,
    "start_time": "2022-05-10T19:37:25.966Z"
   },
   {
    "duration": 0,
    "start_time": "2022-05-10T19:37:25.968Z"
   },
   {
    "duration": 0,
    "start_time": "2022-05-10T19:37:25.969Z"
   },
   {
    "duration": 0,
    "start_time": "2022-05-10T19:37:25.970Z"
   },
   {
    "duration": 0,
    "start_time": "2022-05-10T19:37:25.970Z"
   },
   {
    "duration": 0,
    "start_time": "2022-05-10T19:37:25.972Z"
   },
   {
    "duration": 0,
    "start_time": "2022-05-10T19:37:25.973Z"
   },
   {
    "duration": 0,
    "start_time": "2022-05-10T19:37:25.974Z"
   },
   {
    "duration": 0,
    "start_time": "2022-05-10T19:37:25.974Z"
   },
   {
    "duration": 0,
    "start_time": "2022-05-10T19:37:25.975Z"
   },
   {
    "duration": 0,
    "start_time": "2022-05-10T19:37:25.976Z"
   },
   {
    "duration": 0,
    "start_time": "2022-05-10T19:37:25.977Z"
   },
   {
    "duration": 0,
    "start_time": "2022-05-10T19:37:25.978Z"
   },
   {
    "duration": 0,
    "start_time": "2022-05-10T19:37:25.979Z"
   },
   {
    "duration": 0,
    "start_time": "2022-05-10T19:37:25.979Z"
   },
   {
    "duration": 0,
    "start_time": "2022-05-10T19:37:25.980Z"
   },
   {
    "duration": 0,
    "start_time": "2022-05-10T19:37:25.981Z"
   },
   {
    "duration": 0,
    "start_time": "2022-05-10T19:37:25.982Z"
   },
   {
    "duration": 0,
    "start_time": "2022-05-10T19:37:25.983Z"
   },
   {
    "duration": 0,
    "start_time": "2022-05-10T19:37:25.984Z"
   },
   {
    "duration": 1,
    "start_time": "2022-05-10T19:37:25.984Z"
   },
   {
    "duration": 0,
    "start_time": "2022-05-10T19:37:25.985Z"
   },
   {
    "duration": 0,
    "start_time": "2022-05-10T19:37:25.986Z"
   },
   {
    "duration": 0,
    "start_time": "2022-05-10T19:37:25.987Z"
   },
   {
    "duration": 0,
    "start_time": "2022-05-10T19:37:26.048Z"
   },
   {
    "duration": 0,
    "start_time": "2022-05-10T19:37:26.049Z"
   },
   {
    "duration": 0,
    "start_time": "2022-05-10T19:37:26.050Z"
   },
   {
    "duration": 0,
    "start_time": "2022-05-10T19:37:26.051Z"
   },
   {
    "duration": 0,
    "start_time": "2022-05-10T19:37:26.053Z"
   },
   {
    "duration": 0,
    "start_time": "2022-05-10T19:37:26.056Z"
   },
   {
    "duration": 0,
    "start_time": "2022-05-10T19:37:26.057Z"
   },
   {
    "duration": 0,
    "start_time": "2022-05-10T19:37:26.058Z"
   },
   {
    "duration": 0,
    "start_time": "2022-05-10T19:37:26.060Z"
   },
   {
    "duration": 0,
    "start_time": "2022-05-10T19:37:26.063Z"
   },
   {
    "duration": 0,
    "start_time": "2022-05-10T19:37:26.066Z"
   },
   {
    "duration": 0,
    "start_time": "2022-05-10T19:37:26.067Z"
   },
   {
    "duration": 0,
    "start_time": "2022-05-10T19:37:26.068Z"
   },
   {
    "duration": 0,
    "start_time": "2022-05-10T19:37:26.070Z"
   },
   {
    "duration": 0,
    "start_time": "2022-05-10T19:37:26.072Z"
   },
   {
    "duration": 0,
    "start_time": "2022-05-10T19:37:26.073Z"
   },
   {
    "duration": 0,
    "start_time": "2022-05-10T19:37:26.074Z"
   },
   {
    "duration": 0,
    "start_time": "2022-05-10T19:37:26.075Z"
   },
   {
    "duration": 0,
    "start_time": "2022-05-10T19:37:26.076Z"
   },
   {
    "duration": 0,
    "start_time": "2022-05-10T19:37:26.076Z"
   },
   {
    "duration": 0,
    "start_time": "2022-05-10T19:37:26.077Z"
   },
   {
    "duration": 17,
    "start_time": "2022-05-10T19:38:24.897Z"
   },
   {
    "duration": 16,
    "start_time": "2022-05-10T19:38:42.561Z"
   },
   {
    "duration": 1011,
    "start_time": "2022-05-10T19:39:19.061Z"
   },
   {
    "duration": 32,
    "start_time": "2022-05-10T19:39:20.074Z"
   },
   {
    "duration": 14,
    "start_time": "2022-05-10T19:39:20.107Z"
   },
   {
    "duration": 32,
    "start_time": "2022-05-10T19:39:20.122Z"
   },
   {
    "duration": 5,
    "start_time": "2022-05-10T19:39:20.156Z"
   },
   {
    "duration": 6,
    "start_time": "2022-05-10T19:39:20.163Z"
   },
   {
    "duration": 17,
    "start_time": "2022-05-10T19:39:20.171Z"
   },
   {
    "duration": 4,
    "start_time": "2022-05-10T19:39:20.189Z"
   },
   {
    "duration": 5,
    "start_time": "2022-05-10T19:39:20.195Z"
   },
   {
    "duration": 7,
    "start_time": "2022-05-10T19:39:20.201Z"
   },
   {
    "duration": 6,
    "start_time": "2022-05-10T19:39:20.209Z"
   },
   {
    "duration": 51,
    "start_time": "2022-05-10T19:39:20.216Z"
   },
   {
    "duration": 4,
    "start_time": "2022-05-10T19:39:20.268Z"
   },
   {
    "duration": 8,
    "start_time": "2022-05-10T19:39:20.275Z"
   },
   {
    "duration": 11,
    "start_time": "2022-05-10T19:39:20.285Z"
   },
   {
    "duration": 15,
    "start_time": "2022-05-10T19:39:20.297Z"
   },
   {
    "duration": 4,
    "start_time": "2022-05-10T19:39:20.313Z"
   },
   {
    "duration": 121,
    "start_time": "2022-05-10T19:39:20.318Z"
   },
   {
    "duration": 3,
    "start_time": "2022-05-10T19:39:20.441Z"
   },
   {
    "duration": 28,
    "start_time": "2022-05-10T19:39:20.447Z"
   },
   {
    "duration": 3,
    "start_time": "2022-05-10T19:39:20.477Z"
   },
   {
    "duration": 9,
    "start_time": "2022-05-10T19:39:20.482Z"
   },
   {
    "duration": 12,
    "start_time": "2022-05-10T19:39:20.492Z"
   },
   {
    "duration": 16,
    "start_time": "2022-05-10T19:39:20.506Z"
   },
   {
    "duration": 175,
    "start_time": "2022-05-10T19:39:20.523Z"
   },
   {
    "duration": 7,
    "start_time": "2022-05-10T19:39:20.699Z"
   },
   {
    "duration": 13,
    "start_time": "2022-05-10T19:39:20.707Z"
   },
   {
    "duration": 14,
    "start_time": "2022-05-10T19:39:20.721Z"
   },
   {
    "duration": 253,
    "start_time": "2022-05-10T19:39:20.737Z"
   },
   {
    "duration": 31,
    "start_time": "2022-05-10T19:39:20.992Z"
   },
   {
    "duration": 415,
    "start_time": "2022-05-10T19:39:21.025Z"
   },
   {
    "duration": 25,
    "start_time": "2022-05-10T19:39:21.442Z"
   },
   {
    "duration": 19,
    "start_time": "2022-05-10T19:39:21.468Z"
   },
   {
    "duration": 240,
    "start_time": "2022-05-10T19:39:21.489Z"
   },
   {
    "duration": 331,
    "start_time": "2022-05-10T19:39:21.731Z"
   },
   {
    "duration": 16,
    "start_time": "2022-05-10T19:39:22.064Z"
   },
   {
    "duration": 139,
    "start_time": "2022-05-10T19:39:22.082Z"
   },
   {
    "duration": 5,
    "start_time": "2022-05-10T19:39:22.222Z"
   },
   {
    "duration": 157,
    "start_time": "2022-05-10T19:39:22.228Z"
   },
   {
    "duration": 7,
    "start_time": "2022-05-10T19:39:22.387Z"
   },
   {
    "duration": 4,
    "start_time": "2022-05-10T19:39:22.399Z"
   },
   {
    "duration": 220,
    "start_time": "2022-05-10T19:39:22.405Z"
   },
   {
    "duration": 6,
    "start_time": "2022-05-10T19:39:22.626Z"
   },
   {
    "duration": 158,
    "start_time": "2022-05-10T19:39:22.633Z"
   },
   {
    "duration": 4,
    "start_time": "2022-05-10T19:39:22.793Z"
   },
   {
    "duration": 7,
    "start_time": "2022-05-10T19:39:22.798Z"
   },
   {
    "duration": 152,
    "start_time": "2022-05-10T19:39:22.806Z"
   },
   {
    "duration": 5,
    "start_time": "2022-05-10T19:39:22.960Z"
   },
   {
    "duration": 144,
    "start_time": "2022-05-10T19:39:22.967Z"
   },
   {
    "duration": 6,
    "start_time": "2022-05-10T19:39:23.113Z"
   },
   {
    "duration": 43,
    "start_time": "2022-05-10T19:39:23.121Z"
   },
   {
    "duration": 152,
    "start_time": "2022-05-10T19:39:23.166Z"
   },
   {
    "duration": 5,
    "start_time": "2022-05-10T19:39:23.320Z"
   },
   {
    "duration": 156,
    "start_time": "2022-05-10T19:39:23.326Z"
   },
   {
    "duration": 5,
    "start_time": "2022-05-10T19:39:23.483Z"
   },
   {
    "duration": 18,
    "start_time": "2022-05-10T19:39:23.490Z"
   },
   {
    "duration": 179,
    "start_time": "2022-05-10T19:39:23.509Z"
   },
   {
    "duration": 159,
    "start_time": "2022-05-10T19:39:23.690Z"
   },
   {
    "duration": 15,
    "start_time": "2022-05-10T19:39:23.852Z"
   },
   {
    "duration": 19,
    "start_time": "2022-05-10T19:39:23.869Z"
   },
   {
    "duration": 17,
    "start_time": "2022-05-10T19:39:23.889Z"
   },
   {
    "duration": 158,
    "start_time": "2022-05-10T19:39:23.908Z"
   },
   {
    "duration": 150,
    "start_time": "2022-05-10T19:39:24.068Z"
   },
   {
    "duration": 136,
    "start_time": "2022-05-10T19:39:24.219Z"
   },
   {
    "duration": 17,
    "start_time": "2022-05-10T19:39:24.357Z"
   },
   {
    "duration": 17,
    "start_time": "2022-05-10T19:39:24.375Z"
   },
   {
    "duration": 10,
    "start_time": "2022-05-10T19:39:24.394Z"
   },
   {
    "duration": 219,
    "start_time": "2022-05-10T19:39:24.406Z"
   },
   {
    "duration": 157,
    "start_time": "2022-05-10T19:39:24.627Z"
   },
   {
    "duration": 146,
    "start_time": "2022-05-10T19:39:24.786Z"
   },
   {
    "duration": 27,
    "start_time": "2022-05-10T19:39:24.933Z"
   },
   {
    "duration": 13,
    "start_time": "2022-05-10T19:39:24.962Z"
   },
   {
    "duration": 19,
    "start_time": "2022-05-10T19:39:24.976Z"
   },
   {
    "duration": 117,
    "start_time": "2022-05-10T19:39:24.996Z"
   },
   {
    "duration": 116,
    "start_time": "2022-05-10T19:39:25.114Z"
   },
   {
    "duration": 134,
    "start_time": "2022-05-10T19:39:25.232Z"
   },
   {
    "duration": 17,
    "start_time": "2022-05-10T19:39:25.368Z"
   },
   {
    "duration": 20,
    "start_time": "2022-05-10T19:39:25.387Z"
   },
   {
    "duration": 4,
    "start_time": "2022-05-10T19:39:25.409Z"
   },
   {
    "duration": 49,
    "start_time": "2022-05-10T19:39:25.415Z"
   },
   {
    "duration": 17,
    "start_time": "2022-05-10T19:39:25.466Z"
   },
   {
    "duration": 28,
    "start_time": "2022-05-10T19:39:25.484Z"
   },
   {
    "duration": 72,
    "start_time": "2022-05-11T21:36:26.231Z"
   },
   {
    "duration": 1777,
    "start_time": "2022-05-11T21:36:37.749Z"
   },
   {
    "duration": 60,
    "start_time": "2022-05-11T21:36:39.529Z"
   },
   {
    "duration": 28,
    "start_time": "2022-05-11T21:36:39.591Z"
   },
   {
    "duration": 20,
    "start_time": "2022-05-11T21:36:39.622Z"
   },
   {
    "duration": 7,
    "start_time": "2022-05-11T21:36:39.644Z"
   },
   {
    "duration": 43,
    "start_time": "2022-05-11T21:36:39.653Z"
   },
   {
    "duration": 24,
    "start_time": "2022-05-11T21:36:39.703Z"
   },
   {
    "duration": 7,
    "start_time": "2022-05-11T21:36:39.729Z"
   },
   {
    "duration": 9,
    "start_time": "2022-05-11T21:36:39.739Z"
   },
   {
    "duration": 6,
    "start_time": "2022-05-11T21:36:39.754Z"
   },
   {
    "duration": 10,
    "start_time": "2022-05-11T21:36:39.798Z"
   },
   {
    "duration": 26,
    "start_time": "2022-05-11T21:36:39.810Z"
   },
   {
    "duration": 5,
    "start_time": "2022-05-11T21:36:39.838Z"
   },
   {
    "duration": 52,
    "start_time": "2022-05-11T21:36:39.845Z"
   },
   {
    "duration": 22,
    "start_time": "2022-05-11T21:36:39.901Z"
   },
   {
    "duration": 18,
    "start_time": "2022-05-11T21:36:39.925Z"
   },
   {
    "duration": 8,
    "start_time": "2022-05-11T21:36:39.945Z"
   },
   {
    "duration": 188,
    "start_time": "2022-05-11T21:36:39.955Z"
   },
   {
    "duration": 5,
    "start_time": "2022-05-11T21:36:40.145Z"
   },
   {
    "duration": 19,
    "start_time": "2022-05-11T21:36:40.153Z"
   },
   {
    "duration": 26,
    "start_time": "2022-05-11T21:36:40.174Z"
   },
   {
    "duration": 12,
    "start_time": "2022-05-11T21:36:40.203Z"
   },
   {
    "duration": 19,
    "start_time": "2022-05-11T21:36:40.217Z"
   },
   {
    "duration": 1417,
    "start_time": "2022-05-11T21:36:40.238Z"
   },
   {
    "duration": 22,
    "start_time": "2022-05-11T21:36:41.657Z"
   },
   {
    "duration": 288,
    "start_time": "2022-05-11T21:36:41.698Z"
   },
   {
    "duration": 18,
    "start_time": "2022-05-11T21:36:41.988Z"
   },
   {
    "duration": 19,
    "start_time": "2022-05-11T21:36:42.013Z"
   },
   {
    "duration": 25,
    "start_time": "2022-05-11T21:36:42.034Z"
   },
   {
    "duration": 387,
    "start_time": "2022-05-11T21:36:42.062Z"
   },
   {
    "duration": 58,
    "start_time": "2022-05-11T21:36:42.451Z"
   },
   {
    "duration": 807,
    "start_time": "2022-05-11T21:36:42.511Z"
   },
   {
    "duration": 20,
    "start_time": "2022-05-11T21:36:43.320Z"
   },
   {
    "duration": 76,
    "start_time": "2022-05-11T21:36:43.342Z"
   },
   {
    "duration": 904,
    "start_time": "2022-05-11T21:36:43.420Z"
   },
   {
    "duration": 877,
    "start_time": "2022-05-11T21:36:44.327Z"
   },
   {
    "duration": 29,
    "start_time": "2022-05-11T21:36:45.210Z"
   },
   {
    "duration": 558,
    "start_time": "2022-05-11T21:36:45.241Z"
   },
   {
    "duration": 7,
    "start_time": "2022-05-11T21:36:45.808Z"
   },
   {
    "duration": 584,
    "start_time": "2022-05-11T21:36:45.817Z"
   },
   {
    "duration": 7,
    "start_time": "2022-05-11T21:36:46.406Z"
   },
   {
    "duration": 8,
    "start_time": "2022-05-11T21:36:46.415Z"
   },
   {
    "duration": 514,
    "start_time": "2022-05-11T21:36:46.425Z"
   },
   {
    "duration": 10,
    "start_time": "2022-05-11T21:36:46.998Z"
   },
   {
    "duration": 599,
    "start_time": "2022-05-11T21:36:47.010Z"
   },
   {
    "duration": 8,
    "start_time": "2022-05-11T21:36:47.612Z"
   },
   {
    "duration": 7,
    "start_time": "2022-05-11T21:36:47.623Z"
   },
   {
    "duration": 573,
    "start_time": "2022-05-11T21:36:47.632Z"
   },
   {
    "duration": 7,
    "start_time": "2022-05-11T21:36:48.207Z"
   },
   {
    "duration": 514,
    "start_time": "2022-05-11T21:36:48.216Z"
   },
   {
    "duration": 7,
    "start_time": "2022-05-11T21:36:48.732Z"
   },
   {
    "duration": 58,
    "start_time": "2022-05-11T21:36:48.741Z"
   },
   {
    "duration": 510,
    "start_time": "2022-05-11T21:36:48.802Z"
   },
   {
    "duration": 7,
    "start_time": "2022-05-11T21:36:49.314Z"
   },
   {
    "duration": 704,
    "start_time": "2022-05-11T21:36:49.323Z"
   },
   {
    "duration": 6,
    "start_time": "2022-05-11T21:36:50.029Z"
   },
   {
    "duration": 81,
    "start_time": "2022-05-11T21:36:50.037Z"
   },
   {
    "duration": 605,
    "start_time": "2022-05-11T21:36:50.121Z"
   },
   {
    "duration": 667,
    "start_time": "2022-05-11T21:36:50.728Z"
   },
   {
    "duration": 29,
    "start_time": "2022-05-11T21:36:51.402Z"
   },
   {
    "duration": 76,
    "start_time": "2022-05-11T21:36:51.433Z"
   },
   {
    "duration": 84,
    "start_time": "2022-05-11T21:36:51.512Z"
   },
   {
    "duration": 352,
    "start_time": "2022-05-11T21:36:51.602Z"
   },
   {
    "duration": 258,
    "start_time": "2022-05-11T21:36:51.956Z"
   },
   {
    "duration": 232,
    "start_time": "2022-05-11T21:36:52.216Z"
   },
   {
    "duration": 19,
    "start_time": "2022-05-11T21:36:52.450Z"
   },
   {
    "duration": 38,
    "start_time": "2022-05-11T21:36:52.471Z"
   },
   {
    "duration": 17,
    "start_time": "2022-05-11T21:36:52.512Z"
   },
   {
    "duration": 279,
    "start_time": "2022-05-11T21:36:52.532Z"
   },
   {
    "duration": 278,
    "start_time": "2022-05-11T21:36:52.812Z"
   },
   {
    "duration": 253,
    "start_time": "2022-05-11T21:36:53.093Z"
   },
   {
    "duration": 20,
    "start_time": "2022-05-11T21:36:53.348Z"
   },
   {
    "duration": 41,
    "start_time": "2022-05-11T21:36:53.370Z"
   },
   {
    "duration": 21,
    "start_time": "2022-05-11T21:36:53.413Z"
   },
   {
    "duration": 225,
    "start_time": "2022-05-11T21:36:53.436Z"
   },
   {
    "duration": 220,
    "start_time": "2022-05-11T21:36:53.664Z"
   },
   {
    "duration": 225,
    "start_time": "2022-05-11T21:36:53.887Z"
   },
   {
    "duration": 30,
    "start_time": "2022-05-11T21:36:54.114Z"
   },
   {
    "duration": 64,
    "start_time": "2022-05-11T21:36:54.146Z"
   },
   {
    "duration": 7,
    "start_time": "2022-05-11T21:36:54.212Z"
   },
   {
    "duration": 29,
    "start_time": "2022-05-11T21:36:54.221Z"
   },
   {
    "duration": 49,
    "start_time": "2022-05-11T21:36:54.258Z"
   },
   {
    "duration": 8,
    "start_time": "2022-05-11T21:36:54.310Z"
   },
   {
    "duration": 402,
    "start_time": "2022-05-11T21:36:59.306Z"
   },
   {
    "duration": 205899,
    "start_time": "2022-05-11T21:37:04.818Z"
   },
   {
    "duration": 435,
    "start_time": "2022-05-11T21:40:30.719Z"
   },
   {
    "duration": 12,
    "start_time": "2022-05-11T21:41:28.117Z"
   },
   {
    "duration": 12,
    "start_time": "2022-05-11T21:41:36.338Z"
   },
   {
    "duration": 399,
    "start_time": "2022-05-11T21:41:36.778Z"
   },
   {
    "duration": 13,
    "start_time": "2022-05-11T21:41:46.606Z"
   },
   {
    "duration": 415,
    "start_time": "2022-05-11T21:41:47.092Z"
   },
   {
    "duration": 879,
    "start_time": "2022-05-11T21:41:52.734Z"
   },
   {
    "duration": 424,
    "start_time": "2022-05-11T21:42:06.637Z"
   },
   {
    "duration": 27,
    "start_time": "2022-05-11T21:45:01.306Z"
   },
   {
    "duration": 19,
    "start_time": "2022-05-11T21:45:07.531Z"
   },
   {
    "duration": 3566,
    "start_time": "2022-05-11T21:46:59.840Z"
   },
   {
    "duration": 5,
    "start_time": "2022-05-11T21:47:11.515Z"
   },
   {
    "duration": 12,
    "start_time": "2022-05-11T21:47:18.018Z"
   },
   {
    "duration": 5,
    "start_time": "2022-05-11T21:47:22.611Z"
   },
   {
    "duration": 417,
    "start_time": "2022-05-11T21:47:31.407Z"
   },
   {
    "duration": 511,
    "start_time": "2022-05-11T21:49:45.907Z"
   },
   {
    "duration": 399,
    "start_time": "2022-05-11T21:49:52.457Z"
   },
   {
    "duration": 435,
    "start_time": "2022-05-11T21:50:04.468Z"
   },
   {
    "duration": 411,
    "start_time": "2022-05-11T21:50:13.525Z"
   },
   {
    "duration": 6,
    "start_time": "2022-05-11T21:54:20.867Z"
   },
   {
    "duration": 20,
    "start_time": "2022-05-11T21:54:30.907Z"
   },
   {
    "duration": 411,
    "start_time": "2022-05-11T21:54:50.800Z"
   },
   {
    "duration": 360,
    "start_time": "2022-05-11T21:54:58.165Z"
   },
   {
    "duration": 345,
    "start_time": "2022-05-11T21:55:51.924Z"
   },
   {
    "duration": 337,
    "start_time": "2022-05-11T21:55:58.631Z"
   },
   {
    "duration": 435,
    "start_time": "2022-05-11T21:57:56.738Z"
   },
   {
    "duration": 8,
    "start_time": "2022-05-11T21:58:26.429Z"
   },
   {
    "duration": 264,
    "start_time": "2022-05-11T21:58:30.985Z"
   },
   {
    "duration": 5,
    "start_time": "2022-05-11T21:58:43.070Z"
   },
   {
    "duration": 20,
    "start_time": "2022-05-11T21:58:44.021Z"
   },
   {
    "duration": 7,
    "start_time": "2022-05-11T21:59:00.303Z"
   },
   {
    "duration": 358,
    "start_time": "2022-05-11T21:59:01.052Z"
   },
   {
    "duration": 3077,
    "start_time": "2022-05-11T22:11:42.942Z"
   },
   {
    "duration": 2987,
    "start_time": "2022-05-11T22:12:18.338Z"
   },
   {
    "duration": 3030,
    "start_time": "2022-05-11T22:12:51.906Z"
   },
   {
    "duration": 3395,
    "start_time": "2022-05-11T22:15:17.186Z"
   },
   {
    "duration": 21,
    "start_time": "2022-05-11T22:15:24.606Z"
   },
   {
    "duration": 2829,
    "start_time": "2022-05-11T22:16:43.037Z"
   },
   {
    "duration": 3265,
    "start_time": "2022-05-11T22:17:02.093Z"
   },
   {
    "duration": 20,
    "start_time": "2022-05-11T22:17:12.407Z"
   },
   {
    "duration": 2931,
    "start_time": "2022-05-11T22:17:34.106Z"
   },
   {
    "duration": 9,
    "start_time": "2022-05-11T22:17:43.731Z"
   },
   {
    "duration": 10,
    "start_time": "2022-05-11T22:17:50.149Z"
   },
   {
    "duration": 2971,
    "start_time": "2022-05-11T22:17:58.021Z"
   },
   {
    "duration": 22,
    "start_time": "2022-05-11T22:21:40.047Z"
   },
   {
    "duration": 31,
    "start_time": "2022-05-11T22:21:55.487Z"
   },
   {
    "duration": 30,
    "start_time": "2022-05-11T22:22:04.885Z"
   },
   {
    "duration": 21,
    "start_time": "2022-05-11T22:22:12.536Z"
   },
   {
    "duration": 6,
    "start_time": "2022-05-11T22:22:46.459Z"
   },
   {
    "duration": 356,
    "start_time": "2022-05-11T22:22:47.087Z"
   },
   {
    "duration": 25,
    "start_time": "2022-05-11T22:23:08.081Z"
   },
   {
    "duration": 22,
    "start_time": "2022-05-11T22:23:20.344Z"
   },
   {
    "duration": 6,
    "start_time": "2022-05-11T22:23:37.858Z"
   },
   {
    "duration": 330,
    "start_time": "2022-05-11T22:24:49.376Z"
   },
   {
    "duration": 312,
    "start_time": "2022-05-11T22:25:47.307Z"
   },
   {
    "duration": 292,
    "start_time": "2022-05-11T22:25:53.638Z"
   },
   {
    "duration": 325,
    "start_time": "2022-05-11T22:26:02.626Z"
   },
   {
    "duration": 27,
    "start_time": "2022-05-11T22:34:01.941Z"
   },
   {
    "duration": 282,
    "start_time": "2022-05-11T22:34:08.564Z"
   },
   {
    "duration": 275,
    "start_time": "2022-05-11T22:34:17.464Z"
   },
   {
    "duration": 8,
    "start_time": "2022-05-11T22:34:34.445Z"
   },
   {
    "duration": 244,
    "start_time": "2022-05-11T22:34:56.476Z"
   },
   {
    "duration": 6,
    "start_time": "2022-05-11T22:35:12.033Z"
   },
   {
    "duration": 10,
    "start_time": "2022-05-11T22:35:54.908Z"
   },
   {
    "duration": 7,
    "start_time": "2022-05-11T22:35:58.643Z"
   },
   {
    "duration": 253,
    "start_time": "2022-05-11T22:35:59.008Z"
   },
   {
    "duration": 8,
    "start_time": "2022-05-11T22:35:59.778Z"
   },
   {
    "duration": 270,
    "start_time": "2022-05-11T22:36:04.870Z"
   },
   {
    "duration": 7,
    "start_time": "2022-05-11T22:36:16.438Z"
   },
   {
    "duration": 30,
    "start_time": "2022-05-11T22:36:42.767Z"
   },
   {
    "duration": 256,
    "start_time": "2022-05-11T22:36:45.210Z"
   },
   {
    "duration": 7,
    "start_time": "2022-05-11T22:36:45.938Z"
   },
   {
    "duration": 282,
    "start_time": "2022-05-11T22:36:47.134Z"
   },
   {
    "duration": 8,
    "start_time": "2022-05-11T22:37:00.324Z"
   },
   {
    "duration": 260,
    "start_time": "2022-05-11T22:37:00.722Z"
   },
   {
    "duration": 8,
    "start_time": "2022-05-11T22:37:02.227Z"
   },
   {
    "duration": 273,
    "start_time": "2022-05-11T22:37:04.534Z"
   },
   {
    "duration": 7,
    "start_time": "2022-05-11T22:37:06.057Z"
   },
   {
    "duration": 7,
    "start_time": "2022-05-11T22:37:14.588Z"
   },
   {
    "duration": 257,
    "start_time": "2022-05-11T22:37:16.007Z"
   },
   {
    "duration": 7,
    "start_time": "2022-05-11T22:37:16.855Z"
   },
   {
    "duration": 259,
    "start_time": "2022-05-11T22:37:19.306Z"
   },
   {
    "duration": 8,
    "start_time": "2022-05-11T22:37:20.080Z"
   },
   {
    "duration": 8,
    "start_time": "2022-05-11T22:38:07.839Z"
   },
   {
    "duration": 267,
    "start_time": "2022-05-11T22:38:13.943Z"
   },
   {
    "duration": 7,
    "start_time": "2022-05-11T22:38:27.145Z"
   },
   {
    "duration": 263,
    "start_time": "2022-05-11T22:38:41.650Z"
   },
   {
    "duration": 7,
    "start_time": "2022-05-11T22:38:52.755Z"
   },
   {
    "duration": 16,
    "start_time": "2022-05-11T22:39:34.741Z"
   },
   {
    "duration": 301,
    "start_time": "2022-05-11T22:39:36.720Z"
   },
   {
    "duration": 335,
    "start_time": "2022-05-11T22:39:37.535Z"
   },
   {
    "duration": 10,
    "start_time": "2022-05-11T22:46:40.778Z"
   },
   {
    "duration": 27,
    "start_time": "2022-05-11T22:46:55.377Z"
   },
   {
    "duration": 29,
    "start_time": "2022-05-11T22:47:33.579Z"
   },
   {
    "duration": 12,
    "start_time": "2022-05-11T22:47:37.263Z"
   },
   {
    "duration": 6,
    "start_time": "2022-05-11T22:49:04.961Z"
   },
   {
    "duration": 11,
    "start_time": "2022-05-11T22:49:12.453Z"
   },
   {
    "duration": 14,
    "start_time": "2022-05-11T22:49:31.312Z"
   },
   {
    "duration": 13,
    "start_time": "2022-05-11T22:49:36.803Z"
   },
   {
    "duration": 13,
    "start_time": "2022-05-11T22:50:26.111Z"
   },
   {
    "duration": 52,
    "start_time": "2022-05-12T08:11:32.041Z"
   },
   {
    "duration": 1309,
    "start_time": "2022-05-12T08:11:36.668Z"
   },
   {
    "duration": 49,
    "start_time": "2022-05-12T08:11:37.979Z"
   },
   {
    "duration": 16,
    "start_time": "2022-05-12T08:11:38.030Z"
   },
   {
    "duration": 15,
    "start_time": "2022-05-12T08:11:38.048Z"
   },
   {
    "duration": 24,
    "start_time": "2022-05-12T08:11:38.064Z"
   },
   {
    "duration": 6,
    "start_time": "2022-05-12T08:11:38.090Z"
   },
   {
    "duration": 29,
    "start_time": "2022-05-12T08:11:38.099Z"
   },
   {
    "duration": 6,
    "start_time": "2022-05-12T08:11:38.129Z"
   },
   {
    "duration": 11,
    "start_time": "2022-05-12T08:11:38.136Z"
   },
   {
    "duration": 8,
    "start_time": "2022-05-12T08:11:38.150Z"
   },
   {
    "duration": 29,
    "start_time": "2022-05-12T08:11:38.160Z"
   },
   {
    "duration": 26,
    "start_time": "2022-05-12T08:11:38.192Z"
   },
   {
    "duration": 5,
    "start_time": "2022-05-12T08:11:38.220Z"
   },
   {
    "duration": 11,
    "start_time": "2022-05-12T08:11:38.226Z"
   },
   {
    "duration": 14,
    "start_time": "2022-05-12T08:11:38.239Z"
   },
   {
    "duration": 43,
    "start_time": "2022-05-12T08:11:38.255Z"
   },
   {
    "duration": 14,
    "start_time": "2022-05-12T08:11:38.301Z"
   },
   {
    "duration": 104,
    "start_time": "2022-05-12T08:11:38.317Z"
   },
   {
    "duration": 5,
    "start_time": "2022-05-12T08:11:38.422Z"
   },
   {
    "duration": 17,
    "start_time": "2022-05-12T08:11:38.428Z"
   },
   {
    "duration": 7,
    "start_time": "2022-05-12T08:11:38.446Z"
   },
   {
    "duration": 9,
    "start_time": "2022-05-12T08:11:38.455Z"
   },
   {
    "duration": 15,
    "start_time": "2022-05-12T08:11:38.487Z"
   },
   {
    "duration": 21,
    "start_time": "2022-05-12T08:11:38.505Z"
   },
   {
    "duration": 222,
    "start_time": "2022-05-12T08:11:38.528Z"
   },
   {
    "duration": 7,
    "start_time": "2022-05-12T08:11:38.751Z"
   },
   {
    "duration": 18,
    "start_time": "2022-05-12T08:11:38.760Z"
   },
   {
    "duration": 25,
    "start_time": "2022-05-12T08:11:38.793Z"
   },
   {
    "duration": 268,
    "start_time": "2022-05-12T08:11:38.820Z"
   },
   {
    "duration": 28,
    "start_time": "2022-05-12T08:11:39.091Z"
   },
   {
    "duration": 331,
    "start_time": "2022-05-12T08:11:39.121Z"
   },
   {
    "duration": 15,
    "start_time": "2022-05-12T08:11:39.454Z"
   },
   {
    "duration": 22,
    "start_time": "2022-05-12T08:11:39.471Z"
   },
   {
    "duration": 301,
    "start_time": "2022-05-12T08:11:39.496Z"
   },
   {
    "duration": 18,
    "start_time": "2022-05-12T08:11:39.800Z"
   },
   {
    "duration": 4,
    "start_time": "2022-05-12T08:11:39.820Z"
   },
   {
    "duration": 233,
    "start_time": "2022-05-12T08:11:39.826Z"
   },
   {
    "duration": 205,
    "start_time": "2022-05-12T08:11:40.061Z"
   },
   {
    "duration": 34,
    "start_time": "2022-05-12T08:11:40.267Z"
   },
   {
    "duration": 168,
    "start_time": "2022-05-12T08:11:40.303Z"
   },
   {
    "duration": 6,
    "start_time": "2022-05-12T08:11:40.473Z"
   },
   {
    "duration": 263,
    "start_time": "2022-05-12T08:11:40.488Z"
   },
   {
    "duration": 5,
    "start_time": "2022-05-12T08:11:40.753Z"
   },
   {
    "duration": 7,
    "start_time": "2022-05-12T08:11:40.760Z"
   },
   {
    "duration": 177,
    "start_time": "2022-05-12T08:11:40.769Z"
   },
   {
    "duration": 7,
    "start_time": "2022-05-12T08:11:40.948Z"
   },
   {
    "duration": 173,
    "start_time": "2022-05-12T08:11:40.956Z"
   },
   {
    "duration": 5,
    "start_time": "2022-05-12T08:11:41.130Z"
   },
   {
    "duration": 9,
    "start_time": "2022-05-12T08:11:41.137Z"
   },
   {
    "duration": 167,
    "start_time": "2022-05-12T08:11:41.147Z"
   },
   {
    "duration": 6,
    "start_time": "2022-05-12T08:11:41.316Z"
   },
   {
    "duration": 160,
    "start_time": "2022-05-12T08:11:41.323Z"
   },
   {
    "duration": 6,
    "start_time": "2022-05-12T08:11:41.487Z"
   },
   {
    "duration": 8,
    "start_time": "2022-05-12T08:11:41.495Z"
   },
   {
    "duration": 178,
    "start_time": "2022-05-12T08:11:41.505Z"
   },
   {
    "duration": 7,
    "start_time": "2022-05-12T08:11:41.688Z"
   },
   {
    "duration": 170,
    "start_time": "2022-05-12T08:11:41.698Z"
   },
   {
    "duration": 5,
    "start_time": "2022-05-12T08:11:41.870Z"
   },
   {
    "duration": 19,
    "start_time": "2022-05-12T08:11:41.889Z"
   },
   {
    "duration": 216,
    "start_time": "2022-05-12T08:11:41.910Z"
   },
   {
    "duration": 221,
    "start_time": "2022-05-12T08:11:42.128Z"
   },
   {
    "duration": 11,
    "start_time": "2022-05-12T08:11:42.351Z"
   },
   {
    "duration": 210,
    "start_time": "2022-05-12T08:11:42.364Z"
   },
   {
    "duration": 27,
    "start_time": "2022-05-12T08:11:42.576Z"
   },
   {
    "duration": 19,
    "start_time": "2022-05-12T08:11:42.605Z"
   },
   {
    "duration": 28,
    "start_time": "2022-05-12T08:11:42.626Z"
   },
   {
    "duration": 173,
    "start_time": "2022-05-12T08:11:42.656Z"
   },
   {
    "duration": 268,
    "start_time": "2022-05-12T08:11:42.831Z"
   },
   {
    "duration": 164,
    "start_time": "2022-05-12T08:11:43.101Z"
   },
   {
    "duration": 14,
    "start_time": "2022-05-12T08:11:43.267Z"
   },
   {
    "duration": 19,
    "start_time": "2022-05-12T08:11:43.288Z"
   },
   {
    "duration": 17,
    "start_time": "2022-05-12T08:11:43.308Z"
   },
   {
    "duration": 197,
    "start_time": "2022-05-12T08:11:43.327Z"
   },
   {
    "duration": 196,
    "start_time": "2022-05-12T08:11:43.526Z"
   },
   {
    "duration": 169,
    "start_time": "2022-05-12T08:11:43.724Z"
   },
   {
    "duration": 20,
    "start_time": "2022-05-12T08:11:43.896Z"
   },
   {
    "duration": 19,
    "start_time": "2022-05-12T08:11:43.917Z"
   },
   {
    "duration": 21,
    "start_time": "2022-05-12T08:11:43.937Z"
   },
   {
    "duration": 151,
    "start_time": "2022-05-12T08:11:43.959Z"
   },
   {
    "duration": 141,
    "start_time": "2022-05-12T08:11:44.112Z"
   },
   {
    "duration": 156,
    "start_time": "2022-05-12T08:11:44.255Z"
   },
   {
    "duration": 21,
    "start_time": "2022-05-12T08:11:44.417Z"
   },
   {
    "duration": 22,
    "start_time": "2022-05-12T08:11:44.440Z"
   },
   {
    "duration": 7,
    "start_time": "2022-05-12T08:11:44.489Z"
   },
   {
    "duration": 34,
    "start_time": "2022-05-12T08:11:44.498Z"
   },
   {
    "duration": 20,
    "start_time": "2022-05-12T08:11:44.534Z"
   },
   {
    "duration": 7,
    "start_time": "2022-05-12T08:11:44.556Z"
   },
   {
    "duration": 10,
    "start_time": "2022-05-12T08:17:22.470Z"
   },
   {
    "duration": 183,
    "start_time": "2022-05-12T08:17:30.649Z"
   },
   {
    "duration": 124,
    "start_time": "2022-05-12T08:19:04.756Z"
   },
   {
    "duration": 27,
    "start_time": "2022-05-12T08:19:12.912Z"
   },
   {
    "duration": 28,
    "start_time": "2022-05-12T08:19:40.415Z"
   },
   {
    "duration": 9,
    "start_time": "2022-05-12T08:21:25.342Z"
   },
   {
    "duration": 20,
    "start_time": "2022-05-12T08:21:29.474Z"
   },
   {
    "duration": 8,
    "start_time": "2022-05-12T08:22:35.418Z"
   },
   {
    "duration": 12,
    "start_time": "2022-05-12T08:22:40.167Z"
   },
   {
    "duration": 13,
    "start_time": "2022-05-12T08:24:23.850Z"
   },
   {
    "duration": 12,
    "start_time": "2022-05-12T08:24:24.264Z"
   },
   {
    "duration": 13,
    "start_time": "2022-05-12T08:24:24.660Z"
   },
   {
    "duration": 12,
    "start_time": "2022-05-12T08:24:25.887Z"
   },
   {
    "duration": 8,
    "start_time": "2022-05-12T08:24:26.288Z"
   },
   {
    "duration": 9,
    "start_time": "2022-05-12T08:24:29.829Z"
   },
   {
    "duration": 7,
    "start_time": "2022-05-12T08:24:39.350Z"
   },
   {
    "duration": 9,
    "start_time": "2022-05-12T08:24:42.119Z"
   },
   {
    "duration": 10,
    "start_time": "2022-05-12T08:42:51.208Z"
   },
   {
    "duration": 24,
    "start_time": "2022-05-12T08:42:56.280Z"
   },
   {
    "duration": 25,
    "start_time": "2022-05-12T08:43:15.682Z"
   },
   {
    "duration": 23,
    "start_time": "2022-05-12T08:43:33.400Z"
   },
   {
    "duration": 139,
    "start_time": "2022-05-12T08:43:36.465Z"
   },
   {
    "duration": 145,
    "start_time": "2022-05-12T08:43:37.609Z"
   },
   {
    "duration": 209,
    "start_time": "2022-05-12T08:43:38.438Z"
   },
   {
    "duration": 1101,
    "start_time": "2022-05-12T08:52:51.941Z"
   },
   {
    "duration": 36,
    "start_time": "2022-05-12T08:52:53.044Z"
   },
   {
    "duration": 17,
    "start_time": "2022-05-12T08:52:53.082Z"
   },
   {
    "duration": 15,
    "start_time": "2022-05-12T08:52:53.101Z"
   },
   {
    "duration": 5,
    "start_time": "2022-05-12T08:52:53.117Z"
   },
   {
    "duration": 6,
    "start_time": "2022-05-12T08:52:53.123Z"
   },
   {
    "duration": 19,
    "start_time": "2022-05-12T08:52:53.131Z"
   },
   {
    "duration": 37,
    "start_time": "2022-05-12T08:52:53.151Z"
   },
   {
    "duration": 4,
    "start_time": "2022-05-12T08:52:53.190Z"
   },
   {
    "duration": 9,
    "start_time": "2022-05-12T08:52:53.197Z"
   },
   {
    "duration": 8,
    "start_time": "2022-05-12T08:52:53.208Z"
   },
   {
    "duration": 19,
    "start_time": "2022-05-12T08:52:53.217Z"
   },
   {
    "duration": 4,
    "start_time": "2022-05-12T08:52:53.238Z"
   },
   {
    "duration": 18,
    "start_time": "2022-05-12T08:52:53.243Z"
   },
   {
    "duration": 33,
    "start_time": "2022-05-12T08:52:53.263Z"
   },
   {
    "duration": 13,
    "start_time": "2022-05-12T08:52:53.297Z"
   },
   {
    "duration": 3,
    "start_time": "2022-05-12T08:52:53.312Z"
   },
   {
    "duration": 106,
    "start_time": "2022-05-12T08:52:53.317Z"
   },
   {
    "duration": 4,
    "start_time": "2022-05-12T08:52:53.424Z"
   },
   {
    "duration": 15,
    "start_time": "2022-05-12T08:52:53.429Z"
   },
   {
    "duration": 5,
    "start_time": "2022-05-12T08:52:53.446Z"
   },
   {
    "duration": 12,
    "start_time": "2022-05-12T08:52:53.452Z"
   },
   {
    "duration": 26,
    "start_time": "2022-05-12T08:52:53.466Z"
   },
   {
    "duration": 19,
    "start_time": "2022-05-12T08:52:53.493Z"
   },
   {
    "duration": 186,
    "start_time": "2022-05-12T08:52:53.514Z"
   },
   {
    "duration": 6,
    "start_time": "2022-05-12T08:52:53.702Z"
   },
   {
    "duration": 16,
    "start_time": "2022-05-12T08:52:53.710Z"
   },
   {
    "duration": 17,
    "start_time": "2022-05-12T08:52:53.730Z"
   },
   {
    "duration": 247,
    "start_time": "2022-05-12T08:52:53.748Z"
   },
   {
    "duration": 24,
    "start_time": "2022-05-12T08:52:53.997Z"
   },
   {
    "duration": 298,
    "start_time": "2022-05-12T08:52:54.022Z"
   },
   {
    "duration": 15,
    "start_time": "2022-05-12T08:52:54.322Z"
   },
   {
    "duration": 16,
    "start_time": "2022-05-12T08:52:54.338Z"
   },
   {
    "duration": 271,
    "start_time": "2022-05-12T08:52:54.356Z"
   },
   {
    "duration": 16,
    "start_time": "2022-05-12T08:52:54.629Z"
   },
   {
    "duration": 6,
    "start_time": "2022-05-12T08:52:54.647Z"
   },
   {
    "duration": 211,
    "start_time": "2022-05-12T08:52:54.655Z"
   },
   {
    "duration": 206,
    "start_time": "2022-05-12T08:52:54.868Z"
   },
   {
    "duration": 28,
    "start_time": "2022-05-12T08:52:55.075Z"
   },
   {
    "duration": 163,
    "start_time": "2022-05-12T08:52:55.105Z"
   },
   {
    "duration": 5,
    "start_time": "2022-05-12T08:52:55.270Z"
   },
   {
    "duration": 247,
    "start_time": "2022-05-12T08:52:55.289Z"
   },
   {
    "duration": 6,
    "start_time": "2022-05-12T08:52:55.539Z"
   },
   {
    "duration": 11,
    "start_time": "2022-05-12T08:52:55.546Z"
   },
   {
    "duration": 168,
    "start_time": "2022-05-12T08:52:55.559Z"
   },
   {
    "duration": 5,
    "start_time": "2022-05-12T08:52:55.728Z"
   },
   {
    "duration": 161,
    "start_time": "2022-05-12T08:52:55.735Z"
   },
   {
    "duration": 6,
    "start_time": "2022-05-12T08:52:55.899Z"
   },
   {
    "duration": 8,
    "start_time": "2022-05-12T08:52:55.906Z"
   },
   {
    "duration": 156,
    "start_time": "2022-05-12T08:52:55.915Z"
   },
   {
    "duration": 6,
    "start_time": "2022-05-12T08:52:56.072Z"
   },
   {
    "duration": 151,
    "start_time": "2022-05-12T08:52:56.089Z"
   },
   {
    "duration": 6,
    "start_time": "2022-05-12T08:52:56.242Z"
   },
   {
    "duration": 8,
    "start_time": "2022-05-12T08:52:56.249Z"
   },
   {
    "duration": 180,
    "start_time": "2022-05-12T08:52:56.258Z"
   },
   {
    "duration": 11,
    "start_time": "2022-05-12T08:52:56.440Z"
   },
   {
    "duration": 172,
    "start_time": "2022-05-12T08:52:56.452Z"
   },
   {
    "duration": 5,
    "start_time": "2022-05-12T08:52:56.625Z"
   },
   {
    "duration": 17,
    "start_time": "2022-05-12T08:52:56.632Z"
   },
   {
    "duration": 180,
    "start_time": "2022-05-12T08:52:56.651Z"
   },
   {
    "duration": 196,
    "start_time": "2022-05-12T08:52:56.832Z"
   },
   {
    "duration": 10,
    "start_time": "2022-05-12T08:52:57.030Z"
   },
   {
    "duration": 189,
    "start_time": "2022-05-12T08:52:57.042Z"
   },
   {
    "duration": 8,
    "start_time": "2022-05-12T08:52:57.233Z"
   },
   {
    "duration": 11,
    "start_time": "2022-05-12T08:52:57.243Z"
   },
   {
    "duration": 10,
    "start_time": "2022-05-12T08:52:57.255Z"
   },
   {
    "duration": 24,
    "start_time": "2022-05-12T08:52:57.266Z"
   },
   {
    "duration": 13,
    "start_time": "2022-05-12T08:52:57.291Z"
   },
   {
    "duration": 17,
    "start_time": "2022-05-12T08:52:57.306Z"
   },
   {
    "duration": 15,
    "start_time": "2022-05-12T08:52:57.325Z"
   },
   {
    "duration": 14,
    "start_time": "2022-05-12T08:52:57.342Z"
   },
   {
    "duration": 191,
    "start_time": "2022-05-12T08:52:57.358Z"
   },
   {
    "duration": 249,
    "start_time": "2022-05-12T08:52:57.551Z"
   },
   {
    "duration": 150,
    "start_time": "2022-05-12T08:52:57.802Z"
   },
   {
    "duration": 15,
    "start_time": "2022-05-12T08:52:57.954Z"
   },
   {
    "duration": 14,
    "start_time": "2022-05-12T08:52:57.988Z"
   },
   {
    "duration": 13,
    "start_time": "2022-05-12T08:52:58.004Z"
   },
   {
    "duration": 186,
    "start_time": "2022-05-12T08:52:58.019Z"
   },
   {
    "duration": 171,
    "start_time": "2022-05-12T08:52:58.207Z"
   },
   {
    "duration": 161,
    "start_time": "2022-05-12T08:52:58.380Z"
   },
   {
    "duration": 24,
    "start_time": "2022-05-12T08:52:58.542Z"
   },
   {
    "duration": 34,
    "start_time": "2022-05-12T08:52:58.571Z"
   },
   {
    "duration": 24,
    "start_time": "2022-05-12T08:52:58.606Z"
   },
   {
    "duration": 260,
    "start_time": "2022-05-12T08:52:58.631Z"
   },
   {
    "duration": 223,
    "start_time": "2022-05-12T08:52:58.892Z"
   },
   {
    "duration": 157,
    "start_time": "2022-05-12T08:52:59.116Z"
   },
   {
    "duration": 28,
    "start_time": "2022-05-12T08:52:59.275Z"
   },
   {
    "duration": 25,
    "start_time": "2022-05-12T08:52:59.304Z"
   },
   {
    "duration": 7,
    "start_time": "2022-05-12T08:52:59.331Z"
   },
   {
    "duration": 22,
    "start_time": "2022-05-12T08:52:59.340Z"
   },
   {
    "duration": 42,
    "start_time": "2022-05-12T08:52:59.363Z"
   },
   {
    "duration": 5,
    "start_time": "2022-05-12T08:52:59.406Z"
   },
   {
    "duration": 1184,
    "start_time": "2022-05-12T08:54:03.748Z"
   },
   {
    "duration": 41,
    "start_time": "2022-05-12T08:54:04.934Z"
   },
   {
    "duration": 16,
    "start_time": "2022-05-12T08:54:04.977Z"
   },
   {
    "duration": 17,
    "start_time": "2022-05-12T08:54:04.995Z"
   },
   {
    "duration": 6,
    "start_time": "2022-05-12T08:54:05.014Z"
   },
   {
    "duration": 19,
    "start_time": "2022-05-12T08:54:05.022Z"
   },
   {
    "duration": 38,
    "start_time": "2022-05-12T08:54:05.042Z"
   },
   {
    "duration": 9,
    "start_time": "2022-05-12T08:54:05.082Z"
   },
   {
    "duration": 17,
    "start_time": "2022-05-12T08:54:05.092Z"
   },
   {
    "duration": 9,
    "start_time": "2022-05-12T08:54:05.112Z"
   },
   {
    "duration": 9,
    "start_time": "2022-05-12T08:54:05.123Z"
   },
   {
    "duration": 29,
    "start_time": "2022-05-12T08:54:05.133Z"
   },
   {
    "duration": 5,
    "start_time": "2022-05-12T08:54:05.164Z"
   },
   {
    "duration": 21,
    "start_time": "2022-05-12T08:54:05.171Z"
   },
   {
    "duration": 14,
    "start_time": "2022-05-12T08:54:05.194Z"
   },
   {
    "duration": 14,
    "start_time": "2022-05-12T08:54:05.210Z"
   },
   {
    "duration": 4,
    "start_time": "2022-05-12T08:54:05.226Z"
   },
   {
    "duration": 111,
    "start_time": "2022-05-12T08:54:05.231Z"
   },
   {
    "duration": 4,
    "start_time": "2022-05-12T08:54:05.344Z"
   },
   {
    "duration": 21,
    "start_time": "2022-05-12T08:54:05.349Z"
   },
   {
    "duration": 16,
    "start_time": "2022-05-12T08:54:05.372Z"
   },
   {
    "duration": 5,
    "start_time": "2022-05-12T08:54:05.389Z"
   },
   {
    "duration": 14,
    "start_time": "2022-05-12T08:54:05.396Z"
   },
   {
    "duration": 22,
    "start_time": "2022-05-12T08:54:05.412Z"
   },
   {
    "duration": 221,
    "start_time": "2022-05-12T08:54:05.436Z"
   },
   {
    "duration": 8,
    "start_time": "2022-05-12T08:54:05.659Z"
   },
   {
    "duration": 27,
    "start_time": "2022-05-12T08:54:05.669Z"
   },
   {
    "duration": 18,
    "start_time": "2022-05-12T08:54:05.701Z"
   },
   {
    "duration": 253,
    "start_time": "2022-05-12T08:54:05.721Z"
   },
   {
    "duration": 29,
    "start_time": "2022-05-12T08:54:05.975Z"
   },
   {
    "duration": 318,
    "start_time": "2022-05-12T08:54:06.006Z"
   },
   {
    "duration": 15,
    "start_time": "2022-05-12T08:54:06.326Z"
   },
   {
    "duration": 27,
    "start_time": "2022-05-12T08:54:06.343Z"
   },
   {
    "duration": 305,
    "start_time": "2022-05-12T08:54:06.372Z"
   },
   {
    "duration": 22,
    "start_time": "2022-05-12T08:54:06.679Z"
   },
   {
    "duration": 21,
    "start_time": "2022-05-12T08:54:06.703Z"
   },
   {
    "duration": 203,
    "start_time": "2022-05-12T08:54:06.726Z"
   },
   {
    "duration": 217,
    "start_time": "2022-05-12T08:54:06.931Z"
   },
   {
    "duration": 20,
    "start_time": "2022-05-12T08:54:07.150Z"
   },
   {
    "duration": 193,
    "start_time": "2022-05-12T08:54:07.172Z"
   },
   {
    "duration": 5,
    "start_time": "2022-05-12T08:54:07.367Z"
   },
   {
    "duration": 250,
    "start_time": "2022-05-12T08:54:07.388Z"
   },
   {
    "duration": 6,
    "start_time": "2022-05-12T08:54:07.640Z"
   },
   {
    "duration": 31,
    "start_time": "2022-05-12T08:54:07.648Z"
   },
   {
    "duration": 181,
    "start_time": "2022-05-12T08:54:07.681Z"
   },
   {
    "duration": 6,
    "start_time": "2022-05-12T08:54:07.864Z"
   },
   {
    "duration": 188,
    "start_time": "2022-05-12T08:54:07.872Z"
   },
   {
    "duration": 5,
    "start_time": "2022-05-12T08:54:08.062Z"
   },
   {
    "duration": 36,
    "start_time": "2022-05-12T08:54:08.069Z"
   },
   {
    "duration": 153,
    "start_time": "2022-05-12T08:54:08.107Z"
   },
   {
    "duration": 6,
    "start_time": "2022-05-12T08:54:08.262Z"
   },
   {
    "duration": 151,
    "start_time": "2022-05-12T08:54:08.270Z"
   },
   {
    "duration": 5,
    "start_time": "2022-05-12T08:54:08.423Z"
   },
   {
    "duration": 8,
    "start_time": "2022-05-12T08:54:08.430Z"
   },
   {
    "duration": 154,
    "start_time": "2022-05-12T08:54:08.440Z"
   },
   {
    "duration": 6,
    "start_time": "2022-05-12T08:54:08.596Z"
   },
   {
    "duration": 161,
    "start_time": "2022-05-12T08:54:08.604Z"
   },
   {
    "duration": 6,
    "start_time": "2022-05-12T08:54:08.766Z"
   },
   {
    "duration": 24,
    "start_time": "2022-05-12T08:54:08.773Z"
   },
   {
    "duration": 181,
    "start_time": "2022-05-12T08:54:08.800Z"
   },
   {
    "duration": 199,
    "start_time": "2022-05-12T08:54:08.983Z"
   },
   {
    "duration": 10,
    "start_time": "2022-05-12T08:54:09.184Z"
   },
   {
    "duration": 192,
    "start_time": "2022-05-12T08:54:09.196Z"
   },
   {
    "duration": 9,
    "start_time": "2022-05-12T08:54:09.389Z"
   },
   {
    "duration": 8,
    "start_time": "2022-05-12T08:54:09.399Z"
   },
   {
    "duration": 9,
    "start_time": "2022-05-12T08:54:09.409Z"
   },
   {
    "duration": 10,
    "start_time": "2022-05-12T08:54:09.420Z"
   },
   {
    "duration": 10,
    "start_time": "2022-05-12T08:54:09.432Z"
   },
   {
    "duration": 45,
    "start_time": "2022-05-12T08:54:09.444Z"
   },
   {
    "duration": 14,
    "start_time": "2022-05-12T08:54:09.491Z"
   },
   {
    "duration": 23,
    "start_time": "2022-05-12T08:54:09.506Z"
   },
   {
    "duration": 169,
    "start_time": "2022-05-12T08:54:09.531Z"
   },
   {
    "duration": 255,
    "start_time": "2022-05-12T08:54:09.701Z"
   },
   {
    "duration": 160,
    "start_time": "2022-05-12T08:54:09.958Z"
   },
   {
    "duration": 15,
    "start_time": "2022-05-12T08:54:10.120Z"
   },
   {
    "duration": 20,
    "start_time": "2022-05-12T08:54:10.137Z"
   },
   {
    "duration": 43,
    "start_time": "2022-05-12T08:54:10.159Z"
   },
   {
    "duration": 164,
    "start_time": "2022-05-12T08:54:10.205Z"
   },
   {
    "duration": 168,
    "start_time": "2022-05-12T08:54:10.371Z"
   },
   {
    "duration": 167,
    "start_time": "2022-05-12T08:54:10.541Z"
   },
   {
    "duration": 32,
    "start_time": "2022-05-12T08:54:10.710Z"
   },
   {
    "duration": 24,
    "start_time": "2022-05-12T08:54:10.747Z"
   },
   {
    "duration": 27,
    "start_time": "2022-05-12T08:54:10.789Z"
   },
   {
    "duration": 163,
    "start_time": "2022-05-12T08:54:10.817Z"
   },
   {
    "duration": 157,
    "start_time": "2022-05-12T08:54:10.988Z"
   },
   {
    "duration": 147,
    "start_time": "2022-05-12T08:54:11.147Z"
   },
   {
    "duration": 22,
    "start_time": "2022-05-12T08:54:11.296Z"
   },
   {
    "duration": 31,
    "start_time": "2022-05-12T08:54:11.319Z"
   },
   {
    "duration": 9,
    "start_time": "2022-05-12T08:54:11.352Z"
   },
   {
    "duration": 45,
    "start_time": "2022-05-12T08:54:11.362Z"
   },
   {
    "duration": 19,
    "start_time": "2022-05-12T08:54:11.408Z"
   },
   {
    "duration": 6,
    "start_time": "2022-05-12T08:54:11.428Z"
   }
  ],
  "kernelspec": {
   "display_name": "Python 3 (ipykernel)",
   "language": "python",
   "name": "python3"
  },
  "language_info": {
   "codemirror_mode": {
    "name": "ipython",
    "version": 3
   },
   "file_extension": ".py",
   "mimetype": "text/x-python",
   "name": "python",
   "nbconvert_exporter": "python",
   "pygments_lexer": "ipython3",
   "version": "3.9.13"
  },
  "toc": {
   "base_numbering": 1,
   "nav_menu": {},
   "number_sections": true,
   "sideBar": true,
   "skip_h1_title": true,
   "title_cell": "Table of Contents",
   "title_sidebar": "Contents",
   "toc_cell": false,
   "toc_position": {
    "height": "calc(100% - 180px)",
    "left": "10px",
    "top": "150px",
    "width": "336.372px"
   },
   "toc_section_display": true,
   "toc_window_display": true
  }
 },
 "nbformat": 4,
 "nbformat_minor": 2
}
